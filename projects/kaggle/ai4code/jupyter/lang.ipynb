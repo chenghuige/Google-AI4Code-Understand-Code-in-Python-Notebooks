{
 "cells": [
  {
   "cell_type": "code",
   "execution_count": 1,
   "metadata": {},
   "outputs": [],
   "source": [
    "# Spacy Language Detector\n",
    "import spacy\n",
    "from spacy.language import Language\n",
    "from spacy_language_detection import LanguageDetector"
   ]
  },
  {
   "cell_type": "code",
   "execution_count": 2,
   "metadata": {},
   "outputs": [],
   "source": [
    "# python3 -m spacy download en_core_web_sm\n",
    "import en_core_web_sm\n",
    "nlp = en_core_web_sm.load()"
   ]
  },
  {
   "cell_type": "code",
   "execution_count": 3,
   "metadata": {},
   "outputs": [
    {
     "data": {
      "text/plain": [
       "<spacy_language_detection.spacy_language_detector.LanguageDetector at 0x7f7345970d10>"
      ]
     },
     "execution_count": 3,
     "metadata": {},
     "output_type": "execute_result"
    }
   ],
   "source": [
    "# Language Detector Function\n",
    "def get_lang_detector(nlp, name):\n",
    "    return LanguageDetector(seed=42)\n",
    "\n",
    "# Load spacy model\n",
    "nlp_model = spacy.load(\"en_core_web_sm\")\n",
    "\n",
    "# Create instance for language detection\n",
    "Language.factory(\"language_detector\", func=get_lang_detector)\n",
    "nlp_model.add_pipe('language_detector', last=True)"
   ]
  },
  {
   "cell_type": "code",
   "execution_count": 4,
   "metadata": {},
   "outputs": [],
   "source": [
    "from gezi.common import *\n",
    "gezi.set_pd_widder()\n",
    "sys.path.append('..')\n",
    "from src.preprocess import *\n",
    "gezi.init_flags()"
   ]
  },
  {
   "cell_type": "code",
   "execution_count": 5,
   "metadata": {},
   "outputs": [],
   "source": [
    "df = pd.read_feather('../working/train.fea')"
   ]
  },
  {
   "cell_type": "code",
   "execution_count": 7,
   "metadata": {},
   "outputs": [],
   "source": [
    "df_markdown = df[df.cell_type=='markdown']"
   ]
  },
  {
   "cell_type": "code",
   "execution_count": 14,
   "metadata": {},
   "outputs": [],
   "source": [
    "def get_language(source):\n",
    "  # Get document language\n",
    "  source = source[:1000]\n",
    "  doc = nlp_model(source)\n",
    "  language = doc._.language\n",
    "  return language"
   ]
  },
  {
   "cell_type": "code",
   "execution_count": 10,
   "metadata": {},
   "outputs": [],
   "source": [
    "d = df_markdown.sample(frac=0.01)"
   ]
  },
  {
   "cell_type": "code",
   "execution_count": 11,
   "metadata": {},
   "outputs": [
    {
     "data": {
      "application/vnd.jupyter.widget-view+json": {
       "model_id": "8e4403e7fad24c0aa8d171d263e6e621",
       "version_major": 2,
       "version_minor": 0
      },
      "text/plain": [
       "  0%|          | 0/21661 [00:00<?, ?it/s]"
      ]
     },
     "metadata": {},
     "output_type": "display_data"
    }
   ],
   "source": [
    "d['lang'] = d['source'].progress_apply(get_language)"
   ]
  },
  {
   "cell_type": "code",
   "execution_count": 12,
   "metadata": {},
   "outputs": [
    {
     "data": {
      "text/html": [
       "<div>\n",
       "<style scoped>\n",
       "    .dataframe tbody tr th:only-of-type {\n",
       "        vertical-align: middle;\n",
       "    }\n",
       "\n",
       "    .dataframe tbody tr th {\n",
       "        vertical-align: top;\n",
       "    }\n",
       "\n",
       "    .dataframe thead th {\n",
       "        text-align: right;\n",
       "    }\n",
       "</style>\n",
       "<table border=\"1\" class=\"dataframe\">\n",
       "  <thead>\n",
       "    <tr style=\"text-align: right;\">\n",
       "      <th></th>\n",
       "      <th>cell_id</th>\n",
       "      <th>cell_type</th>\n",
       "      <th>source</th>\n",
       "      <th>id</th>\n",
       "      <th>n_words</th>\n",
       "      <th>ancestor_id</th>\n",
       "      <th>parent_id</th>\n",
       "      <th>n_cell</th>\n",
       "      <th>n_code_cell</th>\n",
       "      <th>n_markdown_cell</th>\n",
       "      <th>markdown_frac</th>\n",
       "      <th>rank</th>\n",
       "      <th>code_rank</th>\n",
       "      <th>markdown_rank</th>\n",
       "      <th>rel_rank</th>\n",
       "      <th>pct_rank</th>\n",
       "      <th>fold</th>\n",
       "      <th>worker</th>\n",
       "      <th>lang</th>\n",
       "    </tr>\n",
       "  </thead>\n",
       "  <tbody>\n",
       "    <tr>\n",
       "      <th>1915482</th>\n",
       "      <td>e0425fad</td>\n",
       "      <td>markdown</td>\n",
       "      <td>4) During the Model Building phase:</td>\n",
       "      <td>4d293a1187de69</td>\n",
       "      <td>6</td>\n",
       "      <td>e8e7f500</td>\n",
       "      <td>None</td>\n",
       "      <td>147</td>\n",
       "      <td>100</td>\n",
       "      <td>47</td>\n",
       "      <td>0.319728</td>\n",
       "      <td>134</td>\n",
       "      <td>-1</td>\n",
       "      <td>34</td>\n",
       "      <td>0.996100</td>\n",
       "      <td>0.917808</td>\n",
       "      <td>4</td>\n",
       "      <td>79</td>\n",
       "      <td>{'language': 'en', 'score': 0.9999980998469051}</td>\n",
       "    </tr>\n",
       "    <tr>\n",
       "      <th>1558380</th>\n",
       "      <td>0bcf66c1</td>\n",
       "      <td>markdown</td>\n",
       "      <td>**ACTIONABLE INSIGHT BASED ON LOGISTIC REGRESSION MODEL**\\n\\n1)The bank,instead of cold-calling everyone,should target people having a certificate of deposit account or mortgage or both as their odds of going for a personal loan are very high.\\n\\n</td>\n",
       "      <td>3ed1eea518ba63</td>\n",
       "      <td>36</td>\n",
       "      <td>2005934b</td>\n",
       "      <td>None</td>\n",
       "      <td>73</td>\n",
       "      <td>50</td>\n",
       "      <td>23</td>\n",
       "      <td>0.315068</td>\n",
       "      <td>71</td>\n",
       "      <td>-1</td>\n",
       "      <td>21</td>\n",
       "      <td>0.992157</td>\n",
       "      <td>0.986111</td>\n",
       "      <td>2</td>\n",
       "      <td>32</td>\n",
       "      <td>{'language': 'en', 'score': 0.9999985642050715}</td>\n",
       "    </tr>\n",
       "    <tr>\n",
       "      <th>2500552</th>\n",
       "      <td>ffb8ab5b</td>\n",
       "      <td>markdown</td>\n",
       "      <td>### Creating the dataframe</td>\n",
       "      <td>649a4764f45d4d</td>\n",
       "      <td>4</td>\n",
       "      <td>dd052e8c</td>\n",
       "      <td>None</td>\n",
       "      <td>30</td>\n",
       "      <td>15</td>\n",
       "      <td>15</td>\n",
       "      <td>0.500000</td>\n",
       "      <td>3</td>\n",
       "      <td>-1</td>\n",
       "      <td>2</td>\n",
       "      <td>0.093750</td>\n",
       "      <td>0.103448</td>\n",
       "      <td>0</td>\n",
       "      <td>20</td>\n",
       "      <td>{'language': 'en', 'score': 0.9999971544233925}</td>\n",
       "    </tr>\n",
       "    <tr>\n",
       "      <th>1435557</th>\n",
       "      <td>253b16b2</td>\n",
       "      <td>markdown</td>\n",
       "      <td>The data were obtained in a survey of students math and portuguese language courses in secondary school. It contains a lot of interesting social, gender and study information about students. We will use it to do some exploratory data analysis (EDA) to predict students final grade. \\n\\nWhat we want to know:\\n- Correlation between features\\n- Weekly consumption of alcohol by the students\\n- Final exam scores based on student's alcohol consumption\\n\\n</td>\n",
       "      <td>39c3514aac133c</td>\n",
       "      <td>72</td>\n",
       "      <td>306d6db0</td>\n",
       "      <td>None</td>\n",
       "      <td>17</td>\n",
       "      <td>11</td>\n",
       "      <td>6</td>\n",
       "      <td>0.352941</td>\n",
       "      <td>0</td>\n",
       "      <td>-1</td>\n",
       "      <td>0</td>\n",
       "      <td>0.041667</td>\n",
       "      <td>0.000000</td>\n",
       "      <td>1</td>\n",
       "      <td>51</td>\n",
       "      <td>{'language': 'en', 'score': 0.9999961436620822}</td>\n",
       "    </tr>\n",
       "    <tr>\n",
       "      <th>4437232</th>\n",
       "      <td>c5740542</td>\n",
       "      <td>markdown</td>\n",
       "      <td>#### Again, a one percent increase in the f1-score from last algorithm.</td>\n",
       "      <td>b23574f56edef1</td>\n",
       "      <td>12</td>\n",
       "      <td>36d9b32b</td>\n",
       "      <td>10b3ce4a1d76bd</td>\n",
       "      <td>475</td>\n",
       "      <td>310</td>\n",
       "      <td>165</td>\n",
       "      <td>0.347368</td>\n",
       "      <td>403</td>\n",
       "      <td>-1</td>\n",
       "      <td>149</td>\n",
       "      <td>0.817792</td>\n",
       "      <td>0.850211</td>\n",
       "      <td>2</td>\n",
       "      <td>17</td>\n",
       "      <td>{'language': 'en', 'score': 0.9999966778121965}</td>\n",
       "    </tr>\n",
       "    <tr>\n",
       "      <th>...</th>\n",
       "      <td>...</td>\n",
       "      <td>...</td>\n",
       "      <td>...</td>\n",
       "      <td>...</td>\n",
       "      <td>...</td>\n",
       "      <td>...</td>\n",
       "      <td>...</td>\n",
       "      <td>...</td>\n",
       "      <td>...</td>\n",
       "      <td>...</td>\n",
       "      <td>...</td>\n",
       "      <td>...</td>\n",
       "      <td>...</td>\n",
       "      <td>...</td>\n",
       "      <td>...</td>\n",
       "      <td>...</td>\n",
       "      <td>...</td>\n",
       "      <td>...</td>\n",
       "      <td>...</td>\n",
       "    </tr>\n",
       "    <tr>\n",
       "      <th>5013643</th>\n",
       "      <td>931bee29</td>\n",
       "      <td>markdown</td>\n",
       "      <td>**Question eighteen (\"Q18\")** about computer vision methods used by participant. Image classification are computer vision methods that most used. Image classification is a process that classifies object(s), pattern(s), or concept(s) in an image (https://developers.google.com/machine-learning/glossary#image-recognition).</td>\n",
       "      <td>c9406a40b87051</td>\n",
       "      <td>34</td>\n",
       "      <td>14a4ddb9</td>\n",
       "      <td>None</td>\n",
       "      <td>39</td>\n",
       "      <td>20</td>\n",
       "      <td>19</td>\n",
       "      <td>0.487179</td>\n",
       "      <td>24</td>\n",
       "      <td>-1</td>\n",
       "      <td>11</td>\n",
       "      <td>0.642857</td>\n",
       "      <td>0.631579</td>\n",
       "      <td>1</td>\n",
       "      <td>21</td>\n",
       "      <td>{'language': 'en', 'score': 0.9999951907045369}</td>\n",
       "    </tr>\n",
       "    <tr>\n",
       "      <th>2402833</th>\n",
       "      <td>8eca73f9</td>\n",
       "      <td>markdown</td>\n",
       "      <td>## specify test functions</td>\n",
       "      <td>60955453fb3a6c</td>\n",
       "      <td>4</td>\n",
       "      <td>8897ad70</td>\n",
       "      <td>None</td>\n",
       "      <td>27</td>\n",
       "      <td>22</td>\n",
       "      <td>5</td>\n",
       "      <td>0.185185</td>\n",
       "      <td>15</td>\n",
       "      <td>-1</td>\n",
       "      <td>3</td>\n",
       "      <td>0.543478</td>\n",
       "      <td>0.576923</td>\n",
       "      <td>0</td>\n",
       "      <td>55</td>\n",
       "      <td>{'language': 'en', 'score': 0.9999966968604639}</td>\n",
       "    </tr>\n",
       "    <tr>\n",
       "      <th>3860206</th>\n",
       "      <td>bb4cac73</td>\n",
       "      <td>markdown</td>\n",
       "      <td>### Predict with test.csv</td>\n",
       "      <td>9a9b8726f11df3</td>\n",
       "      <td>4</td>\n",
       "      <td>e8661b28</td>\n",
       "      <td>None</td>\n",
       "      <td>55</td>\n",
       "      <td>40</td>\n",
       "      <td>15</td>\n",
       "      <td>0.272727</td>\n",
       "      <td>50</td>\n",
       "      <td>-1</td>\n",
       "      <td>14</td>\n",
       "      <td>0.890244</td>\n",
       "      <td>0.925926</td>\n",
       "      <td>2</td>\n",
       "      <td>22</td>\n",
       "      <td>{'language': 'en', 'score': 0.9999967650612596}</td>\n",
       "    </tr>\n",
       "    <tr>\n",
       "      <th>2904193</th>\n",
       "      <td>7d3d4d6c</td>\n",
       "      <td>markdown</td>\n",
       "      <td>### most_recent_sales_range</td>\n",
       "      <td>74a8efbb0aee7f</td>\n",
       "      <td>2</td>\n",
       "      <td>593fd7af</td>\n",
       "      <td>None</td>\n",
       "      <td>157</td>\n",
       "      <td>104</td>\n",
       "      <td>53</td>\n",
       "      <td>0.337580</td>\n",
       "      <td>108</td>\n",
       "      <td>-1</td>\n",
       "      <td>41</td>\n",
       "      <td>0.645238</td>\n",
       "      <td>0.692308</td>\n",
       "      <td>1</td>\n",
       "      <td>71</td>\n",
       "      <td>{'language': 'fr', 'score': 0.9999953993991059}</td>\n",
       "    </tr>\n",
       "    <tr>\n",
       "      <th>1672705</th>\n",
       "      <td>2e1fb986</td>\n",
       "      <td>markdown</td>\n",
       "      <td>*Note that the data is now imbalanced, so we focus on the precision/recall/f1-score and not the accuracy.</td>\n",
       "      <td>434e848eeac6d2</td>\n",
       "      <td>17</td>\n",
       "      <td>7fe4f3a2</td>\n",
       "      <td>None</td>\n",
       "      <td>167</td>\n",
       "      <td>92</td>\n",
       "      <td>75</td>\n",
       "      <td>0.449102</td>\n",
       "      <td>160</td>\n",
       "      <td>-1</td>\n",
       "      <td>70</td>\n",
       "      <td>0.971326</td>\n",
       "      <td>0.963855</td>\n",
       "      <td>1</td>\n",
       "      <td>1</td>\n",
       "      <td>{'language': 'en', 'score': 0.9999978363329052}</td>\n",
       "    </tr>\n",
       "  </tbody>\n",
       "</table>\n",
       "<p>21661 rows × 19 columns</p>\n",
       "</div>"
      ],
      "text/plain": [
       "          cell_id cell_type                                                                                                                                                                                                                                                                                                                                                                                                                                                                source              id  n_words ancestor_id       parent_id  n_cell  n_code_cell  n_markdown_cell  markdown_frac  rank  code_rank  markdown_rank  rel_rank  pct_rank  fold  worker                                             lang\n",
       "1915482  e0425fad  markdown                                                                                                                                                                                                                                                                                                                                                                                                                                   4) During the Model Building phase:  4d293a1187de69        6    e8e7f500            None     147          100               47       0.319728   134         -1             34  0.996100  0.917808     4      79  {'language': 'en', 'score': 0.9999980998469051}\n",
       "1558380  0bcf66c1  markdown                                                                                                                                                                                                               **ACTIONABLE INSIGHT BASED ON LOGISTIC REGRESSION MODEL**\\n\\n1)The bank,instead of cold-calling everyone,should target people having a certificate of deposit account or mortgage or both as their odds of going for a personal loan are very high.\\n\\n  3ed1eea518ba63       36    2005934b            None      73           50               23       0.315068    71         -1             21  0.992157  0.986111     2      32  {'language': 'en', 'score': 0.9999985642050715}\n",
       "2500552  ffb8ab5b  markdown                                                                                                                                                                                                                                                                                                                                                                                                                                           ### Creating the dataframe   649a4764f45d4d        4    dd052e8c            None      30           15               15       0.500000     3         -1              2  0.093750  0.103448     0      20  {'language': 'en', 'score': 0.9999971544233925}\n",
       "1435557  253b16b2  markdown  The data were obtained in a survey of students math and portuguese language courses in secondary school. It contains a lot of interesting social, gender and study information about students. We will use it to do some exploratory data analysis (EDA) to predict students final grade. \\n\\nWhat we want to know:\\n- Correlation between features\\n- Weekly consumption of alcohol by the students\\n- Final exam scores based on student's alcohol consumption\\n\\n  39c3514aac133c       72    306d6db0            None      17           11                6       0.352941     0         -1              0  0.041667  0.000000     1      51  {'language': 'en', 'score': 0.9999961436620822}\n",
       "4437232  c5740542  markdown                                                                                                                                                                                                                                                                                                                                                                                               #### Again, a one percent increase in the f1-score from last algorithm.  b23574f56edef1       12    36d9b32b  10b3ce4a1d76bd     475          310              165       0.347368   403         -1            149  0.817792  0.850211     2      17  {'language': 'en', 'score': 0.9999966778121965}\n",
       "...           ...       ...                                                                                                                                                                                                                                                                                                                                                                                                                                                                   ...             ...      ...         ...             ...     ...          ...              ...            ...   ...        ...            ...       ...       ...   ...     ...                                              ...\n",
       "5013643  931bee29  markdown                                                                                                                                    **Question eighteen (\"Q18\")** about computer vision methods used by participant. Image classification are computer vision methods that most used. Image classification is a process that classifies object(s), pattern(s), or concept(s) in an image (https://developers.google.com/machine-learning/glossary#image-recognition).   c9406a40b87051       34    14a4ddb9            None      39           20               19       0.487179    24         -1             11  0.642857  0.631579     1      21  {'language': 'en', 'score': 0.9999951907045369}\n",
       "2402833  8eca73f9  markdown                                                                                                                                                                                                                                                                                                                                                                                                                                             ## specify test functions  60955453fb3a6c        4    8897ad70            None      27           22                5       0.185185    15         -1              3  0.543478  0.576923     0      55  {'language': 'en', 'score': 0.9999966968604639}\n",
       "3860206  bb4cac73  markdown                                                                                                                                                                                                                                                                                                                                                                                                                                             ### Predict with test.csv  9a9b8726f11df3        4    e8661b28            None      55           40               15       0.272727    50         -1             14  0.890244  0.925926     2      22  {'language': 'en', 'score': 0.9999967650612596}\n",
       "2904193  7d3d4d6c  markdown                                                                                                                                                                                                                                                                                                                                                                                                                                           ### most_recent_sales_range  74a8efbb0aee7f        2    593fd7af            None     157          104               53       0.337580   108         -1             41  0.645238  0.692308     1      71  {'language': 'fr', 'score': 0.9999953993991059}\n",
       "1672705  2e1fb986  markdown                                                                                                                                                                                                                                                                                                                                                             *Note that the data is now imbalanced, so we focus on the precision/recall/f1-score and not the accuracy.  434e848eeac6d2       17    7fe4f3a2            None     167           92               75       0.449102   160         -1             70  0.971326  0.963855     1       1  {'language': 'en', 'score': 0.9999978363329052}\n",
       "\n",
       "[21661 rows x 19 columns]"
      ]
     },
     "execution_count": 12,
     "metadata": {},
     "output_type": "execute_result"
    }
   ],
   "source": [
    "d"
   ]
  },
  {
   "cell_type": "code",
   "execution_count": 15,
   "metadata": {},
   "outputs": [
    {
     "data": {
      "application/vnd.jupyter.widget-view+json": {
       "model_id": "0a26a898106543dcb5d7c24b22ff1bb4",
       "version_major": 2,
       "version_minor": 0
      },
      "text/plain": [
       "run:   0%|          | 0/24068 [00:00<?, ?it/s]"
      ]
     },
     "metadata": {},
     "output_type": "display_data"
    },
    {
     "data": {
      "application/vnd.jupyter.widget-view+json": {
       "model_id": "f85edbe9455a4304959fdd5302d1cf17",
       "version_major": 2,
       "version_minor": 0
      },
      "text/plain": [
       "  0%|          | 0/90 [00:00<?, ?it/s]"
      ]
     },
     "metadata": {},
     "output_type": "display_data"
    }
   ],
   "source": [
    "df_markdown['lang'] = gezi.prun_list(get_language, df_markdown.source.values, 90)"
   ]
  },
  {
   "cell_type": "code",
   "execution_count": 19,
   "metadata": {},
   "outputs": [],
   "source": [
    "df_markdown.reset_index().to_feather('../working/df_markdown_lang.fea')"
   ]
  },
  {
   "cell_type": "code",
   "execution_count": 20,
   "metadata": {},
   "outputs": [
    {
     "data": {
      "text/plain": [
       "2166064"
      ]
     },
     "execution_count": 20,
     "metadata": {},
     "output_type": "execute_result"
    }
   ],
   "source": [
    "len(df_markdown)"
   ]
  },
  {
   "cell_type": "code",
   "execution_count": 21,
   "metadata": {},
   "outputs": [
    {
     "data": {
      "text/plain": [
       "'**Импортируем необходимые для работы функции и классы**'"
      ]
     },
     "execution_count": 21,
     "metadata": {},
     "output_type": "execute_result"
    }
   ],
   "source": [
    "df_markdown.source.values[0]"
   ]
  },
  {
   "cell_type": "code",
   "execution_count": 23,
   "metadata": {},
   "outputs": [
    {
     "data": {
      "text/plain": [
       "'ru'"
      ]
     },
     "execution_count": 23,
     "metadata": {},
     "output_type": "execute_result"
    }
   ],
   "source": [
    "df_markdown.lang.values[0]['language']"
   ]
  },
  {
   "cell_type": "code",
   "execution_count": null,
   "metadata": {},
   "outputs": [],
   "source": []
  }
 ],
 "metadata": {
  "kernelspec": {
   "display_name": "Python 3.7.9",
   "language": "python",
   "name": "python3"
  },
  "language_info": {
   "codemirror_mode": {
    "name": "ipython",
    "version": 3
   },
   "file_extension": ".py",
   "mimetype": "text/x-python",
   "name": "python",
   "nbconvert_exporter": "python",
   "pygments_lexer": "ipython3",
   "version": "3.7.9"
  },
  "orig_nbformat": 4,
  "vscode": {
   "interpreter": {
    "hash": "1925003cfa3979ae366740114cfe890bf8d7ad5b88e4afe0ec571fe261ed45e3"
   }
  }
 },
 "nbformat": 4,
 "nbformat_minor": 2
}
