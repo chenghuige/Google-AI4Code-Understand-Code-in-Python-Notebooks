{
 "cells": [
  {
   "cell_type": "code",
   "execution_count": 1,
   "metadata": {},
   "outputs": [],
   "source": [
    "from gezi.common import *\n",
    "sys.path.append('..')\n",
    "from src.config import *\n",
    "from src.preprocess import *\n",
    "from src.eval import *\n",
    "gezi.init_flags()"
   ]
  },
  {
   "cell_type": "code",
   "execution_count": 163,
   "metadata": {},
   "outputs": [],
   "source": [
    "root = '../working/offline/6/0'\n",
    "context_model_name = 'deberta-v3-small.flag-context2-aug.n_context-40.cls_loss_rate-0.1.eval.p13-4'\n",
    "pairwise_model_name = 'all-mpnet-base-v2.flag-pairwise13-4.pooling_mask-attention_mask.grad_acc-4'\n",
    "pmodel2_name = 'deberta-v3-small.flag-pairwise14-2-cat.eval'"
   ]
  },
  {
   "cell_type": "code",
   "execution_count": 3,
   "metadata": {},
   "outputs": [],
   "source": [
    "xc = gezi.load(f'{root}/{context_model_name}/valid.pkl')"
   ]
  },
  {
   "cell_type": "code",
   "execution_count": 4,
   "metadata": {},
   "outputs": [],
   "source": [
    "xp = gezi.load(f'{root}/{pairwise_model_name}/valid.pkl')"
   ]
  },
  {
   "cell_type": "code",
   "execution_count": 202,
   "metadata": {},
   "outputs": [],
   "source": [
    "xp2 = gezi.load(f'{root}/{pmodel2_name}/valid.pkl')"
   ]
  },
  {
   "cell_type": "code",
   "execution_count": 203,
   "metadata": {},
   "outputs": [],
   "source": [
    "gezi.sort_dict_byid_(xc, 'cid')\n",
    "gezi.sort_dict_byid_(xp, 'cid')\n",
    "gezi.sort_dict_byid_(xp2, 'cid')"
   ]
  },
  {
   "cell_type": "code",
   "execution_count": 201,
   "metadata": {},
   "outputs": [
    {
     "data": {
      "text/plain": [
       "(424943, 100)"
      ]
     },
     "execution_count": 201,
     "metadata": {},
     "output_type": "execute_result"
    }
   ],
   "source": [
    "xc['cls_pred_ori'].shape"
   ]
  },
  {
   "cell_type": "code",
   "execution_count": 204,
   "metadata": {},
   "outputs": [
    {
     "data": {
      "text/plain": [
       "(424943, 2)"
      ]
     },
     "execution_count": 204,
     "metadata": {},
     "output_type": "execute_result"
    }
   ],
   "source": [
    "xp2['cls_pred_ori'].shape"
   ]
  },
  {
   "cell_type": "code",
   "execution_count": 6,
   "metadata": {},
   "outputs": [],
   "source": [
    "ids = set(xc['id'])"
   ]
  },
  {
   "cell_type": "code",
   "execution_count": 7,
   "metadata": {},
   "outputs": [
    {
     "data": {
      "text/html": [
       "<div>\n",
       "<style scoped>\n",
       "    .dataframe tbody tr th:only-of-type {\n",
       "        vertical-align: middle;\n",
       "    }\n",
       "\n",
       "    .dataframe tbody tr th {\n",
       "        vertical-align: top;\n",
       "    }\n",
       "\n",
       "    .dataframe thead th {\n",
       "        text-align: right;\n",
       "    }\n",
       "</style>\n",
       "<table border=\"1\" class=\"dataframe\">\n",
       "  <thead>\n",
       "    <tr style=\"text-align: right;\">\n",
       "      <th></th>\n",
       "      <th>id</th>\n",
       "      <th>cell_order</th>\n",
       "    </tr>\n",
       "  </thead>\n",
       "  <tbody>\n",
       "    <tr>\n",
       "      <th>4</th>\n",
       "      <td>0002115f48f982</td>\n",
       "      <td>[9ec225f0, 18281c6c, e3b6b115, 4a044c54, 365fe...</td>\n",
       "    </tr>\n",
       "    <tr>\n",
       "      <th>11</th>\n",
       "      <td>00062ab8487156</td>\n",
       "      <td>[dcad687f, a2e1fc80, 7d977ee8, 45a82a59, cbbc3...</td>\n",
       "    </tr>\n",
       "    <tr>\n",
       "      <th>28</th>\n",
       "      <td>000efd285fb982</td>\n",
       "      <td>[74a30f80, ee2c8e08, 5523374e, ae8f8fe8, 2138e...</td>\n",
       "    </tr>\n",
       "    <tr>\n",
       "      <th>39</th>\n",
       "      <td>0012865b766949</td>\n",
       "      <td>[f9cb50e9, 25f7db90, d804e819, 6593a545, fc5bb...</td>\n",
       "    </tr>\n",
       "    <tr>\n",
       "      <th>42</th>\n",
       "      <td>001308991e0c5e</td>\n",
       "      <td>[21147235, 6c01d0d2, 5bd28595, b8fd3a8c, a2501...</td>\n",
       "    </tr>\n",
       "  </tbody>\n",
       "</table>\n",
       "</div>"
      ],
      "text/plain": [
       "                id                                         cell_order\n",
       "4   0002115f48f982  [9ec225f0, 18281c6c, e3b6b115, 4a044c54, 365fe...\n",
       "11  00062ab8487156  [dcad687f, a2e1fc80, 7d977ee8, 45a82a59, cbbc3...\n",
       "28  000efd285fb982  [74a30f80, ee2c8e08, 5523374e, ae8f8fe8, 2138e...\n",
       "39  0012865b766949  [f9cb50e9, 25f7db90, d804e819, 6593a545, fc5bb...\n",
       "42  001308991e0c5e  [21147235, 6c01d0d2, 5bd28595, b8fd3a8c, a2501..."
      ]
     },
     "execution_count": 7,
     "metadata": {},
     "output_type": "execute_result"
    }
   ],
   "source": [
    "df_gt = pd.read_csv(f'{FLAGS.root}/train_orders.csv')\n",
    "df_gt = df_gt[df_gt.id.isin(ids)]\n",
    "df_gt['cell_order'] = df_gt['cell_order'].apply(lambda x: x.split())\n",
    "df_gt.head()"
   ]
  },
  {
   "cell_type": "code",
   "execution_count": 8,
   "metadata": {},
   "outputs": [],
   "source": [
    "def merge(x, y, prob):\n",
    "  # return y\n",
    "  # return x\n",
    "  if prob > 0.9:\n",
    "    return x * (1 - 0.0001) + y * 0.0001\n",
    "  elif abs(y - x) < 0.1:\n",
    "    return x * (1 - 0.0001) + y * 0.0001\n",
    "  elif abs(y - x) < 0.2:\n",
    "    return x * 0.95 * prob + y * (1 - 0.95 * prob)\n",
    "  elif abs(y - x) < 0.3:\n",
    "    return x * 0.85 * prob + y * (1 - 0.85 * prob)\n",
    "  elif abs(y - x) < 0.4:\n",
    "    return x * 0.5 * prob + y * (1 - 0.5 * prob)\n",
    "  else:\n",
    "    return y"
   ]
  },
  {
   "cell_type": "code",
   "execution_count": 9,
   "metadata": {},
   "outputs": [
    {
     "data": {
      "text/plain": [
       "0.9018247872358709"
      ]
     },
     "execution_count": 9,
     "metadata": {},
     "output_type": "execute_result"
    }
   ],
   "source": [
    "x = xc.copy()\n",
    "x['pred'] = xc['cls_pred'] * 0.5 + xp['cls_pred'] * 0.5\n",
    "calc_metric(x)"
   ]
  },
  {
   "cell_type": "code",
   "execution_count": 10,
   "metadata": {},
   "outputs": [],
   "source": [
    "df_p = pd.DataFrame(xp)"
   ]
  },
  {
   "cell_type": "code",
   "execution_count": 11,
   "metadata": {},
   "outputs": [],
   "source": [
    "df_c = pd.DataFrame(gezi.batch2list(xc))"
   ]
  },
  {
   "cell_type": "code",
   "execution_count": 12,
   "metadata": {},
   "outputs": [
    {
     "data": {
      "text/plain": [
       "Index(['id', 'cell_id', 'cid', 'pred', 'max_prob', 'max_sim', 'cls_pred',\n",
       "       'match_rank', 'match_code', 'n_code_cell', 'probs', 'sims'],\n",
       "      dtype='object')"
      ]
     },
     "execution_count": 12,
     "metadata": {},
     "output_type": "execute_result"
    }
   ],
   "source": [
    "df_p.columns"
   ]
  },
  {
   "cell_type": "code",
   "execution_count": 13,
   "metadata": {},
   "outputs": [],
   "source": [
    "df = df_c.merge(df_p[['cid', 'pred', 'cls_pred', 'max_prob', 'max_sim', 'probs', 'sims']], on='cid', suffixes=['_c', '_p'])"
   ]
  },
  {
   "cell_type": "code",
   "execution_count": 14,
   "metadata": {},
   "outputs": [],
   "source": [
    "df_train = pd.read_feather('../working/train.fea')"
   ]
  },
  {
   "cell_type": "code",
   "execution_count": 15,
   "metadata": {},
   "outputs": [],
   "source": [
    "df_train = df_train[df_train.id.isin(ids)]"
   ]
  },
  {
   "cell_type": "code",
   "execution_count": 16,
   "metadata": {},
   "outputs": [],
   "source": [
    "df = df.merge(df_train[['cid', 'ancestor_id', 'n_words', 'source']], on='cid')"
   ]
  },
  {
   "cell_type": "code",
   "execution_count": 17,
   "metadata": {},
   "outputs": [],
   "source": [
    "gezi.set_fold(df, 5, 'ancestor_id')"
   ]
  },
  {
   "cell_type": "code",
   "execution_count": 18,
   "metadata": {},
   "outputs": [
    {
     "data": {
      "text/html": [
       "<div>\n",
       "<style scoped>\n",
       "    .dataframe tbody tr th:only-of-type {\n",
       "        vertical-align: middle;\n",
       "    }\n",
       "\n",
       "    .dataframe tbody tr th {\n",
       "        vertical-align: top;\n",
       "    }\n",
       "\n",
       "    .dataframe thead th {\n",
       "        text-align: right;\n",
       "    }\n",
       "</style>\n",
       "<table border=\"1\" class=\"dataframe\">\n",
       "  <thead>\n",
       "    <tr style=\"text-align: right;\">\n",
       "      <th></th>\n",
       "      <th>id</th>\n",
       "      <th>cell_id</th>\n",
       "      <th>cid</th>\n",
       "      <th>cell_type</th>\n",
       "      <th>rank</th>\n",
       "      <th>rel_rank</th>\n",
       "      <th>context_match</th>\n",
       "      <th>match_code</th>\n",
       "      <th>n_code_cell</th>\n",
       "      <th>n_markdown_cell</th>\n",
       "      <th>...</th>\n",
       "      <th>pred_p</th>\n",
       "      <th>cls_pred_p</th>\n",
       "      <th>max_prob</th>\n",
       "      <th>max_sim</th>\n",
       "      <th>probs</th>\n",
       "      <th>sims</th>\n",
       "      <th>ancestor_id</th>\n",
       "      <th>n_words</th>\n",
       "      <th>source</th>\n",
       "      <th>fold</th>\n",
       "    </tr>\n",
       "  </thead>\n",
       "  <tbody>\n",
       "    <tr>\n",
       "      <th>0</th>\n",
       "      <td>0002115f48f982</td>\n",
       "      <td>9ec225f0</td>\n",
       "      <td>0002115f48f982\\t9ec225f0</td>\n",
       "      <td>markdown</td>\n",
       "      <td>0</td>\n",
       "      <td>0.055556</td>\n",
       "      <td>1</td>\n",
       "      <td>0.0</td>\n",
       "      <td>8</td>\n",
       "      <td>1</td>\n",
       "      <td>...</td>\n",
       "      <td>0.055556</td>\n",
       "      <td>0.057101</td>\n",
       "      <td>0.990312</td>\n",
       "      <td>0.812567</td>\n",
       "      <td>[0.99031216, 0.0077258605, 0.00028545051, 0.00...</td>\n",
       "      <td>[0.812567, 0.71245015, 0.6444137, 0.67712796, ...</td>\n",
       "      <td>272b483a</td>\n",
       "      <td>49</td>\n",
       "      <td>Hi there,\\n\\nIs it ok that the same measuremen...</td>\n",
       "      <td>2</td>\n",
       "    </tr>\n",
       "    <tr>\n",
       "      <th>1</th>\n",
       "      <td>00062ab8487156</td>\n",
       "      <td>96c8449c</td>\n",
       "      <td>00062ab8487156\\t96c8449c</td>\n",
       "      <td>markdown</td>\n",
       "      <td>11</td>\n",
       "      <td>0.954545</td>\n",
       "      <td>1</td>\n",
       "      <td>10.0</td>\n",
       "      <td>10</td>\n",
       "      <td>2</td>\n",
       "      <td>...</td>\n",
       "      <td>0.954545</td>\n",
       "      <td>0.928870</td>\n",
       "      <td>0.737295</td>\n",
       "      <td>0.778814</td>\n",
       "      <td>[0.0006601951, 0.0004797048, 0.0005591548, 3.8...</td>\n",
       "      <td>[0.634043, 0.6274551, 0.6306165, 0.57551205, 0...</td>\n",
       "      <td>de362dd8</td>\n",
       "      <td>9</td>\n",
       "      <td>### Support vector classifier scored 0.8442 on...</td>\n",
       "      <td>1</td>\n",
       "    </tr>\n",
       "    <tr>\n",
       "      <th>2</th>\n",
       "      <td>00062ab8487156</td>\n",
       "      <td>aa354742</td>\n",
       "      <td>00062ab8487156\\taa354742</td>\n",
       "      <td>markdown</td>\n",
       "      <td>5</td>\n",
       "      <td>0.500000</td>\n",
       "      <td>1</td>\n",
       "      <td>5.0</td>\n",
       "      <td>10</td>\n",
       "      <td>2</td>\n",
       "      <td>...</td>\n",
       "      <td>0.500000</td>\n",
       "      <td>0.470898</td>\n",
       "      <td>0.668899</td>\n",
       "      <td>0.644071</td>\n",
       "      <td>[0.00014830093, 0.0025996333, 0.08719555, 0.04...</td>\n",
       "      <td>[0.47050405, 0.5295802, 0.60204184, 0.58852756...</td>\n",
       "      <td>de362dd8</td>\n",
       "      <td>40</td>\n",
       "      <td>### Interesting tidbit: Shovel Knight is the o...</td>\n",
       "      <td>1</td>\n",
       "    </tr>\n",
       "    <tr>\n",
       "      <th>3</th>\n",
       "      <td>000efd285fb982</td>\n",
       "      <td>14f36391</td>\n",
       "      <td>000efd285fb982\\t14f36391</td>\n",
       "      <td>markdown</td>\n",
       "      <td>56</td>\n",
       "      <td>0.881579</td>\n",
       "      <td>1</td>\n",
       "      <td>33.0</td>\n",
       "      <td>37</td>\n",
       "      <td>28</td>\n",
       "      <td>...</td>\n",
       "      <td>0.907895</td>\n",
       "      <td>0.906050</td>\n",
       "      <td>0.779621</td>\n",
       "      <td>0.630970</td>\n",
       "      <td>[8.096203e-06, 7.811426e-08, 7.105523e-08, 1.2...</td>\n",
       "      <td>[0.39426038, 0.29852632, 0.29657254, 0.3077618...</td>\n",
       "      <td>389f14ff</td>\n",
       "      <td>3</td>\n",
       "      <td>### 3.5 CatboostRegressor</td>\n",
       "      <td>4</td>\n",
       "    </tr>\n",
       "    <tr>\n",
       "      <th>4</th>\n",
       "      <td>000efd285fb982</td>\n",
       "      <td>1f3749ad</td>\n",
       "      <td>000efd285fb982\\t1f3749ad</td>\n",
       "      <td>markdown</td>\n",
       "      <td>24</td>\n",
       "      <td>0.335526</td>\n",
       "      <td>1</td>\n",
       "      <td>12.0</td>\n",
       "      <td>37</td>\n",
       "      <td>28</td>\n",
       "      <td>...</td>\n",
       "      <td>0.328947</td>\n",
       "      <td>0.327677</td>\n",
       "      <td>0.965926</td>\n",
       "      <td>0.663878</td>\n",
       "      <td>[6.5797317e-06, 7.1168693e-06, 3.997141e-05, 3...</td>\n",
       "      <td>[0.4184703, 0.42008907, 0.4556867, 0.4516977, ...</td>\n",
       "      <td>389f14ff</td>\n",
       "      <td>4</td>\n",
       "      <td>### 2.1 Numerical columns</td>\n",
       "      <td>4</td>\n",
       "    </tr>\n",
       "  </tbody>\n",
       "</table>\n",
       "<p>5 rows × 27 columns</p>\n",
       "</div>"
      ],
      "text/plain": [
       "               id   cell_id                       cid cell_type  rank  \\\n",
       "0  0002115f48f982  9ec225f0  0002115f48f982\\t9ec225f0  markdown     0   \n",
       "1  00062ab8487156  96c8449c  00062ab8487156\\t96c8449c  markdown    11   \n",
       "2  00062ab8487156  aa354742  00062ab8487156\\taa354742  markdown     5   \n",
       "3  000efd285fb982  14f36391  000efd285fb982\\t14f36391  markdown    56   \n",
       "4  000efd285fb982  1f3749ad  000efd285fb982\\t1f3749ad  markdown    24   \n",
       "\n",
       "   rel_rank  context_match  match_code  n_code_cell  n_markdown_cell  ...  \\\n",
       "0  0.055556              1         0.0            8                1  ...   \n",
       "1  0.954545              1        10.0           10                2  ...   \n",
       "2  0.500000              1         5.0           10                2  ...   \n",
       "3  0.881579              1        33.0           37               28  ...   \n",
       "4  0.335526              1        12.0           37               28  ...   \n",
       "\n",
       "     pred_p  cls_pred_p  max_prob   max_sim  \\\n",
       "0  0.055556    0.057101  0.990312  0.812567   \n",
       "1  0.954545    0.928870  0.737295  0.778814   \n",
       "2  0.500000    0.470898  0.668899  0.644071   \n",
       "3  0.907895    0.906050  0.779621  0.630970   \n",
       "4  0.328947    0.327677  0.965926  0.663878   \n",
       "\n",
       "                                               probs  \\\n",
       "0  [0.99031216, 0.0077258605, 0.00028545051, 0.00...   \n",
       "1  [0.0006601951, 0.0004797048, 0.0005591548, 3.8...   \n",
       "2  [0.00014830093, 0.0025996333, 0.08719555, 0.04...   \n",
       "3  [8.096203e-06, 7.811426e-08, 7.105523e-08, 1.2...   \n",
       "4  [6.5797317e-06, 7.1168693e-06, 3.997141e-05, 3...   \n",
       "\n",
       "                                                sims  ancestor_id  n_words  \\\n",
       "0  [0.812567, 0.71245015, 0.6444137, 0.67712796, ...     272b483a       49   \n",
       "1  [0.634043, 0.6274551, 0.6306165, 0.57551205, 0...     de362dd8        9   \n",
       "2  [0.47050405, 0.5295802, 0.60204184, 0.58852756...     de362dd8       40   \n",
       "3  [0.39426038, 0.29852632, 0.29657254, 0.3077618...     389f14ff        3   \n",
       "4  [0.4184703, 0.42008907, 0.4556867, 0.4516977, ...     389f14ff        4   \n",
       "\n",
       "                                              source  fold  \n",
       "0  Hi there,\\n\\nIs it ok that the same measuremen...     2  \n",
       "1  ### Support vector classifier scored 0.8442 on...     1  \n",
       "2  ### Interesting tidbit: Shovel Knight is the o...     1  \n",
       "3                          ### 3.5 CatboostRegressor     4  \n",
       "4                          ### 2.1 Numerical columns     4  \n",
       "\n",
       "[5 rows x 27 columns]"
      ]
     },
     "execution_count": 18,
     "metadata": {},
     "output_type": "execute_result"
    }
   ],
   "source": [
    "df.head()"
   ]
  },
  {
   "cell_type": "code",
   "execution_count": 208,
   "metadata": {},
   "outputs": [
    {
     "data": {
      "application/vnd.jupyter.widget-view+json": {
       "model_id": "74410b31b40349428bdb5e4ffa4b48b8",
       "version_major": 2,
       "version_minor": 0
      },
      "text/plain": [
       "top:   0%|          | 0/424943 [00:00<?, ?it/s]"
      ]
     },
     "metadata": {},
     "output_type": "display_data"
    },
    {
     "data": {
      "application/vnd.jupyter.widget-view+json": {
       "model_id": "c7a4e9bd5ba84146babd1a8c9d2d152d",
       "version_major": 2,
       "version_minor": 0
      },
      "text/plain": [
       "ctop:   0%|          | 0/424943 [00:00<?, ?it/s]"
      ]
     },
     "metadata": {},
     "output_type": "display_data"
    },
    {
     "data": {
      "application/vnd.jupyter.widget-view+json": {
       "model_id": "a389a0e6f9de48f7a39510f1f2762fd8",
       "version_major": 2,
       "version_minor": 0
      },
      "text/plain": [
       "p2:   0%|          | 0/424943 [00:00<?, ?it/s]"
      ]
     },
     "metadata": {},
     "output_type": "display_data"
    },
    {
     "data": {
      "application/vnd.jupyter.widget-view+json": {
       "model_id": "2c7366f555024575b8561c9aa54d77f4",
       "version_major": 2,
       "version_minor": 0
      },
      "text/plain": [
       "rule:   0%|          | 0/424943 [00:00<?, ?it/s]"
      ]
     },
     "metadata": {},
     "output_type": "display_data"
    }
   ],
   "source": [
    "df['markdown_frac'] = df['n_markdown_cell'] / df['n_cell']\n",
    "df['span'] = 1 / (df['n_code_cell'] + 1)\n",
    "top2, top3, top4, top5 = [], [], [], []\n",
    "top2_prob, top3_prob, top4_prob, top5_prob = [], [], [], []\n",
    "top2_sim, top3_sim, top4_sim, top5_sim = [], [], [], []\n",
    "for i in tqdm(range(len(df)), desc='top'):\n",
    "  # cls_preds = df['cls_pred_ori'].values[i]\n",
    "  n_code = df['n_code_cell'].values[i]\n",
    "  probs = df['probs'].values[i]\n",
    "  sims = df['sims'].values[i]\n",
    "  idxes = (-probs).argsort()\n",
    "  if len(idxes) > 1:\n",
    "    top2.append((idxes[1] + 0.5) / (n_code + 1))\n",
    "    top2_prob.append(probs[idxes[1]])\n",
    "    top2_sim.append(sims[idxes[1]])\n",
    "  else:\n",
    "    top2.append(-1)\n",
    "    top2_prob.append(-1)\n",
    "    top2_sim.append(-1)\n",
    "  if len(idxes) > 2:\n",
    "    top3.append((idxes[2] + 0.5) / (n_code + 1))\n",
    "    top3_prob.append(probs[idxes[2]])\n",
    "    top3_sim.append(sims[idxes[2]])\n",
    "  else:\n",
    "    top3.append(-1)\n",
    "    top3_prob.append(-1)\n",
    "    top3_sim.append(-1)\n",
    "  if len(idxes) > 3:\n",
    "    top4.append((idxes[3] + 0.5) / (n_code + 1))\n",
    "    top4_prob.append(probs[idxes[3]])\n",
    "    top4_sim.append(sims[idxes[3]])\n",
    "  else:\n",
    "    top4.append(-1)\n",
    "    top4_prob.append(-1)\n",
    "    top4_sim.append(-1)\n",
    "  if len(idxes) > 4:\n",
    "    top5.append((idxes[4] + 0.5) / (n_code + 1))\n",
    "    top5_prob.append(probs[idxes[4]])\n",
    "    top5_sim.append(sims[idxes[4]])\n",
    "  else:\n",
    "    top5.append(-1)\n",
    "    top5_prob.append(-1)\n",
    "    top5_sim.append(-1)\n",
    "ctop_prob, ctop2, ctop3, ctop4, ctop2_prob, ctop3_prob, ctop4_prob = [], [], [], [], [], [], []\n",
    "for i in tqdm(range(len(df)), desc='ctop'):\n",
    "  preds = df['cls_pred_ori'].values[i]\n",
    "  probs = gezi.softmax(preds)\n",
    "  idxes = (-probs).argsort()\n",
    "  ctop_prob.append(probs[idxes[0]])\n",
    "  ctop2.append((idxes[1] + 0.5) / FLAGS.num_classes)\n",
    "  ctop2_prob.append(probs[idxes[1]])\n",
    "  ctop3.append((idxes[2] + 0.5) / FLAGS.num_classes)\n",
    "  ctop3_prob.append(probs[idxes[2]])\n",
    "  ctop4.append((idxes[3] + 0.5) / FLAGS.num_classes)\n",
    "  ctop4_prob.append(probs[idxes[3]])\n",
    "# for i in range(FLAGS.num_classes):\n",
    "#   df[f'cls_pred{i}'] = df['cls_pred_ori'].apply(lambda x: x[i])\n",
    "df['top2'] = top2\n",
    "df['top2_prob'] = top2_prob\n",
    "df['top2_sim'] = top2_sim\n",
    "df['top3'] = top3\n",
    "df['top3_prob'] = top3_prob\n",
    "df['top3_sim'] = top3_sim\n",
    "df['top4'] = top4\n",
    "df['top4_prob'] = top4_prob\n",
    "df['top4_sim'] = top4_sim\n",
    "df['top5'] = top5\n",
    "df['top5_prob'] = top5_prob\n",
    "df['top5_sim'] = top5_sim\n",
    "df['ctop_prob'] = ctop_prob\n",
    "df['ctop2'] = ctop2\n",
    "df['ctop2_prob'] = ctop2_prob\n",
    "df['ctop3'] = ctop3\n",
    "df['ctop3_prob'] = ctop3_prob\n",
    "df['ctop4'] = ctop4\n",
    "df['ctop4_prob'] = ctop4_prob\n",
    "df['pred_p2'] = xp2['pred']\n",
    "p2_max_prob = []\n",
    "p2_top2 = []\n",
    "p2_top2_prob = []\n",
    "for i in tqdm(range(len(df)), desc='p2'):\n",
    "  code_idxes = xp2['code_idxes'][i]\n",
    "  n_code = df['n_code_cell'].values[i]\n",
    "  probs = gezi.softmax(xp2['cls_pred_ori'][i])\n",
    "  idxes = (-probs).argsort()\n",
    "  p2_top2.append((code_idxes[idxes[1]] + 0.5) / (n_code + 1))\n",
    "  p2_max_prob.append(probs[idxes[0]])\n",
    "  p2_top2_prob.append(probs[idxes[1]])\n",
    "df['p2_max_prob'] = p2_max_prob\n",
    "df['p2_top2'] = p2_top2\n",
    "df['p2_top2_prob'] = p2_top2_prob\n",
    "  \n",
    "df['pred_diff0'] = abs(df['pred_c'] - df['pred_p'])\n",
    "df['pred_diff1'] = abs(df['reg_pred'] - df['pred_p'])\n",
    "df['pred_diff2'] = abs(df['cls_pred_c'] - df['pred_p'])\n",
    "df['pred_diff3'] = abs(df['cls2_pred'] - df['pred_p'])\n",
    "df['pred_diff4'] = abs(df['pred_c'] - df['top2'])\n",
    "df['pred_diff5'] = abs(df['reg_pred'] - df['top2'])\n",
    "df['pred_diff6'] = abs(df['cls_pred_c'] - df['top2'])\n",
    "df['pred_diff7'] = abs(df['cls2_pred'] - df['top2'])\n",
    "df['pred_diff8'] = abs(df['pred_p'] - df['top2'])\n",
    "df['pred_diff9'] = abs(df['cls_pred_c'] - df['top3'])\n",
    "df['pred_diff10'] = abs(df['pred_p'] - df['top3'])\n",
    "df['pred_diff11'] = abs(df['pred_c'] - df['pred_p2'])\n",
    "df['pred_diff12'] = abs(df['reg_pred'] - df['pred_p2'])\n",
    "df['pred_diff13'] = abs(df['cls_pred_c'] - df['pred_p2'])\n",
    "df['rule_pred'] = [merge(x, y, prob) for x, y, prob in tqdm(zip(df.pred_p.values, df.pred_c.values, df.max_prob.values), total=len(df), desc='rule')]\n",
    "# reg_pred_probs = []\n",
    "# for row in tqdm(df.itertuples(), total=len(df), desc='cls_pred_p_prob'):\n",
    "#   probs = row.probs\n",
    "#   n_code = row.n_code_cell\n",
    "#   reg_pred = row.reg_pred\n",
    "#   try:\n",
    "#     reg_pred_probs.append(probs[int(min(reg_pred, 1) * (n_code + 1) - 0.5)])\n",
    "#   except Exception:\n",
    "#     ic(n_code, len(probs), reg_pred)\n",
    "#     break\n",
    "# df['reg_pred_prob'] = reg_pred_probs"
   ]
  },
  {
   "cell_type": "code",
   "execution_count": 213,
   "metadata": {},
   "outputs": [],
   "source": [
    "fold = 0\n",
    "dvalid = df[df.fold==fold]\n",
    "dtrain = df[df.fold!=fold]"
   ]
  },
  {
   "cell_type": "code",
   "execution_count": 214,
   "metadata": {},
   "outputs": [
    {
     "data": {
      "text/plain": [
       "Index(['id', 'cell_id', 'cid', 'cell_type', 'rank', 'rel_rank',\n",
       "       'context_match', 'match_code', 'n_code_cell', 'n_markdown_cell',\n",
       "       'n_cell', 'cls_pred_c', 'pred_c', 'reg_pred', 'cls_pred_ori',\n",
       "       'match_rank', 'cls2_pred', 'pred_p', 'cls_pred_p', 'max_prob',\n",
       "       'max_sim', 'probs', 'sims', 'ancestor_id', 'n_words', 'source', 'fold',\n",
       "       'pred_diff0', 'pred_diff1', 'pred_diff2', 'pred_diff3', 'markdown_frac',\n",
       "       'span', 'top2', 'top2_prob', 'top2_sim', 'top3', 'top3_prob',\n",
       "       'top3_sim', 'top4', 'top4_prob', 'top4_sim', 'top5', 'top5_prob',\n",
       "       'top5_sim', 'ctop_prob', 'ctop2', 'ctop2_prob', 'ctop3', 'ctop3_prob',\n",
       "       'ctop4', 'ctop4_prob', 'pred_diff4', 'pred_diff5', 'pred_diff6',\n",
       "       'pred_diff7', 'pred_diff8', 'pred_diff9', 'pred_diff10', 'rule_pred',\n",
       "       'p2_pred', 'pred_p2', 'pred_diff11', 'pred_diff12', 'pred_diff13',\n",
       "       'p2_max_prob', 'p2_top2', 'p2_top2_prob'],\n",
       "      dtype='object')"
      ]
     },
     "execution_count": 214,
     "metadata": {},
     "output_type": "execute_result"
    }
   ],
   "source": [
    "df.columns"
   ]
  },
  {
   "cell_type": "code",
   "execution_count": 215,
   "metadata": {},
   "outputs": [
    {
     "data": {
      "text/html": [
       "<div>\n",
       "<style scoped>\n",
       "    .dataframe tbody tr th:only-of-type {\n",
       "        vertical-align: middle;\n",
       "    }\n",
       "\n",
       "    .dataframe tbody tr th {\n",
       "        vertical-align: top;\n",
       "    }\n",
       "\n",
       "    .dataframe thead th {\n",
       "        text-align: right;\n",
       "    }\n",
       "</style>\n",
       "<table border=\"1\" class=\"dataframe\">\n",
       "  <thead>\n",
       "    <tr style=\"text-align: right;\">\n",
       "      <th></th>\n",
       "      <th>id</th>\n",
       "      <th>cell_id</th>\n",
       "      <th>cid</th>\n",
       "      <th>cell_type</th>\n",
       "      <th>rank</th>\n",
       "      <th>rel_rank</th>\n",
       "      <th>context_match</th>\n",
       "      <th>match_code</th>\n",
       "      <th>n_code_cell</th>\n",
       "      <th>n_markdown_cell</th>\n",
       "      <th>...</th>\n",
       "      <th>pred_diff10</th>\n",
       "      <th>rule_pred</th>\n",
       "      <th>p2_pred</th>\n",
       "      <th>pred_p2</th>\n",
       "      <th>pred_diff11</th>\n",
       "      <th>pred_diff12</th>\n",
       "      <th>pred_diff13</th>\n",
       "      <th>p2_max_prob</th>\n",
       "      <th>p2_top2</th>\n",
       "      <th>p2_top2_prob</th>\n",
       "    </tr>\n",
       "  </thead>\n",
       "  <tbody>\n",
       "    <tr>\n",
       "      <th>0</th>\n",
       "      <td>0002115f48f982</td>\n",
       "      <td>9ec225f0</td>\n",
       "      <td>0002115f48f982\\t9ec225f0</td>\n",
       "      <td>markdown</td>\n",
       "      <td>0</td>\n",
       "      <td>0.055556</td>\n",
       "      <td>1</td>\n",
       "      <td>0.0</td>\n",
       "      <td>8</td>\n",
       "      <td>1</td>\n",
       "      <td>...</td>\n",
       "      <td>0.333333</td>\n",
       "      <td>0.055556</td>\n",
       "      <td>0.055556</td>\n",
       "      <td>0.055556</td>\n",
       "      <td>0.004312</td>\n",
       "      <td>0.003802</td>\n",
       "      <td>0.004823</td>\n",
       "      <td>0.987270</td>\n",
       "      <td>0.166667</td>\n",
       "      <td>0.012730</td>\n",
       "    </tr>\n",
       "    <tr>\n",
       "      <th>1</th>\n",
       "      <td>00062ab8487156</td>\n",
       "      <td>96c8449c</td>\n",
       "      <td>00062ab8487156\\t96c8449c</td>\n",
       "      <td>markdown</td>\n",
       "      <td>11</td>\n",
       "      <td>0.954545</td>\n",
       "      <td>1</td>\n",
       "      <td>10.0</td>\n",
       "      <td>10</td>\n",
       "      <td>2</td>\n",
       "      <td>...</td>\n",
       "      <td>0.181818</td>\n",
       "      <td>0.954545</td>\n",
       "      <td>0.954545</td>\n",
       "      <td>0.954545</td>\n",
       "      <td>0.007774</td>\n",
       "      <td>0.007617</td>\n",
       "      <td>0.023164</td>\n",
       "      <td>0.574132</td>\n",
       "      <td>0.863636</td>\n",
       "      <td>0.425868</td>\n",
       "    </tr>\n",
       "    <tr>\n",
       "      <th>2</th>\n",
       "      <td>00062ab8487156</td>\n",
       "      <td>aa354742</td>\n",
       "      <td>00062ab8487156\\taa354742</td>\n",
       "      <td>markdown</td>\n",
       "      <td>5</td>\n",
       "      <td>0.500000</td>\n",
       "      <td>1</td>\n",
       "      <td>5.0</td>\n",
       "      <td>10</td>\n",
       "      <td>2</td>\n",
       "      <td>...</td>\n",
       "      <td>0.272727</td>\n",
       "      <td>0.499997</td>\n",
       "      <td>0.500000</td>\n",
       "      <td>0.500000</td>\n",
       "      <td>0.034678</td>\n",
       "      <td>0.023598</td>\n",
       "      <td>0.045759</td>\n",
       "      <td>0.955423</td>\n",
       "      <td>0.409091</td>\n",
       "      <td>0.044577</td>\n",
       "    </tr>\n",
       "    <tr>\n",
       "      <th>3</th>\n",
       "      <td>000efd285fb982</td>\n",
       "      <td>14f36391</td>\n",
       "      <td>000efd285fb982\\t14f36391</td>\n",
       "      <td>markdown</td>\n",
       "      <td>56</td>\n",
       "      <td>0.881579</td>\n",
       "      <td>1</td>\n",
       "      <td>33.0</td>\n",
       "      <td>37</td>\n",
       "      <td>28</td>\n",
       "      <td>...</td>\n",
       "      <td>0.026316</td>\n",
       "      <td>0.907890</td>\n",
       "      <td>0.881579</td>\n",
       "      <td>0.881579</td>\n",
       "      <td>0.018504</td>\n",
       "      <td>0.014635</td>\n",
       "      <td>0.022374</td>\n",
       "      <td>0.979487</td>\n",
       "      <td>0.907895</td>\n",
       "      <td>0.020513</td>\n",
       "    </tr>\n",
       "    <tr>\n",
       "      <th>4</th>\n",
       "      <td>000efd285fb982</td>\n",
       "      <td>1f3749ad</td>\n",
       "      <td>000efd285fb982\\t1f3749ad</td>\n",
       "      <td>markdown</td>\n",
       "      <td>24</td>\n",
       "      <td>0.335526</td>\n",
       "      <td>1</td>\n",
       "      <td>12.0</td>\n",
       "      <td>37</td>\n",
       "      <td>28</td>\n",
       "      <td>...</td>\n",
       "      <td>0.026316</td>\n",
       "      <td>0.328948</td>\n",
       "      <td>0.328947</td>\n",
       "      <td>0.328947</td>\n",
       "      <td>0.006796</td>\n",
       "      <td>0.006120</td>\n",
       "      <td>0.007471</td>\n",
       "      <td>0.910752</td>\n",
       "      <td>0.276316</td>\n",
       "      <td>0.089248</td>\n",
       "    </tr>\n",
       "    <tr>\n",
       "      <th>...</th>\n",
       "      <td>...</td>\n",
       "      <td>...</td>\n",
       "      <td>...</td>\n",
       "      <td>...</td>\n",
       "      <td>...</td>\n",
       "      <td>...</td>\n",
       "      <td>...</td>\n",
       "      <td>...</td>\n",
       "      <td>...</td>\n",
       "      <td>...</td>\n",
       "      <td>...</td>\n",
       "      <td>...</td>\n",
       "      <td>...</td>\n",
       "      <td>...</td>\n",
       "      <td>...</td>\n",
       "      <td>...</td>\n",
       "      <td>...</td>\n",
       "      <td>...</td>\n",
       "      <td>...</td>\n",
       "      <td>...</td>\n",
       "      <td>...</td>\n",
       "    </tr>\n",
       "    <tr>\n",
       "      <th>424938</th>\n",
       "      <td>fff4714a37cf49</td>\n",
       "      <td>9527a079</td>\n",
       "      <td>fff4714a37cf49\\t9527a079</td>\n",
       "      <td>markdown</td>\n",
       "      <td>10</td>\n",
       "      <td>0.500000</td>\n",
       "      <td>1</td>\n",
       "      <td>6.0</td>\n",
       "      <td>12</td>\n",
       "      <td>9</td>\n",
       "      <td>...</td>\n",
       "      <td>0.384615</td>\n",
       "      <td>0.499998</td>\n",
       "      <td>0.500000</td>\n",
       "      <td>0.500000</td>\n",
       "      <td>0.022804</td>\n",
       "      <td>0.020201</td>\n",
       "      <td>0.025407</td>\n",
       "      <td>0.996183</td>\n",
       "      <td>0.576923</td>\n",
       "      <td>0.003817</td>\n",
       "    </tr>\n",
       "    <tr>\n",
       "      <th>424939</th>\n",
       "      <td>fff4714a37cf49</td>\n",
       "      <td>effc5f17</td>\n",
       "      <td>fff4714a37cf49\\teffc5f17</td>\n",
       "      <td>markdown</td>\n",
       "      <td>6</td>\n",
       "      <td>0.346154</td>\n",
       "      <td>1</td>\n",
       "      <td>4.0</td>\n",
       "      <td>12</td>\n",
       "      <td>9</td>\n",
       "      <td>...</td>\n",
       "      <td>0.076923</td>\n",
       "      <td>0.346156</td>\n",
       "      <td>0.346154</td>\n",
       "      <td>0.346154</td>\n",
       "      <td>0.021974</td>\n",
       "      <td>0.001143</td>\n",
       "      <td>0.045092</td>\n",
       "      <td>0.810956</td>\n",
       "      <td>0.576923</td>\n",
       "      <td>0.189044</td>\n",
       "    </tr>\n",
       "    <tr>\n",
       "      <th>424940</th>\n",
       "      <td>fff4714a37cf49</td>\n",
       "      <td>f8744de1</td>\n",
       "      <td>fff4714a37cf49\\tf8744de1</td>\n",
       "      <td>markdown</td>\n",
       "      <td>17</td>\n",
       "      <td>0.807692</td>\n",
       "      <td>1</td>\n",
       "      <td>10.0</td>\n",
       "      <td>12</td>\n",
       "      <td>9</td>\n",
       "      <td>...</td>\n",
       "      <td>0.307692</td>\n",
       "      <td>0.807693</td>\n",
       "      <td>0.807692</td>\n",
       "      <td>0.807692</td>\n",
       "      <td>0.006795</td>\n",
       "      <td>0.012041</td>\n",
       "      <td>0.001549</td>\n",
       "      <td>0.976145</td>\n",
       "      <td>0.115385</td>\n",
       "      <td>0.023855</td>\n",
       "    </tr>\n",
       "    <tr>\n",
       "      <th>424941</th>\n",
       "      <td>fffc1b4f08e81c</td>\n",
       "      <td>143cccfb</td>\n",
       "      <td>fffc1b4f08e81c\\t143cccfb</td>\n",
       "      <td>markdown</td>\n",
       "      <td>29</td>\n",
       "      <td>0.730769</td>\n",
       "      <td>1</td>\n",
       "      <td>28.0</td>\n",
       "      <td>38</td>\n",
       "      <td>2</td>\n",
       "      <td>...</td>\n",
       "      <td>0.128205</td>\n",
       "      <td>0.650635</td>\n",
       "      <td>0.884615</td>\n",
       "      <td>0.884615</td>\n",
       "      <td>0.111127</td>\n",
       "      <td>0.114907</td>\n",
       "      <td>0.107348</td>\n",
       "      <td>0.549838</td>\n",
       "      <td>0.602564</td>\n",
       "      <td>0.450162</td>\n",
       "    </tr>\n",
       "    <tr>\n",
       "      <th>424942</th>\n",
       "      <td>fffc1b4f08e81c</td>\n",
       "      <td>ffc27279</td>\n",
       "      <td>fffc1b4f08e81c\\tffc27279</td>\n",
       "      <td>markdown</td>\n",
       "      <td>0</td>\n",
       "      <td>0.012821</td>\n",
       "      <td>1</td>\n",
       "      <td>0.0</td>\n",
       "      <td>38</td>\n",
       "      <td>2</td>\n",
       "      <td>...</td>\n",
       "      <td>0.076923</td>\n",
       "      <td>0.602571</td>\n",
       "      <td>0.987179</td>\n",
       "      <td>0.987179</td>\n",
       "      <td>0.314402</td>\n",
       "      <td>0.288681</td>\n",
       "      <td>0.340123</td>\n",
       "      <td>0.618714</td>\n",
       "      <td>0.602564</td>\n",
       "      <td>0.381286</td>\n",
       "    </tr>\n",
       "  </tbody>\n",
       "</table>\n",
       "<p>424943 rows × 68 columns</p>\n",
       "</div>"
      ],
      "text/plain": [
       "                    id   cell_id                       cid cell_type  rank  \\\n",
       "0       0002115f48f982  9ec225f0  0002115f48f982\\t9ec225f0  markdown     0   \n",
       "1       00062ab8487156  96c8449c  00062ab8487156\\t96c8449c  markdown    11   \n",
       "2       00062ab8487156  aa354742  00062ab8487156\\taa354742  markdown     5   \n",
       "3       000efd285fb982  14f36391  000efd285fb982\\t14f36391  markdown    56   \n",
       "4       000efd285fb982  1f3749ad  000efd285fb982\\t1f3749ad  markdown    24   \n",
       "...                ...       ...                       ...       ...   ...   \n",
       "424938  fff4714a37cf49  9527a079  fff4714a37cf49\\t9527a079  markdown    10   \n",
       "424939  fff4714a37cf49  effc5f17  fff4714a37cf49\\teffc5f17  markdown     6   \n",
       "424940  fff4714a37cf49  f8744de1  fff4714a37cf49\\tf8744de1  markdown    17   \n",
       "424941  fffc1b4f08e81c  143cccfb  fffc1b4f08e81c\\t143cccfb  markdown    29   \n",
       "424942  fffc1b4f08e81c  ffc27279  fffc1b4f08e81c\\tffc27279  markdown     0   \n",
       "\n",
       "        rel_rank  context_match  match_code  n_code_cell  n_markdown_cell  \\\n",
       "0       0.055556              1         0.0            8                1   \n",
       "1       0.954545              1        10.0           10                2   \n",
       "2       0.500000              1         5.0           10                2   \n",
       "3       0.881579              1        33.0           37               28   \n",
       "4       0.335526              1        12.0           37               28   \n",
       "...          ...            ...         ...          ...              ...   \n",
       "424938  0.500000              1         6.0           12                9   \n",
       "424939  0.346154              1         4.0           12                9   \n",
       "424940  0.807692              1        10.0           12                9   \n",
       "424941  0.730769              1        28.0           38                2   \n",
       "424942  0.012821              1         0.0           38                2   \n",
       "\n",
       "        ...  pred_diff10  rule_pred   p2_pred   pred_p2 pred_diff11  \\\n",
       "0       ...     0.333333   0.055556  0.055556  0.055556    0.004312   \n",
       "1       ...     0.181818   0.954545  0.954545  0.954545    0.007774   \n",
       "2       ...     0.272727   0.499997  0.500000  0.500000    0.034678   \n",
       "3       ...     0.026316   0.907890  0.881579  0.881579    0.018504   \n",
       "4       ...     0.026316   0.328948  0.328947  0.328947    0.006796   \n",
       "...     ...          ...        ...       ...       ...         ...   \n",
       "424938  ...     0.384615   0.499998  0.500000  0.500000    0.022804   \n",
       "424939  ...     0.076923   0.346156  0.346154  0.346154    0.021974   \n",
       "424940  ...     0.307692   0.807693  0.807692  0.807692    0.006795   \n",
       "424941  ...     0.128205   0.650635  0.884615  0.884615    0.111127   \n",
       "424942  ...     0.076923   0.602571  0.987179  0.987179    0.314402   \n",
       "\n",
       "        pred_diff12  pred_diff13  p2_max_prob   p2_top2  p2_top2_prob  \n",
       "0          0.003802     0.004823     0.987270  0.166667      0.012730  \n",
       "1          0.007617     0.023164     0.574132  0.863636      0.425868  \n",
       "2          0.023598     0.045759     0.955423  0.409091      0.044577  \n",
       "3          0.014635     0.022374     0.979487  0.907895      0.020513  \n",
       "4          0.006120     0.007471     0.910752  0.276316      0.089248  \n",
       "...             ...          ...          ...       ...           ...  \n",
       "424938     0.020201     0.025407     0.996183  0.576923      0.003817  \n",
       "424939     0.001143     0.045092     0.810956  0.576923      0.189044  \n",
       "424940     0.012041     0.001549     0.976145  0.115385      0.023855  \n",
       "424941     0.114907     0.107348     0.549838  0.602564      0.450162  \n",
       "424942     0.288681     0.340123     0.618714  0.602564      0.381286  \n",
       "\n",
       "[424943 rows x 68 columns]"
      ]
     },
     "execution_count": 215,
     "metadata": {},
     "output_type": "execute_result"
    }
   ],
   "source": [
    "df"
   ]
  },
  {
   "cell_type": "code",
   "execution_count": 228,
   "metadata": {},
   "outputs": [],
   "source": [
    "reg_cols =  [\n",
    "          'n_code_cell',\n",
    "          'n_markdown_cell',\n",
    "          'n_cell',\n",
    "          'cls_pred_c',\n",
    "          'pred_c',\n",
    "          'reg_pred',\n",
    "          'cls2_pred',\n",
    "          'pred_p',\n",
    "          'cls_pred_p',\n",
    "          'rule_pred',\n",
    "          'pred_diff0',\n",
    "          'pred_diff1',\n",
    "          'pred_diff2',\n",
    "          'pred_diff3',\n",
    "          'pred_diff4',\n",
    "          'pred_diff5',\n",
    "          'pred_diff6',\n",
    "          'pred_diff7',\n",
    "          'pred_diff8',\n",
    "          'pred_diff9',\n",
    "          'pred_diff10',\n",
    "          'pred_diff11',\n",
    "          'pred_diff12',\n",
    "          'pred_diff13',\n",
    "          'max_sim',\n",
    "          'max_prob',\n",
    "          'markdown_frac',\n",
    "          'span',\n",
    "          'top2',\n",
    "          'top2_prob',\n",
    "          'top2_sim',\n",
    "          'top3',\n",
    "          'top3_prob',\n",
    "          'top3_sim',\n",
    "          'top4',\n",
    "          'top4_prob',\n",
    "          'top4_sim',\n",
    "          'top5',\n",
    "          'top5_prob',\n",
    "          'top5_sim',\n",
    "          'ctop_prob', \n",
    "          'ctop2', \n",
    "          'ctop3', \n",
    "          'ctop4', \n",
    "          'ctop2_prob', \n",
    "          'ctop3_prob', \n",
    "          'ctop4_prob',\n",
    "          'pred_p2',\n",
    "          'p2_max_prob',\n",
    "          'p2_top2',\n",
    "          'p2_top2_prob',\n",
    "        ]\n",
    "# for i in range(FLAGS.num_classes):\n",
    "#   reg_cols += [f'cls_pred{i}']\n",
    "cat_cols = [\n",
    "          \n",
    "            ]\n",
    "label_col = 'rel_rank'\n",
    "cols = reg_cols + cat_cols\n",
    "X_train = dtrain[cols]\n",
    "y_train = dtrain[label_col]\n",
    "X_valid = dvalid[cols]\n",
    "y_valid = dvalid[label_col]"
   ]
  },
  {
   "cell_type": "code",
   "execution_count": 229,
   "metadata": {},
   "outputs": [],
   "source": [
    "from catboost import CatBoostRegressor\n",
    "xgb_params = {'learning_rate': 0.02,\n",
    "              'reg_lambda': 7.960622217848342e-07, \n",
    "              'subsample': 0.7422597612762745,\n",
    "              # 'bagging_temperature': 0.2,\n",
    "              'max_depth': 10, \n",
    "              'early_stopping_rounds': 500,\n",
    "              'n_estimators': 10000,\n",
    "              'cat_features': [],\n",
    "              'loss_function': 'MAE',\n",
    "              }\n",
    "\n",
    "xgb_params2 = {'learning_rate': 0.09827605967564293,'tree_method':'gpu_hist', 'gpu_id':0,\n",
    "               'early_stopping_rounds': 50,\n",
    "               'n_estimators': 10000, }"
   ]
  },
  {
   "cell_type": "code",
   "execution_count": 230,
   "metadata": {},
   "outputs": [
    {
     "name": "stdout",
     "output_type": "stream",
     "text": [
      "0:\tlearn: 0.2544626\ttest: 0.2544626\ttest1: 0.2543977\tbest: 0.2543977 (0)\ttotal: 75ms\tremaining: 12m 29s\n",
      "10:\tlearn: 0.2165621\ttest: 0.2165621\ttest1: 0.2166725\tbest: 0.2166725 (10)\ttotal: 782ms\tremaining: 11m 50s\n",
      "20:\tlearn: 0.1859191\ttest: 0.1859191\ttest1: 0.1862222\tbest: 0.1862222 (20)\ttotal: 1.57s\tremaining: 12m 27s\n",
      "30:\tlearn: 0.1614132\ttest: 0.1614132\ttest1: 0.1618599\tbest: 0.1618599 (30)\ttotal: 2.45s\tremaining: 13m 6s\n",
      "40:\tlearn: 0.1416753\ttest: 0.1416753\ttest1: 0.1422601\tbest: 0.1422601 (40)\ttotal: 3.22s\tremaining: 13m 1s\n",
      "50:\tlearn: 0.1257358\ttest: 0.1257358\ttest1: 0.1264670\tbest: 0.1264670 (50)\ttotal: 4.05s\tremaining: 13m 9s\n",
      "60:\tlearn: 0.1131679\ttest: 0.1131679\ttest1: 0.1140440\tbest: 0.1140440 (60)\ttotal: 4.91s\tremaining: 13m 19s\n",
      "70:\tlearn: 0.1031169\ttest: 0.1031169\ttest1: 0.1041295\tbest: 0.1041295 (70)\ttotal: 5.7s\tremaining: 13m 17s\n",
      "80:\tlearn: 0.0951087\ttest: 0.0951087\ttest1: 0.0962393\tbest: 0.0962393 (80)\ttotal: 6.46s\tremaining: 13m 11s\n",
      "90:\tlearn: 0.0887332\ttest: 0.0887332\ttest1: 0.0899592\tbest: 0.0899592 (90)\ttotal: 7.19s\tremaining: 13m 2s\n",
      "100:\tlearn: 0.0837504\ttest: 0.0837504\ttest1: 0.0850497\tbest: 0.0850497 (100)\ttotal: 7.86s\tremaining: 12m 50s\n",
      "110:\tlearn: 0.0797184\ttest: 0.0797184\ttest1: 0.0810780\tbest: 0.0810780 (110)\ttotal: 8.57s\tremaining: 12m 43s\n",
      "120:\tlearn: 0.0765277\ttest: 0.0765277\ttest1: 0.0779551\tbest: 0.0779551 (120)\ttotal: 9.42s\tremaining: 12m 49s\n",
      "130:\tlearn: 0.0739854\ttest: 0.0739854\ttest1: 0.0754689\tbest: 0.0754689 (130)\ttotal: 10.3s\tremaining: 12m 53s\n",
      "140:\tlearn: 0.0719658\ttest: 0.0719658\ttest1: 0.0735017\tbest: 0.0735017 (140)\ttotal: 11s\tremaining: 12m 47s\n",
      "150:\tlearn: 0.0703471\ttest: 0.0703471\ttest1: 0.0719425\tbest: 0.0719425 (150)\ttotal: 11.7s\tremaining: 12m 45s\n",
      "160:\tlearn: 0.0690585\ttest: 0.0690585\ttest1: 0.0706994\tbest: 0.0706994 (160)\ttotal: 12.5s\tremaining: 12m 45s\n",
      "170:\tlearn: 0.0680213\ttest: 0.0680213\ttest1: 0.0697035\tbest: 0.0697035 (170)\ttotal: 13.3s\tremaining: 12m 46s\n",
      "180:\tlearn: 0.0672144\ttest: 0.0672144\ttest1: 0.0689305\tbest: 0.0689305 (180)\ttotal: 14.1s\tremaining: 12m 42s\n",
      "190:\tlearn: 0.0665649\ttest: 0.0665649\ttest1: 0.0683157\tbest: 0.0683157 (190)\ttotal: 14.8s\tremaining: 12m 38s\n",
      "200:\tlearn: 0.0660398\ttest: 0.0660398\ttest1: 0.0678286\tbest: 0.0678286 (200)\ttotal: 15.5s\tremaining: 12m 36s\n",
      "210:\tlearn: 0.0656237\ttest: 0.0656237\ttest1: 0.0674443\tbest: 0.0674443 (210)\ttotal: 16.3s\tremaining: 12m 34s\n",
      "220:\tlearn: 0.0652872\ttest: 0.0652872\ttest1: 0.0671382\tbest: 0.0671382 (220)\ttotal: 16.9s\tremaining: 12m 29s\n",
      "230:\tlearn: 0.0650130\ttest: 0.0650130\ttest1: 0.0668911\tbest: 0.0668911 (230)\ttotal: 17.6s\tremaining: 12m 25s\n",
      "240:\tlearn: 0.0647927\ttest: 0.0647927\ttest1: 0.0666995\tbest: 0.0666995 (240)\ttotal: 18.3s\tremaining: 12m 21s\n",
      "250:\tlearn: 0.0646196\ttest: 0.0646196\ttest1: 0.0665456\tbest: 0.0665456 (250)\ttotal: 19s\tremaining: 12m 18s\n",
      "260:\tlearn: 0.0644693\ttest: 0.0644693\ttest1: 0.0664146\tbest: 0.0664146 (260)\ttotal: 19.7s\tremaining: 12m 16s\n",
      "270:\tlearn: 0.0643277\ttest: 0.0643277\ttest1: 0.0663028\tbest: 0.0663028 (270)\ttotal: 20.6s\tremaining: 12m 19s\n",
      "280:\tlearn: 0.0642046\ttest: 0.0642046\ttest1: 0.0662037\tbest: 0.0662037 (280)\ttotal: 21.3s\tremaining: 12m 17s\n",
      "290:\tlearn: 0.0640950\ttest: 0.0640950\ttest1: 0.0661212\tbest: 0.0661212 (290)\ttotal: 22s\tremaining: 12m 15s\n",
      "300:\tlearn: 0.0639911\ttest: 0.0639911\ttest1: 0.0660434\tbest: 0.0660434 (300)\ttotal: 22.8s\tremaining: 12m 13s\n",
      "310:\tlearn: 0.0638729\ttest: 0.0638729\ttest1: 0.0659544\tbest: 0.0659544 (310)\ttotal: 23.5s\tremaining: 12m 12s\n",
      "320:\tlearn: 0.0637760\ttest: 0.0637760\ttest1: 0.0658917\tbest: 0.0658917 (320)\ttotal: 24.2s\tremaining: 12m 10s\n",
      "330:\tlearn: 0.0636830\ttest: 0.0636830\ttest1: 0.0658301\tbest: 0.0658301 (330)\ttotal: 24.9s\tremaining: 12m 7s\n",
      "340:\tlearn: 0.0636004\ttest: 0.0636004\ttest1: 0.0657791\tbest: 0.0657791 (340)\ttotal: 25.7s\tremaining: 12m 7s\n",
      "350:\tlearn: 0.0635057\ttest: 0.0635057\ttest1: 0.0657294\tbest: 0.0657294 (350)\ttotal: 26.5s\tremaining: 12m 7s\n",
      "360:\tlearn: 0.0634103\ttest: 0.0634103\ttest1: 0.0656765\tbest: 0.0656765 (360)\ttotal: 27.3s\tremaining: 12m 8s\n",
      "370:\tlearn: 0.0633453\ttest: 0.0633453\ttest1: 0.0656313\tbest: 0.0656313 (370)\ttotal: 28.1s\tremaining: 12m 8s\n",
      "380:\tlearn: 0.0632648\ttest: 0.0632648\ttest1: 0.0655827\tbest: 0.0655827 (380)\ttotal: 28.9s\tremaining: 12m 8s\n",
      "390:\tlearn: 0.0631754\ttest: 0.0631754\ttest1: 0.0655270\tbest: 0.0655270 (390)\ttotal: 29.5s\tremaining: 12m 5s\n",
      "400:\tlearn: 0.0630999\ttest: 0.0630999\ttest1: 0.0654766\tbest: 0.0654766 (400)\ttotal: 30.3s\tremaining: 12m 5s\n",
      "410:\tlearn: 0.0630164\ttest: 0.0630164\ttest1: 0.0654239\tbest: 0.0654239 (410)\ttotal: 31.2s\tremaining: 12m 7s\n",
      "420:\tlearn: 0.0629280\ttest: 0.0629280\ttest1: 0.0653806\tbest: 0.0653806 (420)\ttotal: 31.9s\tremaining: 12m 5s\n",
      "430:\tlearn: 0.0628579\ttest: 0.0628579\ttest1: 0.0653482\tbest: 0.0653482 (430)\ttotal: 32.6s\tremaining: 12m 4s\n",
      "440:\tlearn: 0.0627774\ttest: 0.0627774\ttest1: 0.0653054\tbest: 0.0653054 (440)\ttotal: 33.3s\tremaining: 12m 1s\n",
      "450:\tlearn: 0.0626930\ttest: 0.0626930\ttest1: 0.0652514\tbest: 0.0652514 (450)\ttotal: 34s\tremaining: 11m 59s\n",
      "460:\tlearn: 0.0626195\ttest: 0.0626195\ttest1: 0.0652161\tbest: 0.0652161 (460)\ttotal: 34.7s\tremaining: 11m 58s\n",
      "470:\tlearn: 0.0625550\ttest: 0.0625550\ttest1: 0.0651831\tbest: 0.0651831 (470)\ttotal: 35.5s\tremaining: 11m 57s\n",
      "480:\tlearn: 0.0624756\ttest: 0.0624756\ttest1: 0.0651391\tbest: 0.0651391 (480)\ttotal: 36.2s\tremaining: 11m 55s\n",
      "490:\tlearn: 0.0623895\ttest: 0.0623895\ttest1: 0.0650828\tbest: 0.0650828 (490)\ttotal: 37s\tremaining: 11m 55s\n",
      "500:\tlearn: 0.0623257\ttest: 0.0623257\ttest1: 0.0650472\tbest: 0.0650472 (500)\ttotal: 37.8s\tremaining: 11m 56s\n",
      "510:\tlearn: 0.0622685\ttest: 0.0622685\ttest1: 0.0650184\tbest: 0.0650184 (510)\ttotal: 38.6s\tremaining: 11m 56s\n",
      "520:\tlearn: 0.0622050\ttest: 0.0622050\ttest1: 0.0649811\tbest: 0.0649811 (520)\ttotal: 39.4s\tremaining: 11m 55s\n",
      "530:\tlearn: 0.0621289\ttest: 0.0621289\ttest1: 0.0649408\tbest: 0.0649408 (530)\ttotal: 40.1s\tremaining: 11m 55s\n",
      "540:\tlearn: 0.0620738\ttest: 0.0620738\ttest1: 0.0649118\tbest: 0.0649118 (540)\ttotal: 40.9s\tremaining: 11m 54s\n",
      "550:\tlearn: 0.0620202\ttest: 0.0620202\ttest1: 0.0648843\tbest: 0.0648843 (550)\ttotal: 41.6s\tremaining: 11m 53s\n",
      "560:\tlearn: 0.0619608\ttest: 0.0619608\ttest1: 0.0648530\tbest: 0.0648530 (560)\ttotal: 42.3s\tremaining: 11m 52s\n",
      "570:\tlearn: 0.0618969\ttest: 0.0618969\ttest1: 0.0648223\tbest: 0.0648223 (570)\ttotal: 43.1s\tremaining: 11m 51s\n",
      "580:\tlearn: 0.0618373\ttest: 0.0618373\ttest1: 0.0647906\tbest: 0.0647906 (580)\ttotal: 43.9s\tremaining: 11m 52s\n",
      "590:\tlearn: 0.0617869\ttest: 0.0617869\ttest1: 0.0647745\tbest: 0.0647745 (590)\ttotal: 44.6s\tremaining: 11m 50s\n",
      "600:\tlearn: 0.0617194\ttest: 0.0617194\ttest1: 0.0647454\tbest: 0.0647454 (600)\ttotal: 45.3s\tremaining: 11m 48s\n",
      "610:\tlearn: 0.0616682\ttest: 0.0616682\ttest1: 0.0647185\tbest: 0.0647185 (610)\ttotal: 46s\tremaining: 11m 46s\n",
      "620:\tlearn: 0.0616024\ttest: 0.0616024\ttest1: 0.0646879\tbest: 0.0646879 (620)\ttotal: 46.7s\tremaining: 11m 45s\n",
      "630:\tlearn: 0.0615453\ttest: 0.0615453\ttest1: 0.0646551\tbest: 0.0646551 (630)\ttotal: 47.5s\tremaining: 11m 45s\n",
      "640:\tlearn: 0.0615022\ttest: 0.0615022\ttest1: 0.0646332\tbest: 0.0646332 (640)\ttotal: 48.3s\tremaining: 11m 45s\n",
      "650:\tlearn: 0.0614508\ttest: 0.0614508\ttest1: 0.0646031\tbest: 0.0646031 (650)\ttotal: 49s\tremaining: 11m 43s\n",
      "660:\tlearn: 0.0613828\ttest: 0.0613828\ttest1: 0.0645693\tbest: 0.0645693 (660)\ttotal: 49.7s\tremaining: 11m 42s\n",
      "670:\tlearn: 0.0613269\ttest: 0.0613269\ttest1: 0.0645444\tbest: 0.0645444 (670)\ttotal: 50.4s\tremaining: 11m 41s\n",
      "680:\tlearn: 0.0612660\ttest: 0.0612660\ttest1: 0.0645186\tbest: 0.0645186 (680)\ttotal: 51.2s\tremaining: 11m 40s\n",
      "690:\tlearn: 0.0612280\ttest: 0.0612280\ttest1: 0.0644978\tbest: 0.0644978 (690)\ttotal: 51.9s\tremaining: 11m 39s\n",
      "700:\tlearn: 0.0611820\ttest: 0.0611820\ttest1: 0.0644787\tbest: 0.0644787 (700)\ttotal: 52.7s\tremaining: 11m 38s\n",
      "710:\tlearn: 0.0611226\ttest: 0.0611226\ttest1: 0.0644536\tbest: 0.0644536 (710)\ttotal: 53.4s\tremaining: 11m 37s\n",
      "720:\tlearn: 0.0610831\ttest: 0.0610831\ttest1: 0.0644318\tbest: 0.0644318 (720)\ttotal: 54.2s\tremaining: 11m 37s\n",
      "730:\tlearn: 0.0610292\ttest: 0.0610292\ttest1: 0.0644056\tbest: 0.0644056 (730)\ttotal: 55.1s\tremaining: 11m 38s\n",
      "740:\tlearn: 0.0609725\ttest: 0.0609725\ttest1: 0.0643778\tbest: 0.0643778 (740)\ttotal: 55.8s\tremaining: 11m 37s\n",
      "750:\tlearn: 0.0609254\ttest: 0.0609254\ttest1: 0.0643570\tbest: 0.0643570 (750)\ttotal: 56.6s\tremaining: 11m 37s\n",
      "760:\tlearn: 0.0608793\ttest: 0.0608793\ttest1: 0.0643363\tbest: 0.0643363 (760)\ttotal: 57.4s\tremaining: 11m 36s\n",
      "770:\tlearn: 0.0608408\ttest: 0.0608408\ttest1: 0.0643215\tbest: 0.0643215 (770)\ttotal: 58.2s\tremaining: 11m 37s\n",
      "780:\tlearn: 0.0607995\ttest: 0.0607995\ttest1: 0.0643032\tbest: 0.0643032 (780)\ttotal: 59s\tremaining: 11m 36s\n",
      "790:\tlearn: 0.0607504\ttest: 0.0607504\ttest1: 0.0642854\tbest: 0.0642851 (789)\ttotal: 60s\tremaining: 11m 38s\n",
      "800:\tlearn: 0.0607037\ttest: 0.0607037\ttest1: 0.0642672\tbest: 0.0642672 (800)\ttotal: 1m\tremaining: 11m 39s\n",
      "810:\tlearn: 0.0606470\ttest: 0.0606470\ttest1: 0.0642408\tbest: 0.0642408 (810)\ttotal: 1m 1s\tremaining: 11m 37s\n",
      "820:\tlearn: 0.0606038\ttest: 0.0606038\ttest1: 0.0642211\tbest: 0.0642211 (820)\ttotal: 1m 2s\tremaining: 11m 38s\n",
      "830:\tlearn: 0.0605597\ttest: 0.0605597\ttest1: 0.0642021\tbest: 0.0642021 (830)\ttotal: 1m 3s\tremaining: 11m 39s\n",
      "840:\tlearn: 0.0605252\ttest: 0.0605252\ttest1: 0.0641919\tbest: 0.0641919 (840)\ttotal: 1m 4s\tremaining: 11m 37s\n",
      "850:\tlearn: 0.0604807\ttest: 0.0604807\ttest1: 0.0641778\tbest: 0.0641778 (850)\ttotal: 1m 5s\tremaining: 11m 38s\n",
      "860:\tlearn: 0.0604512\ttest: 0.0604512\ttest1: 0.0641667\tbest: 0.0641667 (860)\ttotal: 1m 5s\tremaining: 11m 38s\n",
      "870:\tlearn: 0.0604077\ttest: 0.0604077\ttest1: 0.0641492\tbest: 0.0641492 (870)\ttotal: 1m 6s\tremaining: 11m 38s\n",
      "880:\tlearn: 0.0603698\ttest: 0.0603698\ttest1: 0.0641308\tbest: 0.0641308 (880)\ttotal: 1m 7s\tremaining: 11m 37s\n",
      "890:\tlearn: 0.0603311\ttest: 0.0603311\ttest1: 0.0641104\tbest: 0.0641104 (890)\ttotal: 1m 8s\tremaining: 11m 37s\n",
      "900:\tlearn: 0.0602867\ttest: 0.0602867\ttest1: 0.0640903\tbest: 0.0640903 (900)\ttotal: 1m 9s\tremaining: 11m 37s\n",
      "910:\tlearn: 0.0602524\ttest: 0.0602524\ttest1: 0.0640751\tbest: 0.0640751 (910)\ttotal: 1m 9s\tremaining: 11m 37s\n",
      "920:\tlearn: 0.0602206\ttest: 0.0602206\ttest1: 0.0640637\tbest: 0.0640637 (920)\ttotal: 1m 10s\tremaining: 11m 35s\n",
      "930:\tlearn: 0.0601883\ttest: 0.0601883\ttest1: 0.0640483\tbest: 0.0640483 (930)\ttotal: 1m 11s\tremaining: 11m 33s\n",
      "940:\tlearn: 0.0601655\ttest: 0.0601655\ttest1: 0.0640402\tbest: 0.0640402 (940)\ttotal: 1m 11s\tremaining: 11m 33s\n",
      "950:\tlearn: 0.0601395\ttest: 0.0601395\ttest1: 0.0640310\tbest: 0.0640310 (950)\ttotal: 1m 12s\tremaining: 11m 33s\n",
      "960:\tlearn: 0.0601109\ttest: 0.0601109\ttest1: 0.0640184\tbest: 0.0640184 (960)\ttotal: 1m 13s\tremaining: 11m 31s\n",
      "970:\tlearn: 0.0600837\ttest: 0.0600837\ttest1: 0.0640107\tbest: 0.0640107 (970)\ttotal: 1m 14s\tremaining: 11m 30s\n",
      "980:\tlearn: 0.0600580\ttest: 0.0600580\ttest1: 0.0640031\tbest: 0.0640031 (980)\ttotal: 1m 15s\tremaining: 11m 30s\n",
      "990:\tlearn: 0.0600273\ttest: 0.0600273\ttest1: 0.0639917\tbest: 0.0639917 (990)\ttotal: 1m 15s\tremaining: 11m 29s\n",
      "1000:\tlearn: 0.0600127\ttest: 0.0600127\ttest1: 0.0639836\tbest: 0.0639836 (1000)\ttotal: 1m 16s\tremaining: 11m 28s\n",
      "1010:\tlearn: 0.0599833\ttest: 0.0599833\ttest1: 0.0639764\tbest: 0.0639764 (1010)\ttotal: 1m 17s\tremaining: 11m 27s\n",
      "1020:\tlearn: 0.0599480\ttest: 0.0599480\ttest1: 0.0639640\tbest: 0.0639640 (1020)\ttotal: 1m 18s\tremaining: 11m 27s\n",
      "1030:\tlearn: 0.0599225\ttest: 0.0599225\ttest1: 0.0639567\tbest: 0.0639567 (1030)\ttotal: 1m 18s\tremaining: 11m 27s\n",
      "1040:\tlearn: 0.0598935\ttest: 0.0598935\ttest1: 0.0639458\tbest: 0.0639458 (1040)\ttotal: 1m 19s\tremaining: 11m 27s\n",
      "1050:\tlearn: 0.0598612\ttest: 0.0598612\ttest1: 0.0639381\tbest: 0.0639381 (1050)\ttotal: 1m 20s\tremaining: 11m 26s\n",
      "1060:\tlearn: 0.0598297\ttest: 0.0598297\ttest1: 0.0639309\tbest: 0.0639309 (1060)\ttotal: 1m 21s\tremaining: 11m 26s\n",
      "1070:\tlearn: 0.0597999\ttest: 0.0597999\ttest1: 0.0639214\tbest: 0.0639214 (1070)\ttotal: 1m 22s\tremaining: 11m 25s\n",
      "1080:\tlearn: 0.0597577\ttest: 0.0597577\ttest1: 0.0639133\tbest: 0.0639133 (1080)\ttotal: 1m 22s\tremaining: 11m 24s\n",
      "1090:\tlearn: 0.0597265\ttest: 0.0597265\ttest1: 0.0639057\tbest: 0.0639055 (1089)\ttotal: 1m 23s\tremaining: 11m 23s\n",
      "1100:\tlearn: 0.0597010\ttest: 0.0597010\ttest1: 0.0639016\tbest: 0.0639016 (1100)\ttotal: 1m 24s\tremaining: 11m 23s\n",
      "1110:\tlearn: 0.0596576\ttest: 0.0596576\ttest1: 0.0638882\tbest: 0.0638882 (1110)\ttotal: 1m 25s\tremaining: 11m 23s\n",
      "1120:\tlearn: 0.0596223\ttest: 0.0596223\ttest1: 0.0638806\tbest: 0.0638806 (1120)\ttotal: 1m 26s\tremaining: 11m 23s\n",
      "1130:\tlearn: 0.0595854\ttest: 0.0595854\ttest1: 0.0638717\tbest: 0.0638717 (1130)\ttotal: 1m 27s\tremaining: 11m 22s\n",
      "1140:\tlearn: 0.0595500\ttest: 0.0595500\ttest1: 0.0638694\tbest: 0.0638694 (1140)\ttotal: 1m 27s\tremaining: 11m 22s\n",
      "1150:\tlearn: 0.0595296\ttest: 0.0595296\ttest1: 0.0638629\tbest: 0.0638629 (1150)\ttotal: 1m 28s\tremaining: 11m 22s\n",
      "1160:\tlearn: 0.0594903\ttest: 0.0594903\ttest1: 0.0638555\tbest: 0.0638555 (1160)\ttotal: 1m 29s\tremaining: 11m 22s\n",
      "1170:\tlearn: 0.0594508\ttest: 0.0594508\ttest1: 0.0638445\tbest: 0.0638445 (1170)\ttotal: 1m 30s\tremaining: 11m 22s\n",
      "1180:\tlearn: 0.0594106\ttest: 0.0594106\ttest1: 0.0638326\tbest: 0.0638326 (1180)\ttotal: 1m 31s\tremaining: 11m 21s\n",
      "1190:\tlearn: 0.0593760\ttest: 0.0593760\ttest1: 0.0638239\tbest: 0.0638239 (1190)\ttotal: 1m 32s\tremaining: 11m 20s\n",
      "1200:\tlearn: 0.0593488\ttest: 0.0593488\ttest1: 0.0638182\tbest: 0.0638182 (1200)\ttotal: 1m 32s\tremaining: 11m 20s\n",
      "1210:\tlearn: 0.0593130\ttest: 0.0593130\ttest1: 0.0638109\tbest: 0.0638109 (1210)\ttotal: 1m 33s\tremaining: 11m 20s\n",
      "1220:\tlearn: 0.0592967\ttest: 0.0592967\ttest1: 0.0638072\tbest: 0.0638072 (1220)\ttotal: 1m 34s\tremaining: 11m 19s\n",
      "1230:\tlearn: 0.0592693\ttest: 0.0592693\ttest1: 0.0638031\tbest: 0.0638031 (1230)\ttotal: 1m 35s\tremaining: 11m 19s\n",
      "1240:\tlearn: 0.0592415\ttest: 0.0592415\ttest1: 0.0637995\tbest: 0.0637995 (1240)\ttotal: 1m 36s\tremaining: 11m 18s\n",
      "1250:\tlearn: 0.0592155\ttest: 0.0592155\ttest1: 0.0637933\tbest: 0.0637933 (1250)\ttotal: 1m 36s\tremaining: 11m 17s\n",
      "1260:\tlearn: 0.0591874\ttest: 0.0591874\ttest1: 0.0637831\tbest: 0.0637831 (1260)\ttotal: 1m 37s\tremaining: 11m 16s\n",
      "1270:\tlearn: 0.0591582\ttest: 0.0591582\ttest1: 0.0637772\tbest: 0.0637772 (1270)\ttotal: 1m 38s\tremaining: 11m 15s\n",
      "1280:\tlearn: 0.0591271\ttest: 0.0591271\ttest1: 0.0637682\tbest: 0.0637682 (1280)\ttotal: 1m 39s\tremaining: 11m 14s\n",
      "1290:\tlearn: 0.0591000\ttest: 0.0591000\ttest1: 0.0637614\tbest: 0.0637614 (1290)\ttotal: 1m 39s\tremaining: 11m 13s\n",
      "1300:\tlearn: 0.0590747\ttest: 0.0590747\ttest1: 0.0637558\tbest: 0.0637558 (1300)\ttotal: 1m 40s\tremaining: 11m 12s\n",
      "1310:\tlearn: 0.0590474\ttest: 0.0590474\ttest1: 0.0637529\tbest: 0.0637508 (1307)\ttotal: 1m 41s\tremaining: 11m 11s\n",
      "1320:\tlearn: 0.0590175\ttest: 0.0590175\ttest1: 0.0637458\tbest: 0.0637458 (1320)\ttotal: 1m 42s\tremaining: 11m 10s\n",
      "1330:\tlearn: 0.0589860\ttest: 0.0589860\ttest1: 0.0637386\tbest: 0.0637386 (1330)\ttotal: 1m 42s\tremaining: 11m 10s\n",
      "1340:\tlearn: 0.0589535\ttest: 0.0589535\ttest1: 0.0637355\tbest: 0.0637355 (1340)\ttotal: 1m 43s\tremaining: 11m 8s\n",
      "1350:\tlearn: 0.0589217\ttest: 0.0589217\ttest1: 0.0637334\tbest: 0.0637333 (1348)\ttotal: 1m 44s\tremaining: 11m 8s\n",
      "1360:\tlearn: 0.0589015\ttest: 0.0589015\ttest1: 0.0637267\tbest: 0.0637267 (1360)\ttotal: 1m 45s\tremaining: 11m 6s\n",
      "1370:\tlearn: 0.0588782\ttest: 0.0588782\ttest1: 0.0637227\tbest: 0.0637227 (1370)\ttotal: 1m 45s\tremaining: 11m 5s\n",
      "1380:\tlearn: 0.0588617\ttest: 0.0588617\ttest1: 0.0637201\tbest: 0.0637201 (1380)\ttotal: 1m 46s\tremaining: 11m 5s\n",
      "1390:\tlearn: 0.0588364\ttest: 0.0588364\ttest1: 0.0637143\tbest: 0.0637143 (1390)\ttotal: 1m 47s\tremaining: 11m 4s\n",
      "1400:\tlearn: 0.0588211\ttest: 0.0588211\ttest1: 0.0637090\tbest: 0.0637090 (1400)\ttotal: 1m 48s\tremaining: 11m 4s\n",
      "1410:\tlearn: 0.0587887\ttest: 0.0587887\ttest1: 0.0637062\tbest: 0.0637048 (1409)\ttotal: 1m 49s\tremaining: 11m 3s\n",
      "1420:\tlearn: 0.0587718\ttest: 0.0587718\ttest1: 0.0637017\tbest: 0.0637017 (1420)\ttotal: 1m 49s\tremaining: 11m 2s\n",
      "1430:\tlearn: 0.0587521\ttest: 0.0587521\ttest1: 0.0636963\tbest: 0.0636963 (1430)\ttotal: 1m 50s\tremaining: 11m 2s\n",
      "1440:\tlearn: 0.0587252\ttest: 0.0587252\ttest1: 0.0636904\tbest: 0.0636904 (1440)\ttotal: 1m 51s\tremaining: 11m 1s\n",
      "1450:\tlearn: 0.0587025\ttest: 0.0587025\ttest1: 0.0636872\tbest: 0.0636866 (1448)\ttotal: 1m 52s\tremaining: 11m\n",
      "1460:\tlearn: 0.0586712\ttest: 0.0586712\ttest1: 0.0636818\tbest: 0.0636818 (1460)\ttotal: 1m 52s\tremaining: 10m 59s\n",
      "1470:\tlearn: 0.0586582\ttest: 0.0586582\ttest1: 0.0636804\tbest: 0.0636804 (1470)\ttotal: 1m 53s\tremaining: 10m 58s\n",
      "1480:\tlearn: 0.0586246\ttest: 0.0586246\ttest1: 0.0636731\tbest: 0.0636729 (1479)\ttotal: 1m 54s\tremaining: 10m 57s\n",
      "1490:\tlearn: 0.0585898\ttest: 0.0585898\ttest1: 0.0636668\tbest: 0.0636668 (1490)\ttotal: 1m 55s\tremaining: 10m 56s\n",
      "1500:\tlearn: 0.0585698\ttest: 0.0585698\ttest1: 0.0636613\tbest: 0.0636613 (1500)\ttotal: 1m 55s\tremaining: 10m 55s\n",
      "1510:\tlearn: 0.0585441\ttest: 0.0585441\ttest1: 0.0636587\tbest: 0.0636583 (1504)\ttotal: 1m 56s\tremaining: 10m 54s\n",
      "1520:\tlearn: 0.0585266\ttest: 0.0585266\ttest1: 0.0636542\tbest: 0.0636542 (1520)\ttotal: 1m 57s\tremaining: 10m 53s\n",
      "1530:\tlearn: 0.0585087\ttest: 0.0585087\ttest1: 0.0636572\tbest: 0.0636537 (1524)\ttotal: 1m 57s\tremaining: 10m 52s\n",
      "1540:\tlearn: 0.0584815\ttest: 0.0584815\ttest1: 0.0636554\tbest: 0.0636537 (1524)\ttotal: 1m 58s\tremaining: 10m 51s\n",
      "1550:\tlearn: 0.0584571\ttest: 0.0584571\ttest1: 0.0636533\tbest: 0.0636528 (1547)\ttotal: 1m 59s\tremaining: 10m 51s\n",
      "1560:\tlearn: 0.0584350\ttest: 0.0584350\ttest1: 0.0636481\tbest: 0.0636481 (1560)\ttotal: 2m\tremaining: 10m 51s\n",
      "1570:\tlearn: 0.0584121\ttest: 0.0584121\ttest1: 0.0636440\tbest: 0.0636435 (1568)\ttotal: 2m 1s\tremaining: 10m 50s\n",
      "1580:\tlearn: 0.0583886\ttest: 0.0583886\ttest1: 0.0636418\tbest: 0.0636418 (1580)\ttotal: 2m 2s\tremaining: 10m 49s\n",
      "1590:\tlearn: 0.0583669\ttest: 0.0583669\ttest1: 0.0636422\tbest: 0.0636405 (1583)\ttotal: 2m 2s\tremaining: 10m 49s\n",
      "1600:\tlearn: 0.0583486\ttest: 0.0583486\ttest1: 0.0636466\tbest: 0.0636405 (1583)\ttotal: 2m 3s\tremaining: 10m 48s\n",
      "1610:\tlearn: 0.0583335\ttest: 0.0583335\ttest1: 0.0636530\tbest: 0.0636405 (1583)\ttotal: 2m 4s\tremaining: 10m 47s\n",
      "1620:\tlearn: 0.0583153\ttest: 0.0583153\ttest1: 0.0636465\tbest: 0.0636405 (1583)\ttotal: 2m 5s\tremaining: 10m 46s\n",
      "1630:\tlearn: 0.0582923\ttest: 0.0582923\ttest1: 0.0636448\tbest: 0.0636405 (1583)\ttotal: 2m 5s\tremaining: 10m 46s\n",
      "1640:\tlearn: 0.0582695\ttest: 0.0582695\ttest1: 0.0636428\tbest: 0.0636405 (1583)\ttotal: 2m 6s\tremaining: 10m 45s\n",
      "1650:\tlearn: 0.0582384\ttest: 0.0582384\ttest1: 0.0636400\tbest: 0.0636400 (1650)\ttotal: 2m 7s\tremaining: 10m 45s\n",
      "1660:\tlearn: 0.0582022\ttest: 0.0582022\ttest1: 0.0636345\tbest: 0.0636345 (1660)\ttotal: 2m 8s\tremaining: 10m 45s\n",
      "1670:\tlearn: 0.0581658\ttest: 0.0581658\ttest1: 0.0636297\tbest: 0.0636297 (1670)\ttotal: 2m 9s\tremaining: 10m 45s\n",
      "1680:\tlearn: 0.0581411\ttest: 0.0581411\ttest1: 0.0636281\tbest: 0.0636281 (1680)\ttotal: 2m 10s\tremaining: 10m 44s\n",
      "1690:\tlearn: 0.0581073\ttest: 0.0581073\ttest1: 0.0636263\tbest: 0.0636258 (1689)\ttotal: 2m 11s\tremaining: 10m 44s\n",
      "1700:\tlearn: 0.0580721\ttest: 0.0580721\ttest1: 0.0636281\tbest: 0.0636258 (1689)\ttotal: 2m 11s\tremaining: 10m 43s\n",
      "1710:\tlearn: 0.0580474\ttest: 0.0580474\ttest1: 0.0636285\tbest: 0.0636258 (1689)\ttotal: 2m 12s\tremaining: 10m 43s\n",
      "1720:\tlearn: 0.0580174\ttest: 0.0580174\ttest1: 0.0636305\tbest: 0.0636258 (1689)\ttotal: 2m 13s\tremaining: 10m 43s\n",
      "1730:\tlearn: 0.0580022\ttest: 0.0580022\ttest1: 0.0636352\tbest: 0.0636258 (1689)\ttotal: 2m 14s\tremaining: 10m 42s\n",
      "1740:\tlearn: 0.0579894\ttest: 0.0579894\ttest1: 0.0636347\tbest: 0.0636258 (1689)\ttotal: 2m 15s\tremaining: 10m 42s\n",
      "1750:\tlearn: 0.0579676\ttest: 0.0579676\ttest1: 0.0636345\tbest: 0.0636258 (1689)\ttotal: 2m 16s\tremaining: 10m 41s\n",
      "1760:\tlearn: 0.0579451\ttest: 0.0579451\ttest1: 0.0636353\tbest: 0.0636258 (1689)\ttotal: 2m 16s\tremaining: 10m 40s\n",
      "1770:\tlearn: 0.0579341\ttest: 0.0579341\ttest1: 0.0636352\tbest: 0.0636258 (1689)\ttotal: 2m 17s\tremaining: 10m 39s\n",
      "1780:\tlearn: 0.0579182\ttest: 0.0579182\ttest1: 0.0636328\tbest: 0.0636258 (1689)\ttotal: 2m 18s\tremaining: 10m 38s\n",
      "1790:\tlearn: 0.0579043\ttest: 0.0579043\ttest1: 0.0636328\tbest: 0.0636258 (1689)\ttotal: 2m 19s\tremaining: 10m 38s\n",
      "1800:\tlearn: 0.0578959\ttest: 0.0578959\ttest1: 0.0636314\tbest: 0.0636258 (1689)\ttotal: 2m 20s\tremaining: 10m 37s\n",
      "1810:\tlearn: 0.0578741\ttest: 0.0578741\ttest1: 0.0636348\tbest: 0.0636258 (1689)\ttotal: 2m 20s\tremaining: 10m 36s\n",
      "1820:\tlearn: 0.0578597\ttest: 0.0578597\ttest1: 0.0636312\tbest: 0.0636258 (1689)\ttotal: 2m 21s\tremaining: 10m 35s\n",
      "1830:\tlearn: 0.0578448\ttest: 0.0578448\ttest1: 0.0636281\tbest: 0.0636258 (1689)\ttotal: 2m 22s\tremaining: 10m 35s\n",
      "1840:\tlearn: 0.0578338\ttest: 0.0578338\ttest1: 0.0636264\tbest: 0.0636258 (1689)\ttotal: 2m 23s\tremaining: 10m 34s\n",
      "1850:\tlearn: 0.0578191\ttest: 0.0578191\ttest1: 0.0636253\tbest: 0.0636239 (1844)\ttotal: 2m 23s\tremaining: 10m 33s\n",
      "1860:\tlearn: 0.0578100\ttest: 0.0578100\ttest1: 0.0636247\tbest: 0.0636239 (1844)\ttotal: 2m 24s\tremaining: 10m 33s\n",
      "1870:\tlearn: 0.0577988\ttest: 0.0577988\ttest1: 0.0636205\tbest: 0.0636205 (1869)\ttotal: 2m 25s\tremaining: 10m 32s\n",
      "1880:\tlearn: 0.0577934\ttest: 0.0577934\ttest1: 0.0636198\tbest: 0.0636198 (1880)\ttotal: 2m 26s\tremaining: 10m 31s\n",
      "1890:\tlearn: 0.0577781\ttest: 0.0577781\ttest1: 0.0636185\tbest: 0.0636185 (1890)\ttotal: 2m 27s\tremaining: 10m 30s\n",
      "1900:\tlearn: 0.0577615\ttest: 0.0577615\ttest1: 0.0636155\tbest: 0.0636155 (1900)\ttotal: 2m 27s\tremaining: 10m 30s\n",
      "1910:\tlearn: 0.0577450\ttest: 0.0577450\ttest1: 0.0636161\tbest: 0.0636133 (1901)\ttotal: 2m 28s\tremaining: 10m 29s\n",
      "1920:\tlearn: 0.0577266\ttest: 0.0577266\ttest1: 0.0636158\tbest: 0.0636133 (1901)\ttotal: 2m 29s\tremaining: 10m 29s\n",
      "1930:\tlearn: 0.0577061\ttest: 0.0577061\ttest1: 0.0636131\tbest: 0.0636131 (1930)\ttotal: 2m 30s\tremaining: 10m 29s\n",
      "1940:\tlearn: 0.0576876\ttest: 0.0576876\ttest1: 0.0636125\tbest: 0.0636120 (1939)\ttotal: 2m 31s\tremaining: 10m 28s\n",
      "1950:\tlearn: 0.0576726\ttest: 0.0576726\ttest1: 0.0636113\tbest: 0.0636113 (1950)\ttotal: 2m 32s\tremaining: 10m 27s\n",
      "1960:\tlearn: 0.0576416\ttest: 0.0576416\ttest1: 0.0636079\tbest: 0.0636079 (1960)\ttotal: 2m 32s\tremaining: 10m 26s\n",
      "1970:\tlearn: 0.0576222\ttest: 0.0576222\ttest1: 0.0636085\tbest: 0.0636071 (1966)\ttotal: 2m 33s\tremaining: 10m 25s\n",
      "1980:\tlearn: 0.0576039\ttest: 0.0576039\ttest1: 0.0636067\tbest: 0.0636067 (1980)\ttotal: 2m 34s\tremaining: 10m 24s\n",
      "1990:\tlearn: 0.0575826\ttest: 0.0575826\ttest1: 0.0636034\tbest: 0.0636034 (1990)\ttotal: 2m 35s\tremaining: 10m 24s\n",
      "2000:\tlearn: 0.0575620\ttest: 0.0575620\ttest1: 0.0636038\tbest: 0.0636032 (1991)\ttotal: 2m 36s\tremaining: 10m 23s\n",
      "2010:\tlearn: 0.0575326\ttest: 0.0575326\ttest1: 0.0636043\tbest: 0.0636025 (2005)\ttotal: 2m 36s\tremaining: 10m 22s\n",
      "2020:\tlearn: 0.0575101\ttest: 0.0575101\ttest1: 0.0636037\tbest: 0.0636025 (2005)\ttotal: 2m 37s\tremaining: 10m 22s\n",
      "2030:\tlearn: 0.0574938\ttest: 0.0574938\ttest1: 0.0636101\tbest: 0.0636008 (2026)\ttotal: 2m 38s\tremaining: 10m 21s\n",
      "2040:\tlearn: 0.0574750\ttest: 0.0574750\ttest1: 0.0636122\tbest: 0.0636008 (2026)\ttotal: 2m 39s\tremaining: 10m 20s\n",
      "2050:\tlearn: 0.0574525\ttest: 0.0574525\ttest1: 0.0636165\tbest: 0.0636008 (2026)\ttotal: 2m 39s\tremaining: 10m 19s\n",
      "2060:\tlearn: 0.0574260\ttest: 0.0574260\ttest1: 0.0636143\tbest: 0.0636008 (2026)\ttotal: 2m 40s\tremaining: 10m 18s\n",
      "2070:\tlearn: 0.0574049\ttest: 0.0574049\ttest1: 0.0636141\tbest: 0.0636008 (2026)\ttotal: 2m 41s\tremaining: 10m 18s\n",
      "2080:\tlearn: 0.0573786\ttest: 0.0573786\ttest1: 0.0636096\tbest: 0.0636008 (2026)\ttotal: 2m 42s\tremaining: 10m 17s\n",
      "2090:\tlearn: 0.0573634\ttest: 0.0573634\ttest1: 0.0636113\tbest: 0.0636008 (2026)\ttotal: 2m 43s\tremaining: 10m 16s\n",
      "2100:\tlearn: 0.0573445\ttest: 0.0573445\ttest1: 0.0636120\tbest: 0.0636008 (2026)\ttotal: 2m 43s\tremaining: 10m 15s\n",
      "2110:\tlearn: 0.0573274\ttest: 0.0573274\ttest1: 0.0636099\tbest: 0.0636008 (2026)\ttotal: 2m 44s\tremaining: 10m 14s\n",
      "2120:\tlearn: 0.0573070\ttest: 0.0573070\ttest1: 0.0636073\tbest: 0.0636008 (2026)\ttotal: 2m 45s\tremaining: 10m 13s\n",
      "2130:\tlearn: 0.0572889\ttest: 0.0572889\ttest1: 0.0636062\tbest: 0.0636008 (2026)\ttotal: 2m 45s\tremaining: 10m 12s\n",
      "2140:\tlearn: 0.0572678\ttest: 0.0572678\ttest1: 0.0636034\tbest: 0.0636008 (2026)\ttotal: 2m 46s\tremaining: 10m 11s\n",
      "2150:\tlearn: 0.0572544\ttest: 0.0572544\ttest1: 0.0636031\tbest: 0.0636008 (2026)\ttotal: 2m 47s\tremaining: 10m 10s\n",
      "2160:\tlearn: 0.0572323\ttest: 0.0572323\ttest1: 0.0636138\tbest: 0.0636008 (2026)\ttotal: 2m 47s\tremaining: 10m 9s\n",
      "2170:\tlearn: 0.0572128\ttest: 0.0572128\ttest1: 0.0636205\tbest: 0.0636008 (2026)\ttotal: 2m 48s\tremaining: 10m 8s\n",
      "2180:\tlearn: 0.0571928\ttest: 0.0571928\ttest1: 0.0636214\tbest: 0.0636008 (2026)\ttotal: 2m 49s\tremaining: 10m 7s\n",
      "2190:\tlearn: 0.0571753\ttest: 0.0571753\ttest1: 0.0636207\tbest: 0.0636008 (2026)\ttotal: 2m 50s\tremaining: 10m 6s\n",
      "2200:\tlearn: 0.0571524\ttest: 0.0571524\ttest1: 0.0636227\tbest: 0.0636008 (2026)\ttotal: 2m 50s\tremaining: 10m 5s\n",
      "2210:\tlearn: 0.0571349\ttest: 0.0571349\ttest1: 0.0636225\tbest: 0.0636008 (2026)\ttotal: 2m 51s\tremaining: 10m 4s\n",
      "2220:\tlearn: 0.0571114\ttest: 0.0571114\ttest1: 0.0636208\tbest: 0.0636008 (2026)\ttotal: 2m 52s\tremaining: 10m 4s\n",
      "2230:\tlearn: 0.0570905\ttest: 0.0570905\ttest1: 0.0636223\tbest: 0.0636008 (2026)\ttotal: 2m 53s\tremaining: 10m 3s\n",
      "2240:\tlearn: 0.0570738\ttest: 0.0570738\ttest1: 0.0636220\tbest: 0.0636008 (2026)\ttotal: 2m 53s\tremaining: 10m 2s\n",
      "2250:\tlearn: 0.0570500\ttest: 0.0570500\ttest1: 0.0636167\tbest: 0.0636008 (2026)\ttotal: 2m 54s\tremaining: 10m 1s\n",
      "2260:\tlearn: 0.0570321\ttest: 0.0570321\ttest1: 0.0636154\tbest: 0.0636008 (2026)\ttotal: 2m 55s\tremaining: 10m\n",
      "2270:\tlearn: 0.0570046\ttest: 0.0570046\ttest1: 0.0636140\tbest: 0.0636008 (2026)\ttotal: 2m 56s\tremaining: 9m 59s\n",
      "2280:\tlearn: 0.0569802\ttest: 0.0569802\ttest1: 0.0636126\tbest: 0.0636008 (2026)\ttotal: 2m 57s\tremaining: 9m 59s\n",
      "2290:\tlearn: 0.0569698\ttest: 0.0569698\ttest1: 0.0636144\tbest: 0.0636008 (2026)\ttotal: 2m 58s\tremaining: 9m 59s\n",
      "2300:\tlearn: 0.0569418\ttest: 0.0569418\ttest1: 0.0636124\tbest: 0.0636008 (2026)\ttotal: 2m 59s\tremaining: 9m 59s\n",
      "2310:\tlearn: 0.0569170\ttest: 0.0569170\ttest1: 0.0636141\tbest: 0.0636008 (2026)\ttotal: 3m\tremaining: 9m 58s\n",
      "2320:\tlearn: 0.0569051\ttest: 0.0569051\ttest1: 0.0636157\tbest: 0.0636008 (2026)\ttotal: 3m\tremaining: 9m 58s\n",
      "2330:\tlearn: 0.0568866\ttest: 0.0568866\ttest1: 0.0636148\tbest: 0.0636008 (2026)\ttotal: 3m 1s\tremaining: 9m 58s\n",
      "2340:\tlearn: 0.0568694\ttest: 0.0568694\ttest1: 0.0636141\tbest: 0.0636008 (2026)\ttotal: 3m 2s\tremaining: 9m 58s\n",
      "2350:\tlearn: 0.0568542\ttest: 0.0568542\ttest1: 0.0636182\tbest: 0.0636008 (2026)\ttotal: 3m 3s\tremaining: 9m 58s\n",
      "2360:\tlearn: 0.0568380\ttest: 0.0568380\ttest1: 0.0636220\tbest: 0.0636008 (2026)\ttotal: 3m 4s\tremaining: 9m 58s\n",
      "2370:\tlearn: 0.0568224\ttest: 0.0568224\ttest1: 0.0636251\tbest: 0.0636008 (2026)\ttotal: 3m 5s\tremaining: 9m 58s\n",
      "2380:\tlearn: 0.0568072\ttest: 0.0568072\ttest1: 0.0636269\tbest: 0.0636008 (2026)\ttotal: 3m 6s\tremaining: 9m 58s\n",
      "2390:\tlearn: 0.0567916\ttest: 0.0567916\ttest1: 0.0636272\tbest: 0.0636008 (2026)\ttotal: 3m 7s\tremaining: 9m 58s\n",
      "2400:\tlearn: 0.0567813\ttest: 0.0567813\ttest1: 0.0636246\tbest: 0.0636008 (2026)\ttotal: 3m 8s\tremaining: 9m 57s\n",
      "2410:\tlearn: 0.0567657\ttest: 0.0567657\ttest1: 0.0636239\tbest: 0.0636008 (2026)\ttotal: 3m 9s\tremaining: 9m 57s\n",
      "2420:\tlearn: 0.0567522\ttest: 0.0567522\ttest1: 0.0636274\tbest: 0.0636008 (2026)\ttotal: 3m 10s\tremaining: 9m 57s\n",
      "2430:\tlearn: 0.0567378\ttest: 0.0567378\ttest1: 0.0636255\tbest: 0.0636008 (2026)\ttotal: 3m 11s\tremaining: 9m 56s\n",
      "2440:\tlearn: 0.0567286\ttest: 0.0567286\ttest1: 0.0636236\tbest: 0.0636008 (2026)\ttotal: 3m 12s\tremaining: 9m 56s\n",
      "2450:\tlearn: 0.0567067\ttest: 0.0567067\ttest1: 0.0636232\tbest: 0.0636008 (2026)\ttotal: 3m 13s\tremaining: 9m 55s\n",
      "2460:\tlearn: 0.0566837\ttest: 0.0566837\ttest1: 0.0636204\tbest: 0.0636008 (2026)\ttotal: 3m 14s\tremaining: 9m 55s\n",
      "2470:\tlearn: 0.0566668\ttest: 0.0566668\ttest1: 0.0636196\tbest: 0.0636008 (2026)\ttotal: 3m 15s\tremaining: 9m 55s\n",
      "2480:\tlearn: 0.0566487\ttest: 0.0566487\ttest1: 0.0636203\tbest: 0.0636008 (2026)\ttotal: 3m 16s\tremaining: 9m 55s\n",
      "2490:\tlearn: 0.0566338\ttest: 0.0566338\ttest1: 0.0636196\tbest: 0.0636008 (2026)\ttotal: 3m 17s\tremaining: 9m 54s\n",
      "2500:\tlearn: 0.0566180\ttest: 0.0566180\ttest1: 0.0636183\tbest: 0.0636008 (2026)\ttotal: 3m 18s\tremaining: 9m 54s\n",
      "2510:\tlearn: 0.0566089\ttest: 0.0566089\ttest1: 0.0636184\tbest: 0.0636008 (2026)\ttotal: 3m 19s\tremaining: 9m 54s\n",
      "2520:\tlearn: 0.0565997\ttest: 0.0565997\ttest1: 0.0636199\tbest: 0.0636008 (2026)\ttotal: 3m 20s\tremaining: 9m 54s\n",
      "Stopped by overfitting detector  (500 iterations wait)\n",
      "\n",
      "bestTest = 0.06360083571\n",
      "bestIteration = 2026\n",
      "\n",
      "Shrink model to first 2027 iterations.\n"
     ]
    },
    {
     "data": {
      "text/plain": [
       "<catboost.core.CatBoostRegressor at 0x7f33a1375810>"
      ]
     },
     "execution_count": 230,
     "metadata": {},
     "output_type": "execute_result"
    }
   ],
   "source": [
    "model = CatBoostRegressor(**xgb_params)\n",
    "model.fit(X_train, y_train,\n",
    "        eval_set=[(X_train, y_train), (X_valid, y_valid)],\n",
    "                verbose=10,\n",
    "                )  "
   ]
  },
  {
   "cell_type": "code",
   "execution_count": 231,
   "metadata": {},
   "outputs": [],
   "source": [
    "dvalid['cb_pred'] = model.predict(dvalid[cols])"
   ]
  },
  {
   "cell_type": "code",
   "execution_count": 232,
   "metadata": {},
   "outputs": [
    {
     "name": "stderr",
     "output_type": "stream",
     "text": [
      "[07/19/22 16:33:38] 2876217204.py:1 in <module>\n",
      "                    calc_metric({'id': dvalid.id.values, 'cell_id': dvalid.cell_id.values, 'pred': dvalid.cb_pred.values}): 0.9110552050830005\n"
     ]
    },
    {
     "data": {
      "text/plain": [
       "0.9110552050830005"
      ]
     },
     "execution_count": 232,
     "metadata": {},
     "output_type": "execute_result"
    }
   ],
   "source": [
    "ic(calc_metric({'id': dvalid.id.values, 'cell_id': dvalid.cell_id.values, 'pred': dvalid.cb_pred.values}))"
   ]
  },
  {
   "cell_type": "code",
   "execution_count": 249,
   "metadata": {},
   "outputs": [
    {
     "name": "stdout",
     "output_type": "stream",
     "text": [
      "[LightGBM] [Warning] Auto-choosing col-wise multi-threading, the overhead of testing was 0.023474 seconds.\n",
      "You can set `force_col_wise=true` to remove the overhead.\n",
      "[LightGBM] [Info] Total Bins 12117\n",
      "[LightGBM] [Info] Number of data points in the train set: 342411, number of used features: 51\n",
      "[LightGBM] [Info] Start training from score 0.455056\n",
      "Training until validation scores don't improve for 500 rounds\n",
      "[1000]\ttraining's l1: 0.0627585\tvalid_1's l1: 0.0644039\n",
      "[2000]\ttraining's l1: 0.0617093\tvalid_1's l1: 0.0637891\n",
      "[3000]\ttraining's l1: 0.0610143\tvalid_1's l1: 0.0634572\n",
      "[4000]\ttraining's l1: 0.0604758\tvalid_1's l1: 0.0632593\n",
      "[5000]\ttraining's l1: 0.0601138\tvalid_1's l1: 0.0631522\n",
      "[6000]\ttraining's l1: 0.0597749\tvalid_1's l1: 0.0630649\n",
      "[7000]\ttraining's l1: 0.0595164\tvalid_1's l1: 0.0630081\n",
      "[8000]\ttraining's l1: 0.0592498\tvalid_1's l1: 0.0629581\n",
      "[9000]\ttraining's l1: 0.059069\tvalid_1's l1: 0.0629308\n",
      "[10000]\ttraining's l1: 0.058902\tvalid_1's l1: 0.0629089\n",
      "[11000]\ttraining's l1: 0.058747\tvalid_1's l1: 0.0628825\n",
      "[12000]\ttraining's l1: 0.058617\tvalid_1's l1: 0.0628717\n",
      "[13000]\ttraining's l1: 0.0584996\tvalid_1's l1: 0.0628663\n",
      "[14000]\ttraining's l1: 0.0583479\tvalid_1's l1: 0.0628494\n",
      "[15000]\ttraining's l1: 0.0581968\tvalid_1's l1: 0.0628351\n",
      "[16000]\ttraining's l1: 0.0580862\tvalid_1's l1: 0.0628233\n",
      "[17000]\ttraining's l1: 0.0579644\tvalid_1's l1: 0.0628153\n",
      "[18000]\ttraining's l1: 0.0578557\tvalid_1's l1: 0.062807\n",
      "Early stopping, best iteration is:\n",
      "[18407]\ttraining's l1: 0.0578063\tvalid_1's l1: 0.0628053\n"
     ]
    },
    {
     "data": {
      "text/plain": [
       "0.9116340034446425"
      ]
     },
     "execution_count": 249,
     "metadata": {},
     "output_type": "execute_result"
    }
   ],
   "source": [
    "import lightgbm as lgb\n",
    "params = {\n",
    "          'boosting': 'gbdt',\n",
    "          'objective': 'regression_l1',\n",
    "          'metric': {'l1'},\n",
    "          'num_leaves': 32,\n",
    "          'min_data_in_leaf': 300,\n",
    "          # 'max_depth': 10,\n",
    "          'learning_rate': 0.02,\n",
    "          \"feature_fraction\": 0.8,\n",
    "          \"bagging_fraction\": 0.75,\n",
    "          'min_data_in_bin':100,\n",
    "          \"lambda_l1\": 1e-7,\n",
    "          'lambda_l2': 1e-7,\n",
    "          \"random_state\": 1024,\n",
    "          \"num_threads\": 12,\n",
    "          }\n",
    "\n",
    "d_train = lgb.Dataset(X_train, y_train)\n",
    "d_valid = lgb.Dataset(X_valid, y_valid, reference=d_train)\n",
    "\n",
    "bst = lgb.train(params,\n",
    "                d_train,\n",
    "                100000,\n",
    "                valid_sets=[d_train, d_valid],\n",
    "                verbose_eval=1000,\n",
    "                early_stopping_rounds=500)\n",
    "dvalid['lgb_pred'] = bst.predict(dvalid[cols])\n",
    "calc_metric({'id': dvalid.id.values, 'cell_id': dvalid.cell_id.values, 'pred': dvalid.lgb_pred.values})"
   ]
  },
  {
   "cell_type": "code",
   "execution_count": 250,
   "metadata": {},
   "outputs": [
    {
     "data": {
      "application/vnd.plotly.v1+json": {
       "config": {
        "plotlyServerURL": "https://plot.ly"
       },
       "data": [
        {
         "alignmentgroup": "True",
         "hovertemplate": "importance=%{x}<br>feat_name=%{y}<extra></extra>",
         "legendgroup": "",
         "marker": {
          "color": "#636efa",
          "pattern": {
           "shape": ""
          }
         },
         "name": "",
         "offsetgroup": "",
         "orientation": "h",
         "showlegend": false,
         "textposition": "auto",
         "type": "bar",
         "x": [
          1.1451916917570681,
          1.2585316415384367,
          1.30589171003964,
          1.371360972524745,
          1.372894395816665,
          1.699863912160355,
          1.7323144750071309,
          1.8579871526041813,
          2.2527333348514444,
          2.6494655708064228,
          3.222210145758611,
          3.691130077668178,
          3.738242312819336,
          3.861558415441503,
          4.539965600536224,
          5.614147384671916,
          5.843477279752413,
          10.194452740886252,
          10.563678703799951,
          13.0693917736093
         ],
         "xaxis": "x",
         "y": [
          "top4",
          "top5",
          "top4_prob",
          "top5_prob",
          "pred_diff8",
          "top3",
          "max_prob",
          "ctop4",
          "cls2_pred",
          "pred_p",
          "pred_c",
          "reg_pred",
          "ctop2",
          "top2",
          "ctop3",
          "p2_top2",
          "cls_pred_c",
          "rule_pred",
          "pred_p2",
          "cls_pred_p"
         ],
         "yaxis": "y"
        }
       ],
       "layout": {
        "barmode": "relative",
        "legend": {
         "tracegroupgap": 0
        },
        "margin": {
         "t": 60
        },
        "template": {
         "data": {
          "bar": [
           {
            "error_x": {
             "color": "#2a3f5f"
            },
            "error_y": {
             "color": "#2a3f5f"
            },
            "marker": {
             "line": {
              "color": "#E5ECF6",
              "width": 0.5
             },
             "pattern": {
              "fillmode": "overlay",
              "size": 10,
              "solidity": 0.2
             }
            },
            "type": "bar"
           }
          ],
          "barpolar": [
           {
            "marker": {
             "line": {
              "color": "#E5ECF6",
              "width": 0.5
             },
             "pattern": {
              "fillmode": "overlay",
              "size": 10,
              "solidity": 0.2
             }
            },
            "type": "barpolar"
           }
          ],
          "carpet": [
           {
            "aaxis": {
             "endlinecolor": "#2a3f5f",
             "gridcolor": "white",
             "linecolor": "white",
             "minorgridcolor": "white",
             "startlinecolor": "#2a3f5f"
            },
            "baxis": {
             "endlinecolor": "#2a3f5f",
             "gridcolor": "white",
             "linecolor": "white",
             "minorgridcolor": "white",
             "startlinecolor": "#2a3f5f"
            },
            "type": "carpet"
           }
          ],
          "choropleth": [
           {
            "colorbar": {
             "outlinewidth": 0,
             "ticks": ""
            },
            "type": "choropleth"
           }
          ],
          "contour": [
           {
            "colorbar": {
             "outlinewidth": 0,
             "ticks": ""
            },
            "colorscale": [
             [
              0,
              "#0d0887"
             ],
             [
              0.1111111111111111,
              "#46039f"
             ],
             [
              0.2222222222222222,
              "#7201a8"
             ],
             [
              0.3333333333333333,
              "#9c179e"
             ],
             [
              0.4444444444444444,
              "#bd3786"
             ],
             [
              0.5555555555555556,
              "#d8576b"
             ],
             [
              0.6666666666666666,
              "#ed7953"
             ],
             [
              0.7777777777777778,
              "#fb9f3a"
             ],
             [
              0.8888888888888888,
              "#fdca26"
             ],
             [
              1,
              "#f0f921"
             ]
            ],
            "type": "contour"
           }
          ],
          "contourcarpet": [
           {
            "colorbar": {
             "outlinewidth": 0,
             "ticks": ""
            },
            "type": "contourcarpet"
           }
          ],
          "heatmap": [
           {
            "colorbar": {
             "outlinewidth": 0,
             "ticks": ""
            },
            "colorscale": [
             [
              0,
              "#0d0887"
             ],
             [
              0.1111111111111111,
              "#46039f"
             ],
             [
              0.2222222222222222,
              "#7201a8"
             ],
             [
              0.3333333333333333,
              "#9c179e"
             ],
             [
              0.4444444444444444,
              "#bd3786"
             ],
             [
              0.5555555555555556,
              "#d8576b"
             ],
             [
              0.6666666666666666,
              "#ed7953"
             ],
             [
              0.7777777777777778,
              "#fb9f3a"
             ],
             [
              0.8888888888888888,
              "#fdca26"
             ],
             [
              1,
              "#f0f921"
             ]
            ],
            "type": "heatmap"
           }
          ],
          "heatmapgl": [
           {
            "colorbar": {
             "outlinewidth": 0,
             "ticks": ""
            },
            "colorscale": [
             [
              0,
              "#0d0887"
             ],
             [
              0.1111111111111111,
              "#46039f"
             ],
             [
              0.2222222222222222,
              "#7201a8"
             ],
             [
              0.3333333333333333,
              "#9c179e"
             ],
             [
              0.4444444444444444,
              "#bd3786"
             ],
             [
              0.5555555555555556,
              "#d8576b"
             ],
             [
              0.6666666666666666,
              "#ed7953"
             ],
             [
              0.7777777777777778,
              "#fb9f3a"
             ],
             [
              0.8888888888888888,
              "#fdca26"
             ],
             [
              1,
              "#f0f921"
             ]
            ],
            "type": "heatmapgl"
           }
          ],
          "histogram": [
           {
            "marker": {
             "pattern": {
              "fillmode": "overlay",
              "size": 10,
              "solidity": 0.2
             }
            },
            "type": "histogram"
           }
          ],
          "histogram2d": [
           {
            "colorbar": {
             "outlinewidth": 0,
             "ticks": ""
            },
            "colorscale": [
             [
              0,
              "#0d0887"
             ],
             [
              0.1111111111111111,
              "#46039f"
             ],
             [
              0.2222222222222222,
              "#7201a8"
             ],
             [
              0.3333333333333333,
              "#9c179e"
             ],
             [
              0.4444444444444444,
              "#bd3786"
             ],
             [
              0.5555555555555556,
              "#d8576b"
             ],
             [
              0.6666666666666666,
              "#ed7953"
             ],
             [
              0.7777777777777778,
              "#fb9f3a"
             ],
             [
              0.8888888888888888,
              "#fdca26"
             ],
             [
              1,
              "#f0f921"
             ]
            ],
            "type": "histogram2d"
           }
          ],
          "histogram2dcontour": [
           {
            "colorbar": {
             "outlinewidth": 0,
             "ticks": ""
            },
            "colorscale": [
             [
              0,
              "#0d0887"
             ],
             [
              0.1111111111111111,
              "#46039f"
             ],
             [
              0.2222222222222222,
              "#7201a8"
             ],
             [
              0.3333333333333333,
              "#9c179e"
             ],
             [
              0.4444444444444444,
              "#bd3786"
             ],
             [
              0.5555555555555556,
              "#d8576b"
             ],
             [
              0.6666666666666666,
              "#ed7953"
             ],
             [
              0.7777777777777778,
              "#fb9f3a"
             ],
             [
              0.8888888888888888,
              "#fdca26"
             ],
             [
              1,
              "#f0f921"
             ]
            ],
            "type": "histogram2dcontour"
           }
          ],
          "mesh3d": [
           {
            "colorbar": {
             "outlinewidth": 0,
             "ticks": ""
            },
            "type": "mesh3d"
           }
          ],
          "parcoords": [
           {
            "line": {
             "colorbar": {
              "outlinewidth": 0,
              "ticks": ""
             }
            },
            "type": "parcoords"
           }
          ],
          "pie": [
           {
            "automargin": true,
            "type": "pie"
           }
          ],
          "scatter": [
           {
            "marker": {
             "colorbar": {
              "outlinewidth": 0,
              "ticks": ""
             }
            },
            "type": "scatter"
           }
          ],
          "scatter3d": [
           {
            "line": {
             "colorbar": {
              "outlinewidth": 0,
              "ticks": ""
             }
            },
            "marker": {
             "colorbar": {
              "outlinewidth": 0,
              "ticks": ""
             }
            },
            "type": "scatter3d"
           }
          ],
          "scattercarpet": [
           {
            "marker": {
             "colorbar": {
              "outlinewidth": 0,
              "ticks": ""
             }
            },
            "type": "scattercarpet"
           }
          ],
          "scattergeo": [
           {
            "marker": {
             "colorbar": {
              "outlinewidth": 0,
              "ticks": ""
             }
            },
            "type": "scattergeo"
           }
          ],
          "scattergl": [
           {
            "marker": {
             "colorbar": {
              "outlinewidth": 0,
              "ticks": ""
             }
            },
            "type": "scattergl"
           }
          ],
          "scattermapbox": [
           {
            "marker": {
             "colorbar": {
              "outlinewidth": 0,
              "ticks": ""
             }
            },
            "type": "scattermapbox"
           }
          ],
          "scatterpolar": [
           {
            "marker": {
             "colorbar": {
              "outlinewidth": 0,
              "ticks": ""
             }
            },
            "type": "scatterpolar"
           }
          ],
          "scatterpolargl": [
           {
            "marker": {
             "colorbar": {
              "outlinewidth": 0,
              "ticks": ""
             }
            },
            "type": "scatterpolargl"
           }
          ],
          "scatterternary": [
           {
            "marker": {
             "colorbar": {
              "outlinewidth": 0,
              "ticks": ""
             }
            },
            "type": "scatterternary"
           }
          ],
          "surface": [
           {
            "colorbar": {
             "outlinewidth": 0,
             "ticks": ""
            },
            "colorscale": [
             [
              0,
              "#0d0887"
             ],
             [
              0.1111111111111111,
              "#46039f"
             ],
             [
              0.2222222222222222,
              "#7201a8"
             ],
             [
              0.3333333333333333,
              "#9c179e"
             ],
             [
              0.4444444444444444,
              "#bd3786"
             ],
             [
              0.5555555555555556,
              "#d8576b"
             ],
             [
              0.6666666666666666,
              "#ed7953"
             ],
             [
              0.7777777777777778,
              "#fb9f3a"
             ],
             [
              0.8888888888888888,
              "#fdca26"
             ],
             [
              1,
              "#f0f921"
             ]
            ],
            "type": "surface"
           }
          ],
          "table": [
           {
            "cells": {
             "fill": {
              "color": "#EBF0F8"
             },
             "line": {
              "color": "white"
             }
            },
            "header": {
             "fill": {
              "color": "#C8D4E3"
             },
             "line": {
              "color": "white"
             }
            },
            "type": "table"
           }
          ]
         },
         "layout": {
          "annotationdefaults": {
           "arrowcolor": "#2a3f5f",
           "arrowhead": 0,
           "arrowwidth": 1
          },
          "autotypenumbers": "strict",
          "coloraxis": {
           "colorbar": {
            "outlinewidth": 0,
            "ticks": ""
           }
          },
          "colorscale": {
           "diverging": [
            [
             0,
             "#8e0152"
            ],
            [
             0.1,
             "#c51b7d"
            ],
            [
             0.2,
             "#de77ae"
            ],
            [
             0.3,
             "#f1b6da"
            ],
            [
             0.4,
             "#fde0ef"
            ],
            [
             0.5,
             "#f7f7f7"
            ],
            [
             0.6,
             "#e6f5d0"
            ],
            [
             0.7,
             "#b8e186"
            ],
            [
             0.8,
             "#7fbc41"
            ],
            [
             0.9,
             "#4d9221"
            ],
            [
             1,
             "#276419"
            ]
           ],
           "sequential": [
            [
             0,
             "#0d0887"
            ],
            [
             0.1111111111111111,
             "#46039f"
            ],
            [
             0.2222222222222222,
             "#7201a8"
            ],
            [
             0.3333333333333333,
             "#9c179e"
            ],
            [
             0.4444444444444444,
             "#bd3786"
            ],
            [
             0.5555555555555556,
             "#d8576b"
            ],
            [
             0.6666666666666666,
             "#ed7953"
            ],
            [
             0.7777777777777778,
             "#fb9f3a"
            ],
            [
             0.8888888888888888,
             "#fdca26"
            ],
            [
             1,
             "#f0f921"
            ]
           ],
           "sequentialminus": [
            [
             0,
             "#0d0887"
            ],
            [
             0.1111111111111111,
             "#46039f"
            ],
            [
             0.2222222222222222,
             "#7201a8"
            ],
            [
             0.3333333333333333,
             "#9c179e"
            ],
            [
             0.4444444444444444,
             "#bd3786"
            ],
            [
             0.5555555555555556,
             "#d8576b"
            ],
            [
             0.6666666666666666,
             "#ed7953"
            ],
            [
             0.7777777777777778,
             "#fb9f3a"
            ],
            [
             0.8888888888888888,
             "#fdca26"
            ],
            [
             1,
             "#f0f921"
            ]
           ]
          },
          "colorway": [
           "#636efa",
           "#EF553B",
           "#00cc96",
           "#ab63fa",
           "#FFA15A",
           "#19d3f3",
           "#FF6692",
           "#B6E880",
           "#FF97FF",
           "#FECB52"
          ],
          "font": {
           "color": "#2a3f5f"
          },
          "geo": {
           "bgcolor": "white",
           "lakecolor": "white",
           "landcolor": "#E5ECF6",
           "showlakes": true,
           "showland": true,
           "subunitcolor": "white"
          },
          "hoverlabel": {
           "align": "left"
          },
          "hovermode": "closest",
          "mapbox": {
           "style": "light"
          },
          "paper_bgcolor": "white",
          "plot_bgcolor": "#E5ECF6",
          "polar": {
           "angularaxis": {
            "gridcolor": "white",
            "linecolor": "white",
            "ticks": ""
           },
           "bgcolor": "#E5ECF6",
           "radialaxis": {
            "gridcolor": "white",
            "linecolor": "white",
            "ticks": ""
           }
          },
          "scene": {
           "xaxis": {
            "backgroundcolor": "#E5ECF6",
            "gridcolor": "white",
            "gridwidth": 2,
            "linecolor": "white",
            "showbackground": true,
            "ticks": "",
            "zerolinecolor": "white"
           },
           "yaxis": {
            "backgroundcolor": "#E5ECF6",
            "gridcolor": "white",
            "gridwidth": 2,
            "linecolor": "white",
            "showbackground": true,
            "ticks": "",
            "zerolinecolor": "white"
           },
           "zaxis": {
            "backgroundcolor": "#E5ECF6",
            "gridcolor": "white",
            "gridwidth": 2,
            "linecolor": "white",
            "showbackground": true,
            "ticks": "",
            "zerolinecolor": "white"
           }
          },
          "shapedefaults": {
           "line": {
            "color": "#2a3f5f"
           }
          },
          "ternary": {
           "aaxis": {
            "gridcolor": "white",
            "linecolor": "white",
            "ticks": ""
           },
           "baxis": {
            "gridcolor": "white",
            "linecolor": "white",
            "ticks": ""
           },
           "bgcolor": "#E5ECF6",
           "caxis": {
            "gridcolor": "white",
            "linecolor": "white",
            "ticks": ""
           }
          },
          "title": {
           "x": 0.05
          },
          "xaxis": {
           "automargin": true,
           "gridcolor": "white",
           "linecolor": "white",
           "ticks": "",
           "title": {
            "standoff": 15
           },
           "zerolinecolor": "white",
           "zerolinewidth": 2
          },
          "yaxis": {
           "automargin": true,
           "gridcolor": "white",
           "linecolor": "white",
           "ticks": "",
           "title": {
            "standoff": 15
           },
           "zerolinecolor": "white",
           "zerolinewidth": 2
          }
         }
        },
        "xaxis": {
         "anchor": "y",
         "domain": [
          0,
          1
         ],
         "title": {
          "text": "importance"
         }
        },
        "yaxis": {
         "anchor": "x",
         "domain": [
          0,
          1
         ],
         "title": {
          "text": "feat_name"
         }
        }
       }
      },
      "text/html": [
       "<div>                            <div id=\"f6cba379-cec6-47a5-95c6-5c11db02d3f1\" class=\"plotly-graph-div\" style=\"height:525px; width:100%;\"></div>            <script type=\"text/javascript\">                require([\"plotly\"], function(Plotly) {                    window.PLOTLYENV=window.PLOTLYENV || {};                                    if (document.getElementById(\"f6cba379-cec6-47a5-95c6-5c11db02d3f1\")) {                    Plotly.newPlot(                        \"f6cba379-cec6-47a5-95c6-5c11db02d3f1\",                        [{\"alignmentgroup\":\"True\",\"hovertemplate\":\"importance=%{x}<br>feat_name=%{y}<extra></extra>\",\"legendgroup\":\"\",\"marker\":{\"color\":\"#636efa\",\"pattern\":{\"shape\":\"\"}},\"name\":\"\",\"offsetgroup\":\"\",\"orientation\":\"h\",\"showlegend\":false,\"textposition\":\"auto\",\"x\":[1.1451916917570681,1.2585316415384367,1.30589171003964,1.371360972524745,1.372894395816665,1.699863912160355,1.7323144750071309,1.8579871526041813,2.2527333348514444,2.6494655708064228,3.222210145758611,3.691130077668178,3.738242312819336,3.861558415441503,4.539965600536224,5.614147384671916,5.843477279752413,10.194452740886252,10.563678703799951,13.0693917736093],\"xaxis\":\"x\",\"y\":[\"top4\",\"top5\",\"top4_prob\",\"top5_prob\",\"pred_diff8\",\"top3\",\"max_prob\",\"ctop4\",\"cls2_pred\",\"pred_p\",\"pred_c\",\"reg_pred\",\"ctop2\",\"top2\",\"ctop3\",\"p2_top2\",\"cls_pred_c\",\"rule_pred\",\"pred_p2\",\"cls_pred_p\"],\"yaxis\":\"y\",\"type\":\"bar\"}],                        {\"template\":{\"data\":{\"bar\":[{\"error_x\":{\"color\":\"#2a3f5f\"},\"error_y\":{\"color\":\"#2a3f5f\"},\"marker\":{\"line\":{\"color\":\"#E5ECF6\",\"width\":0.5},\"pattern\":{\"fillmode\":\"overlay\",\"size\":10,\"solidity\":0.2}},\"type\":\"bar\"}],\"barpolar\":[{\"marker\":{\"line\":{\"color\":\"#E5ECF6\",\"width\":0.5},\"pattern\":{\"fillmode\":\"overlay\",\"size\":10,\"solidity\":0.2}},\"type\":\"barpolar\"}],\"carpet\":[{\"aaxis\":{\"endlinecolor\":\"#2a3f5f\",\"gridcolor\":\"white\",\"linecolor\":\"white\",\"minorgridcolor\":\"white\",\"startlinecolor\":\"#2a3f5f\"},\"baxis\":{\"endlinecolor\":\"#2a3f5f\",\"gridcolor\":\"white\",\"linecolor\":\"white\",\"minorgridcolor\":\"white\",\"startlinecolor\":\"#2a3f5f\"},\"type\":\"carpet\"}],\"choropleth\":[{\"colorbar\":{\"outlinewidth\":0,\"ticks\":\"\"},\"type\":\"choropleth\"}],\"contour\":[{\"colorbar\":{\"outlinewidth\":0,\"ticks\":\"\"},\"colorscale\":[[0.0,\"#0d0887\"],[0.1111111111111111,\"#46039f\"],[0.2222222222222222,\"#7201a8\"],[0.3333333333333333,\"#9c179e\"],[0.4444444444444444,\"#bd3786\"],[0.5555555555555556,\"#d8576b\"],[0.6666666666666666,\"#ed7953\"],[0.7777777777777778,\"#fb9f3a\"],[0.8888888888888888,\"#fdca26\"],[1.0,\"#f0f921\"]],\"type\":\"contour\"}],\"contourcarpet\":[{\"colorbar\":{\"outlinewidth\":0,\"ticks\":\"\"},\"type\":\"contourcarpet\"}],\"heatmap\":[{\"colorbar\":{\"outlinewidth\":0,\"ticks\":\"\"},\"colorscale\":[[0.0,\"#0d0887\"],[0.1111111111111111,\"#46039f\"],[0.2222222222222222,\"#7201a8\"],[0.3333333333333333,\"#9c179e\"],[0.4444444444444444,\"#bd3786\"],[0.5555555555555556,\"#d8576b\"],[0.6666666666666666,\"#ed7953\"],[0.7777777777777778,\"#fb9f3a\"],[0.8888888888888888,\"#fdca26\"],[1.0,\"#f0f921\"]],\"type\":\"heatmap\"}],\"heatmapgl\":[{\"colorbar\":{\"outlinewidth\":0,\"ticks\":\"\"},\"colorscale\":[[0.0,\"#0d0887\"],[0.1111111111111111,\"#46039f\"],[0.2222222222222222,\"#7201a8\"],[0.3333333333333333,\"#9c179e\"],[0.4444444444444444,\"#bd3786\"],[0.5555555555555556,\"#d8576b\"],[0.6666666666666666,\"#ed7953\"],[0.7777777777777778,\"#fb9f3a\"],[0.8888888888888888,\"#fdca26\"],[1.0,\"#f0f921\"]],\"type\":\"heatmapgl\"}],\"histogram\":[{\"marker\":{\"pattern\":{\"fillmode\":\"overlay\",\"size\":10,\"solidity\":0.2}},\"type\":\"histogram\"}],\"histogram2d\":[{\"colorbar\":{\"outlinewidth\":0,\"ticks\":\"\"},\"colorscale\":[[0.0,\"#0d0887\"],[0.1111111111111111,\"#46039f\"],[0.2222222222222222,\"#7201a8\"],[0.3333333333333333,\"#9c179e\"],[0.4444444444444444,\"#bd3786\"],[0.5555555555555556,\"#d8576b\"],[0.6666666666666666,\"#ed7953\"],[0.7777777777777778,\"#fb9f3a\"],[0.8888888888888888,\"#fdca26\"],[1.0,\"#f0f921\"]],\"type\":\"histogram2d\"}],\"histogram2dcontour\":[{\"colorbar\":{\"outlinewidth\":0,\"ticks\":\"\"},\"colorscale\":[[0.0,\"#0d0887\"],[0.1111111111111111,\"#46039f\"],[0.2222222222222222,\"#7201a8\"],[0.3333333333333333,\"#9c179e\"],[0.4444444444444444,\"#bd3786\"],[0.5555555555555556,\"#d8576b\"],[0.6666666666666666,\"#ed7953\"],[0.7777777777777778,\"#fb9f3a\"],[0.8888888888888888,\"#fdca26\"],[1.0,\"#f0f921\"]],\"type\":\"histogram2dcontour\"}],\"mesh3d\":[{\"colorbar\":{\"outlinewidth\":0,\"ticks\":\"\"},\"type\":\"mesh3d\"}],\"parcoords\":[{\"line\":{\"colorbar\":{\"outlinewidth\":0,\"ticks\":\"\"}},\"type\":\"parcoords\"}],\"pie\":[{\"automargin\":true,\"type\":\"pie\"}],\"scatter\":[{\"marker\":{\"colorbar\":{\"outlinewidth\":0,\"ticks\":\"\"}},\"type\":\"scatter\"}],\"scatter3d\":[{\"line\":{\"colorbar\":{\"outlinewidth\":0,\"ticks\":\"\"}},\"marker\":{\"colorbar\":{\"outlinewidth\":0,\"ticks\":\"\"}},\"type\":\"scatter3d\"}],\"scattercarpet\":[{\"marker\":{\"colorbar\":{\"outlinewidth\":0,\"ticks\":\"\"}},\"type\":\"scattercarpet\"}],\"scattergeo\":[{\"marker\":{\"colorbar\":{\"outlinewidth\":0,\"ticks\":\"\"}},\"type\":\"scattergeo\"}],\"scattergl\":[{\"marker\":{\"colorbar\":{\"outlinewidth\":0,\"ticks\":\"\"}},\"type\":\"scattergl\"}],\"scattermapbox\":[{\"marker\":{\"colorbar\":{\"outlinewidth\":0,\"ticks\":\"\"}},\"type\":\"scattermapbox\"}],\"scatterpolar\":[{\"marker\":{\"colorbar\":{\"outlinewidth\":0,\"ticks\":\"\"}},\"type\":\"scatterpolar\"}],\"scatterpolargl\":[{\"marker\":{\"colorbar\":{\"outlinewidth\":0,\"ticks\":\"\"}},\"type\":\"scatterpolargl\"}],\"scatterternary\":[{\"marker\":{\"colorbar\":{\"outlinewidth\":0,\"ticks\":\"\"}},\"type\":\"scatterternary\"}],\"surface\":[{\"colorbar\":{\"outlinewidth\":0,\"ticks\":\"\"},\"colorscale\":[[0.0,\"#0d0887\"],[0.1111111111111111,\"#46039f\"],[0.2222222222222222,\"#7201a8\"],[0.3333333333333333,\"#9c179e\"],[0.4444444444444444,\"#bd3786\"],[0.5555555555555556,\"#d8576b\"],[0.6666666666666666,\"#ed7953\"],[0.7777777777777778,\"#fb9f3a\"],[0.8888888888888888,\"#fdca26\"],[1.0,\"#f0f921\"]],\"type\":\"surface\"}],\"table\":[{\"cells\":{\"fill\":{\"color\":\"#EBF0F8\"},\"line\":{\"color\":\"white\"}},\"header\":{\"fill\":{\"color\":\"#C8D4E3\"},\"line\":{\"color\":\"white\"}},\"type\":\"table\"}]},\"layout\":{\"annotationdefaults\":{\"arrowcolor\":\"#2a3f5f\",\"arrowhead\":0,\"arrowwidth\":1},\"autotypenumbers\":\"strict\",\"coloraxis\":{\"colorbar\":{\"outlinewidth\":0,\"ticks\":\"\"}},\"colorscale\":{\"diverging\":[[0,\"#8e0152\"],[0.1,\"#c51b7d\"],[0.2,\"#de77ae\"],[0.3,\"#f1b6da\"],[0.4,\"#fde0ef\"],[0.5,\"#f7f7f7\"],[0.6,\"#e6f5d0\"],[0.7,\"#b8e186\"],[0.8,\"#7fbc41\"],[0.9,\"#4d9221\"],[1,\"#276419\"]],\"sequential\":[[0.0,\"#0d0887\"],[0.1111111111111111,\"#46039f\"],[0.2222222222222222,\"#7201a8\"],[0.3333333333333333,\"#9c179e\"],[0.4444444444444444,\"#bd3786\"],[0.5555555555555556,\"#d8576b\"],[0.6666666666666666,\"#ed7953\"],[0.7777777777777778,\"#fb9f3a\"],[0.8888888888888888,\"#fdca26\"],[1.0,\"#f0f921\"]],\"sequentialminus\":[[0.0,\"#0d0887\"],[0.1111111111111111,\"#46039f\"],[0.2222222222222222,\"#7201a8\"],[0.3333333333333333,\"#9c179e\"],[0.4444444444444444,\"#bd3786\"],[0.5555555555555556,\"#d8576b\"],[0.6666666666666666,\"#ed7953\"],[0.7777777777777778,\"#fb9f3a\"],[0.8888888888888888,\"#fdca26\"],[1.0,\"#f0f921\"]]},\"colorway\":[\"#636efa\",\"#EF553B\",\"#00cc96\",\"#ab63fa\",\"#FFA15A\",\"#19d3f3\",\"#FF6692\",\"#B6E880\",\"#FF97FF\",\"#FECB52\"],\"font\":{\"color\":\"#2a3f5f\"},\"geo\":{\"bgcolor\":\"white\",\"lakecolor\":\"white\",\"landcolor\":\"#E5ECF6\",\"showlakes\":true,\"showland\":true,\"subunitcolor\":\"white\"},\"hoverlabel\":{\"align\":\"left\"},\"hovermode\":\"closest\",\"mapbox\":{\"style\":\"light\"},\"paper_bgcolor\":\"white\",\"plot_bgcolor\":\"#E5ECF6\",\"polar\":{\"angularaxis\":{\"gridcolor\":\"white\",\"linecolor\":\"white\",\"ticks\":\"\"},\"bgcolor\":\"#E5ECF6\",\"radialaxis\":{\"gridcolor\":\"white\",\"linecolor\":\"white\",\"ticks\":\"\"}},\"scene\":{\"xaxis\":{\"backgroundcolor\":\"#E5ECF6\",\"gridcolor\":\"white\",\"gridwidth\":2,\"linecolor\":\"white\",\"showbackground\":true,\"ticks\":\"\",\"zerolinecolor\":\"white\"},\"yaxis\":{\"backgroundcolor\":\"#E5ECF6\",\"gridcolor\":\"white\",\"gridwidth\":2,\"linecolor\":\"white\",\"showbackground\":true,\"ticks\":\"\",\"zerolinecolor\":\"white\"},\"zaxis\":{\"backgroundcolor\":\"#E5ECF6\",\"gridcolor\":\"white\",\"gridwidth\":2,\"linecolor\":\"white\",\"showbackground\":true,\"ticks\":\"\",\"zerolinecolor\":\"white\"}},\"shapedefaults\":{\"line\":{\"color\":\"#2a3f5f\"}},\"ternary\":{\"aaxis\":{\"gridcolor\":\"white\",\"linecolor\":\"white\",\"ticks\":\"\"},\"baxis\":{\"gridcolor\":\"white\",\"linecolor\":\"white\",\"ticks\":\"\"},\"bgcolor\":\"#E5ECF6\",\"caxis\":{\"gridcolor\":\"white\",\"linecolor\":\"white\",\"ticks\":\"\"}},\"title\":{\"x\":0.05},\"xaxis\":{\"automargin\":true,\"gridcolor\":\"white\",\"linecolor\":\"white\",\"ticks\":\"\",\"title\":{\"standoff\":15},\"zerolinecolor\":\"white\",\"zerolinewidth\":2},\"yaxis\":{\"automargin\":true,\"gridcolor\":\"white\",\"linecolor\":\"white\",\"ticks\":\"\",\"title\":{\"standoff\":15},\"zerolinecolor\":\"white\",\"zerolinewidth\":2}}},\"xaxis\":{\"anchor\":\"y\",\"domain\":[0.0,1.0],\"title\":{\"text\":\"importance\"}},\"yaxis\":{\"anchor\":\"x\",\"domain\":[0.0,1.0],\"title\":{\"text\":\"feat_name\"}},\"legend\":{\"tracegroupgap\":0},\"margin\":{\"t\":60},\"barmode\":\"relative\"},                        {\"responsive\": true}                    ).then(function(){\n",
       "                            \n",
       "var gd = document.getElementById('f6cba379-cec6-47a5-95c6-5c11db02d3f1');\n",
       "var x = new MutationObserver(function (mutations, observer) {{\n",
       "        var display = window.getComputedStyle(gd).display;\n",
       "        if (!display || display === 'none') {{\n",
       "            console.log([gd, 'removed!']);\n",
       "            Plotly.purge(gd);\n",
       "            observer.disconnect();\n",
       "        }}\n",
       "}});\n",
       "\n",
       "// Listen for the removal of the full notebook cells\n",
       "var notebookContainer = gd.closest('#notebook-container');\n",
       "if (notebookContainer) {{\n",
       "    x.observe(notebookContainer, {childList: true});\n",
       "}}\n",
       "\n",
       "// Listen for the clearing of the current output cell\n",
       "var outputEl = gd.closest('.output');\n",
       "if (outputEl) {{\n",
       "    x.observe(outputEl, {childList: true});\n",
       "}}\n",
       "\n",
       "                        })                };                });            </script>        </div>"
      ]
     },
     "metadata": {},
     "output_type": "display_data"
    }
   ],
   "source": [
    "gezi.plot.feature_importance(model, topn=20)"
   ]
  },
  {
   "cell_type": "code",
   "execution_count": 251,
   "metadata": {},
   "outputs": [
    {
     "data": {
      "application/vnd.plotly.v1+json": {
       "config": {
        "plotlyServerURL": "https://plot.ly"
       },
       "data": [
        {
         "alignmentgroup": "True",
         "hovertemplate": "y=%{x}<br>x=%{y}<extra></extra>",
         "legendgroup": "",
         "marker": {
          "color": "#636efa",
          "pattern": {
           "shape": ""
          }
         },
         "name": "",
         "offsetgroup": "",
         "orientation": "h",
         "showlegend": false,
         "textposition": "auto",
         "type": "bar",
         "x": [
          11080,
          11202,
          11648,
          12552,
          12644,
          12679,
          12683,
          13064,
          13090,
          14345,
          14459,
          15093,
          15135,
          15291,
          15805,
          15904,
          16861,
          17196,
          17927,
          20204
         ],
         "xaxis": "x",
         "y": [
          "n_cell",
          "pred_diff13",
          "top3_prob",
          "pred_diff9",
          "ctop4_prob",
          "max_sim",
          "p2_max_prob",
          "top5_prob",
          "top3",
          "top5",
          "ctop3_prob",
          "pred_diff3",
          "pred_p2",
          "top2_prob",
          "markdown_frac",
          "top4",
          "ctop_prob",
          "ctop2_prob",
          "max_prob",
          "cls_pred_p"
         ],
         "yaxis": "y"
        }
       ],
       "layout": {
        "barmode": "relative",
        "legend": {
         "tracegroupgap": 0
        },
        "margin": {
         "t": 60
        },
        "template": {
         "data": {
          "bar": [
           {
            "error_x": {
             "color": "#2a3f5f"
            },
            "error_y": {
             "color": "#2a3f5f"
            },
            "marker": {
             "line": {
              "color": "#E5ECF6",
              "width": 0.5
             },
             "pattern": {
              "fillmode": "overlay",
              "size": 10,
              "solidity": 0.2
             }
            },
            "type": "bar"
           }
          ],
          "barpolar": [
           {
            "marker": {
             "line": {
              "color": "#E5ECF6",
              "width": 0.5
             },
             "pattern": {
              "fillmode": "overlay",
              "size": 10,
              "solidity": 0.2
             }
            },
            "type": "barpolar"
           }
          ],
          "carpet": [
           {
            "aaxis": {
             "endlinecolor": "#2a3f5f",
             "gridcolor": "white",
             "linecolor": "white",
             "minorgridcolor": "white",
             "startlinecolor": "#2a3f5f"
            },
            "baxis": {
             "endlinecolor": "#2a3f5f",
             "gridcolor": "white",
             "linecolor": "white",
             "minorgridcolor": "white",
             "startlinecolor": "#2a3f5f"
            },
            "type": "carpet"
           }
          ],
          "choropleth": [
           {
            "colorbar": {
             "outlinewidth": 0,
             "ticks": ""
            },
            "type": "choropleth"
           }
          ],
          "contour": [
           {
            "colorbar": {
             "outlinewidth": 0,
             "ticks": ""
            },
            "colorscale": [
             [
              0,
              "#0d0887"
             ],
             [
              0.1111111111111111,
              "#46039f"
             ],
             [
              0.2222222222222222,
              "#7201a8"
             ],
             [
              0.3333333333333333,
              "#9c179e"
             ],
             [
              0.4444444444444444,
              "#bd3786"
             ],
             [
              0.5555555555555556,
              "#d8576b"
             ],
             [
              0.6666666666666666,
              "#ed7953"
             ],
             [
              0.7777777777777778,
              "#fb9f3a"
             ],
             [
              0.8888888888888888,
              "#fdca26"
             ],
             [
              1,
              "#f0f921"
             ]
            ],
            "type": "contour"
           }
          ],
          "contourcarpet": [
           {
            "colorbar": {
             "outlinewidth": 0,
             "ticks": ""
            },
            "type": "contourcarpet"
           }
          ],
          "heatmap": [
           {
            "colorbar": {
             "outlinewidth": 0,
             "ticks": ""
            },
            "colorscale": [
             [
              0,
              "#0d0887"
             ],
             [
              0.1111111111111111,
              "#46039f"
             ],
             [
              0.2222222222222222,
              "#7201a8"
             ],
             [
              0.3333333333333333,
              "#9c179e"
             ],
             [
              0.4444444444444444,
              "#bd3786"
             ],
             [
              0.5555555555555556,
              "#d8576b"
             ],
             [
              0.6666666666666666,
              "#ed7953"
             ],
             [
              0.7777777777777778,
              "#fb9f3a"
             ],
             [
              0.8888888888888888,
              "#fdca26"
             ],
             [
              1,
              "#f0f921"
             ]
            ],
            "type": "heatmap"
           }
          ],
          "heatmapgl": [
           {
            "colorbar": {
             "outlinewidth": 0,
             "ticks": ""
            },
            "colorscale": [
             [
              0,
              "#0d0887"
             ],
             [
              0.1111111111111111,
              "#46039f"
             ],
             [
              0.2222222222222222,
              "#7201a8"
             ],
             [
              0.3333333333333333,
              "#9c179e"
             ],
             [
              0.4444444444444444,
              "#bd3786"
             ],
             [
              0.5555555555555556,
              "#d8576b"
             ],
             [
              0.6666666666666666,
              "#ed7953"
             ],
             [
              0.7777777777777778,
              "#fb9f3a"
             ],
             [
              0.8888888888888888,
              "#fdca26"
             ],
             [
              1,
              "#f0f921"
             ]
            ],
            "type": "heatmapgl"
           }
          ],
          "histogram": [
           {
            "marker": {
             "pattern": {
              "fillmode": "overlay",
              "size": 10,
              "solidity": 0.2
             }
            },
            "type": "histogram"
           }
          ],
          "histogram2d": [
           {
            "colorbar": {
             "outlinewidth": 0,
             "ticks": ""
            },
            "colorscale": [
             [
              0,
              "#0d0887"
             ],
             [
              0.1111111111111111,
              "#46039f"
             ],
             [
              0.2222222222222222,
              "#7201a8"
             ],
             [
              0.3333333333333333,
              "#9c179e"
             ],
             [
              0.4444444444444444,
              "#bd3786"
             ],
             [
              0.5555555555555556,
              "#d8576b"
             ],
             [
              0.6666666666666666,
              "#ed7953"
             ],
             [
              0.7777777777777778,
              "#fb9f3a"
             ],
             [
              0.8888888888888888,
              "#fdca26"
             ],
             [
              1,
              "#f0f921"
             ]
            ],
            "type": "histogram2d"
           }
          ],
          "histogram2dcontour": [
           {
            "colorbar": {
             "outlinewidth": 0,
             "ticks": ""
            },
            "colorscale": [
             [
              0,
              "#0d0887"
             ],
             [
              0.1111111111111111,
              "#46039f"
             ],
             [
              0.2222222222222222,
              "#7201a8"
             ],
             [
              0.3333333333333333,
              "#9c179e"
             ],
             [
              0.4444444444444444,
              "#bd3786"
             ],
             [
              0.5555555555555556,
              "#d8576b"
             ],
             [
              0.6666666666666666,
              "#ed7953"
             ],
             [
              0.7777777777777778,
              "#fb9f3a"
             ],
             [
              0.8888888888888888,
              "#fdca26"
             ],
             [
              1,
              "#f0f921"
             ]
            ],
            "type": "histogram2dcontour"
           }
          ],
          "mesh3d": [
           {
            "colorbar": {
             "outlinewidth": 0,
             "ticks": ""
            },
            "type": "mesh3d"
           }
          ],
          "parcoords": [
           {
            "line": {
             "colorbar": {
              "outlinewidth": 0,
              "ticks": ""
             }
            },
            "type": "parcoords"
           }
          ],
          "pie": [
           {
            "automargin": true,
            "type": "pie"
           }
          ],
          "scatter": [
           {
            "marker": {
             "colorbar": {
              "outlinewidth": 0,
              "ticks": ""
             }
            },
            "type": "scatter"
           }
          ],
          "scatter3d": [
           {
            "line": {
             "colorbar": {
              "outlinewidth": 0,
              "ticks": ""
             }
            },
            "marker": {
             "colorbar": {
              "outlinewidth": 0,
              "ticks": ""
             }
            },
            "type": "scatter3d"
           }
          ],
          "scattercarpet": [
           {
            "marker": {
             "colorbar": {
              "outlinewidth": 0,
              "ticks": ""
             }
            },
            "type": "scattercarpet"
           }
          ],
          "scattergeo": [
           {
            "marker": {
             "colorbar": {
              "outlinewidth": 0,
              "ticks": ""
             }
            },
            "type": "scattergeo"
           }
          ],
          "scattergl": [
           {
            "marker": {
             "colorbar": {
              "outlinewidth": 0,
              "ticks": ""
             }
            },
            "type": "scattergl"
           }
          ],
          "scattermapbox": [
           {
            "marker": {
             "colorbar": {
              "outlinewidth": 0,
              "ticks": ""
             }
            },
            "type": "scattermapbox"
           }
          ],
          "scatterpolar": [
           {
            "marker": {
             "colorbar": {
              "outlinewidth": 0,
              "ticks": ""
             }
            },
            "type": "scatterpolar"
           }
          ],
          "scatterpolargl": [
           {
            "marker": {
             "colorbar": {
              "outlinewidth": 0,
              "ticks": ""
             }
            },
            "type": "scatterpolargl"
           }
          ],
          "scatterternary": [
           {
            "marker": {
             "colorbar": {
              "outlinewidth": 0,
              "ticks": ""
             }
            },
            "type": "scatterternary"
           }
          ],
          "surface": [
           {
            "colorbar": {
             "outlinewidth": 0,
             "ticks": ""
            },
            "colorscale": [
             [
              0,
              "#0d0887"
             ],
             [
              0.1111111111111111,
              "#46039f"
             ],
             [
              0.2222222222222222,
              "#7201a8"
             ],
             [
              0.3333333333333333,
              "#9c179e"
             ],
             [
              0.4444444444444444,
              "#bd3786"
             ],
             [
              0.5555555555555556,
              "#d8576b"
             ],
             [
              0.6666666666666666,
              "#ed7953"
             ],
             [
              0.7777777777777778,
              "#fb9f3a"
             ],
             [
              0.8888888888888888,
              "#fdca26"
             ],
             [
              1,
              "#f0f921"
             ]
            ],
            "type": "surface"
           }
          ],
          "table": [
           {
            "cells": {
             "fill": {
              "color": "#EBF0F8"
             },
             "line": {
              "color": "white"
             }
            },
            "header": {
             "fill": {
              "color": "#C8D4E3"
             },
             "line": {
              "color": "white"
             }
            },
            "type": "table"
           }
          ]
         },
         "layout": {
          "annotationdefaults": {
           "arrowcolor": "#2a3f5f",
           "arrowhead": 0,
           "arrowwidth": 1
          },
          "autotypenumbers": "strict",
          "coloraxis": {
           "colorbar": {
            "outlinewidth": 0,
            "ticks": ""
           }
          },
          "colorscale": {
           "diverging": [
            [
             0,
             "#8e0152"
            ],
            [
             0.1,
             "#c51b7d"
            ],
            [
             0.2,
             "#de77ae"
            ],
            [
             0.3,
             "#f1b6da"
            ],
            [
             0.4,
             "#fde0ef"
            ],
            [
             0.5,
             "#f7f7f7"
            ],
            [
             0.6,
             "#e6f5d0"
            ],
            [
             0.7,
             "#b8e186"
            ],
            [
             0.8,
             "#7fbc41"
            ],
            [
             0.9,
             "#4d9221"
            ],
            [
             1,
             "#276419"
            ]
           ],
           "sequential": [
            [
             0,
             "#0d0887"
            ],
            [
             0.1111111111111111,
             "#46039f"
            ],
            [
             0.2222222222222222,
             "#7201a8"
            ],
            [
             0.3333333333333333,
             "#9c179e"
            ],
            [
             0.4444444444444444,
             "#bd3786"
            ],
            [
             0.5555555555555556,
             "#d8576b"
            ],
            [
             0.6666666666666666,
             "#ed7953"
            ],
            [
             0.7777777777777778,
             "#fb9f3a"
            ],
            [
             0.8888888888888888,
             "#fdca26"
            ],
            [
             1,
             "#f0f921"
            ]
           ],
           "sequentialminus": [
            [
             0,
             "#0d0887"
            ],
            [
             0.1111111111111111,
             "#46039f"
            ],
            [
             0.2222222222222222,
             "#7201a8"
            ],
            [
             0.3333333333333333,
             "#9c179e"
            ],
            [
             0.4444444444444444,
             "#bd3786"
            ],
            [
             0.5555555555555556,
             "#d8576b"
            ],
            [
             0.6666666666666666,
             "#ed7953"
            ],
            [
             0.7777777777777778,
             "#fb9f3a"
            ],
            [
             0.8888888888888888,
             "#fdca26"
            ],
            [
             1,
             "#f0f921"
            ]
           ]
          },
          "colorway": [
           "#636efa",
           "#EF553B",
           "#00cc96",
           "#ab63fa",
           "#FFA15A",
           "#19d3f3",
           "#FF6692",
           "#B6E880",
           "#FF97FF",
           "#FECB52"
          ],
          "font": {
           "color": "#2a3f5f"
          },
          "geo": {
           "bgcolor": "white",
           "lakecolor": "white",
           "landcolor": "#E5ECF6",
           "showlakes": true,
           "showland": true,
           "subunitcolor": "white"
          },
          "hoverlabel": {
           "align": "left"
          },
          "hovermode": "closest",
          "mapbox": {
           "style": "light"
          },
          "paper_bgcolor": "white",
          "plot_bgcolor": "#E5ECF6",
          "polar": {
           "angularaxis": {
            "gridcolor": "white",
            "linecolor": "white",
            "ticks": ""
           },
           "bgcolor": "#E5ECF6",
           "radialaxis": {
            "gridcolor": "white",
            "linecolor": "white",
            "ticks": ""
           }
          },
          "scene": {
           "xaxis": {
            "backgroundcolor": "#E5ECF6",
            "gridcolor": "white",
            "gridwidth": 2,
            "linecolor": "white",
            "showbackground": true,
            "ticks": "",
            "zerolinecolor": "white"
           },
           "yaxis": {
            "backgroundcolor": "#E5ECF6",
            "gridcolor": "white",
            "gridwidth": 2,
            "linecolor": "white",
            "showbackground": true,
            "ticks": "",
            "zerolinecolor": "white"
           },
           "zaxis": {
            "backgroundcolor": "#E5ECF6",
            "gridcolor": "white",
            "gridwidth": 2,
            "linecolor": "white",
            "showbackground": true,
            "ticks": "",
            "zerolinecolor": "white"
           }
          },
          "shapedefaults": {
           "line": {
            "color": "#2a3f5f"
           }
          },
          "ternary": {
           "aaxis": {
            "gridcolor": "white",
            "linecolor": "white",
            "ticks": ""
           },
           "baxis": {
            "gridcolor": "white",
            "linecolor": "white",
            "ticks": ""
           },
           "bgcolor": "#E5ECF6",
           "caxis": {
            "gridcolor": "white",
            "linecolor": "white",
            "ticks": ""
           }
          },
          "title": {
           "x": 0.05
          },
          "xaxis": {
           "automargin": true,
           "gridcolor": "white",
           "linecolor": "white",
           "ticks": "",
           "title": {
            "standoff": 15
           },
           "zerolinecolor": "white",
           "zerolinewidth": 2
          },
          "yaxis": {
           "automargin": true,
           "gridcolor": "white",
           "linecolor": "white",
           "ticks": "",
           "title": {
            "standoff": 15
           },
           "zerolinecolor": "white",
           "zerolinewidth": 2
          }
         }
        },
        "xaxis": {
         "anchor": "y",
         "domain": [
          0,
          1
         ],
         "title": {
          "text": "y"
         }
        },
        "yaxis": {
         "anchor": "x",
         "domain": [
          0,
          1
         ],
         "title": {
          "text": "x"
         }
        }
       }
      },
      "text/html": [
       "<div>                            <div id=\"99b85257-3f05-474d-b5f2-3580131f9a5f\" class=\"plotly-graph-div\" style=\"height:525px; width:100%;\"></div>            <script type=\"text/javascript\">                require([\"plotly\"], function(Plotly) {                    window.PLOTLYENV=window.PLOTLYENV || {};                                    if (document.getElementById(\"99b85257-3f05-474d-b5f2-3580131f9a5f\")) {                    Plotly.newPlot(                        \"99b85257-3f05-474d-b5f2-3580131f9a5f\",                        [{\"alignmentgroup\":\"True\",\"hovertemplate\":\"y=%{x}<br>x=%{y}<extra></extra>\",\"legendgroup\":\"\",\"marker\":{\"color\":\"#636efa\",\"pattern\":{\"shape\":\"\"}},\"name\":\"\",\"offsetgroup\":\"\",\"orientation\":\"h\",\"showlegend\":false,\"textposition\":\"auto\",\"x\":[11080,11202,11648,12552,12644,12679,12683,13064,13090,14345,14459,15093,15135,15291,15805,15904,16861,17196,17927,20204],\"xaxis\":\"x\",\"y\":[\"n_cell\",\"pred_diff13\",\"top3_prob\",\"pred_diff9\",\"ctop4_prob\",\"max_sim\",\"p2_max_prob\",\"top5_prob\",\"top3\",\"top5\",\"ctop3_prob\",\"pred_diff3\",\"pred_p2\",\"top2_prob\",\"markdown_frac\",\"top4\",\"ctop_prob\",\"ctop2_prob\",\"max_prob\",\"cls_pred_p\"],\"yaxis\":\"y\",\"type\":\"bar\"}],                        {\"template\":{\"data\":{\"bar\":[{\"error_x\":{\"color\":\"#2a3f5f\"},\"error_y\":{\"color\":\"#2a3f5f\"},\"marker\":{\"line\":{\"color\":\"#E5ECF6\",\"width\":0.5},\"pattern\":{\"fillmode\":\"overlay\",\"size\":10,\"solidity\":0.2}},\"type\":\"bar\"}],\"barpolar\":[{\"marker\":{\"line\":{\"color\":\"#E5ECF6\",\"width\":0.5},\"pattern\":{\"fillmode\":\"overlay\",\"size\":10,\"solidity\":0.2}},\"type\":\"barpolar\"}],\"carpet\":[{\"aaxis\":{\"endlinecolor\":\"#2a3f5f\",\"gridcolor\":\"white\",\"linecolor\":\"white\",\"minorgridcolor\":\"white\",\"startlinecolor\":\"#2a3f5f\"},\"baxis\":{\"endlinecolor\":\"#2a3f5f\",\"gridcolor\":\"white\",\"linecolor\":\"white\",\"minorgridcolor\":\"white\",\"startlinecolor\":\"#2a3f5f\"},\"type\":\"carpet\"}],\"choropleth\":[{\"colorbar\":{\"outlinewidth\":0,\"ticks\":\"\"},\"type\":\"choropleth\"}],\"contour\":[{\"colorbar\":{\"outlinewidth\":0,\"ticks\":\"\"},\"colorscale\":[[0.0,\"#0d0887\"],[0.1111111111111111,\"#46039f\"],[0.2222222222222222,\"#7201a8\"],[0.3333333333333333,\"#9c179e\"],[0.4444444444444444,\"#bd3786\"],[0.5555555555555556,\"#d8576b\"],[0.6666666666666666,\"#ed7953\"],[0.7777777777777778,\"#fb9f3a\"],[0.8888888888888888,\"#fdca26\"],[1.0,\"#f0f921\"]],\"type\":\"contour\"}],\"contourcarpet\":[{\"colorbar\":{\"outlinewidth\":0,\"ticks\":\"\"},\"type\":\"contourcarpet\"}],\"heatmap\":[{\"colorbar\":{\"outlinewidth\":0,\"ticks\":\"\"},\"colorscale\":[[0.0,\"#0d0887\"],[0.1111111111111111,\"#46039f\"],[0.2222222222222222,\"#7201a8\"],[0.3333333333333333,\"#9c179e\"],[0.4444444444444444,\"#bd3786\"],[0.5555555555555556,\"#d8576b\"],[0.6666666666666666,\"#ed7953\"],[0.7777777777777778,\"#fb9f3a\"],[0.8888888888888888,\"#fdca26\"],[1.0,\"#f0f921\"]],\"type\":\"heatmap\"}],\"heatmapgl\":[{\"colorbar\":{\"outlinewidth\":0,\"ticks\":\"\"},\"colorscale\":[[0.0,\"#0d0887\"],[0.1111111111111111,\"#46039f\"],[0.2222222222222222,\"#7201a8\"],[0.3333333333333333,\"#9c179e\"],[0.4444444444444444,\"#bd3786\"],[0.5555555555555556,\"#d8576b\"],[0.6666666666666666,\"#ed7953\"],[0.7777777777777778,\"#fb9f3a\"],[0.8888888888888888,\"#fdca26\"],[1.0,\"#f0f921\"]],\"type\":\"heatmapgl\"}],\"histogram\":[{\"marker\":{\"pattern\":{\"fillmode\":\"overlay\",\"size\":10,\"solidity\":0.2}},\"type\":\"histogram\"}],\"histogram2d\":[{\"colorbar\":{\"outlinewidth\":0,\"ticks\":\"\"},\"colorscale\":[[0.0,\"#0d0887\"],[0.1111111111111111,\"#46039f\"],[0.2222222222222222,\"#7201a8\"],[0.3333333333333333,\"#9c179e\"],[0.4444444444444444,\"#bd3786\"],[0.5555555555555556,\"#d8576b\"],[0.6666666666666666,\"#ed7953\"],[0.7777777777777778,\"#fb9f3a\"],[0.8888888888888888,\"#fdca26\"],[1.0,\"#f0f921\"]],\"type\":\"histogram2d\"}],\"histogram2dcontour\":[{\"colorbar\":{\"outlinewidth\":0,\"ticks\":\"\"},\"colorscale\":[[0.0,\"#0d0887\"],[0.1111111111111111,\"#46039f\"],[0.2222222222222222,\"#7201a8\"],[0.3333333333333333,\"#9c179e\"],[0.4444444444444444,\"#bd3786\"],[0.5555555555555556,\"#d8576b\"],[0.6666666666666666,\"#ed7953\"],[0.7777777777777778,\"#fb9f3a\"],[0.8888888888888888,\"#fdca26\"],[1.0,\"#f0f921\"]],\"type\":\"histogram2dcontour\"}],\"mesh3d\":[{\"colorbar\":{\"outlinewidth\":0,\"ticks\":\"\"},\"type\":\"mesh3d\"}],\"parcoords\":[{\"line\":{\"colorbar\":{\"outlinewidth\":0,\"ticks\":\"\"}},\"type\":\"parcoords\"}],\"pie\":[{\"automargin\":true,\"type\":\"pie\"}],\"scatter\":[{\"marker\":{\"colorbar\":{\"outlinewidth\":0,\"ticks\":\"\"}},\"type\":\"scatter\"}],\"scatter3d\":[{\"line\":{\"colorbar\":{\"outlinewidth\":0,\"ticks\":\"\"}},\"marker\":{\"colorbar\":{\"outlinewidth\":0,\"ticks\":\"\"}},\"type\":\"scatter3d\"}],\"scattercarpet\":[{\"marker\":{\"colorbar\":{\"outlinewidth\":0,\"ticks\":\"\"}},\"type\":\"scattercarpet\"}],\"scattergeo\":[{\"marker\":{\"colorbar\":{\"outlinewidth\":0,\"ticks\":\"\"}},\"type\":\"scattergeo\"}],\"scattergl\":[{\"marker\":{\"colorbar\":{\"outlinewidth\":0,\"ticks\":\"\"}},\"type\":\"scattergl\"}],\"scattermapbox\":[{\"marker\":{\"colorbar\":{\"outlinewidth\":0,\"ticks\":\"\"}},\"type\":\"scattermapbox\"}],\"scatterpolar\":[{\"marker\":{\"colorbar\":{\"outlinewidth\":0,\"ticks\":\"\"}},\"type\":\"scatterpolar\"}],\"scatterpolargl\":[{\"marker\":{\"colorbar\":{\"outlinewidth\":0,\"ticks\":\"\"}},\"type\":\"scatterpolargl\"}],\"scatterternary\":[{\"marker\":{\"colorbar\":{\"outlinewidth\":0,\"ticks\":\"\"}},\"type\":\"scatterternary\"}],\"surface\":[{\"colorbar\":{\"outlinewidth\":0,\"ticks\":\"\"},\"colorscale\":[[0.0,\"#0d0887\"],[0.1111111111111111,\"#46039f\"],[0.2222222222222222,\"#7201a8\"],[0.3333333333333333,\"#9c179e\"],[0.4444444444444444,\"#bd3786\"],[0.5555555555555556,\"#d8576b\"],[0.6666666666666666,\"#ed7953\"],[0.7777777777777778,\"#fb9f3a\"],[0.8888888888888888,\"#fdca26\"],[1.0,\"#f0f921\"]],\"type\":\"surface\"}],\"table\":[{\"cells\":{\"fill\":{\"color\":\"#EBF0F8\"},\"line\":{\"color\":\"white\"}},\"header\":{\"fill\":{\"color\":\"#C8D4E3\"},\"line\":{\"color\":\"white\"}},\"type\":\"table\"}]},\"layout\":{\"annotationdefaults\":{\"arrowcolor\":\"#2a3f5f\",\"arrowhead\":0,\"arrowwidth\":1},\"autotypenumbers\":\"strict\",\"coloraxis\":{\"colorbar\":{\"outlinewidth\":0,\"ticks\":\"\"}},\"colorscale\":{\"diverging\":[[0,\"#8e0152\"],[0.1,\"#c51b7d\"],[0.2,\"#de77ae\"],[0.3,\"#f1b6da\"],[0.4,\"#fde0ef\"],[0.5,\"#f7f7f7\"],[0.6,\"#e6f5d0\"],[0.7,\"#b8e186\"],[0.8,\"#7fbc41\"],[0.9,\"#4d9221\"],[1,\"#276419\"]],\"sequential\":[[0.0,\"#0d0887\"],[0.1111111111111111,\"#46039f\"],[0.2222222222222222,\"#7201a8\"],[0.3333333333333333,\"#9c179e\"],[0.4444444444444444,\"#bd3786\"],[0.5555555555555556,\"#d8576b\"],[0.6666666666666666,\"#ed7953\"],[0.7777777777777778,\"#fb9f3a\"],[0.8888888888888888,\"#fdca26\"],[1.0,\"#f0f921\"]],\"sequentialminus\":[[0.0,\"#0d0887\"],[0.1111111111111111,\"#46039f\"],[0.2222222222222222,\"#7201a8\"],[0.3333333333333333,\"#9c179e\"],[0.4444444444444444,\"#bd3786\"],[0.5555555555555556,\"#d8576b\"],[0.6666666666666666,\"#ed7953\"],[0.7777777777777778,\"#fb9f3a\"],[0.8888888888888888,\"#fdca26\"],[1.0,\"#f0f921\"]]},\"colorway\":[\"#636efa\",\"#EF553B\",\"#00cc96\",\"#ab63fa\",\"#FFA15A\",\"#19d3f3\",\"#FF6692\",\"#B6E880\",\"#FF97FF\",\"#FECB52\"],\"font\":{\"color\":\"#2a3f5f\"},\"geo\":{\"bgcolor\":\"white\",\"lakecolor\":\"white\",\"landcolor\":\"#E5ECF6\",\"showlakes\":true,\"showland\":true,\"subunitcolor\":\"white\"},\"hoverlabel\":{\"align\":\"left\"},\"hovermode\":\"closest\",\"mapbox\":{\"style\":\"light\"},\"paper_bgcolor\":\"white\",\"plot_bgcolor\":\"#E5ECF6\",\"polar\":{\"angularaxis\":{\"gridcolor\":\"white\",\"linecolor\":\"white\",\"ticks\":\"\"},\"bgcolor\":\"#E5ECF6\",\"radialaxis\":{\"gridcolor\":\"white\",\"linecolor\":\"white\",\"ticks\":\"\"}},\"scene\":{\"xaxis\":{\"backgroundcolor\":\"#E5ECF6\",\"gridcolor\":\"white\",\"gridwidth\":2,\"linecolor\":\"white\",\"showbackground\":true,\"ticks\":\"\",\"zerolinecolor\":\"white\"},\"yaxis\":{\"backgroundcolor\":\"#E5ECF6\",\"gridcolor\":\"white\",\"gridwidth\":2,\"linecolor\":\"white\",\"showbackground\":true,\"ticks\":\"\",\"zerolinecolor\":\"white\"},\"zaxis\":{\"backgroundcolor\":\"#E5ECF6\",\"gridcolor\":\"white\",\"gridwidth\":2,\"linecolor\":\"white\",\"showbackground\":true,\"ticks\":\"\",\"zerolinecolor\":\"white\"}},\"shapedefaults\":{\"line\":{\"color\":\"#2a3f5f\"}},\"ternary\":{\"aaxis\":{\"gridcolor\":\"white\",\"linecolor\":\"white\",\"ticks\":\"\"},\"baxis\":{\"gridcolor\":\"white\",\"linecolor\":\"white\",\"ticks\":\"\"},\"bgcolor\":\"#E5ECF6\",\"caxis\":{\"gridcolor\":\"white\",\"linecolor\":\"white\",\"ticks\":\"\"}},\"title\":{\"x\":0.05},\"xaxis\":{\"automargin\":true,\"gridcolor\":\"white\",\"linecolor\":\"white\",\"ticks\":\"\",\"title\":{\"standoff\":15},\"zerolinecolor\":\"white\",\"zerolinewidth\":2},\"yaxis\":{\"automargin\":true,\"gridcolor\":\"white\",\"linecolor\":\"white\",\"ticks\":\"\",\"title\":{\"standoff\":15},\"zerolinecolor\":\"white\",\"zerolinewidth\":2}}},\"xaxis\":{\"anchor\":\"y\",\"domain\":[0.0,1.0],\"title\":{\"text\":\"y\"}},\"yaxis\":{\"anchor\":\"x\",\"domain\":[0.0,1.0],\"title\":{\"text\":\"x\"}},\"legend\":{\"tracegroupgap\":0},\"margin\":{\"t\":60},\"barmode\":\"relative\"},                        {\"responsive\": true}                    ).then(function(){\n",
       "                            \n",
       "var gd = document.getElementById('99b85257-3f05-474d-b5f2-3580131f9a5f');\n",
       "var x = new MutationObserver(function (mutations, observer) {{\n",
       "        var display = window.getComputedStyle(gd).display;\n",
       "        if (!display || display === 'none') {{\n",
       "            console.log([gd, 'removed!']);\n",
       "            Plotly.purge(gd);\n",
       "            observer.disconnect();\n",
       "        }}\n",
       "}});\n",
       "\n",
       "// Listen for the removal of the full notebook cells\n",
       "var notebookContainer = gd.closest('#notebook-container');\n",
       "if (notebookContainer) {{\n",
       "    x.observe(notebookContainer, {childList: true});\n",
       "}}\n",
       "\n",
       "// Listen for the clearing of the current output cell\n",
       "var outputEl = gd.closest('.output');\n",
       "if (outputEl) {{\n",
       "    x.observe(outputEl, {childList: true});\n",
       "}}\n",
       "\n",
       "                        })                };                });            </script>        </div>"
      ]
     },
     "metadata": {},
     "output_type": "display_data"
    }
   ],
   "source": [
    "gezi.plot.bar_sorted(np.asarray(bst.feature_importance()), np.asarray(bst.feature_name()),  topn=20)"
   ]
  },
  {
   "cell_type": "code",
   "execution_count": 237,
   "metadata": {},
   "outputs": [
    {
     "data": {
      "text/plain": [
       "0.9114947248763512"
      ]
     },
     "execution_count": 237,
     "metadata": {},
     "output_type": "execute_result"
    }
   ],
   "source": [
    "calc_metric({'id': dvalid.id.values, 'cell_id': dvalid.cell_id.values, 'pred': dvalid.lgb_pred.values})"
   ]
  },
  {
   "cell_type": "code",
   "execution_count": 238,
   "metadata": {},
   "outputs": [
    {
     "data": {
      "text/plain": [
       "0.9110552050830005"
      ]
     },
     "execution_count": 238,
     "metadata": {},
     "output_type": "execute_result"
    }
   ],
   "source": [
    "calc_metric({'id': dvalid.id.values, 'cell_id': dvalid.cell_id.values, 'pred': dvalid.cb_pred.values})"
   ]
  },
  {
   "cell_type": "code",
   "execution_count": 239,
   "metadata": {},
   "outputs": [
    {
     "data": {
      "text/plain": [
       "0.911691966681147"
      ]
     },
     "execution_count": 239,
     "metadata": {},
     "output_type": "execute_result"
    }
   ],
   "source": [
    "calc_metric({'id': dvalid.id.values, 'cell_id': dvalid.cell_id.values, 'pred': (dvalid.cb_pred.values + dvalid.lgb_pred.values) / 2.})"
   ]
  },
  {
   "cell_type": "code",
   "execution_count": 240,
   "metadata": {},
   "outputs": [
    {
     "data": {
      "text/plain": [
       "0.9117161527798324"
      ]
     },
     "execution_count": 240,
     "metadata": {},
     "output_type": "execute_result"
    }
   ],
   "source": [
    "calc_metric({'id': dvalid.id.values, 'cell_id': dvalid.cell_id.values, 'pred': (dvalid.cb_pred.values * 0.3 + dvalid.lgb_pred.values * 0.7)})"
   ]
  },
  {
   "cell_type": "code",
   "execution_count": 254,
   "metadata": {},
   "outputs": [
    {
     "data": {
      "text/plain": [
       "count    424943.000000\n",
       "mean          0.732940\n",
       "std           0.248605\n",
       "min           0.035726\n",
       "25%           0.528713\n",
       "50%           0.800491\n",
       "75%           0.970395\n",
       "90%           0.996345\n",
       "95%           0.998972\n",
       "99%           0.999920\n",
       "99.9%         0.999996\n",
       "max           1.000000\n",
       "Name: max_prob, dtype: float64"
      ]
     },
     "execution_count": 254,
     "metadata": {},
     "output_type": "execute_result"
    }
   ],
   "source": [
    "df.max_prob.describe(PERCENTILES2)"
   ]
  },
  {
   "cell_type": "code",
   "execution_count": 255,
   "metadata": {},
   "outputs": [
    {
     "data": {
      "text/plain": [
       "count    4.249430e+05\n",
       "mean     1.308395e-01\n",
       "std      1.213924e-01\n",
       "min      2.737897e-09\n",
       "25%      1.753494e-02\n",
       "50%      1.037667e-01\n",
       "75%      2.147869e-01\n",
       "90%      3.114589e-01\n",
       "95%      3.653492e-01\n",
       "99%      4.454674e-01\n",
       "99.9%    4.868749e-01\n",
       "max      4.996785e-01\n",
       "Name: top2_prob, dtype: float64"
      ]
     },
     "execution_count": 255,
     "metadata": {},
     "output_type": "execute_result"
    }
   ],
   "source": [
    "df.top2_prob.describe(PERCENTILES2)"
   ]
  },
  {
   "cell_type": "code",
   "execution_count": 258,
   "metadata": {},
   "outputs": [
    {
     "data": {
      "text/plain": [
       "5391"
      ]
     },
     "execution_count": 258,
     "metadata": {},
     "output_type": "execute_result"
    }
   ],
   "source": [
    "len(df[df.fold==0].id.unique())"
   ]
  },
  {
   "cell_type": "code",
   "execution_count": 260,
   "metadata": {},
   "outputs": [
    {
     "data": {
      "text/plain": [
       "array(['60de206b6ce82a', '63f08d7ba7e67d', '26fc66ff507979',\n",
       "       'eac0f44510c940', 'b08618d68d8944', '5a43e808cd4eeb',\n",
       "       'fbc01212540d96', 'c3f79b88177999', '50b373eff030e9',\n",
       "       'fb493afc9137f2', '1756fd2f2bcaeb', '5ca06a49134e94',\n",
       "       'b5bbeb565abdb2', '6e65077d95d291', '072988fea7f24f',\n",
       "       '89043fc749b454', 'fc801d9483c98a', '9b16410a01bc18',\n",
       "       'ae5183a93c12f5', '7c74be67b7cb26', '8b2de0840b86f3',\n",
       "       '8a7c3e73a0ea8f', 'ae5aebd1d2bdb6', 'fa185cbcafee21',\n",
       "       '6764a50c754b41', '95afa173a1bada', 'd58edc1ff4868b',\n",
       "       'a4940a5f2bdec8', 'ba7cd6485d0a30', '66d3a933504cfe',\n",
       "       '94b3f452bde56a', '7813881d2cac01', '4766c2a18ec9f6',\n",
       "       'b654321ad2729c', 'afead6eaec311e', 'ef5defb001c002',\n",
       "       'dc0e2a79cdf89c', '9bc00ac955adc0', '797f683c0b51f3',\n",
       "       '77a00e97dc9625', '1f2aecf52bd7fa', '12bb5c8ce06644',\n",
       "       'dd8b72fdb2c201', '88a21b32f1fe78', '061a42cc62fd25',\n",
       "       '9bdfa8da0dfd36', 'c684ce09fb95ac', '0ab18728d1ad59',\n",
       "       '08cf0736eb80f3', '2d32b27bd97408', '59ab0e0f9279b9',\n",
       "       'c1a12cfa9bd53a', 'd633ba699593b1', '9cf418cf9ab7e0',\n",
       "       '81e5781ecbd4d0', '202c3b87bb813a', '97c553aa61a067',\n",
       "       '3078b2da85cf37', '638c9121aef256', '61d15258600b37',\n",
       "       '7d39716313d432', '1a50a74732d238', '31f8d7dbc2124b',\n",
       "       '5c34f9d9e389f5', 'ba20ea6ad1c83e', 'f25c9a90f5b296',\n",
       "       '90f71949b1a6ad', 'ef5114870ab4a7', '83da946b360f82',\n",
       "       '8d4e876728690b', 'ce14ee8dd62c17', 'b7381fd0bd28ea',\n",
       "       '87c0b2dcc0c36c', '4b057f5e5adfb9', '5a61454af2e54c',\n",
       "       'd14fbd648b370b', '8b080fa7ed2336', '65d2c72a3f3b08',\n",
       "       'c5273ad86d022b', '75de630c3fdc79', 'c47ba544d66143',\n",
       "       'af9bad483f43dc', 'f014230c424a89', 'cc077a20d54b13',\n",
       "       '46594e54f59bc4', '30375ddada0002', 'f1900902a286d3',\n",
       "       '2b5276c0d005e0', '4e47a93c25becd', 'bd119f31ca3949',\n",
       "       'b0521bdc6d6e05', 'fe5974ac705ec2', '20273bf81e0426',\n",
       "       '5b3088a85f11b1', 'a86b559fac70b5', '68075cab273806',\n",
       "       'bee3326b176277', '5e8cbd961ec3b4', '2f08709992fae2',\n",
       "       'd3c93dc9698379', '161ed6e5eb2928', '82412c540f7d12',\n",
       "       '77f8454b56a1b1', '5d0c47ac85fbf4', 'ff0b08cde8b08f',\n",
       "       'bc605b932e4928', '1274cf0fef9383', '5f13f44470bd4e',\n",
       "       '81751813372fbf', 'cb563c9779a44a', 'c45ee468d8d062',\n",
       "       'ad937ed482a016', '4d8c2858133670', 'c120e3aba8da4b',\n",
       "       'a46e9c0bd77b52', '46bff4a7906514', '467bbcabaf5cec',\n",
       "       '81fbd37dbb5a5b', 'b7c407e1e3cbde', '1d2917f3382d27',\n",
       "       'a239d4073b7100', '9751d0438a9040', '0700aee042661b',\n",
       "       '6b4a1929446897', 'decec4e835e4e5', '1ce21386eb001b',\n",
       "       'b37dbff9dbc5ba', '57d8903bb393e3', '3863cd6cf4a506',\n",
       "       '69d61e2c745adc', '05bcdd224d9c16', '4b14696feece32',\n",
       "       'e2b3cd93c5f59c', 'c3eb070d615f94', 'd285836b082d9e',\n",
       "       '850820f0051638', 'a5652de2a3a694', 'eecf594aff41e6',\n",
       "       '9eb086d6323a9c', '51d3da3ffcd4e1', '556a2f1a05a349',\n",
       "       'f9c3758212a86a', '6e4070093858b4', '0960b13787b4d3',\n",
       "       '8ae4426aee5699', 'f492352e110bb5', '34a06fd62a8338',\n",
       "       '8e1d99189f511b', '217c8a149a613b', '88419f5917da06',\n",
       "       '99384c04b0f618', '1bebd3f843c0c1', '01920f87af0b35',\n",
       "       '104c31747ed7a0', '06aaa94afd514b', '0a62ae95f2377f',\n",
       "       '7f0fbdee67ac81', '40547799f3e2a2', '5e4bc0dbef16b9',\n",
       "       '597a5054b11435', '0c07c6efc22782', 'bde44cbdd234cb',\n",
       "       '3ed5df6f9c48fc', 'd8cfe21016b5ca', 'a1c2571e304f44',\n",
       "       '5ef3366e6055e2', '67c4fd0ed98294', '9553d05c9570a0',\n",
       "       '893a32d39b9846', '3a16ad0a599a5d', '307e8ea940dee5',\n",
       "       'dc0a5f14655235', 'c5d78b51854694', '41ce1750a0c539',\n",
       "       '4f886e0fee67f2', '05be94d42bcdcc', '68902c8b64fc5b',\n",
       "       '031f7da4e34886', '7fb701bd523a4e', '7b729b2812f1d2',\n",
       "       '386613f3098617', '227426d689f452', 'fccc51d152d571',\n",
       "       '633e0541fff51f', '7bbee4b52dea01', 'a22c7d459f2464',\n",
       "       'b8db160544313e', '70e3a5cc107929', 'c6569fd069cede',\n",
       "       'fe37b19e83dc98', '1ee6f101c240af', '67823c3eecf830',\n",
       "       '6ac6b6b1a72e26', '98b885f8b5bfef', 'e96744235e776a',\n",
       "       '528c45fe0fecc2', 'fcd9cd0de58d37', '63bb5baf863624',\n",
       "       'd88639d3f3d0b6', '746c5dbe8415c8', '55a5df2427cfd1',\n",
       "       '521ecbcf06adc8', '8e1c230b430f82', '4f31d037213d68',\n",
       "       '51b963346aab78', '3ba34bf4b20bc1', '0f6258fd149484',\n",
       "       '4a5c700e4692dd', 'ec8083b9fa75a7', '19caaf8e77c10b',\n",
       "       'ad91f84a30d0a3', '32e5836b558f98', 'c569082da3fb9d',\n",
       "       'a791e60ce51143', '6298ba528b5255', 'f9619b6dec2303',\n",
       "       '52bb416ba7f176', '676f55aa1852a3', '6da83e6e680802',\n",
       "       'c7143105c981e8', '5b72f82c9d0926', '6dd115abe2a703',\n",
       "       '0a896ab4b874a6', 'b14d160cd05e67', 'f015d0147e8fbf',\n",
       "       'd45666c4fb9cfe', '0490603b0ba8a7', 'a4e138f4473e21',\n",
       "       '42c75bfb827883', '5fa665be44a2ef', '06e48e16117c82',\n",
       "       '1bb9361e06db40', 'a1ea54c1768989', '699934c7f72114',\n",
       "       '2d543a43ef8312', 'a6ccbe0295de6c', '8d82d3a82c9350',\n",
       "       '386ffbefc676cf', '69d54858a8edc8', 'abf71afca425b1',\n",
       "       'a060712b49beca', '237000d277f550', '4f6509ca44aeca',\n",
       "       'fb98b23426c038', '8c4c201a7cd876', '1318ce8ba424f8',\n",
       "       'e210cc98ab5b7d', '6a17d813eba1d4', '3d194c9e6ca5b9',\n",
       "       '1eb801aeb223db', '2b7c45808ae183', '777a6e3b927b5b',\n",
       "       'df53b725dfceca', '80c094360385bf', '12c6abe4998606',\n",
       "       '3379e2966987ba', 'b8f871785c0a4d', 'b83b57924722b6',\n",
       "       'f4f13b00668c4c', '24d9b0ce164483', '999a76f5dfd52e',\n",
       "       'e52d7bd5c244c5', '8f2c9ccea5044a', '25666a01847e0c',\n",
       "       '179ec0fbf6bb6a', '2761b59d4baf48', '27882eb85f9120',\n",
       "       '7d2ae6e6302026', '6251bf3ad67db2', '89d172ca5787b8',\n",
       "       '8c124cd0220cf7', 'a2233f43c8b209', '2641a787d1ed8b',\n",
       "       '94d4d431393aa5', '0bb9f52012fff8', '8536dbe21636c3',\n",
       "       'b2e392eacaae68', '50c04871ef23b4', 'da965e344ef3e6',\n",
       "       'cc08fe584ce97a', '1453654a3cbfb4', 'f3953981e48154',\n",
       "       'c397f18b2100e9', 'aecbaaf385edce', '1973aa72d366d4',\n",
       "       'd0e06a48fd3586', '49120a8d970b01', '55147acbe1bdb9',\n",
       "       '8de23fbd0ab55a', 'f40d07159a39b1', '5b65642ebfff18',\n",
       "       '9876666c632414', '722a914975ea52', '05cacfec9ae79f',\n",
       "       '9dade5266bcb8a', '0742bbbc47cc1d', '3ff315ef2c015f',\n",
       "       'f8228c764d4a83', '7468d6e10fafd8', '09e285ca28b7d2',\n",
       "       '899a9ddc24623f', '79d3894dfa09e6', 'f7a4a588d935ad',\n",
       "       '8b6bff2bcc9882', '6c39e23b052257', '491b5ece382aa4',\n",
       "       'ab56d5c66c05f6', '28e93a34f3b152', 'd807357c560745',\n",
       "       '5a5fb703fd94fe', '80e29cd0113fe7', '8930ae48f94b3a',\n",
       "       'b0022bfc28068a', 'd69d776d9aa280', '3787a918371759',\n",
       "       '8ec39376d987a3', '292207e3bb9bc5', '87a1fdbadf73c0',\n",
       "       'b29bad890eadde', 'e5a87918f27268', '639b77720a19c4',\n",
       "       'ffdd6d6ae5b35a', 'e91db78d420eac', '5c884c77130c59',\n",
       "       '7e9fbf72a03e72', '683f8cc5ff1b1e', 'ae23dcb905b6bf',\n",
       "       'b56b0883265047', '3cfb466967d5ec', '65a5a53ae7632a',\n",
       "       '058c6857252b82', 'ccc304648330c2'], dtype=object)"
      ]
     },
     "execution_count": 260,
     "metadata": {},
     "output_type": "execute_result"
    }
   ],
   "source": [
    "ids = gezi.random_sample(df[df.fold==0].id.unique(), 332)\n",
    "ids"
   ]
  },
  {
   "cell_type": "code",
   "execution_count": 262,
   "metadata": {},
   "outputs": [],
   "source": [
    "d = df[df.id.isin(ids)]"
   ]
  },
  {
   "cell_type": "code",
   "execution_count": 263,
   "metadata": {},
   "outputs": [
    {
     "data": {
      "text/html": [
       "<div>\n",
       "<style scoped>\n",
       "    .dataframe tbody tr th:only-of-type {\n",
       "        vertical-align: middle;\n",
       "    }\n",
       "\n",
       "    .dataframe tbody tr th {\n",
       "        vertical-align: top;\n",
       "    }\n",
       "\n",
       "    .dataframe thead th {\n",
       "        text-align: right;\n",
       "    }\n",
       "</style>\n",
       "<table border=\"1\" class=\"dataframe\">\n",
       "  <thead>\n",
       "    <tr style=\"text-align: right;\">\n",
       "      <th></th>\n",
       "      <th>id</th>\n",
       "      <th>cell_id</th>\n",
       "      <th>cid</th>\n",
       "      <th>cell_type</th>\n",
       "      <th>rank</th>\n",
       "      <th>rel_rank</th>\n",
       "      <th>context_match</th>\n",
       "      <th>match_code</th>\n",
       "      <th>n_code_cell</th>\n",
       "      <th>n_markdown_cell</th>\n",
       "      <th>...</th>\n",
       "      <th>pred_diff10</th>\n",
       "      <th>rule_pred</th>\n",
       "      <th>p2_pred</th>\n",
       "      <th>pred_p2</th>\n",
       "      <th>pred_diff11</th>\n",
       "      <th>pred_diff12</th>\n",
       "      <th>pred_diff13</th>\n",
       "      <th>p2_max_prob</th>\n",
       "      <th>p2_top2</th>\n",
       "      <th>p2_top2_prob</th>\n",
       "    </tr>\n",
       "  </thead>\n",
       "  <tbody>\n",
       "    <tr>\n",
       "      <th>2637</th>\n",
       "      <td>01920f87af0b35</td>\n",
       "      <td>2a9f0431</td>\n",
       "      <td>01920f87af0b35\\t2a9f0431</td>\n",
       "      <td>markdown</td>\n",
       "      <td>17</td>\n",
       "      <td>0.579710</td>\n",
       "      <td>1</td>\n",
       "      <td>13.0</td>\n",
       "      <td>22</td>\n",
       "      <td>8</td>\n",
       "      <td>...</td>\n",
       "      <td>0.130435</td>\n",
       "      <td>0.586951</td>\n",
       "      <td>0.586957</td>\n",
       "      <td>0.586957</td>\n",
       "      <td>0.051070</td>\n",
       "      <td>0.039388</td>\n",
       "      <td>0.062753</td>\n",
       "      <td>0.983913</td>\n",
       "      <td>0.326087</td>\n",
       "      <td>0.016087</td>\n",
       "    </tr>\n",
       "    <tr>\n",
       "      <th>2638</th>\n",
       "      <td>01920f87af0b35</td>\n",
       "      <td>510e6b78</td>\n",
       "      <td>01920f87af0b35\\t510e6b78</td>\n",
       "      <td>markdown</td>\n",
       "      <td>0</td>\n",
       "      <td>0.021739</td>\n",
       "      <td>1</td>\n",
       "      <td>0.0</td>\n",
       "      <td>22</td>\n",
       "      <td>8</td>\n",
       "      <td>...</td>\n",
       "      <td>0.043478</td>\n",
       "      <td>0.065217</td>\n",
       "      <td>0.065217</td>\n",
       "      <td>0.065217</td>\n",
       "      <td>0.001709</td>\n",
       "      <td>0.001017</td>\n",
       "      <td>0.004435</td>\n",
       "      <td>0.985653</td>\n",
       "      <td>0.021739</td>\n",
       "      <td>0.014347</td>\n",
       "    </tr>\n",
       "    <tr>\n",
       "      <th>2639</th>\n",
       "      <td>01920f87af0b35</td>\n",
       "      <td>5aadfc4c</td>\n",
       "      <td>01920f87af0b35\\t5aadfc4c</td>\n",
       "      <td>markdown</td>\n",
       "      <td>3</td>\n",
       "      <td>0.108696</td>\n",
       "      <td>1</td>\n",
       "      <td>2.0</td>\n",
       "      <td>22</td>\n",
       "      <td>8</td>\n",
       "      <td>...</td>\n",
       "      <td>0.043478</td>\n",
       "      <td>0.108695</td>\n",
       "      <td>0.108696</td>\n",
       "      <td>0.108696</td>\n",
       "      <td>0.004336</td>\n",
       "      <td>0.012463</td>\n",
       "      <td>0.003791</td>\n",
       "      <td>0.909259</td>\n",
       "      <td>0.195652</td>\n",
       "      <td>0.090741</td>\n",
       "    </tr>\n",
       "    <tr>\n",
       "      <th>2640</th>\n",
       "      <td>01920f87af0b35</td>\n",
       "      <td>71c857a7</td>\n",
       "      <td>01920f87af0b35\\t71c857a7</td>\n",
       "      <td>markdown</td>\n",
       "      <td>26</td>\n",
       "      <td>0.847826</td>\n",
       "      <td>1</td>\n",
       "      <td>19.0</td>\n",
       "      <td>22</td>\n",
       "      <td>8</td>\n",
       "      <td>...</td>\n",
       "      <td>0.086957</td>\n",
       "      <td>0.891301</td>\n",
       "      <td>0.891304</td>\n",
       "      <td>0.891304</td>\n",
       "      <td>0.032901</td>\n",
       "      <td>0.030692</td>\n",
       "      <td>0.035110</td>\n",
       "      <td>0.884465</td>\n",
       "      <td>0.847826</td>\n",
       "      <td>0.115535</td>\n",
       "    </tr>\n",
       "    <tr>\n",
       "      <th>2641</th>\n",
       "      <td>01920f87af0b35</td>\n",
       "      <td>8a4b0f48</td>\n",
       "      <td>01920f87af0b35\\t8a4b0f48</td>\n",
       "      <td>markdown</td>\n",
       "      <td>18</td>\n",
       "      <td>0.594203</td>\n",
       "      <td>1</td>\n",
       "      <td>13.0</td>\n",
       "      <td>22</td>\n",
       "      <td>8</td>\n",
       "      <td>...</td>\n",
       "      <td>0.086957</td>\n",
       "      <td>0.586956</td>\n",
       "      <td>0.586957</td>\n",
       "      <td>0.586957</td>\n",
       "      <td>0.001652</td>\n",
       "      <td>0.002298</td>\n",
       "      <td>0.001006</td>\n",
       "      <td>0.979733</td>\n",
       "      <td>0.500000</td>\n",
       "      <td>0.020267</td>\n",
       "    </tr>\n",
       "    <tr>\n",
       "      <th>...</th>\n",
       "      <td>...</td>\n",
       "      <td>...</td>\n",
       "      <td>...</td>\n",
       "      <td>...</td>\n",
       "      <td>...</td>\n",
       "      <td>...</td>\n",
       "      <td>...</td>\n",
       "      <td>...</td>\n",
       "      <td>...</td>\n",
       "      <td>...</td>\n",
       "      <td>...</td>\n",
       "      <td>...</td>\n",
       "      <td>...</td>\n",
       "      <td>...</td>\n",
       "      <td>...</td>\n",
       "      <td>...</td>\n",
       "      <td>...</td>\n",
       "      <td>...</td>\n",
       "      <td>...</td>\n",
       "      <td>...</td>\n",
       "      <td>...</td>\n",
       "    </tr>\n",
       "    <tr>\n",
       "      <th>424582</th>\n",
       "      <td>ffdd6d6ae5b35a</td>\n",
       "      <td>7de5fef1</td>\n",
       "      <td>ffdd6d6ae5b35a\\t7de5fef1</td>\n",
       "      <td>markdown</td>\n",
       "      <td>34</td>\n",
       "      <td>0.900000</td>\n",
       "      <td>1</td>\n",
       "      <td>22.0</td>\n",
       "      <td>24</td>\n",
       "      <td>14</td>\n",
       "      <td>...</td>\n",
       "      <td>0.240000</td>\n",
       "      <td>0.900000</td>\n",
       "      <td>0.900000</td>\n",
       "      <td>0.900000</td>\n",
       "      <td>0.004710</td>\n",
       "      <td>0.004281</td>\n",
       "      <td>0.005139</td>\n",
       "      <td>0.995273</td>\n",
       "      <td>0.940000</td>\n",
       "      <td>0.004727</td>\n",
       "    </tr>\n",
       "    <tr>\n",
       "      <th>424583</th>\n",
       "      <td>ffdd6d6ae5b35a</td>\n",
       "      <td>814a5e21</td>\n",
       "      <td>ffdd6d6ae5b35a\\t814a5e21</td>\n",
       "      <td>markdown</td>\n",
       "      <td>9</td>\n",
       "      <td>0.220000</td>\n",
       "      <td>1</td>\n",
       "      <td>5.0</td>\n",
       "      <td>24</td>\n",
       "      <td>14</td>\n",
       "      <td>...</td>\n",
       "      <td>0.080000</td>\n",
       "      <td>0.220001</td>\n",
       "      <td>0.220000</td>\n",
       "      <td>0.220000</td>\n",
       "      <td>0.011718</td>\n",
       "      <td>0.015156</td>\n",
       "      <td>0.008281</td>\n",
       "      <td>0.953805</td>\n",
       "      <td>0.260000</td>\n",
       "      <td>0.046195</td>\n",
       "    </tr>\n",
       "    <tr>\n",
       "      <th>424584</th>\n",
       "      <td>ffdd6d6ae5b35a</td>\n",
       "      <td>b7ad7c3a</td>\n",
       "      <td>ffdd6d6ae5b35a\\tb7ad7c3a</td>\n",
       "      <td>markdown</td>\n",
       "      <td>5</td>\n",
       "      <td>0.140000</td>\n",
       "      <td>1</td>\n",
       "      <td>3.0</td>\n",
       "      <td>24</td>\n",
       "      <td>14</td>\n",
       "      <td>...</td>\n",
       "      <td>0.040000</td>\n",
       "      <td>0.140000</td>\n",
       "      <td>0.140000</td>\n",
       "      <td>0.140000</td>\n",
       "      <td>0.004457</td>\n",
       "      <td>0.003929</td>\n",
       "      <td>0.004985</td>\n",
       "      <td>0.962857</td>\n",
       "      <td>0.100000</td>\n",
       "      <td>0.037142</td>\n",
       "    </tr>\n",
       "    <tr>\n",
       "      <th>424585</th>\n",
       "      <td>ffdd6d6ae5b35a</td>\n",
       "      <td>bde241ff</td>\n",
       "      <td>ffdd6d6ae5b35a\\tbde241ff</td>\n",
       "      <td>markdown</td>\n",
       "      <td>13</td>\n",
       "      <td>0.340000</td>\n",
       "      <td>1</td>\n",
       "      <td>8.0</td>\n",
       "      <td>24</td>\n",
       "      <td>14</td>\n",
       "      <td>...</td>\n",
       "      <td>0.360000</td>\n",
       "      <td>0.340000</td>\n",
       "      <td>0.340000</td>\n",
       "      <td>0.340000</td>\n",
       "      <td>0.002559</td>\n",
       "      <td>0.000819</td>\n",
       "      <td>0.004299</td>\n",
       "      <td>0.999990</td>\n",
       "      <td>0.660000</td>\n",
       "      <td>0.000010</td>\n",
       "    </tr>\n",
       "    <tr>\n",
       "      <th>424586</th>\n",
       "      <td>ffdd6d6ae5b35a</td>\n",
       "      <td>d9defced</td>\n",
       "      <td>ffdd6d6ae5b35a\\td9defced</td>\n",
       "      <td>markdown</td>\n",
       "      <td>18</td>\n",
       "      <td>0.460000</td>\n",
       "      <td>1</td>\n",
       "      <td>11.0</td>\n",
       "      <td>24</td>\n",
       "      <td>14</td>\n",
       "      <td>...</td>\n",
       "      <td>0.080000</td>\n",
       "      <td>0.460000</td>\n",
       "      <td>0.460000</td>\n",
       "      <td>0.460000</td>\n",
       "      <td>0.000436</td>\n",
       "      <td>0.003867</td>\n",
       "      <td>0.004739</td>\n",
       "      <td>0.999985</td>\n",
       "      <td>0.700000</td>\n",
       "      <td>0.000016</td>\n",
       "    </tr>\n",
       "  </tbody>\n",
       "</table>\n",
       "<p>4784 rows × 68 columns</p>\n",
       "</div>"
      ],
      "text/plain": [
       "                    id   cell_id                       cid cell_type  rank  \\\n",
       "2637    01920f87af0b35  2a9f0431  01920f87af0b35\\t2a9f0431  markdown    17   \n",
       "2638    01920f87af0b35  510e6b78  01920f87af0b35\\t510e6b78  markdown     0   \n",
       "2639    01920f87af0b35  5aadfc4c  01920f87af0b35\\t5aadfc4c  markdown     3   \n",
       "2640    01920f87af0b35  71c857a7  01920f87af0b35\\t71c857a7  markdown    26   \n",
       "2641    01920f87af0b35  8a4b0f48  01920f87af0b35\\t8a4b0f48  markdown    18   \n",
       "...                ...       ...                       ...       ...   ...   \n",
       "424582  ffdd6d6ae5b35a  7de5fef1  ffdd6d6ae5b35a\\t7de5fef1  markdown    34   \n",
       "424583  ffdd6d6ae5b35a  814a5e21  ffdd6d6ae5b35a\\t814a5e21  markdown     9   \n",
       "424584  ffdd6d6ae5b35a  b7ad7c3a  ffdd6d6ae5b35a\\tb7ad7c3a  markdown     5   \n",
       "424585  ffdd6d6ae5b35a  bde241ff  ffdd6d6ae5b35a\\tbde241ff  markdown    13   \n",
       "424586  ffdd6d6ae5b35a  d9defced  ffdd6d6ae5b35a\\td9defced  markdown    18   \n",
       "\n",
       "        rel_rank  context_match  match_code  n_code_cell  n_markdown_cell  \\\n",
       "2637    0.579710              1        13.0           22                8   \n",
       "2638    0.021739              1         0.0           22                8   \n",
       "2639    0.108696              1         2.0           22                8   \n",
       "2640    0.847826              1        19.0           22                8   \n",
       "2641    0.594203              1        13.0           22                8   \n",
       "...          ...            ...         ...          ...              ...   \n",
       "424582  0.900000              1        22.0           24               14   \n",
       "424583  0.220000              1         5.0           24               14   \n",
       "424584  0.140000              1         3.0           24               14   \n",
       "424585  0.340000              1         8.0           24               14   \n",
       "424586  0.460000              1        11.0           24               14   \n",
       "\n",
       "        ...  pred_diff10  rule_pred   p2_pred   pred_p2 pred_diff11  \\\n",
       "2637    ...     0.130435   0.586951  0.586957  0.586957    0.051070   \n",
       "2638    ...     0.043478   0.065217  0.065217  0.065217    0.001709   \n",
       "2639    ...     0.043478   0.108695  0.108696  0.108696    0.004336   \n",
       "2640    ...     0.086957   0.891301  0.891304  0.891304    0.032901   \n",
       "2641    ...     0.086957   0.586956  0.586957  0.586957    0.001652   \n",
       "...     ...          ...        ...       ...       ...         ...   \n",
       "424582  ...     0.240000   0.900000  0.900000  0.900000    0.004710   \n",
       "424583  ...     0.080000   0.220001  0.220000  0.220000    0.011718   \n",
       "424584  ...     0.040000   0.140000  0.140000  0.140000    0.004457   \n",
       "424585  ...     0.360000   0.340000  0.340000  0.340000    0.002559   \n",
       "424586  ...     0.080000   0.460000  0.460000  0.460000    0.000436   \n",
       "\n",
       "        pred_diff12  pred_diff13  p2_max_prob   p2_top2  p2_top2_prob  \n",
       "2637       0.039388     0.062753     0.983913  0.326087      0.016087  \n",
       "2638       0.001017     0.004435     0.985653  0.021739      0.014347  \n",
       "2639       0.012463     0.003791     0.909259  0.195652      0.090741  \n",
       "2640       0.030692     0.035110     0.884465  0.847826      0.115535  \n",
       "2641       0.002298     0.001006     0.979733  0.500000      0.020267  \n",
       "...             ...          ...          ...       ...           ...  \n",
       "424582     0.004281     0.005139     0.995273  0.940000      0.004727  \n",
       "424583     0.015156     0.008281     0.953805  0.260000      0.046195  \n",
       "424584     0.003929     0.004985     0.962857  0.100000      0.037142  \n",
       "424585     0.000819     0.004299     0.999990  0.660000      0.000010  \n",
       "424586     0.003867     0.004739     0.999985  0.700000      0.000016  \n",
       "\n",
       "[4784 rows x 68 columns]"
      ]
     },
     "execution_count": 263,
     "metadata": {},
     "output_type": "execute_result"
    }
   ],
   "source": [
    "d"
   ]
  },
  {
   "cell_type": "code",
   "execution_count": 264,
   "metadata": {},
   "outputs": [
    {
     "data": {
      "text/plain": [
       "0.9134030629792227"
      ]
     },
     "execution_count": 264,
     "metadata": {},
     "output_type": "execute_result"
    }
   ],
   "source": [
    "calc_metric({'id': d.id.values, 'cell_id': d.cell_id.values, 'pred': d.p2_pred.values})"
   ]
  },
  {
   "cell_type": "code",
   "execution_count": 265,
   "metadata": {},
   "outputs": [
    {
     "data": {
      "text/plain": [
       "0.9141516114022132"
      ]
     },
     "execution_count": 265,
     "metadata": {},
     "output_type": "execute_result"
    }
   ],
   "source": [
    "calc_metric({'id': d.id.values, 'cell_id': d.cell_id.values, 'pred': d.pred_c.values})"
   ]
  },
  {
   "cell_type": "code",
   "execution_count": 266,
   "metadata": {},
   "outputs": [
    {
     "data": {
      "text/plain": [
       "0.9088672641566692"
      ]
     },
     "execution_count": 266,
     "metadata": {},
     "output_type": "execute_result"
    }
   ],
   "source": [
    "calc_metric({'id': d.id.values, 'cell_id': d.cell_id.values, 'pred': d.pred_p.values})"
   ]
  },
  {
   "cell_type": "code",
   "execution_count": 267,
   "metadata": {},
   "outputs": [
    {
     "data": {
      "text/plain": [
       "0.91144065224868"
      ]
     },
     "execution_count": 267,
     "metadata": {},
     "output_type": "execute_result"
    }
   ],
   "source": [
    "calc_metric({'id': d.id.values, 'cell_id': d.cell_id.values, 'pred': d.cls_pred_p.values})"
   ]
  },
  {
   "cell_type": "code",
   "execution_count": null,
   "metadata": {},
   "outputs": [],
   "source": []
  }
 ],
 "metadata": {
  "interpreter": {
   "hash": "1925003cfa3979ae366740114cfe890bf8d7ad5b88e4afe0ec571fe261ed45e3"
  },
  "kernelspec": {
   "display_name": "Python 3.7.9",
   "language": "python",
   "name": "python3"
  },
  "language_info": {
   "codemirror_mode": {
    "name": "ipython",
    "version": 3
   },
   "file_extension": ".py",
   "mimetype": "text/x-python",
   "name": "python",
   "nbconvert_exporter": "python",
   "pygments_lexer": "ipython3",
   "version": "3.7.9"
  },
  "orig_nbformat": 4
 },
 "nbformat": 4,
 "nbformat_minor": 2
}
