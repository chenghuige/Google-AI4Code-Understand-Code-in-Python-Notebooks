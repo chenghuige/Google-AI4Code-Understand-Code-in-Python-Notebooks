{
 "cells": [
  {
   "cell_type": "code",
   "execution_count": 1,
   "metadata": {},
   "outputs": [],
   "source": [
    "import sys\n",
    "sys.path.append('..')\n",
    "sys.path.append('../../../../utils')\n",
    "sys.path.append('../../../../third')\n",
    "from gezi.common import *\n",
    "from src.config import *\n",
    "from src.preprocess import *\n",
    "from src.eval import *\n",
    "gezi.init_flags()\n",
    "gezi.set_pandas()"
   ]
  },
  {
   "cell_type": "code",
   "execution_count": 2,
   "metadata": {},
   "outputs": [],
   "source": [
    "v = '10-2'"
   ]
  },
  {
   "cell_type": "code",
   "execution_count": 3,
   "metadata": {},
   "outputs": [],
   "source": [
    "V = 7\n",
    "root = f'../working/offline/{V}/0'\n",
    "# pairwise two tower, recall model\n",
    "# pt_model = 'all-mpnet-base-v2.flag-pairwise14-2-pre_ext_emlm_mlm.ep1'\n",
    "# p2t_model = 'all-mpnet-base-v2.flag-pairwise14-2'\n",
    "pt_model = 'all-mpnet-base-v2.flag-pairwise14-2-pre_mlm3'\n",
    "# pt_model = 'all-mpnet-base-v2.flag-pairwise14-2'\n",
    "# pt_model2 = 'pmminilm.flag-pairwise14-2-pre_emlm_mlm-mmnilm'\n",
    "# pt_model2 = 'pmminilm.flag-pairwise14-2-pre_mlm3-pmminilm'\n",
    "# pt_model2 = 'pmminilm.flag-pairwise14-2'\n",
    "# pairwise concat, rank model\n",
    "# pc_model = 'deberta-v3-small.flag-pairwise14-4-cat-insert-extpred-ft.neg_rand_prob-0.neg_strategy-rand-sample'\n",
    "# pc_model = 'deberta-v3-small.flag-pairwise14-4-cat-insert-oof-ft'\n",
    "pc_model = 'deberta-v3-small.flag-pairwise14-4-cat-insert-oof'\n",
    "\n",
    "# context model\n",
    "# c_model = 'deberta-v3-small.flag-context4-2-d'\n",
    "# c_model2 = 'lsg-mminilm.flag-context4-3-d-s-mminilm'\n",
    "# c_model = 'deberta-v3-small.flag-context4-2-d'\n",
    "# c_model = 'deberta-v3-small.flag-context4-2-d-oof-ft'\n",
    "# c_model = 'deberta-v3-small.flag-context4-2-d-oof-ft.list_train_ordered'\n",
    "c_model = 'deberta-v3-small.flag-context4-2-d-oof-ft.add_probs'\n",
    "c_model = 'deberta-v3-small.flag-context4-2-d-oof.add_probs'\n",
    "# c_model = 'deberta-v3-small.flag-context4-2-d-extpred-ft.0804'\n",
    "# c_model = 'deberta-v3-small.flag-context4-2-d-oof-ft.list_train_ordered'\n",
    "# c_model2 = 'lsg-mminilm.flag-context4-3-d-s-oof-ft-mminilm'"
   ]
  },
  {
   "cell_type": "code",
   "execution_count": 4,
   "metadata": {},
   "outputs": [],
   "source": [
    "df_train = pd.read_feather('../working/train.fea')\n",
    "df_train = df_train[df_train.fold==0]"
   ]
  },
  {
   "cell_type": "code",
   "execution_count": 5,
   "metadata": {},
   "outputs": [],
   "source": [
    "xp = gezi.load(f'{root}/{pt_model}.eval/valid.pkl')\n",
    "xc = gezi.load(f'{root}/{c_model}.eval/valid.pkl')\n",
    "xpc = gezi.load(f'{root}/{pc_model}.eval/valid.pkl')\n",
    "gezi.sort_dict_byid_(xp, 'cid')\n",
    "gezi.sort_dict_byid_(xc, 'cid')\n",
    "gezi.sort_dict_byid_(xpc, 'cid')"
   ]
  },
  {
   "cell_type": "code",
   "execution_count": 6,
   "metadata": {},
   "outputs": [],
   "source": [
    "# d = pd.DataFrame(gezi.batch2list(xc))\n",
    "# dg = d.groupby('pred_id')\n",
    "# max_preds = dg['pred'].max()\n",
    "# min_preds = dg['pred'].min()\n",
    "# max_cls_preds = dg['cls_pred'].max()\n",
    "# min_cls_preds = dg['cls_pred'].min()"
   ]
  },
  {
   "cell_type": "code",
   "execution_count": 6,
   "metadata": {},
   "outputs": [
    {
     "name": "stderr",
     "output_type": "stream",
     "text": [
      "[08/11/22 15:14:24] 603994771.py:9 in <module>\n",
      "                    calc_metric(xp, 'cls_pred'): 0.8940525259130645\n",
      "[08/11/22 15:14:34] 603994771.py:10 in <module>\n",
      "                    calc_metric(xc, 'reg_pred'): 0.9133999180447212\n",
      "[08/11/22 15:14:42] 603994771.py:11 in <module>\n",
      "                    calc_metric(xc, 'cls_pred'): 0.9139478196978118\n",
      "[08/11/22 15:14:50] 603994771.py:12 in <module>\n",
      "                    calc_metric(xpc, 'cls_pred'): 0.902516912439078\n"
     ]
    },
    {
     "data": {
      "text/plain": [
       "0.902516912439078"
      ]
     },
     "execution_count": 6,
     "metadata": {},
     "output_type": "execute_result"
    }
   ],
   "source": [
    "xp = gezi.load(f'{root}/{pt_model}.eval/valid.pkl')\n",
    "# xc = gezi.load(f'{root}/{c_model}.eval/valid.pkl')\n",
    "xc = gezi.load(f'{root}/{c_model}.eval/valid.pkl')\n",
    "xpc = gezi.load(f'{root}/{pc_model}.eval/valid.pkl')\n",
    "gezi.sort_dict_byid_(xp, 'cid')\n",
    "gezi.sort_dict_byid_(xc, 'cid')\n",
    "gezi.sort_dict_byid_(xpc, 'cid')\n",
    "\n",
    "ic(calc_metric(xp, 'cls_pred'))\n",
    "ic(calc_metric(xc, 'reg_pred'))\n",
    "ic(calc_metric(xc, 'cls_pred'))\n",
    "ic(calc_metric(xpc, 'cls_pred'))"
   ]
  },
  {
   "cell_type": "code",
   "execution_count": 7,
   "metadata": {},
   "outputs": [
    {
     "name": "stderr",
     "output_type": "stream",
     "text": [
      "[08/11/22 15:14:54] 2337548337.py:27 in <module>\n",
      "                    xpc['mark'].mean(): 0.5019261406823974\n",
      "[08/11/22 15:15:01] 2337548337.py:28 in <module>\n",
      "                    calc_metric(xpc, 'cls_pred'): 0.9026518550887598\n"
     ]
    },
    {
     "data": {
      "text/plain": [
       "0.9026518550887598"
      ]
     },
     "execution_count": 7,
     "metadata": {},
     "output_type": "execute_result"
    }
   ],
   "source": [
    "pc_preds = dict(zip(xpc['cid'], xpc['pred']))\n",
    "pc_cls_preds = dict(zip(xpc['cid'], xpc['cls_pred']))\n",
    "pc_probs = dict(zip(xpc['cid'], xpc['probs']))\n",
    "\n",
    "preds = []\n",
    "cls_preds = []\n",
    "probs = []\n",
    "marks = []\n",
    "for cid, pred, cls_pred, prob in zip(xp['cid'], xp['pred'], xp['cls_pred'], xp['probs']):\n",
    "  # if prob.max() < 10:\n",
    "  if prob.max() < 0.8:\n",
    "    marks.append(1)\n",
    "    preds.append(pc_preds.get(cid, pred))\n",
    "    probs.append(pc_probs.get(cid, prob))\n",
    "    cls_preds.append(pc_cls_preds.get(cid, cls_pred))\n",
    "  else:\n",
    "    marks.append(0)\n",
    "    preds.append(pred)\n",
    "    probs.append(prob)\n",
    "    cls_preds.append(cls_pred)\n",
    "    \n",
    "xpc = xp.copy()\n",
    "xpc['pred'] = np.asarray(preds)\n",
    "xpc['cls_pred'] = np.asarray(cls_preds)\n",
    "xpc['probs'] = np.asarray(probs)\n",
    "xpc['mark'] = np.asarray(marks)\n",
    "ic(xpc['mark'].mean())\n",
    "ic(calc_metric(xpc, 'cls_pred'))"
   ]
  },
  {
   "cell_type": "code",
   "execution_count": 8,
   "metadata": {},
   "outputs": [],
   "source": [
    "LABEL_COL = 'rel_rank'\n",
    "def diff_feats(x, l,r, name):\n",
    "  if isinstance(l, str):\n",
    "    x[f'{name}_diff'] = x[l] - x[r]\n",
    "  else:\n",
    "    x[f'{name}_diff'] = l - r\n",
    "  x[f'abs_{name}_diff'] = abs(x[f'{name}_diff'])\n",
    "\n",
    "def gen_pfeat(x_, topn=None):\n",
    "  x = {}\n",
    "  keys = ['pred', 'cls_pred']\n",
    "  x = {k: x_[k] for k in keys}\n",
    "  # x['rank_pred'] = x['pred'] * (1 + x_['n_code_cell']) - 0.5\n",
    "  # x['cls_rank_pred'] = x['cls_pred'] * (1 + x_['n_code_cell']) - 0.5\n",
    "  x['min_prob'] = x_['probs'].min()\n",
    "  x['var_prob'] = np.var(x_['probs'])\n",
    "  if 'sims' in x_:\n",
    "    x['min_sim'] = x_['sims'].min()\n",
    "    x['var_sim'] = np.var(x_['sims'])\n",
    "  \n",
    "  idxes = (-x_['probs']).argsort()\n",
    "  # topn = topn or len(idxes)\n",
    "  topn = topn or 10\n",
    "  for i in range(topn):\n",
    "    if i < len(idxes):\n",
    "      if i > 0:\n",
    "        x[f'top_pred_{i}'] = (idxes[i] + 0.5) / (x_['n_code_cell'] + 1)\n",
    "        # x[f'top_rank_{i}'] = idxes[i]\n",
    "      x[f'top_prob_{i}'] = x_['probs'][idxes[i]]\n",
    "      if 'sims' in x_:\n",
    "        x[f'top_sim_{i}'] = x_['sims'][idxes[i]]\n",
    "    else:\n",
    "      x[f'top_pred_{i}'] = -1\n",
    "      # x[f'top_rank_{i}'] = -1\n",
    "      x[f'top_prob_{i}'] = -1\n",
    "      if 'sims' in x_:\n",
    "        x[f'top_sim_{i}'] = -1\n",
    "  \n",
    "  diff_feats(x, 'cls_pred', 'pred', 'cls')\n",
    "  # diff_feats(x, 'cls_rank_pred', 'rank_pred', 'cls_rank')\n",
    "  return x\n",
    "\n",
    "def gen_cfeat(x_):\n",
    "  topn = min(10, len(x_['cls_pred_ori']))\n",
    "  x = {}\n",
    "  keys = [\n",
    "    # 'pred', \n",
    "    'cls_pred', \n",
    "    'reg_pred', \n",
    "    'cls2_pred', \n",
    "    'group_pos',\n",
    "    'group_rank',\n",
    "    'group_mean',\n",
    "    'group_max',\n",
    "    'group_min',\n",
    "    'group_var',\n",
    "    ]\n",
    "  x = {k: x_[k] for k in keys}\n",
    "  # x['cls_rank_pred'] = x['cls_pred'] * FLAGS.num_classes - 0.5\n",
    "  # x['cls2_rank_pred'] = x['cls2_pred'] * FLAGS.num_classes - 0.5\n",
    "  # x['reg_rank_pred'] = x['reg_pred'] * FLAGS.num_classes - 0.5\n",
    "  preds = x_['cls_pred_ori']\n",
    "  probs = gezi.softmax(preds)\n",
    "  x['min_prob'] = probs.min()\n",
    "  x['var_prob'] = np.var(probs)\n",
    "  idxes = (-probs).argsort()\n",
    "\n",
    "  for i in range(topn):\n",
    "    if i < len(idxes):\n",
    "      if i > 0:\n",
    "        x[f'top_pred_{i}'] = (idxes[i] + 0.5) / FLAGS.num_classes\n",
    "        # x[f'tpop_rank_{i}']  = idxes[i] \n",
    "      x[f'top_prob_{i}'] = probs[idxes[i]]\n",
    "    else:\n",
    "      x[f'top_pred_{i}'] = -1\n",
    "      # x[f'top_rank_{i}'] = -1\n",
    "      x[f'top_prob_{i}'] = -1\n",
    "  diff_feats(x, 'cls_pred', 'reg_pred', 'cls_reg')\n",
    "  diff_feats(x, 'cls_pred', 'cls2_pred', 'cls_cls2')\n",
    "  diff_feats(x, 'cls2_pred', 'reg_pred', 'cls2_reg')\n",
    "  # diff_feats(x, 'cls_rank_pred', 'reg_rank_pred', 'cls_reg_rank')\n",
    "  # diff_feats(x, 'cls_rank_pred', 'cls2_rank_pred', 'cls_cls2_rank')\n",
    "  # diff_feats(x, 'cls2_rank_pred', 'reg_rank_pred', 'cls2_reg_rank')\n",
    "  # group_id = x_['pred_id']\n",
    "  # x['max_pred'] = max_preds[group_id]\n",
    "  # x['min_pred'] = min_preds[group_id]\n",
    "  # x['pred_ratio'] = (x['pred'] - x['min_pred']) / (x['max_pred'] - x['min_pred']) if (x['max_pred'] - x['min_pred']) else 1\n",
    "  # x['max_cls_pred'] = max_cls_preds[group_id]\n",
    "  # x['min_cls_pred'] = min_cls_preds[group_id]\n",
    "  # x['cls_pred_ratio'] = (x['cls_pred'] - x['min_cls_pred']) / (x['max_cls_pred'] - x['min_cls_pred']) if (x['max_cls_pred'] - x['min_cls_pred']) else 1\n",
    "  \n",
    "  return x\n",
    "\n",
    "def gen_feats():\n",
    "  xs = gezi.batch2list(xp)\n",
    "  p_feats = [gen_pfeat(x) for x in tqdm(xs, desc=f'gen_pfeats:xp')]\n",
    "  xs = gezi.batch2list(xc)\n",
    "  c_feats = [gen_cfeat(x) for x in tqdm(xs, desc=f'gen_cfeats:xc')]\n",
    "  xs = gezi.batch2list(xpc)\n",
    "  pc_feats = [gen_pfeat(x, topn=3) for x in tqdm(xs, desc=f'gen_pfeats:xpc')]\n",
    "\n",
    "  feats = []\n",
    "  for i in tqdm(range(len(p_feats)), desc='merge_feats'):\n",
    "    fe1 = p_feats[i]\n",
    "    fec = c_feats[i]\n",
    "    fepc = pc_feats[i]\n",
    "    fepc['mark'] = xpc['mark'][i]\n",
    "    \n",
    "    fe = {}\n",
    "    fe['code_ratio'] = xp['n_code_cell'][i] / xp['n_cell'][i]\n",
    "    diff_feats(fe, fe1['pred'], fec['reg_pred'], 'pc_reg')\n",
    "    diff_feats(fe, fe1['pred'], fec['cls_pred'], 'pc_cls')\n",
    "    diff_feats(fe, fe1['pred'], fec['cls2_pred'], 'pc_cls2')\n",
    "    diff_feats(fe, fe1['cls_pred'], fec['reg_pred'], 'pc_cls_reg')\n",
    "    diff_feats(fe, fe1['cls_pred'], fec['cls_pred'], 'pc_cls_cls')\n",
    "    diff_feats(fe, fe1['cls_pred'], fec['cls2_pred'], 'pc_cls_cls2')\n",
    "    \n",
    "    diff_feats(fe, fepc['pred'], fec['reg_pred'], 'pcc_reg')\n",
    "    diff_feats(fe, fepc['pred'], fec['cls_pred'], 'pcc_cls')\n",
    "    diff_feats(fe, fepc['pred'], fec['cls2_pred'], 'pcc_cls2')\n",
    "    diff_feats(fe, fepc['cls_pred'], fec['reg_pred'], 'pcc_cls_reg')\n",
    "    diff_feats(fe, fepc['cls_pred'], fec['cls_pred'], 'pcc_cls_cls')\n",
    "    diff_feats(fe, fepc['cls_pred'], fec['cls2_pred'], 'pcc_cls_cls2')\n",
    "    \n",
    "    # diff_feats(fe, fe1['rank_pred'], fec['reg_rank_pred'], 'pc_cls_rank')\n",
    "    # diff_feats(fe, fe1['cls_rank_pred'], fec['reg_rank_pred'], 'pc_cls_reg_rank')\n",
    "    # diff_feats(fe, fepc['rank_pred'], fec['reg_rank_pred'], 'pcc_cls_rank')\n",
    "    # diff_feats(fe, fepc['cls_rank_pred'], fec['reg_rank_pred'], 'pcc_cls_reg_rank')\n",
    "\n",
    "    fe1 = gezi.dict_prefix(fe1, 'xp_')\n",
    "    fe.update(fe1)\n",
    "    fec = gezi.dict_prefix(fec, 'xc_')\n",
    "    fe.update(fec)\n",
    "    fepc = gezi.dict_prefix(fepc, 'xpc_')\n",
    "    fe.update(fepc)\n",
    "\n",
    "    keys = [\n",
    "     'id', 'cell_id', 'cid',\n",
    "     'n_words', 'n_code_cell', 'n_cell'\n",
    "    ]\n",
    "    for key in keys:\n",
    "      fe[key] = xp[key][i]\n",
    "      \n",
    "    #  ic(feat)\n",
    "    feats.append(fe)\n",
    "  #  break\n",
    "  dfeats = pd.DataFrame(feats)\n",
    "  return dfeats"
   ]
  },
  {
   "cell_type": "code",
   "execution_count": 9,
   "metadata": {},
   "outputs": [
    {
     "data": {
      "application/vnd.jupyter.widget-view+json": {
       "model_id": "1f00c69d78d64c18814a7d8d902c7225",
       "version_major": 2,
       "version_minor": 0
      },
      "text/plain": [
       "gen_pfeats:xp:   0%|          | 0/424943 [00:00<?, ?it/s]"
      ]
     },
     "metadata": {},
     "output_type": "display_data"
    },
    {
     "data": {
      "application/vnd.jupyter.widget-view+json": {
       "model_id": "2a8646a998954f8ea4cad0f7abd47bac",
       "version_major": 2,
       "version_minor": 0
      },
      "text/plain": [
       "gen_cfeats:xc:   0%|          | 0/424943 [00:00<?, ?it/s]"
      ]
     },
     "metadata": {},
     "output_type": "display_data"
    },
    {
     "data": {
      "application/vnd.jupyter.widget-view+json": {
       "model_id": "d8f129c6eb6245b996ede8dcbafebac8",
       "version_major": 2,
       "version_minor": 0
      },
      "text/plain": [
       "gen_pfeats:xpc:   0%|          | 0/424943 [00:00<?, ?it/s]"
      ]
     },
     "metadata": {},
     "output_type": "display_data"
    },
    {
     "data": {
      "application/vnd.jupyter.widget-view+json": {
       "model_id": "1872ac986a8544a6938465a33d9b43f0",
       "version_major": 2,
       "version_minor": 0
      },
      "text/plain": [
       "merge_feats:   0%|          | 0/424943 [00:00<?, ?it/s]"
      ]
     },
     "metadata": {},
     "output_type": "display_data"
    }
   ],
   "source": [
    "dfeats = gen_feats()"
   ]
  },
  {
   "cell_type": "code",
   "execution_count": 10,
   "metadata": {},
   "outputs": [],
   "source": [
    "df = dfeats.merge(df_train[['cid', 'ancestor_id', LABEL_COL]], on='cid')"
   ]
  },
  {
   "cell_type": "code",
   "execution_count": 11,
   "metadata": {},
   "outputs": [],
   "source": [
    "gezi.set_fold(df, 5, 'ancestor_id')"
   ]
  },
  {
   "cell_type": "code",
   "execution_count": 12,
   "metadata": {},
   "outputs": [
    {
     "data": {
      "text/plain": [
       "118"
      ]
     },
     "execution_count": 12,
     "metadata": {},
     "output_type": "execute_result"
    }
   ],
   "source": [
    "reg_cols = [x for x in dfeats.columns if x not in ['id', 'cell_id', 'cid', LABEL_COL]]\n",
    "cat_cols = []\n",
    "cols = reg_cols + cat_cols\n",
    "len(cols)"
   ]
  },
  {
   "cell_type": "code",
   "execution_count": 13,
   "metadata": {},
   "outputs": [],
   "source": [
    "fold = 0\n",
    "dvalid = df[df.fold==fold]\n",
    "dtrain = df[df.fold!=fold]"
   ]
  },
  {
   "cell_type": "code",
   "execution_count": 14,
   "metadata": {},
   "outputs": [],
   "source": [
    "X_train = dtrain[cols]\n",
    "y_train = dtrain[LABEL_COL]\n",
    "X_valid = dvalid[cols]\n",
    "y_valid = dvalid[LABEL_COL]"
   ]
  },
  {
   "cell_type": "code",
   "execution_count": 30,
   "metadata": {},
   "outputs": [],
   "source": [
    "from catboost import CatBoostRegressor, CatBoostRanker, CatBoostClassifier\n",
    "cbt_params = {\n",
    "              # 'bootstrap_type': 'Poisson',\n",
    "              # 'learning_rate': 0.02,\n",
    "              'learning_rate': 0.03,\n",
    "              # 'reg_lambda': 7.960622217848342e-07, \n",
    "              'l2_leaf_reg': 3,\n",
    "              'subsample': 0.7422597612762745,\n",
    "              'bagging_temperature': 0.2,\n",
    "              # 'max_depth': 10, \n",
    "              # 'max_depth': 8,\n",
    "              'max_depth': 6,\n",
    "              # 'max_depth': 5,\n",
    "              'early_stopping_rounds': 500,\n",
    "              'n_estimators': 10000,\n",
    "              'cat_features': [],\n",
    "              'loss_function': 'MAE',\n",
    "              # 'min_child_samples': 100,\n",
    "              'min_child_samples': 200,\n",
    "              # 'task_type': 'GPU',\n",
    "              # 'devices': '0',\n",
    "              }"
   ]
  },
  {
   "cell_type": "code",
   "execution_count": 31,
   "metadata": {},
   "outputs": [
    {
     "name": "stdout",
     "output_type": "stream",
     "text": [
      "0:\tlearn: 0.2522763\ttest: 0.2522763\ttest1: 0.2522183\tbest: 0.2522183 (0)\ttotal: 47.3ms\tremaining: 7m 52s\n",
      "100:\tlearn: 0.0658034\ttest: 0.0658034\ttest1: 0.0670061\tbest: 0.0670061 (100)\ttotal: 3.46s\tremaining: 5m 39s\n",
      "200:\tlearn: 0.0591174\ttest: 0.0591174\ttest1: 0.0605267\tbest: 0.0605267 (200)\ttotal: 6.66s\tremaining: 5m 24s\n",
      "300:\tlearn: 0.0583037\ttest: 0.0583037\ttest1: 0.0597833\tbest: 0.0597833 (300)\ttotal: 9.87s\tremaining: 5m 18s\n",
      "400:\tlearn: 0.0576059\ttest: 0.0576059\ttest1: 0.0591464\tbest: 0.0591464 (400)\ttotal: 13.3s\tremaining: 5m 17s\n",
      "500:\tlearn: 0.0571050\ttest: 0.0571050\ttest1: 0.0586870\tbest: 0.0586870 (500)\ttotal: 16.6s\tremaining: 5m 15s\n",
      "600:\tlearn: 0.0567123\ttest: 0.0567123\ttest1: 0.0583434\tbest: 0.0583434 (600)\ttotal: 20s\tremaining: 5m 13s\n",
      "700:\tlearn: 0.0564397\ttest: 0.0564397\ttest1: 0.0581017\tbest: 0.0581017 (700)\ttotal: 23.5s\tremaining: 5m 11s\n",
      "800:\tlearn: 0.0562348\ttest: 0.0562348\ttest1: 0.0579313\tbest: 0.0579313 (800)\ttotal: 26.8s\tremaining: 5m 7s\n",
      "900:\tlearn: 0.0560870\ttest: 0.0560870\ttest1: 0.0578152\tbest: 0.0578152 (900)\ttotal: 30.1s\tremaining: 5m 4s\n",
      "1000:\tlearn: 0.0559714\ttest: 0.0559714\ttest1: 0.0577287\tbest: 0.0577287 (1000)\ttotal: 33.5s\tremaining: 5m 1s\n",
      "1100:\tlearn: 0.0558651\ttest: 0.0558651\ttest1: 0.0576561\tbest: 0.0576561 (1100)\ttotal: 36.8s\tremaining: 4m 57s\n",
      "1200:\tlearn: 0.0557519\ttest: 0.0557519\ttest1: 0.0575808\tbest: 0.0575808 (1200)\ttotal: 40.1s\tremaining: 4m 54s\n",
      "1300:\tlearn: 0.0556633\ttest: 0.0556633\ttest1: 0.0575217\tbest: 0.0575217 (1300)\ttotal: 43.5s\tremaining: 4m 50s\n",
      "1400:\tlearn: 0.0555890\ttest: 0.0555890\ttest1: 0.0574725\tbest: 0.0574725 (1400)\ttotal: 46.8s\tremaining: 4m 47s\n",
      "1500:\tlearn: 0.0555124\ttest: 0.0555124\ttest1: 0.0574250\tbest: 0.0574250 (1500)\ttotal: 50.1s\tremaining: 4m 43s\n",
      "1600:\tlearn: 0.0554427\ttest: 0.0554427\ttest1: 0.0573857\tbest: 0.0573857 (1600)\ttotal: 53.5s\tremaining: 4m 40s\n",
      "1700:\tlearn: 0.0553730\ttest: 0.0553730\ttest1: 0.0573476\tbest: 0.0573476 (1700)\ttotal: 56.9s\tremaining: 4m 37s\n",
      "1800:\tlearn: 0.0553185\ttest: 0.0553185\ttest1: 0.0573195\tbest: 0.0573195 (1800)\ttotal: 1m\tremaining: 4m 33s\n",
      "1900:\tlearn: 0.0552673\ttest: 0.0552673\ttest1: 0.0572943\tbest: 0.0572943 (1900)\ttotal: 1m 3s\tremaining: 4m 30s\n",
      "2000:\tlearn: 0.0552093\ttest: 0.0552093\ttest1: 0.0572653\tbest: 0.0572644 (1994)\ttotal: 1m 6s\tremaining: 4m 26s\n",
      "2100:\tlearn: 0.0551493\ttest: 0.0551493\ttest1: 0.0572370\tbest: 0.0572370 (2099)\ttotal: 1m 9s\tremaining: 4m 23s\n",
      "2200:\tlearn: 0.0551020\ttest: 0.0551020\ttest1: 0.0572232\tbest: 0.0572210 (2197)\ttotal: 1m 13s\tremaining: 4m 19s\n",
      "2300:\tlearn: 0.0550484\ttest: 0.0550484\ttest1: 0.0572049\tbest: 0.0572049 (2300)\ttotal: 1m 16s\tremaining: 4m 16s\n",
      "2400:\tlearn: 0.0549944\ttest: 0.0549944\ttest1: 0.0571872\tbest: 0.0571872 (2400)\ttotal: 1m 19s\tremaining: 4m 12s\n",
      "2500:\tlearn: 0.0549420\ttest: 0.0549420\ttest1: 0.0571723\tbest: 0.0571723 (2500)\ttotal: 1m 23s\tremaining: 4m 9s\n",
      "2600:\tlearn: 0.0548964\ttest: 0.0548964\ttest1: 0.0571565\tbest: 0.0571559 (2583)\ttotal: 1m 26s\tremaining: 4m 5s\n",
      "2700:\tlearn: 0.0548423\ttest: 0.0548423\ttest1: 0.0571409\tbest: 0.0571407 (2676)\ttotal: 1m 29s\tremaining: 4m 2s\n",
      "2800:\tlearn: 0.0548025\ttest: 0.0548025\ttest1: 0.0571380\tbest: 0.0571306 (2772)\ttotal: 1m 32s\tremaining: 3m 58s\n",
      "2900:\tlearn: 0.0547599\ttest: 0.0547599\ttest1: 0.0571414\tbest: 0.0571306 (2772)\ttotal: 1m 36s\tremaining: 3m 55s\n",
      "3000:\tlearn: 0.0547144\ttest: 0.0547144\ttest1: 0.0571346\tbest: 0.0571306 (2772)\ttotal: 1m 39s\tremaining: 3m 51s\n",
      "3100:\tlearn: 0.0546601\ttest: 0.0546601\ttest1: 0.0571197\tbest: 0.0571197 (3097)\ttotal: 1m 42s\tremaining: 3m 48s\n",
      "3200:\tlearn: 0.0546187\ttest: 0.0546187\ttest1: 0.0571067\tbest: 0.0571067 (3200)\ttotal: 1m 45s\tremaining: 3m 44s\n",
      "3300:\tlearn: 0.0545690\ttest: 0.0545690\ttest1: 0.0570948\tbest: 0.0570946 (3288)\ttotal: 1m 48s\tremaining: 3m 41s\n",
      "3400:\tlearn: 0.0545342\ttest: 0.0545342\ttest1: 0.0570891\tbest: 0.0570888 (3399)\ttotal: 1m 52s\tremaining: 3m 37s\n",
      "3500:\tlearn: 0.0544995\ttest: 0.0544995\ttest1: 0.0570791\tbest: 0.0570791 (3500)\ttotal: 1m 55s\tremaining: 3m 34s\n",
      "3600:\tlearn: 0.0544560\ttest: 0.0544560\ttest1: 0.0570803\tbest: 0.0570745 (3584)\ttotal: 1m 58s\tremaining: 3m 30s\n",
      "3700:\tlearn: 0.0544077\ttest: 0.0544077\ttest1: 0.0570718\tbest: 0.0570718 (3700)\ttotal: 2m 1s\tremaining: 3m 27s\n",
      "3800:\tlearn: 0.0543737\ttest: 0.0543737\ttest1: 0.0570841\tbest: 0.0570675 (3794)\ttotal: 2m 5s\tremaining: 3m 23s\n",
      "3900:\tlearn: 0.0543431\ttest: 0.0543431\ttest1: 0.0570789\tbest: 0.0570675 (3794)\ttotal: 2m 8s\tremaining: 3m 20s\n",
      "4000:\tlearn: 0.0543115\ttest: 0.0543115\ttest1: 0.0570730\tbest: 0.0570675 (3794)\ttotal: 2m 11s\tremaining: 3m 17s\n",
      "4100:\tlearn: 0.0542738\ttest: 0.0542738\ttest1: 0.0570621\tbest: 0.0570621 (4100)\ttotal: 2m 14s\tremaining: 3m 13s\n",
      "4200:\tlearn: 0.0542358\ttest: 0.0542358\ttest1: 0.0570609\tbest: 0.0570608 (4199)\ttotal: 2m 18s\tremaining: 3m 10s\n",
      "4300:\tlearn: 0.0542017\ttest: 0.0542017\ttest1: 0.0570775\tbest: 0.0570599 (4206)\ttotal: 2m 21s\tremaining: 3m 7s\n",
      "4400:\tlearn: 0.0541559\ttest: 0.0541559\ttest1: 0.0570751\tbest: 0.0570599 (4206)\ttotal: 2m 24s\tremaining: 3m 3s\n",
      "4500:\tlearn: 0.0541224\ttest: 0.0541224\ttest1: 0.0570671\tbest: 0.0570599 (4206)\ttotal: 2m 27s\tremaining: 3m\n",
      "4600:\tlearn: 0.0540945\ttest: 0.0540945\ttest1: 0.0570582\tbest: 0.0570581 (4597)\ttotal: 2m 30s\tremaining: 2m 57s\n",
      "4700:\tlearn: 0.0540723\ttest: 0.0540723\ttest1: 0.0570550\tbest: 0.0570550 (4700)\ttotal: 2m 34s\tremaining: 2m 53s\n",
      "4800:\tlearn: 0.0540393\ttest: 0.0540393\ttest1: 0.0570503\tbest: 0.0570501 (4799)\ttotal: 2m 37s\tremaining: 2m 50s\n",
      "4900:\tlearn: 0.0540085\ttest: 0.0540085\ttest1: 0.0570431\tbest: 0.0570431 (4900)\ttotal: 2m 40s\tremaining: 2m 47s\n",
      "5000:\tlearn: 0.0539753\ttest: 0.0539753\ttest1: 0.0570380\tbest: 0.0570363 (4972)\ttotal: 2m 43s\tremaining: 2m 43s\n",
      "5100:\tlearn: 0.0539376\ttest: 0.0539376\ttest1: 0.0570350\tbest: 0.0570332 (5085)\ttotal: 2m 46s\tremaining: 2m 40s\n",
      "5200:\tlearn: 0.0539111\ttest: 0.0539111\ttest1: 0.0570324\tbest: 0.0570324 (5200)\ttotal: 2m 50s\tremaining: 2m 37s\n",
      "5300:\tlearn: 0.0538842\ttest: 0.0538842\ttest1: 0.0570285\tbest: 0.0570284 (5296)\ttotal: 2m 53s\tremaining: 2m 33s\n",
      "5400:\tlearn: 0.0538506\ttest: 0.0538506\ttest1: 0.0570232\tbest: 0.0570232 (5400)\ttotal: 2m 56s\tremaining: 2m 30s\n",
      "5500:\tlearn: 0.0538079\ttest: 0.0538079\ttest1: 0.0570203\tbest: 0.0570202 (5499)\ttotal: 2m 59s\tremaining: 2m 27s\n",
      "5600:\tlearn: 0.0537719\ttest: 0.0537719\ttest1: 0.0570189\tbest: 0.0570188 (5599)\ttotal: 3m 3s\tremaining: 2m 23s\n",
      "5700:\tlearn: 0.0537452\ttest: 0.0537452\ttest1: 0.0570126\tbest: 0.0570125 (5699)\ttotal: 3m 6s\tremaining: 2m 20s\n",
      "5800:\tlearn: 0.0537083\ttest: 0.0537083\ttest1: 0.0570078\tbest: 0.0570073 (5787)\ttotal: 3m 9s\tremaining: 2m 17s\n",
      "5900:\tlearn: 0.0536803\ttest: 0.0536803\ttest1: 0.0570050\tbest: 0.0570035 (5892)\ttotal: 3m 12s\tremaining: 2m 13s\n",
      "6000:\tlearn: 0.0536530\ttest: 0.0536530\ttest1: 0.0569999\tbest: 0.0569999 (6000)\ttotal: 3m 15s\tremaining: 2m 10s\n",
      "6100:\tlearn: 0.0536272\ttest: 0.0536272\ttest1: 0.0569980\tbest: 0.0569966 (6070)\ttotal: 3m 18s\tremaining: 2m 7s\n",
      "6200:\tlearn: 0.0535954\ttest: 0.0535954\ttest1: 0.0569934\tbest: 0.0569934 (6199)\ttotal: 3m 22s\tremaining: 2m 3s\n",
      "6300:\tlearn: 0.0535604\ttest: 0.0535604\ttest1: 0.0569884\tbest: 0.0569884 (6300)\ttotal: 3m 25s\tremaining: 2m\n",
      "6400:\tlearn: 0.0535175\ttest: 0.0535175\ttest1: 0.0569842\tbest: 0.0569829 (6381)\ttotal: 3m 28s\tremaining: 1m 57s\n",
      "6500:\tlearn: 0.0534838\ttest: 0.0534838\ttest1: 0.0569888\tbest: 0.0569805 (6425)\ttotal: 3m 31s\tremaining: 1m 54s\n",
      "6600:\tlearn: 0.0534612\ttest: 0.0534612\ttest1: 0.0569833\tbest: 0.0569805 (6425)\ttotal: 3m 35s\tremaining: 1m 50s\n",
      "6700:\tlearn: 0.0534302\ttest: 0.0534302\ttest1: 0.0569814\tbest: 0.0569805 (6425)\ttotal: 3m 38s\tremaining: 1m 47s\n",
      "6800:\tlearn: 0.0533943\ttest: 0.0533943\ttest1: 0.0569831\tbest: 0.0569805 (6425)\ttotal: 3m 41s\tremaining: 1m 44s\n",
      "6900:\tlearn: 0.0533670\ttest: 0.0533670\ttest1: 0.0569832\tbest: 0.0569805 (6425)\ttotal: 3m 44s\tremaining: 1m 40s\n",
      "Stopped by overfitting detector  (500 iterations wait)\n",
      "\n",
      "bestTest = 0.05698054557\n",
      "bestIteration = 6425\n",
      "\n",
      "Shrink model to first 6426 iterations.\n"
     ]
    },
    {
     "name": "stderr",
     "output_type": "stream",
     "text": [
      "[08/11/22 15:55:49] 3198672829.py:8 in <module>\n",
      "                    cbt_score: 0.9199360903192325\n"
     ]
    },
    {
     "data": {
      "text/plain": [
       "0.9199360903192325"
      ]
     },
     "execution_count": 31,
     "metadata": {},
     "output_type": "execute_result"
    }
   ],
   "source": [
    "cbt_model = CatBoostRegressor(**cbt_params)\n",
    "cbt_model.fit(X_train, y_train,\n",
    "      eval_set=[(X_train, y_train), (X_valid, y_valid)],\n",
    "              verbose=100,\n",
    "              )  \n",
    "dvalid['cbt_pred'] = cbt_model.predict(dvalid[cols])\n",
    "cbt_score = calc_metric({'id': dvalid.id.values, 'cell_id': dvalid.cell_id.values, 'pred': dvalid.cbt_pred.values})\n",
    "ic(cbt_score)"
   ]
  },
  {
   "cell_type": "code",
   "execution_count": 32,
   "metadata": {},
   "outputs": [
    {
     "data": {
      "application/vnd.plotly.v1+json": {
       "config": {
        "plotlyServerURL": "https://plot.ly"
       },
       "data": [
        {
         "alignmentgroup": "True",
         "hovertemplate": "importance=%{x}<br>feat_name=%{y}<extra></extra>",
         "legendgroup": "",
         "marker": {
          "color": "#636efa",
          "pattern": {
           "shape": ""
          }
         },
         "name": "",
         "offsetgroup": "",
         "orientation": "h",
         "showlegend": false,
         "textposition": "auto",
         "type": "bar",
         "x": [
          0.576396377679635,
          0.5846838384039117,
          0.5999116558650185,
          0.6057623436184174,
          0.6517122418984937,
          0.6710663413643615,
          0.7061460292569538,
          0.7370824245238443,
          0.8813159022911314,
          1.2907318586443743,
          1.380223019089194,
          1.4287045535943217,
          1.6822253334547304,
          1.992384870909917,
          2.3413735222667422,
          2.722223879197844,
          7.57225945189747,
          18.60499064373454,
          19.161841165940764,
          20.58205072773697
         ],
         "xaxis": "x",
         "y": [
          "xc_top_pred_2",
          "xc_abs_cls_cls2_diff",
          "pcc_cls_cls_diff",
          "abs_pcc_cls_cls2_diff",
          "pcc_cls_cls2_diff",
          "xc_top_pred_1",
          "xc_top_pred_4",
          "pcc_cls_reg_diff",
          "xc_abs_cls2_reg_diff",
          "xpc_cls_diff",
          "xpc_abs_cls_diff",
          "xc_top_pred_6",
          "xpc_top_pred_1",
          "xp_pred",
          "xp_cls_pred",
          "xc_cls2_pred",
          "xpc_pred",
          "xc_reg_pred",
          "xc_cls_pred",
          "xpc_cls_pred"
         ],
         "yaxis": "y"
        }
       ],
       "layout": {
        "barmode": "relative",
        "legend": {
         "tracegroupgap": 0
        },
        "margin": {
         "t": 60
        },
        "template": {
         "data": {
          "bar": [
           {
            "error_x": {
             "color": "#2a3f5f"
            },
            "error_y": {
             "color": "#2a3f5f"
            },
            "marker": {
             "line": {
              "color": "#E5ECF6",
              "width": 0.5
             },
             "pattern": {
              "fillmode": "overlay",
              "size": 10,
              "solidity": 0.2
             }
            },
            "type": "bar"
           }
          ],
          "barpolar": [
           {
            "marker": {
             "line": {
              "color": "#E5ECF6",
              "width": 0.5
             },
             "pattern": {
              "fillmode": "overlay",
              "size": 10,
              "solidity": 0.2
             }
            },
            "type": "barpolar"
           }
          ],
          "carpet": [
           {
            "aaxis": {
             "endlinecolor": "#2a3f5f",
             "gridcolor": "white",
             "linecolor": "white",
             "minorgridcolor": "white",
             "startlinecolor": "#2a3f5f"
            },
            "baxis": {
             "endlinecolor": "#2a3f5f",
             "gridcolor": "white",
             "linecolor": "white",
             "minorgridcolor": "white",
             "startlinecolor": "#2a3f5f"
            },
            "type": "carpet"
           }
          ],
          "choropleth": [
           {
            "colorbar": {
             "outlinewidth": 0,
             "ticks": ""
            },
            "type": "choropleth"
           }
          ],
          "contour": [
           {
            "colorbar": {
             "outlinewidth": 0,
             "ticks": ""
            },
            "colorscale": [
             [
              0,
              "#0d0887"
             ],
             [
              0.1111111111111111,
              "#46039f"
             ],
             [
              0.2222222222222222,
              "#7201a8"
             ],
             [
              0.3333333333333333,
              "#9c179e"
             ],
             [
              0.4444444444444444,
              "#bd3786"
             ],
             [
              0.5555555555555556,
              "#d8576b"
             ],
             [
              0.6666666666666666,
              "#ed7953"
             ],
             [
              0.7777777777777778,
              "#fb9f3a"
             ],
             [
              0.8888888888888888,
              "#fdca26"
             ],
             [
              1,
              "#f0f921"
             ]
            ],
            "type": "contour"
           }
          ],
          "contourcarpet": [
           {
            "colorbar": {
             "outlinewidth": 0,
             "ticks": ""
            },
            "type": "contourcarpet"
           }
          ],
          "heatmap": [
           {
            "colorbar": {
             "outlinewidth": 0,
             "ticks": ""
            },
            "colorscale": [
             [
              0,
              "#0d0887"
             ],
             [
              0.1111111111111111,
              "#46039f"
             ],
             [
              0.2222222222222222,
              "#7201a8"
             ],
             [
              0.3333333333333333,
              "#9c179e"
             ],
             [
              0.4444444444444444,
              "#bd3786"
             ],
             [
              0.5555555555555556,
              "#d8576b"
             ],
             [
              0.6666666666666666,
              "#ed7953"
             ],
             [
              0.7777777777777778,
              "#fb9f3a"
             ],
             [
              0.8888888888888888,
              "#fdca26"
             ],
             [
              1,
              "#f0f921"
             ]
            ],
            "type": "heatmap"
           }
          ],
          "heatmapgl": [
           {
            "colorbar": {
             "outlinewidth": 0,
             "ticks": ""
            },
            "colorscale": [
             [
              0,
              "#0d0887"
             ],
             [
              0.1111111111111111,
              "#46039f"
             ],
             [
              0.2222222222222222,
              "#7201a8"
             ],
             [
              0.3333333333333333,
              "#9c179e"
             ],
             [
              0.4444444444444444,
              "#bd3786"
             ],
             [
              0.5555555555555556,
              "#d8576b"
             ],
             [
              0.6666666666666666,
              "#ed7953"
             ],
             [
              0.7777777777777778,
              "#fb9f3a"
             ],
             [
              0.8888888888888888,
              "#fdca26"
             ],
             [
              1,
              "#f0f921"
             ]
            ],
            "type": "heatmapgl"
           }
          ],
          "histogram": [
           {
            "marker": {
             "pattern": {
              "fillmode": "overlay",
              "size": 10,
              "solidity": 0.2
             }
            },
            "type": "histogram"
           }
          ],
          "histogram2d": [
           {
            "colorbar": {
             "outlinewidth": 0,
             "ticks": ""
            },
            "colorscale": [
             [
              0,
              "#0d0887"
             ],
             [
              0.1111111111111111,
              "#46039f"
             ],
             [
              0.2222222222222222,
              "#7201a8"
             ],
             [
              0.3333333333333333,
              "#9c179e"
             ],
             [
              0.4444444444444444,
              "#bd3786"
             ],
             [
              0.5555555555555556,
              "#d8576b"
             ],
             [
              0.6666666666666666,
              "#ed7953"
             ],
             [
              0.7777777777777778,
              "#fb9f3a"
             ],
             [
              0.8888888888888888,
              "#fdca26"
             ],
             [
              1,
              "#f0f921"
             ]
            ],
            "type": "histogram2d"
           }
          ],
          "histogram2dcontour": [
           {
            "colorbar": {
             "outlinewidth": 0,
             "ticks": ""
            },
            "colorscale": [
             [
              0,
              "#0d0887"
             ],
             [
              0.1111111111111111,
              "#46039f"
             ],
             [
              0.2222222222222222,
              "#7201a8"
             ],
             [
              0.3333333333333333,
              "#9c179e"
             ],
             [
              0.4444444444444444,
              "#bd3786"
             ],
             [
              0.5555555555555556,
              "#d8576b"
             ],
             [
              0.6666666666666666,
              "#ed7953"
             ],
             [
              0.7777777777777778,
              "#fb9f3a"
             ],
             [
              0.8888888888888888,
              "#fdca26"
             ],
             [
              1,
              "#f0f921"
             ]
            ],
            "type": "histogram2dcontour"
           }
          ],
          "mesh3d": [
           {
            "colorbar": {
             "outlinewidth": 0,
             "ticks": ""
            },
            "type": "mesh3d"
           }
          ],
          "parcoords": [
           {
            "line": {
             "colorbar": {
              "outlinewidth": 0,
              "ticks": ""
             }
            },
            "type": "parcoords"
           }
          ],
          "pie": [
           {
            "automargin": true,
            "type": "pie"
           }
          ],
          "scatter": [
           {
            "marker": {
             "colorbar": {
              "outlinewidth": 0,
              "ticks": ""
             }
            },
            "type": "scatter"
           }
          ],
          "scatter3d": [
           {
            "line": {
             "colorbar": {
              "outlinewidth": 0,
              "ticks": ""
             }
            },
            "marker": {
             "colorbar": {
              "outlinewidth": 0,
              "ticks": ""
             }
            },
            "type": "scatter3d"
           }
          ],
          "scattercarpet": [
           {
            "marker": {
             "colorbar": {
              "outlinewidth": 0,
              "ticks": ""
             }
            },
            "type": "scattercarpet"
           }
          ],
          "scattergeo": [
           {
            "marker": {
             "colorbar": {
              "outlinewidth": 0,
              "ticks": ""
             }
            },
            "type": "scattergeo"
           }
          ],
          "scattergl": [
           {
            "marker": {
             "colorbar": {
              "outlinewidth": 0,
              "ticks": ""
             }
            },
            "type": "scattergl"
           }
          ],
          "scattermapbox": [
           {
            "marker": {
             "colorbar": {
              "outlinewidth": 0,
              "ticks": ""
             }
            },
            "type": "scattermapbox"
           }
          ],
          "scatterpolar": [
           {
            "marker": {
             "colorbar": {
              "outlinewidth": 0,
              "ticks": ""
             }
            },
            "type": "scatterpolar"
           }
          ],
          "scatterpolargl": [
           {
            "marker": {
             "colorbar": {
              "outlinewidth": 0,
              "ticks": ""
             }
            },
            "type": "scatterpolargl"
           }
          ],
          "scatterternary": [
           {
            "marker": {
             "colorbar": {
              "outlinewidth": 0,
              "ticks": ""
             }
            },
            "type": "scatterternary"
           }
          ],
          "surface": [
           {
            "colorbar": {
             "outlinewidth": 0,
             "ticks": ""
            },
            "colorscale": [
             [
              0,
              "#0d0887"
             ],
             [
              0.1111111111111111,
              "#46039f"
             ],
             [
              0.2222222222222222,
              "#7201a8"
             ],
             [
              0.3333333333333333,
              "#9c179e"
             ],
             [
              0.4444444444444444,
              "#bd3786"
             ],
             [
              0.5555555555555556,
              "#d8576b"
             ],
             [
              0.6666666666666666,
              "#ed7953"
             ],
             [
              0.7777777777777778,
              "#fb9f3a"
             ],
             [
              0.8888888888888888,
              "#fdca26"
             ],
             [
              1,
              "#f0f921"
             ]
            ],
            "type": "surface"
           }
          ],
          "table": [
           {
            "cells": {
             "fill": {
              "color": "#EBF0F8"
             },
             "line": {
              "color": "white"
             }
            },
            "header": {
             "fill": {
              "color": "#C8D4E3"
             },
             "line": {
              "color": "white"
             }
            },
            "type": "table"
           }
          ]
         },
         "layout": {
          "annotationdefaults": {
           "arrowcolor": "#2a3f5f",
           "arrowhead": 0,
           "arrowwidth": 1
          },
          "autotypenumbers": "strict",
          "coloraxis": {
           "colorbar": {
            "outlinewidth": 0,
            "ticks": ""
           }
          },
          "colorscale": {
           "diverging": [
            [
             0,
             "#8e0152"
            ],
            [
             0.1,
             "#c51b7d"
            ],
            [
             0.2,
             "#de77ae"
            ],
            [
             0.3,
             "#f1b6da"
            ],
            [
             0.4,
             "#fde0ef"
            ],
            [
             0.5,
             "#f7f7f7"
            ],
            [
             0.6,
             "#e6f5d0"
            ],
            [
             0.7,
             "#b8e186"
            ],
            [
             0.8,
             "#7fbc41"
            ],
            [
             0.9,
             "#4d9221"
            ],
            [
             1,
             "#276419"
            ]
           ],
           "sequential": [
            [
             0,
             "#0d0887"
            ],
            [
             0.1111111111111111,
             "#46039f"
            ],
            [
             0.2222222222222222,
             "#7201a8"
            ],
            [
             0.3333333333333333,
             "#9c179e"
            ],
            [
             0.4444444444444444,
             "#bd3786"
            ],
            [
             0.5555555555555556,
             "#d8576b"
            ],
            [
             0.6666666666666666,
             "#ed7953"
            ],
            [
             0.7777777777777778,
             "#fb9f3a"
            ],
            [
             0.8888888888888888,
             "#fdca26"
            ],
            [
             1,
             "#f0f921"
            ]
           ],
           "sequentialminus": [
            [
             0,
             "#0d0887"
            ],
            [
             0.1111111111111111,
             "#46039f"
            ],
            [
             0.2222222222222222,
             "#7201a8"
            ],
            [
             0.3333333333333333,
             "#9c179e"
            ],
            [
             0.4444444444444444,
             "#bd3786"
            ],
            [
             0.5555555555555556,
             "#d8576b"
            ],
            [
             0.6666666666666666,
             "#ed7953"
            ],
            [
             0.7777777777777778,
             "#fb9f3a"
            ],
            [
             0.8888888888888888,
             "#fdca26"
            ],
            [
             1,
             "#f0f921"
            ]
           ]
          },
          "colorway": [
           "#636efa",
           "#EF553B",
           "#00cc96",
           "#ab63fa",
           "#FFA15A",
           "#19d3f3",
           "#FF6692",
           "#B6E880",
           "#FF97FF",
           "#FECB52"
          ],
          "font": {
           "color": "#2a3f5f"
          },
          "geo": {
           "bgcolor": "white",
           "lakecolor": "white",
           "landcolor": "#E5ECF6",
           "showlakes": true,
           "showland": true,
           "subunitcolor": "white"
          },
          "hoverlabel": {
           "align": "left"
          },
          "hovermode": "closest",
          "mapbox": {
           "style": "light"
          },
          "paper_bgcolor": "white",
          "plot_bgcolor": "#E5ECF6",
          "polar": {
           "angularaxis": {
            "gridcolor": "white",
            "linecolor": "white",
            "ticks": ""
           },
           "bgcolor": "#E5ECF6",
           "radialaxis": {
            "gridcolor": "white",
            "linecolor": "white",
            "ticks": ""
           }
          },
          "scene": {
           "xaxis": {
            "backgroundcolor": "#E5ECF6",
            "gridcolor": "white",
            "gridwidth": 2,
            "linecolor": "white",
            "showbackground": true,
            "ticks": "",
            "zerolinecolor": "white"
           },
           "yaxis": {
            "backgroundcolor": "#E5ECF6",
            "gridcolor": "white",
            "gridwidth": 2,
            "linecolor": "white",
            "showbackground": true,
            "ticks": "",
            "zerolinecolor": "white"
           },
           "zaxis": {
            "backgroundcolor": "#E5ECF6",
            "gridcolor": "white",
            "gridwidth": 2,
            "linecolor": "white",
            "showbackground": true,
            "ticks": "",
            "zerolinecolor": "white"
           }
          },
          "shapedefaults": {
           "line": {
            "color": "#2a3f5f"
           }
          },
          "ternary": {
           "aaxis": {
            "gridcolor": "white",
            "linecolor": "white",
            "ticks": ""
           },
           "baxis": {
            "gridcolor": "white",
            "linecolor": "white",
            "ticks": ""
           },
           "bgcolor": "#E5ECF6",
           "caxis": {
            "gridcolor": "white",
            "linecolor": "white",
            "ticks": ""
           }
          },
          "title": {
           "x": 0.05
          },
          "xaxis": {
           "automargin": true,
           "gridcolor": "white",
           "linecolor": "white",
           "ticks": "",
           "title": {
            "standoff": 15
           },
           "zerolinecolor": "white",
           "zerolinewidth": 2
          },
          "yaxis": {
           "automargin": true,
           "gridcolor": "white",
           "linecolor": "white",
           "ticks": "",
           "title": {
            "standoff": 15
           },
           "zerolinecolor": "white",
           "zerolinewidth": 2
          }
         }
        },
        "xaxis": {
         "anchor": "y",
         "domain": [
          0,
          1
         ],
         "title": {
          "text": "importance"
         }
        },
        "yaxis": {
         "anchor": "x",
         "domain": [
          0,
          1
         ],
         "title": {
          "text": "feat_name"
         }
        }
       }
      },
      "text/html": [
       "<div>                            <div id=\"b3c239dd-f892-40ca-b8c6-50105a478629\" class=\"plotly-graph-div\" style=\"height:525px; width:100%;\"></div>            <script type=\"text/javascript\">                require([\"plotly\"], function(Plotly) {                    window.PLOTLYENV=window.PLOTLYENV || {};                                    if (document.getElementById(\"b3c239dd-f892-40ca-b8c6-50105a478629\")) {                    Plotly.newPlot(                        \"b3c239dd-f892-40ca-b8c6-50105a478629\",                        [{\"alignmentgroup\":\"True\",\"hovertemplate\":\"importance=%{x}<br>feat_name=%{y}<extra></extra>\",\"legendgroup\":\"\",\"marker\":{\"color\":\"#636efa\",\"pattern\":{\"shape\":\"\"}},\"name\":\"\",\"offsetgroup\":\"\",\"orientation\":\"h\",\"showlegend\":false,\"textposition\":\"auto\",\"x\":[0.576396377679635,0.5846838384039117,0.5999116558650185,0.6057623436184174,0.6517122418984937,0.6710663413643615,0.7061460292569538,0.7370824245238443,0.8813159022911314,1.2907318586443743,1.380223019089194,1.4287045535943217,1.6822253334547304,1.992384870909917,2.3413735222667422,2.722223879197844,7.57225945189747,18.60499064373454,19.161841165940764,20.58205072773697],\"xaxis\":\"x\",\"y\":[\"xc_top_pred_2\",\"xc_abs_cls_cls2_diff\",\"pcc_cls_cls_diff\",\"abs_pcc_cls_cls2_diff\",\"pcc_cls_cls2_diff\",\"xc_top_pred_1\",\"xc_top_pred_4\",\"pcc_cls_reg_diff\",\"xc_abs_cls2_reg_diff\",\"xpc_cls_diff\",\"xpc_abs_cls_diff\",\"xc_top_pred_6\",\"xpc_top_pred_1\",\"xp_pred\",\"xp_cls_pred\",\"xc_cls2_pred\",\"xpc_pred\",\"xc_reg_pred\",\"xc_cls_pred\",\"xpc_cls_pred\"],\"yaxis\":\"y\",\"type\":\"bar\"}],                        {\"template\":{\"data\":{\"bar\":[{\"error_x\":{\"color\":\"#2a3f5f\"},\"error_y\":{\"color\":\"#2a3f5f\"},\"marker\":{\"line\":{\"color\":\"#E5ECF6\",\"width\":0.5},\"pattern\":{\"fillmode\":\"overlay\",\"size\":10,\"solidity\":0.2}},\"type\":\"bar\"}],\"barpolar\":[{\"marker\":{\"line\":{\"color\":\"#E5ECF6\",\"width\":0.5},\"pattern\":{\"fillmode\":\"overlay\",\"size\":10,\"solidity\":0.2}},\"type\":\"barpolar\"}],\"carpet\":[{\"aaxis\":{\"endlinecolor\":\"#2a3f5f\",\"gridcolor\":\"white\",\"linecolor\":\"white\",\"minorgridcolor\":\"white\",\"startlinecolor\":\"#2a3f5f\"},\"baxis\":{\"endlinecolor\":\"#2a3f5f\",\"gridcolor\":\"white\",\"linecolor\":\"white\",\"minorgridcolor\":\"white\",\"startlinecolor\":\"#2a3f5f\"},\"type\":\"carpet\"}],\"choropleth\":[{\"colorbar\":{\"outlinewidth\":0,\"ticks\":\"\"},\"type\":\"choropleth\"}],\"contour\":[{\"colorbar\":{\"outlinewidth\":0,\"ticks\":\"\"},\"colorscale\":[[0.0,\"#0d0887\"],[0.1111111111111111,\"#46039f\"],[0.2222222222222222,\"#7201a8\"],[0.3333333333333333,\"#9c179e\"],[0.4444444444444444,\"#bd3786\"],[0.5555555555555556,\"#d8576b\"],[0.6666666666666666,\"#ed7953\"],[0.7777777777777778,\"#fb9f3a\"],[0.8888888888888888,\"#fdca26\"],[1.0,\"#f0f921\"]],\"type\":\"contour\"}],\"contourcarpet\":[{\"colorbar\":{\"outlinewidth\":0,\"ticks\":\"\"},\"type\":\"contourcarpet\"}],\"heatmap\":[{\"colorbar\":{\"outlinewidth\":0,\"ticks\":\"\"},\"colorscale\":[[0.0,\"#0d0887\"],[0.1111111111111111,\"#46039f\"],[0.2222222222222222,\"#7201a8\"],[0.3333333333333333,\"#9c179e\"],[0.4444444444444444,\"#bd3786\"],[0.5555555555555556,\"#d8576b\"],[0.6666666666666666,\"#ed7953\"],[0.7777777777777778,\"#fb9f3a\"],[0.8888888888888888,\"#fdca26\"],[1.0,\"#f0f921\"]],\"type\":\"heatmap\"}],\"heatmapgl\":[{\"colorbar\":{\"outlinewidth\":0,\"ticks\":\"\"},\"colorscale\":[[0.0,\"#0d0887\"],[0.1111111111111111,\"#46039f\"],[0.2222222222222222,\"#7201a8\"],[0.3333333333333333,\"#9c179e\"],[0.4444444444444444,\"#bd3786\"],[0.5555555555555556,\"#d8576b\"],[0.6666666666666666,\"#ed7953\"],[0.7777777777777778,\"#fb9f3a\"],[0.8888888888888888,\"#fdca26\"],[1.0,\"#f0f921\"]],\"type\":\"heatmapgl\"}],\"histogram\":[{\"marker\":{\"pattern\":{\"fillmode\":\"overlay\",\"size\":10,\"solidity\":0.2}},\"type\":\"histogram\"}],\"histogram2d\":[{\"colorbar\":{\"outlinewidth\":0,\"ticks\":\"\"},\"colorscale\":[[0.0,\"#0d0887\"],[0.1111111111111111,\"#46039f\"],[0.2222222222222222,\"#7201a8\"],[0.3333333333333333,\"#9c179e\"],[0.4444444444444444,\"#bd3786\"],[0.5555555555555556,\"#d8576b\"],[0.6666666666666666,\"#ed7953\"],[0.7777777777777778,\"#fb9f3a\"],[0.8888888888888888,\"#fdca26\"],[1.0,\"#f0f921\"]],\"type\":\"histogram2d\"}],\"histogram2dcontour\":[{\"colorbar\":{\"outlinewidth\":0,\"ticks\":\"\"},\"colorscale\":[[0.0,\"#0d0887\"],[0.1111111111111111,\"#46039f\"],[0.2222222222222222,\"#7201a8\"],[0.3333333333333333,\"#9c179e\"],[0.4444444444444444,\"#bd3786\"],[0.5555555555555556,\"#d8576b\"],[0.6666666666666666,\"#ed7953\"],[0.7777777777777778,\"#fb9f3a\"],[0.8888888888888888,\"#fdca26\"],[1.0,\"#f0f921\"]],\"type\":\"histogram2dcontour\"}],\"mesh3d\":[{\"colorbar\":{\"outlinewidth\":0,\"ticks\":\"\"},\"type\":\"mesh3d\"}],\"parcoords\":[{\"line\":{\"colorbar\":{\"outlinewidth\":0,\"ticks\":\"\"}},\"type\":\"parcoords\"}],\"pie\":[{\"automargin\":true,\"type\":\"pie\"}],\"scatter\":[{\"marker\":{\"colorbar\":{\"outlinewidth\":0,\"ticks\":\"\"}},\"type\":\"scatter\"}],\"scatter3d\":[{\"line\":{\"colorbar\":{\"outlinewidth\":0,\"ticks\":\"\"}},\"marker\":{\"colorbar\":{\"outlinewidth\":0,\"ticks\":\"\"}},\"type\":\"scatter3d\"}],\"scattercarpet\":[{\"marker\":{\"colorbar\":{\"outlinewidth\":0,\"ticks\":\"\"}},\"type\":\"scattercarpet\"}],\"scattergeo\":[{\"marker\":{\"colorbar\":{\"outlinewidth\":0,\"ticks\":\"\"}},\"type\":\"scattergeo\"}],\"scattergl\":[{\"marker\":{\"colorbar\":{\"outlinewidth\":0,\"ticks\":\"\"}},\"type\":\"scattergl\"}],\"scattermapbox\":[{\"marker\":{\"colorbar\":{\"outlinewidth\":0,\"ticks\":\"\"}},\"type\":\"scattermapbox\"}],\"scatterpolar\":[{\"marker\":{\"colorbar\":{\"outlinewidth\":0,\"ticks\":\"\"}},\"type\":\"scatterpolar\"}],\"scatterpolargl\":[{\"marker\":{\"colorbar\":{\"outlinewidth\":0,\"ticks\":\"\"}},\"type\":\"scatterpolargl\"}],\"scatterternary\":[{\"marker\":{\"colorbar\":{\"outlinewidth\":0,\"ticks\":\"\"}},\"type\":\"scatterternary\"}],\"surface\":[{\"colorbar\":{\"outlinewidth\":0,\"ticks\":\"\"},\"colorscale\":[[0.0,\"#0d0887\"],[0.1111111111111111,\"#46039f\"],[0.2222222222222222,\"#7201a8\"],[0.3333333333333333,\"#9c179e\"],[0.4444444444444444,\"#bd3786\"],[0.5555555555555556,\"#d8576b\"],[0.6666666666666666,\"#ed7953\"],[0.7777777777777778,\"#fb9f3a\"],[0.8888888888888888,\"#fdca26\"],[1.0,\"#f0f921\"]],\"type\":\"surface\"}],\"table\":[{\"cells\":{\"fill\":{\"color\":\"#EBF0F8\"},\"line\":{\"color\":\"white\"}},\"header\":{\"fill\":{\"color\":\"#C8D4E3\"},\"line\":{\"color\":\"white\"}},\"type\":\"table\"}]},\"layout\":{\"annotationdefaults\":{\"arrowcolor\":\"#2a3f5f\",\"arrowhead\":0,\"arrowwidth\":1},\"autotypenumbers\":\"strict\",\"coloraxis\":{\"colorbar\":{\"outlinewidth\":0,\"ticks\":\"\"}},\"colorscale\":{\"diverging\":[[0,\"#8e0152\"],[0.1,\"#c51b7d\"],[0.2,\"#de77ae\"],[0.3,\"#f1b6da\"],[0.4,\"#fde0ef\"],[0.5,\"#f7f7f7\"],[0.6,\"#e6f5d0\"],[0.7,\"#b8e186\"],[0.8,\"#7fbc41\"],[0.9,\"#4d9221\"],[1,\"#276419\"]],\"sequential\":[[0.0,\"#0d0887\"],[0.1111111111111111,\"#46039f\"],[0.2222222222222222,\"#7201a8\"],[0.3333333333333333,\"#9c179e\"],[0.4444444444444444,\"#bd3786\"],[0.5555555555555556,\"#d8576b\"],[0.6666666666666666,\"#ed7953\"],[0.7777777777777778,\"#fb9f3a\"],[0.8888888888888888,\"#fdca26\"],[1.0,\"#f0f921\"]],\"sequentialminus\":[[0.0,\"#0d0887\"],[0.1111111111111111,\"#46039f\"],[0.2222222222222222,\"#7201a8\"],[0.3333333333333333,\"#9c179e\"],[0.4444444444444444,\"#bd3786\"],[0.5555555555555556,\"#d8576b\"],[0.6666666666666666,\"#ed7953\"],[0.7777777777777778,\"#fb9f3a\"],[0.8888888888888888,\"#fdca26\"],[1.0,\"#f0f921\"]]},\"colorway\":[\"#636efa\",\"#EF553B\",\"#00cc96\",\"#ab63fa\",\"#FFA15A\",\"#19d3f3\",\"#FF6692\",\"#B6E880\",\"#FF97FF\",\"#FECB52\"],\"font\":{\"color\":\"#2a3f5f\"},\"geo\":{\"bgcolor\":\"white\",\"lakecolor\":\"white\",\"landcolor\":\"#E5ECF6\",\"showlakes\":true,\"showland\":true,\"subunitcolor\":\"white\"},\"hoverlabel\":{\"align\":\"left\"},\"hovermode\":\"closest\",\"mapbox\":{\"style\":\"light\"},\"paper_bgcolor\":\"white\",\"plot_bgcolor\":\"#E5ECF6\",\"polar\":{\"angularaxis\":{\"gridcolor\":\"white\",\"linecolor\":\"white\",\"ticks\":\"\"},\"bgcolor\":\"#E5ECF6\",\"radialaxis\":{\"gridcolor\":\"white\",\"linecolor\":\"white\",\"ticks\":\"\"}},\"scene\":{\"xaxis\":{\"backgroundcolor\":\"#E5ECF6\",\"gridcolor\":\"white\",\"gridwidth\":2,\"linecolor\":\"white\",\"showbackground\":true,\"ticks\":\"\",\"zerolinecolor\":\"white\"},\"yaxis\":{\"backgroundcolor\":\"#E5ECF6\",\"gridcolor\":\"white\",\"gridwidth\":2,\"linecolor\":\"white\",\"showbackground\":true,\"ticks\":\"\",\"zerolinecolor\":\"white\"},\"zaxis\":{\"backgroundcolor\":\"#E5ECF6\",\"gridcolor\":\"white\",\"gridwidth\":2,\"linecolor\":\"white\",\"showbackground\":true,\"ticks\":\"\",\"zerolinecolor\":\"white\"}},\"shapedefaults\":{\"line\":{\"color\":\"#2a3f5f\"}},\"ternary\":{\"aaxis\":{\"gridcolor\":\"white\",\"linecolor\":\"white\",\"ticks\":\"\"},\"baxis\":{\"gridcolor\":\"white\",\"linecolor\":\"white\",\"ticks\":\"\"},\"bgcolor\":\"#E5ECF6\",\"caxis\":{\"gridcolor\":\"white\",\"linecolor\":\"white\",\"ticks\":\"\"}},\"title\":{\"x\":0.05},\"xaxis\":{\"automargin\":true,\"gridcolor\":\"white\",\"linecolor\":\"white\",\"ticks\":\"\",\"title\":{\"standoff\":15},\"zerolinecolor\":\"white\",\"zerolinewidth\":2},\"yaxis\":{\"automargin\":true,\"gridcolor\":\"white\",\"linecolor\":\"white\",\"ticks\":\"\",\"title\":{\"standoff\":15},\"zerolinecolor\":\"white\",\"zerolinewidth\":2}}},\"xaxis\":{\"anchor\":\"y\",\"domain\":[0.0,1.0],\"title\":{\"text\":\"importance\"}},\"yaxis\":{\"anchor\":\"x\",\"domain\":[0.0,1.0],\"title\":{\"text\":\"feat_name\"}},\"legend\":{\"tracegroupgap\":0},\"margin\":{\"t\":60},\"barmode\":\"relative\"},                        {\"responsive\": true}                    ).then(function(){\n",
       "                            \n",
       "var gd = document.getElementById('b3c239dd-f892-40ca-b8c6-50105a478629');\n",
       "var x = new MutationObserver(function (mutations, observer) {{\n",
       "        var display = window.getComputedStyle(gd).display;\n",
       "        if (!display || display === 'none') {{\n",
       "            console.log([gd, 'removed!']);\n",
       "            Plotly.purge(gd);\n",
       "            observer.disconnect();\n",
       "        }}\n",
       "}});\n",
       "\n",
       "// Listen for the removal of the full notebook cells\n",
       "var notebookContainer = gd.closest('#notebook-container');\n",
       "if (notebookContainer) {{\n",
       "    x.observe(notebookContainer, {childList: true});\n",
       "}}\n",
       "\n",
       "// Listen for the clearing of the current output cell\n",
       "var outputEl = gd.closest('.output');\n",
       "if (outputEl) {{\n",
       "    x.observe(outputEl, {childList: true});\n",
       "}}\n",
       "\n",
       "                        })                };                });            </script>        </div>"
      ]
     },
     "metadata": {},
     "output_type": "display_data"
    }
   ],
   "source": [
    "gezi.plot.feature_importance(cbt_model, topn=20)"
   ]
  },
  {
   "cell_type": "code",
   "execution_count": 33,
   "metadata": {},
   "outputs": [],
   "source": [
    "import lightgbm as lgb\n",
    "params = {\n",
    "          'boosting': 'gbdt',\n",
    "          'objective': 'regression_l1',\n",
    "          'metric': {'l1'},\n",
    "          # 'num_leaves': 32,\n",
    "          # 'num_leaves': 24,\n",
    "          'num_leaves': 12,\n",
    "          # 'min_data_in_leaf': 300,\n",
    "          'min_data_in_leaf': 500,\n",
    "          # 'max_depth': 5,\n",
    "          'learning_rate': 0.03,\n",
    "          # \"feature_fraction\": 0.8,\n",
    "          # \"bagging_fraction\": 0.75,\n",
    "          # \"feature_fraction\": 0.9,\n",
    "          # \"bagging_fraction\": 0.8,\n",
    "          'feature_fraction': 0.7,\n",
    "          'bagging_fraction': 0.7,\n",
    "          'min_data_in_bin':100,\n",
    "          \"lambda_l1\": 1e-7,\n",
    "          'lambda_l2': 1e-7,\n",
    "          \"random_state\": 1024,\n",
    "          \"num_threads\": 12,\n",
    "          }"
   ]
  },
  {
   "cell_type": "code",
   "execution_count": 34,
   "metadata": {},
   "outputs": [
    {
     "name": "stdout",
     "output_type": "stream",
     "text": [
      "[LightGBM] [Warning] Auto-choosing col-wise multi-threading, the overhead of testing was 0.067164 seconds.\n",
      "You can set `force_col_wise=true` to remove the overhead.\n",
      "[LightGBM] [Info] Total Bins 27681\n",
      "[LightGBM] [Info] Number of data points in the train set: 342411, number of used features: 118\n",
      "[LightGBM] [Info] Start training from score 0.455056\n",
      "Training until validation scores don't improve for 500 rounds\n",
      "[100]\ttraining's l1: 0.0667781\tvalid_1's l1: 0.0679191\n",
      "[200]\ttraining's l1: 0.0595653\tvalid_1's l1: 0.060877\n",
      "[300]\ttraining's l1: 0.0586352\tvalid_1's l1: 0.0599971\n",
      "[400]\ttraining's l1: 0.0578357\tvalid_1's l1: 0.0592616\n",
      "[500]\ttraining's l1: 0.0572253\tvalid_1's l1: 0.0587192\n",
      "[600]\ttraining's l1: 0.0568355\tvalid_1's l1: 0.0583808\n",
      "[700]\ttraining's l1: 0.0565811\tvalid_1's l1: 0.0581562\n",
      "[800]\ttraining's l1: 0.0563921\tvalid_1's l1: 0.0579969\n",
      "[900]\ttraining's l1: 0.05626\tvalid_1's l1: 0.0578893\n",
      "[1000]\ttraining's l1: 0.0561188\tvalid_1's l1: 0.0577714\n",
      "[1100]\ttraining's l1: 0.0560202\tvalid_1's l1: 0.0576894\n",
      "[1200]\ttraining's l1: 0.0559345\tvalid_1's l1: 0.0576209\n",
      "[1300]\ttraining's l1: 0.0558668\tvalid_1's l1: 0.0575677\n",
      "[1400]\ttraining's l1: 0.0557941\tvalid_1's l1: 0.0575122\n",
      "[1500]\ttraining's l1: 0.0557264\tvalid_1's l1: 0.0574625\n",
      "[1600]\ttraining's l1: 0.0556811\tvalid_1's l1: 0.0574301\n",
      "[1700]\ttraining's l1: 0.0556362\tvalid_1's l1: 0.0573961\n",
      "[1800]\ttraining's l1: 0.0556081\tvalid_1's l1: 0.0573797\n",
      "[1900]\ttraining's l1: 0.0555776\tvalid_1's l1: 0.0573631\n",
      "[2000]\ttraining's l1: 0.0555385\tvalid_1's l1: 0.0573366\n",
      "[2100]\ttraining's l1: 0.0555085\tvalid_1's l1: 0.0573245\n",
      "[2200]\ttraining's l1: 0.0554687\tvalid_1's l1: 0.0573003\n",
      "[2300]\ttraining's l1: 0.0554329\tvalid_1's l1: 0.0572765\n",
      "[2400]\ttraining's l1: 0.0554052\tvalid_1's l1: 0.0572658\n",
      "[2500]\ttraining's l1: 0.0553872\tvalid_1's l1: 0.0572564\n",
      "[2600]\ttraining's l1: 0.0553634\tvalid_1's l1: 0.0572434\n",
      "[2700]\ttraining's l1: 0.0553335\tvalid_1's l1: 0.0572268\n",
      "[2800]\ttraining's l1: 0.0553011\tvalid_1's l1: 0.0572098\n",
      "[2900]\ttraining's l1: 0.0552764\tvalid_1's l1: 0.0572025\n",
      "[3000]\ttraining's l1: 0.055253\tvalid_1's l1: 0.0571903\n",
      "[3100]\ttraining's l1: 0.0552401\tvalid_1's l1: 0.0571852\n",
      "[3200]\ttraining's l1: 0.0552213\tvalid_1's l1: 0.0571754\n",
      "[3300]\ttraining's l1: 0.0551886\tvalid_1's l1: 0.0571632\n",
      "[3400]\ttraining's l1: 0.0551616\tvalid_1's l1: 0.0571514\n",
      "[3500]\ttraining's l1: 0.0551365\tvalid_1's l1: 0.057141\n",
      "[3600]\ttraining's l1: 0.0551217\tvalid_1's l1: 0.0571347\n",
      "[3700]\ttraining's l1: 0.0551072\tvalid_1's l1: 0.0571273\n",
      "[3800]\ttraining's l1: 0.0550889\tvalid_1's l1: 0.0571189\n",
      "[3900]\ttraining's l1: 0.0550603\tvalid_1's l1: 0.0571031\n",
      "[4000]\ttraining's l1: 0.0550448\tvalid_1's l1: 0.0570946\n",
      "[4100]\ttraining's l1: 0.0550319\tvalid_1's l1: 0.0570892\n",
      "[4200]\ttraining's l1: 0.055014\tvalid_1's l1: 0.0570807\n",
      "[4300]\ttraining's l1: 0.0549967\tvalid_1's l1: 0.0570751\n",
      "[4400]\ttraining's l1: 0.0549828\tvalid_1's l1: 0.0570699\n",
      "[4500]\ttraining's l1: 0.0549632\tvalid_1's l1: 0.0570631\n",
      "[4600]\ttraining's l1: 0.0549498\tvalid_1's l1: 0.0570584\n",
      "[4700]\ttraining's l1: 0.0549398\tvalid_1's l1: 0.0570557\n",
      "[4800]\ttraining's l1: 0.054933\tvalid_1's l1: 0.057053\n",
      "[4900]\ttraining's l1: 0.0549227\tvalid_1's l1: 0.0570502\n",
      "[5000]\ttraining's l1: 0.0549027\tvalid_1's l1: 0.057043\n",
      "[5100]\ttraining's l1: 0.0548917\tvalid_1's l1: 0.0570396\n",
      "[5200]\ttraining's l1: 0.0548797\tvalid_1's l1: 0.0570349\n",
      "[5300]\ttraining's l1: 0.0548678\tvalid_1's l1: 0.0570309\n",
      "[5400]\ttraining's l1: 0.0548558\tvalid_1's l1: 0.0570254\n",
      "[5500]\ttraining's l1: 0.0548456\tvalid_1's l1: 0.0570212\n",
      "[5600]\ttraining's l1: 0.0548344\tvalid_1's l1: 0.0570166\n",
      "[5700]\ttraining's l1: 0.0548201\tvalid_1's l1: 0.0570095\n",
      "[5800]\ttraining's l1: 0.0548069\tvalid_1's l1: 0.0570052\n",
      "[5900]\ttraining's l1: 0.0547919\tvalid_1's l1: 0.0570038\n",
      "[6000]\ttraining's l1: 0.0547788\tvalid_1's l1: 0.0569988\n",
      "[6100]\ttraining's l1: 0.0547663\tvalid_1's l1: 0.0569946\n",
      "[6200]\ttraining's l1: 0.0547586\tvalid_1's l1: 0.0569913\n",
      "[6300]\ttraining's l1: 0.0547489\tvalid_1's l1: 0.0569886\n",
      "[6400]\ttraining's l1: 0.0547393\tvalid_1's l1: 0.0569852\n",
      "[6500]\ttraining's l1: 0.0547289\tvalid_1's l1: 0.0569827\n",
      "[6600]\ttraining's l1: 0.0547126\tvalid_1's l1: 0.0569802\n",
      "[6700]\ttraining's l1: 0.0547011\tvalid_1's l1: 0.0569754\n",
      "[6800]\ttraining's l1: 0.0546799\tvalid_1's l1: 0.0569688\n",
      "[6900]\ttraining's l1: 0.0546634\tvalid_1's l1: 0.0569627\n",
      "[7000]\ttraining's l1: 0.0546556\tvalid_1's l1: 0.0569603\n",
      "[7100]\ttraining's l1: 0.0546448\tvalid_1's l1: 0.0569571\n",
      "[7200]\ttraining's l1: 0.0546319\tvalid_1's l1: 0.0569536\n",
      "[7300]\ttraining's l1: 0.0546215\tvalid_1's l1: 0.0569496\n",
      "[7400]\ttraining's l1: 0.0546113\tvalid_1's l1: 0.0569467\n",
      "[7500]\ttraining's l1: 0.0546029\tvalid_1's l1: 0.0569443\n",
      "[7600]\ttraining's l1: 0.0545934\tvalid_1's l1: 0.0569411\n",
      "[7700]\ttraining's l1: 0.0545829\tvalid_1's l1: 0.0569383\n",
      "[7800]\ttraining's l1: 0.0545666\tvalid_1's l1: 0.0569341\n",
      "[7900]\ttraining's l1: 0.0545591\tvalid_1's l1: 0.0569306\n",
      "[8000]\ttraining's l1: 0.0545508\tvalid_1's l1: 0.0569286\n",
      "[8100]\ttraining's l1: 0.0545412\tvalid_1's l1: 0.0569259\n",
      "[8200]\ttraining's l1: 0.0545341\tvalid_1's l1: 0.0569239\n",
      "[8300]\ttraining's l1: 0.0545183\tvalid_1's l1: 0.0569196\n",
      "[8400]\ttraining's l1: 0.0545053\tvalid_1's l1: 0.0569141\n",
      "[8500]\ttraining's l1: 0.0544946\tvalid_1's l1: 0.0569118\n",
      "[8600]\ttraining's l1: 0.0544849\tvalid_1's l1: 0.0569079\n",
      "[8700]\ttraining's l1: 0.054474\tvalid_1's l1: 0.0569054\n",
      "[8800]\ttraining's l1: 0.0544654\tvalid_1's l1: 0.0569056\n",
      "[8900]\ttraining's l1: 0.0544584\tvalid_1's l1: 0.0569034\n",
      "[9000]\ttraining's l1: 0.0544538\tvalid_1's l1: 0.0569016\n",
      "[9100]\ttraining's l1: 0.0544507\tvalid_1's l1: 0.0569011\n",
      "[9200]\ttraining's l1: 0.0544436\tvalid_1's l1: 0.0568993\n",
      "[9300]\ttraining's l1: 0.054432\tvalid_1's l1: 0.0568961\n",
      "[9400]\ttraining's l1: 0.0544241\tvalid_1's l1: 0.0568942\n",
      "[9500]\ttraining's l1: 0.0544204\tvalid_1's l1: 0.0568926\n",
      "[9600]\ttraining's l1: 0.0544158\tvalid_1's l1: 0.0568921\n",
      "[9700]\ttraining's l1: 0.0544104\tvalid_1's l1: 0.0568901\n",
      "[9800]\ttraining's l1: 0.0544065\tvalid_1's l1: 0.0568891\n",
      "[9900]\ttraining's l1: 0.0543998\tvalid_1's l1: 0.0568875\n",
      "[10000]\ttraining's l1: 0.0543929\tvalid_1's l1: 0.0568858\n",
      "[10100]\ttraining's l1: 0.054386\tvalid_1's l1: 0.0568837\n",
      "[10200]\ttraining's l1: 0.0543756\tvalid_1's l1: 0.0568818\n",
      "[10300]\ttraining's l1: 0.0543692\tvalid_1's l1: 0.0568803\n",
      "[10400]\ttraining's l1: 0.0543624\tvalid_1's l1: 0.0568782\n",
      "[10500]\ttraining's l1: 0.0543534\tvalid_1's l1: 0.0568765\n",
      "[10600]\ttraining's l1: 0.0543461\tvalid_1's l1: 0.056873\n",
      "[10700]\ttraining's l1: 0.0543418\tvalid_1's l1: 0.0568712\n",
      "[10800]\ttraining's l1: 0.0543352\tvalid_1's l1: 0.0568694\n",
      "[10900]\ttraining's l1: 0.0543294\tvalid_1's l1: 0.0568708\n",
      "[11000]\ttraining's l1: 0.0543197\tvalid_1's l1: 0.0568697\n",
      "[11100]\ttraining's l1: 0.0543136\tvalid_1's l1: 0.0568678\n",
      "[11200]\ttraining's l1: 0.0543073\tvalid_1's l1: 0.0568661\n",
      "[11300]\ttraining's l1: 0.0543003\tvalid_1's l1: 0.0568638\n",
      "[11400]\ttraining's l1: 0.0542879\tvalid_1's l1: 0.05686\n",
      "[11500]\ttraining's l1: 0.0542829\tvalid_1's l1: 0.0568601\n",
      "[11600]\ttraining's l1: 0.0542723\tvalid_1's l1: 0.0568582\n",
      "[11700]\ttraining's l1: 0.0542655\tvalid_1's l1: 0.0568566\n",
      "[11800]\ttraining's l1: 0.0542584\tvalid_1's l1: 0.0568559\n",
      "[11900]\ttraining's l1: 0.0542484\tvalid_1's l1: 0.056853\n",
      "[12000]\ttraining's l1: 0.0542373\tvalid_1's l1: 0.056852\n",
      "[12100]\ttraining's l1: 0.054235\tvalid_1's l1: 0.0568513\n",
      "[12200]\ttraining's l1: 0.0542307\tvalid_1's l1: 0.0568509\n",
      "[12300]\ttraining's l1: 0.054224\tvalid_1's l1: 0.0568493\n",
      "[12400]\ttraining's l1: 0.0542169\tvalid_1's l1: 0.0568482\n",
      "[12500]\ttraining's l1: 0.0541868\tvalid_1's l1: 0.0568406\n",
      "[12600]\ttraining's l1: 0.0541514\tvalid_1's l1: 0.0568277\n",
      "[12700]\ttraining's l1: 0.0541366\tvalid_1's l1: 0.0568257\n",
      "[12800]\ttraining's l1: 0.0541265\tvalid_1's l1: 0.0568232\n",
      "[12900]\ttraining's l1: 0.05412\tvalid_1's l1: 0.0568215\n",
      "[13000]\ttraining's l1: 0.0541149\tvalid_1's l1: 0.0568194\n",
      "[13100]\ttraining's l1: 0.0541098\tvalid_1's l1: 0.0568189\n",
      "[13200]\ttraining's l1: 0.0541045\tvalid_1's l1: 0.0568169\n",
      "[13300]\ttraining's l1: 0.0540993\tvalid_1's l1: 0.0568169\n",
      "[13400]\ttraining's l1: 0.0540951\tvalid_1's l1: 0.0568158\n",
      "[13500]\ttraining's l1: 0.05409\tvalid_1's l1: 0.0568136\n",
      "[13600]\ttraining's l1: 0.0540828\tvalid_1's l1: 0.0568119\n",
      "[13700]\ttraining's l1: 0.0540784\tvalid_1's l1: 0.0568111\n",
      "[13800]\ttraining's l1: 0.0540765\tvalid_1's l1: 0.0568108\n",
      "[13900]\ttraining's l1: 0.0540702\tvalid_1's l1: 0.0568082\n",
      "[14000]\ttraining's l1: 0.0540645\tvalid_1's l1: 0.0568063\n",
      "[14100]\ttraining's l1: 0.0540552\tvalid_1's l1: 0.0568055\n",
      "[14200]\ttraining's l1: 0.0540482\tvalid_1's l1: 0.056804\n",
      "[14300]\ttraining's l1: 0.054045\tvalid_1's l1: 0.0568026\n",
      "[14400]\ttraining's l1: 0.0540378\tvalid_1's l1: 0.0568019\n",
      "[14500]\ttraining's l1: 0.0540323\tvalid_1's l1: 0.0568018\n",
      "[14600]\ttraining's l1: 0.0540289\tvalid_1's l1: 0.0568011\n",
      "[14700]\ttraining's l1: 0.054025\tvalid_1's l1: 0.0568002\n",
      "[14800]\ttraining's l1: 0.0540209\tvalid_1's l1: 0.0567996\n",
      "[14900]\ttraining's l1: 0.0540171\tvalid_1's l1: 0.0567986\n",
      "[15000]\ttraining's l1: 0.0540136\tvalid_1's l1: 0.0567982\n",
      "[15100]\ttraining's l1: 0.0540081\tvalid_1's l1: 0.0567968\n",
      "[15200]\ttraining's l1: 0.0540057\tvalid_1's l1: 0.0567963\n",
      "[15300]\ttraining's l1: 0.0539983\tvalid_1's l1: 0.0567953\n",
      "[15400]\ttraining's l1: 0.0539937\tvalid_1's l1: 0.0567954\n",
      "[15500]\ttraining's l1: 0.0539911\tvalid_1's l1: 0.0567944\n",
      "[15600]\ttraining's l1: 0.0539888\tvalid_1's l1: 0.0567935\n",
      "[15700]\ttraining's l1: 0.0539859\tvalid_1's l1: 0.0567934\n",
      "[15800]\ttraining's l1: 0.0539805\tvalid_1's l1: 0.0567932\n",
      "[15900]\ttraining's l1: 0.0539712\tvalid_1's l1: 0.0567915\n",
      "[16000]\ttraining's l1: 0.0539656\tvalid_1's l1: 0.0567915\n",
      "[16100]\ttraining's l1: 0.0539574\tvalid_1's l1: 0.0567895\n",
      "[16200]\ttraining's l1: 0.0539551\tvalid_1's l1: 0.0567889\n",
      "[16300]\ttraining's l1: 0.053951\tvalid_1's l1: 0.0567888\n",
      "[16400]\ttraining's l1: 0.053949\tvalid_1's l1: 0.056789\n",
      "[16500]\ttraining's l1: 0.053944\tvalid_1's l1: 0.056788\n",
      "[16600]\ttraining's l1: 0.0539389\tvalid_1's l1: 0.0567877\n",
      "[16700]\ttraining's l1: 0.0539344\tvalid_1's l1: 0.0567868\n",
      "[16800]\ttraining's l1: 0.0539257\tvalid_1's l1: 0.0567834\n",
      "[16900]\ttraining's l1: 0.053922\tvalid_1's l1: 0.0567831\n",
      "[17000]\ttraining's l1: 0.0539186\tvalid_1's l1: 0.056782\n",
      "[17100]\ttraining's l1: 0.0539167\tvalid_1's l1: 0.0567818\n",
      "[17200]\ttraining's l1: 0.0539117\tvalid_1's l1: 0.0567807\n",
      "[17300]\ttraining's l1: 0.0539086\tvalid_1's l1: 0.0567801\n",
      "[17400]\ttraining's l1: 0.0539054\tvalid_1's l1: 0.0567797\n",
      "[17500]\ttraining's l1: 0.053901\tvalid_1's l1: 0.0567791\n",
      "[17600]\ttraining's l1: 0.0538974\tvalid_1's l1: 0.056778\n",
      "[17700]\ttraining's l1: 0.0538951\tvalid_1's l1: 0.0567777\n",
      "[17800]\ttraining's l1: 0.0538923\tvalid_1's l1: 0.0567772\n",
      "[17900]\ttraining's l1: 0.0538875\tvalid_1's l1: 0.056776\n",
      "[18000]\ttraining's l1: 0.0538817\tvalid_1's l1: 0.0567753\n",
      "[18100]\ttraining's l1: 0.0538783\tvalid_1's l1: 0.0567751\n",
      "[18200]\ttraining's l1: 0.0538739\tvalid_1's l1: 0.056774\n",
      "[18300]\ttraining's l1: 0.0538716\tvalid_1's l1: 0.0567734\n",
      "[18400]\ttraining's l1: 0.0538682\tvalid_1's l1: 0.0567724\n",
      "[18500]\ttraining's l1: 0.0538654\tvalid_1's l1: 0.0567721\n",
      "[18600]\ttraining's l1: 0.0538631\tvalid_1's l1: 0.0567713\n",
      "[18700]\ttraining's l1: 0.0538595\tvalid_1's l1: 0.05677\n",
      "[18800]\ttraining's l1: 0.0538558\tvalid_1's l1: 0.0567687\n",
      "[18900]\ttraining's l1: 0.0538524\tvalid_1's l1: 0.0567686\n",
      "[19000]\ttraining's l1: 0.0538491\tvalid_1's l1: 0.0567679\n",
      "[19100]\ttraining's l1: 0.0538477\tvalid_1's l1: 0.0567676\n",
      "[19200]\ttraining's l1: 0.0538462\tvalid_1's l1: 0.0567676\n",
      "[19300]\ttraining's l1: 0.0538442\tvalid_1's l1: 0.0567672\n",
      "[19400]\ttraining's l1: 0.0538411\tvalid_1's l1: 0.056766\n",
      "[19500]\ttraining's l1: 0.0538375\tvalid_1's l1: 0.0567648\n",
      "[19600]\ttraining's l1: 0.0538297\tvalid_1's l1: 0.0567637\n",
      "[19700]\ttraining's l1: 0.0538262\tvalid_1's l1: 0.0567624\n",
      "[19800]\ttraining's l1: 0.0538217\tvalid_1's l1: 0.0567611\n",
      "[19900]\ttraining's l1: 0.053819\tvalid_1's l1: 0.0567603\n",
      "[20000]\ttraining's l1: 0.0538129\tvalid_1's l1: 0.0567602\n",
      "Did not meet early stopping. Best iteration is:\n",
      "[20000]\ttraining's l1: 0.0538129\tvalid_1's l1: 0.0567602\n"
     ]
    },
    {
     "name": "stderr",
     "output_type": "stream",
     "text": [
      "[08/11/22 16:00:44] 176747773.py:12 in <module>\n",
      "                    lgb_score: 0.9199717439647083\n"
     ]
    },
    {
     "data": {
      "text/plain": [
       "0.9199717439647083"
      ]
     },
     "execution_count": 34,
     "metadata": {},
     "output_type": "execute_result"
    }
   ],
   "source": [
    "d_train = lgb.Dataset(X_train, y_train)\n",
    "d_valid = lgb.Dataset(X_valid, y_valid, reference=d_train)\n",
    "\n",
    "lgb_model = lgb.train(params,\n",
    "                d_train,\n",
    "                20000,\n",
    "                valid_sets=[d_train, d_valid],\n",
    "                verbose_eval=100,\n",
    "                early_stopping_rounds=500)\n",
    "dvalid['lgb_pred'] = lgb_model.predict(dvalid[cols])\n",
    "lgb_score = calc_metric({'id': dvalid.id.values, 'cell_id': dvalid.cell_id.values, 'pred': dvalid.lgb_pred.values})\n",
    "ic(lgb_score)"
   ]
  },
  {
   "cell_type": "code",
   "execution_count": 35,
   "metadata": {},
   "outputs": [
    {
     "data": {
      "application/vnd.plotly.v1+json": {
       "config": {
        "plotlyServerURL": "https://plot.ly"
       },
       "data": [
        {
         "alignmentgroup": "True",
         "hovertemplate": "importance=%{x}<br>feat_name=%{y}<extra></extra>",
         "legendgroup": "",
         "marker": {
          "color": "#636efa",
          "pattern": {
           "shape": ""
          }
         },
         "name": "",
         "offsetgroup": "",
         "orientation": "h",
         "showlegend": false,
         "textposition": "auto",
         "type": "bar",
         "x": [
          2598,
          2656,
          2710,
          2710,
          2741,
          2951,
          2999,
          3126,
          3142,
          3176,
          3207,
          3516,
          3699,
          3924,
          4164,
          4206,
          4344,
          4825,
          5514,
          6937
         ],
         "xaxis": "x",
         "y": [
          "xc_cls_cls2_diff",
          "xp_top_prob_3",
          "pcc_cls2_diff",
          "xpc_top_prob_2",
          "pcc_reg_diff",
          "code_ratio",
          "xc_abs_cls_cls2_diff",
          "xpc_var_prob",
          "xc_cls2_reg_diff",
          "xc_abs_cls2_reg_diff",
          "xpc_pred",
          "xc_group_var",
          "xc_top_prob_2",
          "n_words",
          "xc_cls_pred",
          "xp_top_prob_0",
          "xpc_top_prob_0",
          "xc_top_prob_1",
          "xpc_cls_pred",
          "xc_reg_pred"
         ],
         "yaxis": "y"
        }
       ],
       "layout": {
        "barmode": "relative",
        "legend": {
         "tracegroupgap": 0
        },
        "margin": {
         "t": 60
        },
        "template": {
         "data": {
          "bar": [
           {
            "error_x": {
             "color": "#2a3f5f"
            },
            "error_y": {
             "color": "#2a3f5f"
            },
            "marker": {
             "line": {
              "color": "#E5ECF6",
              "width": 0.5
             },
             "pattern": {
              "fillmode": "overlay",
              "size": 10,
              "solidity": 0.2
             }
            },
            "type": "bar"
           }
          ],
          "barpolar": [
           {
            "marker": {
             "line": {
              "color": "#E5ECF6",
              "width": 0.5
             },
             "pattern": {
              "fillmode": "overlay",
              "size": 10,
              "solidity": 0.2
             }
            },
            "type": "barpolar"
           }
          ],
          "carpet": [
           {
            "aaxis": {
             "endlinecolor": "#2a3f5f",
             "gridcolor": "white",
             "linecolor": "white",
             "minorgridcolor": "white",
             "startlinecolor": "#2a3f5f"
            },
            "baxis": {
             "endlinecolor": "#2a3f5f",
             "gridcolor": "white",
             "linecolor": "white",
             "minorgridcolor": "white",
             "startlinecolor": "#2a3f5f"
            },
            "type": "carpet"
           }
          ],
          "choropleth": [
           {
            "colorbar": {
             "outlinewidth": 0,
             "ticks": ""
            },
            "type": "choropleth"
           }
          ],
          "contour": [
           {
            "colorbar": {
             "outlinewidth": 0,
             "ticks": ""
            },
            "colorscale": [
             [
              0,
              "#0d0887"
             ],
             [
              0.1111111111111111,
              "#46039f"
             ],
             [
              0.2222222222222222,
              "#7201a8"
             ],
             [
              0.3333333333333333,
              "#9c179e"
             ],
             [
              0.4444444444444444,
              "#bd3786"
             ],
             [
              0.5555555555555556,
              "#d8576b"
             ],
             [
              0.6666666666666666,
              "#ed7953"
             ],
             [
              0.7777777777777778,
              "#fb9f3a"
             ],
             [
              0.8888888888888888,
              "#fdca26"
             ],
             [
              1,
              "#f0f921"
             ]
            ],
            "type": "contour"
           }
          ],
          "contourcarpet": [
           {
            "colorbar": {
             "outlinewidth": 0,
             "ticks": ""
            },
            "type": "contourcarpet"
           }
          ],
          "heatmap": [
           {
            "colorbar": {
             "outlinewidth": 0,
             "ticks": ""
            },
            "colorscale": [
             [
              0,
              "#0d0887"
             ],
             [
              0.1111111111111111,
              "#46039f"
             ],
             [
              0.2222222222222222,
              "#7201a8"
             ],
             [
              0.3333333333333333,
              "#9c179e"
             ],
             [
              0.4444444444444444,
              "#bd3786"
             ],
             [
              0.5555555555555556,
              "#d8576b"
             ],
             [
              0.6666666666666666,
              "#ed7953"
             ],
             [
              0.7777777777777778,
              "#fb9f3a"
             ],
             [
              0.8888888888888888,
              "#fdca26"
             ],
             [
              1,
              "#f0f921"
             ]
            ],
            "type": "heatmap"
           }
          ],
          "heatmapgl": [
           {
            "colorbar": {
             "outlinewidth": 0,
             "ticks": ""
            },
            "colorscale": [
             [
              0,
              "#0d0887"
             ],
             [
              0.1111111111111111,
              "#46039f"
             ],
             [
              0.2222222222222222,
              "#7201a8"
             ],
             [
              0.3333333333333333,
              "#9c179e"
             ],
             [
              0.4444444444444444,
              "#bd3786"
             ],
             [
              0.5555555555555556,
              "#d8576b"
             ],
             [
              0.6666666666666666,
              "#ed7953"
             ],
             [
              0.7777777777777778,
              "#fb9f3a"
             ],
             [
              0.8888888888888888,
              "#fdca26"
             ],
             [
              1,
              "#f0f921"
             ]
            ],
            "type": "heatmapgl"
           }
          ],
          "histogram": [
           {
            "marker": {
             "pattern": {
              "fillmode": "overlay",
              "size": 10,
              "solidity": 0.2
             }
            },
            "type": "histogram"
           }
          ],
          "histogram2d": [
           {
            "colorbar": {
             "outlinewidth": 0,
             "ticks": ""
            },
            "colorscale": [
             [
              0,
              "#0d0887"
             ],
             [
              0.1111111111111111,
              "#46039f"
             ],
             [
              0.2222222222222222,
              "#7201a8"
             ],
             [
              0.3333333333333333,
              "#9c179e"
             ],
             [
              0.4444444444444444,
              "#bd3786"
             ],
             [
              0.5555555555555556,
              "#d8576b"
             ],
             [
              0.6666666666666666,
              "#ed7953"
             ],
             [
              0.7777777777777778,
              "#fb9f3a"
             ],
             [
              0.8888888888888888,
              "#fdca26"
             ],
             [
              1,
              "#f0f921"
             ]
            ],
            "type": "histogram2d"
           }
          ],
          "histogram2dcontour": [
           {
            "colorbar": {
             "outlinewidth": 0,
             "ticks": ""
            },
            "colorscale": [
             [
              0,
              "#0d0887"
             ],
             [
              0.1111111111111111,
              "#46039f"
             ],
             [
              0.2222222222222222,
              "#7201a8"
             ],
             [
              0.3333333333333333,
              "#9c179e"
             ],
             [
              0.4444444444444444,
              "#bd3786"
             ],
             [
              0.5555555555555556,
              "#d8576b"
             ],
             [
              0.6666666666666666,
              "#ed7953"
             ],
             [
              0.7777777777777778,
              "#fb9f3a"
             ],
             [
              0.8888888888888888,
              "#fdca26"
             ],
             [
              1,
              "#f0f921"
             ]
            ],
            "type": "histogram2dcontour"
           }
          ],
          "mesh3d": [
           {
            "colorbar": {
             "outlinewidth": 0,
             "ticks": ""
            },
            "type": "mesh3d"
           }
          ],
          "parcoords": [
           {
            "line": {
             "colorbar": {
              "outlinewidth": 0,
              "ticks": ""
             }
            },
            "type": "parcoords"
           }
          ],
          "pie": [
           {
            "automargin": true,
            "type": "pie"
           }
          ],
          "scatter": [
           {
            "marker": {
             "colorbar": {
              "outlinewidth": 0,
              "ticks": ""
             }
            },
            "type": "scatter"
           }
          ],
          "scatter3d": [
           {
            "line": {
             "colorbar": {
              "outlinewidth": 0,
              "ticks": ""
             }
            },
            "marker": {
             "colorbar": {
              "outlinewidth": 0,
              "ticks": ""
             }
            },
            "type": "scatter3d"
           }
          ],
          "scattercarpet": [
           {
            "marker": {
             "colorbar": {
              "outlinewidth": 0,
              "ticks": ""
             }
            },
            "type": "scattercarpet"
           }
          ],
          "scattergeo": [
           {
            "marker": {
             "colorbar": {
              "outlinewidth": 0,
              "ticks": ""
             }
            },
            "type": "scattergeo"
           }
          ],
          "scattergl": [
           {
            "marker": {
             "colorbar": {
              "outlinewidth": 0,
              "ticks": ""
             }
            },
            "type": "scattergl"
           }
          ],
          "scattermapbox": [
           {
            "marker": {
             "colorbar": {
              "outlinewidth": 0,
              "ticks": ""
             }
            },
            "type": "scattermapbox"
           }
          ],
          "scatterpolar": [
           {
            "marker": {
             "colorbar": {
              "outlinewidth": 0,
              "ticks": ""
             }
            },
            "type": "scatterpolar"
           }
          ],
          "scatterpolargl": [
           {
            "marker": {
             "colorbar": {
              "outlinewidth": 0,
              "ticks": ""
             }
            },
            "type": "scatterpolargl"
           }
          ],
          "scatterternary": [
           {
            "marker": {
             "colorbar": {
              "outlinewidth": 0,
              "ticks": ""
             }
            },
            "type": "scatterternary"
           }
          ],
          "surface": [
           {
            "colorbar": {
             "outlinewidth": 0,
             "ticks": ""
            },
            "colorscale": [
             [
              0,
              "#0d0887"
             ],
             [
              0.1111111111111111,
              "#46039f"
             ],
             [
              0.2222222222222222,
              "#7201a8"
             ],
             [
              0.3333333333333333,
              "#9c179e"
             ],
             [
              0.4444444444444444,
              "#bd3786"
             ],
             [
              0.5555555555555556,
              "#d8576b"
             ],
             [
              0.6666666666666666,
              "#ed7953"
             ],
             [
              0.7777777777777778,
              "#fb9f3a"
             ],
             [
              0.8888888888888888,
              "#fdca26"
             ],
             [
              1,
              "#f0f921"
             ]
            ],
            "type": "surface"
           }
          ],
          "table": [
           {
            "cells": {
             "fill": {
              "color": "#EBF0F8"
             },
             "line": {
              "color": "white"
             }
            },
            "header": {
             "fill": {
              "color": "#C8D4E3"
             },
             "line": {
              "color": "white"
             }
            },
            "type": "table"
           }
          ]
         },
         "layout": {
          "annotationdefaults": {
           "arrowcolor": "#2a3f5f",
           "arrowhead": 0,
           "arrowwidth": 1
          },
          "autotypenumbers": "strict",
          "coloraxis": {
           "colorbar": {
            "outlinewidth": 0,
            "ticks": ""
           }
          },
          "colorscale": {
           "diverging": [
            [
             0,
             "#8e0152"
            ],
            [
             0.1,
             "#c51b7d"
            ],
            [
             0.2,
             "#de77ae"
            ],
            [
             0.3,
             "#f1b6da"
            ],
            [
             0.4,
             "#fde0ef"
            ],
            [
             0.5,
             "#f7f7f7"
            ],
            [
             0.6,
             "#e6f5d0"
            ],
            [
             0.7,
             "#b8e186"
            ],
            [
             0.8,
             "#7fbc41"
            ],
            [
             0.9,
             "#4d9221"
            ],
            [
             1,
             "#276419"
            ]
           ],
           "sequential": [
            [
             0,
             "#0d0887"
            ],
            [
             0.1111111111111111,
             "#46039f"
            ],
            [
             0.2222222222222222,
             "#7201a8"
            ],
            [
             0.3333333333333333,
             "#9c179e"
            ],
            [
             0.4444444444444444,
             "#bd3786"
            ],
            [
             0.5555555555555556,
             "#d8576b"
            ],
            [
             0.6666666666666666,
             "#ed7953"
            ],
            [
             0.7777777777777778,
             "#fb9f3a"
            ],
            [
             0.8888888888888888,
             "#fdca26"
            ],
            [
             1,
             "#f0f921"
            ]
           ],
           "sequentialminus": [
            [
             0,
             "#0d0887"
            ],
            [
             0.1111111111111111,
             "#46039f"
            ],
            [
             0.2222222222222222,
             "#7201a8"
            ],
            [
             0.3333333333333333,
             "#9c179e"
            ],
            [
             0.4444444444444444,
             "#bd3786"
            ],
            [
             0.5555555555555556,
             "#d8576b"
            ],
            [
             0.6666666666666666,
             "#ed7953"
            ],
            [
             0.7777777777777778,
             "#fb9f3a"
            ],
            [
             0.8888888888888888,
             "#fdca26"
            ],
            [
             1,
             "#f0f921"
            ]
           ]
          },
          "colorway": [
           "#636efa",
           "#EF553B",
           "#00cc96",
           "#ab63fa",
           "#FFA15A",
           "#19d3f3",
           "#FF6692",
           "#B6E880",
           "#FF97FF",
           "#FECB52"
          ],
          "font": {
           "color": "#2a3f5f"
          },
          "geo": {
           "bgcolor": "white",
           "lakecolor": "white",
           "landcolor": "#E5ECF6",
           "showlakes": true,
           "showland": true,
           "subunitcolor": "white"
          },
          "hoverlabel": {
           "align": "left"
          },
          "hovermode": "closest",
          "mapbox": {
           "style": "light"
          },
          "paper_bgcolor": "white",
          "plot_bgcolor": "#E5ECF6",
          "polar": {
           "angularaxis": {
            "gridcolor": "white",
            "linecolor": "white",
            "ticks": ""
           },
           "bgcolor": "#E5ECF6",
           "radialaxis": {
            "gridcolor": "white",
            "linecolor": "white",
            "ticks": ""
           }
          },
          "scene": {
           "xaxis": {
            "backgroundcolor": "#E5ECF6",
            "gridcolor": "white",
            "gridwidth": 2,
            "linecolor": "white",
            "showbackground": true,
            "ticks": "",
            "zerolinecolor": "white"
           },
           "yaxis": {
            "backgroundcolor": "#E5ECF6",
            "gridcolor": "white",
            "gridwidth": 2,
            "linecolor": "white",
            "showbackground": true,
            "ticks": "",
            "zerolinecolor": "white"
           },
           "zaxis": {
            "backgroundcolor": "#E5ECF6",
            "gridcolor": "white",
            "gridwidth": 2,
            "linecolor": "white",
            "showbackground": true,
            "ticks": "",
            "zerolinecolor": "white"
           }
          },
          "shapedefaults": {
           "line": {
            "color": "#2a3f5f"
           }
          },
          "ternary": {
           "aaxis": {
            "gridcolor": "white",
            "linecolor": "white",
            "ticks": ""
           },
           "baxis": {
            "gridcolor": "white",
            "linecolor": "white",
            "ticks": ""
           },
           "bgcolor": "#E5ECF6",
           "caxis": {
            "gridcolor": "white",
            "linecolor": "white",
            "ticks": ""
           }
          },
          "title": {
           "x": 0.05
          },
          "xaxis": {
           "automargin": true,
           "gridcolor": "white",
           "linecolor": "white",
           "ticks": "",
           "title": {
            "standoff": 15
           },
           "zerolinecolor": "white",
           "zerolinewidth": 2
          },
          "yaxis": {
           "automargin": true,
           "gridcolor": "white",
           "linecolor": "white",
           "ticks": "",
           "title": {
            "standoff": 15
           },
           "zerolinecolor": "white",
           "zerolinewidth": 2
          }
         }
        },
        "xaxis": {
         "anchor": "y",
         "domain": [
          0,
          1
         ],
         "title": {
          "text": "importance"
         }
        },
        "yaxis": {
         "anchor": "x",
         "domain": [
          0,
          1
         ],
         "title": {
          "text": "feat_name"
         }
        }
       }
      },
      "text/html": [
       "<div>                            <div id=\"6c811a12-80db-4fda-8671-b1ba007ce4d5\" class=\"plotly-graph-div\" style=\"height:525px; width:100%;\"></div>            <script type=\"text/javascript\">                require([\"plotly\"], function(Plotly) {                    window.PLOTLYENV=window.PLOTLYENV || {};                                    if (document.getElementById(\"6c811a12-80db-4fda-8671-b1ba007ce4d5\")) {                    Plotly.newPlot(                        \"6c811a12-80db-4fda-8671-b1ba007ce4d5\",                        [{\"alignmentgroup\":\"True\",\"hovertemplate\":\"importance=%{x}<br>feat_name=%{y}<extra></extra>\",\"legendgroup\":\"\",\"marker\":{\"color\":\"#636efa\",\"pattern\":{\"shape\":\"\"}},\"name\":\"\",\"offsetgroup\":\"\",\"orientation\":\"h\",\"showlegend\":false,\"textposition\":\"auto\",\"x\":[2598,2656,2710,2710,2741,2951,2999,3126,3142,3176,3207,3516,3699,3924,4164,4206,4344,4825,5514,6937],\"xaxis\":\"x\",\"y\":[\"xc_cls_cls2_diff\",\"xp_top_prob_3\",\"pcc_cls2_diff\",\"xpc_top_prob_2\",\"pcc_reg_diff\",\"code_ratio\",\"xc_abs_cls_cls2_diff\",\"xpc_var_prob\",\"xc_cls2_reg_diff\",\"xc_abs_cls2_reg_diff\",\"xpc_pred\",\"xc_group_var\",\"xc_top_prob_2\",\"n_words\",\"xc_cls_pred\",\"xp_top_prob_0\",\"xpc_top_prob_0\",\"xc_top_prob_1\",\"xpc_cls_pred\",\"xc_reg_pred\"],\"yaxis\":\"y\",\"type\":\"bar\"}],                        {\"template\":{\"data\":{\"bar\":[{\"error_x\":{\"color\":\"#2a3f5f\"},\"error_y\":{\"color\":\"#2a3f5f\"},\"marker\":{\"line\":{\"color\":\"#E5ECF6\",\"width\":0.5},\"pattern\":{\"fillmode\":\"overlay\",\"size\":10,\"solidity\":0.2}},\"type\":\"bar\"}],\"barpolar\":[{\"marker\":{\"line\":{\"color\":\"#E5ECF6\",\"width\":0.5},\"pattern\":{\"fillmode\":\"overlay\",\"size\":10,\"solidity\":0.2}},\"type\":\"barpolar\"}],\"carpet\":[{\"aaxis\":{\"endlinecolor\":\"#2a3f5f\",\"gridcolor\":\"white\",\"linecolor\":\"white\",\"minorgridcolor\":\"white\",\"startlinecolor\":\"#2a3f5f\"},\"baxis\":{\"endlinecolor\":\"#2a3f5f\",\"gridcolor\":\"white\",\"linecolor\":\"white\",\"minorgridcolor\":\"white\",\"startlinecolor\":\"#2a3f5f\"},\"type\":\"carpet\"}],\"choropleth\":[{\"colorbar\":{\"outlinewidth\":0,\"ticks\":\"\"},\"type\":\"choropleth\"}],\"contour\":[{\"colorbar\":{\"outlinewidth\":0,\"ticks\":\"\"},\"colorscale\":[[0.0,\"#0d0887\"],[0.1111111111111111,\"#46039f\"],[0.2222222222222222,\"#7201a8\"],[0.3333333333333333,\"#9c179e\"],[0.4444444444444444,\"#bd3786\"],[0.5555555555555556,\"#d8576b\"],[0.6666666666666666,\"#ed7953\"],[0.7777777777777778,\"#fb9f3a\"],[0.8888888888888888,\"#fdca26\"],[1.0,\"#f0f921\"]],\"type\":\"contour\"}],\"contourcarpet\":[{\"colorbar\":{\"outlinewidth\":0,\"ticks\":\"\"},\"type\":\"contourcarpet\"}],\"heatmap\":[{\"colorbar\":{\"outlinewidth\":0,\"ticks\":\"\"},\"colorscale\":[[0.0,\"#0d0887\"],[0.1111111111111111,\"#46039f\"],[0.2222222222222222,\"#7201a8\"],[0.3333333333333333,\"#9c179e\"],[0.4444444444444444,\"#bd3786\"],[0.5555555555555556,\"#d8576b\"],[0.6666666666666666,\"#ed7953\"],[0.7777777777777778,\"#fb9f3a\"],[0.8888888888888888,\"#fdca26\"],[1.0,\"#f0f921\"]],\"type\":\"heatmap\"}],\"heatmapgl\":[{\"colorbar\":{\"outlinewidth\":0,\"ticks\":\"\"},\"colorscale\":[[0.0,\"#0d0887\"],[0.1111111111111111,\"#46039f\"],[0.2222222222222222,\"#7201a8\"],[0.3333333333333333,\"#9c179e\"],[0.4444444444444444,\"#bd3786\"],[0.5555555555555556,\"#d8576b\"],[0.6666666666666666,\"#ed7953\"],[0.7777777777777778,\"#fb9f3a\"],[0.8888888888888888,\"#fdca26\"],[1.0,\"#f0f921\"]],\"type\":\"heatmapgl\"}],\"histogram\":[{\"marker\":{\"pattern\":{\"fillmode\":\"overlay\",\"size\":10,\"solidity\":0.2}},\"type\":\"histogram\"}],\"histogram2d\":[{\"colorbar\":{\"outlinewidth\":0,\"ticks\":\"\"},\"colorscale\":[[0.0,\"#0d0887\"],[0.1111111111111111,\"#46039f\"],[0.2222222222222222,\"#7201a8\"],[0.3333333333333333,\"#9c179e\"],[0.4444444444444444,\"#bd3786\"],[0.5555555555555556,\"#d8576b\"],[0.6666666666666666,\"#ed7953\"],[0.7777777777777778,\"#fb9f3a\"],[0.8888888888888888,\"#fdca26\"],[1.0,\"#f0f921\"]],\"type\":\"histogram2d\"}],\"histogram2dcontour\":[{\"colorbar\":{\"outlinewidth\":0,\"ticks\":\"\"},\"colorscale\":[[0.0,\"#0d0887\"],[0.1111111111111111,\"#46039f\"],[0.2222222222222222,\"#7201a8\"],[0.3333333333333333,\"#9c179e\"],[0.4444444444444444,\"#bd3786\"],[0.5555555555555556,\"#d8576b\"],[0.6666666666666666,\"#ed7953\"],[0.7777777777777778,\"#fb9f3a\"],[0.8888888888888888,\"#fdca26\"],[1.0,\"#f0f921\"]],\"type\":\"histogram2dcontour\"}],\"mesh3d\":[{\"colorbar\":{\"outlinewidth\":0,\"ticks\":\"\"},\"type\":\"mesh3d\"}],\"parcoords\":[{\"line\":{\"colorbar\":{\"outlinewidth\":0,\"ticks\":\"\"}},\"type\":\"parcoords\"}],\"pie\":[{\"automargin\":true,\"type\":\"pie\"}],\"scatter\":[{\"marker\":{\"colorbar\":{\"outlinewidth\":0,\"ticks\":\"\"}},\"type\":\"scatter\"}],\"scatter3d\":[{\"line\":{\"colorbar\":{\"outlinewidth\":0,\"ticks\":\"\"}},\"marker\":{\"colorbar\":{\"outlinewidth\":0,\"ticks\":\"\"}},\"type\":\"scatter3d\"}],\"scattercarpet\":[{\"marker\":{\"colorbar\":{\"outlinewidth\":0,\"ticks\":\"\"}},\"type\":\"scattercarpet\"}],\"scattergeo\":[{\"marker\":{\"colorbar\":{\"outlinewidth\":0,\"ticks\":\"\"}},\"type\":\"scattergeo\"}],\"scattergl\":[{\"marker\":{\"colorbar\":{\"outlinewidth\":0,\"ticks\":\"\"}},\"type\":\"scattergl\"}],\"scattermapbox\":[{\"marker\":{\"colorbar\":{\"outlinewidth\":0,\"ticks\":\"\"}},\"type\":\"scattermapbox\"}],\"scatterpolar\":[{\"marker\":{\"colorbar\":{\"outlinewidth\":0,\"ticks\":\"\"}},\"type\":\"scatterpolar\"}],\"scatterpolargl\":[{\"marker\":{\"colorbar\":{\"outlinewidth\":0,\"ticks\":\"\"}},\"type\":\"scatterpolargl\"}],\"scatterternary\":[{\"marker\":{\"colorbar\":{\"outlinewidth\":0,\"ticks\":\"\"}},\"type\":\"scatterternary\"}],\"surface\":[{\"colorbar\":{\"outlinewidth\":0,\"ticks\":\"\"},\"colorscale\":[[0.0,\"#0d0887\"],[0.1111111111111111,\"#46039f\"],[0.2222222222222222,\"#7201a8\"],[0.3333333333333333,\"#9c179e\"],[0.4444444444444444,\"#bd3786\"],[0.5555555555555556,\"#d8576b\"],[0.6666666666666666,\"#ed7953\"],[0.7777777777777778,\"#fb9f3a\"],[0.8888888888888888,\"#fdca26\"],[1.0,\"#f0f921\"]],\"type\":\"surface\"}],\"table\":[{\"cells\":{\"fill\":{\"color\":\"#EBF0F8\"},\"line\":{\"color\":\"white\"}},\"header\":{\"fill\":{\"color\":\"#C8D4E3\"},\"line\":{\"color\":\"white\"}},\"type\":\"table\"}]},\"layout\":{\"annotationdefaults\":{\"arrowcolor\":\"#2a3f5f\",\"arrowhead\":0,\"arrowwidth\":1},\"autotypenumbers\":\"strict\",\"coloraxis\":{\"colorbar\":{\"outlinewidth\":0,\"ticks\":\"\"}},\"colorscale\":{\"diverging\":[[0,\"#8e0152\"],[0.1,\"#c51b7d\"],[0.2,\"#de77ae\"],[0.3,\"#f1b6da\"],[0.4,\"#fde0ef\"],[0.5,\"#f7f7f7\"],[0.6,\"#e6f5d0\"],[0.7,\"#b8e186\"],[0.8,\"#7fbc41\"],[0.9,\"#4d9221\"],[1,\"#276419\"]],\"sequential\":[[0.0,\"#0d0887\"],[0.1111111111111111,\"#46039f\"],[0.2222222222222222,\"#7201a8\"],[0.3333333333333333,\"#9c179e\"],[0.4444444444444444,\"#bd3786\"],[0.5555555555555556,\"#d8576b\"],[0.6666666666666666,\"#ed7953\"],[0.7777777777777778,\"#fb9f3a\"],[0.8888888888888888,\"#fdca26\"],[1.0,\"#f0f921\"]],\"sequentialminus\":[[0.0,\"#0d0887\"],[0.1111111111111111,\"#46039f\"],[0.2222222222222222,\"#7201a8\"],[0.3333333333333333,\"#9c179e\"],[0.4444444444444444,\"#bd3786\"],[0.5555555555555556,\"#d8576b\"],[0.6666666666666666,\"#ed7953\"],[0.7777777777777778,\"#fb9f3a\"],[0.8888888888888888,\"#fdca26\"],[1.0,\"#f0f921\"]]},\"colorway\":[\"#636efa\",\"#EF553B\",\"#00cc96\",\"#ab63fa\",\"#FFA15A\",\"#19d3f3\",\"#FF6692\",\"#B6E880\",\"#FF97FF\",\"#FECB52\"],\"font\":{\"color\":\"#2a3f5f\"},\"geo\":{\"bgcolor\":\"white\",\"lakecolor\":\"white\",\"landcolor\":\"#E5ECF6\",\"showlakes\":true,\"showland\":true,\"subunitcolor\":\"white\"},\"hoverlabel\":{\"align\":\"left\"},\"hovermode\":\"closest\",\"mapbox\":{\"style\":\"light\"},\"paper_bgcolor\":\"white\",\"plot_bgcolor\":\"#E5ECF6\",\"polar\":{\"angularaxis\":{\"gridcolor\":\"white\",\"linecolor\":\"white\",\"ticks\":\"\"},\"bgcolor\":\"#E5ECF6\",\"radialaxis\":{\"gridcolor\":\"white\",\"linecolor\":\"white\",\"ticks\":\"\"}},\"scene\":{\"xaxis\":{\"backgroundcolor\":\"#E5ECF6\",\"gridcolor\":\"white\",\"gridwidth\":2,\"linecolor\":\"white\",\"showbackground\":true,\"ticks\":\"\",\"zerolinecolor\":\"white\"},\"yaxis\":{\"backgroundcolor\":\"#E5ECF6\",\"gridcolor\":\"white\",\"gridwidth\":2,\"linecolor\":\"white\",\"showbackground\":true,\"ticks\":\"\",\"zerolinecolor\":\"white\"},\"zaxis\":{\"backgroundcolor\":\"#E5ECF6\",\"gridcolor\":\"white\",\"gridwidth\":2,\"linecolor\":\"white\",\"showbackground\":true,\"ticks\":\"\",\"zerolinecolor\":\"white\"}},\"shapedefaults\":{\"line\":{\"color\":\"#2a3f5f\"}},\"ternary\":{\"aaxis\":{\"gridcolor\":\"white\",\"linecolor\":\"white\",\"ticks\":\"\"},\"baxis\":{\"gridcolor\":\"white\",\"linecolor\":\"white\",\"ticks\":\"\"},\"bgcolor\":\"#E5ECF6\",\"caxis\":{\"gridcolor\":\"white\",\"linecolor\":\"white\",\"ticks\":\"\"}},\"title\":{\"x\":0.05},\"xaxis\":{\"automargin\":true,\"gridcolor\":\"white\",\"linecolor\":\"white\",\"ticks\":\"\",\"title\":{\"standoff\":15},\"zerolinecolor\":\"white\",\"zerolinewidth\":2},\"yaxis\":{\"automargin\":true,\"gridcolor\":\"white\",\"linecolor\":\"white\",\"ticks\":\"\",\"title\":{\"standoff\":15},\"zerolinecolor\":\"white\",\"zerolinewidth\":2}}},\"xaxis\":{\"anchor\":\"y\",\"domain\":[0.0,1.0],\"title\":{\"text\":\"importance\"}},\"yaxis\":{\"anchor\":\"x\",\"domain\":[0.0,1.0],\"title\":{\"text\":\"feat_name\"}},\"legend\":{\"tracegroupgap\":0},\"margin\":{\"t\":60},\"barmode\":\"relative\"},                        {\"responsive\": true}                    ).then(function(){\n",
       "                            \n",
       "var gd = document.getElementById('6c811a12-80db-4fda-8671-b1ba007ce4d5');\n",
       "var x = new MutationObserver(function (mutations, observer) {{\n",
       "        var display = window.getComputedStyle(gd).display;\n",
       "        if (!display || display === 'none') {{\n",
       "            console.log([gd, 'removed!']);\n",
       "            Plotly.purge(gd);\n",
       "            observer.disconnect();\n",
       "        }}\n",
       "}});\n",
       "\n",
       "// Listen for the removal of the full notebook cells\n",
       "var notebookContainer = gd.closest('#notebook-container');\n",
       "if (notebookContainer) {{\n",
       "    x.observe(notebookContainer, {childList: true});\n",
       "}}\n",
       "\n",
       "// Listen for the clearing of the current output cell\n",
       "var outputEl = gd.closest('.output');\n",
       "if (outputEl) {{\n",
       "    x.observe(outputEl, {childList: true});\n",
       "}}\n",
       "\n",
       "                        })                };                });            </script>        </div>"
      ]
     },
     "metadata": {},
     "output_type": "display_data"
    }
   ],
   "source": [
    "gezi.plot.feature_importance(lgb_model, topn=20)"
   ]
  },
  {
   "cell_type": "code",
   "execution_count": 36,
   "metadata": {},
   "outputs": [
    {
     "data": {
      "application/vnd.jupyter.widget-view+json": {
       "model_id": "e7a8e099df104210925b135e3a4f3551",
       "version_major": 2,
       "version_minor": 0
      },
      "text/plain": [
       "  0%|          | 0/5 [00:00<?, ?it/s]"
      ]
     },
     "metadata": {},
     "output_type": "display_data"
    },
    {
     "name": "stderr",
     "output_type": "stream",
     "text": [
      "[08/11/22 16:00:56] 1820686574.py:21 in <module>\n",
      "                    cbt_score: 0.9199360903192325\n",
      "[08/11/22 16:01:36] 1820686574.py:36 in <module>\n",
      "                    lgb_score: 0.9199717439647083\n",
      "[08/11/22 16:01:37] 1820686574.py:38 in <module>\n",
      "                    score: 0.920239250556202\n",
      "[08/11/22 16:01:37] 1820686574.py:43 in <module>\n",
      "                    fold: 0\n",
      "                    np.asarray(cbt_scores).mean(): 0.9199360903192325\n",
      "                    np.asarray(lgb_scores).mean(): 0.9199717439647083\n",
      "                    np.asarray(scores).mean(): 0.920239250556202\n"
     ]
    },
    {
     "name": "stdout",
     "output_type": "stream",
     "text": [
      "0:\tlearn: 0.2522760\ttest: 0.2522760\ttest1: 0.2521873\tbest: 0.2521873 (0)\ttotal: 50.7ms\tremaining: 8m 27s\n",
      "500:\tlearn: 0.0574364\ttest: 0.0574364\ttest1: 0.0566867\tbest: 0.0566867 (500)\ttotal: 18.4s\tremaining: 5m 49s\n",
      "1000:\tlearn: 0.0563435\ttest: 0.0563435\ttest1: 0.0558224\tbest: 0.0558224 (1000)\ttotal: 36.6s\tremaining: 5m 28s\n",
      "1500:\tlearn: 0.0558728\ttest: 0.0558728\ttest1: 0.0555510\tbest: 0.0555510 (1500)\ttotal: 54.8s\tremaining: 5m 10s\n",
      "2000:\tlearn: 0.0555130\ttest: 0.0555130\ttest1: 0.0553999\tbest: 0.0553984 (1997)\ttotal: 1m 13s\tremaining: 4m 52s\n",
      "2500:\tlearn: 0.0552135\ttest: 0.0552135\ttest1: 0.0553028\tbest: 0.0553028 (2500)\ttotal: 1m 31s\tremaining: 4m 33s\n",
      "3000:\tlearn: 0.0549702\ttest: 0.0549702\ttest1: 0.0552414\tbest: 0.0552414 (3000)\ttotal: 1m 49s\tremaining: 4m 14s\n",
      "3500:\tlearn: 0.0547180\ttest: 0.0547180\ttest1: 0.0552023\tbest: 0.0552004 (3441)\ttotal: 2m 6s\tremaining: 3m 55s\n",
      "4000:\tlearn: 0.0545007\ttest: 0.0545007\ttest1: 0.0551645\tbest: 0.0551642 (3995)\ttotal: 2m 24s\tremaining: 3m 36s\n",
      "4500:\tlearn: 0.0542834\ttest: 0.0542834\ttest1: 0.0551306\tbest: 0.0551306 (4500)\ttotal: 2m 42s\tremaining: 3m 18s\n",
      "5000:\tlearn: 0.0541084\ttest: 0.0541084\ttest1: 0.0551066\tbest: 0.0551053 (4955)\ttotal: 3m\tremaining: 3m\n",
      "5500:\tlearn: 0.0539283\ttest: 0.0539283\ttest1: 0.0550860\tbest: 0.0550860 (5500)\ttotal: 3m 17s\tremaining: 2m 41s\n",
      "6000:\tlearn: 0.0537543\ttest: 0.0537543\ttest1: 0.0550629\tbest: 0.0550629 (5998)\ttotal: 3m 35s\tremaining: 2m 23s\n",
      "6500:\tlearn: 0.0535832\ttest: 0.0535832\ttest1: 0.0550524\tbest: 0.0550523 (6490)\ttotal: 3m 53s\tremaining: 2m 5s\n",
      "7000:\tlearn: 0.0534358\ttest: 0.0534358\ttest1: 0.0550351\tbest: 0.0550348 (6993)\ttotal: 4m 10s\tremaining: 1m 47s\n",
      "7500:\tlearn: 0.0532572\ttest: 0.0532572\ttest1: 0.0550337\tbest: 0.0550323 (7475)\ttotal: 4m 28s\tremaining: 1m 29s\n",
      "8000:\tlearn: 0.0530956\ttest: 0.0530956\ttest1: 0.0550271\tbest: 0.0550271 (8000)\ttotal: 4m 46s\tremaining: 1m 11s\n",
      "8500:\tlearn: 0.0529404\ttest: 0.0529404\ttest1: 0.0550156\tbest: 0.0550156 (8500)\ttotal: 5m 3s\tremaining: 53.6s\n",
      "9000:\tlearn: 0.0527855\ttest: 0.0527855\ttest1: 0.0550141\tbest: 0.0550121 (8763)\ttotal: 5m 21s\tremaining: 35.6s\n",
      "9500:\tlearn: 0.0526545\ttest: 0.0526545\ttest1: 0.0550028\tbest: 0.0550021 (9466)\ttotal: 5m 38s\tremaining: 17.8s\n",
      "9999:\tlearn: 0.0525309\ttest: 0.0525309\ttest1: 0.0550031\tbest: 0.0549994 (9640)\ttotal: 5m 55s\tremaining: 0us\n",
      "\n",
      "bestTest = 0.05499939337\n",
      "bestIteration = 9640\n",
      "\n",
      "Shrink model to first 9641 iterations.\n"
     ]
    },
    {
     "name": "stderr",
     "output_type": "stream",
     "text": [
      "[08/11/22 16:07:41] 1820686574.py:21 in <module>\n",
      "                    cbt_score: 0.9224734998224717\n"
     ]
    },
    {
     "name": "stdout",
     "output_type": "stream",
     "text": [
      "[LightGBM] [Warning] Auto-choosing col-wise multi-threading, the overhead of testing was 0.060252 seconds.\n",
      "You can set `force_col_wise=true` to remove the overhead.\n",
      "[LightGBM] [Info] Total Bins 27680\n",
      "[LightGBM] [Info] Number of data points in the train set: 339696, number of used features: 118\n",
      "[LightGBM] [Info] Start training from score 0.455882\n",
      "Training until validation scores don't improve for 200 rounds\n",
      "[500]\ttraining's l1: 0.0576332\tvalid_1's l1: 0.0569578\n",
      "[1000]\ttraining's l1: 0.0565116\tvalid_1's l1: 0.0559804\n",
      "[1500]\ttraining's l1: 0.0561836\tvalid_1's l1: 0.0557432\n",
      "[2000]\ttraining's l1: 0.0559817\tvalid_1's l1: 0.0556079\n",
      "[2500]\ttraining's l1: 0.0558485\tvalid_1's l1: 0.0555356\n",
      "[3000]\ttraining's l1: 0.0557087\tvalid_1's l1: 0.0554674\n",
      "[3500]\ttraining's l1: 0.0556059\tvalid_1's l1: 0.0554197\n",
      "[4000]\ttraining's l1: 0.0554738\tvalid_1's l1: 0.0553688\n",
      "[4500]\ttraining's l1: 0.0553664\tvalid_1's l1: 0.0553273\n",
      "[5000]\ttraining's l1: 0.0552913\tvalid_1's l1: 0.0552983\n",
      "[5500]\ttraining's l1: 0.055219\tvalid_1's l1: 0.0552731\n",
      "[6000]\ttraining's l1: 0.0551343\tvalid_1's l1: 0.0552513\n",
      "[6500]\ttraining's l1: 0.0550663\tvalid_1's l1: 0.0552353\n",
      "[7000]\ttraining's l1: 0.0549993\tvalid_1's l1: 0.0552171\n",
      "[7500]\ttraining's l1: 0.0549273\tvalid_1's l1: 0.0551983\n",
      "[8000]\ttraining's l1: 0.0548887\tvalid_1's l1: 0.0551899\n",
      "[8500]\ttraining's l1: 0.0548459\tvalid_1's l1: 0.0551766\n",
      "[9000]\ttraining's l1: 0.0547908\tvalid_1's l1: 0.055162\n",
      "[9500]\ttraining's l1: 0.0547535\tvalid_1's l1: 0.0551512\n",
      "[10000]\ttraining's l1: 0.0547248\tvalid_1's l1: 0.0551479\n",
      "[10500]\ttraining's l1: 0.0546724\tvalid_1's l1: 0.0551383\n",
      "[11000]\ttraining's l1: 0.0546202\tvalid_1's l1: 0.0551251\n",
      "[11500]\ttraining's l1: 0.054553\tvalid_1's l1: 0.0551149\n",
      "[12000]\ttraining's l1: 0.0545101\tvalid_1's l1: 0.0551062\n",
      "[12500]\ttraining's l1: 0.0544687\tvalid_1's l1: 0.0550943\n",
      "[13000]\ttraining's l1: 0.05441\tvalid_1's l1: 0.0550808\n",
      "[13500]\ttraining's l1: 0.0543708\tvalid_1's l1: 0.0550753\n",
      "[14000]\ttraining's l1: 0.0543417\tvalid_1's l1: 0.0550701\n",
      "[14500]\ttraining's l1: 0.0542912\tvalid_1's l1: 0.0550609\n",
      "[15000]\ttraining's l1: 0.0542529\tvalid_1's l1: 0.0550552\n",
      "[15500]\ttraining's l1: 0.0542283\tvalid_1's l1: 0.0550497\n",
      "[16000]\ttraining's l1: 0.0541969\tvalid_1's l1: 0.0550434\n",
      "Early stopping, best iteration is:\n",
      "[16021]\ttraining's l1: 0.0541968\tvalid_1's l1: 0.0550434\n"
     ]
    },
    {
     "name": "stderr",
     "output_type": "stream",
     "text": [
      "[08/11/22 16:11:22] 1820686574.py:36 in <module>\n",
      "                    lgb_score: 0.9223905160293332\n",
      "[08/11/22 16:11:23] 1820686574.py:38 in <module>\n",
      "                    score: 0.9226394674087487\n",
      "[08/11/22 16:11:23] 1820686574.py:43 in <module>\n",
      "                    fold: 1\n",
      "                    np.asarray(cbt_scores).mean(): 0.9212047950708522\n",
      "                    np.asarray(lgb_scores).mean(): 0.9211811299970207\n",
      "                    np.asarray(scores).mean(): 0.9214393589824754\n"
     ]
    },
    {
     "name": "stdout",
     "output_type": "stream",
     "text": [
      "0:\tlearn: 0.2522808\ttest: 0.2522808\ttest1: 0.2526594\tbest: 0.2526594 (0)\ttotal: 52.5ms\tremaining: 8m 44s\n",
      "500:\tlearn: 0.0570628\ttest: 0.0570628\ttest1: 0.0577471\tbest: 0.0577471 (500)\ttotal: 18.7s\tremaining: 5m 55s\n",
      "1000:\tlearn: 0.0560039\ttest: 0.0560039\ttest1: 0.0568872\tbest: 0.0568872 (1000)\ttotal: 37.8s\tremaining: 5m 40s\n",
      "1500:\tlearn: 0.0555695\ttest: 0.0555695\ttest1: 0.0566161\tbest: 0.0566161 (1500)\ttotal: 56.4s\tremaining: 5m 19s\n",
      "2000:\tlearn: 0.0552429\ttest: 0.0552429\ttest1: 0.0564637\tbest: 0.0564637 (2000)\ttotal: 1m 15s\tremaining: 4m 59s\n",
      "2500:\tlearn: 0.0549886\ttest: 0.0549886\ttest1: 0.0563740\tbest: 0.0563740 (2500)\ttotal: 1m 33s\tremaining: 4m 39s\n",
      "3000:\tlearn: 0.0547692\ttest: 0.0547692\ttest1: 0.0563136\tbest: 0.0563136 (3000)\ttotal: 1m 51s\tremaining: 4m 19s\n",
      "3500:\tlearn: 0.0545713\ttest: 0.0545713\ttest1: 0.0562656\tbest: 0.0562646 (3464)\ttotal: 2m 9s\tremaining: 3m 59s\n",
      "4000:\tlearn: 0.0544032\ttest: 0.0544032\ttest1: 0.0562301\tbest: 0.0562299 (3999)\ttotal: 2m 26s\tremaining: 3m 39s\n",
      "4500:\tlearn: 0.0542209\ttest: 0.0542209\ttest1: 0.0562064\tbest: 0.0562058 (4423)\ttotal: 2m 44s\tremaining: 3m 20s\n",
      "5000:\tlearn: 0.0540433\ttest: 0.0540433\ttest1: 0.0561878\tbest: 0.0561878 (5000)\ttotal: 3m 2s\tremaining: 3m 2s\n",
      "5500:\tlearn: 0.0538827\ttest: 0.0538827\ttest1: 0.0561659\tbest: 0.0561659 (5499)\ttotal: 3m 20s\tremaining: 2m 43s\n",
      "6000:\tlearn: 0.0537278\ttest: 0.0537278\ttest1: 0.0561517\tbest: 0.0561516 (5987)\ttotal: 3m 38s\tremaining: 2m 25s\n",
      "6500:\tlearn: 0.0536132\ttest: 0.0536132\ttest1: 0.0561393\tbest: 0.0561393 (6496)\ttotal: 3m 55s\tremaining: 2m 6s\n",
      "7000:\tlearn: 0.0534595\ttest: 0.0534595\ttest1: 0.0561267\tbest: 0.0561247 (6943)\ttotal: 4m 13s\tremaining: 1m 48s\n",
      "7500:\tlearn: 0.0533125\ttest: 0.0533125\ttest1: 0.0561213\tbest: 0.0561211 (7463)\ttotal: 4m 31s\tremaining: 1m 30s\n",
      "8000:\tlearn: 0.0531763\ttest: 0.0531763\ttest1: 0.0561168\tbest: 0.0561158 (7717)\ttotal: 4m 48s\tremaining: 1m 12s\n",
      "8500:\tlearn: 0.0530398\ttest: 0.0530398\ttest1: 0.0561170\tbest: 0.0561149 (8344)\ttotal: 5m 6s\tremaining: 54s\n",
      "9000:\tlearn: 0.0529137\ttest: 0.0529137\ttest1: 0.0561091\tbest: 0.0561085 (8996)\ttotal: 5m 23s\tremaining: 36s\n",
      "9500:\tlearn: 0.0527758\ttest: 0.0527758\ttest1: 0.0561047\tbest: 0.0561046 (9498)\ttotal: 5m 41s\tremaining: 17.9s\n",
      "Stopped by overfitting detector  (500 iterations wait)\n",
      "\n",
      "bestTest = 0.056104644\n",
      "bestIteration = 9498\n",
      "\n",
      "Shrink model to first 9499 iterations.\n"
     ]
    },
    {
     "name": "stderr",
     "output_type": "stream",
     "text": [
      "[08/11/22 16:17:30] 1820686574.py:21 in <module>\n",
      "                    cbt_score: 0.9215924761363923\n"
     ]
    },
    {
     "name": "stdout",
     "output_type": "stream",
     "text": [
      "[LightGBM] [Warning] Auto-choosing col-wise multi-threading, the overhead of testing was 0.060237 seconds.\n",
      "You can set `force_col_wise=true` to remove the overhead.\n",
      "[LightGBM] [Info] Total Bins 27673\n",
      "[LightGBM] [Info] Number of data points in the train set: 337766, number of used features: 118\n",
      "[LightGBM] [Info] Start training from score 0.456522\n",
      "Training until validation scores don't improve for 200 rounds\n",
      "[500]\ttraining's l1: 0.0572781\tvalid_1's l1: 0.0579145\n",
      "[1000]\ttraining's l1: 0.0562358\tvalid_1's l1: 0.0570027\n",
      "[1500]\ttraining's l1: 0.0558964\tvalid_1's l1: 0.0567503\n",
      "[2000]\ttraining's l1: 0.0557257\tvalid_1's l1: 0.0566376\n",
      "[2500]\ttraining's l1: 0.0555747\tvalid_1's l1: 0.0565507\n",
      "[3000]\ttraining's l1: 0.0554417\tvalid_1's l1: 0.0564776\n",
      "[3500]\ttraining's l1: 0.0553333\tvalid_1's l1: 0.0564168\n",
      "[4000]\ttraining's l1: 0.0552197\tvalid_1's l1: 0.0563522\n",
      "[4500]\ttraining's l1: 0.0551207\tvalid_1's l1: 0.0563086\n",
      "[5000]\ttraining's l1: 0.0550461\tvalid_1's l1: 0.0562821\n",
      "[5500]\ttraining's l1: 0.0549917\tvalid_1's l1: 0.0562617\n",
      "[6000]\ttraining's l1: 0.054933\tvalid_1's l1: 0.056239\n",
      "[6500]\ttraining's l1: 0.0548673\tvalid_1's l1: 0.056217\n",
      "[7000]\ttraining's l1: 0.0548218\tvalid_1's l1: 0.0562007\n",
      "[7500]\ttraining's l1: 0.0547737\tvalid_1's l1: 0.0561867\n",
      "[8000]\ttraining's l1: 0.0547235\tvalid_1's l1: 0.0561721\n",
      "[8500]\ttraining's l1: 0.0546787\tvalid_1's l1: 0.0561622\n",
      "[9000]\ttraining's l1: 0.0546311\tvalid_1's l1: 0.0561451\n",
      "[9500]\ttraining's l1: 0.0545902\tvalid_1's l1: 0.0561357\n",
      "[10000]\ttraining's l1: 0.0545521\tvalid_1's l1: 0.0561213\n",
      "[10500]\ttraining's l1: 0.0545097\tvalid_1's l1: 0.056115\n",
      "[11000]\ttraining's l1: 0.0544759\tvalid_1's l1: 0.0561091\n",
      "[11500]\ttraining's l1: 0.0544351\tvalid_1's l1: 0.0560977\n",
      "[12000]\ttraining's l1: 0.0543774\tvalid_1's l1: 0.0560852\n",
      "[12500]\ttraining's l1: 0.0543458\tvalid_1's l1: 0.056076\n",
      "[13000]\ttraining's l1: 0.0543126\tvalid_1's l1: 0.0560682\n",
      "Early stopping, best iteration is:\n",
      "[13133]\ttraining's l1: 0.0543056\tvalid_1's l1: 0.0560673\n"
     ]
    },
    {
     "name": "stderr",
     "output_type": "stream",
     "text": [
      "[08/11/22 16:20:29] 1820686574.py:36 in <module>\n",
      "                    lgb_score: 0.9216264207523962\n",
      "[08/11/22 16:20:31] 1820686574.py:38 in <module>\n",
      "                    score: 0.9218409428314448\n",
      "[08/11/22 16:20:31] 1820686574.py:43 in <module>\n",
      "                    fold: 2\n",
      "                    np.asarray(cbt_scores).mean(): 0.9213340220926988\n",
      "                    np.asarray(lgb_scores).mean(): 0.9213295602488126\n",
      "                    np.asarray(scores).mean(): 0.9215732202654653\n"
     ]
    },
    {
     "name": "stdout",
     "output_type": "stream",
     "text": [
      "0:\tlearn: 0.2523111\ttest: 0.2523111\ttest1: 0.2520503\tbest: 0.2520503 (0)\ttotal: 47.3ms\tremaining: 7m 52s\n",
      "500:\tlearn: 0.0576570\ttest: 0.0576570\ttest1: 0.0563387\tbest: 0.0563387 (500)\ttotal: 18.9s\tremaining: 5m 58s\n",
      "1000:\tlearn: 0.0565594\ttest: 0.0565594\ttest1: 0.0554739\tbest: 0.0554739 (1000)\ttotal: 38s\tremaining: 5m 41s\n",
      "1500:\tlearn: 0.0560545\ttest: 0.0560545\ttest1: 0.0551642\tbest: 0.0551642 (1500)\ttotal: 57s\tremaining: 5m 22s\n",
      "2000:\tlearn: 0.0557005\ttest: 0.0557005\ttest1: 0.0549982\tbest: 0.0549982 (2000)\ttotal: 1m 15s\tremaining: 5m 2s\n",
      "2500:\tlearn: 0.0554205\ttest: 0.0554205\ttest1: 0.0549011\tbest: 0.0549011 (2499)\ttotal: 1m 33s\tremaining: 4m 41s\n",
      "3000:\tlearn: 0.0551354\ttest: 0.0551354\ttest1: 0.0548331\tbest: 0.0548331 (3000)\ttotal: 1m 52s\tremaining: 4m 22s\n",
      "3500:\tlearn: 0.0548839\ttest: 0.0548839\ttest1: 0.0547813\tbest: 0.0547791 (3462)\ttotal: 2m 10s\tremaining: 4m 2s\n",
      "4000:\tlearn: 0.0546871\ttest: 0.0546871\ttest1: 0.0547387\tbest: 0.0547377 (3995)\ttotal: 2m 29s\tremaining: 3m 43s\n",
      "4500:\tlearn: 0.0544862\ttest: 0.0544862\ttest1: 0.0547028\tbest: 0.0547025 (4490)\ttotal: 2m 47s\tremaining: 3m 24s\n",
      "5000:\tlearn: 0.0542975\ttest: 0.0542975\ttest1: 0.0546622\tbest: 0.0546616 (4979)\ttotal: 3m 5s\tremaining: 3m 5s\n",
      "5500:\tlearn: 0.0541349\ttest: 0.0541349\ttest1: 0.0546345\tbest: 0.0546345 (5499)\ttotal: 3m 23s\tremaining: 2m 46s\n",
      "6000:\tlearn: 0.0539749\ttest: 0.0539749\ttest1: 0.0546163\tbest: 0.0546151 (5995)\ttotal: 3m 41s\tremaining: 2m 27s\n",
      "6500:\tlearn: 0.0537970\ttest: 0.0537970\ttest1: 0.0546045\tbest: 0.0546036 (6490)\ttotal: 3m 58s\tremaining: 2m 8s\n",
      "7000:\tlearn: 0.0536741\ttest: 0.0536741\ttest1: 0.0545887\tbest: 0.0545875 (6955)\ttotal: 4m 16s\tremaining: 1m 49s\n",
      "7500:\tlearn: 0.0535052\ttest: 0.0535052\ttest1: 0.0545752\tbest: 0.0545752 (7500)\ttotal: 4m 33s\tremaining: 1m 31s\n",
      "8000:\tlearn: 0.0533590\ttest: 0.0533590\ttest1: 0.0545671\tbest: 0.0545670 (7997)\ttotal: 4m 50s\tremaining: 1m 12s\n",
      "8500:\tlearn: 0.0532314\ttest: 0.0532314\ttest1: 0.0545542\tbest: 0.0545534 (8470)\ttotal: 5m 8s\tremaining: 54.4s\n",
      "9000:\tlearn: 0.0531232\ttest: 0.0531232\ttest1: 0.0545529\tbest: 0.0545511 (8574)\ttotal: 5m 25s\tremaining: 36.2s\n",
      "9500:\tlearn: 0.0529800\ttest: 0.0529800\ttest1: 0.0545453\tbest: 0.0545453 (9495)\ttotal: 5m 43s\tremaining: 18s\n",
      "9999:\tlearn: 0.0528392\ttest: 0.0528392\ttest1: 0.0545422\tbest: 0.0545412 (9972)\ttotal: 6m\tremaining: 0us\n",
      "\n",
      "bestTest = 0.05454123213\n",
      "bestIteration = 9972\n",
      "\n",
      "Shrink model to first 9973 iterations.\n"
     ]
    },
    {
     "name": "stderr",
     "output_type": "stream",
     "text": [
      "[08/11/22 16:26:40] 1820686574.py:21 in <module>\n",
      "                    cbt_score: 0.9245602256744727\n"
     ]
    },
    {
     "name": "stdout",
     "output_type": "stream",
     "text": [
      "[LightGBM] [Warning] Auto-choosing col-wise multi-threading, the overhead of testing was 0.059311 seconds.\n",
      "You can set `force_col_wise=true` to remove the overhead.\n",
      "[LightGBM] [Info] Total Bins 27675\n",
      "[LightGBM] [Info] Number of data points in the train set: 337964, number of used features: 118\n",
      "[LightGBM] [Info] Start training from score 0.455939\n",
      "Training until validation scores don't improve for 200 rounds\n",
      "[500]\ttraining's l1: 0.0576861\tvalid_1's l1: 0.056229\n",
      "[1000]\ttraining's l1: 0.056629\tvalid_1's l1: 0.0553486\n",
      "[1500]\ttraining's l1: 0.0563144\tvalid_1's l1: 0.055123\n",
      "[2000]\ttraining's l1: 0.0560857\tvalid_1's l1: 0.054971\n",
      "[2500]\ttraining's l1: 0.0559424\tvalid_1's l1: 0.0548894\n",
      "[3000]\ttraining's l1: 0.055808\tvalid_1's l1: 0.0548206\n",
      "[3500]\ttraining's l1: 0.0557178\tvalid_1's l1: 0.0547759\n",
      "[4000]\ttraining's l1: 0.0556206\tvalid_1's l1: 0.0547347\n",
      "[4500]\ttraining's l1: 0.0555424\tvalid_1's l1: 0.054708\n",
      "[5000]\ttraining's l1: 0.0554754\tvalid_1's l1: 0.0546844\n",
      "[5500]\ttraining's l1: 0.055419\tvalid_1's l1: 0.0546651\n",
      "[6000]\ttraining's l1: 0.0553568\tvalid_1's l1: 0.054643\n",
      "[6500]\ttraining's l1: 0.0553101\tvalid_1's l1: 0.0546246\n",
      "[7000]\ttraining's l1: 0.0552612\tvalid_1's l1: 0.0546057\n",
      "[7500]\ttraining's l1: 0.0552045\tvalid_1's l1: 0.0545911\n",
      "[8000]\ttraining's l1: 0.0551554\tvalid_1's l1: 0.0545796\n",
      "[8500]\ttraining's l1: 0.0550884\tvalid_1's l1: 0.0545643\n",
      "[9000]\ttraining's l1: 0.0550544\tvalid_1's l1: 0.0545543\n",
      "[9500]\ttraining's l1: 0.0550161\tvalid_1's l1: 0.0545411\n",
      "[10000]\ttraining's l1: 0.0549719\tvalid_1's l1: 0.0545269\n",
      "[10500]\ttraining's l1: 0.0549348\tvalid_1's l1: 0.0545137\n",
      "[11000]\ttraining's l1: 0.0548995\tvalid_1's l1: 0.0545061\n",
      "[11500]\ttraining's l1: 0.0548709\tvalid_1's l1: 0.0544981\n",
      "[12000]\ttraining's l1: 0.0548264\tvalid_1's l1: 0.0544874\n",
      "[12500]\ttraining's l1: 0.0547728\tvalid_1's l1: 0.0544759\n",
      "[13000]\ttraining's l1: 0.0547116\tvalid_1's l1: 0.0544607\n",
      "[13500]\ttraining's l1: 0.0546746\tvalid_1's l1: 0.0544513\n",
      "[14000]\ttraining's l1: 0.0546193\tvalid_1's l1: 0.0544405\n",
      "[14500]\ttraining's l1: 0.0545787\tvalid_1's l1: 0.0544357\n",
      "[15000]\ttraining's l1: 0.0545461\tvalid_1's l1: 0.0544277\n",
      "[15500]\ttraining's l1: 0.0545189\tvalid_1's l1: 0.0544225\n",
      "[16000]\ttraining's l1: 0.0544888\tvalid_1's l1: 0.0544142\n",
      "[16500]\ttraining's l1: 0.054455\tvalid_1's l1: 0.0544047\n",
      "[17000]\ttraining's l1: 0.0544259\tvalid_1's l1: 0.0543987\n",
      "[17500]\ttraining's l1: 0.0544073\tvalid_1's l1: 0.0543948\n",
      "[18000]\ttraining's l1: 0.0543871\tvalid_1's l1: 0.0543899\n",
      "[18500]\ttraining's l1: 0.0543607\tvalid_1's l1: 0.0543879\n",
      "[19000]\ttraining's l1: 0.0543344\tvalid_1's l1: 0.0543854\n",
      "[19500]\ttraining's l1: 0.0543179\tvalid_1's l1: 0.054383\n",
      "[20000]\ttraining's l1: 0.0542974\tvalid_1's l1: 0.0543802\n",
      "Did not meet early stopping. Best iteration is:\n",
      "[20000]\ttraining's l1: 0.0542974\tvalid_1's l1: 0.0543802\n"
     ]
    },
    {
     "name": "stderr",
     "output_type": "stream",
     "text": [
      "[08/11/22 16:31:09] 1820686574.py:36 in <module>\n",
      "                    lgb_score: 0.9247171958190019\n",
      "[08/11/22 16:31:11] 1820686574.py:38 in <module>\n",
      "                    score: 0.9249285462838717\n",
      "[08/11/22 16:31:11] 1820686574.py:43 in <module>\n",
      "                    fold: 3\n",
      "                    np.asarray(cbt_scores).mean(): 0.9221405729881422\n",
      "                    np.asarray(lgb_scores).mean(): 0.9221764691413599\n",
      "                    np.asarray(scores).mean(): 0.9224120517700669\n"
     ]
    },
    {
     "name": "stdout",
     "output_type": "stream",
     "text": [
      "0:\tlearn: 0.2522343\ttest: 0.2522343\ttest1: 0.2523154\tbest: 0.2523154 (0)\ttotal: 47.5ms\tremaining: 7m 55s\n",
      "500:\tlearn: 0.0569993\ttest: 0.0569993\ttest1: 0.0583458\tbest: 0.0583458 (500)\ttotal: 18.6s\tremaining: 5m 52s\n",
      "1000:\tlearn: 0.0559816\ttest: 0.0559816\ttest1: 0.0574762\tbest: 0.0574762 (1000)\ttotal: 37.9s\tremaining: 5m 40s\n",
      "1500:\tlearn: 0.0555296\ttest: 0.0555296\ttest1: 0.0571694\tbest: 0.0571694 (1500)\ttotal: 56.9s\tremaining: 5m 21s\n",
      "2000:\tlearn: 0.0552251\ttest: 0.0552251\ttest1: 0.0570218\tbest: 0.0570218 (2000)\ttotal: 1m 15s\tremaining: 5m 1s\n",
      "2500:\tlearn: 0.0549718\ttest: 0.0549718\ttest1: 0.0569065\tbest: 0.0569065 (2500)\ttotal: 1m 34s\tremaining: 4m 42s\n",
      "3000:\tlearn: 0.0547246\ttest: 0.0547246\ttest1: 0.0568236\tbest: 0.0568232 (2996)\ttotal: 1m 52s\tremaining: 4m 22s\n",
      "3500:\tlearn: 0.0545037\ttest: 0.0545037\ttest1: 0.0567767\tbest: 0.0567767 (3500)\ttotal: 2m 10s\tremaining: 4m 3s\n",
      "4000:\tlearn: 0.0542986\ttest: 0.0542986\ttest1: 0.0567187\tbest: 0.0567187 (4000)\ttotal: 2m 29s\tremaining: 3m 44s\n",
      "4500:\tlearn: 0.0541036\ttest: 0.0541036\ttest1: 0.0566806\tbest: 0.0566806 (4500)\ttotal: 2m 48s\tremaining: 3m 25s\n",
      "5000:\tlearn: 0.0539226\ttest: 0.0539226\ttest1: 0.0566547\tbest: 0.0566540 (4993)\ttotal: 3m 6s\tremaining: 3m 6s\n",
      "5500:\tlearn: 0.0537437\ttest: 0.0537437\ttest1: 0.0566236\tbest: 0.0566236 (5500)\ttotal: 3m 25s\tremaining: 2m 48s\n",
      "6000:\tlearn: 0.0535790\ttest: 0.0535790\ttest1: 0.0565991\tbest: 0.0565991 (5999)\ttotal: 3m 43s\tremaining: 2m 28s\n",
      "6500:\tlearn: 0.0534185\ttest: 0.0534185\ttest1: 0.0565898\tbest: 0.0565880 (6343)\ttotal: 4m 2s\tremaining: 2m 10s\n",
      "7000:\tlearn: 0.0532732\ttest: 0.0532732\ttest1: 0.0565737\tbest: 0.0565737 (6999)\ttotal: 4m 21s\tremaining: 1m 52s\n",
      "7500:\tlearn: 0.0531000\ttest: 0.0531000\ttest1: 0.0565593\tbest: 0.0565593 (7500)\ttotal: 4m 40s\tremaining: 1m 33s\n",
      "8000:\tlearn: 0.0529357\ttest: 0.0529357\ttest1: 0.0565507\tbest: 0.0565507 (7998)\ttotal: 4m 59s\tremaining: 1m 14s\n",
      "8500:\tlearn: 0.0527923\ttest: 0.0527923\ttest1: 0.0565456\tbest: 0.0565447 (8489)\ttotal: 5m 18s\tremaining: 56.1s\n",
      "9000:\tlearn: 0.0526433\ttest: 0.0526433\ttest1: 0.0565308\tbest: 0.0565285 (8988)\ttotal: 5m 36s\tremaining: 37.4s\n",
      "Stopped by overfitting detector  (500 iterations wait)\n",
      "\n",
      "bestTest = 0.05652848954\n",
      "bestIteration = 8988\n",
      "\n",
      "Shrink model to first 8989 iterations.\n"
     ]
    },
    {
     "name": "stderr",
     "output_type": "stream",
     "text": [
      "[08/11/22 16:37:14] 1820686574.py:21 in <module>\n",
      "                    cbt_score: 0.915529650315392\n"
     ]
    },
    {
     "name": "stdout",
     "output_type": "stream",
     "text": [
      "[LightGBM] [Warning] Auto-choosing col-wise multi-threading, the overhead of testing was 0.063380 seconds.\n",
      "You can set `force_col_wise=true` to remove the overhead.\n",
      "[LightGBM] [Info] Total Bins 27679\n",
      "[LightGBM] [Info] Number of data points in the train set: 341935, number of used features: 118\n",
      "[LightGBM] [Info] Start training from score 0.456522\n",
      "Training until validation scores don't improve for 200 rounds\n",
      "[500]\ttraining's l1: 0.0573532\tvalid_1's l1: 0.0586091\n",
      "[1000]\ttraining's l1: 0.0562628\tvalid_1's l1: 0.0576436\n",
      "[1500]\ttraining's l1: 0.0558913\tvalid_1's l1: 0.0573272\n",
      "[2000]\ttraining's l1: 0.0556995\tvalid_1's l1: 0.0571852\n",
      "[2500]\ttraining's l1: 0.0555458\tvalid_1's l1: 0.0570842\n",
      "[3000]\ttraining's l1: 0.0554027\tvalid_1's l1: 0.056995\n",
      "[3500]\ttraining's l1: 0.0552996\tvalid_1's l1: 0.0569394\n",
      "[4000]\ttraining's l1: 0.055191\tvalid_1's l1: 0.0568764\n",
      "[4500]\ttraining's l1: 0.0551095\tvalid_1's l1: 0.0568334\n",
      "[5000]\ttraining's l1: 0.0550301\tvalid_1's l1: 0.0567999\n",
      "[5500]\ttraining's l1: 0.0549551\tvalid_1's l1: 0.0567703\n",
      "[6000]\ttraining's l1: 0.0548872\tvalid_1's l1: 0.0567461\n",
      "[6500]\ttraining's l1: 0.054829\tvalid_1's l1: 0.0567271\n",
      "[7000]\ttraining's l1: 0.0547745\tvalid_1's l1: 0.0567106\n",
      "[7500]\ttraining's l1: 0.0547213\tvalid_1's l1: 0.0566904\n",
      "[8000]\ttraining's l1: 0.054662\tvalid_1's l1: 0.056676\n",
      "[8500]\ttraining's l1: 0.0546128\tvalid_1's l1: 0.0566619\n",
      "[9000]\ttraining's l1: 0.0545673\tvalid_1's l1: 0.0566498\n",
      "[9500]\ttraining's l1: 0.0545219\tvalid_1's l1: 0.0566349\n",
      "[10000]\ttraining's l1: 0.0544869\tvalid_1's l1: 0.0566249\n",
      "[10500]\ttraining's l1: 0.0544468\tvalid_1's l1: 0.0566133\n",
      "[11000]\ttraining's l1: 0.0543999\tvalid_1's l1: 0.0565998\n",
      "[11500]\ttraining's l1: 0.0543647\tvalid_1's l1: 0.0565894\n",
      "[12000]\ttraining's l1: 0.054321\tvalid_1's l1: 0.0565814\n",
      "[12500]\ttraining's l1: 0.0542932\tvalid_1's l1: 0.0565732\n",
      "[13000]\ttraining's l1: 0.0542389\tvalid_1's l1: 0.056558\n",
      "[13500]\ttraining's l1: 0.0541966\tvalid_1's l1: 0.0565496\n",
      "[14000]\ttraining's l1: 0.0541668\tvalid_1's l1: 0.0565425\n",
      "[14500]\ttraining's l1: 0.0541376\tvalid_1's l1: 0.0565363\n",
      "[15000]\ttraining's l1: 0.0541144\tvalid_1's l1: 0.0565314\n",
      "[15500]\ttraining's l1: 0.0540881\tvalid_1's l1: 0.0565237\n",
      "[16000]\ttraining's l1: 0.0540584\tvalid_1's l1: 0.0565156\n",
      "[16500]\ttraining's l1: 0.054031\tvalid_1's l1: 0.0565141\n",
      "Early stopping, best iteration is:\n",
      "[16347]\ttraining's l1: 0.0540386\tvalid_1's l1: 0.0565131\n"
     ]
    },
    {
     "name": "stderr",
     "output_type": "stream",
     "text": [
      "[08/11/22 16:40:59] 1820686574.py:36 in <module>\n",
      "                    lgb_score: 0.915410297679708\n",
      "[08/11/22 16:41:01] 1820686574.py:38 in <module>\n",
      "                    score: 0.9156976199879968\n",
      "[08/11/22 16:41:01] 1820686574.py:43 in <module>\n",
      "                    fold: 4\n",
      "                    np.asarray(cbt_scores).mean(): 0.9208183884535922\n",
      "                    np.asarray(lgb_scores).mean(): 0.9208232348490295\n",
      "                    np.asarray(scores).mean(): 0.9210691654136529\n"
     ]
    }
   ],
   "source": [
    "FOLDS = 5\n",
    "cbt_scores, lgb_scores = [], []\n",
    "scores = []\n",
    "gezi.try_mkdir(f'../working/trees{v}')\n",
    "for fold in tqdm(range(FOLDS)):\n",
    "  dvalid = df[df.fold==fold]\n",
    "  dtrain = df[df.fold!=fold]\n",
    "  X_train = dtrain[cols]\n",
    "  y_train = dtrain[LABEL_COL]\n",
    "  X_valid = dvalid[cols]\n",
    "  y_valid = dvalid[LABEL_COL]\n",
    "  if fold > 0:\n",
    "    cbt_model = CatBoostRegressor(**cbt_params)\n",
    "    cbt_model.fit(X_train, y_train,\n",
    "          eval_set=[(X_train, y_train), (X_valid, y_valid)],\n",
    "                  verbose=500,\n",
    "                  )  \n",
    "  cbt_model.save_model(f'../working/trees{v}/{fold}.cbt')\n",
    "  dvalid['cbt_pred'] = cbt_model.predict(dvalid[cols])\n",
    "  cbt_score = calc_metric({'id': dvalid.id.values, 'cell_id': dvalid.cell_id.values, 'pred': dvalid.cbt_pred.values})\n",
    "  ic(cbt_score)\n",
    "  \n",
    "  d_train = lgb.Dataset(X_train, y_train)\n",
    "  d_valid = lgb.Dataset(X_valid, y_valid, reference=d_train)\n",
    "  if fold > 0:\n",
    "    lgb_model = lgb.train(params,\n",
    "                    d_train,\n",
    "                    20000,\n",
    "                    valid_sets=[d_train, d_valid],\n",
    "                    verbose_eval=500,\n",
    "                    early_stopping_rounds=200)\n",
    "  lgb_model.save_model(f'../working/trees{v}/{fold}.lgb')\n",
    "  dvalid['lgb_pred'] = lgb_model.predict(dvalid[cols])\n",
    "  \n",
    "  lgb_score = calc_metric({'id': dvalid.id.values, 'cell_id': dvalid.cell_id.values, 'pred': dvalid.lgb_pred.values})\n",
    "  ic(lgb_score)\n",
    "  score = calc_metric({'id': dvalid.id.values, 'cell_id': dvalid.cell_id.values, 'pred': (dvalid.cbt_pred.values * 0.3 + dvalid.lgb_pred.values * 0.7)})\n",
    "  ic(score)\n",
    "  \n",
    "  cbt_scores.append(cbt_score)\n",
    "  lgb_scores.append(lgb_score)\n",
    "  scores.append(score)\n",
    "  ic(fold, \n",
    "     np.asarray(cbt_scores).mean(), \n",
    "     np.asarray(lgb_scores).mean(),\n",
    "     np.asarray(scores).mean(),\n",
    "     )"
   ]
  },
  {
   "cell_type": "code",
   "execution_count": 37,
   "metadata": {},
   "outputs": [],
   "source": [
    "# fold: 0\n",
    "#                     np.asarray(cbt_scores).mean(): 0.9181025338378637\n",
    "#                     np.asarray(lgb_scores).mean(): 0.9193848140698876\n",
    "#                     np.asarray(scores).mean(): 0.9195238841373282\n",
    "\n",
    "#  fold: 4\n",
    "#                     np.asarray(cbt_scores).mean(): 0.9189608630607822\n",
    "#                     np.asarray(lgb_scores).mean(): 0.9196959050732708\n",
    "#                     np.asarray(scores).mean(): 0.9199400102856614"
   ]
  },
  {
   "cell_type": "code",
   "execution_count": null,
   "metadata": {},
   "outputs": [],
   "source": []
  }
 ],
 "metadata": {
  "kernelspec": {
   "display_name": "Python 3.7.9",
   "language": "python",
   "name": "python3"
  },
  "language_info": {
   "codemirror_mode": {
    "name": "ipython",
    "version": 3
   },
   "file_extension": ".py",
   "mimetype": "text/x-python",
   "name": "python",
   "nbconvert_exporter": "python",
   "pygments_lexer": "ipython3",
   "version": "3.7.9"
  },
  "orig_nbformat": 4,
  "vscode": {
   "interpreter": {
    "hash": "828c32aa8796f4caf0c9fde9f523bba8dbc7385abbb3ec2757d19a79cb47766b"
   }
  }
 },
 "nbformat": 4,
 "nbformat_minor": 2
}
