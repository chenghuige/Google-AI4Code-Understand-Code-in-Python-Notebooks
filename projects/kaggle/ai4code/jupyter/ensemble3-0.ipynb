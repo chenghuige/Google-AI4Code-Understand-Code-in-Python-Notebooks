{
 "cells": [
  {
   "cell_type": "code",
   "execution_count": 1,
   "metadata": {},
   "outputs": [],
   "source": [
    "from gezi.common import *\n",
    "sys.path.append('..')\n",
    "from src.config import *\n",
    "from src.preprocess import *\n",
    "from src.eval import *\n",
    "gezi.init_flags()"
   ]
  },
  {
   "cell_type": "code",
   "execution_count": 2,
   "metadata": {},
   "outputs": [],
   "source": [
    "# https://www.kaggle.com/code/goldenlock/ai4code-base?scriptVersionId=101148262\n",
    "# 9025"
   ]
  },
  {
   "cell_type": "code",
   "execution_count": 5,
   "metadata": {},
   "outputs": [],
   "source": [
    "root = '../working/offline/6/0'\n",
    "context_model_name = 'deberta-v3-small.flag-context2-aug.n_context-40.cls_loss_rate-0.1.eval.p13-4'\n",
    "pairwise_model_name = 'all-mpnet-base-v2.flag-pairwise13-2.pooling_mask-attention_mask'"
   ]
  },
  {
   "cell_type": "code",
   "execution_count": 6,
   "metadata": {},
   "outputs": [],
   "source": [
    "xc = gezi.load(f'{root}/{context_model_name}/valid.pkl')"
   ]
  },
  {
   "cell_type": "code",
   "execution_count": 7,
   "metadata": {},
   "outputs": [],
   "source": [
    "xp = gezi.load(f'{root}/{pairwise_model_name}/valid.pkl')"
   ]
  },
  {
   "cell_type": "code",
   "execution_count": 8,
   "metadata": {},
   "outputs": [],
   "source": [
    "gezi.sort_dict_byid_(xc, 'cid')\n",
    "gezi.sort_dict_byid_(xp, 'cid')"
   ]
  },
  {
   "cell_type": "code",
   "execution_count": 9,
   "metadata": {},
   "outputs": [],
   "source": [
    "ids = set(xc['id'])"
   ]
  },
  {
   "cell_type": "code",
   "execution_count": 10,
   "metadata": {},
   "outputs": [
    {
     "data": {
      "text/html": [
       "<div>\n",
       "<style scoped>\n",
       "    .dataframe tbody tr th:only-of-type {\n",
       "        vertical-align: middle;\n",
       "    }\n",
       "\n",
       "    .dataframe tbody tr th {\n",
       "        vertical-align: top;\n",
       "    }\n",
       "\n",
       "    .dataframe thead th {\n",
       "        text-align: right;\n",
       "    }\n",
       "</style>\n",
       "<table border=\"1\" class=\"dataframe\">\n",
       "  <thead>\n",
       "    <tr style=\"text-align: right;\">\n",
       "      <th></th>\n",
       "      <th>id</th>\n",
       "      <th>cell_order</th>\n",
       "    </tr>\n",
       "  </thead>\n",
       "  <tbody>\n",
       "    <tr>\n",
       "      <th>4</th>\n",
       "      <td>0002115f48f982</td>\n",
       "      <td>[9ec225f0, 18281c6c, e3b6b115, 4a044c54, 365fe...</td>\n",
       "    </tr>\n",
       "    <tr>\n",
       "      <th>11</th>\n",
       "      <td>00062ab8487156</td>\n",
       "      <td>[dcad687f, a2e1fc80, 7d977ee8, 45a82a59, cbbc3...</td>\n",
       "    </tr>\n",
       "    <tr>\n",
       "      <th>28</th>\n",
       "      <td>000efd285fb982</td>\n",
       "      <td>[74a30f80, ee2c8e08, 5523374e, ae8f8fe8, 2138e...</td>\n",
       "    </tr>\n",
       "    <tr>\n",
       "      <th>39</th>\n",
       "      <td>0012865b766949</td>\n",
       "      <td>[f9cb50e9, 25f7db90, d804e819, 6593a545, fc5bb...</td>\n",
       "    </tr>\n",
       "    <tr>\n",
       "      <th>42</th>\n",
       "      <td>001308991e0c5e</td>\n",
       "      <td>[21147235, 6c01d0d2, 5bd28595, b8fd3a8c, a2501...</td>\n",
       "    </tr>\n",
       "  </tbody>\n",
       "</table>\n",
       "</div>"
      ],
      "text/plain": [
       "                id                                         cell_order\n",
       "4   0002115f48f982  [9ec225f0, 18281c6c, e3b6b115, 4a044c54, 365fe...\n",
       "11  00062ab8487156  [dcad687f, a2e1fc80, 7d977ee8, 45a82a59, cbbc3...\n",
       "28  000efd285fb982  [74a30f80, ee2c8e08, 5523374e, ae8f8fe8, 2138e...\n",
       "39  0012865b766949  [f9cb50e9, 25f7db90, d804e819, 6593a545, fc5bb...\n",
       "42  001308991e0c5e  [21147235, 6c01d0d2, 5bd28595, b8fd3a8c, a2501..."
      ]
     },
     "execution_count": 10,
     "metadata": {},
     "output_type": "execute_result"
    }
   ],
   "source": [
    "df_gt = pd.read_csv(f'{FLAGS.root}/train_orders.csv')\n",
    "df_gt = df_gt[df_gt.id.isin(ids)]\n",
    "df_gt['cell_order'] = df_gt['cell_order'].apply(lambda x: x.split())\n",
    "df_gt.head()"
   ]
  },
  {
   "cell_type": "code",
   "execution_count": 11,
   "metadata": {},
   "outputs": [
    {
     "data": {
      "text/plain": [
       "0.9006251692558017"
      ]
     },
     "execution_count": 11,
     "metadata": {},
     "output_type": "execute_result"
    }
   ],
   "source": [
    "calc_metric(xc, 'reg_pred')"
   ]
  },
  {
   "cell_type": "code",
   "execution_count": 12,
   "metadata": {},
   "outputs": [
    {
     "data": {
      "text/plain": [
       "0.8992880214723898"
      ]
     },
     "execution_count": 12,
     "metadata": {},
     "output_type": "execute_result"
    }
   ],
   "source": [
    "calc_metric(xc, 'pred')"
   ]
  },
  {
   "cell_type": "code",
   "execution_count": 13,
   "metadata": {},
   "outputs": [
    {
     "data": {
      "text/plain": [
       "0.896173129530509"
      ]
     },
     "execution_count": 13,
     "metadata": {},
     "output_type": "execute_result"
    }
   ],
   "source": [
    "calc_metric(xc, 'cls_pred')"
   ]
  },
  {
   "cell_type": "code",
   "execution_count": 14,
   "metadata": {},
   "outputs": [
    {
     "data": {
      "text/plain": [
       "0.8931927695789988"
      ]
     },
     "execution_count": 14,
     "metadata": {},
     "output_type": "execute_result"
    }
   ],
   "source": [
    "calc_metric(xp, 'cls_pred')"
   ]
  },
  {
   "cell_type": "code",
   "execution_count": 15,
   "metadata": {},
   "outputs": [
    {
     "data": {
      "text/plain": [
       "0.9029967267783606"
      ]
     },
     "execution_count": 15,
     "metadata": {},
     "output_type": "execute_result"
    }
   ],
   "source": [
    "x = xc.copy()\n",
    "x['pred'] = xc['reg_pred'] * 0.5 + xp['cls_pred'] * 0.5\n",
    "calc_metric(x)"
   ]
  },
  {
   "cell_type": "code",
   "execution_count": 16,
   "metadata": {},
   "outputs": [
    {
     "data": {
      "text/plain": [
       "0.9003450174736564"
      ]
     },
     "execution_count": 16,
     "metadata": {},
     "output_type": "execute_result"
    }
   ],
   "source": [
    "x = xc.copy()\n",
    "x['pred'] = xc['cls_pred'] * 0.5 + xp['cls_pred'] * 0.5\n",
    "calc_metric(x)"
   ]
  },
  {
   "cell_type": "code",
   "execution_count": 17,
   "metadata": {},
   "outputs": [
    {
     "data": {
      "text/plain": [
       "0.9023942485028029"
      ]
     },
     "execution_count": 17,
     "metadata": {},
     "output_type": "execute_result"
    }
   ],
   "source": [
    "x = xc.copy()\n",
    "x['pred'] = xc['reg_pred'] * 0.5 + xp['pred'] * 0.5\n",
    "calc_metric(x)"
   ]
  },
  {
   "cell_type": "code",
   "execution_count": 18,
   "metadata": {},
   "outputs": [],
   "source": [
    "def merge(x, y, prob):\n",
    "  # return y\n",
    "  # return x\n",
    "  if prob > 0.9:\n",
    "    return x * (1 - 0.0001) + y * 0.0001\n",
    "  elif abs(y - x) < 0.1:\n",
    "    return x * (1 - 0.0001) + y * 0.0001\n",
    "  elif abs(y - x) < 0.2:\n",
    "    return x * 0.95 * prob + y * (1 - 0.95 * prob)\n",
    "  elif abs(y - x) < 0.3:\n",
    "    return x * 0.85 * prob + y * (1 - 0.85 * prob)\n",
    "  elif abs(y - x) < 0.4:\n",
    "    return x * 0.5 * prob + y * (1 - 0.5 * prob)\n",
    "  else:\n",
    "    return y"
   ]
  },
  {
   "cell_type": "code",
   "execution_count": 19,
   "metadata": {},
   "outputs": [
    {
     "data": {
      "text/plain": [
       "0.9076464578960967"
      ]
     },
     "execution_count": 19,
     "metadata": {},
     "output_type": "execute_result"
    }
   ],
   "source": [
    "x['pred'] = [merge(x, y, prob) for x, y, prob in zip(xp['pred'], xc['pred'], xp['max_prob'])]\n",
    "calc_metric(x)"
   ]
  },
  {
   "cell_type": "code",
   "execution_count": 20,
   "metadata": {},
   "outputs": [],
   "source": [
    "df_p = pd.DataFrame(xp)"
   ]
  },
  {
   "cell_type": "code",
   "execution_count": 21,
   "metadata": {},
   "outputs": [],
   "source": [
    "df_c = pd.DataFrame(gezi.batch2list(xc))"
   ]
  },
  {
   "cell_type": "code",
   "execution_count": 22,
   "metadata": {},
   "outputs": [],
   "source": [
    "df = df_c.merge(df_p[['cid', 'pred', 'cls_pred', 'max_prob', 'max_sim', 'probs', 'sims']], on='cid', suffixes=['_c', '_p'])"
   ]
  },
  {
   "cell_type": "code",
   "execution_count": 23,
   "metadata": {},
   "outputs": [],
   "source": [
    "df_train = pd.read_feather('../working/train.fea')"
   ]
  },
  {
   "cell_type": "code",
   "execution_count": 24,
   "metadata": {},
   "outputs": [],
   "source": [
    "df_train = df_train[df_train.id.isin(ids)]"
   ]
  },
  {
   "cell_type": "code",
   "execution_count": 25,
   "metadata": {},
   "outputs": [],
   "source": [
    "df = df.merge(df_train[['cid', 'ancestor_id', 'n_words', 'source']], on='cid')"
   ]
  },
  {
   "cell_type": "code",
   "execution_count": 26,
   "metadata": {},
   "outputs": [],
   "source": [
    "gezi.set_fold(df, 5, 'ancestor_id')"
   ]
  },
  {
   "cell_type": "code",
   "execution_count": 27,
   "metadata": {},
   "outputs": [
    {
     "data": {
      "application/vnd.jupyter.widget-view+json": {
       "model_id": "98e96f6a73854a92850301533481c8b5",
       "version_major": 2,
       "version_minor": 0
      },
      "text/plain": [
       "top:   0%|          | 0/424943 [00:00<?, ?it/s]"
      ]
     },
     "metadata": {},
     "output_type": "display_data"
    },
    {
     "data": {
      "application/vnd.jupyter.widget-view+json": {
       "model_id": "17aa41f6fead4b88baca8886664b142a",
       "version_major": 2,
       "version_minor": 0
      },
      "text/plain": [
       "ctop:   0%|          | 0/424943 [00:00<?, ?it/s]"
      ]
     },
     "metadata": {},
     "output_type": "display_data"
    },
    {
     "data": {
      "application/vnd.jupyter.widget-view+json": {
       "model_id": "7628eb75169749039438f51009d05956",
       "version_major": 2,
       "version_minor": 0
      },
      "text/plain": [
       "rule:   0%|          | 0/424943 [00:00<?, ?it/s]"
      ]
     },
     "metadata": {},
     "output_type": "display_data"
    }
   ],
   "source": [
    "df['pred_diff0'] = abs(df['pred_c'] - df['pred_p'])\n",
    "df['pred_diff1'] = abs(df['reg_pred'] - df['pred_p'])\n",
    "df['pred_diff2'] = abs(df['cls_pred_c'] - df['pred_p'])\n",
    "df['pred_diff3'] = abs(df['cls2_pred'] - df['pred_p'])\n",
    "df['markdown_frac'] = df['n_markdown_cell'] / df['n_cell']\n",
    "df['span'] = 1 / (df['n_code_cell'] + 1)\n",
    "top2, top3, top4, top5 = [], [], [], []\n",
    "top2_prob, top3_prob, top4_prob, top5_prob = [], [], [], []\n",
    "top2_sim, top3_sim, top4_sim, top5_sim = [], [], [], []\n",
    "for i in tqdm(range(len(df)), desc='top'):\n",
    "  # cls_preds = df['cls_pred_ori'].values[i]\n",
    "  n_code = df['n_code_cell'].values[i]\n",
    "  probs = df['probs'].values[i]\n",
    "  sims = df['sims'].values[i]\n",
    "  idxes = (-probs).argsort()\n",
    "  if len(idxes) > 1:\n",
    "    top2.append((idxes[1] + 0.5) / (n_code + 1))\n",
    "    top2_prob.append(probs[idxes[1]])\n",
    "    top2_sim.append(sims[idxes[1]])\n",
    "  else:\n",
    "    top2.append(-1)\n",
    "    top2_prob.append(-1)\n",
    "    top2_sim.append(-1)\n",
    "  if len(idxes) > 2:\n",
    "    top3.append((idxes[2] + 0.5) / (n_code + 1))\n",
    "    top3_prob.append(probs[idxes[2]])\n",
    "    top3_sim.append(sims[idxes[2]])\n",
    "  else:\n",
    "    top3.append(-1)\n",
    "    top3_prob.append(-1)\n",
    "    top3_sim.append(-1)\n",
    "  if len(idxes) > 3:\n",
    "    top4.append((idxes[3] + 0.5) / (n_code + 1))\n",
    "    top4_prob.append(probs[idxes[3]])\n",
    "    top4_sim.append(sims[idxes[3]])\n",
    "  else:\n",
    "    top4.append(-1)\n",
    "    top4_prob.append(-1)\n",
    "    top4_sim.append(-1)\n",
    "  if len(idxes) > 4:\n",
    "    top5.append((idxes[4] + 0.5) / (n_code + 1))\n",
    "    top5_prob.append(probs[idxes[4]])\n",
    "    top5_sim.append(sims[idxes[4]])\n",
    "  else:\n",
    "    top5.append(-1)\n",
    "    top5_prob.append(-1)\n",
    "    top5_sim.append(-1)\n",
    "ctop_prob, ctop2, ctop3, ctop4, ctop2_prob, ctop3_prob, ctop4_prob = [], [], [], [], [], [], []\n",
    "for i in tqdm(range(len(df)), desc='ctop'):\n",
    "  preds = df['cls_pred_ori'].values[i]\n",
    "  probs = gezi.softmax(preds)\n",
    "  idxes = (-probs).argsort()\n",
    "  ctop_prob.append(probs[idxes[0]])\n",
    "  ctop2.append((idxes[1] + 0.5) / FLAGS.num_classes)\n",
    "  ctop2_prob.append(probs[idxes[1]])\n",
    "  ctop3.append((idxes[2] + 0.5) / FLAGS.num_classes)\n",
    "  ctop3_prob.append(probs[idxes[2]])\n",
    "  ctop4.append((idxes[3] + 0.5) / FLAGS.num_classes)\n",
    "  ctop4_prob.append(probs[idxes[3]])\n",
    "# for i in range(FLAGS.num_classes):\n",
    "#   df[f'cls_pred{i}'] = df['cls_pred_ori'].apply(lambda x: x[i])\n",
    "df['top2'] = top2\n",
    "df['top2_prob'] = top2_prob\n",
    "df['top2_sim'] = top2_sim\n",
    "df['top3'] = top3\n",
    "df['top3_prob'] = top3_prob\n",
    "df['top3_sim'] = top3_sim\n",
    "df['top4'] = top4\n",
    "df['top4_prob'] = top4_prob\n",
    "df['top4_sim'] = top4_sim\n",
    "df['top5'] = top5\n",
    "df['top5_prob'] = top5_prob\n",
    "df['top5_sim'] = top5_sim\n",
    "df['ctop_prob'] = ctop_prob\n",
    "df['ctop2'] = ctop2\n",
    "df['ctop2_prob'] = ctop2_prob\n",
    "df['ctop3'] = ctop3\n",
    "df['ctop3_prob'] = ctop3_prob\n",
    "df['ctop4'] = ctop4\n",
    "df['ctop4_prob'] = ctop4_prob\n",
    "df['pred_diff4'] = abs(df['pred_c'] - df['top2'])\n",
    "df['pred_diff5'] = abs(df['reg_pred'] - df['top2'])\n",
    "df['pred_diff6'] = abs(df['cls_pred_c'] - df['top2'])\n",
    "df['pred_diff7'] = abs(df['cls2_pred'] - df['top2'])\n",
    "df['pred_diff8'] = abs(df['pred_p'] - df['top2'])\n",
    "df['pred_diff9'] = abs(df['cls_pred_c'] - df['top3'])\n",
    "df['pred_diff10'] = abs(df['pred_p'] - df['top3'])\n",
    "df['rule_pred'] = [merge(x, y, prob) for x, y, prob in tqdm(zip(df.pred_p.values, df.pred_c.values, df.max_prob.values), total=len(df), desc='rule')]"
   ]
  },
  {
   "cell_type": "code",
   "execution_count": 28,
   "metadata": {},
   "outputs": [],
   "source": [
    "reg_cols =  [\n",
    "          'n_code_cell',\n",
    "          'n_markdown_cell',\n",
    "          'n_cell',\n",
    "          'cls_pred_c',\n",
    "          'pred_c',\n",
    "          'reg_pred',\n",
    "          'cls2_pred',\n",
    "          'pred_p',\n",
    "          'cls_pred_p',\n",
    "          'rule_pred',\n",
    "          'pred_diff0',\n",
    "          'pred_diff1',\n",
    "          'pred_diff2',\n",
    "          'pred_diff3',\n",
    "          'pred_diff4',\n",
    "          'pred_diff5',\n",
    "          'pred_diff6',\n",
    "          'pred_diff7',\n",
    "          'pred_diff8',\n",
    "          'pred_diff9',\n",
    "          'pred_diff10',\n",
    "          'max_sim',\n",
    "          'max_prob',\n",
    "          'markdown_frac',\n",
    "          'span',\n",
    "          'top2',\n",
    "          'top2_prob',\n",
    "          'top2_sim',\n",
    "          'top3',\n",
    "          'top3_prob',\n",
    "          'top3_sim',\n",
    "          'top4',\n",
    "          'top4_prob',\n",
    "          'top4_sim',\n",
    "          'top5',\n",
    "          'top5_prob',\n",
    "          'top5_sim',\n",
    "          'ctop_prob', \n",
    "          'ctop2', \n",
    "          'ctop2_prob', \n",
    "        ]\n",
    "\n",
    "cat_cols = [\n",
    "          \n",
    "            ]\n",
    "label_col = 'rel_rank'\n",
    "cols = reg_cols + cat_cols"
   ]
  },
  {
   "cell_type": "code",
   "execution_count": 29,
   "metadata": {},
   "outputs": [],
   "source": [
    "from catboost import CatBoostRegressor, Pool\n",
    "xgb_params = {'learning_rate': 0.02,\n",
    "              'reg_lambda': 7.960622217848342e-07, \n",
    "              'subsample': 0.7422597612762745,\n",
    "              'max_depth': 10, \n",
    "              'early_stopping_rounds': 500,\n",
    "              'n_estimators': 10000,\n",
    "              'cat_features': [],\n",
    "              'loss_function': 'MAE',\n",
    "              }\n",
    "\n",
    "xgb_params2 = {'learning_rate': 0.09827605967564293,'tree_method':'gpu_hist', 'gpu_id':0,\n",
    "               'early_stopping_rounds': 50,\n",
    "               'n_estimators': 10000, }"
   ]
  },
  {
   "cell_type": "code",
   "execution_count": 30,
   "metadata": {},
   "outputs": [],
   "source": [
    "FOLDS = 5"
   ]
  },
  {
   "cell_type": "code",
   "execution_count": 31,
   "metadata": {},
   "outputs": [
    {
     "data": {
      "application/vnd.jupyter.widget-view+json": {
       "model_id": "6427e852e0e44b04aba668db1c47fb63",
       "version_major": 2,
       "version_minor": 0
      },
      "text/plain": [
       "  0%|          | 0/5 [00:00<?, ?it/s]"
      ]
     },
     "metadata": {},
     "output_type": "display_data"
    },
    {
     "name": "stdout",
     "output_type": "stream",
     "text": [
      "0:\tlearn: 0.2544240\ttest: 0.2544240\ttest1: 0.2543404\tbest: 0.2543404 (0)\ttotal: 407ms\tremaining: 1h 7m 51s\n",
      "500:\tlearn: 0.0637261\ttest: 0.0637261\ttest1: 0.0663100\tbest: 0.0663100 (500)\ttotal: 1m 35s\tremaining: 30m 15s\n",
      "1000:\tlearn: 0.0614865\ttest: 0.0614865\ttest1: 0.0653747\tbest: 0.0653746 (999)\ttotal: 3m 12s\tremaining: 28m 52s\n",
      "1500:\tlearn: 0.0601094\ttest: 0.0601094\ttest1: 0.0650864\tbest: 0.0650842 (1496)\ttotal: 4m 51s\tremaining: 27m 29s\n",
      "2000:\tlearn: 0.0590524\ttest: 0.0590524\ttest1: 0.0650016\tbest: 0.0649976 (1982)\ttotal: 6m 29s\tremaining: 25m 56s\n",
      "Stopped by overfitting detector  (500 iterations wait)\n",
      "\n",
      "bestTest = 0.064997553\n",
      "bestIteration = 1982\n",
      "\n",
      "Shrink model to first 1983 iterations.\n"
     ]
    },
    {
     "name": "stderr",
     "output_type": "stream",
     "text": [
      "[07/19/22 18:16:01] 4047567722.py:19 in <module>\n",
      "                    abs(x['pred'] - dvalid['rel_rank']).mean(): 0.06640286701298789\n",
      "[07/19/22 18:16:03] 4047567722.py:21 in <module>\n",
      "                    fold: 0\n",
      "                    merge_score: 0.9064440002681321\n",
      "                    score: 0.9092124745641994\n",
      "                    score - merge_score: 0.0027684742960673026\n",
      "[07/19/22 18:16:03] 4047567722.py:24 in <module>\n",
      "                    fold: 0\n",
      "                    np.asarray(merge_scores).mean(): 0.9064440002681321\n",
      "                    np.asarray(scores).mean(): 0.9092124745641994\n"
     ]
    },
    {
     "name": "stdout",
     "output_type": "stream",
     "text": [
      "0:\tlearn: 0.2544544\ttest: 0.2544544\ttest1: 0.2543685\tbest: 0.2543685 (0)\ttotal: 214ms\tremaining: 35m 43s\n",
      "500:\tlearn: 0.0640191\ttest: 0.0640191\ttest1: 0.0649981\tbest: 0.0649981 (500)\ttotal: 1m 45s\tremaining: 33m 11s\n",
      "1000:\tlearn: 0.0619186\ttest: 0.0619186\ttest1: 0.0640202\tbest: 0.0640202 (1000)\ttotal: 3m 22s\tremaining: 30m 19s\n",
      "1500:\tlearn: 0.0603690\ttest: 0.0603690\ttest1: 0.0637344\tbest: 0.0637338 (1486)\ttotal: 4m 46s\tremaining: 26m 59s\n",
      "2000:\tlearn: 0.0591578\ttest: 0.0591578\ttest1: 0.0636126\tbest: 0.0636111 (1992)\ttotal: 6m 29s\tremaining: 25m 57s\n",
      "2500:\tlearn: 0.0581340\ttest: 0.0581340\ttest1: 0.0635737\tbest: 0.0635726 (2491)\ttotal: 8m 20s\tremaining: 25m\n",
      "3000:\tlearn: 0.0574226\ttest: 0.0574226\ttest1: 0.0636003\tbest: 0.0635723 (2554)\ttotal: 9m 55s\tremaining: 23m 8s\n",
      "Stopped by overfitting detector  (500 iterations wait)\n",
      "\n",
      "bestTest = 0.06357225843\n",
      "bestIteration = 2554\n",
      "\n",
      "Shrink model to first 2555 iterations.\n"
     ]
    },
    {
     "name": "stderr",
     "output_type": "stream",
     "text": [
      "[07/19/22 18:26:18] 4047567722.py:19 in <module>\n",
      "                    abs(x['pred'] - dvalid['rel_rank']).mean(): 0.06531415207450601\n",
      "[07/19/22 18:26:20] 4047567722.py:21 in <module>\n",
      "                    fold: 1\n",
      "                    merge_score: 0.9073368758755661\n",
      "                    score: 0.9103981965700243\n",
      "                    score - merge_score: 0.0030613206944581917\n",
      "[07/19/22 18:26:20] 4047567722.py:24 in <module>\n",
      "                    fold: 1\n",
      "                    np.asarray(merge_scores).mean(): 0.9068904380718491\n",
      "                    np.asarray(scores).mean(): 0.9098053355671119\n"
     ]
    },
    {
     "name": "stdout",
     "output_type": "stream",
     "text": [
      "0:\tlearn: 0.2543643\ttest: 0.2543643\ttest1: 0.2547428\tbest: 0.2547428 (0)\ttotal: 208ms\tremaining: 34m 42s\n",
      "500:\tlearn: 0.0640179\ttest: 0.0640179\ttest1: 0.0653851\tbest: 0.0653851 (500)\ttotal: 1m 44s\tremaining: 32m 59s\n",
      "1000:\tlearn: 0.0618132\ttest: 0.0618132\ttest1: 0.0643970\tbest: 0.0643970 (1000)\ttotal: 3m 25s\tremaining: 30m 50s\n",
      "1500:\tlearn: 0.0604754\ttest: 0.0604754\ttest1: 0.0641023\tbest: 0.0641020 (1499)\ttotal: 5m 3s\tremaining: 28m 40s\n",
      "2000:\tlearn: 0.0595068\ttest: 0.0595068\ttest1: 0.0639894\tbest: 0.0639887 (1998)\ttotal: 6m 57s\tremaining: 27m 50s\n",
      "2500:\tlearn: 0.0587561\ttest: 0.0587561\ttest1: 0.0639519\tbest: 0.0639484 (2470)\ttotal: 8m 30s\tremaining: 25m 30s\n",
      "3000:\tlearn: 0.0578844\ttest: 0.0578844\ttest1: 0.0639654\tbest: 0.0639372 (2605)\ttotal: 10m 2s\tremaining: 23m 24s\n",
      "Stopped by overfitting detector  (500 iterations wait)\n",
      "\n",
      "bestTest = 0.06393723547\n",
      "bestIteration = 2605\n",
      "\n",
      "Shrink model to first 2606 iterations.\n"
     ]
    },
    {
     "name": "stderr",
     "output_type": "stream",
     "text": [
      "[07/19/22 18:36:46] 4047567722.py:19 in <module>\n",
      "                    abs(x['pred'] - dvalid['rel_rank']).mean(): 0.06577511615491055\n",
      "[07/19/22 18:36:48] 4047567722.py:21 in <module>\n",
      "                    fold: 2\n",
      "                    merge_score: 0.9094900364164551\n",
      "                    score: 0.9128766039201097\n",
      "                    score - merge_score: 0.003386567503654625\n",
      "[07/19/22 18:36:48] 4047567722.py:24 in <module>\n",
      "                    fold: 2\n",
      "                    np.asarray(merge_scores).mean(): 0.9077569708533844\n",
      "                    np.asarray(scores).mean(): 0.9108290916847778\n"
     ]
    },
    {
     "name": "stdout",
     "output_type": "stream",
     "text": [
      "0:\tlearn: 0.2544610\ttest: 0.2544610\ttest1: 0.2541931\tbest: 0.2541931 (0)\ttotal: 449ms\tremaining: 1h 14m 47s\n",
      "500:\tlearn: 0.0644373\ttest: 0.0644373\ttest1: 0.0633387\tbest: 0.0633387 (500)\ttotal: 2m 21s\tremaining: 44m 44s\n",
      "1000:\tlearn: 0.0623102\ttest: 0.0623102\ttest1: 0.0623976\tbest: 0.0623976 (1000)\ttotal: 4m 40s\tremaining: 41m 58s\n",
      "1500:\tlearn: 0.0608762\ttest: 0.0608762\ttest1: 0.0620658\tbest: 0.0620658 (1500)\ttotal: 6m 57s\tremaining: 39m 22s\n",
      "2000:\tlearn: 0.0596316\ttest: 0.0596316\ttest1: 0.0619430\tbest: 0.0619416 (1983)\ttotal: 8m 45s\tremaining: 35m\n",
      "2500:\tlearn: 0.0587588\ttest: 0.0587588\ttest1: 0.0619083\tbest: 0.0619060 (2406)\ttotal: 10m 48s\tremaining: 32m 24s\n",
      "3000:\tlearn: 0.0579399\ttest: 0.0579399\ttest1: 0.0619186\tbest: 0.0619022 (2792)\ttotal: 12m 24s\tremaining: 28m 56s\n",
      "Stopped by overfitting detector  (500 iterations wait)\n",
      "\n",
      "bestTest = 0.06190221465\n",
      "bestIteration = 2792\n",
      "\n",
      "Shrink model to first 2793 iterations.\n"
     ]
    },
    {
     "name": "stderr",
     "output_type": "stream",
     "text": [
      "[07/19/22 18:50:27] 4047567722.py:19 in <module>\n",
      "                    abs(x['pred'] - dvalid['rel_rank']).mean(): 0.06394816897503573\n",
      "[07/19/22 18:50:30] 4047567722.py:21 in <module>\n",
      "                    fold: 3\n",
      "                    merge_score: 0.9112763861461699\n",
      "                    score: 0.9150087659340846\n",
      "                    score - merge_score: 0.0037323797879147413\n",
      "[07/19/22 18:50:30] 4047567722.py:24 in <module>\n",
      "                    fold: 3\n",
      "                    np.asarray(merge_scores).mean(): 0.9086368246765808\n",
      "                    np.asarray(scores).mean(): 0.9118740102471046\n"
     ]
    },
    {
     "name": "stdout",
     "output_type": "stream",
     "text": [
      "0:\tlearn: 0.2543890\ttest: 0.2543890\ttest1: 0.2544766\tbest: 0.2544766 (0)\ttotal: 317ms\tremaining: 52m 50s\n",
      "500:\tlearn: 0.0637848\ttest: 0.0637848\ttest1: 0.0661320\tbest: 0.0661320 (500)\ttotal: 1m 59s\tremaining: 37m 52s\n",
      "1000:\tlearn: 0.0615710\ttest: 0.0615710\ttest1: 0.0651551\tbest: 0.0651551 (1000)\ttotal: 3m 36s\tremaining: 32m 22s\n",
      "1500:\tlearn: 0.0603011\ttest: 0.0603011\ttest1: 0.0648632\tbest: 0.0648631 (1499)\ttotal: 4m 59s\tremaining: 28m 18s\n",
      "2000:\tlearn: 0.0592920\ttest: 0.0592920\ttest1: 0.0647596\tbest: 0.0647577 (1997)\ttotal: 6m 30s\tremaining: 26m 2s\n",
      "2500:\tlearn: 0.0584447\ttest: 0.0584447\ttest1: 0.0647457\tbest: 0.0647367 (2207)\ttotal: 8m 14s\tremaining: 24m 43s\n",
      "3000:\tlearn: 0.0576099\ttest: 0.0576099\ttest1: 0.0647292\tbest: 0.0647284 (2990)\ttotal: 9m 51s\tremaining: 22m 59s\n",
      "3500:\tlearn: 0.0569395\ttest: 0.0569395\ttest1: 0.0647520\tbest: 0.0647254 (3186)\ttotal: 11m 25s\tremaining: 21m 12s\n",
      "Stopped by overfitting detector  (500 iterations wait)\n",
      "\n",
      "bestTest = 0.06472541159\n",
      "bestIteration = 3186\n",
      "\n",
      "Shrink model to first 3187 iterations.\n"
     ]
    },
    {
     "name": "stderr",
     "output_type": "stream",
     "text": [
      "[07/19/22 19:02:47] 4047567722.py:19 in <module>\n",
      "                    abs(x['pred'] - dvalid['rel_rank']).mean(): 0.06635008126049546\n",
      "[07/19/22 19:02:49] 4047567722.py:21 in <module>\n",
      "                    fold: 4\n",
      "                    merge_score: 0.9030462406054968\n",
      "                    score: 0.9058557359507987\n",
      "                    score - merge_score: 0.002809495345301949\n",
      "[07/19/22 19:02:49] 4047567722.py:24 in <module>\n",
      "                    fold: 4\n",
      "                    np.asarray(merge_scores).mean(): 0.9075187078623641\n",
      "                    np.asarray(scores).mean(): 0.9106703553878435\n"
     ]
    }
   ],
   "source": [
    "merge_scores = []\n",
    "scores = []\n",
    "for fold in tqdm(range(FOLDS)):\n",
    "  dvalid = df[df.fold==fold]\n",
    "  dtrain = df[df.fold!=fold]\n",
    "  X_train = dtrain[cols]\n",
    "  y_train = dtrain[label_col]\n",
    "  X_valid = dvalid[cols]\n",
    "  y_valid = dvalid[label_col]\n",
    "  model = CatBoostRegressor(**xgb_params)\n",
    "  model.fit(X_train, y_train,\n",
    "        eval_set=[(X_train, y_train), (X_valid, y_valid)],\n",
    "                verbose=500,\n",
    "                )  \n",
    "  dvalid['cb_pred'] = model.predict(dvalid[cols])\n",
    "  x = {'id': dvalid.id.values, 'cell_id': dvalid.cell_id.values}\n",
    "  x['pred'] = [merge(x, y, prob) for x, y, prob in zip(dvalid.pred_p.values, dvalid.pred_c.values, dvalid.max_prob.values)]\n",
    "  merge_score = calc_metric(x, 'pred', df_gt)\n",
    "  ic(abs(x['pred'] - dvalid['rel_rank']).mean())\n",
    "  score = calc_metric({'id': dvalid.id.values, 'cell_id': dvalid.cell_id.values, 'pred': dvalid.cb_pred.values})\n",
    "  ic(fold, merge_score, score, score - merge_score)\n",
    "  merge_scores.append(merge_score)\n",
    "  scores.append(score)\n",
    "  ic(fold, np.asarray(merge_scores).mean(), np.asarray(scores).mean())\n",
    "  model.save_model(f'../working/cbt/{fold}.cbt')"
   ]
  },
  {
   "cell_type": "code",
   "execution_count": 32,
   "metadata": {},
   "outputs": [
    {
     "ename": "UnboundLocalError",
     "evalue": "local variable 'feat_importances' referenced before assignment",
     "output_type": "error",
     "traceback": [
      "\u001b[0;31m---------------------------------------------------------------------------\u001b[0m",
      "\u001b[0;31mUnboundLocalError\u001b[0m                         Traceback (most recent call last)",
      "\u001b[0;32m/tmp/ipykernel_46870/495679720.py\u001b[0m in \u001b[0;36m<module>\u001b[0;34m\u001b[0m\n\u001b[0;32m----> 1\u001b[0;31m \u001b[0mgezi\u001b[0m\u001b[0;34m.\u001b[0m\u001b[0mplot\u001b[0m\u001b[0;34m.\u001b[0m\u001b[0mfeature_importance\u001b[0m\u001b[0;34m(\u001b[0m\u001b[0mmodel\u001b[0m\u001b[0;34m,\u001b[0m \u001b[0mtopn\u001b[0m\u001b[0;34m=\u001b[0m\u001b[0;36m20\u001b[0m\u001b[0;34m)\u001b[0m\u001b[0;34m\u001b[0m\u001b[0;34m\u001b[0m\u001b[0m\n\u001b[0m",
      "\u001b[0;32m/work/pikachu/utils/gezi/plot.py\u001b[0m in \u001b[0;36mfeature_importance\u001b[0;34m(model, topn)\u001b[0m\n\u001b[1;32m    823\u001b[0m   \u001b[0;32melif\u001b[0m \u001b[0mmodel_type\u001b[0m\u001b[0;34m.\u001b[0m\u001b[0mstartswith\u001b[0m\u001b[0;34m(\u001b[0m\u001b[0;34m'lightgbm'\u001b[0m\u001b[0;34m)\u001b[0m\u001b[0;34m:\u001b[0m\u001b[0;34m\u001b[0m\u001b[0;34m\u001b[0m\u001b[0m\n\u001b[1;32m    824\u001b[0m     \u001b[0mfeat_importances\u001b[0m \u001b[0;34m=\u001b[0m \u001b[0mnp\u001b[0m\u001b[0;34m.\u001b[0m\u001b[0masarray\u001b[0m\u001b[0;34m(\u001b[0m\u001b[0mmodel\u001b[0m\u001b[0;34m.\u001b[0m\u001b[0mfeature_importance\u001b[0m\u001b[0;34m(\u001b[0m\u001b[0;34m)\u001b[0m\u001b[0;34m)\u001b[0m\u001b[0;34m\u001b[0m\u001b[0;34m\u001b[0m\u001b[0m\n\u001b[0;32m--> 825\u001b[0;31m   \u001b[0msorted_idxes\u001b[0m \u001b[0;34m=\u001b[0m \u001b[0mnp\u001b[0m\u001b[0;34m.\u001b[0m\u001b[0margsort\u001b[0m\u001b[0;34m(\u001b[0m\u001b[0mfeat_importances\u001b[0m\u001b[0;34m)\u001b[0m\u001b[0;34m\u001b[0m\u001b[0;34m\u001b[0m\u001b[0m\n\u001b[0m\u001b[1;32m    826\u001b[0m   \u001b[0;32mif\u001b[0m \u001b[0mtopn\u001b[0m \u001b[0;34m>\u001b[0m \u001b[0;36m0\u001b[0m\u001b[0;34m:\u001b[0m\u001b[0;34m\u001b[0m\u001b[0;34m\u001b[0m\u001b[0m\n\u001b[1;32m    827\u001b[0m     \u001b[0msorted_idxes\u001b[0m \u001b[0;34m=\u001b[0m \u001b[0msorted_idxes\u001b[0m\u001b[0;34m[\u001b[0m\u001b[0;34m-\u001b[0m\u001b[0mtopn\u001b[0m\u001b[0;34m:\u001b[0m\u001b[0;34m]\u001b[0m\u001b[0;34m\u001b[0m\u001b[0;34m\u001b[0m\u001b[0m\n",
      "\u001b[0;31mUnboundLocalError\u001b[0m: local variable 'feat_importances' referenced before assignment"
     ]
    }
   ],
   "source": [
    "gezi.plot.feature_importance(model, topn=20)"
   ]
  },
  {
   "cell_type": "code",
   "execution_count": null,
   "metadata": {},
   "outputs": [],
   "source": []
  }
 ],
 "metadata": {
  "interpreter": {
   "hash": "1925003cfa3979ae366740114cfe890bf8d7ad5b88e4afe0ec571fe261ed45e3"
  },
  "kernelspec": {
   "display_name": "Python 3.7.9",
   "language": "python",
   "name": "python3"
  },
  "language_info": {
   "codemirror_mode": {
    "name": "ipython",
    "version": 3
   },
   "file_extension": ".py",
   "mimetype": "text/x-python",
   "name": "python",
   "nbconvert_exporter": "python",
   "pygments_lexer": "ipython3",
   "version": "3.7.9"
  },
  "orig_nbformat": 4
 },
 "nbformat": 4,
 "nbformat_minor": 2
}
