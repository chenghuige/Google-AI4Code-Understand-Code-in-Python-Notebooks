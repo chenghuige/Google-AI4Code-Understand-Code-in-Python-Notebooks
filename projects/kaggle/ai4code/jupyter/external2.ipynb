{
 "cells": [
  {
   "cell_type": "code",
   "execution_count": 1,
   "metadata": {},
   "outputs": [],
   "source": [
    "import sys\n",
    "sys.path.append('..')\n",
    "sys.path.append('../../../../utils')\n",
    "sys.path.append('../../../../third')\n",
    "from gezi.common import *\n",
    "from src.config import *\n",
    "from src.preprocess import *\n",
    "from src.eval import *\n",
    "gezi.init_flags()\n",
    "gezi.set_pandas()"
   ]
  },
  {
   "cell_type": "code",
   "execution_count": 2,
   "metadata": {},
   "outputs": [],
   "source": [
    "root = FLAGS.root"
   ]
  },
  {
   "cell_type": "code",
   "execution_count": 51,
   "metadata": {},
   "outputs": [
    {
     "data": {
      "text/plain": [
       "2437885"
      ]
     },
     "execution_count": 51,
     "metadata": {},
     "output_type": "execute_result"
    }
   ],
   "source": [
    "files = glob.glob(f'{root}/dfs/*.csv')\n",
    "len(files)"
   ]
  },
  {
   "cell_type": "code",
   "execution_count": 52,
   "metadata": {},
   "outputs": [],
   "source": [
    "def deal(file):\n",
    "  try:\n",
    "    df = pd.read_csv(file)\n",
    "    return df\n",
    "  except Exception:\n",
    "    ic(file)\n",
    "    gezi.try_remove(file)\n",
    "    return None"
   ]
  },
  {
   "cell_type": "code",
   "execution_count": 53,
   "metadata": {},
   "outputs": [
    {
     "data": {
      "application/vnd.jupyter.widget-view+json": {
       "model_id": "58e909d1513143678c429a2f928c0229",
       "version_major": 2,
       "version_minor": 0
      },
      "text/plain": [
       "run:   0%|          | 0/60948 [00:00<?, ?it/s]"
      ]
     },
     "metadata": {},
     "output_type": "display_data"
    }
   ],
   "source": [
    "dfs = gezi.prun_list(deal, files, 40)"
   ]
  },
  {
   "cell_type": "code",
   "execution_count": 33,
   "metadata": {},
   "outputs": [],
   "source": [
    "dfs = [x for x in dfs if x is not None]"
   ]
  },
  {
   "cell_type": "code",
   "execution_count": 34,
   "metadata": {},
   "outputs": [
    {
     "data": {
      "text/html": [
       "<div>\n",
       "<style scoped>\n",
       "    .dataframe tbody tr th:only-of-type {\n",
       "        vertical-align: middle;\n",
       "    }\n",
       "\n",
       "    .dataframe tbody tr th {\n",
       "        vertical-align: top;\n",
       "    }\n",
       "\n",
       "    .dataframe thead th {\n",
       "        text-align: right;\n",
       "    }\n",
       "</style>\n",
       "<table border=\"1\" class=\"dataframe\">\n",
       "  <thead>\n",
       "    <tr style=\"text-align: right;\">\n",
       "      <th></th>\n",
       "      <th>id</th>\n",
       "      <th>cell_id</th>\n",
       "      <th>cid</th>\n",
       "      <th>cell_type</th>\n",
       "      <th>source</th>\n",
       "    </tr>\n",
       "  </thead>\n",
       "  <tbody>\n",
       "    <tr>\n",
       "      <th>0</th>\n",
       "      <td>45964a5f1b90b5bf815355932ff2d3fac1e995a2</td>\n",
       "      <td>0</td>\n",
       "      <td>45964a5f1b90b5bf815355932ff2d3fac1e995a2\\t0</td>\n",
       "      <td>markdown</td>\n",
       "      <td>## Neural style transfer</td>\n",
       "    </tr>\n",
       "    <tr>\n",
       "      <th>1</th>\n",
       "      <td>45964a5f1b90b5bf815355932ff2d3fac1e995a2</td>\n",
       "      <td>1</td>\n",
       "      <td>45964a5f1b90b5bf815355932ff2d3fac1e995a2\\t1</td>\n",
       "      <td>markdown</td>\n",
       "      <td>Style transfer/ super resolution implementation in pytorch.</td>\n",
       "    </tr>\n",
       "    <tr>\n",
       "      <th>2</th>\n",
       "      <td>45964a5f1b90b5bf815355932ff2d3fac1e995a2</td>\n",
       "      <td>2</td>\n",
       "      <td>45964a5f1b90b5bf815355932ff2d3fac1e995a2\\t2</td>\n",
       "      <td>code</td>\n",
       "      <td>%matplotlib inline\\nimport importlib\\nimport utils2; importlib.reload(utils2)\\nfrom utils2 import *\\nfrom vgg16_avg import VGG16_Avg\\nfrom keras import metrics\\nfrom scipy.optimize import fmin_l_bfgs_b\\nfrom scipy.misc import imsave</td>\n",
       "    </tr>\n",
       "    <tr>\n",
       "      <th>3</th>\n",
       "      <td>45964a5f1b90b5bf815355932ff2d3fac1e995a2</td>\n",
       "      <td>3</td>\n",
       "      <td>45964a5f1b90b5bf815355932ff2d3fac1e995a2\\t3</td>\n",
       "      <td>code</td>\n",
       "      <td>import torch, torch.nn as nn, torch.nn.functional as F, torch.optim as optim\\nfrom torch.autograd import Variable\\nfrom torch.utils.serialization import load_lua\\nfrom torch.utils.data import DataLoader\\nfrom torchvision import transforms, models, datasets</td>\n",
       "    </tr>\n",
       "    <tr>\n",
       "      <th>4</th>\n",
       "      <td>45964a5f1b90b5bf815355932ff2d3fac1e995a2</td>\n",
       "      <td>4</td>\n",
       "      <td>45964a5f1b90b5bf815355932ff2d3fac1e995a2\\t4</td>\n",
       "      <td>markdown</td>\n",
       "      <td>### Setup</td>\n",
       "    </tr>\n",
       "    <tr>\n",
       "      <th>...</th>\n",
       "      <td>...</td>\n",
       "      <td>...</td>\n",
       "      <td>...</td>\n",
       "      <td>...</td>\n",
       "      <td>...</td>\n",
       "    </tr>\n",
       "    <tr>\n",
       "      <th>58</th>\n",
       "      <td>49bef5c570f631efd310a27573813055dec59492</td>\n",
       "      <td>58</td>\n",
       "      <td>49bef5c570f631efd310a27573813055dec59492\\t58</td>\n",
       "      <td>code</td>\n",
       "      <td>mergedFinal = pd.merge(merged1, merged2, on = 'month')\\nmergedFinal.describe()</td>\n",
       "    </tr>\n",
       "    <tr>\n",
       "      <th>59</th>\n",
       "      <td>49bef5c570f631efd310a27573813055dec59492</td>\n",
       "      <td>59</td>\n",
       "      <td>49bef5c570f631efd310a27573813055dec59492\\t59</td>\n",
       "      <td>markdown</td>\n",
       "      <td>Error: The stepcount of June to Aug 2019 seems too high. Seems that apple watch and iphone data both are combined which is throwing this error. Previously, iphone data has been isolated carefully.</td>\n",
       "    </tr>\n",
       "    <tr>\n",
       "      <th>60</th>\n",
       "      <td>49bef5c570f631efd310a27573813055dec59492</td>\n",
       "      <td>60</td>\n",
       "      <td>49bef5c570f631efd310a27573813055dec59492\\t60</td>\n",
       "      <td>code</td>\n",
       "      <td>source=mergedFinal\\nalt.Chart(source).mark_bar().encode(\\n    x='month:O',\\n    y= alt.Y('StepCount:Q', stack=None),\\n   color='MenstrualFlow'\\n)</td>\n",
       "    </tr>\n",
       "    <tr>\n",
       "      <th>61</th>\n",
       "      <td>49bef5c570f631efd310a27573813055dec59492</td>\n",
       "      <td>61</td>\n",
       "      <td>49bef5c570f631efd310a27573813055dec59492\\t61</td>\n",
       "      <td>markdown</td>\n",
       "      <td>Interactive Crossfilter that did not work</td>\n",
       "    </tr>\n",
       "    <tr>\n",
       "      <th>62</th>\n",
       "      <td>49bef5c570f631efd310a27573813055dec59492</td>\n",
       "      <td>62</td>\n",
       "      <td>49bef5c570f631efd310a27573813055dec59492\\t62</td>\n",
       "      <td>code</td>\n",
       "      <td># Brush for selection\\nbrush = alt.selection(type='interval')\\nsource=mergedFinal\\n\\n# Scatter Plot\\npoints = alt.Chart(source).mark_point().encode(\\n    x= alt.X('month', type='quantitative'),\\n    y= alt.Y('StepCount', type='quantitative'),\\n    color=alt.condition(brush, 'Cylinders:O', alt.value('grey'))\\n).add_selection(brush)\\n\\n# Base chart for data tables\\nranked_text = alt.Chart(source).mark_text().encode(\\n    y=alt.Y('row_number:O',axis=None)\\n).transform_window(\\n    row_number='r...</td>\n",
       "    </tr>\n",
       "  </tbody>\n",
       "</table>\n",
       "<p>714860 rows × 5 columns</p>\n",
       "</div>"
      ],
      "text/plain": [
       "                                          id  cell_id  \\\n",
       "0   45964a5f1b90b5bf815355932ff2d3fac1e995a2        0   \n",
       "1   45964a5f1b90b5bf815355932ff2d3fac1e995a2        1   \n",
       "2   45964a5f1b90b5bf815355932ff2d3fac1e995a2        2   \n",
       "3   45964a5f1b90b5bf815355932ff2d3fac1e995a2        3   \n",
       "4   45964a5f1b90b5bf815355932ff2d3fac1e995a2        4   \n",
       "..                                       ...      ...   \n",
       "58  49bef5c570f631efd310a27573813055dec59492       58   \n",
       "59  49bef5c570f631efd310a27573813055dec59492       59   \n",
       "60  49bef5c570f631efd310a27573813055dec59492       60   \n",
       "61  49bef5c570f631efd310a27573813055dec59492       61   \n",
       "62  49bef5c570f631efd310a27573813055dec59492       62   \n",
       "\n",
       "                                             cid cell_type  \\\n",
       "0    45964a5f1b90b5bf815355932ff2d3fac1e995a2\\t0  markdown   \n",
       "1    45964a5f1b90b5bf815355932ff2d3fac1e995a2\\t1  markdown   \n",
       "2    45964a5f1b90b5bf815355932ff2d3fac1e995a2\\t2      code   \n",
       "3    45964a5f1b90b5bf815355932ff2d3fac1e995a2\\t3      code   \n",
       "4    45964a5f1b90b5bf815355932ff2d3fac1e995a2\\t4  markdown   \n",
       "..                                           ...       ...   \n",
       "58  49bef5c570f631efd310a27573813055dec59492\\t58      code   \n",
       "59  49bef5c570f631efd310a27573813055dec59492\\t59  markdown   \n",
       "60  49bef5c570f631efd310a27573813055dec59492\\t60      code   \n",
       "61  49bef5c570f631efd310a27573813055dec59492\\t61  markdown   \n",
       "62  49bef5c570f631efd310a27573813055dec59492\\t62      code   \n",
       "\n",
       "                                                                                                                                                                                                                                                                                                                                                                                                                                                                                                                 source  \n",
       "0                                                                                                                                                                                                                                                                                                                                                                                                                                                                                              ## Neural style transfer  \n",
       "1                                                                                                                                                                                                                                                                                                                                                                                                                                                           Style transfer/ super resolution implementation in pytorch.  \n",
       "2                                                                                                                                                                                                                                                                              %matplotlib inline\\nimport importlib\\nimport utils2; importlib.reload(utils2)\\nfrom utils2 import *\\nfrom vgg16_avg import VGG16_Avg\\nfrom keras import metrics\\nfrom scipy.optimize import fmin_l_bfgs_b\\nfrom scipy.misc import imsave  \n",
       "3                                                                                                                                                                                                                                                      import torch, torch.nn as nn, torch.nn.functional as F, torch.optim as optim\\nfrom torch.autograd import Variable\\nfrom torch.utils.serialization import load_lua\\nfrom torch.utils.data import DataLoader\\nfrom torchvision import transforms, models, datasets  \n",
       "4                                                                                                                                                                                                                                                                                                                                                                                                                                                                                                             ### Setup  \n",
       "..                                                                                                                                                                                                                                                                                                                                                                                                                                                                                                                  ...  \n",
       "58                                                                                                                                                                                                                                                                                                                                                                                                                                       mergedFinal = pd.merge(merged1, merged2, on = 'month')\\nmergedFinal.describe()  \n",
       "59                                                                                                                                                                                                                                                                                                                Error: The stepcount of June to Aug 2019 seems too high. Seems that apple watch and iphone data both are combined which is throwing this error. Previously, iphone data has been isolated carefully.   \n",
       "60                                                                                                                                                                                                                                                                                                                                                                    source=mergedFinal\\nalt.Chart(source).mark_bar().encode(\\n    x='month:O',\\n    y= alt.Y('StepCount:Q', stack=None),\\n   color='MenstrualFlow'\\n)  \n",
       "61                                                                                                                                                                                                                                                                                                                                                                                                                                                                           Interactive Crossfilter that did not work   \n",
       "62  # Brush for selection\\nbrush = alt.selection(type='interval')\\nsource=mergedFinal\\n\\n# Scatter Plot\\npoints = alt.Chart(source).mark_point().encode(\\n    x= alt.X('month', type='quantitative'),\\n    y= alt.Y('StepCount', type='quantitative'),\\n    color=alt.condition(brush, 'Cylinders:O', alt.value('grey'))\\n).add_selection(brush)\\n\\n# Base chart for data tables\\nranked_text = alt.Chart(source).mark_text().encode(\\n    y=alt.Y('row_number:O',axis=None)\\n).transform_window(\\n    row_number='r...  \n",
       "\n",
       "[714860 rows x 5 columns]"
      ]
     },
     "execution_count": 34,
     "metadata": {},
     "output_type": "execute_result"
    }
   ],
   "source": [
    "df = pd.concat(dfs)\n",
    "df"
   ]
  },
  {
   "cell_type": "code",
   "execution_count": 40,
   "metadata": {},
   "outputs": [],
   "source": [
    "df['source'] = df.source.astype(str)"
   ]
  },
  {
   "cell_type": "code",
   "execution_count": 35,
   "metadata": {},
   "outputs": [
    {
     "data": {
      "text/plain": [
       "19562"
      ]
     },
     "execution_count": 35,
     "metadata": {},
     "output_type": "execute_result"
    }
   ],
   "source": [
    "len(df.id.unique())"
   ]
  },
  {
   "cell_type": "code",
   "execution_count": 36,
   "metadata": {},
   "outputs": [],
   "source": [
    "d = pd.read_feather(f'{root}/train.fea')"
   ]
  },
  {
   "cell_type": "code",
   "execution_count": 37,
   "metadata": {},
   "outputs": [
    {
     "data": {
      "text/html": [
       "<div>\n",
       "<style scoped>\n",
       "    .dataframe tbody tr th:only-of-type {\n",
       "        vertical-align: middle;\n",
       "    }\n",
       "\n",
       "    .dataframe tbody tr th {\n",
       "        vertical-align: top;\n",
       "    }\n",
       "\n",
       "    .dataframe thead th {\n",
       "        text-align: right;\n",
       "    }\n",
       "</style>\n",
       "<table border=\"1\" class=\"dataframe\">\n",
       "  <thead>\n",
       "    <tr style=\"text-align: right;\">\n",
       "      <th></th>\n",
       "      <th>level_0</th>\n",
       "      <th>index</th>\n",
       "      <th>cell_id</th>\n",
       "      <th>cell_type</th>\n",
       "      <th>source</th>\n",
       "      <th>id</th>\n",
       "      <th>ancestor_id</th>\n",
       "      <th>parent_id</th>\n",
       "      <th>n_cell</th>\n",
       "      <th>n_code_cell</th>\n",
       "      <th>n_markdown_cell</th>\n",
       "      <th>markdown_frac</th>\n",
       "      <th>rank</th>\n",
       "      <th>code_rank</th>\n",
       "      <th>markdown_rank</th>\n",
       "      <th>rel_rank</th>\n",
       "      <th>pct_rank</th>\n",
       "      <th>fold</th>\n",
       "      <th>worker</th>\n",
       "    </tr>\n",
       "  </thead>\n",
       "  <tbody>\n",
       "  </tbody>\n",
       "</table>\n",
       "</div>"
      ],
      "text/plain": [
       "Empty DataFrame\n",
       "Columns: [level_0, index, cell_id, cell_type, source, id, ancestor_id, parent_id, n_cell, n_code_cell, n_markdown_cell, markdown_frac, rank, code_rank, markdown_rank, rel_rank, pct_rank, fold, worker]\n",
       "Index: []"
      ]
     },
     "execution_count": 37,
     "metadata": {},
     "output_type": "execute_result"
    }
   ],
   "source": [
    "d[d.source.str.contains('The stepcount of June to Aug 2019 seems too high. Seems that apple watch and iphone data both are combined')]"
   ]
  },
  {
   "cell_type": "code",
   "execution_count": 38,
   "metadata": {},
   "outputs": [
    {
     "data": {
      "text/plain": [
       "level_0                                                           3119\n",
       "index                                                          2324342\n",
       "cell_id                                                       4244f2b8\n",
       "cell_type                                                     markdown\n",
       "source             **Importing all libraries required for Anova test**\n",
       "id                                                      001ac464b8662b\n",
       "ancestor_id                                                   eb7dd5fc\n",
       "parent_id                                                         None\n",
       "n_cell                                                              52\n",
       "n_code_cell                                                         34\n",
       "n_markdown_cell                                                     18\n",
       "markdown_frac                                                   0.3462\n",
       "rank                                                                 1\n",
       "code_rank                                                           -1\n",
       "markdown_rank                                                        0\n",
       "rel_rank                                                        0.0429\n",
       "pct_rank                                                        0.0196\n",
       "fold                                                                 1\n",
       "worker                                                              26\n",
       "Name: 3119, dtype: object"
      ]
     },
     "execution_count": 38,
     "metadata": {},
     "output_type": "execute_result"
    }
   ],
   "source": [
    "d[d.cell_type=='markdown'].iloc[1024]"
   ]
  },
  {
   "cell_type": "code",
   "execution_count": 41,
   "metadata": {},
   "outputs": [
    {
     "data": {
      "text/html": [
       "<div>\n",
       "<style scoped>\n",
       "    .dataframe tbody tr th:only-of-type {\n",
       "        vertical-align: middle;\n",
       "    }\n",
       "\n",
       "    .dataframe tbody tr th {\n",
       "        vertical-align: top;\n",
       "    }\n",
       "\n",
       "    .dataframe thead th {\n",
       "        text-align: right;\n",
       "    }\n",
       "</style>\n",
       "<table border=\"1\" class=\"dataframe\">\n",
       "  <thead>\n",
       "    <tr style=\"text-align: right;\">\n",
       "      <th></th>\n",
       "      <th>id</th>\n",
       "      <th>cell_id</th>\n",
       "      <th>cid</th>\n",
       "      <th>cell_type</th>\n",
       "      <th>source</th>\n",
       "    </tr>\n",
       "  </thead>\n",
       "  <tbody>\n",
       "  </tbody>\n",
       "</table>\n",
       "</div>"
      ],
      "text/plain": [
       "Empty DataFrame\n",
       "Columns: [id, cell_id, cid, cell_type, source]\n",
       "Index: []"
      ]
     },
     "execution_count": 41,
     "metadata": {},
     "output_type": "execute_result"
    }
   ],
   "source": [
    "df[df.source.str.contains('Importing all libraries required for Anova test')]"
   ]
  },
  {
   "cell_type": "code",
   "execution_count": null,
   "metadata": {},
   "outputs": [],
   "source": [
    "gezi.set_fold(df)"
   ]
  }
 ],
 "metadata": {
  "kernelspec": {
   "display_name": "Python 3.7.9",
   "language": "python",
   "name": "python3"
  },
  "language_info": {
   "codemirror_mode": {
    "name": "ipython",
    "version": 3
   },
   "file_extension": ".py",
   "mimetype": "text/x-python",
   "name": "python",
   "nbconvert_exporter": "python",
   "pygments_lexer": "ipython3",
   "version": "3.7.9"
  },
  "orig_nbformat": 4,
  "vscode": {
   "interpreter": {
    "hash": "1925003cfa3979ae366740114cfe890bf8d7ad5b88e4afe0ec571fe261ed45e3"
   }
  }
 },
 "nbformat": 4,
 "nbformat_minor": 2
}
