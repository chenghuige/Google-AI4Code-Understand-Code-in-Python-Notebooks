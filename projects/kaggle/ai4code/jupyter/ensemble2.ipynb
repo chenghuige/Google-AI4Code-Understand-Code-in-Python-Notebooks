{
 "cells": [
  {
   "cell_type": "code",
   "execution_count": 1,
   "metadata": {},
   "outputs": [],
   "source": [
    "from gezi.common import *\n",
    "sys.path.append('..')\n",
    "from src.config import *\n",
    "from src.preprocess import *\n",
    "from src.eval import *\n",
    "gezi.init_flags()"
   ]
  },
  {
   "cell_type": "code",
   "execution_count": 2,
   "metadata": {},
   "outputs": [],
   "source": [
    "root = '../working/offline/6/0'\n",
    "# context_model_name = 'deberta-v3-small.flag-context2-aug.n_context-40.cls_loss_rate-0.1.eval.p9'\n",
    "# pairwise_model_name = 'deberta-v3-small.flag-pairwise9'\n",
    "context_model_name = 'deberta-v3-small.flag-context2-aug.n_context-40.cls_loss_rate-0.1.eval.mpnet13-2'\n",
    "pairwise_model_name = 'all-mpnet-base-v2.flag-pairwise13-2'"
   ]
  },
  {
   "cell_type": "code",
   "execution_count": 3,
   "metadata": {},
   "outputs": [],
   "source": [
    "xc = gezi.load(f'{root}/{context_model_name}/valid.pkl')"
   ]
  },
  {
   "cell_type": "code",
   "execution_count": 4,
   "metadata": {},
   "outputs": [],
   "source": [
    "xp = gezi.load(f'{root}/{pairwise_model_name}/valid.pkl')"
   ]
  },
  {
   "cell_type": "code",
   "execution_count": 5,
   "metadata": {},
   "outputs": [],
   "source": [
    "gezi.sort_dict_byid_(xc, 'cid')\n",
    "gezi.sort_dict_byid_(xp, 'cid')"
   ]
  },
  {
   "cell_type": "code",
   "execution_count": 6,
   "metadata": {},
   "outputs": [],
   "source": [
    "ids = set(xc['id'])"
   ]
  },
  {
   "cell_type": "code",
   "execution_count": 7,
   "metadata": {},
   "outputs": [
    {
     "data": {
      "text/html": [
       "<div>\n",
       "<style scoped>\n",
       "    .dataframe tbody tr th:only-of-type {\n",
       "        vertical-align: middle;\n",
       "    }\n",
       "\n",
       "    .dataframe tbody tr th {\n",
       "        vertical-align: top;\n",
       "    }\n",
       "\n",
       "    .dataframe thead th {\n",
       "        text-align: right;\n",
       "    }\n",
       "</style>\n",
       "<table border=\"1\" class=\"dataframe\">\n",
       "  <thead>\n",
       "    <tr style=\"text-align: right;\">\n",
       "      <th></th>\n",
       "      <th>id</th>\n",
       "      <th>cell_order</th>\n",
       "    </tr>\n",
       "  </thead>\n",
       "  <tbody>\n",
       "    <tr>\n",
       "      <th>4</th>\n",
       "      <td>0002115f48f982</td>\n",
       "      <td>[9ec225f0, 18281c6c, e3b6b115, 4a044c54, 365fe...</td>\n",
       "    </tr>\n",
       "    <tr>\n",
       "      <th>11</th>\n",
       "      <td>00062ab8487156</td>\n",
       "      <td>[dcad687f, a2e1fc80, 7d977ee8, 45a82a59, cbbc3...</td>\n",
       "    </tr>\n",
       "    <tr>\n",
       "      <th>28</th>\n",
       "      <td>000efd285fb982</td>\n",
       "      <td>[74a30f80, ee2c8e08, 5523374e, ae8f8fe8, 2138e...</td>\n",
       "    </tr>\n",
       "    <tr>\n",
       "      <th>39</th>\n",
       "      <td>0012865b766949</td>\n",
       "      <td>[f9cb50e9, 25f7db90, d804e819, 6593a545, fc5bb...</td>\n",
       "    </tr>\n",
       "    <tr>\n",
       "      <th>42</th>\n",
       "      <td>001308991e0c5e</td>\n",
       "      <td>[21147235, 6c01d0d2, 5bd28595, b8fd3a8c, a2501...</td>\n",
       "    </tr>\n",
       "  </tbody>\n",
       "</table>\n",
       "</div>"
      ],
      "text/plain": [
       "                id                                         cell_order\n",
       "4   0002115f48f982  [9ec225f0, 18281c6c, e3b6b115, 4a044c54, 365fe...\n",
       "11  00062ab8487156  [dcad687f, a2e1fc80, 7d977ee8, 45a82a59, cbbc3...\n",
       "28  000efd285fb982  [74a30f80, ee2c8e08, 5523374e, ae8f8fe8, 2138e...\n",
       "39  0012865b766949  [f9cb50e9, 25f7db90, d804e819, 6593a545, fc5bb...\n",
       "42  001308991e0c5e  [21147235, 6c01d0d2, 5bd28595, b8fd3a8c, a2501..."
      ]
     },
     "execution_count": 7,
     "metadata": {},
     "output_type": "execute_result"
    }
   ],
   "source": [
    "df_gt = pd.read_csv(f'{FLAGS.root}/train_orders.csv')\n",
    "df_gt = df_gt[df_gt.id.isin(ids)]\n",
    "df_gt['cell_order'] = df_gt['cell_order'].apply(lambda x: x.split())\n",
    "df_gt.head()"
   ]
  },
  {
   "cell_type": "code",
   "execution_count": 8,
   "metadata": {},
   "outputs": [
    {
     "data": {
      "text/plain": [
       "0.9008516068000336"
      ]
     },
     "execution_count": 8,
     "metadata": {},
     "output_type": "execute_result"
    }
   ],
   "source": [
    "calc_metric(xc, 'reg_pred')"
   ]
  },
  {
   "cell_type": "code",
   "execution_count": 9,
   "metadata": {},
   "outputs": [
    {
     "data": {
      "text/plain": [
       "0.8995007840615565"
      ]
     },
     "execution_count": 9,
     "metadata": {},
     "output_type": "execute_result"
    }
   ],
   "source": [
    "calc_metric(xc, 'pred')"
   ]
  },
  {
   "cell_type": "code",
   "execution_count": 10,
   "metadata": {},
   "outputs": [
    {
     "data": {
      "text/plain": [
       "0.8963390358922603"
      ]
     },
     "execution_count": 10,
     "metadata": {},
     "output_type": "execute_result"
    }
   ],
   "source": [
    "calc_metric(xc, 'cls_pred')"
   ]
  },
  {
   "cell_type": "code",
   "execution_count": 11,
   "metadata": {},
   "outputs": [
    {
     "data": {
      "text/plain": [
       "0.8918236725011705"
      ]
     },
     "execution_count": 11,
     "metadata": {},
     "output_type": "execute_result"
    }
   ],
   "source": [
    "calc_metric(xp, 'cls_pred')"
   ]
  },
  {
   "cell_type": "code",
   "execution_count": 12,
   "metadata": {},
   "outputs": [
    {
     "data": {
      "text/plain": [
       "0.9025047569234644"
      ]
     },
     "execution_count": 12,
     "metadata": {},
     "output_type": "execute_result"
    }
   ],
   "source": [
    "x = xc.copy()\n",
    "x['pred'] = xc['reg_pred'] * 0.5 + xp['cls_pred'] * 0.5\n",
    "calc_metric(x)"
   ]
  },
  {
   "cell_type": "code",
   "execution_count": 28,
   "metadata": {},
   "outputs": [
    {
     "data": {
      "text/plain": [
       "0.8998311184115386"
      ]
     },
     "execution_count": 28,
     "metadata": {},
     "output_type": "execute_result"
    }
   ],
   "source": [
    "x = xc.copy()\n",
    "x['pred'] = xc['cls_pred'] * 0.5 + xp['cls_pred'] * 0.5\n",
    "calc_metric(x)"
   ]
  },
  {
   "cell_type": "code",
   "execution_count": 29,
   "metadata": {},
   "outputs": [
    {
     "data": {
      "text/plain": [
       "0.9014206984735855"
      ]
     },
     "execution_count": 29,
     "metadata": {},
     "output_type": "execute_result"
    }
   ],
   "source": [
    "x = xc.copy()\n",
    "x['pred'] = xc['reg_pred'] * 0.5 + xp['pred'] * 0.5\n",
    "calc_metric(x)"
   ]
  },
  {
   "cell_type": "code",
   "execution_count": 13,
   "metadata": {},
   "outputs": [],
   "source": [
    "def merge(x, y, prob):\n",
    "  # return y\n",
    "  # return x\n",
    "  if prob > 0.9:\n",
    "    return x * (1 - 0.0001) + y * 0.0001\n",
    "  elif abs(y - x) < 0.1:\n",
    "    return x * (1 - 0.0001) + y * 0.0001\n",
    "  elif abs(y - x) < 0.2:\n",
    "    return x * 0.95 * prob + y * (1 - 0.95 * prob)\n",
    "  elif abs(y - x) < 0.3:\n",
    "    return x * 0.85 * prob + y * (1 - 0.85 * prob)\n",
    "  elif abs(y - x) < 0.4:\n",
    "    return x * 0.5 * prob + y * (1 - 0.5 * prob)\n",
    "  else:\n",
    "    return y"
   ]
  },
  {
   "cell_type": "code",
   "execution_count": 14,
   "metadata": {},
   "outputs": [
    {
     "data": {
      "text/plain": [
       "0.9073869212113768"
      ]
     },
     "execution_count": 14,
     "metadata": {},
     "output_type": "execute_result"
    }
   ],
   "source": [
    "x['pred'] = [merge(x, y, prob) for x, y, prob in zip(xp['pred'], xc['pred'], xp['max_prob'])]\n",
    "calc_metric(x)"
   ]
  },
  {
   "cell_type": "code",
   "execution_count": 15,
   "metadata": {},
   "outputs": [
    {
     "data": {
      "text/plain": [
       "0.9070471416972357"
      ]
     },
     "execution_count": 15,
     "metadata": {},
     "output_type": "execute_result"
    }
   ],
   "source": [
    "x['pred'] = [merge(x, y, prob) for x, y, prob in zip(xp['pred'], xc['reg_pred'], xp['max_prob'])]\n",
    "calc_metric(x)"
   ]
  },
  {
   "cell_type": "code",
   "execution_count": 16,
   "metadata": {},
   "outputs": [
    {
     "data": {
      "text/plain": [
       "0.9068742541271928"
      ]
     },
     "execution_count": 16,
     "metadata": {},
     "output_type": "execute_result"
    }
   ],
   "source": [
    "x['pred'] = [merge(x, y, prob) for x, y, prob in zip(xp['pred'], xc['cls_pred'], xp['max_prob'])]\n",
    "calc_metric(x)"
   ]
  },
  {
   "cell_type": "code",
   "execution_count": 17,
   "metadata": {},
   "outputs": [
    {
     "data": {
      "text/plain": [
       "0.9007170337437319"
      ]
     },
     "execution_count": 17,
     "metadata": {},
     "output_type": "execute_result"
    }
   ],
   "source": [
    "x['pred'] = [merge(x, y, prob) for x, y, prob in zip(xp['cls_pred'], xc['cls_pred'], xp['max_prob'])]\n",
    "calc_metric(x)"
   ]
  },
  {
   "cell_type": "code",
   "execution_count": 18,
   "metadata": {},
   "outputs": [
    {
     "data": {
      "text/plain": [
       "0.9012548742436964"
      ]
     },
     "execution_count": 18,
     "metadata": {},
     "output_type": "execute_result"
    }
   ],
   "source": [
    "x['pred'] = [merge(x, y, prob) for x, y, prob in zip(xp['cls_pred'], xc['reg_pred'], xp['max_prob'])]\n",
    "calc_metric(x)"
   ]
  },
  {
   "cell_type": "code",
   "execution_count": 19,
   "metadata": {},
   "outputs": [],
   "source": [
    "df_p = pd.DataFrame(xp)"
   ]
  },
  {
   "cell_type": "code",
   "execution_count": 20,
   "metadata": {},
   "outputs": [],
   "source": [
    "df_c = pd.DataFrame(gezi.batch2list(xc))"
   ]
  },
  {
   "cell_type": "code",
   "execution_count": 23,
   "metadata": {},
   "outputs": [
    {
     "data": {
      "text/plain": [
       "Index(['id', 'cell_id', 'cid', 'pred', 'max_prob', 'max_sim', 'cls_pred',\n",
       "       'match_rank', 'match_code', 'n_code_cell', 'probs', 'sims'],\n",
       "      dtype='object')"
      ]
     },
     "execution_count": 23,
     "metadata": {},
     "output_type": "execute_result"
    }
   ],
   "source": [
    "df_p.columns"
   ]
  },
  {
   "cell_type": "code",
   "execution_count": 24,
   "metadata": {},
   "outputs": [],
   "source": [
    "df = df_c.merge(df_p[['cid', 'pred', 'cls_pred', 'max_prob', 'max_sim', 'probs', 'sims']], on='cid', suffixes=['_c', '_p'])"
   ]
  },
  {
   "cell_type": "code",
   "execution_count": 26,
   "metadata": {},
   "outputs": [],
   "source": [
    "df_train = pd.read_feather('../working/train.fea')"
   ]
  },
  {
   "cell_type": "code",
   "execution_count": 27,
   "metadata": {},
   "outputs": [],
   "source": [
    "df_train = df_train[df_train.id.isin(ids)]"
   ]
  },
  {
   "cell_type": "code",
   "execution_count": 30,
   "metadata": {},
   "outputs": [],
   "source": [
    "df = df.merge(df_train[['cid', 'ancestor_id', 'n_words', 'source']], on='cid')"
   ]
  },
  {
   "cell_type": "code",
   "execution_count": 31,
   "metadata": {},
   "outputs": [],
   "source": [
    "gezi.set_fold(df, 5, 'ancestor_id')"
   ]
  },
  {
   "cell_type": "code",
   "execution_count": 32,
   "metadata": {},
   "outputs": [
    {
     "data": {
      "text/html": [
       "<div>\n",
       "<style scoped>\n",
       "    .dataframe tbody tr th:only-of-type {\n",
       "        vertical-align: middle;\n",
       "    }\n",
       "\n",
       "    .dataframe tbody tr th {\n",
       "        vertical-align: top;\n",
       "    }\n",
       "\n",
       "    .dataframe thead th {\n",
       "        text-align: right;\n",
       "    }\n",
       "</style>\n",
       "<table border=\"1\" class=\"dataframe\">\n",
       "  <thead>\n",
       "    <tr style=\"text-align: right;\">\n",
       "      <th></th>\n",
       "      <th>id</th>\n",
       "      <th>cell_id</th>\n",
       "      <th>cid</th>\n",
       "      <th>cell_type</th>\n",
       "      <th>rank</th>\n",
       "      <th>rel_rank</th>\n",
       "      <th>context_match</th>\n",
       "      <th>match_code</th>\n",
       "      <th>n_code_cell</th>\n",
       "      <th>n_markdown_cell</th>\n",
       "      <th>...</th>\n",
       "      <th>pred_p</th>\n",
       "      <th>cls_pred_p</th>\n",
       "      <th>max_prob</th>\n",
       "      <th>max_sim</th>\n",
       "      <th>probs</th>\n",
       "      <th>sims</th>\n",
       "      <th>ancestor_id</th>\n",
       "      <th>n_words</th>\n",
       "      <th>source</th>\n",
       "      <th>fold</th>\n",
       "    </tr>\n",
       "  </thead>\n",
       "  <tbody>\n",
       "    <tr>\n",
       "      <th>0</th>\n",
       "      <td>0002115f48f982</td>\n",
       "      <td>9ec225f0</td>\n",
       "      <td>0002115f48f982\\t9ec225f0</td>\n",
       "      <td>markdown</td>\n",
       "      <td>0</td>\n",
       "      <td>0.055556</td>\n",
       "      <td>1</td>\n",
       "      <td>0.0</td>\n",
       "      <td>8</td>\n",
       "      <td>1</td>\n",
       "      <td>...</td>\n",
       "      <td>0.055556</td>\n",
       "      <td>0.071522</td>\n",
       "      <td>0.875342</td>\n",
       "      <td>0.817135</td>\n",
       "      <td>[0.8753421, 0.11626246, 0.0010800936, 0.005473...</td>\n",
       "      <td>[0.81713474, 0.7799119, 0.6936422, 0.7235639, ...</td>\n",
       "      <td>272b483a</td>\n",
       "      <td>49</td>\n",
       "      <td>Hi there,\\n\\nIs it ok that the same measuremen...</td>\n",
       "      <td>2</td>\n",
       "    </tr>\n",
       "    <tr>\n",
       "      <th>1</th>\n",
       "      <td>00062ab8487156</td>\n",
       "      <td>96c8449c</td>\n",
       "      <td>00062ab8487156\\t96c8449c</td>\n",
       "      <td>markdown</td>\n",
       "      <td>11</td>\n",
       "      <td>0.954545</td>\n",
       "      <td>1</td>\n",
       "      <td>10.0</td>\n",
       "      <td>10</td>\n",
       "      <td>2</td>\n",
       "      <td>...</td>\n",
       "      <td>0.954545</td>\n",
       "      <td>0.949661</td>\n",
       "      <td>0.976317</td>\n",
       "      <td>0.838338</td>\n",
       "      <td>[0.0026414075, 0.00013251408, 0.00015031976, 1...</td>\n",
       "      <td>[0.729321, 0.6741463, 0.6764709, 0.62993234, 0...</td>\n",
       "      <td>de362dd8</td>\n",
       "      <td>9</td>\n",
       "      <td>### Support vector classifier scored 0.8442 on...</td>\n",
       "      <td>1</td>\n",
       "    </tr>\n",
       "    <tr>\n",
       "      <th>2</th>\n",
       "      <td>00062ab8487156</td>\n",
       "      <td>aa354742</td>\n",
       "      <td>00062ab8487156\\taa354742</td>\n",
       "      <td>markdown</td>\n",
       "      <td>5</td>\n",
       "      <td>0.500000</td>\n",
       "      <td>1</td>\n",
       "      <td>5.0</td>\n",
       "      <td>10</td>\n",
       "      <td>2</td>\n",
       "      <td>...</td>\n",
       "      <td>0.500000</td>\n",
       "      <td>0.461070</td>\n",
       "      <td>0.701096</td>\n",
       "      <td>0.729470</td>\n",
       "      <td>[0.00034627708, 0.0022056992, 0.17445873, 0.01...</td>\n",
       "      <td>[0.5890951, 0.623235, 0.7038227, 0.6558083, 0....</td>\n",
       "      <td>de362dd8</td>\n",
       "      <td>40</td>\n",
       "      <td>### Interesting tidbit: Shovel Knight is the o...</td>\n",
       "      <td>1</td>\n",
       "    </tr>\n",
       "    <tr>\n",
       "      <th>3</th>\n",
       "      <td>000efd285fb982</td>\n",
       "      <td>14f36391</td>\n",
       "      <td>000efd285fb982\\t14f36391</td>\n",
       "      <td>markdown</td>\n",
       "      <td>56</td>\n",
       "      <td>0.881579</td>\n",
       "      <td>1</td>\n",
       "      <td>33.0</td>\n",
       "      <td>37</td>\n",
       "      <td>28</td>\n",
       "      <td>...</td>\n",
       "      <td>0.881579</td>\n",
       "      <td>0.881693</td>\n",
       "      <td>0.995167</td>\n",
       "      <td>0.786112</td>\n",
       "      <td>[2.9696256e-08, 2.2839872e-10, 1.4825383e-10, ...</td>\n",
       "      <td>[0.46662188, 0.37686953, 0.36890104, 0.3841684...</td>\n",
       "      <td>389f14ff</td>\n",
       "      <td>3</td>\n",
       "      <td>### 3.5 CatboostRegressor</td>\n",
       "      <td>4</td>\n",
       "    </tr>\n",
       "    <tr>\n",
       "      <th>4</th>\n",
       "      <td>000efd285fb982</td>\n",
       "      <td>1f3749ad</td>\n",
       "      <td>000efd285fb982\\t1f3749ad</td>\n",
       "      <td>markdown</td>\n",
       "      <td>24</td>\n",
       "      <td>0.335526</td>\n",
       "      <td>1</td>\n",
       "      <td>12.0</td>\n",
       "      <td>37</td>\n",
       "      <td>28</td>\n",
       "      <td>...</td>\n",
       "      <td>0.328947</td>\n",
       "      <td>0.328956</td>\n",
       "      <td>0.996717</td>\n",
       "      <td>0.752300</td>\n",
       "      <td>[7.0347337e-06, 2.974339e-06, 4.029498e-05, 3....</td>\n",
       "      <td>[0.53359485, 0.51772237, 0.56577665, 0.5614152...</td>\n",
       "      <td>389f14ff</td>\n",
       "      <td>4</td>\n",
       "      <td>### 2.1 Numerical columns</td>\n",
       "      <td>4</td>\n",
       "    </tr>\n",
       "  </tbody>\n",
       "</table>\n",
       "<p>5 rows × 27 columns</p>\n",
       "</div>"
      ],
      "text/plain": [
       "               id   cell_id                       cid cell_type  rank  \\\n",
       "0  0002115f48f982  9ec225f0  0002115f48f982\\t9ec225f0  markdown     0   \n",
       "1  00062ab8487156  96c8449c  00062ab8487156\\t96c8449c  markdown    11   \n",
       "2  00062ab8487156  aa354742  00062ab8487156\\taa354742  markdown     5   \n",
       "3  000efd285fb982  14f36391  000efd285fb982\\t14f36391  markdown    56   \n",
       "4  000efd285fb982  1f3749ad  000efd285fb982\\t1f3749ad  markdown    24   \n",
       "\n",
       "   rel_rank  context_match  match_code  n_code_cell  n_markdown_cell  ...  \\\n",
       "0  0.055556              1         0.0            8                1  ...   \n",
       "1  0.954545              1        10.0           10                2  ...   \n",
       "2  0.500000              1         5.0           10                2  ...   \n",
       "3  0.881579              1        33.0           37               28  ...   \n",
       "4  0.335526              1        12.0           37               28  ...   \n",
       "\n",
       "     pred_p  cls_pred_p  max_prob   max_sim  \\\n",
       "0  0.055556    0.071522  0.875342  0.817135   \n",
       "1  0.954545    0.949661  0.976317  0.838338   \n",
       "2  0.500000    0.461070  0.701096  0.729470   \n",
       "3  0.881579    0.881693  0.995167  0.786112   \n",
       "4  0.328947    0.328956  0.996717  0.752300   \n",
       "\n",
       "                                               probs  \\\n",
       "0  [0.8753421, 0.11626246, 0.0010800936, 0.005473...   \n",
       "1  [0.0026414075, 0.00013251408, 0.00015031976, 1...   \n",
       "2  [0.00034627708, 0.0022056992, 0.17445873, 0.01...   \n",
       "3  [2.9696256e-08, 2.2839872e-10, 1.4825383e-10, ...   \n",
       "4  [7.0347337e-06, 2.974339e-06, 4.029498e-05, 3....   \n",
       "\n",
       "                                                sims  ancestor_id  n_words  \\\n",
       "0  [0.81713474, 0.7799119, 0.6936422, 0.7235639, ...     272b483a       49   \n",
       "1  [0.729321, 0.6741463, 0.6764709, 0.62993234, 0...     de362dd8        9   \n",
       "2  [0.5890951, 0.623235, 0.7038227, 0.6558083, 0....     de362dd8       40   \n",
       "3  [0.46662188, 0.37686953, 0.36890104, 0.3841684...     389f14ff        3   \n",
       "4  [0.53359485, 0.51772237, 0.56577665, 0.5614152...     389f14ff        4   \n",
       "\n",
       "                                              source  fold  \n",
       "0  Hi there,\\n\\nIs it ok that the same measuremen...     2  \n",
       "1  ### Support vector classifier scored 0.8442 on...     1  \n",
       "2  ### Interesting tidbit: Shovel Knight is the o...     1  \n",
       "3                          ### 3.5 CatboostRegressor     4  \n",
       "4                          ### 2.1 Numerical columns     4  \n",
       "\n",
       "[5 rows x 27 columns]"
      ]
     },
     "execution_count": 32,
     "metadata": {},
     "output_type": "execute_result"
    }
   ],
   "source": [
    "df.head()"
   ]
  },
  {
   "cell_type": "code",
   "execution_count": 92,
   "metadata": {},
   "outputs": [
    {
     "data": {
      "application/vnd.jupyter.widget-view+json": {
       "model_id": "f6494e50fac9456dad8d9ab753fc05cb",
       "version_major": 2,
       "version_minor": 0
      },
      "text/plain": [
       "top:   0%|          | 0/424943 [00:00<?, ?it/s]"
      ]
     },
     "metadata": {},
     "output_type": "display_data"
    },
    {
     "data": {
      "application/vnd.jupyter.widget-view+json": {
       "model_id": "aab6c9745bf645529b8d8f5e2bfb0c43",
       "version_major": 2,
       "version_minor": 0
      },
      "text/plain": [
       "ctop:   0%|          | 0/424943 [00:00<?, ?it/s]"
      ]
     },
     "metadata": {},
     "output_type": "display_data"
    },
    {
     "data": {
      "application/vnd.jupyter.widget-view+json": {
       "model_id": "6191341aa245491e886481a47972605d",
       "version_major": 2,
       "version_minor": 0
      },
      "text/plain": [
       "rule:   0%|          | 0/424943 [00:00<?, ?it/s]"
      ]
     },
     "metadata": {},
     "output_type": "display_data"
    },
    {
     "data": {
      "application/vnd.jupyter.widget-view+json": {
       "model_id": "38f7950d7a9c4b59abc6b0ab8b81bcdf",
       "version_major": 2,
       "version_minor": 0
      },
      "text/plain": [
       "cls_pred_p_prob:   0%|          | 0/424943 [00:00<?, ?it/s]"
      ]
     },
     "metadata": {},
     "output_type": "display_data"
    }
   ],
   "source": [
    "df['pred_diff0'] = abs(df['pred_c'] - df['pred_p'])\n",
    "df['pred_diff1'] = abs(df['reg_pred'] - df['pred_p'])\n",
    "df['pred_diff2'] = abs(df['cls_pred_c'] - df['pred_p'])\n",
    "df['pred_diff3'] = abs(df['cls2_pred'] - df['pred_p'])\n",
    "df['markdown_frac'] = df['n_markdown_cell'] / df['n_cell']\n",
    "df['span'] = 1 / (df['n_code_cell'] + 1)\n",
    "top2, top3, top4, top5 = [], [], [], []\n",
    "top2_prob, top3_prob, top4_prob, top5_prob = [], [], [], []\n",
    "top2_sim, top3_sim, top4_sim, top5_sim = [], [], [], []\n",
    "for i in tqdm(range(len(df)), desc='top'):\n",
    "  # cls_preds = df['cls_pred_ori'].values[i]\n",
    "  n_code = df['n_code_cell'].values[i]\n",
    "  probs = df['probs'].values[i]\n",
    "  sims = df['sims'].values[i]\n",
    "  idxes = (-probs).argsort()\n",
    "  if len(idxes) > 1:\n",
    "    top2.append((idxes[1] + 0.5) / (n_code + 1))\n",
    "    top2_prob.append(probs[idxes[1]])\n",
    "    top2_sim.append(sims[idxes[1]])\n",
    "  else:\n",
    "    top2.append(-1)\n",
    "    top2_prob.append(-1)\n",
    "    top2_sim.append(-1)\n",
    "  if len(idxes) > 2:\n",
    "    top3.append((idxes[2] + 0.5) / (n_code + 1))\n",
    "    top3_prob.append(probs[idxes[2]])\n",
    "    top3_sim.append(sims[idxes[2]])\n",
    "  else:\n",
    "    top3.append(-1)\n",
    "    top3_prob.append(-1)\n",
    "    top3_sim.append(-1)\n",
    "  if len(idxes) > 3:\n",
    "    top4.append((idxes[3] + 0.5) / (n_code + 1))\n",
    "    top4_prob.append(probs[idxes[3]])\n",
    "    top4_sim.append(sims[idxes[3]])\n",
    "  else:\n",
    "    top4.append(-1)\n",
    "    top4_prob.append(-1)\n",
    "    top4_sim.append(-1)\n",
    "  if len(idxes) > 4:\n",
    "    top5.append((idxes[4] + 0.5) / (n_code + 1))\n",
    "    top5_prob.append(probs[idxes[4]])\n",
    "    top5_sim.append(sims[idxes[4]])\n",
    "  else:\n",
    "    top5.append(-1)\n",
    "    top5_prob.append(-1)\n",
    "    top5_sim.append(-1)\n",
    "ctop_prob, ctop2, ctop3, ctop4, ctop2_prob, ctop3_prob, ctop4_prob = [], [], [], [], [], [], []\n",
    "for i in tqdm(range(len(df)), desc='ctop'):\n",
    "  preds = df['cls_pred_ori'].values[i]\n",
    "  probs = gezi.softmax(preds)\n",
    "  idxes = (-probs).argsort()\n",
    "  ctop_prob.append(probs[idxes[0]])\n",
    "  ctop2.append((idxes[1] + 0.5) / FLAGS.num_classes)\n",
    "  ctop2_prob.append(probs[idxes[1]])\n",
    "  ctop3.append((idxes[2] + 0.5) / FLAGS.num_classes)\n",
    "  ctop3_prob.append(probs[idxes[2]])\n",
    "  ctop4.append((idxes[3] + 0.5) / FLAGS.num_classes)\n",
    "  ctop4_prob.append(probs[idxes[3]])\n",
    "# for i in range(FLAGS.num_classes):\n",
    "#   df[f'cls_pred{i}'] = df['cls_pred_ori'].apply(lambda x: x[i])\n",
    "df['top2'] = top2\n",
    "df['top2_prob'] = top2_prob\n",
    "df['top2_sim'] = top2_sim\n",
    "df['top3'] = top3\n",
    "df['top3_prob'] = top3_prob\n",
    "df['top3_sim'] = top3_sim\n",
    "df['top4'] = top4\n",
    "df['top4_prob'] = top4_prob\n",
    "df['top4_sim'] = top4_sim\n",
    "df['top5'] = top5\n",
    "df['top5_prob'] = top5_prob\n",
    "df['top5_sim'] = top5_sim\n",
    "df['ctop_prob'] = ctop_prob\n",
    "df['ctop2'] = ctop2\n",
    "df['ctop2_prob'] = ctop2_prob\n",
    "df['ctop3'] = ctop3\n",
    "df['ctop3_prob'] = ctop3_prob\n",
    "df['ctop4'] = ctop4\n",
    "df['ctop4_prob'] = ctop4_prob\n",
    "df['pred_diff4'] = abs(df['pred_c'] - df['top2'])\n",
    "df['pred_diff5'] = abs(df['reg_pred'] - df['top2'])\n",
    "df['pred_diff6'] = abs(df['cls_pred_c'] - df['top2'])\n",
    "df['pred_diff7'] = abs(df['cls2_pred'] - df['top2'])\n",
    "df['pred_diff8'] = abs(df['pred_p'] - df['top2'])\n",
    "df['pred_diff9'] = abs(df['cls_pred_c'] - df['top3'])\n",
    "df['pred_diff10'] = abs(df['pred_p'] - df['top3'])\n",
    "df['rule_pred'] = [merge(x, y, prob) for x, y, prob in tqdm(zip(df.pred_p.values, df.pred_c.values, df.max_prob.values), total=len(df), desc='rule')]\n",
    "reg_pred_probs = []\n",
    "for row in tqdm(df.itertuples(), total=len(df), desc='cls_pred_p_prob'):\n",
    "  probs = row.probs\n",
    "  n_code = row.n_code_cell\n",
    "  reg_pred = row.reg_pred\n",
    "  try:\n",
    "    reg_pred_probs.append(probs[int(min(reg_pred, 1) * (n_code + 1) - 0.5)])\n",
    "  except Exception:\n",
    "    ic(n_code, len(probs), reg_pred)\n",
    "    break\n",
    "df['reg_pred_prob'] = reg_pred_probs"
   ]
  },
  {
   "cell_type": "code",
   "execution_count": 111,
   "metadata": {},
   "outputs": [],
   "source": [
    "fold = 0\n",
    "dvalid = df[df.fold==fold]\n",
    "dtrain = df[df.fold!=fold]"
   ]
  },
  {
   "cell_type": "code",
   "execution_count": 112,
   "metadata": {},
   "outputs": [
    {
     "data": {
      "text/plain": [
       "Index(['id', 'cell_id', 'cid', 'cell_type', 'rank', 'rel_rank',\n",
       "       'context_match', 'match_code', 'n_code_cell', 'n_markdown_cell',\n",
       "       'n_cell', 'cls_pred_c', 'pred_c', 'reg_pred', 'cls_pred_ori',\n",
       "       'match_rank', 'cls2_pred', 'pred_p', 'cls_pred_p', 'max_prob',\n",
       "       'max_sim', 'probs', 'sims', 'ancestor_id', 'n_words', 'source', 'fold',\n",
       "       'pred_diff0', 'pred_diff1', 'pred_diff2', 'pred_diff3', 'markdown_frac',\n",
       "       'span', 'top2', 'top2_prob', 'top2_sim', 'top3', 'top3_prob',\n",
       "       'top3_sim', 'top4', 'top4_prob', 'top4_sim', 'top5', 'top5_prob',\n",
       "       'top5_sim', 'ctop_prob', 'ctop2', 'ctop2_prob', 'ctop3', 'ctop3_prob',\n",
       "       'ctop4', 'ctop4_prob', 'pred_diff4', 'pred_diff5', 'pred_diff6',\n",
       "       'pred_diff7', 'pred_diff8', 'pred_diff9', 'pred_diff10', 'rule_pred',\n",
       "       'reg_pred_prob'],\n",
       "      dtype='object')"
      ]
     },
     "execution_count": 112,
     "metadata": {},
     "output_type": "execute_result"
    }
   ],
   "source": [
    "df.columns"
   ]
  },
  {
   "cell_type": "code",
   "execution_count": 113,
   "metadata": {},
   "outputs": [
    {
     "data": {
      "text/html": [
       "<div>\n",
       "<style scoped>\n",
       "    .dataframe tbody tr th:only-of-type {\n",
       "        vertical-align: middle;\n",
       "    }\n",
       "\n",
       "    .dataframe tbody tr th {\n",
       "        vertical-align: top;\n",
       "    }\n",
       "\n",
       "    .dataframe thead th {\n",
       "        text-align: right;\n",
       "    }\n",
       "</style>\n",
       "<table border=\"1\" class=\"dataframe\">\n",
       "  <thead>\n",
       "    <tr style=\"text-align: right;\">\n",
       "      <th></th>\n",
       "      <th>id</th>\n",
       "      <th>cell_id</th>\n",
       "      <th>cid</th>\n",
       "      <th>cell_type</th>\n",
       "      <th>rank</th>\n",
       "      <th>rel_rank</th>\n",
       "      <th>context_match</th>\n",
       "      <th>match_code</th>\n",
       "      <th>n_code_cell</th>\n",
       "      <th>n_markdown_cell</th>\n",
       "      <th>...</th>\n",
       "      <th>ctop4_prob</th>\n",
       "      <th>pred_diff4</th>\n",
       "      <th>pred_diff5</th>\n",
       "      <th>pred_diff6</th>\n",
       "      <th>pred_diff7</th>\n",
       "      <th>pred_diff8</th>\n",
       "      <th>pred_diff9</th>\n",
       "      <th>pred_diff10</th>\n",
       "      <th>rule_pred</th>\n",
       "      <th>reg_pred_prob</th>\n",
       "    </tr>\n",
       "  </thead>\n",
       "  <tbody>\n",
       "    <tr>\n",
       "      <th>0</th>\n",
       "      <td>0002115f48f982</td>\n",
       "      <td>9ec225f0</td>\n",
       "      <td>0002115f48f982\\t9ec225f0</td>\n",
       "      <td>markdown</td>\n",
       "      <td>0</td>\n",
       "      <td>0.055556</td>\n",
       "      <td>1</td>\n",
       "      <td>0.0</td>\n",
       "      <td>8</td>\n",
       "      <td>1</td>\n",
       "      <td>...</td>\n",
       "      <td>0.001837</td>\n",
       "      <td>0.106798</td>\n",
       "      <td>0.107313</td>\n",
       "      <td>0.106283</td>\n",
       "      <td>0.111667</td>\n",
       "      <td>0.111111</td>\n",
       "      <td>0.328505</td>\n",
       "      <td>0.333333</td>\n",
       "      <td>0.055556</td>\n",
       "      <td>8.753421e-01</td>\n",
       "    </tr>\n",
       "    <tr>\n",
       "      <th>1</th>\n",
       "      <td>00062ab8487156</td>\n",
       "      <td>96c8449c</td>\n",
       "      <td>00062ab8487156\\t96c8449c</td>\n",
       "      <td>markdown</td>\n",
       "      <td>11</td>\n",
       "      <td>0.954545</td>\n",
       "      <td>1</td>\n",
       "      <td>10.0</td>\n",
       "      <td>10</td>\n",
       "      <td>2</td>\n",
       "      <td>...</td>\n",
       "      <td>0.011861</td>\n",
       "      <td>0.083150</td>\n",
       "      <td>0.098536</td>\n",
       "      <td>0.067765</td>\n",
       "      <td>0.091364</td>\n",
       "      <td>0.090909</td>\n",
       "      <td>0.885947</td>\n",
       "      <td>0.909091</td>\n",
       "      <td>0.954545</td>\n",
       "      <td>9.763172e-01</td>\n",
       "    </tr>\n",
       "    <tr>\n",
       "      <th>2</th>\n",
       "      <td>00062ab8487156</td>\n",
       "      <td>aa354742</td>\n",
       "      <td>00062ab8487156\\taa354742</td>\n",
       "      <td>markdown</td>\n",
       "      <td>5</td>\n",
       "      <td>0.500000</td>\n",
       "      <td>1</td>\n",
       "      <td>5.0</td>\n",
       "      <td>10</td>\n",
       "      <td>2</td>\n",
       "      <td>...</td>\n",
       "      <td>0.047884</td>\n",
       "      <td>0.237985</td>\n",
       "      <td>0.249040</td>\n",
       "      <td>0.226929</td>\n",
       "      <td>0.277727</td>\n",
       "      <td>0.272727</td>\n",
       "      <td>0.136707</td>\n",
       "      <td>0.090909</td>\n",
       "      <td>0.499997</td>\n",
       "      <td>2.804984e-02</td>\n",
       "    </tr>\n",
       "    <tr>\n",
       "      <th>3</th>\n",
       "      <td>000efd285fb982</td>\n",
       "      <td>14f36391</td>\n",
       "      <td>000efd285fb982\\t14f36391</td>\n",
       "      <td>markdown</td>\n",
       "      <td>56</td>\n",
       "      <td>0.881579</td>\n",
       "      <td>1</td>\n",
       "      <td>33.0</td>\n",
       "      <td>37</td>\n",
       "      <td>28</td>\n",
       "      <td>...</td>\n",
       "      <td>0.051794</td>\n",
       "      <td>0.044795</td>\n",
       "      <td>0.040921</td>\n",
       "      <td>0.048669</td>\n",
       "      <td>0.022895</td>\n",
       "      <td>0.026316</td>\n",
       "      <td>0.074985</td>\n",
       "      <td>0.052632</td>\n",
       "      <td>0.881577</td>\n",
       "      <td>8.346825e-08</td>\n",
       "    </tr>\n",
       "    <tr>\n",
       "      <th>4</th>\n",
       "      <td>000efd285fb982</td>\n",
       "      <td>1f3749ad</td>\n",
       "      <td>000efd285fb982\\t1f3749ad</td>\n",
       "      <td>markdown</td>\n",
       "      <td>24</td>\n",
       "      <td>0.335526</td>\n",
       "      <td>1</td>\n",
       "      <td>12.0</td>\n",
       "      <td>37</td>\n",
       "      <td>28</td>\n",
       "      <td>...</td>\n",
       "      <td>0.037001</td>\n",
       "      <td>0.019517</td>\n",
       "      <td>0.020190</td>\n",
       "      <td>0.018843</td>\n",
       "      <td>0.020263</td>\n",
       "      <td>0.026316</td>\n",
       "      <td>0.060104</td>\n",
       "      <td>0.052632</td>\n",
       "      <td>0.328948</td>\n",
       "      <td>9.967172e-01</td>\n",
       "    </tr>\n",
       "    <tr>\n",
       "      <th>...</th>\n",
       "      <td>...</td>\n",
       "      <td>...</td>\n",
       "      <td>...</td>\n",
       "      <td>...</td>\n",
       "      <td>...</td>\n",
       "      <td>...</td>\n",
       "      <td>...</td>\n",
       "      <td>...</td>\n",
       "      <td>...</td>\n",
       "      <td>...</td>\n",
       "      <td>...</td>\n",
       "      <td>...</td>\n",
       "      <td>...</td>\n",
       "      <td>...</td>\n",
       "      <td>...</td>\n",
       "      <td>...</td>\n",
       "      <td>...</td>\n",
       "      <td>...</td>\n",
       "      <td>...</td>\n",
       "      <td>...</td>\n",
       "      <td>...</td>\n",
       "    </tr>\n",
       "    <tr>\n",
       "      <th>424938</th>\n",
       "      <td>fff4714a37cf49</td>\n",
       "      <td>9527a079</td>\n",
       "      <td>fff4714a37cf49\\t9527a079</td>\n",
       "      <td>markdown</td>\n",
       "      <td>10</td>\n",
       "      <td>0.500000</td>\n",
       "      <td>1</td>\n",
       "      <td>6.0</td>\n",
       "      <td>12</td>\n",
       "      <td>9</td>\n",
       "      <td>...</td>\n",
       "      <td>0.035817</td>\n",
       "      <td>0.253585</td>\n",
       "      <td>0.250999</td>\n",
       "      <td>0.256171</td>\n",
       "      <td>0.225769</td>\n",
       "      <td>0.230769</td>\n",
       "      <td>0.051521</td>\n",
       "      <td>0.076923</td>\n",
       "      <td>0.499998</td>\n",
       "      <td>6.165756e-02</td>\n",
       "    </tr>\n",
       "    <tr>\n",
       "      <th>424939</th>\n",
       "      <td>fff4714a37cf49</td>\n",
       "      <td>effc5f17</td>\n",
       "      <td>fff4714a37cf49\\teffc5f17</td>\n",
       "      <td>markdown</td>\n",
       "      <td>6</td>\n",
       "      <td>0.346154</td>\n",
       "      <td>1</td>\n",
       "      <td>4.0</td>\n",
       "      <td>12</td>\n",
       "      <td>9</td>\n",
       "      <td>...</td>\n",
       "      <td>0.038901</td>\n",
       "      <td>0.022014</td>\n",
       "      <td>0.001136</td>\n",
       "      <td>0.045164</td>\n",
       "      <td>0.001154</td>\n",
       "      <td>0.076923</td>\n",
       "      <td>0.185605</td>\n",
       "      <td>0.307692</td>\n",
       "      <td>0.269241</td>\n",
       "      <td>4.972901e-01</td>\n",
       "    </tr>\n",
       "    <tr>\n",
       "      <th>424940</th>\n",
       "      <td>fff4714a37cf49</td>\n",
       "      <td>f8744de1</td>\n",
       "      <td>fff4714a37cf49\\tf8744de1</td>\n",
       "      <td>markdown</td>\n",
       "      <td>17</td>\n",
       "      <td>0.807692</td>\n",
       "      <td>1</td>\n",
       "      <td>10.0</td>\n",
       "      <td>12</td>\n",
       "      <td>9</td>\n",
       "      <td>...</td>\n",
       "      <td>0.025195</td>\n",
       "      <td>0.314488</td>\n",
       "      <td>0.319733</td>\n",
       "      <td>0.309243</td>\n",
       "      <td>0.305000</td>\n",
       "      <td>0.307692</td>\n",
       "      <td>0.232320</td>\n",
       "      <td>0.230769</td>\n",
       "      <td>0.807693</td>\n",
       "      <td>9.271661e-01</td>\n",
       "    </tr>\n",
       "    <tr>\n",
       "      <th>424941</th>\n",
       "      <td>fffc1b4f08e81c</td>\n",
       "      <td>143cccfb</td>\n",
       "      <td>fffc1b4f08e81c\\t143cccfb</td>\n",
       "      <td>markdown</td>\n",
       "      <td>29</td>\n",
       "      <td>0.730769</td>\n",
       "      <td>1</td>\n",
       "      <td>28.0</td>\n",
       "      <td>38</td>\n",
       "      <td>2</td>\n",
       "      <td>...</td>\n",
       "      <td>0.059311</td>\n",
       "      <td>0.111172</td>\n",
       "      <td>0.114996</td>\n",
       "      <td>0.107348</td>\n",
       "      <td>0.209615</td>\n",
       "      <td>0.282051</td>\n",
       "      <td>0.209912</td>\n",
       "      <td>0.384615</td>\n",
       "      <td>0.674745</td>\n",
       "      <td>2.885038e-03</td>\n",
       "    </tr>\n",
       "    <tr>\n",
       "      <th>424942</th>\n",
       "      <td>fffc1b4f08e81c</td>\n",
       "      <td>ffc27279</td>\n",
       "      <td>fffc1b4f08e81c\\tffc27279</td>\n",
       "      <td>markdown</td>\n",
       "      <td>0</td>\n",
       "      <td>0.012821</td>\n",
       "      <td>1</td>\n",
       "      <td>0.0</td>\n",
       "      <td>38</td>\n",
       "      <td>2</td>\n",
       "      <td>...</td>\n",
       "      <td>0.052794</td>\n",
       "      <td>0.314402</td>\n",
       "      <td>0.288681</td>\n",
       "      <td>0.340123</td>\n",
       "      <td>0.002179</td>\n",
       "      <td>0.384615</td>\n",
       "      <td>0.032431</td>\n",
       "      <td>0.076923</td>\n",
       "      <td>0.602571</td>\n",
       "      <td>6.607576e-02</td>\n",
       "    </tr>\n",
       "  </tbody>\n",
       "</table>\n",
       "<p>424943 rows × 61 columns</p>\n",
       "</div>"
      ],
      "text/plain": [
       "                    id   cell_id                       cid cell_type  rank  \\\n",
       "0       0002115f48f982  9ec225f0  0002115f48f982\\t9ec225f0  markdown     0   \n",
       "1       00062ab8487156  96c8449c  00062ab8487156\\t96c8449c  markdown    11   \n",
       "2       00062ab8487156  aa354742  00062ab8487156\\taa354742  markdown     5   \n",
       "3       000efd285fb982  14f36391  000efd285fb982\\t14f36391  markdown    56   \n",
       "4       000efd285fb982  1f3749ad  000efd285fb982\\t1f3749ad  markdown    24   \n",
       "...                ...       ...                       ...       ...   ...   \n",
       "424938  fff4714a37cf49  9527a079  fff4714a37cf49\\t9527a079  markdown    10   \n",
       "424939  fff4714a37cf49  effc5f17  fff4714a37cf49\\teffc5f17  markdown     6   \n",
       "424940  fff4714a37cf49  f8744de1  fff4714a37cf49\\tf8744de1  markdown    17   \n",
       "424941  fffc1b4f08e81c  143cccfb  fffc1b4f08e81c\\t143cccfb  markdown    29   \n",
       "424942  fffc1b4f08e81c  ffc27279  fffc1b4f08e81c\\tffc27279  markdown     0   \n",
       "\n",
       "        rel_rank  context_match  match_code  n_code_cell  n_markdown_cell  \\\n",
       "0       0.055556              1         0.0            8                1   \n",
       "1       0.954545              1        10.0           10                2   \n",
       "2       0.500000              1         5.0           10                2   \n",
       "3       0.881579              1        33.0           37               28   \n",
       "4       0.335526              1        12.0           37               28   \n",
       "...          ...            ...         ...          ...              ...   \n",
       "424938  0.500000              1         6.0           12                9   \n",
       "424939  0.346154              1         4.0           12                9   \n",
       "424940  0.807692              1        10.0           12                9   \n",
       "424941  0.730769              1        28.0           38                2   \n",
       "424942  0.012821              1         0.0           38                2   \n",
       "\n",
       "        ...  ctop4_prob  pred_diff4  pred_diff5  pred_diff6 pred_diff7  \\\n",
       "0       ...    0.001837    0.106798    0.107313    0.106283   0.111667   \n",
       "1       ...    0.011861    0.083150    0.098536    0.067765   0.091364   \n",
       "2       ...    0.047884    0.237985    0.249040    0.226929   0.277727   \n",
       "3       ...    0.051794    0.044795    0.040921    0.048669   0.022895   \n",
       "4       ...    0.037001    0.019517    0.020190    0.018843   0.020263   \n",
       "...     ...         ...         ...         ...         ...        ...   \n",
       "424938  ...    0.035817    0.253585    0.250999    0.256171   0.225769   \n",
       "424939  ...    0.038901    0.022014    0.001136    0.045164   0.001154   \n",
       "424940  ...    0.025195    0.314488    0.319733    0.309243   0.305000   \n",
       "424941  ...    0.059311    0.111172    0.114996    0.107348   0.209615   \n",
       "424942  ...    0.052794    0.314402    0.288681    0.340123   0.002179   \n",
       "\n",
       "        pred_diff8  pred_diff9  pred_diff10  rule_pred  reg_pred_prob  \n",
       "0         0.111111    0.328505     0.333333   0.055556   8.753421e-01  \n",
       "1         0.090909    0.885947     0.909091   0.954545   9.763172e-01  \n",
       "2         0.272727    0.136707     0.090909   0.499997   2.804984e-02  \n",
       "3         0.026316    0.074985     0.052632   0.881577   8.346825e-08  \n",
       "4         0.026316    0.060104     0.052632   0.328948   9.967172e-01  \n",
       "...            ...         ...          ...        ...            ...  \n",
       "424938    0.230769    0.051521     0.076923   0.499998   6.165756e-02  \n",
       "424939    0.076923    0.185605     0.307692   0.269241   4.972901e-01  \n",
       "424940    0.307692    0.232320     0.230769   0.807693   9.271661e-01  \n",
       "424941    0.282051    0.209912     0.384615   0.674745   2.885038e-03  \n",
       "424942    0.384615    0.032431     0.076923   0.602571   6.607576e-02  \n",
       "\n",
       "[424943 rows x 61 columns]"
      ]
     },
     "execution_count": 113,
     "metadata": {},
     "output_type": "execute_result"
    }
   ],
   "source": [
    "df"
   ]
  },
  {
   "cell_type": "code",
   "execution_count": 135,
   "metadata": {},
   "outputs": [],
   "source": [
    "reg_cols =  [\n",
    "          'n_code_cell',\n",
    "          'n_markdown_cell',\n",
    "          'n_cell',\n",
    "          'cls_pred_c',\n",
    "          'pred_c',\n",
    "          'reg_pred',\n",
    "          'cls2_pred',\n",
    "          'pred_p',\n",
    "          'cls_pred_p',\n",
    "          'rule_pred',\n",
    "          'pred_diff0',\n",
    "          'pred_diff1',\n",
    "          'pred_diff2',\n",
    "          'pred_diff3',\n",
    "          'pred_diff4',\n",
    "          'pred_diff5',\n",
    "          'pred_diff6',\n",
    "          'pred_diff7',\n",
    "          'pred_diff8',\n",
    "          'pred_diff9',\n",
    "          'pred_diff10',\n",
    "          'max_sim',\n",
    "          'max_prob',\n",
    "          'markdown_frac',\n",
    "          'span',\n",
    "          'top2',\n",
    "          'top2_prob',\n",
    "          'top2_sim',\n",
    "          'top3',\n",
    "          'top3_prob',\n",
    "          'top3_sim',\n",
    "          'top4',\n",
    "          'top4_prob',\n",
    "          'top4_sim',\n",
    "          'top5',\n",
    "          # 'top5_prob',\n",
    "          # 'top5_sim',\n",
    "          'ctop_prob', \n",
    "          'ctop2', \n",
    "          # 'ctop3', \n",
    "          # 'ctop4', \n",
    "          'ctop2_prob', \n",
    "          # 'ctop3_prob', \n",
    "          # 'ctop4_prob',\n",
    "          # 'cls_pred_ori',\n",
    "          # 'cls2_pred_top2',\n",
    "          # 'cls2_pred_top3',\n",
    "          # 'sims',\n",
    "          # 'probs',\n",
    "          # 'cls_pred_p_prob',\n",
    "          # 'reg_pred_prob',\n",
    "        ]\n",
    "# for i in range(FLAGS.num_classes):\n",
    "#   reg_cols += [f'cls_pred{i}']\n",
    "cat_cols = [\n",
    "          \n",
    "            ]\n",
    "label_col = 'rel_rank'\n",
    "cols = reg_cols + cat_cols\n",
    "X_train = dtrain[cols]\n",
    "y_train = dtrain[label_col]\n",
    "X_valid = dvalid[cols]\n",
    "y_valid = dvalid[label_col]"
   ]
  },
  {
   "cell_type": "code",
   "execution_count": 136,
   "metadata": {},
   "outputs": [],
   "source": [
    "params = {\n",
    "          'boosting': 'gbdt',\n",
    "          'objective': 'regression_l1',\n",
    "          'metric': {'l1'},\n",
    "          'num_leaves': 8,\n",
    "          'min_data_in_leaf': 30,\n",
    "          'max_depth': 6,\n",
    "          'learning_rate': 0.01,\n",
    "          \"feature_fraction\": 0.9,\n",
    "          \"bagging_fraction\": 0.75,\n",
    "          'min_data_in_bin':15,\n",
    "          \"lambda_l1\": 5,\n",
    "          'lambda_l2': 5,\n",
    "          \"random_state\": 1024,\n",
    "          \"num_threads\": 12,\n",
    "          }"
   ]
  },
  {
   "cell_type": "code",
   "execution_count": 137,
   "metadata": {},
   "outputs": [],
   "source": [
    "# import lightgbm as lgb\n",
    "# d_train = lgb.Dataset(X_train, y_train)\n",
    "# d_valid = lgb.Dataset(X_valid, y_valid, reference=d_train)\n",
    "\n",
    "# bst = lgb.train(params,\n",
    "#                 d_train,\n",
    "#                 10000,\n",
    "#                 valid_sets=[d_train, d_valid],\n",
    "#                 verbose_eval=10,\n",
    "#                 early_stopping_rounds=100)"
   ]
  },
  {
   "cell_type": "code",
   "execution_count": 138,
   "metadata": {},
   "outputs": [],
   "source": [
    "# abs(dvalid['pred_c'] - dvalid['rel_rank']).mean()"
   ]
  },
  {
   "cell_type": "code",
   "execution_count": 139,
   "metadata": {},
   "outputs": [],
   "source": [
    "# dvalid['lgb_pred'] = bst.predict(dvalid[cols])"
   ]
  },
  {
   "cell_type": "code",
   "execution_count": 140,
   "metadata": {},
   "outputs": [],
   "source": [
    "# calc_metric({'id': dvalid.id.values, 'cell_id': dvalid.cell_id.values, 'pred': dvalid.lgb_pred.values})"
   ]
  },
  {
   "cell_type": "code",
   "execution_count": 141,
   "metadata": {},
   "outputs": [],
   "source": [
    "from catboost import CatBoostRegressor, Pool\n",
    "xgb_params = {'learning_rate': 0.02,\n",
    "              'reg_lambda': 7.960622217848342e-07, \n",
    "              'subsample': 0.7422597612762745,\n",
    "              'max_depth': 10, \n",
    "              'early_stopping_rounds': 500,\n",
    "              'n_estimators': 10000,\n",
    "              'cat_features': [],\n",
    "              'loss_function': 'MAE',\n",
    "              }\n",
    "\n",
    "xgb_params2 = {'learning_rate': 0.09827605967564293,'tree_method':'gpu_hist', 'gpu_id':0,\n",
    "               'early_stopping_rounds': 50,\n",
    "               'n_estimators': 10000, }"
   ]
  },
  {
   "cell_type": "code",
   "execution_count": 142,
   "metadata": {},
   "outputs": [
    {
     "name": "stdout",
     "output_type": "stream",
     "text": [
      "0:\tlearn: 0.2544977\ttest: 0.2544977\ttest1: 0.2544289\tbest: 0.2544289 (0)\ttotal: 53.4ms\tremaining: 8m 54s\n",
      "10:\tlearn: 0.2165309\ttest: 0.2165309\ttest1: 0.2167191\tbest: 0.2167191 (10)\ttotal: 558ms\tremaining: 8m 27s\n",
      "20:\tlearn: 0.1860034\ttest: 0.1860034\ttest1: 0.1864271\tbest: 0.1864271 (20)\ttotal: 1.03s\tremaining: 8m 9s\n",
      "30:\tlearn: 0.1614847\ttest: 0.1614847\ttest1: 0.1621053\tbest: 0.1621053 (30)\ttotal: 1.48s\tremaining: 7m 57s\n",
      "40:\tlearn: 0.1419327\ttest: 0.1419327\ttest1: 0.1427275\tbest: 0.1427275 (40)\ttotal: 1.96s\tremaining: 7m 55s\n",
      "50:\tlearn: 0.1262520\ttest: 0.1262520\ttest1: 0.1271952\tbest: 0.1271952 (50)\ttotal: 2.42s\tremaining: 7m 53s\n",
      "60:\tlearn: 0.1137402\ttest: 0.1137402\ttest1: 0.1148146\tbest: 0.1148146 (60)\ttotal: 2.9s\tremaining: 7m 52s\n",
      "70:\tlearn: 0.1037060\ttest: 0.1037060\ttest1: 0.1049168\tbest: 0.1049168 (70)\ttotal: 3.35s\tremaining: 7m 48s\n",
      "80:\tlearn: 0.0957690\ttest: 0.0957690\ttest1: 0.0971251\tbest: 0.0971251 (80)\ttotal: 3.82s\tremaining: 7m 47s\n",
      "90:\tlearn: 0.0894936\ttest: 0.0894936\ttest1: 0.0909741\tbest: 0.0909741 (90)\ttotal: 4.32s\tremaining: 7m 49s\n",
      "100:\tlearn: 0.0844877\ttest: 0.0844877\ttest1: 0.0860663\tbest: 0.0860663 (100)\ttotal: 4.8s\tremaining: 7m 50s\n",
      "110:\tlearn: 0.0805078\ttest: 0.0805078\ttest1: 0.0821557\tbest: 0.0821557 (110)\ttotal: 5.3s\tremaining: 7m 52s\n",
      "120:\tlearn: 0.0773611\ttest: 0.0773611\ttest1: 0.0790485\tbest: 0.0790485 (120)\ttotal: 5.78s\tremaining: 7m 52s\n",
      "130:\tlearn: 0.0748592\ttest: 0.0748592\ttest1: 0.0766012\tbest: 0.0766012 (130)\ttotal: 6.27s\tremaining: 7m 52s\n",
      "140:\tlearn: 0.0728981\ttest: 0.0728981\ttest1: 0.0746833\tbest: 0.0746833 (140)\ttotal: 6.75s\tremaining: 7m 51s\n",
      "150:\tlearn: 0.0713352\ttest: 0.0713352\ttest1: 0.0731619\tbest: 0.0731619 (150)\ttotal: 7.22s\tremaining: 7m 51s\n",
      "160:\tlearn: 0.0700764\ttest: 0.0700764\ttest1: 0.0719425\tbest: 0.0719425 (160)\ttotal: 7.68s\tremaining: 7m 49s\n",
      "170:\tlearn: 0.0690816\ttest: 0.0690816\ttest1: 0.0709822\tbest: 0.0709822 (170)\ttotal: 8.15s\tremaining: 7m 48s\n",
      "180:\tlearn: 0.0682854\ttest: 0.0682854\ttest1: 0.0702126\tbest: 0.0702126 (180)\ttotal: 8.63s\tremaining: 7m 48s\n",
      "190:\tlearn: 0.0676612\ttest: 0.0676612\ttest1: 0.0696146\tbest: 0.0696146 (190)\ttotal: 9.13s\tremaining: 7m 49s\n",
      "200:\tlearn: 0.0671563\ttest: 0.0671563\ttest1: 0.0691402\tbest: 0.0691402 (200)\ttotal: 9.63s\tremaining: 7m 49s\n",
      "210:\tlearn: 0.0667606\ttest: 0.0667606\ttest1: 0.0687677\tbest: 0.0687677 (210)\ttotal: 10.1s\tremaining: 7m 50s\n",
      "220:\tlearn: 0.0664386\ttest: 0.0664386\ttest1: 0.0684702\tbest: 0.0684702 (220)\ttotal: 10.6s\tremaining: 7m 49s\n",
      "230:\tlearn: 0.0661875\ttest: 0.0661875\ttest1: 0.0682365\tbest: 0.0682365 (230)\ttotal: 11.1s\tremaining: 7m 48s\n",
      "240:\tlearn: 0.0659764\ttest: 0.0659764\ttest1: 0.0680440\tbest: 0.0680440 (240)\ttotal: 11.5s\tremaining: 7m 47s\n",
      "250:\tlearn: 0.0658023\ttest: 0.0658023\ttest1: 0.0678886\tbest: 0.0678886 (250)\ttotal: 12s\tremaining: 7m 46s\n",
      "260:\tlearn: 0.0656578\ttest: 0.0656578\ttest1: 0.0677559\tbest: 0.0677559 (260)\ttotal: 12.5s\tremaining: 7m 46s\n",
      "270:\tlearn: 0.0655424\ttest: 0.0655424\ttest1: 0.0676542\tbest: 0.0676542 (270)\ttotal: 13s\tremaining: 7m 46s\n",
      "280:\tlearn: 0.0654384\ttest: 0.0654384\ttest1: 0.0675648\tbest: 0.0675648 (280)\ttotal: 13.5s\tremaining: 7m 45s\n",
      "290:\tlearn: 0.0653504\ttest: 0.0653504\ttest1: 0.0674861\tbest: 0.0674861 (290)\ttotal: 13.9s\tremaining: 7m 43s\n",
      "300:\tlearn: 0.0652624\ttest: 0.0652624\ttest1: 0.0674110\tbest: 0.0674110 (300)\ttotal: 14.4s\tremaining: 7m 42s\n",
      "310:\tlearn: 0.0651805\ttest: 0.0651805\ttest1: 0.0673428\tbest: 0.0673428 (310)\ttotal: 14.8s\tremaining: 7m 42s\n",
      "320:\tlearn: 0.0651055\ttest: 0.0651055\ttest1: 0.0672864\tbest: 0.0672864 (320)\ttotal: 15.3s\tremaining: 7m 41s\n",
      "330:\tlearn: 0.0650320\ttest: 0.0650320\ttest1: 0.0672336\tbest: 0.0672336 (330)\ttotal: 15.8s\tremaining: 7m 41s\n",
      "340:\tlearn: 0.0649618\ttest: 0.0649618\ttest1: 0.0671822\tbest: 0.0671822 (340)\ttotal: 16.3s\tremaining: 7m 41s\n",
      "350:\tlearn: 0.0649022\ttest: 0.0649022\ttest1: 0.0671366\tbest: 0.0671366 (350)\ttotal: 16.8s\tremaining: 7m 41s\n",
      "360:\tlearn: 0.0648384\ttest: 0.0648384\ttest1: 0.0670941\tbest: 0.0670941 (360)\ttotal: 17.3s\tremaining: 7m 40s\n",
      "370:\tlearn: 0.0647793\ttest: 0.0647793\ttest1: 0.0670537\tbest: 0.0670537 (370)\ttotal: 17.7s\tremaining: 7m 40s\n",
      "380:\tlearn: 0.0647162\ttest: 0.0647162\ttest1: 0.0670121\tbest: 0.0670121 (380)\ttotal: 18.2s\tremaining: 7m 39s\n",
      "390:\tlearn: 0.0646552\ttest: 0.0646552\ttest1: 0.0669755\tbest: 0.0669755 (390)\ttotal: 18.6s\tremaining: 7m 38s\n",
      "400:\tlearn: 0.0646002\ttest: 0.0646002\ttest1: 0.0669393\tbest: 0.0669393 (400)\ttotal: 19.1s\tremaining: 7m 37s\n",
      "410:\tlearn: 0.0645164\ttest: 0.0645164\ttest1: 0.0668903\tbest: 0.0668903 (410)\ttotal: 19.6s\tremaining: 7m 37s\n",
      "420:\tlearn: 0.0644550\ttest: 0.0644550\ttest1: 0.0668524\tbest: 0.0668524 (420)\ttotal: 20.1s\tremaining: 7m 36s\n",
      "430:\tlearn: 0.0643913\ttest: 0.0643913\ttest1: 0.0668153\tbest: 0.0668153 (430)\ttotal: 20.6s\tremaining: 7m 36s\n",
      "440:\tlearn: 0.0643385\ttest: 0.0643385\ttest1: 0.0667872\tbest: 0.0667872 (440)\ttotal: 21s\tremaining: 7m 36s\n",
      "450:\tlearn: 0.0642704\ttest: 0.0642704\ttest1: 0.0667458\tbest: 0.0667458 (450)\ttotal: 21.5s\tremaining: 7m 35s\n",
      "460:\tlearn: 0.0641941\ttest: 0.0641941\ttest1: 0.0666996\tbest: 0.0666996 (460)\ttotal: 22s\tremaining: 7m 34s\n",
      "470:\tlearn: 0.0641426\ttest: 0.0641426\ttest1: 0.0666683\tbest: 0.0666683 (470)\ttotal: 22.4s\tremaining: 7m 34s\n",
      "480:\tlearn: 0.0640805\ttest: 0.0640805\ttest1: 0.0666349\tbest: 0.0666349 (480)\ttotal: 22.9s\tremaining: 7m 33s\n",
      "490:\tlearn: 0.0640273\ttest: 0.0640273\ttest1: 0.0666073\tbest: 0.0666073 (490)\ttotal: 23.4s\tremaining: 7m 33s\n",
      "500:\tlearn: 0.0639720\ttest: 0.0639720\ttest1: 0.0665721\tbest: 0.0665721 (500)\ttotal: 23.9s\tremaining: 7m 32s\n",
      "510:\tlearn: 0.0639167\ttest: 0.0639167\ttest1: 0.0665377\tbest: 0.0665377 (510)\ttotal: 24.4s\tremaining: 7m 32s\n",
      "520:\tlearn: 0.0638649\ttest: 0.0638649\ttest1: 0.0665088\tbest: 0.0665088 (520)\ttotal: 24.9s\tremaining: 7m 32s\n",
      "530:\tlearn: 0.0638050\ttest: 0.0638050\ttest1: 0.0664770\tbest: 0.0664770 (530)\ttotal: 25.4s\tremaining: 7m 32s\n",
      "540:\tlearn: 0.0637385\ttest: 0.0637385\ttest1: 0.0664420\tbest: 0.0664420 (540)\ttotal: 25.8s\tremaining: 7m 31s\n",
      "550:\tlearn: 0.0636873\ttest: 0.0636873\ttest1: 0.0664173\tbest: 0.0664173 (550)\ttotal: 26.3s\tremaining: 7m 31s\n",
      "560:\tlearn: 0.0636397\ttest: 0.0636397\ttest1: 0.0663899\tbest: 0.0663899 (560)\ttotal: 26.8s\tremaining: 7m 30s\n",
      "570:\tlearn: 0.0635826\ttest: 0.0635826\ttest1: 0.0663618\tbest: 0.0663618 (570)\ttotal: 27.3s\tremaining: 7m 30s\n",
      "580:\tlearn: 0.0635140\ttest: 0.0635140\ttest1: 0.0663246\tbest: 0.0663246 (580)\ttotal: 27.8s\tremaining: 7m 30s\n",
      "590:\tlearn: 0.0634701\ttest: 0.0634701\ttest1: 0.0663027\tbest: 0.0663027 (590)\ttotal: 28.3s\tremaining: 7m 30s\n",
      "600:\tlearn: 0.0634237\ttest: 0.0634237\ttest1: 0.0662823\tbest: 0.0662823 (600)\ttotal: 28.8s\tremaining: 7m 29s\n",
      "610:\tlearn: 0.0633444\ttest: 0.0633444\ttest1: 0.0662447\tbest: 0.0662447 (610)\ttotal: 29.3s\tremaining: 7m 29s\n",
      "620:\tlearn: 0.0633104\ttest: 0.0633104\ttest1: 0.0662311\tbest: 0.0662311 (620)\ttotal: 29.7s\tremaining: 7m 29s\n",
      "630:\tlearn: 0.0632552\ttest: 0.0632552\ttest1: 0.0662074\tbest: 0.0662074 (630)\ttotal: 30.2s\tremaining: 7m 28s\n",
      "640:\tlearn: 0.0632134\ttest: 0.0632134\ttest1: 0.0661885\tbest: 0.0661885 (640)\ttotal: 30.7s\tremaining: 7m 28s\n",
      "650:\tlearn: 0.0631721\ttest: 0.0631721\ttest1: 0.0661721\tbest: 0.0661721 (650)\ttotal: 31.2s\tremaining: 7m 28s\n",
      "660:\tlearn: 0.0631100\ttest: 0.0631100\ttest1: 0.0661430\tbest: 0.0661430 (660)\ttotal: 31.7s\tremaining: 7m 27s\n",
      "670:\tlearn: 0.0630483\ttest: 0.0630483\ttest1: 0.0661132\tbest: 0.0661132 (670)\ttotal: 32.2s\tremaining: 7m 27s\n",
      "680:\tlearn: 0.0630043\ttest: 0.0630043\ttest1: 0.0660867\tbest: 0.0660867 (680)\ttotal: 32.7s\tremaining: 7m 26s\n",
      "690:\tlearn: 0.0629514\ttest: 0.0629514\ttest1: 0.0660644\tbest: 0.0660644 (690)\ttotal: 33.1s\tremaining: 7m 26s\n",
      "700:\tlearn: 0.0628943\ttest: 0.0628943\ttest1: 0.0660387\tbest: 0.0660387 (700)\ttotal: 33.6s\tremaining: 7m 26s\n",
      "710:\tlearn: 0.0628381\ttest: 0.0628381\ttest1: 0.0660125\tbest: 0.0660125 (710)\ttotal: 34.1s\tremaining: 7m 25s\n",
      "720:\tlearn: 0.0627827\ttest: 0.0627827\ttest1: 0.0659872\tbest: 0.0659872 (720)\ttotal: 34.6s\tremaining: 7m 24s\n",
      "730:\tlearn: 0.0627376\ttest: 0.0627376\ttest1: 0.0659665\tbest: 0.0659665 (730)\ttotal: 35s\tremaining: 7m 24s\n",
      "740:\tlearn: 0.0626904\ttest: 0.0626904\ttest1: 0.0659432\tbest: 0.0659432 (740)\ttotal: 35.5s\tremaining: 7m 23s\n",
      "750:\tlearn: 0.0626386\ttest: 0.0626386\ttest1: 0.0659181\tbest: 0.0659181 (750)\ttotal: 36s\tremaining: 7m 23s\n",
      "760:\tlearn: 0.0625988\ttest: 0.0625988\ttest1: 0.0659045\tbest: 0.0659045 (760)\ttotal: 36.4s\tremaining: 7m 22s\n",
      "770:\tlearn: 0.0625485\ttest: 0.0625485\ttest1: 0.0658848\tbest: 0.0658848 (770)\ttotal: 36.9s\tremaining: 7m 21s\n",
      "780:\tlearn: 0.0625097\ttest: 0.0625097\ttest1: 0.0658694\tbest: 0.0658694 (780)\ttotal: 37.4s\tremaining: 7m 21s\n",
      "790:\tlearn: 0.0624692\ttest: 0.0624692\ttest1: 0.0658526\tbest: 0.0658526 (790)\ttotal: 37.9s\tremaining: 7m 21s\n",
      "800:\tlearn: 0.0624272\ttest: 0.0624272\ttest1: 0.0658339\tbest: 0.0658339 (800)\ttotal: 38.4s\tremaining: 7m 20s\n",
      "810:\tlearn: 0.0623894\ttest: 0.0623894\ttest1: 0.0658199\tbest: 0.0658199 (810)\ttotal: 38.8s\tremaining: 7m 19s\n",
      "820:\tlearn: 0.0623449\ttest: 0.0623449\ttest1: 0.0658034\tbest: 0.0658034 (820)\ttotal: 39.3s\tremaining: 7m 19s\n",
      "830:\tlearn: 0.0623092\ttest: 0.0623092\ttest1: 0.0657861\tbest: 0.0657861 (830)\ttotal: 39.8s\tremaining: 7m 19s\n",
      "840:\tlearn: 0.0622609\ttest: 0.0622609\ttest1: 0.0657686\tbest: 0.0657686 (840)\ttotal: 40.3s\tremaining: 7m 18s\n",
      "850:\tlearn: 0.0622184\ttest: 0.0622184\ttest1: 0.0657555\tbest: 0.0657555 (850)\ttotal: 40.8s\tremaining: 7m 18s\n",
      "860:\tlearn: 0.0621694\ttest: 0.0621694\ttest1: 0.0657487\tbest: 0.0657487 (860)\ttotal: 41.3s\tremaining: 7m 17s\n",
      "870:\tlearn: 0.0621446\ttest: 0.0621446\ttest1: 0.0657401\tbest: 0.0657401 (870)\ttotal: 41.7s\tremaining: 7m 17s\n",
      "880:\tlearn: 0.0621151\ttest: 0.0621151\ttest1: 0.0657313\tbest: 0.0657313 (880)\ttotal: 42.2s\tremaining: 7m 17s\n",
      "890:\tlearn: 0.0620772\ttest: 0.0620772\ttest1: 0.0657189\tbest: 0.0657189 (890)\ttotal: 42.7s\tremaining: 7m 16s\n",
      "900:\tlearn: 0.0620327\ttest: 0.0620327\ttest1: 0.0657045\tbest: 0.0657039 (898)\ttotal: 43.2s\tremaining: 7m 16s\n",
      "910:\tlearn: 0.0619939\ttest: 0.0619939\ttest1: 0.0656921\tbest: 0.0656921 (910)\ttotal: 43.7s\tremaining: 7m 15s\n",
      "920:\tlearn: 0.0619584\ttest: 0.0619584\ttest1: 0.0656789\tbest: 0.0656789 (920)\ttotal: 44.2s\tremaining: 7m 15s\n",
      "930:\tlearn: 0.0619145\ttest: 0.0619145\ttest1: 0.0656686\tbest: 0.0656686 (930)\ttotal: 44.6s\tremaining: 7m 14s\n",
      "940:\tlearn: 0.0618821\ttest: 0.0618821\ttest1: 0.0656559\tbest: 0.0656559 (940)\ttotal: 45.1s\tremaining: 7m 14s\n",
      "950:\tlearn: 0.0618548\ttest: 0.0618548\ttest1: 0.0656483\tbest: 0.0656483 (950)\ttotal: 45.6s\tremaining: 7m 14s\n",
      "960:\tlearn: 0.0618217\ttest: 0.0618217\ttest1: 0.0656389\tbest: 0.0656389 (960)\ttotal: 46.1s\tremaining: 7m 13s\n",
      "970:\tlearn: 0.0617845\ttest: 0.0617845\ttest1: 0.0656285\tbest: 0.0656285 (970)\ttotal: 46.6s\tremaining: 7m 13s\n",
      "980:\tlearn: 0.0617525\ttest: 0.0617525\ttest1: 0.0656193\tbest: 0.0656193 (980)\ttotal: 47.1s\tremaining: 7m 12s\n",
      "990:\tlearn: 0.0617198\ttest: 0.0617198\ttest1: 0.0656099\tbest: 0.0656099 (990)\ttotal: 47.5s\tremaining: 7m 12s\n",
      "1000:\tlearn: 0.0616863\ttest: 0.0616863\ttest1: 0.0656012\tbest: 0.0656012 (1000)\ttotal: 48s\tremaining: 7m 11s\n",
      "1010:\tlearn: 0.0616493\ttest: 0.0616493\ttest1: 0.0655912\tbest: 0.0655912 (1010)\ttotal: 48.5s\tremaining: 7m 10s\n",
      "1020:\tlearn: 0.0616162\ttest: 0.0616162\ttest1: 0.0655835\tbest: 0.0655835 (1020)\ttotal: 48.9s\tremaining: 7m 10s\n",
      "1030:\tlearn: 0.0615825\ttest: 0.0615825\ttest1: 0.0655728\tbest: 0.0655728 (1030)\ttotal: 49.4s\tremaining: 7m 9s\n",
      "1040:\tlearn: 0.0615474\ttest: 0.0615474\ttest1: 0.0655626\tbest: 0.0655626 (1040)\ttotal: 49.9s\tremaining: 7m 9s\n",
      "1050:\tlearn: 0.0615136\ttest: 0.0615136\ttest1: 0.0655559\tbest: 0.0655559 (1050)\ttotal: 50.4s\tremaining: 7m 9s\n",
      "1060:\tlearn: 0.0614852\ttest: 0.0614852\ttest1: 0.0655468\tbest: 0.0655468 (1060)\ttotal: 50.9s\tremaining: 7m 8s\n",
      "1070:\tlearn: 0.0614483\ttest: 0.0614483\ttest1: 0.0655403\tbest: 0.0655390 (1069)\ttotal: 51.4s\tremaining: 7m 8s\n",
      "1080:\tlearn: 0.0614223\ttest: 0.0614223\ttest1: 0.0655325\tbest: 0.0655322 (1079)\ttotal: 51.9s\tremaining: 7m 7s\n",
      "1090:\tlearn: 0.0613998\ttest: 0.0613998\ttest1: 0.0655245\tbest: 0.0655245 (1090)\ttotal: 52.3s\tremaining: 7m 7s\n",
      "1100:\tlearn: 0.0613642\ttest: 0.0613642\ttest1: 0.0655170\tbest: 0.0655165 (1099)\ttotal: 52.8s\tremaining: 7m 6s\n",
      "1110:\tlearn: 0.0613251\ttest: 0.0613251\ttest1: 0.0655044\tbest: 0.0655040 (1109)\ttotal: 53.3s\tremaining: 7m 6s\n",
      "1120:\tlearn: 0.0612940\ttest: 0.0612940\ttest1: 0.0654965\tbest: 0.0654965 (1120)\ttotal: 53.8s\tremaining: 7m 5s\n",
      "1130:\tlearn: 0.0612632\ttest: 0.0612632\ttest1: 0.0654901\tbest: 0.0654901 (1130)\ttotal: 54.3s\tremaining: 7m 5s\n",
      "1140:\tlearn: 0.0612270\ttest: 0.0612270\ttest1: 0.0654891\tbest: 0.0654857 (1139)\ttotal: 54.7s\tremaining: 7m 5s\n",
      "1150:\tlearn: 0.0611937\ttest: 0.0611937\ttest1: 0.0654831\tbest: 0.0654831 (1150)\ttotal: 55.2s\tremaining: 7m 4s\n",
      "1160:\tlearn: 0.0611547\ttest: 0.0611547\ttest1: 0.0654746\tbest: 0.0654746 (1159)\ttotal: 55.7s\tremaining: 7m 4s\n",
      "1170:\tlearn: 0.0611225\ttest: 0.0611225\ttest1: 0.0654651\tbest: 0.0654651 (1170)\ttotal: 56.2s\tremaining: 7m 3s\n",
      "1180:\tlearn: 0.0610836\ttest: 0.0610836\ttest1: 0.0654604\tbest: 0.0654604 (1180)\ttotal: 56.7s\tremaining: 7m 3s\n",
      "1190:\tlearn: 0.0610615\ttest: 0.0610615\ttest1: 0.0654564\tbest: 0.0654564 (1190)\ttotal: 57.1s\tremaining: 7m 2s\n",
      "1200:\tlearn: 0.0610327\ttest: 0.0610327\ttest1: 0.0654526\tbest: 0.0654526 (1200)\ttotal: 57.6s\tremaining: 7m 2s\n",
      "1210:\tlearn: 0.0609956\ttest: 0.0609956\ttest1: 0.0654532\tbest: 0.0654493 (1206)\ttotal: 58.1s\tremaining: 7m 1s\n",
      "1220:\tlearn: 0.0609593\ttest: 0.0609593\ttest1: 0.0654449\tbest: 0.0654449 (1220)\ttotal: 58.6s\tremaining: 7m 1s\n",
      "1230:\tlearn: 0.0609325\ttest: 0.0609325\ttest1: 0.0654397\tbest: 0.0654397 (1230)\ttotal: 59.1s\tremaining: 7m\n",
      "1240:\tlearn: 0.0609081\ttest: 0.0609081\ttest1: 0.0654394\tbest: 0.0654381 (1239)\ttotal: 59.5s\tremaining: 7m\n",
      "1250:\tlearn: 0.0608824\ttest: 0.0608824\ttest1: 0.0654314\tbest: 0.0654314 (1250)\ttotal: 1m\tremaining: 6m 59s\n",
      "1260:\tlearn: 0.0608483\ttest: 0.0608483\ttest1: 0.0654246\tbest: 0.0654246 (1260)\ttotal: 1m\tremaining: 6m 59s\n",
      "1270:\tlearn: 0.0608175\ttest: 0.0608175\ttest1: 0.0654235\tbest: 0.0654230 (1269)\ttotal: 1m 1s\tremaining: 6m 58s\n",
      "1280:\tlearn: 0.0607880\ttest: 0.0607880\ttest1: 0.0654188\tbest: 0.0654185 (1277)\ttotal: 1m 1s\tremaining: 6m 58s\n",
      "1290:\tlearn: 0.0607583\ttest: 0.0607583\ttest1: 0.0654180\tbest: 0.0654180 (1290)\ttotal: 1m 1s\tremaining: 6m 58s\n",
      "1300:\tlearn: 0.0607329\ttest: 0.0607329\ttest1: 0.0654135\tbest: 0.0654135 (1300)\ttotal: 1m 2s\tremaining: 6m 57s\n",
      "1310:\tlearn: 0.0607130\ttest: 0.0607130\ttest1: 0.0654085\tbest: 0.0654085 (1310)\ttotal: 1m 2s\tremaining: 6m 57s\n",
      "1320:\tlearn: 0.0606900\ttest: 0.0606900\ttest1: 0.0654092\tbest: 0.0654068 (1316)\ttotal: 1m 3s\tremaining: 6m 56s\n",
      "1330:\tlearn: 0.0606510\ttest: 0.0606510\ttest1: 0.0654004\tbest: 0.0654004 (1330)\ttotal: 1m 3s\tremaining: 6m 56s\n",
      "1340:\tlearn: 0.0606205\ttest: 0.0606205\ttest1: 0.0653928\tbest: 0.0653927 (1339)\ttotal: 1m 4s\tremaining: 6m 55s\n",
      "1350:\tlearn: 0.0605965\ttest: 0.0605965\ttest1: 0.0653899\tbest: 0.0653898 (1349)\ttotal: 1m 4s\tremaining: 6m 54s\n",
      "1360:\tlearn: 0.0605689\ttest: 0.0605689\ttest1: 0.0653875\tbest: 0.0653875 (1360)\ttotal: 1m 5s\tremaining: 6m 54s\n",
      "1370:\tlearn: 0.0605409\ttest: 0.0605409\ttest1: 0.0653799\tbest: 0.0653799 (1370)\ttotal: 1m 5s\tremaining: 6m 53s\n",
      "1380:\tlearn: 0.0605202\ttest: 0.0605202\ttest1: 0.0653761\tbest: 0.0653761 (1380)\ttotal: 1m 6s\tremaining: 6m 53s\n",
      "1390:\tlearn: 0.0604875\ttest: 0.0604875\ttest1: 0.0653678\tbest: 0.0653671 (1389)\ttotal: 1m 6s\tremaining: 6m 52s\n",
      "1400:\tlearn: 0.0604666\ttest: 0.0604666\ttest1: 0.0653661\tbest: 0.0653658 (1399)\ttotal: 1m 7s\tremaining: 6m 52s\n",
      "1410:\tlearn: 0.0604580\ttest: 0.0604580\ttest1: 0.0653628\tbest: 0.0653628 (1410)\ttotal: 1m 7s\tremaining: 6m 51s\n",
      "1420:\tlearn: 0.0604298\ttest: 0.0604298\ttest1: 0.0653553\tbest: 0.0653553 (1420)\ttotal: 1m 8s\tremaining: 6m 50s\n",
      "1430:\tlearn: 0.0604063\ttest: 0.0604063\ttest1: 0.0653509\tbest: 0.0653509 (1430)\ttotal: 1m 8s\tremaining: 6m 50s\n",
      "1440:\tlearn: 0.0603867\ttest: 0.0603867\ttest1: 0.0653490\tbest: 0.0653482 (1437)\ttotal: 1m 9s\tremaining: 6m 50s\n",
      "1450:\tlearn: 0.0603518\ttest: 0.0603518\ttest1: 0.0653466\tbest: 0.0653465 (1449)\ttotal: 1m 9s\tremaining: 6m 49s\n",
      "1460:\tlearn: 0.0603305\ttest: 0.0603305\ttest1: 0.0653439\tbest: 0.0653429 (1458)\ttotal: 1m 10s\tremaining: 6m 49s\n",
      "1470:\tlearn: 0.0603094\ttest: 0.0603094\ttest1: 0.0653470\tbest: 0.0653429 (1458)\ttotal: 1m 10s\tremaining: 6m 49s\n",
      "1480:\tlearn: 0.0602879\ttest: 0.0602879\ttest1: 0.0653491\tbest: 0.0653429 (1458)\ttotal: 1m 11s\tremaining: 6m 48s\n",
      "1490:\tlearn: 0.0602641\ttest: 0.0602641\ttest1: 0.0653473\tbest: 0.0653429 (1458)\ttotal: 1m 11s\tremaining: 6m 48s\n",
      "1500:\tlearn: 0.0602390\ttest: 0.0602390\ttest1: 0.0653457\tbest: 0.0653426 (1498)\ttotal: 1m 12s\tremaining: 6m 47s\n",
      "1510:\tlearn: 0.0602199\ttest: 0.0602199\ttest1: 0.0653411\tbest: 0.0653411 (1510)\ttotal: 1m 12s\tremaining: 6m 47s\n",
      "1520:\tlearn: 0.0601889\ttest: 0.0601889\ttest1: 0.0653398\tbest: 0.0653398 (1520)\ttotal: 1m 12s\tremaining: 6m 46s\n",
      "1530:\tlearn: 0.0601702\ttest: 0.0601702\ttest1: 0.0653398\tbest: 0.0653397 (1529)\ttotal: 1m 13s\tremaining: 6m 46s\n",
      "1540:\tlearn: 0.0601432\ttest: 0.0601432\ttest1: 0.0653386\tbest: 0.0653371 (1536)\ttotal: 1m 13s\tremaining: 6m 45s\n",
      "1550:\tlearn: 0.0601135\ttest: 0.0601135\ttest1: 0.0653370\tbest: 0.0653360 (1547)\ttotal: 1m 14s\tremaining: 6m 45s\n",
      "1560:\tlearn: 0.0600871\ttest: 0.0600871\ttest1: 0.0653370\tbest: 0.0653360 (1547)\ttotal: 1m 14s\tremaining: 6m 44s\n",
      "1570:\tlearn: 0.0600633\ttest: 0.0600633\ttest1: 0.0653341\tbest: 0.0653341 (1570)\ttotal: 1m 15s\tremaining: 6m 44s\n",
      "1580:\tlearn: 0.0600406\ttest: 0.0600406\ttest1: 0.0653282\tbest: 0.0653282 (1580)\ttotal: 1m 15s\tremaining: 6m 43s\n",
      "1590:\tlearn: 0.0600108\ttest: 0.0600108\ttest1: 0.0653205\tbest: 0.0653205 (1590)\ttotal: 1m 16s\tremaining: 6m 43s\n",
      "1600:\tlearn: 0.0599894\ttest: 0.0599894\ttest1: 0.0653183\tbest: 0.0653183 (1600)\ttotal: 1m 16s\tremaining: 6m 42s\n",
      "1610:\tlearn: 0.0599633\ttest: 0.0599633\ttest1: 0.0653153\tbest: 0.0653153 (1610)\ttotal: 1m 17s\tremaining: 6m 42s\n",
      "1620:\tlearn: 0.0599339\ttest: 0.0599339\ttest1: 0.0653098\tbest: 0.0653098 (1620)\ttotal: 1m 17s\tremaining: 6m 41s\n",
      "1630:\tlearn: 0.0599142\ttest: 0.0599142\ttest1: 0.0653066\tbest: 0.0653056 (1628)\ttotal: 1m 18s\tremaining: 6m 41s\n",
      "1640:\tlearn: 0.0598885\ttest: 0.0598885\ttest1: 0.0653118\tbest: 0.0653044 (1634)\ttotal: 1m 18s\tremaining: 6m 40s\n",
      "1650:\tlearn: 0.0598624\ttest: 0.0598624\ttest1: 0.0653098\tbest: 0.0653044 (1634)\ttotal: 1m 19s\tremaining: 6m 40s\n",
      "1660:\tlearn: 0.0598407\ttest: 0.0598407\ttest1: 0.0653064\tbest: 0.0653044 (1634)\ttotal: 1m 19s\tremaining: 6m 39s\n",
      "1670:\tlearn: 0.0598169\ttest: 0.0598169\ttest1: 0.0653087\tbest: 0.0653044 (1634)\ttotal: 1m 20s\tremaining: 6m 39s\n",
      "1680:\tlearn: 0.0597881\ttest: 0.0597881\ttest1: 0.0653069\tbest: 0.0653044 (1634)\ttotal: 1m 20s\tremaining: 6m 39s\n",
      "1690:\tlearn: 0.0597609\ttest: 0.0597609\ttest1: 0.0653019\tbest: 0.0653019 (1690)\ttotal: 1m 21s\tremaining: 6m 38s\n",
      "1700:\tlearn: 0.0597450\ttest: 0.0597450\ttest1: 0.0653012\tbest: 0.0652998 (1698)\ttotal: 1m 21s\tremaining: 6m 38s\n",
      "1710:\tlearn: 0.0597226\ttest: 0.0597226\ttest1: 0.0652996\tbest: 0.0652996 (1709)\ttotal: 1m 22s\tremaining: 6m 37s\n",
      "1720:\tlearn: 0.0597016\ttest: 0.0597016\ttest1: 0.0653003\tbest: 0.0652995 (1713)\ttotal: 1m 22s\tremaining: 6m 37s\n",
      "1730:\tlearn: 0.0596716\ttest: 0.0596716\ttest1: 0.0652976\tbest: 0.0652976 (1730)\ttotal: 1m 23s\tremaining: 6m 36s\n",
      "1740:\tlearn: 0.0596484\ttest: 0.0596484\ttest1: 0.0652993\tbest: 0.0652962 (1733)\ttotal: 1m 23s\tremaining: 6m 36s\n",
      "1750:\tlearn: 0.0596281\ttest: 0.0596281\ttest1: 0.0652979\tbest: 0.0652962 (1733)\ttotal: 1m 24s\tremaining: 6m 35s\n",
      "1760:\tlearn: 0.0596019\ttest: 0.0596019\ttest1: 0.0652997\tbest: 0.0652962 (1733)\ttotal: 1m 24s\tremaining: 6m 35s\n",
      "1770:\tlearn: 0.0595823\ttest: 0.0595823\ttest1: 0.0652968\tbest: 0.0652962 (1733)\ttotal: 1m 25s\tremaining: 6m 34s\n",
      "1780:\tlearn: 0.0595579\ttest: 0.0595579\ttest1: 0.0652940\tbest: 0.0652931 (1777)\ttotal: 1m 25s\tremaining: 6m 34s\n",
      "1790:\tlearn: 0.0595320\ttest: 0.0595320\ttest1: 0.0652938\tbest: 0.0652927 (1782)\ttotal: 1m 25s\tremaining: 6m 33s\n",
      "1800:\tlearn: 0.0595102\ttest: 0.0595102\ttest1: 0.0652908\tbest: 0.0652908 (1800)\ttotal: 1m 26s\tremaining: 6m 33s\n",
      "1810:\tlearn: 0.0594896\ttest: 0.0594896\ttest1: 0.0652871\tbest: 0.0652868 (1809)\ttotal: 1m 26s\tremaining: 6m 32s\n",
      "1820:\tlearn: 0.0594693\ttest: 0.0594693\ttest1: 0.0652943\tbest: 0.0652851 (1817)\ttotal: 1m 27s\tremaining: 6m 32s\n",
      "1830:\tlearn: 0.0594504\ttest: 0.0594504\ttest1: 0.0652930\tbest: 0.0652851 (1817)\ttotal: 1m 27s\tremaining: 6m 31s\n",
      "1840:\tlearn: 0.0594214\ttest: 0.0594214\ttest1: 0.0652908\tbest: 0.0652851 (1817)\ttotal: 1m 28s\tremaining: 6m 31s\n",
      "1850:\tlearn: 0.0594019\ttest: 0.0594019\ttest1: 0.0652906\tbest: 0.0652851 (1817)\ttotal: 1m 28s\tremaining: 6m 30s\n",
      "1860:\tlearn: 0.0593806\ttest: 0.0593806\ttest1: 0.0652952\tbest: 0.0652851 (1817)\ttotal: 1m 29s\tremaining: 6m 30s\n",
      "1870:\tlearn: 0.0593624\ttest: 0.0593624\ttest1: 0.0652961\tbest: 0.0652851 (1817)\ttotal: 1m 29s\tremaining: 6m 29s\n",
      "1880:\tlearn: 0.0593451\ttest: 0.0593451\ttest1: 0.0652949\tbest: 0.0652851 (1817)\ttotal: 1m 30s\tremaining: 6m 29s\n",
      "1890:\tlearn: 0.0593265\ttest: 0.0593265\ttest1: 0.0652984\tbest: 0.0652851 (1817)\ttotal: 1m 30s\tremaining: 6m 28s\n",
      "1900:\tlearn: 0.0593044\ttest: 0.0593044\ttest1: 0.0652977\tbest: 0.0652851 (1817)\ttotal: 1m 31s\tremaining: 6m 27s\n",
      "1910:\tlearn: 0.0592793\ttest: 0.0592793\ttest1: 0.0652962\tbest: 0.0652851 (1817)\ttotal: 1m 31s\tremaining: 6m 27s\n",
      "1920:\tlearn: 0.0592621\ttest: 0.0592621\ttest1: 0.0652956\tbest: 0.0652851 (1817)\ttotal: 1m 32s\tremaining: 6m 26s\n",
      "1930:\tlearn: 0.0592432\ttest: 0.0592432\ttest1: 0.0652929\tbest: 0.0652851 (1817)\ttotal: 1m 32s\tremaining: 6m 26s\n",
      "1940:\tlearn: 0.0592251\ttest: 0.0592251\ttest1: 0.0652931\tbest: 0.0652851 (1817)\ttotal: 1m 32s\tremaining: 6m 26s\n",
      "1950:\tlearn: 0.0592033\ttest: 0.0592033\ttest1: 0.0652945\tbest: 0.0652851 (1817)\ttotal: 1m 33s\tremaining: 6m 25s\n",
      "1960:\tlearn: 0.0591815\ttest: 0.0591815\ttest1: 0.0652946\tbest: 0.0652851 (1817)\ttotal: 1m 33s\tremaining: 6m 25s\n",
      "1970:\tlearn: 0.0591582\ttest: 0.0591582\ttest1: 0.0652938\tbest: 0.0652851 (1817)\ttotal: 1m 34s\tremaining: 6m 24s\n",
      "1980:\tlearn: 0.0591304\ttest: 0.0591304\ttest1: 0.0652913\tbest: 0.0652851 (1817)\ttotal: 1m 34s\tremaining: 6m 23s\n",
      "1990:\tlearn: 0.0590983\ttest: 0.0590983\ttest1: 0.0652890\tbest: 0.0652851 (1817)\ttotal: 1m 35s\tremaining: 6m 23s\n",
      "2000:\tlearn: 0.0590732\ttest: 0.0590732\ttest1: 0.0652892\tbest: 0.0652851 (1817)\ttotal: 1m 35s\tremaining: 6m 22s\n",
      "2010:\tlearn: 0.0590543\ttest: 0.0590543\ttest1: 0.0652905\tbest: 0.0652851 (1817)\ttotal: 1m 36s\tremaining: 6m 22s\n",
      "2020:\tlearn: 0.0590350\ttest: 0.0590350\ttest1: 0.0652894\tbest: 0.0652851 (1817)\ttotal: 1m 36s\tremaining: 6m 21s\n",
      "2030:\tlearn: 0.0590162\ttest: 0.0590162\ttest1: 0.0652897\tbest: 0.0652851 (1817)\ttotal: 1m 37s\tremaining: 6m 21s\n",
      "2040:\tlearn: 0.0589927\ttest: 0.0589927\ttest1: 0.0652907\tbest: 0.0652851 (1817)\ttotal: 1m 37s\tremaining: 6m 20s\n",
      "2050:\tlearn: 0.0589692\ttest: 0.0589692\ttest1: 0.0652891\tbest: 0.0652851 (1817)\ttotal: 1m 38s\tremaining: 6m 20s\n",
      "2060:\tlearn: 0.0589479\ttest: 0.0589479\ttest1: 0.0652879\tbest: 0.0652851 (1817)\ttotal: 1m 38s\tremaining: 6m 19s\n",
      "2070:\tlearn: 0.0589310\ttest: 0.0589310\ttest1: 0.0652856\tbest: 0.0652851 (1817)\ttotal: 1m 39s\tremaining: 6m 19s\n",
      "2080:\tlearn: 0.0589149\ttest: 0.0589149\ttest1: 0.0652858\tbest: 0.0652851 (1817)\ttotal: 1m 39s\tremaining: 6m 18s\n",
      "2090:\tlearn: 0.0588917\ttest: 0.0588917\ttest1: 0.0652811\tbest: 0.0652809 (2089)\ttotal: 1m 39s\tremaining: 6m 18s\n",
      "2100:\tlearn: 0.0588681\ttest: 0.0588681\ttest1: 0.0652794\tbest: 0.0652782 (2098)\ttotal: 1m 40s\tremaining: 6m 17s\n",
      "2110:\tlearn: 0.0588436\ttest: 0.0588436\ttest1: 0.0652785\tbest: 0.0652773 (2108)\ttotal: 1m 40s\tremaining: 6m 17s\n",
      "2120:\tlearn: 0.0588264\ttest: 0.0588264\ttest1: 0.0652786\tbest: 0.0652770 (2116)\ttotal: 1m 41s\tremaining: 6m 16s\n",
      "2130:\tlearn: 0.0588001\ttest: 0.0588001\ttest1: 0.0652845\tbest: 0.0652770 (2116)\ttotal: 1m 41s\tremaining: 6m 15s\n",
      "2140:\tlearn: 0.0587815\ttest: 0.0587815\ttest1: 0.0652841\tbest: 0.0652770 (2116)\ttotal: 1m 42s\tremaining: 6m 15s\n",
      "2150:\tlearn: 0.0587573\ttest: 0.0587573\ttest1: 0.0652850\tbest: 0.0652770 (2116)\ttotal: 1m 42s\tremaining: 6m 14s\n",
      "2160:\tlearn: 0.0587357\ttest: 0.0587357\ttest1: 0.0653046\tbest: 0.0652770 (2116)\ttotal: 1m 43s\tremaining: 6m 14s\n",
      "2170:\tlearn: 0.0587198\ttest: 0.0587198\ttest1: 0.0653050\tbest: 0.0652770 (2116)\ttotal: 1m 43s\tremaining: 6m 13s\n",
      "2180:\tlearn: 0.0587024\ttest: 0.0587024\ttest1: 0.0653072\tbest: 0.0652770 (2116)\ttotal: 1m 44s\tremaining: 6m 13s\n",
      "2190:\tlearn: 0.0586818\ttest: 0.0586818\ttest1: 0.0653048\tbest: 0.0652770 (2116)\ttotal: 1m 44s\tremaining: 6m 12s\n",
      "2200:\tlearn: 0.0586727\ttest: 0.0586727\ttest1: 0.0653049\tbest: 0.0652770 (2116)\ttotal: 1m 45s\tremaining: 6m 12s\n",
      "2210:\tlearn: 0.0586580\ttest: 0.0586580\ttest1: 0.0653043\tbest: 0.0652770 (2116)\ttotal: 1m 45s\tremaining: 6m 11s\n",
      "2220:\tlearn: 0.0586389\ttest: 0.0586389\ttest1: 0.0653026\tbest: 0.0652770 (2116)\ttotal: 1m 45s\tremaining: 6m 11s\n",
      "2230:\tlearn: 0.0586149\ttest: 0.0586149\ttest1: 0.0652997\tbest: 0.0652770 (2116)\ttotal: 1m 46s\tremaining: 6m 10s\n",
      "2240:\tlearn: 0.0585971\ttest: 0.0585971\ttest1: 0.0653010\tbest: 0.0652770 (2116)\ttotal: 1m 46s\tremaining: 6m 9s\n",
      "2250:\tlearn: 0.0585770\ttest: 0.0585770\ttest1: 0.0652974\tbest: 0.0652770 (2116)\ttotal: 1m 47s\tremaining: 6m 9s\n",
      "2260:\tlearn: 0.0585531\ttest: 0.0585531\ttest1: 0.0652974\tbest: 0.0652770 (2116)\ttotal: 1m 47s\tremaining: 6m 8s\n",
      "2270:\tlearn: 0.0585342\ttest: 0.0585342\ttest1: 0.0653003\tbest: 0.0652770 (2116)\ttotal: 1m 48s\tremaining: 6m 8s\n",
      "2280:\tlearn: 0.0585146\ttest: 0.0585146\ttest1: 0.0653038\tbest: 0.0652770 (2116)\ttotal: 1m 48s\tremaining: 6m 7s\n",
      "2290:\tlearn: 0.0584942\ttest: 0.0584942\ttest1: 0.0653090\tbest: 0.0652770 (2116)\ttotal: 1m 49s\tremaining: 6m 7s\n",
      "2300:\tlearn: 0.0584803\ttest: 0.0584803\ttest1: 0.0653090\tbest: 0.0652770 (2116)\ttotal: 1m 49s\tremaining: 6m 6s\n",
      "2310:\tlearn: 0.0584587\ttest: 0.0584587\ttest1: 0.0653102\tbest: 0.0652770 (2116)\ttotal: 1m 50s\tremaining: 6m 6s\n",
      "2320:\tlearn: 0.0584448\ttest: 0.0584448\ttest1: 0.0653110\tbest: 0.0652770 (2116)\ttotal: 1m 50s\tremaining: 6m 5s\n",
      "2330:\tlearn: 0.0584319\ttest: 0.0584319\ttest1: 0.0653098\tbest: 0.0652770 (2116)\ttotal: 1m 50s\tremaining: 6m 5s\n",
      "2340:\tlearn: 0.0584148\ttest: 0.0584148\ttest1: 0.0653191\tbest: 0.0652770 (2116)\ttotal: 1m 51s\tremaining: 6m 4s\n",
      "2350:\tlearn: 0.0583911\ttest: 0.0583911\ttest1: 0.0653171\tbest: 0.0652770 (2116)\ttotal: 1m 51s\tremaining: 6m 3s\n",
      "2360:\tlearn: 0.0583714\ttest: 0.0583714\ttest1: 0.0653134\tbest: 0.0652770 (2116)\ttotal: 1m 52s\tremaining: 6m 3s\n",
      "2370:\tlearn: 0.0583540\ttest: 0.0583540\ttest1: 0.0653115\tbest: 0.0652770 (2116)\ttotal: 1m 52s\tremaining: 6m 2s\n",
      "2380:\tlearn: 0.0583305\ttest: 0.0583305\ttest1: 0.0653126\tbest: 0.0652770 (2116)\ttotal: 1m 53s\tremaining: 6m 2s\n",
      "2390:\tlearn: 0.0583132\ttest: 0.0583132\ttest1: 0.0653172\tbest: 0.0652770 (2116)\ttotal: 1m 53s\tremaining: 6m 1s\n",
      "2400:\tlearn: 0.0583001\ttest: 0.0583001\ttest1: 0.0653244\tbest: 0.0652770 (2116)\ttotal: 1m 54s\tremaining: 6m 1s\n",
      "2410:\tlearn: 0.0582835\ttest: 0.0582835\ttest1: 0.0653244\tbest: 0.0652770 (2116)\ttotal: 1m 54s\tremaining: 6m\n",
      "2420:\tlearn: 0.0582617\ttest: 0.0582617\ttest1: 0.0653202\tbest: 0.0652770 (2116)\ttotal: 1m 55s\tremaining: 6m\n",
      "2430:\tlearn: 0.0582468\ttest: 0.0582468\ttest1: 0.0653211\tbest: 0.0652770 (2116)\ttotal: 1m 55s\tremaining: 5m 59s\n",
      "2440:\tlearn: 0.0582333\ttest: 0.0582333\ttest1: 0.0653301\tbest: 0.0652770 (2116)\ttotal: 1m 55s\tremaining: 5m 58s\n",
      "2450:\tlearn: 0.0582086\ttest: 0.0582086\ttest1: 0.0653325\tbest: 0.0652770 (2116)\ttotal: 1m 56s\tremaining: 5m 58s\n",
      "2460:\tlearn: 0.0581861\ttest: 0.0581861\ttest1: 0.0653322\tbest: 0.0652770 (2116)\ttotal: 1m 56s\tremaining: 5m 57s\n",
      "2470:\tlearn: 0.0581719\ttest: 0.0581719\ttest1: 0.0653314\tbest: 0.0652770 (2116)\ttotal: 1m 57s\tremaining: 5m 57s\n",
      "2480:\tlearn: 0.0581575\ttest: 0.0581575\ttest1: 0.0653345\tbest: 0.0652770 (2116)\ttotal: 1m 57s\tremaining: 5m 56s\n",
      "2490:\tlearn: 0.0581402\ttest: 0.0581402\ttest1: 0.0653343\tbest: 0.0652770 (2116)\ttotal: 1m 58s\tremaining: 5m 56s\n",
      "2500:\tlearn: 0.0581273\ttest: 0.0581273\ttest1: 0.0653317\tbest: 0.0652770 (2116)\ttotal: 1m 58s\tremaining: 5m 55s\n",
      "2510:\tlearn: 0.0581112\ttest: 0.0581112\ttest1: 0.0653303\tbest: 0.0652770 (2116)\ttotal: 1m 59s\tremaining: 5m 55s\n",
      "2520:\tlearn: 0.0580990\ttest: 0.0580990\ttest1: 0.0653295\tbest: 0.0652770 (2116)\ttotal: 1m 59s\tremaining: 5m 54s\n",
      "2530:\tlearn: 0.0580841\ttest: 0.0580841\ttest1: 0.0653298\tbest: 0.0652770 (2116)\ttotal: 2m\tremaining: 5m 54s\n",
      "2540:\tlearn: 0.0580670\ttest: 0.0580670\ttest1: 0.0653321\tbest: 0.0652770 (2116)\ttotal: 2m\tremaining: 5m 53s\n",
      "2550:\tlearn: 0.0580487\ttest: 0.0580487\ttest1: 0.0653309\tbest: 0.0652770 (2116)\ttotal: 2m\tremaining: 5m 53s\n",
      "2560:\tlearn: 0.0580336\ttest: 0.0580336\ttest1: 0.0653314\tbest: 0.0652770 (2116)\ttotal: 2m 1s\tremaining: 5m 52s\n",
      "2570:\tlearn: 0.0580086\ttest: 0.0580086\ttest1: 0.0653313\tbest: 0.0652770 (2116)\ttotal: 2m 1s\tremaining: 5m 52s\n",
      "2580:\tlearn: 0.0579918\ttest: 0.0579918\ttest1: 0.0653328\tbest: 0.0652770 (2116)\ttotal: 2m 2s\tremaining: 5m 51s\n",
      "2590:\tlearn: 0.0579773\ttest: 0.0579773\ttest1: 0.0653342\tbest: 0.0652770 (2116)\ttotal: 2m 2s\tremaining: 5m 51s\n",
      "2600:\tlearn: 0.0579654\ttest: 0.0579654\ttest1: 0.0653370\tbest: 0.0652770 (2116)\ttotal: 2m 3s\tremaining: 5m 50s\n",
      "2610:\tlearn: 0.0579480\ttest: 0.0579480\ttest1: 0.0653397\tbest: 0.0652770 (2116)\ttotal: 2m 3s\tremaining: 5m 50s\n",
      "Stopped by overfitting detector  (500 iterations wait)\n",
      "\n",
      "bestTest = 0.06527702908\n",
      "bestIteration = 2116\n",
      "\n",
      "Shrink model to first 2117 iterations.\n"
     ]
    },
    {
     "data": {
      "text/plain": [
       "<catboost.core.CatBoostRegressor at 0x7efc7264b910>"
      ]
     },
     "execution_count": 142,
     "metadata": {},
     "output_type": "execute_result"
    }
   ],
   "source": [
    "model = CatBoostRegressor(**xgb_params)\n",
    "model.fit(X_train, y_train,\n",
    "        eval_set=[(X_train, y_train), (X_valid, y_valid)],\n",
    "                verbose=10,\n",
    "                )  "
   ]
  },
  {
   "cell_type": "code",
   "execution_count": 143,
   "metadata": {},
   "outputs": [],
   "source": [
    "# model = CatBoostRegressor()\n",
    "# model.load_model('../working/cbt/cbt.bin')"
   ]
  },
  {
   "cell_type": "code",
   "execution_count": 144,
   "metadata": {},
   "outputs": [],
   "source": [
    "dvalid['cb_pred'] = model.predict(dvalid[cols])"
   ]
  },
  {
   "cell_type": "code",
   "execution_count": 145,
   "metadata": {},
   "outputs": [
    {
     "name": "stderr",
     "output_type": "stream",
     "text": [
      "[07/18/22 11:10:38] 599230365.py:4 in <module>\n",
      "                    score: 0.9062897096385878\n",
      "[07/18/22 11:10:38] 599230365.py:5 in <module>\n",
      "                    abs(x['pred'] - dvalid['rel_rank']).mean(): 0.0666019292599528\n"
     ]
    },
    {
     "data": {
      "text/plain": [
       "0.0666019292599528"
      ]
     },
     "execution_count": 145,
     "metadata": {},
     "output_type": "execute_result"
    }
   ],
   "source": [
    "x = {'id': dvalid.id.values, 'cell_id': dvalid.cell_id.values}\n",
    "x['pred'] = [merge(x, y, prob) for x, y, prob in zip(dvalid.pred_p.values, dvalid.pred_c.values, dvalid.max_prob.values)]\n",
    "score = calc_metric(x, 'pred', df_gt)\n",
    "ic(score)\n",
    "ic(abs(x['pred'] - dvalid['rel_rank']).mean())"
   ]
  },
  {
   "cell_type": "code",
   "execution_count": 146,
   "metadata": {},
   "outputs": [
    {
     "name": "stderr",
     "output_type": "stream",
     "text": [
      "[07/18/22 11:10:45] 2876217204.py:1 in <module>\n",
      "                    calc_metric({'id': dvalid.id.values, 'cell_id': dvalid.cell_id.values, 'pred': dvalid.cb_pred.values}): 0.9083603315872429\n"
     ]
    },
    {
     "data": {
      "text/plain": [
       "0.9083603315872429"
      ]
     },
     "execution_count": 146,
     "metadata": {},
     "output_type": "execute_result"
    }
   ],
   "source": [
    "ic(calc_metric({'id': dvalid.id.values, 'cell_id': dvalid.cell_id.values, 'pred': dvalid.cb_pred.values}))"
   ]
  },
  {
   "cell_type": "code",
   "execution_count": 147,
   "metadata": {},
   "outputs": [],
   "source": [
    "model.save_model('../working/cbt.bin')"
   ]
  },
  {
   "cell_type": "code",
   "execution_count": 148,
   "metadata": {},
   "outputs": [
    {
     "data": {
      "application/vnd.plotly.v1+json": {
       "config": {
        "plotlyServerURL": "https://plot.ly"
       },
       "data": [
        {
         "alignmentgroup": "True",
         "hovertemplate": "importance=%{x}<br>feat_name=%{y}<extra></extra>",
         "legendgroup": "",
         "marker": {
          "color": "#636efa",
          "pattern": {
           "shape": ""
          }
         },
         "name": "",
         "offsetgroup": "",
         "orientation": "h",
         "showlegend": false,
         "textposition": "auto",
         "type": "bar",
         "x": [
          1.2239336452367076,
          1.2290289648910182,
          1.2430885359705732,
          1.2842212386688807,
          1.324814159845354,
          1.344202155405993,
          1.6174457869884453,
          1.712916280803579,
          1.8763241732344842,
          1.878678600367138,
          2.809622073674971,
          4.199418118468374,
          4.7248968666374385,
          4.852263641664656,
          4.984470416953341,
          5.162289701098649,
          5.97760651662735,
          8.950130566378599,
          10.989526513774528,
          17.563205052386163
         ],
         "xaxis": "x",
         "y": [
          "max_sim",
          "pred_diff7",
          "top3_prob",
          "pred_diff6",
          "pred_diff3",
          "pred_diff8",
          "pred_diff2",
          "top2_prob",
          "top3",
          "top4_prob",
          "max_prob",
          "reg_pred",
          "pred_c",
          "cls2_pred",
          "ctop2",
          "pred_p",
          "top2",
          "cls_pred_c",
          "rule_pred",
          "cls_pred_p"
         ],
         "yaxis": "y"
        }
       ],
       "layout": {
        "barmode": "relative",
        "legend": {
         "tracegroupgap": 0
        },
        "margin": {
         "t": 60
        },
        "template": {
         "data": {
          "bar": [
           {
            "error_x": {
             "color": "#2a3f5f"
            },
            "error_y": {
             "color": "#2a3f5f"
            },
            "marker": {
             "line": {
              "color": "#E5ECF6",
              "width": 0.5
             },
             "pattern": {
              "fillmode": "overlay",
              "size": 10,
              "solidity": 0.2
             }
            },
            "type": "bar"
           }
          ],
          "barpolar": [
           {
            "marker": {
             "line": {
              "color": "#E5ECF6",
              "width": 0.5
             },
             "pattern": {
              "fillmode": "overlay",
              "size": 10,
              "solidity": 0.2
             }
            },
            "type": "barpolar"
           }
          ],
          "carpet": [
           {
            "aaxis": {
             "endlinecolor": "#2a3f5f",
             "gridcolor": "white",
             "linecolor": "white",
             "minorgridcolor": "white",
             "startlinecolor": "#2a3f5f"
            },
            "baxis": {
             "endlinecolor": "#2a3f5f",
             "gridcolor": "white",
             "linecolor": "white",
             "minorgridcolor": "white",
             "startlinecolor": "#2a3f5f"
            },
            "type": "carpet"
           }
          ],
          "choropleth": [
           {
            "colorbar": {
             "outlinewidth": 0,
             "ticks": ""
            },
            "type": "choropleth"
           }
          ],
          "contour": [
           {
            "colorbar": {
             "outlinewidth": 0,
             "ticks": ""
            },
            "colorscale": [
             [
              0,
              "#0d0887"
             ],
             [
              0.1111111111111111,
              "#46039f"
             ],
             [
              0.2222222222222222,
              "#7201a8"
             ],
             [
              0.3333333333333333,
              "#9c179e"
             ],
             [
              0.4444444444444444,
              "#bd3786"
             ],
             [
              0.5555555555555556,
              "#d8576b"
             ],
             [
              0.6666666666666666,
              "#ed7953"
             ],
             [
              0.7777777777777778,
              "#fb9f3a"
             ],
             [
              0.8888888888888888,
              "#fdca26"
             ],
             [
              1,
              "#f0f921"
             ]
            ],
            "type": "contour"
           }
          ],
          "contourcarpet": [
           {
            "colorbar": {
             "outlinewidth": 0,
             "ticks": ""
            },
            "type": "contourcarpet"
           }
          ],
          "heatmap": [
           {
            "colorbar": {
             "outlinewidth": 0,
             "ticks": ""
            },
            "colorscale": [
             [
              0,
              "#0d0887"
             ],
             [
              0.1111111111111111,
              "#46039f"
             ],
             [
              0.2222222222222222,
              "#7201a8"
             ],
             [
              0.3333333333333333,
              "#9c179e"
             ],
             [
              0.4444444444444444,
              "#bd3786"
             ],
             [
              0.5555555555555556,
              "#d8576b"
             ],
             [
              0.6666666666666666,
              "#ed7953"
             ],
             [
              0.7777777777777778,
              "#fb9f3a"
             ],
             [
              0.8888888888888888,
              "#fdca26"
             ],
             [
              1,
              "#f0f921"
             ]
            ],
            "type": "heatmap"
           }
          ],
          "heatmapgl": [
           {
            "colorbar": {
             "outlinewidth": 0,
             "ticks": ""
            },
            "colorscale": [
             [
              0,
              "#0d0887"
             ],
             [
              0.1111111111111111,
              "#46039f"
             ],
             [
              0.2222222222222222,
              "#7201a8"
             ],
             [
              0.3333333333333333,
              "#9c179e"
             ],
             [
              0.4444444444444444,
              "#bd3786"
             ],
             [
              0.5555555555555556,
              "#d8576b"
             ],
             [
              0.6666666666666666,
              "#ed7953"
             ],
             [
              0.7777777777777778,
              "#fb9f3a"
             ],
             [
              0.8888888888888888,
              "#fdca26"
             ],
             [
              1,
              "#f0f921"
             ]
            ],
            "type": "heatmapgl"
           }
          ],
          "histogram": [
           {
            "marker": {
             "pattern": {
              "fillmode": "overlay",
              "size": 10,
              "solidity": 0.2
             }
            },
            "type": "histogram"
           }
          ],
          "histogram2d": [
           {
            "colorbar": {
             "outlinewidth": 0,
             "ticks": ""
            },
            "colorscale": [
             [
              0,
              "#0d0887"
             ],
             [
              0.1111111111111111,
              "#46039f"
             ],
             [
              0.2222222222222222,
              "#7201a8"
             ],
             [
              0.3333333333333333,
              "#9c179e"
             ],
             [
              0.4444444444444444,
              "#bd3786"
             ],
             [
              0.5555555555555556,
              "#d8576b"
             ],
             [
              0.6666666666666666,
              "#ed7953"
             ],
             [
              0.7777777777777778,
              "#fb9f3a"
             ],
             [
              0.8888888888888888,
              "#fdca26"
             ],
             [
              1,
              "#f0f921"
             ]
            ],
            "type": "histogram2d"
           }
          ],
          "histogram2dcontour": [
           {
            "colorbar": {
             "outlinewidth": 0,
             "ticks": ""
            },
            "colorscale": [
             [
              0,
              "#0d0887"
             ],
             [
              0.1111111111111111,
              "#46039f"
             ],
             [
              0.2222222222222222,
              "#7201a8"
             ],
             [
              0.3333333333333333,
              "#9c179e"
             ],
             [
              0.4444444444444444,
              "#bd3786"
             ],
             [
              0.5555555555555556,
              "#d8576b"
             ],
             [
              0.6666666666666666,
              "#ed7953"
             ],
             [
              0.7777777777777778,
              "#fb9f3a"
             ],
             [
              0.8888888888888888,
              "#fdca26"
             ],
             [
              1,
              "#f0f921"
             ]
            ],
            "type": "histogram2dcontour"
           }
          ],
          "mesh3d": [
           {
            "colorbar": {
             "outlinewidth": 0,
             "ticks": ""
            },
            "type": "mesh3d"
           }
          ],
          "parcoords": [
           {
            "line": {
             "colorbar": {
              "outlinewidth": 0,
              "ticks": ""
             }
            },
            "type": "parcoords"
           }
          ],
          "pie": [
           {
            "automargin": true,
            "type": "pie"
           }
          ],
          "scatter": [
           {
            "marker": {
             "colorbar": {
              "outlinewidth": 0,
              "ticks": ""
             }
            },
            "type": "scatter"
           }
          ],
          "scatter3d": [
           {
            "line": {
             "colorbar": {
              "outlinewidth": 0,
              "ticks": ""
             }
            },
            "marker": {
             "colorbar": {
              "outlinewidth": 0,
              "ticks": ""
             }
            },
            "type": "scatter3d"
           }
          ],
          "scattercarpet": [
           {
            "marker": {
             "colorbar": {
              "outlinewidth": 0,
              "ticks": ""
             }
            },
            "type": "scattercarpet"
           }
          ],
          "scattergeo": [
           {
            "marker": {
             "colorbar": {
              "outlinewidth": 0,
              "ticks": ""
             }
            },
            "type": "scattergeo"
           }
          ],
          "scattergl": [
           {
            "marker": {
             "colorbar": {
              "outlinewidth": 0,
              "ticks": ""
             }
            },
            "type": "scattergl"
           }
          ],
          "scattermapbox": [
           {
            "marker": {
             "colorbar": {
              "outlinewidth": 0,
              "ticks": ""
             }
            },
            "type": "scattermapbox"
           }
          ],
          "scatterpolar": [
           {
            "marker": {
             "colorbar": {
              "outlinewidth": 0,
              "ticks": ""
             }
            },
            "type": "scatterpolar"
           }
          ],
          "scatterpolargl": [
           {
            "marker": {
             "colorbar": {
              "outlinewidth": 0,
              "ticks": ""
             }
            },
            "type": "scatterpolargl"
           }
          ],
          "scatterternary": [
           {
            "marker": {
             "colorbar": {
              "outlinewidth": 0,
              "ticks": ""
             }
            },
            "type": "scatterternary"
           }
          ],
          "surface": [
           {
            "colorbar": {
             "outlinewidth": 0,
             "ticks": ""
            },
            "colorscale": [
             [
              0,
              "#0d0887"
             ],
             [
              0.1111111111111111,
              "#46039f"
             ],
             [
              0.2222222222222222,
              "#7201a8"
             ],
             [
              0.3333333333333333,
              "#9c179e"
             ],
             [
              0.4444444444444444,
              "#bd3786"
             ],
             [
              0.5555555555555556,
              "#d8576b"
             ],
             [
              0.6666666666666666,
              "#ed7953"
             ],
             [
              0.7777777777777778,
              "#fb9f3a"
             ],
             [
              0.8888888888888888,
              "#fdca26"
             ],
             [
              1,
              "#f0f921"
             ]
            ],
            "type": "surface"
           }
          ],
          "table": [
           {
            "cells": {
             "fill": {
              "color": "#EBF0F8"
             },
             "line": {
              "color": "white"
             }
            },
            "header": {
             "fill": {
              "color": "#C8D4E3"
             },
             "line": {
              "color": "white"
             }
            },
            "type": "table"
           }
          ]
         },
         "layout": {
          "annotationdefaults": {
           "arrowcolor": "#2a3f5f",
           "arrowhead": 0,
           "arrowwidth": 1
          },
          "autotypenumbers": "strict",
          "coloraxis": {
           "colorbar": {
            "outlinewidth": 0,
            "ticks": ""
           }
          },
          "colorscale": {
           "diverging": [
            [
             0,
             "#8e0152"
            ],
            [
             0.1,
             "#c51b7d"
            ],
            [
             0.2,
             "#de77ae"
            ],
            [
             0.3,
             "#f1b6da"
            ],
            [
             0.4,
             "#fde0ef"
            ],
            [
             0.5,
             "#f7f7f7"
            ],
            [
             0.6,
             "#e6f5d0"
            ],
            [
             0.7,
             "#b8e186"
            ],
            [
             0.8,
             "#7fbc41"
            ],
            [
             0.9,
             "#4d9221"
            ],
            [
             1,
             "#276419"
            ]
           ],
           "sequential": [
            [
             0,
             "#0d0887"
            ],
            [
             0.1111111111111111,
             "#46039f"
            ],
            [
             0.2222222222222222,
             "#7201a8"
            ],
            [
             0.3333333333333333,
             "#9c179e"
            ],
            [
             0.4444444444444444,
             "#bd3786"
            ],
            [
             0.5555555555555556,
             "#d8576b"
            ],
            [
             0.6666666666666666,
             "#ed7953"
            ],
            [
             0.7777777777777778,
             "#fb9f3a"
            ],
            [
             0.8888888888888888,
             "#fdca26"
            ],
            [
             1,
             "#f0f921"
            ]
           ],
           "sequentialminus": [
            [
             0,
             "#0d0887"
            ],
            [
             0.1111111111111111,
             "#46039f"
            ],
            [
             0.2222222222222222,
             "#7201a8"
            ],
            [
             0.3333333333333333,
             "#9c179e"
            ],
            [
             0.4444444444444444,
             "#bd3786"
            ],
            [
             0.5555555555555556,
             "#d8576b"
            ],
            [
             0.6666666666666666,
             "#ed7953"
            ],
            [
             0.7777777777777778,
             "#fb9f3a"
            ],
            [
             0.8888888888888888,
             "#fdca26"
            ],
            [
             1,
             "#f0f921"
            ]
           ]
          },
          "colorway": [
           "#636efa",
           "#EF553B",
           "#00cc96",
           "#ab63fa",
           "#FFA15A",
           "#19d3f3",
           "#FF6692",
           "#B6E880",
           "#FF97FF",
           "#FECB52"
          ],
          "font": {
           "color": "#2a3f5f"
          },
          "geo": {
           "bgcolor": "white",
           "lakecolor": "white",
           "landcolor": "#E5ECF6",
           "showlakes": true,
           "showland": true,
           "subunitcolor": "white"
          },
          "hoverlabel": {
           "align": "left"
          },
          "hovermode": "closest",
          "mapbox": {
           "style": "light"
          },
          "paper_bgcolor": "white",
          "plot_bgcolor": "#E5ECF6",
          "polar": {
           "angularaxis": {
            "gridcolor": "white",
            "linecolor": "white",
            "ticks": ""
           },
           "bgcolor": "#E5ECF6",
           "radialaxis": {
            "gridcolor": "white",
            "linecolor": "white",
            "ticks": ""
           }
          },
          "scene": {
           "xaxis": {
            "backgroundcolor": "#E5ECF6",
            "gridcolor": "white",
            "gridwidth": 2,
            "linecolor": "white",
            "showbackground": true,
            "ticks": "",
            "zerolinecolor": "white"
           },
           "yaxis": {
            "backgroundcolor": "#E5ECF6",
            "gridcolor": "white",
            "gridwidth": 2,
            "linecolor": "white",
            "showbackground": true,
            "ticks": "",
            "zerolinecolor": "white"
           },
           "zaxis": {
            "backgroundcolor": "#E5ECF6",
            "gridcolor": "white",
            "gridwidth": 2,
            "linecolor": "white",
            "showbackground": true,
            "ticks": "",
            "zerolinecolor": "white"
           }
          },
          "shapedefaults": {
           "line": {
            "color": "#2a3f5f"
           }
          },
          "ternary": {
           "aaxis": {
            "gridcolor": "white",
            "linecolor": "white",
            "ticks": ""
           },
           "baxis": {
            "gridcolor": "white",
            "linecolor": "white",
            "ticks": ""
           },
           "bgcolor": "#E5ECF6",
           "caxis": {
            "gridcolor": "white",
            "linecolor": "white",
            "ticks": ""
           }
          },
          "title": {
           "x": 0.05
          },
          "xaxis": {
           "automargin": true,
           "gridcolor": "white",
           "linecolor": "white",
           "ticks": "",
           "title": {
            "standoff": 15
           },
           "zerolinecolor": "white",
           "zerolinewidth": 2
          },
          "yaxis": {
           "automargin": true,
           "gridcolor": "white",
           "linecolor": "white",
           "ticks": "",
           "title": {
            "standoff": 15
           },
           "zerolinecolor": "white",
           "zerolinewidth": 2
          }
         }
        },
        "xaxis": {
         "anchor": "y",
         "domain": [
          0,
          1
         ],
         "title": {
          "text": "importance"
         }
        },
        "yaxis": {
         "anchor": "x",
         "domain": [
          0,
          1
         ],
         "title": {
          "text": "feat_name"
         }
        }
       }
      },
      "text/html": [
       "<div>                            <div id=\"6a25bd92-0a60-4a6b-a312-6f0d5dcef52f\" class=\"plotly-graph-div\" style=\"height:525px; width:100%;\"></div>            <script type=\"text/javascript\">                require([\"plotly\"], function(Plotly) {                    window.PLOTLYENV=window.PLOTLYENV || {};                                    if (document.getElementById(\"6a25bd92-0a60-4a6b-a312-6f0d5dcef52f\")) {                    Plotly.newPlot(                        \"6a25bd92-0a60-4a6b-a312-6f0d5dcef52f\",                        [{\"alignmentgroup\":\"True\",\"hovertemplate\":\"importance=%{x}<br>feat_name=%{y}<extra></extra>\",\"legendgroup\":\"\",\"marker\":{\"color\":\"#636efa\",\"pattern\":{\"shape\":\"\"}},\"name\":\"\",\"offsetgroup\":\"\",\"orientation\":\"h\",\"showlegend\":false,\"textposition\":\"auto\",\"x\":[1.2239336452367076,1.2290289648910182,1.2430885359705732,1.2842212386688807,1.324814159845354,1.344202155405993,1.6174457869884453,1.712916280803579,1.8763241732344842,1.878678600367138,2.809622073674971,4.199418118468374,4.7248968666374385,4.852263641664656,4.984470416953341,5.162289701098649,5.97760651662735,8.950130566378599,10.989526513774528,17.563205052386163],\"xaxis\":\"x\",\"y\":[\"max_sim\",\"pred_diff7\",\"top3_prob\",\"pred_diff6\",\"pred_diff3\",\"pred_diff8\",\"pred_diff2\",\"top2_prob\",\"top3\",\"top4_prob\",\"max_prob\",\"reg_pred\",\"pred_c\",\"cls2_pred\",\"ctop2\",\"pred_p\",\"top2\",\"cls_pred_c\",\"rule_pred\",\"cls_pred_p\"],\"yaxis\":\"y\",\"type\":\"bar\"}],                        {\"template\":{\"data\":{\"bar\":[{\"error_x\":{\"color\":\"#2a3f5f\"},\"error_y\":{\"color\":\"#2a3f5f\"},\"marker\":{\"line\":{\"color\":\"#E5ECF6\",\"width\":0.5},\"pattern\":{\"fillmode\":\"overlay\",\"size\":10,\"solidity\":0.2}},\"type\":\"bar\"}],\"barpolar\":[{\"marker\":{\"line\":{\"color\":\"#E5ECF6\",\"width\":0.5},\"pattern\":{\"fillmode\":\"overlay\",\"size\":10,\"solidity\":0.2}},\"type\":\"barpolar\"}],\"carpet\":[{\"aaxis\":{\"endlinecolor\":\"#2a3f5f\",\"gridcolor\":\"white\",\"linecolor\":\"white\",\"minorgridcolor\":\"white\",\"startlinecolor\":\"#2a3f5f\"},\"baxis\":{\"endlinecolor\":\"#2a3f5f\",\"gridcolor\":\"white\",\"linecolor\":\"white\",\"minorgridcolor\":\"white\",\"startlinecolor\":\"#2a3f5f\"},\"type\":\"carpet\"}],\"choropleth\":[{\"colorbar\":{\"outlinewidth\":0,\"ticks\":\"\"},\"type\":\"choropleth\"}],\"contour\":[{\"colorbar\":{\"outlinewidth\":0,\"ticks\":\"\"},\"colorscale\":[[0.0,\"#0d0887\"],[0.1111111111111111,\"#46039f\"],[0.2222222222222222,\"#7201a8\"],[0.3333333333333333,\"#9c179e\"],[0.4444444444444444,\"#bd3786\"],[0.5555555555555556,\"#d8576b\"],[0.6666666666666666,\"#ed7953\"],[0.7777777777777778,\"#fb9f3a\"],[0.8888888888888888,\"#fdca26\"],[1.0,\"#f0f921\"]],\"type\":\"contour\"}],\"contourcarpet\":[{\"colorbar\":{\"outlinewidth\":0,\"ticks\":\"\"},\"type\":\"contourcarpet\"}],\"heatmap\":[{\"colorbar\":{\"outlinewidth\":0,\"ticks\":\"\"},\"colorscale\":[[0.0,\"#0d0887\"],[0.1111111111111111,\"#46039f\"],[0.2222222222222222,\"#7201a8\"],[0.3333333333333333,\"#9c179e\"],[0.4444444444444444,\"#bd3786\"],[0.5555555555555556,\"#d8576b\"],[0.6666666666666666,\"#ed7953\"],[0.7777777777777778,\"#fb9f3a\"],[0.8888888888888888,\"#fdca26\"],[1.0,\"#f0f921\"]],\"type\":\"heatmap\"}],\"heatmapgl\":[{\"colorbar\":{\"outlinewidth\":0,\"ticks\":\"\"},\"colorscale\":[[0.0,\"#0d0887\"],[0.1111111111111111,\"#46039f\"],[0.2222222222222222,\"#7201a8\"],[0.3333333333333333,\"#9c179e\"],[0.4444444444444444,\"#bd3786\"],[0.5555555555555556,\"#d8576b\"],[0.6666666666666666,\"#ed7953\"],[0.7777777777777778,\"#fb9f3a\"],[0.8888888888888888,\"#fdca26\"],[1.0,\"#f0f921\"]],\"type\":\"heatmapgl\"}],\"histogram\":[{\"marker\":{\"pattern\":{\"fillmode\":\"overlay\",\"size\":10,\"solidity\":0.2}},\"type\":\"histogram\"}],\"histogram2d\":[{\"colorbar\":{\"outlinewidth\":0,\"ticks\":\"\"},\"colorscale\":[[0.0,\"#0d0887\"],[0.1111111111111111,\"#46039f\"],[0.2222222222222222,\"#7201a8\"],[0.3333333333333333,\"#9c179e\"],[0.4444444444444444,\"#bd3786\"],[0.5555555555555556,\"#d8576b\"],[0.6666666666666666,\"#ed7953\"],[0.7777777777777778,\"#fb9f3a\"],[0.8888888888888888,\"#fdca26\"],[1.0,\"#f0f921\"]],\"type\":\"histogram2d\"}],\"histogram2dcontour\":[{\"colorbar\":{\"outlinewidth\":0,\"ticks\":\"\"},\"colorscale\":[[0.0,\"#0d0887\"],[0.1111111111111111,\"#46039f\"],[0.2222222222222222,\"#7201a8\"],[0.3333333333333333,\"#9c179e\"],[0.4444444444444444,\"#bd3786\"],[0.5555555555555556,\"#d8576b\"],[0.6666666666666666,\"#ed7953\"],[0.7777777777777778,\"#fb9f3a\"],[0.8888888888888888,\"#fdca26\"],[1.0,\"#f0f921\"]],\"type\":\"histogram2dcontour\"}],\"mesh3d\":[{\"colorbar\":{\"outlinewidth\":0,\"ticks\":\"\"},\"type\":\"mesh3d\"}],\"parcoords\":[{\"line\":{\"colorbar\":{\"outlinewidth\":0,\"ticks\":\"\"}},\"type\":\"parcoords\"}],\"pie\":[{\"automargin\":true,\"type\":\"pie\"}],\"scatter\":[{\"marker\":{\"colorbar\":{\"outlinewidth\":0,\"ticks\":\"\"}},\"type\":\"scatter\"}],\"scatter3d\":[{\"line\":{\"colorbar\":{\"outlinewidth\":0,\"ticks\":\"\"}},\"marker\":{\"colorbar\":{\"outlinewidth\":0,\"ticks\":\"\"}},\"type\":\"scatter3d\"}],\"scattercarpet\":[{\"marker\":{\"colorbar\":{\"outlinewidth\":0,\"ticks\":\"\"}},\"type\":\"scattercarpet\"}],\"scattergeo\":[{\"marker\":{\"colorbar\":{\"outlinewidth\":0,\"ticks\":\"\"}},\"type\":\"scattergeo\"}],\"scattergl\":[{\"marker\":{\"colorbar\":{\"outlinewidth\":0,\"ticks\":\"\"}},\"type\":\"scattergl\"}],\"scattermapbox\":[{\"marker\":{\"colorbar\":{\"outlinewidth\":0,\"ticks\":\"\"}},\"type\":\"scattermapbox\"}],\"scatterpolar\":[{\"marker\":{\"colorbar\":{\"outlinewidth\":0,\"ticks\":\"\"}},\"type\":\"scatterpolar\"}],\"scatterpolargl\":[{\"marker\":{\"colorbar\":{\"outlinewidth\":0,\"ticks\":\"\"}},\"type\":\"scatterpolargl\"}],\"scatterternary\":[{\"marker\":{\"colorbar\":{\"outlinewidth\":0,\"ticks\":\"\"}},\"type\":\"scatterternary\"}],\"surface\":[{\"colorbar\":{\"outlinewidth\":0,\"ticks\":\"\"},\"colorscale\":[[0.0,\"#0d0887\"],[0.1111111111111111,\"#46039f\"],[0.2222222222222222,\"#7201a8\"],[0.3333333333333333,\"#9c179e\"],[0.4444444444444444,\"#bd3786\"],[0.5555555555555556,\"#d8576b\"],[0.6666666666666666,\"#ed7953\"],[0.7777777777777778,\"#fb9f3a\"],[0.8888888888888888,\"#fdca26\"],[1.0,\"#f0f921\"]],\"type\":\"surface\"}],\"table\":[{\"cells\":{\"fill\":{\"color\":\"#EBF0F8\"},\"line\":{\"color\":\"white\"}},\"header\":{\"fill\":{\"color\":\"#C8D4E3\"},\"line\":{\"color\":\"white\"}},\"type\":\"table\"}]},\"layout\":{\"annotationdefaults\":{\"arrowcolor\":\"#2a3f5f\",\"arrowhead\":0,\"arrowwidth\":1},\"autotypenumbers\":\"strict\",\"coloraxis\":{\"colorbar\":{\"outlinewidth\":0,\"ticks\":\"\"}},\"colorscale\":{\"diverging\":[[0,\"#8e0152\"],[0.1,\"#c51b7d\"],[0.2,\"#de77ae\"],[0.3,\"#f1b6da\"],[0.4,\"#fde0ef\"],[0.5,\"#f7f7f7\"],[0.6,\"#e6f5d0\"],[0.7,\"#b8e186\"],[0.8,\"#7fbc41\"],[0.9,\"#4d9221\"],[1,\"#276419\"]],\"sequential\":[[0.0,\"#0d0887\"],[0.1111111111111111,\"#46039f\"],[0.2222222222222222,\"#7201a8\"],[0.3333333333333333,\"#9c179e\"],[0.4444444444444444,\"#bd3786\"],[0.5555555555555556,\"#d8576b\"],[0.6666666666666666,\"#ed7953\"],[0.7777777777777778,\"#fb9f3a\"],[0.8888888888888888,\"#fdca26\"],[1.0,\"#f0f921\"]],\"sequentialminus\":[[0.0,\"#0d0887\"],[0.1111111111111111,\"#46039f\"],[0.2222222222222222,\"#7201a8\"],[0.3333333333333333,\"#9c179e\"],[0.4444444444444444,\"#bd3786\"],[0.5555555555555556,\"#d8576b\"],[0.6666666666666666,\"#ed7953\"],[0.7777777777777778,\"#fb9f3a\"],[0.8888888888888888,\"#fdca26\"],[1.0,\"#f0f921\"]]},\"colorway\":[\"#636efa\",\"#EF553B\",\"#00cc96\",\"#ab63fa\",\"#FFA15A\",\"#19d3f3\",\"#FF6692\",\"#B6E880\",\"#FF97FF\",\"#FECB52\"],\"font\":{\"color\":\"#2a3f5f\"},\"geo\":{\"bgcolor\":\"white\",\"lakecolor\":\"white\",\"landcolor\":\"#E5ECF6\",\"showlakes\":true,\"showland\":true,\"subunitcolor\":\"white\"},\"hoverlabel\":{\"align\":\"left\"},\"hovermode\":\"closest\",\"mapbox\":{\"style\":\"light\"},\"paper_bgcolor\":\"white\",\"plot_bgcolor\":\"#E5ECF6\",\"polar\":{\"angularaxis\":{\"gridcolor\":\"white\",\"linecolor\":\"white\",\"ticks\":\"\"},\"bgcolor\":\"#E5ECF6\",\"radialaxis\":{\"gridcolor\":\"white\",\"linecolor\":\"white\",\"ticks\":\"\"}},\"scene\":{\"xaxis\":{\"backgroundcolor\":\"#E5ECF6\",\"gridcolor\":\"white\",\"gridwidth\":2,\"linecolor\":\"white\",\"showbackground\":true,\"ticks\":\"\",\"zerolinecolor\":\"white\"},\"yaxis\":{\"backgroundcolor\":\"#E5ECF6\",\"gridcolor\":\"white\",\"gridwidth\":2,\"linecolor\":\"white\",\"showbackground\":true,\"ticks\":\"\",\"zerolinecolor\":\"white\"},\"zaxis\":{\"backgroundcolor\":\"#E5ECF6\",\"gridcolor\":\"white\",\"gridwidth\":2,\"linecolor\":\"white\",\"showbackground\":true,\"ticks\":\"\",\"zerolinecolor\":\"white\"}},\"shapedefaults\":{\"line\":{\"color\":\"#2a3f5f\"}},\"ternary\":{\"aaxis\":{\"gridcolor\":\"white\",\"linecolor\":\"white\",\"ticks\":\"\"},\"baxis\":{\"gridcolor\":\"white\",\"linecolor\":\"white\",\"ticks\":\"\"},\"bgcolor\":\"#E5ECF6\",\"caxis\":{\"gridcolor\":\"white\",\"linecolor\":\"white\",\"ticks\":\"\"}},\"title\":{\"x\":0.05},\"xaxis\":{\"automargin\":true,\"gridcolor\":\"white\",\"linecolor\":\"white\",\"ticks\":\"\",\"title\":{\"standoff\":15},\"zerolinecolor\":\"white\",\"zerolinewidth\":2},\"yaxis\":{\"automargin\":true,\"gridcolor\":\"white\",\"linecolor\":\"white\",\"ticks\":\"\",\"title\":{\"standoff\":15},\"zerolinecolor\":\"white\",\"zerolinewidth\":2}}},\"xaxis\":{\"anchor\":\"y\",\"domain\":[0.0,1.0],\"title\":{\"text\":\"importance\"}},\"yaxis\":{\"anchor\":\"x\",\"domain\":[0.0,1.0],\"title\":{\"text\":\"feat_name\"}},\"legend\":{\"tracegroupgap\":0},\"margin\":{\"t\":60},\"barmode\":\"relative\"},                        {\"responsive\": true}                    ).then(function(){\n",
       "                            \n",
       "var gd = document.getElementById('6a25bd92-0a60-4a6b-a312-6f0d5dcef52f');\n",
       "var x = new MutationObserver(function (mutations, observer) {{\n",
       "        var display = window.getComputedStyle(gd).display;\n",
       "        if (!display || display === 'none') {{\n",
       "            console.log([gd, 'removed!']);\n",
       "            Plotly.purge(gd);\n",
       "            observer.disconnect();\n",
       "        }}\n",
       "}});\n",
       "\n",
       "// Listen for the removal of the full notebook cells\n",
       "var notebookContainer = gd.closest('#notebook-container');\n",
       "if (notebookContainer) {{\n",
       "    x.observe(notebookContainer, {childList: true});\n",
       "}}\n",
       "\n",
       "// Listen for the clearing of the current output cell\n",
       "var outputEl = gd.closest('.output');\n",
       "if (outputEl) {{\n",
       "    x.observe(outputEl, {childList: true});\n",
       "}}\n",
       "\n",
       "                        })                };                });            </script>        </div>"
      ]
     },
     "metadata": {},
     "output_type": "display_data"
    }
   ],
   "source": [
    "gezi.plot.feature_importance(model, topn=20)"
   ]
  },
  {
   "cell_type": "code",
   "execution_count": 149,
   "metadata": {},
   "outputs": [
    {
     "data": {
      "application/vnd.plotly.v1+json": {
       "config": {
        "plotlyServerURL": "https://plot.ly"
       },
       "data": [
        {
         "alignmentgroup": "True",
         "hovertemplate": "importance=%{x}<br>feat_name=%{y}<extra></extra>",
         "legendgroup": "",
         "marker": {
          "color": "#636efa",
          "pattern": {
           "shape": ""
          }
         },
         "name": "",
         "offsetgroup": "",
         "orientation": "h",
         "showlegend": false,
         "textposition": "auto",
         "type": "bar",
         "x": [
          0.3322198290690646,
          0.3389155593510091,
          0.38565777601688767,
          0.39638950453863897,
          0.6816528050846755,
          0.786760283653883,
          0.798606213605817,
          0.8325986969295396,
          0.8829571329640229,
          0.8918237050328612,
          0.9562958334046139,
          0.9996855109943468,
          1.0018319620315954,
          1.0704815304572213,
          1.0837057319792371,
          1.1994522929979021,
          1.2018875898146908,
          1.2109950329977106,
          1.2239336452367076,
          1.2290289648910182
         ],
         "xaxis": "x",
         "y": [
          "n_code_cell",
          "n_markdown_cell",
          "span",
          "n_cell",
          "markdown_frac",
          "ctop2_prob",
          "top2_sim",
          "pred_diff9",
          "top3_sim",
          "pred_diff1",
          "pred_diff10",
          "top4_sim",
          "top5",
          "ctop_prob",
          "top4",
          "pred_diff0",
          "pred_diff5",
          "pred_diff4",
          "max_sim",
          "pred_diff7"
         ],
         "yaxis": "y"
        }
       ],
       "layout": {
        "barmode": "relative",
        "legend": {
         "tracegroupgap": 0
        },
        "margin": {
         "t": 60
        },
        "template": {
         "data": {
          "bar": [
           {
            "error_x": {
             "color": "#2a3f5f"
            },
            "error_y": {
             "color": "#2a3f5f"
            },
            "marker": {
             "line": {
              "color": "#E5ECF6",
              "width": 0.5
             },
             "pattern": {
              "fillmode": "overlay",
              "size": 10,
              "solidity": 0.2
             }
            },
            "type": "bar"
           }
          ],
          "barpolar": [
           {
            "marker": {
             "line": {
              "color": "#E5ECF6",
              "width": 0.5
             },
             "pattern": {
              "fillmode": "overlay",
              "size": 10,
              "solidity": 0.2
             }
            },
            "type": "barpolar"
           }
          ],
          "carpet": [
           {
            "aaxis": {
             "endlinecolor": "#2a3f5f",
             "gridcolor": "white",
             "linecolor": "white",
             "minorgridcolor": "white",
             "startlinecolor": "#2a3f5f"
            },
            "baxis": {
             "endlinecolor": "#2a3f5f",
             "gridcolor": "white",
             "linecolor": "white",
             "minorgridcolor": "white",
             "startlinecolor": "#2a3f5f"
            },
            "type": "carpet"
           }
          ],
          "choropleth": [
           {
            "colorbar": {
             "outlinewidth": 0,
             "ticks": ""
            },
            "type": "choropleth"
           }
          ],
          "contour": [
           {
            "colorbar": {
             "outlinewidth": 0,
             "ticks": ""
            },
            "colorscale": [
             [
              0,
              "#0d0887"
             ],
             [
              0.1111111111111111,
              "#46039f"
             ],
             [
              0.2222222222222222,
              "#7201a8"
             ],
             [
              0.3333333333333333,
              "#9c179e"
             ],
             [
              0.4444444444444444,
              "#bd3786"
             ],
             [
              0.5555555555555556,
              "#d8576b"
             ],
             [
              0.6666666666666666,
              "#ed7953"
             ],
             [
              0.7777777777777778,
              "#fb9f3a"
             ],
             [
              0.8888888888888888,
              "#fdca26"
             ],
             [
              1,
              "#f0f921"
             ]
            ],
            "type": "contour"
           }
          ],
          "contourcarpet": [
           {
            "colorbar": {
             "outlinewidth": 0,
             "ticks": ""
            },
            "type": "contourcarpet"
           }
          ],
          "heatmap": [
           {
            "colorbar": {
             "outlinewidth": 0,
             "ticks": ""
            },
            "colorscale": [
             [
              0,
              "#0d0887"
             ],
             [
              0.1111111111111111,
              "#46039f"
             ],
             [
              0.2222222222222222,
              "#7201a8"
             ],
             [
              0.3333333333333333,
              "#9c179e"
             ],
             [
              0.4444444444444444,
              "#bd3786"
             ],
             [
              0.5555555555555556,
              "#d8576b"
             ],
             [
              0.6666666666666666,
              "#ed7953"
             ],
             [
              0.7777777777777778,
              "#fb9f3a"
             ],
             [
              0.8888888888888888,
              "#fdca26"
             ],
             [
              1,
              "#f0f921"
             ]
            ],
            "type": "heatmap"
           }
          ],
          "heatmapgl": [
           {
            "colorbar": {
             "outlinewidth": 0,
             "ticks": ""
            },
            "colorscale": [
             [
              0,
              "#0d0887"
             ],
             [
              0.1111111111111111,
              "#46039f"
             ],
             [
              0.2222222222222222,
              "#7201a8"
             ],
             [
              0.3333333333333333,
              "#9c179e"
             ],
             [
              0.4444444444444444,
              "#bd3786"
             ],
             [
              0.5555555555555556,
              "#d8576b"
             ],
             [
              0.6666666666666666,
              "#ed7953"
             ],
             [
              0.7777777777777778,
              "#fb9f3a"
             ],
             [
              0.8888888888888888,
              "#fdca26"
             ],
             [
              1,
              "#f0f921"
             ]
            ],
            "type": "heatmapgl"
           }
          ],
          "histogram": [
           {
            "marker": {
             "pattern": {
              "fillmode": "overlay",
              "size": 10,
              "solidity": 0.2
             }
            },
            "type": "histogram"
           }
          ],
          "histogram2d": [
           {
            "colorbar": {
             "outlinewidth": 0,
             "ticks": ""
            },
            "colorscale": [
             [
              0,
              "#0d0887"
             ],
             [
              0.1111111111111111,
              "#46039f"
             ],
             [
              0.2222222222222222,
              "#7201a8"
             ],
             [
              0.3333333333333333,
              "#9c179e"
             ],
             [
              0.4444444444444444,
              "#bd3786"
             ],
             [
              0.5555555555555556,
              "#d8576b"
             ],
             [
              0.6666666666666666,
              "#ed7953"
             ],
             [
              0.7777777777777778,
              "#fb9f3a"
             ],
             [
              0.8888888888888888,
              "#fdca26"
             ],
             [
              1,
              "#f0f921"
             ]
            ],
            "type": "histogram2d"
           }
          ],
          "histogram2dcontour": [
           {
            "colorbar": {
             "outlinewidth": 0,
             "ticks": ""
            },
            "colorscale": [
             [
              0,
              "#0d0887"
             ],
             [
              0.1111111111111111,
              "#46039f"
             ],
             [
              0.2222222222222222,
              "#7201a8"
             ],
             [
              0.3333333333333333,
              "#9c179e"
             ],
             [
              0.4444444444444444,
              "#bd3786"
             ],
             [
              0.5555555555555556,
              "#d8576b"
             ],
             [
              0.6666666666666666,
              "#ed7953"
             ],
             [
              0.7777777777777778,
              "#fb9f3a"
             ],
             [
              0.8888888888888888,
              "#fdca26"
             ],
             [
              1,
              "#f0f921"
             ]
            ],
            "type": "histogram2dcontour"
           }
          ],
          "mesh3d": [
           {
            "colorbar": {
             "outlinewidth": 0,
             "ticks": ""
            },
            "type": "mesh3d"
           }
          ],
          "parcoords": [
           {
            "line": {
             "colorbar": {
              "outlinewidth": 0,
              "ticks": ""
             }
            },
            "type": "parcoords"
           }
          ],
          "pie": [
           {
            "automargin": true,
            "type": "pie"
           }
          ],
          "scatter": [
           {
            "marker": {
             "colorbar": {
              "outlinewidth": 0,
              "ticks": ""
             }
            },
            "type": "scatter"
           }
          ],
          "scatter3d": [
           {
            "line": {
             "colorbar": {
              "outlinewidth": 0,
              "ticks": ""
             }
            },
            "marker": {
             "colorbar": {
              "outlinewidth": 0,
              "ticks": ""
             }
            },
            "type": "scatter3d"
           }
          ],
          "scattercarpet": [
           {
            "marker": {
             "colorbar": {
              "outlinewidth": 0,
              "ticks": ""
             }
            },
            "type": "scattercarpet"
           }
          ],
          "scattergeo": [
           {
            "marker": {
             "colorbar": {
              "outlinewidth": 0,
              "ticks": ""
             }
            },
            "type": "scattergeo"
           }
          ],
          "scattergl": [
           {
            "marker": {
             "colorbar": {
              "outlinewidth": 0,
              "ticks": ""
             }
            },
            "type": "scattergl"
           }
          ],
          "scattermapbox": [
           {
            "marker": {
             "colorbar": {
              "outlinewidth": 0,
              "ticks": ""
             }
            },
            "type": "scattermapbox"
           }
          ],
          "scatterpolar": [
           {
            "marker": {
             "colorbar": {
              "outlinewidth": 0,
              "ticks": ""
             }
            },
            "type": "scatterpolar"
           }
          ],
          "scatterpolargl": [
           {
            "marker": {
             "colorbar": {
              "outlinewidth": 0,
              "ticks": ""
             }
            },
            "type": "scatterpolargl"
           }
          ],
          "scatterternary": [
           {
            "marker": {
             "colorbar": {
              "outlinewidth": 0,
              "ticks": ""
             }
            },
            "type": "scatterternary"
           }
          ],
          "surface": [
           {
            "colorbar": {
             "outlinewidth": 0,
             "ticks": ""
            },
            "colorscale": [
             [
              0,
              "#0d0887"
             ],
             [
              0.1111111111111111,
              "#46039f"
             ],
             [
              0.2222222222222222,
              "#7201a8"
             ],
             [
              0.3333333333333333,
              "#9c179e"
             ],
             [
              0.4444444444444444,
              "#bd3786"
             ],
             [
              0.5555555555555556,
              "#d8576b"
             ],
             [
              0.6666666666666666,
              "#ed7953"
             ],
             [
              0.7777777777777778,
              "#fb9f3a"
             ],
             [
              0.8888888888888888,
              "#fdca26"
             ],
             [
              1,
              "#f0f921"
             ]
            ],
            "type": "surface"
           }
          ],
          "table": [
           {
            "cells": {
             "fill": {
              "color": "#EBF0F8"
             },
             "line": {
              "color": "white"
             }
            },
            "header": {
             "fill": {
              "color": "#C8D4E3"
             },
             "line": {
              "color": "white"
             }
            },
            "type": "table"
           }
          ]
         },
         "layout": {
          "annotationdefaults": {
           "arrowcolor": "#2a3f5f",
           "arrowhead": 0,
           "arrowwidth": 1
          },
          "autotypenumbers": "strict",
          "coloraxis": {
           "colorbar": {
            "outlinewidth": 0,
            "ticks": ""
           }
          },
          "colorscale": {
           "diverging": [
            [
             0,
             "#8e0152"
            ],
            [
             0.1,
             "#c51b7d"
            ],
            [
             0.2,
             "#de77ae"
            ],
            [
             0.3,
             "#f1b6da"
            ],
            [
             0.4,
             "#fde0ef"
            ],
            [
             0.5,
             "#f7f7f7"
            ],
            [
             0.6,
             "#e6f5d0"
            ],
            [
             0.7,
             "#b8e186"
            ],
            [
             0.8,
             "#7fbc41"
            ],
            [
             0.9,
             "#4d9221"
            ],
            [
             1,
             "#276419"
            ]
           ],
           "sequential": [
            [
             0,
             "#0d0887"
            ],
            [
             0.1111111111111111,
             "#46039f"
            ],
            [
             0.2222222222222222,
             "#7201a8"
            ],
            [
             0.3333333333333333,
             "#9c179e"
            ],
            [
             0.4444444444444444,
             "#bd3786"
            ],
            [
             0.5555555555555556,
             "#d8576b"
            ],
            [
             0.6666666666666666,
             "#ed7953"
            ],
            [
             0.7777777777777778,
             "#fb9f3a"
            ],
            [
             0.8888888888888888,
             "#fdca26"
            ],
            [
             1,
             "#f0f921"
            ]
           ],
           "sequentialminus": [
            [
             0,
             "#0d0887"
            ],
            [
             0.1111111111111111,
             "#46039f"
            ],
            [
             0.2222222222222222,
             "#7201a8"
            ],
            [
             0.3333333333333333,
             "#9c179e"
            ],
            [
             0.4444444444444444,
             "#bd3786"
            ],
            [
             0.5555555555555556,
             "#d8576b"
            ],
            [
             0.6666666666666666,
             "#ed7953"
            ],
            [
             0.7777777777777778,
             "#fb9f3a"
            ],
            [
             0.8888888888888888,
             "#fdca26"
            ],
            [
             1,
             "#f0f921"
            ]
           ]
          },
          "colorway": [
           "#636efa",
           "#EF553B",
           "#00cc96",
           "#ab63fa",
           "#FFA15A",
           "#19d3f3",
           "#FF6692",
           "#B6E880",
           "#FF97FF",
           "#FECB52"
          ],
          "font": {
           "color": "#2a3f5f"
          },
          "geo": {
           "bgcolor": "white",
           "lakecolor": "white",
           "landcolor": "#E5ECF6",
           "showlakes": true,
           "showland": true,
           "subunitcolor": "white"
          },
          "hoverlabel": {
           "align": "left"
          },
          "hovermode": "closest",
          "mapbox": {
           "style": "light"
          },
          "paper_bgcolor": "white",
          "plot_bgcolor": "#E5ECF6",
          "polar": {
           "angularaxis": {
            "gridcolor": "white",
            "linecolor": "white",
            "ticks": ""
           },
           "bgcolor": "#E5ECF6",
           "radialaxis": {
            "gridcolor": "white",
            "linecolor": "white",
            "ticks": ""
           }
          },
          "scene": {
           "xaxis": {
            "backgroundcolor": "#E5ECF6",
            "gridcolor": "white",
            "gridwidth": 2,
            "linecolor": "white",
            "showbackground": true,
            "ticks": "",
            "zerolinecolor": "white"
           },
           "yaxis": {
            "backgroundcolor": "#E5ECF6",
            "gridcolor": "white",
            "gridwidth": 2,
            "linecolor": "white",
            "showbackground": true,
            "ticks": "",
            "zerolinecolor": "white"
           },
           "zaxis": {
            "backgroundcolor": "#E5ECF6",
            "gridcolor": "white",
            "gridwidth": 2,
            "linecolor": "white",
            "showbackground": true,
            "ticks": "",
            "zerolinecolor": "white"
           }
          },
          "shapedefaults": {
           "line": {
            "color": "#2a3f5f"
           }
          },
          "ternary": {
           "aaxis": {
            "gridcolor": "white",
            "linecolor": "white",
            "ticks": ""
           },
           "baxis": {
            "gridcolor": "white",
            "linecolor": "white",
            "ticks": ""
           },
           "bgcolor": "#E5ECF6",
           "caxis": {
            "gridcolor": "white",
            "linecolor": "white",
            "ticks": ""
           }
          },
          "title": {
           "x": 0.05
          },
          "xaxis": {
           "automargin": true,
           "gridcolor": "white",
           "linecolor": "white",
           "ticks": "",
           "title": {
            "standoff": 15
           },
           "zerolinecolor": "white",
           "zerolinewidth": 2
          },
          "yaxis": {
           "automargin": true,
           "gridcolor": "white",
           "linecolor": "white",
           "ticks": "",
           "title": {
            "standoff": 15
           },
           "zerolinecolor": "white",
           "zerolinewidth": 2
          }
         }
        },
        "xaxis": {
         "anchor": "y",
         "domain": [
          0,
          1
         ],
         "title": {
          "text": "importance"
         }
        },
        "yaxis": {
         "anchor": "x",
         "domain": [
          0,
          1
         ],
         "title": {
          "text": "feat_name"
         }
        }
       }
      },
      "text/html": [
       "<div>                            <div id=\"40d35dda-282f-4bfb-8340-8907d06d9e38\" class=\"plotly-graph-div\" style=\"height:525px; width:100%;\"></div>            <script type=\"text/javascript\">                require([\"plotly\"], function(Plotly) {                    window.PLOTLYENV=window.PLOTLYENV || {};                                    if (document.getElementById(\"40d35dda-282f-4bfb-8340-8907d06d9e38\")) {                    Plotly.newPlot(                        \"40d35dda-282f-4bfb-8340-8907d06d9e38\",                        [{\"alignmentgroup\":\"True\",\"hovertemplate\":\"importance=%{x}<br>feat_name=%{y}<extra></extra>\",\"legendgroup\":\"\",\"marker\":{\"color\":\"#636efa\",\"pattern\":{\"shape\":\"\"}},\"name\":\"\",\"offsetgroup\":\"\",\"orientation\":\"h\",\"showlegend\":false,\"textposition\":\"auto\",\"x\":[0.3322198290690646,0.3389155593510091,0.38565777601688767,0.39638950453863897,0.6816528050846755,0.786760283653883,0.798606213605817,0.8325986969295396,0.8829571329640229,0.8918237050328612,0.9562958334046139,0.9996855109943468,1.0018319620315954,1.0704815304572213,1.0837057319792371,1.1994522929979021,1.2018875898146908,1.2109950329977106,1.2239336452367076,1.2290289648910182],\"xaxis\":\"x\",\"y\":[\"n_code_cell\",\"n_markdown_cell\",\"span\",\"n_cell\",\"markdown_frac\",\"ctop2_prob\",\"top2_sim\",\"pred_diff9\",\"top3_sim\",\"pred_diff1\",\"pred_diff10\",\"top4_sim\",\"top5\",\"ctop_prob\",\"top4\",\"pred_diff0\",\"pred_diff5\",\"pred_diff4\",\"max_sim\",\"pred_diff7\"],\"yaxis\":\"y\",\"type\":\"bar\"}],                        {\"template\":{\"data\":{\"bar\":[{\"error_x\":{\"color\":\"#2a3f5f\"},\"error_y\":{\"color\":\"#2a3f5f\"},\"marker\":{\"line\":{\"color\":\"#E5ECF6\",\"width\":0.5},\"pattern\":{\"fillmode\":\"overlay\",\"size\":10,\"solidity\":0.2}},\"type\":\"bar\"}],\"barpolar\":[{\"marker\":{\"line\":{\"color\":\"#E5ECF6\",\"width\":0.5},\"pattern\":{\"fillmode\":\"overlay\",\"size\":10,\"solidity\":0.2}},\"type\":\"barpolar\"}],\"carpet\":[{\"aaxis\":{\"endlinecolor\":\"#2a3f5f\",\"gridcolor\":\"white\",\"linecolor\":\"white\",\"minorgridcolor\":\"white\",\"startlinecolor\":\"#2a3f5f\"},\"baxis\":{\"endlinecolor\":\"#2a3f5f\",\"gridcolor\":\"white\",\"linecolor\":\"white\",\"minorgridcolor\":\"white\",\"startlinecolor\":\"#2a3f5f\"},\"type\":\"carpet\"}],\"choropleth\":[{\"colorbar\":{\"outlinewidth\":0,\"ticks\":\"\"},\"type\":\"choropleth\"}],\"contour\":[{\"colorbar\":{\"outlinewidth\":0,\"ticks\":\"\"},\"colorscale\":[[0.0,\"#0d0887\"],[0.1111111111111111,\"#46039f\"],[0.2222222222222222,\"#7201a8\"],[0.3333333333333333,\"#9c179e\"],[0.4444444444444444,\"#bd3786\"],[0.5555555555555556,\"#d8576b\"],[0.6666666666666666,\"#ed7953\"],[0.7777777777777778,\"#fb9f3a\"],[0.8888888888888888,\"#fdca26\"],[1.0,\"#f0f921\"]],\"type\":\"contour\"}],\"contourcarpet\":[{\"colorbar\":{\"outlinewidth\":0,\"ticks\":\"\"},\"type\":\"contourcarpet\"}],\"heatmap\":[{\"colorbar\":{\"outlinewidth\":0,\"ticks\":\"\"},\"colorscale\":[[0.0,\"#0d0887\"],[0.1111111111111111,\"#46039f\"],[0.2222222222222222,\"#7201a8\"],[0.3333333333333333,\"#9c179e\"],[0.4444444444444444,\"#bd3786\"],[0.5555555555555556,\"#d8576b\"],[0.6666666666666666,\"#ed7953\"],[0.7777777777777778,\"#fb9f3a\"],[0.8888888888888888,\"#fdca26\"],[1.0,\"#f0f921\"]],\"type\":\"heatmap\"}],\"heatmapgl\":[{\"colorbar\":{\"outlinewidth\":0,\"ticks\":\"\"},\"colorscale\":[[0.0,\"#0d0887\"],[0.1111111111111111,\"#46039f\"],[0.2222222222222222,\"#7201a8\"],[0.3333333333333333,\"#9c179e\"],[0.4444444444444444,\"#bd3786\"],[0.5555555555555556,\"#d8576b\"],[0.6666666666666666,\"#ed7953\"],[0.7777777777777778,\"#fb9f3a\"],[0.8888888888888888,\"#fdca26\"],[1.0,\"#f0f921\"]],\"type\":\"heatmapgl\"}],\"histogram\":[{\"marker\":{\"pattern\":{\"fillmode\":\"overlay\",\"size\":10,\"solidity\":0.2}},\"type\":\"histogram\"}],\"histogram2d\":[{\"colorbar\":{\"outlinewidth\":0,\"ticks\":\"\"},\"colorscale\":[[0.0,\"#0d0887\"],[0.1111111111111111,\"#46039f\"],[0.2222222222222222,\"#7201a8\"],[0.3333333333333333,\"#9c179e\"],[0.4444444444444444,\"#bd3786\"],[0.5555555555555556,\"#d8576b\"],[0.6666666666666666,\"#ed7953\"],[0.7777777777777778,\"#fb9f3a\"],[0.8888888888888888,\"#fdca26\"],[1.0,\"#f0f921\"]],\"type\":\"histogram2d\"}],\"histogram2dcontour\":[{\"colorbar\":{\"outlinewidth\":0,\"ticks\":\"\"},\"colorscale\":[[0.0,\"#0d0887\"],[0.1111111111111111,\"#46039f\"],[0.2222222222222222,\"#7201a8\"],[0.3333333333333333,\"#9c179e\"],[0.4444444444444444,\"#bd3786\"],[0.5555555555555556,\"#d8576b\"],[0.6666666666666666,\"#ed7953\"],[0.7777777777777778,\"#fb9f3a\"],[0.8888888888888888,\"#fdca26\"],[1.0,\"#f0f921\"]],\"type\":\"histogram2dcontour\"}],\"mesh3d\":[{\"colorbar\":{\"outlinewidth\":0,\"ticks\":\"\"},\"type\":\"mesh3d\"}],\"parcoords\":[{\"line\":{\"colorbar\":{\"outlinewidth\":0,\"ticks\":\"\"}},\"type\":\"parcoords\"}],\"pie\":[{\"automargin\":true,\"type\":\"pie\"}],\"scatter\":[{\"marker\":{\"colorbar\":{\"outlinewidth\":0,\"ticks\":\"\"}},\"type\":\"scatter\"}],\"scatter3d\":[{\"line\":{\"colorbar\":{\"outlinewidth\":0,\"ticks\":\"\"}},\"marker\":{\"colorbar\":{\"outlinewidth\":0,\"ticks\":\"\"}},\"type\":\"scatter3d\"}],\"scattercarpet\":[{\"marker\":{\"colorbar\":{\"outlinewidth\":0,\"ticks\":\"\"}},\"type\":\"scattercarpet\"}],\"scattergeo\":[{\"marker\":{\"colorbar\":{\"outlinewidth\":0,\"ticks\":\"\"}},\"type\":\"scattergeo\"}],\"scattergl\":[{\"marker\":{\"colorbar\":{\"outlinewidth\":0,\"ticks\":\"\"}},\"type\":\"scattergl\"}],\"scattermapbox\":[{\"marker\":{\"colorbar\":{\"outlinewidth\":0,\"ticks\":\"\"}},\"type\":\"scattermapbox\"}],\"scatterpolar\":[{\"marker\":{\"colorbar\":{\"outlinewidth\":0,\"ticks\":\"\"}},\"type\":\"scatterpolar\"}],\"scatterpolargl\":[{\"marker\":{\"colorbar\":{\"outlinewidth\":0,\"ticks\":\"\"}},\"type\":\"scatterpolargl\"}],\"scatterternary\":[{\"marker\":{\"colorbar\":{\"outlinewidth\":0,\"ticks\":\"\"}},\"type\":\"scatterternary\"}],\"surface\":[{\"colorbar\":{\"outlinewidth\":0,\"ticks\":\"\"},\"colorscale\":[[0.0,\"#0d0887\"],[0.1111111111111111,\"#46039f\"],[0.2222222222222222,\"#7201a8\"],[0.3333333333333333,\"#9c179e\"],[0.4444444444444444,\"#bd3786\"],[0.5555555555555556,\"#d8576b\"],[0.6666666666666666,\"#ed7953\"],[0.7777777777777778,\"#fb9f3a\"],[0.8888888888888888,\"#fdca26\"],[1.0,\"#f0f921\"]],\"type\":\"surface\"}],\"table\":[{\"cells\":{\"fill\":{\"color\":\"#EBF0F8\"},\"line\":{\"color\":\"white\"}},\"header\":{\"fill\":{\"color\":\"#C8D4E3\"},\"line\":{\"color\":\"white\"}},\"type\":\"table\"}]},\"layout\":{\"annotationdefaults\":{\"arrowcolor\":\"#2a3f5f\",\"arrowhead\":0,\"arrowwidth\":1},\"autotypenumbers\":\"strict\",\"coloraxis\":{\"colorbar\":{\"outlinewidth\":0,\"ticks\":\"\"}},\"colorscale\":{\"diverging\":[[0,\"#8e0152\"],[0.1,\"#c51b7d\"],[0.2,\"#de77ae\"],[0.3,\"#f1b6da\"],[0.4,\"#fde0ef\"],[0.5,\"#f7f7f7\"],[0.6,\"#e6f5d0\"],[0.7,\"#b8e186\"],[0.8,\"#7fbc41\"],[0.9,\"#4d9221\"],[1,\"#276419\"]],\"sequential\":[[0.0,\"#0d0887\"],[0.1111111111111111,\"#46039f\"],[0.2222222222222222,\"#7201a8\"],[0.3333333333333333,\"#9c179e\"],[0.4444444444444444,\"#bd3786\"],[0.5555555555555556,\"#d8576b\"],[0.6666666666666666,\"#ed7953\"],[0.7777777777777778,\"#fb9f3a\"],[0.8888888888888888,\"#fdca26\"],[1.0,\"#f0f921\"]],\"sequentialminus\":[[0.0,\"#0d0887\"],[0.1111111111111111,\"#46039f\"],[0.2222222222222222,\"#7201a8\"],[0.3333333333333333,\"#9c179e\"],[0.4444444444444444,\"#bd3786\"],[0.5555555555555556,\"#d8576b\"],[0.6666666666666666,\"#ed7953\"],[0.7777777777777778,\"#fb9f3a\"],[0.8888888888888888,\"#fdca26\"],[1.0,\"#f0f921\"]]},\"colorway\":[\"#636efa\",\"#EF553B\",\"#00cc96\",\"#ab63fa\",\"#FFA15A\",\"#19d3f3\",\"#FF6692\",\"#B6E880\",\"#FF97FF\",\"#FECB52\"],\"font\":{\"color\":\"#2a3f5f\"},\"geo\":{\"bgcolor\":\"white\",\"lakecolor\":\"white\",\"landcolor\":\"#E5ECF6\",\"showlakes\":true,\"showland\":true,\"subunitcolor\":\"white\"},\"hoverlabel\":{\"align\":\"left\"},\"hovermode\":\"closest\",\"mapbox\":{\"style\":\"light\"},\"paper_bgcolor\":\"white\",\"plot_bgcolor\":\"#E5ECF6\",\"polar\":{\"angularaxis\":{\"gridcolor\":\"white\",\"linecolor\":\"white\",\"ticks\":\"\"},\"bgcolor\":\"#E5ECF6\",\"radialaxis\":{\"gridcolor\":\"white\",\"linecolor\":\"white\",\"ticks\":\"\"}},\"scene\":{\"xaxis\":{\"backgroundcolor\":\"#E5ECF6\",\"gridcolor\":\"white\",\"gridwidth\":2,\"linecolor\":\"white\",\"showbackground\":true,\"ticks\":\"\",\"zerolinecolor\":\"white\"},\"yaxis\":{\"backgroundcolor\":\"#E5ECF6\",\"gridcolor\":\"white\",\"gridwidth\":2,\"linecolor\":\"white\",\"showbackground\":true,\"ticks\":\"\",\"zerolinecolor\":\"white\"},\"zaxis\":{\"backgroundcolor\":\"#E5ECF6\",\"gridcolor\":\"white\",\"gridwidth\":2,\"linecolor\":\"white\",\"showbackground\":true,\"ticks\":\"\",\"zerolinecolor\":\"white\"}},\"shapedefaults\":{\"line\":{\"color\":\"#2a3f5f\"}},\"ternary\":{\"aaxis\":{\"gridcolor\":\"white\",\"linecolor\":\"white\",\"ticks\":\"\"},\"baxis\":{\"gridcolor\":\"white\",\"linecolor\":\"white\",\"ticks\":\"\"},\"bgcolor\":\"#E5ECF6\",\"caxis\":{\"gridcolor\":\"white\",\"linecolor\":\"white\",\"ticks\":\"\"}},\"title\":{\"x\":0.05},\"xaxis\":{\"automargin\":true,\"gridcolor\":\"white\",\"linecolor\":\"white\",\"ticks\":\"\",\"title\":{\"standoff\":15},\"zerolinecolor\":\"white\",\"zerolinewidth\":2},\"yaxis\":{\"automargin\":true,\"gridcolor\":\"white\",\"linecolor\":\"white\",\"ticks\":\"\",\"title\":{\"standoff\":15},\"zerolinecolor\":\"white\",\"zerolinewidth\":2}}},\"xaxis\":{\"anchor\":\"y\",\"domain\":[0.0,1.0],\"title\":{\"text\":\"importance\"}},\"yaxis\":{\"anchor\":\"x\",\"domain\":[0.0,1.0],\"title\":{\"text\":\"feat_name\"}},\"legend\":{\"tracegroupgap\":0},\"margin\":{\"t\":60},\"barmode\":\"relative\"},                        {\"responsive\": true}                    ).then(function(){\n",
       "                            \n",
       "var gd = document.getElementById('40d35dda-282f-4bfb-8340-8907d06d9e38');\n",
       "var x = new MutationObserver(function (mutations, observer) {{\n",
       "        var display = window.getComputedStyle(gd).display;\n",
       "        if (!display || display === 'none') {{\n",
       "            console.log([gd, 'removed!']);\n",
       "            Plotly.purge(gd);\n",
       "            observer.disconnect();\n",
       "        }}\n",
       "}});\n",
       "\n",
       "// Listen for the removal of the full notebook cells\n",
       "var notebookContainer = gd.closest('#notebook-container');\n",
       "if (notebookContainer) {{\n",
       "    x.observe(notebookContainer, {childList: true});\n",
       "}}\n",
       "\n",
       "// Listen for the clearing of the current output cell\n",
       "var outputEl = gd.closest('.output');\n",
       "if (outputEl) {{\n",
       "    x.observe(outputEl, {childList: true});\n",
       "}}\n",
       "\n",
       "                        })                };                });            </script>        </div>"
      ]
     },
     "metadata": {},
     "output_type": "display_data"
    }
   ],
   "source": [
    "gezi.plot.feature_importance(model, topn=-20)"
   ]
  },
  {
   "cell_type": "code",
   "execution_count": 128,
   "metadata": {},
   "outputs": [
    {
     "ename": "NameError",
     "evalue": "name 'stop' is not defined",
     "output_type": "error",
     "traceback": [
      "\u001b[0;31m---------------------------------------------------------------------------\u001b[0m",
      "\u001b[0;31mNameError\u001b[0m                                 Traceback (most recent call last)",
      "\u001b[0;32m/tmp/ipykernel_16029/3957423419.py\u001b[0m in \u001b[0;36m<module>\u001b[0;34m\u001b[0m\n\u001b[0;32m----> 1\u001b[0;31m \u001b[0mstop\u001b[0m\u001b[0;34m\u001b[0m\u001b[0;34m\u001b[0m\u001b[0m\n\u001b[0m",
      "\u001b[0;31mNameError\u001b[0m: name 'stop' is not defined"
     ]
    }
   ],
   "source": [
    "stop"
   ]
  },
  {
   "cell_type": "code",
   "execution_count": null,
   "metadata": {},
   "outputs": [],
   "source": [
    "dvalid[cols + ['cb_pred']]"
   ]
  },
  {
   "cell_type": "code",
   "execution_count": null,
   "metadata": {},
   "outputs": [],
   "source": [
    "calc_metric({'id': dvalid.id.values, 'cell_id': dvalid.cell_id.values, 'pred': dvalid.reg_pred.values})"
   ]
  },
  {
   "cell_type": "code",
   "execution_count": null,
   "metadata": {},
   "outputs": [],
   "source": [
    "import optuna\n",
    "from optuna import Trial"
   ]
  },
  {
   "cell_type": "code",
   "execution_count": null,
   "metadata": {},
   "outputs": [],
   "source": [
    "P = {}\n",
    "def merge(x, y, prob):\n",
    "  if prob > P['prob']:\n",
    "    return x * (1 - 0.0001) + y * 0.0001\n",
    "  elif abs(y - x) < P['diff']:\n",
    "    return x * (1 - 0.0001) + y * 0.0001\n",
    "  elif abs(y - x) < 0.2:\n",
    "    return x * P['rate0'] * prob + y * (1 - P['rate0'] * prob)\n",
    "  elif abs(y - x) < 0.3:\n",
    "    return x * P['rate1'] * prob + y * (1 - P['rate1'] * prob)\n",
    "  elif abs(y - x) < 0.4:\n",
    "    return x * P['rate2'] * prob + y * (1 - P['rate2'] * prob)\n",
    "  elif abs(y - x) < 0.5:\n",
    "    return x * P['rate3'] * prob + y * (1 - P['rate3'] * prob)\n",
    "  else:\n",
    "    return x * P['rate4'] * prob + y * (1 - P['rate4'] * prob)"
   ]
  },
  {
   "cell_type": "code",
   "execution_count": null,
   "metadata": {},
   "outputs": [],
   "source": [
    "df_gt = df_gt[df_gt.id.isin(ids)]\n",
    "x = {'id': dtrain.id.values, 'cell_id': dtrain.cell_id.values}"
   ]
  },
  {
   "cell_type": "code",
   "execution_count": null,
   "metadata": {},
   "outputs": [],
   "source": [
    "# def objective(trial):\n",
    "#   suggest = trial.suggest_float \n",
    "#   P['prob'] = suggest('prob', 0., 1.)\n",
    "#   P['diff'] = suggest('diff', 0., 1.)\n",
    "#   P['rate0'] = suggest('rate0', 0., 1.)\n",
    "#   P['rate1'] = suggest('rate1', 0., 1.)\n",
    "#   P['rate2'] = suggest('rate2', 0., 1.)\n",
    "#   P['rate3'] = suggest('rate3', 0., 1.)\n",
    "#   P['rate4'] = suggest('rate4', 0., 1.)\n",
    "          \n",
    "#   x['pred'] = [merge(x, y, prob) for x, y, prob in zip(dtrain.pred_p.values, dtrain.pred_c.values, dtrain.max_prob.values)]\n",
    "#   score = calc_metric(x, 'pred', df_gt)\n",
    "#   return score\n",
    "  \n",
    "# study = optuna.create_study(direction='maximize')\n",
    "# study.optimize(objective, n_trials=100)\n",
    "# ic(study.best_value, study.best_params)"
   ]
  },
  {
   "cell_type": "code",
   "execution_count": null,
   "metadata": {},
   "outputs": [],
   "source": [
    "# x = {'id': dvalid.id.values, 'cell_id': dvalid.cell_id.values}\n",
    "# x['pred'] = [merge(x, y, prob) for x, y, prob in zip(dvalid.pred_p.values, dvalid.pred_c.values, dvalid.max_prob.values)]\n",
    "# score = calc_metric(x, 'pred', df_gt)\n",
    "# ic(score)"
   ]
  },
  {
   "cell_type": "code",
   "execution_count": null,
   "metadata": {},
   "outputs": [],
   "source": []
  },
  {
   "cell_type": "code",
   "execution_count": null,
   "metadata": {},
   "outputs": [],
   "source": []
  },
  {
   "cell_type": "code",
   "execution_count": null,
   "metadata": {},
   "outputs": [],
   "source": []
  }
 ],
 "metadata": {
  "interpreter": {
   "hash": "1925003cfa3979ae366740114cfe890bf8d7ad5b88e4afe0ec571fe261ed45e3"
  },
  "kernelspec": {
   "display_name": "Python 3.7.9",
   "language": "python",
   "name": "python3"
  },
  "language_info": {
   "codemirror_mode": {
    "name": "ipython",
    "version": 3
   },
   "file_extension": ".py",
   "mimetype": "text/x-python",
   "name": "python",
   "nbconvert_exporter": "python",
   "pygments_lexer": "ipython3",
   "version": "3.7.9"
  },
  "orig_nbformat": 4
 },
 "nbformat": 4,
 "nbformat_minor": 2
}
