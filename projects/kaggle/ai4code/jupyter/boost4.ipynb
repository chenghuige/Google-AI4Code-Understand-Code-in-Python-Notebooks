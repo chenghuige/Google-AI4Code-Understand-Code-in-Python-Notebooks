{
 "cells": [
  {
   "cell_type": "code",
   "execution_count": 406,
   "metadata": {},
   "outputs": [],
   "source": [
    "import sys\n",
    "sys.path.append('..')\n",
    "sys.path.append('../../../../utils')\n",
    "sys.path.append('../../../../third')\n",
    "from gezi.common import *\n",
    "from src.config import *\n",
    "from src.preprocess import *\n",
    "from src.eval import *\n",
    "gezi.init_flags()\n",
    "gezi.set_pandas()"
   ]
  },
  {
   "cell_type": "code",
   "execution_count": 407,
   "metadata": {},
   "outputs": [],
   "source": [
    "v = 4"
   ]
  },
  {
   "cell_type": "code",
   "execution_count": 408,
   "metadata": {},
   "outputs": [],
   "source": [
    "V = 7\n",
    "root = f'../working/offline/{V}/0'\n",
    "# pairwise two tower, recall model\n",
    "# pt_model = 'all-mpnet-base-v2.flag-pairwise14-2-pre_ext_emlm_mlm.ep1'\n",
    "# p2t_model = 'all-mpnet-base-v2.flag-pairwise14-2'\n",
    "pt_model = 'all-mpnet-base-v2.flag-pairwise14-2-pre_mlm3'\n",
    "# pt_model = 'all-mpnet-base-v2.flag-pairwise14-2'\n",
    "# pt_model2 = 'pmminilm.flag-pairwise14-2-pre_emlm_mlm-mmnilm'\n",
    "# pt_model2 = 'pmminilm.flag-pairwise14-2-pre_mlm3-pmminilm'\n",
    "# pt_model2 = 'pmminilm.flag-pairwise14-2'\n",
    "# pairwise concat, rank model\n",
    "# pc_model = 'deberta-v3-small.flag-pairwise14-4-cat-insert-extpred-ft.neg_rand_prob-0.neg_strategy-rand-sample'\n",
    "pc_model = 'deberta-v3-small.flag-pairwise14-4-cat-insert-oof-ft'\n",
    "\n",
    "# context model\n",
    "# c_model = 'deberta-v3-small.flag-context4-2-d'\n",
    "# c_model2 = 'lsg-mminilm.flag-context4-3-d-s-mminilm'\n",
    "# c_model = 'deberta-v3-small.flag-context4-2-d'\n",
    "# c_model = 'deberta-v3-small.flag-context4-2-d-oof-ft'\n",
    "# c_model = 'deberta-v3-small.flag-context4-2-d-oof-ft.list_train_ordered'\n",
    "c_model = 'deberta-v3-small.flag-context4-2-d-oof-ft.add_probs'\n",
    "c_model = 'deberta-v3-small.flag-context4-2-d-oof.add_probs'\n",
    "# c_model = 'deberta-v3-small.flag-context4-2-d-extpred-ft.0804'\n",
    "# c_model = 'deberta-v3-small.flag-context4-2-d-oof-ft.list_train_ordered'\n",
    "# c_model2 = 'lsg-mminilm.flag-context4-3-d-s-oof-ft-mminilm'"
   ]
  },
  {
   "cell_type": "code",
   "execution_count": 409,
   "metadata": {},
   "outputs": [],
   "source": [
    "df_train = pd.read_feather('../working/train.fea')\n",
    "df_train = df_train[df_train.fold==0]"
   ]
  },
  {
   "cell_type": "code",
   "execution_count": 410,
   "metadata": {},
   "outputs": [],
   "source": [
    "xp = gezi.load(f'{root}/{pt_model}.eval/valid.pkl')\n",
    "xc = gezi.load(f'{root}/{c_model}.eval/valid.pkl')\n",
    "xpc = gezi.load(f'{root}/{pc_model}.eval.neg2/valid.pkl')\n",
    "gezi.sort_dict_byid_(xp, 'cid')\n",
    "gezi.sort_dict_byid_(xc, 'cid')\n",
    "gezi.sort_dict_byid_(xpc, 'cid')"
   ]
  },
  {
   "cell_type": "code",
   "execution_count": 411,
   "metadata": {},
   "outputs": [],
   "source": [
    "# d = pd.DataFrame(gezi.batch2list(xc))\n",
    "# dg = d.groupby('pred_id')\n",
    "# max_preds = dg['pred'].max()\n",
    "# min_preds = dg['pred'].min()\n",
    "# max_cls_preds = dg['cls_pred'].max()\n",
    "# min_cls_preds = dg['cls_pred'].min()"
   ]
  },
  {
   "cell_type": "code",
   "execution_count": 412,
   "metadata": {},
   "outputs": [
    {
     "name": "stderr",
     "output_type": "stream",
     "text": [
      "[08/09/22 11:40:03] 1715974932.py:9 in <module>\n",
      "                    calc_metric(xp, 'cls_pred'): 0.8940525259130645\n",
      "[08/09/22 11:40:10] 1715974932.py:10 in <module>\n",
      "                    calc_metric(xc, 'reg_pred'): 0.910446784805548\n",
      "[08/09/22 11:40:19] 1715974932.py:11 in <module>\n",
      "                    calc_metric(xc, 'cls_pred'): 0.9121324180804999\n",
      "[08/09/22 11:40:27] 1715974932.py:12 in <module>\n",
      "                    calc_metric(xpc, 'cls_pred'): 0.9011719210628208\n"
     ]
    },
    {
     "data": {
      "text/plain": [
       "0.9011719210628208"
      ]
     },
     "execution_count": 412,
     "metadata": {},
     "output_type": "execute_result"
    }
   ],
   "source": [
    "xp = gezi.load(f'{root}/{pt_model}.eval/valid.pkl')\n",
    "# xc = gezi.load(f'{root}/{c_model}.eval/valid.pkl')\n",
    "xc = gezi.load(f'{root}/{c_model}.eval.160_30/valid.pkl')\n",
    "xpc = gezi.load(f'{root}/{pc_model}.eval.neg2/valid.pkl')\n",
    "gezi.sort_dict_byid_(xp, 'cid')\n",
    "gezi.sort_dict_byid_(xc, 'cid')\n",
    "gezi.sort_dict_byid_(xpc, 'cid')\n",
    "\n",
    "ic(calc_metric(xp, 'cls_pred'))\n",
    "ic(calc_metric(xc, 'reg_pred'))\n",
    "ic(calc_metric(xc, 'cls_pred'))\n",
    "ic(calc_metric(xpc, 'cls_pred'))"
   ]
  },
  {
   "cell_type": "code",
   "execution_count": 413,
   "metadata": {},
   "outputs": [
    {
     "name": "stderr",
     "output_type": "stream",
     "text": [
      "[08/09/22 11:40:38] 1343726780.py:27 in <module>\n",
      "                    xpc['mark'].mean(): 1.0\n",
      "[08/09/22 11:40:46] 1343726780.py:28 in <module>\n",
      "                    calc_metric(xpc, 'cls_pred'): 0.9011719210628208\n"
     ]
    },
    {
     "data": {
      "text/plain": [
       "0.9011719210628208"
      ]
     },
     "execution_count": 413,
     "metadata": {},
     "output_type": "execute_result"
    }
   ],
   "source": [
    "pc_preds = dict(zip(xpc['cid'], xpc['pred']))\n",
    "pc_cls_preds = dict(zip(xpc['cid'], xpc['cls_pred']))\n",
    "pc_probs = dict(zip(xpc['cid'], xpc['probs']))\n",
    "\n",
    "preds = []\n",
    "cls_preds = []\n",
    "probs = []\n",
    "marks = []\n",
    "for cid, pred, cls_pred, prob in zip(xp['cid'], xp['pred'], xp['cls_pred'], xp['probs']):\n",
    "  if prob.max() < 10:\n",
    "  # if prob.max() < 0.8:\n",
    "    marks.append(1)\n",
    "    preds.append(pc_preds.get(cid, pred))\n",
    "    probs.append(pc_probs.get(cid, prob))\n",
    "    cls_preds.append(pc_cls_preds.get(cid, cls_pred))\n",
    "  else:\n",
    "    marks.append(0)\n",
    "    preds.append(pred)\n",
    "    probs.append(prob)\n",
    "    cls_preds.append(cls_pred)\n",
    "    \n",
    "xpc = xp.copy()\n",
    "xpc['pred'] = np.asarray(preds)\n",
    "xpc['cls_pred'] = np.asarray(cls_preds)\n",
    "xpc['probs'] = np.asarray(probs)\n",
    "xpc['mark'] = np.asarray(marks)\n",
    "ic(xpc['mark'].mean())\n",
    "ic(calc_metric(xpc, 'cls_pred'))"
   ]
  },
  {
   "cell_type": "code",
   "execution_count": 414,
   "metadata": {},
   "outputs": [],
   "source": [
    "LABEL_COL = 'rel_rank'\n",
    "def diff_feats(x, l,r, name):\n",
    "  if isinstance(l, str):\n",
    "    x[f'{name}_diff'] = x[l] - x[r]\n",
    "  else:\n",
    "    x[f'{name}_diff'] = l - r\n",
    "  x[f'abs_{name}_diff'] = abs(x[f'{name}_diff'])\n",
    "\n",
    "def gen_pfeat(x_, topn=10):\n",
    "  x = {}\n",
    "  keys = ['pred', 'cls_pred']\n",
    "  x = {k: x_[k] for k in keys}\n",
    "  # x['rank_pred'] = x['pred'] * (1 + x_['n_code_cell']) - 0.5\n",
    "  # x['cls_rank_pred'] = x['cls_pred'] * (1 + x_['n_code_cell']) - 0.5\n",
    "  x['min_prob'] = x_['probs'].min()\n",
    "  x['var_prob'] = np.var(x_['probs'])\n",
    "  if 'sims' in x_:\n",
    "    x['min_sim'] = x_['sims'].min()\n",
    "    x['var_sim'] = np.var(x_['sims'])\n",
    "  \n",
    "  idxes = (-x_['probs']).argsort()\n",
    "  for i in range(topn):\n",
    "    if i < len(idxes):\n",
    "      if i > 0:\n",
    "        x[f'top_pred_{i}'] = (idxes[i] + 0.5) / (x_['n_code_cell'] + 1)\n",
    "        # x[f'top_rank_{i}'] = idxes[i]\n",
    "      x[f'top_prob_{i}'] = x_['probs'][idxes[i]]\n",
    "      if 'sims' in x_:\n",
    "        x[f'top_sim_{i}'] = x_['sims'][idxes[i]]\n",
    "    else:\n",
    "      x[f'top_pred_{i}'] = -1\n",
    "      # x[f'top_rank_{i}'] = -1\n",
    "      x[f'top_prob_{i}'] = -1\n",
    "      if 'sims' in x_:\n",
    "        x[f'top_sim_{i}'] = -1\n",
    "  \n",
    "  diff_feats(x, 'cls_pred', 'pred', 'cls')\n",
    "  # diff_feats(x, 'cls_rank_pred', 'rank_pred', 'cls_rank')\n",
    "  return x\n",
    "\n",
    "def gen_cfeat(x_):\n",
    "  topn = 4\n",
    "  x = {}\n",
    "  keys = [\n",
    "    # 'pred', \n",
    "    'cls_pred', \n",
    "    'reg_pred', \n",
    "    'cls2_pred', \n",
    "    'group_pos',\n",
    "    'group_rank',\n",
    "    ]\n",
    "  x = {k: x_[k] for k in keys}\n",
    "  # x['cls_rank_pred'] = x['cls_pred'] * FLAGS.num_classes - 0.5\n",
    "  # x['cls2_rank_pred'] = x['cls2_pred'] * FLAGS.num_classes - 0.5\n",
    "  # x['reg_rank_pred'] = x['reg_pred'] * FLAGS.num_classes - 0.5\n",
    "  preds = x_['cls_pred_ori']\n",
    "  probs = gezi.softmax(preds)\n",
    "  x['min_prob'] = probs.min()\n",
    "  x['var_prob'] = np.var(probs)\n",
    "  idxes = (-probs).argsort()\n",
    "\n",
    "  for i in range(topn):\n",
    "    if i < len(idxes):\n",
    "      if i > 0:\n",
    "        x[f'top_pred_{i}'] = (idxes[i] + 0.5) / FLAGS.num_classes\n",
    "        # x[f'tpop_rank_{i}']  = idxes[i] \n",
    "      x[f'top_prob_{i}'] = probs[idxes[i]]\n",
    "    else:\n",
    "      x[f'top_pred_{i}'] = -1\n",
    "      # x[f'top_rank_{i}'] = -1\n",
    "      x[f'top_prob_{i}'] = -1\n",
    "  diff_feats(x, 'cls_pred', 'reg_pred', 'cls_reg')\n",
    "  diff_feats(x, 'cls_pred', 'cls2_pred', 'cls_cls2')\n",
    "  diff_feats(x, 'cls2_pred', 'reg_pred', 'cls2_reg')\n",
    "  # diff_feats(x, 'cls_rank_pred', 'reg_rank_pred', 'cls_reg_rank')\n",
    "  # diff_feats(x, 'cls_rank_pred', 'cls2_rank_pred', 'cls_cls2_rank')\n",
    "  # diff_feats(x, 'cls2_rank_pred', 'reg_rank_pred', 'cls2_reg_rank')\n",
    "  # group_id = x_['pred_id']\n",
    "  # x['max_pred'] = max_preds[group_id]\n",
    "  # x['min_pred'] = min_preds[group_id]\n",
    "  # x['pred_ratio'] = (x['pred'] - x['min_pred']) / (x['max_pred'] - x['min_pred']) if (x['max_pred'] - x['min_pred']) else 1\n",
    "  # x['max_cls_pred'] = max_cls_preds[group_id]\n",
    "  # x['min_cls_pred'] = min_cls_preds[group_id]\n",
    "  # x['cls_pred_ratio'] = (x['cls_pred'] - x['min_cls_pred']) / (x['max_cls_pred'] - x['min_cls_pred']) if (x['max_cls_pred'] - x['min_cls_pred']) else 1\n",
    "  \n",
    "  return x\n",
    "\n",
    "def gen_feats():\n",
    "  xs = gezi.batch2list(xp)\n",
    "  p_feats = [gen_pfeat(x) for x in tqdm(xs, desc=f'gen_pfeats:xp')]\n",
    "  xs = gezi.batch2list(xc)\n",
    "  c_feats = [gen_cfeat(x) for x in tqdm(xs, desc=f'gen_cfeats:xc')]\n",
    "  xs = gezi.batch2list(xpc)\n",
    "  pc_feats = [gen_pfeat(x) for x in tqdm(xs, desc=f'gen_pfeats:xpc')]\n",
    "\n",
    "  feats = []\n",
    "  for i in tqdm(range(len(xs)), desc='merge_feats'):\n",
    "    fe1 = p_feats[i]\n",
    "    fec = c_feats[i]\n",
    "    fepc = pc_feats[i]\n",
    "    fepc['mark'] = xpc['mark'][i]\n",
    "    \n",
    "    fe = {}\n",
    "    fe['code_ratio'] = xp['n_code_cell'][i] / xp['n_cell'][i]\n",
    "    diff_feats(fe, fe1['pred'], fec['reg_pred'], 'pc_reg')\n",
    "    diff_feats(fe, fe1['pred'], fec['cls_pred'], 'pc_cls')\n",
    "    diff_feats(fe, fe1['pred'], fec['cls2_pred'], 'pc_cls2')\n",
    "    diff_feats(fe, fe1['cls_pred'], fec['reg_pred'], 'pc_cls_reg')\n",
    "    diff_feats(fe, fe1['cls_pred'], fec['cls_pred'], 'pc_cls_cls')\n",
    "    diff_feats(fe, fe1['cls_pred'], fec['cls2_pred'], 'pc_cls_cls2')\n",
    "    \n",
    "    diff_feats(fe, fepc['pred'], fec['reg_pred'], 'pcc_reg')\n",
    "    diff_feats(fe, fepc['pred'], fec['cls_pred'], 'pcc_cls')\n",
    "    diff_feats(fe, fepc['pred'], fec['cls2_pred'], 'pcc_cls2')\n",
    "    diff_feats(fe, fepc['cls_pred'], fec['reg_pred'], 'pcc_cls_reg')\n",
    "    diff_feats(fe, fepc['cls_pred'], fec['cls_pred'], 'pcc_cls_cls')\n",
    "    diff_feats(fe, fepc['cls_pred'], fec['cls2_pred'], 'pcc_cls_cls2')\n",
    "    \n",
    "    # diff_feats(fe, fe1['rank_pred'], fec['reg_rank_pred'], 'pc_cls_rank')\n",
    "    # diff_feats(fe, fe1['cls_rank_pred'], fec['reg_rank_pred'], 'pc_cls_reg_rank')\n",
    "    # diff_feats(fe, fepc['rank_pred'], fec['reg_rank_pred'], 'pcc_cls_rank')\n",
    "    # diff_feats(fe, fepc['cls_rank_pred'], fec['reg_rank_pred'], 'pcc_cls_reg_rank')\n",
    "\n",
    "    fe1 = gezi.dict_prefix(fe1, 'xp_')\n",
    "    fe.update(fe1)\n",
    "    fec = gezi.dict_prefix(fec, 'xc_')\n",
    "    fe.update(fec)\n",
    "    fepc = gezi.dict_prefix(fepc, 'xpc_')\n",
    "    fe.update(fepc)\n",
    "\n",
    "    keys = [\n",
    "     'id', 'cell_id', 'cid',\n",
    "     'n_words', 'n_code_cell', 'n_cell'\n",
    "    ]\n",
    "    for key in keys:\n",
    "      fe[key] = xp[key][i]\n",
    "      \n",
    "    #  ic(feat)\n",
    "    feats.append(fe)\n",
    "  #  break\n",
    "  dfeats = pd.DataFrame(feats)\n",
    "  return dfeats"
   ]
  },
  {
   "cell_type": "code",
   "execution_count": 415,
   "metadata": {},
   "outputs": [
    {
     "data": {
      "application/vnd.jupyter.widget-view+json": {
       "model_id": "5be43e8688ca4d36a68fd36153786602",
       "version_major": 2,
       "version_minor": 0
      },
      "text/plain": [
       "gen_pfeats:xp:   0%|          | 0/424943 [00:00<?, ?it/s]"
      ]
     },
     "metadata": {},
     "output_type": "display_data"
    },
    {
     "data": {
      "application/vnd.jupyter.widget-view+json": {
       "model_id": "8e1fc564fe1949df8f9abea0e27d711a",
       "version_major": 2,
       "version_minor": 0
      },
      "text/plain": [
       "gen_cfeats:xc:   0%|          | 0/424943 [00:00<?, ?it/s]"
      ]
     },
     "metadata": {},
     "output_type": "display_data"
    },
    {
     "data": {
      "application/vnd.jupyter.widget-view+json": {
       "model_id": "7904611cbdba4de9a1b9751ea0a70587",
       "version_major": 2,
       "version_minor": 0
      },
      "text/plain": [
       "gen_pfeats:xpc:   0%|          | 0/424943 [00:00<?, ?it/s]"
      ]
     },
     "metadata": {},
     "output_type": "display_data"
    },
    {
     "data": {
      "application/vnd.jupyter.widget-view+json": {
       "model_id": "6cfbe8a2aa394ff7bcffff8e9a0eb0aa",
       "version_major": 2,
       "version_minor": 0
      },
      "text/plain": [
       "merge_feats:   0%|          | 0/424943 [00:00<?, ?it/s]"
      ]
     },
     "metadata": {},
     "output_type": "display_data"
    }
   ],
   "source": [
    "dfeats = gen_feats()"
   ]
  },
  {
   "cell_type": "code",
   "execution_count": 416,
   "metadata": {},
   "outputs": [],
   "source": [
    "df = dfeats.merge(df_train[['cid', 'ancestor_id', LABEL_COL]], on='cid')"
   ]
  },
  {
   "cell_type": "code",
   "execution_count": 417,
   "metadata": {},
   "outputs": [],
   "source": [
    "gezi.set_fold(df, 5, 'ancestor_id')"
   ]
  },
  {
   "cell_type": "code",
   "execution_count": 418,
   "metadata": {},
   "outputs": [
    {
     "data": {
      "text/plain": [
       "123"
      ]
     },
     "execution_count": 418,
     "metadata": {},
     "output_type": "execute_result"
    }
   ],
   "source": [
    "reg_cols = [x for x in dfeats.columns if x not in ['id', 'cell_id', 'cid', LABEL_COL]]\n",
    "cat_cols = []\n",
    "cols = reg_cols + cat_cols\n",
    "len(cols)"
   ]
  },
  {
   "cell_type": "code",
   "execution_count": 419,
   "metadata": {},
   "outputs": [],
   "source": [
    "fold = 0\n",
    "dvalid = df[df.fold==fold]\n",
    "dtrain = df[df.fold!=fold]"
   ]
  },
  {
   "cell_type": "code",
   "execution_count": 420,
   "metadata": {},
   "outputs": [],
   "source": [
    "X_train = dtrain[cols]\n",
    "y_train = dtrain[LABEL_COL]\n",
    "X_valid = dvalid[cols]\n",
    "y_valid = dvalid[LABEL_COL]"
   ]
  },
  {
   "cell_type": "code",
   "execution_count": 421,
   "metadata": {},
   "outputs": [],
   "source": [
    "from catboost import CatBoostRegressor, CatBoostRanker, CatBoostClassifier\n",
    "cbt_params = {\n",
    "              # 'bootstrap_type': 'Poisson',\n",
    "              # 'learning_rate': 0.02,\n",
    "              'learning_rate': 0.03,\n",
    "              # 'reg_lambda': 7.960622217848342e-07, \n",
    "              'l2_leaf_reg': 3,\n",
    "              'subsample': 0.7422597612762745,\n",
    "              # 'bagging_temperature': 0.2,\n",
    "              # 'max_depth': 10, \n",
    "              # 'max_depth': 8,\n",
    "              'max_depth': 6,\n",
    "              # 'max_depth': 5,\n",
    "              'early_stopping_rounds': 500,\n",
    "              'n_estimators': 10000,\n",
    "              'cat_features': [],\n",
    "              'loss_function': 'MAE',\n",
    "              'min_child_samples': 100,\n",
    "              # 'task_type': 'GPU',\n",
    "              # 'devices': '0',\n",
    "              }"
   ]
  },
  {
   "cell_type": "code",
   "execution_count": 422,
   "metadata": {},
   "outputs": [
    {
     "name": "stdout",
     "output_type": "stream",
     "text": [
      "0:\tlearn: 0.2523098\ttest: 0.2523098\ttest1: 0.2522503\tbest: 0.2522503 (0)\ttotal: 55.5ms\tremaining: 9m 14s\n",
      "100:\tlearn: 0.0661693\ttest: 0.0661693\ttest1: 0.0672994\tbest: 0.0672994 (100)\ttotal: 4.13s\tremaining: 6m 45s\n",
      "200:\tlearn: 0.0594230\ttest: 0.0594230\ttest1: 0.0607075\tbest: 0.0607075 (200)\ttotal: 7.91s\tremaining: 6m 25s\n",
      "300:\tlearn: 0.0586510\ttest: 0.0586510\ttest1: 0.0599722\tbest: 0.0599722 (300)\ttotal: 11.8s\tremaining: 6m 19s\n",
      "400:\tlearn: 0.0578702\ttest: 0.0578702\ttest1: 0.0591987\tbest: 0.0591987 (400)\ttotal: 15.9s\tremaining: 6m 21s\n",
      "500:\tlearn: 0.0573422\ttest: 0.0573422\ttest1: 0.0586798\tbest: 0.0586798 (500)\ttotal: 19.9s\tremaining: 6m 17s\n",
      "600:\tlearn: 0.0569954\ttest: 0.0569954\ttest1: 0.0583523\tbest: 0.0583523 (600)\ttotal: 24s\tremaining: 6m 15s\n",
      "700:\tlearn: 0.0567477\ttest: 0.0567477\ttest1: 0.0581247\tbest: 0.0581247 (700)\ttotal: 28s\tremaining: 6m 11s\n",
      "800:\tlearn: 0.0565656\ttest: 0.0565656\ttest1: 0.0579680\tbest: 0.0579680 (800)\ttotal: 31.9s\tremaining: 6m 6s\n",
      "900:\tlearn: 0.0564104\ttest: 0.0564104\ttest1: 0.0578440\tbest: 0.0578440 (900)\ttotal: 35.9s\tremaining: 6m 2s\n",
      "1000:\tlearn: 0.0562936\ttest: 0.0562936\ttest1: 0.0577496\tbest: 0.0577496 (1000)\ttotal: 40s\tremaining: 5m 59s\n",
      "1100:\tlearn: 0.0561732\ttest: 0.0561732\ttest1: 0.0576639\tbest: 0.0576639 (1100)\ttotal: 44s\tremaining: 5m 55s\n",
      "1200:\tlearn: 0.0560707\ttest: 0.0560707\ttest1: 0.0575951\tbest: 0.0575951 (1200)\ttotal: 48s\tremaining: 5m 51s\n",
      "1300:\tlearn: 0.0559780\ttest: 0.0559780\ttest1: 0.0575391\tbest: 0.0575391 (1300)\ttotal: 52.1s\tremaining: 5m 48s\n",
      "1400:\tlearn: 0.0558992\ttest: 0.0558992\ttest1: 0.0574893\tbest: 0.0574893 (1400)\ttotal: 56s\tremaining: 5m 43s\n",
      "1500:\tlearn: 0.0558307\ttest: 0.0558307\ttest1: 0.0574475\tbest: 0.0574475 (1500)\ttotal: 60s\tremaining: 5m 39s\n",
      "1600:\tlearn: 0.0557651\ttest: 0.0557651\ttest1: 0.0574132\tbest: 0.0574132 (1600)\ttotal: 1m 4s\tremaining: 5m 36s\n",
      "1700:\tlearn: 0.0556976\ttest: 0.0556976\ttest1: 0.0573729\tbest: 0.0573729 (1700)\ttotal: 1m 8s\tremaining: 5m 32s\n",
      "1800:\tlearn: 0.0556325\ttest: 0.0556325\ttest1: 0.0573418\tbest: 0.0573418 (1800)\ttotal: 1m 12s\tremaining: 5m 28s\n",
      "1900:\tlearn: 0.0555844\ttest: 0.0555844\ttest1: 0.0573197\tbest: 0.0573197 (1900)\ttotal: 1m 16s\tremaining: 5m 23s\n",
      "2000:\tlearn: 0.0555336\ttest: 0.0555336\ttest1: 0.0572977\tbest: 0.0572977 (2000)\ttotal: 1m 19s\tremaining: 5m 18s\n",
      "2100:\tlearn: 0.0554822\ttest: 0.0554822\ttest1: 0.0572928\tbest: 0.0572910 (2037)\ttotal: 1m 23s\tremaining: 5m 14s\n",
      "2200:\tlearn: 0.0554129\ttest: 0.0554129\ttest1: 0.0572625\tbest: 0.0572625 (2200)\ttotal: 1m 27s\tremaining: 5m 10s\n",
      "2300:\tlearn: 0.0553549\ttest: 0.0553549\ttest1: 0.0572568\tbest: 0.0572548 (2239)\ttotal: 1m 31s\tremaining: 5m 5s\n",
      "2400:\tlearn: 0.0553084\ttest: 0.0553084\ttest1: 0.0572331\tbest: 0.0572331 (2400)\ttotal: 1m 35s\tremaining: 5m 1s\n",
      "2500:\tlearn: 0.0552589\ttest: 0.0552589\ttest1: 0.0572147\tbest: 0.0572143 (2487)\ttotal: 1m 39s\tremaining: 4m 57s\n",
      "2600:\tlearn: 0.0552046\ttest: 0.0552046\ttest1: 0.0572109\tbest: 0.0572022 (2572)\ttotal: 1m 43s\tremaining: 4m 53s\n",
      "2700:\tlearn: 0.0551585\ttest: 0.0551585\ttest1: 0.0571919\tbest: 0.0571919 (2700)\ttotal: 1m 47s\tremaining: 4m 49s\n",
      "2800:\tlearn: 0.0551213\ttest: 0.0551213\ttest1: 0.0571811\tbest: 0.0571811 (2800)\ttotal: 1m 50s\tremaining: 4m 45s\n",
      "2900:\tlearn: 0.0550701\ttest: 0.0550701\ttest1: 0.0571652\tbest: 0.0571652 (2900)\ttotal: 1m 54s\tremaining: 4m 40s\n",
      "3000:\tlearn: 0.0550292\ttest: 0.0550292\ttest1: 0.0571721\tbest: 0.0571620 (2917)\ttotal: 1m 58s\tremaining: 4m 37s\n",
      "3100:\tlearn: 0.0549912\ttest: 0.0549912\ttest1: 0.0571629\tbest: 0.0571620 (2917)\ttotal: 2m 2s\tremaining: 4m 32s\n",
      "3200:\tlearn: 0.0549570\ttest: 0.0549570\ttest1: 0.0571498\tbest: 0.0571486 (3199)\ttotal: 2m 6s\tremaining: 4m 28s\n",
      "3300:\tlearn: 0.0549200\ttest: 0.0549200\ttest1: 0.0571442\tbest: 0.0571424 (3273)\ttotal: 2m 10s\tremaining: 4m 24s\n",
      "3400:\tlearn: 0.0548967\ttest: 0.0548967\ttest1: 0.0571355\tbest: 0.0571354 (3397)\ttotal: 2m 14s\tremaining: 4m 20s\n",
      "3500:\tlearn: 0.0548529\ttest: 0.0548529\ttest1: 0.0571387\tbest: 0.0571342 (3486)\ttotal: 2m 17s\tremaining: 4m 15s\n",
      "3600:\tlearn: 0.0548023\ttest: 0.0548023\ttest1: 0.0571474\tbest: 0.0571342 (3486)\ttotal: 2m 21s\tremaining: 4m 11s\n",
      "3700:\tlearn: 0.0547674\ttest: 0.0547674\ttest1: 0.0571399\tbest: 0.0571342 (3486)\ttotal: 2m 25s\tremaining: 4m 7s\n",
      "3800:\tlearn: 0.0547259\ttest: 0.0547259\ttest1: 0.0571329\tbest: 0.0571329 (3800)\ttotal: 2m 29s\tremaining: 4m 3s\n",
      "3900:\tlearn: 0.0546877\ttest: 0.0546877\ttest1: 0.0571415\tbest: 0.0571317 (3833)\ttotal: 2m 33s\tremaining: 3m 59s\n",
      "4000:\tlearn: 0.0546496\ttest: 0.0546496\ttest1: 0.0571334\tbest: 0.0571317 (3833)\ttotal: 2m 36s\tremaining: 3m 55s\n",
      "4100:\tlearn: 0.0546150\ttest: 0.0546150\ttest1: 0.0571209\tbest: 0.0571209 (4100)\ttotal: 2m 40s\tremaining: 3m 50s\n",
      "4200:\tlearn: 0.0545772\ttest: 0.0545772\ttest1: 0.0571121\tbest: 0.0571114 (4197)\ttotal: 2m 44s\tremaining: 3m 46s\n",
      "4300:\tlearn: 0.0545427\ttest: 0.0545427\ttest1: 0.0571079\tbest: 0.0571079 (4300)\ttotal: 2m 48s\tremaining: 3m 42s\n",
      "4400:\tlearn: 0.0545118\ttest: 0.0545118\ttest1: 0.0571016\tbest: 0.0571013 (4399)\ttotal: 2m 51s\tremaining: 3m 38s\n",
      "4500:\tlearn: 0.0544721\ttest: 0.0544721\ttest1: 0.0571183\tbest: 0.0570994 (4425)\ttotal: 2m 55s\tremaining: 3m 34s\n",
      "4600:\tlearn: 0.0544457\ttest: 0.0544457\ttest1: 0.0571103\tbest: 0.0570994 (4425)\ttotal: 2m 59s\tremaining: 3m 30s\n",
      "4700:\tlearn: 0.0544096\ttest: 0.0544096\ttest1: 0.0571029\tbest: 0.0570994 (4425)\ttotal: 3m 3s\tremaining: 3m 26s\n",
      "4800:\tlearn: 0.0543721\ttest: 0.0543721\ttest1: 0.0570982\tbest: 0.0570965 (4769)\ttotal: 3m 7s\tremaining: 3m 22s\n",
      "4900:\tlearn: 0.0543356\ttest: 0.0543356\ttest1: 0.0570933\tbest: 0.0570915 (4872)\ttotal: 3m 11s\tremaining: 3m 18s\n",
      "5000:\tlearn: 0.0543029\ttest: 0.0543029\ttest1: 0.0570889\tbest: 0.0570881 (4950)\ttotal: 3m 14s\tremaining: 3m 14s\n",
      "5100:\tlearn: 0.0542639\ttest: 0.0542639\ttest1: 0.0570845\tbest: 0.0570842 (5093)\ttotal: 3m 18s\tremaining: 3m 11s\n",
      "5200:\tlearn: 0.0542272\ttest: 0.0542272\ttest1: 0.0570849\tbest: 0.0570828 (5130)\ttotal: 3m 22s\tremaining: 3m 7s\n",
      "5300:\tlearn: 0.0541905\ttest: 0.0541905\ttest1: 0.0570800\tbest: 0.0570800 (5300)\ttotal: 3m 26s\tremaining: 3m 2s\n",
      "5400:\tlearn: 0.0541696\ttest: 0.0541696\ttest1: 0.0570810\tbest: 0.0570797 (5321)\ttotal: 3m 30s\tremaining: 2m 58s\n",
      "5500:\tlearn: 0.0541301\ttest: 0.0541301\ttest1: 0.0570778\tbest: 0.0570778 (5499)\ttotal: 3m 33s\tremaining: 2m 54s\n",
      "5600:\tlearn: 0.0540980\ttest: 0.0540980\ttest1: 0.0570724\tbest: 0.0570720 (5592)\ttotal: 3m 37s\tremaining: 2m 51s\n",
      "5700:\tlearn: 0.0540676\ttest: 0.0540676\ttest1: 0.0570650\tbest: 0.0570650 (5699)\ttotal: 3m 41s\tremaining: 2m 47s\n",
      "5800:\tlearn: 0.0540387\ttest: 0.0540387\ttest1: 0.0570577\tbest: 0.0570577 (5800)\ttotal: 3m 45s\tremaining: 2m 43s\n",
      "5900:\tlearn: 0.0540129\ttest: 0.0540129\ttest1: 0.0570546\tbest: 0.0570546 (5900)\ttotal: 3m 48s\tremaining: 2m 39s\n",
      "6000:\tlearn: 0.0539698\ttest: 0.0539698\ttest1: 0.0570827\tbest: 0.0570536 (5916)\ttotal: 3m 52s\tremaining: 2m 35s\n",
      "6100:\tlearn: 0.0539369\ttest: 0.0539369\ttest1: 0.0570802\tbest: 0.0570536 (5916)\ttotal: 3m 56s\tremaining: 2m 31s\n",
      "6200:\tlearn: 0.0539044\ttest: 0.0539044\ttest1: 0.0570743\tbest: 0.0570536 (5916)\ttotal: 4m\tremaining: 2m 27s\n",
      "6300:\tlearn: 0.0538663\ttest: 0.0538663\ttest1: 0.0570741\tbest: 0.0570536 (5916)\ttotal: 4m 4s\tremaining: 2m 23s\n",
      "6400:\tlearn: 0.0538295\ttest: 0.0538295\ttest1: 0.0570674\tbest: 0.0570536 (5916)\ttotal: 4m 8s\tremaining: 2m 19s\n",
      "Stopped by overfitting detector  (500 iterations wait)\n",
      "\n",
      "bestTest = 0.05705357579\n",
      "bestIteration = 5916\n",
      "\n",
      "Shrink model to first 5917 iterations.\n"
     ]
    },
    {
     "name": "stderr",
     "output_type": "stream",
     "text": [
      "[08/09/22 11:49:16] 3198672829.py:8 in <module>\n",
      "                    cbt_score: 0.9195142930981944\n"
     ]
    },
    {
     "data": {
      "text/plain": [
       "0.9195142930981944"
      ]
     },
     "execution_count": 422,
     "metadata": {},
     "output_type": "execute_result"
    }
   ],
   "source": [
    "cbt_model = CatBoostRegressor(**cbt_params)\n",
    "cbt_model.fit(X_train, y_train,\n",
    "      eval_set=[(X_train, y_train), (X_valid, y_valid)],\n",
    "              verbose=100,\n",
    "              )  \n",
    "dvalid['cbt_pred'] = cbt_model.predict(dvalid[cols])\n",
    "cbt_score = calc_metric({'id': dvalid.id.values, 'cell_id': dvalid.cell_id.values, 'pred': dvalid.cbt_pred.values})\n",
    "ic(cbt_score)"
   ]
  },
  {
   "cell_type": "code",
   "execution_count": 423,
   "metadata": {},
   "outputs": [
    {
     "data": {
      "application/vnd.plotly.v1+json": {
       "config": {
        "plotlyServerURL": "https://plot.ly"
       },
       "data": [
        {
         "alignmentgroup": "True",
         "hovertemplate": "importance=%{x}<br>feat_name=%{y}<extra></extra>",
         "legendgroup": "",
         "marker": {
          "color": "#636efa",
          "pattern": {
           "shape": ""
          }
         },
         "name": "",
         "offsetgroup": "",
         "orientation": "h",
         "showlegend": false,
         "textposition": "auto",
         "type": "bar",
         "x": [
          0.5687219284284051,
          0.5778113828250964,
          0.591758250470153,
          0.593547548446192,
          0.6736810970420251,
          0.7243144006964926,
          0.7708295602163464,
          0.7989946836693643,
          0.8539018240086859,
          0.9851660815256956,
          1.1193577365541023,
          1.3074415530708399,
          1.6055788193148952,
          2.7712567329474203,
          3.431431581807697,
          4.880000046144803,
          9.875293375260807,
          11.436149976228192,
          12.257256230324375,
          31.51884120890294
         ],
         "xaxis": "x",
         "y": [
          "xc_cls_cls2_diff",
          "xp_cls_diff",
          "pcc_cls_cls2_diff",
          "abs_pcc_cls_diff",
          "xpc_top_pred_2",
          "xc_top_pred_2",
          "xpc_top_prob_0",
          "xc_abs_cls2_reg_diff",
          "pcc_cls_diff",
          "xc_abs_cls_cls2_diff",
          "xpc_cls_diff",
          "xc_top_pred_1",
          "xpc_abs_cls_diff",
          "xc_cls2_pred",
          "xp_pred",
          "xp_cls_pred",
          "xc_reg_pred",
          "xpc_cls_pred",
          "xpc_pred",
          "xc_cls_pred"
         ],
         "yaxis": "y"
        }
       ],
       "layout": {
        "barmode": "relative",
        "legend": {
         "tracegroupgap": 0
        },
        "margin": {
         "t": 60
        },
        "template": {
         "data": {
          "bar": [
           {
            "error_x": {
             "color": "#2a3f5f"
            },
            "error_y": {
             "color": "#2a3f5f"
            },
            "marker": {
             "line": {
              "color": "#E5ECF6",
              "width": 0.5
             },
             "pattern": {
              "fillmode": "overlay",
              "size": 10,
              "solidity": 0.2
             }
            },
            "type": "bar"
           }
          ],
          "barpolar": [
           {
            "marker": {
             "line": {
              "color": "#E5ECF6",
              "width": 0.5
             },
             "pattern": {
              "fillmode": "overlay",
              "size": 10,
              "solidity": 0.2
             }
            },
            "type": "barpolar"
           }
          ],
          "carpet": [
           {
            "aaxis": {
             "endlinecolor": "#2a3f5f",
             "gridcolor": "white",
             "linecolor": "white",
             "minorgridcolor": "white",
             "startlinecolor": "#2a3f5f"
            },
            "baxis": {
             "endlinecolor": "#2a3f5f",
             "gridcolor": "white",
             "linecolor": "white",
             "minorgridcolor": "white",
             "startlinecolor": "#2a3f5f"
            },
            "type": "carpet"
           }
          ],
          "choropleth": [
           {
            "colorbar": {
             "outlinewidth": 0,
             "ticks": ""
            },
            "type": "choropleth"
           }
          ],
          "contour": [
           {
            "colorbar": {
             "outlinewidth": 0,
             "ticks": ""
            },
            "colorscale": [
             [
              0,
              "#0d0887"
             ],
             [
              0.1111111111111111,
              "#46039f"
             ],
             [
              0.2222222222222222,
              "#7201a8"
             ],
             [
              0.3333333333333333,
              "#9c179e"
             ],
             [
              0.4444444444444444,
              "#bd3786"
             ],
             [
              0.5555555555555556,
              "#d8576b"
             ],
             [
              0.6666666666666666,
              "#ed7953"
             ],
             [
              0.7777777777777778,
              "#fb9f3a"
             ],
             [
              0.8888888888888888,
              "#fdca26"
             ],
             [
              1,
              "#f0f921"
             ]
            ],
            "type": "contour"
           }
          ],
          "contourcarpet": [
           {
            "colorbar": {
             "outlinewidth": 0,
             "ticks": ""
            },
            "type": "contourcarpet"
           }
          ],
          "heatmap": [
           {
            "colorbar": {
             "outlinewidth": 0,
             "ticks": ""
            },
            "colorscale": [
             [
              0,
              "#0d0887"
             ],
             [
              0.1111111111111111,
              "#46039f"
             ],
             [
              0.2222222222222222,
              "#7201a8"
             ],
             [
              0.3333333333333333,
              "#9c179e"
             ],
             [
              0.4444444444444444,
              "#bd3786"
             ],
             [
              0.5555555555555556,
              "#d8576b"
             ],
             [
              0.6666666666666666,
              "#ed7953"
             ],
             [
              0.7777777777777778,
              "#fb9f3a"
             ],
             [
              0.8888888888888888,
              "#fdca26"
             ],
             [
              1,
              "#f0f921"
             ]
            ],
            "type": "heatmap"
           }
          ],
          "heatmapgl": [
           {
            "colorbar": {
             "outlinewidth": 0,
             "ticks": ""
            },
            "colorscale": [
             [
              0,
              "#0d0887"
             ],
             [
              0.1111111111111111,
              "#46039f"
             ],
             [
              0.2222222222222222,
              "#7201a8"
             ],
             [
              0.3333333333333333,
              "#9c179e"
             ],
             [
              0.4444444444444444,
              "#bd3786"
             ],
             [
              0.5555555555555556,
              "#d8576b"
             ],
             [
              0.6666666666666666,
              "#ed7953"
             ],
             [
              0.7777777777777778,
              "#fb9f3a"
             ],
             [
              0.8888888888888888,
              "#fdca26"
             ],
             [
              1,
              "#f0f921"
             ]
            ],
            "type": "heatmapgl"
           }
          ],
          "histogram": [
           {
            "marker": {
             "pattern": {
              "fillmode": "overlay",
              "size": 10,
              "solidity": 0.2
             }
            },
            "type": "histogram"
           }
          ],
          "histogram2d": [
           {
            "colorbar": {
             "outlinewidth": 0,
             "ticks": ""
            },
            "colorscale": [
             [
              0,
              "#0d0887"
             ],
             [
              0.1111111111111111,
              "#46039f"
             ],
             [
              0.2222222222222222,
              "#7201a8"
             ],
             [
              0.3333333333333333,
              "#9c179e"
             ],
             [
              0.4444444444444444,
              "#bd3786"
             ],
             [
              0.5555555555555556,
              "#d8576b"
             ],
             [
              0.6666666666666666,
              "#ed7953"
             ],
             [
              0.7777777777777778,
              "#fb9f3a"
             ],
             [
              0.8888888888888888,
              "#fdca26"
             ],
             [
              1,
              "#f0f921"
             ]
            ],
            "type": "histogram2d"
           }
          ],
          "histogram2dcontour": [
           {
            "colorbar": {
             "outlinewidth": 0,
             "ticks": ""
            },
            "colorscale": [
             [
              0,
              "#0d0887"
             ],
             [
              0.1111111111111111,
              "#46039f"
             ],
             [
              0.2222222222222222,
              "#7201a8"
             ],
             [
              0.3333333333333333,
              "#9c179e"
             ],
             [
              0.4444444444444444,
              "#bd3786"
             ],
             [
              0.5555555555555556,
              "#d8576b"
             ],
             [
              0.6666666666666666,
              "#ed7953"
             ],
             [
              0.7777777777777778,
              "#fb9f3a"
             ],
             [
              0.8888888888888888,
              "#fdca26"
             ],
             [
              1,
              "#f0f921"
             ]
            ],
            "type": "histogram2dcontour"
           }
          ],
          "mesh3d": [
           {
            "colorbar": {
             "outlinewidth": 0,
             "ticks": ""
            },
            "type": "mesh3d"
           }
          ],
          "parcoords": [
           {
            "line": {
             "colorbar": {
              "outlinewidth": 0,
              "ticks": ""
             }
            },
            "type": "parcoords"
           }
          ],
          "pie": [
           {
            "automargin": true,
            "type": "pie"
           }
          ],
          "scatter": [
           {
            "marker": {
             "colorbar": {
              "outlinewidth": 0,
              "ticks": ""
             }
            },
            "type": "scatter"
           }
          ],
          "scatter3d": [
           {
            "line": {
             "colorbar": {
              "outlinewidth": 0,
              "ticks": ""
             }
            },
            "marker": {
             "colorbar": {
              "outlinewidth": 0,
              "ticks": ""
             }
            },
            "type": "scatter3d"
           }
          ],
          "scattercarpet": [
           {
            "marker": {
             "colorbar": {
              "outlinewidth": 0,
              "ticks": ""
             }
            },
            "type": "scattercarpet"
           }
          ],
          "scattergeo": [
           {
            "marker": {
             "colorbar": {
              "outlinewidth": 0,
              "ticks": ""
             }
            },
            "type": "scattergeo"
           }
          ],
          "scattergl": [
           {
            "marker": {
             "colorbar": {
              "outlinewidth": 0,
              "ticks": ""
             }
            },
            "type": "scattergl"
           }
          ],
          "scattermapbox": [
           {
            "marker": {
             "colorbar": {
              "outlinewidth": 0,
              "ticks": ""
             }
            },
            "type": "scattermapbox"
           }
          ],
          "scatterpolar": [
           {
            "marker": {
             "colorbar": {
              "outlinewidth": 0,
              "ticks": ""
             }
            },
            "type": "scatterpolar"
           }
          ],
          "scatterpolargl": [
           {
            "marker": {
             "colorbar": {
              "outlinewidth": 0,
              "ticks": ""
             }
            },
            "type": "scatterpolargl"
           }
          ],
          "scatterternary": [
           {
            "marker": {
             "colorbar": {
              "outlinewidth": 0,
              "ticks": ""
             }
            },
            "type": "scatterternary"
           }
          ],
          "surface": [
           {
            "colorbar": {
             "outlinewidth": 0,
             "ticks": ""
            },
            "colorscale": [
             [
              0,
              "#0d0887"
             ],
             [
              0.1111111111111111,
              "#46039f"
             ],
             [
              0.2222222222222222,
              "#7201a8"
             ],
             [
              0.3333333333333333,
              "#9c179e"
             ],
             [
              0.4444444444444444,
              "#bd3786"
             ],
             [
              0.5555555555555556,
              "#d8576b"
             ],
             [
              0.6666666666666666,
              "#ed7953"
             ],
             [
              0.7777777777777778,
              "#fb9f3a"
             ],
             [
              0.8888888888888888,
              "#fdca26"
             ],
             [
              1,
              "#f0f921"
             ]
            ],
            "type": "surface"
           }
          ],
          "table": [
           {
            "cells": {
             "fill": {
              "color": "#EBF0F8"
             },
             "line": {
              "color": "white"
             }
            },
            "header": {
             "fill": {
              "color": "#C8D4E3"
             },
             "line": {
              "color": "white"
             }
            },
            "type": "table"
           }
          ]
         },
         "layout": {
          "annotationdefaults": {
           "arrowcolor": "#2a3f5f",
           "arrowhead": 0,
           "arrowwidth": 1
          },
          "autotypenumbers": "strict",
          "coloraxis": {
           "colorbar": {
            "outlinewidth": 0,
            "ticks": ""
           }
          },
          "colorscale": {
           "diverging": [
            [
             0,
             "#8e0152"
            ],
            [
             0.1,
             "#c51b7d"
            ],
            [
             0.2,
             "#de77ae"
            ],
            [
             0.3,
             "#f1b6da"
            ],
            [
             0.4,
             "#fde0ef"
            ],
            [
             0.5,
             "#f7f7f7"
            ],
            [
             0.6,
             "#e6f5d0"
            ],
            [
             0.7,
             "#b8e186"
            ],
            [
             0.8,
             "#7fbc41"
            ],
            [
             0.9,
             "#4d9221"
            ],
            [
             1,
             "#276419"
            ]
           ],
           "sequential": [
            [
             0,
             "#0d0887"
            ],
            [
             0.1111111111111111,
             "#46039f"
            ],
            [
             0.2222222222222222,
             "#7201a8"
            ],
            [
             0.3333333333333333,
             "#9c179e"
            ],
            [
             0.4444444444444444,
             "#bd3786"
            ],
            [
             0.5555555555555556,
             "#d8576b"
            ],
            [
             0.6666666666666666,
             "#ed7953"
            ],
            [
             0.7777777777777778,
             "#fb9f3a"
            ],
            [
             0.8888888888888888,
             "#fdca26"
            ],
            [
             1,
             "#f0f921"
            ]
           ],
           "sequentialminus": [
            [
             0,
             "#0d0887"
            ],
            [
             0.1111111111111111,
             "#46039f"
            ],
            [
             0.2222222222222222,
             "#7201a8"
            ],
            [
             0.3333333333333333,
             "#9c179e"
            ],
            [
             0.4444444444444444,
             "#bd3786"
            ],
            [
             0.5555555555555556,
             "#d8576b"
            ],
            [
             0.6666666666666666,
             "#ed7953"
            ],
            [
             0.7777777777777778,
             "#fb9f3a"
            ],
            [
             0.8888888888888888,
             "#fdca26"
            ],
            [
             1,
             "#f0f921"
            ]
           ]
          },
          "colorway": [
           "#636efa",
           "#EF553B",
           "#00cc96",
           "#ab63fa",
           "#FFA15A",
           "#19d3f3",
           "#FF6692",
           "#B6E880",
           "#FF97FF",
           "#FECB52"
          ],
          "font": {
           "color": "#2a3f5f"
          },
          "geo": {
           "bgcolor": "white",
           "lakecolor": "white",
           "landcolor": "#E5ECF6",
           "showlakes": true,
           "showland": true,
           "subunitcolor": "white"
          },
          "hoverlabel": {
           "align": "left"
          },
          "hovermode": "closest",
          "mapbox": {
           "style": "light"
          },
          "paper_bgcolor": "white",
          "plot_bgcolor": "#E5ECF6",
          "polar": {
           "angularaxis": {
            "gridcolor": "white",
            "linecolor": "white",
            "ticks": ""
           },
           "bgcolor": "#E5ECF6",
           "radialaxis": {
            "gridcolor": "white",
            "linecolor": "white",
            "ticks": ""
           }
          },
          "scene": {
           "xaxis": {
            "backgroundcolor": "#E5ECF6",
            "gridcolor": "white",
            "gridwidth": 2,
            "linecolor": "white",
            "showbackground": true,
            "ticks": "",
            "zerolinecolor": "white"
           },
           "yaxis": {
            "backgroundcolor": "#E5ECF6",
            "gridcolor": "white",
            "gridwidth": 2,
            "linecolor": "white",
            "showbackground": true,
            "ticks": "",
            "zerolinecolor": "white"
           },
           "zaxis": {
            "backgroundcolor": "#E5ECF6",
            "gridcolor": "white",
            "gridwidth": 2,
            "linecolor": "white",
            "showbackground": true,
            "ticks": "",
            "zerolinecolor": "white"
           }
          },
          "shapedefaults": {
           "line": {
            "color": "#2a3f5f"
           }
          },
          "ternary": {
           "aaxis": {
            "gridcolor": "white",
            "linecolor": "white",
            "ticks": ""
           },
           "baxis": {
            "gridcolor": "white",
            "linecolor": "white",
            "ticks": ""
           },
           "bgcolor": "#E5ECF6",
           "caxis": {
            "gridcolor": "white",
            "linecolor": "white",
            "ticks": ""
           }
          },
          "title": {
           "x": 0.05
          },
          "xaxis": {
           "automargin": true,
           "gridcolor": "white",
           "linecolor": "white",
           "ticks": "",
           "title": {
            "standoff": 15
           },
           "zerolinecolor": "white",
           "zerolinewidth": 2
          },
          "yaxis": {
           "automargin": true,
           "gridcolor": "white",
           "linecolor": "white",
           "ticks": "",
           "title": {
            "standoff": 15
           },
           "zerolinecolor": "white",
           "zerolinewidth": 2
          }
         }
        },
        "xaxis": {
         "anchor": "y",
         "domain": [
          0,
          1
         ],
         "title": {
          "text": "importance"
         }
        },
        "yaxis": {
         "anchor": "x",
         "domain": [
          0,
          1
         ],
         "title": {
          "text": "feat_name"
         }
        }
       }
      },
      "text/html": [
       "<div>                            <div id=\"ffd55416-8478-4418-8c5b-07a500725d33\" class=\"plotly-graph-div\" style=\"height:525px; width:100%;\"></div>            <script type=\"text/javascript\">                require([\"plotly\"], function(Plotly) {                    window.PLOTLYENV=window.PLOTLYENV || {};                                    if (document.getElementById(\"ffd55416-8478-4418-8c5b-07a500725d33\")) {                    Plotly.newPlot(                        \"ffd55416-8478-4418-8c5b-07a500725d33\",                        [{\"alignmentgroup\":\"True\",\"hovertemplate\":\"importance=%{x}<br>feat_name=%{y}<extra></extra>\",\"legendgroup\":\"\",\"marker\":{\"color\":\"#636efa\",\"pattern\":{\"shape\":\"\"}},\"name\":\"\",\"offsetgroup\":\"\",\"orientation\":\"h\",\"showlegend\":false,\"textposition\":\"auto\",\"x\":[0.5687219284284051,0.5778113828250964,0.591758250470153,0.593547548446192,0.6736810970420251,0.7243144006964926,0.7708295602163464,0.7989946836693643,0.8539018240086859,0.9851660815256956,1.1193577365541023,1.3074415530708399,1.6055788193148952,2.7712567329474203,3.431431581807697,4.880000046144803,9.875293375260807,11.436149976228192,12.257256230324375,31.51884120890294],\"xaxis\":\"x\",\"y\":[\"xc_cls_cls2_diff\",\"xp_cls_diff\",\"pcc_cls_cls2_diff\",\"abs_pcc_cls_diff\",\"xpc_top_pred_2\",\"xc_top_pred_2\",\"xpc_top_prob_0\",\"xc_abs_cls2_reg_diff\",\"pcc_cls_diff\",\"xc_abs_cls_cls2_diff\",\"xpc_cls_diff\",\"xc_top_pred_1\",\"xpc_abs_cls_diff\",\"xc_cls2_pred\",\"xp_pred\",\"xp_cls_pred\",\"xc_reg_pred\",\"xpc_cls_pred\",\"xpc_pred\",\"xc_cls_pred\"],\"yaxis\":\"y\",\"type\":\"bar\"}],                        {\"template\":{\"data\":{\"bar\":[{\"error_x\":{\"color\":\"#2a3f5f\"},\"error_y\":{\"color\":\"#2a3f5f\"},\"marker\":{\"line\":{\"color\":\"#E5ECF6\",\"width\":0.5},\"pattern\":{\"fillmode\":\"overlay\",\"size\":10,\"solidity\":0.2}},\"type\":\"bar\"}],\"barpolar\":[{\"marker\":{\"line\":{\"color\":\"#E5ECF6\",\"width\":0.5},\"pattern\":{\"fillmode\":\"overlay\",\"size\":10,\"solidity\":0.2}},\"type\":\"barpolar\"}],\"carpet\":[{\"aaxis\":{\"endlinecolor\":\"#2a3f5f\",\"gridcolor\":\"white\",\"linecolor\":\"white\",\"minorgridcolor\":\"white\",\"startlinecolor\":\"#2a3f5f\"},\"baxis\":{\"endlinecolor\":\"#2a3f5f\",\"gridcolor\":\"white\",\"linecolor\":\"white\",\"minorgridcolor\":\"white\",\"startlinecolor\":\"#2a3f5f\"},\"type\":\"carpet\"}],\"choropleth\":[{\"colorbar\":{\"outlinewidth\":0,\"ticks\":\"\"},\"type\":\"choropleth\"}],\"contour\":[{\"colorbar\":{\"outlinewidth\":0,\"ticks\":\"\"},\"colorscale\":[[0.0,\"#0d0887\"],[0.1111111111111111,\"#46039f\"],[0.2222222222222222,\"#7201a8\"],[0.3333333333333333,\"#9c179e\"],[0.4444444444444444,\"#bd3786\"],[0.5555555555555556,\"#d8576b\"],[0.6666666666666666,\"#ed7953\"],[0.7777777777777778,\"#fb9f3a\"],[0.8888888888888888,\"#fdca26\"],[1.0,\"#f0f921\"]],\"type\":\"contour\"}],\"contourcarpet\":[{\"colorbar\":{\"outlinewidth\":0,\"ticks\":\"\"},\"type\":\"contourcarpet\"}],\"heatmap\":[{\"colorbar\":{\"outlinewidth\":0,\"ticks\":\"\"},\"colorscale\":[[0.0,\"#0d0887\"],[0.1111111111111111,\"#46039f\"],[0.2222222222222222,\"#7201a8\"],[0.3333333333333333,\"#9c179e\"],[0.4444444444444444,\"#bd3786\"],[0.5555555555555556,\"#d8576b\"],[0.6666666666666666,\"#ed7953\"],[0.7777777777777778,\"#fb9f3a\"],[0.8888888888888888,\"#fdca26\"],[1.0,\"#f0f921\"]],\"type\":\"heatmap\"}],\"heatmapgl\":[{\"colorbar\":{\"outlinewidth\":0,\"ticks\":\"\"},\"colorscale\":[[0.0,\"#0d0887\"],[0.1111111111111111,\"#46039f\"],[0.2222222222222222,\"#7201a8\"],[0.3333333333333333,\"#9c179e\"],[0.4444444444444444,\"#bd3786\"],[0.5555555555555556,\"#d8576b\"],[0.6666666666666666,\"#ed7953\"],[0.7777777777777778,\"#fb9f3a\"],[0.8888888888888888,\"#fdca26\"],[1.0,\"#f0f921\"]],\"type\":\"heatmapgl\"}],\"histogram\":[{\"marker\":{\"pattern\":{\"fillmode\":\"overlay\",\"size\":10,\"solidity\":0.2}},\"type\":\"histogram\"}],\"histogram2d\":[{\"colorbar\":{\"outlinewidth\":0,\"ticks\":\"\"},\"colorscale\":[[0.0,\"#0d0887\"],[0.1111111111111111,\"#46039f\"],[0.2222222222222222,\"#7201a8\"],[0.3333333333333333,\"#9c179e\"],[0.4444444444444444,\"#bd3786\"],[0.5555555555555556,\"#d8576b\"],[0.6666666666666666,\"#ed7953\"],[0.7777777777777778,\"#fb9f3a\"],[0.8888888888888888,\"#fdca26\"],[1.0,\"#f0f921\"]],\"type\":\"histogram2d\"}],\"histogram2dcontour\":[{\"colorbar\":{\"outlinewidth\":0,\"ticks\":\"\"},\"colorscale\":[[0.0,\"#0d0887\"],[0.1111111111111111,\"#46039f\"],[0.2222222222222222,\"#7201a8\"],[0.3333333333333333,\"#9c179e\"],[0.4444444444444444,\"#bd3786\"],[0.5555555555555556,\"#d8576b\"],[0.6666666666666666,\"#ed7953\"],[0.7777777777777778,\"#fb9f3a\"],[0.8888888888888888,\"#fdca26\"],[1.0,\"#f0f921\"]],\"type\":\"histogram2dcontour\"}],\"mesh3d\":[{\"colorbar\":{\"outlinewidth\":0,\"ticks\":\"\"},\"type\":\"mesh3d\"}],\"parcoords\":[{\"line\":{\"colorbar\":{\"outlinewidth\":0,\"ticks\":\"\"}},\"type\":\"parcoords\"}],\"pie\":[{\"automargin\":true,\"type\":\"pie\"}],\"scatter\":[{\"marker\":{\"colorbar\":{\"outlinewidth\":0,\"ticks\":\"\"}},\"type\":\"scatter\"}],\"scatter3d\":[{\"line\":{\"colorbar\":{\"outlinewidth\":0,\"ticks\":\"\"}},\"marker\":{\"colorbar\":{\"outlinewidth\":0,\"ticks\":\"\"}},\"type\":\"scatter3d\"}],\"scattercarpet\":[{\"marker\":{\"colorbar\":{\"outlinewidth\":0,\"ticks\":\"\"}},\"type\":\"scattercarpet\"}],\"scattergeo\":[{\"marker\":{\"colorbar\":{\"outlinewidth\":0,\"ticks\":\"\"}},\"type\":\"scattergeo\"}],\"scattergl\":[{\"marker\":{\"colorbar\":{\"outlinewidth\":0,\"ticks\":\"\"}},\"type\":\"scattergl\"}],\"scattermapbox\":[{\"marker\":{\"colorbar\":{\"outlinewidth\":0,\"ticks\":\"\"}},\"type\":\"scattermapbox\"}],\"scatterpolar\":[{\"marker\":{\"colorbar\":{\"outlinewidth\":0,\"ticks\":\"\"}},\"type\":\"scatterpolar\"}],\"scatterpolargl\":[{\"marker\":{\"colorbar\":{\"outlinewidth\":0,\"ticks\":\"\"}},\"type\":\"scatterpolargl\"}],\"scatterternary\":[{\"marker\":{\"colorbar\":{\"outlinewidth\":0,\"ticks\":\"\"}},\"type\":\"scatterternary\"}],\"surface\":[{\"colorbar\":{\"outlinewidth\":0,\"ticks\":\"\"},\"colorscale\":[[0.0,\"#0d0887\"],[0.1111111111111111,\"#46039f\"],[0.2222222222222222,\"#7201a8\"],[0.3333333333333333,\"#9c179e\"],[0.4444444444444444,\"#bd3786\"],[0.5555555555555556,\"#d8576b\"],[0.6666666666666666,\"#ed7953\"],[0.7777777777777778,\"#fb9f3a\"],[0.8888888888888888,\"#fdca26\"],[1.0,\"#f0f921\"]],\"type\":\"surface\"}],\"table\":[{\"cells\":{\"fill\":{\"color\":\"#EBF0F8\"},\"line\":{\"color\":\"white\"}},\"header\":{\"fill\":{\"color\":\"#C8D4E3\"},\"line\":{\"color\":\"white\"}},\"type\":\"table\"}]},\"layout\":{\"annotationdefaults\":{\"arrowcolor\":\"#2a3f5f\",\"arrowhead\":0,\"arrowwidth\":1},\"autotypenumbers\":\"strict\",\"coloraxis\":{\"colorbar\":{\"outlinewidth\":0,\"ticks\":\"\"}},\"colorscale\":{\"diverging\":[[0,\"#8e0152\"],[0.1,\"#c51b7d\"],[0.2,\"#de77ae\"],[0.3,\"#f1b6da\"],[0.4,\"#fde0ef\"],[0.5,\"#f7f7f7\"],[0.6,\"#e6f5d0\"],[0.7,\"#b8e186\"],[0.8,\"#7fbc41\"],[0.9,\"#4d9221\"],[1,\"#276419\"]],\"sequential\":[[0.0,\"#0d0887\"],[0.1111111111111111,\"#46039f\"],[0.2222222222222222,\"#7201a8\"],[0.3333333333333333,\"#9c179e\"],[0.4444444444444444,\"#bd3786\"],[0.5555555555555556,\"#d8576b\"],[0.6666666666666666,\"#ed7953\"],[0.7777777777777778,\"#fb9f3a\"],[0.8888888888888888,\"#fdca26\"],[1.0,\"#f0f921\"]],\"sequentialminus\":[[0.0,\"#0d0887\"],[0.1111111111111111,\"#46039f\"],[0.2222222222222222,\"#7201a8\"],[0.3333333333333333,\"#9c179e\"],[0.4444444444444444,\"#bd3786\"],[0.5555555555555556,\"#d8576b\"],[0.6666666666666666,\"#ed7953\"],[0.7777777777777778,\"#fb9f3a\"],[0.8888888888888888,\"#fdca26\"],[1.0,\"#f0f921\"]]},\"colorway\":[\"#636efa\",\"#EF553B\",\"#00cc96\",\"#ab63fa\",\"#FFA15A\",\"#19d3f3\",\"#FF6692\",\"#B6E880\",\"#FF97FF\",\"#FECB52\"],\"font\":{\"color\":\"#2a3f5f\"},\"geo\":{\"bgcolor\":\"white\",\"lakecolor\":\"white\",\"landcolor\":\"#E5ECF6\",\"showlakes\":true,\"showland\":true,\"subunitcolor\":\"white\"},\"hoverlabel\":{\"align\":\"left\"},\"hovermode\":\"closest\",\"mapbox\":{\"style\":\"light\"},\"paper_bgcolor\":\"white\",\"plot_bgcolor\":\"#E5ECF6\",\"polar\":{\"angularaxis\":{\"gridcolor\":\"white\",\"linecolor\":\"white\",\"ticks\":\"\"},\"bgcolor\":\"#E5ECF6\",\"radialaxis\":{\"gridcolor\":\"white\",\"linecolor\":\"white\",\"ticks\":\"\"}},\"scene\":{\"xaxis\":{\"backgroundcolor\":\"#E5ECF6\",\"gridcolor\":\"white\",\"gridwidth\":2,\"linecolor\":\"white\",\"showbackground\":true,\"ticks\":\"\",\"zerolinecolor\":\"white\"},\"yaxis\":{\"backgroundcolor\":\"#E5ECF6\",\"gridcolor\":\"white\",\"gridwidth\":2,\"linecolor\":\"white\",\"showbackground\":true,\"ticks\":\"\",\"zerolinecolor\":\"white\"},\"zaxis\":{\"backgroundcolor\":\"#E5ECF6\",\"gridcolor\":\"white\",\"gridwidth\":2,\"linecolor\":\"white\",\"showbackground\":true,\"ticks\":\"\",\"zerolinecolor\":\"white\"}},\"shapedefaults\":{\"line\":{\"color\":\"#2a3f5f\"}},\"ternary\":{\"aaxis\":{\"gridcolor\":\"white\",\"linecolor\":\"white\",\"ticks\":\"\"},\"baxis\":{\"gridcolor\":\"white\",\"linecolor\":\"white\",\"ticks\":\"\"},\"bgcolor\":\"#E5ECF6\",\"caxis\":{\"gridcolor\":\"white\",\"linecolor\":\"white\",\"ticks\":\"\"}},\"title\":{\"x\":0.05},\"xaxis\":{\"automargin\":true,\"gridcolor\":\"white\",\"linecolor\":\"white\",\"ticks\":\"\",\"title\":{\"standoff\":15},\"zerolinecolor\":\"white\",\"zerolinewidth\":2},\"yaxis\":{\"automargin\":true,\"gridcolor\":\"white\",\"linecolor\":\"white\",\"ticks\":\"\",\"title\":{\"standoff\":15},\"zerolinecolor\":\"white\",\"zerolinewidth\":2}}},\"xaxis\":{\"anchor\":\"y\",\"domain\":[0.0,1.0],\"title\":{\"text\":\"importance\"}},\"yaxis\":{\"anchor\":\"x\",\"domain\":[0.0,1.0],\"title\":{\"text\":\"feat_name\"}},\"legend\":{\"tracegroupgap\":0},\"margin\":{\"t\":60},\"barmode\":\"relative\"},                        {\"responsive\": true}                    ).then(function(){\n",
       "                            \n",
       "var gd = document.getElementById('ffd55416-8478-4418-8c5b-07a500725d33');\n",
       "var x = new MutationObserver(function (mutations, observer) {{\n",
       "        var display = window.getComputedStyle(gd).display;\n",
       "        if (!display || display === 'none') {{\n",
       "            console.log([gd, 'removed!']);\n",
       "            Plotly.purge(gd);\n",
       "            observer.disconnect();\n",
       "        }}\n",
       "}});\n",
       "\n",
       "// Listen for the removal of the full notebook cells\n",
       "var notebookContainer = gd.closest('#notebook-container');\n",
       "if (notebookContainer) {{\n",
       "    x.observe(notebookContainer, {childList: true});\n",
       "}}\n",
       "\n",
       "// Listen for the clearing of the current output cell\n",
       "var outputEl = gd.closest('.output');\n",
       "if (outputEl) {{\n",
       "    x.observe(outputEl, {childList: true});\n",
       "}}\n",
       "\n",
       "                        })                };                });            </script>        </div>"
      ]
     },
     "metadata": {},
     "output_type": "display_data"
    }
   ],
   "source": [
    "gezi.plot.feature_importance(cbt_model, topn=20)"
   ]
  },
  {
   "cell_type": "code",
   "execution_count": 426,
   "metadata": {},
   "outputs": [
    {
     "name": "stdout",
     "output_type": "stream",
     "text": [
      "[LightGBM] [Warning] Auto-choosing col-wise multi-threading, the overhead of testing was 0.053480 seconds.\n",
      "You can set `force_col_wise=true` to remove the overhead.\n",
      "[LightGBM] [Info] Total Bins 29892\n",
      "[LightGBM] [Info] Number of data points in the train set: 342411, number of used features: 122\n",
      "[LightGBM] [Info] Start training from score 0.455056\n",
      "Training until validation scores don't improve for 500 rounds\n",
      "[100]\ttraining's l1: 0.0677139\tvalid_1's l1: 0.0689357\n",
      "[200]\ttraining's l1: 0.0604585\tvalid_1's l1: 0.0618413\n",
      "[300]\ttraining's l1: 0.0594787\tvalid_1's l1: 0.0608751\n",
      "[400]\ttraining's l1: 0.0585858\tvalid_1's l1: 0.0600028\n",
      "[500]\ttraining's l1: 0.0577911\tvalid_1's l1: 0.0591996\n",
      "[600]\ttraining's l1: 0.0572957\tvalid_1's l1: 0.0587021\n",
      "[700]\ttraining's l1: 0.0569704\tvalid_1's l1: 0.0583885\n",
      "[800]\ttraining's l1: 0.0567878\tvalid_1's l1: 0.0582225\n",
      "[900]\ttraining's l1: 0.0566173\tvalid_1's l1: 0.0580742\n",
      "[1000]\ttraining's l1: 0.0564834\tvalid_1's l1: 0.0579707\n",
      "[1100]\ttraining's l1: 0.0564015\tvalid_1's l1: 0.0579057\n",
      "[1200]\ttraining's l1: 0.056325\tvalid_1's l1: 0.0578431\n",
      "[1300]\ttraining's l1: 0.0562644\tvalid_1's l1: 0.0577951\n",
      "[1400]\ttraining's l1: 0.0562075\tvalid_1's l1: 0.0577559\n",
      "[1500]\ttraining's l1: 0.0561571\tvalid_1's l1: 0.0577177\n",
      "[1600]\ttraining's l1: 0.0561116\tvalid_1's l1: 0.0576839\n",
      "[1700]\ttraining's l1: 0.0560575\tvalid_1's l1: 0.0576395\n",
      "[1800]\ttraining's l1: 0.0560202\tvalid_1's l1: 0.0576106\n",
      "[1900]\ttraining's l1: 0.0559746\tvalid_1's l1: 0.0575759\n",
      "[2000]\ttraining's l1: 0.0559385\tvalid_1's l1: 0.0575518\n",
      "[2100]\ttraining's l1: 0.0559051\tvalid_1's l1: 0.0575309\n",
      "[2200]\ttraining's l1: 0.0558722\tvalid_1's l1: 0.0575112\n",
      "[2300]\ttraining's l1: 0.0558384\tvalid_1's l1: 0.057493\n",
      "[2400]\ttraining's l1: 0.0558057\tvalid_1's l1: 0.0574747\n",
      "[2500]\ttraining's l1: 0.055789\tvalid_1's l1: 0.0574641\n",
      "[2600]\ttraining's l1: 0.0557673\tvalid_1's l1: 0.0574508\n",
      "[2700]\ttraining's l1: 0.0557354\tvalid_1's l1: 0.0574281\n",
      "[2800]\ttraining's l1: 0.055713\tvalid_1's l1: 0.057411\n",
      "[2900]\ttraining's l1: 0.0556795\tvalid_1's l1: 0.0573924\n",
      "[3000]\ttraining's l1: 0.0556625\tvalid_1's l1: 0.057383\n",
      "[3100]\ttraining's l1: 0.0556385\tvalid_1's l1: 0.0573771\n",
      "[3200]\ttraining's l1: 0.0556236\tvalid_1's l1: 0.0573695\n",
      "[3300]\ttraining's l1: 0.0556006\tvalid_1's l1: 0.0573597\n",
      "[3400]\ttraining's l1: 0.055571\tvalid_1's l1: 0.057342\n",
      "[3500]\ttraining's l1: 0.0555411\tvalid_1's l1: 0.0573253\n",
      "[3600]\ttraining's l1: 0.0555128\tvalid_1's l1: 0.0573095\n",
      "[3700]\ttraining's l1: 0.0554867\tvalid_1's l1: 0.0572942\n",
      "[3800]\ttraining's l1: 0.0554708\tvalid_1's l1: 0.0572874\n",
      "[3900]\ttraining's l1: 0.0554564\tvalid_1's l1: 0.0572849\n",
      "[4000]\ttraining's l1: 0.0554411\tvalid_1's l1: 0.0572785\n",
      "[4100]\ttraining's l1: 0.0554239\tvalid_1's l1: 0.0572688\n",
      "[4200]\ttraining's l1: 0.0554028\tvalid_1's l1: 0.0572556\n",
      "[4300]\ttraining's l1: 0.0553815\tvalid_1's l1: 0.0572461\n",
      "[4400]\ttraining's l1: 0.0553651\tvalid_1's l1: 0.0572373\n",
      "[4500]\ttraining's l1: 0.0553489\tvalid_1's l1: 0.0572298\n",
      "[4600]\ttraining's l1: 0.0553392\tvalid_1's l1: 0.0572246\n",
      "[4700]\ttraining's l1: 0.0553271\tvalid_1's l1: 0.057223\n",
      "[4800]\ttraining's l1: 0.0553127\tvalid_1's l1: 0.0572181\n",
      "[4900]\ttraining's l1: 0.0553053\tvalid_1's l1: 0.0572155\n",
      "[5000]\ttraining's l1: 0.0552894\tvalid_1's l1: 0.0572093\n",
      "[5100]\ttraining's l1: 0.05528\tvalid_1's l1: 0.057207\n",
      "[5200]\ttraining's l1: 0.055275\tvalid_1's l1: 0.0572054\n",
      "[5300]\ttraining's l1: 0.0552548\tvalid_1's l1: 0.0571983\n",
      "[5400]\ttraining's l1: 0.0552412\tvalid_1's l1: 0.0571952\n",
      "[5500]\ttraining's l1: 0.0552324\tvalid_1's l1: 0.057191\n",
      "[5600]\ttraining's l1: 0.0552235\tvalid_1's l1: 0.0571894\n",
      "[5700]\ttraining's l1: 0.0552187\tvalid_1's l1: 0.057187\n",
      "[5800]\ttraining's l1: 0.0552113\tvalid_1's l1: 0.057183\n",
      "[5900]\ttraining's l1: 0.055197\tvalid_1's l1: 0.0571784\n",
      "[6000]\ttraining's l1: 0.0551866\tvalid_1's l1: 0.0571754\n",
      "[6100]\ttraining's l1: 0.0551674\tvalid_1's l1: 0.0571654\n",
      "[6200]\ttraining's l1: 0.0551547\tvalid_1's l1: 0.0571615\n",
      "[6300]\ttraining's l1: 0.0551469\tvalid_1's l1: 0.0571586\n",
      "[6400]\ttraining's l1: 0.0551372\tvalid_1's l1: 0.057155\n",
      "[6500]\ttraining's l1: 0.0551269\tvalid_1's l1: 0.0571516\n",
      "[6600]\ttraining's l1: 0.0551162\tvalid_1's l1: 0.0571472\n",
      "[6700]\ttraining's l1: 0.0551068\tvalid_1's l1: 0.0571432\n",
      "[6800]\ttraining's l1: 0.0550885\tvalid_1's l1: 0.0571352\n",
      "[6900]\ttraining's l1: 0.0550747\tvalid_1's l1: 0.0571295\n",
      "[7000]\ttraining's l1: 0.0550659\tvalid_1's l1: 0.0571268\n",
      "[7100]\ttraining's l1: 0.0550539\tvalid_1's l1: 0.0571224\n",
      "[7200]\ttraining's l1: 0.0550379\tvalid_1's l1: 0.0571175\n",
      "[7300]\ttraining's l1: 0.0550222\tvalid_1's l1: 0.0571149\n",
      "[7400]\ttraining's l1: 0.0550112\tvalid_1's l1: 0.0571116\n",
      "[7500]\ttraining's l1: 0.0549889\tvalid_1's l1: 0.0571044\n",
      "[7600]\ttraining's l1: 0.0549821\tvalid_1's l1: 0.0571017\n",
      "[7700]\ttraining's l1: 0.0549765\tvalid_1's l1: 0.0571025\n",
      "[7800]\ttraining's l1: 0.0549626\tvalid_1's l1: 0.0570982\n",
      "[7900]\ttraining's l1: 0.0549489\tvalid_1's l1: 0.057095\n",
      "[8000]\ttraining's l1: 0.0549402\tvalid_1's l1: 0.0570922\n",
      "[8100]\ttraining's l1: 0.0549379\tvalid_1's l1: 0.0570919\n",
      "[8200]\ttraining's l1: 0.0549318\tvalid_1's l1: 0.0570891\n",
      "[8300]\ttraining's l1: 0.0549274\tvalid_1's l1: 0.0570884\n",
      "[8400]\ttraining's l1: 0.0549201\tvalid_1's l1: 0.0570855\n",
      "[8500]\ttraining's l1: 0.0549151\tvalid_1's l1: 0.0570825\n",
      "[8600]\ttraining's l1: 0.0549082\tvalid_1's l1: 0.0570802\n",
      "[8700]\ttraining's l1: 0.0548921\tvalid_1's l1: 0.0570749\n",
      "[8800]\ttraining's l1: 0.054882\tvalid_1's l1: 0.0570708\n",
      "[8900]\ttraining's l1: 0.0548752\tvalid_1's l1: 0.057071\n",
      "[9000]\ttraining's l1: 0.0548592\tvalid_1's l1: 0.0570614\n",
      "[9100]\ttraining's l1: 0.0548492\tvalid_1's l1: 0.0570597\n",
      "[9200]\ttraining's l1: 0.0548444\tvalid_1's l1: 0.0570583\n",
      "[9300]\ttraining's l1: 0.0548386\tvalid_1's l1: 0.057056\n",
      "[9400]\ttraining's l1: 0.0548305\tvalid_1's l1: 0.0570531\n",
      "[9500]\ttraining's l1: 0.054828\tvalid_1's l1: 0.0570516\n",
      "[9600]\ttraining's l1: 0.0548209\tvalid_1's l1: 0.0570482\n",
      "[9700]\ttraining's l1: 0.0548085\tvalid_1's l1: 0.0570447\n",
      "[9800]\ttraining's l1: 0.0548016\tvalid_1's l1: 0.0570434\n",
      "[9900]\ttraining's l1: 0.0547908\tvalid_1's l1: 0.0570408\n",
      "[10000]\ttraining's l1: 0.0547854\tvalid_1's l1: 0.0570391\n",
      "[10100]\ttraining's l1: 0.0547796\tvalid_1's l1: 0.0570375\n",
      "[10200]\ttraining's l1: 0.0547699\tvalid_1's l1: 0.0570327\n",
      "[10300]\ttraining's l1: 0.0547595\tvalid_1's l1: 0.0570308\n",
      "[10400]\ttraining's l1: 0.0547521\tvalid_1's l1: 0.0570284\n",
      "[10500]\ttraining's l1: 0.0547463\tvalid_1's l1: 0.0570267\n",
      "[10600]\ttraining's l1: 0.0547405\tvalid_1's l1: 0.0570262\n",
      "[10700]\ttraining's l1: 0.0547348\tvalid_1's l1: 0.057025\n",
      "[10800]\ttraining's l1: 0.054725\tvalid_1's l1: 0.0570244\n",
      "[10900]\ttraining's l1: 0.0547201\tvalid_1's l1: 0.0570234\n",
      "[11000]\ttraining's l1: 0.0547143\tvalid_1's l1: 0.0570215\n",
      "[11100]\ttraining's l1: 0.05471\tvalid_1's l1: 0.0570204\n",
      "[11200]\ttraining's l1: 0.0547051\tvalid_1's l1: 0.057019\n",
      "[11300]\ttraining's l1: 0.0547004\tvalid_1's l1: 0.0570182\n",
      "[11400]\ttraining's l1: 0.0546964\tvalid_1's l1: 0.0570172\n",
      "[11500]\ttraining's l1: 0.054693\tvalid_1's l1: 0.0570156\n",
      "[11600]\ttraining's l1: 0.0546874\tvalid_1's l1: 0.057015\n",
      "[11700]\ttraining's l1: 0.0546844\tvalid_1's l1: 0.0570144\n",
      "[11800]\ttraining's l1: 0.0546793\tvalid_1's l1: 0.057013\n",
      "[11900]\ttraining's l1: 0.0546753\tvalid_1's l1: 0.0570111\n",
      "[12000]\ttraining's l1: 0.0546691\tvalid_1's l1: 0.0570081\n",
      "[12100]\ttraining's l1: 0.0546643\tvalid_1's l1: 0.0570059\n",
      "[12200]\ttraining's l1: 0.0546603\tvalid_1's l1: 0.0570057\n",
      "[12300]\ttraining's l1: 0.0546565\tvalid_1's l1: 0.0570036\n",
      "[12400]\ttraining's l1: 0.0546517\tvalid_1's l1: 0.0570029\n",
      "[12500]\ttraining's l1: 0.0546471\tvalid_1's l1: 0.0570027\n",
      "[12600]\ttraining's l1: 0.0546418\tvalid_1's l1: 0.0570011\n",
      "[12700]\ttraining's l1: 0.0546389\tvalid_1's l1: 0.0570005\n",
      "[12800]\ttraining's l1: 0.0546367\tvalid_1's l1: 0.0570005\n",
      "[12900]\ttraining's l1: 0.0546331\tvalid_1's l1: 0.0569994\n",
      "[13000]\ttraining's l1: 0.0546281\tvalid_1's l1: 0.0569973\n",
      "[13100]\ttraining's l1: 0.0546167\tvalid_1's l1: 0.0569937\n",
      "[13200]\ttraining's l1: 0.0546099\tvalid_1's l1: 0.0569915\n",
      "[13300]\ttraining's l1: 0.0545889\tvalid_1's l1: 0.0569854\n",
      "[13400]\ttraining's l1: 0.0545793\tvalid_1's l1: 0.0569841\n",
      "[13500]\ttraining's l1: 0.054575\tvalid_1's l1: 0.0569832\n",
      "[13600]\ttraining's l1: 0.0545669\tvalid_1's l1: 0.0569812\n",
      "[13700]\ttraining's l1: 0.0545598\tvalid_1's l1: 0.0569794\n",
      "[13800]\ttraining's l1: 0.0545495\tvalid_1's l1: 0.0569771\n",
      "[13900]\ttraining's l1: 0.0545462\tvalid_1's l1: 0.0569767\n",
      "[14000]\ttraining's l1: 0.054541\tvalid_1's l1: 0.0569741\n",
      "[14100]\ttraining's l1: 0.0545337\tvalid_1's l1: 0.0569716\n",
      "[14200]\ttraining's l1: 0.0545232\tvalid_1's l1: 0.0569683\n",
      "[14300]\ttraining's l1: 0.054519\tvalid_1's l1: 0.0569666\n",
      "[14400]\ttraining's l1: 0.0545119\tvalid_1's l1: 0.056966\n",
      "[14500]\ttraining's l1: 0.0545057\tvalid_1's l1: 0.0569648\n",
      "[14600]\ttraining's l1: 0.0545017\tvalid_1's l1: 0.0569645\n",
      "[14700]\ttraining's l1: 0.0544974\tvalid_1's l1: 0.0569634\n",
      "[14800]\ttraining's l1: 0.0544932\tvalid_1's l1: 0.0569628\n",
      "[14900]\ttraining's l1: 0.0544876\tvalid_1's l1: 0.0569613\n",
      "[15000]\ttraining's l1: 0.0544829\tvalid_1's l1: 0.0569596\n",
      "[15100]\ttraining's l1: 0.0544764\tvalid_1's l1: 0.056957\n",
      "[15200]\ttraining's l1: 0.054473\tvalid_1's l1: 0.0569562\n",
      "[15300]\ttraining's l1: 0.0544708\tvalid_1's l1: 0.0569565\n",
      "[15400]\ttraining's l1: 0.0544675\tvalid_1's l1: 0.0569568\n",
      "[15500]\ttraining's l1: 0.0544536\tvalid_1's l1: 0.0569532\n",
      "[15600]\ttraining's l1: 0.0544426\tvalid_1's l1: 0.0569518\n",
      "[15700]\ttraining's l1: 0.0544352\tvalid_1's l1: 0.0569515\n",
      "[15800]\ttraining's l1: 0.0544263\tvalid_1's l1: 0.0569498\n",
      "[15900]\ttraining's l1: 0.05442\tvalid_1's l1: 0.0569506\n",
      "[16000]\ttraining's l1: 0.0544126\tvalid_1's l1: 0.0569488\n",
      "[16100]\ttraining's l1: 0.0544019\tvalid_1's l1: 0.0569476\n",
      "[16200]\ttraining's l1: 0.0543961\tvalid_1's l1: 0.0569462\n",
      "[16300]\ttraining's l1: 0.0543953\tvalid_1's l1: 0.0569461\n",
      "[16400]\ttraining's l1: 0.0543894\tvalid_1's l1: 0.0569445\n",
      "[16500]\ttraining's l1: 0.0543869\tvalid_1's l1: 0.0569444\n",
      "[16600]\ttraining's l1: 0.0543846\tvalid_1's l1: 0.0569439\n",
      "[16700]\ttraining's l1: 0.0543813\tvalid_1's l1: 0.0569442\n",
      "[16800]\ttraining's l1: 0.05438\tvalid_1's l1: 0.0569441\n",
      "[16900]\ttraining's l1: 0.0543768\tvalid_1's l1: 0.0569435\n",
      "[17000]\ttraining's l1: 0.0543745\tvalid_1's l1: 0.0569431\n",
      "[17100]\ttraining's l1: 0.0543725\tvalid_1's l1: 0.0569437\n",
      "[17200]\ttraining's l1: 0.0543707\tvalid_1's l1: 0.0569435\n",
      "[17300]\ttraining's l1: 0.054369\tvalid_1's l1: 0.0569433\n",
      "[17400]\ttraining's l1: 0.0543657\tvalid_1's l1: 0.0569423\n",
      "[17500]\ttraining's l1: 0.0543606\tvalid_1's l1: 0.0569409\n",
      "[17600]\ttraining's l1: 0.054356\tvalid_1's l1: 0.0569402\n",
      "[17700]\ttraining's l1: 0.0543516\tvalid_1's l1: 0.0569404\n",
      "[17800]\ttraining's l1: 0.0543486\tvalid_1's l1: 0.05694\n",
      "[17900]\ttraining's l1: 0.0543443\tvalid_1's l1: 0.0569387\n",
      "[18000]\ttraining's l1: 0.0543422\tvalid_1's l1: 0.0569382\n",
      "[18100]\ttraining's l1: 0.0543361\tvalid_1's l1: 0.0569377\n",
      "[18200]\ttraining's l1: 0.0543283\tvalid_1's l1: 0.0569347\n",
      "[18300]\ttraining's l1: 0.054325\tvalid_1's l1: 0.0569333\n",
      "[18400]\ttraining's l1: 0.0543205\tvalid_1's l1: 0.0569332\n",
      "[18500]\ttraining's l1: 0.0543142\tvalid_1's l1: 0.0569312\n",
      "[18600]\ttraining's l1: 0.0543084\tvalid_1's l1: 0.0569298\n",
      "[18700]\ttraining's l1: 0.0543047\tvalid_1's l1: 0.0569302\n",
      "[18800]\ttraining's l1: 0.054302\tvalid_1's l1: 0.0569307\n",
      "[18900]\ttraining's l1: 0.0542989\tvalid_1's l1: 0.0569297\n",
      "[19000]\ttraining's l1: 0.0542976\tvalid_1's l1: 0.0569298\n",
      "[19100]\ttraining's l1: 0.0542933\tvalid_1's l1: 0.0569293\n",
      "[19200]\ttraining's l1: 0.0542887\tvalid_1's l1: 0.0569269\n",
      "[19300]\ttraining's l1: 0.0542801\tvalid_1's l1: 0.0569242\n",
      "[19400]\ttraining's l1: 0.0542753\tvalid_1's l1: 0.0569233\n",
      "[19500]\ttraining's l1: 0.0542733\tvalid_1's l1: 0.0569228\n",
      "[19600]\ttraining's l1: 0.0542625\tvalid_1's l1: 0.056921\n",
      "[19700]\ttraining's l1: 0.0542542\tvalid_1's l1: 0.05692\n",
      "[19800]\ttraining's l1: 0.0542501\tvalid_1's l1: 0.0569176\n",
      "[19900]\ttraining's l1: 0.0542455\tvalid_1's l1: 0.056918\n",
      "[20000]\ttraining's l1: 0.0542434\tvalid_1's l1: 0.056918\n",
      "Did not meet early stopping. Best iteration is:\n",
      "[20000]\ttraining's l1: 0.0542434\tvalid_1's l1: 0.056918\n"
     ]
    },
    {
     "name": "stderr",
     "output_type": "stream",
     "text": [
      "[08/09/22 11:54:54] 3305026406.py:37 in <module>\n",
      "                    lgb_score: 0.9195511977487746\n"
     ]
    },
    {
     "data": {
      "text/plain": [
       "0.9195511977487746"
      ]
     },
     "execution_count": 426,
     "metadata": {},
     "output_type": "execute_result"
    }
   ],
   "source": [
    "import lightgbm as lgb\n",
    "params = {\n",
    "          'boosting': 'gbdt',\n",
    "          'objective': 'regression_l1',\n",
    "          'metric': {'l1'},\n",
    "          # 'num_leaves': 32,\n",
    "          # 'num_leaves': 24,\n",
    "          'num_leaves': 12,\n",
    "          'min_data_in_leaf': 300,\n",
    "          # 'min_data_in_leaf': 500,\n",
    "          # 'max_depth': 5,\n",
    "          'learning_rate': 0.03,\n",
    "          # \"feature_fraction\": 0.8,\n",
    "          # \"bagging_fraction\": 0.75,\n",
    "          # \"feature_fraction\": 0.9,\n",
    "          # \"bagging_fraction\": 0.8,\n",
    "          'feature_fraction': 0.7,\n",
    "          'bagging_fraction': 0.7,\n",
    "          'min_data_in_bin':100,\n",
    "          \"lambda_l1\": 1e-7,\n",
    "          'lambda_l2': 1e-7,\n",
    "          \"random_state\": 1024,\n",
    "          \"num_threads\": 12,\n",
    "          }\n",
    "\n",
    "d_train = lgb.Dataset(X_train, y_train)\n",
    "d_valid = lgb.Dataset(X_valid, y_valid, reference=d_train)\n",
    "\n",
    "lgb_model = lgb.train(params,\n",
    "                d_train,\n",
    "                20000,\n",
    "                valid_sets=[d_train, d_valid],\n",
    "                verbose_eval=100,\n",
    "                early_stopping_rounds=500)\n",
    "dvalid['lgb_pred'] = lgb_model.predict(dvalid[cols])\n",
    "lgb_score = calc_metric({'id': dvalid.id.values, 'cell_id': dvalid.cell_id.values, 'pred': dvalid.lgb_pred.values})\n",
    "ic(lgb_score)"
   ]
  },
  {
   "cell_type": "code",
   "execution_count": 427,
   "metadata": {},
   "outputs": [],
   "source": [
    "# model = lgb.LGBMRanker(\n",
    "#     objective=\"lambdarank\",\n",
    "#     metric=\"ndcg\",\n",
    "#     boosting_type=\"dart\",\n",
    "#     n_estimators=100,\n",
    "#     importance_type='gain',\n",
    "#     verbose=10,\n",
    "#     random_state = 17\n",
    "# )\n",
    "\n",
    "# qids_train = dtrain.groupby(['id'])['cell_id'].count().values\n",
    "# # y_train2 = [int(x * 1000) for x in y_train]\n",
    "\n",
    "# model.fit(\n",
    "#     X=X_train,\n",
    "#     y=y_train2,\n",
    "#     group=qids_train,\n",
    "# )"
   ]
  },
  {
   "cell_type": "code",
   "execution_count": 428,
   "metadata": {},
   "outputs": [],
   "source": [
    "# import xgboost as xgb\n",
    "# params = {\n",
    "#       'reg_lambda': 7.960622217848342e-07, \n",
    "#                       'subsample': 0.7422597612762745,\n",
    "#                       # 'bagging_temperature': 0.2,\n",
    "#                       'max_depth': 10, \n",
    "#                       # 'early_stopping_rounds': 500,\n",
    "#                       # 'n_estimators': 10000,\n",
    "#                       # 'cat_features': [],\n",
    "#                       # 'loss_function': 'MAE',\n",
    "#                       'min_child_samples': 100,\n",
    "#                       # eval_metric='MAE',\n",
    "# }\n",
    "# model = xgb.XGBRanker(booster=\"gbtree\", \n",
    "#                       # objective=\"rank:ndcg\",\n",
    "#                       objective='rank:pairwise',\n",
    "#                       tree_method=\"gpu_hist\", \n",
    "#                       sampling_method=\"gradient_based\",\n",
    "#                       n_estimators=5000,\n",
    "#                       learning_rate=0.03,\n",
    "#                       **params\n",
    "#                       )\n",
    "# train_groups = dtrain.groupby('id').size().to_numpy()\n",
    "# eval_groups = dvalid.groupby('id').size().to_numpy()\n",
    "# model.fit(X_train, \n",
    "#           y_train, \n",
    "#           group=train_groups, \n",
    "#           eval_set=[(X_train, y_train),(X_valid, y_valid)],\n",
    "#           eval_group=[train_groups, eval_groups],\n",
    "#           verbose=100)\n"
   ]
  },
  {
   "cell_type": "code",
   "execution_count": 429,
   "metadata": {},
   "outputs": [],
   "source": [
    "# xgb_model = model"
   ]
  },
  {
   "cell_type": "code",
   "execution_count": 430,
   "metadata": {},
   "outputs": [],
   "source": [
    "# dvalid['xgb_pred'] = xgb_model.predict(dvalid[cols])\n",
    "# dvalid['xgb_pred'] = [gezi.sigmoid(x) for x in dvalid.xgb_pred.values]\n",
    "# xgb_score = calc_metric({'id': dvalid.id.values, 'cell_id': dvalid.cell_id.values, 'pred': dvalid.xgb_pred.values})\n",
    "# ic(xgb_score)"
   ]
  },
  {
   "cell_type": "code",
   "execution_count": 431,
   "metadata": {},
   "outputs": [
    {
     "data": {
      "application/vnd.plotly.v1+json": {
       "config": {
        "plotlyServerURL": "https://plot.ly"
       },
       "data": [
        {
         "alignmentgroup": "True",
         "hovertemplate": "importance=%{x}<br>feat_name=%{y}<extra></extra>",
         "legendgroup": "",
         "marker": {
          "color": "#636efa",
          "pattern": {
           "shape": ""
          }
         },
         "name": "",
         "offsetgroup": "",
         "orientation": "h",
         "showlegend": false,
         "textposition": "auto",
         "type": "bar",
         "x": [
          2556,
          2591,
          2796,
          2846,
          2883,
          2925,
          3036,
          3214,
          3343,
          3431,
          3735,
          3904,
          3937,
          4442,
          4849,
          5064,
          5292,
          5397,
          5610,
          5773
         ],
         "xaxis": "x",
         "y": [
          "xc_top_pred_1",
          "xc_abs_cls_reg_diff",
          "xp_cls_pred",
          "pcc_cls_diff",
          "xp_top_prob_0",
          "pcc_cls2_diff",
          "xpc_abs_cls_diff",
          "xc_cls_cls2_diff",
          "xpc_pred",
          "code_ratio",
          "xp_top_prob_1",
          "xc_top_prob_2",
          "xc_abs_cls_cls2_diff",
          "xc_top_prob_3",
          "xpc_top_prob_0",
          "xpc_cls_pred",
          "xc_reg_pred",
          "n_words",
          "xc_cls_pred",
          "xc_top_prob_1"
         ],
         "yaxis": "y"
        }
       ],
       "layout": {
        "barmode": "relative",
        "legend": {
         "tracegroupgap": 0
        },
        "margin": {
         "t": 60
        },
        "template": {
         "data": {
          "bar": [
           {
            "error_x": {
             "color": "#2a3f5f"
            },
            "error_y": {
             "color": "#2a3f5f"
            },
            "marker": {
             "line": {
              "color": "#E5ECF6",
              "width": 0.5
             },
             "pattern": {
              "fillmode": "overlay",
              "size": 10,
              "solidity": 0.2
             }
            },
            "type": "bar"
           }
          ],
          "barpolar": [
           {
            "marker": {
             "line": {
              "color": "#E5ECF6",
              "width": 0.5
             },
             "pattern": {
              "fillmode": "overlay",
              "size": 10,
              "solidity": 0.2
             }
            },
            "type": "barpolar"
           }
          ],
          "carpet": [
           {
            "aaxis": {
             "endlinecolor": "#2a3f5f",
             "gridcolor": "white",
             "linecolor": "white",
             "minorgridcolor": "white",
             "startlinecolor": "#2a3f5f"
            },
            "baxis": {
             "endlinecolor": "#2a3f5f",
             "gridcolor": "white",
             "linecolor": "white",
             "minorgridcolor": "white",
             "startlinecolor": "#2a3f5f"
            },
            "type": "carpet"
           }
          ],
          "choropleth": [
           {
            "colorbar": {
             "outlinewidth": 0,
             "ticks": ""
            },
            "type": "choropleth"
           }
          ],
          "contour": [
           {
            "colorbar": {
             "outlinewidth": 0,
             "ticks": ""
            },
            "colorscale": [
             [
              0,
              "#0d0887"
             ],
             [
              0.1111111111111111,
              "#46039f"
             ],
             [
              0.2222222222222222,
              "#7201a8"
             ],
             [
              0.3333333333333333,
              "#9c179e"
             ],
             [
              0.4444444444444444,
              "#bd3786"
             ],
             [
              0.5555555555555556,
              "#d8576b"
             ],
             [
              0.6666666666666666,
              "#ed7953"
             ],
             [
              0.7777777777777778,
              "#fb9f3a"
             ],
             [
              0.8888888888888888,
              "#fdca26"
             ],
             [
              1,
              "#f0f921"
             ]
            ],
            "type": "contour"
           }
          ],
          "contourcarpet": [
           {
            "colorbar": {
             "outlinewidth": 0,
             "ticks": ""
            },
            "type": "contourcarpet"
           }
          ],
          "heatmap": [
           {
            "colorbar": {
             "outlinewidth": 0,
             "ticks": ""
            },
            "colorscale": [
             [
              0,
              "#0d0887"
             ],
             [
              0.1111111111111111,
              "#46039f"
             ],
             [
              0.2222222222222222,
              "#7201a8"
             ],
             [
              0.3333333333333333,
              "#9c179e"
             ],
             [
              0.4444444444444444,
              "#bd3786"
             ],
             [
              0.5555555555555556,
              "#d8576b"
             ],
             [
              0.6666666666666666,
              "#ed7953"
             ],
             [
              0.7777777777777778,
              "#fb9f3a"
             ],
             [
              0.8888888888888888,
              "#fdca26"
             ],
             [
              1,
              "#f0f921"
             ]
            ],
            "type": "heatmap"
           }
          ],
          "heatmapgl": [
           {
            "colorbar": {
             "outlinewidth": 0,
             "ticks": ""
            },
            "colorscale": [
             [
              0,
              "#0d0887"
             ],
             [
              0.1111111111111111,
              "#46039f"
             ],
             [
              0.2222222222222222,
              "#7201a8"
             ],
             [
              0.3333333333333333,
              "#9c179e"
             ],
             [
              0.4444444444444444,
              "#bd3786"
             ],
             [
              0.5555555555555556,
              "#d8576b"
             ],
             [
              0.6666666666666666,
              "#ed7953"
             ],
             [
              0.7777777777777778,
              "#fb9f3a"
             ],
             [
              0.8888888888888888,
              "#fdca26"
             ],
             [
              1,
              "#f0f921"
             ]
            ],
            "type": "heatmapgl"
           }
          ],
          "histogram": [
           {
            "marker": {
             "pattern": {
              "fillmode": "overlay",
              "size": 10,
              "solidity": 0.2
             }
            },
            "type": "histogram"
           }
          ],
          "histogram2d": [
           {
            "colorbar": {
             "outlinewidth": 0,
             "ticks": ""
            },
            "colorscale": [
             [
              0,
              "#0d0887"
             ],
             [
              0.1111111111111111,
              "#46039f"
             ],
             [
              0.2222222222222222,
              "#7201a8"
             ],
             [
              0.3333333333333333,
              "#9c179e"
             ],
             [
              0.4444444444444444,
              "#bd3786"
             ],
             [
              0.5555555555555556,
              "#d8576b"
             ],
             [
              0.6666666666666666,
              "#ed7953"
             ],
             [
              0.7777777777777778,
              "#fb9f3a"
             ],
             [
              0.8888888888888888,
              "#fdca26"
             ],
             [
              1,
              "#f0f921"
             ]
            ],
            "type": "histogram2d"
           }
          ],
          "histogram2dcontour": [
           {
            "colorbar": {
             "outlinewidth": 0,
             "ticks": ""
            },
            "colorscale": [
             [
              0,
              "#0d0887"
             ],
             [
              0.1111111111111111,
              "#46039f"
             ],
             [
              0.2222222222222222,
              "#7201a8"
             ],
             [
              0.3333333333333333,
              "#9c179e"
             ],
             [
              0.4444444444444444,
              "#bd3786"
             ],
             [
              0.5555555555555556,
              "#d8576b"
             ],
             [
              0.6666666666666666,
              "#ed7953"
             ],
             [
              0.7777777777777778,
              "#fb9f3a"
             ],
             [
              0.8888888888888888,
              "#fdca26"
             ],
             [
              1,
              "#f0f921"
             ]
            ],
            "type": "histogram2dcontour"
           }
          ],
          "mesh3d": [
           {
            "colorbar": {
             "outlinewidth": 0,
             "ticks": ""
            },
            "type": "mesh3d"
           }
          ],
          "parcoords": [
           {
            "line": {
             "colorbar": {
              "outlinewidth": 0,
              "ticks": ""
             }
            },
            "type": "parcoords"
           }
          ],
          "pie": [
           {
            "automargin": true,
            "type": "pie"
           }
          ],
          "scatter": [
           {
            "marker": {
             "colorbar": {
              "outlinewidth": 0,
              "ticks": ""
             }
            },
            "type": "scatter"
           }
          ],
          "scatter3d": [
           {
            "line": {
             "colorbar": {
              "outlinewidth": 0,
              "ticks": ""
             }
            },
            "marker": {
             "colorbar": {
              "outlinewidth": 0,
              "ticks": ""
             }
            },
            "type": "scatter3d"
           }
          ],
          "scattercarpet": [
           {
            "marker": {
             "colorbar": {
              "outlinewidth": 0,
              "ticks": ""
             }
            },
            "type": "scattercarpet"
           }
          ],
          "scattergeo": [
           {
            "marker": {
             "colorbar": {
              "outlinewidth": 0,
              "ticks": ""
             }
            },
            "type": "scattergeo"
           }
          ],
          "scattergl": [
           {
            "marker": {
             "colorbar": {
              "outlinewidth": 0,
              "ticks": ""
             }
            },
            "type": "scattergl"
           }
          ],
          "scattermapbox": [
           {
            "marker": {
             "colorbar": {
              "outlinewidth": 0,
              "ticks": ""
             }
            },
            "type": "scattermapbox"
           }
          ],
          "scatterpolar": [
           {
            "marker": {
             "colorbar": {
              "outlinewidth": 0,
              "ticks": ""
             }
            },
            "type": "scatterpolar"
           }
          ],
          "scatterpolargl": [
           {
            "marker": {
             "colorbar": {
              "outlinewidth": 0,
              "ticks": ""
             }
            },
            "type": "scatterpolargl"
           }
          ],
          "scatterternary": [
           {
            "marker": {
             "colorbar": {
              "outlinewidth": 0,
              "ticks": ""
             }
            },
            "type": "scatterternary"
           }
          ],
          "surface": [
           {
            "colorbar": {
             "outlinewidth": 0,
             "ticks": ""
            },
            "colorscale": [
             [
              0,
              "#0d0887"
             ],
             [
              0.1111111111111111,
              "#46039f"
             ],
             [
              0.2222222222222222,
              "#7201a8"
             ],
             [
              0.3333333333333333,
              "#9c179e"
             ],
             [
              0.4444444444444444,
              "#bd3786"
             ],
             [
              0.5555555555555556,
              "#d8576b"
             ],
             [
              0.6666666666666666,
              "#ed7953"
             ],
             [
              0.7777777777777778,
              "#fb9f3a"
             ],
             [
              0.8888888888888888,
              "#fdca26"
             ],
             [
              1,
              "#f0f921"
             ]
            ],
            "type": "surface"
           }
          ],
          "table": [
           {
            "cells": {
             "fill": {
              "color": "#EBF0F8"
             },
             "line": {
              "color": "white"
             }
            },
            "header": {
             "fill": {
              "color": "#C8D4E3"
             },
             "line": {
              "color": "white"
             }
            },
            "type": "table"
           }
          ]
         },
         "layout": {
          "annotationdefaults": {
           "arrowcolor": "#2a3f5f",
           "arrowhead": 0,
           "arrowwidth": 1
          },
          "autotypenumbers": "strict",
          "coloraxis": {
           "colorbar": {
            "outlinewidth": 0,
            "ticks": ""
           }
          },
          "colorscale": {
           "diverging": [
            [
             0,
             "#8e0152"
            ],
            [
             0.1,
             "#c51b7d"
            ],
            [
             0.2,
             "#de77ae"
            ],
            [
             0.3,
             "#f1b6da"
            ],
            [
             0.4,
             "#fde0ef"
            ],
            [
             0.5,
             "#f7f7f7"
            ],
            [
             0.6,
             "#e6f5d0"
            ],
            [
             0.7,
             "#b8e186"
            ],
            [
             0.8,
             "#7fbc41"
            ],
            [
             0.9,
             "#4d9221"
            ],
            [
             1,
             "#276419"
            ]
           ],
           "sequential": [
            [
             0,
             "#0d0887"
            ],
            [
             0.1111111111111111,
             "#46039f"
            ],
            [
             0.2222222222222222,
             "#7201a8"
            ],
            [
             0.3333333333333333,
             "#9c179e"
            ],
            [
             0.4444444444444444,
             "#bd3786"
            ],
            [
             0.5555555555555556,
             "#d8576b"
            ],
            [
             0.6666666666666666,
             "#ed7953"
            ],
            [
             0.7777777777777778,
             "#fb9f3a"
            ],
            [
             0.8888888888888888,
             "#fdca26"
            ],
            [
             1,
             "#f0f921"
            ]
           ],
           "sequentialminus": [
            [
             0,
             "#0d0887"
            ],
            [
             0.1111111111111111,
             "#46039f"
            ],
            [
             0.2222222222222222,
             "#7201a8"
            ],
            [
             0.3333333333333333,
             "#9c179e"
            ],
            [
             0.4444444444444444,
             "#bd3786"
            ],
            [
             0.5555555555555556,
             "#d8576b"
            ],
            [
             0.6666666666666666,
             "#ed7953"
            ],
            [
             0.7777777777777778,
             "#fb9f3a"
            ],
            [
             0.8888888888888888,
             "#fdca26"
            ],
            [
             1,
             "#f0f921"
            ]
           ]
          },
          "colorway": [
           "#636efa",
           "#EF553B",
           "#00cc96",
           "#ab63fa",
           "#FFA15A",
           "#19d3f3",
           "#FF6692",
           "#B6E880",
           "#FF97FF",
           "#FECB52"
          ],
          "font": {
           "color": "#2a3f5f"
          },
          "geo": {
           "bgcolor": "white",
           "lakecolor": "white",
           "landcolor": "#E5ECF6",
           "showlakes": true,
           "showland": true,
           "subunitcolor": "white"
          },
          "hoverlabel": {
           "align": "left"
          },
          "hovermode": "closest",
          "mapbox": {
           "style": "light"
          },
          "paper_bgcolor": "white",
          "plot_bgcolor": "#E5ECF6",
          "polar": {
           "angularaxis": {
            "gridcolor": "white",
            "linecolor": "white",
            "ticks": ""
           },
           "bgcolor": "#E5ECF6",
           "radialaxis": {
            "gridcolor": "white",
            "linecolor": "white",
            "ticks": ""
           }
          },
          "scene": {
           "xaxis": {
            "backgroundcolor": "#E5ECF6",
            "gridcolor": "white",
            "gridwidth": 2,
            "linecolor": "white",
            "showbackground": true,
            "ticks": "",
            "zerolinecolor": "white"
           },
           "yaxis": {
            "backgroundcolor": "#E5ECF6",
            "gridcolor": "white",
            "gridwidth": 2,
            "linecolor": "white",
            "showbackground": true,
            "ticks": "",
            "zerolinecolor": "white"
           },
           "zaxis": {
            "backgroundcolor": "#E5ECF6",
            "gridcolor": "white",
            "gridwidth": 2,
            "linecolor": "white",
            "showbackground": true,
            "ticks": "",
            "zerolinecolor": "white"
           }
          },
          "shapedefaults": {
           "line": {
            "color": "#2a3f5f"
           }
          },
          "ternary": {
           "aaxis": {
            "gridcolor": "white",
            "linecolor": "white",
            "ticks": ""
           },
           "baxis": {
            "gridcolor": "white",
            "linecolor": "white",
            "ticks": ""
           },
           "bgcolor": "#E5ECF6",
           "caxis": {
            "gridcolor": "white",
            "linecolor": "white",
            "ticks": ""
           }
          },
          "title": {
           "x": 0.05
          },
          "xaxis": {
           "automargin": true,
           "gridcolor": "white",
           "linecolor": "white",
           "ticks": "",
           "title": {
            "standoff": 15
           },
           "zerolinecolor": "white",
           "zerolinewidth": 2
          },
          "yaxis": {
           "automargin": true,
           "gridcolor": "white",
           "linecolor": "white",
           "ticks": "",
           "title": {
            "standoff": 15
           },
           "zerolinecolor": "white",
           "zerolinewidth": 2
          }
         }
        },
        "xaxis": {
         "anchor": "y",
         "domain": [
          0,
          1
         ],
         "title": {
          "text": "importance"
         }
        },
        "yaxis": {
         "anchor": "x",
         "domain": [
          0,
          1
         ],
         "title": {
          "text": "feat_name"
         }
        }
       }
      },
      "text/html": [
       "<div>                            <div id=\"4464275d-60be-4bbd-b7b1-adf1a9c8e1ae\" class=\"plotly-graph-div\" style=\"height:525px; width:100%;\"></div>            <script type=\"text/javascript\">                require([\"plotly\"], function(Plotly) {                    window.PLOTLYENV=window.PLOTLYENV || {};                                    if (document.getElementById(\"4464275d-60be-4bbd-b7b1-adf1a9c8e1ae\")) {                    Plotly.newPlot(                        \"4464275d-60be-4bbd-b7b1-adf1a9c8e1ae\",                        [{\"alignmentgroup\":\"True\",\"hovertemplate\":\"importance=%{x}<br>feat_name=%{y}<extra></extra>\",\"legendgroup\":\"\",\"marker\":{\"color\":\"#636efa\",\"pattern\":{\"shape\":\"\"}},\"name\":\"\",\"offsetgroup\":\"\",\"orientation\":\"h\",\"showlegend\":false,\"textposition\":\"auto\",\"x\":[2556,2591,2796,2846,2883,2925,3036,3214,3343,3431,3735,3904,3937,4442,4849,5064,5292,5397,5610,5773],\"xaxis\":\"x\",\"y\":[\"xc_top_pred_1\",\"xc_abs_cls_reg_diff\",\"xp_cls_pred\",\"pcc_cls_diff\",\"xp_top_prob_0\",\"pcc_cls2_diff\",\"xpc_abs_cls_diff\",\"xc_cls_cls2_diff\",\"xpc_pred\",\"code_ratio\",\"xp_top_prob_1\",\"xc_top_prob_2\",\"xc_abs_cls_cls2_diff\",\"xc_top_prob_3\",\"xpc_top_prob_0\",\"xpc_cls_pred\",\"xc_reg_pred\",\"n_words\",\"xc_cls_pred\",\"xc_top_prob_1\"],\"yaxis\":\"y\",\"type\":\"bar\"}],                        {\"template\":{\"data\":{\"bar\":[{\"error_x\":{\"color\":\"#2a3f5f\"},\"error_y\":{\"color\":\"#2a3f5f\"},\"marker\":{\"line\":{\"color\":\"#E5ECF6\",\"width\":0.5},\"pattern\":{\"fillmode\":\"overlay\",\"size\":10,\"solidity\":0.2}},\"type\":\"bar\"}],\"barpolar\":[{\"marker\":{\"line\":{\"color\":\"#E5ECF6\",\"width\":0.5},\"pattern\":{\"fillmode\":\"overlay\",\"size\":10,\"solidity\":0.2}},\"type\":\"barpolar\"}],\"carpet\":[{\"aaxis\":{\"endlinecolor\":\"#2a3f5f\",\"gridcolor\":\"white\",\"linecolor\":\"white\",\"minorgridcolor\":\"white\",\"startlinecolor\":\"#2a3f5f\"},\"baxis\":{\"endlinecolor\":\"#2a3f5f\",\"gridcolor\":\"white\",\"linecolor\":\"white\",\"minorgridcolor\":\"white\",\"startlinecolor\":\"#2a3f5f\"},\"type\":\"carpet\"}],\"choropleth\":[{\"colorbar\":{\"outlinewidth\":0,\"ticks\":\"\"},\"type\":\"choropleth\"}],\"contour\":[{\"colorbar\":{\"outlinewidth\":0,\"ticks\":\"\"},\"colorscale\":[[0.0,\"#0d0887\"],[0.1111111111111111,\"#46039f\"],[0.2222222222222222,\"#7201a8\"],[0.3333333333333333,\"#9c179e\"],[0.4444444444444444,\"#bd3786\"],[0.5555555555555556,\"#d8576b\"],[0.6666666666666666,\"#ed7953\"],[0.7777777777777778,\"#fb9f3a\"],[0.8888888888888888,\"#fdca26\"],[1.0,\"#f0f921\"]],\"type\":\"contour\"}],\"contourcarpet\":[{\"colorbar\":{\"outlinewidth\":0,\"ticks\":\"\"},\"type\":\"contourcarpet\"}],\"heatmap\":[{\"colorbar\":{\"outlinewidth\":0,\"ticks\":\"\"},\"colorscale\":[[0.0,\"#0d0887\"],[0.1111111111111111,\"#46039f\"],[0.2222222222222222,\"#7201a8\"],[0.3333333333333333,\"#9c179e\"],[0.4444444444444444,\"#bd3786\"],[0.5555555555555556,\"#d8576b\"],[0.6666666666666666,\"#ed7953\"],[0.7777777777777778,\"#fb9f3a\"],[0.8888888888888888,\"#fdca26\"],[1.0,\"#f0f921\"]],\"type\":\"heatmap\"}],\"heatmapgl\":[{\"colorbar\":{\"outlinewidth\":0,\"ticks\":\"\"},\"colorscale\":[[0.0,\"#0d0887\"],[0.1111111111111111,\"#46039f\"],[0.2222222222222222,\"#7201a8\"],[0.3333333333333333,\"#9c179e\"],[0.4444444444444444,\"#bd3786\"],[0.5555555555555556,\"#d8576b\"],[0.6666666666666666,\"#ed7953\"],[0.7777777777777778,\"#fb9f3a\"],[0.8888888888888888,\"#fdca26\"],[1.0,\"#f0f921\"]],\"type\":\"heatmapgl\"}],\"histogram\":[{\"marker\":{\"pattern\":{\"fillmode\":\"overlay\",\"size\":10,\"solidity\":0.2}},\"type\":\"histogram\"}],\"histogram2d\":[{\"colorbar\":{\"outlinewidth\":0,\"ticks\":\"\"},\"colorscale\":[[0.0,\"#0d0887\"],[0.1111111111111111,\"#46039f\"],[0.2222222222222222,\"#7201a8\"],[0.3333333333333333,\"#9c179e\"],[0.4444444444444444,\"#bd3786\"],[0.5555555555555556,\"#d8576b\"],[0.6666666666666666,\"#ed7953\"],[0.7777777777777778,\"#fb9f3a\"],[0.8888888888888888,\"#fdca26\"],[1.0,\"#f0f921\"]],\"type\":\"histogram2d\"}],\"histogram2dcontour\":[{\"colorbar\":{\"outlinewidth\":0,\"ticks\":\"\"},\"colorscale\":[[0.0,\"#0d0887\"],[0.1111111111111111,\"#46039f\"],[0.2222222222222222,\"#7201a8\"],[0.3333333333333333,\"#9c179e\"],[0.4444444444444444,\"#bd3786\"],[0.5555555555555556,\"#d8576b\"],[0.6666666666666666,\"#ed7953\"],[0.7777777777777778,\"#fb9f3a\"],[0.8888888888888888,\"#fdca26\"],[1.0,\"#f0f921\"]],\"type\":\"histogram2dcontour\"}],\"mesh3d\":[{\"colorbar\":{\"outlinewidth\":0,\"ticks\":\"\"},\"type\":\"mesh3d\"}],\"parcoords\":[{\"line\":{\"colorbar\":{\"outlinewidth\":0,\"ticks\":\"\"}},\"type\":\"parcoords\"}],\"pie\":[{\"automargin\":true,\"type\":\"pie\"}],\"scatter\":[{\"marker\":{\"colorbar\":{\"outlinewidth\":0,\"ticks\":\"\"}},\"type\":\"scatter\"}],\"scatter3d\":[{\"line\":{\"colorbar\":{\"outlinewidth\":0,\"ticks\":\"\"}},\"marker\":{\"colorbar\":{\"outlinewidth\":0,\"ticks\":\"\"}},\"type\":\"scatter3d\"}],\"scattercarpet\":[{\"marker\":{\"colorbar\":{\"outlinewidth\":0,\"ticks\":\"\"}},\"type\":\"scattercarpet\"}],\"scattergeo\":[{\"marker\":{\"colorbar\":{\"outlinewidth\":0,\"ticks\":\"\"}},\"type\":\"scattergeo\"}],\"scattergl\":[{\"marker\":{\"colorbar\":{\"outlinewidth\":0,\"ticks\":\"\"}},\"type\":\"scattergl\"}],\"scattermapbox\":[{\"marker\":{\"colorbar\":{\"outlinewidth\":0,\"ticks\":\"\"}},\"type\":\"scattermapbox\"}],\"scatterpolar\":[{\"marker\":{\"colorbar\":{\"outlinewidth\":0,\"ticks\":\"\"}},\"type\":\"scatterpolar\"}],\"scatterpolargl\":[{\"marker\":{\"colorbar\":{\"outlinewidth\":0,\"ticks\":\"\"}},\"type\":\"scatterpolargl\"}],\"scatterternary\":[{\"marker\":{\"colorbar\":{\"outlinewidth\":0,\"ticks\":\"\"}},\"type\":\"scatterternary\"}],\"surface\":[{\"colorbar\":{\"outlinewidth\":0,\"ticks\":\"\"},\"colorscale\":[[0.0,\"#0d0887\"],[0.1111111111111111,\"#46039f\"],[0.2222222222222222,\"#7201a8\"],[0.3333333333333333,\"#9c179e\"],[0.4444444444444444,\"#bd3786\"],[0.5555555555555556,\"#d8576b\"],[0.6666666666666666,\"#ed7953\"],[0.7777777777777778,\"#fb9f3a\"],[0.8888888888888888,\"#fdca26\"],[1.0,\"#f0f921\"]],\"type\":\"surface\"}],\"table\":[{\"cells\":{\"fill\":{\"color\":\"#EBF0F8\"},\"line\":{\"color\":\"white\"}},\"header\":{\"fill\":{\"color\":\"#C8D4E3\"},\"line\":{\"color\":\"white\"}},\"type\":\"table\"}]},\"layout\":{\"annotationdefaults\":{\"arrowcolor\":\"#2a3f5f\",\"arrowhead\":0,\"arrowwidth\":1},\"autotypenumbers\":\"strict\",\"coloraxis\":{\"colorbar\":{\"outlinewidth\":0,\"ticks\":\"\"}},\"colorscale\":{\"diverging\":[[0,\"#8e0152\"],[0.1,\"#c51b7d\"],[0.2,\"#de77ae\"],[0.3,\"#f1b6da\"],[0.4,\"#fde0ef\"],[0.5,\"#f7f7f7\"],[0.6,\"#e6f5d0\"],[0.7,\"#b8e186\"],[0.8,\"#7fbc41\"],[0.9,\"#4d9221\"],[1,\"#276419\"]],\"sequential\":[[0.0,\"#0d0887\"],[0.1111111111111111,\"#46039f\"],[0.2222222222222222,\"#7201a8\"],[0.3333333333333333,\"#9c179e\"],[0.4444444444444444,\"#bd3786\"],[0.5555555555555556,\"#d8576b\"],[0.6666666666666666,\"#ed7953\"],[0.7777777777777778,\"#fb9f3a\"],[0.8888888888888888,\"#fdca26\"],[1.0,\"#f0f921\"]],\"sequentialminus\":[[0.0,\"#0d0887\"],[0.1111111111111111,\"#46039f\"],[0.2222222222222222,\"#7201a8\"],[0.3333333333333333,\"#9c179e\"],[0.4444444444444444,\"#bd3786\"],[0.5555555555555556,\"#d8576b\"],[0.6666666666666666,\"#ed7953\"],[0.7777777777777778,\"#fb9f3a\"],[0.8888888888888888,\"#fdca26\"],[1.0,\"#f0f921\"]]},\"colorway\":[\"#636efa\",\"#EF553B\",\"#00cc96\",\"#ab63fa\",\"#FFA15A\",\"#19d3f3\",\"#FF6692\",\"#B6E880\",\"#FF97FF\",\"#FECB52\"],\"font\":{\"color\":\"#2a3f5f\"},\"geo\":{\"bgcolor\":\"white\",\"lakecolor\":\"white\",\"landcolor\":\"#E5ECF6\",\"showlakes\":true,\"showland\":true,\"subunitcolor\":\"white\"},\"hoverlabel\":{\"align\":\"left\"},\"hovermode\":\"closest\",\"mapbox\":{\"style\":\"light\"},\"paper_bgcolor\":\"white\",\"plot_bgcolor\":\"#E5ECF6\",\"polar\":{\"angularaxis\":{\"gridcolor\":\"white\",\"linecolor\":\"white\",\"ticks\":\"\"},\"bgcolor\":\"#E5ECF6\",\"radialaxis\":{\"gridcolor\":\"white\",\"linecolor\":\"white\",\"ticks\":\"\"}},\"scene\":{\"xaxis\":{\"backgroundcolor\":\"#E5ECF6\",\"gridcolor\":\"white\",\"gridwidth\":2,\"linecolor\":\"white\",\"showbackground\":true,\"ticks\":\"\",\"zerolinecolor\":\"white\"},\"yaxis\":{\"backgroundcolor\":\"#E5ECF6\",\"gridcolor\":\"white\",\"gridwidth\":2,\"linecolor\":\"white\",\"showbackground\":true,\"ticks\":\"\",\"zerolinecolor\":\"white\"},\"zaxis\":{\"backgroundcolor\":\"#E5ECF6\",\"gridcolor\":\"white\",\"gridwidth\":2,\"linecolor\":\"white\",\"showbackground\":true,\"ticks\":\"\",\"zerolinecolor\":\"white\"}},\"shapedefaults\":{\"line\":{\"color\":\"#2a3f5f\"}},\"ternary\":{\"aaxis\":{\"gridcolor\":\"white\",\"linecolor\":\"white\",\"ticks\":\"\"},\"baxis\":{\"gridcolor\":\"white\",\"linecolor\":\"white\",\"ticks\":\"\"},\"bgcolor\":\"#E5ECF6\",\"caxis\":{\"gridcolor\":\"white\",\"linecolor\":\"white\",\"ticks\":\"\"}},\"title\":{\"x\":0.05},\"xaxis\":{\"automargin\":true,\"gridcolor\":\"white\",\"linecolor\":\"white\",\"ticks\":\"\",\"title\":{\"standoff\":15},\"zerolinecolor\":\"white\",\"zerolinewidth\":2},\"yaxis\":{\"automargin\":true,\"gridcolor\":\"white\",\"linecolor\":\"white\",\"ticks\":\"\",\"title\":{\"standoff\":15},\"zerolinecolor\":\"white\",\"zerolinewidth\":2}}},\"xaxis\":{\"anchor\":\"y\",\"domain\":[0.0,1.0],\"title\":{\"text\":\"importance\"}},\"yaxis\":{\"anchor\":\"x\",\"domain\":[0.0,1.0],\"title\":{\"text\":\"feat_name\"}},\"legend\":{\"tracegroupgap\":0},\"margin\":{\"t\":60},\"barmode\":\"relative\"},                        {\"responsive\": true}                    ).then(function(){\n",
       "                            \n",
       "var gd = document.getElementById('4464275d-60be-4bbd-b7b1-adf1a9c8e1ae');\n",
       "var x = new MutationObserver(function (mutations, observer) {{\n",
       "        var display = window.getComputedStyle(gd).display;\n",
       "        if (!display || display === 'none') {{\n",
       "            console.log([gd, 'removed!']);\n",
       "            Plotly.purge(gd);\n",
       "            observer.disconnect();\n",
       "        }}\n",
       "}});\n",
       "\n",
       "// Listen for the removal of the full notebook cells\n",
       "var notebookContainer = gd.closest('#notebook-container');\n",
       "if (notebookContainer) {{\n",
       "    x.observe(notebookContainer, {childList: true});\n",
       "}}\n",
       "\n",
       "// Listen for the clearing of the current output cell\n",
       "var outputEl = gd.closest('.output');\n",
       "if (outputEl) {{\n",
       "    x.observe(outputEl, {childList: true});\n",
       "}}\n",
       "\n",
       "                        })                };                });            </script>        </div>"
      ]
     },
     "metadata": {},
     "output_type": "display_data"
    }
   ],
   "source": [
    "gezi.plot.feature_importance(lgb_model, topn=20)"
   ]
  },
  {
   "cell_type": "code",
   "execution_count": 432,
   "metadata": {},
   "outputs": [
    {
     "data": {
      "text/plain": [
       "0.9195142930981944"
      ]
     },
     "execution_count": 432,
     "metadata": {},
     "output_type": "execute_result"
    }
   ],
   "source": [
    "dvalid['cbt_pred'] = cbt_model.predict(dvalid[cols])\n",
    "cbt_score = calc_metric({'id': dvalid.id.values, 'cell_id': dvalid.cell_id.values, 'pred': dvalid.cbt_pred.values})\n",
    "cbt_score"
   ]
  },
  {
   "cell_type": "code",
   "execution_count": 433,
   "metadata": {},
   "outputs": [
    {
     "data": {
      "application/vnd.jupyter.widget-view+json": {
       "model_id": "b73d1312cbfc48acb8fcb3865867cf2f",
       "version_major": 2,
       "version_minor": 0
      },
      "text/plain": [
       "  0%|          | 0/5 [00:00<?, ?it/s]"
      ]
     },
     "metadata": {},
     "output_type": "display_data"
    },
    {
     "name": "stderr",
     "output_type": "stream",
     "text": [
      "[08/09/22 11:59:25] 4217963489.py:21 in <module>\n",
      "                    cbt_score: 0.9195142930981944\n",
      "[08/09/22 12:00:06] 4217963489.py:36 in <module>\n",
      "                    lgb_score: 0.9195511977487746\n",
      "[08/09/22 12:00:13] 4217963489.py:38 in <module>\n",
      "                    score: 0.9198101558053882\n",
      "[08/09/22 12:00:13] 4217963489.py:43 in <module>\n",
      "                    fold: 0\n",
      "                    np.asarray(cbt_scores).mean(): 0.9195142930981944\n",
      "                    np.asarray(lgb_scores).mean(): 0.9195511977487746\n",
      "                    np.asarray(scores).mean(): 0.9198101558053882\n"
     ]
    },
    {
     "name": "stdout",
     "output_type": "stream",
     "text": [
      "0:\tlearn: 0.2523304\ttest: 0.2523304\ttest1: 0.2522116\tbest: 0.2522116 (0)\ttotal: 54.3ms\tremaining: 9m 3s\n",
      "500:\tlearn: 0.0577707\ttest: 0.0577707\ttest1: 0.0569862\tbest: 0.0569862 (500)\ttotal: 20.8s\tremaining: 6m 33s\n",
      "1000:\tlearn: 0.0566185\ttest: 0.0566185\ttest1: 0.0560441\tbest: 0.0560441 (1000)\ttotal: 49.4s\tremaining: 7m 24s\n",
      "1500:\tlearn: 0.0561655\ttest: 0.0561655\ttest1: 0.0557697\tbest: 0.0557697 (1500)\ttotal: 1m 18s\tremaining: 7m 24s\n",
      "2000:\tlearn: 0.0557905\ttest: 0.0557905\ttest1: 0.0556044\tbest: 0.0556044 (2000)\ttotal: 1m 46s\tremaining: 7m 7s\n",
      "2500:\tlearn: 0.0554716\ttest: 0.0554716\ttest1: 0.0554951\tbest: 0.0554949 (2498)\ttotal: 2m 26s\tremaining: 7m 17s\n",
      "3000:\tlearn: 0.0552276\ttest: 0.0552276\ttest1: 0.0554209\tbest: 0.0554208 (2999)\ttotal: 3m 8s\tremaining: 7m 18s\n",
      "3500:\tlearn: 0.0549877\ttest: 0.0549877\ttest1: 0.0553676\tbest: 0.0553676 (3500)\ttotal: 3m 59s\tremaining: 7m 24s\n",
      "4000:\tlearn: 0.0547483\ttest: 0.0547483\ttest1: 0.0553201\tbest: 0.0553201 (3999)\ttotal: 4m 49s\tremaining: 7m 13s\n",
      "4500:\tlearn: 0.0545346\ttest: 0.0545346\ttest1: 0.0552844\tbest: 0.0552841 (4496)\ttotal: 5m 40s\tremaining: 6m 56s\n",
      "5000:\tlearn: 0.0543318\ttest: 0.0543318\ttest1: 0.0552557\tbest: 0.0552553 (4996)\ttotal: 6m 23s\tremaining: 6m 23s\n",
      "5500:\tlearn: 0.0541413\ttest: 0.0541413\ttest1: 0.0552394\tbest: 0.0552386 (5494)\ttotal: 7m 10s\tremaining: 5m 52s\n",
      "6000:\tlearn: 0.0539608\ttest: 0.0539608\ttest1: 0.0552174\tbest: 0.0552174 (5999)\ttotal: 7m 58s\tremaining: 5m 18s\n",
      "6500:\tlearn: 0.0537909\ttest: 0.0537909\ttest1: 0.0552032\tbest: 0.0552031 (6498)\ttotal: 8m 47s\tremaining: 4m 44s\n",
      "7000:\tlearn: 0.0536161\ttest: 0.0536161\ttest1: 0.0551893\tbest: 0.0551891 (6998)\ttotal: 9m 35s\tremaining: 4m 6s\n",
      "7500:\tlearn: 0.0534615\ttest: 0.0534615\ttest1: 0.0551770\tbest: 0.0551770 (7500)\ttotal: 10m 13s\tremaining: 3m 24s\n",
      "8000:\tlearn: 0.0532913\ttest: 0.0532913\ttest1: 0.0551773\tbest: 0.0551706 (7724)\ttotal: 10m 55s\tremaining: 2m 43s\n",
      "Stopped by overfitting detector  (500 iterations wait)\n",
      "\n",
      "bestTest = 0.05517061011\n",
      "bestIteration = 7724\n",
      "\n",
      "Shrink model to first 7725 iterations.\n"
     ]
    },
    {
     "name": "stderr",
     "output_type": "stream",
     "text": [
      "[08/09/22 12:11:35] 4217963489.py:21 in <module>\n",
      "                    cbt_score: 0.9218303226369757\n"
     ]
    },
    {
     "name": "stdout",
     "output_type": "stream",
     "text": [
      "[LightGBM] [Warning] Auto-choosing col-wise multi-threading, the overhead of testing was 0.067247 seconds.\n",
      "You can set `force_col_wise=true` to remove the overhead.\n",
      "[LightGBM] [Info] Total Bins 29892\n",
      "[LightGBM] [Info] Number of data points in the train set: 339696, number of used features: 122\n",
      "[LightGBM] [Info] Start training from score 0.455882\n",
      "Training until validation scores don't improve for 100 rounds\n",
      "[500]\ttraining's l1: 0.058338\tvalid_1's l1: 0.0574237\n",
      "[1000]\ttraining's l1: 0.057003\tvalid_1's l1: 0.0562923\n",
      "[1500]\ttraining's l1: 0.0565813\tvalid_1's l1: 0.0559892\n",
      "[2000]\ttraining's l1: 0.0563491\tvalid_1's l1: 0.0558518\n",
      "[2500]\ttraining's l1: 0.0561449\tvalid_1's l1: 0.0557391\n",
      "[3000]\ttraining's l1: 0.0560164\tvalid_1's l1: 0.0556815\n",
      "[3500]\ttraining's l1: 0.0558988\tvalid_1's l1: 0.0556258\n",
      "[4000]\ttraining's l1: 0.0557678\tvalid_1's l1: 0.0555662\n",
      "[4500]\ttraining's l1: 0.0556232\tvalid_1's l1: 0.0555128\n",
      "[5000]\ttraining's l1: 0.055534\tvalid_1's l1: 0.0554745\n",
      "[5500]\ttraining's l1: 0.0554652\tvalid_1's l1: 0.0554525\n",
      "[6000]\ttraining's l1: 0.0553835\tvalid_1's l1: 0.0554317\n",
      "[6500]\ttraining's l1: 0.0553284\tvalid_1's l1: 0.0554102\n",
      "[7000]\ttraining's l1: 0.0552603\tvalid_1's l1: 0.0553916\n",
      "[7500]\ttraining's l1: 0.0551423\tvalid_1's l1: 0.0553602\n",
      "[8000]\ttraining's l1: 0.0550912\tvalid_1's l1: 0.0553457\n",
      "[8500]\ttraining's l1: 0.055028\tvalid_1's l1: 0.0553318\n",
      "[9000]\ttraining's l1: 0.0549897\tvalid_1's l1: 0.0553227\n",
      "Early stopping, best iteration is:\n",
      "[9074]\ttraining's l1: 0.0549794\tvalid_1's l1: 0.0553217\n"
     ]
    },
    {
     "name": "stderr",
     "output_type": "stream",
     "text": [
      "[08/09/22 12:14:27] 4217963489.py:36 in <module>\n",
      "                    lgb_score: 0.9216956059448069\n",
      "[08/09/22 12:14:29] 4217963489.py:38 in <module>\n",
      "                    score: 0.9219882663450358\n",
      "[08/09/22 12:14:30] 4217963489.py:43 in <module>\n",
      "                    fold: 1\n",
      "                    np.asarray(cbt_scores).mean(): 0.9206723078675851\n",
      "                    np.asarray(lgb_scores).mean(): 0.9206234018467907\n",
      "                    np.asarray(scores).mean(): 0.920899211075212\n"
     ]
    },
    {
     "name": "stdout",
     "output_type": "stream",
     "text": [
      "0:\tlearn: 0.2522404\ttest: 0.2522404\ttest1: 0.2526133\tbest: 0.2526133 (0)\ttotal: 66.8ms\tremaining: 11m 7s\n",
      "500:\tlearn: 0.0574340\ttest: 0.0574340\ttest1: 0.0583311\tbest: 0.0583311 (500)\ttotal: 26.9s\tremaining: 8m 30s\n",
      "1000:\tlearn: 0.0563419\ttest: 0.0563419\ttest1: 0.0573868\tbest: 0.0573868 (1000)\ttotal: 54.8s\tremaining: 8m 12s\n",
      "1500:\tlearn: 0.0558893\ttest: 0.0558893\ttest1: 0.0570802\tbest: 0.0570802 (1500)\ttotal: 1m 22s\tremaining: 7m 48s\n",
      "2000:\tlearn: 0.0555694\ttest: 0.0555694\ttest1: 0.0569048\tbest: 0.0569044 (1999)\ttotal: 1m 49s\tremaining: 7m 18s\n",
      "2500:\tlearn: 0.0552885\ttest: 0.0552885\ttest1: 0.0567814\tbest: 0.0567814 (2500)\ttotal: 2m 17s\tremaining: 6m 51s\n",
      "3000:\tlearn: 0.0550390\ttest: 0.0550390\ttest1: 0.0566954\tbest: 0.0566951 (2991)\ttotal: 2m 44s\tremaining: 6m 24s\n",
      "3500:\tlearn: 0.0548124\ttest: 0.0548124\ttest1: 0.0566394\tbest: 0.0566394 (3499)\ttotal: 3m 7s\tremaining: 5m 47s\n",
      "4000:\tlearn: 0.0546277\ttest: 0.0546277\ttest1: 0.0566004\tbest: 0.0566000 (3997)\ttotal: 3m 27s\tremaining: 5m 10s\n",
      "4500:\tlearn: 0.0544322\ttest: 0.0544322\ttest1: 0.0565546\tbest: 0.0565543 (4498)\ttotal: 3m 46s\tremaining: 4m 37s\n",
      "5000:\tlearn: 0.0542235\ttest: 0.0542235\ttest1: 0.0565171\tbest: 0.0565170 (4991)\ttotal: 4m 6s\tremaining: 4m 6s\n",
      "5500:\tlearn: 0.0540310\ttest: 0.0540310\ttest1: 0.0564882\tbest: 0.0564882 (5500)\ttotal: 4m 27s\tremaining: 3m 38s\n",
      "6000:\tlearn: 0.0538795\ttest: 0.0538795\ttest1: 0.0564668\tbest: 0.0564663 (5982)\ttotal: 5m 6s\tremaining: 3m 24s\n",
      "6500:\tlearn: 0.0537526\ttest: 0.0537526\ttest1: 0.0564468\tbest: 0.0564466 (6499)\ttotal: 5m 37s\tremaining: 3m 1s\n",
      "7000:\tlearn: 0.0536019\ttest: 0.0536019\ttest1: 0.0564372\tbest: 0.0564368 (6854)\ttotal: 6m 27s\tremaining: 2m 46s\n",
      "7500:\tlearn: 0.0534729\ttest: 0.0534729\ttest1: 0.0564284\tbest: 0.0564255 (7405)\ttotal: 7m 17s\tremaining: 2m 25s\n",
      "8000:\tlearn: 0.0533335\ttest: 0.0533335\ttest1: 0.0564203\tbest: 0.0564200 (7999)\ttotal: 8m 6s\tremaining: 2m 1s\n",
      "8500:\tlearn: 0.0531806\ttest: 0.0531806\ttest1: 0.0564132\tbest: 0.0564117 (8374)\ttotal: 8m 55s\tremaining: 1m 34s\n",
      "9000:\tlearn: 0.0530523\ttest: 0.0530523\ttest1: 0.0564063\tbest: 0.0564047 (8713)\ttotal: 9m 44s\tremaining: 1m 4s\n",
      "9500:\tlearn: 0.0529057\ttest: 0.0529057\ttest1: 0.0564079\tbest: 0.0564006 (9341)\ttotal: 10m 33s\tremaining: 33.3s\n",
      "Stopped by overfitting detector  (500 iterations wait)\n",
      "\n",
      "bestTest = 0.05640059793\n",
      "bestIteration = 9341\n",
      "\n",
      "Shrink model to first 9342 iterations.\n"
     ]
    },
    {
     "name": "stderr",
     "output_type": "stream",
     "text": [
      "[08/09/22 12:25:47] 4217963489.py:21 in <module>\n",
      "                    cbt_score: 0.9212500696900728\n"
     ]
    },
    {
     "name": "stdout",
     "output_type": "stream",
     "text": [
      "[LightGBM] [Warning] Auto-choosing col-wise multi-threading, the overhead of testing was 0.087372 seconds.\n",
      "You can set `force_col_wise=true` to remove the overhead.\n",
      "[LightGBM] [Info] Total Bins 29889\n",
      "[LightGBM] [Info] Number of data points in the train set: 337766, number of used features: 122\n",
      "[LightGBM] [Info] Start training from score 0.456522\n",
      "Training until validation scores don't improve for 100 rounds\n",
      "[500]\ttraining's l1: 0.0576854\tvalid_1's l1: 0.0586462\n",
      "[1000]\ttraining's l1: 0.056537\tvalid_1's l1: 0.0576018\n",
      "[1500]\ttraining's l1: 0.056156\tvalid_1's l1: 0.0573041\n",
      "[2000]\ttraining's l1: 0.0559492\tvalid_1's l1: 0.0571641\n",
      "[2500]\ttraining's l1: 0.0558005\tvalid_1's l1: 0.0570684\n",
      "[3000]\ttraining's l1: 0.0556667\tvalid_1's l1: 0.056991\n",
      "[3500]\ttraining's l1: 0.0555834\tvalid_1's l1: 0.0569464\n",
      "[4000]\ttraining's l1: 0.0554947\tvalid_1's l1: 0.0569019\n",
      "[4500]\ttraining's l1: 0.0554065\tvalid_1's l1: 0.0568487\n",
      "[5000]\ttraining's l1: 0.0553447\tvalid_1's l1: 0.0568218\n",
      "[5500]\ttraining's l1: 0.0552609\tvalid_1's l1: 0.0567844\n",
      "[6000]\ttraining's l1: 0.0552136\tvalid_1's l1: 0.0567661\n",
      "[6500]\ttraining's l1: 0.0551355\tvalid_1's l1: 0.0567398\n",
      "[7000]\ttraining's l1: 0.0550711\tvalid_1's l1: 0.0567192\n",
      "[7500]\ttraining's l1: 0.0550033\tvalid_1's l1: 0.0566995\n",
      "[8000]\ttraining's l1: 0.0549732\tvalid_1's l1: 0.056689\n",
      "[8500]\ttraining's l1: 0.05493\tvalid_1's l1: 0.0566743\n",
      "[9000]\ttraining's l1: 0.0549028\tvalid_1's l1: 0.0566674\n",
      "[9500]\ttraining's l1: 0.0548615\tvalid_1's l1: 0.0566517\n",
      "[10000]\ttraining's l1: 0.0548213\tvalid_1's l1: 0.0566429\n",
      "Did not meet early stopping. Best iteration is:\n",
      "[10000]\ttraining's l1: 0.0548213\tvalid_1's l1: 0.0566429\n"
     ]
    },
    {
     "name": "stderr",
     "output_type": "stream",
     "text": [
      "[08/09/22 12:29:49] 4217963489.py:36 in <module>\n",
      "                    lgb_score: 0.9207933961933679\n",
      "[08/09/22 12:29:51] 4217963489.py:38 in <module>\n",
      "                    score: 0.9211330397058265\n",
      "[08/09/22 12:29:52] 4217963489.py:43 in <module>\n",
      "                    fold: 2\n",
      "                    np.asarray(cbt_scores).mean(): 0.9208648951417477\n",
      "                    np.asarray(lgb_scores).mean(): 0.9206800666289832\n",
      "                    np.asarray(scores).mean(): 0.9209771539520836\n"
     ]
    },
    {
     "name": "stdout",
     "output_type": "stream",
     "text": [
      "0:\tlearn: 0.2523725\ttest: 0.2523725\ttest1: 0.2521109\tbest: 0.2521109 (0)\ttotal: 93.8ms\tremaining: 15m 37s\n",
      "500:\tlearn: 0.0579698\ttest: 0.0579698\ttest1: 0.0564115\tbest: 0.0564115 (500)\ttotal: 49.5s\tremaining: 15m 37s\n",
      "1000:\tlearn: 0.0568358\ttest: 0.0568358\ttest1: 0.0554646\tbest: 0.0554646 (1000)\ttotal: 1m 39s\tremaining: 14m 52s\n",
      "1500:\tlearn: 0.0563757\ttest: 0.0563757\ttest1: 0.0551621\tbest: 0.0551621 (1500)\ttotal: 2m 27s\tremaining: 13m 56s\n",
      "2000:\tlearn: 0.0560534\ttest: 0.0560534\ttest1: 0.0549900\tbest: 0.0549900 (2000)\ttotal: 3m 17s\tremaining: 13m 8s\n",
      "2500:\tlearn: 0.0557801\ttest: 0.0557801\ttest1: 0.0548820\tbest: 0.0548820 (2500)\ttotal: 4m 8s\tremaining: 12m 23s\n",
      "3000:\tlearn: 0.0555291\ttest: 0.0555291\ttest1: 0.0548130\tbest: 0.0548130 (3000)\ttotal: 4m 58s\tremaining: 11m 35s\n",
      "3500:\tlearn: 0.0552830\ttest: 0.0552830\ttest1: 0.0547546\tbest: 0.0547545 (3498)\ttotal: 5m 35s\tremaining: 10m 22s\n",
      "4000:\tlearn: 0.0550605\ttest: 0.0550605\ttest1: 0.0547268\tbest: 0.0547249 (3996)\ttotal: 6m 10s\tremaining: 9m 15s\n",
      "4500:\tlearn: 0.0548564\ttest: 0.0548564\ttest1: 0.0546956\tbest: 0.0546956 (4500)\ttotal: 6m 45s\tremaining: 8m 15s\n",
      "5000:\tlearn: 0.0546495\ttest: 0.0546495\ttest1: 0.0546594\tbest: 0.0546593 (4983)\ttotal: 7m 17s\tremaining: 7m 17s\n",
      "5500:\tlearn: 0.0544338\ttest: 0.0544338\ttest1: 0.0546313\tbest: 0.0546305 (5495)\ttotal: 7m 47s\tremaining: 6m 22s\n",
      "6000:\tlearn: 0.0542415\ttest: 0.0542415\ttest1: 0.0546096\tbest: 0.0546096 (6000)\ttotal: 8m 9s\tremaining: 5m 26s\n",
      "6500:\tlearn: 0.0540635\ttest: 0.0540635\ttest1: 0.0546017\tbest: 0.0546004 (6489)\ttotal: 8m 30s\tremaining: 4m 34s\n",
      "7000:\tlearn: 0.0538906\ttest: 0.0538906\ttest1: 0.0545959\tbest: 0.0545943 (6917)\ttotal: 8m 50s\tremaining: 3m 47s\n",
      "7500:\tlearn: 0.0537188\ttest: 0.0537188\ttest1: 0.0545828\tbest: 0.0545807 (7485)\ttotal: 9m 11s\tremaining: 3m 3s\n",
      "8000:\tlearn: 0.0535407\ttest: 0.0535407\ttest1: 0.0545682\tbest: 0.0545670 (7982)\ttotal: 9m 31s\tremaining: 2m 22s\n",
      "8500:\tlearn: 0.0533840\ttest: 0.0533840\ttest1: 0.0545540\tbest: 0.0545531 (8484)\ttotal: 9m 51s\tremaining: 1m 44s\n",
      "9000:\tlearn: 0.0532326\ttest: 0.0532326\ttest1: 0.0545428\tbest: 0.0545425 (8994)\ttotal: 10m 12s\tremaining: 1m 7s\n",
      "9500:\tlearn: 0.0530805\ttest: 0.0530805\ttest1: 0.0545386\tbest: 0.0545367 (9403)\ttotal: 10m 32s\tremaining: 33.2s\n",
      "9999:\tlearn: 0.0529311\ttest: 0.0529311\ttest1: 0.0545335\tbest: 0.0545330 (9980)\ttotal: 10m 52s\tremaining: 0us\n",
      "\n",
      "bestTest = 0.05453296582\n",
      "bestIteration = 9980\n",
      "\n",
      "Shrink model to first 9981 iterations.\n"
     ]
    },
    {
     "name": "stderr",
     "output_type": "stream",
     "text": [
      "[08/09/22 12:40:53] 4217963489.py:21 in <module>\n",
      "                    cbt_score: 0.9244624568006689\n"
     ]
    },
    {
     "name": "stdout",
     "output_type": "stream",
     "text": [
      "[LightGBM] [Warning] Auto-choosing col-wise multi-threading, the overhead of testing was 0.064397 seconds.\n",
      "You can set `force_col_wise=true` to remove the overhead.\n",
      "[LightGBM] [Info] Total Bins 29890\n",
      "[LightGBM] [Info] Number of data points in the train set: 337964, number of used features: 122\n",
      "[LightGBM] [Info] Start training from score 0.455939\n",
      "Training until validation scores don't improve for 100 rounds\n",
      "[500]\ttraining's l1: 0.0582715\tvalid_1's l1: 0.0566827\n",
      "[1000]\ttraining's l1: 0.0570694\tvalid_1's l1: 0.05568\n",
      "[1500]\ttraining's l1: 0.0566769\tvalid_1's l1: 0.0554049\n",
      "[2000]\ttraining's l1: 0.0564309\tvalid_1's l1: 0.0552397\n",
      "[2500]\ttraining's l1: 0.0562972\tvalid_1's l1: 0.0551633\n",
      "[3000]\ttraining's l1: 0.0561709\tvalid_1's l1: 0.0550916\n",
      "[3500]\ttraining's l1: 0.0560743\tvalid_1's l1: 0.0550454\n",
      "[4000]\ttraining's l1: 0.0559777\tvalid_1's l1: 0.0550034\n",
      "[4500]\ttraining's l1: 0.0558957\tvalid_1's l1: 0.054969\n",
      "[5000]\ttraining's l1: 0.0558219\tvalid_1's l1: 0.054942\n",
      "[5500]\ttraining's l1: 0.055751\tvalid_1's l1: 0.0549251\n",
      "[6000]\ttraining's l1: 0.0556906\tvalid_1's l1: 0.0549019\n",
      "[6500]\ttraining's l1: 0.0556319\tvalid_1's l1: 0.0548829\n",
      "[7000]\ttraining's l1: 0.0555568\tvalid_1's l1: 0.0548606\n",
      "[7500]\ttraining's l1: 0.0554966\tvalid_1's l1: 0.0548435\n",
      "[8000]\ttraining's l1: 0.0554106\tvalid_1's l1: 0.0548275\n",
      "[8500]\ttraining's l1: 0.0553479\tvalid_1's l1: 0.0548116\n",
      "[9000]\ttraining's l1: 0.0553006\tvalid_1's l1: 0.054801\n",
      "[9500]\ttraining's l1: 0.0552706\tvalid_1's l1: 0.0547919\n",
      "[10000]\ttraining's l1: 0.0552205\tvalid_1's l1: 0.0547786\n",
      "Did not meet early stopping. Best iteration is:\n",
      "[10000]\ttraining's l1: 0.0552205\tvalid_1's l1: 0.0547786\n"
     ]
    },
    {
     "name": "stderr",
     "output_type": "stream",
     "text": [
      "[08/09/22 12:43:12] 4217963489.py:36 in <module>\n",
      "                    lgb_score: 0.9242246875276904\n",
      "[08/09/22 12:43:14] 4217963489.py:38 in <module>\n",
      "                    score: 0.924527443211856\n",
      "[08/09/22 12:43:14] 4217963489.py:43 in <module>\n",
      "                    fold: 3\n",
      "                    np.asarray(cbt_scores).mean(): 0.921764285556478\n",
      "                    np.asarray(lgb_scores).mean(): 0.92156622185366\n",
      "                    np.asarray(scores).mean(): 0.9218647262670266\n"
     ]
    },
    {
     "name": "stdout",
     "output_type": "stream",
     "text": [
      "0:\tlearn: 0.2523110\ttest: 0.2523110\ttest1: 0.2523947\tbest: 0.2523947 (0)\ttotal: 65.6ms\tremaining: 10m 55s\n",
      "500:\tlearn: 0.0570652\ttest: 0.0570652\ttest1: 0.0585926\tbest: 0.0585926 (500)\ttotal: 21.4s\tremaining: 6m 45s\n",
      "1000:\tlearn: 0.0561366\ttest: 0.0561366\ttest1: 0.0578004\tbest: 0.0578004 (1000)\ttotal: 42.9s\tremaining: 6m 25s\n",
      "1500:\tlearn: 0.0556768\ttest: 0.0556768\ttest1: 0.0575164\tbest: 0.0575164 (1500)\ttotal: 1m 3s\tremaining: 6m 2s\n",
      "2000:\tlearn: 0.0553477\ttest: 0.0553477\ttest1: 0.0573626\tbest: 0.0573626 (2000)\ttotal: 1m 25s\tremaining: 5m 40s\n",
      "2500:\tlearn: 0.0550654\ttest: 0.0550654\ttest1: 0.0572681\tbest: 0.0572681 (2500)\ttotal: 1m 45s\tremaining: 5m 17s\n",
      "3000:\tlearn: 0.0547958\ttest: 0.0547958\ttest1: 0.0571872\tbest: 0.0571872 (3000)\ttotal: 2m 6s\tremaining: 4m 55s\n",
      "3500:\tlearn: 0.0545641\ttest: 0.0545641\ttest1: 0.0571456\tbest: 0.0571446 (3461)\ttotal: 2m 28s\tremaining: 4m 34s\n",
      "4000:\tlearn: 0.0543523\ttest: 0.0543523\ttest1: 0.0571049\tbest: 0.0571049 (4000)\ttotal: 2m 48s\tremaining: 4m 12s\n",
      "4500:\tlearn: 0.0541569\ttest: 0.0541569\ttest1: 0.0570782\tbest: 0.0570778 (4498)\ttotal: 3m 15s\tremaining: 3m 59s\n",
      "5000:\tlearn: 0.0539834\ttest: 0.0539834\ttest1: 0.0570413\tbest: 0.0570413 (5000)\ttotal: 3m 46s\tremaining: 3m 46s\n",
      "5500:\tlearn: 0.0537971\ttest: 0.0537971\ttest1: 0.0570165\tbest: 0.0570165 (5500)\ttotal: 4m 16s\tremaining: 3m 30s\n",
      "6000:\tlearn: 0.0536153\ttest: 0.0536153\ttest1: 0.0570035\tbest: 0.0570029 (5851)\ttotal: 4m 52s\tremaining: 3m 14s\n",
      "6500:\tlearn: 0.0534493\ttest: 0.0534493\ttest1: 0.0569870\tbest: 0.0569870 (6498)\ttotal: 5m 44s\tremaining: 3m 5s\n",
      "7000:\tlearn: 0.0533082\ttest: 0.0533082\ttest1: 0.0569732\tbest: 0.0569732 (7000)\ttotal: 6m 39s\tremaining: 2m 50s\n",
      "7500:\tlearn: 0.0531670\ttest: 0.0531670\ttest1: 0.0569675\tbest: 0.0569675 (7499)\ttotal: 7m 36s\tremaining: 2m 31s\n",
      "8000:\tlearn: 0.0530086\ttest: 0.0530086\ttest1: 0.0569642\tbest: 0.0569611 (7908)\ttotal: 8m 31s\tremaining: 2m 7s\n",
      "8500:\tlearn: 0.0528425\ttest: 0.0528425\ttest1: 0.0569525\tbest: 0.0569525 (8500)\ttotal: 9m 27s\tremaining: 1m 40s\n",
      "9000:\tlearn: 0.0527073\ttest: 0.0527073\ttest1: 0.0569503\tbest: 0.0569473 (8723)\ttotal: 10m 12s\tremaining: 1m 7s\n",
      "9500:\tlearn: 0.0525629\ttest: 0.0525629\ttest1: 0.0569548\tbest: 0.0569457 (9258)\ttotal: 10m 53s\tremaining: 34.3s\n",
      "Stopped by overfitting detector  (500 iterations wait)\n",
      "\n",
      "bestTest = 0.05694574221\n",
      "bestIteration = 9258\n",
      "\n",
      "Shrink model to first 9259 iterations.\n"
     ]
    },
    {
     "name": "stderr",
     "output_type": "stream",
     "text": [
      "[08/09/22 12:54:32] 4217963489.py:21 in <module>\n",
      "                    cbt_score: 0.9150272742672104\n"
     ]
    },
    {
     "name": "stdout",
     "output_type": "stream",
     "text": [
      "[LightGBM] [Warning] Auto-choosing col-wise multi-threading, the overhead of testing was 0.113429 seconds.\n",
      "You can set `force_col_wise=true` to remove the overhead.\n",
      "[LightGBM] [Info] Total Bins 29891\n",
      "[LightGBM] [Info] Number of data points in the train set: 341935, number of used features: 122\n",
      "[LightGBM] [Info] Start training from score 0.456522\n",
      "Training until validation scores don't improve for 100 rounds\n",
      "[500]\ttraining's l1: 0.0576506\tvalid_1's l1: 0.0590757\n",
      "[1000]\ttraining's l1: 0.0564383\tvalid_1's l1: 0.0580329\n",
      "[1500]\ttraining's l1: 0.0560885\tvalid_1's l1: 0.057773\n",
      "[2000]\ttraining's l1: 0.0558579\tvalid_1's l1: 0.0576227\n",
      "[2500]\ttraining's l1: 0.0556868\tvalid_1's l1: 0.0575338\n",
      "[3000]\ttraining's l1: 0.0555762\tvalid_1's l1: 0.0574783\n",
      "[3500]\ttraining's l1: 0.0554804\tvalid_1's l1: 0.0574247\n",
      "[4000]\ttraining's l1: 0.0553867\tvalid_1's l1: 0.0573754\n",
      "[4500]\ttraining's l1: 0.0552903\tvalid_1's l1: 0.0573412\n",
      "[5000]\ttraining's l1: 0.0552184\tvalid_1's l1: 0.0573108\n",
      "[5500]\ttraining's l1: 0.055164\tvalid_1's l1: 0.0572865\n",
      "[6000]\ttraining's l1: 0.0550964\tvalid_1's l1: 0.0572606\n",
      "[6500]\ttraining's l1: 0.05506\tvalid_1's l1: 0.0572528\n",
      "[7000]\ttraining's l1: 0.0550145\tvalid_1's l1: 0.0572398\n",
      "[7500]\ttraining's l1: 0.0549524\tvalid_1's l1: 0.0572251\n",
      "[8000]\ttraining's l1: 0.0549048\tvalid_1's l1: 0.0572103\n",
      "[8500]\ttraining's l1: 0.0548636\tvalid_1's l1: 0.057199\n",
      "[9000]\ttraining's l1: 0.0548237\tvalid_1's l1: 0.0571877\n",
      "[9500]\ttraining's l1: 0.0547948\tvalid_1's l1: 0.0571803\n",
      "[10000]\ttraining's l1: 0.0547577\tvalid_1's l1: 0.0571691\n",
      "Did not meet early stopping. Best iteration is:\n",
      "[10000]\ttraining's l1: 0.0547577\tvalid_1's l1: 0.0571691\n"
     ]
    },
    {
     "name": "stderr",
     "output_type": "stream",
     "text": [
      "[08/09/22 12:57:50] 4217963489.py:36 in <module>\n",
      "                    lgb_score: 0.9145454838112385\n",
      "[08/09/22 12:57:52] 4217963489.py:38 in <module>\n",
      "                    score: 0.9149569766597708\n",
      "[08/09/22 12:57:53] 4217963489.py:43 in <module>\n",
      "                    fold: 4\n",
      "                    np.asarray(cbt_scores).mean(): 0.9204168832986245\n",
      "                    np.asarray(lgb_scores).mean(): 0.9201620742451757\n",
      "                    np.asarray(scores).mean(): 0.9204831763455754\n"
     ]
    }
   ],
   "source": [
    "FOLDS = 5\n",
    "cbt_scores, lgb_scores = [], []\n",
    "scores = []\n",
    "gezi.try_mkdir(f'../working/trees{v}')\n",
    "for fold in tqdm(range(FOLDS)):\n",
    "  dvalid = df[df.fold==fold]\n",
    "  dtrain = df[df.fold!=fold]\n",
    "  X_train = dtrain[cols]\n",
    "  y_train = dtrain[LABEL_COL]\n",
    "  X_valid = dvalid[cols]\n",
    "  y_valid = dvalid[LABEL_COL]\n",
    "  if fold > 0:\n",
    "    cbt_model = CatBoostRegressor(**cbt_params)\n",
    "    cbt_model.fit(X_train, y_train,\n",
    "          eval_set=[(X_train, y_train), (X_valid, y_valid)],\n",
    "                  verbose=500,\n",
    "                  )  \n",
    "  cbt_model.save_model(f'../working/trees{v}/{fold}.cbt')\n",
    "  dvalid['cbt_pred'] = cbt_model.predict(dvalid[cols])\n",
    "  cbt_score = calc_metric({'id': dvalid.id.values, 'cell_id': dvalid.cell_id.values, 'pred': dvalid.cbt_pred.values})\n",
    "  ic(cbt_score)\n",
    "  \n",
    "  d_train = lgb.Dataset(X_train, y_train)\n",
    "  d_valid = lgb.Dataset(X_valid, y_valid, reference=d_train)\n",
    "  if fold > 0:\n",
    "    lgb_model = lgb.train(params,\n",
    "                    d_train,\n",
    "                    10000,\n",
    "                    valid_sets=[d_train, d_valid],\n",
    "                    verbose_eval=500,\n",
    "                    early_stopping_rounds=100)\n",
    "  lgb_model.save_model(f'../working/trees{v}/{fold}.lgb')\n",
    "  dvalid['lgb_pred'] = lgb_model.predict(dvalid[cols])\n",
    "  \n",
    "  lgb_score = calc_metric({'id': dvalid.id.values, 'cell_id': dvalid.cell_id.values, 'pred': dvalid.lgb_pred.values})\n",
    "  ic(lgb_score)\n",
    "  score = calc_metric({'id': dvalid.id.values, 'cell_id': dvalid.cell_id.values, 'pred': (dvalid.cbt_pred.values * 0.3 + dvalid.lgb_pred.values * 0.7)})\n",
    "  ic(score)\n",
    "  \n",
    "  cbt_scores.append(cbt_score)\n",
    "  lgb_scores.append(lgb_score)\n",
    "  scores.append(score)\n",
    "  ic(fold, \n",
    "     np.asarray(cbt_scores).mean(), \n",
    "     np.asarray(lgb_scores).mean(),\n",
    "     np.asarray(scores).mean(),\n",
    "     )"
   ]
  },
  {
   "cell_type": "code",
   "execution_count": 434,
   "metadata": {},
   "outputs": [],
   "source": [
    "# fold: 0\n",
    "#                     np.asarray(cbt_scores).mean(): 0.9181025338378637\n",
    "#                     np.asarray(lgb_scores).mean(): 0.9193848140698876\n",
    "#                     np.asarray(scores).mean(): 0.9195238841373282\n",
    "\n",
    "#  fold: 4\n",
    "#                     np.asarray(cbt_scores).mean(): 0.9189608630607822\n",
    "#                     np.asarray(lgb_scores).mean(): 0.9196959050732708\n",
    "#                     np.asarray(scores).mean(): 0.9199400102856614"
   ]
  },
  {
   "cell_type": "code",
   "execution_count": null,
   "metadata": {},
   "outputs": [],
   "source": []
  }
 ],
 "metadata": {
  "kernelspec": {
   "display_name": "Python 3.7.9",
   "language": "python",
   "name": "python3"
  },
  "language_info": {
   "codemirror_mode": {
    "name": "ipython",
    "version": 3
   },
   "file_extension": ".py",
   "mimetype": "text/x-python",
   "name": "python",
   "nbconvert_exporter": "python",
   "pygments_lexer": "ipython3",
   "version": "3.7.9"
  },
  "orig_nbformat": 4,
  "vscode": {
   "interpreter": {
    "hash": "828c32aa8796f4caf0c9fde9f523bba8dbc7385abbb3ec2757d19a79cb47766b"
   }
  }
 },
 "nbformat": 4,
 "nbformat_minor": 2
}
