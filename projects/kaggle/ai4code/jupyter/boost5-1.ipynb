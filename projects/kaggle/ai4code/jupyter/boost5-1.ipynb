{
 "cells": [
  {
   "cell_type": "code",
   "execution_count": 33,
   "metadata": {},
   "outputs": [],
   "source": [
    "import sys\n",
    "sys.path.append('..')\n",
    "sys.path.append('../../../../utils')\n",
    "sys.path.append('../../../../third')\n",
    "from gezi.common import *\n",
    "from src.config import *\n",
    "from src.preprocess import *\n",
    "from src.eval import *\n",
    "gezi.init_flags()\n",
    "gezi.set_pandas()"
   ]
  },
  {
   "cell_type": "code",
   "execution_count": 34,
   "metadata": {},
   "outputs": [],
   "source": [
    "v = '5-1'"
   ]
  },
  {
   "cell_type": "code",
   "execution_count": 35,
   "metadata": {},
   "outputs": [],
   "source": [
    "V = 7\n",
    "root = f'../working/offline/{V}/0'\n",
    "# pairwise two tower, recall model\n",
    "# pt_model = 'all-mpnet-base-v2.flag-pairwise14-2-pre_ext_emlm_mlm.ep1'\n",
    "# p2t_model = 'all-mpnet-base-v2.flag-pairwise14-2'\n",
    "pt_model = 'all-mpnet-base-v2.flag-pairwise14-2-pre_mlm3'\n",
    "# pt_model = 'all-mpnet-base-v2.flag-pairwise14-2'\n",
    "# pt_model2 = 'pmminilm.flag-pairwise14-2-pre_emlm_mlm-mmnilm'\n",
    "# pt_model2 = 'pmminilm.flag-pairwise14-2-pre_mlm3-pmminilm'\n",
    "# pt_model2 = 'pmminilm.flag-pairwise14-2'\n",
    "# pairwise concat, rank model\n",
    "# pc_model = 'deberta-v3-small.flag-pairwise14-4-cat-insert-extpred-ft.neg_rand_prob-0.neg_strategy-rand-sample'\n",
    "pc_model = 'deberta-v3-small.flag-pairwise14-4-cat-insert-oof-ft'\n",
    "\n",
    "# context model\n",
    "# c_model = 'deberta-v3-small.flag-context4-2-d'\n",
    "# c_model2 = 'lsg-mminilm.flag-context4-3-d-s-mminilm'\n",
    "# c_model = 'deberta-v3-small.flag-context4-2-d'\n",
    "# c_model = 'deberta-v3-small.flag-context4-2-d-oof-ft'\n",
    "# c_model = 'deberta-v3-small.flag-context4-2-d-oof-ft.list_train_ordered'\n",
    "c_model = 'deberta-v3-small.flag-context4-2-d-oof-ft.add_probs'\n",
    "c_model = 'deberta-v3-small.flag-context4-2-d-oof.add_probs'\n",
    "# c_model = 'deberta-v3-small.flag-context4-2-d-extpred-ft.0804'\n",
    "# c_model = 'deberta-v3-small.flag-context4-2-d-oof-ft.list_train_ordered'\n",
    "# c_model2 = 'lsg-mminilm.flag-context4-3-d-s-oof-ft-mminilm'"
   ]
  },
  {
   "cell_type": "code",
   "execution_count": 36,
   "metadata": {},
   "outputs": [],
   "source": [
    "df_train = pd.read_feather('../working/train.fea')\n",
    "df_train = df_train[df_train.fold==0]"
   ]
  },
  {
   "cell_type": "code",
   "execution_count": 37,
   "metadata": {},
   "outputs": [],
   "source": [
    "xp = gezi.load(f'{root}/{pt_model}.eval/valid.pkl')\n",
    "xc = gezi.load(f'{root}/{c_model}.eval.160_30/valid.pkl')\n",
    "xpc = gezi.load(f'{root}/{pc_model}.eval/valid.pkl')\n",
    "gezi.sort_dict_byid_(xp, 'cid')\n",
    "gezi.sort_dict_byid_(xc, 'cid')\n",
    "gezi.sort_dict_byid_(xpc, 'cid')"
   ]
  },
  {
   "cell_type": "code",
   "execution_count": 38,
   "metadata": {},
   "outputs": [],
   "source": [
    "# d = pd.DataFrame(gezi.batch2list(xc))\n",
    "# dg = d.groupby('pred_id')\n",
    "# max_preds = dg['pred'].max()\n",
    "# min_preds = dg['pred'].min()\n",
    "# max_cls_preds = dg['cls_pred'].max()\n",
    "# min_cls_preds = dg['cls_pred'].min()"
   ]
  },
  {
   "cell_type": "code",
   "execution_count": 39,
   "metadata": {},
   "outputs": [
    {
     "name": "stderr",
     "output_type": "stream",
     "text": [
      "[08/09/22 21:26:31] 73525872.py:9 in <module>\n",
      "                    calc_metric(xp, 'cls_pred'): 0.8940525259130645\n",
      "[08/09/22 21:26:39] 73525872.py:10 in <module>\n",
      "                    calc_metric(xc, 'reg_pred'): 0.9120765273482367\n",
      "[08/09/22 21:26:46] 73525872.py:11 in <module>\n",
      "                    calc_metric(xc, 'cls_pred'): 0.9132059636520105\n",
      "[08/09/22 21:26:54] 73525872.py:12 in <module>\n",
      "                    calc_metric(xpc, 'cls_pred'): 0.9011719210628208\n"
     ]
    },
    {
     "data": {
      "text/plain": [
       "0.9011719210628208"
      ]
     },
     "execution_count": 39,
     "metadata": {},
     "output_type": "execute_result"
    }
   ],
   "source": [
    "xp = gezi.load(f'{root}/{pt_model}.eval/valid.pkl')\n",
    "# xc = gezi.load(f'{root}/{c_model}.eval/valid.pkl')\n",
    "xc = gezi.load(f'{root}/{c_model}.eval.160_30/valid.pkl')\n",
    "xpc = gezi.load(f'{root}/{pc_model}.eval/valid.pkl')\n",
    "gezi.sort_dict_byid_(xp, 'cid')\n",
    "gezi.sort_dict_byid_(xc, 'cid')\n",
    "gezi.sort_dict_byid_(xpc, 'cid')\n",
    "\n",
    "ic(calc_metric(xp, 'cls_pred'))\n",
    "ic(calc_metric(xc, 'reg_pred'))\n",
    "ic(calc_metric(xc, 'cls_pred'))\n",
    "ic(calc_metric(xpc, 'cls_pred'))"
   ]
  },
  {
   "cell_type": "code",
   "execution_count": 40,
   "metadata": {},
   "outputs": [
    {
     "name": "stderr",
     "output_type": "stream",
     "text": [
      "[08/09/22 21:27:02] 2337548337.py:27 in <module>\n",
      "                    xpc['mark'].mean(): 0.5019261406823974\n",
      "[08/09/22 21:27:09] 2337548337.py:28 in <module>\n",
      "                    calc_metric(xpc, 'cls_pred'): 0.9020743859652581\n"
     ]
    },
    {
     "data": {
      "text/plain": [
       "0.9020743859652581"
      ]
     },
     "execution_count": 40,
     "metadata": {},
     "output_type": "execute_result"
    }
   ],
   "source": [
    "pc_preds = dict(zip(xpc['cid'], xpc['pred']))\n",
    "pc_cls_preds = dict(zip(xpc['cid'], xpc['cls_pred']))\n",
    "pc_probs = dict(zip(xpc['cid'], xpc['probs']))\n",
    "\n",
    "preds = []\n",
    "cls_preds = []\n",
    "probs = []\n",
    "marks = []\n",
    "for cid, pred, cls_pred, prob in zip(xp['cid'], xp['pred'], xp['cls_pred'], xp['probs']):\n",
    "  # if prob.max() < 10:\n",
    "  if prob.max() < 0.8:\n",
    "    marks.append(1)\n",
    "    preds.append(pc_preds.get(cid, pred))\n",
    "    probs.append(pc_probs.get(cid, prob))\n",
    "    cls_preds.append(pc_cls_preds.get(cid, cls_pred))\n",
    "  else:\n",
    "    marks.append(0)\n",
    "    preds.append(pred)\n",
    "    probs.append(prob)\n",
    "    cls_preds.append(cls_pred)\n",
    "    \n",
    "xpc = xp.copy()\n",
    "xpc['pred'] = np.asarray(preds)\n",
    "xpc['cls_pred'] = np.asarray(cls_preds)\n",
    "xpc['probs'] = np.asarray(probs)\n",
    "xpc['mark'] = np.asarray(marks)\n",
    "ic(xpc['mark'].mean())\n",
    "ic(calc_metric(xpc, 'cls_pred'))"
   ]
  },
  {
   "cell_type": "code",
   "execution_count": 41,
   "metadata": {},
   "outputs": [],
   "source": [
    "LABEL_COL = 'rel_rank'\n",
    "def diff_feats(x, l,r, name):\n",
    "  if isinstance(l, str):\n",
    "    x[f'{name}_diff'] = x[l] - x[r]\n",
    "  else:\n",
    "    x[f'{name}_diff'] = l - r\n",
    "  x[f'abs_{name}_diff'] = abs(x[f'{name}_diff'])\n",
    "\n",
    "def gen_pfeat(x_, topn=10):\n",
    "  x = {}\n",
    "  keys = ['pred', 'cls_pred']\n",
    "  x = {k: x_[k] for k in keys}\n",
    "  # x['rank_pred'] = x['pred'] * (1 + x_['n_code_cell']) - 0.5\n",
    "  # x['cls_rank_pred'] = x['cls_pred'] * (1 + x_['n_code_cell']) - 0.5\n",
    "  x['min_prob'] = x_['probs'].min()\n",
    "  x['var_prob'] = np.var(x_['probs'])\n",
    "  if 'sims' in x_:\n",
    "    x['min_sim'] = x_['sims'].min()\n",
    "    x['var_sim'] = np.var(x_['sims'])\n",
    "  \n",
    "  idxes = (-x_['probs']).argsort()\n",
    "  for i in range(topn):\n",
    "    if i < len(idxes):\n",
    "      if i > 0:\n",
    "        x[f'top_pred_{i}'] = (idxes[i] + 0.5) / (x_['n_code_cell'] + 1)\n",
    "        # x[f'top_rank_{i}'] = idxes[i]\n",
    "      x[f'top_prob_{i}'] = x_['probs'][idxes[i]]\n",
    "      if 'sims' in x_:\n",
    "        x[f'top_sim_{i}'] = x_['sims'][idxes[i]]\n",
    "    else:\n",
    "      x[f'top_pred_{i}'] = -1\n",
    "      # x[f'top_rank_{i}'] = -1\n",
    "      x[f'top_prob_{i}'] = -1\n",
    "      if 'sims' in x_:\n",
    "        x[f'top_sim_{i}'] = -1\n",
    "  \n",
    "  diff_feats(x, 'cls_pred', 'pred', 'cls')\n",
    "  # diff_feats(x, 'cls_rank_pred', 'rank_pred', 'cls_rank')\n",
    "  return x\n",
    "\n",
    "def gen_cfeat(x_):\n",
    "  topn = 10\n",
    "  x = {}\n",
    "  keys = [\n",
    "    # 'pred', \n",
    "    'cls_pred', \n",
    "    'reg_pred', \n",
    "    'cls2_pred', \n",
    "    'group_pos',\n",
    "    'group_rank',\n",
    "    ]\n",
    "  x = {k: x_[k] for k in keys}\n",
    "  # x['cls_rank_pred'] = x['cls_pred'] * FLAGS.num_classes - 0.5\n",
    "  # x['cls2_rank_pred'] = x['cls2_pred'] * FLAGS.num_classes - 0.5\n",
    "  # x['reg_rank_pred'] = x['reg_pred'] * FLAGS.num_classes - 0.5\n",
    "  preds = x_['cls_pred_ori']\n",
    "  probs = gezi.softmax(preds)\n",
    "  x['min_prob'] = probs.min()\n",
    "  x['var_prob'] = np.var(probs)\n",
    "  idxes = (-probs).argsort()\n",
    "\n",
    "  for i in range(topn):\n",
    "    if i < len(idxes):\n",
    "      if i > 0:\n",
    "        x[f'top_pred_{i}'] = (idxes[i] + 0.5) / FLAGS.num_classes\n",
    "        # x[f'tpop_rank_{i}']  = idxes[i] \n",
    "      x[f'top_prob_{i}'] = probs[idxes[i]]\n",
    "    else:\n",
    "      x[f'top_pred_{i}'] = -1\n",
    "      # x[f'top_rank_{i}'] = -1\n",
    "      x[f'top_prob_{i}'] = -1\n",
    "  diff_feats(x, 'cls_pred', 'reg_pred', 'cls_reg')\n",
    "  diff_feats(x, 'cls_pred', 'cls2_pred', 'cls_cls2')\n",
    "  diff_feats(x, 'cls2_pred', 'reg_pred', 'cls2_reg')\n",
    "  # diff_feats(x, 'cls_rank_pred', 'reg_rank_pred', 'cls_reg_rank')\n",
    "  # diff_feats(x, 'cls_rank_pred', 'cls2_rank_pred', 'cls_cls2_rank')\n",
    "  # diff_feats(x, 'cls2_rank_pred', 'reg_rank_pred', 'cls2_reg_rank')\n",
    "  # group_id = x_['pred_id']\n",
    "  # x['max_pred'] = max_preds[group_id]\n",
    "  # x['min_pred'] = min_preds[group_id]\n",
    "  # x['pred_ratio'] = (x['pred'] - x['min_pred']) / (x['max_pred'] - x['min_pred']) if (x['max_pred'] - x['min_pred']) else 1\n",
    "  # x['max_cls_pred'] = max_cls_preds[group_id]\n",
    "  # x['min_cls_pred'] = min_cls_preds[group_id]\n",
    "  # x['cls_pred_ratio'] = (x['cls_pred'] - x['min_cls_pred']) / (x['max_cls_pred'] - x['min_cls_pred']) if (x['max_cls_pred'] - x['min_cls_pred']) else 1\n",
    "  \n",
    "  return x\n",
    "\n",
    "def gen_feats():\n",
    "  xs = gezi.batch2list(xp)\n",
    "  p_feats = [gen_pfeat(x) for x in tqdm(xs, desc=f'gen_pfeats:xp')]\n",
    "  xs = gezi.batch2list(xc)\n",
    "  c_feats = [gen_cfeat(x) for x in tqdm(xs, desc=f'gen_cfeats:xc')]\n",
    "  xs = gezi.batch2list(xpc)\n",
    "  pc_feats = [gen_pfeat(x) for x in tqdm(xs, desc=f'gen_pfeats:xpc')]\n",
    "\n",
    "  feats = []\n",
    "  for i in tqdm(range(len(xs)), desc='merge_feats'):\n",
    "    fe1 = p_feats[i]\n",
    "    fec = c_feats[i]\n",
    "    fepc = pc_feats[i]\n",
    "    fepc['mark'] = xpc['mark'][i]\n",
    "    \n",
    "    fe = {}\n",
    "    fe['code_ratio'] = xp['n_code_cell'][i] / xp['n_cell'][i]\n",
    "    diff_feats(fe, fe1['pred'], fec['reg_pred'], 'pc_reg')\n",
    "    diff_feats(fe, fe1['pred'], fec['cls_pred'], 'pc_cls')\n",
    "    diff_feats(fe, fe1['pred'], fec['cls2_pred'], 'pc_cls2')\n",
    "    diff_feats(fe, fe1['cls_pred'], fec['reg_pred'], 'pc_cls_reg')\n",
    "    diff_feats(fe, fe1['cls_pred'], fec['cls_pred'], 'pc_cls_cls')\n",
    "    diff_feats(fe, fe1['cls_pred'], fec['cls2_pred'], 'pc_cls_cls2')\n",
    "    \n",
    "    diff_feats(fe, fepc['pred'], fec['reg_pred'], 'pcc_reg')\n",
    "    diff_feats(fe, fepc['pred'], fec['cls_pred'], 'pcc_cls')\n",
    "    diff_feats(fe, fepc['pred'], fec['cls2_pred'], 'pcc_cls2')\n",
    "    diff_feats(fe, fepc['cls_pred'], fec['reg_pred'], 'pcc_cls_reg')\n",
    "    diff_feats(fe, fepc['cls_pred'], fec['cls_pred'], 'pcc_cls_cls')\n",
    "    diff_feats(fe, fepc['cls_pred'], fec['cls2_pred'], 'pcc_cls_cls2')\n",
    "    \n",
    "    # diff_feats(fe, fe1['rank_pred'], fec['reg_rank_pred'], 'pc_cls_rank')\n",
    "    # diff_feats(fe, fe1['cls_rank_pred'], fec['reg_rank_pred'], 'pc_cls_reg_rank')\n",
    "    # diff_feats(fe, fepc['rank_pred'], fec['reg_rank_pred'], 'pcc_cls_rank')\n",
    "    # diff_feats(fe, fepc['cls_rank_pred'], fec['reg_rank_pred'], 'pcc_cls_reg_rank')\n",
    "\n",
    "    fe1 = gezi.dict_prefix(fe1, 'xp_')\n",
    "    fe.update(fe1)\n",
    "    fec = gezi.dict_prefix(fec, 'xc_')\n",
    "    fe.update(fec)\n",
    "    fepc = gezi.dict_prefix(fepc, 'xpc_')\n",
    "    fe.update(fepc)\n",
    "\n",
    "    keys = [\n",
    "     'id', 'cell_id', 'cid',\n",
    "     'n_words', 'n_code_cell', 'n_cell'\n",
    "    ]\n",
    "    for key in keys:\n",
    "      fe[key] = xp[key][i]\n",
    "      \n",
    "    #  ic(feat)\n",
    "    feats.append(fe)\n",
    "  #  break\n",
    "  dfeats = pd.DataFrame(feats)\n",
    "  return dfeats"
   ]
  },
  {
   "cell_type": "code",
   "execution_count": 42,
   "metadata": {},
   "outputs": [
    {
     "data": {
      "application/vnd.jupyter.widget-view+json": {
       "model_id": "7f641ac043964a9aae4113b0ed760891",
       "version_major": 2,
       "version_minor": 0
      },
      "text/plain": [
       "gen_pfeats:xp:   0%|          | 0/424943 [00:00<?, ?it/s]"
      ]
     },
     "metadata": {},
     "output_type": "display_data"
    },
    {
     "data": {
      "application/vnd.jupyter.widget-view+json": {
       "model_id": "b0e6da5c3cbb4732851af18e79b19b6e",
       "version_major": 2,
       "version_minor": 0
      },
      "text/plain": [
       "gen_cfeats:xc:   0%|          | 0/424943 [00:00<?, ?it/s]"
      ]
     },
     "metadata": {},
     "output_type": "display_data"
    },
    {
     "data": {
      "application/vnd.jupyter.widget-view+json": {
       "model_id": "44632a04d7a84412af94fd80de40165d",
       "version_major": 2,
       "version_minor": 0
      },
      "text/plain": [
       "gen_pfeats:xpc:   0%|          | 0/424943 [00:00<?, ?it/s]"
      ]
     },
     "metadata": {},
     "output_type": "display_data"
    },
    {
     "data": {
      "application/vnd.jupyter.widget-view+json": {
       "model_id": "7954f6c24b734fc7b27e19f99f35634f",
       "version_major": 2,
       "version_minor": 0
      },
      "text/plain": [
       "merge_feats:   0%|          | 0/424943 [00:00<?, ?it/s]"
      ]
     },
     "metadata": {},
     "output_type": "display_data"
    }
   ],
   "source": [
    "dfeats = gen_feats()"
   ]
  },
  {
   "cell_type": "code",
   "execution_count": 43,
   "metadata": {},
   "outputs": [],
   "source": [
    "df = dfeats.merge(df_train[['cid', 'ancestor_id', LABEL_COL]], on='cid')"
   ]
  },
  {
   "cell_type": "code",
   "execution_count": 44,
   "metadata": {},
   "outputs": [],
   "source": [
    "gezi.set_fold(df, 5, 'ancestor_id')"
   ]
  },
  {
   "cell_type": "code",
   "execution_count": 45,
   "metadata": {},
   "outputs": [
    {
     "data": {
      "text/plain": [
       "135"
      ]
     },
     "execution_count": 45,
     "metadata": {},
     "output_type": "execute_result"
    }
   ],
   "source": [
    "reg_cols = [x for x in dfeats.columns if x not in ['id', 'cell_id', 'cid', LABEL_COL]]\n",
    "cat_cols = []\n",
    "cols = reg_cols + cat_cols\n",
    "len(cols)"
   ]
  },
  {
   "cell_type": "code",
   "execution_count": 46,
   "metadata": {},
   "outputs": [],
   "source": [
    "fold = 0\n",
    "dvalid = df[df.fold==fold]\n",
    "dtrain = df[df.fold!=fold]"
   ]
  },
  {
   "cell_type": "code",
   "execution_count": 47,
   "metadata": {},
   "outputs": [],
   "source": [
    "X_train = dtrain[cols]\n",
    "y_train = dtrain[LABEL_COL]\n",
    "X_valid = dvalid[cols]\n",
    "y_valid = dvalid[LABEL_COL]"
   ]
  },
  {
   "cell_type": "code",
   "execution_count": 48,
   "metadata": {},
   "outputs": [],
   "source": [
    "from catboost import CatBoostRegressor, CatBoostRanker, CatBoostClassifier\n",
    "cbt_params = {\n",
    "              # 'bootstrap_type': 'Poisson',\n",
    "              # 'learning_rate': 0.02,\n",
    "              'learning_rate': 0.03,\n",
    "              # 'reg_lambda': 7.960622217848342e-07, \n",
    "              'l2_leaf_reg': 3,\n",
    "              'subsample': 0.7422597612762745,\n",
    "              # 'bagging_temperature': 0.2,\n",
    "              # 'max_depth': 10, \n",
    "              # 'max_depth': 8,\n",
    "              'max_depth': 6,\n",
    "              # 'max_depth': 5,\n",
    "              'early_stopping_rounds': 500,\n",
    "              'n_estimators': 10000,\n",
    "              'cat_features': [],\n",
    "              'loss_function': 'MAE',\n",
    "              'min_child_samples': 100,\n",
    "              # 'task_type': 'GPU',\n",
    "              # 'devices': '0',\n",
    "              }"
   ]
  },
  {
   "cell_type": "code",
   "execution_count": 49,
   "metadata": {},
   "outputs": [
    {
     "name": "stdout",
     "output_type": "stream",
     "text": [
      "0:\tlearn: 0.2523564\ttest: 0.2523564\ttest1: 0.2522917\tbest: 0.2522917 (0)\ttotal: 55.2ms\tremaining: 9m 12s\n",
      "100:\tlearn: 0.0662093\ttest: 0.0662093\ttest1: 0.0673568\tbest: 0.0673568 (100)\ttotal: 4.06s\tremaining: 6m 38s\n",
      "200:\tlearn: 0.0595803\ttest: 0.0595803\ttest1: 0.0608971\tbest: 0.0608971 (200)\ttotal: 7.81s\tremaining: 6m 20s\n",
      "300:\tlearn: 0.0587525\ttest: 0.0587525\ttest1: 0.0601223\tbest: 0.0601223 (300)\ttotal: 11.7s\tremaining: 6m 17s\n",
      "400:\tlearn: 0.0579752\ttest: 0.0579752\ttest1: 0.0593766\tbest: 0.0593766 (400)\ttotal: 15.8s\tremaining: 6m 17s\n",
      "500:\tlearn: 0.0573788\ttest: 0.0573788\ttest1: 0.0588286\tbest: 0.0588286 (500)\ttotal: 19.8s\tremaining: 6m 16s\n",
      "600:\tlearn: 0.0570106\ttest: 0.0570106\ttest1: 0.0584960\tbest: 0.0584960 (600)\ttotal: 24.1s\tremaining: 6m 17s\n",
      "700:\tlearn: 0.0567383\ttest: 0.0567383\ttest1: 0.0582589\tbest: 0.0582589 (700)\ttotal: 28.1s\tremaining: 6m 13s\n",
      "800:\tlearn: 0.0565312\ttest: 0.0565312\ttest1: 0.0580850\tbest: 0.0580850 (800)\ttotal: 32.1s\tremaining: 6m 8s\n",
      "900:\tlearn: 0.0563718\ttest: 0.0563718\ttest1: 0.0579547\tbest: 0.0579547 (900)\ttotal: 36.3s\tremaining: 6m 6s\n",
      "1000:\tlearn: 0.0562211\ttest: 0.0562211\ttest1: 0.0578381\tbest: 0.0578381 (1000)\ttotal: 40.3s\tremaining: 6m 2s\n",
      "1100:\tlearn: 0.0561011\ttest: 0.0561011\ttest1: 0.0577455\tbest: 0.0577455 (1100)\ttotal: 44.2s\tremaining: 5m 57s\n",
      "1200:\tlearn: 0.0560072\ttest: 0.0560072\ttest1: 0.0576856\tbest: 0.0576856 (1200)\ttotal: 48.5s\tremaining: 5m 54s\n",
      "1300:\tlearn: 0.0559148\ttest: 0.0559148\ttest1: 0.0576204\tbest: 0.0576202 (1299)\ttotal: 52.4s\tremaining: 5m 50s\n",
      "1400:\tlearn: 0.0558309\ttest: 0.0558309\ttest1: 0.0575646\tbest: 0.0575646 (1400)\ttotal: 56.3s\tremaining: 5m 45s\n",
      "1500:\tlearn: 0.0557433\ttest: 0.0557433\ttest1: 0.0575160\tbest: 0.0575160 (1500)\ttotal: 1m\tremaining: 5m 42s\n",
      "1600:\tlearn: 0.0556812\ttest: 0.0556812\ttest1: 0.0574769\tbest: 0.0574769 (1600)\ttotal: 1m 4s\tremaining: 5m 37s\n",
      "1700:\tlearn: 0.0556005\ttest: 0.0556005\ttest1: 0.0574317\tbest: 0.0574317 (1700)\ttotal: 1m 8s\tremaining: 5m 33s\n",
      "1800:\tlearn: 0.0555367\ttest: 0.0555367\ttest1: 0.0574016\tbest: 0.0574016 (1800)\ttotal: 1m 12s\tremaining: 5m 29s\n",
      "1900:\tlearn: 0.0554724\ttest: 0.0554724\ttest1: 0.0573690\tbest: 0.0573690 (1900)\ttotal: 1m 16s\tremaining: 5m 25s\n",
      "2000:\tlearn: 0.0554085\ttest: 0.0554085\ttest1: 0.0573426\tbest: 0.0573426 (2000)\ttotal: 1m 20s\tremaining: 5m 20s\n",
      "2100:\tlearn: 0.0553444\ttest: 0.0553444\ttest1: 0.0573214\tbest: 0.0573214 (2099)\ttotal: 1m 24s\tremaining: 5m 17s\n",
      "2200:\tlearn: 0.0552946\ttest: 0.0552946\ttest1: 0.0573013\tbest: 0.0573013 (2200)\ttotal: 1m 28s\tremaining: 5m 12s\n",
      "2300:\tlearn: 0.0552383\ttest: 0.0552383\ttest1: 0.0572803\tbest: 0.0572795 (2294)\ttotal: 1m 32s\tremaining: 5m 8s\n",
      "2400:\tlearn: 0.0551789\ttest: 0.0551789\ttest1: 0.0572536\tbest: 0.0572536 (2400)\ttotal: 1m 36s\tremaining: 5m 4s\n",
      "2500:\tlearn: 0.0551251\ttest: 0.0551251\ttest1: 0.0572515\tbest: 0.0572472 (2429)\ttotal: 1m 40s\tremaining: 5m\n",
      "2600:\tlearn: 0.0550819\ttest: 0.0550819\ttest1: 0.0572402\tbest: 0.0572402 (2600)\ttotal: 1m 43s\tremaining: 4m 55s\n",
      "2700:\tlearn: 0.0550388\ttest: 0.0550388\ttest1: 0.0572253\tbest: 0.0572253 (2700)\ttotal: 1m 47s\tremaining: 4m 51s\n",
      "2800:\tlearn: 0.0549843\ttest: 0.0549843\ttest1: 0.0572092\tbest: 0.0572088 (2793)\ttotal: 1m 51s\tremaining: 4m 47s\n",
      "2900:\tlearn: 0.0549334\ttest: 0.0549334\ttest1: 0.0571949\tbest: 0.0571946 (2898)\ttotal: 1m 55s\tremaining: 4m 42s\n",
      "3000:\tlearn: 0.0548837\ttest: 0.0548837\ttest1: 0.0571903\tbest: 0.0571882 (2993)\ttotal: 1m 59s\tremaining: 4m 38s\n",
      "3100:\tlearn: 0.0548456\ttest: 0.0548456\ttest1: 0.0571827\tbest: 0.0571817 (3099)\ttotal: 2m 3s\tremaining: 4m 34s\n",
      "3200:\tlearn: 0.0548031\ttest: 0.0548031\ttest1: 0.0571709\tbest: 0.0571709 (3200)\ttotal: 2m 7s\tremaining: 4m 30s\n",
      "3300:\tlearn: 0.0547566\ttest: 0.0547566\ttest1: 0.0571660\tbest: 0.0571561 (3286)\ttotal: 2m 10s\tremaining: 4m 25s\n",
      "3400:\tlearn: 0.0547148\ttest: 0.0547148\ttest1: 0.0571615\tbest: 0.0571561 (3286)\ttotal: 2m 14s\tremaining: 4m 21s\n",
      "3500:\tlearn: 0.0546839\ttest: 0.0546839\ttest1: 0.0571576\tbest: 0.0571561 (3286)\ttotal: 2m 18s\tremaining: 4m 17s\n",
      "3600:\tlearn: 0.0546534\ttest: 0.0546534\ttest1: 0.0571515\tbest: 0.0571514 (3597)\ttotal: 2m 22s\tremaining: 4m 13s\n",
      "3700:\tlearn: 0.0546167\ttest: 0.0546167\ttest1: 0.0571397\tbest: 0.0571397 (3700)\ttotal: 2m 26s\tremaining: 4m 9s\n",
      "3800:\tlearn: 0.0545644\ttest: 0.0545644\ttest1: 0.0571328\tbest: 0.0571325 (3795)\ttotal: 2m 30s\tremaining: 4m 4s\n",
      "3900:\tlearn: 0.0545271\ttest: 0.0545271\ttest1: 0.0571286\tbest: 0.0571279 (3883)\ttotal: 2m 33s\tremaining: 4m\n",
      "4000:\tlearn: 0.0544847\ttest: 0.0544847\ttest1: 0.0571211\tbest: 0.0571199 (3987)\ttotal: 2m 37s\tremaining: 3m 56s\n",
      "4100:\tlearn: 0.0544483\ttest: 0.0544483\ttest1: 0.0571515\tbest: 0.0571119 (4092)\ttotal: 2m 41s\tremaining: 3m 52s\n",
      "4200:\tlearn: 0.0544090\ttest: 0.0544090\ttest1: 0.0571510\tbest: 0.0571119 (4092)\ttotal: 2m 45s\tremaining: 3m 48s\n",
      "4300:\tlearn: 0.0543661\ttest: 0.0543661\ttest1: 0.0571460\tbest: 0.0571119 (4092)\ttotal: 2m 49s\tremaining: 3m 44s\n",
      "4400:\tlearn: 0.0543275\ttest: 0.0543275\ttest1: 0.0571426\tbest: 0.0571119 (4092)\ttotal: 2m 53s\tremaining: 3m 40s\n",
      "4500:\tlearn: 0.0542964\ttest: 0.0542964\ttest1: 0.0571354\tbest: 0.0571119 (4092)\ttotal: 2m 56s\tremaining: 3m 36s\n",
      "Stopped by overfitting detector  (500 iterations wait)\n",
      "\n",
      "bestTest = 0.05711192553\n",
      "bestIteration = 4092\n",
      "\n",
      "Shrink model to first 4093 iterations.\n"
     ]
    },
    {
     "name": "stderr",
     "output_type": "stream",
     "text": [
      "[08/09/22 21:34:44] 3198672829.py:8 in <module>\n",
      "                    cbt_score: 0.9197607411037639\n"
     ]
    },
    {
     "data": {
      "text/plain": [
       "0.9197607411037639"
      ]
     },
     "execution_count": 49,
     "metadata": {},
     "output_type": "execute_result"
    }
   ],
   "source": [
    "cbt_model = CatBoostRegressor(**cbt_params)\n",
    "cbt_model.fit(X_train, y_train,\n",
    "      eval_set=[(X_train, y_train), (X_valid, y_valid)],\n",
    "              verbose=100,\n",
    "              )  \n",
    "dvalid['cbt_pred'] = cbt_model.predict(dvalid[cols])\n",
    "cbt_score = calc_metric({'id': dvalid.id.values, 'cell_id': dvalid.cell_id.values, 'pred': dvalid.cbt_pred.values})\n",
    "ic(cbt_score)"
   ]
  },
  {
   "cell_type": "code",
   "execution_count": 50,
   "metadata": {},
   "outputs": [
    {
     "data": {
      "application/vnd.plotly.v1+json": {
       "config": {
        "plotlyServerURL": "https://plot.ly"
       },
       "data": [
        {
         "alignmentgroup": "True",
         "hovertemplate": "importance=%{x}<br>feat_name=%{y}<extra></extra>",
         "legendgroup": "",
         "marker": {
          "color": "#636efa",
          "pattern": {
           "shape": ""
          }
         },
         "name": "",
         "offsetgroup": "",
         "orientation": "h",
         "showlegend": false,
         "textposition": "auto",
         "type": "bar",
         "x": [
          0.49871547322753945,
          0.5050445713243632,
          0.5248758315273352,
          0.6309748114283404,
          0.6568266721545765,
          0.7302803377878543,
          0.9026950162637971,
          0.9353390448572846,
          1.0503070564288122,
          1.113276654945311,
          1.2223105472621805,
          1.6629391991509628,
          2.454501220689095,
          2.5125288440203826,
          3.1598088077091133,
          3.81291657615393,
          12.468670529765758,
          14.033344498651251,
          16.45127667659678,
          23.03038940388415
         ],
         "xaxis": "x",
         "y": [
          "pcc_cls_reg_diff",
          "pcc_cls_diff",
          "xc_cls_cls2_diff",
          "xc_top_pred_1",
          "pcc_cls_cls2_diff",
          "xc_abs_cls_cls2_diff",
          "xc_top_pred_9",
          "xc_top_pred_2",
          "xc_abs_cls2_reg_diff",
          "xpc_cls_diff",
          "xpc_abs_cls_diff",
          "xc_top_pred_5",
          "xpc_top_pred_1",
          "xp_pred",
          "xp_cls_pred",
          "xc_cls2_pred",
          "xpc_pred",
          "xc_reg_pred",
          "xpc_cls_pred",
          "xc_cls_pred"
         ],
         "yaxis": "y"
        }
       ],
       "layout": {
        "barmode": "relative",
        "legend": {
         "tracegroupgap": 0
        },
        "margin": {
         "t": 60
        },
        "template": {
         "data": {
          "bar": [
           {
            "error_x": {
             "color": "#2a3f5f"
            },
            "error_y": {
             "color": "#2a3f5f"
            },
            "marker": {
             "line": {
              "color": "#E5ECF6",
              "width": 0.5
             },
             "pattern": {
              "fillmode": "overlay",
              "size": 10,
              "solidity": 0.2
             }
            },
            "type": "bar"
           }
          ],
          "barpolar": [
           {
            "marker": {
             "line": {
              "color": "#E5ECF6",
              "width": 0.5
             },
             "pattern": {
              "fillmode": "overlay",
              "size": 10,
              "solidity": 0.2
             }
            },
            "type": "barpolar"
           }
          ],
          "carpet": [
           {
            "aaxis": {
             "endlinecolor": "#2a3f5f",
             "gridcolor": "white",
             "linecolor": "white",
             "minorgridcolor": "white",
             "startlinecolor": "#2a3f5f"
            },
            "baxis": {
             "endlinecolor": "#2a3f5f",
             "gridcolor": "white",
             "linecolor": "white",
             "minorgridcolor": "white",
             "startlinecolor": "#2a3f5f"
            },
            "type": "carpet"
           }
          ],
          "choropleth": [
           {
            "colorbar": {
             "outlinewidth": 0,
             "ticks": ""
            },
            "type": "choropleth"
           }
          ],
          "contour": [
           {
            "colorbar": {
             "outlinewidth": 0,
             "ticks": ""
            },
            "colorscale": [
             [
              0,
              "#0d0887"
             ],
             [
              0.1111111111111111,
              "#46039f"
             ],
             [
              0.2222222222222222,
              "#7201a8"
             ],
             [
              0.3333333333333333,
              "#9c179e"
             ],
             [
              0.4444444444444444,
              "#bd3786"
             ],
             [
              0.5555555555555556,
              "#d8576b"
             ],
             [
              0.6666666666666666,
              "#ed7953"
             ],
             [
              0.7777777777777778,
              "#fb9f3a"
             ],
             [
              0.8888888888888888,
              "#fdca26"
             ],
             [
              1,
              "#f0f921"
             ]
            ],
            "type": "contour"
           }
          ],
          "contourcarpet": [
           {
            "colorbar": {
             "outlinewidth": 0,
             "ticks": ""
            },
            "type": "contourcarpet"
           }
          ],
          "heatmap": [
           {
            "colorbar": {
             "outlinewidth": 0,
             "ticks": ""
            },
            "colorscale": [
             [
              0,
              "#0d0887"
             ],
             [
              0.1111111111111111,
              "#46039f"
             ],
             [
              0.2222222222222222,
              "#7201a8"
             ],
             [
              0.3333333333333333,
              "#9c179e"
             ],
             [
              0.4444444444444444,
              "#bd3786"
             ],
             [
              0.5555555555555556,
              "#d8576b"
             ],
             [
              0.6666666666666666,
              "#ed7953"
             ],
             [
              0.7777777777777778,
              "#fb9f3a"
             ],
             [
              0.8888888888888888,
              "#fdca26"
             ],
             [
              1,
              "#f0f921"
             ]
            ],
            "type": "heatmap"
           }
          ],
          "heatmapgl": [
           {
            "colorbar": {
             "outlinewidth": 0,
             "ticks": ""
            },
            "colorscale": [
             [
              0,
              "#0d0887"
             ],
             [
              0.1111111111111111,
              "#46039f"
             ],
             [
              0.2222222222222222,
              "#7201a8"
             ],
             [
              0.3333333333333333,
              "#9c179e"
             ],
             [
              0.4444444444444444,
              "#bd3786"
             ],
             [
              0.5555555555555556,
              "#d8576b"
             ],
             [
              0.6666666666666666,
              "#ed7953"
             ],
             [
              0.7777777777777778,
              "#fb9f3a"
             ],
             [
              0.8888888888888888,
              "#fdca26"
             ],
             [
              1,
              "#f0f921"
             ]
            ],
            "type": "heatmapgl"
           }
          ],
          "histogram": [
           {
            "marker": {
             "pattern": {
              "fillmode": "overlay",
              "size": 10,
              "solidity": 0.2
             }
            },
            "type": "histogram"
           }
          ],
          "histogram2d": [
           {
            "colorbar": {
             "outlinewidth": 0,
             "ticks": ""
            },
            "colorscale": [
             [
              0,
              "#0d0887"
             ],
             [
              0.1111111111111111,
              "#46039f"
             ],
             [
              0.2222222222222222,
              "#7201a8"
             ],
             [
              0.3333333333333333,
              "#9c179e"
             ],
             [
              0.4444444444444444,
              "#bd3786"
             ],
             [
              0.5555555555555556,
              "#d8576b"
             ],
             [
              0.6666666666666666,
              "#ed7953"
             ],
             [
              0.7777777777777778,
              "#fb9f3a"
             ],
             [
              0.8888888888888888,
              "#fdca26"
             ],
             [
              1,
              "#f0f921"
             ]
            ],
            "type": "histogram2d"
           }
          ],
          "histogram2dcontour": [
           {
            "colorbar": {
             "outlinewidth": 0,
             "ticks": ""
            },
            "colorscale": [
             [
              0,
              "#0d0887"
             ],
             [
              0.1111111111111111,
              "#46039f"
             ],
             [
              0.2222222222222222,
              "#7201a8"
             ],
             [
              0.3333333333333333,
              "#9c179e"
             ],
             [
              0.4444444444444444,
              "#bd3786"
             ],
             [
              0.5555555555555556,
              "#d8576b"
             ],
             [
              0.6666666666666666,
              "#ed7953"
             ],
             [
              0.7777777777777778,
              "#fb9f3a"
             ],
             [
              0.8888888888888888,
              "#fdca26"
             ],
             [
              1,
              "#f0f921"
             ]
            ],
            "type": "histogram2dcontour"
           }
          ],
          "mesh3d": [
           {
            "colorbar": {
             "outlinewidth": 0,
             "ticks": ""
            },
            "type": "mesh3d"
           }
          ],
          "parcoords": [
           {
            "line": {
             "colorbar": {
              "outlinewidth": 0,
              "ticks": ""
             }
            },
            "type": "parcoords"
           }
          ],
          "pie": [
           {
            "automargin": true,
            "type": "pie"
           }
          ],
          "scatter": [
           {
            "marker": {
             "colorbar": {
              "outlinewidth": 0,
              "ticks": ""
             }
            },
            "type": "scatter"
           }
          ],
          "scatter3d": [
           {
            "line": {
             "colorbar": {
              "outlinewidth": 0,
              "ticks": ""
             }
            },
            "marker": {
             "colorbar": {
              "outlinewidth": 0,
              "ticks": ""
             }
            },
            "type": "scatter3d"
           }
          ],
          "scattercarpet": [
           {
            "marker": {
             "colorbar": {
              "outlinewidth": 0,
              "ticks": ""
             }
            },
            "type": "scattercarpet"
           }
          ],
          "scattergeo": [
           {
            "marker": {
             "colorbar": {
              "outlinewidth": 0,
              "ticks": ""
             }
            },
            "type": "scattergeo"
           }
          ],
          "scattergl": [
           {
            "marker": {
             "colorbar": {
              "outlinewidth": 0,
              "ticks": ""
             }
            },
            "type": "scattergl"
           }
          ],
          "scattermapbox": [
           {
            "marker": {
             "colorbar": {
              "outlinewidth": 0,
              "ticks": ""
             }
            },
            "type": "scattermapbox"
           }
          ],
          "scatterpolar": [
           {
            "marker": {
             "colorbar": {
              "outlinewidth": 0,
              "ticks": ""
             }
            },
            "type": "scatterpolar"
           }
          ],
          "scatterpolargl": [
           {
            "marker": {
             "colorbar": {
              "outlinewidth": 0,
              "ticks": ""
             }
            },
            "type": "scatterpolargl"
           }
          ],
          "scatterternary": [
           {
            "marker": {
             "colorbar": {
              "outlinewidth": 0,
              "ticks": ""
             }
            },
            "type": "scatterternary"
           }
          ],
          "surface": [
           {
            "colorbar": {
             "outlinewidth": 0,
             "ticks": ""
            },
            "colorscale": [
             [
              0,
              "#0d0887"
             ],
             [
              0.1111111111111111,
              "#46039f"
             ],
             [
              0.2222222222222222,
              "#7201a8"
             ],
             [
              0.3333333333333333,
              "#9c179e"
             ],
             [
              0.4444444444444444,
              "#bd3786"
             ],
             [
              0.5555555555555556,
              "#d8576b"
             ],
             [
              0.6666666666666666,
              "#ed7953"
             ],
             [
              0.7777777777777778,
              "#fb9f3a"
             ],
             [
              0.8888888888888888,
              "#fdca26"
             ],
             [
              1,
              "#f0f921"
             ]
            ],
            "type": "surface"
           }
          ],
          "table": [
           {
            "cells": {
             "fill": {
              "color": "#EBF0F8"
             },
             "line": {
              "color": "white"
             }
            },
            "header": {
             "fill": {
              "color": "#C8D4E3"
             },
             "line": {
              "color": "white"
             }
            },
            "type": "table"
           }
          ]
         },
         "layout": {
          "annotationdefaults": {
           "arrowcolor": "#2a3f5f",
           "arrowhead": 0,
           "arrowwidth": 1
          },
          "autotypenumbers": "strict",
          "coloraxis": {
           "colorbar": {
            "outlinewidth": 0,
            "ticks": ""
           }
          },
          "colorscale": {
           "diverging": [
            [
             0,
             "#8e0152"
            ],
            [
             0.1,
             "#c51b7d"
            ],
            [
             0.2,
             "#de77ae"
            ],
            [
             0.3,
             "#f1b6da"
            ],
            [
             0.4,
             "#fde0ef"
            ],
            [
             0.5,
             "#f7f7f7"
            ],
            [
             0.6,
             "#e6f5d0"
            ],
            [
             0.7,
             "#b8e186"
            ],
            [
             0.8,
             "#7fbc41"
            ],
            [
             0.9,
             "#4d9221"
            ],
            [
             1,
             "#276419"
            ]
           ],
           "sequential": [
            [
             0,
             "#0d0887"
            ],
            [
             0.1111111111111111,
             "#46039f"
            ],
            [
             0.2222222222222222,
             "#7201a8"
            ],
            [
             0.3333333333333333,
             "#9c179e"
            ],
            [
             0.4444444444444444,
             "#bd3786"
            ],
            [
             0.5555555555555556,
             "#d8576b"
            ],
            [
             0.6666666666666666,
             "#ed7953"
            ],
            [
             0.7777777777777778,
             "#fb9f3a"
            ],
            [
             0.8888888888888888,
             "#fdca26"
            ],
            [
             1,
             "#f0f921"
            ]
           ],
           "sequentialminus": [
            [
             0,
             "#0d0887"
            ],
            [
             0.1111111111111111,
             "#46039f"
            ],
            [
             0.2222222222222222,
             "#7201a8"
            ],
            [
             0.3333333333333333,
             "#9c179e"
            ],
            [
             0.4444444444444444,
             "#bd3786"
            ],
            [
             0.5555555555555556,
             "#d8576b"
            ],
            [
             0.6666666666666666,
             "#ed7953"
            ],
            [
             0.7777777777777778,
             "#fb9f3a"
            ],
            [
             0.8888888888888888,
             "#fdca26"
            ],
            [
             1,
             "#f0f921"
            ]
           ]
          },
          "colorway": [
           "#636efa",
           "#EF553B",
           "#00cc96",
           "#ab63fa",
           "#FFA15A",
           "#19d3f3",
           "#FF6692",
           "#B6E880",
           "#FF97FF",
           "#FECB52"
          ],
          "font": {
           "color": "#2a3f5f"
          },
          "geo": {
           "bgcolor": "white",
           "lakecolor": "white",
           "landcolor": "#E5ECF6",
           "showlakes": true,
           "showland": true,
           "subunitcolor": "white"
          },
          "hoverlabel": {
           "align": "left"
          },
          "hovermode": "closest",
          "mapbox": {
           "style": "light"
          },
          "paper_bgcolor": "white",
          "plot_bgcolor": "#E5ECF6",
          "polar": {
           "angularaxis": {
            "gridcolor": "white",
            "linecolor": "white",
            "ticks": ""
           },
           "bgcolor": "#E5ECF6",
           "radialaxis": {
            "gridcolor": "white",
            "linecolor": "white",
            "ticks": ""
           }
          },
          "scene": {
           "xaxis": {
            "backgroundcolor": "#E5ECF6",
            "gridcolor": "white",
            "gridwidth": 2,
            "linecolor": "white",
            "showbackground": true,
            "ticks": "",
            "zerolinecolor": "white"
           },
           "yaxis": {
            "backgroundcolor": "#E5ECF6",
            "gridcolor": "white",
            "gridwidth": 2,
            "linecolor": "white",
            "showbackground": true,
            "ticks": "",
            "zerolinecolor": "white"
           },
           "zaxis": {
            "backgroundcolor": "#E5ECF6",
            "gridcolor": "white",
            "gridwidth": 2,
            "linecolor": "white",
            "showbackground": true,
            "ticks": "",
            "zerolinecolor": "white"
           }
          },
          "shapedefaults": {
           "line": {
            "color": "#2a3f5f"
           }
          },
          "ternary": {
           "aaxis": {
            "gridcolor": "white",
            "linecolor": "white",
            "ticks": ""
           },
           "baxis": {
            "gridcolor": "white",
            "linecolor": "white",
            "ticks": ""
           },
           "bgcolor": "#E5ECF6",
           "caxis": {
            "gridcolor": "white",
            "linecolor": "white",
            "ticks": ""
           }
          },
          "title": {
           "x": 0.05
          },
          "xaxis": {
           "automargin": true,
           "gridcolor": "white",
           "linecolor": "white",
           "ticks": "",
           "title": {
            "standoff": 15
           },
           "zerolinecolor": "white",
           "zerolinewidth": 2
          },
          "yaxis": {
           "automargin": true,
           "gridcolor": "white",
           "linecolor": "white",
           "ticks": "",
           "title": {
            "standoff": 15
           },
           "zerolinecolor": "white",
           "zerolinewidth": 2
          }
         }
        },
        "xaxis": {
         "anchor": "y",
         "domain": [
          0,
          1
         ],
         "title": {
          "text": "importance"
         }
        },
        "yaxis": {
         "anchor": "x",
         "domain": [
          0,
          1
         ],
         "title": {
          "text": "feat_name"
         }
        }
       }
      },
      "text/html": [
       "<div>                            <div id=\"987768f2-5525-41ed-953f-afceaa33d4d5\" class=\"plotly-graph-div\" style=\"height:525px; width:100%;\"></div>            <script type=\"text/javascript\">                require([\"plotly\"], function(Plotly) {                    window.PLOTLYENV=window.PLOTLYENV || {};                                    if (document.getElementById(\"987768f2-5525-41ed-953f-afceaa33d4d5\")) {                    Plotly.newPlot(                        \"987768f2-5525-41ed-953f-afceaa33d4d5\",                        [{\"alignmentgroup\":\"True\",\"hovertemplate\":\"importance=%{x}<br>feat_name=%{y}<extra></extra>\",\"legendgroup\":\"\",\"marker\":{\"color\":\"#636efa\",\"pattern\":{\"shape\":\"\"}},\"name\":\"\",\"offsetgroup\":\"\",\"orientation\":\"h\",\"showlegend\":false,\"textposition\":\"auto\",\"x\":[0.49871547322753945,0.5050445713243632,0.5248758315273352,0.6309748114283404,0.6568266721545765,0.7302803377878543,0.9026950162637971,0.9353390448572846,1.0503070564288122,1.113276654945311,1.2223105472621805,1.6629391991509628,2.454501220689095,2.5125288440203826,3.1598088077091133,3.81291657615393,12.468670529765758,14.033344498651251,16.45127667659678,23.03038940388415],\"xaxis\":\"x\",\"y\":[\"pcc_cls_reg_diff\",\"pcc_cls_diff\",\"xc_cls_cls2_diff\",\"xc_top_pred_1\",\"pcc_cls_cls2_diff\",\"xc_abs_cls_cls2_diff\",\"xc_top_pred_9\",\"xc_top_pred_2\",\"xc_abs_cls2_reg_diff\",\"xpc_cls_diff\",\"xpc_abs_cls_diff\",\"xc_top_pred_5\",\"xpc_top_pred_1\",\"xp_pred\",\"xp_cls_pred\",\"xc_cls2_pred\",\"xpc_pred\",\"xc_reg_pred\",\"xpc_cls_pred\",\"xc_cls_pred\"],\"yaxis\":\"y\",\"type\":\"bar\"}],                        {\"template\":{\"data\":{\"bar\":[{\"error_x\":{\"color\":\"#2a3f5f\"},\"error_y\":{\"color\":\"#2a3f5f\"},\"marker\":{\"line\":{\"color\":\"#E5ECF6\",\"width\":0.5},\"pattern\":{\"fillmode\":\"overlay\",\"size\":10,\"solidity\":0.2}},\"type\":\"bar\"}],\"barpolar\":[{\"marker\":{\"line\":{\"color\":\"#E5ECF6\",\"width\":0.5},\"pattern\":{\"fillmode\":\"overlay\",\"size\":10,\"solidity\":0.2}},\"type\":\"barpolar\"}],\"carpet\":[{\"aaxis\":{\"endlinecolor\":\"#2a3f5f\",\"gridcolor\":\"white\",\"linecolor\":\"white\",\"minorgridcolor\":\"white\",\"startlinecolor\":\"#2a3f5f\"},\"baxis\":{\"endlinecolor\":\"#2a3f5f\",\"gridcolor\":\"white\",\"linecolor\":\"white\",\"minorgridcolor\":\"white\",\"startlinecolor\":\"#2a3f5f\"},\"type\":\"carpet\"}],\"choropleth\":[{\"colorbar\":{\"outlinewidth\":0,\"ticks\":\"\"},\"type\":\"choropleth\"}],\"contour\":[{\"colorbar\":{\"outlinewidth\":0,\"ticks\":\"\"},\"colorscale\":[[0.0,\"#0d0887\"],[0.1111111111111111,\"#46039f\"],[0.2222222222222222,\"#7201a8\"],[0.3333333333333333,\"#9c179e\"],[0.4444444444444444,\"#bd3786\"],[0.5555555555555556,\"#d8576b\"],[0.6666666666666666,\"#ed7953\"],[0.7777777777777778,\"#fb9f3a\"],[0.8888888888888888,\"#fdca26\"],[1.0,\"#f0f921\"]],\"type\":\"contour\"}],\"contourcarpet\":[{\"colorbar\":{\"outlinewidth\":0,\"ticks\":\"\"},\"type\":\"contourcarpet\"}],\"heatmap\":[{\"colorbar\":{\"outlinewidth\":0,\"ticks\":\"\"},\"colorscale\":[[0.0,\"#0d0887\"],[0.1111111111111111,\"#46039f\"],[0.2222222222222222,\"#7201a8\"],[0.3333333333333333,\"#9c179e\"],[0.4444444444444444,\"#bd3786\"],[0.5555555555555556,\"#d8576b\"],[0.6666666666666666,\"#ed7953\"],[0.7777777777777778,\"#fb9f3a\"],[0.8888888888888888,\"#fdca26\"],[1.0,\"#f0f921\"]],\"type\":\"heatmap\"}],\"heatmapgl\":[{\"colorbar\":{\"outlinewidth\":0,\"ticks\":\"\"},\"colorscale\":[[0.0,\"#0d0887\"],[0.1111111111111111,\"#46039f\"],[0.2222222222222222,\"#7201a8\"],[0.3333333333333333,\"#9c179e\"],[0.4444444444444444,\"#bd3786\"],[0.5555555555555556,\"#d8576b\"],[0.6666666666666666,\"#ed7953\"],[0.7777777777777778,\"#fb9f3a\"],[0.8888888888888888,\"#fdca26\"],[1.0,\"#f0f921\"]],\"type\":\"heatmapgl\"}],\"histogram\":[{\"marker\":{\"pattern\":{\"fillmode\":\"overlay\",\"size\":10,\"solidity\":0.2}},\"type\":\"histogram\"}],\"histogram2d\":[{\"colorbar\":{\"outlinewidth\":0,\"ticks\":\"\"},\"colorscale\":[[0.0,\"#0d0887\"],[0.1111111111111111,\"#46039f\"],[0.2222222222222222,\"#7201a8\"],[0.3333333333333333,\"#9c179e\"],[0.4444444444444444,\"#bd3786\"],[0.5555555555555556,\"#d8576b\"],[0.6666666666666666,\"#ed7953\"],[0.7777777777777778,\"#fb9f3a\"],[0.8888888888888888,\"#fdca26\"],[1.0,\"#f0f921\"]],\"type\":\"histogram2d\"}],\"histogram2dcontour\":[{\"colorbar\":{\"outlinewidth\":0,\"ticks\":\"\"},\"colorscale\":[[0.0,\"#0d0887\"],[0.1111111111111111,\"#46039f\"],[0.2222222222222222,\"#7201a8\"],[0.3333333333333333,\"#9c179e\"],[0.4444444444444444,\"#bd3786\"],[0.5555555555555556,\"#d8576b\"],[0.6666666666666666,\"#ed7953\"],[0.7777777777777778,\"#fb9f3a\"],[0.8888888888888888,\"#fdca26\"],[1.0,\"#f0f921\"]],\"type\":\"histogram2dcontour\"}],\"mesh3d\":[{\"colorbar\":{\"outlinewidth\":0,\"ticks\":\"\"},\"type\":\"mesh3d\"}],\"parcoords\":[{\"line\":{\"colorbar\":{\"outlinewidth\":0,\"ticks\":\"\"}},\"type\":\"parcoords\"}],\"pie\":[{\"automargin\":true,\"type\":\"pie\"}],\"scatter\":[{\"marker\":{\"colorbar\":{\"outlinewidth\":0,\"ticks\":\"\"}},\"type\":\"scatter\"}],\"scatter3d\":[{\"line\":{\"colorbar\":{\"outlinewidth\":0,\"ticks\":\"\"}},\"marker\":{\"colorbar\":{\"outlinewidth\":0,\"ticks\":\"\"}},\"type\":\"scatter3d\"}],\"scattercarpet\":[{\"marker\":{\"colorbar\":{\"outlinewidth\":0,\"ticks\":\"\"}},\"type\":\"scattercarpet\"}],\"scattergeo\":[{\"marker\":{\"colorbar\":{\"outlinewidth\":0,\"ticks\":\"\"}},\"type\":\"scattergeo\"}],\"scattergl\":[{\"marker\":{\"colorbar\":{\"outlinewidth\":0,\"ticks\":\"\"}},\"type\":\"scattergl\"}],\"scattermapbox\":[{\"marker\":{\"colorbar\":{\"outlinewidth\":0,\"ticks\":\"\"}},\"type\":\"scattermapbox\"}],\"scatterpolar\":[{\"marker\":{\"colorbar\":{\"outlinewidth\":0,\"ticks\":\"\"}},\"type\":\"scatterpolar\"}],\"scatterpolargl\":[{\"marker\":{\"colorbar\":{\"outlinewidth\":0,\"ticks\":\"\"}},\"type\":\"scatterpolargl\"}],\"scatterternary\":[{\"marker\":{\"colorbar\":{\"outlinewidth\":0,\"ticks\":\"\"}},\"type\":\"scatterternary\"}],\"surface\":[{\"colorbar\":{\"outlinewidth\":0,\"ticks\":\"\"},\"colorscale\":[[0.0,\"#0d0887\"],[0.1111111111111111,\"#46039f\"],[0.2222222222222222,\"#7201a8\"],[0.3333333333333333,\"#9c179e\"],[0.4444444444444444,\"#bd3786\"],[0.5555555555555556,\"#d8576b\"],[0.6666666666666666,\"#ed7953\"],[0.7777777777777778,\"#fb9f3a\"],[0.8888888888888888,\"#fdca26\"],[1.0,\"#f0f921\"]],\"type\":\"surface\"}],\"table\":[{\"cells\":{\"fill\":{\"color\":\"#EBF0F8\"},\"line\":{\"color\":\"white\"}},\"header\":{\"fill\":{\"color\":\"#C8D4E3\"},\"line\":{\"color\":\"white\"}},\"type\":\"table\"}]},\"layout\":{\"annotationdefaults\":{\"arrowcolor\":\"#2a3f5f\",\"arrowhead\":0,\"arrowwidth\":1},\"autotypenumbers\":\"strict\",\"coloraxis\":{\"colorbar\":{\"outlinewidth\":0,\"ticks\":\"\"}},\"colorscale\":{\"diverging\":[[0,\"#8e0152\"],[0.1,\"#c51b7d\"],[0.2,\"#de77ae\"],[0.3,\"#f1b6da\"],[0.4,\"#fde0ef\"],[0.5,\"#f7f7f7\"],[0.6,\"#e6f5d0\"],[0.7,\"#b8e186\"],[0.8,\"#7fbc41\"],[0.9,\"#4d9221\"],[1,\"#276419\"]],\"sequential\":[[0.0,\"#0d0887\"],[0.1111111111111111,\"#46039f\"],[0.2222222222222222,\"#7201a8\"],[0.3333333333333333,\"#9c179e\"],[0.4444444444444444,\"#bd3786\"],[0.5555555555555556,\"#d8576b\"],[0.6666666666666666,\"#ed7953\"],[0.7777777777777778,\"#fb9f3a\"],[0.8888888888888888,\"#fdca26\"],[1.0,\"#f0f921\"]],\"sequentialminus\":[[0.0,\"#0d0887\"],[0.1111111111111111,\"#46039f\"],[0.2222222222222222,\"#7201a8\"],[0.3333333333333333,\"#9c179e\"],[0.4444444444444444,\"#bd3786\"],[0.5555555555555556,\"#d8576b\"],[0.6666666666666666,\"#ed7953\"],[0.7777777777777778,\"#fb9f3a\"],[0.8888888888888888,\"#fdca26\"],[1.0,\"#f0f921\"]]},\"colorway\":[\"#636efa\",\"#EF553B\",\"#00cc96\",\"#ab63fa\",\"#FFA15A\",\"#19d3f3\",\"#FF6692\",\"#B6E880\",\"#FF97FF\",\"#FECB52\"],\"font\":{\"color\":\"#2a3f5f\"},\"geo\":{\"bgcolor\":\"white\",\"lakecolor\":\"white\",\"landcolor\":\"#E5ECF6\",\"showlakes\":true,\"showland\":true,\"subunitcolor\":\"white\"},\"hoverlabel\":{\"align\":\"left\"},\"hovermode\":\"closest\",\"mapbox\":{\"style\":\"light\"},\"paper_bgcolor\":\"white\",\"plot_bgcolor\":\"#E5ECF6\",\"polar\":{\"angularaxis\":{\"gridcolor\":\"white\",\"linecolor\":\"white\",\"ticks\":\"\"},\"bgcolor\":\"#E5ECF6\",\"radialaxis\":{\"gridcolor\":\"white\",\"linecolor\":\"white\",\"ticks\":\"\"}},\"scene\":{\"xaxis\":{\"backgroundcolor\":\"#E5ECF6\",\"gridcolor\":\"white\",\"gridwidth\":2,\"linecolor\":\"white\",\"showbackground\":true,\"ticks\":\"\",\"zerolinecolor\":\"white\"},\"yaxis\":{\"backgroundcolor\":\"#E5ECF6\",\"gridcolor\":\"white\",\"gridwidth\":2,\"linecolor\":\"white\",\"showbackground\":true,\"ticks\":\"\",\"zerolinecolor\":\"white\"},\"zaxis\":{\"backgroundcolor\":\"#E5ECF6\",\"gridcolor\":\"white\",\"gridwidth\":2,\"linecolor\":\"white\",\"showbackground\":true,\"ticks\":\"\",\"zerolinecolor\":\"white\"}},\"shapedefaults\":{\"line\":{\"color\":\"#2a3f5f\"}},\"ternary\":{\"aaxis\":{\"gridcolor\":\"white\",\"linecolor\":\"white\",\"ticks\":\"\"},\"baxis\":{\"gridcolor\":\"white\",\"linecolor\":\"white\",\"ticks\":\"\"},\"bgcolor\":\"#E5ECF6\",\"caxis\":{\"gridcolor\":\"white\",\"linecolor\":\"white\",\"ticks\":\"\"}},\"title\":{\"x\":0.05},\"xaxis\":{\"automargin\":true,\"gridcolor\":\"white\",\"linecolor\":\"white\",\"ticks\":\"\",\"title\":{\"standoff\":15},\"zerolinecolor\":\"white\",\"zerolinewidth\":2},\"yaxis\":{\"automargin\":true,\"gridcolor\":\"white\",\"linecolor\":\"white\",\"ticks\":\"\",\"title\":{\"standoff\":15},\"zerolinecolor\":\"white\",\"zerolinewidth\":2}}},\"xaxis\":{\"anchor\":\"y\",\"domain\":[0.0,1.0],\"title\":{\"text\":\"importance\"}},\"yaxis\":{\"anchor\":\"x\",\"domain\":[0.0,1.0],\"title\":{\"text\":\"feat_name\"}},\"legend\":{\"tracegroupgap\":0},\"margin\":{\"t\":60},\"barmode\":\"relative\"},                        {\"responsive\": true}                    ).then(function(){\n",
       "                            \n",
       "var gd = document.getElementById('987768f2-5525-41ed-953f-afceaa33d4d5');\n",
       "var x = new MutationObserver(function (mutations, observer) {{\n",
       "        var display = window.getComputedStyle(gd).display;\n",
       "        if (!display || display === 'none') {{\n",
       "            console.log([gd, 'removed!']);\n",
       "            Plotly.purge(gd);\n",
       "            observer.disconnect();\n",
       "        }}\n",
       "}});\n",
       "\n",
       "// Listen for the removal of the full notebook cells\n",
       "var notebookContainer = gd.closest('#notebook-container');\n",
       "if (notebookContainer) {{\n",
       "    x.observe(notebookContainer, {childList: true});\n",
       "}}\n",
       "\n",
       "// Listen for the clearing of the current output cell\n",
       "var outputEl = gd.closest('.output');\n",
       "if (outputEl) {{\n",
       "    x.observe(outputEl, {childList: true});\n",
       "}}\n",
       "\n",
       "                        })                };                });            </script>        </div>"
      ]
     },
     "metadata": {},
     "output_type": "display_data"
    }
   ],
   "source": [
    "gezi.plot.feature_importance(cbt_model, topn=20)"
   ]
  },
  {
   "cell_type": "code",
   "execution_count": 51,
   "metadata": {},
   "outputs": [
    {
     "name": "stdout",
     "output_type": "stream",
     "text": [
      "[LightGBM] [Warning] Auto-choosing col-wise multi-threading, the overhead of testing was 0.082803 seconds.\n",
      "You can set `force_col_wise=true` to remove the overhead.\n",
      "[LightGBM] [Info] Total Bins 32022\n",
      "[LightGBM] [Info] Number of data points in the train set: 342411, number of used features: 135\n",
      "[LightGBM] [Info] Start training from score 0.455056\n",
      "Training until validation scores don't improve for 200 rounds\n",
      "[100]\ttraining's l1: 0.067215\tvalid_1's l1: 0.0682808\n",
      "[200]\ttraining's l1: 0.0600246\tvalid_1's l1: 0.0612298\n",
      "[300]\ttraining's l1: 0.0589993\tvalid_1's l1: 0.0602554\n",
      "[400]\ttraining's l1: 0.0580944\tvalid_1's l1: 0.0594058\n",
      "[500]\ttraining's l1: 0.0575162\tvalid_1's l1: 0.0588837\n",
      "[600]\ttraining's l1: 0.0572022\tvalid_1's l1: 0.0585898\n",
      "[700]\ttraining's l1: 0.056864\tvalid_1's l1: 0.058295\n",
      "[800]\ttraining's l1: 0.0566528\tvalid_1's l1: 0.0581156\n",
      "[900]\ttraining's l1: 0.0564973\tvalid_1's l1: 0.0579858\n",
      "[1000]\ttraining's l1: 0.0563807\tvalid_1's l1: 0.0578969\n",
      "[1100]\ttraining's l1: 0.0562888\tvalid_1's l1: 0.0578284\n",
      "[1200]\ttraining's l1: 0.0562\tvalid_1's l1: 0.0577556\n",
      "[1300]\ttraining's l1: 0.0561331\tvalid_1's l1: 0.0577137\n",
      "[1400]\ttraining's l1: 0.0560656\tvalid_1's l1: 0.0576715\n",
      "[1500]\ttraining's l1: 0.0560224\tvalid_1's l1: 0.0576434\n",
      "[1600]\ttraining's l1: 0.0559803\tvalid_1's l1: 0.0576176\n",
      "[1700]\ttraining's l1: 0.0559301\tvalid_1's l1: 0.0575903\n",
      "[1800]\ttraining's l1: 0.0558875\tvalid_1's l1: 0.0575694\n",
      "[1900]\ttraining's l1: 0.0558574\tvalid_1's l1: 0.0575486\n",
      "[2000]\ttraining's l1: 0.0558267\tvalid_1's l1: 0.0575255\n",
      "[2100]\ttraining's l1: 0.0557918\tvalid_1's l1: 0.0575044\n",
      "[2200]\ttraining's l1: 0.0557528\tvalid_1's l1: 0.0574805\n",
      "[2300]\ttraining's l1: 0.0557305\tvalid_1's l1: 0.057467\n",
      "[2400]\ttraining's l1: 0.0557012\tvalid_1's l1: 0.0574504\n",
      "[2500]\ttraining's l1: 0.0556782\tvalid_1's l1: 0.0574392\n",
      "[2600]\ttraining's l1: 0.0556595\tvalid_1's l1: 0.0574272\n",
      "[2700]\ttraining's l1: 0.055644\tvalid_1's l1: 0.0574156\n",
      "[2800]\ttraining's l1: 0.055616\tvalid_1's l1: 0.057404\n",
      "[2900]\ttraining's l1: 0.0555847\tvalid_1's l1: 0.0573866\n",
      "[3000]\ttraining's l1: 0.0555555\tvalid_1's l1: 0.0573749\n",
      "[3100]\ttraining's l1: 0.0555283\tvalid_1's l1: 0.0573611\n",
      "[3200]\ttraining's l1: 0.055504\tvalid_1's l1: 0.0573567\n",
      "[3300]\ttraining's l1: 0.0554794\tvalid_1's l1: 0.0573521\n",
      "[3400]\ttraining's l1: 0.055457\tvalid_1's l1: 0.0573432\n",
      "[3500]\ttraining's l1: 0.0554403\tvalid_1's l1: 0.0573352\n",
      "[3600]\ttraining's l1: 0.0554188\tvalid_1's l1: 0.0573272\n",
      "[3700]\ttraining's l1: 0.0553952\tvalid_1's l1: 0.0573174\n",
      "[3800]\ttraining's l1: 0.0553768\tvalid_1's l1: 0.0573096\n",
      "[3900]\ttraining's l1: 0.0553636\tvalid_1's l1: 0.0573051\n",
      "[4000]\ttraining's l1: 0.0553514\tvalid_1's l1: 0.0573\n",
      "[4100]\ttraining's l1: 0.0553266\tvalid_1's l1: 0.0572896\n",
      "[4200]\ttraining's l1: 0.0553023\tvalid_1's l1: 0.0572783\n",
      "[4300]\ttraining's l1: 0.0552867\tvalid_1's l1: 0.0572709\n",
      "[4400]\ttraining's l1: 0.0552741\tvalid_1's l1: 0.0572672\n",
      "[4500]\ttraining's l1: 0.0552588\tvalid_1's l1: 0.0572619\n",
      "[4600]\ttraining's l1: 0.0552359\tvalid_1's l1: 0.0572543\n",
      "[4700]\ttraining's l1: 0.0552233\tvalid_1's l1: 0.0572491\n",
      "[4800]\ttraining's l1: 0.055214\tvalid_1's l1: 0.057245\n",
      "[4900]\ttraining's l1: 0.0552016\tvalid_1's l1: 0.057239\n",
      "[5000]\ttraining's l1: 0.0551735\tvalid_1's l1: 0.0572305\n",
      "[5100]\ttraining's l1: 0.0551607\tvalid_1's l1: 0.0572249\n",
      "[5200]\ttraining's l1: 0.0551521\tvalid_1's l1: 0.0572194\n",
      "[5300]\ttraining's l1: 0.0551438\tvalid_1's l1: 0.0572164\n",
      "[5400]\ttraining's l1: 0.0551374\tvalid_1's l1: 0.057214\n",
      "[5500]\ttraining's l1: 0.0551243\tvalid_1's l1: 0.0572114\n",
      "[5600]\ttraining's l1: 0.05511\tvalid_1's l1: 0.0572074\n",
      "[5700]\ttraining's l1: 0.055094\tvalid_1's l1: 0.0572025\n",
      "[5800]\ttraining's l1: 0.0550819\tvalid_1's l1: 0.0571995\n",
      "[5900]\ttraining's l1: 0.0550643\tvalid_1's l1: 0.0571954\n",
      "[6000]\ttraining's l1: 0.0550469\tvalid_1's l1: 0.0571917\n",
      "[6100]\ttraining's l1: 0.0550314\tvalid_1's l1: 0.0571835\n",
      "[6200]\ttraining's l1: 0.0550241\tvalid_1's l1: 0.057181\n",
      "[6300]\ttraining's l1: 0.0550168\tvalid_1's l1: 0.0571791\n",
      "[6400]\ttraining's l1: 0.0550117\tvalid_1's l1: 0.0571772\n",
      "[6500]\ttraining's l1: 0.0550023\tvalid_1's l1: 0.0571723\n",
      "[6600]\ttraining's l1: 0.0549921\tvalid_1's l1: 0.0571672\n",
      "[6700]\ttraining's l1: 0.0549796\tvalid_1's l1: 0.0571626\n",
      "[6800]\ttraining's l1: 0.0549632\tvalid_1's l1: 0.0571597\n",
      "[6900]\ttraining's l1: 0.0549569\tvalid_1's l1: 0.0571589\n",
      "[7000]\ttraining's l1: 0.0549524\tvalid_1's l1: 0.057159\n",
      "[7100]\ttraining's l1: 0.0549442\tvalid_1's l1: 0.0571562\n",
      "[7200]\ttraining's l1: 0.0549362\tvalid_1's l1: 0.0571545\n",
      "[7300]\ttraining's l1: 0.0549304\tvalid_1's l1: 0.0571518\n",
      "[7400]\ttraining's l1: 0.0549249\tvalid_1's l1: 0.0571493\n",
      "[7500]\ttraining's l1: 0.0549163\tvalid_1's l1: 0.0571468\n",
      "[7600]\ttraining's l1: 0.0549086\tvalid_1's l1: 0.0571443\n",
      "[7700]\ttraining's l1: 0.0549027\tvalid_1's l1: 0.0571428\n",
      "[7800]\ttraining's l1: 0.0548948\tvalid_1's l1: 0.057142\n",
      "[7900]\ttraining's l1: 0.0548912\tvalid_1's l1: 0.0571417\n",
      "[8000]\ttraining's l1: 0.0548829\tvalid_1's l1: 0.0571391\n",
      "[8100]\ttraining's l1: 0.0548764\tvalid_1's l1: 0.0571376\n",
      "[8200]\ttraining's l1: 0.0548692\tvalid_1's l1: 0.0571342\n",
      "[8300]\ttraining's l1: 0.0548629\tvalid_1's l1: 0.0571336\n",
      "[8400]\ttraining's l1: 0.0548575\tvalid_1's l1: 0.0571323\n",
      "[8500]\ttraining's l1: 0.0548535\tvalid_1's l1: 0.0571307\n",
      "[8600]\ttraining's l1: 0.0548435\tvalid_1's l1: 0.0571307\n",
      "[8700]\ttraining's l1: 0.0548308\tvalid_1's l1: 0.0571274\n",
      "[8800]\ttraining's l1: 0.0548239\tvalid_1's l1: 0.0571257\n",
      "[8900]\ttraining's l1: 0.0548167\tvalid_1's l1: 0.0571229\n",
      "[9000]\ttraining's l1: 0.0548102\tvalid_1's l1: 0.0571209\n",
      "[9100]\ttraining's l1: 0.0548043\tvalid_1's l1: 0.0571197\n",
      "[9200]\ttraining's l1: 0.0547952\tvalid_1's l1: 0.0571179\n",
      "[9300]\ttraining's l1: 0.054788\tvalid_1's l1: 0.0571182\n",
      "[9400]\ttraining's l1: 0.0547845\tvalid_1's l1: 0.0571175\n",
      "[9500]\ttraining's l1: 0.0547793\tvalid_1's l1: 0.0571175\n",
      "[9600]\ttraining's l1: 0.0547719\tvalid_1's l1: 0.0571156\n",
      "[9700]\ttraining's l1: 0.0547611\tvalid_1's l1: 0.0571111\n",
      "[9800]\ttraining's l1: 0.0547559\tvalid_1's l1: 0.0571102\n",
      "[9900]\ttraining's l1: 0.0547521\tvalid_1's l1: 0.0571083\n",
      "[10000]\ttraining's l1: 0.0547486\tvalid_1's l1: 0.0571074\n",
      "[10100]\ttraining's l1: 0.0547424\tvalid_1's l1: 0.0571069\n",
      "[10200]\ttraining's l1: 0.0547377\tvalid_1's l1: 0.0571063\n",
      "[10300]\ttraining's l1: 0.0547326\tvalid_1's l1: 0.0571054\n",
      "[10400]\ttraining's l1: 0.0547274\tvalid_1's l1: 0.0571031\n",
      "[10500]\ttraining's l1: 0.0547244\tvalid_1's l1: 0.057102\n",
      "[10600]\ttraining's l1: 0.0547152\tvalid_1's l1: 0.0570979\n",
      "[10700]\ttraining's l1: 0.054709\tvalid_1's l1: 0.0570968\n",
      "[10800]\ttraining's l1: 0.0546986\tvalid_1's l1: 0.0570927\n",
      "[10900]\ttraining's l1: 0.0546931\tvalid_1's l1: 0.057091\n",
      "[11000]\ttraining's l1: 0.0546922\tvalid_1's l1: 0.0570907\n",
      "[11100]\ttraining's l1: 0.0546881\tvalid_1's l1: 0.0570888\n",
      "[11200]\ttraining's l1: 0.0546824\tvalid_1's l1: 0.0570872\n",
      "[11300]\ttraining's l1: 0.0546765\tvalid_1's l1: 0.0570856\n",
      "[11400]\ttraining's l1: 0.0546734\tvalid_1's l1: 0.0570847\n",
      "[11500]\ttraining's l1: 0.0546709\tvalid_1's l1: 0.0570851\n",
      "[11600]\ttraining's l1: 0.0546621\tvalid_1's l1: 0.0570826\n",
      "[11700]\ttraining's l1: 0.054658\tvalid_1's l1: 0.0570818\n",
      "[11800]\ttraining's l1: 0.0546548\tvalid_1's l1: 0.0570815\n",
      "[11900]\ttraining's l1: 0.0546476\tvalid_1's l1: 0.0570807\n",
      "[12000]\ttraining's l1: 0.0546375\tvalid_1's l1: 0.0570774\n",
      "[12100]\ttraining's l1: 0.054634\tvalid_1's l1: 0.057077\n",
      "[12200]\ttraining's l1: 0.054626\tvalid_1's l1: 0.0570753\n",
      "[12300]\ttraining's l1: 0.0546216\tvalid_1's l1: 0.0570759\n",
      "[12400]\ttraining's l1: 0.0546179\tvalid_1's l1: 0.0570746\n",
      "[12500]\ttraining's l1: 0.054611\tvalid_1's l1: 0.057074\n",
      "[12600]\ttraining's l1: 0.0546061\tvalid_1's l1: 0.0570745\n",
      "[12700]\ttraining's l1: 0.0546001\tvalid_1's l1: 0.0570733\n",
      "[12800]\ttraining's l1: 0.0545941\tvalid_1's l1: 0.0570701\n",
      "[12900]\ttraining's l1: 0.0545876\tvalid_1's l1: 0.0570682\n",
      "[13000]\ttraining's l1: 0.0545665\tvalid_1's l1: 0.0570666\n",
      "[13100]\ttraining's l1: 0.054562\tvalid_1's l1: 0.0570658\n",
      "[13200]\ttraining's l1: 0.0545587\tvalid_1's l1: 0.0570635\n",
      "[13300]\ttraining's l1: 0.0545539\tvalid_1's l1: 0.0570616\n",
      "[13400]\ttraining's l1: 0.0545497\tvalid_1's l1: 0.0570612\n",
      "[13500]\ttraining's l1: 0.0545456\tvalid_1's l1: 0.0570596\n",
      "[13600]\ttraining's l1: 0.0545401\tvalid_1's l1: 0.0570595\n",
      "[13700]\ttraining's l1: 0.0545318\tvalid_1's l1: 0.057058\n",
      "[13800]\ttraining's l1: 0.0545282\tvalid_1's l1: 0.0570581\n",
      "[13900]\ttraining's l1: 0.0545246\tvalid_1's l1: 0.0570572\n",
      "[14000]\ttraining's l1: 0.0545153\tvalid_1's l1: 0.0570551\n",
      "[14100]\ttraining's l1: 0.0545122\tvalid_1's l1: 0.0570554\n",
      "[14200]\ttraining's l1: 0.0545084\tvalid_1's l1: 0.0570537\n",
      "[14300]\ttraining's l1: 0.0545055\tvalid_1's l1: 0.0570529\n",
      "[14400]\ttraining's l1: 0.0545012\tvalid_1's l1: 0.0570524\n",
      "[14500]\ttraining's l1: 0.0544967\tvalid_1's l1: 0.05705\n",
      "[14600]\ttraining's l1: 0.0544947\tvalid_1's l1: 0.0570498\n",
      "[14700]\ttraining's l1: 0.0544909\tvalid_1's l1: 0.057049\n",
      "[14800]\ttraining's l1: 0.0544875\tvalid_1's l1: 0.0570488\n",
      "[14900]\ttraining's l1: 0.0544827\tvalid_1's l1: 0.0570486\n",
      "[15000]\ttraining's l1: 0.0544769\tvalid_1's l1: 0.0570483\n",
      "[15100]\ttraining's l1: 0.0544719\tvalid_1's l1: 0.0570479\n",
      "[15200]\ttraining's l1: 0.0544661\tvalid_1's l1: 0.0570471\n",
      "[15300]\ttraining's l1: 0.0544626\tvalid_1's l1: 0.0570457\n",
      "[15400]\ttraining's l1: 0.0544602\tvalid_1's l1: 0.0570452\n",
      "[15500]\ttraining's l1: 0.0544573\tvalid_1's l1: 0.057045\n",
      "[15600]\ttraining's l1: 0.0544543\tvalid_1's l1: 0.0570444\n",
      "[15700]\ttraining's l1: 0.0544539\tvalid_1's l1: 0.0570447\n",
      "[15800]\ttraining's l1: 0.0544523\tvalid_1's l1: 0.0570452\n",
      "Early stopping, best iteration is:\n",
      "[15658]\ttraining's l1: 0.0544541\tvalid_1's l1: 0.0570443\n"
     ]
    },
    {
     "name": "stderr",
     "output_type": "stream",
     "text": [
      "[08/09/22 21:38:34] 155394547.py:37 in <module>\n",
      "                    lgb_score: 0.9196994418536476\n"
     ]
    },
    {
     "data": {
      "text/plain": [
       "0.9196994418536476"
      ]
     },
     "execution_count": 51,
     "metadata": {},
     "output_type": "execute_result"
    }
   ],
   "source": [
    "import lightgbm as lgb\n",
    "params = {\n",
    "          'boosting': 'gbdt',\n",
    "          'objective': 'regression_l1',\n",
    "          'metric': {'l1'},\n",
    "          # 'num_leaves': 32,\n",
    "          # 'num_leaves': 24,\n",
    "          'num_leaves': 12,\n",
    "          'min_data_in_leaf': 300,\n",
    "          # 'min_data_in_leaf': 500,\n",
    "          # 'max_depth': 5,\n",
    "          'learning_rate': 0.03,\n",
    "          # \"feature_fraction\": 0.8,\n",
    "          # \"bagging_fraction\": 0.75,\n",
    "          # \"feature_fraction\": 0.9,\n",
    "          # \"bagging_fraction\": 0.8,\n",
    "          'feature_fraction': 0.7,\n",
    "          'bagging_fraction': 0.7,\n",
    "          'min_data_in_bin':100,\n",
    "          \"lambda_l1\": 1e-7,\n",
    "          'lambda_l2': 1e-7,\n",
    "          \"random_state\": 1024,\n",
    "          \"num_threads\": 12,\n",
    "          }\n",
    "\n",
    "d_train = lgb.Dataset(X_train, y_train)\n",
    "d_valid = lgb.Dataset(X_valid, y_valid, reference=d_train)\n",
    "\n",
    "lgb_model = lgb.train(params,\n",
    "                d_train,\n",
    "                20000,\n",
    "                valid_sets=[d_train, d_valid],\n",
    "                verbose_eval=100,\n",
    "                early_stopping_rounds=200)\n",
    "dvalid['lgb_pred'] = lgb_model.predict(dvalid[cols])\n",
    "lgb_score = calc_metric({'id': dvalid.id.values, 'cell_id': dvalid.cell_id.values, 'pred': dvalid.lgb_pred.values})\n",
    "ic(lgb_score)"
   ]
  },
  {
   "cell_type": "code",
   "execution_count": 52,
   "metadata": {},
   "outputs": [],
   "source": [
    "# model = lgb.LGBMRanker(\n",
    "#     objective=\"lambdarank\",\n",
    "#     metric=\"ndcg\",\n",
    "#     boosting_type=\"dart\",\n",
    "#     n_estimators=100,\n",
    "#     importance_type='gain',\n",
    "#     verbose=10,\n",
    "#     random_state = 17\n",
    "# )\n",
    "\n",
    "# qids_train = dtrain.groupby(['id'])['cell_id'].count().values\n",
    "# # y_train2 = [int(x * 1000) for x in y_train]\n",
    "\n",
    "# model.fit(\n",
    "#     X=X_train,\n",
    "#     y=y_train2,\n",
    "#     group=qids_train,\n",
    "# )"
   ]
  },
  {
   "cell_type": "code",
   "execution_count": 53,
   "metadata": {},
   "outputs": [],
   "source": [
    "# import xgboost as xgb\n",
    "# params = {\n",
    "#       'reg_lambda': 7.960622217848342e-07, \n",
    "#                       'subsample': 0.7422597612762745,\n",
    "#                       # 'bagging_temperature': 0.2,\n",
    "#                       'max_depth': 10, \n",
    "#                       # 'early_stopping_rounds': 500,\n",
    "#                       # 'n_estimators': 10000,\n",
    "#                       # 'cat_features': [],\n",
    "#                       # 'loss_function': 'MAE',\n",
    "#                       'min_child_samples': 100,\n",
    "#                       # eval_metric='MAE',\n",
    "# }\n",
    "# model = xgb.XGBRanker(booster=\"gbtree\", \n",
    "#                       # objective=\"rank:ndcg\",\n",
    "#                       objective='rank:pairwise',\n",
    "#                       tree_method=\"gpu_hist\", \n",
    "#                       sampling_method=\"gradient_based\",\n",
    "#                       n_estimators=5000,\n",
    "#                       learning_rate=0.03,\n",
    "#                       **params\n",
    "#                       )\n",
    "# train_groups = dtrain.groupby('id').size().to_numpy()\n",
    "# eval_groups = dvalid.groupby('id').size().to_numpy()\n",
    "# model.fit(X_train, \n",
    "#           y_train, \n",
    "#           group=train_groups, \n",
    "#           eval_set=[(X_train, y_train),(X_valid, y_valid)],\n",
    "#           eval_group=[train_groups, eval_groups],\n",
    "#           verbose=100)\n"
   ]
  },
  {
   "cell_type": "code",
   "execution_count": 54,
   "metadata": {},
   "outputs": [],
   "source": [
    "# xgb_model = model"
   ]
  },
  {
   "cell_type": "code",
   "execution_count": 55,
   "metadata": {},
   "outputs": [],
   "source": [
    "# dvalid['xgb_pred'] = xgb_model.predict(dvalid[cols])\n",
    "# dvalid['xgb_pred'] = [gezi.sigmoid(x) for x in dvalid.xgb_pred.values]\n",
    "# xgb_score = calc_metric({'id': dvalid.id.values, 'cell_id': dvalid.cell_id.values, 'pred': dvalid.xgb_pred.values})\n",
    "# ic(xgb_score)"
   ]
  },
  {
   "cell_type": "code",
   "execution_count": 56,
   "metadata": {},
   "outputs": [
    {
     "data": {
      "application/vnd.plotly.v1+json": {
       "config": {
        "plotlyServerURL": "https://plot.ly"
       },
       "data": [
        {
         "alignmentgroup": "True",
         "hovertemplate": "importance=%{x}<br>feat_name=%{y}<extra></extra>",
         "legendgroup": "",
         "marker": {
          "color": "#636efa",
          "pattern": {
           "shape": ""
          }
         },
         "name": "",
         "offsetgroup": "",
         "orientation": "h",
         "showlegend": false,
         "textposition": "auto",
         "type": "bar",
         "x": [
          2121,
          2123,
          2176,
          2195,
          2198,
          2258,
          2315,
          2330,
          2383,
          2446,
          2680,
          2687,
          2687,
          2800,
          3125,
          3127,
          3212,
          4162,
          4464,
          4877
         ],
         "xaxis": "x",
         "y": [
          "xp_var_prob",
          "pcc_reg_diff",
          "xc_top_pred_1",
          "xc_cls2_reg_diff",
          "xc_top_prob_4",
          "pcc_cls2_diff",
          "xc_abs_cls_cls2_diff",
          "code_ratio",
          "xpc_top_prob_0",
          "xc_abs_cls2_reg_diff",
          "xpc_pred",
          "xc_cls_cls2_diff",
          "xp_cls_pred",
          "xc_top_prob_1",
          "xpc_var_prob",
          "xc_top_prob_3",
          "n_words",
          "xc_cls_pred",
          "xpc_cls_pred",
          "xc_reg_pred"
         ],
         "yaxis": "y"
        }
       ],
       "layout": {
        "barmode": "relative",
        "legend": {
         "tracegroupgap": 0
        },
        "margin": {
         "t": 60
        },
        "template": {
         "data": {
          "bar": [
           {
            "error_x": {
             "color": "#2a3f5f"
            },
            "error_y": {
             "color": "#2a3f5f"
            },
            "marker": {
             "line": {
              "color": "#E5ECF6",
              "width": 0.5
             },
             "pattern": {
              "fillmode": "overlay",
              "size": 10,
              "solidity": 0.2
             }
            },
            "type": "bar"
           }
          ],
          "barpolar": [
           {
            "marker": {
             "line": {
              "color": "#E5ECF6",
              "width": 0.5
             },
             "pattern": {
              "fillmode": "overlay",
              "size": 10,
              "solidity": 0.2
             }
            },
            "type": "barpolar"
           }
          ],
          "carpet": [
           {
            "aaxis": {
             "endlinecolor": "#2a3f5f",
             "gridcolor": "white",
             "linecolor": "white",
             "minorgridcolor": "white",
             "startlinecolor": "#2a3f5f"
            },
            "baxis": {
             "endlinecolor": "#2a3f5f",
             "gridcolor": "white",
             "linecolor": "white",
             "minorgridcolor": "white",
             "startlinecolor": "#2a3f5f"
            },
            "type": "carpet"
           }
          ],
          "choropleth": [
           {
            "colorbar": {
             "outlinewidth": 0,
             "ticks": ""
            },
            "type": "choropleth"
           }
          ],
          "contour": [
           {
            "colorbar": {
             "outlinewidth": 0,
             "ticks": ""
            },
            "colorscale": [
             [
              0,
              "#0d0887"
             ],
             [
              0.1111111111111111,
              "#46039f"
             ],
             [
              0.2222222222222222,
              "#7201a8"
             ],
             [
              0.3333333333333333,
              "#9c179e"
             ],
             [
              0.4444444444444444,
              "#bd3786"
             ],
             [
              0.5555555555555556,
              "#d8576b"
             ],
             [
              0.6666666666666666,
              "#ed7953"
             ],
             [
              0.7777777777777778,
              "#fb9f3a"
             ],
             [
              0.8888888888888888,
              "#fdca26"
             ],
             [
              1,
              "#f0f921"
             ]
            ],
            "type": "contour"
           }
          ],
          "contourcarpet": [
           {
            "colorbar": {
             "outlinewidth": 0,
             "ticks": ""
            },
            "type": "contourcarpet"
           }
          ],
          "heatmap": [
           {
            "colorbar": {
             "outlinewidth": 0,
             "ticks": ""
            },
            "colorscale": [
             [
              0,
              "#0d0887"
             ],
             [
              0.1111111111111111,
              "#46039f"
             ],
             [
              0.2222222222222222,
              "#7201a8"
             ],
             [
              0.3333333333333333,
              "#9c179e"
             ],
             [
              0.4444444444444444,
              "#bd3786"
             ],
             [
              0.5555555555555556,
              "#d8576b"
             ],
             [
              0.6666666666666666,
              "#ed7953"
             ],
             [
              0.7777777777777778,
              "#fb9f3a"
             ],
             [
              0.8888888888888888,
              "#fdca26"
             ],
             [
              1,
              "#f0f921"
             ]
            ],
            "type": "heatmap"
           }
          ],
          "heatmapgl": [
           {
            "colorbar": {
             "outlinewidth": 0,
             "ticks": ""
            },
            "colorscale": [
             [
              0,
              "#0d0887"
             ],
             [
              0.1111111111111111,
              "#46039f"
             ],
             [
              0.2222222222222222,
              "#7201a8"
             ],
             [
              0.3333333333333333,
              "#9c179e"
             ],
             [
              0.4444444444444444,
              "#bd3786"
             ],
             [
              0.5555555555555556,
              "#d8576b"
             ],
             [
              0.6666666666666666,
              "#ed7953"
             ],
             [
              0.7777777777777778,
              "#fb9f3a"
             ],
             [
              0.8888888888888888,
              "#fdca26"
             ],
             [
              1,
              "#f0f921"
             ]
            ],
            "type": "heatmapgl"
           }
          ],
          "histogram": [
           {
            "marker": {
             "pattern": {
              "fillmode": "overlay",
              "size": 10,
              "solidity": 0.2
             }
            },
            "type": "histogram"
           }
          ],
          "histogram2d": [
           {
            "colorbar": {
             "outlinewidth": 0,
             "ticks": ""
            },
            "colorscale": [
             [
              0,
              "#0d0887"
             ],
             [
              0.1111111111111111,
              "#46039f"
             ],
             [
              0.2222222222222222,
              "#7201a8"
             ],
             [
              0.3333333333333333,
              "#9c179e"
             ],
             [
              0.4444444444444444,
              "#bd3786"
             ],
             [
              0.5555555555555556,
              "#d8576b"
             ],
             [
              0.6666666666666666,
              "#ed7953"
             ],
             [
              0.7777777777777778,
              "#fb9f3a"
             ],
             [
              0.8888888888888888,
              "#fdca26"
             ],
             [
              1,
              "#f0f921"
             ]
            ],
            "type": "histogram2d"
           }
          ],
          "histogram2dcontour": [
           {
            "colorbar": {
             "outlinewidth": 0,
             "ticks": ""
            },
            "colorscale": [
             [
              0,
              "#0d0887"
             ],
             [
              0.1111111111111111,
              "#46039f"
             ],
             [
              0.2222222222222222,
              "#7201a8"
             ],
             [
              0.3333333333333333,
              "#9c179e"
             ],
             [
              0.4444444444444444,
              "#bd3786"
             ],
             [
              0.5555555555555556,
              "#d8576b"
             ],
             [
              0.6666666666666666,
              "#ed7953"
             ],
             [
              0.7777777777777778,
              "#fb9f3a"
             ],
             [
              0.8888888888888888,
              "#fdca26"
             ],
             [
              1,
              "#f0f921"
             ]
            ],
            "type": "histogram2dcontour"
           }
          ],
          "mesh3d": [
           {
            "colorbar": {
             "outlinewidth": 0,
             "ticks": ""
            },
            "type": "mesh3d"
           }
          ],
          "parcoords": [
           {
            "line": {
             "colorbar": {
              "outlinewidth": 0,
              "ticks": ""
             }
            },
            "type": "parcoords"
           }
          ],
          "pie": [
           {
            "automargin": true,
            "type": "pie"
           }
          ],
          "scatter": [
           {
            "marker": {
             "colorbar": {
              "outlinewidth": 0,
              "ticks": ""
             }
            },
            "type": "scatter"
           }
          ],
          "scatter3d": [
           {
            "line": {
             "colorbar": {
              "outlinewidth": 0,
              "ticks": ""
             }
            },
            "marker": {
             "colorbar": {
              "outlinewidth": 0,
              "ticks": ""
             }
            },
            "type": "scatter3d"
           }
          ],
          "scattercarpet": [
           {
            "marker": {
             "colorbar": {
              "outlinewidth": 0,
              "ticks": ""
             }
            },
            "type": "scattercarpet"
           }
          ],
          "scattergeo": [
           {
            "marker": {
             "colorbar": {
              "outlinewidth": 0,
              "ticks": ""
             }
            },
            "type": "scattergeo"
           }
          ],
          "scattergl": [
           {
            "marker": {
             "colorbar": {
              "outlinewidth": 0,
              "ticks": ""
             }
            },
            "type": "scattergl"
           }
          ],
          "scattermapbox": [
           {
            "marker": {
             "colorbar": {
              "outlinewidth": 0,
              "ticks": ""
             }
            },
            "type": "scattermapbox"
           }
          ],
          "scatterpolar": [
           {
            "marker": {
             "colorbar": {
              "outlinewidth": 0,
              "ticks": ""
             }
            },
            "type": "scatterpolar"
           }
          ],
          "scatterpolargl": [
           {
            "marker": {
             "colorbar": {
              "outlinewidth": 0,
              "ticks": ""
             }
            },
            "type": "scatterpolargl"
           }
          ],
          "scatterternary": [
           {
            "marker": {
             "colorbar": {
              "outlinewidth": 0,
              "ticks": ""
             }
            },
            "type": "scatterternary"
           }
          ],
          "surface": [
           {
            "colorbar": {
             "outlinewidth": 0,
             "ticks": ""
            },
            "colorscale": [
             [
              0,
              "#0d0887"
             ],
             [
              0.1111111111111111,
              "#46039f"
             ],
             [
              0.2222222222222222,
              "#7201a8"
             ],
             [
              0.3333333333333333,
              "#9c179e"
             ],
             [
              0.4444444444444444,
              "#bd3786"
             ],
             [
              0.5555555555555556,
              "#d8576b"
             ],
             [
              0.6666666666666666,
              "#ed7953"
             ],
             [
              0.7777777777777778,
              "#fb9f3a"
             ],
             [
              0.8888888888888888,
              "#fdca26"
             ],
             [
              1,
              "#f0f921"
             ]
            ],
            "type": "surface"
           }
          ],
          "table": [
           {
            "cells": {
             "fill": {
              "color": "#EBF0F8"
             },
             "line": {
              "color": "white"
             }
            },
            "header": {
             "fill": {
              "color": "#C8D4E3"
             },
             "line": {
              "color": "white"
             }
            },
            "type": "table"
           }
          ]
         },
         "layout": {
          "annotationdefaults": {
           "arrowcolor": "#2a3f5f",
           "arrowhead": 0,
           "arrowwidth": 1
          },
          "autotypenumbers": "strict",
          "coloraxis": {
           "colorbar": {
            "outlinewidth": 0,
            "ticks": ""
           }
          },
          "colorscale": {
           "diverging": [
            [
             0,
             "#8e0152"
            ],
            [
             0.1,
             "#c51b7d"
            ],
            [
             0.2,
             "#de77ae"
            ],
            [
             0.3,
             "#f1b6da"
            ],
            [
             0.4,
             "#fde0ef"
            ],
            [
             0.5,
             "#f7f7f7"
            ],
            [
             0.6,
             "#e6f5d0"
            ],
            [
             0.7,
             "#b8e186"
            ],
            [
             0.8,
             "#7fbc41"
            ],
            [
             0.9,
             "#4d9221"
            ],
            [
             1,
             "#276419"
            ]
           ],
           "sequential": [
            [
             0,
             "#0d0887"
            ],
            [
             0.1111111111111111,
             "#46039f"
            ],
            [
             0.2222222222222222,
             "#7201a8"
            ],
            [
             0.3333333333333333,
             "#9c179e"
            ],
            [
             0.4444444444444444,
             "#bd3786"
            ],
            [
             0.5555555555555556,
             "#d8576b"
            ],
            [
             0.6666666666666666,
             "#ed7953"
            ],
            [
             0.7777777777777778,
             "#fb9f3a"
            ],
            [
             0.8888888888888888,
             "#fdca26"
            ],
            [
             1,
             "#f0f921"
            ]
           ],
           "sequentialminus": [
            [
             0,
             "#0d0887"
            ],
            [
             0.1111111111111111,
             "#46039f"
            ],
            [
             0.2222222222222222,
             "#7201a8"
            ],
            [
             0.3333333333333333,
             "#9c179e"
            ],
            [
             0.4444444444444444,
             "#bd3786"
            ],
            [
             0.5555555555555556,
             "#d8576b"
            ],
            [
             0.6666666666666666,
             "#ed7953"
            ],
            [
             0.7777777777777778,
             "#fb9f3a"
            ],
            [
             0.8888888888888888,
             "#fdca26"
            ],
            [
             1,
             "#f0f921"
            ]
           ]
          },
          "colorway": [
           "#636efa",
           "#EF553B",
           "#00cc96",
           "#ab63fa",
           "#FFA15A",
           "#19d3f3",
           "#FF6692",
           "#B6E880",
           "#FF97FF",
           "#FECB52"
          ],
          "font": {
           "color": "#2a3f5f"
          },
          "geo": {
           "bgcolor": "white",
           "lakecolor": "white",
           "landcolor": "#E5ECF6",
           "showlakes": true,
           "showland": true,
           "subunitcolor": "white"
          },
          "hoverlabel": {
           "align": "left"
          },
          "hovermode": "closest",
          "mapbox": {
           "style": "light"
          },
          "paper_bgcolor": "white",
          "plot_bgcolor": "#E5ECF6",
          "polar": {
           "angularaxis": {
            "gridcolor": "white",
            "linecolor": "white",
            "ticks": ""
           },
           "bgcolor": "#E5ECF6",
           "radialaxis": {
            "gridcolor": "white",
            "linecolor": "white",
            "ticks": ""
           }
          },
          "scene": {
           "xaxis": {
            "backgroundcolor": "#E5ECF6",
            "gridcolor": "white",
            "gridwidth": 2,
            "linecolor": "white",
            "showbackground": true,
            "ticks": "",
            "zerolinecolor": "white"
           },
           "yaxis": {
            "backgroundcolor": "#E5ECF6",
            "gridcolor": "white",
            "gridwidth": 2,
            "linecolor": "white",
            "showbackground": true,
            "ticks": "",
            "zerolinecolor": "white"
           },
           "zaxis": {
            "backgroundcolor": "#E5ECF6",
            "gridcolor": "white",
            "gridwidth": 2,
            "linecolor": "white",
            "showbackground": true,
            "ticks": "",
            "zerolinecolor": "white"
           }
          },
          "shapedefaults": {
           "line": {
            "color": "#2a3f5f"
           }
          },
          "ternary": {
           "aaxis": {
            "gridcolor": "white",
            "linecolor": "white",
            "ticks": ""
           },
           "baxis": {
            "gridcolor": "white",
            "linecolor": "white",
            "ticks": ""
           },
           "bgcolor": "#E5ECF6",
           "caxis": {
            "gridcolor": "white",
            "linecolor": "white",
            "ticks": ""
           }
          },
          "title": {
           "x": 0.05
          },
          "xaxis": {
           "automargin": true,
           "gridcolor": "white",
           "linecolor": "white",
           "ticks": "",
           "title": {
            "standoff": 15
           },
           "zerolinecolor": "white",
           "zerolinewidth": 2
          },
          "yaxis": {
           "automargin": true,
           "gridcolor": "white",
           "linecolor": "white",
           "ticks": "",
           "title": {
            "standoff": 15
           },
           "zerolinecolor": "white",
           "zerolinewidth": 2
          }
         }
        },
        "xaxis": {
         "anchor": "y",
         "domain": [
          0,
          1
         ],
         "title": {
          "text": "importance"
         }
        },
        "yaxis": {
         "anchor": "x",
         "domain": [
          0,
          1
         ],
         "title": {
          "text": "feat_name"
         }
        }
       }
      },
      "text/html": [
       "<div>                            <div id=\"2c385462-4499-473c-a41b-eec6539ec768\" class=\"plotly-graph-div\" style=\"height:525px; width:100%;\"></div>            <script type=\"text/javascript\">                require([\"plotly\"], function(Plotly) {                    window.PLOTLYENV=window.PLOTLYENV || {};                                    if (document.getElementById(\"2c385462-4499-473c-a41b-eec6539ec768\")) {                    Plotly.newPlot(                        \"2c385462-4499-473c-a41b-eec6539ec768\",                        [{\"alignmentgroup\":\"True\",\"hovertemplate\":\"importance=%{x}<br>feat_name=%{y}<extra></extra>\",\"legendgroup\":\"\",\"marker\":{\"color\":\"#636efa\",\"pattern\":{\"shape\":\"\"}},\"name\":\"\",\"offsetgroup\":\"\",\"orientation\":\"h\",\"showlegend\":false,\"textposition\":\"auto\",\"x\":[2121,2123,2176,2195,2198,2258,2315,2330,2383,2446,2680,2687,2687,2800,3125,3127,3212,4162,4464,4877],\"xaxis\":\"x\",\"y\":[\"xp_var_prob\",\"pcc_reg_diff\",\"xc_top_pred_1\",\"xc_cls2_reg_diff\",\"xc_top_prob_4\",\"pcc_cls2_diff\",\"xc_abs_cls_cls2_diff\",\"code_ratio\",\"xpc_top_prob_0\",\"xc_abs_cls2_reg_diff\",\"xpc_pred\",\"xc_cls_cls2_diff\",\"xp_cls_pred\",\"xc_top_prob_1\",\"xpc_var_prob\",\"xc_top_prob_3\",\"n_words\",\"xc_cls_pred\",\"xpc_cls_pred\",\"xc_reg_pred\"],\"yaxis\":\"y\",\"type\":\"bar\"}],                        {\"template\":{\"data\":{\"bar\":[{\"error_x\":{\"color\":\"#2a3f5f\"},\"error_y\":{\"color\":\"#2a3f5f\"},\"marker\":{\"line\":{\"color\":\"#E5ECF6\",\"width\":0.5},\"pattern\":{\"fillmode\":\"overlay\",\"size\":10,\"solidity\":0.2}},\"type\":\"bar\"}],\"barpolar\":[{\"marker\":{\"line\":{\"color\":\"#E5ECF6\",\"width\":0.5},\"pattern\":{\"fillmode\":\"overlay\",\"size\":10,\"solidity\":0.2}},\"type\":\"barpolar\"}],\"carpet\":[{\"aaxis\":{\"endlinecolor\":\"#2a3f5f\",\"gridcolor\":\"white\",\"linecolor\":\"white\",\"minorgridcolor\":\"white\",\"startlinecolor\":\"#2a3f5f\"},\"baxis\":{\"endlinecolor\":\"#2a3f5f\",\"gridcolor\":\"white\",\"linecolor\":\"white\",\"minorgridcolor\":\"white\",\"startlinecolor\":\"#2a3f5f\"},\"type\":\"carpet\"}],\"choropleth\":[{\"colorbar\":{\"outlinewidth\":0,\"ticks\":\"\"},\"type\":\"choropleth\"}],\"contour\":[{\"colorbar\":{\"outlinewidth\":0,\"ticks\":\"\"},\"colorscale\":[[0.0,\"#0d0887\"],[0.1111111111111111,\"#46039f\"],[0.2222222222222222,\"#7201a8\"],[0.3333333333333333,\"#9c179e\"],[0.4444444444444444,\"#bd3786\"],[0.5555555555555556,\"#d8576b\"],[0.6666666666666666,\"#ed7953\"],[0.7777777777777778,\"#fb9f3a\"],[0.8888888888888888,\"#fdca26\"],[1.0,\"#f0f921\"]],\"type\":\"contour\"}],\"contourcarpet\":[{\"colorbar\":{\"outlinewidth\":0,\"ticks\":\"\"},\"type\":\"contourcarpet\"}],\"heatmap\":[{\"colorbar\":{\"outlinewidth\":0,\"ticks\":\"\"},\"colorscale\":[[0.0,\"#0d0887\"],[0.1111111111111111,\"#46039f\"],[0.2222222222222222,\"#7201a8\"],[0.3333333333333333,\"#9c179e\"],[0.4444444444444444,\"#bd3786\"],[0.5555555555555556,\"#d8576b\"],[0.6666666666666666,\"#ed7953\"],[0.7777777777777778,\"#fb9f3a\"],[0.8888888888888888,\"#fdca26\"],[1.0,\"#f0f921\"]],\"type\":\"heatmap\"}],\"heatmapgl\":[{\"colorbar\":{\"outlinewidth\":0,\"ticks\":\"\"},\"colorscale\":[[0.0,\"#0d0887\"],[0.1111111111111111,\"#46039f\"],[0.2222222222222222,\"#7201a8\"],[0.3333333333333333,\"#9c179e\"],[0.4444444444444444,\"#bd3786\"],[0.5555555555555556,\"#d8576b\"],[0.6666666666666666,\"#ed7953\"],[0.7777777777777778,\"#fb9f3a\"],[0.8888888888888888,\"#fdca26\"],[1.0,\"#f0f921\"]],\"type\":\"heatmapgl\"}],\"histogram\":[{\"marker\":{\"pattern\":{\"fillmode\":\"overlay\",\"size\":10,\"solidity\":0.2}},\"type\":\"histogram\"}],\"histogram2d\":[{\"colorbar\":{\"outlinewidth\":0,\"ticks\":\"\"},\"colorscale\":[[0.0,\"#0d0887\"],[0.1111111111111111,\"#46039f\"],[0.2222222222222222,\"#7201a8\"],[0.3333333333333333,\"#9c179e\"],[0.4444444444444444,\"#bd3786\"],[0.5555555555555556,\"#d8576b\"],[0.6666666666666666,\"#ed7953\"],[0.7777777777777778,\"#fb9f3a\"],[0.8888888888888888,\"#fdca26\"],[1.0,\"#f0f921\"]],\"type\":\"histogram2d\"}],\"histogram2dcontour\":[{\"colorbar\":{\"outlinewidth\":0,\"ticks\":\"\"},\"colorscale\":[[0.0,\"#0d0887\"],[0.1111111111111111,\"#46039f\"],[0.2222222222222222,\"#7201a8\"],[0.3333333333333333,\"#9c179e\"],[0.4444444444444444,\"#bd3786\"],[0.5555555555555556,\"#d8576b\"],[0.6666666666666666,\"#ed7953\"],[0.7777777777777778,\"#fb9f3a\"],[0.8888888888888888,\"#fdca26\"],[1.0,\"#f0f921\"]],\"type\":\"histogram2dcontour\"}],\"mesh3d\":[{\"colorbar\":{\"outlinewidth\":0,\"ticks\":\"\"},\"type\":\"mesh3d\"}],\"parcoords\":[{\"line\":{\"colorbar\":{\"outlinewidth\":0,\"ticks\":\"\"}},\"type\":\"parcoords\"}],\"pie\":[{\"automargin\":true,\"type\":\"pie\"}],\"scatter\":[{\"marker\":{\"colorbar\":{\"outlinewidth\":0,\"ticks\":\"\"}},\"type\":\"scatter\"}],\"scatter3d\":[{\"line\":{\"colorbar\":{\"outlinewidth\":0,\"ticks\":\"\"}},\"marker\":{\"colorbar\":{\"outlinewidth\":0,\"ticks\":\"\"}},\"type\":\"scatter3d\"}],\"scattercarpet\":[{\"marker\":{\"colorbar\":{\"outlinewidth\":0,\"ticks\":\"\"}},\"type\":\"scattercarpet\"}],\"scattergeo\":[{\"marker\":{\"colorbar\":{\"outlinewidth\":0,\"ticks\":\"\"}},\"type\":\"scattergeo\"}],\"scattergl\":[{\"marker\":{\"colorbar\":{\"outlinewidth\":0,\"ticks\":\"\"}},\"type\":\"scattergl\"}],\"scattermapbox\":[{\"marker\":{\"colorbar\":{\"outlinewidth\":0,\"ticks\":\"\"}},\"type\":\"scattermapbox\"}],\"scatterpolar\":[{\"marker\":{\"colorbar\":{\"outlinewidth\":0,\"ticks\":\"\"}},\"type\":\"scatterpolar\"}],\"scatterpolargl\":[{\"marker\":{\"colorbar\":{\"outlinewidth\":0,\"ticks\":\"\"}},\"type\":\"scatterpolargl\"}],\"scatterternary\":[{\"marker\":{\"colorbar\":{\"outlinewidth\":0,\"ticks\":\"\"}},\"type\":\"scatterternary\"}],\"surface\":[{\"colorbar\":{\"outlinewidth\":0,\"ticks\":\"\"},\"colorscale\":[[0.0,\"#0d0887\"],[0.1111111111111111,\"#46039f\"],[0.2222222222222222,\"#7201a8\"],[0.3333333333333333,\"#9c179e\"],[0.4444444444444444,\"#bd3786\"],[0.5555555555555556,\"#d8576b\"],[0.6666666666666666,\"#ed7953\"],[0.7777777777777778,\"#fb9f3a\"],[0.8888888888888888,\"#fdca26\"],[1.0,\"#f0f921\"]],\"type\":\"surface\"}],\"table\":[{\"cells\":{\"fill\":{\"color\":\"#EBF0F8\"},\"line\":{\"color\":\"white\"}},\"header\":{\"fill\":{\"color\":\"#C8D4E3\"},\"line\":{\"color\":\"white\"}},\"type\":\"table\"}]},\"layout\":{\"annotationdefaults\":{\"arrowcolor\":\"#2a3f5f\",\"arrowhead\":0,\"arrowwidth\":1},\"autotypenumbers\":\"strict\",\"coloraxis\":{\"colorbar\":{\"outlinewidth\":0,\"ticks\":\"\"}},\"colorscale\":{\"diverging\":[[0,\"#8e0152\"],[0.1,\"#c51b7d\"],[0.2,\"#de77ae\"],[0.3,\"#f1b6da\"],[0.4,\"#fde0ef\"],[0.5,\"#f7f7f7\"],[0.6,\"#e6f5d0\"],[0.7,\"#b8e186\"],[0.8,\"#7fbc41\"],[0.9,\"#4d9221\"],[1,\"#276419\"]],\"sequential\":[[0.0,\"#0d0887\"],[0.1111111111111111,\"#46039f\"],[0.2222222222222222,\"#7201a8\"],[0.3333333333333333,\"#9c179e\"],[0.4444444444444444,\"#bd3786\"],[0.5555555555555556,\"#d8576b\"],[0.6666666666666666,\"#ed7953\"],[0.7777777777777778,\"#fb9f3a\"],[0.8888888888888888,\"#fdca26\"],[1.0,\"#f0f921\"]],\"sequentialminus\":[[0.0,\"#0d0887\"],[0.1111111111111111,\"#46039f\"],[0.2222222222222222,\"#7201a8\"],[0.3333333333333333,\"#9c179e\"],[0.4444444444444444,\"#bd3786\"],[0.5555555555555556,\"#d8576b\"],[0.6666666666666666,\"#ed7953\"],[0.7777777777777778,\"#fb9f3a\"],[0.8888888888888888,\"#fdca26\"],[1.0,\"#f0f921\"]]},\"colorway\":[\"#636efa\",\"#EF553B\",\"#00cc96\",\"#ab63fa\",\"#FFA15A\",\"#19d3f3\",\"#FF6692\",\"#B6E880\",\"#FF97FF\",\"#FECB52\"],\"font\":{\"color\":\"#2a3f5f\"},\"geo\":{\"bgcolor\":\"white\",\"lakecolor\":\"white\",\"landcolor\":\"#E5ECF6\",\"showlakes\":true,\"showland\":true,\"subunitcolor\":\"white\"},\"hoverlabel\":{\"align\":\"left\"},\"hovermode\":\"closest\",\"mapbox\":{\"style\":\"light\"},\"paper_bgcolor\":\"white\",\"plot_bgcolor\":\"#E5ECF6\",\"polar\":{\"angularaxis\":{\"gridcolor\":\"white\",\"linecolor\":\"white\",\"ticks\":\"\"},\"bgcolor\":\"#E5ECF6\",\"radialaxis\":{\"gridcolor\":\"white\",\"linecolor\":\"white\",\"ticks\":\"\"}},\"scene\":{\"xaxis\":{\"backgroundcolor\":\"#E5ECF6\",\"gridcolor\":\"white\",\"gridwidth\":2,\"linecolor\":\"white\",\"showbackground\":true,\"ticks\":\"\",\"zerolinecolor\":\"white\"},\"yaxis\":{\"backgroundcolor\":\"#E5ECF6\",\"gridcolor\":\"white\",\"gridwidth\":2,\"linecolor\":\"white\",\"showbackground\":true,\"ticks\":\"\",\"zerolinecolor\":\"white\"},\"zaxis\":{\"backgroundcolor\":\"#E5ECF6\",\"gridcolor\":\"white\",\"gridwidth\":2,\"linecolor\":\"white\",\"showbackground\":true,\"ticks\":\"\",\"zerolinecolor\":\"white\"}},\"shapedefaults\":{\"line\":{\"color\":\"#2a3f5f\"}},\"ternary\":{\"aaxis\":{\"gridcolor\":\"white\",\"linecolor\":\"white\",\"ticks\":\"\"},\"baxis\":{\"gridcolor\":\"white\",\"linecolor\":\"white\",\"ticks\":\"\"},\"bgcolor\":\"#E5ECF6\",\"caxis\":{\"gridcolor\":\"white\",\"linecolor\":\"white\",\"ticks\":\"\"}},\"title\":{\"x\":0.05},\"xaxis\":{\"automargin\":true,\"gridcolor\":\"white\",\"linecolor\":\"white\",\"ticks\":\"\",\"title\":{\"standoff\":15},\"zerolinecolor\":\"white\",\"zerolinewidth\":2},\"yaxis\":{\"automargin\":true,\"gridcolor\":\"white\",\"linecolor\":\"white\",\"ticks\":\"\",\"title\":{\"standoff\":15},\"zerolinecolor\":\"white\",\"zerolinewidth\":2}}},\"xaxis\":{\"anchor\":\"y\",\"domain\":[0.0,1.0],\"title\":{\"text\":\"importance\"}},\"yaxis\":{\"anchor\":\"x\",\"domain\":[0.0,1.0],\"title\":{\"text\":\"feat_name\"}},\"legend\":{\"tracegroupgap\":0},\"margin\":{\"t\":60},\"barmode\":\"relative\"},                        {\"responsive\": true}                    ).then(function(){\n",
       "                            \n",
       "var gd = document.getElementById('2c385462-4499-473c-a41b-eec6539ec768');\n",
       "var x = new MutationObserver(function (mutations, observer) {{\n",
       "        var display = window.getComputedStyle(gd).display;\n",
       "        if (!display || display === 'none') {{\n",
       "            console.log([gd, 'removed!']);\n",
       "            Plotly.purge(gd);\n",
       "            observer.disconnect();\n",
       "        }}\n",
       "}});\n",
       "\n",
       "// Listen for the removal of the full notebook cells\n",
       "var notebookContainer = gd.closest('#notebook-container');\n",
       "if (notebookContainer) {{\n",
       "    x.observe(notebookContainer, {childList: true});\n",
       "}}\n",
       "\n",
       "// Listen for the clearing of the current output cell\n",
       "var outputEl = gd.closest('.output');\n",
       "if (outputEl) {{\n",
       "    x.observe(outputEl, {childList: true});\n",
       "}}\n",
       "\n",
       "                        })                };                });            </script>        </div>"
      ]
     },
     "metadata": {},
     "output_type": "display_data"
    }
   ],
   "source": [
    "gezi.plot.feature_importance(lgb_model, topn=20)"
   ]
  },
  {
   "cell_type": "code",
   "execution_count": 57,
   "metadata": {},
   "outputs": [
    {
     "data": {
      "application/vnd.jupyter.widget-view+json": {
       "model_id": "1b745b2566d84337bf5b770e1fe97f1e",
       "version_major": 2,
       "version_minor": 0
      },
      "text/plain": [
       "  0%|          | 0/5 [00:00<?, ?it/s]"
      ]
     },
     "metadata": {},
     "output_type": "display_data"
    },
    {
     "name": "stderr",
     "output_type": "stream",
     "text": [
      "[08/09/22 21:38:53] 1820686574.py:21 in <module>\n",
      "                    cbt_score: 0.9197607411037639\n",
      "[08/09/22 21:39:14] 1820686574.py:36 in <module>\n",
      "                    lgb_score: 0.9196994418536476\n",
      "[08/09/22 21:39:16] 1820686574.py:38 in <module>\n",
      "                    score: 0.9199690334536488\n",
      "[08/09/22 21:39:16] 1820686574.py:43 in <module>\n",
      "                    fold: 0\n",
      "                    np.asarray(cbt_scores).mean(): 0.9197607411037639\n",
      "                    np.asarray(lgb_scores).mean(): 0.9196994418536476\n",
      "                    np.asarray(scores).mean(): 0.9199690334536488\n"
     ]
    },
    {
     "name": "stdout",
     "output_type": "stream",
     "text": [
      "0:\tlearn: 0.2523919\ttest: 0.2523919\ttest1: 0.2523018\tbest: 0.2523018 (0)\ttotal: 55.9ms\tremaining: 9m 19s\n",
      "500:\tlearn: 0.0577519\ttest: 0.0577519\ttest1: 0.0573472\tbest: 0.0573472 (500)\ttotal: 19.7s\tremaining: 6m 13s\n",
      "1000:\tlearn: 0.0565768\ttest: 0.0565768\ttest1: 0.0563869\tbest: 0.0563869 (1000)\ttotal: 39.5s\tremaining: 5m 55s\n",
      "1500:\tlearn: 0.0561109\ttest: 0.0561109\ttest1: 0.0560844\tbest: 0.0560844 (1500)\ttotal: 59.4s\tremaining: 5m 36s\n",
      "2000:\tlearn: 0.0557446\ttest: 0.0557446\ttest1: 0.0559183\tbest: 0.0559161 (1998)\ttotal: 1m 19s\tremaining: 5m 16s\n",
      "2500:\tlearn: 0.0554194\ttest: 0.0554194\ttest1: 0.0558103\tbest: 0.0558103 (2500)\ttotal: 1m 38s\tremaining: 4m 55s\n",
      "3000:\tlearn: 0.0551392\ttest: 0.0551392\ttest1: 0.0557366\tbest: 0.0557348 (2986)\ttotal: 1m 58s\tremaining: 4m 35s\n",
      "3500:\tlearn: 0.0548832\ttest: 0.0548832\ttest1: 0.0556856\tbest: 0.0556856 (3498)\ttotal: 2m 17s\tremaining: 4m 15s\n",
      "4000:\tlearn: 0.0546677\ttest: 0.0546677\ttest1: 0.0556440\tbest: 0.0556440 (4000)\ttotal: 2m 37s\tremaining: 3m 56s\n",
      "4500:\tlearn: 0.0544449\ttest: 0.0544449\ttest1: 0.0556082\tbest: 0.0556082 (4491)\ttotal: 2m 56s\tremaining: 3m 36s\n",
      "5000:\tlearn: 0.0542313\ttest: 0.0542313\ttest1: 0.0555808\tbest: 0.0555808 (4999)\ttotal: 3m 16s\tremaining: 3m 16s\n",
      "5500:\tlearn: 0.0540400\ttest: 0.0540400\ttest1: 0.0555618\tbest: 0.0555598 (5491)\ttotal: 3m 35s\tremaining: 2m 56s\n",
      "6000:\tlearn: 0.0538573\ttest: 0.0538573\ttest1: 0.0555409\tbest: 0.0555409 (6000)\ttotal: 3m 55s\tremaining: 2m 36s\n",
      "6500:\tlearn: 0.0536641\ttest: 0.0536641\ttest1: 0.0555337\tbest: 0.0555311 (6247)\ttotal: 4m 14s\tremaining: 2m 17s\n",
      "7000:\tlearn: 0.0534888\ttest: 0.0534888\ttest1: 0.0555262\tbest: 0.0555257 (6999)\ttotal: 4m 34s\tremaining: 1m 57s\n",
      "7500:\tlearn: 0.0533061\ttest: 0.0533061\ttest1: 0.0555121\tbest: 0.0555112 (7494)\ttotal: 4m 53s\tremaining: 1m 37s\n",
      "8000:\tlearn: 0.0531364\ttest: 0.0531364\ttest1: 0.0555052\tbest: 0.0555046 (7889)\ttotal: 5m 12s\tremaining: 1m 18s\n",
      "8500:\tlearn: 0.0529770\ttest: 0.0529770\ttest1: 0.0554976\tbest: 0.0554957 (8390)\ttotal: 5m 32s\tremaining: 58.6s\n",
      "9000:\tlearn: 0.0528037\ttest: 0.0528037\ttest1: 0.0554913\tbest: 0.0554894 (8980)\ttotal: 5m 51s\tremaining: 39s\n",
      "9500:\tlearn: 0.0526396\ttest: 0.0526396\ttest1: 0.0554858\tbest: 0.0554858 (9500)\ttotal: 6m 10s\tremaining: 19.5s\n",
      "9999:\tlearn: 0.0524973\ttest: 0.0524973\ttest1: 0.0554813\tbest: 0.0554787 (9921)\ttotal: 6m 29s\tremaining: 0us\n",
      "\n",
      "bestTest = 0.05547865267\n",
      "bestIteration = 9921\n",
      "\n",
      "Shrink model to first 9922 iterations.\n"
     ]
    },
    {
     "name": "stderr",
     "output_type": "stream",
     "text": [
      "[08/09/22 21:45:56] 1820686574.py:21 in <module>\n",
      "                    cbt_score: 0.9219768639917801\n"
     ]
    },
    {
     "name": "stdout",
     "output_type": "stream",
     "text": [
      "[LightGBM] [Warning] Auto-choosing col-wise multi-threading, the overhead of testing was 0.063491 seconds.\n",
      "You can set `force_col_wise=true` to remove the overhead.\n",
      "[LightGBM] [Info] Total Bins 32020\n",
      "[LightGBM] [Info] Number of data points in the train set: 339696, number of used features: 135\n",
      "[LightGBM] [Info] Start training from score 0.455882\n",
      "Training until validation scores don't improve for 200 rounds\n",
      "[500]\ttraining's l1: 0.0578745\tvalid_1's l1: 0.0574244\n",
      "[1000]\ttraining's l1: 0.0568113\tvalid_1's l1: 0.0564942\n",
      "[1500]\ttraining's l1: 0.0564607\tvalid_1's l1: 0.0562438\n",
      "[2000]\ttraining's l1: 0.0561464\tvalid_1's l1: 0.056085\n",
      "[2500]\ttraining's l1: 0.0559586\tvalid_1's l1: 0.0559732\n",
      "[3000]\ttraining's l1: 0.0557954\tvalid_1's l1: 0.0558902\n",
      "[3500]\ttraining's l1: 0.0556637\tvalid_1's l1: 0.0558382\n",
      "[4000]\ttraining's l1: 0.055539\tvalid_1's l1: 0.0558035\n",
      "[4500]\ttraining's l1: 0.0554613\tvalid_1's l1: 0.0557766\n",
      "[5000]\ttraining's l1: 0.0553675\tvalid_1's l1: 0.0557528\n",
      "[5500]\ttraining's l1: 0.0552767\tvalid_1's l1: 0.0557258\n",
      "Early stopping, best iteration is:\n",
      "[5641]\ttraining's l1: 0.055256\tvalid_1's l1: 0.05572\n"
     ]
    },
    {
     "name": "stderr",
     "output_type": "stream",
     "text": [
      "[08/09/22 21:47:19] 1820686574.py:36 in <module>\n",
      "                    lgb_score: 0.9217619085174418\n",
      "[08/09/22 21:47:21] 1820686574.py:38 in <module>\n",
      "                    score: 0.922117070705887\n",
      "[08/09/22 21:47:21] 1820686574.py:43 in <module>\n",
      "                    fold: 1\n",
      "                    np.asarray(cbt_scores).mean(): 0.920868802547772\n",
      "                    np.asarray(lgb_scores).mean(): 0.9207306751855446\n",
      "                    np.asarray(scores).mean(): 0.9210430520797679\n"
     ]
    },
    {
     "name": "stdout",
     "output_type": "stream",
     "text": [
      "0:\tlearn: 0.2521538\ttest: 0.2521538\ttest1: 0.2525198\tbest: 0.2525198 (0)\ttotal: 58.1ms\tremaining: 9m 41s\n",
      "500:\tlearn: 0.0575366\ttest: 0.0575366\ttest1: 0.0582812\tbest: 0.0582812 (500)\ttotal: 18.3s\tremaining: 5m 47s\n",
      "1000:\tlearn: 0.0563915\ttest: 0.0563915\ttest1: 0.0573437\tbest: 0.0573437 (1000)\ttotal: 36.6s\tremaining: 5m 28s\n",
      "1500:\tlearn: 0.0558934\ttest: 0.0558934\ttest1: 0.0570255\tbest: 0.0570255 (1500)\ttotal: 55.2s\tremaining: 5m 12s\n",
      "2000:\tlearn: 0.0555405\ttest: 0.0555405\ttest1: 0.0568621\tbest: 0.0568621 (2000)\ttotal: 1m 13s\tremaining: 4m 53s\n",
      "2500:\tlearn: 0.0552271\ttest: 0.0552271\ttest1: 0.0567415\tbest: 0.0567415 (2500)\ttotal: 1m 31s\tremaining: 4m 35s\n",
      "3000:\tlearn: 0.0549458\ttest: 0.0549458\ttest1: 0.0566565\tbest: 0.0566563 (2999)\ttotal: 1m 49s\tremaining: 4m 16s\n",
      "3500:\tlearn: 0.0547212\ttest: 0.0547212\ttest1: 0.0566003\tbest: 0.0566003 (3500)\ttotal: 2m 8s\tremaining: 3m 57s\n",
      "4000:\tlearn: 0.0544978\ttest: 0.0544978\ttest1: 0.0565529\tbest: 0.0565529 (3999)\ttotal: 2m 26s\tremaining: 3m 39s\n",
      "4500:\tlearn: 0.0543050\ttest: 0.0543050\ttest1: 0.0565066\tbest: 0.0565066 (4500)\ttotal: 2m 44s\tremaining: 3m 21s\n",
      "5000:\tlearn: 0.0541527\ttest: 0.0541527\ttest1: 0.0564845\tbest: 0.0564845 (5000)\ttotal: 3m 2s\tremaining: 3m 2s\n",
      "5500:\tlearn: 0.0539830\ttest: 0.0539830\ttest1: 0.0564641\tbest: 0.0564638 (5497)\ttotal: 3m 20s\tremaining: 2m 43s\n",
      "6000:\tlearn: 0.0538149\ttest: 0.0538149\ttest1: 0.0564440\tbest: 0.0564430 (5989)\ttotal: 3m 37s\tremaining: 2m 25s\n",
      "6500:\tlearn: 0.0536335\ttest: 0.0536335\ttest1: 0.0564253\tbest: 0.0564248 (6482)\ttotal: 3m 55s\tremaining: 2m 6s\n",
      "7000:\tlearn: 0.0534790\ttest: 0.0534790\ttest1: 0.0564099\tbest: 0.0564092 (6961)\ttotal: 4m 13s\tremaining: 1m 48s\n",
      "7500:\tlearn: 0.0533342\ttest: 0.0533342\ttest1: 0.0564007\tbest: 0.0564007 (7500)\ttotal: 4m 30s\tremaining: 1m 30s\n",
      "8000:\tlearn: 0.0531758\ttest: 0.0531758\ttest1: 0.0563929\tbest: 0.0563929 (7960)\ttotal: 4m 48s\tremaining: 1m 12s\n",
      "8500:\tlearn: 0.0530517\ttest: 0.0530517\ttest1: 0.0563880\tbest: 0.0563859 (8406)\ttotal: 5m 5s\tremaining: 54s\n",
      "9000:\tlearn: 0.0528836\ttest: 0.0528836\ttest1: 0.0563797\tbest: 0.0563797 (8988)\ttotal: 5m 22s\tremaining: 35.8s\n",
      "9500:\tlearn: 0.0527374\ttest: 0.0527374\ttest1: 0.0563730\tbest: 0.0563719 (9466)\ttotal: 5m 40s\tremaining: 17.9s\n",
      "9999:\tlearn: 0.0526013\ttest: 0.0526013\ttest1: 0.0563672\tbest: 0.0563648 (9789)\ttotal: 5m 57s\tremaining: 0us\n",
      "\n",
      "bestTest = 0.05636483116\n",
      "bestIteration = 9789\n",
      "\n",
      "Shrink model to first 9790 iterations.\n"
     ]
    },
    {
     "name": "stderr",
     "output_type": "stream",
     "text": [
      "[08/09/22 21:53:26] 1820686574.py:21 in <module>\n",
      "                    cbt_score: 0.9216143822548599\n"
     ]
    },
    {
     "name": "stdout",
     "output_type": "stream",
     "text": [
      "[LightGBM] [Warning] Auto-choosing col-wise multi-threading, the overhead of testing was 0.063726 seconds.\n",
      "You can set `force_col_wise=true` to remove the overhead.\n",
      "[LightGBM] [Info] Total Bins 32016\n",
      "[LightGBM] [Info] Number of data points in the train set: 337766, number of used features: 135\n",
      "[LightGBM] [Info] Start training from score 0.456522\n",
      "Training until validation scores don't improve for 200 rounds\n",
      "[500]\ttraining's l1: 0.0577921\tvalid_1's l1: 0.0585045\n",
      "[1000]\ttraining's l1: 0.0566551\tvalid_1's l1: 0.0575719\n",
      "[1500]\ttraining's l1: 0.0562041\tvalid_1's l1: 0.0572102\n",
      "[2000]\ttraining's l1: 0.0559996\tvalid_1's l1: 0.0570948\n",
      "[2500]\ttraining's l1: 0.0558389\tvalid_1's l1: 0.0570099\n",
      "[3000]\ttraining's l1: 0.0557289\tvalid_1's l1: 0.0569525\n",
      "[3500]\ttraining's l1: 0.0556263\tvalid_1's l1: 0.0568973\n",
      "[4000]\ttraining's l1: 0.0555255\tvalid_1's l1: 0.0568408\n",
      "[4500]\ttraining's l1: 0.0554298\tvalid_1's l1: 0.0567902\n",
      "[5000]\ttraining's l1: 0.0553684\tvalid_1's l1: 0.0567669\n",
      "[5500]\ttraining's l1: 0.0553076\tvalid_1's l1: 0.0567446\n",
      "[6000]\ttraining's l1: 0.0552545\tvalid_1's l1: 0.0567255\n",
      "[6500]\ttraining's l1: 0.0551968\tvalid_1's l1: 0.0567068\n",
      "[7000]\ttraining's l1: 0.0551463\tvalid_1's l1: 0.0566888\n",
      "[7500]\ttraining's l1: 0.0550682\tvalid_1's l1: 0.0566595\n",
      "[8000]\ttraining's l1: 0.0550273\tvalid_1's l1: 0.056649\n",
      "[8500]\ttraining's l1: 0.0549939\tvalid_1's l1: 0.056636\n",
      "[9000]\ttraining's l1: 0.0549477\tvalid_1's l1: 0.056617\n",
      "[9500]\ttraining's l1: 0.0549082\tvalid_1's l1: 0.056601\n",
      "[10000]\ttraining's l1: 0.0548569\tvalid_1's l1: 0.0565852\n",
      "[10500]\ttraining's l1: 0.0548086\tvalid_1's l1: 0.0565659\n",
      "[11000]\ttraining's l1: 0.0547809\tvalid_1's l1: 0.0565566\n",
      "[11500]\ttraining's l1: 0.0547598\tvalid_1's l1: 0.05655\n",
      "[12000]\ttraining's l1: 0.0547432\tvalid_1's l1: 0.0565436\n",
      "[12500]\ttraining's l1: 0.0547154\tvalid_1's l1: 0.0565361\n",
      "[13000]\ttraining's l1: 0.0546873\tvalid_1's l1: 0.0565286\n",
      "[13500]\ttraining's l1: 0.0546626\tvalid_1's l1: 0.0565185\n",
      "[14000]\ttraining's l1: 0.0546475\tvalid_1's l1: 0.0565133\n",
      "[14500]\ttraining's l1: 0.054623\tvalid_1's l1: 0.0565102\n",
      "[15000]\ttraining's l1: 0.0545922\tvalid_1's l1: 0.0565027\n",
      "[15500]\ttraining's l1: 0.054569\tvalid_1's l1: 0.0564963\n",
      "[16000]\ttraining's l1: 0.0545461\tvalid_1's l1: 0.0564905\n",
      "[16500]\ttraining's l1: 0.0545207\tvalid_1's l1: 0.0564855\n",
      "[17000]\ttraining's l1: 0.0544978\tvalid_1's l1: 0.0564765\n",
      "[17500]\ttraining's l1: 0.0544765\tvalid_1's l1: 0.0564695\n",
      "[18000]\ttraining's l1: 0.0544524\tvalid_1's l1: 0.0564648\n",
      "[18500]\ttraining's l1: 0.0544274\tvalid_1's l1: 0.0564577\n",
      "[19000]\ttraining's l1: 0.0544015\tvalid_1's l1: 0.0564564\n",
      "[19500]\ttraining's l1: 0.0543834\tvalid_1's l1: 0.0564517\n",
      "[20000]\ttraining's l1: 0.0543707\tvalid_1's l1: 0.0564495\n",
      "Did not meet early stopping. Best iteration is:\n",
      "[20000]\ttraining's l1: 0.0543707\tvalid_1's l1: 0.0564495\n"
     ]
    },
    {
     "name": "stderr",
     "output_type": "stream",
     "text": [
      "[08/09/22 21:58:18] 1820686574.py:36 in <module>\n",
      "                    lgb_score: 0.9215030754907538\n",
      "[08/09/22 21:58:20] 1820686574.py:38 in <module>\n",
      "                    score: 0.9217489766043642\n",
      "[08/09/22 21:58:20] 1820686574.py:43 in <module>\n",
      "                    fold: 2\n",
      "                    np.asarray(cbt_scores).mean(): 0.9211173291168014\n",
      "                    np.asarray(lgb_scores).mean(): 0.9209881419539476\n",
      "                    np.asarray(scores).mean(): 0.9212783602546333\n"
     ]
    },
    {
     "name": "stdout",
     "output_type": "stream",
     "text": [
      "0:\tlearn: 0.2523201\ttest: 0.2523201\ttest1: 0.2520460\tbest: 0.2520460 (0)\ttotal: 53.6ms\tremaining: 8m 55s\n",
      "500:\tlearn: 0.0577866\ttest: 0.0577866\ttest1: 0.0563443\tbest: 0.0563443 (500)\ttotal: 20.6s\tremaining: 6m 30s\n",
      "1000:\tlearn: 0.0567522\ttest: 0.0567522\ttest1: 0.0555495\tbest: 0.0555495 (1000)\ttotal: 41.4s\tremaining: 6m 11s\n",
      "1500:\tlearn: 0.0562641\ttest: 0.0562641\ttest1: 0.0552655\tbest: 0.0552655 (1500)\ttotal: 1m 1s\tremaining: 5m 50s\n",
      "2000:\tlearn: 0.0559304\ttest: 0.0559304\ttest1: 0.0551037\tbest: 0.0551037 (2000)\ttotal: 1m 22s\tremaining: 5m 29s\n",
      "2500:\tlearn: 0.0556364\ttest: 0.0556364\ttest1: 0.0549978\tbest: 0.0549978 (2500)\ttotal: 1m 42s\tremaining: 5m 7s\n",
      "3000:\tlearn: 0.0553642\ttest: 0.0553642\ttest1: 0.0549264\tbest: 0.0549258 (2981)\ttotal: 2m 2s\tremaining: 4m 46s\n",
      "3500:\tlearn: 0.0551245\ttest: 0.0551245\ttest1: 0.0548810\tbest: 0.0548810 (3500)\ttotal: 2m 23s\tremaining: 4m 25s\n",
      "4000:\tlearn: 0.0548762\ttest: 0.0548762\ttest1: 0.0548371\tbest: 0.0548371 (3999)\ttotal: 2m 43s\tremaining: 4m 4s\n",
      "4500:\tlearn: 0.0546668\ttest: 0.0546668\ttest1: 0.0548003\tbest: 0.0548003 (4500)\ttotal: 3m 3s\tremaining: 3m 43s\n",
      "5000:\tlearn: 0.0544523\ttest: 0.0544523\ttest1: 0.0547814\tbest: 0.0547801 (4994)\ttotal: 3m 23s\tremaining: 3m 23s\n",
      "5500:\tlearn: 0.0542748\ttest: 0.0542748\ttest1: 0.0547632\tbest: 0.0547621 (5440)\ttotal: 3m 44s\tremaining: 3m 3s\n",
      "6000:\tlearn: 0.0540956\ttest: 0.0540956\ttest1: 0.0547551\tbest: 0.0547542 (5995)\ttotal: 4m 3s\tremaining: 2m 42s\n",
      "6500:\tlearn: 0.0539154\ttest: 0.0539154\ttest1: 0.0547419\tbest: 0.0547419 (6500)\ttotal: 4m 23s\tremaining: 2m 21s\n",
      "7000:\tlearn: 0.0537435\ttest: 0.0537435\ttest1: 0.0547287\tbest: 0.0547287 (7000)\ttotal: 4m 43s\tremaining: 2m 1s\n",
      "7500:\tlearn: 0.0535840\ttest: 0.0535840\ttest1: 0.0547127\tbest: 0.0547127 (7500)\ttotal: 5m 3s\tremaining: 1m 41s\n",
      "8000:\tlearn: 0.0534333\ttest: 0.0534333\ttest1: 0.0546980\tbest: 0.0546979 (7994)\ttotal: 5m 22s\tremaining: 1m 20s\n",
      "8500:\tlearn: 0.0532927\ttest: 0.0532927\ttest1: 0.0546890\tbest: 0.0546890 (8500)\ttotal: 5m 42s\tremaining: 1m\n",
      "9000:\tlearn: 0.0531545\ttest: 0.0531545\ttest1: 0.0546867\tbest: 0.0546837 (8918)\ttotal: 6m 2s\tremaining: 40.2s\n",
      "Stopped by overfitting detector  (500 iterations wait)\n",
      "\n",
      "bestTest = 0.05468370196\n",
      "bestIteration = 8918\n",
      "\n",
      "Shrink model to first 8919 iterations.\n"
     ]
    },
    {
     "name": "stderr",
     "output_type": "stream",
     "text": [
      "[08/09/22 22:04:47] 1820686574.py:21 in <module>\n",
      "                    cbt_score: 0.9242862028546004\n"
     ]
    },
    {
     "name": "stdout",
     "output_type": "stream",
     "text": [
      "[LightGBM] [Warning] Auto-choosing col-wise multi-threading, the overhead of testing was 0.067091 seconds.\n",
      "You can set `force_col_wise=true` to remove the overhead.\n",
      "[LightGBM] [Info] Total Bins 32020\n",
      "[LightGBM] [Info] Number of data points in the train set: 337964, number of used features: 135\n",
      "[LightGBM] [Info] Start training from score 0.455939\n",
      "Training until validation scores don't improve for 200 rounds\n",
      "[500]\ttraining's l1: 0.0581727\tvalid_1's l1: 0.0566349\n",
      "[1000]\ttraining's l1: 0.0571023\tvalid_1's l1: 0.0557316\n",
      "[1500]\ttraining's l1: 0.0567139\tvalid_1's l1: 0.0554634\n",
      "[2000]\ttraining's l1: 0.0564816\tvalid_1's l1: 0.0553265\n",
      "[2500]\ttraining's l1: 0.0563421\tvalid_1's l1: 0.0552588\n",
      "[3000]\ttraining's l1: 0.0562044\tvalid_1's l1: 0.0551965\n",
      "[3500]\ttraining's l1: 0.0560923\tvalid_1's l1: 0.0551492\n",
      "[4000]\ttraining's l1: 0.0559689\tvalid_1's l1: 0.0551075\n",
      "[4500]\ttraining's l1: 0.0558749\tvalid_1's l1: 0.0550717\n",
      "[5000]\ttraining's l1: 0.0557559\tvalid_1's l1: 0.0550289\n",
      "[5500]\ttraining's l1: 0.0556581\tvalid_1's l1: 0.0549967\n",
      "[6000]\ttraining's l1: 0.0555948\tvalid_1's l1: 0.0549716\n",
      "[6500]\ttraining's l1: 0.0555076\tvalid_1's l1: 0.0549389\n",
      "[7000]\ttraining's l1: 0.0554673\tvalid_1's l1: 0.0549299\n",
      "[7500]\ttraining's l1: 0.055412\tvalid_1's l1: 0.0549161\n",
      "[8000]\ttraining's l1: 0.0553742\tvalid_1's l1: 0.0549053\n",
      "[8500]\ttraining's l1: 0.0553319\tvalid_1's l1: 0.0548954\n",
      "[9000]\ttraining's l1: 0.0552994\tvalid_1's l1: 0.0548864\n",
      "[9500]\ttraining's l1: 0.0552451\tvalid_1's l1: 0.0548762\n",
      "[10000]\ttraining's l1: 0.055194\tvalid_1's l1: 0.0548673\n",
      "[10500]\ttraining's l1: 0.0551425\tvalid_1's l1: 0.0548562\n",
      "[11000]\ttraining's l1: 0.0550984\tvalid_1's l1: 0.0548489\n",
      "[11500]\ttraining's l1: 0.0550554\tvalid_1's l1: 0.0548393\n",
      "[12000]\ttraining's l1: 0.0550189\tvalid_1's l1: 0.054836\n",
      "[12500]\ttraining's l1: 0.0549334\tvalid_1's l1: 0.0548189\n",
      "[13000]\ttraining's l1: 0.0548862\tvalid_1's l1: 0.0548126\n",
      "[13500]\ttraining's l1: 0.0548654\tvalid_1's l1: 0.0548058\n",
      "[14000]\ttraining's l1: 0.0548442\tvalid_1's l1: 0.0548009\n",
      "[14500]\ttraining's l1: 0.0548131\tvalid_1's l1: 0.0547953\n",
      "[15000]\ttraining's l1: 0.0547868\tvalid_1's l1: 0.0547898\n",
      "[15500]\ttraining's l1: 0.0547647\tvalid_1's l1: 0.0547844\n",
      "[16000]\ttraining's l1: 0.0547424\tvalid_1's l1: 0.0547799\n",
      "[16500]\ttraining's l1: 0.0546987\tvalid_1's l1: 0.054773\n",
      "[17000]\ttraining's l1: 0.054666\tvalid_1's l1: 0.0547664\n",
      "[17500]\ttraining's l1: 0.0546403\tvalid_1's l1: 0.0547636\n",
      "[18000]\ttraining's l1: 0.0546193\tvalid_1's l1: 0.0547606\n",
      "Early stopping, best iteration is:\n",
      "[18229]\ttraining's l1: 0.0546082\tvalid_1's l1: 0.0547587\n"
     ]
    },
    {
     "name": "stderr",
     "output_type": "stream",
     "text": [
      "[08/09/22 22:09:14] 1820686574.py:36 in <module>\n",
      "                    lgb_score: 0.9239861469026502\n",
      "[08/09/22 22:09:16] 1820686574.py:38 in <module>\n",
      "                    score: 0.9243274701898944\n",
      "[08/09/22 22:09:16] 1820686574.py:43 in <module>\n",
      "                    fold: 3\n",
      "                    np.asarray(cbt_scores).mean(): 0.9219095475512511\n",
      "                    np.asarray(lgb_scores).mean(): 0.9217376431911233\n",
      "                    np.asarray(scores).mean(): 0.9220406377384486\n"
     ]
    },
    {
     "name": "stdout",
     "output_type": "stream",
     "text": [
      "0:\tlearn: 0.2523247\ttest: 0.2523247\ttest1: 0.2524100\tbest: 0.2524100 (0)\ttotal: 56.8ms\tremaining: 9m 28s\n",
      "500:\tlearn: 0.0575632\ttest: 0.0575632\ttest1: 0.0587663\tbest: 0.0587663 (500)\ttotal: 20.9s\tremaining: 6m 35s\n",
      "1000:\tlearn: 0.0563552\ttest: 0.0563552\ttest1: 0.0577415\tbest: 0.0577415 (1000)\ttotal: 42.4s\tremaining: 6m 20s\n",
      "1500:\tlearn: 0.0558500\ttest: 0.0558500\ttest1: 0.0573966\tbest: 0.0573966 (1500)\ttotal: 1m 3s\tremaining: 6m 2s\n",
      "2000:\tlearn: 0.0554673\ttest: 0.0554673\ttest1: 0.0572104\tbest: 0.0572104 (2000)\ttotal: 1m 25s\tremaining: 5m 40s\n",
      "2500:\tlearn: 0.0551661\ttest: 0.0551661\ttest1: 0.0570749\tbest: 0.0570749 (2500)\ttotal: 1m 46s\tremaining: 5m 18s\n",
      "3000:\tlearn: 0.0548843\ttest: 0.0548843\ttest1: 0.0569870\tbest: 0.0569870 (3000)\ttotal: 2m 7s\tremaining: 4m 57s\n",
      "3500:\tlearn: 0.0546430\ttest: 0.0546430\ttest1: 0.0569292\tbest: 0.0569289 (3494)\ttotal: 2m 28s\tremaining: 4m 36s\n",
      "4000:\tlearn: 0.0544121\ttest: 0.0544121\ttest1: 0.0568922\tbest: 0.0568916 (3994)\ttotal: 2m 50s\tremaining: 4m 15s\n",
      "4500:\tlearn: 0.0542291\ttest: 0.0542291\ttest1: 0.0568647\tbest: 0.0568647 (4500)\ttotal: 3m 10s\tremaining: 3m 52s\n",
      "5000:\tlearn: 0.0540413\ttest: 0.0540413\ttest1: 0.0568385\tbest: 0.0568383 (4999)\ttotal: 3m 32s\tremaining: 3m 32s\n",
      "5500:\tlearn: 0.0538408\ttest: 0.0538408\ttest1: 0.0568267\tbest: 0.0568255 (5348)\ttotal: 3m 53s\tremaining: 3m 10s\n",
      "6000:\tlearn: 0.0536388\ttest: 0.0536388\ttest1: 0.0568133\tbest: 0.0568091 (5860)\ttotal: 4m 14s\tremaining: 2m 49s\n",
      "6500:\tlearn: 0.0534407\ttest: 0.0534407\ttest1: 0.0568002\tbest: 0.0567979 (6387)\ttotal: 4m 34s\tremaining: 2m 27s\n",
      "7000:\tlearn: 0.0532628\ttest: 0.0532628\ttest1: 0.0568068\tbest: 0.0567964 (6749)\ttotal: 4m 54s\tremaining: 2m 6s\n",
      "7500:\tlearn: 0.0530883\ttest: 0.0530883\ttest1: 0.0567961\tbest: 0.0567942 (7466)\ttotal: 5m 15s\tremaining: 1m 45s\n",
      "8000:\tlearn: 0.0529454\ttest: 0.0529454\ttest1: 0.0567857\tbest: 0.0567851 (7946)\ttotal: 5m 35s\tremaining: 1m 23s\n",
      "8500:\tlearn: 0.0527793\ttest: 0.0527793\ttest1: 0.0567849\tbest: 0.0567820 (8339)\ttotal: 5m 55s\tremaining: 1m 2s\n",
      "9000:\tlearn: 0.0526301\ttest: 0.0526301\ttest1: 0.0567829\tbest: 0.0567805 (8806)\ttotal: 6m 16s\tremaining: 41.8s\n",
      "9500:\tlearn: 0.0524849\ttest: 0.0524849\ttest1: 0.0567762\tbest: 0.0567762 (9500)\ttotal: 6m 36s\tremaining: 20.8s\n",
      "9999:\tlearn: 0.0523328\ttest: 0.0523328\ttest1: 0.0567771\tbest: 0.0567740 (9901)\ttotal: 6m 56s\tremaining: 0us\n",
      "\n",
      "bestTest = 0.0567740055\n",
      "bestIteration = 9901\n",
      "\n",
      "Shrink model to first 9902 iterations.\n"
     ]
    },
    {
     "name": "stderr",
     "output_type": "stream",
     "text": [
      "[08/09/22 22:16:21] 1820686574.py:21 in <module>\n",
      "                    cbt_score: 0.9150715113908952\n"
     ]
    },
    {
     "name": "stdout",
     "output_type": "stream",
     "text": [
      "[LightGBM] [Warning] Auto-choosing col-wise multi-threading, the overhead of testing was 0.065852 seconds.\n",
      "You can set `force_col_wise=true` to remove the overhead.\n",
      "[LightGBM] [Info] Total Bins 32021\n",
      "[LightGBM] [Info] Number of data points in the train set: 341935, number of used features: 135\n",
      "[LightGBM] [Info] Start training from score 0.456522\n",
      "Training until validation scores don't improve for 200 rounds\n",
      "[500]\ttraining's l1: 0.0575753\tvalid_1's l1: 0.058692\n",
      "[1000]\ttraining's l1: 0.0564634\tvalid_1's l1: 0.057722\n",
      "[1500]\ttraining's l1: 0.0561074\tvalid_1's l1: 0.057449\n",
      "[2000]\ttraining's l1: 0.0559081\tvalid_1's l1: 0.0573202\n",
      "[2500]\ttraining's l1: 0.0557462\tvalid_1's l1: 0.0572263\n",
      "[3000]\ttraining's l1: 0.055639\tvalid_1's l1: 0.0571696\n",
      "[3500]\ttraining's l1: 0.0555436\tvalid_1's l1: 0.0571273\n",
      "[4000]\ttraining's l1: 0.0554294\tvalid_1's l1: 0.0570823\n",
      "[4500]\ttraining's l1: 0.0553356\tvalid_1's l1: 0.057043\n",
      "[5000]\ttraining's l1: 0.0552266\tvalid_1's l1: 0.0570025\n",
      "[5500]\ttraining's l1: 0.0551601\tvalid_1's l1: 0.0569806\n",
      "[6000]\ttraining's l1: 0.0550803\tvalid_1's l1: 0.056954\n",
      "[6500]\ttraining's l1: 0.0550176\tvalid_1's l1: 0.056933\n",
      "[7000]\ttraining's l1: 0.0549888\tvalid_1's l1: 0.0569235\n",
      "[7500]\ttraining's l1: 0.0549606\tvalid_1's l1: 0.0569141\n",
      "[8000]\ttraining's l1: 0.0549123\tvalid_1's l1: 0.0569024\n",
      "[8500]\ttraining's l1: 0.0548539\tvalid_1's l1: 0.0568832\n",
      "[9000]\ttraining's l1: 0.0548098\tvalid_1's l1: 0.0568729\n",
      "[9500]\ttraining's l1: 0.0547772\tvalid_1's l1: 0.0568616\n",
      "[10000]\ttraining's l1: 0.0547407\tvalid_1's l1: 0.0568537\n",
      "[10500]\ttraining's l1: 0.0547063\tvalid_1's l1: 0.0568449\n",
      "[11000]\ttraining's l1: 0.0546637\tvalid_1's l1: 0.0568339\n",
      "[11500]\ttraining's l1: 0.0546224\tvalid_1's l1: 0.0568271\n",
      "[12000]\ttraining's l1: 0.0545809\tvalid_1's l1: 0.0568189\n",
      "[12500]\ttraining's l1: 0.0545537\tvalid_1's l1: 0.0568138\n",
      "[13000]\ttraining's l1: 0.0545319\tvalid_1's l1: 0.0568091\n",
      "[13500]\ttraining's l1: 0.0544922\tvalid_1's l1: 0.0568037\n",
      "[14000]\ttraining's l1: 0.054441\tvalid_1's l1: 0.0567987\n",
      "Early stopping, best iteration is:\n",
      "[14100]\ttraining's l1: 0.054435\tvalid_1's l1: 0.0567984\n"
     ]
    },
    {
     "name": "stderr",
     "output_type": "stream",
     "text": [
      "[08/09/22 22:20:52] 1820686574.py:36 in <module>\n",
      "                    lgb_score: 0.9149698974038174\n",
      "[08/09/22 22:20:55] 1820686574.py:38 in <module>\n",
      "                    score: 0.9152534967858554\n",
      "[08/09/22 22:20:55] 1820686574.py:43 in <module>\n",
      "                    fold: 4\n",
      "                    np.asarray(cbt_scores).mean(): 0.9205419403191799\n",
      "                    np.asarray(lgb_scores).mean(): 0.9203840940336621\n",
      "                    np.asarray(scores).mean(): 0.9206832095479299\n"
     ]
    }
   ],
   "source": [
    "FOLDS = 5\n",
    "cbt_scores, lgb_scores = [], []\n",
    "scores = []\n",
    "gezi.try_mkdir(f'../working/trees{v}')\n",
    "for fold in tqdm(range(FOLDS)):\n",
    "  dvalid = df[df.fold==fold]\n",
    "  dtrain = df[df.fold!=fold]\n",
    "  X_train = dtrain[cols]\n",
    "  y_train = dtrain[LABEL_COL]\n",
    "  X_valid = dvalid[cols]\n",
    "  y_valid = dvalid[LABEL_COL]\n",
    "  if fold > 0:\n",
    "    cbt_model = CatBoostRegressor(**cbt_params)\n",
    "    cbt_model.fit(X_train, y_train,\n",
    "          eval_set=[(X_train, y_train), (X_valid, y_valid)],\n",
    "                  verbose=500,\n",
    "                  )  \n",
    "  cbt_model.save_model(f'../working/trees{v}/{fold}.cbt')\n",
    "  dvalid['cbt_pred'] = cbt_model.predict(dvalid[cols])\n",
    "  cbt_score = calc_metric({'id': dvalid.id.values, 'cell_id': dvalid.cell_id.values, 'pred': dvalid.cbt_pred.values})\n",
    "  ic(cbt_score)\n",
    "  \n",
    "  d_train = lgb.Dataset(X_train, y_train)\n",
    "  d_valid = lgb.Dataset(X_valid, y_valid, reference=d_train)\n",
    "  if fold > 0:\n",
    "    lgb_model = lgb.train(params,\n",
    "                    d_train,\n",
    "                    20000,\n",
    "                    valid_sets=[d_train, d_valid],\n",
    "                    verbose_eval=500,\n",
    "                    early_stopping_rounds=200)\n",
    "  lgb_model.save_model(f'../working/trees{v}/{fold}.lgb')\n",
    "  dvalid['lgb_pred'] = lgb_model.predict(dvalid[cols])\n",
    "  \n",
    "  lgb_score = calc_metric({'id': dvalid.id.values, 'cell_id': dvalid.cell_id.values, 'pred': dvalid.lgb_pred.values})\n",
    "  ic(lgb_score)\n",
    "  score = calc_metric({'id': dvalid.id.values, 'cell_id': dvalid.cell_id.values, 'pred': (dvalid.cbt_pred.values * 0.3 + dvalid.lgb_pred.values * 0.7)})\n",
    "  ic(score)\n",
    "  \n",
    "  cbt_scores.append(cbt_score)\n",
    "  lgb_scores.append(lgb_score)\n",
    "  scores.append(score)\n",
    "  ic(fold, \n",
    "     np.asarray(cbt_scores).mean(), \n",
    "     np.asarray(lgb_scores).mean(),\n",
    "     np.asarray(scores).mean(),\n",
    "     )"
   ]
  },
  {
   "cell_type": "code",
   "execution_count": 58,
   "metadata": {},
   "outputs": [],
   "source": [
    "# fold: 0\n",
    "#                     np.asarray(cbt_scores).mean(): 0.9181025338378637\n",
    "#                     np.asarray(lgb_scores).mean(): 0.9193848140698876\n",
    "#                     np.asarray(scores).mean(): 0.9195238841373282\n",
    "\n",
    "#  fold: 4\n",
    "#                     np.asarray(cbt_scores).mean(): 0.9189608630607822\n",
    "#                     np.asarray(lgb_scores).mean(): 0.9196959050732708\n",
    "#                     np.asarray(scores).mean(): 0.9199400102856614"
   ]
  },
  {
   "cell_type": "code",
   "execution_count": null,
   "metadata": {},
   "outputs": [],
   "source": []
  }
 ],
 "metadata": {
  "kernelspec": {
   "display_name": "Python 3.7.9",
   "language": "python",
   "name": "python3"
  },
  "language_info": {
   "codemirror_mode": {
    "name": "ipython",
    "version": 3
   },
   "file_extension": ".py",
   "mimetype": "text/x-python",
   "name": "python",
   "nbconvert_exporter": "python",
   "pygments_lexer": "ipython3",
   "version": "3.7.9"
  },
  "orig_nbformat": 4,
  "vscode": {
   "interpreter": {
    "hash": "828c32aa8796f4caf0c9fde9f523bba8dbc7385abbb3ec2757d19a79cb47766b"
   }
  }
 },
 "nbformat": 4,
 "nbformat_minor": 2
}
