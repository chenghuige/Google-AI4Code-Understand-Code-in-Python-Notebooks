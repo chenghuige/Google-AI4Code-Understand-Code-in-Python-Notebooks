{
 "cells": [
  {
   "cell_type": "code",
   "execution_count": 1,
   "metadata": {},
   "outputs": [],
   "source": [
    "from gezi.common import *\n",
    "sys.path.append('..')\n",
    "from src.config import *\n",
    "from src.preprocess import *\n",
    "from src.eval import *\n",
    "gezi.init_flags()\n",
    "gezi.set_pandas()"
   ]
  },
  {
   "cell_type": "code",
   "execution_count": 2,
   "metadata": {},
   "outputs": [],
   "source": [
    "root = '../working/offline/6/0'\n",
    "# context_model_name = 'deberta-v3-small.flag-context2-aug.n_context-40.cls_loss_rate-0.1.eval.p13-4'\n",
    "# pairwise_model_name = 'all-mpnet-base-v2.flag-pairwise13-4.pooling_mask-attention_mask.grad_acc-4'\n",
    "# pmodel2_name = 'deberta-v3-small.flag-pairwise14-4-cat.num_negs-4.eval.neg2'\n",
    "context_model_name = 'deberta-v3-small.flag-context2-aug.n_context-40.cls_loss_rate-0.1.eval.p13-2'\n",
    "pairwise_model_name = 'all-mpnet-base-v2.flag-pairwise13-2.pooling_mask-attention_mask'\n",
    "pmodel2_name = 'deberta-v3-small.flag-pairwise14-4-cat.num_negs-4.evalneg2.2'"
   ]
  },
  {
   "cell_type": "code",
   "execution_count": 3,
   "metadata": {},
   "outputs": [],
   "source": [
    "xc = gezi.load(f'{root}/{context_model_name}/valid.pkl')"
   ]
  },
  {
   "cell_type": "code",
   "execution_count": 4,
   "metadata": {},
   "outputs": [],
   "source": [
    "xp = gezi.load(f'{root}/{pairwise_model_name}/valid.pkl')"
   ]
  },
  {
   "cell_type": "code",
   "execution_count": 5,
   "metadata": {},
   "outputs": [],
   "source": [
    "xp2 = gezi.load(f'{root}/{pmodel2_name}/valid.pkl')"
   ]
  },
  {
   "cell_type": "code",
   "execution_count": 6,
   "metadata": {},
   "outputs": [],
   "source": [
    "gezi.sort_dict_byid_(xc, 'cid')\n",
    "gezi.sort_dict_byid_(xp, 'cid')\n",
    "gezi.sort_dict_byid_(xp2, 'cid')"
   ]
  },
  {
   "cell_type": "code",
   "execution_count": 7,
   "metadata": {},
   "outputs": [
    {
     "data": {
      "text/plain": [
       "(424943, 100)"
      ]
     },
     "execution_count": 7,
     "metadata": {},
     "output_type": "execute_result"
    }
   ],
   "source": [
    "xc['cls_pred_ori'].shape"
   ]
  },
  {
   "cell_type": "code",
   "execution_count": 8,
   "metadata": {},
   "outputs": [
    {
     "data": {
      "text/plain": [
       "(424943, 3)"
      ]
     },
     "execution_count": 8,
     "metadata": {},
     "output_type": "execute_result"
    }
   ],
   "source": [
    "xp2['cls_pred_ori'].shape"
   ]
  },
  {
   "cell_type": "code",
   "execution_count": 9,
   "metadata": {},
   "outputs": [],
   "source": [
    "ids = set(xc['id'])"
   ]
  },
  {
   "cell_type": "code",
   "execution_count": 10,
   "metadata": {},
   "outputs": [
    {
     "data": {
      "text/html": [
       "<div>\n",
       "<style scoped>\n",
       "    .dataframe tbody tr th:only-of-type {\n",
       "        vertical-align: middle;\n",
       "    }\n",
       "\n",
       "    .dataframe tbody tr th {\n",
       "        vertical-align: top;\n",
       "    }\n",
       "\n",
       "    .dataframe thead th {\n",
       "        text-align: right;\n",
       "    }\n",
       "</style>\n",
       "<table border=\"1\" class=\"dataframe\">\n",
       "  <thead>\n",
       "    <tr style=\"text-align: right;\">\n",
       "      <th></th>\n",
       "      <th>id</th>\n",
       "      <th>cell_order</th>\n",
       "    </tr>\n",
       "  </thead>\n",
       "  <tbody>\n",
       "    <tr>\n",
       "      <th>4</th>\n",
       "      <td>0002115f48f982</td>\n",
       "      <td>[9ec225f0, 18281c6c, e3b6b115, 4a044c54, 365fe576, a3188e54, b3f6e12d, ee7655ca, 84125b7a]</td>\n",
       "    </tr>\n",
       "    <tr>\n",
       "      <th>11</th>\n",
       "      <td>00062ab8487156</td>\n",
       "      <td>[dcad687f, a2e1fc80, 7d977ee8, 45a82a59, cbbc326a, aa354742, 004d0eee, b9344b3d, 51709b61, 979a5b9a, af2b0426, 96c8449c]</td>\n",
       "    </tr>\n",
       "    <tr>\n",
       "      <th>28</th>\n",
       "      <td>000efd285fb982</td>\n",
       "      <td>[74a30f80, ee2c8e08, 5523374e, ae8f8fe8, 2138e458, 465e9ac3, a1d5d434, 7b0d69c6, 8167cfe4, 8c027685, 490cee65, 24cfe6eb, 0ae3fd94, f9c995d1, e91fa12a, df9d54a6, b368450e, 2863864b, 9a829640, e6d30107, 5d2477a0, 01890991, 4a630d33, e902c3ad, 1f3749ad, a3ad710d, 7778a045, 95f37e93, 1f6fc839, a6b63513, 7cce9349, 65865e00, f8658f91, e92f292f, 489802aa, 11087190, 468d72f8, b789509e, a286a29c, 6812ae4b, 21ed7c42, e23919ef, 38b9ef54, dbd197c8, 647abaa1, 7bbcc573, 432a5f22, 9d7f5be8, ef7e6cfe, 7d149...</td>\n",
       "    </tr>\n",
       "    <tr>\n",
       "      <th>39</th>\n",
       "      <td>0012865b766949</td>\n",
       "      <td>[f9cb50e9, 25f7db90, d804e819, 6593a545, fc5bb7f4, de59dec8, 56c58dd6, 06fd00d9, a38c5996, c40c8f99, 60c81822, 4349c1aa, 4d1a0078, 7d32145e, 69383ee9, a7586092, d0c350c9, 98461fee, 25999581, b607b4cf, cb6a19b3, 11c8223a, 35705444, e0ff7e21, 68d8bd12, 62f32737, 90ce24a6, e2273244, 578cc8c7, b423993a, df5d3538, a44eecd0, 4e1213c3, 012dd24e, cdd2244f, 07daa78a, ab425c32]</td>\n",
       "    </tr>\n",
       "    <tr>\n",
       "      <th>42</th>\n",
       "      <td>001308991e0c5e</td>\n",
       "      <td>[21147235, 6c01d0d2, 5bd28595, b8fd3a8c, a2501363, 94d3d43a, 9ecece20, 808d31ab, 615cd02a, 6da92b81, 568fa01a, 6603b9b9, dff53cea, 42476427, 3d63b500, bd24750b, 6306ba97, 592fa3ca, 70598ae5, 21992a54, 05915708, c6f0a7fb, 7da89797, fe931e4a, 57b14df5, ca9d112f, 9d2b623b, e0ffad5f, caa2a0e4, b6cb47da, 9d30d44b, 351cb961, cc2c96eb, 3d393ce3, ab3ae8d0, d9ae76ec, 9fed798a, 1a39fcb9, f9249928, a2f89492, 1ff43b24, dde2e9dd, 93b8809e, 3b9b6120, 6ff8d8cc, 30a931e1, 5fdb303a, fb5c88e1, 9df82070, a9e1c...</td>\n",
       "    </tr>\n",
       "  </tbody>\n",
       "</table>\n",
       "</div>"
      ],
      "text/plain": [
       "                id  \\\n",
       "4   0002115f48f982   \n",
       "11  00062ab8487156   \n",
       "28  000efd285fb982   \n",
       "39  0012865b766949   \n",
       "42  001308991e0c5e   \n",
       "\n",
       "                                                                                                                                                                                                                                                                                                                                                                                                                                                                                                             cell_order  \n",
       "4                                                                                                                                                                                                                                                                                                                                                                                                                            [9ec225f0, 18281c6c, e3b6b115, 4a044c54, 365fe576, a3188e54, b3f6e12d, ee7655ca, 84125b7a]  \n",
       "11                                                                                                                                                                                                                                                                                                                                                                                             [dcad687f, a2e1fc80, 7d977ee8, 45a82a59, cbbc326a, aa354742, 004d0eee, b9344b3d, 51709b61, 979a5b9a, af2b0426, 96c8449c]  \n",
       "28  [74a30f80, ee2c8e08, 5523374e, ae8f8fe8, 2138e458, 465e9ac3, a1d5d434, 7b0d69c6, 8167cfe4, 8c027685, 490cee65, 24cfe6eb, 0ae3fd94, f9c995d1, e91fa12a, df9d54a6, b368450e, 2863864b, 9a829640, e6d30107, 5d2477a0, 01890991, 4a630d33, e902c3ad, 1f3749ad, a3ad710d, 7778a045, 95f37e93, 1f6fc839, a6b63513, 7cce9349, 65865e00, f8658f91, e92f292f, 489802aa, 11087190, 468d72f8, b789509e, a286a29c, 6812ae4b, 21ed7c42, e23919ef, 38b9ef54, dbd197c8, 647abaa1, 7bbcc573, 432a5f22, 9d7f5be8, ef7e6cfe, 7d149...  \n",
       "39                                                                                                                                   [f9cb50e9, 25f7db90, d804e819, 6593a545, fc5bb7f4, de59dec8, 56c58dd6, 06fd00d9, a38c5996, c40c8f99, 60c81822, 4349c1aa, 4d1a0078, 7d32145e, 69383ee9, a7586092, d0c350c9, 98461fee, 25999581, b607b4cf, cb6a19b3, 11c8223a, 35705444, e0ff7e21, 68d8bd12, 62f32737, 90ce24a6, e2273244, 578cc8c7, b423993a, df5d3538, a44eecd0, 4e1213c3, 012dd24e, cdd2244f, 07daa78a, ab425c32]  \n",
       "42  [21147235, 6c01d0d2, 5bd28595, b8fd3a8c, a2501363, 94d3d43a, 9ecece20, 808d31ab, 615cd02a, 6da92b81, 568fa01a, 6603b9b9, dff53cea, 42476427, 3d63b500, bd24750b, 6306ba97, 592fa3ca, 70598ae5, 21992a54, 05915708, c6f0a7fb, 7da89797, fe931e4a, 57b14df5, ca9d112f, 9d2b623b, e0ffad5f, caa2a0e4, b6cb47da, 9d30d44b, 351cb961, cc2c96eb, 3d393ce3, ab3ae8d0, d9ae76ec, 9fed798a, 1a39fcb9, f9249928, a2f89492, 1ff43b24, dde2e9dd, 93b8809e, 3b9b6120, 6ff8d8cc, 30a931e1, 5fdb303a, fb5c88e1, 9df82070, a9e1c...  "
      ]
     },
     "execution_count": 10,
     "metadata": {},
     "output_type": "execute_result"
    }
   ],
   "source": [
    "df_gt = pd.read_csv(f'{FLAGS.root}/train_orders.csv')\n",
    "df_gt = df_gt[df_gt.id.isin(ids)]\n",
    "df_gt['cell_order'] = df_gt['cell_order'].apply(lambda x: x.split())\n",
    "df_gt.head()"
   ]
  },
  {
   "cell_type": "code",
   "execution_count": 11,
   "metadata": {},
   "outputs": [],
   "source": [
    "def merge(x, y, prob):\n",
    "  # return y\n",
    "  # return x\n",
    "  if prob > 0.9:\n",
    "    return x * (1 - 0.0001) + y * 0.0001\n",
    "  elif abs(y - x) < 0.1:\n",
    "    return x * (1 - 0.0001) + y * 0.0001\n",
    "  elif abs(y - x) < 0.2:\n",
    "    return x * 0.95 * prob + y * (1 - 0.95 * prob)\n",
    "  elif abs(y - x) < 0.3:\n",
    "    return x * 0.85 * prob + y * (1 - 0.85 * prob)\n",
    "  elif abs(y - x) < 0.4:\n",
    "    return x * 0.5 * prob + y * (1 - 0.5 * prob)\n",
    "  else:\n",
    "    return y"
   ]
  },
  {
   "cell_type": "code",
   "execution_count": 12,
   "metadata": {},
   "outputs": [
    {
     "data": {
      "text/plain": [
       "0.9003963088216335"
      ]
     },
     "execution_count": 12,
     "metadata": {},
     "output_type": "execute_result"
    }
   ],
   "source": [
    "x = xc.copy()\n",
    "x['pred'] = xc['cls_pred'] * 0.5 + xp['cls_pred'] * 0.5\n",
    "calc_metric(x)"
   ]
  },
  {
   "cell_type": "code",
   "execution_count": 13,
   "metadata": {},
   "outputs": [],
   "source": [
    "df_p = pd.DataFrame(xp)"
   ]
  },
  {
   "cell_type": "code",
   "execution_count": 14,
   "metadata": {},
   "outputs": [],
   "source": [
    "df_c = pd.DataFrame(gezi.batch2list(xc))"
   ]
  },
  {
   "cell_type": "code",
   "execution_count": 15,
   "metadata": {},
   "outputs": [
    {
     "data": {
      "text/plain": [
       "Index(['id', 'cell_id', 'cid', 'pred', 'max_prob', 'max_sim', 'cls_pred',\n",
       "       'match_rank', 'match_code', 'n_code_cell', 'probs', 'sims'],\n",
       "      dtype='object')"
      ]
     },
     "execution_count": 15,
     "metadata": {},
     "output_type": "execute_result"
    }
   ],
   "source": [
    "df_p.columns"
   ]
  },
  {
   "cell_type": "code",
   "execution_count": 16,
   "metadata": {},
   "outputs": [],
   "source": [
    "df = df_c.merge(df_p[['cid', 'pred', 'cls_pred', 'max_prob', 'max_sim', 'probs', 'sims']], on='cid', suffixes=['_c', '_p'])"
   ]
  },
  {
   "cell_type": "code",
   "execution_count": 17,
   "metadata": {},
   "outputs": [],
   "source": [
    "df_train = pd.read_feather('../working/train.fea')"
   ]
  },
  {
   "cell_type": "code",
   "execution_count": 18,
   "metadata": {},
   "outputs": [],
   "source": [
    "df_train = df_train[df_train.id.isin(ids)]"
   ]
  },
  {
   "cell_type": "code",
   "execution_count": 19,
   "metadata": {},
   "outputs": [],
   "source": [
    "df = df.merge(df_train[['cid', 'ancestor_id', 'n_words', 'source']], on='cid')"
   ]
  },
  {
   "cell_type": "code",
   "execution_count": 20,
   "metadata": {},
   "outputs": [],
   "source": [
    "gezi.set_fold(df, 5, 'ancestor_id')"
   ]
  },
  {
   "cell_type": "code",
   "execution_count": 21,
   "metadata": {},
   "outputs": [],
   "source": [
    "# df.head()"
   ]
  },
  {
   "cell_type": "code",
   "execution_count": 126,
   "metadata": {},
   "outputs": [
    {
     "data": {
      "application/vnd.jupyter.widget-view+json": {
       "model_id": "9f3e8fdf08b44dd0892fc45990e24e66",
       "version_major": 2,
       "version_minor": 0
      },
      "text/plain": [
       "top:   0%|          | 0/424943 [00:00<?, ?it/s]"
      ]
     },
     "metadata": {},
     "output_type": "display_data"
    },
    {
     "data": {
      "application/vnd.jupyter.widget-view+json": {
       "model_id": "f1f37547c3fc4be883a2c8cb3f2a9083",
       "version_major": 2,
       "version_minor": 0
      },
      "text/plain": [
       "p2:   0%|          | 0/424943 [00:00<?, ?it/s]"
      ]
     },
     "metadata": {},
     "output_type": "display_data"
    }
   ],
   "source": [
    "from numba import jit\n",
    "@jit(nopython=True)\n",
    "def feat_speedup(arr):\n",
    "    r_max, r_min, r_sum = -1e5,1e5,0\n",
    "    for x in arr:\n",
    "        r_max = max(r_max, x)\n",
    "        r_min = min(r_min, x)\n",
    "        r_sum += x\n",
    "    return r_max, r_min, r_sum, r_sum/len(arr)\n",
    "\n",
    "np_lin = np.linspace(0,1,7)\n",
    "\n",
    "@jit(nopython=True)\n",
    "def sorted_quantile(array, q):\n",
    "    n = len(array)\n",
    "    index = (n - 1) * q\n",
    "    left = int(index)\n",
    "    fraction = index - left\n",
    "    right = left\n",
    "    right = right + int(fraction > 0)\n",
    "    i, j = array[left], array[right]\n",
    "    return i + (j - i) * fraction\n",
    "\n",
    "def get_percentile(array):\n",
    "    x = np.sort(array)\n",
    "    n = len(x)-1\n",
    "    return x[[int(n*t) for t in np_lin[1:-1]]]\n",
    "\n",
    "\n",
    "df['markdown_frac'] = df['n_markdown_cell'] / df['n_cell']\n",
    "df['span'] = 1 / (df['n_code_cell'] + 1)\n",
    "top2, top3, top4, top5, top6 = [], [], [], [], []\n",
    "top2_prob, top3_prob, top4_prob, top5_prob, top6_prob = [], [], [], [], []\n",
    "top2_sim, top3_sim, top4_sim, top5_sim, top6_sim = [], [], [], [], []\n",
    "ctop_prob, ctop2, ctop3, ctop4, ctop2_prob, ctop3_prob, ctop4_prob = [], [], [], [], [], [], []\n",
    "dics = []\n",
    "for i in tqdm(range(len(df)), desc='top'):\n",
    "  # cls_preds = df['cls_pred_ori'].values[i]\n",
    "  n_code = df['n_code_cell'].values[i]\n",
    "  probs = df['probs'].values[i]\n",
    "  sims = df['sims'].values[i]\n",
    "  idxes = (-probs).argsort()\n",
    "  if len(idxes) > 1:\n",
    "    top2.append((idxes[1] + 0.5) / (n_code + 1))\n",
    "    top2_prob.append(probs[idxes[1]])\n",
    "    top2_sim.append(sims[idxes[1]])\n",
    "  else:\n",
    "    top2.append(-1)\n",
    "    top2_prob.append(-1)\n",
    "    top2_sim.append(-1)\n",
    "  if len(idxes) > 2:\n",
    "    top3.append((idxes[2] + 0.5) / (n_code + 1))\n",
    "    top3_prob.append(probs[idxes[2]])\n",
    "    top3_sim.append(sims[idxes[2]])\n",
    "  else:\n",
    "    top3.append(-1)\n",
    "    top3_prob.append(-1)\n",
    "    top3_sim.append(-1)\n",
    "  if len(idxes) > 3:\n",
    "    top4.append((idxes[3] + 0.5) / (n_code + 1))\n",
    "    top4_prob.append(probs[idxes[3]])\n",
    "    top4_sim.append(sims[idxes[3]])\n",
    "  else:\n",
    "    top4.append(-1)\n",
    "    top4_prob.append(-1)\n",
    "    top4_sim.append(-1)\n",
    "  if len(idxes) > 4:\n",
    "    top5.append((idxes[4] + 0.5) / (n_code + 1))\n",
    "    top5_prob.append(probs[idxes[4]])\n",
    "    top5_sim.append(sims[idxes[4]])\n",
    "  else:\n",
    "    top5.append(-1)\n",
    "    top5_prob.append(-1)\n",
    "    top5_sim.append(-1)\n",
    "  # if len(idxes) > 5:\n",
    "  #   top6.append((idxes[5] + 0.5) / (n_code + 1))\n",
    "  #   top6_prob.append(probs[idxes[5]])\n",
    "  #   top6_sim.append(sims[idxes[5]])\n",
    "  # else:\n",
    "  #   top6.append(-1)\n",
    "  #   top6_prob.append(-1)\n",
    "  #   top6_sim.append(-1)\n",
    "  dic = {}\n",
    "  for i,ntile in enumerate([sorted_quantile(probs,i) for i in np_lin]):\n",
    "    dic[f'p_trend{i}'] = ntile\n",
    "  for i,ntile in enumerate(get_percentile(probs)):\n",
    "    dic[f'p_ntile{i}'] = ntile\n",
    "    \n",
    "  preds = df['cls_pred_ori'].values[i]\n",
    "  probs = gezi.softmax(preds)\n",
    "  idxes = (-probs).argsort()\n",
    "  ctop_prob.append(probs[idxes[0]])\n",
    "  ctop2.append((idxes[1] + 0.5) / FLAGS.num_classes)\n",
    "  ctop2_prob.append(probs[idxes[1]])\n",
    "  ctop3.append((idxes[2] + 0.5) / FLAGS.num_classes)\n",
    "  ctop3_prob.append(probs[idxes[2]])\n",
    "  ctop4.append((idxes[3] + 0.5) / FLAGS.num_classes)\n",
    "  ctop4_prob.append(probs[idxes[3]])\n",
    "\n",
    "  for i,ntile in enumerate([sorted_quantile(probs,i) for i in np_lin]):\n",
    "    dic[f'c_trend{i}'] = ntile\n",
    "  for i,ntile in enumerate(get_percentile(probs)):\n",
    "    dic[f'c_ntile{i}'] = ntile\n",
    "  dics.append(dic)\n",
    "  # ctail.append((idxes[-1] + 0.5) / FLAGS.num_classes)\n",
    "  # ctail_prob.append(probs[idxes[-1]])\n",
    "# for i in range(FLAGS.num_classes):\n",
    "#   df[f'cls_pred{i}'] = df['cls_pred_ori'].apply(lambda x: x[i])\n",
    "dic = gezi.list2batch(dics)\n",
    "df['top2'] = top2\n",
    "df['top2_prob'] = top2_prob\n",
    "df['top3'] = top3\n",
    "df['top3_prob'] = top3_prob\n",
    "df['top3_sim'] = top3_sim\n",
    "df['top4'] = top4\n",
    "df['top4_prob'] = top4_prob\n",
    "df['top4_sim'] = top4_sim\n",
    "df['top5'] = top5\n",
    "df['top5_prob'] = top5_prob\n",
    "df['top5_sim'] = top5_sim\n",
    "# df['top6'] = top6\n",
    "# df['top6_prob'] = top6_prob\n",
    "# df['top6_sim'] = top6_sim\n",
    "df['ctop_prob'] = ctop_prob\n",
    "df['ctop2'] = ctop2\n",
    "df['ctop2_prob'] = ctop2_prob\n",
    "df['ctop3'] = ctop3\n",
    "df['ctop3_prob'] = ctop3_prob\n",
    "df['ctop4'] = ctop4\n",
    "df['ctop4_prob'] = ctop4_prob\n",
    "# df['ctail'] = ctail\n",
    "# df['ctail_prob'] = ctail_prob\n",
    "df['pred_p2'] = xp2['pred']\n",
    "df['cls_pred_p2'] = xp2['cls_pred']\n",
    "p2_max_prob = []\n",
    "p2_top2 = []\n",
    "p2_top2_prob = []\n",
    "\n",
    "for i in tqdm(range(len(df)), desc='p2'):\n",
    "  code_idxes = xp2['code_idxes'][i]\n",
    "  n_code = df['n_code_cell'].values[i]\n",
    "  probs = gezi.softmax(xp2['cls_pred_ori'][i])\n",
    "  idxes = (-probs).argsort()\n",
    "  p2_top2.append((code_idxes[idxes[1]] + 0.5) / (n_code + 1))\n",
    "  p2_max_prob.append(probs[idxes[0]])\n",
    "  p2_top2_prob.append(probs[idxes[1]])\n",
    "df['p2_max_prob'] = p2_max_prob\n",
    "df['p2_top2'] = p2_top2\n",
    "df['p2_top2_prob'] = p2_top2_prob\n",
    "\n",
    "df['pred_diff0'] = abs(df['pred_c'] - df['pred_p'])\n",
    "df['pred_diff1'] = abs(df['reg_pred'] - df['pred_p'])\n",
    "df['pred_diff2'] = abs(df['cls_pred_c'] - df['pred_p'])\n",
    "df['pred_diff3'] = abs(df['cls2_pred'] - df['pred_p'])\n",
    "df['pred_diff4'] = abs(df['pred_c'] - df['top2'])\n",
    "df['pred_diff5'] = abs(df['reg_pred'] - df['top2'])\n",
    "df['pred_diff6'] = abs(df['cls_pred_c'] - df['top2'])\n",
    "df['pred_diff7'] = abs(df['cls2_pred'] - df['top2'])\n",
    "df['pred_diff8'] = abs(df['pred_p'] - df['top2'])\n",
    "df['pred_diff9'] = abs(df['cls_pred_c'] - df['top3'])\n",
    "df['pred_diff10'] = abs(df['pred_p'] - df['top3'])\n",
    "df['pred_diff11'] = abs(df['pred_c'] - df['pred_p2'])\n",
    "df['pred_diff12'] = abs(df['reg_pred'] - df['pred_p2'])\n",
    "df['pred_diff13'] = abs(df['cls_pred_c'] - df['pred_p2'])\n",
    "# df['rule_pred'] = [merge(x, y, prob) for x, y, prob in tqdm(zip(df.pred_p.values, df.pred_c.values, df.max_prob.values), total=len(df), desc='rule')]\n",
    "for key in dic:\n",
    "  df[key] = dic[key]\n",
    "# reg_pred_probs = []\n",
    "# for row in tqdm(df.itertuples(), total=len(df), desc='cls_pred_p_prob'):\n",
    "#   probs = row.probs\n",
    "#   n_code = row.n_code_cell\n",
    "#   reg_pred = row.reg_pred\n",
    "#   try:\n",
    "#     reg_pred_probs.append(probs[int(min(reg_pred, 1) * (n_code + 1) - 0.5)])\n",
    "#   except Exception:\n",
    "#     ic(n_code, len(probs), reg_pred)\n",
    "#     break\n",
    "# df['reg_pred_prob'] = reg_pred_probs"
   ]
  },
  {
   "cell_type": "code",
   "execution_count": 127,
   "metadata": {},
   "outputs": [],
   "source": [
    "df['top2s_prob'] = df['max_prob'] + df['top2_prob']\n",
    "df['p2_top2s_prob'] = df['p2_max_prob'] + df['p2_top2_prob']"
   ]
  },
  {
   "cell_type": "code",
   "execution_count": 128,
   "metadata": {},
   "outputs": [],
   "source": [
    "# dfg = df.groupby('id')['cls_pred_p2'].apply(list).reset_index(name='preds')\n",
    "# dfg"
   ]
  },
  {
   "cell_type": "code",
   "execution_count": 129,
   "metadata": {},
   "outputs": [],
   "source": [
    "# dfg['mean_cls_pred_p2'] = dfg.preds.apply(lambda x: np.asarray(x).mean())"
   ]
  },
  {
   "cell_type": "code",
   "execution_count": 130,
   "metadata": {},
   "outputs": [],
   "source": [
    "# df = df.merge(dfg[['id', 'mean_cls_pred_p2']], on='id')"
   ]
  },
  {
   "cell_type": "code",
   "execution_count": 131,
   "metadata": {},
   "outputs": [],
   "source": [
    "fold = 0\n",
    "dvalid = df[df.fold==fold]\n",
    "dtrain = df[df.fold!=fold]"
   ]
  },
  {
   "cell_type": "code",
   "execution_count": 132,
   "metadata": {},
   "outputs": [
    {
     "data": {
      "text/plain": [
       "Index(['id', 'cell_id', 'cid', 'cell_type', 'rank', 'rel_rank',\n",
       "       'context_match', 'match_code', 'n_code_cell', 'n_markdown_cell',\n",
       "       'n_cell', 'cls_pred_c', 'pred_c', 'reg_pred', 'cls_pred_ori',\n",
       "       'match_rank', 'cls2_pred', 'pred_p', 'cls_pred_p', 'max_prob',\n",
       "       'max_sim', 'probs', 'sims', 'ancestor_id', 'n_words', 'source', 'fold',\n",
       "       'markdown_frac', 'span', 'top2', 'top2_prob', 'top2_sim', 'top3',\n",
       "       'top3_prob', 'top3_sim', 'top4', 'top4_prob', 'top4_sim', 'top5',\n",
       "       'top5_prob', 'top5_sim', 'ctop_prob', 'ctop2', 'ctop2_prob', 'ctop3',\n",
       "       'ctop3_prob', 'ctop4', 'ctop4_prob', 'pred_p2', 'cls_pred_p2',\n",
       "       'p2_max_prob', 'p2_top2', 'p2_top2_prob', 'pred_diff0', 'pred_diff1',\n",
       "       'pred_diff2', 'pred_diff3', 'pred_diff4', 'pred_diff5', 'pred_diff6',\n",
       "       'pred_diff7', 'pred_diff8', 'pred_diff9', 'pred_diff10', 'pred_diff11',\n",
       "       'pred_diff12', 'pred_diff13', 'rule_pred', 'top6', 'top6_prob',\n",
       "       'top6_sim', 'ctail', 'ctail_prob', 'top2s_prob', 'p2_top2s_prob',\n",
       "       'p_trend0', 'p_trend1', 'p_trend2', 'p_trend3', 'p_trend4', 'p_trend5',\n",
       "       'p_trend6', 'p_ntile0', 'p_ntile1', 'p_ntile2', 'p_ntile3', 'p_ntile4',\n",
       "       'c_trend0', 'c_trend1', 'c_trend2', 'c_trend3', 'c_trend4', 'c_trend5',\n",
       "       'c_trend6', 'c_ntile0', 'c_ntile1', 'c_ntile2', 'c_ntile3', 'c_ntile4'],\n",
       "      dtype='object')"
      ]
     },
     "execution_count": 132,
     "metadata": {},
     "output_type": "execute_result"
    }
   ],
   "source": [
    "df.columns"
   ]
  },
  {
   "cell_type": "code",
   "execution_count": 133,
   "metadata": {},
   "outputs": [
    {
     "data": {
      "text/html": [
       "<div>\n",
       "<style scoped>\n",
       "    .dataframe tbody tr th:only-of-type {\n",
       "        vertical-align: middle;\n",
       "    }\n",
       "\n",
       "    .dataframe tbody tr th {\n",
       "        vertical-align: top;\n",
       "    }\n",
       "\n",
       "    .dataframe thead th {\n",
       "        text-align: right;\n",
       "    }\n",
       "</style>\n",
       "<table border=\"1\" class=\"dataframe\">\n",
       "  <thead>\n",
       "    <tr style=\"text-align: right;\">\n",
       "      <th></th>\n",
       "      <th>id</th>\n",
       "      <th>cell_id</th>\n",
       "      <th>cid</th>\n",
       "      <th>cell_type</th>\n",
       "      <th>rank</th>\n",
       "      <th>rel_rank</th>\n",
       "      <th>context_match</th>\n",
       "      <th>match_code</th>\n",
       "      <th>n_code_cell</th>\n",
       "      <th>n_markdown_cell</th>\n",
       "      <th>n_cell</th>\n",
       "      <th>cls_pred_c</th>\n",
       "      <th>pred_c</th>\n",
       "      <th>reg_pred</th>\n",
       "      <th>cls_pred_ori</th>\n",
       "      <th>match_rank</th>\n",
       "      <th>cls2_pred</th>\n",
       "      <th>pred_p</th>\n",
       "      <th>cls_pred_p</th>\n",
       "      <th>max_prob</th>\n",
       "      <th>max_sim</th>\n",
       "      <th>probs</th>\n",
       "      <th>sims</th>\n",
       "      <th>ancestor_id</th>\n",
       "      <th>n_words</th>\n",
       "      <th>source</th>\n",
       "      <th>fold</th>\n",
       "      <th>markdown_frac</th>\n",
       "      <th>span</th>\n",
       "      <th>top2</th>\n",
       "      <th>top2_prob</th>\n",
       "      <th>top2_sim</th>\n",
       "      <th>top3</th>\n",
       "      <th>top3_prob</th>\n",
       "      <th>top3_sim</th>\n",
       "      <th>top4</th>\n",
       "      <th>top4_prob</th>\n",
       "      <th>top4_sim</th>\n",
       "      <th>top5</th>\n",
       "      <th>top5_prob</th>\n",
       "      <th>top5_sim</th>\n",
       "      <th>ctop_prob</th>\n",
       "      <th>ctop2</th>\n",
       "      <th>ctop2_prob</th>\n",
       "      <th>ctop3</th>\n",
       "      <th>ctop3_prob</th>\n",
       "      <th>ctop4</th>\n",
       "      <th>ctop4_prob</th>\n",
       "      <th>pred_p2</th>\n",
       "      <th>cls_pred_p2</th>\n",
       "      <th>p2_max_prob</th>\n",
       "      <th>p2_top2</th>\n",
       "      <th>p2_top2_prob</th>\n",
       "      <th>pred_diff0</th>\n",
       "      <th>pred_diff1</th>\n",
       "      <th>pred_diff2</th>\n",
       "      <th>pred_diff3</th>\n",
       "      <th>pred_diff4</th>\n",
       "      <th>pred_diff5</th>\n",
       "      <th>pred_diff6</th>\n",
       "      <th>pred_diff7</th>\n",
       "      <th>pred_diff8</th>\n",
       "      <th>pred_diff9</th>\n",
       "      <th>pred_diff10</th>\n",
       "      <th>pred_diff11</th>\n",
       "      <th>pred_diff12</th>\n",
       "      <th>pred_diff13</th>\n",
       "      <th>rule_pred</th>\n",
       "      <th>top6</th>\n",
       "      <th>top6_prob</th>\n",
       "      <th>top6_sim</th>\n",
       "      <th>ctail</th>\n",
       "      <th>ctail_prob</th>\n",
       "      <th>top2s_prob</th>\n",
       "      <th>p2_top2s_prob</th>\n",
       "      <th>p_trend0</th>\n",
       "      <th>p_trend1</th>\n",
       "      <th>p_trend2</th>\n",
       "      <th>p_trend3</th>\n",
       "      <th>p_trend4</th>\n",
       "      <th>p_trend5</th>\n",
       "      <th>p_trend6</th>\n",
       "      <th>p_ntile0</th>\n",
       "      <th>p_ntile1</th>\n",
       "      <th>p_ntile2</th>\n",
       "      <th>p_ntile3</th>\n",
       "      <th>p_ntile4</th>\n",
       "      <th>c_trend0</th>\n",
       "      <th>c_trend1</th>\n",
       "      <th>c_trend2</th>\n",
       "      <th>c_trend3</th>\n",
       "      <th>c_trend4</th>\n",
       "      <th>c_trend5</th>\n",
       "      <th>c_trend6</th>\n",
       "      <th>c_ntile0</th>\n",
       "      <th>c_ntile1</th>\n",
       "      <th>c_ntile2</th>\n",
       "      <th>c_ntile3</th>\n",
       "      <th>c_ntile4</th>\n",
       "    </tr>\n",
       "  </thead>\n",
       "  <tbody>\n",
       "    <tr>\n",
       "      <th>0</th>\n",
       "      <td>0002115f48f982</td>\n",
       "      <td>9ec225f0</td>\n",
       "      <td>0002115f48f982\\t9ec225f0</td>\n",
       "      <td>markdown</td>\n",
       "      <td>0</td>\n",
       "      <td>0.0556</td>\n",
       "      <td>1</td>\n",
       "      <td>0.0000</td>\n",
       "      <td>8</td>\n",
       "      <td>1</td>\n",
       "      <td>9</td>\n",
       "      <td>0.0604</td>\n",
       "      <td>0.0599</td>\n",
       "      <td>0.0594</td>\n",
       "      <td>[-4.0903583, 0.5349037, 1.3602955, 4.452827, 5.0728393, 12.519949, 1.5408992, 4.9013124, 4.9309707, 1.6340737, 1.8126483, 0.37320215, 3.3962739, 3.456965, 6.0820775, -0.9351299, 8.320439, -0.9596569, 3.6772232, 0.94654, 0.69394386, -1.5883194, 0.2900058, -0.53428674, -0.5877164, 2.7730763, -2.8129313, 6.2470136, -5.390407, 0.9643065, -0.5121496, -0.20953551, -5.1841574, -4.3066177, -5.1355834, 0.06634861, -1.7293935, 2.8716495, 7.3404927, -5.2138805, 1.8496656, -0.21122411, -0.61255383, -2.4...</td>\n",
       "      <td>0</td>\n",
       "      <td>0.0550</td>\n",
       "      <td>0.0556</td>\n",
       "      <td>0.0667</td>\n",
       "      <td>0.9425</td>\n",
       "      <td>0.7760</td>\n",
       "      <td>[0.9425, 0.043493357, 0.0003159318, 0.0062844837, 0.0023759853, 0.0036886416, 0.00038924295, 0.00046750862, 0.00048478023]</td>\n",
       "      <td>[0.7759645, 0.71513796, 0.6177492, 0.6768827, 0.65764815, 0.6663461, 0.6218758, 0.6254989, 0.6262163]</td>\n",
       "      <td>272b483a</td>\n",
       "      <td>49</td>\n",
       "      <td>Hi there,\\n\\nIs it ok that the same measurement have different target labels between signals?\\nAccording to data description it should be the same (or not really?) . There are 38 cases of measurements with not consistent labels between signals.\\n\\nQuick and dirty code to show the problem below:</td>\n",
       "      <td>2</td>\n",
       "      <td>0.1111</td>\n",
       "      <td>0.1111</td>\n",
       "      <td>0.1667</td>\n",
       "      <td>0.0435</td>\n",
       "      <td>0.7151</td>\n",
       "      <td>0.3889</td>\n",
       "      <td>0.0063</td>\n",
       "      <td>0.6769</td>\n",
       "      <td>0.6111</td>\n",
       "      <td>0.0037</td>\n",
       "      <td>0.6663</td>\n",
       "      <td>0.5000</td>\n",
       "      <td>0.0024</td>\n",
       "      <td>0.6576</td>\n",
       "      <td>0.7849</td>\n",
       "      <td>0.3250</td>\n",
       "      <td>0.1032</td>\n",
       "      <td>0.3450</td>\n",
       "      <td>0.0425</td>\n",
       "      <td>0.3550</td>\n",
       "      <td>0.0369</td>\n",
       "      <td>0.0556</td>\n",
       "      <td>0.0613</td>\n",
       "      <td>0.9906</td>\n",
       "      <td>0.1667</td>\n",
       "      <td>0.0071</td>\n",
       "      <td>0.0043</td>\n",
       "      <td>0.0038</td>\n",
       "      <td>0.0048</td>\n",
       "      <td>0.0006</td>\n",
       "      <td>0.1068</td>\n",
       "      <td>0.1073</td>\n",
       "      <td>0.1063</td>\n",
       "      <td>0.1117</td>\n",
       "      <td>0.1111</td>\n",
       "      <td>0.3285</td>\n",
       "      <td>0.3333</td>\n",
       "      <td>0.0043</td>\n",
       "      <td>0.0038</td>\n",
       "      <td>0.0048</td>\n",
       "      <td>0.0556</td>\n",
       "      <td>0.9444</td>\n",
       "      <td>0.0005</td>\n",
       "      <td>0.6262</td>\n",
       "      <td>0.6750</td>\n",
       "      <td>0.0000</td>\n",
       "      <td>0.9860</td>\n",
       "      <td>0.9977</td>\n",
       "      <td>0.9425</td>\n",
       "      <td>0.0291</td>\n",
       "      <td>0.0043</td>\n",
       "      <td>0.0024</td>\n",
       "      <td>0.0026</td>\n",
       "      <td>0.0004</td>\n",
       "      <td>0.0005</td>\n",
       "      <td>0.0004</td>\n",
       "      <td>0.0005</td>\n",
       "      <td>0.0024</td>\n",
       "      <td>0.0037</td>\n",
       "      <td>0.0063</td>\n",
       "      <td>0.0000</td>\n",
       "      <td>0.0002</td>\n",
       "      <td>0.7849</td>\n",
       "      <td>0.0005</td>\n",
       "      <td>0.0001</td>\n",
       "      <td>0.0000</td>\n",
       "      <td>0.0000</td>\n",
       "      <td>0.0000</td>\n",
       "      <td>0.0000</td>\n",
       "      <td>0.0001</td>\n",
       "      <td>0.0002</td>\n",
       "      <td>0.0006</td>\n",
       "    </tr>\n",
       "    <tr>\n",
       "      <th>1</th>\n",
       "      <td>00062ab8487156</td>\n",
       "      <td>96c8449c</td>\n",
       "      <td>00062ab8487156\\t96c8449c</td>\n",
       "      <td>markdown</td>\n",
       "      <td>11</td>\n",
       "      <td>0.9545</td>\n",
       "      <td>1</td>\n",
       "      <td>10.0000</td>\n",
       "      <td>10</td>\n",
       "      <td>2</td>\n",
       "      <td>12</td>\n",
       "      <td>0.9314</td>\n",
       "      <td>0.9468</td>\n",
       "      <td>0.9621</td>\n",
       "      <td>[-5.061675, -1.4873273, -0.1935645, 0.73971826, 3.7059398, -1.0378878, 2.9945228, -0.28360847, -4.26981, -6.2672567, -2.640204, -2.3210342, -0.064608425, 2.5773876, -5.5735707, 0.6210708, -2.8622255, -6.8944244, -6.7471614, -6.0759635, -3.0708852, -1.7026366, 1.6791137, -5.988488, -3.2226806, -3.927346, -8.143602, -7.395439, -5.5367537, -4.981709, -1.7702756, 0.15076023, -8.57975, -2.5830643, -5.663102, -7.1179194, -7.2118225, -5.558069, -5.7455144, -1.7939783, 1.1488931, -7.8734956, -1.8099...</td>\n",
       "      <td>0</td>\n",
       "      <td>0.9550</td>\n",
       "      <td>0.9545</td>\n",
       "      <td>0.9385</td>\n",
       "      <td>0.9221</td>\n",
       "      <td>0.8411</td>\n",
       "      <td>[0.008434403, 0.0019666976, 0.0004421279, 3.3661232e-05, 0.00016652851, 3.1338517e-05, 3.9218787e-05, 0.00014034826, 0.002613414, 0.064007655, 0.92212564]</td>\n",
       "      <td>[0.7482277, 0.719436, 0.68992156, 0.6389959, 0.6706126, 0.637582, 0.6420177, 0.66723025, 0.7250581, 0.7883054, 0.8410588]</td>\n",
       "      <td>de362dd8</td>\n",
       "      <td>9</td>\n",
       "      <td>### Support vector classifier scored 0.8442 on test set</td>\n",
       "      <td>1</td>\n",
       "      <td>0.1667</td>\n",
       "      <td>0.0909</td>\n",
       "      <td>0.8636</td>\n",
       "      <td>0.0640</td>\n",
       "      <td>0.7883</td>\n",
       "      <td>0.0455</td>\n",
       "      <td>0.0084</td>\n",
       "      <td>0.7482</td>\n",
       "      <td>0.7727</td>\n",
       "      <td>0.0026</td>\n",
       "      <td>0.7251</td>\n",
       "      <td>0.1364</td>\n",
       "      <td>0.0020</td>\n",
       "      <td>0.7194</td>\n",
       "      <td>0.7849</td>\n",
       "      <td>0.3250</td>\n",
       "      <td>0.1032</td>\n",
       "      <td>0.3450</td>\n",
       "      <td>0.0425</td>\n",
       "      <td>0.3550</td>\n",
       "      <td>0.0369</td>\n",
       "      <td>0.9545</td>\n",
       "      <td>0.9381</td>\n",
       "      <td>0.8954</td>\n",
       "      <td>0.8636</td>\n",
       "      <td>0.0992</td>\n",
       "      <td>0.0078</td>\n",
       "      <td>0.0076</td>\n",
       "      <td>0.0232</td>\n",
       "      <td>0.0005</td>\n",
       "      <td>0.0831</td>\n",
       "      <td>0.0985</td>\n",
       "      <td>0.0677</td>\n",
       "      <td>0.0914</td>\n",
       "      <td>0.0909</td>\n",
       "      <td>0.8859</td>\n",
       "      <td>0.9091</td>\n",
       "      <td>0.0078</td>\n",
       "      <td>0.0076</td>\n",
       "      <td>0.0232</td>\n",
       "      <td>0.9545</td>\n",
       "      <td>0.2273</td>\n",
       "      <td>0.0004</td>\n",
       "      <td>0.6899</td>\n",
       "      <td>0.4950</td>\n",
       "      <td>0.0000</td>\n",
       "      <td>0.9861</td>\n",
       "      <td>0.9946</td>\n",
       "      <td>0.0084</td>\n",
       "      <td>0.0010</td>\n",
       "      <td>0.0001</td>\n",
       "      <td>0.0000</td>\n",
       "      <td>0.0001</td>\n",
       "      <td>0.0231</td>\n",
       "      <td>0.9221</td>\n",
       "      <td>0.0000</td>\n",
       "      <td>0.0001</td>\n",
       "      <td>0.0004</td>\n",
       "      <td>0.0020</td>\n",
       "      <td>0.0084</td>\n",
       "      <td>0.0000</td>\n",
       "      <td>0.0002</td>\n",
       "      <td>0.7849</td>\n",
       "      <td>0.0005</td>\n",
       "      <td>0.0001</td>\n",
       "      <td>0.0000</td>\n",
       "      <td>0.0000</td>\n",
       "      <td>0.0000</td>\n",
       "      <td>0.0000</td>\n",
       "      <td>0.0001</td>\n",
       "      <td>0.0002</td>\n",
       "      <td>0.0006</td>\n",
       "    </tr>\n",
       "    <tr>\n",
       "      <th>2</th>\n",
       "      <td>00062ab8487156</td>\n",
       "      <td>aa354742</td>\n",
       "      <td>00062ab8487156\\taa354742</td>\n",
       "      <td>markdown</td>\n",
       "      <td>5</td>\n",
       "      <td>0.5000</td>\n",
       "      <td>1</td>\n",
       "      <td>5.0000</td>\n",
       "      <td>10</td>\n",
       "      <td>2</td>\n",
       "      <td>12</td>\n",
       "      <td>0.4542</td>\n",
       "      <td>0.4653</td>\n",
       "      <td>0.4764</td>\n",
       "      <td>[-7.7851253, -4.5965886, -3.7267966, -2.2704773, 0.18610686, -3.2503319, 0.95366096, -1.114378, -3.7585695, -5.4806566, -3.5617044, -2.6582494, 0.22925508, 2.3798091, -4.0441427, 0.6467317, -2.256555, -4.7055626, -6.3319283, -5.0578604, -1.5136696, 0.97218287, 3.8746028, -3.294629, 0.11935301, -1.1640795, -3.8962393, -4.1276994, -1.8122104, -1.0130492, 1.9709735, 4.778031, -3.4500384, 1.7237583, -0.5735746, -2.021018, -3.7458873, -2.0871928, -0.4516515, 3.2411807, 6.346738, -2.2460082, 3.793...</td>\n",
       "      <td>0</td>\n",
       "      <td>0.5050</td>\n",
       "      <td>0.5000</td>\n",
       "      <td>0.5208</td>\n",
       "      <td>0.7693</td>\n",
       "      <td>0.7147</td>\n",
       "      <td>[8.507829e-05, 0.0003250107, 0.0022958096, 0.0061200694, 0.049457133, 0.76931363, 0.050363947, 0.11976875, 0.00055202516, 0.00075522007, 0.0009632422]</td>\n",
       "      <td>[0.5345269, 0.5610311, 0.5996909, 0.61908007, 0.6604006, 0.714671, 0.6607599, 0.6778908, 0.5715066, 0.5777044, 0.5825156]</td>\n",
       "      <td>de362dd8</td>\n",
       "      <td>40</td>\n",
       "      <td>### Interesting tidbit: Shovel Knight is the only game with drugs and alcohol with a rating of 'Everyone' in this dataset \\n### https://www.esrb.org/ratings/36588/Shovel+Knight%3A+Treasure+Trove/\\n### https://www.gonintendo.com/stories/350467-shovel-knight-treasure-trove-rated-by-the-esrb\\n### In the official rating it says Use of alcohol only\\n### A bit strange?</td>\n",
       "      <td>1</td>\n",
       "      <td>0.1667</td>\n",
       "      <td>0.0909</td>\n",
       "      <td>0.6818</td>\n",
       "      <td>0.1198</td>\n",
       "      <td>0.6779</td>\n",
       "      <td>0.5909</td>\n",
       "      <td>0.0504</td>\n",
       "      <td>0.6608</td>\n",
       "      <td>0.4091</td>\n",
       "      <td>0.0495</td>\n",
       "      <td>0.6604</td>\n",
       "      <td>0.3182</td>\n",
       "      <td>0.0061</td>\n",
       "      <td>0.6191</td>\n",
       "      <td>0.7849</td>\n",
       "      <td>0.3250</td>\n",
       "      <td>0.1032</td>\n",
       "      <td>0.3450</td>\n",
       "      <td>0.0425</td>\n",
       "      <td>0.3550</td>\n",
       "      <td>0.0369</td>\n",
       "      <td>0.5000</td>\n",
       "      <td>0.5021</td>\n",
       "      <td>0.9407</td>\n",
       "      <td>0.6818</td>\n",
       "      <td>0.0305</td>\n",
       "      <td>0.0347</td>\n",
       "      <td>0.0236</td>\n",
       "      <td>0.0458</td>\n",
       "      <td>0.0050</td>\n",
       "      <td>0.2165</td>\n",
       "      <td>0.2054</td>\n",
       "      <td>0.2276</td>\n",
       "      <td>0.1768</td>\n",
       "      <td>0.1818</td>\n",
       "      <td>0.1367</td>\n",
       "      <td>0.0909</td>\n",
       "      <td>0.0347</td>\n",
       "      <td>0.0236</td>\n",
       "      <td>0.0458</td>\n",
       "      <td>0.5000</td>\n",
       "      <td>0.2273</td>\n",
       "      <td>0.0023</td>\n",
       "      <td>0.5997</td>\n",
       "      <td>0.8150</td>\n",
       "      <td>0.0000</td>\n",
       "      <td>0.8891</td>\n",
       "      <td>0.9712</td>\n",
       "      <td>0.0001</td>\n",
       "      <td>0.0016</td>\n",
       "      <td>0.0206</td>\n",
       "      <td>0.7693</td>\n",
       "      <td>0.0966</td>\n",
       "      <td>0.0006</td>\n",
       "      <td>0.0010</td>\n",
       "      <td>0.0003</td>\n",
       "      <td>0.0008</td>\n",
       "      <td>0.0023</td>\n",
       "      <td>0.0061</td>\n",
       "      <td>0.0504</td>\n",
       "      <td>0.0000</td>\n",
       "      <td>0.0002</td>\n",
       "      <td>0.7849</td>\n",
       "      <td>0.0005</td>\n",
       "      <td>0.0001</td>\n",
       "      <td>0.0000</td>\n",
       "      <td>0.0000</td>\n",
       "      <td>0.0000</td>\n",
       "      <td>0.0000</td>\n",
       "      <td>0.0001</td>\n",
       "      <td>0.0002</td>\n",
       "      <td>0.0006</td>\n",
       "    </tr>\n",
       "    <tr>\n",
       "      <th>3</th>\n",
       "      <td>000efd285fb982</td>\n",
       "      <td>14f36391</td>\n",
       "      <td>000efd285fb982\\t14f36391</td>\n",
       "      <td>markdown</td>\n",
       "      <td>56</td>\n",
       "      <td>0.8816</td>\n",
       "      <td>1</td>\n",
       "      <td>33.0000</td>\n",
       "      <td>37</td>\n",
       "      <td>28</td>\n",
       "      <td>65</td>\n",
       "      <td>0.8592</td>\n",
       "      <td>0.8631</td>\n",
       "      <td>0.8670</td>\n",
       "      <td>[-0.78596354, -0.95321876, -3.538508, -1.7780888, -4.870852, -5.5361505, -3.0123677, -5.895115, -4.9925513, -3.6409187, -6.8890877, -3.0711274, -4.5238204, -6.2641096, -3.5867722, -6.9610767, -4.590701, -4.10083, -6.9247293, -3.391138, -5.209072, -5.5255413, -3.5107636, -5.8575277, -4.6884503, -2.462563, -6.0636387, -2.4952657, -4.553944, -4.746541, -3.2313533, -6.758185, -2.880087, -4.759609, -6.176245, -3.2689688, -5.615166, -4.4876385, -2.8976157, -5.4396253, -1.6768112, -3.725297, -3.319...</td>\n",
       "      <td>0</td>\n",
       "      <td>0.8850</td>\n",
       "      <td>0.8816</td>\n",
       "      <td>0.8815</td>\n",
       "      <td>0.9982</td>\n",
       "      <td>0.7268</td>\n",
       "      <td>[1.886511e-08, 2.9399166e-10, 1.0226358e-10, 2.9370412e-10, 1.8715604e-10, 1.7133432e-11, 2.1344397e-10, 1.3118612e-10, 9.859765e-10, 4.204703e-10, 1.2295878e-10, 8.2721316e-11, 2.5317912e-10, 3.5108294e-10, 2.1058109e-09, 8.62408e-11, 9.021065e-07, 3.3172811e-09, 1.5926314e-07, 2.3928803e-07, 1.3119665e-06, 1.4369384e-07, 4.0353374e-08, 0.00029020576, 2.7574958e-06, 2.151878e-06, 3.3804997e-07, 2.6423985e-08, 6.89617e-06, 1.1305543e-06, 3.882073e-07, 2.1202315e-05, 4.1125965e-08, 0.9982201,...</td>\n",
       "      <td>[0.37512425, 0.29283014, 0.27194774, 0.29281077, 0.28389955, 0.23661928, 0.2864986, 0.276873, 0.31675953, 0.29990608, 0.2755922, 0.26775396, 0.2898747, 0.29633963, 0.33176526, 0.2685779, 0.4516025, 0.34075192, 0.41730917, 0.4253598, 0.45900923, 0.41527486, 0.39016038, 0.5657758, 0.47369805, 0.4687942, 0.43219256, 0.3817876, 0.49182466, 0.45606634, 0.43492833, 0.51403487, 0.3905354, 0.7268065, 0.5973935, 0.5006306, 0.47370708, 0.45543095]</td>\n",
       "      <td>389f14ff</td>\n",
       "      <td>3</td>\n",
       "      <td>### 3.5 CatboostRegressor</td>\n",
       "      <td>4</td>\n",
       "      <td>0.4308</td>\n",
       "      <td>0.0263</td>\n",
       "      <td>0.9079</td>\n",
       "      <td>0.0014</td>\n",
       "      <td>0.5974</td>\n",
       "      <td>0.6184</td>\n",
       "      <td>0.0003</td>\n",
       "      <td>0.5658</td>\n",
       "      <td>0.8289</td>\n",
       "      <td>0.0000</td>\n",
       "      <td>0.5140</td>\n",
       "      <td>0.9342</td>\n",
       "      <td>0.0000</td>\n",
       "      <td>0.5006</td>\n",
       "      <td>0.7849</td>\n",
       "      <td>0.3250</td>\n",
       "      <td>0.1032</td>\n",
       "      <td>0.3450</td>\n",
       "      <td>0.0425</td>\n",
       "      <td>0.3550</td>\n",
       "      <td>0.0369</td>\n",
       "      <td>0.8816</td>\n",
       "      <td>0.8826</td>\n",
       "      <td>0.9607</td>\n",
       "      <td>0.9079</td>\n",
       "      <td>0.0391</td>\n",
       "      <td>0.0185</td>\n",
       "      <td>0.0146</td>\n",
       "      <td>0.0224</td>\n",
       "      <td>0.0034</td>\n",
       "      <td>0.0448</td>\n",
       "      <td>0.0409</td>\n",
       "      <td>0.0487</td>\n",
       "      <td>0.0229</td>\n",
       "      <td>0.0263</td>\n",
       "      <td>0.2408</td>\n",
       "      <td>0.2632</td>\n",
       "      <td>0.0185</td>\n",
       "      <td>0.0146</td>\n",
       "      <td>0.0224</td>\n",
       "      <td>0.8816</td>\n",
       "      <td>0.7500</td>\n",
       "      <td>0.0000</td>\n",
       "      <td>0.4918</td>\n",
       "      <td>0.1550</td>\n",
       "      <td>0.0000</td>\n",
       "      <td>0.9997</td>\n",
       "      <td>0.9999</td>\n",
       "      <td>0.0000</td>\n",
       "      <td>0.0000</td>\n",
       "      <td>0.0000</td>\n",
       "      <td>0.0000</td>\n",
       "      <td>0.0000</td>\n",
       "      <td>0.0000</td>\n",
       "      <td>0.0000</td>\n",
       "      <td>0.0000</td>\n",
       "      <td>0.0000</td>\n",
       "      <td>0.0000</td>\n",
       "      <td>0.0000</td>\n",
       "      <td>0.0000</td>\n",
       "      <td>0.0000</td>\n",
       "      <td>0.0002</td>\n",
       "      <td>0.7849</td>\n",
       "      <td>0.0005</td>\n",
       "      <td>0.0001</td>\n",
       "      <td>0.0000</td>\n",
       "      <td>0.0000</td>\n",
       "      <td>0.0000</td>\n",
       "      <td>0.0000</td>\n",
       "      <td>0.0001</td>\n",
       "      <td>0.0002</td>\n",
       "      <td>0.0006</td>\n",
       "    </tr>\n",
       "    <tr>\n",
       "      <th>4</th>\n",
       "      <td>000efd285fb982</td>\n",
       "      <td>1f3749ad</td>\n",
       "      <td>000efd285fb982\\t1f3749ad</td>\n",
       "      <td>markdown</td>\n",
       "      <td>24</td>\n",
       "      <td>0.3355</td>\n",
       "      <td>1</td>\n",
       "      <td>12.0000</td>\n",
       "      <td>37</td>\n",
       "      <td>28</td>\n",
       "      <td>65</td>\n",
       "      <td>0.3364</td>\n",
       "      <td>0.3357</td>\n",
       "      <td>0.3351</td>\n",
       "      <td>[-2.2972665, -1.45406, -2.8447287, -1.9018419, -2.6154203, -3.4368598, -1.5660214, -2.6153042, -0.7938975, 0.022870596, -3.4408903, -1.0439006, -1.4572139, -1.5983727, -0.1980429, -2.9246485, -0.6081704, 0.307784, -0.3559152, 1.7556152, 0.7667545, 0.2467699, 1.9673358, -1.0412096, 0.6706147, 1.4509764, 0.1922862, 1.6361823, 1.2125123, 1.1119738, 3.7847881, 2.3797817, 6.3414145, 8.369863, 5.4544263, 5.3135495, 0.4139647, 0.738248, 2.1879733, -0.3886309, 1.5086217, 1.6985961, 0.3316118, 1.1948...</td>\n",
       "      <td>0</td>\n",
       "      <td>0.3350</td>\n",
       "      <td>0.3289</td>\n",
       "      <td>0.3283</td>\n",
       "      <td>0.9810</td>\n",
       "      <td>0.6931</td>\n",
       "      <td>[8.6690925e-06, 1.995727e-06, 2.5305377e-05, 8.896049e-05, 1.9770685e-05, 2.1066768e-07, 7.762484e-05, 8.027244e-05, 2.1643184e-05, 7.635204e-05, 0.014496631, 6.809841e-05, 0.98100245, 0.0030791431, 0.0001994397, 2.5109765e-07, 5.3860305e-05, 0.00012672301, 0.00042499407, 0.0001035181, 9.436578e-06, 1.3177176e-05, 3.2633207e-07, 4.7691815e-06, 1.665315e-06, 5.001769e-06, 1.0933544e-08, 2.0711804e-08, 4.566807e-07, 2.6553426e-08, 1.2274386e-07, 1.9302229e-06, 1.5039861e-08, 6.412591e-07, 7.06...</td>\n",
       "      <td>[0.46298626, 0.4339416, 0.48417032, 0.509031, 0.47928953, 0.38947785, 0.50633556, 0.5069988, 0.48107895, 0.5060086, 0.6097546, 0.50374633, 0.69309956, 0.5791179, 0.52499574, 0.39294955, 0.4991079, 0.5160276, 0.5399568, 0.512028, 0.46466377, 0.4712665, 0.39813206, 0.45116892, 0.43036246, 0.45211056, 0.33097452, 0.34360814, 0.40477782, 0.34852135, 0.37879574, 0.43328166, 0.33728012, 0.41149044, 0.3678822, 0.36093968, 0.45381963, 0.41961816]</td>\n",
       "      <td>389f14ff</td>\n",
       "      <td>4</td>\n",
       "      <td>### 2.1 Numerical columns</td>\n",
       "      <td>4</td>\n",
       "      <td>0.4308</td>\n",
       "      <td>0.0263</td>\n",
       "      <td>0.2763</td>\n",
       "      <td>0.0145</td>\n",
       "      <td>0.6098</td>\n",
       "      <td>0.3553</td>\n",
       "      <td>0.0031</td>\n",
       "      <td>0.5791</td>\n",
       "      <td>0.4868</td>\n",
       "      <td>0.0004</td>\n",
       "      <td>0.5400</td>\n",
       "      <td>0.3816</td>\n",
       "      <td>0.0002</td>\n",
       "      <td>0.5250</td>\n",
       "      <td>0.7849</td>\n",
       "      <td>0.3250</td>\n",
       "      <td>0.1032</td>\n",
       "      <td>0.3450</td>\n",
       "      <td>0.0425</td>\n",
       "      <td>0.3550</td>\n",
       "      <td>0.0369</td>\n",
       "      <td>0.3289</td>\n",
       "      <td>0.3195</td>\n",
       "      <td>0.8147</td>\n",
       "      <td>0.2763</td>\n",
       "      <td>0.1827</td>\n",
       "      <td>0.0068</td>\n",
       "      <td>0.0061</td>\n",
       "      <td>0.0075</td>\n",
       "      <td>0.0061</td>\n",
       "      <td>0.0594</td>\n",
       "      <td>0.0588</td>\n",
       "      <td>0.0601</td>\n",
       "      <td>0.0587</td>\n",
       "      <td>0.0526</td>\n",
       "      <td>0.0188</td>\n",
       "      <td>0.0263</td>\n",
       "      <td>0.0068</td>\n",
       "      <td>0.0061</td>\n",
       "      <td>0.0075</td>\n",
       "      <td>0.3289</td>\n",
       "      <td>0.4605</td>\n",
       "      <td>0.0001</td>\n",
       "      <td>0.5160</td>\n",
       "      <td>0.9450</td>\n",
       "      <td>0.0000</td>\n",
       "      <td>0.9955</td>\n",
       "      <td>0.9973</td>\n",
       "      <td>0.0000</td>\n",
       "      <td>0.0001</td>\n",
       "      <td>0.6550</td>\n",
       "      <td>0.0003</td>\n",
       "      <td>0.0000</td>\n",
       "      <td>0.0000</td>\n",
       "      <td>0.0000</td>\n",
       "      <td>0.0000</td>\n",
       "      <td>0.0000</td>\n",
       "      <td>0.0000</td>\n",
       "      <td>0.0000</td>\n",
       "      <td>0.0001</td>\n",
       "      <td>0.0000</td>\n",
       "      <td>0.0002</td>\n",
       "      <td>0.7849</td>\n",
       "      <td>0.0005</td>\n",
       "      <td>0.0001</td>\n",
       "      <td>0.0000</td>\n",
       "      <td>0.0000</td>\n",
       "      <td>0.0000</td>\n",
       "      <td>0.0000</td>\n",
       "      <td>0.0001</td>\n",
       "      <td>0.0002</td>\n",
       "      <td>0.0006</td>\n",
       "    </tr>\n",
       "  </tbody>\n",
       "</table>\n",
       "</div>"
      ],
      "text/plain": [
       "               id   cell_id                       cid cell_type  rank  \\\n",
       "0  0002115f48f982  9ec225f0  0002115f48f982\\t9ec225f0  markdown     0   \n",
       "1  00062ab8487156  96c8449c  00062ab8487156\\t96c8449c  markdown    11   \n",
       "2  00062ab8487156  aa354742  00062ab8487156\\taa354742  markdown     5   \n",
       "3  000efd285fb982  14f36391  000efd285fb982\\t14f36391  markdown    56   \n",
       "4  000efd285fb982  1f3749ad  000efd285fb982\\t1f3749ad  markdown    24   \n",
       "\n",
       "   rel_rank  context_match  match_code  n_code_cell  n_markdown_cell  n_cell  \\\n",
       "0    0.0556              1      0.0000            8                1       9   \n",
       "1    0.9545              1     10.0000           10                2      12   \n",
       "2    0.5000              1      5.0000           10                2      12   \n",
       "3    0.8816              1     33.0000           37               28      65   \n",
       "4    0.3355              1     12.0000           37               28      65   \n",
       "\n",
       "   cls_pred_c  pred_c  reg_pred  \\\n",
       "0      0.0604  0.0599    0.0594   \n",
       "1      0.9314  0.9468    0.9621   \n",
       "2      0.4542  0.4653    0.4764   \n",
       "3      0.8592  0.8631    0.8670   \n",
       "4      0.3364  0.3357    0.3351   \n",
       "\n",
       "                                                                                                                                                                                                                                                                                                                                                                                                                                                                                                          cls_pred_ori  \\\n",
       "0  [-4.0903583, 0.5349037, 1.3602955, 4.452827, 5.0728393, 12.519949, 1.5408992, 4.9013124, 4.9309707, 1.6340737, 1.8126483, 0.37320215, 3.3962739, 3.456965, 6.0820775, -0.9351299, 8.320439, -0.9596569, 3.6772232, 0.94654, 0.69394386, -1.5883194, 0.2900058, -0.53428674, -0.5877164, 2.7730763, -2.8129313, 6.2470136, -5.390407, 0.9643065, -0.5121496, -0.20953551, -5.1841574, -4.3066177, -5.1355834, 0.06634861, -1.7293935, 2.8716495, 7.3404927, -5.2138805, 1.8496656, -0.21122411, -0.61255383, -2.4...   \n",
       "1  [-5.061675, -1.4873273, -0.1935645, 0.73971826, 3.7059398, -1.0378878, 2.9945228, -0.28360847, -4.26981, -6.2672567, -2.640204, -2.3210342, -0.064608425, 2.5773876, -5.5735707, 0.6210708, -2.8622255, -6.8944244, -6.7471614, -6.0759635, -3.0708852, -1.7026366, 1.6791137, -5.988488, -3.2226806, -3.927346, -8.143602, -7.395439, -5.5367537, -4.981709, -1.7702756, 0.15076023, -8.57975, -2.5830643, -5.663102, -7.1179194, -7.2118225, -5.558069, -5.7455144, -1.7939783, 1.1488931, -7.8734956, -1.8099...   \n",
       "2  [-7.7851253, -4.5965886, -3.7267966, -2.2704773, 0.18610686, -3.2503319, 0.95366096, -1.114378, -3.7585695, -5.4806566, -3.5617044, -2.6582494, 0.22925508, 2.3798091, -4.0441427, 0.6467317, -2.256555, -4.7055626, -6.3319283, -5.0578604, -1.5136696, 0.97218287, 3.8746028, -3.294629, 0.11935301, -1.1640795, -3.8962393, -4.1276994, -1.8122104, -1.0130492, 1.9709735, 4.778031, -3.4500384, 1.7237583, -0.5735746, -2.021018, -3.7458873, -2.0871928, -0.4516515, 3.2411807, 6.346738, -2.2460082, 3.793...   \n",
       "3  [-0.78596354, -0.95321876, -3.538508, -1.7780888, -4.870852, -5.5361505, -3.0123677, -5.895115, -4.9925513, -3.6409187, -6.8890877, -3.0711274, -4.5238204, -6.2641096, -3.5867722, -6.9610767, -4.590701, -4.10083, -6.9247293, -3.391138, -5.209072, -5.5255413, -3.5107636, -5.8575277, -4.6884503, -2.462563, -6.0636387, -2.4952657, -4.553944, -4.746541, -3.2313533, -6.758185, -2.880087, -4.759609, -6.176245, -3.2689688, -5.615166, -4.4876385, -2.8976157, -5.4396253, -1.6768112, -3.725297, -3.319...   \n",
       "4  [-2.2972665, -1.45406, -2.8447287, -1.9018419, -2.6154203, -3.4368598, -1.5660214, -2.6153042, -0.7938975, 0.022870596, -3.4408903, -1.0439006, -1.4572139, -1.5983727, -0.1980429, -2.9246485, -0.6081704, 0.307784, -0.3559152, 1.7556152, 0.7667545, 0.2467699, 1.9673358, -1.0412096, 0.6706147, 1.4509764, 0.1922862, 1.6361823, 1.2125123, 1.1119738, 3.7847881, 2.3797817, 6.3414145, 8.369863, 5.4544263, 5.3135495, 0.4139647, 0.738248, 2.1879733, -0.3886309, 1.5086217, 1.6985961, 0.3316118, 1.1948...   \n",
       "\n",
       "   match_rank  cls2_pred  pred_p  cls_pred_p  max_prob  max_sim  \\\n",
       "0           0     0.0550  0.0556      0.0667    0.9425   0.7760   \n",
       "1           0     0.9550  0.9545      0.9385    0.9221   0.8411   \n",
       "2           0     0.5050  0.5000      0.5208    0.7693   0.7147   \n",
       "3           0     0.8850  0.8816      0.8815    0.9982   0.7268   \n",
       "4           0     0.3350  0.3289      0.3283    0.9810   0.6931   \n",
       "\n",
       "                                                                                                                                                                                                                                                                                                                                                                                                                                                                                                                 probs  \\\n",
       "0                                                                                                                                                                                                                                                                                                                                                                                           [0.9425, 0.043493357, 0.0003159318, 0.0062844837, 0.0023759853, 0.0036886416, 0.00038924295, 0.00046750862, 0.00048478023]   \n",
       "1                                                                                                                                                                                                                                                                                                                                                           [0.008434403, 0.0019666976, 0.0004421279, 3.3661232e-05, 0.00016652851, 3.1338517e-05, 3.9218787e-05, 0.00014034826, 0.002613414, 0.064007655, 0.92212564]   \n",
       "2                                                                                                                                                                                                                                                                                                                                                               [8.507829e-05, 0.0003250107, 0.0022958096, 0.0061200694, 0.049457133, 0.76931363, 0.050363947, 0.11976875, 0.00055202516, 0.00075522007, 0.0009632422]   \n",
       "3  [1.886511e-08, 2.9399166e-10, 1.0226358e-10, 2.9370412e-10, 1.8715604e-10, 1.7133432e-11, 2.1344397e-10, 1.3118612e-10, 9.859765e-10, 4.204703e-10, 1.2295878e-10, 8.2721316e-11, 2.5317912e-10, 3.5108294e-10, 2.1058109e-09, 8.62408e-11, 9.021065e-07, 3.3172811e-09, 1.5926314e-07, 2.3928803e-07, 1.3119665e-06, 1.4369384e-07, 4.0353374e-08, 0.00029020576, 2.7574958e-06, 2.151878e-06, 3.3804997e-07, 2.6423985e-08, 6.89617e-06, 1.1305543e-06, 3.882073e-07, 2.1202315e-05, 4.1125965e-08, 0.9982201,...   \n",
       "4  [8.6690925e-06, 1.995727e-06, 2.5305377e-05, 8.896049e-05, 1.9770685e-05, 2.1066768e-07, 7.762484e-05, 8.027244e-05, 2.1643184e-05, 7.635204e-05, 0.014496631, 6.809841e-05, 0.98100245, 0.0030791431, 0.0001994397, 2.5109765e-07, 5.3860305e-05, 0.00012672301, 0.00042499407, 0.0001035181, 9.436578e-06, 1.3177176e-05, 3.2633207e-07, 4.7691815e-06, 1.665315e-06, 5.001769e-06, 1.0933544e-08, 2.0711804e-08, 4.566807e-07, 2.6553426e-08, 1.2274386e-07, 1.9302229e-06, 1.5039861e-08, 6.412591e-07, 7.06...   \n",
       "\n",
       "                                                                                                                                                                                                                                                                                                                                                                                                                                                         sims  \\\n",
       "0                                                                                                                                                                                                                                                                                                                                                       [0.7759645, 0.71513796, 0.6177492, 0.6768827, 0.65764815, 0.6663461, 0.6218758, 0.6254989, 0.6262163]   \n",
       "1                                                                                                                                                                                                                                                                                                                                   [0.7482277, 0.719436, 0.68992156, 0.6389959, 0.6706126, 0.637582, 0.6420177, 0.66723025, 0.7250581, 0.7883054, 0.8410588]   \n",
       "2                                                                                                                                                                                                                                                                                                                                   [0.5345269, 0.5610311, 0.5996909, 0.61908007, 0.6604006, 0.714671, 0.6607599, 0.6778908, 0.5715066, 0.5777044, 0.5825156]   \n",
       "3   [0.37512425, 0.29283014, 0.27194774, 0.29281077, 0.28389955, 0.23661928, 0.2864986, 0.276873, 0.31675953, 0.29990608, 0.2755922, 0.26775396, 0.2898747, 0.29633963, 0.33176526, 0.2685779, 0.4516025, 0.34075192, 0.41730917, 0.4253598, 0.45900923, 0.41527486, 0.39016038, 0.5657758, 0.47369805, 0.4687942, 0.43219256, 0.3817876, 0.49182466, 0.45606634, 0.43492833, 0.51403487, 0.3905354, 0.7268065, 0.5973935, 0.5006306, 0.47370708, 0.45543095]   \n",
       "4  [0.46298626, 0.4339416, 0.48417032, 0.509031, 0.47928953, 0.38947785, 0.50633556, 0.5069988, 0.48107895, 0.5060086, 0.6097546, 0.50374633, 0.69309956, 0.5791179, 0.52499574, 0.39294955, 0.4991079, 0.5160276, 0.5399568, 0.512028, 0.46466377, 0.4712665, 0.39813206, 0.45116892, 0.43036246, 0.45211056, 0.33097452, 0.34360814, 0.40477782, 0.34852135, 0.37879574, 0.43328166, 0.33728012, 0.41149044, 0.3678822, 0.36093968, 0.45381963, 0.41961816]   \n",
       "\n",
       "  ancestor_id  n_words  \\\n",
       "0    272b483a       49   \n",
       "1    de362dd8        9   \n",
       "2    de362dd8       40   \n",
       "3    389f14ff        3   \n",
       "4    389f14ff        4   \n",
       "\n",
       "                                                                                                                                                                                                                                                                                                                                                                          source  \\\n",
       "0                                                                        Hi there,\\n\\nIs it ok that the same measurement have different target labels between signals?\\nAccording to data description it should be the same (or not really?) . There are 38 cases of measurements with not consistent labels between signals.\\n\\nQuick and dirty code to show the problem below:   \n",
       "1                                                                                                                                                                                                                                                                                                                        ### Support vector classifier scored 0.8442 on test set   \n",
       "2  ### Interesting tidbit: Shovel Knight is the only game with drugs and alcohol with a rating of 'Everyone' in this dataset \\n### https://www.esrb.org/ratings/36588/Shovel+Knight%3A+Treasure+Trove/\\n### https://www.gonintendo.com/stories/350467-shovel-knight-treasure-trove-rated-by-the-esrb\\n### In the official rating it says Use of alcohol only\\n### A bit strange?   \n",
       "3                                                                                                                                                                                                                                                                                                                                                      ### 3.5 CatboostRegressor   \n",
       "4                                                                                                                                                                                                                                                                                                                                                      ### 2.1 Numerical columns   \n",
       "\n",
       "   fold  markdown_frac   span   top2  top2_prob  top2_sim   top3  top3_prob  \\\n",
       "0     2         0.1111 0.1111 0.1667     0.0435    0.7151 0.3889     0.0063   \n",
       "1     1         0.1667 0.0909 0.8636     0.0640    0.7883 0.0455     0.0084   \n",
       "2     1         0.1667 0.0909 0.6818     0.1198    0.6779 0.5909     0.0504   \n",
       "3     4         0.4308 0.0263 0.9079     0.0014    0.5974 0.6184     0.0003   \n",
       "4     4         0.4308 0.0263 0.2763     0.0145    0.6098 0.3553     0.0031   \n",
       "\n",
       "   top3_sim   top4  top4_prob  top4_sim   top5  top5_prob  top5_sim  \\\n",
       "0    0.6769 0.6111     0.0037    0.6663 0.5000     0.0024    0.6576   \n",
       "1    0.7482 0.7727     0.0026    0.7251 0.1364     0.0020    0.7194   \n",
       "2    0.6608 0.4091     0.0495    0.6604 0.3182     0.0061    0.6191   \n",
       "3    0.5658 0.8289     0.0000    0.5140 0.9342     0.0000    0.5006   \n",
       "4    0.5791 0.4868     0.0004    0.5400 0.3816     0.0002    0.5250   \n",
       "\n",
       "   ctop_prob  ctop2  ctop2_prob  ctop3  ctop3_prob  ctop4  ctop4_prob  \\\n",
       "0     0.7849 0.3250      0.1032 0.3450      0.0425 0.3550      0.0369   \n",
       "1     0.7849 0.3250      0.1032 0.3450      0.0425 0.3550      0.0369   \n",
       "2     0.7849 0.3250      0.1032 0.3450      0.0425 0.3550      0.0369   \n",
       "3     0.7849 0.3250      0.1032 0.3450      0.0425 0.3550      0.0369   \n",
       "4     0.7849 0.3250      0.1032 0.3450      0.0425 0.3550      0.0369   \n",
       "\n",
       "   pred_p2  cls_pred_p2  p2_max_prob  p2_top2  p2_top2_prob  pred_diff0  \\\n",
       "0   0.0556       0.0613       0.9906   0.1667        0.0071      0.0043   \n",
       "1   0.9545       0.9381       0.8954   0.8636        0.0992      0.0078   \n",
       "2   0.5000       0.5021       0.9407   0.6818        0.0305      0.0347   \n",
       "3   0.8816       0.8826       0.9607   0.9079        0.0391      0.0185   \n",
       "4   0.3289       0.3195       0.8147   0.2763        0.1827      0.0068   \n",
       "\n",
       "   pred_diff1  pred_diff2  pred_diff3  pred_diff4  pred_diff5  pred_diff6  \\\n",
       "0      0.0038      0.0048      0.0006      0.1068      0.1073      0.1063   \n",
       "1      0.0076      0.0232      0.0005      0.0831      0.0985      0.0677   \n",
       "2      0.0236      0.0458      0.0050      0.2165      0.2054      0.2276   \n",
       "3      0.0146      0.0224      0.0034      0.0448      0.0409      0.0487   \n",
       "4      0.0061      0.0075      0.0061      0.0594      0.0588      0.0601   \n",
       "\n",
       "   pred_diff7  pred_diff8  pred_diff9  pred_diff10  pred_diff11  pred_diff12  \\\n",
       "0      0.1117      0.1111      0.3285       0.3333       0.0043       0.0038   \n",
       "1      0.0914      0.0909      0.8859       0.9091       0.0078       0.0076   \n",
       "2      0.1768      0.1818      0.1367       0.0909       0.0347       0.0236   \n",
       "3      0.0229      0.0263      0.2408       0.2632       0.0185       0.0146   \n",
       "4      0.0587      0.0526      0.0188       0.0263       0.0068       0.0061   \n",
       "\n",
       "   pred_diff13  rule_pred   top6  top6_prob  top6_sim  ctail  ctail_prob  \\\n",
       "0       0.0048     0.0556 0.9444     0.0005    0.6262 0.6750      0.0000   \n",
       "1       0.0232     0.9545 0.2273     0.0004    0.6899 0.4950      0.0000   \n",
       "2       0.0458     0.5000 0.2273     0.0023    0.5997 0.8150      0.0000   \n",
       "3       0.0224     0.8816 0.7500     0.0000    0.4918 0.1550      0.0000   \n",
       "4       0.0075     0.3289 0.4605     0.0001    0.5160 0.9450      0.0000   \n",
       "\n",
       "   top2s_prob  p2_top2s_prob  p_trend0  p_trend1  p_trend2  p_trend3  \\\n",
       "0      0.9860         0.9977    0.9425    0.0291    0.0043    0.0024   \n",
       "1      0.9861         0.9946    0.0084    0.0010    0.0001    0.0000   \n",
       "2      0.8891         0.9712    0.0001    0.0016    0.0206    0.7693   \n",
       "3      0.9997         0.9999    0.0000    0.0000    0.0000    0.0000   \n",
       "4      0.9955         0.9973    0.0000    0.0001    0.6550    0.0003   \n",
       "\n",
       "   p_trend4  p_trend5  p_trend6  p_ntile0  p_ntile1  p_ntile2  p_ntile3  \\\n",
       "0    0.0026    0.0004    0.0005    0.0004    0.0005    0.0024    0.0037   \n",
       "1    0.0001    0.0231    0.9221    0.0000    0.0001    0.0004    0.0020   \n",
       "2    0.0966    0.0006    0.0010    0.0003    0.0008    0.0023    0.0061   \n",
       "3    0.0000    0.0000    0.0000    0.0000    0.0000    0.0000    0.0000   \n",
       "4    0.0000    0.0000    0.0000    0.0000    0.0000    0.0000    0.0000   \n",
       "\n",
       "   p_ntile4  c_trend0  c_trend1  c_trend2  c_trend3  c_trend4  c_trend5  \\\n",
       "0    0.0063    0.0000    0.0002    0.7849    0.0005    0.0001    0.0000   \n",
       "1    0.0084    0.0000    0.0002    0.7849    0.0005    0.0001    0.0000   \n",
       "2    0.0504    0.0000    0.0002    0.7849    0.0005    0.0001    0.0000   \n",
       "3    0.0000    0.0000    0.0002    0.7849    0.0005    0.0001    0.0000   \n",
       "4    0.0001    0.0000    0.0002    0.7849    0.0005    0.0001    0.0000   \n",
       "\n",
       "   c_trend6  c_ntile0  c_ntile1  c_ntile2  c_ntile3  c_ntile4  \n",
       "0    0.0000    0.0000    0.0000    0.0001    0.0002    0.0006  \n",
       "1    0.0000    0.0000    0.0000    0.0001    0.0002    0.0006  \n",
       "2    0.0000    0.0000    0.0000    0.0001    0.0002    0.0006  \n",
       "3    0.0000    0.0000    0.0000    0.0001    0.0002    0.0006  \n",
       "4    0.0000    0.0000    0.0000    0.0001    0.0002    0.0006  "
      ]
     },
     "execution_count": 133,
     "metadata": {},
     "output_type": "execute_result"
    }
   ],
   "source": [
    "df.head()"
   ]
  },
  {
   "cell_type": "code",
   "execution_count": 134,
   "metadata": {},
   "outputs": [],
   "source": [
    "reg_cols =  [\n",
    "          'n_code_cell',\n",
    "          'n_markdown_cell',\n",
    "          'n_cell',\n",
    "          'cls_pred_c',\n",
    "          'pred_c',\n",
    "          'reg_pred',\n",
    "          'cls2_pred',\n",
    "          'pred_p',\n",
    "          'cls_pred_p',\n",
    "          # 'rule_pred',\n",
    "          'pred_diff0',\n",
    "          'pred_diff1',\n",
    "          'pred_diff2',\n",
    "          'pred_diff3',\n",
    "          'pred_diff4',\n",
    "          'pred_diff5',\n",
    "          'pred_diff6',\n",
    "          'pred_diff7',\n",
    "          'pred_diff8',\n",
    "          'pred_diff9',\n",
    "          'pred_diff10',\n",
    "          'pred_diff11',\n",
    "          'pred_diff12',\n",
    "          'pred_diff13',\n",
    "          'max_sim',\n",
    "          'max_prob',\n",
    "          'markdown_frac',\n",
    "          'span',\n",
    "          'top2',\n",
    "          'top2_prob',\n",
    "          'top2_sim',\n",
    "          'top3',\n",
    "          'top3_prob',\n",
    "          'top3_sim',\n",
    "          'top4',\n",
    "          'top4_prob',\n",
    "          'top4_sim',\n",
    "          'top5',\n",
    "          'top5_prob',\n",
    "          'top5_sim',\n",
    "          # 'top6',\n",
    "          # 'top6_prob',\n",
    "          # 'top6_sim',\n",
    "          'ctop_prob', \n",
    "          'ctop2', \n",
    "          'ctop3', \n",
    "          'ctop4', \n",
    "          'ctop2_prob', \n",
    "          'ctop3_prob', \n",
    "          'ctop4_prob',\n",
    "          # 'ctail',\n",
    "          # 'ctail_prob',\n",
    "          'pred_p2',\n",
    "          'cls_pred_p2',\n",
    "          'p2_max_prob',\n",
    "          'p2_top2',\n",
    "          'p2_top2_prob',\n",
    "          # 'p2_top3',\n",
    "          # 'p2_top3_prob',\n",
    "          # 'mean_cls_pred_p2',\n",
    "          'top2s_prob',\n",
    "          'p2_top2s_prob',\n",
    "        ]\n",
    "for key in dic:\n",
    "  reg_cols += [key]\n",
    "# for i in range(FLAGS.num_classes):\n",
    "#   reg_cols += [f'cls_pred{i}']\n",
    "cat_cols = [\n",
    "          \n",
    "            ]\n",
    "label_col = 'rel_rank'\n",
    "cols = reg_cols + cat_cols\n",
    "X_train = dtrain[cols]\n",
    "y_train = dtrain[label_col]\n",
    "X_valid = dvalid[cols]\n",
    "y_valid = dvalid[label_col]"
   ]
  },
  {
   "cell_type": "code",
   "execution_count": 135,
   "metadata": {},
   "outputs": [],
   "source": [
    "from catboost import CatBoostRegressor\n",
    "xgb_params = {'learning_rate': 0.02,\n",
    "              'reg_lambda': 7.960622217848342e-07, \n",
    "              'subsample': 0.7422597612762745,\n",
    "              # 'bagging_temperature': 0.2,\n",
    "              'max_depth': 10, \n",
    "              'early_stopping_rounds': 500,\n",
    "              'n_estimators': 10000,\n",
    "              'cat_features': [],\n",
    "              'loss_function': 'MAE',\n",
    "              }\n",
    "\n",
    "xgb_params2 = {'learning_rate': 0.09827605967564293,'tree_method':'gpu_hist', 'gpu_id':0,\n",
    "               'early_stopping_rounds': 50,\n",
    "               'n_estimators': 10000, }"
   ]
  },
  {
   "cell_type": "code",
   "execution_count": 136,
   "metadata": {},
   "outputs": [
    {
     "name": "stdout",
     "output_type": "stream",
     "text": [
      "0:\tlearn: 0.2544051\ttest: 0.2544051\ttest1: 0.2543314\tbest: 0.2543314 (0)\ttotal: 59.8ms\tremaining: 9m 58s\n",
      "100:\tlearn: 0.0827963\ttest: 0.0827963\ttest1: 0.0844345\tbest: 0.0844345 (100)\ttotal: 4.82s\tremaining: 7m 52s\n",
      "200:\tlearn: 0.0654684\ttest: 0.0654684\ttest1: 0.0676945\tbest: 0.0676945 (200)\ttotal: 9.52s\tremaining: 7m 43s\n",
      "300:\tlearn: 0.0633372\ttest: 0.0633372\ttest1: 0.0658133\tbest: 0.0658133 (300)\ttotal: 14.3s\tremaining: 7m 39s\n",
      "400:\tlearn: 0.0624167\ttest: 0.0624167\ttest1: 0.0651437\tbest: 0.0651437 (400)\ttotal: 19s\tremaining: 7m 33s\n",
      "500:\tlearn: 0.0615864\ttest: 0.0615864\ttest1: 0.0646361\tbest: 0.0646361 (500)\ttotal: 23.7s\tremaining: 7m 29s\n",
      "600:\tlearn: 0.0609125\ttest: 0.0609125\ttest1: 0.0642757\tbest: 0.0642757 (600)\ttotal: 28.5s\tremaining: 7m 25s\n",
      "700:\tlearn: 0.0603534\ttest: 0.0603534\ttest1: 0.0640006\tbest: 0.0640006 (700)\ttotal: 33.3s\tremaining: 7m 21s\n",
      "800:\tlearn: 0.0598212\ttest: 0.0598212\ttest1: 0.0637644\tbest: 0.0637644 (800)\ttotal: 38s\tremaining: 7m 16s\n",
      "900:\tlearn: 0.0593117\ttest: 0.0593117\ttest1: 0.0635804\tbest: 0.0635804 (900)\ttotal: 42.8s\tremaining: 7m 12s\n",
      "1000:\tlearn: 0.0589071\ttest: 0.0589071\ttest1: 0.0634474\tbest: 0.0634474 (1000)\ttotal: 47.5s\tremaining: 7m 6s\n",
      "1100:\tlearn: 0.0585095\ttest: 0.0585095\ttest1: 0.0633261\tbest: 0.0633259 (1099)\ttotal: 52.3s\tremaining: 7m 2s\n",
      "1200:\tlearn: 0.0581878\ttest: 0.0581878\ttest1: 0.0632500\tbest: 0.0632500 (1200)\ttotal: 56.9s\tremaining: 6m 57s\n",
      "1300:\tlearn: 0.0578379\ttest: 0.0578379\ttest1: 0.0631727\tbest: 0.0631727 (1300)\ttotal: 1m 1s\tremaining: 6m 52s\n",
      "1400:\tlearn: 0.0575403\ttest: 0.0575403\ttest1: 0.0631243\tbest: 0.0631239 (1399)\ttotal: 1m 6s\tremaining: 6m 47s\n",
      "1500:\tlearn: 0.0572560\ttest: 0.0572560\ttest1: 0.0630727\tbest: 0.0630726 (1499)\ttotal: 1m 11s\tremaining: 6m 42s\n",
      "1600:\tlearn: 0.0569486\ttest: 0.0569486\ttest1: 0.0630264\tbest: 0.0630264 (1600)\ttotal: 1m 15s\tremaining: 6m 37s\n",
      "1700:\tlearn: 0.0566785\ttest: 0.0566785\ttest1: 0.0630053\tbest: 0.0630053 (1700)\ttotal: 1m 20s\tremaining: 6m 32s\n",
      "1800:\tlearn: 0.0563972\ttest: 0.0563972\ttest1: 0.0629666\tbest: 0.0629666 (1800)\ttotal: 1m 25s\tremaining: 6m 28s\n",
      "1900:\tlearn: 0.0561735\ttest: 0.0561735\ttest1: 0.0629436\tbest: 0.0629436 (1900)\ttotal: 1m 30s\tremaining: 6m 23s\n",
      "2000:\tlearn: 0.0559346\ttest: 0.0559346\ttest1: 0.0629352\tbest: 0.0629350 (1997)\ttotal: 1m 34s\tremaining: 6m 19s\n",
      "2100:\tlearn: 0.0557410\ttest: 0.0557410\ttest1: 0.0629418\tbest: 0.0629314 (2034)\ttotal: 1m 39s\tremaining: 6m 14s\n",
      "2200:\tlearn: 0.0555423\ttest: 0.0555423\ttest1: 0.0629283\tbest: 0.0629283 (2200)\ttotal: 1m 44s\tremaining: 6m 9s\n",
      "2300:\tlearn: 0.0553408\ttest: 0.0553408\ttest1: 0.0629278\tbest: 0.0629257 (2213)\ttotal: 1m 49s\tremaining: 6m 5s\n",
      "2400:\tlearn: 0.0551431\ttest: 0.0551431\ttest1: 0.0629256\tbest: 0.0629243 (2399)\ttotal: 1m 53s\tremaining: 6m\n",
      "2500:\tlearn: 0.0549322\ttest: 0.0549322\ttest1: 0.0629273\tbest: 0.0629218 (2416)\ttotal: 1m 58s\tremaining: 5m 55s\n",
      "2600:\tlearn: 0.0547737\ttest: 0.0547737\ttest1: 0.0629463\tbest: 0.0629218 (2416)\ttotal: 2m 3s\tremaining: 5m 51s\n",
      "2700:\tlearn: 0.0545782\ttest: 0.0545782\ttest1: 0.0629571\tbest: 0.0629218 (2416)\ttotal: 2m 8s\tremaining: 5m 46s\n",
      "2800:\tlearn: 0.0544158\ttest: 0.0544158\ttest1: 0.0629650\tbest: 0.0629218 (2416)\ttotal: 2m 12s\tremaining: 5m 41s\n",
      "2900:\tlearn: 0.0542342\ttest: 0.0542342\ttest1: 0.0629783\tbest: 0.0629218 (2416)\ttotal: 2m 17s\tremaining: 5m 36s\n",
      "Stopped by overfitting detector  (500 iterations wait)\n",
      "\n",
      "bestTest = 0.06292180063\n",
      "bestIteration = 2416\n",
      "\n",
      "Shrink model to first 2417 iterations.\n"
     ]
    },
    {
     "data": {
      "text/plain": [
       "<catboost.core.CatBoostRegressor at 0x7f99e8f31ed0>"
      ]
     },
     "execution_count": 136,
     "metadata": {},
     "output_type": "execute_result"
    }
   ],
   "source": [
    "model = CatBoostRegressor(**xgb_params)\n",
    "model.fit(X_train, y_train,\n",
    "          eval_set=[(X_train, y_train), (X_valid, y_valid)],\n",
    "                verbose=100,\n",
    "                )  "
   ]
  },
  {
   "cell_type": "code",
   "execution_count": 137,
   "metadata": {},
   "outputs": [],
   "source": [
    "dvalid['cb_pred'] = model.predict(dvalid[cols])"
   ]
  },
  {
   "cell_type": "code",
   "execution_count": 138,
   "metadata": {},
   "outputs": [
    {
     "name": "stderr",
     "output_type": "stream",
     "text": [
      "[07/25/22 08:29:28] 2876217204.py:1 in <module>\n",
      "                    calc_metric({'id': dvalid.id.values, 'cell_id': dvalid.cell_id.values, 'pred': dvalid.cb_pred.values}): 0.9122073807841654\n"
     ]
    },
    {
     "data": {
      "text/plain": [
       "0.9122073807841654"
      ]
     },
     "execution_count": 138,
     "metadata": {},
     "output_type": "execute_result"
    }
   ],
   "source": [
    "ic(calc_metric({'id': dvalid.id.values, 'cell_id': dvalid.cell_id.values, 'pred': dvalid.cb_pred.values}))"
   ]
  },
  {
   "cell_type": "code",
   "execution_count": 139,
   "metadata": {},
   "outputs": [
    {
     "name": "stdout",
     "output_type": "stream",
     "text": [
      "[LightGBM] [Warning] Auto-choosing col-wise multi-threading, the overhead of testing was 0.023248 seconds.\n",
      "You can set `force_col_wise=true` to remove the overhead.\n",
      "[LightGBM] [Info] Total Bins 14364\n",
      "[LightGBM] [Info] Number of data points in the train set: 342411, number of used features: 58\n",
      "[LightGBM] [Info] Start training from score 0.455056\n",
      "Training until validation scores don't improve for 500 rounds\n",
      "[100]\ttraining's l1: 0.0719021\tvalid_1's l1: 0.0733799\n",
      "[200]\ttraining's l1: 0.0648248\tvalid_1's l1: 0.0665069\n",
      "[300]\ttraining's l1: 0.0634809\tvalid_1's l1: 0.0652874\n",
      "[400]\ttraining's l1: 0.0625362\tvalid_1's l1: 0.0644406\n",
      "[500]\ttraining's l1: 0.0620676\tvalid_1's l1: 0.064046\n",
      "[600]\ttraining's l1: 0.0617227\tvalid_1's l1: 0.0637695\n",
      "[700]\ttraining's l1: 0.0615237\tvalid_1's l1: 0.0636183\n",
      "[800]\ttraining's l1: 0.0613164\tvalid_1's l1: 0.0634625\n",
      "[900]\ttraining's l1: 0.0611465\tvalid_1's l1: 0.0633448\n",
      "[1000]\ttraining's l1: 0.0609797\tvalid_1's l1: 0.063227\n",
      "[1100]\ttraining's l1: 0.0608486\tvalid_1's l1: 0.0631486\n",
      "[1200]\ttraining's l1: 0.0607277\tvalid_1's l1: 0.0630633\n",
      "[1300]\ttraining's l1: 0.0606559\tvalid_1's l1: 0.0630216\n",
      "[1400]\ttraining's l1: 0.0605403\tvalid_1's l1: 0.0629621\n",
      "[1500]\ttraining's l1: 0.0604495\tvalid_1's l1: 0.0629189\n",
      "[1600]\ttraining's l1: 0.060389\tvalid_1's l1: 0.0628961\n",
      "[1700]\ttraining's l1: 0.0603203\tvalid_1's l1: 0.0628652\n",
      "[1800]\ttraining's l1: 0.0602566\tvalid_1's l1: 0.0628391\n",
      "[1900]\ttraining's l1: 0.0601835\tvalid_1's l1: 0.0628036\n",
      "[2000]\ttraining's l1: 0.0601116\tvalid_1's l1: 0.0627715\n",
      "[2100]\ttraining's l1: 0.060043\tvalid_1's l1: 0.0627441\n",
      "[2200]\ttraining's l1: 0.0599708\tvalid_1's l1: 0.062717\n",
      "[2300]\ttraining's l1: 0.0599198\tvalid_1's l1: 0.0626941\n",
      "[2400]\ttraining's l1: 0.0598777\tvalid_1's l1: 0.0626809\n",
      "[2500]\ttraining's l1: 0.059842\tvalid_1's l1: 0.0626656\n",
      "[2600]\ttraining's l1: 0.0598073\tvalid_1's l1: 0.0626549\n",
      "[2700]\ttraining's l1: 0.0597756\tvalid_1's l1: 0.062647\n",
      "[2800]\ttraining's l1: 0.0597306\tvalid_1's l1: 0.062629\n",
      "[2900]\ttraining's l1: 0.0596982\tvalid_1's l1: 0.062622\n",
      "[3000]\ttraining's l1: 0.0596648\tvalid_1's l1: 0.0626178\n",
      "[3100]\ttraining's l1: 0.0596258\tvalid_1's l1: 0.0626046\n",
      "[3200]\ttraining's l1: 0.0595891\tvalid_1's l1: 0.0625934\n",
      "[3300]\ttraining's l1: 0.059546\tvalid_1's l1: 0.0625805\n",
      "[3400]\ttraining's l1: 0.0595091\tvalid_1's l1: 0.0625684\n",
      "[3500]\ttraining's l1: 0.0594767\tvalid_1's l1: 0.0625576\n",
      "[3600]\ttraining's l1: 0.0594489\tvalid_1's l1: 0.0625538\n",
      "[3700]\ttraining's l1: 0.0594165\tvalid_1's l1: 0.0625436\n",
      "[3800]\ttraining's l1: 0.0593879\tvalid_1's l1: 0.0625349\n",
      "[3900]\ttraining's l1: 0.0593573\tvalid_1's l1: 0.0625254\n",
      "[4000]\ttraining's l1: 0.0593294\tvalid_1's l1: 0.0625232\n",
      "[4100]\ttraining's l1: 0.0592787\tvalid_1's l1: 0.0625103\n",
      "[4200]\ttraining's l1: 0.0592456\tvalid_1's l1: 0.0625013\n",
      "[4300]\ttraining's l1: 0.0592086\tvalid_1's l1: 0.0624923\n",
      "[4400]\ttraining's l1: 0.0591869\tvalid_1's l1: 0.0624855\n",
      "[4500]\ttraining's l1: 0.0591418\tvalid_1's l1: 0.062475\n",
      "[4600]\ttraining's l1: 0.0591107\tvalid_1's l1: 0.0624666\n",
      "[4700]\ttraining's l1: 0.059089\tvalid_1's l1: 0.0624634\n",
      "[4800]\ttraining's l1: 0.0590442\tvalid_1's l1: 0.0624503\n",
      "[4900]\ttraining's l1: 0.0590146\tvalid_1's l1: 0.0624427\n",
      "[5000]\ttraining's l1: 0.0589793\tvalid_1's l1: 0.0624352\n",
      "[5100]\ttraining's l1: 0.0589501\tvalid_1's l1: 0.0624272\n",
      "[5200]\ttraining's l1: 0.0589279\tvalid_1's l1: 0.0624216\n",
      "[5300]\ttraining's l1: 0.0588931\tvalid_1's l1: 0.0624095\n",
      "[5400]\ttraining's l1: 0.0588447\tvalid_1's l1: 0.0623999\n",
      "[5500]\ttraining's l1: 0.0588026\tvalid_1's l1: 0.0623921\n",
      "[5600]\ttraining's l1: 0.0587749\tvalid_1's l1: 0.0623858\n",
      "[5700]\ttraining's l1: 0.0587395\tvalid_1's l1: 0.062378\n",
      "[5800]\ttraining's l1: 0.0587076\tvalid_1's l1: 0.0623722\n",
      "[5900]\ttraining's l1: 0.058679\tvalid_1's l1: 0.0623669\n",
      "[6000]\ttraining's l1: 0.0586596\tvalid_1's l1: 0.062365\n",
      "[6100]\ttraining's l1: 0.0586419\tvalid_1's l1: 0.0623615\n",
      "[6200]\ttraining's l1: 0.0586128\tvalid_1's l1: 0.0623519\n",
      "[6300]\ttraining's l1: 0.0585904\tvalid_1's l1: 0.0623455\n",
      "[6400]\ttraining's l1: 0.0585375\tvalid_1's l1: 0.0623323\n",
      "[6500]\ttraining's l1: 0.0585118\tvalid_1's l1: 0.0623291\n",
      "[6600]\ttraining's l1: 0.0584966\tvalid_1's l1: 0.0623284\n",
      "[6700]\ttraining's l1: 0.0584607\tvalid_1's l1: 0.0623247\n",
      "[6800]\ttraining's l1: 0.0584446\tvalid_1's l1: 0.0623229\n",
      "[6900]\ttraining's l1: 0.0584243\tvalid_1's l1: 0.0623142\n",
      "[7000]\ttraining's l1: 0.0584023\tvalid_1's l1: 0.0623107\n",
      "[7100]\ttraining's l1: 0.0583804\tvalid_1's l1: 0.062309\n",
      "[7200]\ttraining's l1: 0.0583661\tvalid_1's l1: 0.0623081\n",
      "[7300]\ttraining's l1: 0.0583396\tvalid_1's l1: 0.0623017\n",
      "[7400]\ttraining's l1: 0.0583214\tvalid_1's l1: 0.0622996\n",
      "[7500]\ttraining's l1: 0.0583028\tvalid_1's l1: 0.0622946\n",
      "[7600]\ttraining's l1: 0.0582739\tvalid_1's l1: 0.0622866\n",
      "[7700]\ttraining's l1: 0.0582516\tvalid_1's l1: 0.0622844\n",
      "[7800]\ttraining's l1: 0.0582294\tvalid_1's l1: 0.0622849\n",
      "[7900]\ttraining's l1: 0.0582044\tvalid_1's l1: 0.0622823\n",
      "[8000]\ttraining's l1: 0.0581795\tvalid_1's l1: 0.0622779\n",
      "[8100]\ttraining's l1: 0.0581444\tvalid_1's l1: 0.0622681\n",
      "[8200]\ttraining's l1: 0.0581204\tvalid_1's l1: 0.0622693\n",
      "[8300]\ttraining's l1: 0.0581011\tvalid_1's l1: 0.0622643\n",
      "[8400]\ttraining's l1: 0.0580862\tvalid_1's l1: 0.0622622\n",
      "[8500]\ttraining's l1: 0.0580645\tvalid_1's l1: 0.0622601\n",
      "[8600]\ttraining's l1: 0.0580518\tvalid_1's l1: 0.0622564\n",
      "[8700]\ttraining's l1: 0.0580321\tvalid_1's l1: 0.0622516\n",
      "[8800]\ttraining's l1: 0.0580151\tvalid_1's l1: 0.0622511\n",
      "[8900]\ttraining's l1: 0.0580033\tvalid_1's l1: 0.0622501\n",
      "[9000]\ttraining's l1: 0.0579923\tvalid_1's l1: 0.0622498\n",
      "[9100]\ttraining's l1: 0.057983\tvalid_1's l1: 0.0622468\n",
      "[9200]\ttraining's l1: 0.0579695\tvalid_1's l1: 0.062244\n",
      "[9300]\ttraining's l1: 0.0579586\tvalid_1's l1: 0.0622434\n",
      "[9400]\ttraining's l1: 0.0579444\tvalid_1's l1: 0.0622416\n",
      "[9500]\ttraining's l1: 0.0579312\tvalid_1's l1: 0.0622384\n",
      "[9600]\ttraining's l1: 0.0579136\tvalid_1's l1: 0.0622368\n",
      "[9700]\ttraining's l1: 0.057893\tvalid_1's l1: 0.0622364\n",
      "[9800]\ttraining's l1: 0.0578776\tvalid_1's l1: 0.0622359\n",
      "[9900]\ttraining's l1: 0.0578569\tvalid_1's l1: 0.062233\n",
      "[10000]\ttraining's l1: 0.0578333\tvalid_1's l1: 0.0622292\n",
      "[10100]\ttraining's l1: 0.0578239\tvalid_1's l1: 0.0622283\n",
      "[10200]\ttraining's l1: 0.05781\tvalid_1's l1: 0.0622254\n",
      "[10300]\ttraining's l1: 0.0577982\tvalid_1's l1: 0.0622252\n",
      "[10400]\ttraining's l1: 0.0577804\tvalid_1's l1: 0.0622241\n",
      "[10500]\ttraining's l1: 0.0577515\tvalid_1's l1: 0.0622167\n",
      "[10600]\ttraining's l1: 0.0577381\tvalid_1's l1: 0.0622144\n",
      "[10700]\ttraining's l1: 0.057729\tvalid_1's l1: 0.0622132\n",
      "[10800]\ttraining's l1: 0.0577168\tvalid_1's l1: 0.0622121\n",
      "[10900]\ttraining's l1: 0.0576952\tvalid_1's l1: 0.0622124\n",
      "[11000]\ttraining's l1: 0.0576729\tvalid_1's l1: 0.0622121\n",
      "[11100]\ttraining's l1: 0.0576578\tvalid_1's l1: 0.0622111\n",
      "[11200]\ttraining's l1: 0.0576481\tvalid_1's l1: 0.0622102\n",
      "[11300]\ttraining's l1: 0.0576386\tvalid_1's l1: 0.0622091\n",
      "[11400]\ttraining's l1: 0.0576268\tvalid_1's l1: 0.0622082\n",
      "[11500]\ttraining's l1: 0.0576116\tvalid_1's l1: 0.0622059\n",
      "[11600]\ttraining's l1: 0.0575895\tvalid_1's l1: 0.0622038\n",
      "[11700]\ttraining's l1: 0.0575733\tvalid_1's l1: 0.0622027\n",
      "[11800]\ttraining's l1: 0.057562\tvalid_1's l1: 0.0622003\n",
      "[11900]\ttraining's l1: 0.0575375\tvalid_1's l1: 0.0621999\n",
      "[12000]\ttraining's l1: 0.0575218\tvalid_1's l1: 0.0621998\n",
      "[12100]\ttraining's l1: 0.0574984\tvalid_1's l1: 0.0621975\n",
      "[12200]\ttraining's l1: 0.0574883\tvalid_1's l1: 0.0621958\n",
      "[12300]\ttraining's l1: 0.0574818\tvalid_1's l1: 0.0621944\n",
      "[12400]\ttraining's l1: 0.0574672\tvalid_1's l1: 0.0621921\n",
      "[12500]\ttraining's l1: 0.0574535\tvalid_1's l1: 0.0621919\n",
      "[12600]\ttraining's l1: 0.0574364\tvalid_1's l1: 0.0621911\n",
      "[12700]\ttraining's l1: 0.0574231\tvalid_1's l1: 0.0621912\n",
      "[12800]\ttraining's l1: 0.057408\tvalid_1's l1: 0.0621902\n",
      "[12900]\ttraining's l1: 0.057397\tvalid_1's l1: 0.0621888\n",
      "[13000]\ttraining's l1: 0.0573886\tvalid_1's l1: 0.062188\n",
      "[13100]\ttraining's l1: 0.0573741\tvalid_1's l1: 0.0621872\n",
      "[13200]\ttraining's l1: 0.0573604\tvalid_1's l1: 0.062186\n",
      "[13300]\ttraining's l1: 0.0573457\tvalid_1's l1: 0.0621832\n",
      "[13400]\ttraining's l1: 0.0573392\tvalid_1's l1: 0.0621822\n",
      "[13500]\ttraining's l1: 0.0573266\tvalid_1's l1: 0.0621802\n",
      "[13600]\ttraining's l1: 0.0573132\tvalid_1's l1: 0.0621783\n",
      "[13700]\ttraining's l1: 0.0573009\tvalid_1's l1: 0.0621758\n",
      "[13800]\ttraining's l1: 0.057293\tvalid_1's l1: 0.0621759\n",
      "[13900]\ttraining's l1: 0.0572719\tvalid_1's l1: 0.0621721\n",
      "[14000]\ttraining's l1: 0.0572592\tvalid_1's l1: 0.0621712\n",
      "[14100]\ttraining's l1: 0.0572505\tvalid_1's l1: 0.0621724\n",
      "[14200]\ttraining's l1: 0.0572384\tvalid_1's l1: 0.062172\n",
      "[14300]\ttraining's l1: 0.0572289\tvalid_1's l1: 0.0621705\n",
      "[14400]\ttraining's l1: 0.057218\tvalid_1's l1: 0.0621683\n",
      "[14500]\ttraining's l1: 0.0572068\tvalid_1's l1: 0.0621667\n",
      "[14600]\ttraining's l1: 0.0571983\tvalid_1's l1: 0.062166\n",
      "[14700]\ttraining's l1: 0.0571864\tvalid_1's l1: 0.0621646\n",
      "[14800]\ttraining's l1: 0.0571714\tvalid_1's l1: 0.0621613\n",
      "[14900]\ttraining's l1: 0.0571652\tvalid_1's l1: 0.0621614\n",
      "[15000]\ttraining's l1: 0.0571546\tvalid_1's l1: 0.0621603\n",
      "[15100]\ttraining's l1: 0.057144\tvalid_1's l1: 0.0621591\n",
      "[15200]\ttraining's l1: 0.0571371\tvalid_1's l1: 0.0621582\n",
      "[15300]\ttraining's l1: 0.0571315\tvalid_1's l1: 0.0621584\n",
      "[15400]\ttraining's l1: 0.0571209\tvalid_1's l1: 0.0621592\n",
      "[15500]\ttraining's l1: 0.0571119\tvalid_1's l1: 0.0621585\n",
      "[15600]\ttraining's l1: 0.0571023\tvalid_1's l1: 0.0621579\n",
      "[15700]\ttraining's l1: 0.0570985\tvalid_1's l1: 0.0621583\n",
      "[15800]\ttraining's l1: 0.0570943\tvalid_1's l1: 0.0621573\n",
      "[15900]\ttraining's l1: 0.0570899\tvalid_1's l1: 0.062157\n",
      "[16000]\ttraining's l1: 0.0570818\tvalid_1's l1: 0.0621566\n",
      "[16100]\ttraining's l1: 0.057073\tvalid_1's l1: 0.0621573\n",
      "[16200]\ttraining's l1: 0.0570666\tvalid_1's l1: 0.062158\n",
      "[16300]\ttraining's l1: 0.0570577\tvalid_1's l1: 0.0621571\n",
      "[16400]\ttraining's l1: 0.057045\tvalid_1's l1: 0.0621556\n",
      "[16500]\ttraining's l1: 0.0570277\tvalid_1's l1: 0.0621539\n",
      "[16600]\ttraining's l1: 0.057014\tvalid_1's l1: 0.0621523\n",
      "[16700]\ttraining's l1: 0.0570056\tvalid_1's l1: 0.0621533\n",
      "[16800]\ttraining's l1: 0.0569961\tvalid_1's l1: 0.0621523\n",
      "[16900]\ttraining's l1: 0.0569851\tvalid_1's l1: 0.0621495\n",
      "[17000]\ttraining's l1: 0.0569747\tvalid_1's l1: 0.0621489\n",
      "[17100]\ttraining's l1: 0.056967\tvalid_1's l1: 0.0621484\n",
      "[17200]\ttraining's l1: 0.0569577\tvalid_1's l1: 0.0621471\n",
      "[17300]\ttraining's l1: 0.0569477\tvalid_1's l1: 0.0621465\n",
      "[17400]\ttraining's l1: 0.0569416\tvalid_1's l1: 0.062147\n",
      "[17500]\ttraining's l1: 0.0569323\tvalid_1's l1: 0.0621486\n",
      "[17600]\ttraining's l1: 0.0569187\tvalid_1's l1: 0.0621459\n",
      "[17700]\ttraining's l1: 0.0569125\tvalid_1's l1: 0.0621458\n",
      "[17800]\ttraining's l1: 0.0569075\tvalid_1's l1: 0.0621462\n",
      "[17900]\ttraining's l1: 0.0568936\tvalid_1's l1: 0.0621453\n",
      "[18000]\ttraining's l1: 0.0568789\tvalid_1's l1: 0.0621447\n",
      "[18100]\ttraining's l1: 0.0568694\tvalid_1's l1: 0.0621447\n",
      "[18200]\ttraining's l1: 0.0568641\tvalid_1's l1: 0.0621434\n",
      "[18300]\ttraining's l1: 0.0568574\tvalid_1's l1: 0.0621421\n",
      "[18400]\ttraining's l1: 0.0568496\tvalid_1's l1: 0.0621412\n",
      "[18500]\ttraining's l1: 0.0568411\tvalid_1's l1: 0.0621401\n",
      "[18600]\ttraining's l1: 0.0568361\tvalid_1's l1: 0.0621395\n",
      "[18700]\ttraining's l1: 0.0568296\tvalid_1's l1: 0.0621393\n",
      "[18800]\ttraining's l1: 0.0568246\tvalid_1's l1: 0.062139\n",
      "[18900]\ttraining's l1: 0.0568123\tvalid_1's l1: 0.0621394\n",
      "[19000]\ttraining's l1: 0.0568042\tvalid_1's l1: 0.0621391\n",
      "[19100]\ttraining's l1: 0.0567947\tvalid_1's l1: 0.0621396\n",
      "[19200]\ttraining's l1: 0.0567793\tvalid_1's l1: 0.0621388\n",
      "[19300]\ttraining's l1: 0.0567728\tvalid_1's l1: 0.0621393\n",
      "[19400]\ttraining's l1: 0.0567648\tvalid_1's l1: 0.0621397\n",
      "[19500]\ttraining's l1: 0.0567542\tvalid_1's l1: 0.0621397\n",
      "[19600]\ttraining's l1: 0.0567491\tvalid_1's l1: 0.0621394\n",
      "Early stopping, best iteration is:\n",
      "[19148]\ttraining's l1: 0.0567876\tvalid_1's l1: 0.0621383\n"
     ]
    },
    {
     "data": {
      "text/plain": [
       "0.9133472549351369"
      ]
     },
     "execution_count": 139,
     "metadata": {},
     "output_type": "execute_result"
    }
   ],
   "source": [
    "import lightgbm as lgb\n",
    "params = {\n",
    "          'boosting': 'gbdt',\n",
    "          'objective': 'regression_l1',\n",
    "          'metric': {'l1'},\n",
    "          'num_leaves': 32,\n",
    "          'min_data_in_leaf': 300,\n",
    "          # 'max_depth': 10,\n",
    "          'learning_rate': 0.03,\n",
    "          \"feature_fraction\": 0.8,\n",
    "          \"bagging_fraction\": 0.75,\n",
    "          'min_data_in_bin':100,\n",
    "          \"lambda_l1\": 1e-7,\n",
    "          'lambda_l2': 1e-7,\n",
    "          \"random_state\": 1024,\n",
    "          \"num_threads\": 12,\n",
    "          }\n",
    "\n",
    "d_train = lgb.Dataset(X_train, y_train)\n",
    "d_valid = lgb.Dataset(X_valid, y_valid, reference=d_train)\n",
    "\n",
    "bst = lgb.train(params,\n",
    "                d_train,\n",
    "                200000,\n",
    "                valid_sets=[d_train, d_valid],\n",
    "                verbose_eval=100,\n",
    "                early_stopping_rounds=500)\n",
    "dvalid['lgb_pred'] = bst.predict(dvalid[cols])\n",
    "calc_metric({'id': dvalid.id.values, 'cell_id': dvalid.cell_id.values, 'pred': dvalid.lgb_pred.values})"
   ]
  },
  {
   "cell_type": "code",
   "execution_count": 140,
   "metadata": {},
   "outputs": [
    {
     "data": {
      "application/vnd.plotly.v1+json": {
       "config": {
        "plotlyServerURL": "https://plot.ly"
       },
       "data": [
        {
         "alignmentgroup": "True",
         "hovertemplate": "importance=%{x}<br>feat_name=%{y}<extra></extra>",
         "legendgroup": "",
         "marker": {
          "color": "#636efa",
          "pattern": {
           "shape": ""
          }
         },
         "name": "",
         "offsetgroup": "",
         "orientation": "h",
         "showlegend": false,
         "textposition": "auto",
         "type": "bar",
         "x": [
          1.0716440991163192,
          1.0875457993192803,
          1.0952103992382036,
          1.1445789810800104,
          1.203278345782248,
          1.2261624751863824,
          1.2925563212680748,
          1.9767535010061914,
          2.257202631819592,
          2.3922333234429813,
          2.759784676493304,
          3.161133897952616,
          4.103526273027716,
          4.1642203800737585,
          6.5681106894145955,
          6.841162452332898,
          7.237132198093596,
          9.657586031297209,
          9.826441724632279,
          9.975451477646997
         ],
         "xaxis": "x",
         "y": [
          "max_prob",
          "p_trend0",
          "pred_diff11",
          "top4_prob",
          "p2_top2_prob",
          "top2s_prob",
          "pred_diff13",
          "p2_max_prob",
          "p_trend3",
          "p_trend6",
          "top2",
          "cls2_pred",
          "pred_p",
          "p2_top2",
          "cls_pred_c",
          "cls_pred_p",
          "reg_pred",
          "pred_p2",
          "cls_pred_p2",
          "pred_c"
         ],
         "yaxis": "y"
        }
       ],
       "layout": {
        "barmode": "relative",
        "legend": {
         "tracegroupgap": 0
        },
        "margin": {
         "t": 60
        },
        "template": {
         "data": {
          "bar": [
           {
            "error_x": {
             "color": "#2a3f5f"
            },
            "error_y": {
             "color": "#2a3f5f"
            },
            "marker": {
             "line": {
              "color": "#E5ECF6",
              "width": 0.5
             },
             "pattern": {
              "fillmode": "overlay",
              "size": 10,
              "solidity": 0.2
             }
            },
            "type": "bar"
           }
          ],
          "barpolar": [
           {
            "marker": {
             "line": {
              "color": "#E5ECF6",
              "width": 0.5
             },
             "pattern": {
              "fillmode": "overlay",
              "size": 10,
              "solidity": 0.2
             }
            },
            "type": "barpolar"
           }
          ],
          "carpet": [
           {
            "aaxis": {
             "endlinecolor": "#2a3f5f",
             "gridcolor": "white",
             "linecolor": "white",
             "minorgridcolor": "white",
             "startlinecolor": "#2a3f5f"
            },
            "baxis": {
             "endlinecolor": "#2a3f5f",
             "gridcolor": "white",
             "linecolor": "white",
             "minorgridcolor": "white",
             "startlinecolor": "#2a3f5f"
            },
            "type": "carpet"
           }
          ],
          "choropleth": [
           {
            "colorbar": {
             "outlinewidth": 0,
             "ticks": ""
            },
            "type": "choropleth"
           }
          ],
          "contour": [
           {
            "colorbar": {
             "outlinewidth": 0,
             "ticks": ""
            },
            "colorscale": [
             [
              0,
              "#0d0887"
             ],
             [
              0.1111111111111111,
              "#46039f"
             ],
             [
              0.2222222222222222,
              "#7201a8"
             ],
             [
              0.3333333333333333,
              "#9c179e"
             ],
             [
              0.4444444444444444,
              "#bd3786"
             ],
             [
              0.5555555555555556,
              "#d8576b"
             ],
             [
              0.6666666666666666,
              "#ed7953"
             ],
             [
              0.7777777777777778,
              "#fb9f3a"
             ],
             [
              0.8888888888888888,
              "#fdca26"
             ],
             [
              1,
              "#f0f921"
             ]
            ],
            "type": "contour"
           }
          ],
          "contourcarpet": [
           {
            "colorbar": {
             "outlinewidth": 0,
             "ticks": ""
            },
            "type": "contourcarpet"
           }
          ],
          "heatmap": [
           {
            "colorbar": {
             "outlinewidth": 0,
             "ticks": ""
            },
            "colorscale": [
             [
              0,
              "#0d0887"
             ],
             [
              0.1111111111111111,
              "#46039f"
             ],
             [
              0.2222222222222222,
              "#7201a8"
             ],
             [
              0.3333333333333333,
              "#9c179e"
             ],
             [
              0.4444444444444444,
              "#bd3786"
             ],
             [
              0.5555555555555556,
              "#d8576b"
             ],
             [
              0.6666666666666666,
              "#ed7953"
             ],
             [
              0.7777777777777778,
              "#fb9f3a"
             ],
             [
              0.8888888888888888,
              "#fdca26"
             ],
             [
              1,
              "#f0f921"
             ]
            ],
            "type": "heatmap"
           }
          ],
          "heatmapgl": [
           {
            "colorbar": {
             "outlinewidth": 0,
             "ticks": ""
            },
            "colorscale": [
             [
              0,
              "#0d0887"
             ],
             [
              0.1111111111111111,
              "#46039f"
             ],
             [
              0.2222222222222222,
              "#7201a8"
             ],
             [
              0.3333333333333333,
              "#9c179e"
             ],
             [
              0.4444444444444444,
              "#bd3786"
             ],
             [
              0.5555555555555556,
              "#d8576b"
             ],
             [
              0.6666666666666666,
              "#ed7953"
             ],
             [
              0.7777777777777778,
              "#fb9f3a"
             ],
             [
              0.8888888888888888,
              "#fdca26"
             ],
             [
              1,
              "#f0f921"
             ]
            ],
            "type": "heatmapgl"
           }
          ],
          "histogram": [
           {
            "marker": {
             "pattern": {
              "fillmode": "overlay",
              "size": 10,
              "solidity": 0.2
             }
            },
            "type": "histogram"
           }
          ],
          "histogram2d": [
           {
            "colorbar": {
             "outlinewidth": 0,
             "ticks": ""
            },
            "colorscale": [
             [
              0,
              "#0d0887"
             ],
             [
              0.1111111111111111,
              "#46039f"
             ],
             [
              0.2222222222222222,
              "#7201a8"
             ],
             [
              0.3333333333333333,
              "#9c179e"
             ],
             [
              0.4444444444444444,
              "#bd3786"
             ],
             [
              0.5555555555555556,
              "#d8576b"
             ],
             [
              0.6666666666666666,
              "#ed7953"
             ],
             [
              0.7777777777777778,
              "#fb9f3a"
             ],
             [
              0.8888888888888888,
              "#fdca26"
             ],
             [
              1,
              "#f0f921"
             ]
            ],
            "type": "histogram2d"
           }
          ],
          "histogram2dcontour": [
           {
            "colorbar": {
             "outlinewidth": 0,
             "ticks": ""
            },
            "colorscale": [
             [
              0,
              "#0d0887"
             ],
             [
              0.1111111111111111,
              "#46039f"
             ],
             [
              0.2222222222222222,
              "#7201a8"
             ],
             [
              0.3333333333333333,
              "#9c179e"
             ],
             [
              0.4444444444444444,
              "#bd3786"
             ],
             [
              0.5555555555555556,
              "#d8576b"
             ],
             [
              0.6666666666666666,
              "#ed7953"
             ],
             [
              0.7777777777777778,
              "#fb9f3a"
             ],
             [
              0.8888888888888888,
              "#fdca26"
             ],
             [
              1,
              "#f0f921"
             ]
            ],
            "type": "histogram2dcontour"
           }
          ],
          "mesh3d": [
           {
            "colorbar": {
             "outlinewidth": 0,
             "ticks": ""
            },
            "type": "mesh3d"
           }
          ],
          "parcoords": [
           {
            "line": {
             "colorbar": {
              "outlinewidth": 0,
              "ticks": ""
             }
            },
            "type": "parcoords"
           }
          ],
          "pie": [
           {
            "automargin": true,
            "type": "pie"
           }
          ],
          "scatter": [
           {
            "marker": {
             "colorbar": {
              "outlinewidth": 0,
              "ticks": ""
             }
            },
            "type": "scatter"
           }
          ],
          "scatter3d": [
           {
            "line": {
             "colorbar": {
              "outlinewidth": 0,
              "ticks": ""
             }
            },
            "marker": {
             "colorbar": {
              "outlinewidth": 0,
              "ticks": ""
             }
            },
            "type": "scatter3d"
           }
          ],
          "scattercarpet": [
           {
            "marker": {
             "colorbar": {
              "outlinewidth": 0,
              "ticks": ""
             }
            },
            "type": "scattercarpet"
           }
          ],
          "scattergeo": [
           {
            "marker": {
             "colorbar": {
              "outlinewidth": 0,
              "ticks": ""
             }
            },
            "type": "scattergeo"
           }
          ],
          "scattergl": [
           {
            "marker": {
             "colorbar": {
              "outlinewidth": 0,
              "ticks": ""
             }
            },
            "type": "scattergl"
           }
          ],
          "scattermapbox": [
           {
            "marker": {
             "colorbar": {
              "outlinewidth": 0,
              "ticks": ""
             }
            },
            "type": "scattermapbox"
           }
          ],
          "scatterpolar": [
           {
            "marker": {
             "colorbar": {
              "outlinewidth": 0,
              "ticks": ""
             }
            },
            "type": "scatterpolar"
           }
          ],
          "scatterpolargl": [
           {
            "marker": {
             "colorbar": {
              "outlinewidth": 0,
              "ticks": ""
             }
            },
            "type": "scatterpolargl"
           }
          ],
          "scatterternary": [
           {
            "marker": {
             "colorbar": {
              "outlinewidth": 0,
              "ticks": ""
             }
            },
            "type": "scatterternary"
           }
          ],
          "surface": [
           {
            "colorbar": {
             "outlinewidth": 0,
             "ticks": ""
            },
            "colorscale": [
             [
              0,
              "#0d0887"
             ],
             [
              0.1111111111111111,
              "#46039f"
             ],
             [
              0.2222222222222222,
              "#7201a8"
             ],
             [
              0.3333333333333333,
              "#9c179e"
             ],
             [
              0.4444444444444444,
              "#bd3786"
             ],
             [
              0.5555555555555556,
              "#d8576b"
             ],
             [
              0.6666666666666666,
              "#ed7953"
             ],
             [
              0.7777777777777778,
              "#fb9f3a"
             ],
             [
              0.8888888888888888,
              "#fdca26"
             ],
             [
              1,
              "#f0f921"
             ]
            ],
            "type": "surface"
           }
          ],
          "table": [
           {
            "cells": {
             "fill": {
              "color": "#EBF0F8"
             },
             "line": {
              "color": "white"
             }
            },
            "header": {
             "fill": {
              "color": "#C8D4E3"
             },
             "line": {
              "color": "white"
             }
            },
            "type": "table"
           }
          ]
         },
         "layout": {
          "annotationdefaults": {
           "arrowcolor": "#2a3f5f",
           "arrowhead": 0,
           "arrowwidth": 1
          },
          "autotypenumbers": "strict",
          "coloraxis": {
           "colorbar": {
            "outlinewidth": 0,
            "ticks": ""
           }
          },
          "colorscale": {
           "diverging": [
            [
             0,
             "#8e0152"
            ],
            [
             0.1,
             "#c51b7d"
            ],
            [
             0.2,
             "#de77ae"
            ],
            [
             0.3,
             "#f1b6da"
            ],
            [
             0.4,
             "#fde0ef"
            ],
            [
             0.5,
             "#f7f7f7"
            ],
            [
             0.6,
             "#e6f5d0"
            ],
            [
             0.7,
             "#b8e186"
            ],
            [
             0.8,
             "#7fbc41"
            ],
            [
             0.9,
             "#4d9221"
            ],
            [
             1,
             "#276419"
            ]
           ],
           "sequential": [
            [
             0,
             "#0d0887"
            ],
            [
             0.1111111111111111,
             "#46039f"
            ],
            [
             0.2222222222222222,
             "#7201a8"
            ],
            [
             0.3333333333333333,
             "#9c179e"
            ],
            [
             0.4444444444444444,
             "#bd3786"
            ],
            [
             0.5555555555555556,
             "#d8576b"
            ],
            [
             0.6666666666666666,
             "#ed7953"
            ],
            [
             0.7777777777777778,
             "#fb9f3a"
            ],
            [
             0.8888888888888888,
             "#fdca26"
            ],
            [
             1,
             "#f0f921"
            ]
           ],
           "sequentialminus": [
            [
             0,
             "#0d0887"
            ],
            [
             0.1111111111111111,
             "#46039f"
            ],
            [
             0.2222222222222222,
             "#7201a8"
            ],
            [
             0.3333333333333333,
             "#9c179e"
            ],
            [
             0.4444444444444444,
             "#bd3786"
            ],
            [
             0.5555555555555556,
             "#d8576b"
            ],
            [
             0.6666666666666666,
             "#ed7953"
            ],
            [
             0.7777777777777778,
             "#fb9f3a"
            ],
            [
             0.8888888888888888,
             "#fdca26"
            ],
            [
             1,
             "#f0f921"
            ]
           ]
          },
          "colorway": [
           "#636efa",
           "#EF553B",
           "#00cc96",
           "#ab63fa",
           "#FFA15A",
           "#19d3f3",
           "#FF6692",
           "#B6E880",
           "#FF97FF",
           "#FECB52"
          ],
          "font": {
           "color": "#2a3f5f"
          },
          "geo": {
           "bgcolor": "white",
           "lakecolor": "white",
           "landcolor": "#E5ECF6",
           "showlakes": true,
           "showland": true,
           "subunitcolor": "white"
          },
          "hoverlabel": {
           "align": "left"
          },
          "hovermode": "closest",
          "mapbox": {
           "style": "light"
          },
          "paper_bgcolor": "white",
          "plot_bgcolor": "#E5ECF6",
          "polar": {
           "angularaxis": {
            "gridcolor": "white",
            "linecolor": "white",
            "ticks": ""
           },
           "bgcolor": "#E5ECF6",
           "radialaxis": {
            "gridcolor": "white",
            "linecolor": "white",
            "ticks": ""
           }
          },
          "scene": {
           "xaxis": {
            "backgroundcolor": "#E5ECF6",
            "gridcolor": "white",
            "gridwidth": 2,
            "linecolor": "white",
            "showbackground": true,
            "ticks": "",
            "zerolinecolor": "white"
           },
           "yaxis": {
            "backgroundcolor": "#E5ECF6",
            "gridcolor": "white",
            "gridwidth": 2,
            "linecolor": "white",
            "showbackground": true,
            "ticks": "",
            "zerolinecolor": "white"
           },
           "zaxis": {
            "backgroundcolor": "#E5ECF6",
            "gridcolor": "white",
            "gridwidth": 2,
            "linecolor": "white",
            "showbackground": true,
            "ticks": "",
            "zerolinecolor": "white"
           }
          },
          "shapedefaults": {
           "line": {
            "color": "#2a3f5f"
           }
          },
          "ternary": {
           "aaxis": {
            "gridcolor": "white",
            "linecolor": "white",
            "ticks": ""
           },
           "baxis": {
            "gridcolor": "white",
            "linecolor": "white",
            "ticks": ""
           },
           "bgcolor": "#E5ECF6",
           "caxis": {
            "gridcolor": "white",
            "linecolor": "white",
            "ticks": ""
           }
          },
          "title": {
           "x": 0.05
          },
          "xaxis": {
           "automargin": true,
           "gridcolor": "white",
           "linecolor": "white",
           "ticks": "",
           "title": {
            "standoff": 15
           },
           "zerolinecolor": "white",
           "zerolinewidth": 2
          },
          "yaxis": {
           "automargin": true,
           "gridcolor": "white",
           "linecolor": "white",
           "ticks": "",
           "title": {
            "standoff": 15
           },
           "zerolinecolor": "white",
           "zerolinewidth": 2
          }
         }
        },
        "xaxis": {
         "anchor": "y",
         "domain": [
          0,
          1
         ],
         "title": {
          "text": "importance"
         }
        },
        "yaxis": {
         "anchor": "x",
         "domain": [
          0,
          1
         ],
         "title": {
          "text": "feat_name"
         }
        }
       }
      },
      "text/html": [
       "<div>                            <div id=\"90626b41-8a03-4c2e-9406-2b9b86fa6678\" class=\"plotly-graph-div\" style=\"height:525px; width:100%;\"></div>            <script type=\"text/javascript\">                require([\"plotly\"], function(Plotly) {                    window.PLOTLYENV=window.PLOTLYENV || {};                                    if (document.getElementById(\"90626b41-8a03-4c2e-9406-2b9b86fa6678\")) {                    Plotly.newPlot(                        \"90626b41-8a03-4c2e-9406-2b9b86fa6678\",                        [{\"alignmentgroup\":\"True\",\"hovertemplate\":\"importance=%{x}<br>feat_name=%{y}<extra></extra>\",\"legendgroup\":\"\",\"marker\":{\"color\":\"#636efa\",\"pattern\":{\"shape\":\"\"}},\"name\":\"\",\"offsetgroup\":\"\",\"orientation\":\"h\",\"showlegend\":false,\"textposition\":\"auto\",\"x\":[1.0716440991163192,1.0875457993192803,1.0952103992382036,1.1445789810800104,1.203278345782248,1.2261624751863824,1.2925563212680748,1.9767535010061914,2.257202631819592,2.3922333234429813,2.759784676493304,3.161133897952616,4.103526273027716,4.1642203800737585,6.5681106894145955,6.841162452332898,7.237132198093596,9.657586031297209,9.826441724632279,9.975451477646997],\"xaxis\":\"x\",\"y\":[\"max_prob\",\"p_trend0\",\"pred_diff11\",\"top4_prob\",\"p2_top2_prob\",\"top2s_prob\",\"pred_diff13\",\"p2_max_prob\",\"p_trend3\",\"p_trend6\",\"top2\",\"cls2_pred\",\"pred_p\",\"p2_top2\",\"cls_pred_c\",\"cls_pred_p\",\"reg_pred\",\"pred_p2\",\"cls_pred_p2\",\"pred_c\"],\"yaxis\":\"y\",\"type\":\"bar\"}],                        {\"template\":{\"data\":{\"bar\":[{\"error_x\":{\"color\":\"#2a3f5f\"},\"error_y\":{\"color\":\"#2a3f5f\"},\"marker\":{\"line\":{\"color\":\"#E5ECF6\",\"width\":0.5},\"pattern\":{\"fillmode\":\"overlay\",\"size\":10,\"solidity\":0.2}},\"type\":\"bar\"}],\"barpolar\":[{\"marker\":{\"line\":{\"color\":\"#E5ECF6\",\"width\":0.5},\"pattern\":{\"fillmode\":\"overlay\",\"size\":10,\"solidity\":0.2}},\"type\":\"barpolar\"}],\"carpet\":[{\"aaxis\":{\"endlinecolor\":\"#2a3f5f\",\"gridcolor\":\"white\",\"linecolor\":\"white\",\"minorgridcolor\":\"white\",\"startlinecolor\":\"#2a3f5f\"},\"baxis\":{\"endlinecolor\":\"#2a3f5f\",\"gridcolor\":\"white\",\"linecolor\":\"white\",\"minorgridcolor\":\"white\",\"startlinecolor\":\"#2a3f5f\"},\"type\":\"carpet\"}],\"choropleth\":[{\"colorbar\":{\"outlinewidth\":0,\"ticks\":\"\"},\"type\":\"choropleth\"}],\"contour\":[{\"colorbar\":{\"outlinewidth\":0,\"ticks\":\"\"},\"colorscale\":[[0.0,\"#0d0887\"],[0.1111111111111111,\"#46039f\"],[0.2222222222222222,\"#7201a8\"],[0.3333333333333333,\"#9c179e\"],[0.4444444444444444,\"#bd3786\"],[0.5555555555555556,\"#d8576b\"],[0.6666666666666666,\"#ed7953\"],[0.7777777777777778,\"#fb9f3a\"],[0.8888888888888888,\"#fdca26\"],[1.0,\"#f0f921\"]],\"type\":\"contour\"}],\"contourcarpet\":[{\"colorbar\":{\"outlinewidth\":0,\"ticks\":\"\"},\"type\":\"contourcarpet\"}],\"heatmap\":[{\"colorbar\":{\"outlinewidth\":0,\"ticks\":\"\"},\"colorscale\":[[0.0,\"#0d0887\"],[0.1111111111111111,\"#46039f\"],[0.2222222222222222,\"#7201a8\"],[0.3333333333333333,\"#9c179e\"],[0.4444444444444444,\"#bd3786\"],[0.5555555555555556,\"#d8576b\"],[0.6666666666666666,\"#ed7953\"],[0.7777777777777778,\"#fb9f3a\"],[0.8888888888888888,\"#fdca26\"],[1.0,\"#f0f921\"]],\"type\":\"heatmap\"}],\"heatmapgl\":[{\"colorbar\":{\"outlinewidth\":0,\"ticks\":\"\"},\"colorscale\":[[0.0,\"#0d0887\"],[0.1111111111111111,\"#46039f\"],[0.2222222222222222,\"#7201a8\"],[0.3333333333333333,\"#9c179e\"],[0.4444444444444444,\"#bd3786\"],[0.5555555555555556,\"#d8576b\"],[0.6666666666666666,\"#ed7953\"],[0.7777777777777778,\"#fb9f3a\"],[0.8888888888888888,\"#fdca26\"],[1.0,\"#f0f921\"]],\"type\":\"heatmapgl\"}],\"histogram\":[{\"marker\":{\"pattern\":{\"fillmode\":\"overlay\",\"size\":10,\"solidity\":0.2}},\"type\":\"histogram\"}],\"histogram2d\":[{\"colorbar\":{\"outlinewidth\":0,\"ticks\":\"\"},\"colorscale\":[[0.0,\"#0d0887\"],[0.1111111111111111,\"#46039f\"],[0.2222222222222222,\"#7201a8\"],[0.3333333333333333,\"#9c179e\"],[0.4444444444444444,\"#bd3786\"],[0.5555555555555556,\"#d8576b\"],[0.6666666666666666,\"#ed7953\"],[0.7777777777777778,\"#fb9f3a\"],[0.8888888888888888,\"#fdca26\"],[1.0,\"#f0f921\"]],\"type\":\"histogram2d\"}],\"histogram2dcontour\":[{\"colorbar\":{\"outlinewidth\":0,\"ticks\":\"\"},\"colorscale\":[[0.0,\"#0d0887\"],[0.1111111111111111,\"#46039f\"],[0.2222222222222222,\"#7201a8\"],[0.3333333333333333,\"#9c179e\"],[0.4444444444444444,\"#bd3786\"],[0.5555555555555556,\"#d8576b\"],[0.6666666666666666,\"#ed7953\"],[0.7777777777777778,\"#fb9f3a\"],[0.8888888888888888,\"#fdca26\"],[1.0,\"#f0f921\"]],\"type\":\"histogram2dcontour\"}],\"mesh3d\":[{\"colorbar\":{\"outlinewidth\":0,\"ticks\":\"\"},\"type\":\"mesh3d\"}],\"parcoords\":[{\"line\":{\"colorbar\":{\"outlinewidth\":0,\"ticks\":\"\"}},\"type\":\"parcoords\"}],\"pie\":[{\"automargin\":true,\"type\":\"pie\"}],\"scatter\":[{\"marker\":{\"colorbar\":{\"outlinewidth\":0,\"ticks\":\"\"}},\"type\":\"scatter\"}],\"scatter3d\":[{\"line\":{\"colorbar\":{\"outlinewidth\":0,\"ticks\":\"\"}},\"marker\":{\"colorbar\":{\"outlinewidth\":0,\"ticks\":\"\"}},\"type\":\"scatter3d\"}],\"scattercarpet\":[{\"marker\":{\"colorbar\":{\"outlinewidth\":0,\"ticks\":\"\"}},\"type\":\"scattercarpet\"}],\"scattergeo\":[{\"marker\":{\"colorbar\":{\"outlinewidth\":0,\"ticks\":\"\"}},\"type\":\"scattergeo\"}],\"scattergl\":[{\"marker\":{\"colorbar\":{\"outlinewidth\":0,\"ticks\":\"\"}},\"type\":\"scattergl\"}],\"scattermapbox\":[{\"marker\":{\"colorbar\":{\"outlinewidth\":0,\"ticks\":\"\"}},\"type\":\"scattermapbox\"}],\"scatterpolar\":[{\"marker\":{\"colorbar\":{\"outlinewidth\":0,\"ticks\":\"\"}},\"type\":\"scatterpolar\"}],\"scatterpolargl\":[{\"marker\":{\"colorbar\":{\"outlinewidth\":0,\"ticks\":\"\"}},\"type\":\"scatterpolargl\"}],\"scatterternary\":[{\"marker\":{\"colorbar\":{\"outlinewidth\":0,\"ticks\":\"\"}},\"type\":\"scatterternary\"}],\"surface\":[{\"colorbar\":{\"outlinewidth\":0,\"ticks\":\"\"},\"colorscale\":[[0.0,\"#0d0887\"],[0.1111111111111111,\"#46039f\"],[0.2222222222222222,\"#7201a8\"],[0.3333333333333333,\"#9c179e\"],[0.4444444444444444,\"#bd3786\"],[0.5555555555555556,\"#d8576b\"],[0.6666666666666666,\"#ed7953\"],[0.7777777777777778,\"#fb9f3a\"],[0.8888888888888888,\"#fdca26\"],[1.0,\"#f0f921\"]],\"type\":\"surface\"}],\"table\":[{\"cells\":{\"fill\":{\"color\":\"#EBF0F8\"},\"line\":{\"color\":\"white\"}},\"header\":{\"fill\":{\"color\":\"#C8D4E3\"},\"line\":{\"color\":\"white\"}},\"type\":\"table\"}]},\"layout\":{\"annotationdefaults\":{\"arrowcolor\":\"#2a3f5f\",\"arrowhead\":0,\"arrowwidth\":1},\"autotypenumbers\":\"strict\",\"coloraxis\":{\"colorbar\":{\"outlinewidth\":0,\"ticks\":\"\"}},\"colorscale\":{\"diverging\":[[0,\"#8e0152\"],[0.1,\"#c51b7d\"],[0.2,\"#de77ae\"],[0.3,\"#f1b6da\"],[0.4,\"#fde0ef\"],[0.5,\"#f7f7f7\"],[0.6,\"#e6f5d0\"],[0.7,\"#b8e186\"],[0.8,\"#7fbc41\"],[0.9,\"#4d9221\"],[1,\"#276419\"]],\"sequential\":[[0.0,\"#0d0887\"],[0.1111111111111111,\"#46039f\"],[0.2222222222222222,\"#7201a8\"],[0.3333333333333333,\"#9c179e\"],[0.4444444444444444,\"#bd3786\"],[0.5555555555555556,\"#d8576b\"],[0.6666666666666666,\"#ed7953\"],[0.7777777777777778,\"#fb9f3a\"],[0.8888888888888888,\"#fdca26\"],[1.0,\"#f0f921\"]],\"sequentialminus\":[[0.0,\"#0d0887\"],[0.1111111111111111,\"#46039f\"],[0.2222222222222222,\"#7201a8\"],[0.3333333333333333,\"#9c179e\"],[0.4444444444444444,\"#bd3786\"],[0.5555555555555556,\"#d8576b\"],[0.6666666666666666,\"#ed7953\"],[0.7777777777777778,\"#fb9f3a\"],[0.8888888888888888,\"#fdca26\"],[1.0,\"#f0f921\"]]},\"colorway\":[\"#636efa\",\"#EF553B\",\"#00cc96\",\"#ab63fa\",\"#FFA15A\",\"#19d3f3\",\"#FF6692\",\"#B6E880\",\"#FF97FF\",\"#FECB52\"],\"font\":{\"color\":\"#2a3f5f\"},\"geo\":{\"bgcolor\":\"white\",\"lakecolor\":\"white\",\"landcolor\":\"#E5ECF6\",\"showlakes\":true,\"showland\":true,\"subunitcolor\":\"white\"},\"hoverlabel\":{\"align\":\"left\"},\"hovermode\":\"closest\",\"mapbox\":{\"style\":\"light\"},\"paper_bgcolor\":\"white\",\"plot_bgcolor\":\"#E5ECF6\",\"polar\":{\"angularaxis\":{\"gridcolor\":\"white\",\"linecolor\":\"white\",\"ticks\":\"\"},\"bgcolor\":\"#E5ECF6\",\"radialaxis\":{\"gridcolor\":\"white\",\"linecolor\":\"white\",\"ticks\":\"\"}},\"scene\":{\"xaxis\":{\"backgroundcolor\":\"#E5ECF6\",\"gridcolor\":\"white\",\"gridwidth\":2,\"linecolor\":\"white\",\"showbackground\":true,\"ticks\":\"\",\"zerolinecolor\":\"white\"},\"yaxis\":{\"backgroundcolor\":\"#E5ECF6\",\"gridcolor\":\"white\",\"gridwidth\":2,\"linecolor\":\"white\",\"showbackground\":true,\"ticks\":\"\",\"zerolinecolor\":\"white\"},\"zaxis\":{\"backgroundcolor\":\"#E5ECF6\",\"gridcolor\":\"white\",\"gridwidth\":2,\"linecolor\":\"white\",\"showbackground\":true,\"ticks\":\"\",\"zerolinecolor\":\"white\"}},\"shapedefaults\":{\"line\":{\"color\":\"#2a3f5f\"}},\"ternary\":{\"aaxis\":{\"gridcolor\":\"white\",\"linecolor\":\"white\",\"ticks\":\"\"},\"baxis\":{\"gridcolor\":\"white\",\"linecolor\":\"white\",\"ticks\":\"\"},\"bgcolor\":\"#E5ECF6\",\"caxis\":{\"gridcolor\":\"white\",\"linecolor\":\"white\",\"ticks\":\"\"}},\"title\":{\"x\":0.05},\"xaxis\":{\"automargin\":true,\"gridcolor\":\"white\",\"linecolor\":\"white\",\"ticks\":\"\",\"title\":{\"standoff\":15},\"zerolinecolor\":\"white\",\"zerolinewidth\":2},\"yaxis\":{\"automargin\":true,\"gridcolor\":\"white\",\"linecolor\":\"white\",\"ticks\":\"\",\"title\":{\"standoff\":15},\"zerolinecolor\":\"white\",\"zerolinewidth\":2}}},\"xaxis\":{\"anchor\":\"y\",\"domain\":[0.0,1.0],\"title\":{\"text\":\"importance\"}},\"yaxis\":{\"anchor\":\"x\",\"domain\":[0.0,1.0],\"title\":{\"text\":\"feat_name\"}},\"legend\":{\"tracegroupgap\":0},\"margin\":{\"t\":60},\"barmode\":\"relative\"},                        {\"responsive\": true}                    ).then(function(){\n",
       "                            \n",
       "var gd = document.getElementById('90626b41-8a03-4c2e-9406-2b9b86fa6678');\n",
       "var x = new MutationObserver(function (mutations, observer) {{\n",
       "        var display = window.getComputedStyle(gd).display;\n",
       "        if (!display || display === 'none') {{\n",
       "            console.log([gd, 'removed!']);\n",
       "            Plotly.purge(gd);\n",
       "            observer.disconnect();\n",
       "        }}\n",
       "}});\n",
       "\n",
       "// Listen for the removal of the full notebook cells\n",
       "var notebookContainer = gd.closest('#notebook-container');\n",
       "if (notebookContainer) {{\n",
       "    x.observe(notebookContainer, {childList: true});\n",
       "}}\n",
       "\n",
       "// Listen for the clearing of the current output cell\n",
       "var outputEl = gd.closest('.output');\n",
       "if (outputEl) {{\n",
       "    x.observe(outputEl, {childList: true});\n",
       "}}\n",
       "\n",
       "                        })                };                });            </script>        </div>"
      ]
     },
     "metadata": {},
     "output_type": "display_data"
    }
   ],
   "source": [
    "gezi.plot.feature_importance(model, topn=20)"
   ]
  },
  {
   "cell_type": "code",
   "execution_count": 141,
   "metadata": {},
   "outputs": [
    {
     "data": {
      "application/vnd.plotly.v1+json": {
       "config": {
        "plotlyServerURL": "https://plot.ly"
       },
       "data": [
        {
         "alignmentgroup": "True",
         "hovertemplate": "importance=%{x}<br>feat_name=%{y}<extra></extra>",
         "legendgroup": "",
         "marker": {
          "color": "#636efa",
          "pattern": {
           "shape": ""
          }
         },
         "name": "",
         "offsetgroup": "",
         "orientation": "h",
         "showlegend": false,
         "textposition": "auto",
         "type": "bar",
         "x": [
          11975,
          12010,
          12143,
          12237,
          12362,
          12404,
          12709,
          12845,
          12855,
          13085,
          13363,
          13375,
          13431,
          13608,
          14303,
          14399,
          14509,
          15156,
          15708,
          15905
         ],
         "xaxis": "x",
         "y": [
          "p_trend4",
          "p2_max_prob",
          "cls_pred_p2",
          "p2_top2_prob",
          "p_trend5",
          "pred_p2",
          "p_trend6",
          "p2_top2s_prob",
          "n_cell",
          "top4",
          "p_trend3",
          "p_trend2",
          "top5",
          "pred_diff3",
          "p2_top2",
          "p_trend1",
          "p_trend0",
          "markdown_frac",
          "max_prob",
          "top2_prob"
         ],
         "yaxis": "y"
        }
       ],
       "layout": {
        "barmode": "relative",
        "legend": {
         "tracegroupgap": 0
        },
        "margin": {
         "t": 60
        },
        "template": {
         "data": {
          "bar": [
           {
            "error_x": {
             "color": "#2a3f5f"
            },
            "error_y": {
             "color": "#2a3f5f"
            },
            "marker": {
             "line": {
              "color": "#E5ECF6",
              "width": 0.5
             },
             "pattern": {
              "fillmode": "overlay",
              "size": 10,
              "solidity": 0.2
             }
            },
            "type": "bar"
           }
          ],
          "barpolar": [
           {
            "marker": {
             "line": {
              "color": "#E5ECF6",
              "width": 0.5
             },
             "pattern": {
              "fillmode": "overlay",
              "size": 10,
              "solidity": 0.2
             }
            },
            "type": "barpolar"
           }
          ],
          "carpet": [
           {
            "aaxis": {
             "endlinecolor": "#2a3f5f",
             "gridcolor": "white",
             "linecolor": "white",
             "minorgridcolor": "white",
             "startlinecolor": "#2a3f5f"
            },
            "baxis": {
             "endlinecolor": "#2a3f5f",
             "gridcolor": "white",
             "linecolor": "white",
             "minorgridcolor": "white",
             "startlinecolor": "#2a3f5f"
            },
            "type": "carpet"
           }
          ],
          "choropleth": [
           {
            "colorbar": {
             "outlinewidth": 0,
             "ticks": ""
            },
            "type": "choropleth"
           }
          ],
          "contour": [
           {
            "colorbar": {
             "outlinewidth": 0,
             "ticks": ""
            },
            "colorscale": [
             [
              0,
              "#0d0887"
             ],
             [
              0.1111111111111111,
              "#46039f"
             ],
             [
              0.2222222222222222,
              "#7201a8"
             ],
             [
              0.3333333333333333,
              "#9c179e"
             ],
             [
              0.4444444444444444,
              "#bd3786"
             ],
             [
              0.5555555555555556,
              "#d8576b"
             ],
             [
              0.6666666666666666,
              "#ed7953"
             ],
             [
              0.7777777777777778,
              "#fb9f3a"
             ],
             [
              0.8888888888888888,
              "#fdca26"
             ],
             [
              1,
              "#f0f921"
             ]
            ],
            "type": "contour"
           }
          ],
          "contourcarpet": [
           {
            "colorbar": {
             "outlinewidth": 0,
             "ticks": ""
            },
            "type": "contourcarpet"
           }
          ],
          "heatmap": [
           {
            "colorbar": {
             "outlinewidth": 0,
             "ticks": ""
            },
            "colorscale": [
             [
              0,
              "#0d0887"
             ],
             [
              0.1111111111111111,
              "#46039f"
             ],
             [
              0.2222222222222222,
              "#7201a8"
             ],
             [
              0.3333333333333333,
              "#9c179e"
             ],
             [
              0.4444444444444444,
              "#bd3786"
             ],
             [
              0.5555555555555556,
              "#d8576b"
             ],
             [
              0.6666666666666666,
              "#ed7953"
             ],
             [
              0.7777777777777778,
              "#fb9f3a"
             ],
             [
              0.8888888888888888,
              "#fdca26"
             ],
             [
              1,
              "#f0f921"
             ]
            ],
            "type": "heatmap"
           }
          ],
          "heatmapgl": [
           {
            "colorbar": {
             "outlinewidth": 0,
             "ticks": ""
            },
            "colorscale": [
             [
              0,
              "#0d0887"
             ],
             [
              0.1111111111111111,
              "#46039f"
             ],
             [
              0.2222222222222222,
              "#7201a8"
             ],
             [
              0.3333333333333333,
              "#9c179e"
             ],
             [
              0.4444444444444444,
              "#bd3786"
             ],
             [
              0.5555555555555556,
              "#d8576b"
             ],
             [
              0.6666666666666666,
              "#ed7953"
             ],
             [
              0.7777777777777778,
              "#fb9f3a"
             ],
             [
              0.8888888888888888,
              "#fdca26"
             ],
             [
              1,
              "#f0f921"
             ]
            ],
            "type": "heatmapgl"
           }
          ],
          "histogram": [
           {
            "marker": {
             "pattern": {
              "fillmode": "overlay",
              "size": 10,
              "solidity": 0.2
             }
            },
            "type": "histogram"
           }
          ],
          "histogram2d": [
           {
            "colorbar": {
             "outlinewidth": 0,
             "ticks": ""
            },
            "colorscale": [
             [
              0,
              "#0d0887"
             ],
             [
              0.1111111111111111,
              "#46039f"
             ],
             [
              0.2222222222222222,
              "#7201a8"
             ],
             [
              0.3333333333333333,
              "#9c179e"
             ],
             [
              0.4444444444444444,
              "#bd3786"
             ],
             [
              0.5555555555555556,
              "#d8576b"
             ],
             [
              0.6666666666666666,
              "#ed7953"
             ],
             [
              0.7777777777777778,
              "#fb9f3a"
             ],
             [
              0.8888888888888888,
              "#fdca26"
             ],
             [
              1,
              "#f0f921"
             ]
            ],
            "type": "histogram2d"
           }
          ],
          "histogram2dcontour": [
           {
            "colorbar": {
             "outlinewidth": 0,
             "ticks": ""
            },
            "colorscale": [
             [
              0,
              "#0d0887"
             ],
             [
              0.1111111111111111,
              "#46039f"
             ],
             [
              0.2222222222222222,
              "#7201a8"
             ],
             [
              0.3333333333333333,
              "#9c179e"
             ],
             [
              0.4444444444444444,
              "#bd3786"
             ],
             [
              0.5555555555555556,
              "#d8576b"
             ],
             [
              0.6666666666666666,
              "#ed7953"
             ],
             [
              0.7777777777777778,
              "#fb9f3a"
             ],
             [
              0.8888888888888888,
              "#fdca26"
             ],
             [
              1,
              "#f0f921"
             ]
            ],
            "type": "histogram2dcontour"
           }
          ],
          "mesh3d": [
           {
            "colorbar": {
             "outlinewidth": 0,
             "ticks": ""
            },
            "type": "mesh3d"
           }
          ],
          "parcoords": [
           {
            "line": {
             "colorbar": {
              "outlinewidth": 0,
              "ticks": ""
             }
            },
            "type": "parcoords"
           }
          ],
          "pie": [
           {
            "automargin": true,
            "type": "pie"
           }
          ],
          "scatter": [
           {
            "marker": {
             "colorbar": {
              "outlinewidth": 0,
              "ticks": ""
             }
            },
            "type": "scatter"
           }
          ],
          "scatter3d": [
           {
            "line": {
             "colorbar": {
              "outlinewidth": 0,
              "ticks": ""
             }
            },
            "marker": {
             "colorbar": {
              "outlinewidth": 0,
              "ticks": ""
             }
            },
            "type": "scatter3d"
           }
          ],
          "scattercarpet": [
           {
            "marker": {
             "colorbar": {
              "outlinewidth": 0,
              "ticks": ""
             }
            },
            "type": "scattercarpet"
           }
          ],
          "scattergeo": [
           {
            "marker": {
             "colorbar": {
              "outlinewidth": 0,
              "ticks": ""
             }
            },
            "type": "scattergeo"
           }
          ],
          "scattergl": [
           {
            "marker": {
             "colorbar": {
              "outlinewidth": 0,
              "ticks": ""
             }
            },
            "type": "scattergl"
           }
          ],
          "scattermapbox": [
           {
            "marker": {
             "colorbar": {
              "outlinewidth": 0,
              "ticks": ""
             }
            },
            "type": "scattermapbox"
           }
          ],
          "scatterpolar": [
           {
            "marker": {
             "colorbar": {
              "outlinewidth": 0,
              "ticks": ""
             }
            },
            "type": "scatterpolar"
           }
          ],
          "scatterpolargl": [
           {
            "marker": {
             "colorbar": {
              "outlinewidth": 0,
              "ticks": ""
             }
            },
            "type": "scatterpolargl"
           }
          ],
          "scatterternary": [
           {
            "marker": {
             "colorbar": {
              "outlinewidth": 0,
              "ticks": ""
             }
            },
            "type": "scatterternary"
           }
          ],
          "surface": [
           {
            "colorbar": {
             "outlinewidth": 0,
             "ticks": ""
            },
            "colorscale": [
             [
              0,
              "#0d0887"
             ],
             [
              0.1111111111111111,
              "#46039f"
             ],
             [
              0.2222222222222222,
              "#7201a8"
             ],
             [
              0.3333333333333333,
              "#9c179e"
             ],
             [
              0.4444444444444444,
              "#bd3786"
             ],
             [
              0.5555555555555556,
              "#d8576b"
             ],
             [
              0.6666666666666666,
              "#ed7953"
             ],
             [
              0.7777777777777778,
              "#fb9f3a"
             ],
             [
              0.8888888888888888,
              "#fdca26"
             ],
             [
              1,
              "#f0f921"
             ]
            ],
            "type": "surface"
           }
          ],
          "table": [
           {
            "cells": {
             "fill": {
              "color": "#EBF0F8"
             },
             "line": {
              "color": "white"
             }
            },
            "header": {
             "fill": {
              "color": "#C8D4E3"
             },
             "line": {
              "color": "white"
             }
            },
            "type": "table"
           }
          ]
         },
         "layout": {
          "annotationdefaults": {
           "arrowcolor": "#2a3f5f",
           "arrowhead": 0,
           "arrowwidth": 1
          },
          "autotypenumbers": "strict",
          "coloraxis": {
           "colorbar": {
            "outlinewidth": 0,
            "ticks": ""
           }
          },
          "colorscale": {
           "diverging": [
            [
             0,
             "#8e0152"
            ],
            [
             0.1,
             "#c51b7d"
            ],
            [
             0.2,
             "#de77ae"
            ],
            [
             0.3,
             "#f1b6da"
            ],
            [
             0.4,
             "#fde0ef"
            ],
            [
             0.5,
             "#f7f7f7"
            ],
            [
             0.6,
             "#e6f5d0"
            ],
            [
             0.7,
             "#b8e186"
            ],
            [
             0.8,
             "#7fbc41"
            ],
            [
             0.9,
             "#4d9221"
            ],
            [
             1,
             "#276419"
            ]
           ],
           "sequential": [
            [
             0,
             "#0d0887"
            ],
            [
             0.1111111111111111,
             "#46039f"
            ],
            [
             0.2222222222222222,
             "#7201a8"
            ],
            [
             0.3333333333333333,
             "#9c179e"
            ],
            [
             0.4444444444444444,
             "#bd3786"
            ],
            [
             0.5555555555555556,
             "#d8576b"
            ],
            [
             0.6666666666666666,
             "#ed7953"
            ],
            [
             0.7777777777777778,
             "#fb9f3a"
            ],
            [
             0.8888888888888888,
             "#fdca26"
            ],
            [
             1,
             "#f0f921"
            ]
           ],
           "sequentialminus": [
            [
             0,
             "#0d0887"
            ],
            [
             0.1111111111111111,
             "#46039f"
            ],
            [
             0.2222222222222222,
             "#7201a8"
            ],
            [
             0.3333333333333333,
             "#9c179e"
            ],
            [
             0.4444444444444444,
             "#bd3786"
            ],
            [
             0.5555555555555556,
             "#d8576b"
            ],
            [
             0.6666666666666666,
             "#ed7953"
            ],
            [
             0.7777777777777778,
             "#fb9f3a"
            ],
            [
             0.8888888888888888,
             "#fdca26"
            ],
            [
             1,
             "#f0f921"
            ]
           ]
          },
          "colorway": [
           "#636efa",
           "#EF553B",
           "#00cc96",
           "#ab63fa",
           "#FFA15A",
           "#19d3f3",
           "#FF6692",
           "#B6E880",
           "#FF97FF",
           "#FECB52"
          ],
          "font": {
           "color": "#2a3f5f"
          },
          "geo": {
           "bgcolor": "white",
           "lakecolor": "white",
           "landcolor": "#E5ECF6",
           "showlakes": true,
           "showland": true,
           "subunitcolor": "white"
          },
          "hoverlabel": {
           "align": "left"
          },
          "hovermode": "closest",
          "mapbox": {
           "style": "light"
          },
          "paper_bgcolor": "white",
          "plot_bgcolor": "#E5ECF6",
          "polar": {
           "angularaxis": {
            "gridcolor": "white",
            "linecolor": "white",
            "ticks": ""
           },
           "bgcolor": "#E5ECF6",
           "radialaxis": {
            "gridcolor": "white",
            "linecolor": "white",
            "ticks": ""
           }
          },
          "scene": {
           "xaxis": {
            "backgroundcolor": "#E5ECF6",
            "gridcolor": "white",
            "gridwidth": 2,
            "linecolor": "white",
            "showbackground": true,
            "ticks": "",
            "zerolinecolor": "white"
           },
           "yaxis": {
            "backgroundcolor": "#E5ECF6",
            "gridcolor": "white",
            "gridwidth": 2,
            "linecolor": "white",
            "showbackground": true,
            "ticks": "",
            "zerolinecolor": "white"
           },
           "zaxis": {
            "backgroundcolor": "#E5ECF6",
            "gridcolor": "white",
            "gridwidth": 2,
            "linecolor": "white",
            "showbackground": true,
            "ticks": "",
            "zerolinecolor": "white"
           }
          },
          "shapedefaults": {
           "line": {
            "color": "#2a3f5f"
           }
          },
          "ternary": {
           "aaxis": {
            "gridcolor": "white",
            "linecolor": "white",
            "ticks": ""
           },
           "baxis": {
            "gridcolor": "white",
            "linecolor": "white",
            "ticks": ""
           },
           "bgcolor": "#E5ECF6",
           "caxis": {
            "gridcolor": "white",
            "linecolor": "white",
            "ticks": ""
           }
          },
          "title": {
           "x": 0.05
          },
          "xaxis": {
           "automargin": true,
           "gridcolor": "white",
           "linecolor": "white",
           "ticks": "",
           "title": {
            "standoff": 15
           },
           "zerolinecolor": "white",
           "zerolinewidth": 2
          },
          "yaxis": {
           "automargin": true,
           "gridcolor": "white",
           "linecolor": "white",
           "ticks": "",
           "title": {
            "standoff": 15
           },
           "zerolinecolor": "white",
           "zerolinewidth": 2
          }
         }
        },
        "xaxis": {
         "anchor": "y",
         "domain": [
          0,
          1
         ],
         "title": {
          "text": "importance"
         }
        },
        "yaxis": {
         "anchor": "x",
         "domain": [
          0,
          1
         ],
         "title": {
          "text": "feat_name"
         }
        }
       }
      },
      "text/html": [
       "<div>                            <div id=\"55ce90e3-ccfd-4776-b8af-4a1739891fca\" class=\"plotly-graph-div\" style=\"height:525px; width:100%;\"></div>            <script type=\"text/javascript\">                require([\"plotly\"], function(Plotly) {                    window.PLOTLYENV=window.PLOTLYENV || {};                                    if (document.getElementById(\"55ce90e3-ccfd-4776-b8af-4a1739891fca\")) {                    Plotly.newPlot(                        \"55ce90e3-ccfd-4776-b8af-4a1739891fca\",                        [{\"alignmentgroup\":\"True\",\"hovertemplate\":\"importance=%{x}<br>feat_name=%{y}<extra></extra>\",\"legendgroup\":\"\",\"marker\":{\"color\":\"#636efa\",\"pattern\":{\"shape\":\"\"}},\"name\":\"\",\"offsetgroup\":\"\",\"orientation\":\"h\",\"showlegend\":false,\"textposition\":\"auto\",\"x\":[11975,12010,12143,12237,12362,12404,12709,12845,12855,13085,13363,13375,13431,13608,14303,14399,14509,15156,15708,15905],\"xaxis\":\"x\",\"y\":[\"p_trend4\",\"p2_max_prob\",\"cls_pred_p2\",\"p2_top2_prob\",\"p_trend5\",\"pred_p2\",\"p_trend6\",\"p2_top2s_prob\",\"n_cell\",\"top4\",\"p_trend3\",\"p_trend2\",\"top5\",\"pred_diff3\",\"p2_top2\",\"p_trend1\",\"p_trend0\",\"markdown_frac\",\"max_prob\",\"top2_prob\"],\"yaxis\":\"y\",\"type\":\"bar\"}],                        {\"template\":{\"data\":{\"bar\":[{\"error_x\":{\"color\":\"#2a3f5f\"},\"error_y\":{\"color\":\"#2a3f5f\"},\"marker\":{\"line\":{\"color\":\"#E5ECF6\",\"width\":0.5},\"pattern\":{\"fillmode\":\"overlay\",\"size\":10,\"solidity\":0.2}},\"type\":\"bar\"}],\"barpolar\":[{\"marker\":{\"line\":{\"color\":\"#E5ECF6\",\"width\":0.5},\"pattern\":{\"fillmode\":\"overlay\",\"size\":10,\"solidity\":0.2}},\"type\":\"barpolar\"}],\"carpet\":[{\"aaxis\":{\"endlinecolor\":\"#2a3f5f\",\"gridcolor\":\"white\",\"linecolor\":\"white\",\"minorgridcolor\":\"white\",\"startlinecolor\":\"#2a3f5f\"},\"baxis\":{\"endlinecolor\":\"#2a3f5f\",\"gridcolor\":\"white\",\"linecolor\":\"white\",\"minorgridcolor\":\"white\",\"startlinecolor\":\"#2a3f5f\"},\"type\":\"carpet\"}],\"choropleth\":[{\"colorbar\":{\"outlinewidth\":0,\"ticks\":\"\"},\"type\":\"choropleth\"}],\"contour\":[{\"colorbar\":{\"outlinewidth\":0,\"ticks\":\"\"},\"colorscale\":[[0.0,\"#0d0887\"],[0.1111111111111111,\"#46039f\"],[0.2222222222222222,\"#7201a8\"],[0.3333333333333333,\"#9c179e\"],[0.4444444444444444,\"#bd3786\"],[0.5555555555555556,\"#d8576b\"],[0.6666666666666666,\"#ed7953\"],[0.7777777777777778,\"#fb9f3a\"],[0.8888888888888888,\"#fdca26\"],[1.0,\"#f0f921\"]],\"type\":\"contour\"}],\"contourcarpet\":[{\"colorbar\":{\"outlinewidth\":0,\"ticks\":\"\"},\"type\":\"contourcarpet\"}],\"heatmap\":[{\"colorbar\":{\"outlinewidth\":0,\"ticks\":\"\"},\"colorscale\":[[0.0,\"#0d0887\"],[0.1111111111111111,\"#46039f\"],[0.2222222222222222,\"#7201a8\"],[0.3333333333333333,\"#9c179e\"],[0.4444444444444444,\"#bd3786\"],[0.5555555555555556,\"#d8576b\"],[0.6666666666666666,\"#ed7953\"],[0.7777777777777778,\"#fb9f3a\"],[0.8888888888888888,\"#fdca26\"],[1.0,\"#f0f921\"]],\"type\":\"heatmap\"}],\"heatmapgl\":[{\"colorbar\":{\"outlinewidth\":0,\"ticks\":\"\"},\"colorscale\":[[0.0,\"#0d0887\"],[0.1111111111111111,\"#46039f\"],[0.2222222222222222,\"#7201a8\"],[0.3333333333333333,\"#9c179e\"],[0.4444444444444444,\"#bd3786\"],[0.5555555555555556,\"#d8576b\"],[0.6666666666666666,\"#ed7953\"],[0.7777777777777778,\"#fb9f3a\"],[0.8888888888888888,\"#fdca26\"],[1.0,\"#f0f921\"]],\"type\":\"heatmapgl\"}],\"histogram\":[{\"marker\":{\"pattern\":{\"fillmode\":\"overlay\",\"size\":10,\"solidity\":0.2}},\"type\":\"histogram\"}],\"histogram2d\":[{\"colorbar\":{\"outlinewidth\":0,\"ticks\":\"\"},\"colorscale\":[[0.0,\"#0d0887\"],[0.1111111111111111,\"#46039f\"],[0.2222222222222222,\"#7201a8\"],[0.3333333333333333,\"#9c179e\"],[0.4444444444444444,\"#bd3786\"],[0.5555555555555556,\"#d8576b\"],[0.6666666666666666,\"#ed7953\"],[0.7777777777777778,\"#fb9f3a\"],[0.8888888888888888,\"#fdca26\"],[1.0,\"#f0f921\"]],\"type\":\"histogram2d\"}],\"histogram2dcontour\":[{\"colorbar\":{\"outlinewidth\":0,\"ticks\":\"\"},\"colorscale\":[[0.0,\"#0d0887\"],[0.1111111111111111,\"#46039f\"],[0.2222222222222222,\"#7201a8\"],[0.3333333333333333,\"#9c179e\"],[0.4444444444444444,\"#bd3786\"],[0.5555555555555556,\"#d8576b\"],[0.6666666666666666,\"#ed7953\"],[0.7777777777777778,\"#fb9f3a\"],[0.8888888888888888,\"#fdca26\"],[1.0,\"#f0f921\"]],\"type\":\"histogram2dcontour\"}],\"mesh3d\":[{\"colorbar\":{\"outlinewidth\":0,\"ticks\":\"\"},\"type\":\"mesh3d\"}],\"parcoords\":[{\"line\":{\"colorbar\":{\"outlinewidth\":0,\"ticks\":\"\"}},\"type\":\"parcoords\"}],\"pie\":[{\"automargin\":true,\"type\":\"pie\"}],\"scatter\":[{\"marker\":{\"colorbar\":{\"outlinewidth\":0,\"ticks\":\"\"}},\"type\":\"scatter\"}],\"scatter3d\":[{\"line\":{\"colorbar\":{\"outlinewidth\":0,\"ticks\":\"\"}},\"marker\":{\"colorbar\":{\"outlinewidth\":0,\"ticks\":\"\"}},\"type\":\"scatter3d\"}],\"scattercarpet\":[{\"marker\":{\"colorbar\":{\"outlinewidth\":0,\"ticks\":\"\"}},\"type\":\"scattercarpet\"}],\"scattergeo\":[{\"marker\":{\"colorbar\":{\"outlinewidth\":0,\"ticks\":\"\"}},\"type\":\"scattergeo\"}],\"scattergl\":[{\"marker\":{\"colorbar\":{\"outlinewidth\":0,\"ticks\":\"\"}},\"type\":\"scattergl\"}],\"scattermapbox\":[{\"marker\":{\"colorbar\":{\"outlinewidth\":0,\"ticks\":\"\"}},\"type\":\"scattermapbox\"}],\"scatterpolar\":[{\"marker\":{\"colorbar\":{\"outlinewidth\":0,\"ticks\":\"\"}},\"type\":\"scatterpolar\"}],\"scatterpolargl\":[{\"marker\":{\"colorbar\":{\"outlinewidth\":0,\"ticks\":\"\"}},\"type\":\"scatterpolargl\"}],\"scatterternary\":[{\"marker\":{\"colorbar\":{\"outlinewidth\":0,\"ticks\":\"\"}},\"type\":\"scatterternary\"}],\"surface\":[{\"colorbar\":{\"outlinewidth\":0,\"ticks\":\"\"},\"colorscale\":[[0.0,\"#0d0887\"],[0.1111111111111111,\"#46039f\"],[0.2222222222222222,\"#7201a8\"],[0.3333333333333333,\"#9c179e\"],[0.4444444444444444,\"#bd3786\"],[0.5555555555555556,\"#d8576b\"],[0.6666666666666666,\"#ed7953\"],[0.7777777777777778,\"#fb9f3a\"],[0.8888888888888888,\"#fdca26\"],[1.0,\"#f0f921\"]],\"type\":\"surface\"}],\"table\":[{\"cells\":{\"fill\":{\"color\":\"#EBF0F8\"},\"line\":{\"color\":\"white\"}},\"header\":{\"fill\":{\"color\":\"#C8D4E3\"},\"line\":{\"color\":\"white\"}},\"type\":\"table\"}]},\"layout\":{\"annotationdefaults\":{\"arrowcolor\":\"#2a3f5f\",\"arrowhead\":0,\"arrowwidth\":1},\"autotypenumbers\":\"strict\",\"coloraxis\":{\"colorbar\":{\"outlinewidth\":0,\"ticks\":\"\"}},\"colorscale\":{\"diverging\":[[0,\"#8e0152\"],[0.1,\"#c51b7d\"],[0.2,\"#de77ae\"],[0.3,\"#f1b6da\"],[0.4,\"#fde0ef\"],[0.5,\"#f7f7f7\"],[0.6,\"#e6f5d0\"],[0.7,\"#b8e186\"],[0.8,\"#7fbc41\"],[0.9,\"#4d9221\"],[1,\"#276419\"]],\"sequential\":[[0.0,\"#0d0887\"],[0.1111111111111111,\"#46039f\"],[0.2222222222222222,\"#7201a8\"],[0.3333333333333333,\"#9c179e\"],[0.4444444444444444,\"#bd3786\"],[0.5555555555555556,\"#d8576b\"],[0.6666666666666666,\"#ed7953\"],[0.7777777777777778,\"#fb9f3a\"],[0.8888888888888888,\"#fdca26\"],[1.0,\"#f0f921\"]],\"sequentialminus\":[[0.0,\"#0d0887\"],[0.1111111111111111,\"#46039f\"],[0.2222222222222222,\"#7201a8\"],[0.3333333333333333,\"#9c179e\"],[0.4444444444444444,\"#bd3786\"],[0.5555555555555556,\"#d8576b\"],[0.6666666666666666,\"#ed7953\"],[0.7777777777777778,\"#fb9f3a\"],[0.8888888888888888,\"#fdca26\"],[1.0,\"#f0f921\"]]},\"colorway\":[\"#636efa\",\"#EF553B\",\"#00cc96\",\"#ab63fa\",\"#FFA15A\",\"#19d3f3\",\"#FF6692\",\"#B6E880\",\"#FF97FF\",\"#FECB52\"],\"font\":{\"color\":\"#2a3f5f\"},\"geo\":{\"bgcolor\":\"white\",\"lakecolor\":\"white\",\"landcolor\":\"#E5ECF6\",\"showlakes\":true,\"showland\":true,\"subunitcolor\":\"white\"},\"hoverlabel\":{\"align\":\"left\"},\"hovermode\":\"closest\",\"mapbox\":{\"style\":\"light\"},\"paper_bgcolor\":\"white\",\"plot_bgcolor\":\"#E5ECF6\",\"polar\":{\"angularaxis\":{\"gridcolor\":\"white\",\"linecolor\":\"white\",\"ticks\":\"\"},\"bgcolor\":\"#E5ECF6\",\"radialaxis\":{\"gridcolor\":\"white\",\"linecolor\":\"white\",\"ticks\":\"\"}},\"scene\":{\"xaxis\":{\"backgroundcolor\":\"#E5ECF6\",\"gridcolor\":\"white\",\"gridwidth\":2,\"linecolor\":\"white\",\"showbackground\":true,\"ticks\":\"\",\"zerolinecolor\":\"white\"},\"yaxis\":{\"backgroundcolor\":\"#E5ECF6\",\"gridcolor\":\"white\",\"gridwidth\":2,\"linecolor\":\"white\",\"showbackground\":true,\"ticks\":\"\",\"zerolinecolor\":\"white\"},\"zaxis\":{\"backgroundcolor\":\"#E5ECF6\",\"gridcolor\":\"white\",\"gridwidth\":2,\"linecolor\":\"white\",\"showbackground\":true,\"ticks\":\"\",\"zerolinecolor\":\"white\"}},\"shapedefaults\":{\"line\":{\"color\":\"#2a3f5f\"}},\"ternary\":{\"aaxis\":{\"gridcolor\":\"white\",\"linecolor\":\"white\",\"ticks\":\"\"},\"baxis\":{\"gridcolor\":\"white\",\"linecolor\":\"white\",\"ticks\":\"\"},\"bgcolor\":\"#E5ECF6\",\"caxis\":{\"gridcolor\":\"white\",\"linecolor\":\"white\",\"ticks\":\"\"}},\"title\":{\"x\":0.05},\"xaxis\":{\"automargin\":true,\"gridcolor\":\"white\",\"linecolor\":\"white\",\"ticks\":\"\",\"title\":{\"standoff\":15},\"zerolinecolor\":\"white\",\"zerolinewidth\":2},\"yaxis\":{\"automargin\":true,\"gridcolor\":\"white\",\"linecolor\":\"white\",\"ticks\":\"\",\"title\":{\"standoff\":15},\"zerolinecolor\":\"white\",\"zerolinewidth\":2}}},\"xaxis\":{\"anchor\":\"y\",\"domain\":[0.0,1.0],\"title\":{\"text\":\"importance\"}},\"yaxis\":{\"anchor\":\"x\",\"domain\":[0.0,1.0],\"title\":{\"text\":\"feat_name\"}},\"legend\":{\"tracegroupgap\":0},\"margin\":{\"t\":60},\"barmode\":\"relative\"},                        {\"responsive\": true}                    ).then(function(){\n",
       "                            \n",
       "var gd = document.getElementById('55ce90e3-ccfd-4776-b8af-4a1739891fca');\n",
       "var x = new MutationObserver(function (mutations, observer) {{\n",
       "        var display = window.getComputedStyle(gd).display;\n",
       "        if (!display || display === 'none') {{\n",
       "            console.log([gd, 'removed!']);\n",
       "            Plotly.purge(gd);\n",
       "            observer.disconnect();\n",
       "        }}\n",
       "}});\n",
       "\n",
       "// Listen for the removal of the full notebook cells\n",
       "var notebookContainer = gd.closest('#notebook-container');\n",
       "if (notebookContainer) {{\n",
       "    x.observe(notebookContainer, {childList: true});\n",
       "}}\n",
       "\n",
       "// Listen for the clearing of the current output cell\n",
       "var outputEl = gd.closest('.output');\n",
       "if (outputEl) {{\n",
       "    x.observe(outputEl, {childList: true});\n",
       "}}\n",
       "\n",
       "                        })                };                });            </script>        </div>"
      ]
     },
     "metadata": {},
     "output_type": "display_data"
    }
   ],
   "source": [
    "gezi.plot.feature_importance(bst, topn=20)"
   ]
  },
  {
   "cell_type": "code",
   "execution_count": 142,
   "metadata": {},
   "outputs": [
    {
     "data": {
      "text/html": [
       "<div>\n",
       "<style scoped>\n",
       "    .dataframe tbody tr th:only-of-type {\n",
       "        vertical-align: middle;\n",
       "    }\n",
       "\n",
       "    .dataframe tbody tr th {\n",
       "        vertical-align: top;\n",
       "    }\n",
       "\n",
       "    .dataframe thead th {\n",
       "        text-align: right;\n",
       "    }\n",
       "</style>\n",
       "<table border=\"1\" class=\"dataframe\">\n",
       "  <thead>\n",
       "    <tr style=\"text-align: right;\">\n",
       "      <th></th>\n",
       "      <th>feat_name</th>\n",
       "      <th>importanace</th>\n",
       "    </tr>\n",
       "  </thead>\n",
       "  <tbody>\n",
       "    <tr>\n",
       "      <th>0</th>\n",
       "      <td>pred_c</td>\n",
       "      <td>9.9755</td>\n",
       "    </tr>\n",
       "    <tr>\n",
       "      <th>1</th>\n",
       "      <td>cls_pred_p2</td>\n",
       "      <td>9.8264</td>\n",
       "    </tr>\n",
       "    <tr>\n",
       "      <th>2</th>\n",
       "      <td>pred_p2</td>\n",
       "      <td>9.6576</td>\n",
       "    </tr>\n",
       "    <tr>\n",
       "      <th>3</th>\n",
       "      <td>reg_pred</td>\n",
       "      <td>7.2371</td>\n",
       "    </tr>\n",
       "    <tr>\n",
       "      <th>4</th>\n",
       "      <td>cls_pred_p</td>\n",
       "      <td>6.8412</td>\n",
       "    </tr>\n",
       "    <tr>\n",
       "      <th>5</th>\n",
       "      <td>cls_pred_c</td>\n",
       "      <td>6.5681</td>\n",
       "    </tr>\n",
       "    <tr>\n",
       "      <th>6</th>\n",
       "      <td>p2_top2</td>\n",
       "      <td>4.1642</td>\n",
       "    </tr>\n",
       "    <tr>\n",
       "      <th>7</th>\n",
       "      <td>pred_p</td>\n",
       "      <td>4.1035</td>\n",
       "    </tr>\n",
       "    <tr>\n",
       "      <th>8</th>\n",
       "      <td>cls2_pred</td>\n",
       "      <td>3.1611</td>\n",
       "    </tr>\n",
       "    <tr>\n",
       "      <th>9</th>\n",
       "      <td>top2</td>\n",
       "      <td>2.7598</td>\n",
       "    </tr>\n",
       "    <tr>\n",
       "      <th>10</th>\n",
       "      <td>p_trend6</td>\n",
       "      <td>2.3922</td>\n",
       "    </tr>\n",
       "    <tr>\n",
       "      <th>11</th>\n",
       "      <td>p_trend3</td>\n",
       "      <td>2.2572</td>\n",
       "    </tr>\n",
       "    <tr>\n",
       "      <th>12</th>\n",
       "      <td>p2_max_prob</td>\n",
       "      <td>1.9768</td>\n",
       "    </tr>\n",
       "    <tr>\n",
       "      <th>13</th>\n",
       "      <td>pred_diff13</td>\n",
       "      <td>1.2926</td>\n",
       "    </tr>\n",
       "    <tr>\n",
       "      <th>14</th>\n",
       "      <td>top2s_prob</td>\n",
       "      <td>1.2262</td>\n",
       "    </tr>\n",
       "    <tr>\n",
       "      <th>15</th>\n",
       "      <td>p2_top2_prob</td>\n",
       "      <td>1.2033</td>\n",
       "    </tr>\n",
       "    <tr>\n",
       "      <th>16</th>\n",
       "      <td>top4_prob</td>\n",
       "      <td>1.1446</td>\n",
       "    </tr>\n",
       "    <tr>\n",
       "      <th>17</th>\n",
       "      <td>pred_diff11</td>\n",
       "      <td>1.0952</td>\n",
       "    </tr>\n",
       "    <tr>\n",
       "      <th>18</th>\n",
       "      <td>p_trend0</td>\n",
       "      <td>1.0875</td>\n",
       "    </tr>\n",
       "    <tr>\n",
       "      <th>19</th>\n",
       "      <td>max_prob</td>\n",
       "      <td>1.0716</td>\n",
       "    </tr>\n",
       "    <tr>\n",
       "      <th>20</th>\n",
       "      <td>pred_diff12</td>\n",
       "      <td>1.0636</td>\n",
       "    </tr>\n",
       "    <tr>\n",
       "      <th>21</th>\n",
       "      <td>max_sim</td>\n",
       "      <td>1.0450</td>\n",
       "    </tr>\n",
       "    <tr>\n",
       "      <th>22</th>\n",
       "      <td>top5_prob</td>\n",
       "      <td>0.9732</td>\n",
       "    </tr>\n",
       "    <tr>\n",
       "      <th>23</th>\n",
       "      <td>top4</td>\n",
       "      <td>0.9257</td>\n",
       "    </tr>\n",
       "    <tr>\n",
       "      <th>24</th>\n",
       "      <td>pred_diff8</td>\n",
       "      <td>0.8797</td>\n",
       "    </tr>\n",
       "    <tr>\n",
       "      <th>25</th>\n",
       "      <td>pred_diff2</td>\n",
       "      <td>0.8773</td>\n",
       "    </tr>\n",
       "    <tr>\n",
       "      <th>26</th>\n",
       "      <td>pred_diff6</td>\n",
       "      <td>0.8712</td>\n",
       "    </tr>\n",
       "    <tr>\n",
       "      <th>27</th>\n",
       "      <td>pred_diff0</td>\n",
       "      <td>0.8128</td>\n",
       "    </tr>\n",
       "    <tr>\n",
       "      <th>28</th>\n",
       "      <td>pred_diff5</td>\n",
       "      <td>0.8012</td>\n",
       "    </tr>\n",
       "    <tr>\n",
       "      <th>29</th>\n",
       "      <td>top3</td>\n",
       "      <td>0.7320</td>\n",
       "    </tr>\n",
       "    <tr>\n",
       "      <th>30</th>\n",
       "      <td>top3_sim</td>\n",
       "      <td>0.7279</td>\n",
       "    </tr>\n",
       "    <tr>\n",
       "      <th>31</th>\n",
       "      <td>pred_diff1</td>\n",
       "      <td>0.6995</td>\n",
       "    </tr>\n",
       "    <tr>\n",
       "      <th>32</th>\n",
       "      <td>top5_sim</td>\n",
       "      <td>0.6971</td>\n",
       "    </tr>\n",
       "    <tr>\n",
       "      <th>33</th>\n",
       "      <td>top4_sim</td>\n",
       "      <td>0.6949</td>\n",
       "    </tr>\n",
       "    <tr>\n",
       "      <th>34</th>\n",
       "      <td>p_trend2</td>\n",
       "      <td>0.6303</td>\n",
       "    </tr>\n",
       "    <tr>\n",
       "      <th>35</th>\n",
       "      <td>top2_sim</td>\n",
       "      <td>0.6224</td>\n",
       "    </tr>\n",
       "    <tr>\n",
       "      <th>36</th>\n",
       "      <td>pred_diff4</td>\n",
       "      <td>0.5993</td>\n",
       "    </tr>\n",
       "    <tr>\n",
       "      <th>37</th>\n",
       "      <td>markdown_frac</td>\n",
       "      <td>0.5271</td>\n",
       "    </tr>\n",
       "    <tr>\n",
       "      <th>38</th>\n",
       "      <td>p_trend4</td>\n",
       "      <td>0.5228</td>\n",
       "    </tr>\n",
       "    <tr>\n",
       "      <th>39</th>\n",
       "      <td>pred_diff7</td>\n",
       "      <td>0.5212</td>\n",
       "    </tr>\n",
       "    <tr>\n",
       "      <th>40</th>\n",
       "      <td>top2_prob</td>\n",
       "      <td>0.5026</td>\n",
       "    </tr>\n",
       "    <tr>\n",
       "      <th>41</th>\n",
       "      <td>pred_diff3</td>\n",
       "      <td>0.4721</td>\n",
       "    </tr>\n",
       "    <tr>\n",
       "      <th>42</th>\n",
       "      <td>p_trend1</td>\n",
       "      <td>0.4208</td>\n",
       "    </tr>\n",
       "    <tr>\n",
       "      <th>43</th>\n",
       "      <td>p_trend5</td>\n",
       "      <td>0.3975</td>\n",
       "    </tr>\n",
       "    <tr>\n",
       "      <th>44</th>\n",
       "      <td>top5</td>\n",
       "      <td>0.3630</td>\n",
       "    </tr>\n",
       "    <tr>\n",
       "      <th>45</th>\n",
       "      <td>p_ntile1</td>\n",
       "      <td>0.3490</td>\n",
       "    </tr>\n",
       "    <tr>\n",
       "      <th>46</th>\n",
       "      <td>top3_prob</td>\n",
       "      <td>0.3483</td>\n",
       "    </tr>\n",
       "    <tr>\n",
       "      <th>47</th>\n",
       "      <td>p_ntile2</td>\n",
       "      <td>0.3438</td>\n",
       "    </tr>\n",
       "    <tr>\n",
       "      <th>48</th>\n",
       "      <td>span</td>\n",
       "      <td>0.3347</td>\n",
       "    </tr>\n",
       "    <tr>\n",
       "      <th>49</th>\n",
       "      <td>p2_top2s_prob</td>\n",
       "      <td>0.3323</td>\n",
       "    </tr>\n",
       "    <tr>\n",
       "      <th>50</th>\n",
       "      <td>p_ntile3</td>\n",
       "      <td>0.3194</td>\n",
       "    </tr>\n",
       "    <tr>\n",
       "      <th>51</th>\n",
       "      <td>n_code_cell</td>\n",
       "      <td>0.2958</td>\n",
       "    </tr>\n",
       "    <tr>\n",
       "      <th>52</th>\n",
       "      <td>n_cell</td>\n",
       "      <td>0.2820</td>\n",
       "    </tr>\n",
       "    <tr>\n",
       "      <th>53</th>\n",
       "      <td>n_markdown_cell</td>\n",
       "      <td>0.2635</td>\n",
       "    </tr>\n",
       "    <tr>\n",
       "      <th>54</th>\n",
       "      <td>p_ntile4</td>\n",
       "      <td>0.2382</td>\n",
       "    </tr>\n",
       "    <tr>\n",
       "      <th>55</th>\n",
       "      <td>p_ntile0</td>\n",
       "      <td>0.1752</td>\n",
       "    </tr>\n",
       "    <tr>\n",
       "      <th>56</th>\n",
       "      <td>pred_diff10</td>\n",
       "      <td>0.1676</td>\n",
       "    </tr>\n",
       "    <tr>\n",
       "      <th>57</th>\n",
       "      <td>pred_diff9</td>\n",
       "      <td>0.1284</td>\n",
       "    </tr>\n",
       "    <tr>\n",
       "      <th>58</th>\n",
       "      <td>c_ntile2</td>\n",
       "      <td>0.0000</td>\n",
       "    </tr>\n",
       "    <tr>\n",
       "      <th>59</th>\n",
       "      <td>c_ntile1</td>\n",
       "      <td>0.0000</td>\n",
       "    </tr>\n",
       "    <tr>\n",
       "      <th>60</th>\n",
       "      <td>c_ntile0</td>\n",
       "      <td>0.0000</td>\n",
       "    </tr>\n",
       "    <tr>\n",
       "      <th>61</th>\n",
       "      <td>c_trend6</td>\n",
       "      <td>0.0000</td>\n",
       "    </tr>\n",
       "    <tr>\n",
       "      <th>62</th>\n",
       "      <td>c_trend5</td>\n",
       "      <td>0.0000</td>\n",
       "    </tr>\n",
       "    <tr>\n",
       "      <th>63</th>\n",
       "      <td>c_trend4</td>\n",
       "      <td>0.0000</td>\n",
       "    </tr>\n",
       "    <tr>\n",
       "      <th>64</th>\n",
       "      <td>c_trend3</td>\n",
       "      <td>0.0000</td>\n",
       "    </tr>\n",
       "    <tr>\n",
       "      <th>65</th>\n",
       "      <td>c_trend2</td>\n",
       "      <td>0.0000</td>\n",
       "    </tr>\n",
       "    <tr>\n",
       "      <th>66</th>\n",
       "      <td>ctop3_prob</td>\n",
       "      <td>0.0000</td>\n",
       "    </tr>\n",
       "    <tr>\n",
       "      <th>67</th>\n",
       "      <td>c_trend0</td>\n",
       "      <td>0.0000</td>\n",
       "    </tr>\n",
       "    <tr>\n",
       "      <th>68</th>\n",
       "      <td>ctop4_prob</td>\n",
       "      <td>0.0000</td>\n",
       "    </tr>\n",
       "    <tr>\n",
       "      <th>69</th>\n",
       "      <td>c_ntile3</td>\n",
       "      <td>0.0000</td>\n",
       "    </tr>\n",
       "    <tr>\n",
       "      <th>70</th>\n",
       "      <td>ctop_prob</td>\n",
       "      <td>0.0000</td>\n",
       "    </tr>\n",
       "    <tr>\n",
       "      <th>71</th>\n",
       "      <td>ctop2</td>\n",
       "      <td>0.0000</td>\n",
       "    </tr>\n",
       "    <tr>\n",
       "      <th>72</th>\n",
       "      <td>ctop3</td>\n",
       "      <td>0.0000</td>\n",
       "    </tr>\n",
       "    <tr>\n",
       "      <th>73</th>\n",
       "      <td>ctop4</td>\n",
       "      <td>0.0000</td>\n",
       "    </tr>\n",
       "    <tr>\n",
       "      <th>74</th>\n",
       "      <td>ctop2_prob</td>\n",
       "      <td>0.0000</td>\n",
       "    </tr>\n",
       "    <tr>\n",
       "      <th>75</th>\n",
       "      <td>c_trend1</td>\n",
       "      <td>0.0000</td>\n",
       "    </tr>\n",
       "    <tr>\n",
       "      <th>76</th>\n",
       "      <td>c_ntile4</td>\n",
       "      <td>0.0000</td>\n",
       "    </tr>\n",
       "  </tbody>\n",
       "</table>\n",
       "</div>"
      ],
      "text/plain": [
       "          feat_name  importanace\n",
       "0            pred_c       9.9755\n",
       "1       cls_pred_p2       9.8264\n",
       "2           pred_p2       9.6576\n",
       "3          reg_pred       7.2371\n",
       "4        cls_pred_p       6.8412\n",
       "5        cls_pred_c       6.5681\n",
       "6           p2_top2       4.1642\n",
       "7            pred_p       4.1035\n",
       "8         cls2_pred       3.1611\n",
       "9              top2       2.7598\n",
       "10         p_trend6       2.3922\n",
       "11         p_trend3       2.2572\n",
       "12      p2_max_prob       1.9768\n",
       "13      pred_diff13       1.2926\n",
       "14       top2s_prob       1.2262\n",
       "15     p2_top2_prob       1.2033\n",
       "16        top4_prob       1.1446\n",
       "17      pred_diff11       1.0952\n",
       "18         p_trend0       1.0875\n",
       "19         max_prob       1.0716\n",
       "20      pred_diff12       1.0636\n",
       "21          max_sim       1.0450\n",
       "22        top5_prob       0.9732\n",
       "23             top4       0.9257\n",
       "24       pred_diff8       0.8797\n",
       "25       pred_diff2       0.8773\n",
       "26       pred_diff6       0.8712\n",
       "27       pred_diff0       0.8128\n",
       "28       pred_diff5       0.8012\n",
       "29             top3       0.7320\n",
       "30         top3_sim       0.7279\n",
       "31       pred_diff1       0.6995\n",
       "32         top5_sim       0.6971\n",
       "33         top4_sim       0.6949\n",
       "34         p_trend2       0.6303\n",
       "35         top2_sim       0.6224\n",
       "36       pred_diff4       0.5993\n",
       "37    markdown_frac       0.5271\n",
       "38         p_trend4       0.5228\n",
       "39       pred_diff7       0.5212\n",
       "40        top2_prob       0.5026\n",
       "41       pred_diff3       0.4721\n",
       "42         p_trend1       0.4208\n",
       "43         p_trend5       0.3975\n",
       "44             top5       0.3630\n",
       "45         p_ntile1       0.3490\n",
       "46        top3_prob       0.3483\n",
       "47         p_ntile2       0.3438\n",
       "48             span       0.3347\n",
       "49    p2_top2s_prob       0.3323\n",
       "50         p_ntile3       0.3194\n",
       "51      n_code_cell       0.2958\n",
       "52           n_cell       0.2820\n",
       "53  n_markdown_cell       0.2635\n",
       "54         p_ntile4       0.2382\n",
       "55         p_ntile0       0.1752\n",
       "56      pred_diff10       0.1676\n",
       "57       pred_diff9       0.1284\n",
       "58         c_ntile2       0.0000\n",
       "59         c_ntile1       0.0000\n",
       "60         c_ntile0       0.0000\n",
       "61         c_trend6       0.0000\n",
       "62         c_trend5       0.0000\n",
       "63         c_trend4       0.0000\n",
       "64         c_trend3       0.0000\n",
       "65         c_trend2       0.0000\n",
       "66       ctop3_prob       0.0000\n",
       "67         c_trend0       0.0000\n",
       "68       ctop4_prob       0.0000\n",
       "69         c_ntile3       0.0000\n",
       "70        ctop_prob       0.0000\n",
       "71            ctop2       0.0000\n",
       "72            ctop3       0.0000\n",
       "73            ctop4       0.0000\n",
       "74       ctop2_prob       0.0000\n",
       "75         c_trend1       0.0000\n",
       "76         c_ntile4       0.0000"
      ]
     },
     "execution_count": 142,
     "metadata": {},
     "output_type": "execute_result"
    }
   ],
   "source": [
    "gezi.plot.feature_importance_df(model)"
   ]
  },
  {
   "cell_type": "code",
   "execution_count": 143,
   "metadata": {},
   "outputs": [
    {
     "data": {
      "text/html": [
       "<div>\n",
       "<style scoped>\n",
       "    .dataframe tbody tr th:only-of-type {\n",
       "        vertical-align: middle;\n",
       "    }\n",
       "\n",
       "    .dataframe tbody tr th {\n",
       "        vertical-align: top;\n",
       "    }\n",
       "\n",
       "    .dataframe thead th {\n",
       "        text-align: right;\n",
       "    }\n",
       "</style>\n",
       "<table border=\"1\" class=\"dataframe\">\n",
       "  <thead>\n",
       "    <tr style=\"text-align: right;\">\n",
       "      <th></th>\n",
       "      <th>feat_name</th>\n",
       "      <th>importanace</th>\n",
       "    </tr>\n",
       "  </thead>\n",
       "  <tbody>\n",
       "    <tr>\n",
       "      <th>0</th>\n",
       "      <td>top2_prob</td>\n",
       "      <td>15905</td>\n",
       "    </tr>\n",
       "    <tr>\n",
       "      <th>1</th>\n",
       "      <td>max_prob</td>\n",
       "      <td>15708</td>\n",
       "    </tr>\n",
       "    <tr>\n",
       "      <th>2</th>\n",
       "      <td>markdown_frac</td>\n",
       "      <td>15156</td>\n",
       "    </tr>\n",
       "    <tr>\n",
       "      <th>3</th>\n",
       "      <td>p_trend0</td>\n",
       "      <td>14509</td>\n",
       "    </tr>\n",
       "    <tr>\n",
       "      <th>4</th>\n",
       "      <td>p_trend1</td>\n",
       "      <td>14399</td>\n",
       "    </tr>\n",
       "    <tr>\n",
       "      <th>5</th>\n",
       "      <td>p2_top2</td>\n",
       "      <td>14303</td>\n",
       "    </tr>\n",
       "    <tr>\n",
       "      <th>6</th>\n",
       "      <td>pred_diff3</td>\n",
       "      <td>13608</td>\n",
       "    </tr>\n",
       "    <tr>\n",
       "      <th>7</th>\n",
       "      <td>top5</td>\n",
       "      <td>13431</td>\n",
       "    </tr>\n",
       "    <tr>\n",
       "      <th>8</th>\n",
       "      <td>p_trend2</td>\n",
       "      <td>13375</td>\n",
       "    </tr>\n",
       "    <tr>\n",
       "      <th>9</th>\n",
       "      <td>p_trend3</td>\n",
       "      <td>13363</td>\n",
       "    </tr>\n",
       "    <tr>\n",
       "      <th>10</th>\n",
       "      <td>top4</td>\n",
       "      <td>13085</td>\n",
       "    </tr>\n",
       "    <tr>\n",
       "      <th>11</th>\n",
       "      <td>n_cell</td>\n",
       "      <td>12855</td>\n",
       "    </tr>\n",
       "    <tr>\n",
       "      <th>12</th>\n",
       "      <td>p2_top2s_prob</td>\n",
       "      <td>12845</td>\n",
       "    </tr>\n",
       "    <tr>\n",
       "      <th>13</th>\n",
       "      <td>p_trend6</td>\n",
       "      <td>12709</td>\n",
       "    </tr>\n",
       "    <tr>\n",
       "      <th>14</th>\n",
       "      <td>pred_p2</td>\n",
       "      <td>12404</td>\n",
       "    </tr>\n",
       "    <tr>\n",
       "      <th>15</th>\n",
       "      <td>p_trend5</td>\n",
       "      <td>12362</td>\n",
       "    </tr>\n",
       "    <tr>\n",
       "      <th>16</th>\n",
       "      <td>p2_top2_prob</td>\n",
       "      <td>12237</td>\n",
       "    </tr>\n",
       "    <tr>\n",
       "      <th>17</th>\n",
       "      <td>cls_pred_p2</td>\n",
       "      <td>12143</td>\n",
       "    </tr>\n",
       "    <tr>\n",
       "      <th>18</th>\n",
       "      <td>p2_max_prob</td>\n",
       "      <td>12010</td>\n",
       "    </tr>\n",
       "    <tr>\n",
       "      <th>19</th>\n",
       "      <td>p_trend4</td>\n",
       "      <td>11975</td>\n",
       "    </tr>\n",
       "    <tr>\n",
       "      <th>20</th>\n",
       "      <td>pred_diff12</td>\n",
       "      <td>10984</td>\n",
       "    </tr>\n",
       "    <tr>\n",
       "      <th>21</th>\n",
       "      <td>top3</td>\n",
       "      <td>10928</td>\n",
       "    </tr>\n",
       "    <tr>\n",
       "      <th>22</th>\n",
       "      <td>pred_diff2</td>\n",
       "      <td>10671</td>\n",
       "    </tr>\n",
       "    <tr>\n",
       "      <th>23</th>\n",
       "      <td>reg_pred</td>\n",
       "      <td>10605</td>\n",
       "    </tr>\n",
       "    <tr>\n",
       "      <th>24</th>\n",
       "      <td>top2_sim</td>\n",
       "      <td>10052</td>\n",
       "    </tr>\n",
       "    <tr>\n",
       "      <th>25</th>\n",
       "      <td>pred_diff9</td>\n",
       "      <td>10026</td>\n",
       "    </tr>\n",
       "    <tr>\n",
       "      <th>26</th>\n",
       "      <td>pred_diff13</td>\n",
       "      <td>10012</td>\n",
       "    </tr>\n",
       "    <tr>\n",
       "      <th>27</th>\n",
       "      <td>n_markdown_cell</td>\n",
       "      <td>9782</td>\n",
       "    </tr>\n",
       "    <tr>\n",
       "      <th>28</th>\n",
       "      <td>pred_diff11</td>\n",
       "      <td>9780</td>\n",
       "    </tr>\n",
       "    <tr>\n",
       "      <th>29</th>\n",
       "      <td>pred_diff1</td>\n",
       "      <td>9688</td>\n",
       "    </tr>\n",
       "    <tr>\n",
       "      <th>30</th>\n",
       "      <td>top4_prob</td>\n",
       "      <td>9651</td>\n",
       "    </tr>\n",
       "    <tr>\n",
       "      <th>31</th>\n",
       "      <td>p_ntile3</td>\n",
       "      <td>9630</td>\n",
       "    </tr>\n",
       "    <tr>\n",
       "      <th>32</th>\n",
       "      <td>p_ntile0</td>\n",
       "      <td>9595</td>\n",
       "    </tr>\n",
       "    <tr>\n",
       "      <th>33</th>\n",
       "      <td>max_sim</td>\n",
       "      <td>9548</td>\n",
       "    </tr>\n",
       "    <tr>\n",
       "      <th>34</th>\n",
       "      <td>top2</td>\n",
       "      <td>9489</td>\n",
       "    </tr>\n",
       "    <tr>\n",
       "      <th>35</th>\n",
       "      <td>top2s_prob</td>\n",
       "      <td>9370</td>\n",
       "    </tr>\n",
       "    <tr>\n",
       "      <th>36</th>\n",
       "      <td>n_code_cell</td>\n",
       "      <td>9182</td>\n",
       "    </tr>\n",
       "    <tr>\n",
       "      <th>37</th>\n",
       "      <td>pred_diff0</td>\n",
       "      <td>9088</td>\n",
       "    </tr>\n",
       "    <tr>\n",
       "      <th>38</th>\n",
       "      <td>pred_diff10</td>\n",
       "      <td>9051</td>\n",
       "    </tr>\n",
       "    <tr>\n",
       "      <th>39</th>\n",
       "      <td>top5_prob</td>\n",
       "      <td>8807</td>\n",
       "    </tr>\n",
       "    <tr>\n",
       "      <th>40</th>\n",
       "      <td>p_ntile4</td>\n",
       "      <td>8698</td>\n",
       "    </tr>\n",
       "    <tr>\n",
       "      <th>41</th>\n",
       "      <td>top3_prob</td>\n",
       "      <td>8396</td>\n",
       "    </tr>\n",
       "    <tr>\n",
       "      <th>42</th>\n",
       "      <td>pred_diff8</td>\n",
       "      <td>8168</td>\n",
       "    </tr>\n",
       "    <tr>\n",
       "      <th>43</th>\n",
       "      <td>p_ntile1</td>\n",
       "      <td>8163</td>\n",
       "    </tr>\n",
       "    <tr>\n",
       "      <th>44</th>\n",
       "      <td>cls_pred_c</td>\n",
       "      <td>7974</td>\n",
       "    </tr>\n",
       "    <tr>\n",
       "      <th>45</th>\n",
       "      <td>p_ntile2</td>\n",
       "      <td>7907</td>\n",
       "    </tr>\n",
       "    <tr>\n",
       "      <th>46</th>\n",
       "      <td>top5_sim</td>\n",
       "      <td>7879</td>\n",
       "    </tr>\n",
       "    <tr>\n",
       "      <th>47</th>\n",
       "      <td>cls_pred_p</td>\n",
       "      <td>7871</td>\n",
       "    </tr>\n",
       "    <tr>\n",
       "      <th>48</th>\n",
       "      <td>pred_c</td>\n",
       "      <td>7822</td>\n",
       "    </tr>\n",
       "    <tr>\n",
       "      <th>49</th>\n",
       "      <td>top3_sim</td>\n",
       "      <td>7586</td>\n",
       "    </tr>\n",
       "    <tr>\n",
       "      <th>50</th>\n",
       "      <td>pred_p</td>\n",
       "      <td>7305</td>\n",
       "    </tr>\n",
       "    <tr>\n",
       "      <th>51</th>\n",
       "      <td>pred_diff7</td>\n",
       "      <td>7291</td>\n",
       "    </tr>\n",
       "    <tr>\n",
       "      <th>52</th>\n",
       "      <td>pred_diff6</td>\n",
       "      <td>7102</td>\n",
       "    </tr>\n",
       "    <tr>\n",
       "      <th>53</th>\n",
       "      <td>top4_sim</td>\n",
       "      <td>7033</td>\n",
       "    </tr>\n",
       "    <tr>\n",
       "      <th>54</th>\n",
       "      <td>pred_diff5</td>\n",
       "      <td>6932</td>\n",
       "    </tr>\n",
       "    <tr>\n",
       "      <th>55</th>\n",
       "      <td>pred_diff4</td>\n",
       "      <td>5750</td>\n",
       "    </tr>\n",
       "    <tr>\n",
       "      <th>56</th>\n",
       "      <td>cls2_pred</td>\n",
       "      <td>5422</td>\n",
       "    </tr>\n",
       "    <tr>\n",
       "      <th>57</th>\n",
       "      <td>span</td>\n",
       "      <td>1968</td>\n",
       "    </tr>\n",
       "    <tr>\n",
       "      <th>58</th>\n",
       "      <td>c_trend5</td>\n",
       "      <td>0</td>\n",
       "    </tr>\n",
       "    <tr>\n",
       "      <th>59</th>\n",
       "      <td>c_trend6</td>\n",
       "      <td>0</td>\n",
       "    </tr>\n",
       "    <tr>\n",
       "      <th>60</th>\n",
       "      <td>c_ntile0</td>\n",
       "      <td>0</td>\n",
       "    </tr>\n",
       "    <tr>\n",
       "      <th>61</th>\n",
       "      <td>c_trend3</td>\n",
       "      <td>0</td>\n",
       "    </tr>\n",
       "    <tr>\n",
       "      <th>62</th>\n",
       "      <td>c_ntile1</td>\n",
       "      <td>0</td>\n",
       "    </tr>\n",
       "    <tr>\n",
       "      <th>63</th>\n",
       "      <td>c_ntile2</td>\n",
       "      <td>0</td>\n",
       "    </tr>\n",
       "    <tr>\n",
       "      <th>64</th>\n",
       "      <td>c_trend4</td>\n",
       "      <td>0</td>\n",
       "    </tr>\n",
       "    <tr>\n",
       "      <th>65</th>\n",
       "      <td>c_trend2</td>\n",
       "      <td>0</td>\n",
       "    </tr>\n",
       "    <tr>\n",
       "      <th>66</th>\n",
       "      <td>ctop3_prob</td>\n",
       "      <td>0</td>\n",
       "    </tr>\n",
       "    <tr>\n",
       "      <th>67</th>\n",
       "      <td>c_trend0</td>\n",
       "      <td>0</td>\n",
       "    </tr>\n",
       "    <tr>\n",
       "      <th>68</th>\n",
       "      <td>ctop4_prob</td>\n",
       "      <td>0</td>\n",
       "    </tr>\n",
       "    <tr>\n",
       "      <th>69</th>\n",
       "      <td>c_ntile3</td>\n",
       "      <td>0</td>\n",
       "    </tr>\n",
       "    <tr>\n",
       "      <th>70</th>\n",
       "      <td>ctop_prob</td>\n",
       "      <td>0</td>\n",
       "    </tr>\n",
       "    <tr>\n",
       "      <th>71</th>\n",
       "      <td>ctop2</td>\n",
       "      <td>0</td>\n",
       "    </tr>\n",
       "    <tr>\n",
       "      <th>72</th>\n",
       "      <td>ctop3</td>\n",
       "      <td>0</td>\n",
       "    </tr>\n",
       "    <tr>\n",
       "      <th>73</th>\n",
       "      <td>ctop4</td>\n",
       "      <td>0</td>\n",
       "    </tr>\n",
       "    <tr>\n",
       "      <th>74</th>\n",
       "      <td>ctop2_prob</td>\n",
       "      <td>0</td>\n",
       "    </tr>\n",
       "    <tr>\n",
       "      <th>75</th>\n",
       "      <td>c_trend1</td>\n",
       "      <td>0</td>\n",
       "    </tr>\n",
       "    <tr>\n",
       "      <th>76</th>\n",
       "      <td>c_ntile4</td>\n",
       "      <td>0</td>\n",
       "    </tr>\n",
       "  </tbody>\n",
       "</table>\n",
       "</div>"
      ],
      "text/plain": [
       "          feat_name  importanace\n",
       "0         top2_prob        15905\n",
       "1          max_prob        15708\n",
       "2     markdown_frac        15156\n",
       "3          p_trend0        14509\n",
       "4          p_trend1        14399\n",
       "5           p2_top2        14303\n",
       "6        pred_diff3        13608\n",
       "7              top5        13431\n",
       "8          p_trend2        13375\n",
       "9          p_trend3        13363\n",
       "10             top4        13085\n",
       "11           n_cell        12855\n",
       "12    p2_top2s_prob        12845\n",
       "13         p_trend6        12709\n",
       "14          pred_p2        12404\n",
       "15         p_trend5        12362\n",
       "16     p2_top2_prob        12237\n",
       "17      cls_pred_p2        12143\n",
       "18      p2_max_prob        12010\n",
       "19         p_trend4        11975\n",
       "20      pred_diff12        10984\n",
       "21             top3        10928\n",
       "22       pred_diff2        10671\n",
       "23         reg_pred        10605\n",
       "24         top2_sim        10052\n",
       "25       pred_diff9        10026\n",
       "26      pred_diff13        10012\n",
       "27  n_markdown_cell         9782\n",
       "28      pred_diff11         9780\n",
       "29       pred_diff1         9688\n",
       "30        top4_prob         9651\n",
       "31         p_ntile3         9630\n",
       "32         p_ntile0         9595\n",
       "33          max_sim         9548\n",
       "34             top2         9489\n",
       "35       top2s_prob         9370\n",
       "36      n_code_cell         9182\n",
       "37       pred_diff0         9088\n",
       "38      pred_diff10         9051\n",
       "39        top5_prob         8807\n",
       "40         p_ntile4         8698\n",
       "41        top3_prob         8396\n",
       "42       pred_diff8         8168\n",
       "43         p_ntile1         8163\n",
       "44       cls_pred_c         7974\n",
       "45         p_ntile2         7907\n",
       "46         top5_sim         7879\n",
       "47       cls_pred_p         7871\n",
       "48           pred_c         7822\n",
       "49         top3_sim         7586\n",
       "50           pred_p         7305\n",
       "51       pred_diff7         7291\n",
       "52       pred_diff6         7102\n",
       "53         top4_sim         7033\n",
       "54       pred_diff5         6932\n",
       "55       pred_diff4         5750\n",
       "56        cls2_pred         5422\n",
       "57             span         1968\n",
       "58         c_trend5            0\n",
       "59         c_trend6            0\n",
       "60         c_ntile0            0\n",
       "61         c_trend3            0\n",
       "62         c_ntile1            0\n",
       "63         c_ntile2            0\n",
       "64         c_trend4            0\n",
       "65         c_trend2            0\n",
       "66       ctop3_prob            0\n",
       "67         c_trend0            0\n",
       "68       ctop4_prob            0\n",
       "69         c_ntile3            0\n",
       "70        ctop_prob            0\n",
       "71            ctop2            0\n",
       "72            ctop3            0\n",
       "73            ctop4            0\n",
       "74       ctop2_prob            0\n",
       "75         c_trend1            0\n",
       "76         c_ntile4            0"
      ]
     },
     "execution_count": 143,
     "metadata": {},
     "output_type": "execute_result"
    }
   ],
   "source": [
    "gezi.plot.feature_importance_df(bst)"
   ]
  },
  {
   "cell_type": "code",
   "execution_count": 144,
   "metadata": {},
   "outputs": [
    {
     "data": {
      "text/plain": [
       "0.9133472549351369"
      ]
     },
     "execution_count": 144,
     "metadata": {},
     "output_type": "execute_result"
    }
   ],
   "source": [
    "calc_metric({'id': dvalid.id.values, 'cell_id': dvalid.cell_id.values, 'pred': dvalid.lgb_pred.values})"
   ]
  },
  {
   "cell_type": "code",
   "execution_count": 145,
   "metadata": {},
   "outputs": [
    {
     "data": {
      "text/plain": [
       "0.9122073807841654"
      ]
     },
     "execution_count": 145,
     "metadata": {},
     "output_type": "execute_result"
    }
   ],
   "source": [
    "calc_metric({'id': dvalid.id.values, 'cell_id': dvalid.cell_id.values, 'pred': dvalid.cb_pred.values})"
   ]
  },
  {
   "cell_type": "code",
   "execution_count": 146,
   "metadata": {},
   "outputs": [
    {
     "data": {
      "text/plain": [
       "0.9132382089902022"
      ]
     },
     "execution_count": 146,
     "metadata": {},
     "output_type": "execute_result"
    }
   ],
   "source": [
    "calc_metric({'id': dvalid.id.values, 'cell_id': dvalid.cell_id.values, 'pred': (dvalid.cb_pred.values + dvalid.lgb_pred.values) / 2.})"
   ]
  },
  {
   "cell_type": "code",
   "execution_count": 147,
   "metadata": {},
   "outputs": [
    {
     "data": {
      "text/plain": [
       "0.9133993801478208"
      ]
     },
     "execution_count": 147,
     "metadata": {},
     "output_type": "execute_result"
    }
   ],
   "source": [
    "calc_metric({'id': dvalid.id.values, 'cell_id': dvalid.cell_id.values, 'pred': (dvalid.cb_pred.values * 0.3 + dvalid.lgb_pred.values * 0.7)})"
   ]
  },
  {
   "cell_type": "code",
   "execution_count": null,
   "metadata": {},
   "outputs": [],
   "source": []
  },
  {
   "cell_type": "code",
   "execution_count": null,
   "metadata": {},
   "outputs": [],
   "source": []
  },
  {
   "cell_type": "code",
   "execution_count": null,
   "metadata": {},
   "outputs": [],
   "source": []
  },
  {
   "cell_type": "code",
   "execution_count": null,
   "metadata": {},
   "outputs": [],
   "source": []
  }
 ],
 "metadata": {
  "interpreter": {
   "hash": "1925003cfa3979ae366740114cfe890bf8d7ad5b88e4afe0ec571fe261ed45e3"
  },
  "kernelspec": {
   "display_name": "Python 3.7.9",
   "language": "python",
   "name": "python3"
  },
  "language_info": {
   "codemirror_mode": {
    "name": "ipython",
    "version": 3
   },
   "file_extension": ".py",
   "mimetype": "text/x-python",
   "name": "python",
   "nbconvert_exporter": "python",
   "pygments_lexer": "ipython3",
   "version": "3.7.9"
  },
  "orig_nbformat": 4
 },
 "nbformat": 4,
 "nbformat_minor": 2
}
