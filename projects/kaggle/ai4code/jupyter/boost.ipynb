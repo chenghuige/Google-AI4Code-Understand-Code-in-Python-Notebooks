{
 "cells": [
  {
   "cell_type": "code",
   "execution_count": 119,
   "metadata": {},
   "outputs": [],
   "source": [
    "import sys\n",
    "sys.path.append('..')\n",
    "sys.path.append('../../../../utils')\n",
    "sys.path.append('../../../../third')\n",
    "from gezi.common import *\n",
    "from src.config import *\n",
    "from src.preprocess import *\n",
    "from src.eval import *\n",
    "gezi.init_flags()\n",
    "gezi.set_pandas()"
   ]
  },
  {
   "cell_type": "code",
   "execution_count": 120,
   "metadata": {},
   "outputs": [],
   "source": [
    "V = 7\n",
    "root = f'../working/offline/{V}/0'\n",
    "# pairwise two tower, recall model\n",
    "# pt_model = 'all-mpnet-base-v2.flag-pairwise14-2-pre_ext_emlm_mlm.ep1'\n",
    "# p2t_model = 'all-mpnet-base-v2.flag-pairwise14-2'\n",
    "pt_model = 'all-mpnet-base-v2.flag-pairwise14-2-pre_mlm3'\n",
    "# pt_model = 'all-mpnet-base-v2.flag-pairwise14-2'\n",
    "# pt_model2 = 'pmminilm.flag-pairwise14-2-pre_emlm_mlm-mmnilm'\n",
    "# pt_model2 = 'pmminilm.flag-pairwise14-2-pre_mlm3-pmminilm'\n",
    "pt_model2 = 'pmminilm.flag-pairwise14-2'\n",
    "# pairwise concat, rank model\n",
    "pc_model = 'deberta-v3-small.flag-pairwise14-4-cat-insert-extpred-ft.neg_rand_prob-0.neg_strategy-rand-sample'\n",
    "# context model\n",
    "# c_model = 'deberta-v3-small.flag-context4-2-d'\n",
    "# c_model2 = 'lsg-mminilm.flag-context4-3-d-s-mminilm'\n",
    "c_model = 'deberta-v3-small.flag-context4-2-d'"
   ]
  },
  {
   "cell_type": "code",
   "execution_count": 121,
   "metadata": {},
   "outputs": [],
   "source": [
    "LABEL_COL = 'rel_rank'\n",
    "df_train = pd.read_feather('../working/train.fea')\n",
    "df_train = df_train[df_train.fold==0]"
   ]
  },
  {
   "cell_type": "code",
   "execution_count": 122,
   "metadata": {},
   "outputs": [],
   "source": [
    "xp = gezi.load(f'{root}/{pt_model}.eval/valid.pkl')"
   ]
  },
  {
   "cell_type": "code",
   "execution_count": 123,
   "metadata": {},
   "outputs": [],
   "source": [
    "xp2 = gezi.load(f'{root}/{pt_model2}.eval/valid.pkl')"
   ]
  },
  {
   "cell_type": "code",
   "execution_count": 124,
   "metadata": {},
   "outputs": [],
   "source": [
    "x = xp.copy()\n",
    "rate = 0.9\n",
    "x['pred'] = rate * xp['cls_pred'] + (1 - rate) * xp2['cls_pred'] "
   ]
  },
  {
   "cell_type": "code",
   "execution_count": 125,
   "metadata": {},
   "outputs": [
    {
     "data": {
      "text/plain": [
       "0.8943555924847786"
      ]
     },
     "execution_count": 125,
     "metadata": {},
     "output_type": "execute_result"
    }
   ],
   "source": [
    "calc_metric(x)"
   ]
  },
  {
   "cell_type": "code",
   "execution_count": 126,
   "metadata": {},
   "outputs": [
    {
     "data": {
      "text/plain": [
       "0.8906469282447388"
      ]
     },
     "execution_count": 126,
     "metadata": {},
     "output_type": "execute_result"
    }
   ],
   "source": [
    "calc_metric(xp)"
   ]
  },
  {
   "cell_type": "code",
   "execution_count": 127,
   "metadata": {},
   "outputs": [
    {
     "data": {
      "text/plain": [
       "0.8754903143845476"
      ]
     },
     "execution_count": 127,
     "metadata": {},
     "output_type": "execute_result"
    }
   ],
   "source": [
    "calc_metric(xp2)"
   ]
  },
  {
   "cell_type": "code",
   "execution_count": 128,
   "metadata": {},
   "outputs": [
    {
     "data": {
      "text/plain": [
       "dict_keys(['id', 'cell_id', 'cid', 'pred', 'max_prob', 'max_sim', 'cls_pred', 'n_words', 'match_rank', 'match_code', 'n_code_cell', 'n_cell', 'probs', 'sims'])"
      ]
     },
     "execution_count": 128,
     "metadata": {},
     "output_type": "execute_result"
    }
   ],
   "source": [
    "xp.keys()"
   ]
  },
  {
   "cell_type": "code",
   "execution_count": 129,
   "metadata": {},
   "outputs": [],
   "source": [
    "def gen_feat(x_):\n",
    "  topn = 10\n",
    "  x = {}\n",
    "  keys = ['pred', 'cls_pred']\n",
    "  x = {k: x_[k] for k in keys}\n",
    "  x['rank_pred'] = x['pred'] * (1 + x_['n_code_cell']) - 0.5\n",
    "  x['cls_rank_pred'] = x['cls_pred'] * (1 + x_['n_code_cell']) - 0.5\n",
    "  x['min_prob'] = x_['probs'].min()\n",
    "  x['min_sim'] = x_['sims'].min()\n",
    "  x['var_prob'] = np.var(x_['probs'])\n",
    "  x['var_sim'] = np.var(x_['sims'])\n",
    "  idxes = (-x_['probs']).argsort()\n",
    "  for i in range(topn):\n",
    "    if i < len(idxes):\n",
    "      if i > 0:\n",
    "        x[f'top_pred_{i}'] = (idxes[i] + 0.5) / (x_['n_code_cell'] + 1)\n",
    "      x[f'top_prob_{i}'] = x_['probs'][idxes[i]]\n",
    "      x[f'top_sim_{i}'] = x_['sims'][idxes[i]]\n",
    "    else:\n",
    "      x[f'top_pred_{i}'] = -1\n",
    "      x[f'top_prob_{i}'] = -1\n",
    "      x[f'top_sim_{i}'] = -1\n",
    "  x['cls_diff'] = x['cls_pred'] - x['pred']\n",
    "  x['abs_cls_diff'] = abs(x['cls_diff'])\n",
    "  return x"
   ]
  },
  {
   "cell_type": "code",
   "execution_count": 130,
   "metadata": {},
   "outputs": [],
   "source": [
    "def gen_feats():\n",
    "  xs = gezi.batch2list(xp)\n",
    "  p_feats = [gen_feat(x) for x in tqdm(xs, desc=f'gen_feats:xp')]\n",
    "  # p_feats = gezi.prun_list(gen_feat, xs, 2, desc=f'gen_feats:xp')\n",
    "  xs = gezi.batch2list(xp2)\n",
    "  p2_feats = [gen_feat(x) for x in tqdm(xs, desc=f'gen_feats:xp2')]\n",
    "  # p2_feats = gezi.prun_list(gen_feat, xs, 2, desc=f'gen_feats:xp2')\n",
    "  feats = []\n",
    "  for i in tqdm(range(len(xs)), desc='merge_feats'):\n",
    "    fe1 = p_feats[i]\n",
    "    fe2= p2_feats[i]\n",
    "    \n",
    "    fe = {}\n",
    "    fe['code_ratio'] = xp['n_code_cell'][i] / xp['n_cell'][i]\n",
    "    fe['ps_pred_diff'] = fe1['pred'] - fe2['pred']\n",
    "    fe['abs_ps_pred_diff'] = abs(fe['ps_pred_diff'])\n",
    "    fe['ps_cls_pred_diff'] = fe1['cls_pred'] - fe2['cls_pred']\n",
    "    fe['abs_ps_cls_pred_diff'] = abs(fe['ps_cls_pred_diff'])\n",
    "    \n",
    "    fe1 = gezi.dict_prefix(fe1, 'p_')\n",
    "    fe2 = gezi.dict_prefix(fe2, 'p2_')\n",
    "    fe.update(fe1)\n",
    "    fe.update(fe2)\n",
    "    \n",
    "    keys = [\n",
    "     'id', 'cell_id', 'cid',\n",
    "     'n_words', 'n_code_cell', 'n_cell'\n",
    "    ]\n",
    "    for key in keys:\n",
    "      fe[key] = xp[key][i]\n",
    "      \n",
    "    #  ic(feat)\n",
    "    feats.append(fe)\n",
    "  #  break\n",
    "  dfeats = pd.DataFrame(feats)\n",
    "  return dfeats"
   ]
  },
  {
   "cell_type": "code",
   "execution_count": 131,
   "metadata": {},
   "outputs": [
    {
     "data": {
      "application/vnd.jupyter.widget-view+json": {
       "model_id": "5c001a0a8c0b4710a3427e28df0e6880",
       "version_major": 2,
       "version_minor": 0
      },
      "text/plain": [
       "gen_feats:xp:   0%|          | 0/424943 [00:00<?, ?it/s]"
      ]
     },
     "metadata": {},
     "output_type": "display_data"
    },
    {
     "data": {
      "application/vnd.jupyter.widget-view+json": {
       "model_id": "63a1dd90d23a451ab2110465b8cfa8c4",
       "version_major": 2,
       "version_minor": 0
      },
      "text/plain": [
       "gen_feats:xp2:   0%|          | 0/424943 [00:00<?, ?it/s]"
      ]
     },
     "metadata": {},
     "output_type": "display_data"
    },
    {
     "data": {
      "application/vnd.jupyter.widget-view+json": {
       "model_id": "6745d4b780174822b0c921ccc61d6dd2",
       "version_major": 2,
       "version_minor": 0
      },
      "text/plain": [
       "merge_feats:   0%|          | 0/424943 [00:00<?, ?it/s]"
      ]
     },
     "metadata": {},
     "output_type": "display_data"
    }
   ],
   "source": [
    "dfeats = gen_feats()"
   ]
  },
  {
   "cell_type": "code",
   "execution_count": 132,
   "metadata": {},
   "outputs": [
    {
     "data": {
      "text/html": [
       "<div>\n",
       "<style scoped>\n",
       "    .dataframe tbody tr th:only-of-type {\n",
       "        vertical-align: middle;\n",
       "    }\n",
       "\n",
       "    .dataframe tbody tr th {\n",
       "        vertical-align: top;\n",
       "    }\n",
       "\n",
       "    .dataframe thead th {\n",
       "        text-align: right;\n",
       "    }\n",
       "</style>\n",
       "<table border=\"1\" class=\"dataframe\">\n",
       "  <thead>\n",
       "    <tr style=\"text-align: right;\">\n",
       "      <th></th>\n",
       "      <th>code_ratio</th>\n",
       "      <th>ps_pred_diff</th>\n",
       "      <th>abs_ps_pred_diff</th>\n",
       "      <th>ps_cls_pred_diff</th>\n",
       "      <th>abs_ps_cls_pred_diff</th>\n",
       "      <th>p_pred</th>\n",
       "      <th>p_cls_pred</th>\n",
       "      <th>p_rank_pred</th>\n",
       "      <th>p_cls_rank_pred</th>\n",
       "      <th>p_min_prob</th>\n",
       "      <th>p_min_sim</th>\n",
       "      <th>p_var_prob</th>\n",
       "      <th>p_var_sim</th>\n",
       "      <th>p_top_prob_0</th>\n",
       "      <th>p_top_sim_0</th>\n",
       "      <th>p_top_pred_1</th>\n",
       "      <th>p_top_prob_1</th>\n",
       "      <th>p_top_sim_1</th>\n",
       "      <th>p_top_pred_2</th>\n",
       "      <th>p_top_prob_2</th>\n",
       "      <th>p_top_sim_2</th>\n",
       "      <th>p_top_pred_3</th>\n",
       "      <th>p_top_prob_3</th>\n",
       "      <th>p_top_sim_3</th>\n",
       "      <th>p_top_pred_4</th>\n",
       "      <th>p_top_prob_4</th>\n",
       "      <th>p_top_sim_4</th>\n",
       "      <th>p_top_pred_5</th>\n",
       "      <th>p_top_prob_5</th>\n",
       "      <th>p_top_sim_5</th>\n",
       "      <th>p_top_pred_6</th>\n",
       "      <th>p_top_prob_6</th>\n",
       "      <th>p_top_sim_6</th>\n",
       "      <th>p_top_pred_7</th>\n",
       "      <th>p_top_prob_7</th>\n",
       "      <th>p_top_sim_7</th>\n",
       "      <th>p_top_pred_8</th>\n",
       "      <th>p_top_prob_8</th>\n",
       "      <th>p_top_sim_8</th>\n",
       "      <th>p_top_pred_9</th>\n",
       "      <th>p_top_prob_9</th>\n",
       "      <th>p_top_sim_9</th>\n",
       "      <th>p_cls_diff</th>\n",
       "      <th>p_abs_cls_diff</th>\n",
       "      <th>p2_pred</th>\n",
       "      <th>p2_cls_pred</th>\n",
       "      <th>p2_rank_pred</th>\n",
       "      <th>p2_cls_rank_pred</th>\n",
       "      <th>p2_min_prob</th>\n",
       "      <th>p2_min_sim</th>\n",
       "      <th>p2_var_prob</th>\n",
       "      <th>p2_var_sim</th>\n",
       "      <th>p2_top_prob_0</th>\n",
       "      <th>p2_top_sim_0</th>\n",
       "      <th>p2_top_pred_1</th>\n",
       "      <th>p2_top_prob_1</th>\n",
       "      <th>p2_top_sim_1</th>\n",
       "      <th>p2_top_pred_2</th>\n",
       "      <th>p2_top_prob_2</th>\n",
       "      <th>p2_top_sim_2</th>\n",
       "      <th>p2_top_pred_3</th>\n",
       "      <th>p2_top_prob_3</th>\n",
       "      <th>p2_top_sim_3</th>\n",
       "      <th>p2_top_pred_4</th>\n",
       "      <th>p2_top_prob_4</th>\n",
       "      <th>p2_top_sim_4</th>\n",
       "      <th>p2_top_pred_5</th>\n",
       "      <th>p2_top_prob_5</th>\n",
       "      <th>p2_top_sim_5</th>\n",
       "      <th>p2_top_pred_6</th>\n",
       "      <th>p2_top_prob_6</th>\n",
       "      <th>p2_top_sim_6</th>\n",
       "      <th>p2_top_pred_7</th>\n",
       "      <th>p2_top_prob_7</th>\n",
       "      <th>p2_top_sim_7</th>\n",
       "      <th>p2_top_pred_8</th>\n",
       "      <th>p2_top_prob_8</th>\n",
       "      <th>p2_top_sim_8</th>\n",
       "      <th>p2_top_pred_9</th>\n",
       "      <th>p2_top_prob_9</th>\n",
       "      <th>p2_top_sim_9</th>\n",
       "      <th>p2_cls_diff</th>\n",
       "      <th>p2_abs_cls_diff</th>\n",
       "      <th>id</th>\n",
       "      <th>cell_id</th>\n",
       "      <th>cid</th>\n",
       "      <th>n_words</th>\n",
       "      <th>n_code_cell</th>\n",
       "      <th>n_cell</th>\n",
       "    </tr>\n",
       "  </thead>\n",
       "  <tbody>\n",
       "    <tr>\n",
       "      <th>0</th>\n",
       "      <td>0.8889</td>\n",
       "      <td>0.0000</td>\n",
       "      <td>0.0000</td>\n",
       "      <td>-0.0237</td>\n",
       "      <td>0.0237</td>\n",
       "      <td>0.0556</td>\n",
       "      <td>0.0645</td>\n",
       "      <td>0.0000</td>\n",
       "      <td>0.0808</td>\n",
       "      <td>0.0000</td>\n",
       "      <td>0.5031</td>\n",
       "      <td>0.0867</td>\n",
       "      <td>0.0062</td>\n",
       "      <td>0.9432</td>\n",
       "      <td>0.7505</td>\n",
       "      <td>0.1667</td>\n",
       "      <td>0.0456</td>\n",
       "      <td>0.6840</td>\n",
       "      <td>0.3889</td>\n",
       "      <td>0.0096</td>\n",
       "      <td>0.6498</td>\n",
       "      <td>0.6111</td>\n",
       "      <td>0.0008</td>\n",
       "      <td>0.5963</td>\n",
       "      <td>0.2778</td>\n",
       "      <td>0.0006</td>\n",
       "      <td>0.5899</td>\n",
       "      <td>0.5000</td>\n",
       "      <td>0.0001</td>\n",
       "      <td>0.5559</td>\n",
       "      <td>0.9444</td>\n",
       "      <td>0.0000</td>\n",
       "      <td>0.5262</td>\n",
       "      <td>0.7222</td>\n",
       "      <td>0.0000</td>\n",
       "      <td>0.5204</td>\n",
       "      <td>0.8333</td>\n",
       "      <td>0.0000</td>\n",
       "      <td>0.5031</td>\n",
       "      <td>-1.0000</td>\n",
       "      <td>-1.0000</td>\n",
       "      <td>-1.0000</td>\n",
       "      <td>0.0090</td>\n",
       "      <td>0.0090</td>\n",
       "      <td>0.0556</td>\n",
       "      <td>0.0882</td>\n",
       "      <td>0.0000</td>\n",
       "      <td>0.2937</td>\n",
       "      <td>0.0000</td>\n",
       "      <td>0.2628</td>\n",
       "      <td>0.0591</td>\n",
       "      <td>0.0098</td>\n",
       "      <td>0.7826</td>\n",
       "      <td>0.5662</td>\n",
       "      <td>0.1667</td>\n",
       "      <td>0.1731</td>\n",
       "      <td>0.5248</td>\n",
       "      <td>0.3889</td>\n",
       "      <td>0.0202</td>\n",
       "      <td>0.4660</td>\n",
       "      <td>0.2778</td>\n",
       "      <td>0.0201</td>\n",
       "      <td>0.4658</td>\n",
       "      <td>0.6111</td>\n",
       "      <td>0.0025</td>\n",
       "      <td>0.4087</td>\n",
       "      <td>0.5000</td>\n",
       "      <td>0.0011</td>\n",
       "      <td>0.3866</td>\n",
       "      <td>0.9444</td>\n",
       "      <td>0.0003</td>\n",
       "      <td>0.3546</td>\n",
       "      <td>0.7222</td>\n",
       "      <td>0.0000</td>\n",
       "      <td>0.2721</td>\n",
       "      <td>0.8333</td>\n",
       "      <td>0.0000</td>\n",
       "      <td>0.2628</td>\n",
       "      <td>-1.0000</td>\n",
       "      <td>-1.0000</td>\n",
       "      <td>-1.0000</td>\n",
       "      <td>0.0326</td>\n",
       "      <td>0.0326</td>\n",
       "      <td>0002115f48f982</td>\n",
       "      <td>9ec225f0</td>\n",
       "      <td>0002115f48f982\\t9ec225f0</td>\n",
       "      <td>2</td>\n",
       "      <td>8</td>\n",
       "      <td>9</td>\n",
       "    </tr>\n",
       "    <tr>\n",
       "      <th>1</th>\n",
       "      <td>0.8333</td>\n",
       "      <td>0.4545</td>\n",
       "      <td>0.4545</td>\n",
       "      <td>0.2323</td>\n",
       "      <td>0.2323</td>\n",
       "      <td>0.5000</td>\n",
       "      <td>0.4358</td>\n",
       "      <td>5.0000</td>\n",
       "      <td>4.2939</td>\n",
       "      <td>0.0004</td>\n",
       "      <td>0.4950</td>\n",
       "      <td>0.0226</td>\n",
       "      <td>0.0026</td>\n",
       "      <td>0.5150</td>\n",
       "      <td>0.6508</td>\n",
       "      <td>0.2273</td>\n",
       "      <td>0.2409</td>\n",
       "      <td>0.6341</td>\n",
       "      <td>0.4091</td>\n",
       "      <td>0.0963</td>\n",
       "      <td>0.6140</td>\n",
       "      <td>0.5909</td>\n",
       "      <td>0.0622</td>\n",
       "      <td>0.6044</td>\n",
       "      <td>0.6818</td>\n",
       "      <td>0.0523</td>\n",
       "      <td>0.6006</td>\n",
       "      <td>0.3182</td>\n",
       "      <td>0.0235</td>\n",
       "      <td>0.5830</td>\n",
       "      <td>0.1364</td>\n",
       "      <td>0.0035</td>\n",
       "      <td>0.5409</td>\n",
       "      <td>0.9545</td>\n",
       "      <td>0.0029</td>\n",
       "      <td>0.5374</td>\n",
       "      <td>0.0455</td>\n",
       "      <td>0.0023</td>\n",
       "      <td>0.5322</td>\n",
       "      <td>0.8636</td>\n",
       "      <td>0.0006</td>\n",
       "      <td>0.5029</td>\n",
       "      <td>-0.0642</td>\n",
       "      <td>0.0642</td>\n",
       "      <td>0.0455</td>\n",
       "      <td>0.2035</td>\n",
       "      <td>0.0000</td>\n",
       "      <td>1.7382</td>\n",
       "      <td>0.0010</td>\n",
       "      <td>0.2431</td>\n",
       "      <td>0.0204</td>\n",
       "      <td>0.0037</td>\n",
       "      <td>0.4471</td>\n",
       "      <td>0.4111</td>\n",
       "      <td>0.1364</td>\n",
       "      <td>0.2928</td>\n",
       "      <td>0.3995</td>\n",
       "      <td>0.5000</td>\n",
       "      <td>0.1636</td>\n",
       "      <td>0.3836</td>\n",
       "      <td>0.6818</td>\n",
       "      <td>0.0494</td>\n",
       "      <td>0.3508</td>\n",
       "      <td>0.9545</td>\n",
       "      <td>0.0199</td>\n",
       "      <td>0.3259</td>\n",
       "      <td>0.2273</td>\n",
       "      <td>0.0179</td>\n",
       "      <td>0.3230</td>\n",
       "      <td>0.3182</td>\n",
       "      <td>0.0041</td>\n",
       "      <td>0.2829</td>\n",
       "      <td>0.7727</td>\n",
       "      <td>0.0017</td>\n",
       "      <td>0.2577</td>\n",
       "      <td>0.4091</td>\n",
       "      <td>0.0015</td>\n",
       "      <td>0.2552</td>\n",
       "      <td>0.5909</td>\n",
       "      <td>0.0011</td>\n",
       "      <td>0.2457</td>\n",
       "      <td>0.1580</td>\n",
       "      <td>0.1580</td>\n",
       "      <td>00062ab8487156</td>\n",
       "      <td>aa354742</td>\n",
       "      <td>00062ab8487156\\taa354742</td>\n",
       "      <td>6</td>\n",
       "      <td>10</td>\n",
       "      <td>12</td>\n",
       "    </tr>\n",
       "    <tr>\n",
       "      <th>2</th>\n",
       "      <td>0.8333</td>\n",
       "      <td>0.0000</td>\n",
       "      <td>0.0000</td>\n",
       "      <td>0.0088</td>\n",
       "      <td>0.0088</td>\n",
       "      <td>0.9545</td>\n",
       "      <td>0.9456</td>\n",
       "      <td>10.0000</td>\n",
       "      <td>9.9017</td>\n",
       "      <td>0.0000</td>\n",
       "      <td>0.5679</td>\n",
       "      <td>0.0695</td>\n",
       "      <td>0.0052</td>\n",
       "      <td>0.9215</td>\n",
       "      <td>0.8047</td>\n",
       "      <td>0.8636</td>\n",
       "      <td>0.0752</td>\n",
       "      <td>0.7497</td>\n",
       "      <td>0.2273</td>\n",
       "      <td>0.0012</td>\n",
       "      <td>0.6594</td>\n",
       "      <td>0.0455</td>\n",
       "      <td>0.0010</td>\n",
       "      <td>0.6548</td>\n",
       "      <td>0.7727</td>\n",
       "      <td>0.0006</td>\n",
       "      <td>0.6450</td>\n",
       "      <td>0.6818</td>\n",
       "      <td>0.0002</td>\n",
       "      <td>0.6200</td>\n",
       "      <td>0.4091</td>\n",
       "      <td>0.0001</td>\n",
       "      <td>0.5992</td>\n",
       "      <td>0.1364</td>\n",
       "      <td>0.0001</td>\n",
       "      <td>0.5896</td>\n",
       "      <td>0.5909</td>\n",
       "      <td>0.0000</td>\n",
       "      <td>0.5820</td>\n",
       "      <td>0.5000</td>\n",
       "      <td>0.0000</td>\n",
       "      <td>0.5739</td>\n",
       "      <td>-0.0089</td>\n",
       "      <td>0.0089</td>\n",
       "      <td>0.9545</td>\n",
       "      <td>0.9368</td>\n",
       "      <td>10.0000</td>\n",
       "      <td>9.8051</td>\n",
       "      <td>0.0001</td>\n",
       "      <td>0.2140</td>\n",
       "      <td>0.0672</td>\n",
       "      <td>0.0044</td>\n",
       "      <td>0.9087</td>\n",
       "      <td>0.4671</td>\n",
       "      <td>0.8636</td>\n",
       "      <td>0.0623</td>\n",
       "      <td>0.3937</td>\n",
       "      <td>0.6818</td>\n",
       "      <td>0.0144</td>\n",
       "      <td>0.3535</td>\n",
       "      <td>0.7727</td>\n",
       "      <td>0.0043</td>\n",
       "      <td>0.3202</td>\n",
       "      <td>0.0455</td>\n",
       "      <td>0.0036</td>\n",
       "      <td>0.3155</td>\n",
       "      <td>0.2273</td>\n",
       "      <td>0.0026</td>\n",
       "      <td>0.3071</td>\n",
       "      <td>0.5909</td>\n",
       "      <td>0.0019</td>\n",
       "      <td>0.2982</td>\n",
       "      <td>0.1364</td>\n",
       "      <td>0.0011</td>\n",
       "      <td>0.2824</td>\n",
       "      <td>0.5000</td>\n",
       "      <td>0.0007</td>\n",
       "      <td>0.2700</td>\n",
       "      <td>0.3182</td>\n",
       "      <td>0.0004</td>\n",
       "      <td>0.2561</td>\n",
       "      <td>-0.0177</td>\n",
       "      <td>0.0177</td>\n",
       "      <td>00062ab8487156</td>\n",
       "      <td>96c8449c</td>\n",
       "      <td>00062ab8487156\\t96c8449c</td>\n",
       "      <td>6</td>\n",
       "      <td>10</td>\n",
       "      <td>12</td>\n",
       "    </tr>\n",
       "    <tr>\n",
       "      <th>3</th>\n",
       "      <td>0.5692</td>\n",
       "      <td>0.0000</td>\n",
       "      <td>0.0000</td>\n",
       "      <td>-0.0004</td>\n",
       "      <td>0.0004</td>\n",
       "      <td>0.0132</td>\n",
       "      <td>0.0139</td>\n",
       "      <td>0.0000</td>\n",
       "      <td>0.0264</td>\n",
       "      <td>0.0000</td>\n",
       "      <td>0.3981</td>\n",
       "      <td>0.0249</td>\n",
       "      <td>0.0095</td>\n",
       "      <td>0.9868</td>\n",
       "      <td>0.8596</td>\n",
       "      <td>0.0395</td>\n",
       "      <td>0.0087</td>\n",
       "      <td>0.7556</td>\n",
       "      <td>0.0658</td>\n",
       "      <td>0.0032</td>\n",
       "      <td>0.7340</td>\n",
       "      <td>0.0921</td>\n",
       "      <td>0.0003</td>\n",
       "      <td>0.6848</td>\n",
       "      <td>0.2763</td>\n",
       "      <td>0.0002</td>\n",
       "      <td>0.6746</td>\n",
       "      <td>0.1711</td>\n",
       "      <td>0.0001</td>\n",
       "      <td>0.6648</td>\n",
       "      <td>0.3289</td>\n",
       "      <td>0.0001</td>\n",
       "      <td>0.6519</td>\n",
       "      <td>0.3553</td>\n",
       "      <td>0.0001</td>\n",
       "      <td>0.6504</td>\n",
       "      <td>0.1184</td>\n",
       "      <td>0.0001</td>\n",
       "      <td>0.6480</td>\n",
       "      <td>0.2237</td>\n",
       "      <td>0.0001</td>\n",
       "      <td>0.6425</td>\n",
       "      <td>0.0007</td>\n",
       "      <td>0.0007</td>\n",
       "      <td>0.0132</td>\n",
       "      <td>0.0142</td>\n",
       "      <td>0.0000</td>\n",
       "      <td>0.0403</td>\n",
       "      <td>0.0000</td>\n",
       "      <td>0.0815</td>\n",
       "      <td>0.0253</td>\n",
       "      <td>0.0090</td>\n",
       "      <td>0.9935</td>\n",
       "      <td>0.5934</td>\n",
       "      <td>0.0395</td>\n",
       "      <td>0.0042</td>\n",
       "      <td>0.4435</td>\n",
       "      <td>0.4868</td>\n",
       "      <td>0.0007</td>\n",
       "      <td>0.3938</td>\n",
       "      <td>0.6184</td>\n",
       "      <td>0.0006</td>\n",
       "      <td>0.3890</td>\n",
       "      <td>0.1711</td>\n",
       "      <td>0.0004</td>\n",
       "      <td>0.3766</td>\n",
       "      <td>0.4342</td>\n",
       "      <td>0.0002</td>\n",
       "      <td>0.3534</td>\n",
       "      <td>0.0658</td>\n",
       "      <td>0.0001</td>\n",
       "      <td>0.3504</td>\n",
       "      <td>0.2763</td>\n",
       "      <td>0.0001</td>\n",
       "      <td>0.3423</td>\n",
       "      <td>0.5132</td>\n",
       "      <td>0.0000</td>\n",
       "      <td>0.3201</td>\n",
       "      <td>0.3289</td>\n",
       "      <td>0.0000</td>\n",
       "      <td>0.3191</td>\n",
       "      <td>0.0011</td>\n",
       "      <td>0.0011</td>\n",
       "      <td>000efd285fb982</td>\n",
       "      <td>74a30f80</td>\n",
       "      <td>000efd285fb982\\t74a30f80</td>\n",
       "      <td>102</td>\n",
       "      <td>37</td>\n",
       "      <td>65</td>\n",
       "    </tr>\n",
       "    <tr>\n",
       "      <th>4</th>\n",
       "      <td>0.5692</td>\n",
       "      <td>0.0000</td>\n",
       "      <td>0.0000</td>\n",
       "      <td>0.0108</td>\n",
       "      <td>0.0108</td>\n",
       "      <td>0.0132</td>\n",
       "      <td>0.0671</td>\n",
       "      <td>0.0000</td>\n",
       "      <td>2.0508</td>\n",
       "      <td>0.0000</td>\n",
       "      <td>0.4218</td>\n",
       "      <td>0.0150</td>\n",
       "      <td>0.0071</td>\n",
       "      <td>0.7658</td>\n",
       "      <td>0.7862</td>\n",
       "      <td>0.0395</td>\n",
       "      <td>0.0883</td>\n",
       "      <td>0.7388</td>\n",
       "      <td>0.4868</td>\n",
       "      <td>0.0491</td>\n",
       "      <td>0.7259</td>\n",
       "      <td>0.0658</td>\n",
       "      <td>0.0250</td>\n",
       "      <td>0.7111</td>\n",
       "      <td>0.5395</td>\n",
       "      <td>0.0133</td>\n",
       "      <td>0.6973</td>\n",
       "      <td>0.6184</td>\n",
       "      <td>0.0120</td>\n",
       "      <td>0.6949</td>\n",
       "      <td>0.0921</td>\n",
       "      <td>0.0113</td>\n",
       "      <td>0.6937</td>\n",
       "      <td>0.5132</td>\n",
       "      <td>0.0105</td>\n",
       "      <td>0.6921</td>\n",
       "      <td>0.1711</td>\n",
       "      <td>0.0101</td>\n",
       "      <td>0.6912</td>\n",
       "      <td>0.1184</td>\n",
       "      <td>0.0032</td>\n",
       "      <td>0.6660</td>\n",
       "      <td>0.0540</td>\n",
       "      <td>0.0540</td>\n",
       "      <td>0.0132</td>\n",
       "      <td>0.0563</td>\n",
       "      <td>0.0000</td>\n",
       "      <td>1.6401</td>\n",
       "      <td>0.0000</td>\n",
       "      <td>0.0526</td>\n",
       "      <td>0.0097</td>\n",
       "      <td>0.0109</td>\n",
       "      <td>0.5319</td>\n",
       "      <td>0.4771</td>\n",
       "      <td>0.0395</td>\n",
       "      <td>0.3211</td>\n",
       "      <td>0.4632</td>\n",
       "      <td>0.1711</td>\n",
       "      <td>0.0946</td>\n",
       "      <td>0.4298</td>\n",
       "      <td>0.4868</td>\n",
       "      <td>0.0206</td>\n",
       "      <td>0.3881</td>\n",
       "      <td>0.0658</td>\n",
       "      <td>0.0073</td>\n",
       "      <td>0.3596</td>\n",
       "      <td>0.6184</td>\n",
       "      <td>0.0057</td>\n",
       "      <td>0.3529</td>\n",
       "      <td>0.2763</td>\n",
       "      <td>0.0034</td>\n",
       "      <td>0.3385</td>\n",
       "      <td>0.0921</td>\n",
       "      <td>0.0029</td>\n",
       "      <td>0.3346</td>\n",
       "      <td>0.5132</td>\n",
       "      <td>0.0024</td>\n",
       "      <td>0.3287</td>\n",
       "      <td>0.5395</td>\n",
       "      <td>0.0018</td>\n",
       "      <td>0.3216</td>\n",
       "      <td>0.0432</td>\n",
       "      <td>0.0432</td>\n",
       "      <td>000efd285fb982</td>\n",
       "      <td>ee2c8e08</td>\n",
       "      <td>000efd285fb982\\tee2c8e08</td>\n",
       "      <td>102</td>\n",
       "      <td>37</td>\n",
       "      <td>65</td>\n",
       "    </tr>\n",
       "    <tr>\n",
       "      <th>...</th>\n",
       "      <td>...</td>\n",
       "      <td>...</td>\n",
       "      <td>...</td>\n",
       "      <td>...</td>\n",
       "      <td>...</td>\n",
       "      <td>...</td>\n",
       "      <td>...</td>\n",
       "      <td>...</td>\n",
       "      <td>...</td>\n",
       "      <td>...</td>\n",
       "      <td>...</td>\n",
       "      <td>...</td>\n",
       "      <td>...</td>\n",
       "      <td>...</td>\n",
       "      <td>...</td>\n",
       "      <td>...</td>\n",
       "      <td>...</td>\n",
       "      <td>...</td>\n",
       "      <td>...</td>\n",
       "      <td>...</td>\n",
       "      <td>...</td>\n",
       "      <td>...</td>\n",
       "      <td>...</td>\n",
       "      <td>...</td>\n",
       "      <td>...</td>\n",
       "      <td>...</td>\n",
       "      <td>...</td>\n",
       "      <td>...</td>\n",
       "      <td>...</td>\n",
       "      <td>...</td>\n",
       "      <td>...</td>\n",
       "      <td>...</td>\n",
       "      <td>...</td>\n",
       "      <td>...</td>\n",
       "      <td>...</td>\n",
       "      <td>...</td>\n",
       "      <td>...</td>\n",
       "      <td>...</td>\n",
       "      <td>...</td>\n",
       "      <td>...</td>\n",
       "      <td>...</td>\n",
       "      <td>...</td>\n",
       "      <td>...</td>\n",
       "      <td>...</td>\n",
       "      <td>...</td>\n",
       "      <td>...</td>\n",
       "      <td>...</td>\n",
       "      <td>...</td>\n",
       "      <td>...</td>\n",
       "      <td>...</td>\n",
       "      <td>...</td>\n",
       "      <td>...</td>\n",
       "      <td>...</td>\n",
       "      <td>...</td>\n",
       "      <td>...</td>\n",
       "      <td>...</td>\n",
       "      <td>...</td>\n",
       "      <td>...</td>\n",
       "      <td>...</td>\n",
       "      <td>...</td>\n",
       "      <td>...</td>\n",
       "      <td>...</td>\n",
       "      <td>...</td>\n",
       "      <td>...</td>\n",
       "      <td>...</td>\n",
       "      <td>...</td>\n",
       "      <td>...</td>\n",
       "      <td>...</td>\n",
       "      <td>...</td>\n",
       "      <td>...</td>\n",
       "      <td>...</td>\n",
       "      <td>...</td>\n",
       "      <td>...</td>\n",
       "      <td>...</td>\n",
       "      <td>...</td>\n",
       "      <td>...</td>\n",
       "      <td>...</td>\n",
       "      <td>...</td>\n",
       "      <td>...</td>\n",
       "      <td>...</td>\n",
       "      <td>...</td>\n",
       "      <td>...</td>\n",
       "      <td>...</td>\n",
       "      <td>...</td>\n",
       "      <td>...</td>\n",
       "      <td>...</td>\n",
       "      <td>...</td>\n",
       "      <td>...</td>\n",
       "      <td>...</td>\n",
       "    </tr>\n",
       "    <tr>\n",
       "      <th>424938</th>\n",
       "      <td>0.5714</td>\n",
       "      <td>0.0000</td>\n",
       "      <td>0.0000</td>\n",
       "      <td>0.0209</td>\n",
       "      <td>0.0209</td>\n",
       "      <td>0.7308</td>\n",
       "      <td>0.7199</td>\n",
       "      <td>9.0000</td>\n",
       "      <td>8.8590</td>\n",
       "      <td>0.0001</td>\n",
       "      <td>0.2543</td>\n",
       "      <td>0.0588</td>\n",
       "      <td>0.0031</td>\n",
       "      <td>0.9151</td>\n",
       "      <td>0.4658</td>\n",
       "      <td>0.6538</td>\n",
       "      <td>0.0624</td>\n",
       "      <td>0.4069</td>\n",
       "      <td>0.5000</td>\n",
       "      <td>0.0096</td>\n",
       "      <td>0.3659</td>\n",
       "      <td>0.1154</td>\n",
       "      <td>0.0042</td>\n",
       "      <td>0.3477</td>\n",
       "      <td>0.5769</td>\n",
       "      <td>0.0029</td>\n",
       "      <td>0.3394</td>\n",
       "      <td>0.9615</td>\n",
       "      <td>0.0018</td>\n",
       "      <td>0.3294</td>\n",
       "      <td>0.4231</td>\n",
       "      <td>0.0017</td>\n",
       "      <td>0.3279</td>\n",
       "      <td>0.2692</td>\n",
       "      <td>0.0007</td>\n",
       "      <td>0.3073</td>\n",
       "      <td>0.8077</td>\n",
       "      <td>0.0006</td>\n",
       "      <td>0.3044</td>\n",
       "      <td>0.0385</td>\n",
       "      <td>0.0006</td>\n",
       "      <td>0.3043</td>\n",
       "      <td>-0.0108</td>\n",
       "      <td>0.0108</td>\n",
       "      <td>0.7308</td>\n",
       "      <td>0.6990</td>\n",
       "      <td>9.0000</td>\n",
       "      <td>8.5874</td>\n",
       "      <td>0.0002</td>\n",
       "      <td>0.1750</td>\n",
       "      <td>0.0409</td>\n",
       "      <td>0.0037</td>\n",
       "      <td>0.7569</td>\n",
       "      <td>0.3949</td>\n",
       "      <td>0.6538</td>\n",
       "      <td>0.1874</td>\n",
       "      <td>0.3567</td>\n",
       "      <td>0.5769</td>\n",
       "      <td>0.0204</td>\n",
       "      <td>0.2959</td>\n",
       "      <td>0.1154</td>\n",
       "      <td>0.0160</td>\n",
       "      <td>0.2893</td>\n",
       "      <td>0.2692</td>\n",
       "      <td>0.0060</td>\n",
       "      <td>0.2625</td>\n",
       "      <td>0.8077</td>\n",
       "      <td>0.0057</td>\n",
       "      <td>0.2611</td>\n",
       "      <td>0.4231</td>\n",
       "      <td>0.0021</td>\n",
       "      <td>0.2335</td>\n",
       "      <td>0.1923</td>\n",
       "      <td>0.0018</td>\n",
       "      <td>0.2287</td>\n",
       "      <td>0.9615</td>\n",
       "      <td>0.0012</td>\n",
       "      <td>0.2176</td>\n",
       "      <td>0.8846</td>\n",
       "      <td>0.0009</td>\n",
       "      <td>0.2089</td>\n",
       "      <td>-0.0317</td>\n",
       "      <td>0.0317</td>\n",
       "      <td>fff4714a37cf49</td>\n",
       "      <td>4425d40b</td>\n",
       "      <td>fff4714a37cf49\\t4425d40b</td>\n",
       "      <td>4</td>\n",
       "      <td>12</td>\n",
       "      <td>21</td>\n",
       "    </tr>\n",
       "    <tr>\n",
       "      <th>424939</th>\n",
       "      <td>0.5714</td>\n",
       "      <td>0.0000</td>\n",
       "      <td>0.0000</td>\n",
       "      <td>0.0126</td>\n",
       "      <td>0.0126</td>\n",
       "      <td>0.8077</td>\n",
       "      <td>0.7889</td>\n",
       "      <td>10.0000</td>\n",
       "      <td>9.7556</td>\n",
       "      <td>0.0000</td>\n",
       "      <td>0.3902</td>\n",
       "      <td>0.0641</td>\n",
       "      <td>0.0054</td>\n",
       "      <td>0.9537</td>\n",
       "      <td>0.6348</td>\n",
       "      <td>0.5000</td>\n",
       "      <td>0.0293</td>\n",
       "      <td>0.5584</td>\n",
       "      <td>0.1923</td>\n",
       "      <td>0.0112</td>\n",
       "      <td>0.5373</td>\n",
       "      <td>0.1154</td>\n",
       "      <td>0.0039</td>\n",
       "      <td>0.5142</td>\n",
       "      <td>0.8846</td>\n",
       "      <td>0.0012</td>\n",
       "      <td>0.4878</td>\n",
       "      <td>0.5769</td>\n",
       "      <td>0.0004</td>\n",
       "      <td>0.4613</td>\n",
       "      <td>0.4231</td>\n",
       "      <td>0.0001</td>\n",
       "      <td>0.4423</td>\n",
       "      <td>0.0385</td>\n",
       "      <td>0.0001</td>\n",
       "      <td>0.4356</td>\n",
       "      <td>0.9615</td>\n",
       "      <td>0.0000</td>\n",
       "      <td>0.4033</td>\n",
       "      <td>0.3462</td>\n",
       "      <td>0.0000</td>\n",
       "      <td>0.4031</td>\n",
       "      <td>-0.0188</td>\n",
       "      <td>0.0188</td>\n",
       "      <td>0.8077</td>\n",
       "      <td>0.7763</td>\n",
       "      <td>10.0000</td>\n",
       "      <td>9.5916</td>\n",
       "      <td>0.0000</td>\n",
       "      <td>0.3364</td>\n",
       "      <td>0.0491</td>\n",
       "      <td>0.0079</td>\n",
       "      <td>0.8402</td>\n",
       "      <td>0.6223</td>\n",
       "      <td>0.7308</td>\n",
       "      <td>0.0938</td>\n",
       "      <td>0.5622</td>\n",
       "      <td>0.6538</td>\n",
       "      <td>0.0155</td>\n",
       "      <td>0.5128</td>\n",
       "      <td>0.4231</td>\n",
       "      <td>0.0139</td>\n",
       "      <td>0.5098</td>\n",
       "      <td>0.1923</td>\n",
       "      <td>0.0123</td>\n",
       "      <td>0.5066</td>\n",
       "      <td>0.5769</td>\n",
       "      <td>0.0104</td>\n",
       "      <td>0.5018</td>\n",
       "      <td>0.1154</td>\n",
       "      <td>0.0067</td>\n",
       "      <td>0.4901</td>\n",
       "      <td>0.5000</td>\n",
       "      <td>0.0061</td>\n",
       "      <td>0.4873</td>\n",
       "      <td>0.8846</td>\n",
       "      <td>0.0010</td>\n",
       "      <td>0.4375</td>\n",
       "      <td>0.3462</td>\n",
       "      <td>0.0000</td>\n",
       "      <td>0.3548</td>\n",
       "      <td>-0.0314</td>\n",
       "      <td>0.0314</td>\n",
       "      <td>fff4714a37cf49</td>\n",
       "      <td>f8744de1</td>\n",
       "      <td>fff4714a37cf49\\tf8744de1</td>\n",
       "      <td>4</td>\n",
       "      <td>12</td>\n",
       "      <td>21</td>\n",
       "    </tr>\n",
       "    <tr>\n",
       "      <th>424940</th>\n",
       "      <td>0.5714</td>\n",
       "      <td>0.0000</td>\n",
       "      <td>0.0000</td>\n",
       "      <td>-0.0376</td>\n",
       "      <td>0.0376</td>\n",
       "      <td>0.8846</td>\n",
       "      <td>0.8460</td>\n",
       "      <td>11.0000</td>\n",
       "      <td>10.4983</td>\n",
       "      <td>0.0004</td>\n",
       "      <td>0.4499</td>\n",
       "      <td>0.0425</td>\n",
       "      <td>0.0021</td>\n",
       "      <td>0.7843</td>\n",
       "      <td>0.6140</td>\n",
       "      <td>0.7308</td>\n",
       "      <td>0.0955</td>\n",
       "      <td>0.5678</td>\n",
       "      <td>0.8077</td>\n",
       "      <td>0.0683</td>\n",
       "      <td>0.5604</td>\n",
       "      <td>0.5769</td>\n",
       "      <td>0.0199</td>\n",
       "      <td>0.5333</td>\n",
       "      <td>0.5000</td>\n",
       "      <td>0.0151</td>\n",
       "      <td>0.5273</td>\n",
       "      <td>0.6538</td>\n",
       "      <td>0.0050</td>\n",
       "      <td>0.5032</td>\n",
       "      <td>0.9615</td>\n",
       "      <td>0.0029</td>\n",
       "      <td>0.4912</td>\n",
       "      <td>0.1923</td>\n",
       "      <td>0.0029</td>\n",
       "      <td>0.4907</td>\n",
       "      <td>0.1154</td>\n",
       "      <td>0.0019</td>\n",
       "      <td>0.4820</td>\n",
       "      <td>0.4231</td>\n",
       "      <td>0.0017</td>\n",
       "      <td>0.4797</td>\n",
       "      <td>-0.0386</td>\n",
       "      <td>0.0386</td>\n",
       "      <td>0.8846</td>\n",
       "      <td>0.8836</td>\n",
       "      <td>11.0000</td>\n",
       "      <td>10.9870</td>\n",
       "      <td>0.0005</td>\n",
       "      <td>0.1648</td>\n",
       "      <td>0.0358</td>\n",
       "      <td>0.0036</td>\n",
       "      <td>0.7088</td>\n",
       "      <td>0.3613</td>\n",
       "      <td>0.9615</td>\n",
       "      <td>0.1819</td>\n",
       "      <td>0.3241</td>\n",
       "      <td>0.8077</td>\n",
       "      <td>0.0852</td>\n",
       "      <td>0.3033</td>\n",
       "      <td>0.7308</td>\n",
       "      <td>0.0087</td>\n",
       "      <td>0.2407</td>\n",
       "      <td>0.5000</td>\n",
       "      <td>0.0036</td>\n",
       "      <td>0.2168</td>\n",
       "      <td>0.4231</td>\n",
       "      <td>0.0030</td>\n",
       "      <td>0.2114</td>\n",
       "      <td>0.6538</td>\n",
       "      <td>0.0023</td>\n",
       "      <td>0.2049</td>\n",
       "      <td>0.3462</td>\n",
       "      <td>0.0019</td>\n",
       "      <td>0.1991</td>\n",
       "      <td>0.5769</td>\n",
       "      <td>0.0012</td>\n",
       "      <td>0.1867</td>\n",
       "      <td>0.2692</td>\n",
       "      <td>0.0011</td>\n",
       "      <td>0.1847</td>\n",
       "      <td>-0.0010</td>\n",
       "      <td>0.0010</td>\n",
       "      <td>fff4714a37cf49</td>\n",
       "      <td>1f7bbc00</td>\n",
       "      <td>fff4714a37cf49\\t1f7bbc00</td>\n",
       "      <td>4</td>\n",
       "      <td>12</td>\n",
       "      <td>21</td>\n",
       "    </tr>\n",
       "    <tr>\n",
       "      <th>424941</th>\n",
       "      <td>0.9500</td>\n",
       "      <td>0.3590</td>\n",
       "      <td>0.3590</td>\n",
       "      <td>0.0850</td>\n",
       "      <td>0.0850</td>\n",
       "      <td>0.9872</td>\n",
       "      <td>0.7310</td>\n",
       "      <td>38.0000</td>\n",
       "      <td>28.0072</td>\n",
       "      <td>0.0000</td>\n",
       "      <td>0.5061</td>\n",
       "      <td>0.0030</td>\n",
       "      <td>0.0021</td>\n",
       "      <td>0.3005</td>\n",
       "      <td>0.7126</td>\n",
       "      <td>0.6026</td>\n",
       "      <td>0.1603</td>\n",
       "      <td>0.6988</td>\n",
       "      <td>0.8846</td>\n",
       "      <td>0.1163</td>\n",
       "      <td>0.6917</td>\n",
       "      <td>0.6795</td>\n",
       "      <td>0.0578</td>\n",
       "      <td>0.6764</td>\n",
       "      <td>0.9103</td>\n",
       "      <td>0.0536</td>\n",
       "      <td>0.6747</td>\n",
       "      <td>0.7308</td>\n",
       "      <td>0.0394</td>\n",
       "      <td>0.6679</td>\n",
       "      <td>0.2692</td>\n",
       "      <td>0.0289</td>\n",
       "      <td>0.6612</td>\n",
       "      <td>0.7051</td>\n",
       "      <td>0.0263</td>\n",
       "      <td>0.6591</td>\n",
       "      <td>0.4744</td>\n",
       "      <td>0.0258</td>\n",
       "      <td>0.6586</td>\n",
       "      <td>0.6282</td>\n",
       "      <td>0.0253</td>\n",
       "      <td>0.6582</td>\n",
       "      <td>-0.2562</td>\n",
       "      <td>0.2562</td>\n",
       "      <td>0.6282</td>\n",
       "      <td>0.6459</td>\n",
       "      <td>24.0000</td>\n",
       "      <td>24.6908</td>\n",
       "      <td>0.0003</td>\n",
       "      <td>0.1499</td>\n",
       "      <td>0.0022</td>\n",
       "      <td>0.0023</td>\n",
       "      <td>0.2192</td>\n",
       "      <td>0.3271</td>\n",
       "      <td>0.9872</td>\n",
       "      <td>0.1303</td>\n",
       "      <td>0.3129</td>\n",
       "      <td>0.6026</td>\n",
       "      <td>0.1253</td>\n",
       "      <td>0.3118</td>\n",
       "      <td>0.8846</td>\n",
       "      <td>0.1208</td>\n",
       "      <td>0.3108</td>\n",
       "      <td>0.6795</td>\n",
       "      <td>0.0981</td>\n",
       "      <td>0.3051</td>\n",
       "      <td>0.4231</td>\n",
       "      <td>0.0467</td>\n",
       "      <td>0.2848</td>\n",
       "      <td>0.7308</td>\n",
       "      <td>0.0397</td>\n",
       "      <td>0.2803</td>\n",
       "      <td>0.2692</td>\n",
       "      <td>0.0294</td>\n",
       "      <td>0.2721</td>\n",
       "      <td>0.6538</td>\n",
       "      <td>0.0202</td>\n",
       "      <td>0.2618</td>\n",
       "      <td>0.0641</td>\n",
       "      <td>0.0201</td>\n",
       "      <td>0.2617</td>\n",
       "      <td>0.0177</td>\n",
       "      <td>0.0177</td>\n",
       "      <td>fffc1b4f08e81c</td>\n",
       "      <td>ffc27279</td>\n",
       "      <td>fffc1b4f08e81c\\tffc27279</td>\n",
       "      <td>9</td>\n",
       "      <td>38</td>\n",
       "      <td>40</td>\n",
       "    </tr>\n",
       "    <tr>\n",
       "      <th>424942</th>\n",
       "      <td>0.9500</td>\n",
       "      <td>0.0000</td>\n",
       "      <td>0.0000</td>\n",
       "      <td>0.0811</td>\n",
       "      <td>0.0811</td>\n",
       "      <td>0.6026</td>\n",
       "      <td>0.6965</td>\n",
       "      <td>23.0000</td>\n",
       "      <td>26.6632</td>\n",
       "      <td>0.0000</td>\n",
       "      <td>0.3870</td>\n",
       "      <td>0.0049</td>\n",
       "      <td>0.0044</td>\n",
       "      <td>0.3993</td>\n",
       "      <td>0.6375</td>\n",
       "      <td>0.8846</td>\n",
       "      <td>0.2073</td>\n",
       "      <td>0.6231</td>\n",
       "      <td>0.9103</td>\n",
       "      <td>0.0680</td>\n",
       "      <td>0.5987</td>\n",
       "      <td>0.4744</td>\n",
       "      <td>0.0528</td>\n",
       "      <td>0.5931</td>\n",
       "      <td>0.7308</td>\n",
       "      <td>0.0503</td>\n",
       "      <td>0.5920</td>\n",
       "      <td>0.6795</td>\n",
       "      <td>0.0402</td>\n",
       "      <td>0.5871</td>\n",
       "      <td>0.7051</td>\n",
       "      <td>0.0359</td>\n",
       "      <td>0.5846</td>\n",
       "      <td>0.7821</td>\n",
       "      <td>0.0356</td>\n",
       "      <td>0.5845</td>\n",
       "      <td>0.7564</td>\n",
       "      <td>0.0267</td>\n",
       "      <td>0.5781</td>\n",
       "      <td>0.6282</td>\n",
       "      <td>0.0195</td>\n",
       "      <td>0.5713</td>\n",
       "      <td>0.0939</td>\n",
       "      <td>0.0939</td>\n",
       "      <td>0.6026</td>\n",
       "      <td>0.6154</td>\n",
       "      <td>23.0000</td>\n",
       "      <td>23.5002</td>\n",
       "      <td>0.0003</td>\n",
       "      <td>0.1629</td>\n",
       "      <td>0.0015</td>\n",
       "      <td>0.0029</td>\n",
       "      <td>0.1595</td>\n",
       "      <td>0.3343</td>\n",
       "      <td>0.6795</td>\n",
       "      <td>0.1304</td>\n",
       "      <td>0.3288</td>\n",
       "      <td>0.6282</td>\n",
       "      <td>0.1089</td>\n",
       "      <td>0.3239</td>\n",
       "      <td>0.7308</td>\n",
       "      <td>0.0901</td>\n",
       "      <td>0.3187</td>\n",
       "      <td>0.6538</td>\n",
       "      <td>0.0720</td>\n",
       "      <td>0.3125</td>\n",
       "      <td>0.0897</td>\n",
       "      <td>0.0614</td>\n",
       "      <td>0.3082</td>\n",
       "      <td>0.8846</td>\n",
       "      <td>0.0540</td>\n",
       "      <td>0.3046</td>\n",
       "      <td>0.9359</td>\n",
       "      <td>0.0519</td>\n",
       "      <td>0.3036</td>\n",
       "      <td>0.9103</td>\n",
       "      <td>0.0380</td>\n",
       "      <td>0.2950</td>\n",
       "      <td>0.2692</td>\n",
       "      <td>0.0317</td>\n",
       "      <td>0.2901</td>\n",
       "      <td>0.0128</td>\n",
       "      <td>0.0128</td>\n",
       "      <td>fffc1b4f08e81c</td>\n",
       "      <td>143cccfb</td>\n",
       "      <td>fffc1b4f08e81c\\t143cccfb</td>\n",
       "      <td>9</td>\n",
       "      <td>38</td>\n",
       "      <td>40</td>\n",
       "    </tr>\n",
       "  </tbody>\n",
       "</table>\n",
       "<p>424943 rows × 89 columns</p>\n",
       "</div>"
      ],
      "text/plain": [
       "        code_ratio  ps_pred_diff  abs_ps_pred_diff  ps_cls_pred_diff  \\\n",
       "0           0.8889        0.0000            0.0000           -0.0237   \n",
       "1           0.8333        0.4545            0.4545            0.2323   \n",
       "2           0.8333        0.0000            0.0000            0.0088   \n",
       "3           0.5692        0.0000            0.0000           -0.0004   \n",
       "4           0.5692        0.0000            0.0000            0.0108   \n",
       "...            ...           ...               ...               ...   \n",
       "424938      0.5714        0.0000            0.0000            0.0209   \n",
       "424939      0.5714        0.0000            0.0000            0.0126   \n",
       "424940      0.5714        0.0000            0.0000           -0.0376   \n",
       "424941      0.9500        0.3590            0.3590            0.0850   \n",
       "424942      0.9500        0.0000            0.0000            0.0811   \n",
       "\n",
       "        abs_ps_cls_pred_diff  p_pred  p_cls_pred  p_rank_pred  \\\n",
       "0                     0.0237  0.0556      0.0645       0.0000   \n",
       "1                     0.2323  0.5000      0.4358       5.0000   \n",
       "2                     0.0088  0.9545      0.9456      10.0000   \n",
       "3                     0.0004  0.0132      0.0139       0.0000   \n",
       "4                     0.0108  0.0132      0.0671       0.0000   \n",
       "...                      ...     ...         ...          ...   \n",
       "424938                0.0209  0.7308      0.7199       9.0000   \n",
       "424939                0.0126  0.8077      0.7889      10.0000   \n",
       "424940                0.0376  0.8846      0.8460      11.0000   \n",
       "424941                0.0850  0.9872      0.7310      38.0000   \n",
       "424942                0.0811  0.6026      0.6965      23.0000   \n",
       "\n",
       "        p_cls_rank_pred  p_min_prob  p_min_sim  p_var_prob  p_var_sim  \\\n",
       "0                0.0808      0.0000     0.5031      0.0867     0.0062   \n",
       "1                4.2939      0.0004     0.4950      0.0226     0.0026   \n",
       "2                9.9017      0.0000     0.5679      0.0695     0.0052   \n",
       "3                0.0264      0.0000     0.3981      0.0249     0.0095   \n",
       "4                2.0508      0.0000     0.4218      0.0150     0.0071   \n",
       "...                 ...         ...        ...         ...        ...   \n",
       "424938           8.8590      0.0001     0.2543      0.0588     0.0031   \n",
       "424939           9.7556      0.0000     0.3902      0.0641     0.0054   \n",
       "424940          10.4983      0.0004     0.4499      0.0425     0.0021   \n",
       "424941          28.0072      0.0000     0.5061      0.0030     0.0021   \n",
       "424942          26.6632      0.0000     0.3870      0.0049     0.0044   \n",
       "\n",
       "        p_top_prob_0  p_top_sim_0  p_top_pred_1  p_top_prob_1  p_top_sim_1  \\\n",
       "0             0.9432       0.7505        0.1667        0.0456       0.6840   \n",
       "1             0.5150       0.6508        0.2273        0.2409       0.6341   \n",
       "2             0.9215       0.8047        0.8636        0.0752       0.7497   \n",
       "3             0.9868       0.8596        0.0395        0.0087       0.7556   \n",
       "4             0.7658       0.7862        0.0395        0.0883       0.7388   \n",
       "...              ...          ...           ...           ...          ...   \n",
       "424938        0.9151       0.4658        0.6538        0.0624       0.4069   \n",
       "424939        0.9537       0.6348        0.5000        0.0293       0.5584   \n",
       "424940        0.7843       0.6140        0.7308        0.0955       0.5678   \n",
       "424941        0.3005       0.7126        0.6026        0.1603       0.6988   \n",
       "424942        0.3993       0.6375        0.8846        0.2073       0.6231   \n",
       "\n",
       "        p_top_pred_2  p_top_prob_2  p_top_sim_2  p_top_pred_3  p_top_prob_3  \\\n",
       "0             0.3889        0.0096       0.6498        0.6111        0.0008   \n",
       "1             0.4091        0.0963       0.6140        0.5909        0.0622   \n",
       "2             0.2273        0.0012       0.6594        0.0455        0.0010   \n",
       "3             0.0658        0.0032       0.7340        0.0921        0.0003   \n",
       "4             0.4868        0.0491       0.7259        0.0658        0.0250   \n",
       "...              ...           ...          ...           ...           ...   \n",
       "424938        0.5000        0.0096       0.3659        0.1154        0.0042   \n",
       "424939        0.1923        0.0112       0.5373        0.1154        0.0039   \n",
       "424940        0.8077        0.0683       0.5604        0.5769        0.0199   \n",
       "424941        0.8846        0.1163       0.6917        0.6795        0.0578   \n",
       "424942        0.9103        0.0680       0.5987        0.4744        0.0528   \n",
       "\n",
       "        p_top_sim_3  p_top_pred_4  p_top_prob_4  p_top_sim_4  p_top_pred_5  \\\n",
       "0            0.5963        0.2778        0.0006       0.5899        0.5000   \n",
       "1            0.6044        0.6818        0.0523       0.6006        0.3182   \n",
       "2            0.6548        0.7727        0.0006       0.6450        0.6818   \n",
       "3            0.6848        0.2763        0.0002       0.6746        0.1711   \n",
       "4            0.7111        0.5395        0.0133       0.6973        0.6184   \n",
       "...             ...           ...           ...          ...           ...   \n",
       "424938       0.3477        0.5769        0.0029       0.3394        0.9615   \n",
       "424939       0.5142        0.8846        0.0012       0.4878        0.5769   \n",
       "424940       0.5333        0.5000        0.0151       0.5273        0.6538   \n",
       "424941       0.6764        0.9103        0.0536       0.6747        0.7308   \n",
       "424942       0.5931        0.7308        0.0503       0.5920        0.6795   \n",
       "\n",
       "        p_top_prob_5  p_top_sim_5  p_top_pred_6  p_top_prob_6  p_top_sim_6  \\\n",
       "0             0.0001       0.5559        0.9444        0.0000       0.5262   \n",
       "1             0.0235       0.5830        0.1364        0.0035       0.5409   \n",
       "2             0.0002       0.6200        0.4091        0.0001       0.5992   \n",
       "3             0.0001       0.6648        0.3289        0.0001       0.6519   \n",
       "4             0.0120       0.6949        0.0921        0.0113       0.6937   \n",
       "...              ...          ...           ...           ...          ...   \n",
       "424938        0.0018       0.3294        0.4231        0.0017       0.3279   \n",
       "424939        0.0004       0.4613        0.4231        0.0001       0.4423   \n",
       "424940        0.0050       0.5032        0.9615        0.0029       0.4912   \n",
       "424941        0.0394       0.6679        0.2692        0.0289       0.6612   \n",
       "424942        0.0402       0.5871        0.7051        0.0359       0.5846   \n",
       "\n",
       "        p_top_pred_7  p_top_prob_7  p_top_sim_7  p_top_pred_8  p_top_prob_8  \\\n",
       "0             0.7222        0.0000       0.5204        0.8333        0.0000   \n",
       "1             0.9545        0.0029       0.5374        0.0455        0.0023   \n",
       "2             0.1364        0.0001       0.5896        0.5909        0.0000   \n",
       "3             0.3553        0.0001       0.6504        0.1184        0.0001   \n",
       "4             0.5132        0.0105       0.6921        0.1711        0.0101   \n",
       "...              ...           ...          ...           ...           ...   \n",
       "424938        0.2692        0.0007       0.3073        0.8077        0.0006   \n",
       "424939        0.0385        0.0001       0.4356        0.9615        0.0000   \n",
       "424940        0.1923        0.0029       0.4907        0.1154        0.0019   \n",
       "424941        0.7051        0.0263       0.6591        0.4744        0.0258   \n",
       "424942        0.7821        0.0356       0.5845        0.7564        0.0267   \n",
       "\n",
       "        p_top_sim_8  p_top_pred_9  p_top_prob_9  p_top_sim_9  p_cls_diff  \\\n",
       "0            0.5031       -1.0000       -1.0000      -1.0000      0.0090   \n",
       "1            0.5322        0.8636        0.0006       0.5029     -0.0642   \n",
       "2            0.5820        0.5000        0.0000       0.5739     -0.0089   \n",
       "3            0.6480        0.2237        0.0001       0.6425      0.0007   \n",
       "4            0.6912        0.1184        0.0032       0.6660      0.0540   \n",
       "...             ...           ...           ...          ...         ...   \n",
       "424938       0.3044        0.0385        0.0006       0.3043     -0.0108   \n",
       "424939       0.4033        0.3462        0.0000       0.4031     -0.0188   \n",
       "424940       0.4820        0.4231        0.0017       0.4797     -0.0386   \n",
       "424941       0.6586        0.6282        0.0253       0.6582     -0.2562   \n",
       "424942       0.5781        0.6282        0.0195       0.5713      0.0939   \n",
       "\n",
       "        p_abs_cls_diff  p2_pred  p2_cls_pred  p2_rank_pred  p2_cls_rank_pred  \\\n",
       "0               0.0090   0.0556       0.0882        0.0000            0.2937   \n",
       "1               0.0642   0.0455       0.2035        0.0000            1.7382   \n",
       "2               0.0089   0.9545       0.9368       10.0000            9.8051   \n",
       "3               0.0007   0.0132       0.0142        0.0000            0.0403   \n",
       "4               0.0540   0.0132       0.0563        0.0000            1.6401   \n",
       "...                ...      ...          ...           ...               ...   \n",
       "424938          0.0108   0.7308       0.6990        9.0000            8.5874   \n",
       "424939          0.0188   0.8077       0.7763       10.0000            9.5916   \n",
       "424940          0.0386   0.8846       0.8836       11.0000           10.9870   \n",
       "424941          0.2562   0.6282       0.6459       24.0000           24.6908   \n",
       "424942          0.0939   0.6026       0.6154       23.0000           23.5002   \n",
       "\n",
       "        p2_min_prob  p2_min_sim  p2_var_prob  p2_var_sim  p2_top_prob_0  \\\n",
       "0            0.0000      0.2628       0.0591      0.0098         0.7826   \n",
       "1            0.0010      0.2431       0.0204      0.0037         0.4471   \n",
       "2            0.0001      0.2140       0.0672      0.0044         0.9087   \n",
       "3            0.0000      0.0815       0.0253      0.0090         0.9935   \n",
       "4            0.0000      0.0526       0.0097      0.0109         0.5319   \n",
       "...             ...         ...          ...         ...            ...   \n",
       "424938       0.0002      0.1750       0.0409      0.0037         0.7569   \n",
       "424939       0.0000      0.3364       0.0491      0.0079         0.8402   \n",
       "424940       0.0005      0.1648       0.0358      0.0036         0.7088   \n",
       "424941       0.0003      0.1499       0.0022      0.0023         0.2192   \n",
       "424942       0.0003      0.1629       0.0015      0.0029         0.1595   \n",
       "\n",
       "        p2_top_sim_0  p2_top_pred_1  p2_top_prob_1  p2_top_sim_1  \\\n",
       "0             0.5662         0.1667         0.1731        0.5248   \n",
       "1             0.4111         0.1364         0.2928        0.3995   \n",
       "2             0.4671         0.8636         0.0623        0.3937   \n",
       "3             0.5934         0.0395         0.0042        0.4435   \n",
       "4             0.4771         0.0395         0.3211        0.4632   \n",
       "...              ...            ...            ...           ...   \n",
       "424938        0.3949         0.6538         0.1874        0.3567   \n",
       "424939        0.6223         0.7308         0.0938        0.5622   \n",
       "424940        0.3613         0.9615         0.1819        0.3241   \n",
       "424941        0.3271         0.9872         0.1303        0.3129   \n",
       "424942        0.3343         0.6795         0.1304        0.3288   \n",
       "\n",
       "        p2_top_pred_2  p2_top_prob_2  p2_top_sim_2  p2_top_pred_3  \\\n",
       "0              0.3889         0.0202        0.4660         0.2778   \n",
       "1              0.5000         0.1636        0.3836         0.6818   \n",
       "2              0.6818         0.0144        0.3535         0.7727   \n",
       "3              0.4868         0.0007        0.3938         0.6184   \n",
       "4              0.1711         0.0946        0.4298         0.4868   \n",
       "...               ...            ...           ...            ...   \n",
       "424938         0.5769         0.0204        0.2959         0.1154   \n",
       "424939         0.6538         0.0155        0.5128         0.4231   \n",
       "424940         0.8077         0.0852        0.3033         0.7308   \n",
       "424941         0.6026         0.1253        0.3118         0.8846   \n",
       "424942         0.6282         0.1089        0.3239         0.7308   \n",
       "\n",
       "        p2_top_prob_3  p2_top_sim_3  p2_top_pred_4  p2_top_prob_4  \\\n",
       "0              0.0201        0.4658         0.6111         0.0025   \n",
       "1              0.0494        0.3508         0.9545         0.0199   \n",
       "2              0.0043        0.3202         0.0455         0.0036   \n",
       "3              0.0006        0.3890         0.1711         0.0004   \n",
       "4              0.0206        0.3881         0.0658         0.0073   \n",
       "...               ...           ...            ...            ...   \n",
       "424938         0.0160        0.2893         0.2692         0.0060   \n",
       "424939         0.0139        0.5098         0.1923         0.0123   \n",
       "424940         0.0087        0.2407         0.5000         0.0036   \n",
       "424941         0.1208        0.3108         0.6795         0.0981   \n",
       "424942         0.0901        0.3187         0.6538         0.0720   \n",
       "\n",
       "        p2_top_sim_4  p2_top_pred_5  p2_top_prob_5  p2_top_sim_5  \\\n",
       "0             0.4087         0.5000         0.0011        0.3866   \n",
       "1             0.3259         0.2273         0.0179        0.3230   \n",
       "2             0.3155         0.2273         0.0026        0.3071   \n",
       "3             0.3766         0.4342         0.0002        0.3534   \n",
       "4             0.3596         0.6184         0.0057        0.3529   \n",
       "...              ...            ...            ...           ...   \n",
       "424938        0.2625         0.8077         0.0057        0.2611   \n",
       "424939        0.5066         0.5769         0.0104        0.5018   \n",
       "424940        0.2168         0.4231         0.0030        0.2114   \n",
       "424941        0.3051         0.4231         0.0467        0.2848   \n",
       "424942        0.3125         0.0897         0.0614        0.3082   \n",
       "\n",
       "        p2_top_pred_6  p2_top_prob_6  p2_top_sim_6  p2_top_pred_7  \\\n",
       "0              0.9444         0.0003        0.3546         0.7222   \n",
       "1              0.3182         0.0041        0.2829         0.7727   \n",
       "2              0.5909         0.0019        0.2982         0.1364   \n",
       "3              0.0658         0.0001        0.3504         0.2763   \n",
       "4              0.2763         0.0034        0.3385         0.0921   \n",
       "...               ...            ...           ...            ...   \n",
       "424938         0.4231         0.0021        0.2335         0.1923   \n",
       "424939         0.1154         0.0067        0.4901         0.5000   \n",
       "424940         0.6538         0.0023        0.2049         0.3462   \n",
       "424941         0.7308         0.0397        0.2803         0.2692   \n",
       "424942         0.8846         0.0540        0.3046         0.9359   \n",
       "\n",
       "        p2_top_prob_7  p2_top_sim_7  p2_top_pred_8  p2_top_prob_8  \\\n",
       "0              0.0000        0.2721         0.8333         0.0000   \n",
       "1              0.0017        0.2577         0.4091         0.0015   \n",
       "2              0.0011        0.2824         0.5000         0.0007   \n",
       "3              0.0001        0.3423         0.5132         0.0000   \n",
       "4              0.0029        0.3346         0.5132         0.0024   \n",
       "...               ...           ...            ...            ...   \n",
       "424938         0.0018        0.2287         0.9615         0.0012   \n",
       "424939         0.0061        0.4873         0.8846         0.0010   \n",
       "424940         0.0019        0.1991         0.5769         0.0012   \n",
       "424941         0.0294        0.2721         0.6538         0.0202   \n",
       "424942         0.0519        0.3036         0.9103         0.0380   \n",
       "\n",
       "        p2_top_sim_8  p2_top_pred_9  p2_top_prob_9  p2_top_sim_9  p2_cls_diff  \\\n",
       "0             0.2628        -1.0000        -1.0000       -1.0000       0.0326   \n",
       "1             0.2552         0.5909         0.0011        0.2457       0.1580   \n",
       "2             0.2700         0.3182         0.0004        0.2561      -0.0177   \n",
       "3             0.3201         0.3289         0.0000        0.3191       0.0011   \n",
       "4             0.3287         0.5395         0.0018        0.3216       0.0432   \n",
       "...              ...            ...            ...           ...          ...   \n",
       "424938        0.2176         0.8846         0.0009        0.2089      -0.0317   \n",
       "424939        0.4375         0.3462         0.0000        0.3548      -0.0314   \n",
       "424940        0.1867         0.2692         0.0011        0.1847      -0.0010   \n",
       "424941        0.2618         0.0641         0.0201        0.2617       0.0177   \n",
       "424942        0.2950         0.2692         0.0317        0.2901       0.0128   \n",
       "\n",
       "        p2_abs_cls_diff              id   cell_id                       cid  \\\n",
       "0                0.0326  0002115f48f982  9ec225f0  0002115f48f982\\t9ec225f0   \n",
       "1                0.1580  00062ab8487156  aa354742  00062ab8487156\\taa354742   \n",
       "2                0.0177  00062ab8487156  96c8449c  00062ab8487156\\t96c8449c   \n",
       "3                0.0011  000efd285fb982  74a30f80  000efd285fb982\\t74a30f80   \n",
       "4                0.0432  000efd285fb982  ee2c8e08  000efd285fb982\\tee2c8e08   \n",
       "...                 ...             ...       ...                       ...   \n",
       "424938           0.0317  fff4714a37cf49  4425d40b  fff4714a37cf49\\t4425d40b   \n",
       "424939           0.0314  fff4714a37cf49  f8744de1  fff4714a37cf49\\tf8744de1   \n",
       "424940           0.0010  fff4714a37cf49  1f7bbc00  fff4714a37cf49\\t1f7bbc00   \n",
       "424941           0.0177  fffc1b4f08e81c  ffc27279  fffc1b4f08e81c\\tffc27279   \n",
       "424942           0.0128  fffc1b4f08e81c  143cccfb  fffc1b4f08e81c\\t143cccfb   \n",
       "\n",
       "        n_words  n_code_cell  n_cell  \n",
       "0             2            8       9  \n",
       "1             6           10      12  \n",
       "2             6           10      12  \n",
       "3           102           37      65  \n",
       "4           102           37      65  \n",
       "...         ...          ...     ...  \n",
       "424938        4           12      21  \n",
       "424939        4           12      21  \n",
       "424940        4           12      21  \n",
       "424941        9           38      40  \n",
       "424942        9           38      40  \n",
       "\n",
       "[424943 rows x 89 columns]"
      ]
     },
     "execution_count": 132,
     "metadata": {},
     "output_type": "execute_result"
    }
   ],
   "source": [
    "dfeats"
   ]
  },
  {
   "cell_type": "code",
   "execution_count": 133,
   "metadata": {},
   "outputs": [],
   "source": [
    "df = dfeats.merge(df_train[['cid', 'ancestor_id', LABEL_COL]], on='cid')"
   ]
  },
  {
   "cell_type": "code",
   "execution_count": 134,
   "metadata": {},
   "outputs": [],
   "source": [
    "gezi.set_fold(df, 5, 'ancestor_id')"
   ]
  },
  {
   "cell_type": "code",
   "execution_count": 135,
   "metadata": {},
   "outputs": [
    {
     "data": {
      "text/plain": [
       "86"
      ]
     },
     "execution_count": 135,
     "metadata": {},
     "output_type": "execute_result"
    }
   ],
   "source": [
    "reg_cols = [x for x in dfeats.columns if x not in ['id', 'cell_id', 'cid', LABEL_COL]]\n",
    "cat_cols = []\n",
    "cols = reg_cols + cat_cols\n",
    "len(cols)"
   ]
  },
  {
   "cell_type": "code",
   "execution_count": 136,
   "metadata": {},
   "outputs": [],
   "source": [
    "fold = 1\n",
    "dvalid = df[df.fold==fold]\n",
    "dtrain = df[df.fold!=fold]"
   ]
  },
  {
   "cell_type": "code",
   "execution_count": 137,
   "metadata": {},
   "outputs": [],
   "source": [
    "X_train = dtrain[cols]\n",
    "y_train = dtrain[LABEL_COL]\n",
    "X_valid = dvalid[cols]\n",
    "y_valid = dvalid[LABEL_COL]"
   ]
  },
  {
   "cell_type": "code",
   "execution_count": 138,
   "metadata": {},
   "outputs": [],
   "source": [
    "from catboost import CatBoostRegressor, CatBoostRanker\n",
    "cbt_params = {\n",
    "              # 'bootstrap_type': 'Poisson',\n",
    "              # 'learning_rate': 0.02,\n",
    "              'learning_rate': 0.03,\n",
    "              'reg_lambda': 7.960622217848342e-07, \n",
    "              # 'subsample': 0.7422597612762745,\n",
    "              # 'bagging_temperature': 0.2,\n",
    "              'max_depth': 10, \n",
    "              'early_stopping_rounds': 100,\n",
    "              'n_estimators': 10000,\n",
    "              'cat_features': [],\n",
    "              'loss_function': 'MAE',\n",
    "              'min_child_samples': 300,\n",
    "              # 'task_type': 'GPU',\n",
    "              # 'devices': '0',\n",
    "              }"
   ]
  },
  {
   "cell_type": "code",
   "execution_count": 139,
   "metadata": {},
   "outputs": [
    {
     "name": "stdout",
     "output_type": "stream",
     "text": [
      "0:\tlearn: 0.2525273\ttest: 0.2524315\tbest: 0.2524315 (0)\ttotal: 73.6ms\tremaining: 12m 16s\n",
      "100:\tlearn: 0.0768580\ttest: 0.0764960\tbest: 0.0764960 (100)\ttotal: 6.6s\tremaining: 10m 47s\n",
      "200:\tlearn: 0.0707191\ttest: 0.0704186\tbest: 0.0704186 (200)\ttotal: 12.9s\tremaining: 10m 28s\n",
      "300:\tlearn: 0.0695609\ttest: 0.0695908\tbest: 0.0695908 (300)\ttotal: 19.2s\tremaining: 10m 20s\n",
      "400:\tlearn: 0.0687712\ttest: 0.0692065\tbest: 0.0692065 (400)\ttotal: 26s\tremaining: 10m 21s\n",
      "500:\tlearn: 0.0681790\ttest: 0.0689492\tbest: 0.0689492 (500)\ttotal: 32.7s\tremaining: 10m 20s\n",
      "600:\tlearn: 0.0676338\ttest: 0.0687732\tbest: 0.0687717 (599)\ttotal: 39.4s\tremaining: 10m 16s\n",
      "700:\tlearn: 0.0671485\ttest: 0.0686630\tbest: 0.0686621 (698)\ttotal: 46s\tremaining: 10m 9s\n",
      "800:\tlearn: 0.0667656\ttest: 0.0686057\tbest: 0.0686057 (800)\ttotal: 53s\tremaining: 10m 8s\n",
      "900:\tlearn: 0.0664080\ttest: 0.0685616\tbest: 0.0685616 (900)\ttotal: 59.6s\tremaining: 10m 1s\n",
      "1000:\tlearn: 0.0661316\ttest: 0.0685618\tbest: 0.0685543 (993)\ttotal: 1m 6s\tremaining: 9m 54s\n",
      "1100:\tlearn: 0.0656915\ttest: 0.0685456\tbest: 0.0685450 (1099)\ttotal: 1m 12s\tremaining: 9m 45s\n",
      "1200:\tlearn: 0.0653830\ttest: 0.0685409\tbest: 0.0685393 (1176)\ttotal: 1m 18s\tremaining: 9m 37s\n",
      "1300:\tlearn: 0.0650099\ttest: 0.0685211\tbest: 0.0685211 (1300)\ttotal: 1m 25s\tremaining: 9m 29s\n",
      "1400:\tlearn: 0.0646191\ttest: 0.0685290\tbest: 0.0685181 (1304)\ttotal: 1m 31s\tremaining: 9m 22s\n",
      "Stopped by overfitting detector  (100 iterations wait)\n",
      "\n",
      "bestTest = 0.06851812403\n",
      "bestIteration = 1304\n",
      "\n",
      "Shrink model to first 1305 iterations.\n"
     ]
    },
    {
     "name": "stderr",
     "output_type": "stream",
     "text": [
      "[08/04/22 19:39:32] 961508788.py:7 in <module>\n",
      "                    calc_metric({'id': dvalid.id.values, 'cell_id': dvalid.cell_id.values, 'pred': dvalid.cb_pred.values}): 0.9025058677248895\n"
     ]
    },
    {
     "data": {
      "text/plain": [
       "0.9025058677248895"
      ]
     },
     "execution_count": 139,
     "metadata": {},
     "output_type": "execute_result"
    }
   ],
   "source": [
    "model = CatBoostRegressor(**cbt_params)\n",
    "model.fit(X_train, y_train,\n",
    "          eval_set=[(X_valid, y_valid)],\n",
    "          verbose=100,\n",
    "          )  \n",
    "dvalid['cb_pred'] = model.predict(dvalid[cols])\n",
    "ic(calc_metric({'id': dvalid.id.values, 'cell_id': dvalid.cell_id.values, 'pred': dvalid.cb_pred.values}))"
   ]
  },
  {
   "cell_type": "code",
   "execution_count": 140,
   "metadata": {},
   "outputs": [
    {
     "data": {
      "application/vnd.plotly.v1+json": {
       "config": {
        "plotlyServerURL": "https://plot.ly"
       },
       "data": [
        {
         "alignmentgroup": "True",
         "hovertemplate": "importance=%{x}<br>feat_name=%{y}<extra></extra>",
         "legendgroup": "",
         "marker": {
          "color": "#636efa",
          "pattern": {
           "shape": ""
          }
         },
         "name": "",
         "offsetgroup": "",
         "orientation": "h",
         "showlegend": false,
         "textposition": "auto",
         "type": "bar",
         "x": [
          0.6701086898073179,
          0.6739357870333447,
          0.6759908873455863,
          0.7076537265930677,
          0.8218821747505374,
          0.8741724051429521,
          0.8794750766884869,
          1.130640433388254,
          1.3278310071906787,
          1.760747572444233,
          1.8011315798205003,
          1.9304790446654216,
          2.659612995671325,
          4.114361439664766,
          4.29973253417449,
          5.128885786451294,
          6.90744363121017,
          9.937483620851975,
          14.197345919089607,
          22.947470358878636
         ],
         "xaxis": "x",
         "y": [
          "p_top_prob_2",
          "p2_top_prob_0",
          "p2_top_pred_3",
          "p2_top_pred_2",
          "abs_ps_pred_diff",
          "abs_ps_cls_pred_diff",
          "p2_top_prob_2",
          "code_ratio",
          "p_top_prob_0",
          "p2_cls_diff",
          "ps_cls_pred_diff",
          "p_cls_diff",
          "p2_abs_cls_diff",
          "p2_top_pred_1",
          "p_abs_cls_diff",
          "p_top_pred_1",
          "p2_pred",
          "p_pred",
          "p2_cls_pred",
          "p_cls_pred"
         ],
         "yaxis": "y"
        }
       ],
       "layout": {
        "barmode": "relative",
        "legend": {
         "tracegroupgap": 0
        },
        "margin": {
         "t": 60
        },
        "template": {
         "data": {
          "bar": [
           {
            "error_x": {
             "color": "#2a3f5f"
            },
            "error_y": {
             "color": "#2a3f5f"
            },
            "marker": {
             "line": {
              "color": "#E5ECF6",
              "width": 0.5
             },
             "pattern": {
              "fillmode": "overlay",
              "size": 10,
              "solidity": 0.2
             }
            },
            "type": "bar"
           }
          ],
          "barpolar": [
           {
            "marker": {
             "line": {
              "color": "#E5ECF6",
              "width": 0.5
             },
             "pattern": {
              "fillmode": "overlay",
              "size": 10,
              "solidity": 0.2
             }
            },
            "type": "barpolar"
           }
          ],
          "carpet": [
           {
            "aaxis": {
             "endlinecolor": "#2a3f5f",
             "gridcolor": "white",
             "linecolor": "white",
             "minorgridcolor": "white",
             "startlinecolor": "#2a3f5f"
            },
            "baxis": {
             "endlinecolor": "#2a3f5f",
             "gridcolor": "white",
             "linecolor": "white",
             "minorgridcolor": "white",
             "startlinecolor": "#2a3f5f"
            },
            "type": "carpet"
           }
          ],
          "choropleth": [
           {
            "colorbar": {
             "outlinewidth": 0,
             "ticks": ""
            },
            "type": "choropleth"
           }
          ],
          "contour": [
           {
            "colorbar": {
             "outlinewidth": 0,
             "ticks": ""
            },
            "colorscale": [
             [
              0,
              "#0d0887"
             ],
             [
              0.1111111111111111,
              "#46039f"
             ],
             [
              0.2222222222222222,
              "#7201a8"
             ],
             [
              0.3333333333333333,
              "#9c179e"
             ],
             [
              0.4444444444444444,
              "#bd3786"
             ],
             [
              0.5555555555555556,
              "#d8576b"
             ],
             [
              0.6666666666666666,
              "#ed7953"
             ],
             [
              0.7777777777777778,
              "#fb9f3a"
             ],
             [
              0.8888888888888888,
              "#fdca26"
             ],
             [
              1,
              "#f0f921"
             ]
            ],
            "type": "contour"
           }
          ],
          "contourcarpet": [
           {
            "colorbar": {
             "outlinewidth": 0,
             "ticks": ""
            },
            "type": "contourcarpet"
           }
          ],
          "heatmap": [
           {
            "colorbar": {
             "outlinewidth": 0,
             "ticks": ""
            },
            "colorscale": [
             [
              0,
              "#0d0887"
             ],
             [
              0.1111111111111111,
              "#46039f"
             ],
             [
              0.2222222222222222,
              "#7201a8"
             ],
             [
              0.3333333333333333,
              "#9c179e"
             ],
             [
              0.4444444444444444,
              "#bd3786"
             ],
             [
              0.5555555555555556,
              "#d8576b"
             ],
             [
              0.6666666666666666,
              "#ed7953"
             ],
             [
              0.7777777777777778,
              "#fb9f3a"
             ],
             [
              0.8888888888888888,
              "#fdca26"
             ],
             [
              1,
              "#f0f921"
             ]
            ],
            "type": "heatmap"
           }
          ],
          "heatmapgl": [
           {
            "colorbar": {
             "outlinewidth": 0,
             "ticks": ""
            },
            "colorscale": [
             [
              0,
              "#0d0887"
             ],
             [
              0.1111111111111111,
              "#46039f"
             ],
             [
              0.2222222222222222,
              "#7201a8"
             ],
             [
              0.3333333333333333,
              "#9c179e"
             ],
             [
              0.4444444444444444,
              "#bd3786"
             ],
             [
              0.5555555555555556,
              "#d8576b"
             ],
             [
              0.6666666666666666,
              "#ed7953"
             ],
             [
              0.7777777777777778,
              "#fb9f3a"
             ],
             [
              0.8888888888888888,
              "#fdca26"
             ],
             [
              1,
              "#f0f921"
             ]
            ],
            "type": "heatmapgl"
           }
          ],
          "histogram": [
           {
            "marker": {
             "pattern": {
              "fillmode": "overlay",
              "size": 10,
              "solidity": 0.2
             }
            },
            "type": "histogram"
           }
          ],
          "histogram2d": [
           {
            "colorbar": {
             "outlinewidth": 0,
             "ticks": ""
            },
            "colorscale": [
             [
              0,
              "#0d0887"
             ],
             [
              0.1111111111111111,
              "#46039f"
             ],
             [
              0.2222222222222222,
              "#7201a8"
             ],
             [
              0.3333333333333333,
              "#9c179e"
             ],
             [
              0.4444444444444444,
              "#bd3786"
             ],
             [
              0.5555555555555556,
              "#d8576b"
             ],
             [
              0.6666666666666666,
              "#ed7953"
             ],
             [
              0.7777777777777778,
              "#fb9f3a"
             ],
             [
              0.8888888888888888,
              "#fdca26"
             ],
             [
              1,
              "#f0f921"
             ]
            ],
            "type": "histogram2d"
           }
          ],
          "histogram2dcontour": [
           {
            "colorbar": {
             "outlinewidth": 0,
             "ticks": ""
            },
            "colorscale": [
             [
              0,
              "#0d0887"
             ],
             [
              0.1111111111111111,
              "#46039f"
             ],
             [
              0.2222222222222222,
              "#7201a8"
             ],
             [
              0.3333333333333333,
              "#9c179e"
             ],
             [
              0.4444444444444444,
              "#bd3786"
             ],
             [
              0.5555555555555556,
              "#d8576b"
             ],
             [
              0.6666666666666666,
              "#ed7953"
             ],
             [
              0.7777777777777778,
              "#fb9f3a"
             ],
             [
              0.8888888888888888,
              "#fdca26"
             ],
             [
              1,
              "#f0f921"
             ]
            ],
            "type": "histogram2dcontour"
           }
          ],
          "mesh3d": [
           {
            "colorbar": {
             "outlinewidth": 0,
             "ticks": ""
            },
            "type": "mesh3d"
           }
          ],
          "parcoords": [
           {
            "line": {
             "colorbar": {
              "outlinewidth": 0,
              "ticks": ""
             }
            },
            "type": "parcoords"
           }
          ],
          "pie": [
           {
            "automargin": true,
            "type": "pie"
           }
          ],
          "scatter": [
           {
            "marker": {
             "colorbar": {
              "outlinewidth": 0,
              "ticks": ""
             }
            },
            "type": "scatter"
           }
          ],
          "scatter3d": [
           {
            "line": {
             "colorbar": {
              "outlinewidth": 0,
              "ticks": ""
             }
            },
            "marker": {
             "colorbar": {
              "outlinewidth": 0,
              "ticks": ""
             }
            },
            "type": "scatter3d"
           }
          ],
          "scattercarpet": [
           {
            "marker": {
             "colorbar": {
              "outlinewidth": 0,
              "ticks": ""
             }
            },
            "type": "scattercarpet"
           }
          ],
          "scattergeo": [
           {
            "marker": {
             "colorbar": {
              "outlinewidth": 0,
              "ticks": ""
             }
            },
            "type": "scattergeo"
           }
          ],
          "scattergl": [
           {
            "marker": {
             "colorbar": {
              "outlinewidth": 0,
              "ticks": ""
             }
            },
            "type": "scattergl"
           }
          ],
          "scattermapbox": [
           {
            "marker": {
             "colorbar": {
              "outlinewidth": 0,
              "ticks": ""
             }
            },
            "type": "scattermapbox"
           }
          ],
          "scatterpolar": [
           {
            "marker": {
             "colorbar": {
              "outlinewidth": 0,
              "ticks": ""
             }
            },
            "type": "scatterpolar"
           }
          ],
          "scatterpolargl": [
           {
            "marker": {
             "colorbar": {
              "outlinewidth": 0,
              "ticks": ""
             }
            },
            "type": "scatterpolargl"
           }
          ],
          "scatterternary": [
           {
            "marker": {
             "colorbar": {
              "outlinewidth": 0,
              "ticks": ""
             }
            },
            "type": "scatterternary"
           }
          ],
          "surface": [
           {
            "colorbar": {
             "outlinewidth": 0,
             "ticks": ""
            },
            "colorscale": [
             [
              0,
              "#0d0887"
             ],
             [
              0.1111111111111111,
              "#46039f"
             ],
             [
              0.2222222222222222,
              "#7201a8"
             ],
             [
              0.3333333333333333,
              "#9c179e"
             ],
             [
              0.4444444444444444,
              "#bd3786"
             ],
             [
              0.5555555555555556,
              "#d8576b"
             ],
             [
              0.6666666666666666,
              "#ed7953"
             ],
             [
              0.7777777777777778,
              "#fb9f3a"
             ],
             [
              0.8888888888888888,
              "#fdca26"
             ],
             [
              1,
              "#f0f921"
             ]
            ],
            "type": "surface"
           }
          ],
          "table": [
           {
            "cells": {
             "fill": {
              "color": "#EBF0F8"
             },
             "line": {
              "color": "white"
             }
            },
            "header": {
             "fill": {
              "color": "#C8D4E3"
             },
             "line": {
              "color": "white"
             }
            },
            "type": "table"
           }
          ]
         },
         "layout": {
          "annotationdefaults": {
           "arrowcolor": "#2a3f5f",
           "arrowhead": 0,
           "arrowwidth": 1
          },
          "autotypenumbers": "strict",
          "coloraxis": {
           "colorbar": {
            "outlinewidth": 0,
            "ticks": ""
           }
          },
          "colorscale": {
           "diverging": [
            [
             0,
             "#8e0152"
            ],
            [
             0.1,
             "#c51b7d"
            ],
            [
             0.2,
             "#de77ae"
            ],
            [
             0.3,
             "#f1b6da"
            ],
            [
             0.4,
             "#fde0ef"
            ],
            [
             0.5,
             "#f7f7f7"
            ],
            [
             0.6,
             "#e6f5d0"
            ],
            [
             0.7,
             "#b8e186"
            ],
            [
             0.8,
             "#7fbc41"
            ],
            [
             0.9,
             "#4d9221"
            ],
            [
             1,
             "#276419"
            ]
           ],
           "sequential": [
            [
             0,
             "#0d0887"
            ],
            [
             0.1111111111111111,
             "#46039f"
            ],
            [
             0.2222222222222222,
             "#7201a8"
            ],
            [
             0.3333333333333333,
             "#9c179e"
            ],
            [
             0.4444444444444444,
             "#bd3786"
            ],
            [
             0.5555555555555556,
             "#d8576b"
            ],
            [
             0.6666666666666666,
             "#ed7953"
            ],
            [
             0.7777777777777778,
             "#fb9f3a"
            ],
            [
             0.8888888888888888,
             "#fdca26"
            ],
            [
             1,
             "#f0f921"
            ]
           ],
           "sequentialminus": [
            [
             0,
             "#0d0887"
            ],
            [
             0.1111111111111111,
             "#46039f"
            ],
            [
             0.2222222222222222,
             "#7201a8"
            ],
            [
             0.3333333333333333,
             "#9c179e"
            ],
            [
             0.4444444444444444,
             "#bd3786"
            ],
            [
             0.5555555555555556,
             "#d8576b"
            ],
            [
             0.6666666666666666,
             "#ed7953"
            ],
            [
             0.7777777777777778,
             "#fb9f3a"
            ],
            [
             0.8888888888888888,
             "#fdca26"
            ],
            [
             1,
             "#f0f921"
            ]
           ]
          },
          "colorway": [
           "#636efa",
           "#EF553B",
           "#00cc96",
           "#ab63fa",
           "#FFA15A",
           "#19d3f3",
           "#FF6692",
           "#B6E880",
           "#FF97FF",
           "#FECB52"
          ],
          "font": {
           "color": "#2a3f5f"
          },
          "geo": {
           "bgcolor": "white",
           "lakecolor": "white",
           "landcolor": "#E5ECF6",
           "showlakes": true,
           "showland": true,
           "subunitcolor": "white"
          },
          "hoverlabel": {
           "align": "left"
          },
          "hovermode": "closest",
          "mapbox": {
           "style": "light"
          },
          "paper_bgcolor": "white",
          "plot_bgcolor": "#E5ECF6",
          "polar": {
           "angularaxis": {
            "gridcolor": "white",
            "linecolor": "white",
            "ticks": ""
           },
           "bgcolor": "#E5ECF6",
           "radialaxis": {
            "gridcolor": "white",
            "linecolor": "white",
            "ticks": ""
           }
          },
          "scene": {
           "xaxis": {
            "backgroundcolor": "#E5ECF6",
            "gridcolor": "white",
            "gridwidth": 2,
            "linecolor": "white",
            "showbackground": true,
            "ticks": "",
            "zerolinecolor": "white"
           },
           "yaxis": {
            "backgroundcolor": "#E5ECF6",
            "gridcolor": "white",
            "gridwidth": 2,
            "linecolor": "white",
            "showbackground": true,
            "ticks": "",
            "zerolinecolor": "white"
           },
           "zaxis": {
            "backgroundcolor": "#E5ECF6",
            "gridcolor": "white",
            "gridwidth": 2,
            "linecolor": "white",
            "showbackground": true,
            "ticks": "",
            "zerolinecolor": "white"
           }
          },
          "shapedefaults": {
           "line": {
            "color": "#2a3f5f"
           }
          },
          "ternary": {
           "aaxis": {
            "gridcolor": "white",
            "linecolor": "white",
            "ticks": ""
           },
           "baxis": {
            "gridcolor": "white",
            "linecolor": "white",
            "ticks": ""
           },
           "bgcolor": "#E5ECF6",
           "caxis": {
            "gridcolor": "white",
            "linecolor": "white",
            "ticks": ""
           }
          },
          "title": {
           "x": 0.05
          },
          "xaxis": {
           "automargin": true,
           "gridcolor": "white",
           "linecolor": "white",
           "ticks": "",
           "title": {
            "standoff": 15
           },
           "zerolinecolor": "white",
           "zerolinewidth": 2
          },
          "yaxis": {
           "automargin": true,
           "gridcolor": "white",
           "linecolor": "white",
           "ticks": "",
           "title": {
            "standoff": 15
           },
           "zerolinecolor": "white",
           "zerolinewidth": 2
          }
         }
        },
        "xaxis": {
         "anchor": "y",
         "domain": [
          0,
          1
         ],
         "title": {
          "text": "importance"
         }
        },
        "yaxis": {
         "anchor": "x",
         "domain": [
          0,
          1
         ],
         "title": {
          "text": "feat_name"
         }
        }
       }
      },
      "text/html": [
       "<div>                            <div id=\"7b67bbd6-0842-4fbf-8267-a36c816f9425\" class=\"plotly-graph-div\" style=\"height:525px; width:100%;\"></div>            <script type=\"text/javascript\">                require([\"plotly\"], function(Plotly) {                    window.PLOTLYENV=window.PLOTLYENV || {};                                    if (document.getElementById(\"7b67bbd6-0842-4fbf-8267-a36c816f9425\")) {                    Plotly.newPlot(                        \"7b67bbd6-0842-4fbf-8267-a36c816f9425\",                        [{\"alignmentgroup\":\"True\",\"hovertemplate\":\"importance=%{x}<br>feat_name=%{y}<extra></extra>\",\"legendgroup\":\"\",\"marker\":{\"color\":\"#636efa\",\"pattern\":{\"shape\":\"\"}},\"name\":\"\",\"offsetgroup\":\"\",\"orientation\":\"h\",\"showlegend\":false,\"textposition\":\"auto\",\"x\":[0.6701086898073179,0.6739357870333447,0.6759908873455863,0.7076537265930677,0.8218821747505374,0.8741724051429521,0.8794750766884869,1.130640433388254,1.3278310071906787,1.760747572444233,1.8011315798205003,1.9304790446654216,2.659612995671325,4.114361439664766,4.29973253417449,5.128885786451294,6.90744363121017,9.937483620851975,14.197345919089607,22.947470358878636],\"xaxis\":\"x\",\"y\":[\"p_top_prob_2\",\"p2_top_prob_0\",\"p2_top_pred_3\",\"p2_top_pred_2\",\"abs_ps_pred_diff\",\"abs_ps_cls_pred_diff\",\"p2_top_prob_2\",\"code_ratio\",\"p_top_prob_0\",\"p2_cls_diff\",\"ps_cls_pred_diff\",\"p_cls_diff\",\"p2_abs_cls_diff\",\"p2_top_pred_1\",\"p_abs_cls_diff\",\"p_top_pred_1\",\"p2_pred\",\"p_pred\",\"p2_cls_pred\",\"p_cls_pred\"],\"yaxis\":\"y\",\"type\":\"bar\"}],                        {\"template\":{\"data\":{\"bar\":[{\"error_x\":{\"color\":\"#2a3f5f\"},\"error_y\":{\"color\":\"#2a3f5f\"},\"marker\":{\"line\":{\"color\":\"#E5ECF6\",\"width\":0.5},\"pattern\":{\"fillmode\":\"overlay\",\"size\":10,\"solidity\":0.2}},\"type\":\"bar\"}],\"barpolar\":[{\"marker\":{\"line\":{\"color\":\"#E5ECF6\",\"width\":0.5},\"pattern\":{\"fillmode\":\"overlay\",\"size\":10,\"solidity\":0.2}},\"type\":\"barpolar\"}],\"carpet\":[{\"aaxis\":{\"endlinecolor\":\"#2a3f5f\",\"gridcolor\":\"white\",\"linecolor\":\"white\",\"minorgridcolor\":\"white\",\"startlinecolor\":\"#2a3f5f\"},\"baxis\":{\"endlinecolor\":\"#2a3f5f\",\"gridcolor\":\"white\",\"linecolor\":\"white\",\"minorgridcolor\":\"white\",\"startlinecolor\":\"#2a3f5f\"},\"type\":\"carpet\"}],\"choropleth\":[{\"colorbar\":{\"outlinewidth\":0,\"ticks\":\"\"},\"type\":\"choropleth\"}],\"contour\":[{\"colorbar\":{\"outlinewidth\":0,\"ticks\":\"\"},\"colorscale\":[[0.0,\"#0d0887\"],[0.1111111111111111,\"#46039f\"],[0.2222222222222222,\"#7201a8\"],[0.3333333333333333,\"#9c179e\"],[0.4444444444444444,\"#bd3786\"],[0.5555555555555556,\"#d8576b\"],[0.6666666666666666,\"#ed7953\"],[0.7777777777777778,\"#fb9f3a\"],[0.8888888888888888,\"#fdca26\"],[1.0,\"#f0f921\"]],\"type\":\"contour\"}],\"contourcarpet\":[{\"colorbar\":{\"outlinewidth\":0,\"ticks\":\"\"},\"type\":\"contourcarpet\"}],\"heatmap\":[{\"colorbar\":{\"outlinewidth\":0,\"ticks\":\"\"},\"colorscale\":[[0.0,\"#0d0887\"],[0.1111111111111111,\"#46039f\"],[0.2222222222222222,\"#7201a8\"],[0.3333333333333333,\"#9c179e\"],[0.4444444444444444,\"#bd3786\"],[0.5555555555555556,\"#d8576b\"],[0.6666666666666666,\"#ed7953\"],[0.7777777777777778,\"#fb9f3a\"],[0.8888888888888888,\"#fdca26\"],[1.0,\"#f0f921\"]],\"type\":\"heatmap\"}],\"heatmapgl\":[{\"colorbar\":{\"outlinewidth\":0,\"ticks\":\"\"},\"colorscale\":[[0.0,\"#0d0887\"],[0.1111111111111111,\"#46039f\"],[0.2222222222222222,\"#7201a8\"],[0.3333333333333333,\"#9c179e\"],[0.4444444444444444,\"#bd3786\"],[0.5555555555555556,\"#d8576b\"],[0.6666666666666666,\"#ed7953\"],[0.7777777777777778,\"#fb9f3a\"],[0.8888888888888888,\"#fdca26\"],[1.0,\"#f0f921\"]],\"type\":\"heatmapgl\"}],\"histogram\":[{\"marker\":{\"pattern\":{\"fillmode\":\"overlay\",\"size\":10,\"solidity\":0.2}},\"type\":\"histogram\"}],\"histogram2d\":[{\"colorbar\":{\"outlinewidth\":0,\"ticks\":\"\"},\"colorscale\":[[0.0,\"#0d0887\"],[0.1111111111111111,\"#46039f\"],[0.2222222222222222,\"#7201a8\"],[0.3333333333333333,\"#9c179e\"],[0.4444444444444444,\"#bd3786\"],[0.5555555555555556,\"#d8576b\"],[0.6666666666666666,\"#ed7953\"],[0.7777777777777778,\"#fb9f3a\"],[0.8888888888888888,\"#fdca26\"],[1.0,\"#f0f921\"]],\"type\":\"histogram2d\"}],\"histogram2dcontour\":[{\"colorbar\":{\"outlinewidth\":0,\"ticks\":\"\"},\"colorscale\":[[0.0,\"#0d0887\"],[0.1111111111111111,\"#46039f\"],[0.2222222222222222,\"#7201a8\"],[0.3333333333333333,\"#9c179e\"],[0.4444444444444444,\"#bd3786\"],[0.5555555555555556,\"#d8576b\"],[0.6666666666666666,\"#ed7953\"],[0.7777777777777778,\"#fb9f3a\"],[0.8888888888888888,\"#fdca26\"],[1.0,\"#f0f921\"]],\"type\":\"histogram2dcontour\"}],\"mesh3d\":[{\"colorbar\":{\"outlinewidth\":0,\"ticks\":\"\"},\"type\":\"mesh3d\"}],\"parcoords\":[{\"line\":{\"colorbar\":{\"outlinewidth\":0,\"ticks\":\"\"}},\"type\":\"parcoords\"}],\"pie\":[{\"automargin\":true,\"type\":\"pie\"}],\"scatter\":[{\"marker\":{\"colorbar\":{\"outlinewidth\":0,\"ticks\":\"\"}},\"type\":\"scatter\"}],\"scatter3d\":[{\"line\":{\"colorbar\":{\"outlinewidth\":0,\"ticks\":\"\"}},\"marker\":{\"colorbar\":{\"outlinewidth\":0,\"ticks\":\"\"}},\"type\":\"scatter3d\"}],\"scattercarpet\":[{\"marker\":{\"colorbar\":{\"outlinewidth\":0,\"ticks\":\"\"}},\"type\":\"scattercarpet\"}],\"scattergeo\":[{\"marker\":{\"colorbar\":{\"outlinewidth\":0,\"ticks\":\"\"}},\"type\":\"scattergeo\"}],\"scattergl\":[{\"marker\":{\"colorbar\":{\"outlinewidth\":0,\"ticks\":\"\"}},\"type\":\"scattergl\"}],\"scattermapbox\":[{\"marker\":{\"colorbar\":{\"outlinewidth\":0,\"ticks\":\"\"}},\"type\":\"scattermapbox\"}],\"scatterpolar\":[{\"marker\":{\"colorbar\":{\"outlinewidth\":0,\"ticks\":\"\"}},\"type\":\"scatterpolar\"}],\"scatterpolargl\":[{\"marker\":{\"colorbar\":{\"outlinewidth\":0,\"ticks\":\"\"}},\"type\":\"scatterpolargl\"}],\"scatterternary\":[{\"marker\":{\"colorbar\":{\"outlinewidth\":0,\"ticks\":\"\"}},\"type\":\"scatterternary\"}],\"surface\":[{\"colorbar\":{\"outlinewidth\":0,\"ticks\":\"\"},\"colorscale\":[[0.0,\"#0d0887\"],[0.1111111111111111,\"#46039f\"],[0.2222222222222222,\"#7201a8\"],[0.3333333333333333,\"#9c179e\"],[0.4444444444444444,\"#bd3786\"],[0.5555555555555556,\"#d8576b\"],[0.6666666666666666,\"#ed7953\"],[0.7777777777777778,\"#fb9f3a\"],[0.8888888888888888,\"#fdca26\"],[1.0,\"#f0f921\"]],\"type\":\"surface\"}],\"table\":[{\"cells\":{\"fill\":{\"color\":\"#EBF0F8\"},\"line\":{\"color\":\"white\"}},\"header\":{\"fill\":{\"color\":\"#C8D4E3\"},\"line\":{\"color\":\"white\"}},\"type\":\"table\"}]},\"layout\":{\"annotationdefaults\":{\"arrowcolor\":\"#2a3f5f\",\"arrowhead\":0,\"arrowwidth\":1},\"autotypenumbers\":\"strict\",\"coloraxis\":{\"colorbar\":{\"outlinewidth\":0,\"ticks\":\"\"}},\"colorscale\":{\"diverging\":[[0,\"#8e0152\"],[0.1,\"#c51b7d\"],[0.2,\"#de77ae\"],[0.3,\"#f1b6da\"],[0.4,\"#fde0ef\"],[0.5,\"#f7f7f7\"],[0.6,\"#e6f5d0\"],[0.7,\"#b8e186\"],[0.8,\"#7fbc41\"],[0.9,\"#4d9221\"],[1,\"#276419\"]],\"sequential\":[[0.0,\"#0d0887\"],[0.1111111111111111,\"#46039f\"],[0.2222222222222222,\"#7201a8\"],[0.3333333333333333,\"#9c179e\"],[0.4444444444444444,\"#bd3786\"],[0.5555555555555556,\"#d8576b\"],[0.6666666666666666,\"#ed7953\"],[0.7777777777777778,\"#fb9f3a\"],[0.8888888888888888,\"#fdca26\"],[1.0,\"#f0f921\"]],\"sequentialminus\":[[0.0,\"#0d0887\"],[0.1111111111111111,\"#46039f\"],[0.2222222222222222,\"#7201a8\"],[0.3333333333333333,\"#9c179e\"],[0.4444444444444444,\"#bd3786\"],[0.5555555555555556,\"#d8576b\"],[0.6666666666666666,\"#ed7953\"],[0.7777777777777778,\"#fb9f3a\"],[0.8888888888888888,\"#fdca26\"],[1.0,\"#f0f921\"]]},\"colorway\":[\"#636efa\",\"#EF553B\",\"#00cc96\",\"#ab63fa\",\"#FFA15A\",\"#19d3f3\",\"#FF6692\",\"#B6E880\",\"#FF97FF\",\"#FECB52\"],\"font\":{\"color\":\"#2a3f5f\"},\"geo\":{\"bgcolor\":\"white\",\"lakecolor\":\"white\",\"landcolor\":\"#E5ECF6\",\"showlakes\":true,\"showland\":true,\"subunitcolor\":\"white\"},\"hoverlabel\":{\"align\":\"left\"},\"hovermode\":\"closest\",\"mapbox\":{\"style\":\"light\"},\"paper_bgcolor\":\"white\",\"plot_bgcolor\":\"#E5ECF6\",\"polar\":{\"angularaxis\":{\"gridcolor\":\"white\",\"linecolor\":\"white\",\"ticks\":\"\"},\"bgcolor\":\"#E5ECF6\",\"radialaxis\":{\"gridcolor\":\"white\",\"linecolor\":\"white\",\"ticks\":\"\"}},\"scene\":{\"xaxis\":{\"backgroundcolor\":\"#E5ECF6\",\"gridcolor\":\"white\",\"gridwidth\":2,\"linecolor\":\"white\",\"showbackground\":true,\"ticks\":\"\",\"zerolinecolor\":\"white\"},\"yaxis\":{\"backgroundcolor\":\"#E5ECF6\",\"gridcolor\":\"white\",\"gridwidth\":2,\"linecolor\":\"white\",\"showbackground\":true,\"ticks\":\"\",\"zerolinecolor\":\"white\"},\"zaxis\":{\"backgroundcolor\":\"#E5ECF6\",\"gridcolor\":\"white\",\"gridwidth\":2,\"linecolor\":\"white\",\"showbackground\":true,\"ticks\":\"\",\"zerolinecolor\":\"white\"}},\"shapedefaults\":{\"line\":{\"color\":\"#2a3f5f\"}},\"ternary\":{\"aaxis\":{\"gridcolor\":\"white\",\"linecolor\":\"white\",\"ticks\":\"\"},\"baxis\":{\"gridcolor\":\"white\",\"linecolor\":\"white\",\"ticks\":\"\"},\"bgcolor\":\"#E5ECF6\",\"caxis\":{\"gridcolor\":\"white\",\"linecolor\":\"white\",\"ticks\":\"\"}},\"title\":{\"x\":0.05},\"xaxis\":{\"automargin\":true,\"gridcolor\":\"white\",\"linecolor\":\"white\",\"ticks\":\"\",\"title\":{\"standoff\":15},\"zerolinecolor\":\"white\",\"zerolinewidth\":2},\"yaxis\":{\"automargin\":true,\"gridcolor\":\"white\",\"linecolor\":\"white\",\"ticks\":\"\",\"title\":{\"standoff\":15},\"zerolinecolor\":\"white\",\"zerolinewidth\":2}}},\"xaxis\":{\"anchor\":\"y\",\"domain\":[0.0,1.0],\"title\":{\"text\":\"importance\"}},\"yaxis\":{\"anchor\":\"x\",\"domain\":[0.0,1.0],\"title\":{\"text\":\"feat_name\"}},\"legend\":{\"tracegroupgap\":0},\"margin\":{\"t\":60},\"barmode\":\"relative\"},                        {\"responsive\": true}                    ).then(function(){\n",
       "                            \n",
       "var gd = document.getElementById('7b67bbd6-0842-4fbf-8267-a36c816f9425');\n",
       "var x = new MutationObserver(function (mutations, observer) {{\n",
       "        var display = window.getComputedStyle(gd).display;\n",
       "        if (!display || display === 'none') {{\n",
       "            console.log([gd, 'removed!']);\n",
       "            Plotly.purge(gd);\n",
       "            observer.disconnect();\n",
       "        }}\n",
       "}});\n",
       "\n",
       "// Listen for the removal of the full notebook cells\n",
       "var notebookContainer = gd.closest('#notebook-container');\n",
       "if (notebookContainer) {{\n",
       "    x.observe(notebookContainer, {childList: true});\n",
       "}}\n",
       "\n",
       "// Listen for the clearing of the current output cell\n",
       "var outputEl = gd.closest('.output');\n",
       "if (outputEl) {{\n",
       "    x.observe(outputEl, {childList: true});\n",
       "}}\n",
       "\n",
       "                        })                };                });            </script>        </div>"
      ]
     },
     "metadata": {},
     "output_type": "display_data"
    }
   ],
   "source": [
    "gezi.plot.feature_importance(model, topn=20)"
   ]
  },
  {
   "cell_type": "code",
   "execution_count": null,
   "metadata": {},
   "outputs": [],
   "source": []
  },
  {
   "cell_type": "code",
   "execution_count": null,
   "metadata": {},
   "outputs": [],
   "source": []
  }
 ],
 "metadata": {
  "kernelspec": {
   "display_name": "Python 3.7.9",
   "language": "python",
   "name": "python3"
  },
  "language_info": {
   "codemirror_mode": {
    "name": "ipython",
    "version": 3
   },
   "file_extension": ".py",
   "mimetype": "text/x-python",
   "name": "python",
   "nbconvert_exporter": "python",
   "pygments_lexer": "ipython3",
   "version": "3.7.9"
  },
  "orig_nbformat": 4,
  "vscode": {
   "interpreter": {
    "hash": "828c32aa8796f4caf0c9fde9f523bba8dbc7385abbb3ec2757d19a79cb47766b"
   }
  }
 },
 "nbformat": 4,
 "nbformat_minor": 2
}
