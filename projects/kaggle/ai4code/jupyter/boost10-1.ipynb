{
 "cells": [
  {
   "cell_type": "code",
   "execution_count": 24,
   "metadata": {},
   "outputs": [],
   "source": [
    "import sys\n",
    "sys.path.append('..')\n",
    "sys.path.append('../../../../utils')\n",
    "sys.path.append('../../../../third')\n",
    "from gezi.common import *\n",
    "from src.config import *\n",
    "from src.preprocess import *\n",
    "from src.eval import *\n",
    "gezi.init_flags()\n",
    "gezi.set_pandas()"
   ]
  },
  {
   "cell_type": "code",
   "execution_count": 25,
   "metadata": {},
   "outputs": [],
   "source": [
    "v = '10-1'"
   ]
  },
  {
   "cell_type": "code",
   "execution_count": 26,
   "metadata": {},
   "outputs": [],
   "source": [
    "V = 7\n",
    "root = f'../working/offline/{V}/0'\n",
    "# pairwise two tower, recall model\n",
    "# pt_model = 'all-mpnet-base-v2.flag-pairwise14-2-pre_ext_emlm_mlm.ep1'\n",
    "# p2t_model = 'all-mpnet-base-v2.flag-pairwise14-2'\n",
    "pt_model = 'all-mpnet-base-v2.flag-pairwise14-2-pre_mlm3'\n",
    "# pt_model = 'all-mpnet-base-v2.flag-pairwise14-2'\n",
    "# pt_model2 = 'pmminilm.flag-pairwise14-2-pre_emlm_mlm-mmnilm'\n",
    "# pt_model2 = 'pmminilm.flag-pairwise14-2-pre_mlm3-pmminilm'\n",
    "# pt_model2 = 'pmminilm.flag-pairwise14-2'\n",
    "# pairwise concat, rank model\n",
    "# pc_model = 'deberta-v3-small.flag-pairwise14-4-cat-insert-extpred-ft.neg_rand_prob-0.neg_strategy-rand-sample'\n",
    "# pc_model = 'deberta-v3-small.flag-pairwise14-4-cat-insert-oof-ft'\n",
    "pc_model = 'deberta-v3-small.flag-pairwise14-4-cat-insert-oof'\n",
    "\n",
    "# context model\n",
    "# c_model = 'deberta-v3-small.flag-context4-2-d'\n",
    "# c_model2 = 'lsg-mminilm.flag-context4-3-d-s-mminilm'\n",
    "# c_model = 'deberta-v3-small.flag-context4-2-d'\n",
    "# c_model = 'deberta-v3-small.flag-context4-2-d-oof-ft'\n",
    "# c_model = 'deberta-v3-small.flag-context4-2-d-oof-ft.list_train_ordered'\n",
    "c_model = 'deberta-v3-small.flag-context4-2-d-oof-ft.add_probs'\n",
    "c_model = 'deberta-v3-small.flag-context4-2-d-oof.add_probs'\n",
    "# c_model = 'deberta-v3-small.flag-context4-2-d-extpred-ft.0804'\n",
    "# c_model = 'deberta-v3-small.flag-context4-2-d-oof-ft.list_train_ordered'\n",
    "# c_model2 = 'lsg-mminilm.flag-context4-3-d-s-oof-ft-mminilm'"
   ]
  },
  {
   "cell_type": "code",
   "execution_count": 27,
   "metadata": {},
   "outputs": [],
   "source": [
    "df_train = pd.read_feather('../working/train.fea')\n",
    "df_train = df_train[df_train.fold==0]"
   ]
  },
  {
   "cell_type": "code",
   "execution_count": 30,
   "metadata": {},
   "outputs": [
    {
     "name": "stderr",
     "output_type": "stream",
     "text": [
      "[08/11/22 18:22:53] 603994771.py:9 in <module>\n",
      "                    calc_metric(xp, 'cls_pred'): 0.8940525259130645\n",
      "[08/11/22 18:23:01] 603994771.py:10 in <module>\n",
      "                    calc_metric(xc, 'reg_pred'): 0.9135889034597657\n",
      "[08/11/22 18:23:08] 603994771.py:11 in <module>\n",
      "                    calc_metric(xc, 'cls_pred'): 0.9141593913749759\n",
      "[08/11/22 18:23:16] 603994771.py:12 in <module>\n",
      "                    calc_metric(xpc, 'cls_pred'): 0.902516912439078\n"
     ]
    },
    {
     "data": {
      "text/plain": [
       "0.902516912439078"
      ]
     },
     "execution_count": 30,
     "metadata": {},
     "output_type": "execute_result"
    }
   ],
   "source": [
    "xp = gezi.load(f'{root}/{pt_model}.eval/valid.pkl')\n",
    "xc = gezi.load(f'{root}/{c_model}.eval/valid.pkl')\n",
    "xpc = gezi.load(f'{root}/{pc_model}.eval/valid.pkl')\n",
    "gezi.sort_dict_byid_(xp, 'cid')\n",
    "gezi.sort_dict_byid_(xc, 'cid')\n",
    "gezi.sort_dict_byid_(xpc, 'cid')\n",
    "\n",
    "ic(calc_metric(xp, 'cls_pred'))\n",
    "ic(calc_metric(xc, 'reg_pred'))\n",
    "ic(calc_metric(xc, 'cls_pred'))\n",
    "ic(calc_metric(xpc, 'cls_pred'))"
   ]
  },
  {
   "cell_type": "code",
   "execution_count": 31,
   "metadata": {},
   "outputs": [
    {
     "name": "stderr",
     "output_type": "stream",
     "text": [
      "[08/11/22 18:23:25] 2337548337.py:27 in <module>\n",
      "                    xpc['mark'].mean(): 0.5019261406823974\n",
      "[08/11/22 18:23:34] 2337548337.py:28 in <module>\n",
      "                    calc_metric(xpc, 'cls_pred'): 0.9026518550887598\n"
     ]
    },
    {
     "data": {
      "text/plain": [
       "0.9026518550887598"
      ]
     },
     "execution_count": 31,
     "metadata": {},
     "output_type": "execute_result"
    }
   ],
   "source": [
    "pc_preds = dict(zip(xpc['cid'], xpc['pred']))\n",
    "pc_cls_preds = dict(zip(xpc['cid'], xpc['cls_pred']))\n",
    "pc_probs = dict(zip(xpc['cid'], xpc['probs']))\n",
    "\n",
    "preds = []\n",
    "cls_preds = []\n",
    "probs = []\n",
    "marks = []\n",
    "for cid, pred, cls_pred, prob in zip(xp['cid'], xp['pred'], xp['cls_pred'], xp['probs']):\n",
    "  # if prob.max() < 10:\n",
    "  if prob.max() < 0.8:\n",
    "    marks.append(1)\n",
    "    preds.append(pc_preds.get(cid, pred))\n",
    "    probs.append(pc_probs.get(cid, prob))\n",
    "    cls_preds.append(pc_cls_preds.get(cid, cls_pred))\n",
    "  else:\n",
    "    marks.append(0)\n",
    "    preds.append(pred)\n",
    "    probs.append(prob)\n",
    "    cls_preds.append(cls_pred)\n",
    "    \n",
    "xpc = xp.copy()\n",
    "xpc['pred'] = np.asarray(preds)\n",
    "xpc['cls_pred'] = np.asarray(cls_preds)\n",
    "xpc['probs'] = np.asarray(probs)\n",
    "xpc['mark'] = np.asarray(marks)\n",
    "ic(xpc['mark'].mean())\n",
    "ic(calc_metric(xpc, 'cls_pred'))"
   ]
  },
  {
   "cell_type": "code",
   "execution_count": 32,
   "metadata": {},
   "outputs": [],
   "source": [
    "LABEL_COL = 'rel_rank'\n",
    "def diff_feats(x, l,r, name):\n",
    "  if isinstance(l, str):\n",
    "    x[f'{name}_diff'] = x[l] - x[r]\n",
    "  else:\n",
    "    x[f'{name}_diff'] = l - r\n",
    "  x[f'abs_{name}_diff'] = abs(x[f'{name}_diff'])\n",
    "\n",
    "def gen_pfeat(x_, topn=None):\n",
    "  x = {}\n",
    "  keys = ['pred', 'cls_pred']\n",
    "  x = {k: x_[k] for k in keys}\n",
    "  # x['rank_pred'] = x['pred'] * (1 + x_['n_code_cell']) - 0.5\n",
    "  # x['cls_rank_pred'] = x['cls_pred'] * (1 + x_['n_code_cell']) - 0.5\n",
    "  x['min_prob'] = x_['probs'].min()\n",
    "  x['var_prob'] = np.var(x_['probs'])\n",
    "  if 'sims' in x_:\n",
    "    x['min_sim'] = x_['sims'].min()\n",
    "    x['var_sim'] = np.var(x_['sims'])\n",
    "  \n",
    "  idxes = (-x_['probs']).argsort()\n",
    "  # topn = topn or len(idxes)\n",
    "  topn = topn or 10\n",
    "  for i in range(topn):\n",
    "    if i < len(idxes):\n",
    "      if i > 0:\n",
    "        x[f'top_pred_{i}'] = (idxes[i] + 0.5) / (x_['n_code_cell'] + 1)\n",
    "        # x[f'top_rank_{i}'] = idxes[i]\n",
    "      x[f'top_prob_{i}'] = x_['probs'][idxes[i]]\n",
    "      if 'sims' in x_:\n",
    "        x[f'top_sim_{i}'] = x_['sims'][idxes[i]]\n",
    "    else:\n",
    "      x[f'top_pred_{i}'] = -1\n",
    "      # x[f'top_rank_{i}'] = -1\n",
    "      x[f'top_prob_{i}'] = -1\n",
    "      if 'sims' in x_:\n",
    "        x[f'top_sim_{i}'] = -1\n",
    "  \n",
    "  diff_feats(x, 'cls_pred', 'pred', 'cls')\n",
    "  # diff_feats(x, 'cls_rank_pred', 'rank_pred', 'cls_rank')\n",
    "  return x\n",
    "\n",
    "def gen_cfeat(x_):\n",
    "  topn = min(10, len(x_['cls_pred_ori']))\n",
    "  x = {}\n",
    "  keys = [\n",
    "    # 'pred', \n",
    "    'cls_pred', \n",
    "    'reg_pred', \n",
    "    'cls2_pred', \n",
    "    'group_pos',\n",
    "    'group_rank',\n",
    "    ]\n",
    "  x = {k: x_[k] for k in keys}\n",
    "  # x['cls_rank_pred'] = x['cls_pred'] * FLAGS.num_classes - 0.5\n",
    "  # x['cls2_rank_pred'] = x['cls2_pred'] * FLAGS.num_classes - 0.5\n",
    "  # x['reg_rank_pred'] = x['reg_pred'] * FLAGS.num_classes - 0.5\n",
    "  preds = x_['cls_pred_ori']\n",
    "  probs = gezi.softmax(preds)\n",
    "  x['min_prob'] = probs.min()\n",
    "  x['var_prob'] = np.var(probs)\n",
    "  idxes = (-probs).argsort()\n",
    "\n",
    "  for i in range(topn):\n",
    "    if i < len(idxes):\n",
    "      if i > 0:\n",
    "        x[f'top_pred_{i}'] = (idxes[i] + 0.5) / FLAGS.num_classes\n",
    "        # x[f'tpop_rank_{i}']  = idxes[i] \n",
    "      x[f'top_prob_{i}'] = probs[idxes[i]]\n",
    "    else:\n",
    "      x[f'top_pred_{i}'] = -1\n",
    "      # x[f'top_rank_{i}'] = -1\n",
    "      x[f'top_prob_{i}'] = -1\n",
    "  diff_feats(x, 'cls_pred', 'reg_pred', 'cls_reg')\n",
    "  diff_feats(x, 'cls_pred', 'cls2_pred', 'cls_cls2')\n",
    "  diff_feats(x, 'cls2_pred', 'reg_pred', 'cls2_reg')\n",
    "  # diff_feats(x, 'cls_rank_pred', 'reg_rank_pred', 'cls_reg_rank')\n",
    "  # diff_feats(x, 'cls_rank_pred', 'cls2_rank_pred', 'cls_cls2_rank')\n",
    "  # diff_feats(x, 'cls2_rank_pred', 'reg_rank_pred', 'cls2_reg_rank')\n",
    "  # group_id = x_['pred_id']\n",
    "  # x['max_pred'] = max_preds[group_id]\n",
    "  # x['min_pred'] = min_preds[group_id]\n",
    "  # x['pred_ratio'] = (x['pred'] - x['min_pred']) / (x['max_pred'] - x['min_pred']) if (x['max_pred'] - x['min_pred']) else 1\n",
    "  # x['max_cls_pred'] = max_cls_preds[group_id]\n",
    "  # x['min_cls_pred'] = min_cls_preds[group_id]\n",
    "  # x['cls_pred_ratio'] = (x['cls_pred'] - x['min_cls_pred']) / (x['max_cls_pred'] - x['min_cls_pred']) if (x['max_cls_pred'] - x['min_cls_pred']) else 1\n",
    "  \n",
    "  return x\n",
    "\n",
    "def gen_feats():\n",
    "  xs = gezi.batch2list(xp)\n",
    "  p_feats = [gen_pfeat(x) for x in tqdm(xs, desc=f'gen_pfeats:xp')]\n",
    "  xs = gezi.batch2list(xc)\n",
    "  c_feats = [gen_cfeat(x) for x in tqdm(xs, desc=f'gen_cfeats:xc')]\n",
    "  xs = gezi.batch2list(xpc)\n",
    "  pc_feats = [gen_pfeat(x, topn=3) for x in tqdm(xs, desc=f'gen_pfeats:xpc')]\n",
    "\n",
    "  feats = []\n",
    "  for i in tqdm(range(len(p_feats)), desc='merge_feats'):\n",
    "    fe1 = p_feats[i]\n",
    "    fec = c_feats[i]\n",
    "    fepc = pc_feats[i]\n",
    "    fepc['mark'] = xpc['mark'][i]\n",
    "    \n",
    "    fe = {}\n",
    "    fe['code_ratio'] = xp['n_code_cell'][i] / xp['n_cell'][i]\n",
    "    diff_feats(fe, fe1['pred'], fec['reg_pred'], 'pc_reg')\n",
    "    diff_feats(fe, fe1['pred'], fec['cls_pred'], 'pc_cls')\n",
    "    diff_feats(fe, fe1['pred'], fec['cls2_pred'], 'pc_cls2')\n",
    "    diff_feats(fe, fe1['cls_pred'], fec['reg_pred'], 'pc_cls_reg')\n",
    "    diff_feats(fe, fe1['cls_pred'], fec['cls_pred'], 'pc_cls_cls')\n",
    "    diff_feats(fe, fe1['cls_pred'], fec['cls2_pred'], 'pc_cls_cls2')\n",
    "    \n",
    "    diff_feats(fe, fepc['pred'], fec['reg_pred'], 'pcc_reg')\n",
    "    diff_feats(fe, fepc['pred'], fec['cls_pred'], 'pcc_cls')\n",
    "    diff_feats(fe, fepc['pred'], fec['cls2_pred'], 'pcc_cls2')\n",
    "    diff_feats(fe, fepc['cls_pred'], fec['reg_pred'], 'pcc_cls_reg')\n",
    "    diff_feats(fe, fepc['cls_pred'], fec['cls_pred'], 'pcc_cls_cls')\n",
    "    diff_feats(fe, fepc['cls_pred'], fec['cls2_pred'], 'pcc_cls_cls2')\n",
    "    \n",
    "    # diff_feats(fe, fe1['rank_pred'], fec['reg_rank_pred'], 'pc_cls_rank')\n",
    "    # diff_feats(fe, fe1['cls_rank_pred'], fec['reg_rank_pred'], 'pc_cls_reg_rank')\n",
    "    # diff_feats(fe, fepc['rank_pred'], fec['reg_rank_pred'], 'pcc_cls_rank')\n",
    "    # diff_feats(fe, fepc['cls_rank_pred'], fec['reg_rank_pred'], 'pcc_cls_reg_rank')\n",
    "\n",
    "    fe1 = gezi.dict_prefix(fe1, 'xp_')\n",
    "    fe.update(fe1)\n",
    "    fec = gezi.dict_prefix(fec, 'xc_')\n",
    "    fe.update(fec)\n",
    "    fepc = gezi.dict_prefix(fepc, 'xpc_')\n",
    "    fe.update(fepc)\n",
    "\n",
    "    keys = [\n",
    "     'id', 'cell_id', 'cid',\n",
    "     'n_words', 'n_code_cell', 'n_cell'\n",
    "    ]\n",
    "    for key in keys:\n",
    "      fe[key] = xp[key][i]\n",
    "      \n",
    "    #  ic(feat)\n",
    "    feats.append(fe)\n",
    "  #  break\n",
    "  dfeats = pd.DataFrame(feats)\n",
    "  return dfeats"
   ]
  },
  {
   "cell_type": "code",
   "execution_count": 33,
   "metadata": {},
   "outputs": [
    {
     "data": {
      "application/vnd.jupyter.widget-view+json": {
       "model_id": "df31b8225e6a432395c71bf22e9b63d9",
       "version_major": 2,
       "version_minor": 0
      },
      "text/plain": [
       "gen_pfeats:xp:   0%|          | 0/424943 [00:00<?, ?it/s]"
      ]
     },
     "metadata": {},
     "output_type": "display_data"
    },
    {
     "data": {
      "application/vnd.jupyter.widget-view+json": {
       "model_id": "ac8e8eec5c7144efa709c12572a039a2",
       "version_major": 2,
       "version_minor": 0
      },
      "text/plain": [
       "gen_cfeats:xc:   0%|          | 0/424943 [00:00<?, ?it/s]"
      ]
     },
     "metadata": {},
     "output_type": "display_data"
    },
    {
     "data": {
      "application/vnd.jupyter.widget-view+json": {
       "model_id": "e7fee41ce5684839b93328f45ef9a2e4",
       "version_major": 2,
       "version_minor": 0
      },
      "text/plain": [
       "gen_pfeats:xpc:   0%|          | 0/424943 [00:00<?, ?it/s]"
      ]
     },
     "metadata": {},
     "output_type": "display_data"
    },
    {
     "data": {
      "application/vnd.jupyter.widget-view+json": {
       "model_id": "83bbf61d145a4c74b59f1c3fd1d3e4c1",
       "version_major": 2,
       "version_minor": 0
      },
      "text/plain": [
       "merge_feats:   0%|          | 0/424943 [00:00<?, ?it/s]"
      ]
     },
     "metadata": {},
     "output_type": "display_data"
    }
   ],
   "source": [
    "dfeats = gen_feats()"
   ]
  },
  {
   "cell_type": "code",
   "execution_count": 34,
   "metadata": {},
   "outputs": [],
   "source": [
    "df = dfeats.merge(df_train[['cid', 'ancestor_id', LABEL_COL]], on='cid')"
   ]
  },
  {
   "cell_type": "code",
   "execution_count": 35,
   "metadata": {},
   "outputs": [],
   "source": [
    "gezi.set_fold(df, 5, 'ancestor_id')"
   ]
  },
  {
   "cell_type": "code",
   "execution_count": 36,
   "metadata": {},
   "outputs": [
    {
     "data": {
      "text/plain": [
       "114"
      ]
     },
     "execution_count": 36,
     "metadata": {},
     "output_type": "execute_result"
    }
   ],
   "source": [
    "reg_cols = [x for x in dfeats.columns if x not in ['id', 'cell_id', 'cid', LABEL_COL]]\n",
    "cat_cols = []\n",
    "cols = reg_cols + cat_cols\n",
    "len(cols)"
   ]
  },
  {
   "cell_type": "code",
   "execution_count": 37,
   "metadata": {},
   "outputs": [],
   "source": [
    "fold = 0\n",
    "dvalid = df[df.fold==fold]\n",
    "dtrain = df[df.fold!=fold]"
   ]
  },
  {
   "cell_type": "code",
   "execution_count": 38,
   "metadata": {},
   "outputs": [],
   "source": [
    "X_train = dtrain[cols]\n",
    "y_train = dtrain[LABEL_COL]\n",
    "X_valid = dvalid[cols]\n",
    "y_valid = dvalid[LABEL_COL]"
   ]
  },
  {
   "cell_type": "code",
   "execution_count": 39,
   "metadata": {},
   "outputs": [],
   "source": [
    "from catboost import CatBoostRegressor, CatBoostRanker, CatBoostClassifier\n",
    "cbt_params = {\n",
    "              # 'bootstrap_type': 'Poisson',\n",
    "              # 'learning_rate': 0.02,\n",
    "              'learning_rate': 0.03,\n",
    "              # 'reg_lambda': 7.960622217848342e-07, \n",
    "              'l2_leaf_reg': 3,\n",
    "              'subsample': 0.7422597612762745,\n",
    "              # 'bagging_temperature': 0.2,\n",
    "              # 'max_depth': 10, \n",
    "              # 'max_depth': 8,\n",
    "              'max_depth': 6,\n",
    "              # 'max_depth': 5,\n",
    "              'early_stopping_rounds': 500,\n",
    "              'n_estimators': 10000,\n",
    "              'cat_features': [],\n",
    "              'loss_function': 'MAE',\n",
    "              'min_child_samples': 100,\n",
    "              # 'task_type': 'GPU',\n",
    "              # 'devices': '0',\n",
    "              }"
   ]
  },
  {
   "cell_type": "code",
   "execution_count": 40,
   "metadata": {},
   "outputs": [
    {
     "name": "stdout",
     "output_type": "stream",
     "text": [
      "0:\tlearn: 0.2522911\ttest: 0.2522911\ttest1: 0.2522307\tbest: 0.2522307 (0)\ttotal: 55.2ms\tremaining: 9m 11s\n",
      "100:\tlearn: 0.0657628\ttest: 0.0657628\ttest1: 0.0668600\tbest: 0.0668600 (100)\ttotal: 3.79s\tremaining: 6m 12s\n",
      "200:\tlearn: 0.0588901\ttest: 0.0588901\ttest1: 0.0602124\tbest: 0.0602124 (200)\ttotal: 7.38s\tremaining: 5m 59s\n",
      "300:\tlearn: 0.0581114\ttest: 0.0581114\ttest1: 0.0594910\tbest: 0.0594910 (300)\ttotal: 10.9s\tremaining: 5m 50s\n",
      "400:\tlearn: 0.0574170\ttest: 0.0574170\ttest1: 0.0588524\tbest: 0.0588524 (400)\ttotal: 14.6s\tremaining: 5m 48s\n",
      "500:\tlearn: 0.0568868\ttest: 0.0568868\ttest1: 0.0583773\tbest: 0.0583773 (500)\ttotal: 18.2s\tremaining: 5m 44s\n",
      "600:\tlearn: 0.0565586\ttest: 0.0565586\ttest1: 0.0581108\tbest: 0.0581108 (600)\ttotal: 21.8s\tremaining: 5m 41s\n",
      "700:\tlearn: 0.0562972\ttest: 0.0562972\ttest1: 0.0579122\tbest: 0.0579122 (700)\ttotal: 25.4s\tremaining: 5m 37s\n",
      "800:\tlearn: 0.0560962\ttest: 0.0560962\ttest1: 0.0577572\tbest: 0.0577572 (800)\ttotal: 29.1s\tremaining: 5m 34s\n",
      "900:\tlearn: 0.0559113\ttest: 0.0559113\ttest1: 0.0576257\tbest: 0.0576257 (900)\ttotal: 32.8s\tremaining: 5m 31s\n",
      "1000:\tlearn: 0.0557714\ttest: 0.0557714\ttest1: 0.0575318\tbest: 0.0575318 (1000)\ttotal: 36.5s\tremaining: 5m 28s\n",
      "1100:\tlearn: 0.0556630\ttest: 0.0556630\ttest1: 0.0574575\tbest: 0.0574575 (1100)\ttotal: 40.1s\tremaining: 5m 24s\n",
      "1200:\tlearn: 0.0555587\ttest: 0.0555587\ttest1: 0.0573946\tbest: 0.0573946 (1200)\ttotal: 43.8s\tremaining: 5m 20s\n",
      "1300:\tlearn: 0.0554820\ttest: 0.0554820\ttest1: 0.0573483\tbest: 0.0573483 (1300)\ttotal: 47.4s\tremaining: 5m 17s\n",
      "1400:\tlearn: 0.0554010\ttest: 0.0554010\ttest1: 0.0573006\tbest: 0.0573006 (1400)\ttotal: 51.2s\tremaining: 5m 13s\n",
      "1500:\tlearn: 0.0553226\ttest: 0.0553226\ttest1: 0.0572591\tbest: 0.0572591 (1500)\ttotal: 54.8s\tremaining: 5m 10s\n",
      "1600:\tlearn: 0.0552336\ttest: 0.0552336\ttest1: 0.0572168\tbest: 0.0572164 (1594)\ttotal: 58.4s\tremaining: 5m 6s\n",
      "1700:\tlearn: 0.0551633\ttest: 0.0551633\ttest1: 0.0571870\tbest: 0.0571870 (1700)\ttotal: 1m 2s\tremaining: 5m 2s\n",
      "1800:\tlearn: 0.0551097\ttest: 0.0551097\ttest1: 0.0571609\tbest: 0.0571609 (1800)\ttotal: 1m 5s\tremaining: 4m 58s\n",
      "1900:\tlearn: 0.0550467\ttest: 0.0550467\ttest1: 0.0571354\tbest: 0.0571349 (1899)\ttotal: 1m 9s\tremaining: 4m 54s\n",
      "2000:\tlearn: 0.0549947\ttest: 0.0549947\ttest1: 0.0571108\tbest: 0.0571108 (2000)\ttotal: 1m 12s\tremaining: 4m 51s\n",
      "2100:\tlearn: 0.0549489\ttest: 0.0549489\ttest1: 0.0570948\tbest: 0.0570948 (2100)\ttotal: 1m 16s\tremaining: 4m 47s\n",
      "2200:\tlearn: 0.0549026\ttest: 0.0549026\ttest1: 0.0570751\tbest: 0.0570751 (2200)\ttotal: 1m 20s\tremaining: 4m 43s\n",
      "2300:\tlearn: 0.0548476\ttest: 0.0548476\ttest1: 0.0570555\tbest: 0.0570555 (2300)\ttotal: 1m 23s\tremaining: 4m 39s\n",
      "2400:\tlearn: 0.0547795\ttest: 0.0547795\ttest1: 0.0570378\tbest: 0.0570378 (2400)\ttotal: 1m 27s\tremaining: 4m 35s\n",
      "2500:\tlearn: 0.0547338\ttest: 0.0547338\ttest1: 0.0570171\tbest: 0.0570169 (2499)\ttotal: 1m 30s\tremaining: 4m 32s\n",
      "2600:\tlearn: 0.0546873\ttest: 0.0546873\ttest1: 0.0570416\tbest: 0.0570024 (2567)\ttotal: 1m 34s\tremaining: 4m 28s\n",
      "2700:\tlearn: 0.0546180\ttest: 0.0546180\ttest1: 0.0570262\tbest: 0.0570024 (2567)\ttotal: 1m 37s\tremaining: 4m 24s\n",
      "2800:\tlearn: 0.0545666\ttest: 0.0545666\ttest1: 0.0570322\tbest: 0.0570024 (2567)\ttotal: 1m 41s\tremaining: 4m 20s\n",
      "2900:\tlearn: 0.0545212\ttest: 0.0545212\ttest1: 0.0570159\tbest: 0.0570024 (2567)\ttotal: 1m 45s\tremaining: 4m 17s\n",
      "3000:\tlearn: 0.0544820\ttest: 0.0544820\ttest1: 0.0570084\tbest: 0.0570024 (2567)\ttotal: 1m 48s\tremaining: 4m 13s\n",
      "3100:\tlearn: 0.0544417\ttest: 0.0544417\ttest1: 0.0569918\tbest: 0.0569918 (3100)\ttotal: 1m 52s\tremaining: 4m 9s\n",
      "3200:\tlearn: 0.0543994\ttest: 0.0543994\ttest1: 0.0570094\tbest: 0.0569889 (3129)\ttotal: 1m 55s\tremaining: 4m 5s\n",
      "3300:\tlearn: 0.0543645\ttest: 0.0543645\ttest1: 0.0569996\tbest: 0.0569889 (3129)\ttotal: 1m 59s\tremaining: 4m 1s\n",
      "3400:\tlearn: 0.0543144\ttest: 0.0543144\ttest1: 0.0569832\tbest: 0.0569832 (3400)\ttotal: 2m 2s\tremaining: 3m 58s\n",
      "3500:\tlearn: 0.0542672\ttest: 0.0542672\ttest1: 0.0569700\tbest: 0.0569700 (3500)\ttotal: 2m 6s\tremaining: 3m 54s\n",
      "3600:\tlearn: 0.0542190\ttest: 0.0542190\ttest1: 0.0569589\tbest: 0.0569589 (3600)\ttotal: 2m 9s\tremaining: 3m 50s\n",
      "3700:\tlearn: 0.0541790\ttest: 0.0541790\ttest1: 0.0569675\tbest: 0.0569537 (3639)\ttotal: 2m 13s\tremaining: 3m 46s\n",
      "3800:\tlearn: 0.0541452\ttest: 0.0541452\ttest1: 0.0569598\tbest: 0.0569537 (3639)\ttotal: 2m 16s\tremaining: 3m 43s\n",
      "3900:\tlearn: 0.0541205\ttest: 0.0541205\ttest1: 0.0569532\tbest: 0.0569532 (3900)\ttotal: 2m 20s\tremaining: 3m 39s\n",
      "4000:\tlearn: 0.0540902\ttest: 0.0540902\ttest1: 0.0569783\tbest: 0.0569508 (3995)\ttotal: 2m 23s\tremaining: 3m 35s\n",
      "4100:\tlearn: 0.0540569\ttest: 0.0540569\ttest1: 0.0569733\tbest: 0.0569508 (3995)\ttotal: 2m 27s\tremaining: 3m 31s\n",
      "4200:\tlearn: 0.0540054\ttest: 0.0540054\ttest1: 0.0569663\tbest: 0.0569508 (3995)\ttotal: 2m 30s\tremaining: 3m 28s\n",
      "4300:\tlearn: 0.0539685\ttest: 0.0539685\ttest1: 0.0569790\tbest: 0.0569508 (3995)\ttotal: 2m 34s\tremaining: 3m 24s\n",
      "4400:\tlearn: 0.0539282\ttest: 0.0539282\ttest1: 0.0569900\tbest: 0.0569508 (3995)\ttotal: 2m 37s\tremaining: 3m 20s\n",
      "Stopped by overfitting detector  (500 iterations wait)\n",
      "\n",
      "bestTest = 0.05695077141\n",
      "bestIteration = 3995\n",
      "\n",
      "Shrink model to first 3996 iterations.\n"
     ]
    },
    {
     "name": "stderr",
     "output_type": "stream",
     "text": [
      "[08/11/22 18:30:26] 3198672829.py:8 in <module>\n",
      "                    cbt_score: 0.9199312947996656\n"
     ]
    },
    {
     "data": {
      "text/plain": [
       "0.9199312947996656"
      ]
     },
     "execution_count": 40,
     "metadata": {},
     "output_type": "execute_result"
    }
   ],
   "source": [
    "cbt_model = CatBoostRegressor(**cbt_params)\n",
    "cbt_model.fit(X_train, y_train,\n",
    "      eval_set=[(X_train, y_train), (X_valid, y_valid)],\n",
    "              verbose=100,\n",
    "              )  \n",
    "dvalid['cbt_pred'] = cbt_model.predict(dvalid[cols])\n",
    "cbt_score = calc_metric({'id': dvalid.id.values, 'cell_id': dvalid.cell_id.values, 'pred': dvalid.cbt_pred.values})\n",
    "ic(cbt_score)"
   ]
  },
  {
   "cell_type": "code",
   "execution_count": 41,
   "metadata": {},
   "outputs": [
    {
     "data": {
      "application/vnd.plotly.v1+json": {
       "config": {
        "plotlyServerURL": "https://plot.ly"
       },
       "data": [
        {
         "alignmentgroup": "True",
         "hovertemplate": "importance=%{x}<br>feat_name=%{y}<extra></extra>",
         "legendgroup": "",
         "marker": {
          "color": "#636efa",
          "pattern": {
           "shape": ""
          }
         },
         "name": "",
         "offsetgroup": "",
         "orientation": "h",
         "showlegend": false,
         "textposition": "auto",
         "type": "bar",
         "x": [
          0.5405096504077586,
          0.5671236528871602,
          0.6238997224363134,
          0.6251121109896723,
          0.6767711827859223,
          0.7176255650765633,
          0.776720203207069,
          0.8424208768664204,
          1.138788681184251,
          1.1735856504249242,
          1.1863130418200944,
          1.1983462682972224,
          2.370569502507623,
          2.8113772563582216,
          3.9227004519673088,
          3.945363473766076,
          8.891153963650718,
          16.310666540099465,
          18.181296743747502,
          21.190923298579715
         ],
         "xaxis": "x",
         "y": [
          "xp_top_pred_2",
          "xc_cls_cls2_diff",
          "pc_cls_cls2_diff",
          "xc_top_prob_9",
          "xc_abs_cls_cls2_diff",
          "pcc_reg_diff",
          "xpc_cls_diff",
          "xc_top_pred_4",
          "xpc_abs_cls_diff",
          "xc_abs_cls2_reg_diff",
          "xc_top_pred_2",
          "xc_top_pred_9",
          "xc_top_pred_1",
          "xp_pred",
          "xp_cls_pred",
          "xc_cls2_pred",
          "xpc_pred",
          "xpc_cls_pred",
          "xc_cls_pred",
          "xc_reg_pred"
         ],
         "yaxis": "y"
        }
       ],
       "layout": {
        "barmode": "relative",
        "legend": {
         "tracegroupgap": 0
        },
        "margin": {
         "t": 60
        },
        "template": {
         "data": {
          "bar": [
           {
            "error_x": {
             "color": "#2a3f5f"
            },
            "error_y": {
             "color": "#2a3f5f"
            },
            "marker": {
             "line": {
              "color": "#E5ECF6",
              "width": 0.5
             },
             "pattern": {
              "fillmode": "overlay",
              "size": 10,
              "solidity": 0.2
             }
            },
            "type": "bar"
           }
          ],
          "barpolar": [
           {
            "marker": {
             "line": {
              "color": "#E5ECF6",
              "width": 0.5
             },
             "pattern": {
              "fillmode": "overlay",
              "size": 10,
              "solidity": 0.2
             }
            },
            "type": "barpolar"
           }
          ],
          "carpet": [
           {
            "aaxis": {
             "endlinecolor": "#2a3f5f",
             "gridcolor": "white",
             "linecolor": "white",
             "minorgridcolor": "white",
             "startlinecolor": "#2a3f5f"
            },
            "baxis": {
             "endlinecolor": "#2a3f5f",
             "gridcolor": "white",
             "linecolor": "white",
             "minorgridcolor": "white",
             "startlinecolor": "#2a3f5f"
            },
            "type": "carpet"
           }
          ],
          "choropleth": [
           {
            "colorbar": {
             "outlinewidth": 0,
             "ticks": ""
            },
            "type": "choropleth"
           }
          ],
          "contour": [
           {
            "colorbar": {
             "outlinewidth": 0,
             "ticks": ""
            },
            "colorscale": [
             [
              0,
              "#0d0887"
             ],
             [
              0.1111111111111111,
              "#46039f"
             ],
             [
              0.2222222222222222,
              "#7201a8"
             ],
             [
              0.3333333333333333,
              "#9c179e"
             ],
             [
              0.4444444444444444,
              "#bd3786"
             ],
             [
              0.5555555555555556,
              "#d8576b"
             ],
             [
              0.6666666666666666,
              "#ed7953"
             ],
             [
              0.7777777777777778,
              "#fb9f3a"
             ],
             [
              0.8888888888888888,
              "#fdca26"
             ],
             [
              1,
              "#f0f921"
             ]
            ],
            "type": "contour"
           }
          ],
          "contourcarpet": [
           {
            "colorbar": {
             "outlinewidth": 0,
             "ticks": ""
            },
            "type": "contourcarpet"
           }
          ],
          "heatmap": [
           {
            "colorbar": {
             "outlinewidth": 0,
             "ticks": ""
            },
            "colorscale": [
             [
              0,
              "#0d0887"
             ],
             [
              0.1111111111111111,
              "#46039f"
             ],
             [
              0.2222222222222222,
              "#7201a8"
             ],
             [
              0.3333333333333333,
              "#9c179e"
             ],
             [
              0.4444444444444444,
              "#bd3786"
             ],
             [
              0.5555555555555556,
              "#d8576b"
             ],
             [
              0.6666666666666666,
              "#ed7953"
             ],
             [
              0.7777777777777778,
              "#fb9f3a"
             ],
             [
              0.8888888888888888,
              "#fdca26"
             ],
             [
              1,
              "#f0f921"
             ]
            ],
            "type": "heatmap"
           }
          ],
          "heatmapgl": [
           {
            "colorbar": {
             "outlinewidth": 0,
             "ticks": ""
            },
            "colorscale": [
             [
              0,
              "#0d0887"
             ],
             [
              0.1111111111111111,
              "#46039f"
             ],
             [
              0.2222222222222222,
              "#7201a8"
             ],
             [
              0.3333333333333333,
              "#9c179e"
             ],
             [
              0.4444444444444444,
              "#bd3786"
             ],
             [
              0.5555555555555556,
              "#d8576b"
             ],
             [
              0.6666666666666666,
              "#ed7953"
             ],
             [
              0.7777777777777778,
              "#fb9f3a"
             ],
             [
              0.8888888888888888,
              "#fdca26"
             ],
             [
              1,
              "#f0f921"
             ]
            ],
            "type": "heatmapgl"
           }
          ],
          "histogram": [
           {
            "marker": {
             "pattern": {
              "fillmode": "overlay",
              "size": 10,
              "solidity": 0.2
             }
            },
            "type": "histogram"
           }
          ],
          "histogram2d": [
           {
            "colorbar": {
             "outlinewidth": 0,
             "ticks": ""
            },
            "colorscale": [
             [
              0,
              "#0d0887"
             ],
             [
              0.1111111111111111,
              "#46039f"
             ],
             [
              0.2222222222222222,
              "#7201a8"
             ],
             [
              0.3333333333333333,
              "#9c179e"
             ],
             [
              0.4444444444444444,
              "#bd3786"
             ],
             [
              0.5555555555555556,
              "#d8576b"
             ],
             [
              0.6666666666666666,
              "#ed7953"
             ],
             [
              0.7777777777777778,
              "#fb9f3a"
             ],
             [
              0.8888888888888888,
              "#fdca26"
             ],
             [
              1,
              "#f0f921"
             ]
            ],
            "type": "histogram2d"
           }
          ],
          "histogram2dcontour": [
           {
            "colorbar": {
             "outlinewidth": 0,
             "ticks": ""
            },
            "colorscale": [
             [
              0,
              "#0d0887"
             ],
             [
              0.1111111111111111,
              "#46039f"
             ],
             [
              0.2222222222222222,
              "#7201a8"
             ],
             [
              0.3333333333333333,
              "#9c179e"
             ],
             [
              0.4444444444444444,
              "#bd3786"
             ],
             [
              0.5555555555555556,
              "#d8576b"
             ],
             [
              0.6666666666666666,
              "#ed7953"
             ],
             [
              0.7777777777777778,
              "#fb9f3a"
             ],
             [
              0.8888888888888888,
              "#fdca26"
             ],
             [
              1,
              "#f0f921"
             ]
            ],
            "type": "histogram2dcontour"
           }
          ],
          "mesh3d": [
           {
            "colorbar": {
             "outlinewidth": 0,
             "ticks": ""
            },
            "type": "mesh3d"
           }
          ],
          "parcoords": [
           {
            "line": {
             "colorbar": {
              "outlinewidth": 0,
              "ticks": ""
             }
            },
            "type": "parcoords"
           }
          ],
          "pie": [
           {
            "automargin": true,
            "type": "pie"
           }
          ],
          "scatter": [
           {
            "marker": {
             "colorbar": {
              "outlinewidth": 0,
              "ticks": ""
             }
            },
            "type": "scatter"
           }
          ],
          "scatter3d": [
           {
            "line": {
             "colorbar": {
              "outlinewidth": 0,
              "ticks": ""
             }
            },
            "marker": {
             "colorbar": {
              "outlinewidth": 0,
              "ticks": ""
             }
            },
            "type": "scatter3d"
           }
          ],
          "scattercarpet": [
           {
            "marker": {
             "colorbar": {
              "outlinewidth": 0,
              "ticks": ""
             }
            },
            "type": "scattercarpet"
           }
          ],
          "scattergeo": [
           {
            "marker": {
             "colorbar": {
              "outlinewidth": 0,
              "ticks": ""
             }
            },
            "type": "scattergeo"
           }
          ],
          "scattergl": [
           {
            "marker": {
             "colorbar": {
              "outlinewidth": 0,
              "ticks": ""
             }
            },
            "type": "scattergl"
           }
          ],
          "scattermapbox": [
           {
            "marker": {
             "colorbar": {
              "outlinewidth": 0,
              "ticks": ""
             }
            },
            "type": "scattermapbox"
           }
          ],
          "scatterpolar": [
           {
            "marker": {
             "colorbar": {
              "outlinewidth": 0,
              "ticks": ""
             }
            },
            "type": "scatterpolar"
           }
          ],
          "scatterpolargl": [
           {
            "marker": {
             "colorbar": {
              "outlinewidth": 0,
              "ticks": ""
             }
            },
            "type": "scatterpolargl"
           }
          ],
          "scatterternary": [
           {
            "marker": {
             "colorbar": {
              "outlinewidth": 0,
              "ticks": ""
             }
            },
            "type": "scatterternary"
           }
          ],
          "surface": [
           {
            "colorbar": {
             "outlinewidth": 0,
             "ticks": ""
            },
            "colorscale": [
             [
              0,
              "#0d0887"
             ],
             [
              0.1111111111111111,
              "#46039f"
             ],
             [
              0.2222222222222222,
              "#7201a8"
             ],
             [
              0.3333333333333333,
              "#9c179e"
             ],
             [
              0.4444444444444444,
              "#bd3786"
             ],
             [
              0.5555555555555556,
              "#d8576b"
             ],
             [
              0.6666666666666666,
              "#ed7953"
             ],
             [
              0.7777777777777778,
              "#fb9f3a"
             ],
             [
              0.8888888888888888,
              "#fdca26"
             ],
             [
              1,
              "#f0f921"
             ]
            ],
            "type": "surface"
           }
          ],
          "table": [
           {
            "cells": {
             "fill": {
              "color": "#EBF0F8"
             },
             "line": {
              "color": "white"
             }
            },
            "header": {
             "fill": {
              "color": "#C8D4E3"
             },
             "line": {
              "color": "white"
             }
            },
            "type": "table"
           }
          ]
         },
         "layout": {
          "annotationdefaults": {
           "arrowcolor": "#2a3f5f",
           "arrowhead": 0,
           "arrowwidth": 1
          },
          "autotypenumbers": "strict",
          "coloraxis": {
           "colorbar": {
            "outlinewidth": 0,
            "ticks": ""
           }
          },
          "colorscale": {
           "diverging": [
            [
             0,
             "#8e0152"
            ],
            [
             0.1,
             "#c51b7d"
            ],
            [
             0.2,
             "#de77ae"
            ],
            [
             0.3,
             "#f1b6da"
            ],
            [
             0.4,
             "#fde0ef"
            ],
            [
             0.5,
             "#f7f7f7"
            ],
            [
             0.6,
             "#e6f5d0"
            ],
            [
             0.7,
             "#b8e186"
            ],
            [
             0.8,
             "#7fbc41"
            ],
            [
             0.9,
             "#4d9221"
            ],
            [
             1,
             "#276419"
            ]
           ],
           "sequential": [
            [
             0,
             "#0d0887"
            ],
            [
             0.1111111111111111,
             "#46039f"
            ],
            [
             0.2222222222222222,
             "#7201a8"
            ],
            [
             0.3333333333333333,
             "#9c179e"
            ],
            [
             0.4444444444444444,
             "#bd3786"
            ],
            [
             0.5555555555555556,
             "#d8576b"
            ],
            [
             0.6666666666666666,
             "#ed7953"
            ],
            [
             0.7777777777777778,
             "#fb9f3a"
            ],
            [
             0.8888888888888888,
             "#fdca26"
            ],
            [
             1,
             "#f0f921"
            ]
           ],
           "sequentialminus": [
            [
             0,
             "#0d0887"
            ],
            [
             0.1111111111111111,
             "#46039f"
            ],
            [
             0.2222222222222222,
             "#7201a8"
            ],
            [
             0.3333333333333333,
             "#9c179e"
            ],
            [
             0.4444444444444444,
             "#bd3786"
            ],
            [
             0.5555555555555556,
             "#d8576b"
            ],
            [
             0.6666666666666666,
             "#ed7953"
            ],
            [
             0.7777777777777778,
             "#fb9f3a"
            ],
            [
             0.8888888888888888,
             "#fdca26"
            ],
            [
             1,
             "#f0f921"
            ]
           ]
          },
          "colorway": [
           "#636efa",
           "#EF553B",
           "#00cc96",
           "#ab63fa",
           "#FFA15A",
           "#19d3f3",
           "#FF6692",
           "#B6E880",
           "#FF97FF",
           "#FECB52"
          ],
          "font": {
           "color": "#2a3f5f"
          },
          "geo": {
           "bgcolor": "white",
           "lakecolor": "white",
           "landcolor": "#E5ECF6",
           "showlakes": true,
           "showland": true,
           "subunitcolor": "white"
          },
          "hoverlabel": {
           "align": "left"
          },
          "hovermode": "closest",
          "mapbox": {
           "style": "light"
          },
          "paper_bgcolor": "white",
          "plot_bgcolor": "#E5ECF6",
          "polar": {
           "angularaxis": {
            "gridcolor": "white",
            "linecolor": "white",
            "ticks": ""
           },
           "bgcolor": "#E5ECF6",
           "radialaxis": {
            "gridcolor": "white",
            "linecolor": "white",
            "ticks": ""
           }
          },
          "scene": {
           "xaxis": {
            "backgroundcolor": "#E5ECF6",
            "gridcolor": "white",
            "gridwidth": 2,
            "linecolor": "white",
            "showbackground": true,
            "ticks": "",
            "zerolinecolor": "white"
           },
           "yaxis": {
            "backgroundcolor": "#E5ECF6",
            "gridcolor": "white",
            "gridwidth": 2,
            "linecolor": "white",
            "showbackground": true,
            "ticks": "",
            "zerolinecolor": "white"
           },
           "zaxis": {
            "backgroundcolor": "#E5ECF6",
            "gridcolor": "white",
            "gridwidth": 2,
            "linecolor": "white",
            "showbackground": true,
            "ticks": "",
            "zerolinecolor": "white"
           }
          },
          "shapedefaults": {
           "line": {
            "color": "#2a3f5f"
           }
          },
          "ternary": {
           "aaxis": {
            "gridcolor": "white",
            "linecolor": "white",
            "ticks": ""
           },
           "baxis": {
            "gridcolor": "white",
            "linecolor": "white",
            "ticks": ""
           },
           "bgcolor": "#E5ECF6",
           "caxis": {
            "gridcolor": "white",
            "linecolor": "white",
            "ticks": ""
           }
          },
          "title": {
           "x": 0.05
          },
          "xaxis": {
           "automargin": true,
           "gridcolor": "white",
           "linecolor": "white",
           "ticks": "",
           "title": {
            "standoff": 15
           },
           "zerolinecolor": "white",
           "zerolinewidth": 2
          },
          "yaxis": {
           "automargin": true,
           "gridcolor": "white",
           "linecolor": "white",
           "ticks": "",
           "title": {
            "standoff": 15
           },
           "zerolinecolor": "white",
           "zerolinewidth": 2
          }
         }
        },
        "xaxis": {
         "anchor": "y",
         "domain": [
          0,
          1
         ],
         "title": {
          "text": "importance"
         }
        },
        "yaxis": {
         "anchor": "x",
         "domain": [
          0,
          1
         ],
         "title": {
          "text": "feat_name"
         }
        }
       }
      },
      "text/html": [
       "<div>                            <div id=\"8d94f3b4-5953-4e9e-bf78-ce15c053bb86\" class=\"plotly-graph-div\" style=\"height:525px; width:100%;\"></div>            <script type=\"text/javascript\">                require([\"plotly\"], function(Plotly) {                    window.PLOTLYENV=window.PLOTLYENV || {};                                    if (document.getElementById(\"8d94f3b4-5953-4e9e-bf78-ce15c053bb86\")) {                    Plotly.newPlot(                        \"8d94f3b4-5953-4e9e-bf78-ce15c053bb86\",                        [{\"alignmentgroup\":\"True\",\"hovertemplate\":\"importance=%{x}<br>feat_name=%{y}<extra></extra>\",\"legendgroup\":\"\",\"marker\":{\"color\":\"#636efa\",\"pattern\":{\"shape\":\"\"}},\"name\":\"\",\"offsetgroup\":\"\",\"orientation\":\"h\",\"showlegend\":false,\"textposition\":\"auto\",\"x\":[0.5405096504077586,0.5671236528871602,0.6238997224363134,0.6251121109896723,0.6767711827859223,0.7176255650765633,0.776720203207069,0.8424208768664204,1.138788681184251,1.1735856504249242,1.1863130418200944,1.1983462682972224,2.370569502507623,2.8113772563582216,3.9227004519673088,3.945363473766076,8.891153963650718,16.310666540099465,18.181296743747502,21.190923298579715],\"xaxis\":\"x\",\"y\":[\"xp_top_pred_2\",\"xc_cls_cls2_diff\",\"pc_cls_cls2_diff\",\"xc_top_prob_9\",\"xc_abs_cls_cls2_diff\",\"pcc_reg_diff\",\"xpc_cls_diff\",\"xc_top_pred_4\",\"xpc_abs_cls_diff\",\"xc_abs_cls2_reg_diff\",\"xc_top_pred_2\",\"xc_top_pred_9\",\"xc_top_pred_1\",\"xp_pred\",\"xp_cls_pred\",\"xc_cls2_pred\",\"xpc_pred\",\"xpc_cls_pred\",\"xc_cls_pred\",\"xc_reg_pred\"],\"yaxis\":\"y\",\"type\":\"bar\"}],                        {\"template\":{\"data\":{\"bar\":[{\"error_x\":{\"color\":\"#2a3f5f\"},\"error_y\":{\"color\":\"#2a3f5f\"},\"marker\":{\"line\":{\"color\":\"#E5ECF6\",\"width\":0.5},\"pattern\":{\"fillmode\":\"overlay\",\"size\":10,\"solidity\":0.2}},\"type\":\"bar\"}],\"barpolar\":[{\"marker\":{\"line\":{\"color\":\"#E5ECF6\",\"width\":0.5},\"pattern\":{\"fillmode\":\"overlay\",\"size\":10,\"solidity\":0.2}},\"type\":\"barpolar\"}],\"carpet\":[{\"aaxis\":{\"endlinecolor\":\"#2a3f5f\",\"gridcolor\":\"white\",\"linecolor\":\"white\",\"minorgridcolor\":\"white\",\"startlinecolor\":\"#2a3f5f\"},\"baxis\":{\"endlinecolor\":\"#2a3f5f\",\"gridcolor\":\"white\",\"linecolor\":\"white\",\"minorgridcolor\":\"white\",\"startlinecolor\":\"#2a3f5f\"},\"type\":\"carpet\"}],\"choropleth\":[{\"colorbar\":{\"outlinewidth\":0,\"ticks\":\"\"},\"type\":\"choropleth\"}],\"contour\":[{\"colorbar\":{\"outlinewidth\":0,\"ticks\":\"\"},\"colorscale\":[[0.0,\"#0d0887\"],[0.1111111111111111,\"#46039f\"],[0.2222222222222222,\"#7201a8\"],[0.3333333333333333,\"#9c179e\"],[0.4444444444444444,\"#bd3786\"],[0.5555555555555556,\"#d8576b\"],[0.6666666666666666,\"#ed7953\"],[0.7777777777777778,\"#fb9f3a\"],[0.8888888888888888,\"#fdca26\"],[1.0,\"#f0f921\"]],\"type\":\"contour\"}],\"contourcarpet\":[{\"colorbar\":{\"outlinewidth\":0,\"ticks\":\"\"},\"type\":\"contourcarpet\"}],\"heatmap\":[{\"colorbar\":{\"outlinewidth\":0,\"ticks\":\"\"},\"colorscale\":[[0.0,\"#0d0887\"],[0.1111111111111111,\"#46039f\"],[0.2222222222222222,\"#7201a8\"],[0.3333333333333333,\"#9c179e\"],[0.4444444444444444,\"#bd3786\"],[0.5555555555555556,\"#d8576b\"],[0.6666666666666666,\"#ed7953\"],[0.7777777777777778,\"#fb9f3a\"],[0.8888888888888888,\"#fdca26\"],[1.0,\"#f0f921\"]],\"type\":\"heatmap\"}],\"heatmapgl\":[{\"colorbar\":{\"outlinewidth\":0,\"ticks\":\"\"},\"colorscale\":[[0.0,\"#0d0887\"],[0.1111111111111111,\"#46039f\"],[0.2222222222222222,\"#7201a8\"],[0.3333333333333333,\"#9c179e\"],[0.4444444444444444,\"#bd3786\"],[0.5555555555555556,\"#d8576b\"],[0.6666666666666666,\"#ed7953\"],[0.7777777777777778,\"#fb9f3a\"],[0.8888888888888888,\"#fdca26\"],[1.0,\"#f0f921\"]],\"type\":\"heatmapgl\"}],\"histogram\":[{\"marker\":{\"pattern\":{\"fillmode\":\"overlay\",\"size\":10,\"solidity\":0.2}},\"type\":\"histogram\"}],\"histogram2d\":[{\"colorbar\":{\"outlinewidth\":0,\"ticks\":\"\"},\"colorscale\":[[0.0,\"#0d0887\"],[0.1111111111111111,\"#46039f\"],[0.2222222222222222,\"#7201a8\"],[0.3333333333333333,\"#9c179e\"],[0.4444444444444444,\"#bd3786\"],[0.5555555555555556,\"#d8576b\"],[0.6666666666666666,\"#ed7953\"],[0.7777777777777778,\"#fb9f3a\"],[0.8888888888888888,\"#fdca26\"],[1.0,\"#f0f921\"]],\"type\":\"histogram2d\"}],\"histogram2dcontour\":[{\"colorbar\":{\"outlinewidth\":0,\"ticks\":\"\"},\"colorscale\":[[0.0,\"#0d0887\"],[0.1111111111111111,\"#46039f\"],[0.2222222222222222,\"#7201a8\"],[0.3333333333333333,\"#9c179e\"],[0.4444444444444444,\"#bd3786\"],[0.5555555555555556,\"#d8576b\"],[0.6666666666666666,\"#ed7953\"],[0.7777777777777778,\"#fb9f3a\"],[0.8888888888888888,\"#fdca26\"],[1.0,\"#f0f921\"]],\"type\":\"histogram2dcontour\"}],\"mesh3d\":[{\"colorbar\":{\"outlinewidth\":0,\"ticks\":\"\"},\"type\":\"mesh3d\"}],\"parcoords\":[{\"line\":{\"colorbar\":{\"outlinewidth\":0,\"ticks\":\"\"}},\"type\":\"parcoords\"}],\"pie\":[{\"automargin\":true,\"type\":\"pie\"}],\"scatter\":[{\"marker\":{\"colorbar\":{\"outlinewidth\":0,\"ticks\":\"\"}},\"type\":\"scatter\"}],\"scatter3d\":[{\"line\":{\"colorbar\":{\"outlinewidth\":0,\"ticks\":\"\"}},\"marker\":{\"colorbar\":{\"outlinewidth\":0,\"ticks\":\"\"}},\"type\":\"scatter3d\"}],\"scattercarpet\":[{\"marker\":{\"colorbar\":{\"outlinewidth\":0,\"ticks\":\"\"}},\"type\":\"scattercarpet\"}],\"scattergeo\":[{\"marker\":{\"colorbar\":{\"outlinewidth\":0,\"ticks\":\"\"}},\"type\":\"scattergeo\"}],\"scattergl\":[{\"marker\":{\"colorbar\":{\"outlinewidth\":0,\"ticks\":\"\"}},\"type\":\"scattergl\"}],\"scattermapbox\":[{\"marker\":{\"colorbar\":{\"outlinewidth\":0,\"ticks\":\"\"}},\"type\":\"scattermapbox\"}],\"scatterpolar\":[{\"marker\":{\"colorbar\":{\"outlinewidth\":0,\"ticks\":\"\"}},\"type\":\"scatterpolar\"}],\"scatterpolargl\":[{\"marker\":{\"colorbar\":{\"outlinewidth\":0,\"ticks\":\"\"}},\"type\":\"scatterpolargl\"}],\"scatterternary\":[{\"marker\":{\"colorbar\":{\"outlinewidth\":0,\"ticks\":\"\"}},\"type\":\"scatterternary\"}],\"surface\":[{\"colorbar\":{\"outlinewidth\":0,\"ticks\":\"\"},\"colorscale\":[[0.0,\"#0d0887\"],[0.1111111111111111,\"#46039f\"],[0.2222222222222222,\"#7201a8\"],[0.3333333333333333,\"#9c179e\"],[0.4444444444444444,\"#bd3786\"],[0.5555555555555556,\"#d8576b\"],[0.6666666666666666,\"#ed7953\"],[0.7777777777777778,\"#fb9f3a\"],[0.8888888888888888,\"#fdca26\"],[1.0,\"#f0f921\"]],\"type\":\"surface\"}],\"table\":[{\"cells\":{\"fill\":{\"color\":\"#EBF0F8\"},\"line\":{\"color\":\"white\"}},\"header\":{\"fill\":{\"color\":\"#C8D4E3\"},\"line\":{\"color\":\"white\"}},\"type\":\"table\"}]},\"layout\":{\"annotationdefaults\":{\"arrowcolor\":\"#2a3f5f\",\"arrowhead\":0,\"arrowwidth\":1},\"autotypenumbers\":\"strict\",\"coloraxis\":{\"colorbar\":{\"outlinewidth\":0,\"ticks\":\"\"}},\"colorscale\":{\"diverging\":[[0,\"#8e0152\"],[0.1,\"#c51b7d\"],[0.2,\"#de77ae\"],[0.3,\"#f1b6da\"],[0.4,\"#fde0ef\"],[0.5,\"#f7f7f7\"],[0.6,\"#e6f5d0\"],[0.7,\"#b8e186\"],[0.8,\"#7fbc41\"],[0.9,\"#4d9221\"],[1,\"#276419\"]],\"sequential\":[[0.0,\"#0d0887\"],[0.1111111111111111,\"#46039f\"],[0.2222222222222222,\"#7201a8\"],[0.3333333333333333,\"#9c179e\"],[0.4444444444444444,\"#bd3786\"],[0.5555555555555556,\"#d8576b\"],[0.6666666666666666,\"#ed7953\"],[0.7777777777777778,\"#fb9f3a\"],[0.8888888888888888,\"#fdca26\"],[1.0,\"#f0f921\"]],\"sequentialminus\":[[0.0,\"#0d0887\"],[0.1111111111111111,\"#46039f\"],[0.2222222222222222,\"#7201a8\"],[0.3333333333333333,\"#9c179e\"],[0.4444444444444444,\"#bd3786\"],[0.5555555555555556,\"#d8576b\"],[0.6666666666666666,\"#ed7953\"],[0.7777777777777778,\"#fb9f3a\"],[0.8888888888888888,\"#fdca26\"],[1.0,\"#f0f921\"]]},\"colorway\":[\"#636efa\",\"#EF553B\",\"#00cc96\",\"#ab63fa\",\"#FFA15A\",\"#19d3f3\",\"#FF6692\",\"#B6E880\",\"#FF97FF\",\"#FECB52\"],\"font\":{\"color\":\"#2a3f5f\"},\"geo\":{\"bgcolor\":\"white\",\"lakecolor\":\"white\",\"landcolor\":\"#E5ECF6\",\"showlakes\":true,\"showland\":true,\"subunitcolor\":\"white\"},\"hoverlabel\":{\"align\":\"left\"},\"hovermode\":\"closest\",\"mapbox\":{\"style\":\"light\"},\"paper_bgcolor\":\"white\",\"plot_bgcolor\":\"#E5ECF6\",\"polar\":{\"angularaxis\":{\"gridcolor\":\"white\",\"linecolor\":\"white\",\"ticks\":\"\"},\"bgcolor\":\"#E5ECF6\",\"radialaxis\":{\"gridcolor\":\"white\",\"linecolor\":\"white\",\"ticks\":\"\"}},\"scene\":{\"xaxis\":{\"backgroundcolor\":\"#E5ECF6\",\"gridcolor\":\"white\",\"gridwidth\":2,\"linecolor\":\"white\",\"showbackground\":true,\"ticks\":\"\",\"zerolinecolor\":\"white\"},\"yaxis\":{\"backgroundcolor\":\"#E5ECF6\",\"gridcolor\":\"white\",\"gridwidth\":2,\"linecolor\":\"white\",\"showbackground\":true,\"ticks\":\"\",\"zerolinecolor\":\"white\"},\"zaxis\":{\"backgroundcolor\":\"#E5ECF6\",\"gridcolor\":\"white\",\"gridwidth\":2,\"linecolor\":\"white\",\"showbackground\":true,\"ticks\":\"\",\"zerolinecolor\":\"white\"}},\"shapedefaults\":{\"line\":{\"color\":\"#2a3f5f\"}},\"ternary\":{\"aaxis\":{\"gridcolor\":\"white\",\"linecolor\":\"white\",\"ticks\":\"\"},\"baxis\":{\"gridcolor\":\"white\",\"linecolor\":\"white\",\"ticks\":\"\"},\"bgcolor\":\"#E5ECF6\",\"caxis\":{\"gridcolor\":\"white\",\"linecolor\":\"white\",\"ticks\":\"\"}},\"title\":{\"x\":0.05},\"xaxis\":{\"automargin\":true,\"gridcolor\":\"white\",\"linecolor\":\"white\",\"ticks\":\"\",\"title\":{\"standoff\":15},\"zerolinecolor\":\"white\",\"zerolinewidth\":2},\"yaxis\":{\"automargin\":true,\"gridcolor\":\"white\",\"linecolor\":\"white\",\"ticks\":\"\",\"title\":{\"standoff\":15},\"zerolinecolor\":\"white\",\"zerolinewidth\":2}}},\"xaxis\":{\"anchor\":\"y\",\"domain\":[0.0,1.0],\"title\":{\"text\":\"importance\"}},\"yaxis\":{\"anchor\":\"x\",\"domain\":[0.0,1.0],\"title\":{\"text\":\"feat_name\"}},\"legend\":{\"tracegroupgap\":0},\"margin\":{\"t\":60},\"barmode\":\"relative\"},                        {\"responsive\": true}                    ).then(function(){\n",
       "                            \n",
       "var gd = document.getElementById('8d94f3b4-5953-4e9e-bf78-ce15c053bb86');\n",
       "var x = new MutationObserver(function (mutations, observer) {{\n",
       "        var display = window.getComputedStyle(gd).display;\n",
       "        if (!display || display === 'none') {{\n",
       "            console.log([gd, 'removed!']);\n",
       "            Plotly.purge(gd);\n",
       "            observer.disconnect();\n",
       "        }}\n",
       "}});\n",
       "\n",
       "// Listen for the removal of the full notebook cells\n",
       "var notebookContainer = gd.closest('#notebook-container');\n",
       "if (notebookContainer) {{\n",
       "    x.observe(notebookContainer, {childList: true});\n",
       "}}\n",
       "\n",
       "// Listen for the clearing of the current output cell\n",
       "var outputEl = gd.closest('.output');\n",
       "if (outputEl) {{\n",
       "    x.observe(outputEl, {childList: true});\n",
       "}}\n",
       "\n",
       "                        })                };                });            </script>        </div>"
      ]
     },
     "metadata": {},
     "output_type": "display_data"
    }
   ],
   "source": [
    "gezi.plot.feature_importance(cbt_model, topn=20)"
   ]
  },
  {
   "cell_type": "code",
   "execution_count": 42,
   "metadata": {},
   "outputs": [],
   "source": [
    "import lightgbm as lgb\n",
    "params = {\n",
    "          'boosting': 'gbdt',\n",
    "          'objective': 'regression_l1',\n",
    "          'metric': {'l1'},\n",
    "          # 'num_leaves': 32,\n",
    "          # 'num_leaves': 24,\n",
    "          'num_leaves': 12,\n",
    "          # 'min_data_in_leaf': 300,\n",
    "          'min_data_in_leaf': 500,\n",
    "          # 'max_depth': 5,\n",
    "          'learning_rate': 0.03,\n",
    "          # \"feature_fraction\": 0.8,\n",
    "          # \"bagging_fraction\": 0.75,\n",
    "          # \"feature_fraction\": 0.9,\n",
    "          # \"bagging_fraction\": 0.8,\n",
    "          'feature_fraction': 0.7,\n",
    "          'bagging_fraction': 0.7,\n",
    "          'min_data_in_bin':100,\n",
    "          \"lambda_l1\": 1e-7,\n",
    "          'lambda_l2': 1e-7,\n",
    "          \"random_state\": 1024,\n",
    "          \"num_threads\": 12,\n",
    "          }"
   ]
  },
  {
   "cell_type": "code",
   "execution_count": 43,
   "metadata": {},
   "outputs": [
    {
     "name": "stdout",
     "output_type": "stream",
     "text": [
      "[LightGBM] [Warning] Auto-choosing col-wise multi-threading, the overhead of testing was 0.064233 seconds.\n",
      "You can set `force_col_wise=true` to remove the overhead.\n",
      "[LightGBM] [Info] Total Bins 26660\n",
      "[LightGBM] [Info] Number of data points in the train set: 342411, number of used features: 114\n",
      "[LightGBM] [Info] Start training from score 0.455056\n",
      "Training until validation scores don't improve for 500 rounds\n",
      "[100]\ttraining's l1: 0.0667349\tvalid_1's l1: 0.0677891\n",
      "[200]\ttraining's l1: 0.0595607\tvalid_1's l1: 0.0607967\n",
      "[300]\ttraining's l1: 0.0586342\tvalid_1's l1: 0.0598966\n",
      "[400]\ttraining's l1: 0.0577119\tvalid_1's l1: 0.0590241\n",
      "[500]\ttraining's l1: 0.0571363\tvalid_1's l1: 0.0585103\n",
      "[600]\ttraining's l1: 0.0567232\tvalid_1's l1: 0.0581622\n",
      "[700]\ttraining's l1: 0.0564445\tvalid_1's l1: 0.057924\n",
      "[800]\ttraining's l1: 0.0563155\tvalid_1's l1: 0.0578205\n",
      "[900]\ttraining's l1: 0.0561609\tvalid_1's l1: 0.0577001\n",
      "[1000]\ttraining's l1: 0.0560563\tvalid_1's l1: 0.0576236\n",
      "[1100]\ttraining's l1: 0.0559411\tvalid_1's l1: 0.057541\n",
      "[1200]\ttraining's l1: 0.0558803\tvalid_1's l1: 0.0574943\n",
      "[1300]\ttraining's l1: 0.0557905\tvalid_1's l1: 0.0574277\n",
      "[1400]\ttraining's l1: 0.0557203\tvalid_1's l1: 0.0573805\n",
      "[1500]\ttraining's l1: 0.055675\tvalid_1's l1: 0.0573454\n",
      "[1600]\ttraining's l1: 0.0556294\tvalid_1's l1: 0.0573144\n",
      "[1700]\ttraining's l1: 0.0555861\tvalid_1's l1: 0.0572921\n",
      "[1800]\ttraining's l1: 0.0555443\tvalid_1's l1: 0.0572658\n",
      "[1900]\ttraining's l1: 0.0554953\tvalid_1's l1: 0.0572418\n",
      "[2000]\ttraining's l1: 0.0554506\tvalid_1's l1: 0.0572135\n",
      "[2100]\ttraining's l1: 0.0554192\tvalid_1's l1: 0.0571971\n",
      "[2200]\ttraining's l1: 0.0553861\tvalid_1's l1: 0.0571772\n",
      "[2300]\ttraining's l1: 0.0553571\tvalid_1's l1: 0.0571578\n",
      "[2400]\ttraining's l1: 0.0553261\tvalid_1's l1: 0.0571405\n",
      "[2500]\ttraining's l1: 0.0553074\tvalid_1's l1: 0.0571298\n",
      "[2600]\ttraining's l1: 0.0552825\tvalid_1's l1: 0.0571187\n",
      "[2700]\ttraining's l1: 0.0552491\tvalid_1's l1: 0.0571039\n",
      "[2800]\ttraining's l1: 0.0552215\tvalid_1's l1: 0.05709\n",
      "[2900]\ttraining's l1: 0.0551946\tvalid_1's l1: 0.0570829\n",
      "[3000]\ttraining's l1: 0.0551733\tvalid_1's l1: 0.0570734\n",
      "[3100]\ttraining's l1: 0.0551576\tvalid_1's l1: 0.0570668\n",
      "[3200]\ttraining's l1: 0.0551299\tvalid_1's l1: 0.0570518\n",
      "[3300]\ttraining's l1: 0.0551004\tvalid_1's l1: 0.0570374\n",
      "[3400]\ttraining's l1: 0.0550795\tvalid_1's l1: 0.0570289\n",
      "[3500]\ttraining's l1: 0.055063\tvalid_1's l1: 0.0570194\n",
      "[3600]\ttraining's l1: 0.055041\tvalid_1's l1: 0.0570081\n",
      "[3700]\ttraining's l1: 0.0550291\tvalid_1's l1: 0.0570041\n",
      "[3800]\ttraining's l1: 0.0550168\tvalid_1's l1: 0.0569982\n",
      "[3900]\ttraining's l1: 0.0550042\tvalid_1's l1: 0.0569929\n",
      "[4000]\ttraining's l1: 0.0549891\tvalid_1's l1: 0.0569861\n",
      "[4100]\ttraining's l1: 0.0549757\tvalid_1's l1: 0.0569791\n",
      "[4200]\ttraining's l1: 0.0549571\tvalid_1's l1: 0.0569689\n",
      "[4300]\ttraining's l1: 0.0549444\tvalid_1's l1: 0.0569631\n",
      "[4400]\ttraining's l1: 0.0549318\tvalid_1's l1: 0.0569561\n",
      "[4500]\ttraining's l1: 0.054917\tvalid_1's l1: 0.0569482\n",
      "[4600]\ttraining's l1: 0.0549012\tvalid_1's l1: 0.0569425\n",
      "[4700]\ttraining's l1: 0.0548763\tvalid_1's l1: 0.0569361\n",
      "[4800]\ttraining's l1: 0.0548648\tvalid_1's l1: 0.0569305\n",
      "[4900]\ttraining's l1: 0.0548469\tvalid_1's l1: 0.0569216\n",
      "[5000]\ttraining's l1: 0.0548341\tvalid_1's l1: 0.056916\n",
      "[5100]\ttraining's l1: 0.054822\tvalid_1's l1: 0.056913\n",
      "[5200]\ttraining's l1: 0.0548054\tvalid_1's l1: 0.0569042\n",
      "[5300]\ttraining's l1: 0.0547943\tvalid_1's l1: 0.0569004\n",
      "[5400]\ttraining's l1: 0.0547852\tvalid_1's l1: 0.0568963\n",
      "[5500]\ttraining's l1: 0.0547752\tvalid_1's l1: 0.0568911\n",
      "[5600]\ttraining's l1: 0.0547595\tvalid_1's l1: 0.0568866\n",
      "[5700]\ttraining's l1: 0.0547494\tvalid_1's l1: 0.0568847\n",
      "[5800]\ttraining's l1: 0.0547303\tvalid_1's l1: 0.0568773\n",
      "[5900]\ttraining's l1: 0.0547223\tvalid_1's l1: 0.0568729\n",
      "[6000]\ttraining's l1: 0.0547132\tvalid_1's l1: 0.0568686\n",
      "[6100]\ttraining's l1: 0.0546968\tvalid_1's l1: 0.0568621\n",
      "[6200]\ttraining's l1: 0.0546804\tvalid_1's l1: 0.0568577\n",
      "[6300]\ttraining's l1: 0.0546733\tvalid_1's l1: 0.0568551\n",
      "[6400]\ttraining's l1: 0.0546621\tvalid_1's l1: 0.0568533\n",
      "[6500]\ttraining's l1: 0.0546535\tvalid_1's l1: 0.0568495\n",
      "[6600]\ttraining's l1: 0.0546446\tvalid_1's l1: 0.0568494\n",
      "[6700]\ttraining's l1: 0.0546326\tvalid_1's l1: 0.0568441\n",
      "[6800]\ttraining's l1: 0.0546194\tvalid_1's l1: 0.0568392\n",
      "[6900]\ttraining's l1: 0.0546081\tvalid_1's l1: 0.0568353\n",
      "[7000]\ttraining's l1: 0.0545924\tvalid_1's l1: 0.0568311\n",
      "[7100]\ttraining's l1: 0.0545829\tvalid_1's l1: 0.0568283\n",
      "[7200]\ttraining's l1: 0.0545749\tvalid_1's l1: 0.0568269\n",
      "[7300]\ttraining's l1: 0.0545616\tvalid_1's l1: 0.0568244\n",
      "[7400]\ttraining's l1: 0.0545548\tvalid_1's l1: 0.0568225\n",
      "[7500]\ttraining's l1: 0.0545451\tvalid_1's l1: 0.0568213\n",
      "[7600]\ttraining's l1: 0.0545369\tvalid_1's l1: 0.0568187\n",
      "[7700]\ttraining's l1: 0.0545305\tvalid_1's l1: 0.0568187\n",
      "[7800]\ttraining's l1: 0.0545208\tvalid_1's l1: 0.0568155\n",
      "[7900]\ttraining's l1: 0.0545071\tvalid_1's l1: 0.056808\n",
      "[8000]\ttraining's l1: 0.0544982\tvalid_1's l1: 0.0568059\n",
      "[8100]\ttraining's l1: 0.0544914\tvalid_1's l1: 0.0568041\n",
      "[8200]\ttraining's l1: 0.0544805\tvalid_1's l1: 0.0568017\n",
      "[8300]\ttraining's l1: 0.0544698\tvalid_1's l1: 0.0567969\n",
      "[8400]\ttraining's l1: 0.0544648\tvalid_1's l1: 0.0567948\n",
      "[8500]\ttraining's l1: 0.0544576\tvalid_1's l1: 0.0567931\n",
      "[8600]\ttraining's l1: 0.05445\tvalid_1's l1: 0.0567919\n",
      "[8700]\ttraining's l1: 0.0544404\tvalid_1's l1: 0.0567899\n",
      "[8800]\ttraining's l1: 0.0544343\tvalid_1's l1: 0.0567877\n",
      "[8900]\ttraining's l1: 0.0544193\tvalid_1's l1: 0.0567857\n",
      "[9000]\ttraining's l1: 0.0544104\tvalid_1's l1: 0.0567825\n",
      "[9100]\ttraining's l1: 0.0544057\tvalid_1's l1: 0.056781\n",
      "[9200]\ttraining's l1: 0.054398\tvalid_1's l1: 0.0567799\n",
      "[9300]\ttraining's l1: 0.0543918\tvalid_1's l1: 0.0567772\n",
      "[9400]\ttraining's l1: 0.0543866\tvalid_1's l1: 0.0567761\n",
      "[9500]\ttraining's l1: 0.0543744\tvalid_1's l1: 0.0567734\n",
      "[9600]\ttraining's l1: 0.0543664\tvalid_1's l1: 0.0567704\n",
      "[9700]\ttraining's l1: 0.0543581\tvalid_1's l1: 0.0567673\n",
      "[9800]\ttraining's l1: 0.0543479\tvalid_1's l1: 0.0567649\n",
      "[9900]\ttraining's l1: 0.0543385\tvalid_1's l1: 0.0567626\n",
      "[10000]\ttraining's l1: 0.0543291\tvalid_1's l1: 0.0567598\n",
      "[10100]\ttraining's l1: 0.0543205\tvalid_1's l1: 0.0567586\n",
      "[10200]\ttraining's l1: 0.0543149\tvalid_1's l1: 0.0567577\n",
      "[10300]\ttraining's l1: 0.0543097\tvalid_1's l1: 0.0567563\n",
      "[10400]\ttraining's l1: 0.0543058\tvalid_1's l1: 0.0567559\n",
      "[10500]\ttraining's l1: 0.0542976\tvalid_1's l1: 0.0567537\n",
      "[10600]\ttraining's l1: 0.0542873\tvalid_1's l1: 0.0567508\n",
      "[10700]\ttraining's l1: 0.0542719\tvalid_1's l1: 0.0567443\n",
      "[10800]\ttraining's l1: 0.0542653\tvalid_1's l1: 0.0567425\n",
      "[10900]\ttraining's l1: 0.0542596\tvalid_1's l1: 0.0567421\n",
      "[11000]\ttraining's l1: 0.0542521\tvalid_1's l1: 0.0567403\n",
      "[11100]\ttraining's l1: 0.0542432\tvalid_1's l1: 0.0567386\n",
      "[11200]\ttraining's l1: 0.0542378\tvalid_1's l1: 0.0567386\n",
      "[11300]\ttraining's l1: 0.0542316\tvalid_1's l1: 0.0567374\n",
      "[11400]\ttraining's l1: 0.0542277\tvalid_1's l1: 0.0567374\n",
      "[11500]\ttraining's l1: 0.0542232\tvalid_1's l1: 0.0567367\n",
      "[11600]\ttraining's l1: 0.0542197\tvalid_1's l1: 0.0567355\n",
      "[11700]\ttraining's l1: 0.0542101\tvalid_1's l1: 0.0567322\n",
      "[11800]\ttraining's l1: 0.0542003\tvalid_1's l1: 0.0567294\n",
      "[11900]\ttraining's l1: 0.0541911\tvalid_1's l1: 0.0567279\n",
      "[12000]\ttraining's l1: 0.0541836\tvalid_1's l1: 0.0567267\n",
      "[12100]\ttraining's l1: 0.0541764\tvalid_1's l1: 0.056725\n",
      "[12200]\ttraining's l1: 0.0541704\tvalid_1's l1: 0.0567224\n",
      "[12300]\ttraining's l1: 0.0541623\tvalid_1's l1: 0.056721\n",
      "[12400]\ttraining's l1: 0.054157\tvalid_1's l1: 0.05672\n",
      "[12500]\ttraining's l1: 0.0541523\tvalid_1's l1: 0.0567178\n",
      "[12600]\ttraining's l1: 0.0541411\tvalid_1's l1: 0.0567172\n",
      "[12700]\ttraining's l1: 0.0541342\tvalid_1's l1: 0.0567148\n",
      "[12800]\ttraining's l1: 0.0541207\tvalid_1's l1: 0.0567109\n",
      "[12900]\ttraining's l1: 0.0541157\tvalid_1's l1: 0.0567107\n",
      "[13000]\ttraining's l1: 0.0541097\tvalid_1's l1: 0.0567094\n",
      "[13100]\ttraining's l1: 0.0541024\tvalid_1's l1: 0.0567077\n",
      "[13200]\ttraining's l1: 0.0540977\tvalid_1's l1: 0.0567071\n",
      "[13300]\ttraining's l1: 0.0540916\tvalid_1's l1: 0.0567058\n",
      "[13400]\ttraining's l1: 0.0540871\tvalid_1's l1: 0.056704\n",
      "[13500]\ttraining's l1: 0.0540832\tvalid_1's l1: 0.0567028\n",
      "[13600]\ttraining's l1: 0.0540812\tvalid_1's l1: 0.0567025\n",
      "[13700]\ttraining's l1: 0.0540741\tvalid_1's l1: 0.0567019\n",
      "[13800]\ttraining's l1: 0.0540687\tvalid_1's l1: 0.0567005\n",
      "[13900]\ttraining's l1: 0.0540573\tvalid_1's l1: 0.0566981\n",
      "[14000]\ttraining's l1: 0.0540478\tvalid_1's l1: 0.0566953\n",
      "[14100]\ttraining's l1: 0.0540411\tvalid_1's l1: 0.0566941\n",
      "[14200]\ttraining's l1: 0.0540365\tvalid_1's l1: 0.0566933\n",
      "[14300]\ttraining's l1: 0.0540299\tvalid_1's l1: 0.0566907\n",
      "[14400]\ttraining's l1: 0.0540249\tvalid_1's l1: 0.0566901\n",
      "[14500]\ttraining's l1: 0.054017\tvalid_1's l1: 0.0566883\n",
      "[14600]\ttraining's l1: 0.0540114\tvalid_1's l1: 0.0566868\n",
      "[14700]\ttraining's l1: 0.0540065\tvalid_1's l1: 0.0566869\n",
      "[14800]\ttraining's l1: 0.0540019\tvalid_1's l1: 0.0566861\n",
      "[14900]\ttraining's l1: 0.0539956\tvalid_1's l1: 0.0566851\n",
      "[15000]\ttraining's l1: 0.0539896\tvalid_1's l1: 0.0566833\n",
      "[15100]\ttraining's l1: 0.0539801\tvalid_1's l1: 0.0566809\n",
      "[15200]\ttraining's l1: 0.0539766\tvalid_1's l1: 0.0566804\n",
      "[15300]\ttraining's l1: 0.0539732\tvalid_1's l1: 0.056679\n",
      "[15400]\ttraining's l1: 0.0539689\tvalid_1's l1: 0.0566777\n",
      "[15500]\ttraining's l1: 0.0539617\tvalid_1's l1: 0.0566748\n",
      "[15600]\ttraining's l1: 0.0539562\tvalid_1's l1: 0.0566737\n",
      "[15700]\ttraining's l1: 0.0539472\tvalid_1's l1: 0.0566715\n",
      "[15800]\ttraining's l1: 0.0539423\tvalid_1's l1: 0.0566706\n",
      "[15900]\ttraining's l1: 0.0539376\tvalid_1's l1: 0.0566702\n",
      "[16000]\ttraining's l1: 0.053929\tvalid_1's l1: 0.0566693\n",
      "[16100]\ttraining's l1: 0.0539227\tvalid_1's l1: 0.0566683\n",
      "[16200]\ttraining's l1: 0.0539178\tvalid_1's l1: 0.0566667\n",
      "[16300]\ttraining's l1: 0.0539131\tvalid_1's l1: 0.0566657\n",
      "[16400]\ttraining's l1: 0.0539095\tvalid_1's l1: 0.0566649\n",
      "[16500]\ttraining's l1: 0.0539026\tvalid_1's l1: 0.0566654\n",
      "[16600]\ttraining's l1: 0.0538935\tvalid_1's l1: 0.0566636\n",
      "[16700]\ttraining's l1: 0.0538866\tvalid_1's l1: 0.0566622\n",
      "[16800]\ttraining's l1: 0.0538825\tvalid_1's l1: 0.0566613\n",
      "[16900]\ttraining's l1: 0.0538727\tvalid_1's l1: 0.0566594\n",
      "[17000]\ttraining's l1: 0.0538474\tvalid_1's l1: 0.0566512\n",
      "[17100]\ttraining's l1: 0.0538379\tvalid_1's l1: 0.0566494\n",
      "[17200]\ttraining's l1: 0.0538327\tvalid_1's l1: 0.0566488\n",
      "[17300]\ttraining's l1: 0.0538267\tvalid_1's l1: 0.056647\n",
      "[17400]\ttraining's l1: 0.0538204\tvalid_1's l1: 0.0566453\n",
      "[17500]\ttraining's l1: 0.0538158\tvalid_1's l1: 0.0566459\n",
      "[17600]\ttraining's l1: 0.0538045\tvalid_1's l1: 0.0566455\n",
      "[17700]\ttraining's l1: 0.0537991\tvalid_1's l1: 0.0566447\n",
      "[17800]\ttraining's l1: 0.0537931\tvalid_1's l1: 0.0566432\n",
      "[17900]\ttraining's l1: 0.0537851\tvalid_1's l1: 0.0566401\n",
      "[18000]\ttraining's l1: 0.0537781\tvalid_1's l1: 0.0566389\n",
      "[18100]\ttraining's l1: 0.0537702\tvalid_1's l1: 0.0566378\n",
      "[18200]\ttraining's l1: 0.0537662\tvalid_1's l1: 0.0566377\n",
      "[18300]\ttraining's l1: 0.0537556\tvalid_1's l1: 0.0566371\n",
      "[18400]\ttraining's l1: 0.0537483\tvalid_1's l1: 0.0566368\n",
      "[18500]\ttraining's l1: 0.053743\tvalid_1's l1: 0.0566357\n",
      "[18600]\ttraining's l1: 0.0537341\tvalid_1's l1: 0.0566355\n",
      "[18700]\ttraining's l1: 0.0537277\tvalid_1's l1: 0.0566354\n",
      "[18800]\ttraining's l1: 0.0537235\tvalid_1's l1: 0.0566337\n",
      "[18900]\ttraining's l1: 0.0537201\tvalid_1's l1: 0.0566332\n",
      "[19000]\ttraining's l1: 0.0537148\tvalid_1's l1: 0.0566322\n",
      "[19100]\ttraining's l1: 0.0537104\tvalid_1's l1: 0.0566314\n",
      "[19200]\ttraining's l1: 0.0537068\tvalid_1's l1: 0.0566315\n",
      "[19300]\ttraining's l1: 0.0537035\tvalid_1's l1: 0.0566308\n",
      "[19400]\ttraining's l1: 0.0536988\tvalid_1's l1: 0.05663\n",
      "[19500]\ttraining's l1: 0.0536947\tvalid_1's l1: 0.0566303\n",
      "[19600]\ttraining's l1: 0.0536869\tvalid_1's l1: 0.0566296\n",
      "[19700]\ttraining's l1: 0.0536826\tvalid_1's l1: 0.0566294\n",
      "[19800]\ttraining's l1: 0.0536698\tvalid_1's l1: 0.0566283\n",
      "[19900]\ttraining's l1: 0.0536597\tvalid_1's l1: 0.0566261\n",
      "[20000]\ttraining's l1: 0.0536517\tvalid_1's l1: 0.0566241\n",
      "Did not meet early stopping. Best iteration is:\n",
      "[20000]\ttraining's l1: 0.0536517\tvalid_1's l1: 0.0566241\n"
     ]
    },
    {
     "name": "stderr",
     "output_type": "stream",
     "text": [
      "[08/11/22 18:35:18] 176747773.py:12 in <module>\n",
      "                    lgb_score: 0.920193588869891\n"
     ]
    },
    {
     "data": {
      "text/plain": [
       "0.920193588869891"
      ]
     },
     "execution_count": 43,
     "metadata": {},
     "output_type": "execute_result"
    }
   ],
   "source": [
    "d_train = lgb.Dataset(X_train, y_train)\n",
    "d_valid = lgb.Dataset(X_valid, y_valid, reference=d_train)\n",
    "\n",
    "lgb_model = lgb.train(params,\n",
    "                d_train,\n",
    "                20000,\n",
    "                valid_sets=[d_train, d_valid],\n",
    "                verbose_eval=100,\n",
    "                early_stopping_rounds=500)\n",
    "dvalid['lgb_pred'] = lgb_model.predict(dvalid[cols])\n",
    "lgb_score = calc_metric({'id': dvalid.id.values, 'cell_id': dvalid.cell_id.values, 'pred': dvalid.lgb_pred.values})\n",
    "ic(lgb_score)"
   ]
  },
  {
   "cell_type": "code",
   "execution_count": 44,
   "metadata": {},
   "outputs": [
    {
     "data": {
      "application/vnd.plotly.v1+json": {
       "config": {
        "plotlyServerURL": "https://plot.ly"
       },
       "data": [
        {
         "alignmentgroup": "True",
         "hovertemplate": "importance=%{x}<br>feat_name=%{y}<extra></extra>",
         "legendgroup": "",
         "marker": {
          "color": "#636efa",
          "pattern": {
           "shape": ""
          }
         },
         "name": "",
         "offsetgroup": "",
         "orientation": "h",
         "showlegend": false,
         "textposition": "auto",
         "type": "bar",
         "x": [
          2674,
          2721,
          2750,
          2835,
          2840,
          3043,
          3056,
          3141,
          3154,
          3185,
          3260,
          3287,
          3399,
          3448,
          3548,
          3701,
          4491,
          5985,
          6326,
          6706
         ],
         "xaxis": "x",
         "y": [
          "xp_cls_pred",
          "n_cell",
          "xc_top_prob_9",
          "pcc_cls2_diff",
          "xp_top_prob_0",
          "xc_top_prob_5",
          "xpc_top_prob_0",
          "code_ratio",
          "pcc_reg_diff",
          "n_words",
          "xpc_var_prob",
          "xpc_pred",
          "xc_abs_cls2_reg_diff",
          "xc_top_prob_2",
          "xc_abs_cls_cls2_diff",
          "xc_cls2_reg_diff",
          "xc_cls_pred",
          "xpc_cls_pred",
          "xc_top_prob_1",
          "xc_reg_pred"
         ],
         "yaxis": "y"
        }
       ],
       "layout": {
        "barmode": "relative",
        "legend": {
         "tracegroupgap": 0
        },
        "margin": {
         "t": 60
        },
        "template": {
         "data": {
          "bar": [
           {
            "error_x": {
             "color": "#2a3f5f"
            },
            "error_y": {
             "color": "#2a3f5f"
            },
            "marker": {
             "line": {
              "color": "#E5ECF6",
              "width": 0.5
             },
             "pattern": {
              "fillmode": "overlay",
              "size": 10,
              "solidity": 0.2
             }
            },
            "type": "bar"
           }
          ],
          "barpolar": [
           {
            "marker": {
             "line": {
              "color": "#E5ECF6",
              "width": 0.5
             },
             "pattern": {
              "fillmode": "overlay",
              "size": 10,
              "solidity": 0.2
             }
            },
            "type": "barpolar"
           }
          ],
          "carpet": [
           {
            "aaxis": {
             "endlinecolor": "#2a3f5f",
             "gridcolor": "white",
             "linecolor": "white",
             "minorgridcolor": "white",
             "startlinecolor": "#2a3f5f"
            },
            "baxis": {
             "endlinecolor": "#2a3f5f",
             "gridcolor": "white",
             "linecolor": "white",
             "minorgridcolor": "white",
             "startlinecolor": "#2a3f5f"
            },
            "type": "carpet"
           }
          ],
          "choropleth": [
           {
            "colorbar": {
             "outlinewidth": 0,
             "ticks": ""
            },
            "type": "choropleth"
           }
          ],
          "contour": [
           {
            "colorbar": {
             "outlinewidth": 0,
             "ticks": ""
            },
            "colorscale": [
             [
              0,
              "#0d0887"
             ],
             [
              0.1111111111111111,
              "#46039f"
             ],
             [
              0.2222222222222222,
              "#7201a8"
             ],
             [
              0.3333333333333333,
              "#9c179e"
             ],
             [
              0.4444444444444444,
              "#bd3786"
             ],
             [
              0.5555555555555556,
              "#d8576b"
             ],
             [
              0.6666666666666666,
              "#ed7953"
             ],
             [
              0.7777777777777778,
              "#fb9f3a"
             ],
             [
              0.8888888888888888,
              "#fdca26"
             ],
             [
              1,
              "#f0f921"
             ]
            ],
            "type": "contour"
           }
          ],
          "contourcarpet": [
           {
            "colorbar": {
             "outlinewidth": 0,
             "ticks": ""
            },
            "type": "contourcarpet"
           }
          ],
          "heatmap": [
           {
            "colorbar": {
             "outlinewidth": 0,
             "ticks": ""
            },
            "colorscale": [
             [
              0,
              "#0d0887"
             ],
             [
              0.1111111111111111,
              "#46039f"
             ],
             [
              0.2222222222222222,
              "#7201a8"
             ],
             [
              0.3333333333333333,
              "#9c179e"
             ],
             [
              0.4444444444444444,
              "#bd3786"
             ],
             [
              0.5555555555555556,
              "#d8576b"
             ],
             [
              0.6666666666666666,
              "#ed7953"
             ],
             [
              0.7777777777777778,
              "#fb9f3a"
             ],
             [
              0.8888888888888888,
              "#fdca26"
             ],
             [
              1,
              "#f0f921"
             ]
            ],
            "type": "heatmap"
           }
          ],
          "heatmapgl": [
           {
            "colorbar": {
             "outlinewidth": 0,
             "ticks": ""
            },
            "colorscale": [
             [
              0,
              "#0d0887"
             ],
             [
              0.1111111111111111,
              "#46039f"
             ],
             [
              0.2222222222222222,
              "#7201a8"
             ],
             [
              0.3333333333333333,
              "#9c179e"
             ],
             [
              0.4444444444444444,
              "#bd3786"
             ],
             [
              0.5555555555555556,
              "#d8576b"
             ],
             [
              0.6666666666666666,
              "#ed7953"
             ],
             [
              0.7777777777777778,
              "#fb9f3a"
             ],
             [
              0.8888888888888888,
              "#fdca26"
             ],
             [
              1,
              "#f0f921"
             ]
            ],
            "type": "heatmapgl"
           }
          ],
          "histogram": [
           {
            "marker": {
             "pattern": {
              "fillmode": "overlay",
              "size": 10,
              "solidity": 0.2
             }
            },
            "type": "histogram"
           }
          ],
          "histogram2d": [
           {
            "colorbar": {
             "outlinewidth": 0,
             "ticks": ""
            },
            "colorscale": [
             [
              0,
              "#0d0887"
             ],
             [
              0.1111111111111111,
              "#46039f"
             ],
             [
              0.2222222222222222,
              "#7201a8"
             ],
             [
              0.3333333333333333,
              "#9c179e"
             ],
             [
              0.4444444444444444,
              "#bd3786"
             ],
             [
              0.5555555555555556,
              "#d8576b"
             ],
             [
              0.6666666666666666,
              "#ed7953"
             ],
             [
              0.7777777777777778,
              "#fb9f3a"
             ],
             [
              0.8888888888888888,
              "#fdca26"
             ],
             [
              1,
              "#f0f921"
             ]
            ],
            "type": "histogram2d"
           }
          ],
          "histogram2dcontour": [
           {
            "colorbar": {
             "outlinewidth": 0,
             "ticks": ""
            },
            "colorscale": [
             [
              0,
              "#0d0887"
             ],
             [
              0.1111111111111111,
              "#46039f"
             ],
             [
              0.2222222222222222,
              "#7201a8"
             ],
             [
              0.3333333333333333,
              "#9c179e"
             ],
             [
              0.4444444444444444,
              "#bd3786"
             ],
             [
              0.5555555555555556,
              "#d8576b"
             ],
             [
              0.6666666666666666,
              "#ed7953"
             ],
             [
              0.7777777777777778,
              "#fb9f3a"
             ],
             [
              0.8888888888888888,
              "#fdca26"
             ],
             [
              1,
              "#f0f921"
             ]
            ],
            "type": "histogram2dcontour"
           }
          ],
          "mesh3d": [
           {
            "colorbar": {
             "outlinewidth": 0,
             "ticks": ""
            },
            "type": "mesh3d"
           }
          ],
          "parcoords": [
           {
            "line": {
             "colorbar": {
              "outlinewidth": 0,
              "ticks": ""
             }
            },
            "type": "parcoords"
           }
          ],
          "pie": [
           {
            "automargin": true,
            "type": "pie"
           }
          ],
          "scatter": [
           {
            "marker": {
             "colorbar": {
              "outlinewidth": 0,
              "ticks": ""
             }
            },
            "type": "scatter"
           }
          ],
          "scatter3d": [
           {
            "line": {
             "colorbar": {
              "outlinewidth": 0,
              "ticks": ""
             }
            },
            "marker": {
             "colorbar": {
              "outlinewidth": 0,
              "ticks": ""
             }
            },
            "type": "scatter3d"
           }
          ],
          "scattercarpet": [
           {
            "marker": {
             "colorbar": {
              "outlinewidth": 0,
              "ticks": ""
             }
            },
            "type": "scattercarpet"
           }
          ],
          "scattergeo": [
           {
            "marker": {
             "colorbar": {
              "outlinewidth": 0,
              "ticks": ""
             }
            },
            "type": "scattergeo"
           }
          ],
          "scattergl": [
           {
            "marker": {
             "colorbar": {
              "outlinewidth": 0,
              "ticks": ""
             }
            },
            "type": "scattergl"
           }
          ],
          "scattermapbox": [
           {
            "marker": {
             "colorbar": {
              "outlinewidth": 0,
              "ticks": ""
             }
            },
            "type": "scattermapbox"
           }
          ],
          "scatterpolar": [
           {
            "marker": {
             "colorbar": {
              "outlinewidth": 0,
              "ticks": ""
             }
            },
            "type": "scatterpolar"
           }
          ],
          "scatterpolargl": [
           {
            "marker": {
             "colorbar": {
              "outlinewidth": 0,
              "ticks": ""
             }
            },
            "type": "scatterpolargl"
           }
          ],
          "scatterternary": [
           {
            "marker": {
             "colorbar": {
              "outlinewidth": 0,
              "ticks": ""
             }
            },
            "type": "scatterternary"
           }
          ],
          "surface": [
           {
            "colorbar": {
             "outlinewidth": 0,
             "ticks": ""
            },
            "colorscale": [
             [
              0,
              "#0d0887"
             ],
             [
              0.1111111111111111,
              "#46039f"
             ],
             [
              0.2222222222222222,
              "#7201a8"
             ],
             [
              0.3333333333333333,
              "#9c179e"
             ],
             [
              0.4444444444444444,
              "#bd3786"
             ],
             [
              0.5555555555555556,
              "#d8576b"
             ],
             [
              0.6666666666666666,
              "#ed7953"
             ],
             [
              0.7777777777777778,
              "#fb9f3a"
             ],
             [
              0.8888888888888888,
              "#fdca26"
             ],
             [
              1,
              "#f0f921"
             ]
            ],
            "type": "surface"
           }
          ],
          "table": [
           {
            "cells": {
             "fill": {
              "color": "#EBF0F8"
             },
             "line": {
              "color": "white"
             }
            },
            "header": {
             "fill": {
              "color": "#C8D4E3"
             },
             "line": {
              "color": "white"
             }
            },
            "type": "table"
           }
          ]
         },
         "layout": {
          "annotationdefaults": {
           "arrowcolor": "#2a3f5f",
           "arrowhead": 0,
           "arrowwidth": 1
          },
          "autotypenumbers": "strict",
          "coloraxis": {
           "colorbar": {
            "outlinewidth": 0,
            "ticks": ""
           }
          },
          "colorscale": {
           "diverging": [
            [
             0,
             "#8e0152"
            ],
            [
             0.1,
             "#c51b7d"
            ],
            [
             0.2,
             "#de77ae"
            ],
            [
             0.3,
             "#f1b6da"
            ],
            [
             0.4,
             "#fde0ef"
            ],
            [
             0.5,
             "#f7f7f7"
            ],
            [
             0.6,
             "#e6f5d0"
            ],
            [
             0.7,
             "#b8e186"
            ],
            [
             0.8,
             "#7fbc41"
            ],
            [
             0.9,
             "#4d9221"
            ],
            [
             1,
             "#276419"
            ]
           ],
           "sequential": [
            [
             0,
             "#0d0887"
            ],
            [
             0.1111111111111111,
             "#46039f"
            ],
            [
             0.2222222222222222,
             "#7201a8"
            ],
            [
             0.3333333333333333,
             "#9c179e"
            ],
            [
             0.4444444444444444,
             "#bd3786"
            ],
            [
             0.5555555555555556,
             "#d8576b"
            ],
            [
             0.6666666666666666,
             "#ed7953"
            ],
            [
             0.7777777777777778,
             "#fb9f3a"
            ],
            [
             0.8888888888888888,
             "#fdca26"
            ],
            [
             1,
             "#f0f921"
            ]
           ],
           "sequentialminus": [
            [
             0,
             "#0d0887"
            ],
            [
             0.1111111111111111,
             "#46039f"
            ],
            [
             0.2222222222222222,
             "#7201a8"
            ],
            [
             0.3333333333333333,
             "#9c179e"
            ],
            [
             0.4444444444444444,
             "#bd3786"
            ],
            [
             0.5555555555555556,
             "#d8576b"
            ],
            [
             0.6666666666666666,
             "#ed7953"
            ],
            [
             0.7777777777777778,
             "#fb9f3a"
            ],
            [
             0.8888888888888888,
             "#fdca26"
            ],
            [
             1,
             "#f0f921"
            ]
           ]
          },
          "colorway": [
           "#636efa",
           "#EF553B",
           "#00cc96",
           "#ab63fa",
           "#FFA15A",
           "#19d3f3",
           "#FF6692",
           "#B6E880",
           "#FF97FF",
           "#FECB52"
          ],
          "font": {
           "color": "#2a3f5f"
          },
          "geo": {
           "bgcolor": "white",
           "lakecolor": "white",
           "landcolor": "#E5ECF6",
           "showlakes": true,
           "showland": true,
           "subunitcolor": "white"
          },
          "hoverlabel": {
           "align": "left"
          },
          "hovermode": "closest",
          "mapbox": {
           "style": "light"
          },
          "paper_bgcolor": "white",
          "plot_bgcolor": "#E5ECF6",
          "polar": {
           "angularaxis": {
            "gridcolor": "white",
            "linecolor": "white",
            "ticks": ""
           },
           "bgcolor": "#E5ECF6",
           "radialaxis": {
            "gridcolor": "white",
            "linecolor": "white",
            "ticks": ""
           }
          },
          "scene": {
           "xaxis": {
            "backgroundcolor": "#E5ECF6",
            "gridcolor": "white",
            "gridwidth": 2,
            "linecolor": "white",
            "showbackground": true,
            "ticks": "",
            "zerolinecolor": "white"
           },
           "yaxis": {
            "backgroundcolor": "#E5ECF6",
            "gridcolor": "white",
            "gridwidth": 2,
            "linecolor": "white",
            "showbackground": true,
            "ticks": "",
            "zerolinecolor": "white"
           },
           "zaxis": {
            "backgroundcolor": "#E5ECF6",
            "gridcolor": "white",
            "gridwidth": 2,
            "linecolor": "white",
            "showbackground": true,
            "ticks": "",
            "zerolinecolor": "white"
           }
          },
          "shapedefaults": {
           "line": {
            "color": "#2a3f5f"
           }
          },
          "ternary": {
           "aaxis": {
            "gridcolor": "white",
            "linecolor": "white",
            "ticks": ""
           },
           "baxis": {
            "gridcolor": "white",
            "linecolor": "white",
            "ticks": ""
           },
           "bgcolor": "#E5ECF6",
           "caxis": {
            "gridcolor": "white",
            "linecolor": "white",
            "ticks": ""
           }
          },
          "title": {
           "x": 0.05
          },
          "xaxis": {
           "automargin": true,
           "gridcolor": "white",
           "linecolor": "white",
           "ticks": "",
           "title": {
            "standoff": 15
           },
           "zerolinecolor": "white",
           "zerolinewidth": 2
          },
          "yaxis": {
           "automargin": true,
           "gridcolor": "white",
           "linecolor": "white",
           "ticks": "",
           "title": {
            "standoff": 15
           },
           "zerolinecolor": "white",
           "zerolinewidth": 2
          }
         }
        },
        "xaxis": {
         "anchor": "y",
         "domain": [
          0,
          1
         ],
         "title": {
          "text": "importance"
         }
        },
        "yaxis": {
         "anchor": "x",
         "domain": [
          0,
          1
         ],
         "title": {
          "text": "feat_name"
         }
        }
       }
      },
      "text/html": [
       "<div>                            <div id=\"a97bdb82-cae3-4cd2-a983-516f8084fd51\" class=\"plotly-graph-div\" style=\"height:525px; width:100%;\"></div>            <script type=\"text/javascript\">                require([\"plotly\"], function(Plotly) {                    window.PLOTLYENV=window.PLOTLYENV || {};                                    if (document.getElementById(\"a97bdb82-cae3-4cd2-a983-516f8084fd51\")) {                    Plotly.newPlot(                        \"a97bdb82-cae3-4cd2-a983-516f8084fd51\",                        [{\"alignmentgroup\":\"True\",\"hovertemplate\":\"importance=%{x}<br>feat_name=%{y}<extra></extra>\",\"legendgroup\":\"\",\"marker\":{\"color\":\"#636efa\",\"pattern\":{\"shape\":\"\"}},\"name\":\"\",\"offsetgroup\":\"\",\"orientation\":\"h\",\"showlegend\":false,\"textposition\":\"auto\",\"x\":[2674,2721,2750,2835,2840,3043,3056,3141,3154,3185,3260,3287,3399,3448,3548,3701,4491,5985,6326,6706],\"xaxis\":\"x\",\"y\":[\"xp_cls_pred\",\"n_cell\",\"xc_top_prob_9\",\"pcc_cls2_diff\",\"xp_top_prob_0\",\"xc_top_prob_5\",\"xpc_top_prob_0\",\"code_ratio\",\"pcc_reg_diff\",\"n_words\",\"xpc_var_prob\",\"xpc_pred\",\"xc_abs_cls2_reg_diff\",\"xc_top_prob_2\",\"xc_abs_cls_cls2_diff\",\"xc_cls2_reg_diff\",\"xc_cls_pred\",\"xpc_cls_pred\",\"xc_top_prob_1\",\"xc_reg_pred\"],\"yaxis\":\"y\",\"type\":\"bar\"}],                        {\"template\":{\"data\":{\"bar\":[{\"error_x\":{\"color\":\"#2a3f5f\"},\"error_y\":{\"color\":\"#2a3f5f\"},\"marker\":{\"line\":{\"color\":\"#E5ECF6\",\"width\":0.5},\"pattern\":{\"fillmode\":\"overlay\",\"size\":10,\"solidity\":0.2}},\"type\":\"bar\"}],\"barpolar\":[{\"marker\":{\"line\":{\"color\":\"#E5ECF6\",\"width\":0.5},\"pattern\":{\"fillmode\":\"overlay\",\"size\":10,\"solidity\":0.2}},\"type\":\"barpolar\"}],\"carpet\":[{\"aaxis\":{\"endlinecolor\":\"#2a3f5f\",\"gridcolor\":\"white\",\"linecolor\":\"white\",\"minorgridcolor\":\"white\",\"startlinecolor\":\"#2a3f5f\"},\"baxis\":{\"endlinecolor\":\"#2a3f5f\",\"gridcolor\":\"white\",\"linecolor\":\"white\",\"minorgridcolor\":\"white\",\"startlinecolor\":\"#2a3f5f\"},\"type\":\"carpet\"}],\"choropleth\":[{\"colorbar\":{\"outlinewidth\":0,\"ticks\":\"\"},\"type\":\"choropleth\"}],\"contour\":[{\"colorbar\":{\"outlinewidth\":0,\"ticks\":\"\"},\"colorscale\":[[0.0,\"#0d0887\"],[0.1111111111111111,\"#46039f\"],[0.2222222222222222,\"#7201a8\"],[0.3333333333333333,\"#9c179e\"],[0.4444444444444444,\"#bd3786\"],[0.5555555555555556,\"#d8576b\"],[0.6666666666666666,\"#ed7953\"],[0.7777777777777778,\"#fb9f3a\"],[0.8888888888888888,\"#fdca26\"],[1.0,\"#f0f921\"]],\"type\":\"contour\"}],\"contourcarpet\":[{\"colorbar\":{\"outlinewidth\":0,\"ticks\":\"\"},\"type\":\"contourcarpet\"}],\"heatmap\":[{\"colorbar\":{\"outlinewidth\":0,\"ticks\":\"\"},\"colorscale\":[[0.0,\"#0d0887\"],[0.1111111111111111,\"#46039f\"],[0.2222222222222222,\"#7201a8\"],[0.3333333333333333,\"#9c179e\"],[0.4444444444444444,\"#bd3786\"],[0.5555555555555556,\"#d8576b\"],[0.6666666666666666,\"#ed7953\"],[0.7777777777777778,\"#fb9f3a\"],[0.8888888888888888,\"#fdca26\"],[1.0,\"#f0f921\"]],\"type\":\"heatmap\"}],\"heatmapgl\":[{\"colorbar\":{\"outlinewidth\":0,\"ticks\":\"\"},\"colorscale\":[[0.0,\"#0d0887\"],[0.1111111111111111,\"#46039f\"],[0.2222222222222222,\"#7201a8\"],[0.3333333333333333,\"#9c179e\"],[0.4444444444444444,\"#bd3786\"],[0.5555555555555556,\"#d8576b\"],[0.6666666666666666,\"#ed7953\"],[0.7777777777777778,\"#fb9f3a\"],[0.8888888888888888,\"#fdca26\"],[1.0,\"#f0f921\"]],\"type\":\"heatmapgl\"}],\"histogram\":[{\"marker\":{\"pattern\":{\"fillmode\":\"overlay\",\"size\":10,\"solidity\":0.2}},\"type\":\"histogram\"}],\"histogram2d\":[{\"colorbar\":{\"outlinewidth\":0,\"ticks\":\"\"},\"colorscale\":[[0.0,\"#0d0887\"],[0.1111111111111111,\"#46039f\"],[0.2222222222222222,\"#7201a8\"],[0.3333333333333333,\"#9c179e\"],[0.4444444444444444,\"#bd3786\"],[0.5555555555555556,\"#d8576b\"],[0.6666666666666666,\"#ed7953\"],[0.7777777777777778,\"#fb9f3a\"],[0.8888888888888888,\"#fdca26\"],[1.0,\"#f0f921\"]],\"type\":\"histogram2d\"}],\"histogram2dcontour\":[{\"colorbar\":{\"outlinewidth\":0,\"ticks\":\"\"},\"colorscale\":[[0.0,\"#0d0887\"],[0.1111111111111111,\"#46039f\"],[0.2222222222222222,\"#7201a8\"],[0.3333333333333333,\"#9c179e\"],[0.4444444444444444,\"#bd3786\"],[0.5555555555555556,\"#d8576b\"],[0.6666666666666666,\"#ed7953\"],[0.7777777777777778,\"#fb9f3a\"],[0.8888888888888888,\"#fdca26\"],[1.0,\"#f0f921\"]],\"type\":\"histogram2dcontour\"}],\"mesh3d\":[{\"colorbar\":{\"outlinewidth\":0,\"ticks\":\"\"},\"type\":\"mesh3d\"}],\"parcoords\":[{\"line\":{\"colorbar\":{\"outlinewidth\":0,\"ticks\":\"\"}},\"type\":\"parcoords\"}],\"pie\":[{\"automargin\":true,\"type\":\"pie\"}],\"scatter\":[{\"marker\":{\"colorbar\":{\"outlinewidth\":0,\"ticks\":\"\"}},\"type\":\"scatter\"}],\"scatter3d\":[{\"line\":{\"colorbar\":{\"outlinewidth\":0,\"ticks\":\"\"}},\"marker\":{\"colorbar\":{\"outlinewidth\":0,\"ticks\":\"\"}},\"type\":\"scatter3d\"}],\"scattercarpet\":[{\"marker\":{\"colorbar\":{\"outlinewidth\":0,\"ticks\":\"\"}},\"type\":\"scattercarpet\"}],\"scattergeo\":[{\"marker\":{\"colorbar\":{\"outlinewidth\":0,\"ticks\":\"\"}},\"type\":\"scattergeo\"}],\"scattergl\":[{\"marker\":{\"colorbar\":{\"outlinewidth\":0,\"ticks\":\"\"}},\"type\":\"scattergl\"}],\"scattermapbox\":[{\"marker\":{\"colorbar\":{\"outlinewidth\":0,\"ticks\":\"\"}},\"type\":\"scattermapbox\"}],\"scatterpolar\":[{\"marker\":{\"colorbar\":{\"outlinewidth\":0,\"ticks\":\"\"}},\"type\":\"scatterpolar\"}],\"scatterpolargl\":[{\"marker\":{\"colorbar\":{\"outlinewidth\":0,\"ticks\":\"\"}},\"type\":\"scatterpolargl\"}],\"scatterternary\":[{\"marker\":{\"colorbar\":{\"outlinewidth\":0,\"ticks\":\"\"}},\"type\":\"scatterternary\"}],\"surface\":[{\"colorbar\":{\"outlinewidth\":0,\"ticks\":\"\"},\"colorscale\":[[0.0,\"#0d0887\"],[0.1111111111111111,\"#46039f\"],[0.2222222222222222,\"#7201a8\"],[0.3333333333333333,\"#9c179e\"],[0.4444444444444444,\"#bd3786\"],[0.5555555555555556,\"#d8576b\"],[0.6666666666666666,\"#ed7953\"],[0.7777777777777778,\"#fb9f3a\"],[0.8888888888888888,\"#fdca26\"],[1.0,\"#f0f921\"]],\"type\":\"surface\"}],\"table\":[{\"cells\":{\"fill\":{\"color\":\"#EBF0F8\"},\"line\":{\"color\":\"white\"}},\"header\":{\"fill\":{\"color\":\"#C8D4E3\"},\"line\":{\"color\":\"white\"}},\"type\":\"table\"}]},\"layout\":{\"annotationdefaults\":{\"arrowcolor\":\"#2a3f5f\",\"arrowhead\":0,\"arrowwidth\":1},\"autotypenumbers\":\"strict\",\"coloraxis\":{\"colorbar\":{\"outlinewidth\":0,\"ticks\":\"\"}},\"colorscale\":{\"diverging\":[[0,\"#8e0152\"],[0.1,\"#c51b7d\"],[0.2,\"#de77ae\"],[0.3,\"#f1b6da\"],[0.4,\"#fde0ef\"],[0.5,\"#f7f7f7\"],[0.6,\"#e6f5d0\"],[0.7,\"#b8e186\"],[0.8,\"#7fbc41\"],[0.9,\"#4d9221\"],[1,\"#276419\"]],\"sequential\":[[0.0,\"#0d0887\"],[0.1111111111111111,\"#46039f\"],[0.2222222222222222,\"#7201a8\"],[0.3333333333333333,\"#9c179e\"],[0.4444444444444444,\"#bd3786\"],[0.5555555555555556,\"#d8576b\"],[0.6666666666666666,\"#ed7953\"],[0.7777777777777778,\"#fb9f3a\"],[0.8888888888888888,\"#fdca26\"],[1.0,\"#f0f921\"]],\"sequentialminus\":[[0.0,\"#0d0887\"],[0.1111111111111111,\"#46039f\"],[0.2222222222222222,\"#7201a8\"],[0.3333333333333333,\"#9c179e\"],[0.4444444444444444,\"#bd3786\"],[0.5555555555555556,\"#d8576b\"],[0.6666666666666666,\"#ed7953\"],[0.7777777777777778,\"#fb9f3a\"],[0.8888888888888888,\"#fdca26\"],[1.0,\"#f0f921\"]]},\"colorway\":[\"#636efa\",\"#EF553B\",\"#00cc96\",\"#ab63fa\",\"#FFA15A\",\"#19d3f3\",\"#FF6692\",\"#B6E880\",\"#FF97FF\",\"#FECB52\"],\"font\":{\"color\":\"#2a3f5f\"},\"geo\":{\"bgcolor\":\"white\",\"lakecolor\":\"white\",\"landcolor\":\"#E5ECF6\",\"showlakes\":true,\"showland\":true,\"subunitcolor\":\"white\"},\"hoverlabel\":{\"align\":\"left\"},\"hovermode\":\"closest\",\"mapbox\":{\"style\":\"light\"},\"paper_bgcolor\":\"white\",\"plot_bgcolor\":\"#E5ECF6\",\"polar\":{\"angularaxis\":{\"gridcolor\":\"white\",\"linecolor\":\"white\",\"ticks\":\"\"},\"bgcolor\":\"#E5ECF6\",\"radialaxis\":{\"gridcolor\":\"white\",\"linecolor\":\"white\",\"ticks\":\"\"}},\"scene\":{\"xaxis\":{\"backgroundcolor\":\"#E5ECF6\",\"gridcolor\":\"white\",\"gridwidth\":2,\"linecolor\":\"white\",\"showbackground\":true,\"ticks\":\"\",\"zerolinecolor\":\"white\"},\"yaxis\":{\"backgroundcolor\":\"#E5ECF6\",\"gridcolor\":\"white\",\"gridwidth\":2,\"linecolor\":\"white\",\"showbackground\":true,\"ticks\":\"\",\"zerolinecolor\":\"white\"},\"zaxis\":{\"backgroundcolor\":\"#E5ECF6\",\"gridcolor\":\"white\",\"gridwidth\":2,\"linecolor\":\"white\",\"showbackground\":true,\"ticks\":\"\",\"zerolinecolor\":\"white\"}},\"shapedefaults\":{\"line\":{\"color\":\"#2a3f5f\"}},\"ternary\":{\"aaxis\":{\"gridcolor\":\"white\",\"linecolor\":\"white\",\"ticks\":\"\"},\"baxis\":{\"gridcolor\":\"white\",\"linecolor\":\"white\",\"ticks\":\"\"},\"bgcolor\":\"#E5ECF6\",\"caxis\":{\"gridcolor\":\"white\",\"linecolor\":\"white\",\"ticks\":\"\"}},\"title\":{\"x\":0.05},\"xaxis\":{\"automargin\":true,\"gridcolor\":\"white\",\"linecolor\":\"white\",\"ticks\":\"\",\"title\":{\"standoff\":15},\"zerolinecolor\":\"white\",\"zerolinewidth\":2},\"yaxis\":{\"automargin\":true,\"gridcolor\":\"white\",\"linecolor\":\"white\",\"ticks\":\"\",\"title\":{\"standoff\":15},\"zerolinecolor\":\"white\",\"zerolinewidth\":2}}},\"xaxis\":{\"anchor\":\"y\",\"domain\":[0.0,1.0],\"title\":{\"text\":\"importance\"}},\"yaxis\":{\"anchor\":\"x\",\"domain\":[0.0,1.0],\"title\":{\"text\":\"feat_name\"}},\"legend\":{\"tracegroupgap\":0},\"margin\":{\"t\":60},\"barmode\":\"relative\"},                        {\"responsive\": true}                    ).then(function(){\n",
       "                            \n",
       "var gd = document.getElementById('a97bdb82-cae3-4cd2-a983-516f8084fd51');\n",
       "var x = new MutationObserver(function (mutations, observer) {{\n",
       "        var display = window.getComputedStyle(gd).display;\n",
       "        if (!display || display === 'none') {{\n",
       "            console.log([gd, 'removed!']);\n",
       "            Plotly.purge(gd);\n",
       "            observer.disconnect();\n",
       "        }}\n",
       "}});\n",
       "\n",
       "// Listen for the removal of the full notebook cells\n",
       "var notebookContainer = gd.closest('#notebook-container');\n",
       "if (notebookContainer) {{\n",
       "    x.observe(notebookContainer, {childList: true});\n",
       "}}\n",
       "\n",
       "// Listen for the clearing of the current output cell\n",
       "var outputEl = gd.closest('.output');\n",
       "if (outputEl) {{\n",
       "    x.observe(outputEl, {childList: true});\n",
       "}}\n",
       "\n",
       "                        })                };                });            </script>        </div>"
      ]
     },
     "metadata": {},
     "output_type": "display_data"
    }
   ],
   "source": [
    "gezi.plot.feature_importance(lgb_model, topn=20)"
   ]
  },
  {
   "cell_type": "code",
   "execution_count": 45,
   "metadata": {},
   "outputs": [
    {
     "data": {
      "application/vnd.jupyter.widget-view+json": {
       "model_id": "5f6da98303314e46a543cb6ee9c8671f",
       "version_major": 2,
       "version_minor": 0
      },
      "text/plain": [
       "  0%|          | 0/5 [00:00<?, ?it/s]"
      ]
     },
     "metadata": {},
     "output_type": "display_data"
    },
    {
     "name": "stderr",
     "output_type": "stream",
     "text": [
      "[08/11/22 18:35:26] 1820686574.py:21 in <module>\n",
      "                    cbt_score: 0.9199312947996656\n",
      "[08/11/22 18:36:04] 1820686574.py:36 in <module>\n",
      "                    lgb_score: 0.920193588869891\n",
      "[08/11/22 18:36:06] 1820686574.py:38 in <module>\n",
      "                    score: 0.9203618490564346\n",
      "[08/11/22 18:36:06] 1820686574.py:43 in <module>\n",
      "                    fold: 0\n",
      "                    np.asarray(cbt_scores).mean(): 0.9199312947996656\n",
      "                    np.asarray(lgb_scores).mean(): 0.920193588869891\n",
      "                    np.asarray(scores).mean(): 0.9203618490564346\n"
     ]
    },
    {
     "name": "stdout",
     "output_type": "stream",
     "text": [
      "0:\tlearn: 0.2523574\ttest: 0.2523574\ttest1: 0.2522460\tbest: 0.2522460 (0)\ttotal: 46.1ms\tremaining: 7m 40s\n",
      "500:\tlearn: 0.0573135\ttest: 0.0573135\ttest1: 0.0565482\tbest: 0.0565482 (500)\ttotal: 17.6s\tremaining: 5m 33s\n",
      "1000:\tlearn: 0.0562366\ttest: 0.0562366\ttest1: 0.0556926\tbest: 0.0556926 (1000)\ttotal: 35.4s\tremaining: 5m 18s\n",
      "1500:\tlearn: 0.0557811\ttest: 0.0557811\ttest1: 0.0554061\tbest: 0.0554061 (1500)\ttotal: 53.2s\tremaining: 5m 1s\n",
      "2000:\tlearn: 0.0554059\ttest: 0.0554059\ttest1: 0.0552363\tbest: 0.0552363 (2000)\ttotal: 1m 10s\tremaining: 4m 43s\n",
      "2500:\tlearn: 0.0551061\ttest: 0.0551061\ttest1: 0.0551399\tbest: 0.0551387 (2485)\ttotal: 1m 28s\tremaining: 4m 24s\n",
      "3000:\tlearn: 0.0548090\ttest: 0.0548090\ttest1: 0.0550573\tbest: 0.0550573 (3000)\ttotal: 1m 45s\tremaining: 4m 6s\n",
      "3500:\tlearn: 0.0546033\ttest: 0.0546033\ttest1: 0.0550183\tbest: 0.0550180 (3497)\ttotal: 2m 3s\tremaining: 3m 49s\n",
      "4000:\tlearn: 0.0543972\ttest: 0.0543972\ttest1: 0.0549796\tbest: 0.0549796 (4000)\ttotal: 2m 23s\tremaining: 3m 35s\n",
      "4500:\tlearn: 0.0542042\ttest: 0.0542042\ttest1: 0.0549467\tbest: 0.0549467 (4500)\ttotal: 2m 46s\tremaining: 3m 22s\n",
      "5000:\tlearn: 0.0539895\ttest: 0.0539895\ttest1: 0.0549171\tbest: 0.0549163 (4995)\ttotal: 3m 8s\tremaining: 3m 8s\n",
      "5500:\tlearn: 0.0538216\ttest: 0.0538216\ttest1: 0.0548955\tbest: 0.0548949 (5488)\ttotal: 3m 30s\tremaining: 2m 51s\n",
      "6000:\tlearn: 0.0536259\ttest: 0.0536259\ttest1: 0.0548815\tbest: 0.0548803 (5958)\ttotal: 3m 53s\tremaining: 2m 35s\n",
      "6500:\tlearn: 0.0534611\ttest: 0.0534611\ttest1: 0.0548691\tbest: 0.0548680 (6426)\ttotal: 4m 15s\tremaining: 2m 17s\n",
      "7000:\tlearn: 0.0533077\ttest: 0.0533077\ttest1: 0.0548551\tbest: 0.0548551 (6996)\ttotal: 4m 37s\tremaining: 1m 58s\n",
      "7500:\tlearn: 0.0531478\ttest: 0.0531478\ttest1: 0.0548416\tbest: 0.0548414 (7495)\ttotal: 4m 59s\tremaining: 1m 39s\n",
      "8000:\tlearn: 0.0529941\ttest: 0.0529941\ttest1: 0.0548387\tbest: 0.0548380 (7974)\ttotal: 5m 23s\tremaining: 1m 20s\n",
      "8500:\tlearn: 0.0528347\ttest: 0.0528347\ttest1: 0.0548318\tbest: 0.0548317 (8486)\ttotal: 5m 43s\tremaining: 1m\n",
      "9000:\tlearn: 0.0526736\ttest: 0.0526736\ttest1: 0.0548236\tbest: 0.0548226 (8800)\ttotal: 6m 1s\tremaining: 40.2s\n",
      "9500:\tlearn: 0.0525308\ttest: 0.0525308\ttest1: 0.0548226\tbest: 0.0548200 (9376)\ttotal: 6m 20s\tremaining: 20s\n",
      "9999:\tlearn: 0.0523953\ttest: 0.0523953\ttest1: 0.0548160\tbest: 0.0548156 (9990)\ttotal: 6m 39s\tremaining: 0us\n",
      "\n",
      "bestTest = 0.05481563887\n",
      "bestIteration = 9990\n",
      "\n",
      "Shrink model to first 9991 iterations.\n"
     ]
    },
    {
     "name": "stderr",
     "output_type": "stream",
     "text": [
      "[08/11/22 18:42:54] 1820686574.py:21 in <module>\n",
      "                    cbt_score: 0.9227714390899486\n"
     ]
    },
    {
     "name": "stdout",
     "output_type": "stream",
     "text": [
      "[LightGBM] [Warning] Auto-choosing col-wise multi-threading, the overhead of testing was 0.060119 seconds.\n",
      "You can set `force_col_wise=true` to remove the overhead.\n",
      "[LightGBM] [Info] Total Bins 26660\n",
      "[LightGBM] [Info] Number of data points in the train set: 339696, number of used features: 114\n",
      "[LightGBM] [Info] Start training from score 0.455882\n",
      "Training until validation scores don't improve for 200 rounds\n",
      "[500]\ttraining's l1: 0.0575831\tvalid_1's l1: 0.0568251\n",
      "[1000]\ttraining's l1: 0.0563875\tvalid_1's l1: 0.0557621\n",
      "[1500]\ttraining's l1: 0.0560149\tvalid_1's l1: 0.0554966\n",
      "[2000]\ttraining's l1: 0.0558062\tvalid_1's l1: 0.055361\n",
      "[2500]\ttraining's l1: 0.0556531\tvalid_1's l1: 0.0552784\n",
      "[3000]\ttraining's l1: 0.055526\tvalid_1's l1: 0.0552102\n",
      "[3500]\ttraining's l1: 0.0554087\tvalid_1's l1: 0.0551624\n",
      "[4000]\ttraining's l1: 0.0553011\tvalid_1's l1: 0.0551155\n",
      "[4500]\ttraining's l1: 0.0552071\tvalid_1's l1: 0.0550709\n",
      "[5000]\ttraining's l1: 0.055136\tvalid_1's l1: 0.0550519\n",
      "[5500]\ttraining's l1: 0.0550383\tvalid_1's l1: 0.0550157\n",
      "[6000]\ttraining's l1: 0.0549819\tvalid_1's l1: 0.0550006\n",
      "[6500]\ttraining's l1: 0.0549234\tvalid_1's l1: 0.0549882\n",
      "[7000]\ttraining's l1: 0.0548465\tvalid_1's l1: 0.054966\n",
      "[7500]\ttraining's l1: 0.0547829\tvalid_1's l1: 0.0549513\n",
      "[8000]\ttraining's l1: 0.0547378\tvalid_1's l1: 0.0549373\n",
      "[8500]\ttraining's l1: 0.0546853\tvalid_1's l1: 0.0549206\n",
      "[9000]\ttraining's l1: 0.0546453\tvalid_1's l1: 0.0549068\n",
      "[9500]\ttraining's l1: 0.0545968\tvalid_1's l1: 0.0548945\n",
      "[10000]\ttraining's l1: 0.0545463\tvalid_1's l1: 0.0548868\n",
      "[10500]\ttraining's l1: 0.0544984\tvalid_1's l1: 0.0548773\n",
      "[11000]\ttraining's l1: 0.0544551\tvalid_1's l1: 0.0548693\n",
      "[11500]\ttraining's l1: 0.0544152\tvalid_1's l1: 0.054863\n",
      "[12000]\ttraining's l1: 0.0543723\tvalid_1's l1: 0.0548557\n",
      "[12500]\ttraining's l1: 0.0543148\tvalid_1's l1: 0.0548448\n",
      "[13000]\ttraining's l1: 0.0542812\tvalid_1's l1: 0.0548368\n",
      "[13500]\ttraining's l1: 0.054243\tvalid_1's l1: 0.0548289\n",
      "[14000]\ttraining's l1: 0.0542111\tvalid_1's l1: 0.0548248\n",
      "[14500]\ttraining's l1: 0.0541818\tvalid_1's l1: 0.0548216\n",
      "[15000]\ttraining's l1: 0.0541429\tvalid_1's l1: 0.0548154\n",
      "[15500]\ttraining's l1: 0.0540927\tvalid_1's l1: 0.0548018\n",
      "[16000]\ttraining's l1: 0.05406\tvalid_1's l1: 0.0547979\n",
      "[16500]\ttraining's l1: 0.0540313\tvalid_1's l1: 0.0547946\n",
      "[17000]\ttraining's l1: 0.0539851\tvalid_1's l1: 0.0547857\n",
      "Early stopping, best iteration is:\n",
      "[17016]\ttraining's l1: 0.0539837\tvalid_1's l1: 0.0547854\n"
     ]
    },
    {
     "name": "stderr",
     "output_type": "stream",
     "text": [
      "[08/11/22 18:46:33] 1820686574.py:36 in <module>\n",
      "                    lgb_score: 0.9227422997427397\n",
      "[08/11/22 18:46:35] 1820686574.py:38 in <module>\n",
      "                    score: 0.9230125777458371\n",
      "[08/11/22 18:46:35] 1820686574.py:43 in <module>\n",
      "                    fold: 1\n",
      "                    np.asarray(cbt_scores).mean(): 0.9213513669448071\n",
      "                    np.asarray(lgb_scores).mean(): 0.9214679443063154\n",
      "                    np.asarray(scores).mean(): 0.9216872134011358\n"
     ]
    },
    {
     "name": "stdout",
     "output_type": "stream",
     "text": [
      "0:\tlearn: 0.2521961\ttest: 0.2521961\ttest1: 0.2525660\tbest: 0.2525660 (0)\ttotal: 57.2ms\tremaining: 9m 31s\n",
      "500:\tlearn: 0.0570182\ttest: 0.0570182\ttest1: 0.0576605\tbest: 0.0576605 (500)\ttotal: 18.8s\tremaining: 5m 56s\n",
      "1000:\tlearn: 0.0559664\ttest: 0.0559664\ttest1: 0.0567847\tbest: 0.0567847 (1000)\ttotal: 38.1s\tremaining: 5m 42s\n",
      "1500:\tlearn: 0.0555194\ttest: 0.0555194\ttest1: 0.0564938\tbest: 0.0564938 (1500)\ttotal: 57.3s\tremaining: 5m 24s\n",
      "2000:\tlearn: 0.0551929\ttest: 0.0551929\ttest1: 0.0563469\tbest: 0.0563469 (2000)\ttotal: 1m 16s\tremaining: 5m 4s\n",
      "2500:\tlearn: 0.0548957\ttest: 0.0548957\ttest1: 0.0562430\tbest: 0.0562429 (2497)\ttotal: 1m 37s\tremaining: 4m 53s\n",
      "3000:\tlearn: 0.0546293\ttest: 0.0546293\ttest1: 0.0561658\tbest: 0.0561658 (3000)\ttotal: 1m 59s\tremaining: 4m 39s\n",
      "3500:\tlearn: 0.0544166\ttest: 0.0544166\ttest1: 0.0561264\tbest: 0.0561264 (3500)\ttotal: 2m 21s\tremaining: 4m 22s\n",
      "4000:\tlearn: 0.0542057\ttest: 0.0542057\ttest1: 0.0560900\tbest: 0.0560900 (4000)\ttotal: 2m 43s\tremaining: 4m 5s\n",
      "4500:\tlearn: 0.0540087\ttest: 0.0540087\ttest1: 0.0560575\tbest: 0.0560575 (4500)\ttotal: 3m 5s\tremaining: 3m 46s\n",
      "5000:\tlearn: 0.0538249\ttest: 0.0538249\ttest1: 0.0560362\tbest: 0.0560357 (4929)\ttotal: 3m 26s\tremaining: 3m 26s\n",
      "5500:\tlearn: 0.0536507\ttest: 0.0536507\ttest1: 0.0560143\tbest: 0.0560131 (5472)\ttotal: 3m 47s\tremaining: 3m 6s\n",
      "6000:\tlearn: 0.0534655\ttest: 0.0534655\ttest1: 0.0559822\tbest: 0.0559813 (5983)\ttotal: 4m 9s\tremaining: 2m 46s\n",
      "6500:\tlearn: 0.0533054\ttest: 0.0533054\ttest1: 0.0559712\tbest: 0.0559712 (6494)\ttotal: 4m 31s\tremaining: 2m 26s\n",
      "7000:\tlearn: 0.0531562\ttest: 0.0531562\ttest1: 0.0559537\tbest: 0.0559537 (7000)\ttotal: 4m 53s\tremaining: 2m 5s\n",
      "7500:\tlearn: 0.0530072\ttest: 0.0530072\ttest1: 0.0559451\tbest: 0.0559446 (7492)\ttotal: 5m 14s\tremaining: 1m 44s\n",
      "8000:\tlearn: 0.0528403\ttest: 0.0528403\ttest1: 0.0559473\tbest: 0.0559419 (7548)\ttotal: 5m 36s\tremaining: 1m 24s\n",
      "Stopped by overfitting detector  (500 iterations wait)\n",
      "\n",
      "bestTest = 0.05594186208\n",
      "bestIteration = 7548\n",
      "\n",
      "Shrink model to first 7549 iterations.\n"
     ]
    },
    {
     "name": "stderr",
     "output_type": "stream",
     "text": [
      "[08/11/22 18:52:22] 1820686574.py:21 in <module>\n",
      "                    cbt_score: 0.9219998115284402\n"
     ]
    },
    {
     "name": "stdout",
     "output_type": "stream",
     "text": [
      "[LightGBM] [Warning] Auto-choosing col-wise multi-threading, the overhead of testing was 0.067747 seconds.\n",
      "You can set `force_col_wise=true` to remove the overhead.\n",
      "[LightGBM] [Info] Total Bins 26654\n",
      "[LightGBM] [Info] Number of data points in the train set: 337766, number of used features: 114\n",
      "[LightGBM] [Info] Start training from score 0.456522\n",
      "Training until validation scores don't improve for 200 rounds\n",
      "[500]\ttraining's l1: 0.0571221\tvalid_1's l1: 0.0577337\n",
      "[1000]\ttraining's l1: 0.0561411\tvalid_1's l1: 0.0568646\n",
      "[1500]\ttraining's l1: 0.0557984\tvalid_1's l1: 0.0566044\n",
      "[2000]\ttraining's l1: 0.0555809\tvalid_1's l1: 0.0564631\n",
      "[2500]\ttraining's l1: 0.0554213\tvalid_1's l1: 0.0563624\n",
      "[3000]\ttraining's l1: 0.0553106\tvalid_1's l1: 0.0563004\n",
      "[3500]\ttraining's l1: 0.0552117\tvalid_1's l1: 0.0562487\n",
      "[4000]\ttraining's l1: 0.0551222\tvalid_1's l1: 0.0562107\n",
      "[4500]\ttraining's l1: 0.0550537\tvalid_1's l1: 0.0561801\n",
      "[5000]\ttraining's l1: 0.0549854\tvalid_1's l1: 0.0561498\n",
      "[5500]\ttraining's l1: 0.0549149\tvalid_1's l1: 0.0561214\n",
      "[6000]\ttraining's l1: 0.0548411\tvalid_1's l1: 0.056097\n",
      "[6500]\ttraining's l1: 0.0547722\tvalid_1's l1: 0.0560707\n",
      "[7000]\ttraining's l1: 0.0546988\tvalid_1's l1: 0.0560482\n",
      "[7500]\ttraining's l1: 0.0546208\tvalid_1's l1: 0.0560197\n",
      "[8000]\ttraining's l1: 0.0545609\tvalid_1's l1: 0.0560021\n",
      "[8500]\ttraining's l1: 0.0544913\tvalid_1's l1: 0.0559786\n",
      "[9000]\ttraining's l1: 0.0544441\tvalid_1's l1: 0.0559632\n",
      "[9500]\ttraining's l1: 0.0543991\tvalid_1's l1: 0.055951\n",
      "[10000]\ttraining's l1: 0.054357\tvalid_1's l1: 0.0559412\n",
      "[10500]\ttraining's l1: 0.054317\tvalid_1's l1: 0.0559298\n",
      "[11000]\ttraining's l1: 0.0542629\tvalid_1's l1: 0.0559129\n",
      "[11500]\ttraining's l1: 0.0542304\tvalid_1's l1: 0.0559072\n",
      "[12000]\ttraining's l1: 0.054193\tvalid_1's l1: 0.0558985\n",
      "[12500]\ttraining's l1: 0.0541588\tvalid_1's l1: 0.0558895\n",
      "Early stopping, best iteration is:\n",
      "[12692]\ttraining's l1: 0.0541406\tvalid_1's l1: 0.0558849\n"
     ]
    },
    {
     "name": "stderr",
     "output_type": "stream",
     "text": [
      "[08/11/22 18:55:12] 1820686574.py:36 in <module>\n",
      "                    lgb_score: 0.9219141605787557\n",
      "[08/11/22 18:55:14] 1820686574.py:38 in <module>\n",
      "                    score: 0.9221999268809289\n",
      "[08/11/22 18:55:14] 1820686574.py:43 in <module>\n",
      "                    fold: 2\n",
      "                    np.asarray(cbt_scores).mean(): 0.9215675151393515\n",
      "                    np.asarray(lgb_scores).mean(): 0.9216166830637955\n",
      "                    np.asarray(scores).mean(): 0.9218581178944002\n"
     ]
    },
    {
     "name": "stdout",
     "output_type": "stream",
     "text": [
      "0:\tlearn: 0.2523447\ttest: 0.2523447\ttest1: 0.2520935\tbest: 0.2520935 (0)\ttotal: 57.1ms\tremaining: 9m 31s\n",
      "500:\tlearn: 0.0572084\ttest: 0.0572084\ttest1: 0.0558542\tbest: 0.0558542 (500)\ttotal: 18.5s\tremaining: 5m 50s\n",
      "1000:\tlearn: 0.0561951\ttest: 0.0561951\ttest1: 0.0550729\tbest: 0.0550729 (1000)\ttotal: 37.4s\tremaining: 5m 36s\n",
      "1500:\tlearn: 0.0557569\ttest: 0.0557569\ttest1: 0.0548172\tbest: 0.0548172 (1500)\ttotal: 56.4s\tremaining: 5m 19s\n",
      "2000:\tlearn: 0.0554514\ttest: 0.0554514\ttest1: 0.0546834\tbest: 0.0546833 (1998)\ttotal: 1m 14s\tremaining: 4m 59s\n",
      "2500:\tlearn: 0.0551738\ttest: 0.0551738\ttest1: 0.0545979\tbest: 0.0545975 (2497)\ttotal: 1m 33s\tremaining: 4m 39s\n",
      "3000:\tlearn: 0.0549233\ttest: 0.0549233\ttest1: 0.0545447\tbest: 0.0545442 (2994)\ttotal: 1m 51s\tremaining: 4m 19s\n",
      "3500:\tlearn: 0.0546642\ttest: 0.0546642\ttest1: 0.0544997\tbest: 0.0544997 (3500)\ttotal: 2m 9s\tremaining: 4m\n",
      "4000:\tlearn: 0.0544348\ttest: 0.0544348\ttest1: 0.0544678\tbest: 0.0544678 (4000)\ttotal: 2m 28s\tremaining: 3m 42s\n",
      "4500:\tlearn: 0.0542591\ttest: 0.0542591\ttest1: 0.0544295\tbest: 0.0544295 (4500)\ttotal: 2m 46s\tremaining: 3m 23s\n",
      "5000:\tlearn: 0.0541013\ttest: 0.0541013\ttest1: 0.0544029\tbest: 0.0544029 (5000)\ttotal: 3m 5s\tremaining: 3m 5s\n",
      "5500:\tlearn: 0.0539690\ttest: 0.0539690\ttest1: 0.0543872\tbest: 0.0543872 (5500)\ttotal: 3m 25s\tremaining: 2m 48s\n",
      "6000:\tlearn: 0.0538047\ttest: 0.0538047\ttest1: 0.0543711\tbest: 0.0543710 (5997)\ttotal: 3m 47s\tremaining: 2m 31s\n",
      "6500:\tlearn: 0.0536379\ttest: 0.0536379\ttest1: 0.0543610\tbest: 0.0543609 (6496)\ttotal: 4m 9s\tremaining: 2m 14s\n",
      "7000:\tlearn: 0.0534702\ttest: 0.0534702\ttest1: 0.0543548\tbest: 0.0543544 (6969)\ttotal: 4m 30s\tremaining: 1m 55s\n",
      "7500:\tlearn: 0.0533308\ttest: 0.0533308\ttest1: 0.0543468\tbest: 0.0543468 (7500)\ttotal: 4m 51s\tremaining: 1m 37s\n",
      "8000:\tlearn: 0.0531842\ttest: 0.0531842\ttest1: 0.0543345\tbest: 0.0543341 (7990)\ttotal: 5m 13s\tremaining: 1m 18s\n",
      "8500:\tlearn: 0.0530475\ttest: 0.0530475\ttest1: 0.0543325\tbest: 0.0543306 (8400)\ttotal: 5m 35s\tremaining: 59.1s\n",
      "9000:\tlearn: 0.0529374\ttest: 0.0529374\ttest1: 0.0543247\tbest: 0.0543240 (8974)\ttotal: 5m 56s\tremaining: 39.6s\n",
      "9500:\tlearn: 0.0527960\ttest: 0.0527960\ttest1: 0.0543234\tbest: 0.0543214 (9074)\ttotal: 6m 18s\tremaining: 19.9s\n",
      "Stopped by overfitting detector  (500 iterations wait)\n",
      "\n",
      "bestTest = 0.05432139802\n",
      "bestIteration = 9074\n",
      "\n",
      "Shrink model to first 9075 iterations.\n"
     ]
    },
    {
     "name": "stderr",
     "output_type": "stream",
     "text": [
      "[08/11/22 19:01:44] 1820686574.py:21 in <module>\n",
      "                    cbt_score: 0.9249289319599024\n"
     ]
    },
    {
     "name": "stdout",
     "output_type": "stream",
     "text": [
      "[LightGBM] [Warning] Auto-choosing col-wise multi-threading, the overhead of testing was 0.093666 seconds.\n",
      "You can set `force_col_wise=true` to remove the overhead.\n",
      "[LightGBM] [Info] Total Bins 26658\n",
      "[LightGBM] [Info] Number of data points in the train set: 337964, number of used features: 114\n",
      "[LightGBM] [Info] Start training from score 0.455939\n",
      "Training until validation scores don't improve for 200 rounds\n",
      "[500]\ttraining's l1: 0.057584\tvalid_1's l1: 0.0561816\n",
      "[1000]\ttraining's l1: 0.0565512\tvalid_1's l1: 0.0552767\n",
      "[1500]\ttraining's l1: 0.0561557\tvalid_1's l1: 0.0549779\n",
      "[2000]\ttraining's l1: 0.0559118\tvalid_1's l1: 0.0548316\n",
      "[2500]\ttraining's l1: 0.0557605\tvalid_1's l1: 0.0547523\n",
      "[3000]\ttraining's l1: 0.0556175\tvalid_1's l1: 0.0546819\n",
      "[3500]\ttraining's l1: 0.0555323\tvalid_1's l1: 0.0546479\n",
      "[4000]\ttraining's l1: 0.0554511\tvalid_1's l1: 0.0546159\n",
      "[4500]\ttraining's l1: 0.0553849\tvalid_1's l1: 0.0545894\n",
      "[5000]\ttraining's l1: 0.0553157\tvalid_1's l1: 0.054556\n",
      "[5500]\ttraining's l1: 0.0552603\tvalid_1's l1: 0.0545323\n",
      "[6000]\ttraining's l1: 0.055182\tvalid_1's l1: 0.0545123\n",
      "[6500]\ttraining's l1: 0.0551159\tvalid_1's l1: 0.0544947\n",
      "[7000]\ttraining's l1: 0.0550706\tvalid_1's l1: 0.0544823\n",
      "[7500]\ttraining's l1: 0.0550245\tvalid_1's l1: 0.054468\n",
      "[8000]\ttraining's l1: 0.0549726\tvalid_1's l1: 0.0544516\n",
      "[8500]\ttraining's l1: 0.0549167\tvalid_1's l1: 0.0544387\n",
      "[9000]\ttraining's l1: 0.0548529\tvalid_1's l1: 0.0544201\n",
      "[9500]\ttraining's l1: 0.0548041\tvalid_1's l1: 0.0544051\n",
      "[10000]\ttraining's l1: 0.0547495\tvalid_1's l1: 0.0543927\n",
      "[10500]\ttraining's l1: 0.0547025\tvalid_1's l1: 0.0543763\n",
      "[11000]\ttraining's l1: 0.0546662\tvalid_1's l1: 0.0543694\n",
      "[11500]\ttraining's l1: 0.0546349\tvalid_1's l1: 0.0543629\n",
      "[12000]\ttraining's l1: 0.0546046\tvalid_1's l1: 0.0543551\n",
      "[12500]\ttraining's l1: 0.0545581\tvalid_1's l1: 0.0543452\n",
      "[13000]\ttraining's l1: 0.0545183\tvalid_1's l1: 0.0543351\n",
      "[13500]\ttraining's l1: 0.0544498\tvalid_1's l1: 0.0543239\n",
      "[14000]\ttraining's l1: 0.0544085\tvalid_1's l1: 0.0543168\n",
      "[14500]\ttraining's l1: 0.0543706\tvalid_1's l1: 0.0543076\n",
      "[15000]\ttraining's l1: 0.0543449\tvalid_1's l1: 0.0543033\n",
      "[15500]\ttraining's l1: 0.0543065\tvalid_1's l1: 0.0542958\n",
      "[16000]\ttraining's l1: 0.0542715\tvalid_1's l1: 0.0542876\n",
      "[16500]\ttraining's l1: 0.0542358\tvalid_1's l1: 0.0542824\n",
      "[17000]\ttraining's l1: 0.0541856\tvalid_1's l1: 0.0542756\n",
      "Early stopping, best iteration is:\n",
      "[16848]\ttraining's l1: 0.0541966\tvalid_1's l1: 0.0542739\n"
     ]
    },
    {
     "name": "stderr",
     "output_type": "stream",
     "text": [
      "[08/11/22 19:05:27] 1820686574.py:36 in <module>\n",
      "                    lgb_score: 0.9249279677698254\n",
      "[08/11/22 19:05:29] 1820686574.py:38 in <module>\n",
      "                    score: 0.9251668940708964\n",
      "[08/11/22 19:05:29] 1820686574.py:43 in <module>\n",
      "                    fold: 3\n",
      "                    np.asarray(cbt_scores).mean(): 0.9224078693444893\n",
      "                    np.asarray(lgb_scores).mean(): 0.922444504240303\n",
      "                    np.asarray(scores).mean(): 0.9226853119385242\n"
     ]
    },
    {
     "name": "stdout",
     "output_type": "stream",
     "text": [
      "0:\tlearn: 0.2523023\ttest: 0.2523023\ttest1: 0.2523830\tbest: 0.2523830 (0)\ttotal: 52.1ms\tremaining: 8m 40s\n",
      "500:\tlearn: 0.0567981\ttest: 0.0567981\ttest1: 0.0583059\tbest: 0.0583059 (500)\ttotal: 19.5s\tremaining: 6m 8s\n",
      "1000:\tlearn: 0.0557991\ttest: 0.0557991\ttest1: 0.0574280\tbest: 0.0574280 (1000)\ttotal: 39.5s\tremaining: 5m 54s\n",
      "1500:\tlearn: 0.0553406\ttest: 0.0553406\ttest1: 0.0571038\tbest: 0.0571038 (1500)\ttotal: 59.2s\tremaining: 5m 35s\n",
      "2000:\tlearn: 0.0550149\ttest: 0.0550149\ttest1: 0.0569304\tbest: 0.0569304 (2000)\ttotal: 1m 19s\tremaining: 5m 16s\n",
      "2500:\tlearn: 0.0547313\ttest: 0.0547313\ttest1: 0.0568262\tbest: 0.0568262 (2500)\ttotal: 1m 38s\tremaining: 4m 55s\n",
      "3000:\tlearn: 0.0544678\ttest: 0.0544678\ttest1: 0.0567633\tbest: 0.0567633 (3000)\ttotal: 1m 57s\tremaining: 4m 34s\n",
      "3500:\tlearn: 0.0542125\ttest: 0.0542125\ttest1: 0.0566971\tbest: 0.0566956 (3484)\ttotal: 2m 17s\tremaining: 4m 14s\n",
      "4000:\tlearn: 0.0539989\ttest: 0.0539989\ttest1: 0.0566564\tbest: 0.0566563 (3989)\ttotal: 2m 36s\tremaining: 3m 55s\n",
      "4500:\tlearn: 0.0537841\ttest: 0.0537841\ttest1: 0.0566213\tbest: 0.0566213 (4500)\ttotal: 2m 56s\tremaining: 3m 35s\n",
      "5000:\tlearn: 0.0535615\ttest: 0.0535615\ttest1: 0.0566159\tbest: 0.0566155 (4987)\ttotal: 3m 16s\tremaining: 3m 16s\n",
      "5500:\tlearn: 0.0533708\ttest: 0.0533708\ttest1: 0.0565986\tbest: 0.0565986 (5492)\ttotal: 3m 35s\tremaining: 2m 56s\n",
      "6000:\tlearn: 0.0531825\ttest: 0.0531825\ttest1: 0.0565821\tbest: 0.0565798 (5856)\ttotal: 3m 55s\tremaining: 2m 36s\n",
      "6500:\tlearn: 0.0530185\ttest: 0.0530185\ttest1: 0.0565715\tbest: 0.0565698 (6466)\ttotal: 4m 15s\tremaining: 2m 17s\n",
      "7000:\tlearn: 0.0528695\ttest: 0.0528695\ttest1: 0.0565694\tbest: 0.0565676 (6833)\ttotal: 4m 37s\tremaining: 1m 58s\n",
      "7500:\tlearn: 0.0527189\ttest: 0.0527189\ttest1: 0.0565648\tbest: 0.0565613 (7221)\ttotal: 4m 59s\tremaining: 1m 39s\n",
      "8000:\tlearn: 0.0525663\ttest: 0.0525663\ttest1: 0.0565590\tbest: 0.0565516 (7830)\ttotal: 5m 21s\tremaining: 1m 20s\n",
      "Stopped by overfitting detector  (500 iterations wait)\n",
      "\n",
      "bestTest = 0.05655164834\n",
      "bestIteration = 7830\n",
      "\n",
      "Shrink model to first 7831 iterations.\n"
     ]
    },
    {
     "name": "stderr",
     "output_type": "stream",
     "text": [
      "[08/11/22 19:11:13] 1820686574.py:21 in <module>\n",
      "                    cbt_score: 0.9155848372221671\n"
     ]
    },
    {
     "name": "stdout",
     "output_type": "stream",
     "text": [
      "[LightGBM] [Warning] Auto-choosing col-wise multi-threading, the overhead of testing was 0.063981 seconds.\n",
      "You can set `force_col_wise=true` to remove the overhead.\n",
      "[LightGBM] [Info] Total Bins 26658\n",
      "[LightGBM] [Info] Number of data points in the train set: 341935, number of used features: 114\n",
      "[LightGBM] [Info] Start training from score 0.456522\n",
      "Training until validation scores don't improve for 200 rounds\n",
      "[500]\ttraining's l1: 0.0571567\tvalid_1's l1: 0.0585787\n",
      "[1000]\ttraining's l1: 0.0560298\tvalid_1's l1: 0.0575959\n",
      "[1500]\ttraining's l1: 0.0556775\tvalid_1's l1: 0.057308\n",
      "[2000]\ttraining's l1: 0.0554924\tvalid_1's l1: 0.0571727\n",
      "[2500]\ttraining's l1: 0.0553603\tvalid_1's l1: 0.0570757\n",
      "[3000]\ttraining's l1: 0.0552347\tvalid_1's l1: 0.0569955\n",
      "[3500]\ttraining's l1: 0.0551339\tvalid_1's l1: 0.0569398\n",
      "[4000]\ttraining's l1: 0.0550228\tvalid_1's l1: 0.0568938\n",
      "[4500]\ttraining's l1: 0.0549438\tvalid_1's l1: 0.0568548\n",
      "[5000]\ttraining's l1: 0.0548434\tvalid_1's l1: 0.0568053\n",
      "[5500]\ttraining's l1: 0.0547686\tvalid_1's l1: 0.0567744\n",
      "[6000]\ttraining's l1: 0.0547041\tvalid_1's l1: 0.0567512\n",
      "[6500]\ttraining's l1: 0.0546488\tvalid_1's l1: 0.0567291\n",
      "[7000]\ttraining's l1: 0.0545964\tvalid_1's l1: 0.0567119\n",
      "[7500]\ttraining's l1: 0.0545516\tvalid_1's l1: 0.0566954\n",
      "[8000]\ttraining's l1: 0.0544871\tvalid_1's l1: 0.0566703\n",
      "[8500]\ttraining's l1: 0.0544424\tvalid_1's l1: 0.0566569\n",
      "[9000]\ttraining's l1: 0.0544065\tvalid_1's l1: 0.056646\n",
      "[9500]\ttraining's l1: 0.054364\tvalid_1's l1: 0.0566351\n",
      "[10000]\ttraining's l1: 0.0543293\tvalid_1's l1: 0.0566209\n",
      "[10500]\ttraining's l1: 0.05429\tvalid_1's l1: 0.0566055\n",
      "[11000]\ttraining's l1: 0.05425\tvalid_1's l1: 0.0565927\n",
      "[11500]\ttraining's l1: 0.0542021\tvalid_1's l1: 0.0565813\n",
      "[12000]\ttraining's l1: 0.0541674\tvalid_1's l1: 0.0565708\n",
      "[12500]\ttraining's l1: 0.0541407\tvalid_1's l1: 0.0565626\n",
      "[13000]\ttraining's l1: 0.0541021\tvalid_1's l1: 0.0565515\n",
      "[13500]\ttraining's l1: 0.054079\tvalid_1's l1: 0.0565485\n",
      "[14000]\ttraining's l1: 0.0540447\tvalid_1's l1: 0.0565401\n",
      "[14500]\ttraining's l1: 0.0540137\tvalid_1's l1: 0.0565302\n",
      "[15000]\ttraining's l1: 0.0539826\tvalid_1's l1: 0.0565218\n",
      "[15500]\ttraining's l1: 0.0539597\tvalid_1's l1: 0.0565147\n",
      "[16000]\ttraining's l1: 0.0539216\tvalid_1's l1: 0.0565099\n",
      "[16500]\ttraining's l1: 0.0538982\tvalid_1's l1: 0.0565033\n",
      "Early stopping, best iteration is:\n",
      "[16708]\ttraining's l1: 0.0538864\tvalid_1's l1: 0.0565009\n"
     ]
    },
    {
     "name": "stderr",
     "output_type": "stream",
     "text": [
      "[08/11/22 19:15:05] 1820686574.py:36 in <module>\n",
      "                    lgb_score: 0.9154757773825879\n",
      "[08/11/22 19:15:07] 1820686574.py:38 in <module>\n",
      "                    score: 0.9157116357103524\n",
      "[08/11/22 19:15:07] 1820686574.py:43 in <module>\n",
      "                    fold: 4\n",
      "                    np.asarray(cbt_scores).mean(): 0.9210432629200248\n",
      "                    np.asarray(lgb_scores).mean(): 0.92105075886876\n",
      "                    np.asarray(scores).mean(): 0.9212905766928898\n"
     ]
    }
   ],
   "source": [
    "FOLDS = 5\n",
    "cbt_scores, lgb_scores = [], []\n",
    "scores = []\n",
    "gezi.try_mkdir(f'../working/trees{v}')\n",
    "for fold in tqdm(range(FOLDS)):\n",
    "  dvalid = df[df.fold==fold]\n",
    "  dtrain = df[df.fold!=fold]\n",
    "  X_train = dtrain[cols]\n",
    "  y_train = dtrain[LABEL_COL]\n",
    "  X_valid = dvalid[cols]\n",
    "  y_valid = dvalid[LABEL_COL]\n",
    "  if fold > 0:\n",
    "    cbt_model = CatBoostRegressor(**cbt_params)\n",
    "    cbt_model.fit(X_train, y_train,\n",
    "          eval_set=[(X_train, y_train), (X_valid, y_valid)],\n",
    "                  verbose=500,\n",
    "                  )  \n",
    "  cbt_model.save_model(f'../working/trees{v}/{fold}.cbt')\n",
    "  dvalid['cbt_pred'] = cbt_model.predict(dvalid[cols])\n",
    "  cbt_score = calc_metric({'id': dvalid.id.values, 'cell_id': dvalid.cell_id.values, 'pred': dvalid.cbt_pred.values})\n",
    "  ic(cbt_score)\n",
    "  \n",
    "  d_train = lgb.Dataset(X_train, y_train)\n",
    "  d_valid = lgb.Dataset(X_valid, y_valid, reference=d_train)\n",
    "  if fold > 0:\n",
    "    lgb_model = lgb.train(params,\n",
    "                    d_train,\n",
    "                    20000,\n",
    "                    valid_sets=[d_train, d_valid],\n",
    "                    verbose_eval=500,\n",
    "                    early_stopping_rounds=200)\n",
    "  lgb_model.save_model(f'../working/trees{v}/{fold}.lgb')\n",
    "  dvalid['lgb_pred'] = lgb_model.predict(dvalid[cols])\n",
    "  \n",
    "  lgb_score = calc_metric({'id': dvalid.id.values, 'cell_id': dvalid.cell_id.values, 'pred': dvalid.lgb_pred.values})\n",
    "  ic(lgb_score)\n",
    "  score = calc_metric({'id': dvalid.id.values, 'cell_id': dvalid.cell_id.values, 'pred': (dvalid.cbt_pred.values * 0.3 + dvalid.lgb_pred.values * 0.7)})\n",
    "  ic(score)\n",
    "  \n",
    "  cbt_scores.append(cbt_score)\n",
    "  lgb_scores.append(lgb_score)\n",
    "  scores.append(score)\n",
    "  ic(fold, \n",
    "     np.asarray(cbt_scores).mean(), \n",
    "     np.asarray(lgb_scores).mean(),\n",
    "     np.asarray(scores).mean(),\n",
    "     )"
   ]
  },
  {
   "cell_type": "code",
   "execution_count": 46,
   "metadata": {},
   "outputs": [],
   "source": [
    "# fold: 0\n",
    "#                     np.asarray(cbt_scores).mean(): 0.9181025338378637\n",
    "#                     np.asarray(lgb_scores).mean(): 0.9193848140698876\n",
    "#                     np.asarray(scores).mean(): 0.9195238841373282\n",
    "\n",
    "#  fold: 4\n",
    "#                     np.asarray(cbt_scores).mean(): 0.9189608630607822\n",
    "#                     np.asarray(lgb_scores).mean(): 0.9196959050732708\n",
    "#                     np.asarray(scores).mean(): 0.9199400102856614"
   ]
  },
  {
   "cell_type": "code",
   "execution_count": null,
   "metadata": {},
   "outputs": [],
   "source": []
  }
 ],
 "metadata": {
  "kernelspec": {
   "display_name": "Python 3.7.9",
   "language": "python",
   "name": "python3"
  },
  "language_info": {
   "codemirror_mode": {
    "name": "ipython",
    "version": 3
   },
   "file_extension": ".py",
   "mimetype": "text/x-python",
   "name": "python",
   "nbconvert_exporter": "python",
   "pygments_lexer": "ipython3",
   "version": "3.7.9"
  },
  "orig_nbformat": 4,
  "vscode": {
   "interpreter": {
    "hash": "828c32aa8796f4caf0c9fde9f523bba8dbc7385abbb3ec2757d19a79cb47766b"
   }
  }
 },
 "nbformat": 4,
 "nbformat_minor": 2
}
