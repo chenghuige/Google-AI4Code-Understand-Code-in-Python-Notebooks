{
 "cells": [
  {
   "cell_type": "code",
   "execution_count": 1,
   "metadata": {},
   "outputs": [],
   "source": [
    "import sys\n",
    "sys.path.append('..')\n",
    "sys.path.append('../../../../utils')\n",
    "sys.path.append('../../../../third')\n",
    "from gezi.common import *\n",
    "from src.config import *\n",
    "from src.preprocess import *\n",
    "from src.eval import *\n",
    "gezi.init_flags()\n",
    "gezi.set_pandas()"
   ]
  },
  {
   "cell_type": "code",
   "execution_count": 2,
   "metadata": {},
   "outputs": [],
   "source": [
    "v = 6"
   ]
  },
  {
   "cell_type": "code",
   "execution_count": 3,
   "metadata": {},
   "outputs": [],
   "source": [
    "V = 7\n",
    "root = f'../working/offline/{V}/0'\n",
    "# pairwise two tower, recall model\n",
    "# pt_model = 'all-mpnet-base-v2.flag-pairwise14-2-pre_ext_emlm_mlm.ep1'\n",
    "# p2t_model = 'all-mpnet-base-v2.flag-pairwise14-2'\n",
    "pt_model = 'all-mpnet-base-v2.flag-pairwise14-2-pre_mlm3'\n",
    "# pt_model = 'all-mpnet-base-v2.flag-pairwise14-2'\n",
    "# pt_model2 = 'pmminilm.flag-pairwise14-2-pre_emlm_mlm-mmnilm'\n",
    "# pt_model2 = 'pmminilm.flag-pairwise14-2-pre_mlm3-pmminilm'\n",
    "# pt_model2 = 'pmminilm.flag-pairwise14-2'\n",
    "# pairwise concat, rank model\n",
    "# pc_model = 'deberta-v3-small.flag-pairwise14-4-cat-insert-extpred-ft.neg_rand_prob-0.neg_strategy-rand-sample'\n",
    "pc_model = 'deberta-v3-small.flag-pairwise14-4-cat-insert-oof-ft'\n",
    "\n",
    "# context model\n",
    "# c_model = 'deberta-v3-small.flag-context4-2-d'\n",
    "# c_model2 = 'lsg-mminilm.flag-context4-3-d-s-mminilm'\n",
    "# c_model = 'deberta-v3-small.flag-context4-2-d'\n",
    "# c_model = 'deberta-v3-small.flag-context4-2-d-oof-ft'\n",
    "# c_model = 'deberta-v3-small.flag-context4-2-d-oof-ft.list_train_ordered'\n",
    "c_model = 'deberta-v3-small.flag-context4-2-d-oof-ft.add_probs'\n",
    "c_model = 'deberta-v3-small.flag-context4-2-d-oof.add_probs'\n",
    "# c_model = 'deberta-v3-small.flag-context4-2-d-extpred-ft.0804'\n",
    "# c_model = 'deberta-v3-small.flag-context4-2-d-oof-ft.list_train_ordered'\n",
    "# c_model2 = 'lsg-mminilm.flag-context4-3-d-s-oof-ft-mminilm'"
   ]
  },
  {
   "cell_type": "code",
   "execution_count": 4,
   "metadata": {},
   "outputs": [],
   "source": [
    "df_train = pd.read_feather('../working/train.fea')\n",
    "df_train = df_train[df_train.fold==0]"
   ]
  },
  {
   "cell_type": "code",
   "execution_count": 6,
   "metadata": {},
   "outputs": [],
   "source": [
    "xp = gezi.load(f'{root}/{pt_model}.eval/valid.pkl')\n",
    "xc = gezi.load(f'{root}/{c_model}.eval.160_30/valid.pkl')\n",
    "xpc = gezi.load(f'{root}/{pc_model}.eval/valid.pkl')\n",
    "gezi.sort_dict_byid_(xp, 'cid')\n",
    "gezi.sort_dict_byid_(xc, 'cid')\n",
    "gezi.sort_dict_byid_(xpc, 'cid')"
   ]
  },
  {
   "cell_type": "code",
   "execution_count": null,
   "metadata": {},
   "outputs": [],
   "source": [
    "# d = pd.DataFrame(gezi.batch2list(xc))\n",
    "# dg = d.groupby('pred_id')\n",
    "# max_preds = dg['pred'].max()\n",
    "# min_preds = dg['pred'].min()\n",
    "# max_cls_preds = dg['cls_pred'].max()\n",
    "# min_cls_preds = dg['cls_pred'].min()"
   ]
  },
  {
   "cell_type": "code",
   "execution_count": 7,
   "metadata": {},
   "outputs": [
    {
     "name": "stderr",
     "output_type": "stream",
     "text": [
      "[08/09/22 23:32:26] 73525872.py:9 in <module>\n",
      "                    calc_metric(xp, 'cls_pred'): 0.8940359352768894\n",
      "[08/09/22 23:32:33] 73525872.py:10 in <module>\n",
      "                    calc_metric(xc, 'reg_pred'): 0.9120765273482367\n",
      "[08/09/22 23:32:40] 73525872.py:11 in <module>\n",
      "                    calc_metric(xc, 'cls_pred'): 0.9132059636520105\n",
      "[08/09/22 23:32:48] 73525872.py:12 in <module>\n",
      "                    calc_metric(xpc, 'cls_pred'): 0.901170689084887\n"
     ]
    },
    {
     "data": {
      "text/plain": [
       "0.901170689084887"
      ]
     },
     "execution_count": 7,
     "metadata": {},
     "output_type": "execute_result"
    }
   ],
   "source": [
    "xp = gezi.load(f'{root}/{pt_model}.eval/valid.pkl')\n",
    "# xc = gezi.load(f'{root}/{c_model}.eval/valid.pkl')\n",
    "xc = gezi.load(f'{root}/{c_model}.eval.160_30/valid.pkl')\n",
    "xpc = gezi.load(f'{root}/{pc_model}.eval/valid.pkl')\n",
    "gezi.sort_dict_byid_(xp, 'cid')\n",
    "gezi.sort_dict_byid_(xc, 'cid')\n",
    "gezi.sort_dict_byid_(xpc, 'cid')\n",
    "\n",
    "ic(calc_metric(xp, 'cls_pred'))\n",
    "ic(calc_metric(xc, 'reg_pred'))\n",
    "ic(calc_metric(xc, 'cls_pred'))\n",
    "ic(calc_metric(xpc, 'cls_pred'))"
   ]
  },
  {
   "cell_type": "code",
   "execution_count": 8,
   "metadata": {},
   "outputs": [
    {
     "name": "stderr",
     "output_type": "stream",
     "text": [
      "[08/09/22 23:32:51] 2337548337.py:27 in <module>\n",
      "                    xpc['mark'].mean(): 0.5019096678848692\n",
      "[08/09/22 23:32:59] 2337548337.py:28 in <module>\n",
      "                    calc_metric(xpc, 'cls_pred'): 0.9020695401853852\n"
     ]
    },
    {
     "data": {
      "text/plain": [
       "0.9020695401853852"
      ]
     },
     "execution_count": 8,
     "metadata": {},
     "output_type": "execute_result"
    }
   ],
   "source": [
    "pc_preds = dict(zip(xpc['cid'], xpc['pred']))\n",
    "pc_cls_preds = dict(zip(xpc['cid'], xpc['cls_pred']))\n",
    "pc_probs = dict(zip(xpc['cid'], xpc['probs']))\n",
    "\n",
    "preds = []\n",
    "cls_preds = []\n",
    "probs = []\n",
    "marks = []\n",
    "for cid, pred, cls_pred, prob in zip(xp['cid'], xp['pred'], xp['cls_pred'], xp['probs']):\n",
    "  # if prob.max() < 10:\n",
    "  if prob.max() < 0.8:\n",
    "    marks.append(1)\n",
    "    preds.append(pc_preds.get(cid, pred))\n",
    "    probs.append(pc_probs.get(cid, prob))\n",
    "    cls_preds.append(pc_cls_preds.get(cid, cls_pred))\n",
    "  else:\n",
    "    marks.append(0)\n",
    "    preds.append(pred)\n",
    "    probs.append(prob)\n",
    "    cls_preds.append(cls_pred)\n",
    "    \n",
    "xpc = xp.copy()\n",
    "xpc['pred'] = np.asarray(preds)\n",
    "xpc['cls_pred'] = np.asarray(cls_preds)\n",
    "xpc['probs'] = np.asarray(probs)\n",
    "xpc['mark'] = np.asarray(marks)\n",
    "ic(xpc['mark'].mean())\n",
    "ic(calc_metric(xpc, 'cls_pred'))"
   ]
  },
  {
   "cell_type": "code",
   "execution_count": 9,
   "metadata": {},
   "outputs": [],
   "source": [
    "LABEL_COL = 'rel_rank'\n",
    "def diff_feats(x, l,r, name):\n",
    "  if isinstance(l, str):\n",
    "    x[f'{name}_diff'] = x[l] - x[r]\n",
    "  else:\n",
    "    x[f'{name}_diff'] = l - r\n",
    "  x[f'abs_{name}_diff'] = abs(x[f'{name}_diff'])\n",
    "\n",
    "def gen_pfeat(x_, topn=None):\n",
    "  x = {}\n",
    "  keys = ['pred', 'cls_pred']\n",
    "  x = {k: x_[k] for k in keys}\n",
    "  # x['rank_pred'] = x['pred'] * (1 + x_['n_code_cell']) - 0.5\n",
    "  # x['cls_rank_pred'] = x['cls_pred'] * (1 + x_['n_code_cell']) - 0.5\n",
    "  x['min_prob'] = x_['probs'].min()\n",
    "  x['var_prob'] = np.var(x_['probs'])\n",
    "  if 'sims' in x_:\n",
    "    x['min_sim'] = x_['sims'].min()\n",
    "    x['var_sim'] = np.var(x_['sims'])\n",
    "  \n",
    "  idxes = (-x_['probs']).argsort()\n",
    "  # topn = topn or len(idxes)\n",
    "  topn = topn or 10\n",
    "  for i in range(topn):\n",
    "    if i < len(idxes):\n",
    "      if i > 0:\n",
    "        x[f'top_pred_{i}'] = (idxes[i] + 0.5) / (x_['n_code_cell'] + 1)\n",
    "        # x[f'top_rank_{i}'] = idxes[i]\n",
    "      x[f'top_prob_{i}'] = x_['probs'][idxes[i]]\n",
    "      if 'sims' in x_:\n",
    "        x[f'top_sim_{i}'] = x_['sims'][idxes[i]]\n",
    "    else:\n",
    "      x[f'top_pred_{i}'] = -1\n",
    "      # x[f'top_rank_{i}'] = -1\n",
    "      x[f'top_prob_{i}'] = -1\n",
    "      if 'sims' in x_:\n",
    "        x[f'top_sim_{i}'] = -1\n",
    "  \n",
    "  diff_feats(x, 'cls_pred', 'pred', 'cls')\n",
    "  # diff_feats(x, 'cls_rank_pred', 'rank_pred', 'cls_rank')\n",
    "  return x\n",
    "\n",
    "def gen_cfeat(x_):\n",
    "  topn = min(10, len(x_['cls_pred_ori']))\n",
    "  x = {}\n",
    "  keys = [\n",
    "    # 'pred', \n",
    "    'cls_pred', \n",
    "    'reg_pred', \n",
    "    'cls2_pred', \n",
    "    'group_pos',\n",
    "    'group_rank',\n",
    "    ]\n",
    "  x = {k: x_[k] for k in keys}\n",
    "  # x['cls_rank_pred'] = x['cls_pred'] * FLAGS.num_classes - 0.5\n",
    "  # x['cls2_rank_pred'] = x['cls2_pred'] * FLAGS.num_classes - 0.5\n",
    "  # x['reg_rank_pred'] = x['reg_pred'] * FLAGS.num_classes - 0.5\n",
    "  preds = x_['cls_pred_ori']\n",
    "  probs = gezi.softmax(preds)\n",
    "  x['min_prob'] = probs.min()\n",
    "  x['var_prob'] = np.var(probs)\n",
    "  idxes = (-probs).argsort()\n",
    "\n",
    "  for i in range(topn):\n",
    "    if i < len(idxes):\n",
    "      if i > 0:\n",
    "        x[f'top_pred_{i}'] = (idxes[i] + 0.5) / FLAGS.num_classes\n",
    "        # x[f'tpop_rank_{i}']  = idxes[i] \n",
    "      x[f'top_prob_{i}'] = probs[idxes[i]]\n",
    "    else:\n",
    "      x[f'top_pred_{i}'] = -1\n",
    "      # x[f'top_rank_{i}'] = -1\n",
    "      x[f'top_prob_{i}'] = -1\n",
    "  diff_feats(x, 'cls_pred', 'reg_pred', 'cls_reg')\n",
    "  diff_feats(x, 'cls_pred', 'cls2_pred', 'cls_cls2')\n",
    "  diff_feats(x, 'cls2_pred', 'reg_pred', 'cls2_reg')\n",
    "  # diff_feats(x, 'cls_rank_pred', 'reg_rank_pred', 'cls_reg_rank')\n",
    "  # diff_feats(x, 'cls_rank_pred', 'cls2_rank_pred', 'cls_cls2_rank')\n",
    "  # diff_feats(x, 'cls2_rank_pred', 'reg_rank_pred', 'cls2_reg_rank')\n",
    "  # group_id = x_['pred_id']\n",
    "  # x['max_pred'] = max_preds[group_id]\n",
    "  # x['min_pred'] = min_preds[group_id]\n",
    "  # x['pred_ratio'] = (x['pred'] - x['min_pred']) / (x['max_pred'] - x['min_pred']) if (x['max_pred'] - x['min_pred']) else 1\n",
    "  # x['max_cls_pred'] = max_cls_preds[group_id]\n",
    "  # x['min_cls_pred'] = min_cls_preds[group_id]\n",
    "  # x['cls_pred_ratio'] = (x['cls_pred'] - x['min_cls_pred']) / (x['max_cls_pred'] - x['min_cls_pred']) if (x['max_cls_pred'] - x['min_cls_pred']) else 1\n",
    "  \n",
    "  return x\n",
    "\n",
    "def gen_feats():\n",
    "  xs = gezi.batch2list(xp)\n",
    "  p_feats = [gen_pfeat(x) for x in tqdm(xs, desc=f'gen_pfeats:xp')]\n",
    "  xs = gezi.batch2list(xc)\n",
    "  c_feats = [gen_cfeat(x) for x in tqdm(xs, desc=f'gen_cfeats:xc')]\n",
    "  xs = gezi.batch2list(xpc)\n",
    "  pc_feats = [gen_pfeat(x, topn=3) for x in tqdm(xs, desc=f'gen_pfeats:xpc')]\n",
    "\n",
    "  feats = []\n",
    "  for i in tqdm(range(len(p_feats)), desc='merge_feats'):\n",
    "    fe1 = p_feats[i]\n",
    "    fec = c_feats[i]\n",
    "    fepc = pc_feats[i]\n",
    "    fepc['mark'] = xpc['mark'][i]\n",
    "    \n",
    "    fe = {}\n",
    "    fe['code_ratio'] = xp['n_code_cell'][i] / xp['n_cell'][i]\n",
    "    diff_feats(fe, fe1['pred'], fec['reg_pred'], 'pc_reg')\n",
    "    diff_feats(fe, fe1['pred'], fec['cls_pred'], 'pc_cls')\n",
    "    diff_feats(fe, fe1['pred'], fec['cls2_pred'], 'pc_cls2')\n",
    "    diff_feats(fe, fe1['cls_pred'], fec['reg_pred'], 'pc_cls_reg')\n",
    "    diff_feats(fe, fe1['cls_pred'], fec['cls_pred'], 'pc_cls_cls')\n",
    "    diff_feats(fe, fe1['cls_pred'], fec['cls2_pred'], 'pc_cls_cls2')\n",
    "    \n",
    "    diff_feats(fe, fepc['pred'], fec['reg_pred'], 'pcc_reg')\n",
    "    diff_feats(fe, fepc['pred'], fec['cls_pred'], 'pcc_cls')\n",
    "    diff_feats(fe, fepc['pred'], fec['cls2_pred'], 'pcc_cls2')\n",
    "    diff_feats(fe, fepc['cls_pred'], fec['reg_pred'], 'pcc_cls_reg')\n",
    "    diff_feats(fe, fepc['cls_pred'], fec['cls_pred'], 'pcc_cls_cls')\n",
    "    diff_feats(fe, fepc['cls_pred'], fec['cls2_pred'], 'pcc_cls_cls2')\n",
    "    \n",
    "    # diff_feats(fe, fe1['rank_pred'], fec['reg_rank_pred'], 'pc_cls_rank')\n",
    "    # diff_feats(fe, fe1['cls_rank_pred'], fec['reg_rank_pred'], 'pc_cls_reg_rank')\n",
    "    # diff_feats(fe, fepc['rank_pred'], fec['reg_rank_pred'], 'pcc_cls_rank')\n",
    "    # diff_feats(fe, fepc['cls_rank_pred'], fec['reg_rank_pred'], 'pcc_cls_reg_rank')\n",
    "\n",
    "    fe1 = gezi.dict_prefix(fe1, 'xp_')\n",
    "    fe.update(fe1)\n",
    "    fec = gezi.dict_prefix(fec, 'xc_')\n",
    "    fe.update(fec)\n",
    "    fepc = gezi.dict_prefix(fepc, 'xpc_')\n",
    "    fe.update(fepc)\n",
    "\n",
    "    keys = [\n",
    "     'id', 'cell_id', 'cid',\n",
    "     'n_words', 'n_code_cell', 'n_cell'\n",
    "    ]\n",
    "    for key in keys:\n",
    "      fe[key] = xp[key][i]\n",
    "      \n",
    "    #  ic(feat)\n",
    "    feats.append(fe)\n",
    "  #  break\n",
    "  dfeats = pd.DataFrame(feats)\n",
    "  return dfeats"
   ]
  },
  {
   "cell_type": "code",
   "execution_count": 10,
   "metadata": {},
   "outputs": [
    {
     "data": {
      "application/vnd.jupyter.widget-view+json": {
       "model_id": "589b3419238843ea974e220348d87577",
       "version_major": 2,
       "version_minor": 0
      },
      "text/plain": [
       "gen_pfeats:xp:   0%|          | 0/424943 [00:00<?, ?it/s]"
      ]
     },
     "metadata": {},
     "output_type": "display_data"
    },
    {
     "data": {
      "application/vnd.jupyter.widget-view+json": {
       "model_id": "67109f564b3a476eb2b6c9317becc832",
       "version_major": 2,
       "version_minor": 0
      },
      "text/plain": [
       "gen_cfeats:xc:   0%|          | 0/424943 [00:00<?, ?it/s]"
      ]
     },
     "metadata": {},
     "output_type": "display_data"
    },
    {
     "data": {
      "application/vnd.jupyter.widget-view+json": {
       "model_id": "b04adb8d48e2443eb9387b95eeeeb507",
       "version_major": 2,
       "version_minor": 0
      },
      "text/plain": [
       "gen_pfeats:xpc:   0%|          | 0/424943 [00:00<?, ?it/s]"
      ]
     },
     "metadata": {},
     "output_type": "display_data"
    },
    {
     "data": {
      "application/vnd.jupyter.widget-view+json": {
       "model_id": "a4296eb8eff04a2d9bb708afb0ac0c46",
       "version_major": 2,
       "version_minor": 0
      },
      "text/plain": [
       "merge_feats:   0%|          | 0/424943 [00:00<?, ?it/s]"
      ]
     },
     "metadata": {},
     "output_type": "display_data"
    }
   ],
   "source": [
    "dfeats = gen_feats()"
   ]
  },
  {
   "cell_type": "code",
   "execution_count": 11,
   "metadata": {},
   "outputs": [],
   "source": [
    "df = dfeats.merge(df_train[['cid', 'ancestor_id', LABEL_COL]], on='cid')"
   ]
  },
  {
   "cell_type": "code",
   "execution_count": 12,
   "metadata": {},
   "outputs": [],
   "source": [
    "gezi.set_fold(df, 5, 'ancestor_id')"
   ]
  },
  {
   "cell_type": "code",
   "execution_count": 13,
   "metadata": {},
   "outputs": [
    {
     "data": {
      "text/plain": [
       "114"
      ]
     },
     "execution_count": 13,
     "metadata": {},
     "output_type": "execute_result"
    }
   ],
   "source": [
    "reg_cols = [x for x in dfeats.columns if x not in ['id', 'cell_id', 'cid', LABEL_COL]]\n",
    "cat_cols = []\n",
    "cols = reg_cols + cat_cols\n",
    "len(cols)"
   ]
  },
  {
   "cell_type": "code",
   "execution_count": 14,
   "metadata": {},
   "outputs": [],
   "source": [
    "df['cls_label'] = df.rel_rank.apply(lambda x: int(x * 100))\n",
    "LABEL_COL = 'cls_label'"
   ]
  },
  {
   "cell_type": "code",
   "execution_count": 15,
   "metadata": {},
   "outputs": [
    {
     "data": {
      "text/plain": [
       "99"
      ]
     },
     "execution_count": 15,
     "metadata": {},
     "output_type": "execute_result"
    }
   ],
   "source": [
    "df.cls_label.max()"
   ]
  },
  {
   "cell_type": "code",
   "execution_count": 16,
   "metadata": {},
   "outputs": [],
   "source": [
    "fold = 0\n",
    "dvalid = df[df.fold==fold]\n",
    "dtrain = df[df.fold!=fold]"
   ]
  },
  {
   "cell_type": "code",
   "execution_count": 17,
   "metadata": {},
   "outputs": [],
   "source": [
    "X_train = dtrain[cols]\n",
    "y_train = dtrain[LABEL_COL]\n",
    "X_valid = dvalid[cols]\n",
    "y_valid = dvalid[LABEL_COL]"
   ]
  },
  {
   "cell_type": "code",
   "execution_count": 18,
   "metadata": {},
   "outputs": [],
   "source": [
    "from catboost import CatBoostRegressor, CatBoostRanker, CatBoostClassifier\n",
    "cbt_params = {\n",
    "              # 'bootstrap_type': 'Poisson',\n",
    "              # 'learning_rate': 0.02,\n",
    "              'learning_rate': 0.03,\n",
    "              # 'reg_lambda': 7.960622217848342e-07, \n",
    "              'l2_leaf_reg': 3,\n",
    "              'subsample': 0.7422597612762745,\n",
    "              # 'bagging_temperature': 0.2,\n",
    "              # 'max_depth': 10, \n",
    "              # 'max_depth': 8,\n",
    "              'max_depth': 6,\n",
    "              # 'max_depth': 5,\n",
    "              'early_stopping_rounds': 500,\n",
    "              'n_estimators': 10000,\n",
    "              'cat_features': [],\n",
    "              'loss_function': 'MAE',\n",
    "              'min_child_samples': 100,\n",
    "              # 'task_type': 'GPU',\n",
    "              # 'devices': '0',\n",
    "              }"
   ]
  },
  {
   "cell_type": "code",
   "execution_count": 19,
   "metadata": {},
   "outputs": [],
   "source": [
    "# cbt_model = CatBoostRegressor(**cbt_params)\n",
    "# cbt_model.fit(X_train, y_train,\n",
    "#       eval_set=[(X_train, y_train), (X_valid, y_valid)],\n",
    "#               verbose=100,\n",
    "#               )  \n",
    "# dvalid['cbt_pred'] = cbt_model.predict(dvalid[cols])\n",
    "# cbt_score = calc_metric({'id': dvalid.id.values, 'cell_id': dvalid.cell_id.values, 'pred': dvalid.cbt_pred.values})\n",
    "# ic(cbt_score)"
   ]
  },
  {
   "cell_type": "code",
   "execution_count": 42,
   "metadata": {},
   "outputs": [],
   "source": [
    "from catboost import CatBoostRegressor, CatBoostRanker, CatBoostClassifier\n",
    "cbt_params = {\n",
    "              # 'bootstrap_type': 'Poisson',\n",
    "              # 'learning_rate': 0.02,\n",
    "              'learning_rate': 0.03,\n",
    "              # 'reg_lambda': 7.960622217848342e-07, \n",
    "              'l2_leaf_reg': 3,\n",
    "              # 'subsample': 0.7422597612762745,\n",
    "              # 'bagging_temperature': 0.2,\n",
    "              # 'max_depth': 10, \n",
    "              # 'max_depth': 8,\n",
    "              'max_depth': 6,\n",
    "              # 'max_depth': 5,\n",
    "              'early_stopping_rounds': 500,\n",
    "              'n_estimators': 10000,\n",
    "              'cat_features': [],\n",
    "              'loss_function': 'MultiClass',\n",
    "              'classes_count': 100,\n",
    "              'min_child_samples': 100,\n",
    "              'task_type': 'GPU',\n",
    "              'devices': '0-3',\n",
    "              }"
   ]
  },
  {
   "cell_type": "code",
   "execution_count": 43,
   "metadata": {},
   "outputs": [
    {
     "name": "stdout",
     "output_type": "stream",
     "text": [
      "0:\tlearn: 4.4651953\ttest: 4.4661404\tbest: 4.4661404 (0)\ttotal: 83.6ms\tremaining: 13m 56s\n",
      "100:\tlearn: 2.7652613\ttest: 2.7907422\tbest: 2.7907422 (100)\ttotal: 7.37s\tremaining: 12m 2s\n",
      "200:\tlearn: 2.4239538\ttest: 2.4564752\tbest: 2.4564752 (200)\ttotal: 14.4s\tremaining: 11m 40s\n",
      "300:\tlearn: 2.2601683\ttest: 2.2987595\tbest: 2.2987595 (300)\ttotal: 21.2s\tremaining: 11m 23s\n",
      "400:\tlearn: 2.1569317\ttest: 2.2019113\tbest: 2.2019113 (400)\ttotal: 28.3s\tremaining: 11m 16s\n",
      "500:\tlearn: 2.0864977\ttest: 2.1364971\tbest: 2.1364971 (500)\ttotal: 35s\tremaining: 11m 3s\n",
      "600:\tlearn: 2.0319714\ttest: 2.0871976\tbest: 2.0871976 (600)\ttotal: 42s\tremaining: 10m 56s\n",
      "700:\tlearn: 1.9875909\ttest: 2.0486277\tbest: 2.0486277 (700)\ttotal: 48.9s\tremaining: 10m 49s\n",
      "800:\tlearn: 1.9513448\ttest: 2.0181767\tbest: 2.0181767 (800)\ttotal: 56.1s\tremaining: 10m 44s\n",
      "900:\tlearn: 1.9192146\ttest: 1.9935180\tbest: 1.9935180 (900)\ttotal: 1m 3s\tremaining: 10m 43s\n",
      "1000:\tlearn: 1.8906168\ttest: 1.9726551\tbest: 1.9726551 (1000)\ttotal: 1m 11s\tremaining: 10m 43s\n",
      "1100:\tlearn: 1.8653924\ttest: 1.9556257\tbest: 1.9556257 (1100)\ttotal: 1m 19s\tremaining: 10m 40s\n",
      "1200:\tlearn: 1.8413509\ttest: 1.9416649\tbest: 1.9416649 (1200)\ttotal: 1m 27s\tremaining: 10m 40s\n",
      "1300:\tlearn: 1.8189146\ttest: 1.9288725\tbest: 1.9288725 (1300)\ttotal: 1m 35s\tremaining: 10m 39s\n",
      "1400:\tlearn: 1.8007970\ttest: 1.9207737\tbest: 1.9207737 (1400)\ttotal: 1m 44s\tremaining: 10m 39s\n",
      "1500:\tlearn: 1.7816082\ttest: 1.9125517\tbest: 1.9125517 (1500)\ttotal: 1m 52s\tremaining: 10m 37s\n",
      "1600:\tlearn: 1.7638412\ttest: 1.9046485\tbest: 1.9046485 (1600)\ttotal: 2m 1s\tremaining: 10m 35s\n",
      "1700:\tlearn: 1.7470558\ttest: 1.8984207\tbest: 1.8984207 (1700)\ttotal: 2m 9s\tremaining: 10m 33s\n",
      "1800:\tlearn: 1.7302169\ttest: 1.8928607\tbest: 1.8928607 (1800)\ttotal: 2m 18s\tremaining: 10m 30s\n",
      "1900:\tlearn: 1.7139012\ttest: 1.8872636\tbest: 1.8872636 (1900)\ttotal: 2m 27s\tremaining: 10m 27s\n",
      "2000:\tlearn: 1.6988754\ttest: 1.8831758\tbest: 1.8831758 (2000)\ttotal: 2m 35s\tremaining: 10m 22s\n",
      "2100:\tlearn: 1.6842658\ttest: 1.8791804\tbest: 1.8791804 (2100)\ttotal: 2m 44s\tremaining: 10m 18s\n",
      "2200:\tlearn: 1.6702608\ttest: 1.8748258\tbest: 1.8748258 (2200)\ttotal: 2m 52s\tremaining: 10m 12s\n",
      "2300:\tlearn: 1.6561453\ttest: 1.8714533\tbest: 1.8714533 (2300)\ttotal: 3m 1s\tremaining: 10m 8s\n",
      "2400:\tlearn: 1.6419033\ttest: 1.8671546\tbest: 1.8671546 (2400)\ttotal: 3m 10s\tremaining: 10m 2s\n",
      "2500:\tlearn: 1.6281537\ttest: 1.8640474\tbest: 1.8640474 (2500)\ttotal: 3m 19s\tremaining: 9m 57s\n",
      "2600:\tlearn: 1.6148864\ttest: 1.8611681\tbest: 1.8611681 (2600)\ttotal: 3m 28s\tremaining: 9m 52s\n",
      "2700:\tlearn: 1.6021846\ttest: 1.8588063\tbest: 1.8588063 (2700)\ttotal: 3m 36s\tremaining: 9m 46s\n",
      "2800:\tlearn: 1.5894732\ttest: 1.8565488\tbest: 1.8565488 (2800)\ttotal: 3m 45s\tremaining: 9m 40s\n",
      "2900:\tlearn: 1.5764534\ttest: 1.8542728\tbest: 1.8542722 (2897)\ttotal: 3m 54s\tremaining: 9m 34s\n",
      "3000:\tlearn: 1.5643070\ttest: 1.8521127\tbest: 1.8521127 (3000)\ttotal: 4m 3s\tremaining: 9m 28s\n",
      "3100:\tlearn: 1.5524653\ttest: 1.8505731\tbest: 1.8505731 (3100)\ttotal: 4m 12s\tremaining: 9m 22s\n",
      "3200:\tlearn: 1.5408697\ttest: 1.8491278\tbest: 1.8491242 (3199)\ttotal: 4m 21s\tremaining: 9m 15s\n",
      "3300:\tlearn: 1.5288965\ttest: 1.8474435\tbest: 1.8474240 (3299)\ttotal: 4m 30s\tremaining: 9m 8s\n",
      "3400:\tlearn: 1.5175149\ttest: 1.8459304\tbest: 1.8459204 (3394)\ttotal: 4m 39s\tremaining: 9m 2s\n",
      "3500:\tlearn: 1.5059690\ttest: 1.8444859\tbest: 1.8444567 (3493)\ttotal: 4m 48s\tremaining: 8m 55s\n",
      "3600:\tlearn: 1.4947399\ttest: 1.8433371\tbest: 1.8433284 (3599)\ttotal: 4m 57s\tremaining: 8m 48s\n",
      "3700:\tlearn: 1.4840367\ttest: 1.8421800\tbest: 1.8421669 (3699)\ttotal: 5m 6s\tremaining: 8m 41s\n",
      "3800:\tlearn: 1.4733120\ttest: 1.8410772\tbest: 1.8410772 (3800)\ttotal: 5m 15s\tremaining: 8m 34s\n",
      "3900:\tlearn: 1.4627753\ttest: 1.8403513\tbest: 1.8403316 (3893)\ttotal: 5m 24s\tremaining: 8m 26s\n",
      "4000:\tlearn: 1.4514061\ttest: 1.8386012\tbest: 1.8385876 (3999)\ttotal: 5m 33s\tremaining: 8m 19s\n",
      "4100:\tlearn: 1.4408340\ttest: 1.8376325\tbest: 1.8376325 (4100)\ttotal: 5m 42s\tremaining: 8m 12s\n",
      "4200:\tlearn: 1.4302633\ttest: 1.8365829\tbest: 1.8365729 (4197)\ttotal: 5m 50s\tremaining: 8m 4s\n",
      "4300:\tlearn: 1.4197096\ttest: 1.8360110\tbest: 1.8359947 (4295)\ttotal: 6m\tremaining: 7m 57s\n",
      "4400:\tlearn: 1.4095040\ttest: 1.8350322\tbest: 1.8350322 (4400)\ttotal: 6m 9s\tremaining: 7m 49s\n",
      "4500:\tlearn: 1.3994123\ttest: 1.8340490\tbest: 1.8340087 (4491)\ttotal: 6m 17s\tremaining: 7m 41s\n",
      "4600:\tlearn: 1.3892901\ttest: 1.8330053\tbest: 1.8330008 (4598)\ttotal: 6m 26s\tremaining: 7m 34s\n",
      "4700:\tlearn: 1.3789639\ttest: 1.8322730\tbest: 1.8322730 (4700)\ttotal: 6m 35s\tremaining: 7m 26s\n",
      "4800:\tlearn: 1.3685533\ttest: 1.8314820\tbest: 1.8314692 (4798)\ttotal: 6m 44s\tremaining: 7m 18s\n",
      "4900:\tlearn: 1.3585703\ttest: 1.8307524\tbest: 1.8307176 (4896)\ttotal: 6m 53s\tremaining: 7m 10s\n",
      "5000:\tlearn: 1.3489739\ttest: 1.8301208\tbest: 1.8301208 (5000)\ttotal: 7m 2s\tremaining: 7m 2s\n",
      "5100:\tlearn: 1.3393296\ttest: 1.8293539\tbest: 1.8293539 (5100)\ttotal: 7m 11s\tremaining: 6m 54s\n",
      "5200:\tlearn: 1.3295563\ttest: 1.8286184\tbest: 1.8286184 (5200)\ttotal: 7m 20s\tremaining: 6m 46s\n",
      "5300:\tlearn: 1.3199718\ttest: 1.8281273\tbest: 1.8281189 (5299)\ttotal: 7m 29s\tremaining: 6m 38s\n",
      "5400:\tlearn: 1.3108561\ttest: 1.8277403\tbest: 1.8277325 (5398)\ttotal: 7m 38s\tremaining: 6m 30s\n",
      "5500:\tlearn: 1.3016973\ttest: 1.8271909\tbest: 1.8271704 (5484)\ttotal: 7m 47s\tremaining: 6m 22s\n",
      "5600:\tlearn: 1.2922960\ttest: 1.8267876\tbest: 1.8267748 (5599)\ttotal: 7m 56s\tremaining: 6m 14s\n",
      "5700:\tlearn: 1.2829598\ttest: 1.8266536\tbest: 1.8265800 (5674)\ttotal: 8m 5s\tremaining: 6m 6s\n",
      "5800:\tlearn: 1.2745299\ttest: 1.8263798\tbest: 1.8263656 (5798)\ttotal: 8m 14s\tremaining: 5m 57s\n",
      "5900:\tlearn: 1.2657089\ttest: 1.8258887\tbest: 1.8258861 (5899)\ttotal: 8m 23s\tremaining: 5m 49s\n",
      "6000:\tlearn: 1.2569848\ttest: 1.8256813\tbest: 1.8256756 (5996)\ttotal: 8m 32s\tremaining: 5m 41s\n",
      "6100:\tlearn: 1.2481392\ttest: 1.8251040\tbest: 1.8250690 (6092)\ttotal: 8m 41s\tremaining: 5m 33s\n",
      "6200:\tlearn: 1.2395134\ttest: 1.8246226\tbest: 1.8246148 (6198)\ttotal: 8m 50s\tremaining: 5m 24s\n",
      "6300:\tlearn: 1.2307448\ttest: 1.8244832\tbest: 1.8244427 (6267)\ttotal: 8m 59s\tremaining: 5m 16s\n",
      "6400:\tlearn: 1.2224408\ttest: 1.8239865\tbest: 1.8239865 (6400)\ttotal: 9m 8s\tremaining: 5m 8s\n",
      "6500:\tlearn: 1.2137710\ttest: 1.8235783\tbest: 1.8235495 (6471)\ttotal: 9m 17s\tremaining: 4m 59s\n",
      "6600:\tlearn: 1.2051780\ttest: 1.8234446\tbest: 1.8233890 (6571)\ttotal: 9m 26s\tremaining: 4m 51s\n",
      "6700:\tlearn: 1.1967814\ttest: 1.8233390\tbest: 1.8232409 (6653)\ttotal: 9m 35s\tremaining: 4m 43s\n",
      "6800:\tlearn: 1.1880930\ttest: 1.8226676\tbest: 1.8226652 (6799)\ttotal: 9m 44s\tremaining: 4m 34s\n",
      "6900:\tlearn: 1.1795609\ttest: 1.8222470\tbest: 1.8222470 (6900)\ttotal: 9m 53s\tremaining: 4m 26s\n",
      "7000:\tlearn: 1.1709906\ttest: 1.8220372\tbest: 1.8220245 (6992)\ttotal: 10m 2s\tremaining: 4m 18s\n",
      "7100:\tlearn: 1.1624848\ttest: 1.8219140\tbest: 1.8218734 (7092)\ttotal: 10m 11s\tremaining: 4m 9s\n",
      "7200:\tlearn: 1.1540604\ttest: 1.8216767\tbest: 1.8216548 (7174)\ttotal: 10m 20s\tremaining: 4m 1s\n",
      "7300:\tlearn: 1.1458636\ttest: 1.8213140\tbest: 1.8212553 (7276)\ttotal: 10m 29s\tremaining: 3m 52s\n",
      "7400:\tlearn: 1.1374799\ttest: 1.8213451\tbest: 1.8212390 (7388)\ttotal: 10m 38s\tremaining: 3m 44s\n",
      "7500:\tlearn: 1.1295077\ttest: 1.8210711\tbest: 1.8209946 (7472)\ttotal: 10m 47s\tremaining: 3m 35s\n",
      "7600:\tlearn: 1.1214884\ttest: 1.8205385\tbest: 1.8204787 (7591)\ttotal: 10m 55s\tremaining: 3m 27s\n",
      "7700:\tlearn: 1.1134344\ttest: 1.8203356\tbest: 1.8202710 (7682)\ttotal: 11m 4s\tremaining: 3m 18s\n",
      "7800:\tlearn: 1.1053022\ttest: 1.8202972\tbest: 1.8201989 (7766)\ttotal: 11m 13s\tremaining: 3m 9s\n",
      "7900:\tlearn: 1.0979804\ttest: 1.8202616\tbest: 1.8201459 (7856)\ttotal: 11m 22s\tremaining: 3m 1s\n",
      "8000:\tlearn: 1.0900055\ttest: 1.8202690\tbest: 1.8201459 (7856)\ttotal: 11m 31s\tremaining: 2m 52s\n",
      "8100:\tlearn: 1.0819666\ttest: 1.8200478\tbest: 1.8200478 (8100)\ttotal: 11m 40s\tremaining: 2m 44s\n",
      "8200:\tlearn: 1.0742397\ttest: 1.8199619\tbest: 1.8199490 (8199)\ttotal: 11m 49s\tremaining: 2m 35s\n",
      "8300:\tlearn: 1.0670547\ttest: 1.8200149\tbest: 1.8199454 (8203)\ttotal: 11m 58s\tremaining: 2m 27s\n",
      "8400:\tlearn: 1.0593912\ttest: 1.8201150\tbest: 1.8199454 (8203)\ttotal: 12m 8s\tremaining: 2m 18s\n",
      "8500:\tlearn: 1.0516138\ttest: 1.8199335\tbest: 1.8199070 (8460)\ttotal: 12m 17s\tremaining: 2m 10s\n",
      "8600:\tlearn: 1.0440085\ttest: 1.8195997\tbest: 1.8195804 (8592)\ttotal: 12m 26s\tremaining: 2m 1s\n",
      "8700:\tlearn: 1.0366122\ttest: 1.8196313\tbest: 1.8195804 (8592)\ttotal: 12m 35s\tremaining: 1m 52s\n",
      "8800:\tlearn: 1.0296311\ttest: 1.8196618\tbest: 1.8195804 (8592)\ttotal: 12m 44s\tremaining: 1m 44s\n",
      "8900:\tlearn: 1.0226785\ttest: 1.8196995\tbest: 1.8195804 (8592)\ttotal: 12m 53s\tremaining: 1m 35s\n",
      "9000:\tlearn: 1.0156105\ttest: 1.8197036\tbest: 1.8195804 (8592)\ttotal: 13m 2s\tremaining: 1m 26s\n",
      "bestTest = 1.819580398\n",
      "bestIteration = 8592\n",
      "Shrink model to first 8593 iterations.\n"
     ]
    },
    {
     "name": "stderr",
     "output_type": "stream",
     "text": [
      "[08/10/22 09:10:34] 812656911.py:8 in <module>\n",
      "                    cbt_score: 0.5516464426053974\n"
     ]
    },
    {
     "data": {
      "text/plain": [
       "0.5516464426053974"
      ]
     },
     "execution_count": 43,
     "metadata": {},
     "output_type": "execute_result"
    }
   ],
   "source": [
    "cbt_model = CatBoostClassifier(**cbt_params)\n",
    "cbt_model.fit(X_train, y_train,\n",
    "      eval_set=[(X_valid, y_valid)],\n",
    "              verbose=100,\n",
    "              )  \n",
    "dvalid['cbt_pred'] = cbt_model.predict(dvalid[cols])\n",
    "cbt_score = calc_metric({'id': dvalid.id.values, 'cell_id': dvalid.cell_id.values, 'pred': dvalid.cbt_pred.values})\n",
    "ic(cbt_score)"
   ]
  },
  {
   "cell_type": "code",
   "execution_count": 49,
   "metadata": {},
   "outputs": [
    {
     "ename": "AttributeError",
     "evalue": "'list' object has no attribute 'argmax'",
     "output_type": "error",
     "traceback": [
      "\u001b[0;31m---------------------------------------------------------------------------\u001b[0m",
      "\u001b[0;31mAttributeError\u001b[0m                            Traceback (most recent call last)",
      "\u001b[0;32m/tmp/ipykernel_29986/4130329427.py\u001b[0m in \u001b[0;36m<module>\u001b[0;34m\u001b[0m\n\u001b[1;32m      1\u001b[0m \u001b[0mdvalid\u001b[0m\u001b[0;34m[\u001b[0m\u001b[0;34m'cbt_pred'\u001b[0m\u001b[0;34m]\u001b[0m \u001b[0;34m=\u001b[0m \u001b[0mlist\u001b[0m\u001b[0;34m(\u001b[0m\u001b[0mcbt_model\u001b[0m\u001b[0;34m.\u001b[0m\u001b[0mpredict_proba\u001b[0m\u001b[0;34m(\u001b[0m\u001b[0mdvalid\u001b[0m\u001b[0;34m[\u001b[0m\u001b[0mcols\u001b[0m\u001b[0;34m]\u001b[0m\u001b[0;34m)\u001b[0m\u001b[0;34m)\u001b[0m\u001b[0;34m\u001b[0m\u001b[0;34m\u001b[0m\u001b[0m\n\u001b[0;32m----> 2\u001b[0;31m \u001b[0mdvalid\u001b[0m\u001b[0;34m[\u001b[0m\u001b[0;34m'cbt_pred'\u001b[0m\u001b[0;34m]\u001b[0m \u001b[0;34m=\u001b[0m \u001b[0mcls2pred\u001b[0m\u001b[0;34m(\u001b[0m\u001b[0mlist\u001b[0m\u001b[0;34m(\u001b[0m\u001b[0mdvalid\u001b[0m\u001b[0;34m[\u001b[0m\u001b[0;34m'cbt_pred'\u001b[0m\u001b[0;34m]\u001b[0m\u001b[0;34m.\u001b[0m\u001b[0mvalues\u001b[0m\u001b[0;34m)\u001b[0m\u001b[0;34m,\u001b[0m \u001b[0;34m'argmax'\u001b[0m\u001b[0;34m)\u001b[0m\u001b[0;34m\u001b[0m\u001b[0;34m\u001b[0m\u001b[0m\n\u001b[0m\u001b[1;32m      3\u001b[0m \u001b[0mcbt_score\u001b[0m \u001b[0;34m=\u001b[0m \u001b[0mcalc_metric\u001b[0m\u001b[0;34m(\u001b[0m\u001b[0;34m{\u001b[0m\u001b[0;34m'id'\u001b[0m\u001b[0;34m:\u001b[0m \u001b[0mdvalid\u001b[0m\u001b[0;34m.\u001b[0m\u001b[0mid\u001b[0m\u001b[0;34m.\u001b[0m\u001b[0mvalues\u001b[0m\u001b[0;34m,\u001b[0m \u001b[0;34m'cell_id'\u001b[0m\u001b[0;34m:\u001b[0m \u001b[0mdvalid\u001b[0m\u001b[0;34m.\u001b[0m\u001b[0mcell_id\u001b[0m\u001b[0;34m.\u001b[0m\u001b[0mvalues\u001b[0m\u001b[0;34m,\u001b[0m \u001b[0;34m'pred'\u001b[0m\u001b[0;34m:\u001b[0m \u001b[0mdvalid\u001b[0m\u001b[0;34m.\u001b[0m\u001b[0mcbt_pred\u001b[0m\u001b[0;34m.\u001b[0m\u001b[0mvalues\u001b[0m\u001b[0;34m}\u001b[0m\u001b[0;34m)\u001b[0m\u001b[0;34m\u001b[0m\u001b[0;34m\u001b[0m\u001b[0m\n",
      "\u001b[0;32m~/pikachu/projects/kaggle/ai4code/src/postprocess.py\u001b[0m in \u001b[0;36mcls2pred\u001b[0;34m(predictions, method)\u001b[0m\n\u001b[1;32m     63\u001b[0m     \u001b[0mspan\u001b[0m \u001b[0;34m=\u001b[0m \u001b[0;36m0.\u001b[0m\u001b[0;34m\u001b[0m\u001b[0;34m\u001b[0m\u001b[0m\n\u001b[1;32m     64\u001b[0m   \u001b[0;32mif\u001b[0m \u001b[0mmethod\u001b[0m \u001b[0;34m==\u001b[0m \u001b[0;34m'argmax'\u001b[0m\u001b[0;34m:\u001b[0m\u001b[0;34m\u001b[0m\u001b[0;34m\u001b[0m\u001b[0m\n\u001b[0;32m---> 65\u001b[0;31m     \u001b[0mpred\u001b[0m \u001b[0;34m=\u001b[0m \u001b[0;34m(\u001b[0m\u001b[0mpredictions\u001b[0m\u001b[0;34m.\u001b[0m\u001b[0margmax\u001b[0m\u001b[0;34m(\u001b[0m\u001b[0;34m-\u001b[0m\u001b[0;36m1\u001b[0m\u001b[0;34m)\u001b[0m \u001b[0;34m+\u001b[0m \u001b[0mspan\u001b[0m\u001b[0;34m)\u001b[0m \u001b[0;34m/\u001b[0m \u001b[0mFLAGS\u001b[0m\u001b[0;34m.\u001b[0m\u001b[0mnum_classes\u001b[0m\u001b[0;34m\u001b[0m\u001b[0;34m\u001b[0m\u001b[0m\n\u001b[0m\u001b[1;32m     66\u001b[0m   \u001b[0;32melse\u001b[0m\u001b[0;34m:\u001b[0m\u001b[0;34m\u001b[0m\u001b[0;34m\u001b[0m\u001b[0m\n\u001b[1;32m     67\u001b[0m     \u001b[0mpred\u001b[0m \u001b[0;34m=\u001b[0m \u001b[0;34m(\u001b[0m\u001b[0mgezi\u001b[0m\u001b[0;34m.\u001b[0m\u001b[0msoftmax\u001b[0m\u001b[0;34m(\u001b[0m\u001b[0mpredictions\u001b[0m\u001b[0;34m)\u001b[0m \u001b[0;34m*\u001b[0m \u001b[0;34m(\u001b[0m\u001b[0mnp\u001b[0m\u001b[0;34m.\u001b[0m\u001b[0marange\u001b[0m\u001b[0;34m(\u001b[0m\u001b[0mFLAGS\u001b[0m\u001b[0;34m.\u001b[0m\u001b[0mnum_classes\u001b[0m\u001b[0;34m)\u001b[0m \u001b[0;34m+\u001b[0m \u001b[0mspan\u001b[0m\u001b[0;34m)\u001b[0m\u001b[0;34m)\u001b[0m\u001b[0;34m.\u001b[0m\u001b[0msum\u001b[0m\u001b[0;34m(\u001b[0m\u001b[0;34m-\u001b[0m\u001b[0;36m1\u001b[0m\u001b[0;34m)\u001b[0m \u001b[0;34m/\u001b[0m \u001b[0mFLAGS\u001b[0m\u001b[0;34m.\u001b[0m\u001b[0mnum_classes\u001b[0m\u001b[0;34m\u001b[0m\u001b[0;34m\u001b[0m\u001b[0m\n",
      "\u001b[0;31mAttributeError\u001b[0m: 'list' object has no attribute 'argmax'"
     ]
    }
   ],
   "source": [
    "dvalid['cbt_pred'] = list(cbt_model.predict_proba(dvalid[cols]))\n",
    "dvalid['cbt_pred'] = cls2pred(list(dvalid['cbt_pred'].values), 'argmax')\n",
    "cbt_score = calc_metric({'id': dvalid.id.values, 'cell_id': dvalid.cell_id.values, 'pred': dvalid.cbt_pred.values})"
   ]
  },
  {
   "cell_type": "code",
   "execution_count": 55,
   "metadata": {},
   "outputs": [],
   "source": [
    "preds = cbt_model.predict_proba(dvalid[cols])\n",
    "preds = [x.argmax() / 100 for x in preds]\n",
    "dvalid['cbt_pred'] = preds\n",
    "cbt_score = calc_metric({'id': dvalid.id.values, 'cell_id': dvalid.cell_id.values, 'pred': dvalid.cbt_pred.values})"
   ]
  },
  {
   "cell_type": "code",
   "execution_count": 56,
   "metadata": {},
   "outputs": [
    {
     "data": {
      "text/plain": [
       "0.912467172844182"
      ]
     },
     "execution_count": 56,
     "metadata": {},
     "output_type": "execute_result"
    }
   ],
   "source": [
    "cbt_score"
   ]
  },
  {
   "cell_type": "code",
   "execution_count": 59,
   "metadata": {},
   "outputs": [],
   "source": [
    "preds = cbt_model.predict_proba(dvalid[cols])\n",
    "preds = [ (x * (np.arange(FLAGS.num_classes) + 0.5)).sum(-1) / 100 for x in preds]\n",
    "dvalid['cbt_pred'] = preds\n",
    "cbt_score = calc_metric({'id': dvalid.id.values, 'cell_id': dvalid.cell_id.values, 'pred': dvalid.cbt_pred.values})"
   ]
  },
  {
   "cell_type": "code",
   "execution_count": 60,
   "metadata": {},
   "outputs": [
    {
     "data": {
      "text/plain": [
       "0.912676924700022"
      ]
     },
     "execution_count": 60,
     "metadata": {},
     "output_type": "execute_result"
    }
   ],
   "source": [
    "cbt_score"
   ]
  },
  {
   "cell_type": "code",
   "execution_count": null,
   "metadata": {},
   "outputs": [
    {
     "data": {
      "application/vnd.plotly.v1+json": {
       "config": {
        "plotlyServerURL": "https://plot.ly"
       },
       "data": [
        {
         "alignmentgroup": "True",
         "hovertemplate": "importance=%{x}<br>feat_name=%{y}<extra></extra>",
         "legendgroup": "",
         "marker": {
          "color": "#636efa",
          "pattern": {
           "shape": ""
          }
         },
         "name": "",
         "offsetgroup": "",
         "orientation": "h",
         "showlegend": false,
         "textposition": "auto",
         "type": "bar",
         "x": [
          0.48696087437964375,
          0.48861272310858556,
          0.49366402044845054,
          0.5268502078136558,
          0.5337091420656594,
          0.6361983932651434,
          0.6584935659797186,
          0.8043708924197064,
          0.937521470469287,
          1.0653226335651653,
          1.112526978246328,
          1.1129953329724336,
          1.5207928364746233,
          2.8913140163401425,
          3.6294544713261208,
          6.26155878742071,
          10.735420135784148,
          16.184568631960463,
          16.891767117410687,
          22.255858400329494
         ],
         "xaxis": "x",
         "y": [
          "xpc_top_pred_1",
          "abs_pcc_reg_diff",
          "pcc_reg_diff",
          "xp_top_pred_2",
          "abs_pcc_cls_cls2_diff",
          "pcc_cls_cls2_diff",
          "xc_cls_cls2_diff",
          "xc_abs_cls_cls2_diff",
          "xc_abs_cls2_reg_diff",
          "xpc_abs_cls_diff",
          "xpc_cls_diff",
          "xc_top_pred_4",
          "xc_top_pred_1",
          "xp_pred",
          "xp_cls_pred",
          "xc_cls2_pred",
          "xpc_pred",
          "xc_reg_pred",
          "xpc_cls_pred",
          "xc_cls_pred"
         ],
         "yaxis": "y"
        }
       ],
       "layout": {
        "barmode": "relative",
        "legend": {
         "tracegroupgap": 0
        },
        "margin": {
         "t": 60
        },
        "template": {
         "data": {
          "bar": [
           {
            "error_x": {
             "color": "#2a3f5f"
            },
            "error_y": {
             "color": "#2a3f5f"
            },
            "marker": {
             "line": {
              "color": "#E5ECF6",
              "width": 0.5
             },
             "pattern": {
              "fillmode": "overlay",
              "size": 10,
              "solidity": 0.2
             }
            },
            "type": "bar"
           }
          ],
          "barpolar": [
           {
            "marker": {
             "line": {
              "color": "#E5ECF6",
              "width": 0.5
             },
             "pattern": {
              "fillmode": "overlay",
              "size": 10,
              "solidity": 0.2
             }
            },
            "type": "barpolar"
           }
          ],
          "carpet": [
           {
            "aaxis": {
             "endlinecolor": "#2a3f5f",
             "gridcolor": "white",
             "linecolor": "white",
             "minorgridcolor": "white",
             "startlinecolor": "#2a3f5f"
            },
            "baxis": {
             "endlinecolor": "#2a3f5f",
             "gridcolor": "white",
             "linecolor": "white",
             "minorgridcolor": "white",
             "startlinecolor": "#2a3f5f"
            },
            "type": "carpet"
           }
          ],
          "choropleth": [
           {
            "colorbar": {
             "outlinewidth": 0,
             "ticks": ""
            },
            "type": "choropleth"
           }
          ],
          "contour": [
           {
            "colorbar": {
             "outlinewidth": 0,
             "ticks": ""
            },
            "colorscale": [
             [
              0,
              "#0d0887"
             ],
             [
              0.1111111111111111,
              "#46039f"
             ],
             [
              0.2222222222222222,
              "#7201a8"
             ],
             [
              0.3333333333333333,
              "#9c179e"
             ],
             [
              0.4444444444444444,
              "#bd3786"
             ],
             [
              0.5555555555555556,
              "#d8576b"
             ],
             [
              0.6666666666666666,
              "#ed7953"
             ],
             [
              0.7777777777777778,
              "#fb9f3a"
             ],
             [
              0.8888888888888888,
              "#fdca26"
             ],
             [
              1,
              "#f0f921"
             ]
            ],
            "type": "contour"
           }
          ],
          "contourcarpet": [
           {
            "colorbar": {
             "outlinewidth": 0,
             "ticks": ""
            },
            "type": "contourcarpet"
           }
          ],
          "heatmap": [
           {
            "colorbar": {
             "outlinewidth": 0,
             "ticks": ""
            },
            "colorscale": [
             [
              0,
              "#0d0887"
             ],
             [
              0.1111111111111111,
              "#46039f"
             ],
             [
              0.2222222222222222,
              "#7201a8"
             ],
             [
              0.3333333333333333,
              "#9c179e"
             ],
             [
              0.4444444444444444,
              "#bd3786"
             ],
             [
              0.5555555555555556,
              "#d8576b"
             ],
             [
              0.6666666666666666,
              "#ed7953"
             ],
             [
              0.7777777777777778,
              "#fb9f3a"
             ],
             [
              0.8888888888888888,
              "#fdca26"
             ],
             [
              1,
              "#f0f921"
             ]
            ],
            "type": "heatmap"
           }
          ],
          "heatmapgl": [
           {
            "colorbar": {
             "outlinewidth": 0,
             "ticks": ""
            },
            "colorscale": [
             [
              0,
              "#0d0887"
             ],
             [
              0.1111111111111111,
              "#46039f"
             ],
             [
              0.2222222222222222,
              "#7201a8"
             ],
             [
              0.3333333333333333,
              "#9c179e"
             ],
             [
              0.4444444444444444,
              "#bd3786"
             ],
             [
              0.5555555555555556,
              "#d8576b"
             ],
             [
              0.6666666666666666,
              "#ed7953"
             ],
             [
              0.7777777777777778,
              "#fb9f3a"
             ],
             [
              0.8888888888888888,
              "#fdca26"
             ],
             [
              1,
              "#f0f921"
             ]
            ],
            "type": "heatmapgl"
           }
          ],
          "histogram": [
           {
            "marker": {
             "pattern": {
              "fillmode": "overlay",
              "size": 10,
              "solidity": 0.2
             }
            },
            "type": "histogram"
           }
          ],
          "histogram2d": [
           {
            "colorbar": {
             "outlinewidth": 0,
             "ticks": ""
            },
            "colorscale": [
             [
              0,
              "#0d0887"
             ],
             [
              0.1111111111111111,
              "#46039f"
             ],
             [
              0.2222222222222222,
              "#7201a8"
             ],
             [
              0.3333333333333333,
              "#9c179e"
             ],
             [
              0.4444444444444444,
              "#bd3786"
             ],
             [
              0.5555555555555556,
              "#d8576b"
             ],
             [
              0.6666666666666666,
              "#ed7953"
             ],
             [
              0.7777777777777778,
              "#fb9f3a"
             ],
             [
              0.8888888888888888,
              "#fdca26"
             ],
             [
              1,
              "#f0f921"
             ]
            ],
            "type": "histogram2d"
           }
          ],
          "histogram2dcontour": [
           {
            "colorbar": {
             "outlinewidth": 0,
             "ticks": ""
            },
            "colorscale": [
             [
              0,
              "#0d0887"
             ],
             [
              0.1111111111111111,
              "#46039f"
             ],
             [
              0.2222222222222222,
              "#7201a8"
             ],
             [
              0.3333333333333333,
              "#9c179e"
             ],
             [
              0.4444444444444444,
              "#bd3786"
             ],
             [
              0.5555555555555556,
              "#d8576b"
             ],
             [
              0.6666666666666666,
              "#ed7953"
             ],
             [
              0.7777777777777778,
              "#fb9f3a"
             ],
             [
              0.8888888888888888,
              "#fdca26"
             ],
             [
              1,
              "#f0f921"
             ]
            ],
            "type": "histogram2dcontour"
           }
          ],
          "mesh3d": [
           {
            "colorbar": {
             "outlinewidth": 0,
             "ticks": ""
            },
            "type": "mesh3d"
           }
          ],
          "parcoords": [
           {
            "line": {
             "colorbar": {
              "outlinewidth": 0,
              "ticks": ""
             }
            },
            "type": "parcoords"
           }
          ],
          "pie": [
           {
            "automargin": true,
            "type": "pie"
           }
          ],
          "scatter": [
           {
            "marker": {
             "colorbar": {
              "outlinewidth": 0,
              "ticks": ""
             }
            },
            "type": "scatter"
           }
          ],
          "scatter3d": [
           {
            "line": {
             "colorbar": {
              "outlinewidth": 0,
              "ticks": ""
             }
            },
            "marker": {
             "colorbar": {
              "outlinewidth": 0,
              "ticks": ""
             }
            },
            "type": "scatter3d"
           }
          ],
          "scattercarpet": [
           {
            "marker": {
             "colorbar": {
              "outlinewidth": 0,
              "ticks": ""
             }
            },
            "type": "scattercarpet"
           }
          ],
          "scattergeo": [
           {
            "marker": {
             "colorbar": {
              "outlinewidth": 0,
              "ticks": ""
             }
            },
            "type": "scattergeo"
           }
          ],
          "scattergl": [
           {
            "marker": {
             "colorbar": {
              "outlinewidth": 0,
              "ticks": ""
             }
            },
            "type": "scattergl"
           }
          ],
          "scattermapbox": [
           {
            "marker": {
             "colorbar": {
              "outlinewidth": 0,
              "ticks": ""
             }
            },
            "type": "scattermapbox"
           }
          ],
          "scatterpolar": [
           {
            "marker": {
             "colorbar": {
              "outlinewidth": 0,
              "ticks": ""
             }
            },
            "type": "scatterpolar"
           }
          ],
          "scatterpolargl": [
           {
            "marker": {
             "colorbar": {
              "outlinewidth": 0,
              "ticks": ""
             }
            },
            "type": "scatterpolargl"
           }
          ],
          "scatterternary": [
           {
            "marker": {
             "colorbar": {
              "outlinewidth": 0,
              "ticks": ""
             }
            },
            "type": "scatterternary"
           }
          ],
          "surface": [
           {
            "colorbar": {
             "outlinewidth": 0,
             "ticks": ""
            },
            "colorscale": [
             [
              0,
              "#0d0887"
             ],
             [
              0.1111111111111111,
              "#46039f"
             ],
             [
              0.2222222222222222,
              "#7201a8"
             ],
             [
              0.3333333333333333,
              "#9c179e"
             ],
             [
              0.4444444444444444,
              "#bd3786"
             ],
             [
              0.5555555555555556,
              "#d8576b"
             ],
             [
              0.6666666666666666,
              "#ed7953"
             ],
             [
              0.7777777777777778,
              "#fb9f3a"
             ],
             [
              0.8888888888888888,
              "#fdca26"
             ],
             [
              1,
              "#f0f921"
             ]
            ],
            "type": "surface"
           }
          ],
          "table": [
           {
            "cells": {
             "fill": {
              "color": "#EBF0F8"
             },
             "line": {
              "color": "white"
             }
            },
            "header": {
             "fill": {
              "color": "#C8D4E3"
             },
             "line": {
              "color": "white"
             }
            },
            "type": "table"
           }
          ]
         },
         "layout": {
          "annotationdefaults": {
           "arrowcolor": "#2a3f5f",
           "arrowhead": 0,
           "arrowwidth": 1
          },
          "autotypenumbers": "strict",
          "coloraxis": {
           "colorbar": {
            "outlinewidth": 0,
            "ticks": ""
           }
          },
          "colorscale": {
           "diverging": [
            [
             0,
             "#8e0152"
            ],
            [
             0.1,
             "#c51b7d"
            ],
            [
             0.2,
             "#de77ae"
            ],
            [
             0.3,
             "#f1b6da"
            ],
            [
             0.4,
             "#fde0ef"
            ],
            [
             0.5,
             "#f7f7f7"
            ],
            [
             0.6,
             "#e6f5d0"
            ],
            [
             0.7,
             "#b8e186"
            ],
            [
             0.8,
             "#7fbc41"
            ],
            [
             0.9,
             "#4d9221"
            ],
            [
             1,
             "#276419"
            ]
           ],
           "sequential": [
            [
             0,
             "#0d0887"
            ],
            [
             0.1111111111111111,
             "#46039f"
            ],
            [
             0.2222222222222222,
             "#7201a8"
            ],
            [
             0.3333333333333333,
             "#9c179e"
            ],
            [
             0.4444444444444444,
             "#bd3786"
            ],
            [
             0.5555555555555556,
             "#d8576b"
            ],
            [
             0.6666666666666666,
             "#ed7953"
            ],
            [
             0.7777777777777778,
             "#fb9f3a"
            ],
            [
             0.8888888888888888,
             "#fdca26"
            ],
            [
             1,
             "#f0f921"
            ]
           ],
           "sequentialminus": [
            [
             0,
             "#0d0887"
            ],
            [
             0.1111111111111111,
             "#46039f"
            ],
            [
             0.2222222222222222,
             "#7201a8"
            ],
            [
             0.3333333333333333,
             "#9c179e"
            ],
            [
             0.4444444444444444,
             "#bd3786"
            ],
            [
             0.5555555555555556,
             "#d8576b"
            ],
            [
             0.6666666666666666,
             "#ed7953"
            ],
            [
             0.7777777777777778,
             "#fb9f3a"
            ],
            [
             0.8888888888888888,
             "#fdca26"
            ],
            [
             1,
             "#f0f921"
            ]
           ]
          },
          "colorway": [
           "#636efa",
           "#EF553B",
           "#00cc96",
           "#ab63fa",
           "#FFA15A",
           "#19d3f3",
           "#FF6692",
           "#B6E880",
           "#FF97FF",
           "#FECB52"
          ],
          "font": {
           "color": "#2a3f5f"
          },
          "geo": {
           "bgcolor": "white",
           "lakecolor": "white",
           "landcolor": "#E5ECF6",
           "showlakes": true,
           "showland": true,
           "subunitcolor": "white"
          },
          "hoverlabel": {
           "align": "left"
          },
          "hovermode": "closest",
          "mapbox": {
           "style": "light"
          },
          "paper_bgcolor": "white",
          "plot_bgcolor": "#E5ECF6",
          "polar": {
           "angularaxis": {
            "gridcolor": "white",
            "linecolor": "white",
            "ticks": ""
           },
           "bgcolor": "#E5ECF6",
           "radialaxis": {
            "gridcolor": "white",
            "linecolor": "white",
            "ticks": ""
           }
          },
          "scene": {
           "xaxis": {
            "backgroundcolor": "#E5ECF6",
            "gridcolor": "white",
            "gridwidth": 2,
            "linecolor": "white",
            "showbackground": true,
            "ticks": "",
            "zerolinecolor": "white"
           },
           "yaxis": {
            "backgroundcolor": "#E5ECF6",
            "gridcolor": "white",
            "gridwidth": 2,
            "linecolor": "white",
            "showbackground": true,
            "ticks": "",
            "zerolinecolor": "white"
           },
           "zaxis": {
            "backgroundcolor": "#E5ECF6",
            "gridcolor": "white",
            "gridwidth": 2,
            "linecolor": "white",
            "showbackground": true,
            "ticks": "",
            "zerolinecolor": "white"
           }
          },
          "shapedefaults": {
           "line": {
            "color": "#2a3f5f"
           }
          },
          "ternary": {
           "aaxis": {
            "gridcolor": "white",
            "linecolor": "white",
            "ticks": ""
           },
           "baxis": {
            "gridcolor": "white",
            "linecolor": "white",
            "ticks": ""
           },
           "bgcolor": "#E5ECF6",
           "caxis": {
            "gridcolor": "white",
            "linecolor": "white",
            "ticks": ""
           }
          },
          "title": {
           "x": 0.05
          },
          "xaxis": {
           "automargin": true,
           "gridcolor": "white",
           "linecolor": "white",
           "ticks": "",
           "title": {
            "standoff": 15
           },
           "zerolinecolor": "white",
           "zerolinewidth": 2
          },
          "yaxis": {
           "automargin": true,
           "gridcolor": "white",
           "linecolor": "white",
           "ticks": "",
           "title": {
            "standoff": 15
           },
           "zerolinecolor": "white",
           "zerolinewidth": 2
          }
         }
        },
        "xaxis": {
         "anchor": "y",
         "domain": [
          0,
          1
         ],
         "title": {
          "text": "importance"
         }
        },
        "yaxis": {
         "anchor": "x",
         "domain": [
          0,
          1
         ],
         "title": {
          "text": "feat_name"
         }
        }
       }
      },
      "text/html": [
       "<div>                            <div id=\"e713636b-62aa-4bdf-8aed-434d5afff996\" class=\"plotly-graph-div\" style=\"height:525px; width:100%;\"></div>            <script type=\"text/javascript\">                require([\"plotly\"], function(Plotly) {                    window.PLOTLYENV=window.PLOTLYENV || {};                                    if (document.getElementById(\"e713636b-62aa-4bdf-8aed-434d5afff996\")) {                    Plotly.newPlot(                        \"e713636b-62aa-4bdf-8aed-434d5afff996\",                        [{\"alignmentgroup\":\"True\",\"hovertemplate\":\"importance=%{x}<br>feat_name=%{y}<extra></extra>\",\"legendgroup\":\"\",\"marker\":{\"color\":\"#636efa\",\"pattern\":{\"shape\":\"\"}},\"name\":\"\",\"offsetgroup\":\"\",\"orientation\":\"h\",\"showlegend\":false,\"textposition\":\"auto\",\"x\":[0.48696087437964375,0.48861272310858556,0.49366402044845054,0.5268502078136558,0.5337091420656594,0.6361983932651434,0.6584935659797186,0.8043708924197064,0.937521470469287,1.0653226335651653,1.112526978246328,1.1129953329724336,1.5207928364746233,2.8913140163401425,3.6294544713261208,6.26155878742071,10.735420135784148,16.184568631960463,16.891767117410687,22.255858400329494],\"xaxis\":\"x\",\"y\":[\"xpc_top_pred_1\",\"abs_pcc_reg_diff\",\"pcc_reg_diff\",\"xp_top_pred_2\",\"abs_pcc_cls_cls2_diff\",\"pcc_cls_cls2_diff\",\"xc_cls_cls2_diff\",\"xc_abs_cls_cls2_diff\",\"xc_abs_cls2_reg_diff\",\"xpc_abs_cls_diff\",\"xpc_cls_diff\",\"xc_top_pred_4\",\"xc_top_pred_1\",\"xp_pred\",\"xp_cls_pred\",\"xc_cls2_pred\",\"xpc_pred\",\"xc_reg_pred\",\"xpc_cls_pred\",\"xc_cls_pred\"],\"yaxis\":\"y\",\"type\":\"bar\"}],                        {\"template\":{\"data\":{\"bar\":[{\"error_x\":{\"color\":\"#2a3f5f\"},\"error_y\":{\"color\":\"#2a3f5f\"},\"marker\":{\"line\":{\"color\":\"#E5ECF6\",\"width\":0.5},\"pattern\":{\"fillmode\":\"overlay\",\"size\":10,\"solidity\":0.2}},\"type\":\"bar\"}],\"barpolar\":[{\"marker\":{\"line\":{\"color\":\"#E5ECF6\",\"width\":0.5},\"pattern\":{\"fillmode\":\"overlay\",\"size\":10,\"solidity\":0.2}},\"type\":\"barpolar\"}],\"carpet\":[{\"aaxis\":{\"endlinecolor\":\"#2a3f5f\",\"gridcolor\":\"white\",\"linecolor\":\"white\",\"minorgridcolor\":\"white\",\"startlinecolor\":\"#2a3f5f\"},\"baxis\":{\"endlinecolor\":\"#2a3f5f\",\"gridcolor\":\"white\",\"linecolor\":\"white\",\"minorgridcolor\":\"white\",\"startlinecolor\":\"#2a3f5f\"},\"type\":\"carpet\"}],\"choropleth\":[{\"colorbar\":{\"outlinewidth\":0,\"ticks\":\"\"},\"type\":\"choropleth\"}],\"contour\":[{\"colorbar\":{\"outlinewidth\":0,\"ticks\":\"\"},\"colorscale\":[[0.0,\"#0d0887\"],[0.1111111111111111,\"#46039f\"],[0.2222222222222222,\"#7201a8\"],[0.3333333333333333,\"#9c179e\"],[0.4444444444444444,\"#bd3786\"],[0.5555555555555556,\"#d8576b\"],[0.6666666666666666,\"#ed7953\"],[0.7777777777777778,\"#fb9f3a\"],[0.8888888888888888,\"#fdca26\"],[1.0,\"#f0f921\"]],\"type\":\"contour\"}],\"contourcarpet\":[{\"colorbar\":{\"outlinewidth\":0,\"ticks\":\"\"},\"type\":\"contourcarpet\"}],\"heatmap\":[{\"colorbar\":{\"outlinewidth\":0,\"ticks\":\"\"},\"colorscale\":[[0.0,\"#0d0887\"],[0.1111111111111111,\"#46039f\"],[0.2222222222222222,\"#7201a8\"],[0.3333333333333333,\"#9c179e\"],[0.4444444444444444,\"#bd3786\"],[0.5555555555555556,\"#d8576b\"],[0.6666666666666666,\"#ed7953\"],[0.7777777777777778,\"#fb9f3a\"],[0.8888888888888888,\"#fdca26\"],[1.0,\"#f0f921\"]],\"type\":\"heatmap\"}],\"heatmapgl\":[{\"colorbar\":{\"outlinewidth\":0,\"ticks\":\"\"},\"colorscale\":[[0.0,\"#0d0887\"],[0.1111111111111111,\"#46039f\"],[0.2222222222222222,\"#7201a8\"],[0.3333333333333333,\"#9c179e\"],[0.4444444444444444,\"#bd3786\"],[0.5555555555555556,\"#d8576b\"],[0.6666666666666666,\"#ed7953\"],[0.7777777777777778,\"#fb9f3a\"],[0.8888888888888888,\"#fdca26\"],[1.0,\"#f0f921\"]],\"type\":\"heatmapgl\"}],\"histogram\":[{\"marker\":{\"pattern\":{\"fillmode\":\"overlay\",\"size\":10,\"solidity\":0.2}},\"type\":\"histogram\"}],\"histogram2d\":[{\"colorbar\":{\"outlinewidth\":0,\"ticks\":\"\"},\"colorscale\":[[0.0,\"#0d0887\"],[0.1111111111111111,\"#46039f\"],[0.2222222222222222,\"#7201a8\"],[0.3333333333333333,\"#9c179e\"],[0.4444444444444444,\"#bd3786\"],[0.5555555555555556,\"#d8576b\"],[0.6666666666666666,\"#ed7953\"],[0.7777777777777778,\"#fb9f3a\"],[0.8888888888888888,\"#fdca26\"],[1.0,\"#f0f921\"]],\"type\":\"histogram2d\"}],\"histogram2dcontour\":[{\"colorbar\":{\"outlinewidth\":0,\"ticks\":\"\"},\"colorscale\":[[0.0,\"#0d0887\"],[0.1111111111111111,\"#46039f\"],[0.2222222222222222,\"#7201a8\"],[0.3333333333333333,\"#9c179e\"],[0.4444444444444444,\"#bd3786\"],[0.5555555555555556,\"#d8576b\"],[0.6666666666666666,\"#ed7953\"],[0.7777777777777778,\"#fb9f3a\"],[0.8888888888888888,\"#fdca26\"],[1.0,\"#f0f921\"]],\"type\":\"histogram2dcontour\"}],\"mesh3d\":[{\"colorbar\":{\"outlinewidth\":0,\"ticks\":\"\"},\"type\":\"mesh3d\"}],\"parcoords\":[{\"line\":{\"colorbar\":{\"outlinewidth\":0,\"ticks\":\"\"}},\"type\":\"parcoords\"}],\"pie\":[{\"automargin\":true,\"type\":\"pie\"}],\"scatter\":[{\"marker\":{\"colorbar\":{\"outlinewidth\":0,\"ticks\":\"\"}},\"type\":\"scatter\"}],\"scatter3d\":[{\"line\":{\"colorbar\":{\"outlinewidth\":0,\"ticks\":\"\"}},\"marker\":{\"colorbar\":{\"outlinewidth\":0,\"ticks\":\"\"}},\"type\":\"scatter3d\"}],\"scattercarpet\":[{\"marker\":{\"colorbar\":{\"outlinewidth\":0,\"ticks\":\"\"}},\"type\":\"scattercarpet\"}],\"scattergeo\":[{\"marker\":{\"colorbar\":{\"outlinewidth\":0,\"ticks\":\"\"}},\"type\":\"scattergeo\"}],\"scattergl\":[{\"marker\":{\"colorbar\":{\"outlinewidth\":0,\"ticks\":\"\"}},\"type\":\"scattergl\"}],\"scattermapbox\":[{\"marker\":{\"colorbar\":{\"outlinewidth\":0,\"ticks\":\"\"}},\"type\":\"scattermapbox\"}],\"scatterpolar\":[{\"marker\":{\"colorbar\":{\"outlinewidth\":0,\"ticks\":\"\"}},\"type\":\"scatterpolar\"}],\"scatterpolargl\":[{\"marker\":{\"colorbar\":{\"outlinewidth\":0,\"ticks\":\"\"}},\"type\":\"scatterpolargl\"}],\"scatterternary\":[{\"marker\":{\"colorbar\":{\"outlinewidth\":0,\"ticks\":\"\"}},\"type\":\"scatterternary\"}],\"surface\":[{\"colorbar\":{\"outlinewidth\":0,\"ticks\":\"\"},\"colorscale\":[[0.0,\"#0d0887\"],[0.1111111111111111,\"#46039f\"],[0.2222222222222222,\"#7201a8\"],[0.3333333333333333,\"#9c179e\"],[0.4444444444444444,\"#bd3786\"],[0.5555555555555556,\"#d8576b\"],[0.6666666666666666,\"#ed7953\"],[0.7777777777777778,\"#fb9f3a\"],[0.8888888888888888,\"#fdca26\"],[1.0,\"#f0f921\"]],\"type\":\"surface\"}],\"table\":[{\"cells\":{\"fill\":{\"color\":\"#EBF0F8\"},\"line\":{\"color\":\"white\"}},\"header\":{\"fill\":{\"color\":\"#C8D4E3\"},\"line\":{\"color\":\"white\"}},\"type\":\"table\"}]},\"layout\":{\"annotationdefaults\":{\"arrowcolor\":\"#2a3f5f\",\"arrowhead\":0,\"arrowwidth\":1},\"autotypenumbers\":\"strict\",\"coloraxis\":{\"colorbar\":{\"outlinewidth\":0,\"ticks\":\"\"}},\"colorscale\":{\"diverging\":[[0,\"#8e0152\"],[0.1,\"#c51b7d\"],[0.2,\"#de77ae\"],[0.3,\"#f1b6da\"],[0.4,\"#fde0ef\"],[0.5,\"#f7f7f7\"],[0.6,\"#e6f5d0\"],[0.7,\"#b8e186\"],[0.8,\"#7fbc41\"],[0.9,\"#4d9221\"],[1,\"#276419\"]],\"sequential\":[[0.0,\"#0d0887\"],[0.1111111111111111,\"#46039f\"],[0.2222222222222222,\"#7201a8\"],[0.3333333333333333,\"#9c179e\"],[0.4444444444444444,\"#bd3786\"],[0.5555555555555556,\"#d8576b\"],[0.6666666666666666,\"#ed7953\"],[0.7777777777777778,\"#fb9f3a\"],[0.8888888888888888,\"#fdca26\"],[1.0,\"#f0f921\"]],\"sequentialminus\":[[0.0,\"#0d0887\"],[0.1111111111111111,\"#46039f\"],[0.2222222222222222,\"#7201a8\"],[0.3333333333333333,\"#9c179e\"],[0.4444444444444444,\"#bd3786\"],[0.5555555555555556,\"#d8576b\"],[0.6666666666666666,\"#ed7953\"],[0.7777777777777778,\"#fb9f3a\"],[0.8888888888888888,\"#fdca26\"],[1.0,\"#f0f921\"]]},\"colorway\":[\"#636efa\",\"#EF553B\",\"#00cc96\",\"#ab63fa\",\"#FFA15A\",\"#19d3f3\",\"#FF6692\",\"#B6E880\",\"#FF97FF\",\"#FECB52\"],\"font\":{\"color\":\"#2a3f5f\"},\"geo\":{\"bgcolor\":\"white\",\"lakecolor\":\"white\",\"landcolor\":\"#E5ECF6\",\"showlakes\":true,\"showland\":true,\"subunitcolor\":\"white\"},\"hoverlabel\":{\"align\":\"left\"},\"hovermode\":\"closest\",\"mapbox\":{\"style\":\"light\"},\"paper_bgcolor\":\"white\",\"plot_bgcolor\":\"#E5ECF6\",\"polar\":{\"angularaxis\":{\"gridcolor\":\"white\",\"linecolor\":\"white\",\"ticks\":\"\"},\"bgcolor\":\"#E5ECF6\",\"radialaxis\":{\"gridcolor\":\"white\",\"linecolor\":\"white\",\"ticks\":\"\"}},\"scene\":{\"xaxis\":{\"backgroundcolor\":\"#E5ECF6\",\"gridcolor\":\"white\",\"gridwidth\":2,\"linecolor\":\"white\",\"showbackground\":true,\"ticks\":\"\",\"zerolinecolor\":\"white\"},\"yaxis\":{\"backgroundcolor\":\"#E5ECF6\",\"gridcolor\":\"white\",\"gridwidth\":2,\"linecolor\":\"white\",\"showbackground\":true,\"ticks\":\"\",\"zerolinecolor\":\"white\"},\"zaxis\":{\"backgroundcolor\":\"#E5ECF6\",\"gridcolor\":\"white\",\"gridwidth\":2,\"linecolor\":\"white\",\"showbackground\":true,\"ticks\":\"\",\"zerolinecolor\":\"white\"}},\"shapedefaults\":{\"line\":{\"color\":\"#2a3f5f\"}},\"ternary\":{\"aaxis\":{\"gridcolor\":\"white\",\"linecolor\":\"white\",\"ticks\":\"\"},\"baxis\":{\"gridcolor\":\"white\",\"linecolor\":\"white\",\"ticks\":\"\"},\"bgcolor\":\"#E5ECF6\",\"caxis\":{\"gridcolor\":\"white\",\"linecolor\":\"white\",\"ticks\":\"\"}},\"title\":{\"x\":0.05},\"xaxis\":{\"automargin\":true,\"gridcolor\":\"white\",\"linecolor\":\"white\",\"ticks\":\"\",\"title\":{\"standoff\":15},\"zerolinecolor\":\"white\",\"zerolinewidth\":2},\"yaxis\":{\"automargin\":true,\"gridcolor\":\"white\",\"linecolor\":\"white\",\"ticks\":\"\",\"title\":{\"standoff\":15},\"zerolinecolor\":\"white\",\"zerolinewidth\":2}}},\"xaxis\":{\"anchor\":\"y\",\"domain\":[0.0,1.0],\"title\":{\"text\":\"importance\"}},\"yaxis\":{\"anchor\":\"x\",\"domain\":[0.0,1.0],\"title\":{\"text\":\"feat_name\"}},\"legend\":{\"tracegroupgap\":0},\"margin\":{\"t\":60},\"barmode\":\"relative\"},                        {\"responsive\": true}                    ).then(function(){\n",
       "                            \n",
       "var gd = document.getElementById('e713636b-62aa-4bdf-8aed-434d5afff996');\n",
       "var x = new MutationObserver(function (mutations, observer) {{\n",
       "        var display = window.getComputedStyle(gd).display;\n",
       "        if (!display || display === 'none') {{\n",
       "            console.log([gd, 'removed!']);\n",
       "            Plotly.purge(gd);\n",
       "            observer.disconnect();\n",
       "        }}\n",
       "}});\n",
       "\n",
       "// Listen for the removal of the full notebook cells\n",
       "var notebookContainer = gd.closest('#notebook-container');\n",
       "if (notebookContainer) {{\n",
       "    x.observe(notebookContainer, {childList: true});\n",
       "}}\n",
       "\n",
       "// Listen for the clearing of the current output cell\n",
       "var outputEl = gd.closest('.output');\n",
       "if (outputEl) {{\n",
       "    x.observe(outputEl, {childList: true});\n",
       "}}\n",
       "\n",
       "                        })                };                });            </script>        </div>"
      ]
     },
     "metadata": {},
     "output_type": "display_data"
    }
   ],
   "source": [
    "gezi.plot.feature_importance(cbt_model, topn=20)"
   ]
  },
  {
   "cell_type": "code",
   "execution_count": null,
   "metadata": {},
   "outputs": [],
   "source": []
  },
  {
   "cell_type": "code",
   "execution_count": null,
   "metadata": {},
   "outputs": [
    {
     "name": "stdout",
     "output_type": "stream",
     "text": [
      "[LightGBM] [Warning] Auto-choosing col-wise multi-threading, the overhead of testing was 0.056580 seconds.\n",
      "You can set `force_col_wise=true` to remove the overhead.\n",
      "[LightGBM] [Info] Total Bins 26667\n",
      "[LightGBM] [Info] Number of data points in the train set: 342411, number of used features: 114\n",
      "[LightGBM] [Info] Start training from score 0.455056\n",
      "Training until validation scores don't improve for 500 rounds\n",
      "[100]\ttraining's l1: 0.0672611\tvalid_1's l1: 0.0683473\n",
      "[200]\ttraining's l1: 0.0600007\tvalid_1's l1: 0.0612418\n",
      "[300]\ttraining's l1: 0.0590636\tvalid_1's l1: 0.0603281\n",
      "[400]\ttraining's l1: 0.0582353\tvalid_1's l1: 0.0595342\n",
      "[500]\ttraining's l1: 0.0576159\tvalid_1's l1: 0.058971\n",
      "[600]\ttraining's l1: 0.0572531\tvalid_1's l1: 0.0586346\n",
      "[700]\ttraining's l1: 0.0569099\tvalid_1's l1: 0.0583277\n",
      "[800]\ttraining's l1: 0.0566806\tvalid_1's l1: 0.0581246\n",
      "[900]\ttraining's l1: 0.0565441\tvalid_1's l1: 0.0580132\n",
      "[1000]\ttraining's l1: 0.0564157\tvalid_1's l1: 0.0579113\n",
      "[1100]\ttraining's l1: 0.0563012\tvalid_1's l1: 0.0578148\n",
      "[1200]\ttraining's l1: 0.0562183\tvalid_1's l1: 0.0577548\n",
      "[1300]\ttraining's l1: 0.0561516\tvalid_1's l1: 0.0577097\n",
      "[1400]\ttraining's l1: 0.0560839\tvalid_1's l1: 0.0576698\n",
      "[1500]\ttraining's l1: 0.0560066\tvalid_1's l1: 0.0576189\n",
      "[1600]\ttraining's l1: 0.0559462\tvalid_1's l1: 0.0575799\n",
      "[1700]\ttraining's l1: 0.0559037\tvalid_1's l1: 0.0575541\n",
      "[1800]\ttraining's l1: 0.0558554\tvalid_1's l1: 0.0575201\n",
      "[1900]\ttraining's l1: 0.0557911\tvalid_1's l1: 0.0574787\n",
      "[2000]\ttraining's l1: 0.0557541\tvalid_1's l1: 0.0574571\n",
      "[2100]\ttraining's l1: 0.0557046\tvalid_1's l1: 0.0574333\n",
      "[2200]\ttraining's l1: 0.0556717\tvalid_1's l1: 0.0574191\n",
      "[2300]\ttraining's l1: 0.0556254\tvalid_1's l1: 0.0573973\n",
      "[2400]\ttraining's l1: 0.0555967\tvalid_1's l1: 0.0573804\n",
      "[2500]\ttraining's l1: 0.0555747\tvalid_1's l1: 0.0573689\n",
      "[2600]\ttraining's l1: 0.0555512\tvalid_1's l1: 0.057355\n",
      "[2700]\ttraining's l1: 0.0555105\tvalid_1's l1: 0.0573338\n",
      "[2800]\ttraining's l1: 0.0554859\tvalid_1's l1: 0.0573175\n",
      "[2900]\ttraining's l1: 0.0554591\tvalid_1's l1: 0.0573026\n",
      "[3000]\ttraining's l1: 0.0554332\tvalid_1's l1: 0.057289\n",
      "[3100]\ttraining's l1: 0.0554155\tvalid_1's l1: 0.0572798\n",
      "[3200]\ttraining's l1: 0.0553944\tvalid_1's l1: 0.0572713\n",
      "[3300]\ttraining's l1: 0.0553758\tvalid_1's l1: 0.0572607\n",
      "[3400]\ttraining's l1: 0.0553606\tvalid_1's l1: 0.0572549\n",
      "[3500]\ttraining's l1: 0.055348\tvalid_1's l1: 0.0572512\n",
      "[3600]\ttraining's l1: 0.0553303\tvalid_1's l1: 0.0572433\n",
      "[3700]\ttraining's l1: 0.0553108\tvalid_1's l1: 0.0572353\n",
      "[3800]\ttraining's l1: 0.0552968\tvalid_1's l1: 0.0572298\n",
      "[3900]\ttraining's l1: 0.0552874\tvalid_1's l1: 0.057225\n",
      "[4000]\ttraining's l1: 0.0552678\tvalid_1's l1: 0.0572176\n",
      "[4100]\ttraining's l1: 0.0552543\tvalid_1's l1: 0.0572147\n",
      "[4200]\ttraining's l1: 0.0552403\tvalid_1's l1: 0.0572073\n",
      "[4300]\ttraining's l1: 0.0552301\tvalid_1's l1: 0.057204\n",
      "[4400]\ttraining's l1: 0.0552164\tvalid_1's l1: 0.0571993\n",
      "[4500]\ttraining's l1: 0.0551939\tvalid_1's l1: 0.0571919\n",
      "[4600]\ttraining's l1: 0.0551836\tvalid_1's l1: 0.0571884\n",
      "[4700]\ttraining's l1: 0.0551618\tvalid_1's l1: 0.0571768\n",
      "[4800]\ttraining's l1: 0.0551426\tvalid_1's l1: 0.0571671\n",
      "[4900]\ttraining's l1: 0.0551199\tvalid_1's l1: 0.0571593\n",
      "[5000]\ttraining's l1: 0.0551098\tvalid_1's l1: 0.0571543\n",
      "[5100]\ttraining's l1: 0.0550876\tvalid_1's l1: 0.0571457\n",
      "[5200]\ttraining's l1: 0.0550759\tvalid_1's l1: 0.0571406\n",
      "[5300]\ttraining's l1: 0.0550675\tvalid_1's l1: 0.0571388\n",
      "[5400]\ttraining's l1: 0.0550536\tvalid_1's l1: 0.0571341\n",
      "[5500]\ttraining's l1: 0.0550438\tvalid_1's l1: 0.0571292\n",
      "[5600]\ttraining's l1: 0.0550356\tvalid_1's l1: 0.057127\n",
      "[5700]\ttraining's l1: 0.0550131\tvalid_1's l1: 0.0571145\n",
      "[5800]\ttraining's l1: 0.0550012\tvalid_1's l1: 0.0571096\n",
      "[5900]\ttraining's l1: 0.0549916\tvalid_1's l1: 0.0571082\n",
      "[6000]\ttraining's l1: 0.0549798\tvalid_1's l1: 0.0571052\n",
      "[6100]\ttraining's l1: 0.0549714\tvalid_1's l1: 0.0571034\n",
      "[6200]\ttraining's l1: 0.0549597\tvalid_1's l1: 0.0571001\n",
      "[6300]\ttraining's l1: 0.0549495\tvalid_1's l1: 0.0570967\n",
      "[6400]\ttraining's l1: 0.0549394\tvalid_1's l1: 0.0570947\n",
      "[6500]\ttraining's l1: 0.0549295\tvalid_1's l1: 0.0570904\n",
      "[6600]\ttraining's l1: 0.0549119\tvalid_1's l1: 0.0570841\n",
      "[6700]\ttraining's l1: 0.0548967\tvalid_1's l1: 0.0570778\n",
      "[6800]\ttraining's l1: 0.054883\tvalid_1's l1: 0.0570758\n",
      "[6900]\ttraining's l1: 0.0548727\tvalid_1's l1: 0.0570719\n",
      "[7000]\ttraining's l1: 0.0548657\tvalid_1's l1: 0.0570701\n",
      "[7100]\ttraining's l1: 0.0548601\tvalid_1's l1: 0.0570677\n",
      "[7200]\ttraining's l1: 0.0548507\tvalid_1's l1: 0.0570642\n",
      "[7300]\ttraining's l1: 0.0548451\tvalid_1's l1: 0.0570627\n",
      "[7400]\ttraining's l1: 0.0548287\tvalid_1's l1: 0.0570562\n",
      "[7500]\ttraining's l1: 0.0548145\tvalid_1's l1: 0.0570504\n",
      "[7600]\ttraining's l1: 0.0548027\tvalid_1's l1: 0.0570463\n",
      "[7700]\ttraining's l1: 0.0547957\tvalid_1's l1: 0.0570445\n",
      "[7800]\ttraining's l1: 0.0547861\tvalid_1's l1: 0.0570403\n",
      "[7900]\ttraining's l1: 0.0547674\tvalid_1's l1: 0.0570312\n",
      "[8000]\ttraining's l1: 0.0547567\tvalid_1's l1: 0.0570289\n",
      "[8100]\ttraining's l1: 0.054748\tvalid_1's l1: 0.0570249\n",
      "[8200]\ttraining's l1: 0.0547385\tvalid_1's l1: 0.0570224\n",
      "[8300]\ttraining's l1: 0.0547222\tvalid_1's l1: 0.0570162\n",
      "[8400]\ttraining's l1: 0.0547105\tvalid_1's l1: 0.0570121\n",
      "[8500]\ttraining's l1: 0.0546995\tvalid_1's l1: 0.0570093\n",
      "[8600]\ttraining's l1: 0.0546869\tvalid_1's l1: 0.057006\n",
      "[8700]\ttraining's l1: 0.0546793\tvalid_1's l1: 0.0570045\n",
      "[8800]\ttraining's l1: 0.0546629\tvalid_1's l1: 0.056997\n",
      "[8900]\ttraining's l1: 0.0546575\tvalid_1's l1: 0.0569953\n",
      "[9000]\ttraining's l1: 0.0546492\tvalid_1's l1: 0.0569943\n",
      "[9100]\ttraining's l1: 0.0546363\tvalid_1's l1: 0.0569893\n",
      "[9200]\ttraining's l1: 0.0546268\tvalid_1's l1: 0.0569863\n",
      "[9300]\ttraining's l1: 0.0546147\tvalid_1's l1: 0.056982\n",
      "[9400]\ttraining's l1: 0.0546072\tvalid_1's l1: 0.0569812\n",
      "[9500]\ttraining's l1: 0.0545956\tvalid_1's l1: 0.0569781\n",
      "[9600]\ttraining's l1: 0.0545908\tvalid_1's l1: 0.0569766\n",
      "[9700]\ttraining's l1: 0.0545797\tvalid_1's l1: 0.0569757\n",
      "[9800]\ttraining's l1: 0.0545766\tvalid_1's l1: 0.0569749\n",
      "[9900]\ttraining's l1: 0.0545701\tvalid_1's l1: 0.0569725\n",
      "[10000]\ttraining's l1: 0.0545503\tvalid_1's l1: 0.0569682\n",
      "[10100]\ttraining's l1: 0.0545446\tvalid_1's l1: 0.056967\n",
      "[10200]\ttraining's l1: 0.0545332\tvalid_1's l1: 0.0569619\n",
      "[10300]\ttraining's l1: 0.0545273\tvalid_1's l1: 0.0569594\n",
      "[10400]\ttraining's l1: 0.0545221\tvalid_1's l1: 0.0569584\n",
      "[10500]\ttraining's l1: 0.0545176\tvalid_1's l1: 0.0569574\n",
      "[10600]\ttraining's l1: 0.0545081\tvalid_1's l1: 0.0569563\n",
      "[10700]\ttraining's l1: 0.0545005\tvalid_1's l1: 0.0569548\n",
      "[10800]\ttraining's l1: 0.0544962\tvalid_1's l1: 0.0569542\n",
      "[10900]\ttraining's l1: 0.0544918\tvalid_1's l1: 0.0569535\n",
      "[11000]\ttraining's l1: 0.0544868\tvalid_1's l1: 0.0569543\n",
      "[11100]\ttraining's l1: 0.0544798\tvalid_1's l1: 0.056953\n",
      "[11200]\ttraining's l1: 0.0544697\tvalid_1's l1: 0.0569522\n",
      "[11300]\ttraining's l1: 0.054457\tvalid_1's l1: 0.05695\n",
      "[11400]\ttraining's l1: 0.0544536\tvalid_1's l1: 0.0569491\n",
      "[11500]\ttraining's l1: 0.0544471\tvalid_1's l1: 0.056948\n",
      "[11600]\ttraining's l1: 0.0544396\tvalid_1's l1: 0.0569438\n",
      "[11700]\ttraining's l1: 0.0544329\tvalid_1's l1: 0.0569423\n",
      "[11800]\ttraining's l1: 0.0544279\tvalid_1's l1: 0.0569406\n",
      "[11900]\ttraining's l1: 0.054421\tvalid_1's l1: 0.0569392\n",
      "[12000]\ttraining's l1: 0.0544137\tvalid_1's l1: 0.056938\n",
      "[12100]\ttraining's l1: 0.0544078\tvalid_1's l1: 0.0569367\n",
      "[12200]\ttraining's l1: 0.0544039\tvalid_1's l1: 0.0569356\n",
      "[12300]\ttraining's l1: 0.0543996\tvalid_1's l1: 0.0569348\n",
      "[12400]\ttraining's l1: 0.0543971\tvalid_1's l1: 0.0569344\n",
      "[12500]\ttraining's l1: 0.0543912\tvalid_1's l1: 0.0569325\n",
      "[12600]\ttraining's l1: 0.0543882\tvalid_1's l1: 0.0569319\n",
      "[12700]\ttraining's l1: 0.0543819\tvalid_1's l1: 0.0569305\n",
      "[12800]\ttraining's l1: 0.0543735\tvalid_1's l1: 0.0569301\n",
      "[12900]\ttraining's l1: 0.0543655\tvalid_1's l1: 0.0569298\n",
      "[13000]\ttraining's l1: 0.0543541\tvalid_1's l1: 0.0569258\n",
      "[13100]\ttraining's l1: 0.0543447\tvalid_1's l1: 0.0569242\n",
      "[13200]\ttraining's l1: 0.0543415\tvalid_1's l1: 0.0569234\n",
      "[13300]\ttraining's l1: 0.0543382\tvalid_1's l1: 0.056923\n",
      "[13400]\ttraining's l1: 0.0543332\tvalid_1's l1: 0.0569213\n",
      "[13500]\ttraining's l1: 0.054327\tvalid_1's l1: 0.0569191\n",
      "[13600]\ttraining's l1: 0.054293\tvalid_1's l1: 0.056912\n",
      "[13700]\ttraining's l1: 0.0542698\tvalid_1's l1: 0.0569097\n",
      "[13800]\ttraining's l1: 0.0542578\tvalid_1's l1: 0.056907\n",
      "[13900]\ttraining's l1: 0.0542494\tvalid_1's l1: 0.0569051\n",
      "[14000]\ttraining's l1: 0.0542425\tvalid_1's l1: 0.0569036\n",
      "[14100]\ttraining's l1: 0.0542345\tvalid_1's l1: 0.0569022\n",
      "[14200]\ttraining's l1: 0.0542276\tvalid_1's l1: 0.0569016\n",
      "[14300]\ttraining's l1: 0.0542207\tvalid_1's l1: 0.0569009\n",
      "[14400]\ttraining's l1: 0.0542132\tvalid_1's l1: 0.056899\n",
      "[14500]\ttraining's l1: 0.054206\tvalid_1's l1: 0.0568981\n",
      "[14600]\ttraining's l1: 0.0541983\tvalid_1's l1: 0.0568981\n",
      "[14700]\ttraining's l1: 0.0541934\tvalid_1's l1: 0.0568982\n",
      "[14800]\ttraining's l1: 0.0541898\tvalid_1's l1: 0.0568972\n",
      "[14900]\ttraining's l1: 0.0541818\tvalid_1's l1: 0.0568956\n",
      "[15000]\ttraining's l1: 0.0541748\tvalid_1's l1: 0.0568948\n",
      "[15100]\ttraining's l1: 0.0541723\tvalid_1's l1: 0.0568937\n",
      "[15200]\ttraining's l1: 0.0541655\tvalid_1's l1: 0.0568918\n",
      "[15300]\ttraining's l1: 0.0541602\tvalid_1's l1: 0.056891\n",
      "[15400]\ttraining's l1: 0.0541521\tvalid_1's l1: 0.0568903\n",
      "[15500]\ttraining's l1: 0.0541476\tvalid_1's l1: 0.05689\n",
      "[15600]\ttraining's l1: 0.05414\tvalid_1's l1: 0.0568903\n",
      "[15700]\ttraining's l1: 0.0541342\tvalid_1's l1: 0.0568893\n",
      "[15800]\ttraining's l1: 0.0541296\tvalid_1's l1: 0.0568892\n",
      "[15900]\ttraining's l1: 0.0541249\tvalid_1's l1: 0.0568892\n",
      "[16000]\ttraining's l1: 0.0541126\tvalid_1's l1: 0.0568888\n",
      "[16100]\ttraining's l1: 0.054106\tvalid_1's l1: 0.0568891\n",
      "[16200]\ttraining's l1: 0.0540997\tvalid_1's l1: 0.0568883\n",
      "[16300]\ttraining's l1: 0.0540877\tvalid_1's l1: 0.0568872\n",
      "[16400]\ttraining's l1: 0.0540842\tvalid_1's l1: 0.0568868\n",
      "[16500]\ttraining's l1: 0.0540787\tvalid_1's l1: 0.0568861\n",
      "[16600]\ttraining's l1: 0.0540709\tvalid_1's l1: 0.056886\n",
      "[16700]\ttraining's l1: 0.0540671\tvalid_1's l1: 0.0568851\n",
      "[16800]\ttraining's l1: 0.0540622\tvalid_1's l1: 0.0568846\n",
      "[16900]\ttraining's l1: 0.0540554\tvalid_1's l1: 0.0568826\n",
      "[17000]\ttraining's l1: 0.0540502\tvalid_1's l1: 0.0568824\n",
      "[17100]\ttraining's l1: 0.0540411\tvalid_1's l1: 0.0568799\n",
      "[17200]\ttraining's l1: 0.0540354\tvalid_1's l1: 0.0568789\n",
      "[17300]\ttraining's l1: 0.0540277\tvalid_1's l1: 0.0568768\n",
      "[17400]\ttraining's l1: 0.0540238\tvalid_1's l1: 0.0568767\n",
      "[17500]\ttraining's l1: 0.054021\tvalid_1's l1: 0.0568761\n",
      "[17600]\ttraining's l1: 0.0540182\tvalid_1's l1: 0.0568758\n",
      "[17700]\ttraining's l1: 0.0540132\tvalid_1's l1: 0.0568763\n",
      "[17800]\ttraining's l1: 0.0540075\tvalid_1's l1: 0.0568756\n",
      "[17900]\ttraining's l1: 0.0539911\tvalid_1's l1: 0.056875\n",
      "[18000]\ttraining's l1: 0.053984\tvalid_1's l1: 0.0568737\n",
      "[18100]\ttraining's l1: 0.0539793\tvalid_1's l1: 0.056872\n",
      "[18200]\ttraining's l1: 0.0539761\tvalid_1's l1: 0.0568711\n",
      "[18300]\ttraining's l1: 0.0539716\tvalid_1's l1: 0.0568709\n",
      "[18400]\ttraining's l1: 0.0539683\tvalid_1's l1: 0.0568703\n",
      "[18500]\ttraining's l1: 0.0539625\tvalid_1's l1: 0.0568686\n",
      "[18600]\ttraining's l1: 0.053957\tvalid_1's l1: 0.0568675\n",
      "[18700]\ttraining's l1: 0.0539518\tvalid_1's l1: 0.0568676\n",
      "[18800]\ttraining's l1: 0.0539449\tvalid_1's l1: 0.0568641\n",
      "[18900]\ttraining's l1: 0.0539408\tvalid_1's l1: 0.0568629\n",
      "[19000]\ttraining's l1: 0.0539367\tvalid_1's l1: 0.056861\n",
      "[19100]\ttraining's l1: 0.0539318\tvalid_1's l1: 0.056861\n",
      "[19200]\ttraining's l1: 0.0539257\tvalid_1's l1: 0.0568597\n",
      "[19300]\ttraining's l1: 0.0539196\tvalid_1's l1: 0.0568594\n",
      "[19400]\ttraining's l1: 0.0539146\tvalid_1's l1: 0.0568592\n",
      "[19500]\ttraining's l1: 0.0539112\tvalid_1's l1: 0.0568586\n",
      "[19600]\ttraining's l1: 0.0539051\tvalid_1's l1: 0.0568594\n",
      "[19700]\ttraining's l1: 0.0539025\tvalid_1's l1: 0.0568594\n",
      "[19800]\ttraining's l1: 0.0539008\tvalid_1's l1: 0.0568593\n",
      "[19900]\ttraining's l1: 0.053896\tvalid_1's l1: 0.0568597\n",
      "Early stopping, best iteration is:\n",
      "[19473]\ttraining's l1: 0.0539121\tvalid_1's l1: 0.0568585\n"
     ]
    },
    {
     "name": "stderr",
     "output_type": "stream",
     "text": [
      "[08/09/22 22:37:52] 1180923897.py:37 in <module>\n",
      "                    lgb_score: 0.919917533743517\n"
     ]
    },
    {
     "data": {
      "text/plain": [
       "0.919917533743517"
      ]
     },
     "execution_count": 43,
     "metadata": {},
     "output_type": "execute_result"
    }
   ],
   "source": [
    "import lightgbm as lgb\n",
    "params = {\n",
    "          'boosting': 'gbdt',\n",
    "          'objective': 'regression_l1',\n",
    "          'metric': {'l1'},\n",
    "          # 'num_leaves': 32,\n",
    "          # 'num_leaves': 24,\n",
    "          'num_leaves': 12,\n",
    "          # 'min_data_in_leaf': 300,\n",
    "          'min_data_in_leaf': 500,\n",
    "          # 'max_depth': 5,\n",
    "          'learning_rate': 0.03,\n",
    "          # \"feature_fraction\": 0.8,\n",
    "          # \"bagging_fraction\": 0.75,\n",
    "          # \"feature_fraction\": 0.9,\n",
    "          # \"bagging_fraction\": 0.8,\n",
    "          'feature_fraction': 0.7,\n",
    "          'bagging_fraction': 0.7,\n",
    "          'min_data_in_bin':100,\n",
    "          \"lambda_l1\": 1e-7,\n",
    "          'lambda_l2': 1e-7,\n",
    "          \"random_state\": 1024,\n",
    "          \"num_threads\": 12,\n",
    "          }"
   ]
  },
  {
   "cell_type": "code",
   "execution_count": null,
   "metadata": {},
   "outputs": [],
   "source": [
    "d_train = lgb.Dataset(X_train, y_train)\n",
    "d_valid = lgb.Dataset(X_valid, y_valid, reference=d_train)\n",
    "\n",
    "lgb_model = lgb.train(params,\n",
    "                d_train,\n",
    "                20000,\n",
    "                valid_sets=[d_train, d_valid],\n",
    "                verbose_eval=100,\n",
    "                early_stopping_rounds=500)\n",
    "dvalid['lgb_pred'] = lgb_model.predict(dvalid[cols])\n",
    "lgb_score = calc_metric({'id': dvalid.id.values, 'cell_id': dvalid.cell_id.values, 'pred': dvalid.lgb_pred.values})\n",
    "ic(lgb_score)"
   ]
  },
  {
   "cell_type": "code",
   "execution_count": null,
   "metadata": {},
   "outputs": [],
   "source": [
    "# model = lgb.LGBMRanker(\n",
    "#     objective=\"lambdarank\",\n",
    "#     metric=\"ndcg\",\n",
    "#     boosting_type=\"dart\",\n",
    "#     n_estimators=100,\n",
    "#     importance_type='gain',\n",
    "#     verbose=10,\n",
    "#     random_state = 17\n",
    "# )\n",
    "\n",
    "# qids_train = dtrain.groupby(['id'])['cell_id'].count().values\n",
    "# # y_train2 = [int(x * 1000) for x in y_train]\n",
    "\n",
    "# model.fit(\n",
    "#     X=X_train,\n",
    "#     y=y_train2,\n",
    "#     group=qids_train,\n",
    "# )"
   ]
  },
  {
   "cell_type": "code",
   "execution_count": null,
   "metadata": {},
   "outputs": [],
   "source": [
    "# import xgboost as xgb\n",
    "# params = {\n",
    "#       'reg_lambda': 7.960622217848342e-07, \n",
    "#                       'subsample': 0.7422597612762745,\n",
    "#                       # 'bagging_temperature': 0.2,\n",
    "#                       'max_depth': 10, \n",
    "#                       # 'early_stopping_rounds': 500,\n",
    "#                       # 'n_estimators': 10000,\n",
    "#                       # 'cat_features': [],\n",
    "#                       # 'loss_function': 'MAE',\n",
    "#                       'min_child_samples': 100,\n",
    "#                       # eval_metric='MAE',\n",
    "# }\n",
    "# model = xgb.XGBRanker(booster=\"gbtree\", \n",
    "#                       # objective=\"rank:ndcg\",\n",
    "#                       objective='rank:pairwise',\n",
    "#                       tree_method=\"gpu_hist\", \n",
    "#                       sampling_method=\"gradient_based\",\n",
    "#                       n_estimators=5000,\n",
    "#                       learning_rate=0.03,\n",
    "#                       **params\n",
    "#                       )\n",
    "# train_groups = dtrain.groupby('id').size().to_numpy()\n",
    "# eval_groups = dvalid.groupby('id').size().to_numpy()\n",
    "# model.fit(X_train, \n",
    "#           y_train, \n",
    "#           group=train_groups, \n",
    "#           eval_set=[(X_train, y_train),(X_valid, y_valid)],\n",
    "#           eval_group=[train_groups, eval_groups],\n",
    "#           verbose=100)\n"
   ]
  },
  {
   "cell_type": "code",
   "execution_count": null,
   "metadata": {},
   "outputs": [],
   "source": [
    "# xgb_model = model"
   ]
  },
  {
   "cell_type": "code",
   "execution_count": null,
   "metadata": {},
   "outputs": [],
   "source": [
    "# dvalid['xgb_pred'] = xgb_model.predict(dvalid[cols])\n",
    "# dvalid['xgb_pred'] = [gezi.sigmoid(x) for x in dvalid.xgb_pred.values]\n",
    "# xgb_score = calc_metric({'id': dvalid.id.values, 'cell_id': dvalid.cell_id.values, 'pred': dvalid.xgb_pred.values})\n",
    "# ic(xgb_score)"
   ]
  },
  {
   "cell_type": "code",
   "execution_count": null,
   "metadata": {},
   "outputs": [
    {
     "data": {
      "application/vnd.plotly.v1+json": {
       "config": {
        "plotlyServerURL": "https://plot.ly"
       },
       "data": [
        {
         "alignmentgroup": "True",
         "hovertemplate": "importance=%{x}<br>feat_name=%{y}<extra></extra>",
         "legendgroup": "",
         "marker": {
          "color": "#636efa",
          "pattern": {
           "shape": ""
          }
         },
         "name": "",
         "offsetgroup": "",
         "orientation": "h",
         "showlegend": false,
         "textposition": "auto",
         "type": "bar",
         "x": [
          2611,
          2635,
          2719,
          2745,
          2765,
          2887,
          2972,
          2983,
          2987,
          3025,
          3093,
          3108,
          3184,
          3741,
          3862,
          4037,
          4404,
          5495,
          5598,
          5650
         ],
         "xaxis": "x",
         "y": [
          "n_cell",
          "xp_var_sim",
          "pcc_cls_diff",
          "xc_abs_cls2_reg_diff",
          "xp_top_prob_1",
          "xc_top_prob_2",
          "xc_cls_cls2_diff",
          "pcc_cls2_diff",
          "xpc_var_prob",
          "xc_abs_cls_cls2_diff",
          "xc_top_prob_1",
          "code_ratio",
          "xp_var_prob",
          "xp_top_prob_0",
          "n_words",
          "xpc_pred",
          "xpc_top_prob_0",
          "xpc_cls_pred",
          "xc_reg_pred",
          "xc_cls_pred"
         ],
         "yaxis": "y"
        }
       ],
       "layout": {
        "barmode": "relative",
        "legend": {
         "tracegroupgap": 0
        },
        "margin": {
         "t": 60
        },
        "template": {
         "data": {
          "bar": [
           {
            "error_x": {
             "color": "#2a3f5f"
            },
            "error_y": {
             "color": "#2a3f5f"
            },
            "marker": {
             "line": {
              "color": "#E5ECF6",
              "width": 0.5
             },
             "pattern": {
              "fillmode": "overlay",
              "size": 10,
              "solidity": 0.2
             }
            },
            "type": "bar"
           }
          ],
          "barpolar": [
           {
            "marker": {
             "line": {
              "color": "#E5ECF6",
              "width": 0.5
             },
             "pattern": {
              "fillmode": "overlay",
              "size": 10,
              "solidity": 0.2
             }
            },
            "type": "barpolar"
           }
          ],
          "carpet": [
           {
            "aaxis": {
             "endlinecolor": "#2a3f5f",
             "gridcolor": "white",
             "linecolor": "white",
             "minorgridcolor": "white",
             "startlinecolor": "#2a3f5f"
            },
            "baxis": {
             "endlinecolor": "#2a3f5f",
             "gridcolor": "white",
             "linecolor": "white",
             "minorgridcolor": "white",
             "startlinecolor": "#2a3f5f"
            },
            "type": "carpet"
           }
          ],
          "choropleth": [
           {
            "colorbar": {
             "outlinewidth": 0,
             "ticks": ""
            },
            "type": "choropleth"
           }
          ],
          "contour": [
           {
            "colorbar": {
             "outlinewidth": 0,
             "ticks": ""
            },
            "colorscale": [
             [
              0,
              "#0d0887"
             ],
             [
              0.1111111111111111,
              "#46039f"
             ],
             [
              0.2222222222222222,
              "#7201a8"
             ],
             [
              0.3333333333333333,
              "#9c179e"
             ],
             [
              0.4444444444444444,
              "#bd3786"
             ],
             [
              0.5555555555555556,
              "#d8576b"
             ],
             [
              0.6666666666666666,
              "#ed7953"
             ],
             [
              0.7777777777777778,
              "#fb9f3a"
             ],
             [
              0.8888888888888888,
              "#fdca26"
             ],
             [
              1,
              "#f0f921"
             ]
            ],
            "type": "contour"
           }
          ],
          "contourcarpet": [
           {
            "colorbar": {
             "outlinewidth": 0,
             "ticks": ""
            },
            "type": "contourcarpet"
           }
          ],
          "heatmap": [
           {
            "colorbar": {
             "outlinewidth": 0,
             "ticks": ""
            },
            "colorscale": [
             [
              0,
              "#0d0887"
             ],
             [
              0.1111111111111111,
              "#46039f"
             ],
             [
              0.2222222222222222,
              "#7201a8"
             ],
             [
              0.3333333333333333,
              "#9c179e"
             ],
             [
              0.4444444444444444,
              "#bd3786"
             ],
             [
              0.5555555555555556,
              "#d8576b"
             ],
             [
              0.6666666666666666,
              "#ed7953"
             ],
             [
              0.7777777777777778,
              "#fb9f3a"
             ],
             [
              0.8888888888888888,
              "#fdca26"
             ],
             [
              1,
              "#f0f921"
             ]
            ],
            "type": "heatmap"
           }
          ],
          "heatmapgl": [
           {
            "colorbar": {
             "outlinewidth": 0,
             "ticks": ""
            },
            "colorscale": [
             [
              0,
              "#0d0887"
             ],
             [
              0.1111111111111111,
              "#46039f"
             ],
             [
              0.2222222222222222,
              "#7201a8"
             ],
             [
              0.3333333333333333,
              "#9c179e"
             ],
             [
              0.4444444444444444,
              "#bd3786"
             ],
             [
              0.5555555555555556,
              "#d8576b"
             ],
             [
              0.6666666666666666,
              "#ed7953"
             ],
             [
              0.7777777777777778,
              "#fb9f3a"
             ],
             [
              0.8888888888888888,
              "#fdca26"
             ],
             [
              1,
              "#f0f921"
             ]
            ],
            "type": "heatmapgl"
           }
          ],
          "histogram": [
           {
            "marker": {
             "pattern": {
              "fillmode": "overlay",
              "size": 10,
              "solidity": 0.2
             }
            },
            "type": "histogram"
           }
          ],
          "histogram2d": [
           {
            "colorbar": {
             "outlinewidth": 0,
             "ticks": ""
            },
            "colorscale": [
             [
              0,
              "#0d0887"
             ],
             [
              0.1111111111111111,
              "#46039f"
             ],
             [
              0.2222222222222222,
              "#7201a8"
             ],
             [
              0.3333333333333333,
              "#9c179e"
             ],
             [
              0.4444444444444444,
              "#bd3786"
             ],
             [
              0.5555555555555556,
              "#d8576b"
             ],
             [
              0.6666666666666666,
              "#ed7953"
             ],
             [
              0.7777777777777778,
              "#fb9f3a"
             ],
             [
              0.8888888888888888,
              "#fdca26"
             ],
             [
              1,
              "#f0f921"
             ]
            ],
            "type": "histogram2d"
           }
          ],
          "histogram2dcontour": [
           {
            "colorbar": {
             "outlinewidth": 0,
             "ticks": ""
            },
            "colorscale": [
             [
              0,
              "#0d0887"
             ],
             [
              0.1111111111111111,
              "#46039f"
             ],
             [
              0.2222222222222222,
              "#7201a8"
             ],
             [
              0.3333333333333333,
              "#9c179e"
             ],
             [
              0.4444444444444444,
              "#bd3786"
             ],
             [
              0.5555555555555556,
              "#d8576b"
             ],
             [
              0.6666666666666666,
              "#ed7953"
             ],
             [
              0.7777777777777778,
              "#fb9f3a"
             ],
             [
              0.8888888888888888,
              "#fdca26"
             ],
             [
              1,
              "#f0f921"
             ]
            ],
            "type": "histogram2dcontour"
           }
          ],
          "mesh3d": [
           {
            "colorbar": {
             "outlinewidth": 0,
             "ticks": ""
            },
            "type": "mesh3d"
           }
          ],
          "parcoords": [
           {
            "line": {
             "colorbar": {
              "outlinewidth": 0,
              "ticks": ""
             }
            },
            "type": "parcoords"
           }
          ],
          "pie": [
           {
            "automargin": true,
            "type": "pie"
           }
          ],
          "scatter": [
           {
            "marker": {
             "colorbar": {
              "outlinewidth": 0,
              "ticks": ""
             }
            },
            "type": "scatter"
           }
          ],
          "scatter3d": [
           {
            "line": {
             "colorbar": {
              "outlinewidth": 0,
              "ticks": ""
             }
            },
            "marker": {
             "colorbar": {
              "outlinewidth": 0,
              "ticks": ""
             }
            },
            "type": "scatter3d"
           }
          ],
          "scattercarpet": [
           {
            "marker": {
             "colorbar": {
              "outlinewidth": 0,
              "ticks": ""
             }
            },
            "type": "scattercarpet"
           }
          ],
          "scattergeo": [
           {
            "marker": {
             "colorbar": {
              "outlinewidth": 0,
              "ticks": ""
             }
            },
            "type": "scattergeo"
           }
          ],
          "scattergl": [
           {
            "marker": {
             "colorbar": {
              "outlinewidth": 0,
              "ticks": ""
             }
            },
            "type": "scattergl"
           }
          ],
          "scattermapbox": [
           {
            "marker": {
             "colorbar": {
              "outlinewidth": 0,
              "ticks": ""
             }
            },
            "type": "scattermapbox"
           }
          ],
          "scatterpolar": [
           {
            "marker": {
             "colorbar": {
              "outlinewidth": 0,
              "ticks": ""
             }
            },
            "type": "scatterpolar"
           }
          ],
          "scatterpolargl": [
           {
            "marker": {
             "colorbar": {
              "outlinewidth": 0,
              "ticks": ""
             }
            },
            "type": "scatterpolargl"
           }
          ],
          "scatterternary": [
           {
            "marker": {
             "colorbar": {
              "outlinewidth": 0,
              "ticks": ""
             }
            },
            "type": "scatterternary"
           }
          ],
          "surface": [
           {
            "colorbar": {
             "outlinewidth": 0,
             "ticks": ""
            },
            "colorscale": [
             [
              0,
              "#0d0887"
             ],
             [
              0.1111111111111111,
              "#46039f"
             ],
             [
              0.2222222222222222,
              "#7201a8"
             ],
             [
              0.3333333333333333,
              "#9c179e"
             ],
             [
              0.4444444444444444,
              "#bd3786"
             ],
             [
              0.5555555555555556,
              "#d8576b"
             ],
             [
              0.6666666666666666,
              "#ed7953"
             ],
             [
              0.7777777777777778,
              "#fb9f3a"
             ],
             [
              0.8888888888888888,
              "#fdca26"
             ],
             [
              1,
              "#f0f921"
             ]
            ],
            "type": "surface"
           }
          ],
          "table": [
           {
            "cells": {
             "fill": {
              "color": "#EBF0F8"
             },
             "line": {
              "color": "white"
             }
            },
            "header": {
             "fill": {
              "color": "#C8D4E3"
             },
             "line": {
              "color": "white"
             }
            },
            "type": "table"
           }
          ]
         },
         "layout": {
          "annotationdefaults": {
           "arrowcolor": "#2a3f5f",
           "arrowhead": 0,
           "arrowwidth": 1
          },
          "autotypenumbers": "strict",
          "coloraxis": {
           "colorbar": {
            "outlinewidth": 0,
            "ticks": ""
           }
          },
          "colorscale": {
           "diverging": [
            [
             0,
             "#8e0152"
            ],
            [
             0.1,
             "#c51b7d"
            ],
            [
             0.2,
             "#de77ae"
            ],
            [
             0.3,
             "#f1b6da"
            ],
            [
             0.4,
             "#fde0ef"
            ],
            [
             0.5,
             "#f7f7f7"
            ],
            [
             0.6,
             "#e6f5d0"
            ],
            [
             0.7,
             "#b8e186"
            ],
            [
             0.8,
             "#7fbc41"
            ],
            [
             0.9,
             "#4d9221"
            ],
            [
             1,
             "#276419"
            ]
           ],
           "sequential": [
            [
             0,
             "#0d0887"
            ],
            [
             0.1111111111111111,
             "#46039f"
            ],
            [
             0.2222222222222222,
             "#7201a8"
            ],
            [
             0.3333333333333333,
             "#9c179e"
            ],
            [
             0.4444444444444444,
             "#bd3786"
            ],
            [
             0.5555555555555556,
             "#d8576b"
            ],
            [
             0.6666666666666666,
             "#ed7953"
            ],
            [
             0.7777777777777778,
             "#fb9f3a"
            ],
            [
             0.8888888888888888,
             "#fdca26"
            ],
            [
             1,
             "#f0f921"
            ]
           ],
           "sequentialminus": [
            [
             0,
             "#0d0887"
            ],
            [
             0.1111111111111111,
             "#46039f"
            ],
            [
             0.2222222222222222,
             "#7201a8"
            ],
            [
             0.3333333333333333,
             "#9c179e"
            ],
            [
             0.4444444444444444,
             "#bd3786"
            ],
            [
             0.5555555555555556,
             "#d8576b"
            ],
            [
             0.6666666666666666,
             "#ed7953"
            ],
            [
             0.7777777777777778,
             "#fb9f3a"
            ],
            [
             0.8888888888888888,
             "#fdca26"
            ],
            [
             1,
             "#f0f921"
            ]
           ]
          },
          "colorway": [
           "#636efa",
           "#EF553B",
           "#00cc96",
           "#ab63fa",
           "#FFA15A",
           "#19d3f3",
           "#FF6692",
           "#B6E880",
           "#FF97FF",
           "#FECB52"
          ],
          "font": {
           "color": "#2a3f5f"
          },
          "geo": {
           "bgcolor": "white",
           "lakecolor": "white",
           "landcolor": "#E5ECF6",
           "showlakes": true,
           "showland": true,
           "subunitcolor": "white"
          },
          "hoverlabel": {
           "align": "left"
          },
          "hovermode": "closest",
          "mapbox": {
           "style": "light"
          },
          "paper_bgcolor": "white",
          "plot_bgcolor": "#E5ECF6",
          "polar": {
           "angularaxis": {
            "gridcolor": "white",
            "linecolor": "white",
            "ticks": ""
           },
           "bgcolor": "#E5ECF6",
           "radialaxis": {
            "gridcolor": "white",
            "linecolor": "white",
            "ticks": ""
           }
          },
          "scene": {
           "xaxis": {
            "backgroundcolor": "#E5ECF6",
            "gridcolor": "white",
            "gridwidth": 2,
            "linecolor": "white",
            "showbackground": true,
            "ticks": "",
            "zerolinecolor": "white"
           },
           "yaxis": {
            "backgroundcolor": "#E5ECF6",
            "gridcolor": "white",
            "gridwidth": 2,
            "linecolor": "white",
            "showbackground": true,
            "ticks": "",
            "zerolinecolor": "white"
           },
           "zaxis": {
            "backgroundcolor": "#E5ECF6",
            "gridcolor": "white",
            "gridwidth": 2,
            "linecolor": "white",
            "showbackground": true,
            "ticks": "",
            "zerolinecolor": "white"
           }
          },
          "shapedefaults": {
           "line": {
            "color": "#2a3f5f"
           }
          },
          "ternary": {
           "aaxis": {
            "gridcolor": "white",
            "linecolor": "white",
            "ticks": ""
           },
           "baxis": {
            "gridcolor": "white",
            "linecolor": "white",
            "ticks": ""
           },
           "bgcolor": "#E5ECF6",
           "caxis": {
            "gridcolor": "white",
            "linecolor": "white",
            "ticks": ""
           }
          },
          "title": {
           "x": 0.05
          },
          "xaxis": {
           "automargin": true,
           "gridcolor": "white",
           "linecolor": "white",
           "ticks": "",
           "title": {
            "standoff": 15
           },
           "zerolinecolor": "white",
           "zerolinewidth": 2
          },
          "yaxis": {
           "automargin": true,
           "gridcolor": "white",
           "linecolor": "white",
           "ticks": "",
           "title": {
            "standoff": 15
           },
           "zerolinecolor": "white",
           "zerolinewidth": 2
          }
         }
        },
        "xaxis": {
         "anchor": "y",
         "domain": [
          0,
          1
         ],
         "title": {
          "text": "importance"
         }
        },
        "yaxis": {
         "anchor": "x",
         "domain": [
          0,
          1
         ],
         "title": {
          "text": "feat_name"
         }
        }
       }
      },
      "text/html": [
       "<div>                            <div id=\"bd4c6b3e-6e90-4c53-a932-b189d6ffd102\" class=\"plotly-graph-div\" style=\"height:525px; width:100%;\"></div>            <script type=\"text/javascript\">                require([\"plotly\"], function(Plotly) {                    window.PLOTLYENV=window.PLOTLYENV || {};                                    if (document.getElementById(\"bd4c6b3e-6e90-4c53-a932-b189d6ffd102\")) {                    Plotly.newPlot(                        \"bd4c6b3e-6e90-4c53-a932-b189d6ffd102\",                        [{\"alignmentgroup\":\"True\",\"hovertemplate\":\"importance=%{x}<br>feat_name=%{y}<extra></extra>\",\"legendgroup\":\"\",\"marker\":{\"color\":\"#636efa\",\"pattern\":{\"shape\":\"\"}},\"name\":\"\",\"offsetgroup\":\"\",\"orientation\":\"h\",\"showlegend\":false,\"textposition\":\"auto\",\"x\":[2611,2635,2719,2745,2765,2887,2972,2983,2987,3025,3093,3108,3184,3741,3862,4037,4404,5495,5598,5650],\"xaxis\":\"x\",\"y\":[\"n_cell\",\"xp_var_sim\",\"pcc_cls_diff\",\"xc_abs_cls2_reg_diff\",\"xp_top_prob_1\",\"xc_top_prob_2\",\"xc_cls_cls2_diff\",\"pcc_cls2_diff\",\"xpc_var_prob\",\"xc_abs_cls_cls2_diff\",\"xc_top_prob_1\",\"code_ratio\",\"xp_var_prob\",\"xp_top_prob_0\",\"n_words\",\"xpc_pred\",\"xpc_top_prob_0\",\"xpc_cls_pred\",\"xc_reg_pred\",\"xc_cls_pred\"],\"yaxis\":\"y\",\"type\":\"bar\"}],                        {\"template\":{\"data\":{\"bar\":[{\"error_x\":{\"color\":\"#2a3f5f\"},\"error_y\":{\"color\":\"#2a3f5f\"},\"marker\":{\"line\":{\"color\":\"#E5ECF6\",\"width\":0.5},\"pattern\":{\"fillmode\":\"overlay\",\"size\":10,\"solidity\":0.2}},\"type\":\"bar\"}],\"barpolar\":[{\"marker\":{\"line\":{\"color\":\"#E5ECF6\",\"width\":0.5},\"pattern\":{\"fillmode\":\"overlay\",\"size\":10,\"solidity\":0.2}},\"type\":\"barpolar\"}],\"carpet\":[{\"aaxis\":{\"endlinecolor\":\"#2a3f5f\",\"gridcolor\":\"white\",\"linecolor\":\"white\",\"minorgridcolor\":\"white\",\"startlinecolor\":\"#2a3f5f\"},\"baxis\":{\"endlinecolor\":\"#2a3f5f\",\"gridcolor\":\"white\",\"linecolor\":\"white\",\"minorgridcolor\":\"white\",\"startlinecolor\":\"#2a3f5f\"},\"type\":\"carpet\"}],\"choropleth\":[{\"colorbar\":{\"outlinewidth\":0,\"ticks\":\"\"},\"type\":\"choropleth\"}],\"contour\":[{\"colorbar\":{\"outlinewidth\":0,\"ticks\":\"\"},\"colorscale\":[[0.0,\"#0d0887\"],[0.1111111111111111,\"#46039f\"],[0.2222222222222222,\"#7201a8\"],[0.3333333333333333,\"#9c179e\"],[0.4444444444444444,\"#bd3786\"],[0.5555555555555556,\"#d8576b\"],[0.6666666666666666,\"#ed7953\"],[0.7777777777777778,\"#fb9f3a\"],[0.8888888888888888,\"#fdca26\"],[1.0,\"#f0f921\"]],\"type\":\"contour\"}],\"contourcarpet\":[{\"colorbar\":{\"outlinewidth\":0,\"ticks\":\"\"},\"type\":\"contourcarpet\"}],\"heatmap\":[{\"colorbar\":{\"outlinewidth\":0,\"ticks\":\"\"},\"colorscale\":[[0.0,\"#0d0887\"],[0.1111111111111111,\"#46039f\"],[0.2222222222222222,\"#7201a8\"],[0.3333333333333333,\"#9c179e\"],[0.4444444444444444,\"#bd3786\"],[0.5555555555555556,\"#d8576b\"],[0.6666666666666666,\"#ed7953\"],[0.7777777777777778,\"#fb9f3a\"],[0.8888888888888888,\"#fdca26\"],[1.0,\"#f0f921\"]],\"type\":\"heatmap\"}],\"heatmapgl\":[{\"colorbar\":{\"outlinewidth\":0,\"ticks\":\"\"},\"colorscale\":[[0.0,\"#0d0887\"],[0.1111111111111111,\"#46039f\"],[0.2222222222222222,\"#7201a8\"],[0.3333333333333333,\"#9c179e\"],[0.4444444444444444,\"#bd3786\"],[0.5555555555555556,\"#d8576b\"],[0.6666666666666666,\"#ed7953\"],[0.7777777777777778,\"#fb9f3a\"],[0.8888888888888888,\"#fdca26\"],[1.0,\"#f0f921\"]],\"type\":\"heatmapgl\"}],\"histogram\":[{\"marker\":{\"pattern\":{\"fillmode\":\"overlay\",\"size\":10,\"solidity\":0.2}},\"type\":\"histogram\"}],\"histogram2d\":[{\"colorbar\":{\"outlinewidth\":0,\"ticks\":\"\"},\"colorscale\":[[0.0,\"#0d0887\"],[0.1111111111111111,\"#46039f\"],[0.2222222222222222,\"#7201a8\"],[0.3333333333333333,\"#9c179e\"],[0.4444444444444444,\"#bd3786\"],[0.5555555555555556,\"#d8576b\"],[0.6666666666666666,\"#ed7953\"],[0.7777777777777778,\"#fb9f3a\"],[0.8888888888888888,\"#fdca26\"],[1.0,\"#f0f921\"]],\"type\":\"histogram2d\"}],\"histogram2dcontour\":[{\"colorbar\":{\"outlinewidth\":0,\"ticks\":\"\"},\"colorscale\":[[0.0,\"#0d0887\"],[0.1111111111111111,\"#46039f\"],[0.2222222222222222,\"#7201a8\"],[0.3333333333333333,\"#9c179e\"],[0.4444444444444444,\"#bd3786\"],[0.5555555555555556,\"#d8576b\"],[0.6666666666666666,\"#ed7953\"],[0.7777777777777778,\"#fb9f3a\"],[0.8888888888888888,\"#fdca26\"],[1.0,\"#f0f921\"]],\"type\":\"histogram2dcontour\"}],\"mesh3d\":[{\"colorbar\":{\"outlinewidth\":0,\"ticks\":\"\"},\"type\":\"mesh3d\"}],\"parcoords\":[{\"line\":{\"colorbar\":{\"outlinewidth\":0,\"ticks\":\"\"}},\"type\":\"parcoords\"}],\"pie\":[{\"automargin\":true,\"type\":\"pie\"}],\"scatter\":[{\"marker\":{\"colorbar\":{\"outlinewidth\":0,\"ticks\":\"\"}},\"type\":\"scatter\"}],\"scatter3d\":[{\"line\":{\"colorbar\":{\"outlinewidth\":0,\"ticks\":\"\"}},\"marker\":{\"colorbar\":{\"outlinewidth\":0,\"ticks\":\"\"}},\"type\":\"scatter3d\"}],\"scattercarpet\":[{\"marker\":{\"colorbar\":{\"outlinewidth\":0,\"ticks\":\"\"}},\"type\":\"scattercarpet\"}],\"scattergeo\":[{\"marker\":{\"colorbar\":{\"outlinewidth\":0,\"ticks\":\"\"}},\"type\":\"scattergeo\"}],\"scattergl\":[{\"marker\":{\"colorbar\":{\"outlinewidth\":0,\"ticks\":\"\"}},\"type\":\"scattergl\"}],\"scattermapbox\":[{\"marker\":{\"colorbar\":{\"outlinewidth\":0,\"ticks\":\"\"}},\"type\":\"scattermapbox\"}],\"scatterpolar\":[{\"marker\":{\"colorbar\":{\"outlinewidth\":0,\"ticks\":\"\"}},\"type\":\"scatterpolar\"}],\"scatterpolargl\":[{\"marker\":{\"colorbar\":{\"outlinewidth\":0,\"ticks\":\"\"}},\"type\":\"scatterpolargl\"}],\"scatterternary\":[{\"marker\":{\"colorbar\":{\"outlinewidth\":0,\"ticks\":\"\"}},\"type\":\"scatterternary\"}],\"surface\":[{\"colorbar\":{\"outlinewidth\":0,\"ticks\":\"\"},\"colorscale\":[[0.0,\"#0d0887\"],[0.1111111111111111,\"#46039f\"],[0.2222222222222222,\"#7201a8\"],[0.3333333333333333,\"#9c179e\"],[0.4444444444444444,\"#bd3786\"],[0.5555555555555556,\"#d8576b\"],[0.6666666666666666,\"#ed7953\"],[0.7777777777777778,\"#fb9f3a\"],[0.8888888888888888,\"#fdca26\"],[1.0,\"#f0f921\"]],\"type\":\"surface\"}],\"table\":[{\"cells\":{\"fill\":{\"color\":\"#EBF0F8\"},\"line\":{\"color\":\"white\"}},\"header\":{\"fill\":{\"color\":\"#C8D4E3\"},\"line\":{\"color\":\"white\"}},\"type\":\"table\"}]},\"layout\":{\"annotationdefaults\":{\"arrowcolor\":\"#2a3f5f\",\"arrowhead\":0,\"arrowwidth\":1},\"autotypenumbers\":\"strict\",\"coloraxis\":{\"colorbar\":{\"outlinewidth\":0,\"ticks\":\"\"}},\"colorscale\":{\"diverging\":[[0,\"#8e0152\"],[0.1,\"#c51b7d\"],[0.2,\"#de77ae\"],[0.3,\"#f1b6da\"],[0.4,\"#fde0ef\"],[0.5,\"#f7f7f7\"],[0.6,\"#e6f5d0\"],[0.7,\"#b8e186\"],[0.8,\"#7fbc41\"],[0.9,\"#4d9221\"],[1,\"#276419\"]],\"sequential\":[[0.0,\"#0d0887\"],[0.1111111111111111,\"#46039f\"],[0.2222222222222222,\"#7201a8\"],[0.3333333333333333,\"#9c179e\"],[0.4444444444444444,\"#bd3786\"],[0.5555555555555556,\"#d8576b\"],[0.6666666666666666,\"#ed7953\"],[0.7777777777777778,\"#fb9f3a\"],[0.8888888888888888,\"#fdca26\"],[1.0,\"#f0f921\"]],\"sequentialminus\":[[0.0,\"#0d0887\"],[0.1111111111111111,\"#46039f\"],[0.2222222222222222,\"#7201a8\"],[0.3333333333333333,\"#9c179e\"],[0.4444444444444444,\"#bd3786\"],[0.5555555555555556,\"#d8576b\"],[0.6666666666666666,\"#ed7953\"],[0.7777777777777778,\"#fb9f3a\"],[0.8888888888888888,\"#fdca26\"],[1.0,\"#f0f921\"]]},\"colorway\":[\"#636efa\",\"#EF553B\",\"#00cc96\",\"#ab63fa\",\"#FFA15A\",\"#19d3f3\",\"#FF6692\",\"#B6E880\",\"#FF97FF\",\"#FECB52\"],\"font\":{\"color\":\"#2a3f5f\"},\"geo\":{\"bgcolor\":\"white\",\"lakecolor\":\"white\",\"landcolor\":\"#E5ECF6\",\"showlakes\":true,\"showland\":true,\"subunitcolor\":\"white\"},\"hoverlabel\":{\"align\":\"left\"},\"hovermode\":\"closest\",\"mapbox\":{\"style\":\"light\"},\"paper_bgcolor\":\"white\",\"plot_bgcolor\":\"#E5ECF6\",\"polar\":{\"angularaxis\":{\"gridcolor\":\"white\",\"linecolor\":\"white\",\"ticks\":\"\"},\"bgcolor\":\"#E5ECF6\",\"radialaxis\":{\"gridcolor\":\"white\",\"linecolor\":\"white\",\"ticks\":\"\"}},\"scene\":{\"xaxis\":{\"backgroundcolor\":\"#E5ECF6\",\"gridcolor\":\"white\",\"gridwidth\":2,\"linecolor\":\"white\",\"showbackground\":true,\"ticks\":\"\",\"zerolinecolor\":\"white\"},\"yaxis\":{\"backgroundcolor\":\"#E5ECF6\",\"gridcolor\":\"white\",\"gridwidth\":2,\"linecolor\":\"white\",\"showbackground\":true,\"ticks\":\"\",\"zerolinecolor\":\"white\"},\"zaxis\":{\"backgroundcolor\":\"#E5ECF6\",\"gridcolor\":\"white\",\"gridwidth\":2,\"linecolor\":\"white\",\"showbackground\":true,\"ticks\":\"\",\"zerolinecolor\":\"white\"}},\"shapedefaults\":{\"line\":{\"color\":\"#2a3f5f\"}},\"ternary\":{\"aaxis\":{\"gridcolor\":\"white\",\"linecolor\":\"white\",\"ticks\":\"\"},\"baxis\":{\"gridcolor\":\"white\",\"linecolor\":\"white\",\"ticks\":\"\"},\"bgcolor\":\"#E5ECF6\",\"caxis\":{\"gridcolor\":\"white\",\"linecolor\":\"white\",\"ticks\":\"\"}},\"title\":{\"x\":0.05},\"xaxis\":{\"automargin\":true,\"gridcolor\":\"white\",\"linecolor\":\"white\",\"ticks\":\"\",\"title\":{\"standoff\":15},\"zerolinecolor\":\"white\",\"zerolinewidth\":2},\"yaxis\":{\"automargin\":true,\"gridcolor\":\"white\",\"linecolor\":\"white\",\"ticks\":\"\",\"title\":{\"standoff\":15},\"zerolinecolor\":\"white\",\"zerolinewidth\":2}}},\"xaxis\":{\"anchor\":\"y\",\"domain\":[0.0,1.0],\"title\":{\"text\":\"importance\"}},\"yaxis\":{\"anchor\":\"x\",\"domain\":[0.0,1.0],\"title\":{\"text\":\"feat_name\"}},\"legend\":{\"tracegroupgap\":0},\"margin\":{\"t\":60},\"barmode\":\"relative\"},                        {\"responsive\": true}                    ).then(function(){\n",
       "                            \n",
       "var gd = document.getElementById('bd4c6b3e-6e90-4c53-a932-b189d6ffd102');\n",
       "var x = new MutationObserver(function (mutations, observer) {{\n",
       "        var display = window.getComputedStyle(gd).display;\n",
       "        if (!display || display === 'none') {{\n",
       "            console.log([gd, 'removed!']);\n",
       "            Plotly.purge(gd);\n",
       "            observer.disconnect();\n",
       "        }}\n",
       "}});\n",
       "\n",
       "// Listen for the removal of the full notebook cells\n",
       "var notebookContainer = gd.closest('#notebook-container');\n",
       "if (notebookContainer) {{\n",
       "    x.observe(notebookContainer, {childList: true});\n",
       "}}\n",
       "\n",
       "// Listen for the clearing of the current output cell\n",
       "var outputEl = gd.closest('.output');\n",
       "if (outputEl) {{\n",
       "    x.observe(outputEl, {childList: true});\n",
       "}}\n",
       "\n",
       "                        })                };                });            </script>        </div>"
      ]
     },
     "metadata": {},
     "output_type": "display_data"
    }
   ],
   "source": [
    "gezi.plot.feature_importance(lgb_model, topn=20)"
   ]
  },
  {
   "cell_type": "code",
   "execution_count": null,
   "metadata": {},
   "outputs": [
    {
     "data": {
      "application/vnd.jupyter.widget-view+json": {
       "model_id": "fda30697c7584d02bc9aca4291cf189a",
       "version_major": 2,
       "version_minor": 0
      },
      "text/plain": [
       "  0%|          | 0/5 [00:00<?, ?it/s]"
      ]
     },
     "metadata": {},
     "output_type": "display_data"
    },
    {
     "name": "stderr",
     "output_type": "stream",
     "text": [
      "[08/09/22 22:21:19] 1820686574.py:21 in <module>\n",
      "                    cbt_score: 0.919774085158211\n",
      "[08/09/22 22:21:27] 1820686574.py:36 in <module>\n",
      "                    lgb_score: 0.9196875573051557\n",
      "[08/09/22 22:21:29] 1820686574.py:38 in <module>\n",
      "                    score: 0.9199590254128134\n",
      "[08/09/22 22:21:29] 1820686574.py:43 in <module>\n",
      "                    fold: 0\n",
      "                    np.asarray(cbt_scores).mean(): 0.919774085158211\n",
      "                    np.asarray(lgb_scores).mean(): 0.9196875573051557\n",
      "                    np.asarray(scores).mean(): 0.9199590254128134\n"
     ]
    },
    {
     "name": "stdout",
     "output_type": "stream",
     "text": [
      "0:\tlearn: 0.2523508\ttest: 0.2523508\ttest1: 0.2522434\tbest: 0.2522434 (0)\ttotal: 61.5ms\tremaining: 10m 14s\n",
      "500:\tlearn: 0.0577094\ttest: 0.0577094\ttest1: 0.0573360\tbest: 0.0573360 (500)\ttotal: 18.1s\tremaining: 5m 42s\n",
      "1000:\tlearn: 0.0566176\ttest: 0.0566176\ttest1: 0.0564318\tbest: 0.0564318 (1000)\ttotal: 36.5s\tremaining: 5m 28s\n",
      "1500:\tlearn: 0.0561290\ttest: 0.0561290\ttest1: 0.0561022\tbest: 0.0561022 (1500)\ttotal: 54.7s\tremaining: 5m 9s\n",
      "2000:\tlearn: 0.0557705\ttest: 0.0557705\ttest1: 0.0559310\tbest: 0.0559310 (1997)\ttotal: 1m 12s\tremaining: 4m 51s\n",
      "2500:\tlearn: 0.0554606\ttest: 0.0554606\ttest1: 0.0558189\tbest: 0.0558189 (2500)\ttotal: 1m 31s\tremaining: 4m 33s\n",
      "3000:\tlearn: 0.0551839\ttest: 0.0551839\ttest1: 0.0557316\tbest: 0.0557310 (2998)\ttotal: 1m 49s\tremaining: 4m 14s\n"
     ]
    },
    {
     "ename": "KeyboardInterrupt",
     "evalue": "",
     "output_type": "error",
     "traceback": [
      "\u001b[0;31m---------------------------------------------------------------------------\u001b[0m",
      "\u001b[0;31mKeyboardInterrupt\u001b[0m                         Traceback (most recent call last)",
      "\u001b[0;32m/tmp/ipykernel_84331/1820686574.py\u001b[0m in \u001b[0;36m<module>\u001b[0;34m\u001b[0m\n\u001b[1;32m     14\u001b[0m     cbt_model.fit(X_train, y_train,\n\u001b[1;32m     15\u001b[0m           \u001b[0meval_set\u001b[0m\u001b[0;34m=\u001b[0m\u001b[0;34m[\u001b[0m\u001b[0;34m(\u001b[0m\u001b[0mX_train\u001b[0m\u001b[0;34m,\u001b[0m \u001b[0my_train\u001b[0m\u001b[0;34m)\u001b[0m\u001b[0;34m,\u001b[0m \u001b[0;34m(\u001b[0m\u001b[0mX_valid\u001b[0m\u001b[0;34m,\u001b[0m \u001b[0my_valid\u001b[0m\u001b[0;34m)\u001b[0m\u001b[0;34m]\u001b[0m\u001b[0;34m,\u001b[0m\u001b[0;34m\u001b[0m\u001b[0;34m\u001b[0m\u001b[0m\n\u001b[0;32m---> 16\u001b[0;31m                   \u001b[0mverbose\u001b[0m\u001b[0;34m=\u001b[0m\u001b[0;36m500\u001b[0m\u001b[0;34m,\u001b[0m\u001b[0;34m\u001b[0m\u001b[0;34m\u001b[0m\u001b[0m\n\u001b[0m\u001b[1;32m     17\u001b[0m                   )  \n\u001b[1;32m     18\u001b[0m   \u001b[0mcbt_model\u001b[0m\u001b[0;34m.\u001b[0m\u001b[0msave_model\u001b[0m\u001b[0;34m(\u001b[0m\u001b[0;34mf'../working/trees{v}/{fold}.cbt'\u001b[0m\u001b[0;34m)\u001b[0m\u001b[0;34m\u001b[0m\u001b[0;34m\u001b[0m\u001b[0m\n",
      "\u001b[0;32m/work/envs/pku/lib/python3.7/site-packages/catboost/core.py\u001b[0m in \u001b[0;36mfit\u001b[0;34m(self, X, y, cat_features, sample_weight, baseline, use_best_model, eval_set, verbose, logging_level, plot, column_description, verbose_eval, metric_period, silent, early_stopping_rounds, save_snapshot, snapshot_file, snapshot_interval, init_model, callbacks, log_cout, log_cerr)\u001b[0m\n\u001b[1;32m   5591\u001b[0m                          \u001b[0muse_best_model\u001b[0m\u001b[0;34m,\u001b[0m \u001b[0meval_set\u001b[0m\u001b[0;34m,\u001b[0m \u001b[0mverbose\u001b[0m\u001b[0;34m,\u001b[0m \u001b[0mlogging_level\u001b[0m\u001b[0;34m,\u001b[0m \u001b[0mplot\u001b[0m\u001b[0;34m,\u001b[0m \u001b[0mcolumn_description\u001b[0m\u001b[0;34m,\u001b[0m\u001b[0;34m\u001b[0m\u001b[0;34m\u001b[0m\u001b[0m\n\u001b[1;32m   5592\u001b[0m                          \u001b[0mverbose_eval\u001b[0m\u001b[0;34m,\u001b[0m \u001b[0mmetric_period\u001b[0m\u001b[0;34m,\u001b[0m \u001b[0msilent\u001b[0m\u001b[0;34m,\u001b[0m \u001b[0mearly_stopping_rounds\u001b[0m\u001b[0;34m,\u001b[0m\u001b[0;34m\u001b[0m\u001b[0;34m\u001b[0m\u001b[0m\n\u001b[0;32m-> 5593\u001b[0;31m                          save_snapshot, snapshot_file, snapshot_interval, init_model, callbacks, log_cout, log_cerr)\n\u001b[0m\u001b[1;32m   5594\u001b[0m \u001b[0;34m\u001b[0m\u001b[0m\n\u001b[1;32m   5595\u001b[0m     \u001b[0;32mdef\u001b[0m \u001b[0mpredict\u001b[0m\u001b[0;34m(\u001b[0m\u001b[0mself\u001b[0m\u001b[0;34m,\u001b[0m \u001b[0mdata\u001b[0m\u001b[0;34m,\u001b[0m \u001b[0mprediction_type\u001b[0m\u001b[0;34m=\u001b[0m\u001b[0;32mNone\u001b[0m\u001b[0;34m,\u001b[0m \u001b[0mntree_start\u001b[0m\u001b[0;34m=\u001b[0m\u001b[0;36m0\u001b[0m\u001b[0;34m,\u001b[0m \u001b[0mntree_end\u001b[0m\u001b[0;34m=\u001b[0m\u001b[0;36m0\u001b[0m\u001b[0;34m,\u001b[0m \u001b[0mthread_count\u001b[0m\u001b[0;34m=\u001b[0m\u001b[0;34m-\u001b[0m\u001b[0;36m1\u001b[0m\u001b[0;34m,\u001b[0m \u001b[0mverbose\u001b[0m\u001b[0;34m=\u001b[0m\u001b[0;32mNone\u001b[0m\u001b[0;34m,\u001b[0m \u001b[0mtask_type\u001b[0m\u001b[0;34m=\u001b[0m\u001b[0;34m\"CPU\"\u001b[0m\u001b[0;34m)\u001b[0m\u001b[0;34m:\u001b[0m\u001b[0;34m\u001b[0m\u001b[0;34m\u001b[0m\u001b[0m\n",
      "\u001b[0;32m/work/envs/pku/lib/python3.7/site-packages/catboost/core.py\u001b[0m in \u001b[0;36m_fit\u001b[0;34m(self, X, y, cat_features, text_features, embedding_features, pairs, sample_weight, group_id, group_weight, subgroup_id, pairs_weight, baseline, use_best_model, eval_set, verbose, logging_level, plot, column_description, verbose_eval, metric_period, silent, early_stopping_rounds, save_snapshot, snapshot_file, snapshot_interval, init_model, callbacks, log_cout, log_cerr)\u001b[0m\n\u001b[1;32m   2281\u001b[0m                 \u001b[0mparams\u001b[0m\u001b[0;34m,\u001b[0m\u001b[0;34m\u001b[0m\u001b[0;34m\u001b[0m\u001b[0m\n\u001b[1;32m   2282\u001b[0m                 \u001b[0mallow_clear_pool\u001b[0m\u001b[0;34m,\u001b[0m\u001b[0;34m\u001b[0m\u001b[0;34m\u001b[0m\u001b[0m\n\u001b[0;32m-> 2283\u001b[0;31m                 \u001b[0mtrain_params\u001b[0m\u001b[0;34m[\u001b[0m\u001b[0;34m\"init_model\"\u001b[0m\u001b[0;34m]\u001b[0m\u001b[0;34m\u001b[0m\u001b[0;34m\u001b[0m\u001b[0m\n\u001b[0m\u001b[1;32m   2284\u001b[0m             )\n\u001b[1;32m   2285\u001b[0m \u001b[0;34m\u001b[0m\u001b[0m\n",
      "\u001b[0;32m/work/envs/pku/lib/python3.7/site-packages/catboost/core.py\u001b[0m in \u001b[0;36m_train\u001b[0;34m(self, train_pool, test_pool, params, allow_clear_pool, init_model)\u001b[0m\n\u001b[1;32m   1703\u001b[0m \u001b[0;34m\u001b[0m\u001b[0m\n\u001b[1;32m   1704\u001b[0m     \u001b[0;32mdef\u001b[0m \u001b[0m_train\u001b[0m\u001b[0;34m(\u001b[0m\u001b[0mself\u001b[0m\u001b[0;34m,\u001b[0m \u001b[0mtrain_pool\u001b[0m\u001b[0;34m,\u001b[0m \u001b[0mtest_pool\u001b[0m\u001b[0;34m,\u001b[0m \u001b[0mparams\u001b[0m\u001b[0;34m,\u001b[0m \u001b[0mallow_clear_pool\u001b[0m\u001b[0;34m,\u001b[0m \u001b[0minit_model\u001b[0m\u001b[0;34m)\u001b[0m\u001b[0;34m:\u001b[0m\u001b[0;34m\u001b[0m\u001b[0;34m\u001b[0m\u001b[0m\n\u001b[0;32m-> 1705\u001b[0;31m         \u001b[0mself\u001b[0m\u001b[0;34m.\u001b[0m\u001b[0m_object\u001b[0m\u001b[0;34m.\u001b[0m\u001b[0m_train\u001b[0m\u001b[0;34m(\u001b[0m\u001b[0mtrain_pool\u001b[0m\u001b[0;34m,\u001b[0m \u001b[0mtest_pool\u001b[0m\u001b[0;34m,\u001b[0m \u001b[0mparams\u001b[0m\u001b[0;34m,\u001b[0m \u001b[0mallow_clear_pool\u001b[0m\u001b[0;34m,\u001b[0m \u001b[0minit_model\u001b[0m\u001b[0;34m.\u001b[0m\u001b[0m_object\u001b[0m \u001b[0;32mif\u001b[0m \u001b[0minit_model\u001b[0m \u001b[0;32melse\u001b[0m \u001b[0;32mNone\u001b[0m\u001b[0;34m)\u001b[0m\u001b[0;34m\u001b[0m\u001b[0;34m\u001b[0m\u001b[0m\n\u001b[0m\u001b[1;32m   1706\u001b[0m         \u001b[0mself\u001b[0m\u001b[0;34m.\u001b[0m\u001b[0m_set_trained_model_attributes\u001b[0m\u001b[0;34m(\u001b[0m\u001b[0;34m)\u001b[0m\u001b[0;34m\u001b[0m\u001b[0;34m\u001b[0m\u001b[0m\n\u001b[1;32m   1707\u001b[0m \u001b[0;34m\u001b[0m\u001b[0m\n",
      "\u001b[0;32m_catboost.pyx\u001b[0m in \u001b[0;36m_catboost._CatBoost._train\u001b[0;34m()\u001b[0m\n",
      "\u001b[0;32m_catboost.pyx\u001b[0m in \u001b[0;36m_catboost._CatBoost._train\u001b[0;34m()\u001b[0m\n",
      "\u001b[0;31mKeyboardInterrupt\u001b[0m: "
     ]
    }
   ],
   "source": [
    "FOLDS = 5\n",
    "cbt_scores, lgb_scores = [], []\n",
    "scores = []\n",
    "gezi.try_mkdir(f'../working/trees{v}')\n",
    "for fold in tqdm(range(FOLDS)):\n",
    "  dvalid = df[df.fold==fold]\n",
    "  dtrain = df[df.fold!=fold]\n",
    "  X_train = dtrain[cols]\n",
    "  y_train = dtrain[LABEL_COL]\n",
    "  X_valid = dvalid[cols]\n",
    "  y_valid = dvalid[LABEL_COL]\n",
    "  if fold > 0:\n",
    "    cbt_model = CatBoostRegressor(**cbt_params)\n",
    "    cbt_model.fit(X_train, y_train,\n",
    "          eval_set=[(X_train, y_train), (X_valid, y_valid)],\n",
    "                  verbose=500,\n",
    "                  )  \n",
    "  cbt_model.save_model(f'../working/trees{v}/{fold}.cbt')\n",
    "  dvalid['cbt_pred'] = cbt_model.predict(dvalid[cols])\n",
    "  cbt_score = calc_metric({'id': dvalid.id.values, 'cell_id': dvalid.cell_id.values, 'pred': dvalid.cbt_pred.values})\n",
    "  ic(cbt_score)\n",
    "  \n",
    "  d_train = lgb.Dataset(X_train, y_train)\n",
    "  d_valid = lgb.Dataset(X_valid, y_valid, reference=d_train)\n",
    "  if fold > 0:\n",
    "    lgb_model = lgb.train(params,\n",
    "                    d_train,\n",
    "                    20000,\n",
    "                    valid_sets=[d_train, d_valid],\n",
    "                    verbose_eval=500,\n",
    "                    early_stopping_rounds=200)\n",
    "  lgb_model.save_model(f'../working/trees{v}/{fold}.lgb')\n",
    "  dvalid['lgb_pred'] = lgb_model.predict(dvalid[cols])\n",
    "  \n",
    "  lgb_score = calc_metric({'id': dvalid.id.values, 'cell_id': dvalid.cell_id.values, 'pred': dvalid.lgb_pred.values})\n",
    "  ic(lgb_score)\n",
    "  score = calc_metric({'id': dvalid.id.values, 'cell_id': dvalid.cell_id.values, 'pred': (dvalid.cbt_pred.values * 0.3 + dvalid.lgb_pred.values * 0.7)})\n",
    "  ic(score)\n",
    "  \n",
    "  cbt_scores.append(cbt_score)\n",
    "  lgb_scores.append(lgb_score)\n",
    "  scores.append(score)\n",
    "  ic(fold, \n",
    "     np.asarray(cbt_scores).mean(), \n",
    "     np.asarray(lgb_scores).mean(),\n",
    "     np.asarray(scores).mean(),\n",
    "     )"
   ]
  },
  {
   "cell_type": "code",
   "execution_count": null,
   "metadata": {},
   "outputs": [],
   "source": [
    "# fold: 0\n",
    "#                     np.asarray(cbt_scores).mean(): 0.9181025338378637\n",
    "#                     np.asarray(lgb_scores).mean(): 0.9193848140698876\n",
    "#                     np.asarray(scores).mean(): 0.9195238841373282\n",
    "\n",
    "#  fold: 4\n",
    "#                     np.asarray(cbt_scores).mean(): 0.9189608630607822\n",
    "#                     np.asarray(lgb_scores).mean(): 0.9196959050732708\n",
    "#                     np.asarray(scores).mean(): 0.9199400102856614"
   ]
  },
  {
   "cell_type": "code",
   "execution_count": null,
   "metadata": {},
   "outputs": [],
   "source": []
  }
 ],
 "metadata": {
  "kernelspec": {
   "display_name": "Python 3.7.9",
   "language": "python",
   "name": "python3"
  },
  "language_info": {
   "codemirror_mode": {
    "name": "ipython",
    "version": 3
   },
   "file_extension": ".py",
   "mimetype": "text/x-python",
   "name": "python",
   "nbconvert_exporter": "python",
   "pygments_lexer": "ipython3",
   "version": "3.7.9"
  },
  "orig_nbformat": 4,
  "vscode": {
   "interpreter": {
    "hash": "828c32aa8796f4caf0c9fde9f523bba8dbc7385abbb3ec2757d19a79cb47766b"
   }
  }
 },
 "nbformat": 4,
 "nbformat_minor": 2
}
