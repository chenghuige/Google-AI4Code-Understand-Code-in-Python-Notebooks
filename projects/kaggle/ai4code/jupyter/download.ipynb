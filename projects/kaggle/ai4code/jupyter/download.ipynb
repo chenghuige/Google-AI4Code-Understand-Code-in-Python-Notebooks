{
 "cells": [
  {
   "cell_type": "code",
   "execution_count": null,
   "metadata": {},
   "outputs": [],
   "source": [
    "from gezi.common import *\n",
    "sys.path.append('..')\n",
    "gezi.set_pandas()\n",
    "# gezi.set_pandas_widder()\n",
    "from src.config import *\n",
    "gezi.init_flags()"
   ]
  },
  {
   "cell_type": "code",
   "execution_count": null,
   "metadata": {},
   "outputs": [],
   "source": [
    "FLAGS.root"
   ]
  },
  {
   "cell_type": "code",
   "execution_count": null,
   "metadata": {},
   "outputs": [],
   "source": [
    "# !wget -P {FLAGS.root}  https://github-notebooks-samples.s3-eu-west-1.amazonaws.com/ntbs_list.json "
   ]
  },
  {
   "cell_type": "code",
   "execution_count": null,
   "metadata": {},
   "outputs": [],
   "source": [
    "!wc -l {FLAGS.root}/ntbs_list.json"
   ]
  },
  {
   "cell_type": "code",
   "execution_count": null,
   "metadata": {},
   "outputs": [],
   "source": [
    "gezi.try_mkdir(f'{FLAGS.root}/ntbs')"
   ]
  },
  {
   "cell_type": "code",
   "execution_count": null,
   "metadata": {},
   "outputs": [],
   "source": [
    "NUM_NOTEBOOKS = 9941039"
   ]
  },
  {
   "cell_type": "code",
   "execution_count": null,
   "metadata": {},
   "outputs": [],
   "source": [
    "from gezi.common import *\n",
    "from urllib.request import urlretrieve\n",
    "import random\n",
    "import json\n",
    "\n",
    "def read_json(filepath):  \n",
    "  return json.load(open(filepath))\n",
    "\n",
    "def read_ipynb(file): \n",
    "  with open(file, mode= 'r', encoding= 'utf-8') as f:\n",
    "    return json.loads(f.read())\n",
    "\n",
    "notebooks_list = read_json(f'{FLAGS.root}/ntbs_list.json')\n",
    "random.seed(1024)\n",
    "random.shuffle(notebooks_list)\n",
    "\n",
    "def download(ipynb_file):\n",
    "  ipynb_save_path =  f'{FLAGS.root}/ntbs/{ipynb_file}'\n",
    "  if not os.path.exists(ipynb_save_path):\n",
    "    try:\n",
    "      urlretrieve(f'https://github-notebooks-update1.s3-eu-west-1.amazonaws.com/{ipynb_file}', ipynb_save_path)\n",
    "    except Exception as e:\n",
    "      ic(e)"
   ]
  },
  {
   "cell_type": "code",
   "execution_count": 19,
   "metadata": {},
   "outputs": [],
   "source": [
    "gezi.prun(download, notebooks_list, 100)"
   ]
  },
  {
   "cell_type": "code",
   "execution_count": null,
   "metadata": {},
   "outputs": [],
   "source": [
    "def markdown_count(x):\n",
    "  count = 0\n",
    "  for item in x['cells']:\n",
    "    if item['cell_type'] != 'code':\n",
    "      count += 1\n",
    "  return count"
   ]
  },
  {
   "cell_type": "code",
   "execution_count": null,
   "metadata": {},
   "outputs": [],
   "source": [
    "for notebook in notebooks_list:\n",
    "  file = f'{FLAGS.root}/ntbs/{notebook}'\n",
    "  count = 0\n",
    "  if os.path.exists(file):\n",
    "    x = json.load(open(file))\n",
    "    if markdown_count(x) > 0:\n",
    "      break"
   ]
  },
  {
   "cell_type": "code",
   "execution_count": null,
   "metadata": {},
   "outputs": [],
   "source": [
    "x['cells']"
   ]
  },
  {
   "cell_type": "code",
   "execution_count": null,
   "metadata": {},
   "outputs": [],
   "source": []
  }
 ],
 "metadata": {
  "kernelspec": {
   "display_name": "Python 3.7.9",
   "language": "python",
   "name": "python3"
  },
  "language_info": {
   "codemirror_mode": {
    "name": "ipython",
    "version": 3
   },
   "file_extension": ".py",
   "mimetype": "text/x-python",
   "name": "python",
   "nbconvert_exporter": "python",
   "pygments_lexer": "ipython3",
   "version": "3.7.9"
  },
  "orig_nbformat": 4,
  "vscode": {
   "interpreter": {
    "hash": "1925003cfa3979ae366740114cfe890bf8d7ad5b88e4afe0ec571fe261ed45e3"
   }
  }
 },
 "nbformat": 4,
 "nbformat_minor": 2
}
