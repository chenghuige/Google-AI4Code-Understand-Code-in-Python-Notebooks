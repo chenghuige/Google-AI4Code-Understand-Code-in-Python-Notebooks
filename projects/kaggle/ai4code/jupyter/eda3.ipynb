{
 "cells": [
  {
   "cell_type": "code",
   "execution_count": 1,
   "metadata": {},
   "outputs": [],
   "source": [
    "from gezi.common import *\n",
    "gezi.set_pd_widder()\n",
    "sys.path.append('..')\n",
    "from src import config\n",
    "from src.preprocess import *\n",
    "gezi.init_flags()"
   ]
  },
  {
   "cell_type": "code",
   "execution_count": 2,
   "metadata": {},
   "outputs": [
    {
     "name": "stderr",
     "output_type": "stream",
     "text": [
      "[07/12/22 14:46:14] config.py:265 in config_train()\n",
      "                    FLAGS.awp_train: None\n",
      "                    FLAGS.adv_epochs: 3\n",
      "                    FLAGS.adv_start_epoch: 6\n",
      "[07/12/22 14:47:19] preprocess.py:419 in get_df()\n",
      "                    gezi.get_mem_gb(): 7.983222961425781\n"
     ]
    }
   ],
   "source": [
    "config.init()\n",
    "FLAGS.folds = 5\n",
    "df = get_df()"
   ]
  },
  {
   "cell_type": "code",
   "execution_count": 6,
   "metadata": {},
   "outputs": [
    {
     "data": {
      "text/plain": [
       "0.04197567569563965"
      ]
     },
     "execution_count": 6,
     "metadata": {},
     "output_type": "execute_result"
    }
   ],
   "source": [
    "len(df[df.match_code == df.n_code_cell]) / len(df[df.cell_type=='markdown'])"
   ]
  },
  {
   "cell_type": "code",
   "execution_count": 8,
   "metadata": {},
   "outputs": [],
   "source": [
    "# root = '../working/offline/6/0'\n",
    "# model_name = 'deberta-v3-small.flag-pairwise7.eval'\n",
    "root = '../working/offline/6.sample/0'\n",
    "model_name = 'deberta-v3-small.flag-pairwise8.save_probs.save_emb'\n",
    "model_dir = f'{root}/{model_name}'\n",
    "x = gezi.load(f'{model_dir}/valid.pkl')"
   ]
  },
  {
   "cell_type": "code",
   "execution_count": 10,
   "metadata": {},
   "outputs": [
    {
     "data": {
      "text/plain": [
       "0.05731121585718555"
      ]
     },
     "execution_count": 10,
     "metadata": {},
     "output_type": "execute_result"
    }
   ],
   "source": [
    "np.asarray([float(int(pred * (n_code + 1)) == int(n_code)) \\\n",
    "                  for pred, n_code in zip(x['pred'], x['n_code_cell'])]).mean()"
   ]
  },
  {
   "cell_type": "code",
   "execution_count": 11,
   "metadata": {},
   "outputs": [
    {
     "data": {
      "text/plain": [
       "0.3134114457703739"
      ]
     },
     "execution_count": 11,
     "metadata": {},
     "output_type": "execute_result"
    }
   ],
   "source": [
    "np.asarray([float(int(pred * (n_code + 1)) == int(match_code)) \\\n",
    "                  for pred, match_code, n_code in zip(x['pred'], x['match_code'], x['n_code_cell'])]).mean()"
   ]
  },
  {
   "cell_type": "code",
   "execution_count": 12,
   "metadata": {},
   "outputs": [],
   "source": [
    "def adjust(pred, n_code):\n",
    "  a = int(pred * (n_code + 1))\n",
    "  if a == n_code:\n",
    "    return a - 1"
   ]
  },
  {
   "cell_type": "code",
   "execution_count": 13,
   "metadata": {},
   "outputs": [
    {
     "data": {
      "text/plain": [
       "0.030853549770204474"
      ]
     },
     "execution_count": 13,
     "metadata": {},
     "output_type": "execute_result"
    }
   ],
   "source": [
    "np.asarray([float(adjust(pred, n_code) == int(match_code)) \\\n",
    "                  for pred, match_code, n_code in zip(x['pred'], x['match_code'], x['n_code_cell'])]).mean()"
   ]
  },
  {
   "cell_type": "code",
   "execution_count": 14,
   "metadata": {},
   "outputs": [
    {
     "data": {
      "text/plain": [
       "dict_keys(['id', 'cell_id', 'pred', 'prob', 'match_rank', 'match_code', 'n_code_cell'])"
      ]
     },
     "execution_count": 14,
     "metadata": {},
     "output_type": "execute_result"
    }
   ],
   "source": [
    "x.keys()"
   ]
  },
  {
   "cell_type": "markdown",
   "metadata": {},
   "source": []
  }
 ],
 "metadata": {
  "kernelspec": {
   "display_name": "Python 3.7.9",
   "language": "python",
   "name": "python3"
  },
  "language_info": {
   "codemirror_mode": {
    "name": "ipython",
    "version": 3
   },
   "file_extension": ".py",
   "mimetype": "text/x-python",
   "name": "python",
   "nbconvert_exporter": "python",
   "pygments_lexer": "ipython3",
   "version": "3.7.9"
  },
  "orig_nbformat": 4,
  "vscode": {
   "interpreter": {
    "hash": "1925003cfa3979ae366740114cfe890bf8d7ad5b88e4afe0ec571fe261ed45e3"
   }
  }
 },
 "nbformat": 4,
 "nbformat_minor": 2
}
