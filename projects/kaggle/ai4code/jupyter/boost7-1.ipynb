{
 "cells": [
  {
   "cell_type": "code",
   "execution_count": 29,
   "metadata": {},
   "outputs": [],
   "source": [
    "import sys\n",
    "sys.path.append('..')\n",
    "sys.path.append('../../../../utils')\n",
    "sys.path.append('../../../../third')\n",
    "from gezi.common import *\n",
    "from src.config import *\n",
    "from src.preprocess import *\n",
    "from src.eval import *\n",
    "gezi.init_flags()\n",
    "gezi.set_pandas()"
   ]
  },
  {
   "cell_type": "code",
   "execution_count": 30,
   "metadata": {},
   "outputs": [],
   "source": [
    "v = '7-1'"
   ]
  },
  {
   "cell_type": "code",
   "execution_count": 31,
   "metadata": {},
   "outputs": [],
   "source": [
    "V = 7\n",
    "root = f'../working/offline/{V}/0'\n",
    "# pairwise two tower, recall model\n",
    "# pt_model = 'all-mpnet-base-v2.flag-pairwise14-2-pre_ext_emlm_mlm.ep1'\n",
    "# p2t_model = 'all-mpnet-base-v2.flag-pairwise14-2'\n",
    "pt_model = 'all-mpnet-base-v2.flag-pairwise14-2-pre_mlm3'\n",
    "# pt_model = 'all-mpnet-base-v2.flag-pairwise14-2'\n",
    "# pt_model2 = 'pmminilm.flag-pairwise14-2-pre_emlm_mlm-mmnilm'\n",
    "# pt_model2 = 'pmminilm.flag-pairwise14-2-pre_mlm3-pmminilm'\n",
    "# pt_model2 = 'pmminilm.flag-pairwise14-2'\n",
    "# pairwise concat, rank model\n",
    "# pc_model = 'deberta-v3-small.flag-pairwise14-4-cat-insert-extpred-ft.neg_rand_prob-0.neg_strategy-rand-sample'\n",
    "pc_model = 'deberta-v3-small.flag-pairwise14-4-cat-insert-oof-ft'\n",
    "\n",
    "# context model\n",
    "# c_model = 'deberta-v3-small.flag-context4-2-d'\n",
    "# c_model2 = 'lsg-mminilm.flag-context4-3-d-s-mminilm'\n",
    "# c_model = 'deberta-v3-small.flag-context4-2-d'\n",
    "# c_model = 'deberta-v3-small.flag-context4-2-d-oof-ft'\n",
    "# c_model = 'deberta-v3-small.flag-context4-2-d-oof-ft.list_train_ordered'\n",
    "c_model = 'deberta-v3-small.flag-context4-2-d-oof-ft.add_probs'\n",
    "c_model = 'deberta-v3-small.flag-context4-2-d-oof.add_probs'\n",
    "# c_model = 'deberta-v3-small.flag-context4-2-d-extpred-ft.0804'\n",
    "# c_model = 'deberta-v3-small.flag-context4-2-d-oof-ft.list_train_ordered'\n",
    "# c_model2 = 'lsg-mminilm.flag-context4-3-d-s-oof-ft-mminilm'"
   ]
  },
  {
   "cell_type": "code",
   "execution_count": 32,
   "metadata": {},
   "outputs": [],
   "source": [
    "df_train = pd.read_feather('../working/train.fea')\n",
    "df_train = df_train[df_train.fold==0]"
   ]
  },
  {
   "cell_type": "code",
   "execution_count": 33,
   "metadata": {},
   "outputs": [],
   "source": [
    "# d = pd.DataFrame(gezi.batch2list(xc))\n",
    "# dg = d.groupby('pred_id')\n",
    "# max_preds = dg['pred'].max()\n",
    "# min_preds = dg['pred'].min()\n",
    "# max_cls_preds = dg['cls_pred'].max()\n",
    "# min_cls_preds = dg['cls_pred'].min()"
   ]
  },
  {
   "cell_type": "code",
   "execution_count": 34,
   "metadata": {},
   "outputs": [],
   "source": [
    "# dg = df_train.groupby('id')['source'].apply(list).reset_index(name=sources)\n",
    "# dmg = df_train[df_train.cell_type=='markdown'].groupby('id')['source'].apply(list).reset_index(name=sources)\n",
    "# dcg = df_train[df_train.cell_type=='code'].groupby('id')['source'].apply(list).reset_index(name=sources)"
   ]
  },
  {
   "cell_type": "code",
   "execution_count": 35,
   "metadata": {},
   "outputs": [
    {
     "name": "stderr",
     "output_type": "stream",
     "text": [
      "[08/10/22 21:10:59] 3204525517.py:8 in <module>\n",
      "                    calc_metric(xp, 'cls_pred'): 0.8940525259130645\n",
      "[08/10/22 21:11:06] 3204525517.py:9 in <module>\n",
      "                    calc_metric(xc, 'reg_pred'): 0.9135491516384352\n",
      "[08/10/22 21:11:14] 3204525517.py:10 in <module>\n",
      "                    calc_metric(xc, 'cls_pred'): 0.9141187361031606\n",
      "[08/10/22 21:11:22] 3204525517.py:11 in <module>\n",
      "                    calc_metric(xpc, 'cls_pred'): 0.9011719210628208\n"
     ]
    },
    {
     "data": {
      "text/plain": [
       "0.9011719210628208"
      ]
     },
     "execution_count": 35,
     "metadata": {},
     "output_type": "execute_result"
    }
   ],
   "source": [
    "xp = gezi.load(f'{root}/{pt_model}.eval/valid.pkl')\n",
    "xc = gezi.load(f'{root}/{c_model}.eval/valid.pkl')\n",
    "xpc = gezi.load(f'{root}/{pc_model}.eval/valid.pkl')\n",
    "gezi.sort_dict_byid_(xp, 'cid')\n",
    "gezi.sort_dict_byid_(xc, 'cid')\n",
    "gezi.sort_dict_byid_(xpc, 'cid')\n",
    "\n",
    "ic(calc_metric(xp, 'cls_pred'))\n",
    "ic(calc_metric(xc, 'reg_pred'))\n",
    "ic(calc_metric(xc, 'cls_pred'))\n",
    "ic(calc_metric(xpc, 'cls_pred'))"
   ]
  },
  {
   "cell_type": "code",
   "execution_count": 36,
   "metadata": {},
   "outputs": [
    {
     "name": "stderr",
     "output_type": "stream",
     "text": [
      "[08/10/22 21:11:30] 2337548337.py:27 in <module>\n",
      "                    xpc['mark'].mean(): 0.5019261406823974\n",
      "[08/10/22 21:11:38] 2337548337.py:28 in <module>\n",
      "                    calc_metric(xpc, 'cls_pred'): 0.9020743859652581\n"
     ]
    },
    {
     "data": {
      "text/plain": [
       "0.9020743859652581"
      ]
     },
     "execution_count": 36,
     "metadata": {},
     "output_type": "execute_result"
    }
   ],
   "source": [
    "pc_preds = dict(zip(xpc['cid'], xpc['pred']))\n",
    "pc_cls_preds = dict(zip(xpc['cid'], xpc['cls_pred']))\n",
    "pc_probs = dict(zip(xpc['cid'], xpc['probs']))\n",
    "\n",
    "preds = []\n",
    "cls_preds = []\n",
    "probs = []\n",
    "marks = []\n",
    "for cid, pred, cls_pred, prob in zip(xp['cid'], xp['pred'], xp['cls_pred'], xp['probs']):\n",
    "  # if prob.max() < 10:\n",
    "  if prob.max() < 0.8:\n",
    "    marks.append(1)\n",
    "    preds.append(pc_preds.get(cid, pred))\n",
    "    probs.append(pc_probs.get(cid, prob))\n",
    "    cls_preds.append(pc_cls_preds.get(cid, cls_pred))\n",
    "  else:\n",
    "    marks.append(0)\n",
    "    preds.append(pred)\n",
    "    probs.append(prob)\n",
    "    cls_preds.append(cls_pred)\n",
    "    \n",
    "xpc = xp.copy()\n",
    "xpc['pred'] = np.asarray(preds)\n",
    "xpc['cls_pred'] = np.asarray(cls_preds)\n",
    "xpc['probs'] = np.asarray(probs)\n",
    "xpc['mark'] = np.asarray(marks)\n",
    "ic(xpc['mark'].mean())\n",
    "ic(calc_metric(xpc, 'cls_pred'))"
   ]
  },
  {
   "cell_type": "code",
   "execution_count": 37,
   "metadata": {},
   "outputs": [],
   "source": [
    "LABEL_COL = 'rel_rank'\n",
    "def diff_feats(x, l,r, name):\n",
    "  if isinstance(l, str):\n",
    "    x[f'{name}_diff'] = x[l] - x[r]\n",
    "  else:\n",
    "    x[f'{name}_diff'] = l - r\n",
    "  x[f'abs_{name}_diff'] = abs(x[f'{name}_diff'])\n",
    "\n",
    "def gen_pfeat(x_, topn=None):\n",
    "  x = {}\n",
    "  keys = ['pred', 'cls_pred']\n",
    "  x = {k: x_[k] for k in keys}\n",
    "  x['rank_pred'] = x['pred'] * (1 + x_['n_code_cell']) - 0.5\n",
    "  x['cls_rank_pred'] = x['cls_pred'] * (1 + x_['n_code_cell']) - 0.5\n",
    "  x['min_prob'] = x_['probs'].min()\n",
    "  x['var_prob'] = np.var(x_['probs'])\n",
    "  if 'sims' in x_:\n",
    "    x['min_sim'] = x_['sims'].min()\n",
    "    x['var_sim'] = np.var(x_['sims'])\n",
    "  \n",
    "  idxes = (-x_['probs']).argsort()\n",
    "  # topn = topn or len(idxes)\n",
    "  topn = topn or 10\n",
    "  for i in range(topn):\n",
    "    if i < len(idxes):\n",
    "      if i > 0:\n",
    "        x[f'top_pred_{i}'] = (idxes[i] + 0.5) / (x_['n_code_cell'] + 1)\n",
    "        x[f'top_rank_{i}'] = idxes[i]\n",
    "      x[f'top_prob_{i}'] = x_['probs'][idxes[i]]\n",
    "      if 'sims' in x_:\n",
    "        x[f'top_sim_{i}'] = x_['sims'][idxes[i]]\n",
    "    else:\n",
    "      x[f'top_pred_{i}'] = -1\n",
    "      x[f'top_rank_{i}'] = -1\n",
    "      x[f'top_prob_{i}'] = -1\n",
    "      if 'sims' in x_:\n",
    "        x[f'top_sim_{i}'] = -1\n",
    "  \n",
    "  diff_feats(x, 'cls_pred', 'pred', 'cls')\n",
    "  diff_feats(x, 'cls_rank_pred', 'rank_pred', 'cls_rank')\n",
    "  return x\n",
    "\n",
    "def gen_cfeat(x_):\n",
    "  topn = min(10, len(x_['cls_pred_ori']))\n",
    "  x = {}\n",
    "  keys = [\n",
    "    # 'pred', \n",
    "    'cls_pred', \n",
    "    'reg_pred', \n",
    "    'cls2_pred', \n",
    "    'group_pos',\n",
    "    'group_rank',\n",
    "    ]\n",
    "  x = {k: x_[k] for k in keys}\n",
    "  x['cls_rank_pred'] = x['cls_pred'] * FLAGS.num_classes - 0.5\n",
    "  x['cls2_rank_pred'] = x['cls2_pred'] * FLAGS.num_classes - 0.5\n",
    "  x['reg_rank_pred'] = x['reg_pred'] * FLAGS.num_classes - 0.5\n",
    "  preds = x_['cls_pred_ori']\n",
    "  probs = gezi.softmax(preds)\n",
    "  x['min_prob'] = probs.min()\n",
    "  x['var_prob'] = np.var(probs)\n",
    "  idxes = (-probs).argsort()\n",
    "\n",
    "  for i in range(topn):\n",
    "    if i < len(idxes):\n",
    "      if i > 0:\n",
    "        x[f'top_pred_{i}'] = (idxes[i] + 0.5) / FLAGS.num_classes\n",
    "        x[f'tpop_rank_{i}']  = idxes[i] \n",
    "      x[f'top_prob_{i}'] = probs[idxes[i]]\n",
    "    else:\n",
    "      x[f'top_pred_{i}'] = -1\n",
    "      x[f'top_rank_{i}'] = -1\n",
    "      x[f'top_prob_{i}'] = -1\n",
    "  diff_feats(x, 'cls_pred', 'reg_pred', 'cls_reg')\n",
    "  diff_feats(x, 'cls_pred', 'cls2_pred', 'cls_cls2')\n",
    "  diff_feats(x, 'cls2_pred', 'reg_pred', 'cls2_reg')\n",
    "  diff_feats(x, 'cls_rank_pred', 'reg_rank_pred', 'cls_reg_rank')\n",
    "  diff_feats(x, 'cls_rank_pred', 'cls2_rank_pred', 'cls_cls2_rank')\n",
    "  diff_feats(x, 'cls2_rank_pred', 'reg_rank_pred', 'cls2_reg_rank')\n",
    "  # group_id = x_['pred_id']\n",
    "  # x['max_pred'] = max_preds[group_id]\n",
    "  # x['min_pred'] = min_preds[group_id]\n",
    "  # x['pred_ratio'] = (x['pred'] - x['min_pred']) / (x['max_pred'] - x['min_pred']) if (x['max_pred'] - x['min_pred']) else 1\n",
    "  # x['max_cls_pred'] = max_cls_preds[group_id]\n",
    "  # x['min_cls_pred'] = min_cls_preds[group_id]\n",
    "  # x['cls_pred_ratio'] = (x['cls_pred'] - x['min_cls_pred']) / (x['max_cls_pred'] - x['min_cls_pred']) if (x['max_cls_pred'] - x['min_cls_pred']) else 1\n",
    "  \n",
    "  return x\n",
    "\n",
    "def gen_feats():\n",
    "  xs = gezi.batch2list(xp)\n",
    "  p_feats = [gen_pfeat(x) for x in tqdm(xs, desc=f'gen_pfeats:xp')]\n",
    "  xs = gezi.batch2list(xc)\n",
    "  c_feats = [gen_cfeat(x) for x in tqdm(xs, desc=f'gen_cfeats:xc')]\n",
    "  xs = gezi.batch2list(xpc)\n",
    "  pc_feats = [gen_pfeat(x, topn=3) for x in tqdm(xs, desc=f'gen_pfeats:xpc')]\n",
    "\n",
    "  feats = []\n",
    "  for i in tqdm(range(len(p_feats)), desc='merge_feats'):\n",
    "    fe1 = p_feats[i]\n",
    "    fec = c_feats[i]\n",
    "    fepc = pc_feats[i]\n",
    "    fepc['mark'] = xpc['mark'][i]\n",
    "    \n",
    "    fe = {}\n",
    "    fe['code_ratio'] = xp['n_code_cell'][i] / xp['n_cell'][i]\n",
    "    diff_feats(fe, fe1['pred'], fec['reg_pred'], 'pc_reg')\n",
    "    diff_feats(fe, fe1['pred'], fec['cls_pred'], 'pc_cls')\n",
    "    diff_feats(fe, fe1['pred'], fec['cls2_pred'], 'pc_cls2')\n",
    "    diff_feats(fe, fe1['cls_pred'], fec['reg_pred'], 'pc_cls_reg')\n",
    "    diff_feats(fe, fe1['cls_pred'], fec['cls_pred'], 'pc_cls_cls')\n",
    "    diff_feats(fe, fe1['cls_pred'], fec['cls2_pred'], 'pc_cls_cls2')\n",
    "    \n",
    "    diff_feats(fe, fepc['pred'], fec['reg_pred'], 'pcc_reg')\n",
    "    diff_feats(fe, fepc['pred'], fec['cls_pred'], 'pcc_cls')\n",
    "    diff_feats(fe, fepc['pred'], fec['cls2_pred'], 'pcc_cls2')\n",
    "    diff_feats(fe, fepc['cls_pred'], fec['reg_pred'], 'pcc_cls_reg')\n",
    "    diff_feats(fe, fepc['cls_pred'], fec['cls_pred'], 'pcc_cls_cls')\n",
    "    diff_feats(fe, fepc['cls_pred'], fec['cls2_pred'], 'pcc_cls_cls2')\n",
    "    \n",
    "    diff_feats(fe, fe1['rank_pred'], fec['reg_rank_pred'], 'pc_cls_rank')\n",
    "    diff_feats(fe, fe1['cls_rank_pred'], fec['reg_rank_pred'], 'pc_cls_reg_rank')\n",
    "    diff_feats(fe, fepc['rank_pred'], fec['reg_rank_pred'], 'pcc_cls_rank')\n",
    "    diff_feats(fe, fepc['cls_rank_pred'], fec['reg_rank_pred'], 'pcc_cls_reg_rank')\n",
    "\n",
    "    fe1 = gezi.dict_prefix(fe1, 'xp_')\n",
    "    fe.update(fe1)\n",
    "    fec = gezi.dict_prefix(fec, 'xc_')\n",
    "    fe.update(fec)\n",
    "    fepc = gezi.dict_prefix(fepc, 'xpc_')\n",
    "    fe.update(fepc)\n",
    "\n",
    "    keys = [\n",
    "     'id', 'cell_id', 'cid',\n",
    "     'n_words', 'n_code_cell', 'n_cell'\n",
    "    ]\n",
    "    for key in keys:\n",
    "      fe[key] = xp[key][i]\n",
    "      \n",
    "    #  ic(feat)\n",
    "    feats.append(fe)\n",
    "  #  break\n",
    "  dfeats = pd.DataFrame(feats)\n",
    "  return dfeats"
   ]
  },
  {
   "cell_type": "code",
   "execution_count": 38,
   "metadata": {},
   "outputs": [
    {
     "data": {
      "application/vnd.jupyter.widget-view+json": {
       "model_id": "ab834cfe402147fdb6cf9c62f7bca2d0",
       "version_major": 2,
       "version_minor": 0
      },
      "text/plain": [
       "gen_pfeats:xp:   0%|          | 0/424943 [00:00<?, ?it/s]"
      ]
     },
     "metadata": {},
     "output_type": "display_data"
    },
    {
     "data": {
      "application/vnd.jupyter.widget-view+json": {
       "model_id": "f178e76ae8d24639a00bb79f9935dab1",
       "version_major": 2,
       "version_minor": 0
      },
      "text/plain": [
       "gen_cfeats:xc:   0%|          | 0/424943 [00:00<?, ?it/s]"
      ]
     },
     "metadata": {},
     "output_type": "display_data"
    },
    {
     "data": {
      "application/vnd.jupyter.widget-view+json": {
       "model_id": "1c8e2b77c56e4adbaa73400a6e7ee200",
       "version_major": 2,
       "version_minor": 0
      },
      "text/plain": [
       "gen_pfeats:xpc:   0%|          | 0/424943 [00:00<?, ?it/s]"
      ]
     },
     "metadata": {},
     "output_type": "display_data"
    },
    {
     "data": {
      "application/vnd.jupyter.widget-view+json": {
       "model_id": "aad5150f375349e1b70a225e329c55fc",
       "version_major": 2,
       "version_minor": 0
      },
      "text/plain": [
       "merge_feats:   0%|          | 0/424943 [00:00<?, ?it/s]"
      ]
     },
     "metadata": {},
     "output_type": "display_data"
    }
   ],
   "source": [
    "dfeats = gen_feats()"
   ]
  },
  {
   "cell_type": "code",
   "execution_count": 39,
   "metadata": {},
   "outputs": [],
   "source": [
    "df = dfeats.merge(df_train[['cid', 'ancestor_id', LABEL_COL]], on='cid')"
   ]
  },
  {
   "cell_type": "code",
   "execution_count": 40,
   "metadata": {},
   "outputs": [],
   "source": [
    "gezi.set_fold(df, 5, 'ancestor_id')"
   ]
  },
  {
   "cell_type": "code",
   "execution_count": 41,
   "metadata": {},
   "outputs": [
    {
     "data": {
      "text/plain": [
       "159"
      ]
     },
     "execution_count": 41,
     "metadata": {},
     "output_type": "execute_result"
    }
   ],
   "source": [
    "reg_cols = [x for x in dfeats.columns if x not in ['id', 'cell_id', 'cid', LABEL_COL]]\n",
    "cat_cols = []\n",
    "cols = reg_cols + cat_cols\n",
    "len(cols)"
   ]
  },
  {
   "cell_type": "code",
   "execution_count": 42,
   "metadata": {},
   "outputs": [],
   "source": [
    "df['cls_label'] = df.rel_rank.apply(lambda x: int(x * 100))\n",
    "LABEL_COL = 'rel_rank'"
   ]
  },
  {
   "cell_type": "code",
   "execution_count": 43,
   "metadata": {},
   "outputs": [
    {
     "data": {
      "text/plain": [
       "99"
      ]
     },
     "execution_count": 43,
     "metadata": {},
     "output_type": "execute_result"
    }
   ],
   "source": [
    "df.cls_label.max()"
   ]
  },
  {
   "cell_type": "code",
   "execution_count": 44,
   "metadata": {},
   "outputs": [],
   "source": [
    "fold = 0\n",
    "dvalid = df[df.fold==fold]\n",
    "dtrain = df[df.fold!=fold]"
   ]
  },
  {
   "cell_type": "code",
   "execution_count": 45,
   "metadata": {},
   "outputs": [],
   "source": [
    "X_train = dtrain[cols]\n",
    "y_train = dtrain[LABEL_COL]\n",
    "X_valid = dvalid[cols]\n",
    "y_valid = dvalid[LABEL_COL]"
   ]
  },
  {
   "cell_type": "code",
   "execution_count": 46,
   "metadata": {},
   "outputs": [],
   "source": [
    "from catboost import CatBoostRegressor, CatBoostRanker, CatBoostClassifier\n",
    "cbt_params = {\n",
    "              # 'bootstrap_type': 'Poisson',\n",
    "              # 'learning_rate': 0.02,\n",
    "              'learning_rate': 0.03,\n",
    "              # 'reg_lambda': 7.960622217848342e-07, \n",
    "              'l2_leaf_reg': 3,\n",
    "              'subsample': 0.7422597612762745,\n",
    "              # 'bagging_temperature': 0.2,\n",
    "              # 'max_depth': 10, \n",
    "              # 'max_depth': 8,\n",
    "              'max_depth': 6,\n",
    "              # 'max_depth': 5,\n",
    "              'early_stopping_rounds': 500,\n",
    "              'n_estimators': 10000,\n",
    "              'cat_features': [],\n",
    "              'loss_function': 'MAE',\n",
    "              'min_child_samples': 100,\n",
    "              # 'task_type': 'GPU',\n",
    "              # 'devices': '0',\n",
    "              }"
   ]
  },
  {
   "cell_type": "code",
   "execution_count": 47,
   "metadata": {},
   "outputs": [
    {
     "name": "stdout",
     "output_type": "stream",
     "text": [
      "0:\tlearn: 0.2523023\ttest: 0.2523023\ttest1: 0.2522493\tbest: 0.2522493 (0)\ttotal: 48.3ms\tremaining: 8m 3s\n",
      "100:\tlearn: 0.0656261\ttest: 0.0656261\ttest1: 0.0668349\tbest: 0.0668349 (100)\ttotal: 3.94s\tremaining: 6m 26s\n",
      "200:\tlearn: 0.0589955\ttest: 0.0589955\ttest1: 0.0604284\tbest: 0.0604284 (200)\ttotal: 7.68s\tremaining: 6m 14s\n",
      "300:\tlearn: 0.0582516\ttest: 0.0582516\ttest1: 0.0597288\tbest: 0.0597288 (300)\ttotal: 11.4s\tremaining: 6m 8s\n",
      "400:\tlearn: 0.0576269\ttest: 0.0576269\ttest1: 0.0591451\tbest: 0.0591451 (400)\ttotal: 15.4s\tremaining: 6m 9s\n",
      "500:\tlearn: 0.0570984\ttest: 0.0570984\ttest1: 0.0586615\tbest: 0.0586615 (500)\ttotal: 19.4s\tremaining: 6m 6s\n",
      "600:\tlearn: 0.0566869\ttest: 0.0566869\ttest1: 0.0583025\tbest: 0.0583025 (600)\ttotal: 23.2s\tremaining: 6m 3s\n",
      "700:\tlearn: 0.0564000\ttest: 0.0564000\ttest1: 0.0580595\tbest: 0.0580595 (700)\ttotal: 27.1s\tremaining: 5m 59s\n",
      "800:\tlearn: 0.0561672\ttest: 0.0561672\ttest1: 0.0578728\tbest: 0.0578728 (800)\ttotal: 31s\tremaining: 5m 56s\n",
      "900:\tlearn: 0.0560024\ttest: 0.0560024\ttest1: 0.0577483\tbest: 0.0577483 (900)\ttotal: 35s\tremaining: 5m 53s\n",
      "1000:\tlearn: 0.0558650\ttest: 0.0558650\ttest1: 0.0576452\tbest: 0.0576452 (1000)\ttotal: 39s\tremaining: 5m 50s\n",
      "1100:\tlearn: 0.0557324\ttest: 0.0557324\ttest1: 0.0575519\tbest: 0.0575519 (1100)\ttotal: 42.9s\tremaining: 5m 46s\n",
      "1200:\tlearn: 0.0556280\ttest: 0.0556280\ttest1: 0.0574803\tbest: 0.0574803 (1200)\ttotal: 46.8s\tremaining: 5m 42s\n",
      "1300:\tlearn: 0.0555461\ttest: 0.0555461\ttest1: 0.0574252\tbest: 0.0574252 (1300)\ttotal: 50.7s\tremaining: 5m 38s\n",
      "1400:\tlearn: 0.0554643\ttest: 0.0554643\ttest1: 0.0573779\tbest: 0.0573779 (1400)\ttotal: 54.6s\tremaining: 5m 35s\n",
      "1500:\tlearn: 0.0553945\ttest: 0.0553945\ttest1: 0.0573387\tbest: 0.0573387 (1500)\ttotal: 58.6s\tremaining: 5m 31s\n",
      "1600:\tlearn: 0.0553245\ttest: 0.0553245\ttest1: 0.0573005\tbest: 0.0573005 (1600)\ttotal: 1m 2s\tremaining: 5m 27s\n",
      "1700:\tlearn: 0.0552503\ttest: 0.0552503\ttest1: 0.0572679\tbest: 0.0572679 (1700)\ttotal: 1m 6s\tremaining: 5m 23s\n",
      "1800:\tlearn: 0.0551830\ttest: 0.0551830\ttest1: 0.0572299\tbest: 0.0572299 (1800)\ttotal: 1m 10s\tremaining: 5m 19s\n",
      "1900:\tlearn: 0.0551217\ttest: 0.0551217\ttest1: 0.0571989\tbest: 0.0571989 (1899)\ttotal: 1m 14s\tremaining: 5m 15s\n",
      "2000:\tlearn: 0.0550573\ttest: 0.0550573\ttest1: 0.0571926\tbest: 0.0571886 (1944)\ttotal: 1m 17s\tremaining: 5m 11s\n",
      "2100:\tlearn: 0.0550009\ttest: 0.0550009\ttest1: 0.0571712\tbest: 0.0571711 (2099)\ttotal: 1m 21s\tremaining: 5m 6s\n",
      "2200:\tlearn: 0.0549476\ttest: 0.0549476\ttest1: 0.0571567\tbest: 0.0571567 (2200)\ttotal: 1m 25s\tremaining: 5m 2s\n",
      "2300:\tlearn: 0.0548978\ttest: 0.0548978\ttest1: 0.0571548\tbest: 0.0571476 (2256)\ttotal: 1m 29s\tremaining: 4m 58s\n",
      "2400:\tlearn: 0.0548564\ttest: 0.0548564\ttest1: 0.0571354\tbest: 0.0571354 (2400)\ttotal: 1m 33s\tremaining: 4m 54s\n",
      "2500:\tlearn: 0.0548098\ttest: 0.0548098\ttest1: 0.0571455\tbest: 0.0571282 (2445)\ttotal: 1m 36s\tremaining: 4m 50s\n",
      "2600:\tlearn: 0.0547631\ttest: 0.0547631\ttest1: 0.0571439\tbest: 0.0571282 (2445)\ttotal: 1m 40s\tremaining: 4m 46s\n",
      "2700:\tlearn: 0.0547192\ttest: 0.0547192\ttest1: 0.0571247\tbest: 0.0571247 (2700)\ttotal: 1m 44s\tremaining: 4m 42s\n",
      "2800:\tlearn: 0.0546708\ttest: 0.0546708\ttest1: 0.0571341\tbest: 0.0571153 (2782)\ttotal: 1m 48s\tremaining: 4m 38s\n",
      "2900:\tlearn: 0.0546259\ttest: 0.0546259\ttest1: 0.0571230\tbest: 0.0571153 (2782)\ttotal: 1m 52s\tremaining: 4m 34s\n",
      "3000:\tlearn: 0.0545905\ttest: 0.0545905\ttest1: 0.0571083\tbest: 0.0571083 (3000)\ttotal: 1m 55s\tremaining: 4m 29s\n",
      "3100:\tlearn: 0.0545401\ttest: 0.0545401\ttest1: 0.0570997\tbest: 0.0570997 (3100)\ttotal: 1m 59s\tremaining: 4m 25s\n",
      "3200:\tlearn: 0.0544959\ttest: 0.0544959\ttest1: 0.0570889\tbest: 0.0570869 (3191)\ttotal: 2m 3s\tremaining: 4m 22s\n",
      "3300:\tlearn: 0.0544520\ttest: 0.0544520\ttest1: 0.0570840\tbest: 0.0570840 (3298)\ttotal: 2m 7s\tremaining: 4m 19s\n",
      "3400:\tlearn: 0.0544027\ttest: 0.0544027\ttest1: 0.0571212\tbest: 0.0570804 (3317)\ttotal: 2m 11s\tremaining: 4m 14s\n",
      "3500:\tlearn: 0.0543602\ttest: 0.0543602\ttest1: 0.0571086\tbest: 0.0570804 (3317)\ttotal: 2m 15s\tremaining: 4m 10s\n",
      "3600:\tlearn: 0.0543154\ttest: 0.0543154\ttest1: 0.0571256\tbest: 0.0570804 (3317)\ttotal: 2m 18s\tremaining: 4m 6s\n",
      "3700:\tlearn: 0.0542692\ttest: 0.0542692\ttest1: 0.0571209\tbest: 0.0570804 (3317)\ttotal: 2m 22s\tremaining: 4m 1s\n",
      "3800:\tlearn: 0.0542387\ttest: 0.0542387\ttest1: 0.0571157\tbest: 0.0570804 (3317)\ttotal: 2m 25s\tremaining: 3m 57s\n",
      "Stopped by overfitting detector  (500 iterations wait)\n",
      "\n",
      "bestTest = 0.05708039665\n",
      "bestIteration = 3317\n",
      "\n",
      "Shrink model to first 3318 iterations.\n"
     ]
    },
    {
     "name": "stderr",
     "output_type": "stream",
     "text": [
      "[08/10/22 21:18:44] 3198672829.py:8 in <module>\n",
      "                    cbt_score: 0.9197134114106469\n"
     ]
    },
    {
     "data": {
      "text/plain": [
       "0.9197134114106469"
      ]
     },
     "execution_count": 47,
     "metadata": {},
     "output_type": "execute_result"
    }
   ],
   "source": [
    "cbt_model = CatBoostRegressor(**cbt_params)\n",
    "cbt_model.fit(X_train, y_train,\n",
    "      eval_set=[(X_train, y_train), (X_valid, y_valid)],\n",
    "              verbose=100,\n",
    "              )  \n",
    "dvalid['cbt_pred'] = cbt_model.predict(dvalid[cols])\n",
    "cbt_score = calc_metric({'id': dvalid.id.values, 'cell_id': dvalid.cell_id.values, 'pred': dvalid.cbt_pred.values})\n",
    "ic(cbt_score)"
   ]
  },
  {
   "cell_type": "code",
   "execution_count": 48,
   "metadata": {},
   "outputs": [
    {
     "data": {
      "text/html": [
       "<div>\n",
       "<style scoped>\n",
       "    .dataframe tbody tr th:only-of-type {\n",
       "        vertical-align: middle;\n",
       "    }\n",
       "\n",
       "    .dataframe tbody tr th {\n",
       "        vertical-align: top;\n",
       "    }\n",
       "\n",
       "    .dataframe thead th {\n",
       "        text-align: right;\n",
       "    }\n",
       "</style>\n",
       "<table border=\"1\" class=\"dataframe\">\n",
       "  <thead>\n",
       "    <tr style=\"text-align: right;\">\n",
       "      <th></th>\n",
       "      <th>code_ratio</th>\n",
       "      <th>pc_reg_diff</th>\n",
       "      <th>abs_pc_reg_diff</th>\n",
       "      <th>pc_cls_diff</th>\n",
       "      <th>abs_pc_cls_diff</th>\n",
       "      <th>pc_cls2_diff</th>\n",
       "      <th>abs_pc_cls2_diff</th>\n",
       "      <th>pc_cls_reg_diff</th>\n",
       "      <th>abs_pc_cls_reg_diff</th>\n",
       "      <th>pc_cls_cls_diff</th>\n",
       "      <th>abs_pc_cls_cls_diff</th>\n",
       "      <th>pc_cls_cls2_diff</th>\n",
       "      <th>abs_pc_cls_cls2_diff</th>\n",
       "      <th>pcc_reg_diff</th>\n",
       "      <th>abs_pcc_reg_diff</th>\n",
       "      <th>pcc_cls_diff</th>\n",
       "      <th>abs_pcc_cls_diff</th>\n",
       "      <th>pcc_cls2_diff</th>\n",
       "      <th>abs_pcc_cls2_diff</th>\n",
       "      <th>pcc_cls_reg_diff</th>\n",
       "      <th>abs_pcc_cls_reg_diff</th>\n",
       "      <th>pcc_cls_cls_diff</th>\n",
       "      <th>abs_pcc_cls_cls_diff</th>\n",
       "      <th>pcc_cls_cls2_diff</th>\n",
       "      <th>abs_pcc_cls_cls2_diff</th>\n",
       "      <th>pc_cls_rank_diff</th>\n",
       "      <th>abs_pc_cls_rank_diff</th>\n",
       "      <th>pc_cls_reg_rank_diff</th>\n",
       "      <th>abs_pc_cls_reg_rank_diff</th>\n",
       "      <th>pcc_cls_rank_diff</th>\n",
       "      <th>abs_pcc_cls_rank_diff</th>\n",
       "      <th>pcc_cls_reg_rank_diff</th>\n",
       "      <th>abs_pcc_cls_reg_rank_diff</th>\n",
       "      <th>xp_pred</th>\n",
       "      <th>xp_cls_pred</th>\n",
       "      <th>xp_rank_pred</th>\n",
       "      <th>xp_cls_rank_pred</th>\n",
       "      <th>xp_min_prob</th>\n",
       "      <th>xp_var_prob</th>\n",
       "      <th>xp_min_sim</th>\n",
       "      <th>xp_var_sim</th>\n",
       "      <th>xp_top_prob_0</th>\n",
       "      <th>xp_top_sim_0</th>\n",
       "      <th>xp_top_pred_1</th>\n",
       "      <th>xp_top_rank_1</th>\n",
       "      <th>xp_top_prob_1</th>\n",
       "      <th>xp_top_sim_1</th>\n",
       "      <th>xp_top_pred_2</th>\n",
       "      <th>xp_top_rank_2</th>\n",
       "      <th>xp_top_prob_2</th>\n",
       "      <th>xp_top_sim_2</th>\n",
       "      <th>xp_top_pred_3</th>\n",
       "      <th>xp_top_rank_3</th>\n",
       "      <th>xp_top_prob_3</th>\n",
       "      <th>xp_top_sim_3</th>\n",
       "      <th>xp_top_pred_4</th>\n",
       "      <th>xp_top_rank_4</th>\n",
       "      <th>xp_top_prob_4</th>\n",
       "      <th>xp_top_sim_4</th>\n",
       "      <th>xp_top_pred_5</th>\n",
       "      <th>xp_top_rank_5</th>\n",
       "      <th>xp_top_prob_5</th>\n",
       "      <th>xp_top_sim_5</th>\n",
       "      <th>xp_top_pred_6</th>\n",
       "      <th>xp_top_rank_6</th>\n",
       "      <th>xp_top_prob_6</th>\n",
       "      <th>xp_top_sim_6</th>\n",
       "      <th>xp_top_pred_7</th>\n",
       "      <th>xp_top_rank_7</th>\n",
       "      <th>xp_top_prob_7</th>\n",
       "      <th>xp_top_sim_7</th>\n",
       "      <th>xp_top_pred_8</th>\n",
       "      <th>xp_top_rank_8</th>\n",
       "      <th>xp_top_prob_8</th>\n",
       "      <th>xp_top_sim_8</th>\n",
       "      <th>xp_top_pred_9</th>\n",
       "      <th>xp_top_rank_9</th>\n",
       "      <th>xp_top_prob_9</th>\n",
       "      <th>xp_top_sim_9</th>\n",
       "      <th>xp_cls_diff</th>\n",
       "      <th>xp_abs_cls_diff</th>\n",
       "      <th>xp_cls_rank_diff</th>\n",
       "      <th>xp_abs_cls_rank_diff</th>\n",
       "      <th>xc_cls_pred</th>\n",
       "      <th>xc_reg_pred</th>\n",
       "      <th>xc_cls2_pred</th>\n",
       "      <th>xc_group_pos</th>\n",
       "      <th>xc_group_rank</th>\n",
       "      <th>xc_cls_rank_pred</th>\n",
       "      <th>xc_cls2_rank_pred</th>\n",
       "      <th>xc_reg_rank_pred</th>\n",
       "      <th>xc_min_prob</th>\n",
       "      <th>xc_var_prob</th>\n",
       "      <th>xc_top_prob_0</th>\n",
       "      <th>xc_top_pred_1</th>\n",
       "      <th>xc_tpop_rank_1</th>\n",
       "      <th>xc_top_prob_1</th>\n",
       "      <th>xc_top_pred_2</th>\n",
       "      <th>xc_tpop_rank_2</th>\n",
       "      <th>xc_top_prob_2</th>\n",
       "      <th>xc_top_pred_3</th>\n",
       "      <th>xc_tpop_rank_3</th>\n",
       "      <th>xc_top_prob_3</th>\n",
       "      <th>xc_top_pred_4</th>\n",
       "      <th>xc_tpop_rank_4</th>\n",
       "      <th>xc_top_prob_4</th>\n",
       "      <th>xc_top_pred_5</th>\n",
       "      <th>xc_tpop_rank_5</th>\n",
       "      <th>xc_top_prob_5</th>\n",
       "      <th>xc_top_pred_6</th>\n",
       "      <th>xc_tpop_rank_6</th>\n",
       "      <th>xc_top_prob_6</th>\n",
       "      <th>xc_top_pred_7</th>\n",
       "      <th>xc_tpop_rank_7</th>\n",
       "      <th>xc_top_prob_7</th>\n",
       "      <th>xc_top_pred_8</th>\n",
       "      <th>xc_tpop_rank_8</th>\n",
       "      <th>xc_top_prob_8</th>\n",
       "      <th>xc_top_pred_9</th>\n",
       "      <th>xc_tpop_rank_9</th>\n",
       "      <th>xc_top_prob_9</th>\n",
       "      <th>xc_cls_reg_diff</th>\n",
       "      <th>xc_abs_cls_reg_diff</th>\n",
       "      <th>xc_cls_cls2_diff</th>\n",
       "      <th>xc_abs_cls_cls2_diff</th>\n",
       "      <th>xc_cls2_reg_diff</th>\n",
       "      <th>xc_abs_cls2_reg_diff</th>\n",
       "      <th>xc_cls_reg_rank_diff</th>\n",
       "      <th>xc_abs_cls_reg_rank_diff</th>\n",
       "      <th>xc_cls_cls2_rank_diff</th>\n",
       "      <th>xc_abs_cls_cls2_rank_diff</th>\n",
       "      <th>xc_cls2_reg_rank_diff</th>\n",
       "      <th>xc_abs_cls2_reg_rank_diff</th>\n",
       "      <th>xpc_pred</th>\n",
       "      <th>xpc_cls_pred</th>\n",
       "      <th>xpc_rank_pred</th>\n",
       "      <th>xpc_cls_rank_pred</th>\n",
       "      <th>xpc_min_prob</th>\n",
       "      <th>xpc_var_prob</th>\n",
       "      <th>xpc_min_sim</th>\n",
       "      <th>xpc_var_sim</th>\n",
       "      <th>xpc_top_prob_0</th>\n",
       "      <th>xpc_top_sim_0</th>\n",
       "      <th>xpc_top_pred_1</th>\n",
       "      <th>xpc_top_rank_1</th>\n",
       "      <th>xpc_top_prob_1</th>\n",
       "      <th>xpc_top_sim_1</th>\n",
       "      <th>xpc_top_pred_2</th>\n",
       "      <th>xpc_top_rank_2</th>\n",
       "      <th>xpc_top_prob_2</th>\n",
       "      <th>xpc_top_sim_2</th>\n",
       "      <th>xpc_cls_diff</th>\n",
       "      <th>xpc_abs_cls_diff</th>\n",
       "      <th>xpc_cls_rank_diff</th>\n",
       "      <th>xpc_abs_cls_rank_diff</th>\n",
       "      <th>xpc_mark</th>\n",
       "      <th>id</th>\n",
       "      <th>cell_id</th>\n",
       "      <th>cid</th>\n",
       "      <th>n_words</th>\n",
       "      <th>n_code_cell</th>\n",
       "      <th>n_cell</th>\n",
       "      <th>ancestor_id</th>\n",
       "      <th>rel_rank</th>\n",
       "      <th>fold</th>\n",
       "      <th>cls_label</th>\n",
       "      <th>cbt_pred</th>\n",
       "    </tr>\n",
       "  </thead>\n",
       "  <tbody>\n",
       "    <tr>\n",
       "      <th>54</th>\n",
       "      <td>0.5895</td>\n",
       "      <td>-0.0030</td>\n",
       "      <td>0.0030</td>\n",
       "      <td>-0.0004</td>\n",
       "      <td>0.0004</td>\n",
       "      <td>0.0018</td>\n",
       "      <td>0.0018</td>\n",
       "      <td>-0.0008</td>\n",
       "      <td>0.0008</td>\n",
       "      <td>0.0019</td>\n",
       "      <td>0.0019</td>\n",
       "      <td>0.0041</td>\n",
       "      <td>0.0041</td>\n",
       "      <td>-0.0030</td>\n",
       "      <td>0.0030</td>\n",
       "      <td>-0.0004</td>\n",
       "      <td>0.0004</td>\n",
       "      <td>0.0018</td>\n",
       "      <td>0.0018</td>\n",
       "      <td>-0.0008</td>\n",
       "      <td>0.0008</td>\n",
       "      <td>0.0019</td>\n",
       "      <td>0.0019</td>\n",
       "      <td>0.0041</td>\n",
       "      <td>0.0041</td>\n",
       "      <td>-10.4868</td>\n",
       "      <td>10.4868</td>\n",
       "      <td>-10.3585</td>\n",
       "      <td>10.3585</td>\n",
       "      <td>-10.4868</td>\n",
       "      <td>10.4868</td>\n",
       "      <td>-10.3585</td>\n",
       "      <td>10.3585</td>\n",
       "      <td>0.2368</td>\n",
       "      <td>0.2391</td>\n",
       "      <td>13.0000</td>\n",
       "      <td>13.1284</td>\n",
       "      <td>0.0000</td>\n",
       "      <td>0.0160</td>\n",
       "      <td>0.3837</td>\n",
       "      <td>0.0085</td>\n",
       "      <td>0.9640</td>\n",
       "      <td>0.7873</td>\n",
       "      <td>0.2544</td>\n",
       "      <td>14</td>\n",
       "      <td>0.0204</td>\n",
       "      <td>0.7026</td>\n",
       "      <td>0.5351</td>\n",
       "      <td>30</td>\n",
       "      <td>0.0038</td>\n",
       "      <td>0.6660</td>\n",
       "      <td>0.3070</td>\n",
       "      <td>17</td>\n",
       "      <td>0.0016</td>\n",
       "      <td>0.6462</td>\n",
       "      <td>0.3772</td>\n",
       "      <td>21</td>\n",
       "      <td>0.0015</td>\n",
       "      <td>0.6456</td>\n",
       "      <td>0.1491</td>\n",
       "      <td>8</td>\n",
       "      <td>0.0014</td>\n",
       "      <td>0.6436</td>\n",
       "      <td>0.4825</td>\n",
       "      <td>27</td>\n",
       "      <td>0.0014</td>\n",
       "      <td>0.6435</td>\n",
       "      <td>0.1667</td>\n",
       "      <td>9</td>\n",
       "      <td>0.0010</td>\n",
       "      <td>0.6366</td>\n",
       "      <td>0.0263</td>\n",
       "      <td>1</td>\n",
       "      <td>0.0008</td>\n",
       "      <td>0.6302</td>\n",
       "      <td>0.2895</td>\n",
       "      <td>16</td>\n",
       "      <td>0.0006</td>\n",
       "      <td>0.6243</td>\n",
       "      <td>0.0023</td>\n",
       "      <td>0.0023</td>\n",
       "      <td>0.1284</td>\n",
       "      <td>0.1284</td>\n",
       "      <td>0.2372</td>\n",
       "      <td>0.2399</td>\n",
       "      <td>0.2350</td>\n",
       "      <td>1</td>\n",
       "      <td>1</td>\n",
       "      <td>23.2199</td>\n",
       "      <td>23.0000</td>\n",
       "      <td>23.4868</td>\n",
       "      <td>0.0000</td>\n",
       "      <td>0.0078</td>\n",
       "      <td>0.8823</td>\n",
       "      <td>0.2550</td>\n",
       "      <td>25</td>\n",
       "      <td>0.0998</td>\n",
       "      <td>0.2850</td>\n",
       "      <td>28</td>\n",
       "      <td>0.0018</td>\n",
       "      <td>0.2450</td>\n",
       "      <td>24</td>\n",
       "      <td>0.0018</td>\n",
       "      <td>0.2150</td>\n",
       "      <td>21</td>\n",
       "      <td>0.0016</td>\n",
       "      <td>0.2650</td>\n",
       "      <td>26</td>\n",
       "      <td>0.0009</td>\n",
       "      <td>0.2750</td>\n",
       "      <td>27</td>\n",
       "      <td>0.0008</td>\n",
       "      <td>0.1550</td>\n",
       "      <td>15</td>\n",
       "      <td>0.0008</td>\n",
       "      <td>0.4150</td>\n",
       "      <td>41</td>\n",
       "      <td>0.0007</td>\n",
       "      <td>0.3350</td>\n",
       "      <td>33</td>\n",
       "      <td>0.0007</td>\n",
       "      <td>-0.0027</td>\n",
       "      <td>0.0027</td>\n",
       "      <td>0.0022</td>\n",
       "      <td>0.0022</td>\n",
       "      <td>-0.0049</td>\n",
       "      <td>0.0049</td>\n",
       "      <td>-0.2669</td>\n",
       "      <td>0.2669</td>\n",
       "      <td>0.2199</td>\n",
       "      <td>0.2199</td>\n",
       "      <td>-0.4868</td>\n",
       "      <td>0.4868</td>\n",
       "      <td>0.2368</td>\n",
       "      <td>0.2391</td>\n",
       "      <td>13.0000</td>\n",
       "      <td>13.1284</td>\n",
       "      <td>0.0000</td>\n",
       "      <td>0.0160</td>\n",
       "      <td>0.3837</td>\n",
       "      <td>0.0085</td>\n",
       "      <td>0.9640</td>\n",
       "      <td>0.7873</td>\n",
       "      <td>0.2544</td>\n",
       "      <td>14</td>\n",
       "      <td>0.0204</td>\n",
       "      <td>0.7026</td>\n",
       "      <td>0.5351</td>\n",
       "      <td>30</td>\n",
       "      <td>0.0038</td>\n",
       "      <td>0.6660</td>\n",
       "      <td>0.0023</td>\n",
       "      <td>0.0023</td>\n",
       "      <td>0.1284</td>\n",
       "      <td>0.1284</td>\n",
       "      <td>0</td>\n",
       "      <td>001308991e0c5e</td>\n",
       "      <td>05915708</td>\n",
       "      <td>001308991e0c5e\\t05915708</td>\n",
       "      <td>22</td>\n",
       "      <td>56</td>\n",
       "      <td>95</td>\n",
       "      <td>c5fbea8e</td>\n",
       "      <td>0.2368</td>\n",
       "      <td>0</td>\n",
       "      <td>23</td>\n",
       "      <td>0.2406</td>\n",
       "    </tr>\n",
       "    <tr>\n",
       "      <th>55</th>\n",
       "      <td>0.5895</td>\n",
       "      <td>-0.0113</td>\n",
       "      <td>0.0113</td>\n",
       "      <td>-0.0117</td>\n",
       "      <td>0.0117</td>\n",
       "      <td>-0.0018</td>\n",
       "      <td>0.0018</td>\n",
       "      <td>-0.0091</td>\n",
       "      <td>0.0091</td>\n",
       "      <td>-0.0095</td>\n",
       "      <td>0.0095</td>\n",
       "      <td>0.0003</td>\n",
       "      <td>0.0003</td>\n",
       "      <td>-0.0113</td>\n",
       "      <td>0.0113</td>\n",
       "      <td>-0.0117</td>\n",
       "      <td>0.0117</td>\n",
       "      <td>-0.0018</td>\n",
       "      <td>0.0018</td>\n",
       "      <td>-0.0091</td>\n",
       "      <td>0.0091</td>\n",
       "      <td>-0.0095</td>\n",
       "      <td>0.0095</td>\n",
       "      <td>0.0003</td>\n",
       "      <td>0.0003</td>\n",
       "      <td>-33.9414</td>\n",
       "      <td>33.9414</td>\n",
       "      <td>-33.8165</td>\n",
       "      <td>33.8165</td>\n",
       "      <td>-33.9414</td>\n",
       "      <td>33.9414</td>\n",
       "      <td>-33.8165</td>\n",
       "      <td>33.8165</td>\n",
       "      <td>0.7632</td>\n",
       "      <td>0.7653</td>\n",
       "      <td>43.0000</td>\n",
       "      <td>43.1249</td>\n",
       "      <td>0.0000</td>\n",
       "      <td>0.0134</td>\n",
       "      <td>0.3038</td>\n",
       "      <td>0.0060</td>\n",
       "      <td>0.8777</td>\n",
       "      <td>0.7252</td>\n",
       "      <td>0.7807</td>\n",
       "      <td>44</td>\n",
       "      <td>0.1110</td>\n",
       "      <td>0.6798</td>\n",
       "      <td>0.7982</td>\n",
       "      <td>45</td>\n",
       "      <td>0.0098</td>\n",
       "      <td>0.6266</td>\n",
       "      <td>0.8333</td>\n",
       "      <td>47</td>\n",
       "      <td>0.0004</td>\n",
       "      <td>0.5554</td>\n",
       "      <td>0.8684</td>\n",
       "      <td>49</td>\n",
       "      <td>0.0003</td>\n",
       "      <td>0.5486</td>\n",
       "      <td>0.8158</td>\n",
       "      <td>46</td>\n",
       "      <td>0.0002</td>\n",
       "      <td>0.5427</td>\n",
       "      <td>0.6053</td>\n",
       "      <td>34</td>\n",
       "      <td>0.0001</td>\n",
       "      <td>0.5321</td>\n",
       "      <td>0.0263</td>\n",
       "      <td>1</td>\n",
       "      <td>0.0001</td>\n",
       "      <td>0.5271</td>\n",
       "      <td>0.5877</td>\n",
       "      <td>33</td>\n",
       "      <td>0.0001</td>\n",
       "      <td>0.5164</td>\n",
       "      <td>0.8509</td>\n",
       "      <td>48</td>\n",
       "      <td>0.0000</td>\n",
       "      <td>0.5046</td>\n",
       "      <td>0.0022</td>\n",
       "      <td>0.0022</td>\n",
       "      <td>0.1249</td>\n",
       "      <td>0.1249</td>\n",
       "      <td>0.7749</td>\n",
       "      <td>0.7744</td>\n",
       "      <td>0.7650</td>\n",
       "      <td>1</td>\n",
       "      <td>1</td>\n",
       "      <td>76.9861</td>\n",
       "      <td>76.0000</td>\n",
       "      <td>76.9414</td>\n",
       "      <td>0.0000</td>\n",
       "      <td>0.0047</td>\n",
       "      <td>0.5229</td>\n",
       "      <td>0.7850</td>\n",
       "      <td>78</td>\n",
       "      <td>0.4507</td>\n",
       "      <td>0.7750</td>\n",
       "      <td>77</td>\n",
       "      <td>0.0115</td>\n",
       "      <td>0.7950</td>\n",
       "      <td>79</td>\n",
       "      <td>0.0071</td>\n",
       "      <td>0.7550</td>\n",
       "      <td>75</td>\n",
       "      <td>0.0036</td>\n",
       "      <td>0.7450</td>\n",
       "      <td>74</td>\n",
       "      <td>0.0019</td>\n",
       "      <td>0.7350</td>\n",
       "      <td>73</td>\n",
       "      <td>0.0004</td>\n",
       "      <td>0.8150</td>\n",
       "      <td>81</td>\n",
       "      <td>0.0003</td>\n",
       "      <td>0.7250</td>\n",
       "      <td>72</td>\n",
       "      <td>0.0003</td>\n",
       "      <td>0.7050</td>\n",
       "      <td>70</td>\n",
       "      <td>0.0002</td>\n",
       "      <td>0.0004</td>\n",
       "      <td>0.0004</td>\n",
       "      <td>0.0099</td>\n",
       "      <td>0.0099</td>\n",
       "      <td>-0.0094</td>\n",
       "      <td>0.0094</td>\n",
       "      <td>0.0446</td>\n",
       "      <td>0.0446</td>\n",
       "      <td>0.9861</td>\n",
       "      <td>0.9861</td>\n",
       "      <td>-0.9414</td>\n",
       "      <td>0.9414</td>\n",
       "      <td>0.7632</td>\n",
       "      <td>0.7653</td>\n",
       "      <td>43.0000</td>\n",
       "      <td>43.1249</td>\n",
       "      <td>0.0000</td>\n",
       "      <td>0.0134</td>\n",
       "      <td>0.3038</td>\n",
       "      <td>0.0060</td>\n",
       "      <td>0.8777</td>\n",
       "      <td>0.7252</td>\n",
       "      <td>0.7807</td>\n",
       "      <td>44</td>\n",
       "      <td>0.1110</td>\n",
       "      <td>0.6798</td>\n",
       "      <td>0.7982</td>\n",
       "      <td>45</td>\n",
       "      <td>0.0098</td>\n",
       "      <td>0.6266</td>\n",
       "      <td>0.0022</td>\n",
       "      <td>0.0022</td>\n",
       "      <td>0.1249</td>\n",
       "      <td>0.1249</td>\n",
       "      <td>0</td>\n",
       "      <td>001308991e0c5e</td>\n",
       "      <td>1545964f</td>\n",
       "      <td>001308991e0c5e\\t1545964f</td>\n",
       "      <td>22</td>\n",
       "      <td>56</td>\n",
       "      <td>95</td>\n",
       "      <td>c5fbea8e</td>\n",
       "      <td>0.7632</td>\n",
       "      <td>0</td>\n",
       "      <td>76</td>\n",
       "      <td>0.7650</td>\n",
       "    </tr>\n",
       "    <tr>\n",
       "      <th>56</th>\n",
       "      <td>0.5895</td>\n",
       "      <td>-0.0018</td>\n",
       "      <td>0.0018</td>\n",
       "      <td>0.0036</td>\n",
       "      <td>0.0036</td>\n",
       "      <td>0.0048</td>\n",
       "      <td>0.0048</td>\n",
       "      <td>-0.0020</td>\n",
       "      <td>0.0020</td>\n",
       "      <td>0.0034</td>\n",
       "      <td>0.0034</td>\n",
       "      <td>0.0046</td>\n",
       "      <td>0.0046</td>\n",
       "      <td>-0.0018</td>\n",
       "      <td>0.0018</td>\n",
       "      <td>0.0036</td>\n",
       "      <td>0.0036</td>\n",
       "      <td>0.0048</td>\n",
       "      <td>0.0048</td>\n",
       "      <td>-0.0020</td>\n",
       "      <td>0.0020</td>\n",
       "      <td>0.0034</td>\n",
       "      <td>0.0034</td>\n",
       "      <td>0.0046</td>\n",
       "      <td>0.0046</td>\n",
       "      <td>-18.6641</td>\n",
       "      <td>18.6641</td>\n",
       "      <td>-18.6760</td>\n",
       "      <td>18.6760</td>\n",
       "      <td>-18.6641</td>\n",
       "      <td>18.6641</td>\n",
       "      <td>-18.6760</td>\n",
       "      <td>18.6760</td>\n",
       "      <td>0.4298</td>\n",
       "      <td>0.4296</td>\n",
       "      <td>24.0000</td>\n",
       "      <td>23.9881</td>\n",
       "      <td>0.0000</td>\n",
       "      <td>0.0171</td>\n",
       "      <td>0.2332</td>\n",
       "      <td>0.0078</td>\n",
       "      <td>0.9970</td>\n",
       "      <td>0.6821</td>\n",
       "      <td>0.3070</td>\n",
       "      <td>17</td>\n",
       "      <td>0.0018</td>\n",
       "      <td>0.5436</td>\n",
       "      <td>0.3246</td>\n",
       "      <td>18</td>\n",
       "      <td>0.0003</td>\n",
       "      <td>0.5028</td>\n",
       "      <td>0.4825</td>\n",
       "      <td>27</td>\n",
       "      <td>0.0003</td>\n",
       "      <td>0.5013</td>\n",
       "      <td>0.5175</td>\n",
       "      <td>29</td>\n",
       "      <td>0.0002</td>\n",
       "      <td>0.4981</td>\n",
       "      <td>0.5000</td>\n",
       "      <td>28</td>\n",
       "      <td>0.0002</td>\n",
       "      <td>0.4900</td>\n",
       "      <td>0.4474</td>\n",
       "      <td>25</td>\n",
       "      <td>0.0001</td>\n",
       "      <td>0.4858</td>\n",
       "      <td>0.3772</td>\n",
       "      <td>21</td>\n",
       "      <td>0.0000</td>\n",
       "      <td>0.4596</td>\n",
       "      <td>0.4649</td>\n",
       "      <td>26</td>\n",
       "      <td>0.0000</td>\n",
       "      <td>0.4512</td>\n",
       "      <td>0.3421</td>\n",
       "      <td>19</td>\n",
       "      <td>0.0000</td>\n",
       "      <td>0.4239</td>\n",
       "      <td>-0.0002</td>\n",
       "      <td>0.0002</td>\n",
       "      <td>-0.0119</td>\n",
       "      <td>0.0119</td>\n",
       "      <td>0.4262</td>\n",
       "      <td>0.4316</td>\n",
       "      <td>0.4250</td>\n",
       "      <td>2</td>\n",
       "      <td>1</td>\n",
       "      <td>42.1203</td>\n",
       "      <td>42.0000</td>\n",
       "      <td>42.6641</td>\n",
       "      <td>0.0000</td>\n",
       "      <td>0.0061</td>\n",
       "      <td>0.7432</td>\n",
       "      <td>0.4350</td>\n",
       "      <td>43</td>\n",
       "      <td>0.2489</td>\n",
       "      <td>0.4150</td>\n",
       "      <td>41</td>\n",
       "      <td>0.0020</td>\n",
       "      <td>0.4450</td>\n",
       "      <td>44</td>\n",
       "      <td>0.0008</td>\n",
       "      <td>0.4750</td>\n",
       "      <td>47</td>\n",
       "      <td>0.0003</td>\n",
       "      <td>0.4550</td>\n",
       "      <td>45</td>\n",
       "      <td>0.0002</td>\n",
       "      <td>0.4050</td>\n",
       "      <td>40</td>\n",
       "      <td>0.0002</td>\n",
       "      <td>0.4650</td>\n",
       "      <td>46</td>\n",
       "      <td>0.0002</td>\n",
       "      <td>0.3050</td>\n",
       "      <td>30</td>\n",
       "      <td>0.0002</td>\n",
       "      <td>0.4850</td>\n",
       "      <td>48</td>\n",
       "      <td>0.0002</td>\n",
       "      <td>-0.0054</td>\n",
       "      <td>0.0054</td>\n",
       "      <td>0.0012</td>\n",
       "      <td>0.0012</td>\n",
       "      <td>-0.0066</td>\n",
       "      <td>0.0066</td>\n",
       "      <td>-0.5437</td>\n",
       "      <td>0.5437</td>\n",
       "      <td>0.1203</td>\n",
       "      <td>0.1203</td>\n",
       "      <td>-0.6641</td>\n",
       "      <td>0.6641</td>\n",
       "      <td>0.4298</td>\n",
       "      <td>0.4296</td>\n",
       "      <td>24.0000</td>\n",
       "      <td>23.9881</td>\n",
       "      <td>0.0000</td>\n",
       "      <td>0.0171</td>\n",
       "      <td>0.2332</td>\n",
       "      <td>0.0078</td>\n",
       "      <td>0.9970</td>\n",
       "      <td>0.6821</td>\n",
       "      <td>0.3070</td>\n",
       "      <td>17</td>\n",
       "      <td>0.0018</td>\n",
       "      <td>0.5436</td>\n",
       "      <td>0.3246</td>\n",
       "      <td>18</td>\n",
       "      <td>0.0003</td>\n",
       "      <td>0.5028</td>\n",
       "      <td>-0.0002</td>\n",
       "      <td>0.0002</td>\n",
       "      <td>-0.0119</td>\n",
       "      <td>0.0119</td>\n",
       "      <td>0</td>\n",
       "      <td>001308991e0c5e</td>\n",
       "      <td>1ff43b24</td>\n",
       "      <td>001308991e0c5e\\t1ff43b24</td>\n",
       "      <td>22</td>\n",
       "      <td>56</td>\n",
       "      <td>95</td>\n",
       "      <td>c5fbea8e</td>\n",
       "      <td>0.4298</td>\n",
       "      <td>0</td>\n",
       "      <td>42</td>\n",
       "      <td>0.4336</td>\n",
       "    </tr>\n",
       "    <tr>\n",
       "      <th>57</th>\n",
       "      <td>0.5895</td>\n",
       "      <td>0.0049</td>\n",
       "      <td>0.0049</td>\n",
       "      <td>0.0026</td>\n",
       "      <td>0.0026</td>\n",
       "      <td>0.0013</td>\n",
       "      <td>0.0013</td>\n",
       "      <td>0.0023</td>\n",
       "      <td>0.0023</td>\n",
       "      <td>-0.0001</td>\n",
       "      <td>0.0001</td>\n",
       "      <td>-0.0013</td>\n",
       "      <td>0.0013</td>\n",
       "      <td>0.0049</td>\n",
       "      <td>0.0049</td>\n",
       "      <td>0.0026</td>\n",
       "      <td>0.0026</td>\n",
       "      <td>0.0013</td>\n",
       "      <td>0.0013</td>\n",
       "      <td>-0.0001</td>\n",
       "      <td>0.0001</td>\n",
       "      <td>-0.0024</td>\n",
       "      <td>0.0024</td>\n",
       "      <td>-0.0037</td>\n",
       "      <td>0.0037</td>\n",
       "      <td>-0.6378</td>\n",
       "      <td>0.6378</td>\n",
       "      <td>-0.7896</td>\n",
       "      <td>0.7896</td>\n",
       "      <td>-0.6378</td>\n",
       "      <td>0.6378</td>\n",
       "      <td>-0.9236</td>\n",
       "      <td>0.9236</td>\n",
       "      <td>0.0263</td>\n",
       "      <td>0.0237</td>\n",
       "      <td>1.0000</td>\n",
       "      <td>0.8481</td>\n",
       "      <td>0.0000</td>\n",
       "      <td>0.0105</td>\n",
       "      <td>0.3833</td>\n",
       "      <td>0.0073</td>\n",
       "      <td>0.7531</td>\n",
       "      <td>0.7924</td>\n",
       "      <td>0.0088</td>\n",
       "      <td>0</td>\n",
       "      <td>0.2180</td>\n",
       "      <td>0.7652</td>\n",
       "      <td>0.0439</td>\n",
       "      <td>2</td>\n",
       "      <td>0.0274</td>\n",
       "      <td>0.7197</td>\n",
       "      <td>0.9912</td>\n",
       "      <td>56</td>\n",
       "      <td>0.0005</td>\n",
       "      <td>0.6315</td>\n",
       "      <td>0.0614</td>\n",
       "      <td>3</td>\n",
       "      <td>0.0002</td>\n",
       "      <td>0.6155</td>\n",
       "      <td>0.3070</td>\n",
       "      <td>17</td>\n",
       "      <td>0.0001</td>\n",
       "      <td>0.6044</td>\n",
       "      <td>0.1491</td>\n",
       "      <td>8</td>\n",
       "      <td>0.0001</td>\n",
       "      <td>0.6040</td>\n",
       "      <td>0.0965</td>\n",
       "      <td>5</td>\n",
       "      <td>0.0001</td>\n",
       "      <td>0.5861</td>\n",
       "      <td>0.1316</td>\n",
       "      <td>7</td>\n",
       "      <td>0.0001</td>\n",
       "      <td>0.5839</td>\n",
       "      <td>0.2544</td>\n",
       "      <td>14</td>\n",
       "      <td>0.0001</td>\n",
       "      <td>0.5838</td>\n",
       "      <td>-0.0027</td>\n",
       "      <td>0.0027</td>\n",
       "      <td>-0.1519</td>\n",
       "      <td>0.1519</td>\n",
       "      <td>0.0237</td>\n",
       "      <td>0.0214</td>\n",
       "      <td>0.0250</td>\n",
       "      <td>0</td>\n",
       "      <td>0</td>\n",
       "      <td>1.8713</td>\n",
       "      <td>2.0000</td>\n",
       "      <td>1.6378</td>\n",
       "      <td>0.0000</td>\n",
       "      <td>0.0057</td>\n",
       "      <td>0.7490</td>\n",
       "      <td>0.0150</td>\n",
       "      <td>1</td>\n",
       "      <td>0.1105</td>\n",
       "      <td>0.0050</td>\n",
       "      <td>0</td>\n",
       "      <td>0.0821</td>\n",
       "      <td>0.0350</td>\n",
       "      <td>3</td>\n",
       "      <td>0.0419</td>\n",
       "      <td>0.0450</td>\n",
       "      <td>4</td>\n",
       "      <td>0.0127</td>\n",
       "      <td>0.9950</td>\n",
       "      <td>99</td>\n",
       "      <td>0.0006</td>\n",
       "      <td>0.0550</td>\n",
       "      <td>5</td>\n",
       "      <td>0.0006</td>\n",
       "      <td>0.0650</td>\n",
       "      <td>6</td>\n",
       "      <td>0.0006</td>\n",
       "      <td>0.0950</td>\n",
       "      <td>9</td>\n",
       "      <td>0.0003</td>\n",
       "      <td>0.0750</td>\n",
       "      <td>7</td>\n",
       "      <td>0.0002</td>\n",
       "      <td>0.0023</td>\n",
       "      <td>0.0023</td>\n",
       "      <td>-0.0013</td>\n",
       "      <td>0.0013</td>\n",
       "      <td>0.0036</td>\n",
       "      <td>0.0036</td>\n",
       "      <td>0.2336</td>\n",
       "      <td>0.2336</td>\n",
       "      <td>-0.1287</td>\n",
       "      <td>0.1287</td>\n",
       "      <td>0.3622</td>\n",
       "      <td>0.3622</td>\n",
       "      <td>0.0263</td>\n",
       "      <td>0.0213</td>\n",
       "      <td>1.0000</td>\n",
       "      <td>0.7142</td>\n",
       "      <td>0.0000</td>\n",
       "      <td>0.0085</td>\n",
       "      <td>0.3833</td>\n",
       "      <td>0.0073</td>\n",
       "      <td>0.6153</td>\n",
       "      <td>0.7924</td>\n",
       "      <td>0.0088</td>\n",
       "      <td>0</td>\n",
       "      <td>0.3540</td>\n",
       "      <td>0.7652</td>\n",
       "      <td>0.0439</td>\n",
       "      <td>2</td>\n",
       "      <td>0.0293</td>\n",
       "      <td>0.7197</td>\n",
       "      <td>-0.0050</td>\n",
       "      <td>0.0050</td>\n",
       "      <td>-0.2858</td>\n",
       "      <td>0.2858</td>\n",
       "      <td>1</td>\n",
       "      <td>001308991e0c5e</td>\n",
       "      <td>21147235</td>\n",
       "      <td>001308991e0c5e\\t21147235</td>\n",
       "      <td>22</td>\n",
       "      <td>56</td>\n",
       "      <td>95</td>\n",
       "      <td>c5fbea8e</td>\n",
       "      <td>0.0088</td>\n",
       "      <td>0</td>\n",
       "      <td>0</td>\n",
       "      <td>0.0225</td>\n",
       "    </tr>\n",
       "    <tr>\n",
       "      <th>58</th>\n",
       "      <td>0.5895</td>\n",
       "      <td>0.0027</td>\n",
       "      <td>0.0027</td>\n",
       "      <td>0.0024</td>\n",
       "      <td>0.0024</td>\n",
       "      <td>0.0003</td>\n",
       "      <td>0.0003</td>\n",
       "      <td>0.0027</td>\n",
       "      <td>0.0027</td>\n",
       "      <td>0.0024</td>\n",
       "      <td>0.0024</td>\n",
       "      <td>0.0003</td>\n",
       "      <td>0.0003</td>\n",
       "      <td>0.0027</td>\n",
       "      <td>0.0027</td>\n",
       "      <td>0.0024</td>\n",
       "      <td>0.0024</td>\n",
       "      <td>0.0003</td>\n",
       "      <td>0.0003</td>\n",
       "      <td>0.0027</td>\n",
       "      <td>0.0027</td>\n",
       "      <td>0.0024</td>\n",
       "      <td>0.0024</td>\n",
       "      <td>0.0003</td>\n",
       "      <td>0.0003</td>\n",
       "      <td>-25.7539</td>\n",
       "      <td>25.7539</td>\n",
       "      <td>-25.7543</td>\n",
       "      <td>25.7543</td>\n",
       "      <td>-25.7539</td>\n",
       "      <td>25.7539</td>\n",
       "      <td>-25.7543</td>\n",
       "      <td>25.7543</td>\n",
       "      <td>0.6053</td>\n",
       "      <td>0.6053</td>\n",
       "      <td>34.0000</td>\n",
       "      <td>33.9996</td>\n",
       "      <td>0.0000</td>\n",
       "      <td>0.0132</td>\n",
       "      <td>0.3717</td>\n",
       "      <td>0.0061</td>\n",
       "      <td>0.8754</td>\n",
       "      <td>0.7375</td>\n",
       "      <td>0.5351</td>\n",
       "      <td>30</td>\n",
       "      <td>0.0457</td>\n",
       "      <td>0.6726</td>\n",
       "      <td>0.5702</td>\n",
       "      <td>32</td>\n",
       "      <td>0.0289</td>\n",
       "      <td>0.6626</td>\n",
       "      <td>0.6228</td>\n",
       "      <td>35</td>\n",
       "      <td>0.0135</td>\n",
       "      <td>0.6459</td>\n",
       "      <td>0.5526</td>\n",
       "      <td>31</td>\n",
       "      <td>0.0096</td>\n",
       "      <td>0.6385</td>\n",
       "      <td>0.8684</td>\n",
       "      <td>49</td>\n",
       "      <td>0.0077</td>\n",
       "      <td>0.6335</td>\n",
       "      <td>0.7632</td>\n",
       "      <td>43</td>\n",
       "      <td>0.0035</td>\n",
       "      <td>0.6159</td>\n",
       "      <td>0.8860</td>\n",
       "      <td>50</td>\n",
       "      <td>0.0032</td>\n",
       "      <td>0.6142</td>\n",
       "      <td>0.6579</td>\n",
       "      <td>37</td>\n",
       "      <td>0.0030</td>\n",
       "      <td>0.6127</td>\n",
       "      <td>0.8333</td>\n",
       "      <td>47</td>\n",
       "      <td>0.0024</td>\n",
       "      <td>0.6083</td>\n",
       "      <td>-0.0000</td>\n",
       "      <td>0.0000</td>\n",
       "      <td>-0.0004</td>\n",
       "      <td>0.0004</td>\n",
       "      <td>0.6029</td>\n",
       "      <td>0.6025</td>\n",
       "      <td>0.6050</td>\n",
       "      <td>1</td>\n",
       "      <td>2</td>\n",
       "      <td>59.7853</td>\n",
       "      <td>60.0000</td>\n",
       "      <td>59.7539</td>\n",
       "      <td>0.0000</td>\n",
       "      <td>0.0094</td>\n",
       "      <td>0.9771</td>\n",
       "      <td>0.5350</td>\n",
       "      <td>53</td>\n",
       "      <td>0.0064</td>\n",
       "      <td>0.5850</td>\n",
       "      <td>58</td>\n",
       "      <td>0.0035</td>\n",
       "      <td>0.6150</td>\n",
       "      <td>61</td>\n",
       "      <td>0.0021</td>\n",
       "      <td>0.5950</td>\n",
       "      <td>59</td>\n",
       "      <td>0.0013</td>\n",
       "      <td>0.5550</td>\n",
       "      <td>55</td>\n",
       "      <td>0.0010</td>\n",
       "      <td>0.5050</td>\n",
       "      <td>50</td>\n",
       "      <td>0.0008</td>\n",
       "      <td>0.4650</td>\n",
       "      <td>46</td>\n",
       "      <td>0.0006</td>\n",
       "      <td>0.6250</td>\n",
       "      <td>62</td>\n",
       "      <td>0.0005</td>\n",
       "      <td>0.5750</td>\n",
       "      <td>57</td>\n",
       "      <td>0.0005</td>\n",
       "      <td>0.0003</td>\n",
       "      <td>0.0003</td>\n",
       "      <td>-0.0021</td>\n",
       "      <td>0.0021</td>\n",
       "      <td>0.0025</td>\n",
       "      <td>0.0025</td>\n",
       "      <td>0.0314</td>\n",
       "      <td>0.0314</td>\n",
       "      <td>-0.2147</td>\n",
       "      <td>0.2147</td>\n",
       "      <td>0.2461</td>\n",
       "      <td>0.2461</td>\n",
       "      <td>0.6053</td>\n",
       "      <td>0.6053</td>\n",
       "      <td>34.0000</td>\n",
       "      <td>33.9996</td>\n",
       "      <td>0.0000</td>\n",
       "      <td>0.0132</td>\n",
       "      <td>0.3717</td>\n",
       "      <td>0.0061</td>\n",
       "      <td>0.8754</td>\n",
       "      <td>0.7375</td>\n",
       "      <td>0.5351</td>\n",
       "      <td>30</td>\n",
       "      <td>0.0457</td>\n",
       "      <td>0.6726</td>\n",
       "      <td>0.5702</td>\n",
       "      <td>32</td>\n",
       "      <td>0.0289</td>\n",
       "      <td>0.6626</td>\n",
       "      <td>-0.0000</td>\n",
       "      <td>0.0000</td>\n",
       "      <td>-0.0004</td>\n",
       "      <td>0.0004</td>\n",
       "      <td>0</td>\n",
       "      <td>001308991e0c5e</td>\n",
       "      <td>23e35b11</td>\n",
       "      <td>001308991e0c5e\\t23e35b11</td>\n",
       "      <td>22</td>\n",
       "      <td>56</td>\n",
       "      <td>95</td>\n",
       "      <td>c5fbea8e</td>\n",
       "      <td>0.6082</td>\n",
       "      <td>0</td>\n",
       "      <td>60</td>\n",
       "      <td>0.6050</td>\n",
       "    </tr>\n",
       "    <tr>\n",
       "      <th>...</th>\n",
       "      <td>...</td>\n",
       "      <td>...</td>\n",
       "      <td>...</td>\n",
       "      <td>...</td>\n",
       "      <td>...</td>\n",
       "      <td>...</td>\n",
       "      <td>...</td>\n",
       "      <td>...</td>\n",
       "      <td>...</td>\n",
       "      <td>...</td>\n",
       "      <td>...</td>\n",
       "      <td>...</td>\n",
       "      <td>...</td>\n",
       "      <td>...</td>\n",
       "      <td>...</td>\n",
       "      <td>...</td>\n",
       "      <td>...</td>\n",
       "      <td>...</td>\n",
       "      <td>...</td>\n",
       "      <td>...</td>\n",
       "      <td>...</td>\n",
       "      <td>...</td>\n",
       "      <td>...</td>\n",
       "      <td>...</td>\n",
       "      <td>...</td>\n",
       "      <td>...</td>\n",
       "      <td>...</td>\n",
       "      <td>...</td>\n",
       "      <td>...</td>\n",
       "      <td>...</td>\n",
       "      <td>...</td>\n",
       "      <td>...</td>\n",
       "      <td>...</td>\n",
       "      <td>...</td>\n",
       "      <td>...</td>\n",
       "      <td>...</td>\n",
       "      <td>...</td>\n",
       "      <td>...</td>\n",
       "      <td>...</td>\n",
       "      <td>...</td>\n",
       "      <td>...</td>\n",
       "      <td>...</td>\n",
       "      <td>...</td>\n",
       "      <td>...</td>\n",
       "      <td>...</td>\n",
       "      <td>...</td>\n",
       "      <td>...</td>\n",
       "      <td>...</td>\n",
       "      <td>...</td>\n",
       "      <td>...</td>\n",
       "      <td>...</td>\n",
       "      <td>...</td>\n",
       "      <td>...</td>\n",
       "      <td>...</td>\n",
       "      <td>...</td>\n",
       "      <td>...</td>\n",
       "      <td>...</td>\n",
       "      <td>...</td>\n",
       "      <td>...</td>\n",
       "      <td>...</td>\n",
       "      <td>...</td>\n",
       "      <td>...</td>\n",
       "      <td>...</td>\n",
       "      <td>...</td>\n",
       "      <td>...</td>\n",
       "      <td>...</td>\n",
       "      <td>...</td>\n",
       "      <td>...</td>\n",
       "      <td>...</td>\n",
       "      <td>...</td>\n",
       "      <td>...</td>\n",
       "      <td>...</td>\n",
       "      <td>...</td>\n",
       "      <td>...</td>\n",
       "      <td>...</td>\n",
       "      <td>...</td>\n",
       "      <td>...</td>\n",
       "      <td>...</td>\n",
       "      <td>...</td>\n",
       "      <td>...</td>\n",
       "      <td>...</td>\n",
       "      <td>...</td>\n",
       "      <td>...</td>\n",
       "      <td>...</td>\n",
       "      <td>...</td>\n",
       "      <td>...</td>\n",
       "      <td>...</td>\n",
       "      <td>...</td>\n",
       "      <td>...</td>\n",
       "      <td>...</td>\n",
       "      <td>...</td>\n",
       "      <td>...</td>\n",
       "      <td>...</td>\n",
       "      <td>...</td>\n",
       "      <td>...</td>\n",
       "      <td>...</td>\n",
       "      <td>...</td>\n",
       "      <td>...</td>\n",
       "      <td>...</td>\n",
       "      <td>...</td>\n",
       "      <td>...</td>\n",
       "      <td>...</td>\n",
       "      <td>...</td>\n",
       "      <td>...</td>\n",
       "      <td>...</td>\n",
       "      <td>...</td>\n",
       "      <td>...</td>\n",
       "      <td>...</td>\n",
       "      <td>...</td>\n",
       "      <td>...</td>\n",
       "      <td>...</td>\n",
       "      <td>...</td>\n",
       "      <td>...</td>\n",
       "      <td>...</td>\n",
       "      <td>...</td>\n",
       "      <td>...</td>\n",
       "      <td>...</td>\n",
       "      <td>...</td>\n",
       "      <td>...</td>\n",
       "      <td>...</td>\n",
       "      <td>...</td>\n",
       "      <td>...</td>\n",
       "      <td>...</td>\n",
       "      <td>...</td>\n",
       "      <td>...</td>\n",
       "      <td>...</td>\n",
       "      <td>...</td>\n",
       "      <td>...</td>\n",
       "      <td>...</td>\n",
       "      <td>...</td>\n",
       "      <td>...</td>\n",
       "      <td>...</td>\n",
       "      <td>...</td>\n",
       "      <td>...</td>\n",
       "      <td>...</td>\n",
       "      <td>...</td>\n",
       "      <td>...</td>\n",
       "      <td>...</td>\n",
       "      <td>...</td>\n",
       "      <td>...</td>\n",
       "      <td>...</td>\n",
       "      <td>...</td>\n",
       "      <td>...</td>\n",
       "      <td>...</td>\n",
       "      <td>...</td>\n",
       "      <td>...</td>\n",
       "      <td>...</td>\n",
       "      <td>...</td>\n",
       "      <td>...</td>\n",
       "      <td>...</td>\n",
       "      <td>...</td>\n",
       "      <td>...</td>\n",
       "      <td>...</td>\n",
       "      <td>...</td>\n",
       "      <td>...</td>\n",
       "      <td>...</td>\n",
       "      <td>...</td>\n",
       "      <td>...</td>\n",
       "      <td>...</td>\n",
       "      <td>...</td>\n",
       "      <td>...</td>\n",
       "      <td>...</td>\n",
       "      <td>...</td>\n",
       "      <td>...</td>\n",
       "      <td>...</td>\n",
       "      <td>...</td>\n",
       "      <td>...</td>\n",
       "    </tr>\n",
       "    <tr>\n",
       "      <th>424927</th>\n",
       "      <td>0.8065</td>\n",
       "      <td>0.0042</td>\n",
       "      <td>0.0042</td>\n",
       "      <td>-0.0060</td>\n",
       "      <td>0.0060</td>\n",
       "      <td>-0.0050</td>\n",
       "      <td>0.0050</td>\n",
       "      <td>0.0078</td>\n",
       "      <td>0.0078</td>\n",
       "      <td>-0.0023</td>\n",
       "      <td>0.0023</td>\n",
       "      <td>-0.0013</td>\n",
       "      <td>0.0013</td>\n",
       "      <td>0.0042</td>\n",
       "      <td>0.0042</td>\n",
       "      <td>-0.0060</td>\n",
       "      <td>0.0060</td>\n",
       "      <td>-0.0050</td>\n",
       "      <td>0.0050</td>\n",
       "      <td>0.0078</td>\n",
       "      <td>0.0078</td>\n",
       "      <td>-0.0023</td>\n",
       "      <td>0.0023</td>\n",
       "      <td>-0.0013</td>\n",
       "      <td>0.0013</td>\n",
       "      <td>-18.0850</td>\n",
       "      <td>18.0850</td>\n",
       "      <td>-17.9892</td>\n",
       "      <td>17.9892</td>\n",
       "      <td>-18.0850</td>\n",
       "      <td>18.0850</td>\n",
       "      <td>-17.9892</td>\n",
       "      <td>17.9892</td>\n",
       "      <td>0.2500</td>\n",
       "      <td>0.2537</td>\n",
       "      <td>6.0000</td>\n",
       "      <td>6.0958</td>\n",
       "      <td>0.0000</td>\n",
       "      <td>0.0309</td>\n",
       "      <td>0.2765</td>\n",
       "      <td>0.0114</td>\n",
       "      <td>0.9147</td>\n",
       "      <td>0.7264</td>\n",
       "      <td>0.2885</td>\n",
       "      <td>7</td>\n",
       "      <td>0.0737</td>\n",
       "      <td>0.6711</td>\n",
       "      <td>0.3269</td>\n",
       "      <td>8</td>\n",
       "      <td>0.0110</td>\n",
       "      <td>0.6293</td>\n",
       "      <td>0.2115</td>\n",
       "      <td>5</td>\n",
       "      <td>0.0004</td>\n",
       "      <td>0.5558</td>\n",
       "      <td>0.1731</td>\n",
       "      <td>4</td>\n",
       "      <td>0.0001</td>\n",
       "      <td>0.5176</td>\n",
       "      <td>0.5192</td>\n",
       "      <td>13</td>\n",
       "      <td>0.0000</td>\n",
       "      <td>0.5105</td>\n",
       "      <td>0.4038</td>\n",
       "      <td>10</td>\n",
       "      <td>0.0000</td>\n",
       "      <td>0.5073</td>\n",
       "      <td>0.3654</td>\n",
       "      <td>9</td>\n",
       "      <td>0.0000</td>\n",
       "      <td>0.4928</td>\n",
       "      <td>0.5577</td>\n",
       "      <td>14</td>\n",
       "      <td>0.0000</td>\n",
       "      <td>0.4617</td>\n",
       "      <td>0.4808</td>\n",
       "      <td>12</td>\n",
       "      <td>0.0000</td>\n",
       "      <td>0.4566</td>\n",
       "      <td>0.0037</td>\n",
       "      <td>0.0037</td>\n",
       "      <td>0.0958</td>\n",
       "      <td>0.0958</td>\n",
       "      <td>0.2560</td>\n",
       "      <td>0.2458</td>\n",
       "      <td>0.2550</td>\n",
       "      <td>0</td>\n",
       "      <td>0</td>\n",
       "      <td>25.0969</td>\n",
       "      <td>25.0000</td>\n",
       "      <td>24.0850</td>\n",
       "      <td>0.0000</td>\n",
       "      <td>0.0096</td>\n",
       "      <td>0.9844</td>\n",
       "      <td>0.2850</td>\n",
       "      <td>28</td>\n",
       "      <td>0.0068</td>\n",
       "      <td>0.3250</td>\n",
       "      <td>32</td>\n",
       "      <td>0.0042</td>\n",
       "      <td>0.3650</td>\n",
       "      <td>36</td>\n",
       "      <td>0.0013</td>\n",
       "      <td>0.2150</td>\n",
       "      <td>21</td>\n",
       "      <td>0.0012</td>\n",
       "      <td>0.1750</td>\n",
       "      <td>17</td>\n",
       "      <td>0.0005</td>\n",
       "      <td>0.4050</td>\n",
       "      <td>40</td>\n",
       "      <td>0.0005</td>\n",
       "      <td>0.1350</td>\n",
       "      <td>13</td>\n",
       "      <td>0.0003</td>\n",
       "      <td>0.4450</td>\n",
       "      <td>44</td>\n",
       "      <td>0.0003</td>\n",
       "      <td>0.2450</td>\n",
       "      <td>24</td>\n",
       "      <td>0.0002</td>\n",
       "      <td>0.0101</td>\n",
       "      <td>0.0101</td>\n",
       "      <td>0.0010</td>\n",
       "      <td>0.0010</td>\n",
       "      <td>0.0092</td>\n",
       "      <td>0.0092</td>\n",
       "      <td>1.0119</td>\n",
       "      <td>1.0119</td>\n",
       "      <td>0.0969</td>\n",
       "      <td>0.0969</td>\n",
       "      <td>0.9150</td>\n",
       "      <td>0.9150</td>\n",
       "      <td>0.2500</td>\n",
       "      <td>0.2537</td>\n",
       "      <td>6.0000</td>\n",
       "      <td>6.0958</td>\n",
       "      <td>0.0000</td>\n",
       "      <td>0.0309</td>\n",
       "      <td>0.2765</td>\n",
       "      <td>0.0114</td>\n",
       "      <td>0.9147</td>\n",
       "      <td>0.7264</td>\n",
       "      <td>0.2885</td>\n",
       "      <td>7</td>\n",
       "      <td>0.0737</td>\n",
       "      <td>0.6711</td>\n",
       "      <td>0.3269</td>\n",
       "      <td>8</td>\n",
       "      <td>0.0110</td>\n",
       "      <td>0.6293</td>\n",
       "      <td>0.0037</td>\n",
       "      <td>0.0037</td>\n",
       "      <td>0.0958</td>\n",
       "      <td>0.0958</td>\n",
       "      <td>0</td>\n",
       "      <td>fff36689a0fe5f</td>\n",
       "      <td>47b61063</td>\n",
       "      <td>fff36689a0fe5f\\t47b61063</td>\n",
       "      <td>4</td>\n",
       "      <td>25</td>\n",
       "      <td>31</td>\n",
       "      <td>c30fd19d</td>\n",
       "      <td>0.2500</td>\n",
       "      <td>0</td>\n",
       "      <td>25</td>\n",
       "      <td>0.2499</td>\n",
       "    </tr>\n",
       "    <tr>\n",
       "      <th>424928</th>\n",
       "      <td>0.8065</td>\n",
       "      <td>-0.0014</td>\n",
       "      <td>0.0014</td>\n",
       "      <td>-0.0006</td>\n",
       "      <td>0.0006</td>\n",
       "      <td>-0.0012</td>\n",
       "      <td>0.0012</td>\n",
       "      <td>-0.0098</td>\n",
       "      <td>0.0098</td>\n",
       "      <td>-0.0090</td>\n",
       "      <td>0.0090</td>\n",
       "      <td>-0.0095</td>\n",
       "      <td>0.0095</td>\n",
       "      <td>-0.0014</td>\n",
       "      <td>0.0014</td>\n",
       "      <td>-0.0006</td>\n",
       "      <td>0.0006</td>\n",
       "      <td>-0.0012</td>\n",
       "      <td>0.0012</td>\n",
       "      <td>-0.0041</td>\n",
       "      <td>0.0041</td>\n",
       "      <td>-0.0032</td>\n",
       "      <td>0.0032</td>\n",
       "      <td>-0.0038</td>\n",
       "      <td>0.0038</td>\n",
       "      <td>-30.0273</td>\n",
       "      <td>30.0273</td>\n",
       "      <td>-30.2453</td>\n",
       "      <td>30.2453</td>\n",
       "      <td>-30.0273</td>\n",
       "      <td>30.0273</td>\n",
       "      <td>-30.0956</td>\n",
       "      <td>30.0956</td>\n",
       "      <td>0.4038</td>\n",
       "      <td>0.3955</td>\n",
       "      <td>10.0000</td>\n",
       "      <td>9.7820</td>\n",
       "      <td>0.0000</td>\n",
       "      <td>0.0181</td>\n",
       "      <td>0.3116</td>\n",
       "      <td>0.0060</td>\n",
       "      <td>0.6968</td>\n",
       "      <td>0.6093</td>\n",
       "      <td>0.4808</td>\n",
       "      <td>12</td>\n",
       "      <td>0.1075</td>\n",
       "      <td>0.5683</td>\n",
       "      <td>0.2115</td>\n",
       "      <td>5</td>\n",
       "      <td>0.0772</td>\n",
       "      <td>0.5610</td>\n",
       "      <td>0.3654</td>\n",
       "      <td>9</td>\n",
       "      <td>0.0570</td>\n",
       "      <td>0.5543</td>\n",
       "      <td>0.4423</td>\n",
       "      <td>11</td>\n",
       "      <td>0.0482</td>\n",
       "      <td>0.5507</td>\n",
       "      <td>0.2500</td>\n",
       "      <td>6</td>\n",
       "      <td>0.0053</td>\n",
       "      <td>0.5021</td>\n",
       "      <td>0.1731</td>\n",
       "      <td>4</td>\n",
       "      <td>0.0024</td>\n",
       "      <td>0.4845</td>\n",
       "      <td>0.2885</td>\n",
       "      <td>7</td>\n",
       "      <td>0.0020</td>\n",
       "      <td>0.4806</td>\n",
       "      <td>0.5192</td>\n",
       "      <td>13</td>\n",
       "      <td>0.0018</td>\n",
       "      <td>0.4781</td>\n",
       "      <td>0.3269</td>\n",
       "      <td>8</td>\n",
       "      <td>0.0010</td>\n",
       "      <td>0.4649</td>\n",
       "      <td>-0.0084</td>\n",
       "      <td>0.0084</td>\n",
       "      <td>-0.2180</td>\n",
       "      <td>0.2180</td>\n",
       "      <td>0.4045</td>\n",
       "      <td>0.4053</td>\n",
       "      <td>0.4050</td>\n",
       "      <td>2</td>\n",
       "      <td>2</td>\n",
       "      <td>39.9453</td>\n",
       "      <td>40.0000</td>\n",
       "      <td>40.0273</td>\n",
       "      <td>0.0000</td>\n",
       "      <td>0.0095</td>\n",
       "      <td>0.9771</td>\n",
       "      <td>0.4450</td>\n",
       "      <td>44</td>\n",
       "      <td>0.0128</td>\n",
       "      <td>0.3650</td>\n",
       "      <td>36</td>\n",
       "      <td>0.0025</td>\n",
       "      <td>0.4850</td>\n",
       "      <td>48</td>\n",
       "      <td>0.0020</td>\n",
       "      <td>0.4150</td>\n",
       "      <td>41</td>\n",
       "      <td>0.0006</td>\n",
       "      <td>0.3250</td>\n",
       "      <td>32</td>\n",
       "      <td>0.0004</td>\n",
       "      <td>0.2550</td>\n",
       "      <td>25</td>\n",
       "      <td>0.0004</td>\n",
       "      <td>0.3950</td>\n",
       "      <td>39</td>\n",
       "      <td>0.0002</td>\n",
       "      <td>0.5150</td>\n",
       "      <td>51</td>\n",
       "      <td>0.0002</td>\n",
       "      <td>0.2850</td>\n",
       "      <td>28</td>\n",
       "      <td>0.0002</td>\n",
       "      <td>-0.0008</td>\n",
       "      <td>0.0008</td>\n",
       "      <td>-0.0005</td>\n",
       "      <td>0.0005</td>\n",
       "      <td>-0.0003</td>\n",
       "      <td>0.0003</td>\n",
       "      <td>-0.0821</td>\n",
       "      <td>0.0821</td>\n",
       "      <td>-0.0547</td>\n",
       "      <td>0.0547</td>\n",
       "      <td>-0.0273</td>\n",
       "      <td>0.0273</td>\n",
       "      <td>0.4038</td>\n",
       "      <td>0.4012</td>\n",
       "      <td>10.0000</td>\n",
       "      <td>9.9318</td>\n",
       "      <td>0.0000</td>\n",
       "      <td>0.0255</td>\n",
       "      <td>0.3116</td>\n",
       "      <td>0.0060</td>\n",
       "      <td>0.8338</td>\n",
       "      <td>0.6093</td>\n",
       "      <td>0.3654</td>\n",
       "      <td>9</td>\n",
       "      <td>0.0570</td>\n",
       "      <td>0.5543</td>\n",
       "      <td>0.4423</td>\n",
       "      <td>11</td>\n",
       "      <td>0.0482</td>\n",
       "      <td>0.5507</td>\n",
       "      <td>-0.0026</td>\n",
       "      <td>0.0026</td>\n",
       "      <td>-0.0682</td>\n",
       "      <td>0.0682</td>\n",
       "      <td>1</td>\n",
       "      <td>fff36689a0fe5f</td>\n",
       "      <td>87c8490d</td>\n",
       "      <td>fff36689a0fe5f\\t87c8490d</td>\n",
       "      <td>4</td>\n",
       "      <td>25</td>\n",
       "      <td>31</td>\n",
       "      <td>c30fd19d</td>\n",
       "      <td>0.4038</td>\n",
       "      <td>0</td>\n",
       "      <td>40</td>\n",
       "      <td>0.4041</td>\n",
       "    </tr>\n",
       "    <tr>\n",
       "      <th>424929</th>\n",
       "      <td>0.8065</td>\n",
       "      <td>0.0353</td>\n",
       "      <td>0.0353</td>\n",
       "      <td>0.0384</td>\n",
       "      <td>0.0384</td>\n",
       "      <td>0.0365</td>\n",
       "      <td>0.0365</td>\n",
       "      <td>0.0287</td>\n",
       "      <td>0.0287</td>\n",
       "      <td>0.0318</td>\n",
       "      <td>0.0318</td>\n",
       "      <td>0.0300</td>\n",
       "      <td>0.0300</td>\n",
       "      <td>-0.0032</td>\n",
       "      <td>0.0032</td>\n",
       "      <td>-0.0001</td>\n",
       "      <td>0.0001</td>\n",
       "      <td>-0.0019</td>\n",
       "      <td>0.0019</td>\n",
       "      <td>0.0089</td>\n",
       "      <td>0.0089</td>\n",
       "      <td>0.0120</td>\n",
       "      <td>0.0120</td>\n",
       "      <td>0.0101</td>\n",
       "      <td>0.0101</td>\n",
       "      <td>-12.1270</td>\n",
       "      <td>12.1270</td>\n",
       "      <td>-12.2973</td>\n",
       "      <td>12.2973</td>\n",
       "      <td>-13.1270</td>\n",
       "      <td>13.1270</td>\n",
       "      <td>-12.8134</td>\n",
       "      <td>12.8134</td>\n",
       "      <td>0.2115</td>\n",
       "      <td>0.2050</td>\n",
       "      <td>5.0000</td>\n",
       "      <td>4.8296</td>\n",
       "      <td>0.0000</td>\n",
       "      <td>0.0227</td>\n",
       "      <td>0.3505</td>\n",
       "      <td>0.0086</td>\n",
       "      <td>0.7615</td>\n",
       "      <td>0.7160</td>\n",
       "      <td>0.1731</td>\n",
       "      <td>4</td>\n",
       "      <td>0.2224</td>\n",
       "      <td>0.6890</td>\n",
       "      <td>0.2885</td>\n",
       "      <td>7</td>\n",
       "      <td>0.0092</td>\n",
       "      <td>0.6189</td>\n",
       "      <td>0.5192</td>\n",
       "      <td>13</td>\n",
       "      <td>0.0027</td>\n",
       "      <td>0.5918</td>\n",
       "      <td>0.3269</td>\n",
       "      <td>8</td>\n",
       "      <td>0.0015</td>\n",
       "      <td>0.5787</td>\n",
       "      <td>0.2500</td>\n",
       "      <td>6</td>\n",
       "      <td>0.0011</td>\n",
       "      <td>0.5723</td>\n",
       "      <td>0.4038</td>\n",
       "      <td>10</td>\n",
       "      <td>0.0009</td>\n",
       "      <td>0.5677</td>\n",
       "      <td>0.1346</td>\n",
       "      <td>3</td>\n",
       "      <td>0.0004</td>\n",
       "      <td>0.5476</td>\n",
       "      <td>0.5577</td>\n",
       "      <td>14</td>\n",
       "      <td>0.0001</td>\n",
       "      <td>0.5280</td>\n",
       "      <td>0.4808</td>\n",
       "      <td>12</td>\n",
       "      <td>0.0001</td>\n",
       "      <td>0.5278</td>\n",
       "      <td>-0.0066</td>\n",
       "      <td>0.0066</td>\n",
       "      <td>-0.1704</td>\n",
       "      <td>0.1704</td>\n",
       "      <td>0.1732</td>\n",
       "      <td>0.1763</td>\n",
       "      <td>0.1750</td>\n",
       "      <td>1</td>\n",
       "      <td>1</td>\n",
       "      <td>16.8158</td>\n",
       "      <td>17.0000</td>\n",
       "      <td>17.1270</td>\n",
       "      <td>0.0000</td>\n",
       "      <td>0.0061</td>\n",
       "      <td>0.7729</td>\n",
       "      <td>0.1350</td>\n",
       "      <td>13</td>\n",
       "      <td>0.1242</td>\n",
       "      <td>0.2150</td>\n",
       "      <td>21</td>\n",
       "      <td>0.0464</td>\n",
       "      <td>0.2550</td>\n",
       "      <td>25</td>\n",
       "      <td>0.0095</td>\n",
       "      <td>0.0950</td>\n",
       "      <td>9</td>\n",
       "      <td>0.0079</td>\n",
       "      <td>0.0550</td>\n",
       "      <td>5</td>\n",
       "      <td>0.0066</td>\n",
       "      <td>0.2050</td>\n",
       "      <td>20</td>\n",
       "      <td>0.0064</td>\n",
       "      <td>0.1650</td>\n",
       "      <td>16</td>\n",
       "      <td>0.0055</td>\n",
       "      <td>0.2850</td>\n",
       "      <td>28</td>\n",
       "      <td>0.0028</td>\n",
       "      <td>0.1450</td>\n",
       "      <td>14</td>\n",
       "      <td>0.0027</td>\n",
       "      <td>-0.0031</td>\n",
       "      <td>0.0031</td>\n",
       "      <td>-0.0018</td>\n",
       "      <td>0.0018</td>\n",
       "      <td>-0.0013</td>\n",
       "      <td>0.0013</td>\n",
       "      <td>-0.3112</td>\n",
       "      <td>0.3112</td>\n",
       "      <td>-0.1842</td>\n",
       "      <td>0.1842</td>\n",
       "      <td>-0.1270</td>\n",
       "      <td>0.1270</td>\n",
       "      <td>0.1731</td>\n",
       "      <td>0.1851</td>\n",
       "      <td>4.0000</td>\n",
       "      <td>4.3136</td>\n",
       "      <td>0.0000</td>\n",
       "      <td>0.0220</td>\n",
       "      <td>0.3505</td>\n",
       "      <td>0.0086</td>\n",
       "      <td>0.7472</td>\n",
       "      <td>0.6890</td>\n",
       "      <td>0.2115</td>\n",
       "      <td>5</td>\n",
       "      <td>0.2302</td>\n",
       "      <td>0.7160</td>\n",
       "      <td>0.2885</td>\n",
       "      <td>7</td>\n",
       "      <td>0.0151</td>\n",
       "      <td>0.6189</td>\n",
       "      <td>0.0121</td>\n",
       "      <td>0.0121</td>\n",
       "      <td>0.3136</td>\n",
       "      <td>0.3136</td>\n",
       "      <td>1</td>\n",
       "      <td>fff36689a0fe5f</td>\n",
       "      <td>95cb1c55</td>\n",
       "      <td>fff36689a0fe5f\\t95cb1c55</td>\n",
       "      <td>4</td>\n",
       "      <td>25</td>\n",
       "      <td>31</td>\n",
       "      <td>c30fd19d</td>\n",
       "      <td>0.1731</td>\n",
       "      <td>0</td>\n",
       "      <td>17</td>\n",
       "      <td>0.1729</td>\n",
       "    </tr>\n",
       "    <tr>\n",
       "      <th>424930</th>\n",
       "      <td>0.8065</td>\n",
       "      <td>0.0033</td>\n",
       "      <td>0.0033</td>\n",
       "      <td>-0.0007</td>\n",
       "      <td>0.0007</td>\n",
       "      <td>0.0004</td>\n",
       "      <td>0.0004</td>\n",
       "      <td>0.0105</td>\n",
       "      <td>0.0105</td>\n",
       "      <td>0.0065</td>\n",
       "      <td>0.0065</td>\n",
       "      <td>0.0075</td>\n",
       "      <td>0.0075</td>\n",
       "      <td>0.0033</td>\n",
       "      <td>0.0033</td>\n",
       "      <td>-0.0007</td>\n",
       "      <td>0.0007</td>\n",
       "      <td>0.0004</td>\n",
       "      <td>0.0004</td>\n",
       "      <td>0.0105</td>\n",
       "      <td>0.0105</td>\n",
       "      <td>0.0065</td>\n",
       "      <td>0.0065</td>\n",
       "      <td>0.0075</td>\n",
       "      <td>0.0075</td>\n",
       "      <td>-26.7061</td>\n",
       "      <td>26.7061</td>\n",
       "      <td>-26.5202</td>\n",
       "      <td>26.5202</td>\n",
       "      <td>-26.7061</td>\n",
       "      <td>26.7061</td>\n",
       "      <td>-26.5202</td>\n",
       "      <td>26.5202</td>\n",
       "      <td>0.3654</td>\n",
       "      <td>0.3725</td>\n",
       "      <td>9.0000</td>\n",
       "      <td>9.1859</td>\n",
       "      <td>0.0000</td>\n",
       "      <td>0.0314</td>\n",
       "      <td>0.3574</td>\n",
       "      <td>0.0059</td>\n",
       "      <td>0.9218</td>\n",
       "      <td>0.6925</td>\n",
       "      <td>0.4808</td>\n",
       "      <td>12</td>\n",
       "      <td>0.0618</td>\n",
       "      <td>0.6332</td>\n",
       "      <td>0.4038</td>\n",
       "      <td>10</td>\n",
       "      <td>0.0127</td>\n",
       "      <td>0.5984</td>\n",
       "      <td>0.2115</td>\n",
       "      <td>5</td>\n",
       "      <td>0.0021</td>\n",
       "      <td>0.5589</td>\n",
       "      <td>0.1731</td>\n",
       "      <td>4</td>\n",
       "      <td>0.0002</td>\n",
       "      <td>0.5122</td>\n",
       "      <td>0.2885</td>\n",
       "      <td>7</td>\n",
       "      <td>0.0002</td>\n",
       "      <td>0.5097</td>\n",
       "      <td>0.5192</td>\n",
       "      <td>13</td>\n",
       "      <td>0.0002</td>\n",
       "      <td>0.5087</td>\n",
       "      <td>0.0192</td>\n",
       "      <td>0</td>\n",
       "      <td>0.0002</td>\n",
       "      <td>0.5075</td>\n",
       "      <td>0.2500</td>\n",
       "      <td>6</td>\n",
       "      <td>0.0002</td>\n",
       "      <td>0.5057</td>\n",
       "      <td>0.0577</td>\n",
       "      <td>1</td>\n",
       "      <td>0.0002</td>\n",
       "      <td>0.5016</td>\n",
       "      <td>0.0071</td>\n",
       "      <td>0.0071</td>\n",
       "      <td>0.1859</td>\n",
       "      <td>0.1859</td>\n",
       "      <td>0.3661</td>\n",
       "      <td>0.3621</td>\n",
       "      <td>0.3650</td>\n",
       "      <td>2</td>\n",
       "      <td>1</td>\n",
       "      <td>36.1051</td>\n",
       "      <td>36.0000</td>\n",
       "      <td>35.7061</td>\n",
       "      <td>0.0000</td>\n",
       "      <td>0.0099</td>\n",
       "      <td>1.0000</td>\n",
       "      <td>0.4050</td>\n",
       "      <td>40</td>\n",
       "      <td>0.0012</td>\n",
       "      <td>0.4450</td>\n",
       "      <td>44</td>\n",
       "      <td>0.0004</td>\n",
       "      <td>0.3750</td>\n",
       "      <td>37</td>\n",
       "      <td>0.0002</td>\n",
       "      <td>0.5150</td>\n",
       "      <td>51</td>\n",
       "      <td>0.0001</td>\n",
       "      <td>0.3250</td>\n",
       "      <td>32</td>\n",
       "      <td>0.0001</td>\n",
       "      <td>0.4850</td>\n",
       "      <td>48</td>\n",
       "      <td>0.0001</td>\n",
       "      <td>0.2850</td>\n",
       "      <td>28</td>\n",
       "      <td>0.0001</td>\n",
       "      <td>0.6350</td>\n",
       "      <td>63</td>\n",
       "      <td>0.0001</td>\n",
       "      <td>0.5950</td>\n",
       "      <td>59</td>\n",
       "      <td>0.0001</td>\n",
       "      <td>0.0040</td>\n",
       "      <td>0.0040</td>\n",
       "      <td>0.0011</td>\n",
       "      <td>0.0011</td>\n",
       "      <td>0.0029</td>\n",
       "      <td>0.0029</td>\n",
       "      <td>0.3991</td>\n",
       "      <td>0.3991</td>\n",
       "      <td>0.1051</td>\n",
       "      <td>0.1051</td>\n",
       "      <td>0.2939</td>\n",
       "      <td>0.2939</td>\n",
       "      <td>0.3654</td>\n",
       "      <td>0.3725</td>\n",
       "      <td>9.0000</td>\n",
       "      <td>9.1859</td>\n",
       "      <td>0.0000</td>\n",
       "      <td>0.0314</td>\n",
       "      <td>0.3574</td>\n",
       "      <td>0.0059</td>\n",
       "      <td>0.9218</td>\n",
       "      <td>0.6925</td>\n",
       "      <td>0.4808</td>\n",
       "      <td>12</td>\n",
       "      <td>0.0618</td>\n",
       "      <td>0.6332</td>\n",
       "      <td>0.4038</td>\n",
       "      <td>10</td>\n",
       "      <td>0.0127</td>\n",
       "      <td>0.5984</td>\n",
       "      <td>0.0071</td>\n",
       "      <td>0.0071</td>\n",
       "      <td>0.1859</td>\n",
       "      <td>0.1859</td>\n",
       "      <td>0</td>\n",
       "      <td>fff36689a0fe5f</td>\n",
       "      <td>b1924f1f</td>\n",
       "      <td>fff36689a0fe5f\\tb1924f1f</td>\n",
       "      <td>4</td>\n",
       "      <td>25</td>\n",
       "      <td>31</td>\n",
       "      <td>c30fd19d</td>\n",
       "      <td>0.3654</td>\n",
       "      <td>0</td>\n",
       "      <td>36</td>\n",
       "      <td>0.3706</td>\n",
       "    </tr>\n",
       "    <tr>\n",
       "      <th>424931</th>\n",
       "      <td>0.8065</td>\n",
       "      <td>-0.0003</td>\n",
       "      <td>0.0003</td>\n",
       "      <td>0.0047</td>\n",
       "      <td>0.0047</td>\n",
       "      <td>0.0042</td>\n",
       "      <td>0.0042</td>\n",
       "      <td>-0.0005</td>\n",
       "      <td>0.0005</td>\n",
       "      <td>0.0044</td>\n",
       "      <td>0.0044</td>\n",
       "      <td>0.0040</td>\n",
       "      <td>0.0040</td>\n",
       "      <td>-0.0003</td>\n",
       "      <td>0.0003</td>\n",
       "      <td>0.0047</td>\n",
       "      <td>0.0047</td>\n",
       "      <td>0.0042</td>\n",
       "      <td>0.0042</td>\n",
       "      <td>-0.0005</td>\n",
       "      <td>0.0005</td>\n",
       "      <td>0.0044</td>\n",
       "      <td>0.0044</td>\n",
       "      <td>0.0040</td>\n",
       "      <td>0.0040</td>\n",
       "      <td>-38.4531</td>\n",
       "      <td>38.4531</td>\n",
       "      <td>-38.4590</td>\n",
       "      <td>38.4590</td>\n",
       "      <td>-38.4531</td>\n",
       "      <td>38.4531</td>\n",
       "      <td>-38.4590</td>\n",
       "      <td>38.4590</td>\n",
       "      <td>0.5192</td>\n",
       "      <td>0.5190</td>\n",
       "      <td>13.0000</td>\n",
       "      <td>12.9941</td>\n",
       "      <td>0.0000</td>\n",
       "      <td>0.0338</td>\n",
       "      <td>0.4194</td>\n",
       "      <td>0.0063</td>\n",
       "      <td>0.9568</td>\n",
       "      <td>0.7548</td>\n",
       "      <td>0.5577</td>\n",
       "      <td>14</td>\n",
       "      <td>0.0344</td>\n",
       "      <td>0.6818</td>\n",
       "      <td>0.3269</td>\n",
       "      <td>8</td>\n",
       "      <td>0.0074</td>\n",
       "      <td>0.6479</td>\n",
       "      <td>0.2500</td>\n",
       "      <td>6</td>\n",
       "      <td>0.0005</td>\n",
       "      <td>0.5900</td>\n",
       "      <td>0.5962</td>\n",
       "      <td>15</td>\n",
       "      <td>0.0004</td>\n",
       "      <td>0.5846</td>\n",
       "      <td>0.2885</td>\n",
       "      <td>7</td>\n",
       "      <td>0.0002</td>\n",
       "      <td>0.5708</td>\n",
       "      <td>0.4808</td>\n",
       "      <td>12</td>\n",
       "      <td>0.0001</td>\n",
       "      <td>0.5554</td>\n",
       "      <td>0.8654</td>\n",
       "      <td>22</td>\n",
       "      <td>0.0001</td>\n",
       "      <td>0.5440</td>\n",
       "      <td>0.4423</td>\n",
       "      <td>11</td>\n",
       "      <td>0.0000</td>\n",
       "      <td>0.5235</td>\n",
       "      <td>0.3654</td>\n",
       "      <td>9</td>\n",
       "      <td>0.0000</td>\n",
       "      <td>0.5178</td>\n",
       "      <td>-0.0002</td>\n",
       "      <td>0.0002</td>\n",
       "      <td>-0.0059</td>\n",
       "      <td>0.0059</td>\n",
       "      <td>0.5146</td>\n",
       "      <td>0.5195</td>\n",
       "      <td>0.5150</td>\n",
       "      <td>1</td>\n",
       "      <td>2</td>\n",
       "      <td>50.9575</td>\n",
       "      <td>51.0000</td>\n",
       "      <td>51.4531</td>\n",
       "      <td>0.0000</td>\n",
       "      <td>0.0092</td>\n",
       "      <td>0.9619</td>\n",
       "      <td>0.4850</td>\n",
       "      <td>48</td>\n",
       "      <td>0.0266</td>\n",
       "      <td>0.4050</td>\n",
       "      <td>40</td>\n",
       "      <td>0.0026</td>\n",
       "      <td>0.5250</td>\n",
       "      <td>52</td>\n",
       "      <td>0.0021</td>\n",
       "      <td>0.4450</td>\n",
       "      <td>44</td>\n",
       "      <td>0.0015</td>\n",
       "      <td>0.5550</td>\n",
       "      <td>55</td>\n",
       "      <td>0.0011</td>\n",
       "      <td>0.5950</td>\n",
       "      <td>59</td>\n",
       "      <td>0.0011</td>\n",
       "      <td>0.3650</td>\n",
       "      <td>36</td>\n",
       "      <td>0.0009</td>\n",
       "      <td>0.2850</td>\n",
       "      <td>28</td>\n",
       "      <td>0.0007</td>\n",
       "      <td>0.6350</td>\n",
       "      <td>63</td>\n",
       "      <td>0.0006</td>\n",
       "      <td>-0.0050</td>\n",
       "      <td>0.0050</td>\n",
       "      <td>-0.0004</td>\n",
       "      <td>0.0004</td>\n",
       "      <td>-0.0045</td>\n",
       "      <td>0.0045</td>\n",
       "      <td>-0.4956</td>\n",
       "      <td>0.4956</td>\n",
       "      <td>-0.0425</td>\n",
       "      <td>0.0425</td>\n",
       "      <td>-0.4531</td>\n",
       "      <td>0.4531</td>\n",
       "      <td>0.5192</td>\n",
       "      <td>0.5190</td>\n",
       "      <td>13.0000</td>\n",
       "      <td>12.9941</td>\n",
       "      <td>0.0000</td>\n",
       "      <td>0.0338</td>\n",
       "      <td>0.4194</td>\n",
       "      <td>0.0063</td>\n",
       "      <td>0.9568</td>\n",
       "      <td>0.7548</td>\n",
       "      <td>0.5577</td>\n",
       "      <td>14</td>\n",
       "      <td>0.0344</td>\n",
       "      <td>0.6818</td>\n",
       "      <td>0.3269</td>\n",
       "      <td>8</td>\n",
       "      <td>0.0074</td>\n",
       "      <td>0.6479</td>\n",
       "      <td>-0.0002</td>\n",
       "      <td>0.0002</td>\n",
       "      <td>-0.0059</td>\n",
       "      <td>0.0059</td>\n",
       "      <td>0</td>\n",
       "      <td>fff36689a0fe5f</td>\n",
       "      <td>fef98b7e</td>\n",
       "      <td>fff36689a0fe5f\\tfef98b7e</td>\n",
       "      <td>4</td>\n",
       "      <td>25</td>\n",
       "      <td>31</td>\n",
       "      <td>c30fd19d</td>\n",
       "      <td>0.5192</td>\n",
       "      <td>0</td>\n",
       "      <td>51</td>\n",
       "      <td>0.5210</td>\n",
       "    </tr>\n",
       "  </tbody>\n",
       "</table>\n",
       "<p>82532 rows × 167 columns</p>\n",
       "</div>"
      ],
      "text/plain": [
       "        code_ratio  pc_reg_diff  abs_pc_reg_diff  pc_cls_diff  \\\n",
       "54          0.5895      -0.0030           0.0030      -0.0004   \n",
       "55          0.5895      -0.0113           0.0113      -0.0117   \n",
       "56          0.5895      -0.0018           0.0018       0.0036   \n",
       "57          0.5895       0.0049           0.0049       0.0026   \n",
       "58          0.5895       0.0027           0.0027       0.0024   \n",
       "...            ...          ...              ...          ...   \n",
       "424927      0.8065       0.0042           0.0042      -0.0060   \n",
       "424928      0.8065      -0.0014           0.0014      -0.0006   \n",
       "424929      0.8065       0.0353           0.0353       0.0384   \n",
       "424930      0.8065       0.0033           0.0033      -0.0007   \n",
       "424931      0.8065      -0.0003           0.0003       0.0047   \n",
       "\n",
       "        abs_pc_cls_diff  pc_cls2_diff  abs_pc_cls2_diff  pc_cls_reg_diff  \\\n",
       "54               0.0004        0.0018            0.0018          -0.0008   \n",
       "55               0.0117       -0.0018            0.0018          -0.0091   \n",
       "56               0.0036        0.0048            0.0048          -0.0020   \n",
       "57               0.0026        0.0013            0.0013           0.0023   \n",
       "58               0.0024        0.0003            0.0003           0.0027   \n",
       "...                 ...           ...               ...              ...   \n",
       "424927           0.0060       -0.0050            0.0050           0.0078   \n",
       "424928           0.0006       -0.0012            0.0012          -0.0098   \n",
       "424929           0.0384        0.0365            0.0365           0.0287   \n",
       "424930           0.0007        0.0004            0.0004           0.0105   \n",
       "424931           0.0047        0.0042            0.0042          -0.0005   \n",
       "\n",
       "        abs_pc_cls_reg_diff  pc_cls_cls_diff  abs_pc_cls_cls_diff  \\\n",
       "54                   0.0008           0.0019               0.0019   \n",
       "55                   0.0091          -0.0095               0.0095   \n",
       "56                   0.0020           0.0034               0.0034   \n",
       "57                   0.0023          -0.0001               0.0001   \n",
       "58                   0.0027           0.0024               0.0024   \n",
       "...                     ...              ...                  ...   \n",
       "424927               0.0078          -0.0023               0.0023   \n",
       "424928               0.0098          -0.0090               0.0090   \n",
       "424929               0.0287           0.0318               0.0318   \n",
       "424930               0.0105           0.0065               0.0065   \n",
       "424931               0.0005           0.0044               0.0044   \n",
       "\n",
       "        pc_cls_cls2_diff  abs_pc_cls_cls2_diff  pcc_reg_diff  \\\n",
       "54                0.0041                0.0041       -0.0030   \n",
       "55                0.0003                0.0003       -0.0113   \n",
       "56                0.0046                0.0046       -0.0018   \n",
       "57               -0.0013                0.0013        0.0049   \n",
       "58                0.0003                0.0003        0.0027   \n",
       "...                  ...                   ...           ...   \n",
       "424927           -0.0013                0.0013        0.0042   \n",
       "424928           -0.0095                0.0095       -0.0014   \n",
       "424929            0.0300                0.0300       -0.0032   \n",
       "424930            0.0075                0.0075        0.0033   \n",
       "424931            0.0040                0.0040       -0.0003   \n",
       "\n",
       "        abs_pcc_reg_diff  pcc_cls_diff  abs_pcc_cls_diff  pcc_cls2_diff  \\\n",
       "54                0.0030       -0.0004            0.0004         0.0018   \n",
       "55                0.0113       -0.0117            0.0117        -0.0018   \n",
       "56                0.0018        0.0036            0.0036         0.0048   \n",
       "57                0.0049        0.0026            0.0026         0.0013   \n",
       "58                0.0027        0.0024            0.0024         0.0003   \n",
       "...                  ...           ...               ...            ...   \n",
       "424927            0.0042       -0.0060            0.0060        -0.0050   \n",
       "424928            0.0014       -0.0006            0.0006        -0.0012   \n",
       "424929            0.0032       -0.0001            0.0001        -0.0019   \n",
       "424930            0.0033       -0.0007            0.0007         0.0004   \n",
       "424931            0.0003        0.0047            0.0047         0.0042   \n",
       "\n",
       "        abs_pcc_cls2_diff  pcc_cls_reg_diff  abs_pcc_cls_reg_diff  \\\n",
       "54                 0.0018           -0.0008                0.0008   \n",
       "55                 0.0018           -0.0091                0.0091   \n",
       "56                 0.0048           -0.0020                0.0020   \n",
       "57                 0.0013           -0.0001                0.0001   \n",
       "58                 0.0003            0.0027                0.0027   \n",
       "...                   ...               ...                   ...   \n",
       "424927             0.0050            0.0078                0.0078   \n",
       "424928             0.0012           -0.0041                0.0041   \n",
       "424929             0.0019            0.0089                0.0089   \n",
       "424930             0.0004            0.0105                0.0105   \n",
       "424931             0.0042           -0.0005                0.0005   \n",
       "\n",
       "        pcc_cls_cls_diff  abs_pcc_cls_cls_diff  pcc_cls_cls2_diff  \\\n",
       "54                0.0019                0.0019             0.0041   \n",
       "55               -0.0095                0.0095             0.0003   \n",
       "56                0.0034                0.0034             0.0046   \n",
       "57               -0.0024                0.0024            -0.0037   \n",
       "58                0.0024                0.0024             0.0003   \n",
       "...                  ...                   ...                ...   \n",
       "424927           -0.0023                0.0023            -0.0013   \n",
       "424928           -0.0032                0.0032            -0.0038   \n",
       "424929            0.0120                0.0120             0.0101   \n",
       "424930            0.0065                0.0065             0.0075   \n",
       "424931            0.0044                0.0044             0.0040   \n",
       "\n",
       "        abs_pcc_cls_cls2_diff  pc_cls_rank_diff  abs_pc_cls_rank_diff  \\\n",
       "54                     0.0041          -10.4868               10.4868   \n",
       "55                     0.0003          -33.9414               33.9414   \n",
       "56                     0.0046          -18.6641               18.6641   \n",
       "57                     0.0037           -0.6378                0.6378   \n",
       "58                     0.0003          -25.7539               25.7539   \n",
       "...                       ...               ...                   ...   \n",
       "424927                 0.0013          -18.0850               18.0850   \n",
       "424928                 0.0038          -30.0273               30.0273   \n",
       "424929                 0.0101          -12.1270               12.1270   \n",
       "424930                 0.0075          -26.7061               26.7061   \n",
       "424931                 0.0040          -38.4531               38.4531   \n",
       "\n",
       "        pc_cls_reg_rank_diff  abs_pc_cls_reg_rank_diff  pcc_cls_rank_diff  \\\n",
       "54                  -10.3585                   10.3585           -10.4868   \n",
       "55                  -33.8165                   33.8165           -33.9414   \n",
       "56                  -18.6760                   18.6760           -18.6641   \n",
       "57                   -0.7896                    0.7896            -0.6378   \n",
       "58                  -25.7543                   25.7543           -25.7539   \n",
       "...                      ...                       ...                ...   \n",
       "424927              -17.9892                   17.9892           -18.0850   \n",
       "424928              -30.2453                   30.2453           -30.0273   \n",
       "424929              -12.2973                   12.2973           -13.1270   \n",
       "424930              -26.5202                   26.5202           -26.7061   \n",
       "424931              -38.4590                   38.4590           -38.4531   \n",
       "\n",
       "        abs_pcc_cls_rank_diff  pcc_cls_reg_rank_diff  \\\n",
       "54                    10.4868               -10.3585   \n",
       "55                    33.9414               -33.8165   \n",
       "56                    18.6641               -18.6760   \n",
       "57                     0.6378                -0.9236   \n",
       "58                    25.7539               -25.7543   \n",
       "...                       ...                    ...   \n",
       "424927                18.0850               -17.9892   \n",
       "424928                30.0273               -30.0956   \n",
       "424929                13.1270               -12.8134   \n",
       "424930                26.7061               -26.5202   \n",
       "424931                38.4531               -38.4590   \n",
       "\n",
       "        abs_pcc_cls_reg_rank_diff  xp_pred  xp_cls_pred  xp_rank_pred  \\\n",
       "54                        10.3585   0.2368       0.2391       13.0000   \n",
       "55                        33.8165   0.7632       0.7653       43.0000   \n",
       "56                        18.6760   0.4298       0.4296       24.0000   \n",
       "57                         0.9236   0.0263       0.0237        1.0000   \n",
       "58                        25.7543   0.6053       0.6053       34.0000   \n",
       "...                           ...      ...          ...           ...   \n",
       "424927                    17.9892   0.2500       0.2537        6.0000   \n",
       "424928                    30.0956   0.4038       0.3955       10.0000   \n",
       "424929                    12.8134   0.2115       0.2050        5.0000   \n",
       "424930                    26.5202   0.3654       0.3725        9.0000   \n",
       "424931                    38.4590   0.5192       0.5190       13.0000   \n",
       "\n",
       "        xp_cls_rank_pred  xp_min_prob  xp_var_prob  xp_min_sim  xp_var_sim  \\\n",
       "54               13.1284       0.0000       0.0160      0.3837      0.0085   \n",
       "55               43.1249       0.0000       0.0134      0.3038      0.0060   \n",
       "56               23.9881       0.0000       0.0171      0.2332      0.0078   \n",
       "57                0.8481       0.0000       0.0105      0.3833      0.0073   \n",
       "58               33.9996       0.0000       0.0132      0.3717      0.0061   \n",
       "...                  ...          ...          ...         ...         ...   \n",
       "424927            6.0958       0.0000       0.0309      0.2765      0.0114   \n",
       "424928            9.7820       0.0000       0.0181      0.3116      0.0060   \n",
       "424929            4.8296       0.0000       0.0227      0.3505      0.0086   \n",
       "424930            9.1859       0.0000       0.0314      0.3574      0.0059   \n",
       "424931           12.9941       0.0000       0.0338      0.4194      0.0063   \n",
       "\n",
       "        xp_top_prob_0  xp_top_sim_0  xp_top_pred_1  xp_top_rank_1  \\\n",
       "54             0.9640        0.7873         0.2544             14   \n",
       "55             0.8777        0.7252         0.7807             44   \n",
       "56             0.9970        0.6821         0.3070             17   \n",
       "57             0.7531        0.7924         0.0088              0   \n",
       "58             0.8754        0.7375         0.5351             30   \n",
       "...               ...           ...            ...            ...   \n",
       "424927         0.9147        0.7264         0.2885              7   \n",
       "424928         0.6968        0.6093         0.4808             12   \n",
       "424929         0.7615        0.7160         0.1731              4   \n",
       "424930         0.9218        0.6925         0.4808             12   \n",
       "424931         0.9568        0.7548         0.5577             14   \n",
       "\n",
       "        xp_top_prob_1  xp_top_sim_1  xp_top_pred_2  xp_top_rank_2  \\\n",
       "54             0.0204        0.7026         0.5351             30   \n",
       "55             0.1110        0.6798         0.7982             45   \n",
       "56             0.0018        0.5436         0.3246             18   \n",
       "57             0.2180        0.7652         0.0439              2   \n",
       "58             0.0457        0.6726         0.5702             32   \n",
       "...               ...           ...            ...            ...   \n",
       "424927         0.0737        0.6711         0.3269              8   \n",
       "424928         0.1075        0.5683         0.2115              5   \n",
       "424929         0.2224        0.6890         0.2885              7   \n",
       "424930         0.0618        0.6332         0.4038             10   \n",
       "424931         0.0344        0.6818         0.3269              8   \n",
       "\n",
       "        xp_top_prob_2  xp_top_sim_2  xp_top_pred_3  xp_top_rank_3  \\\n",
       "54             0.0038        0.6660         0.3070             17   \n",
       "55             0.0098        0.6266         0.8333             47   \n",
       "56             0.0003        0.5028         0.4825             27   \n",
       "57             0.0274        0.7197         0.9912             56   \n",
       "58             0.0289        0.6626         0.6228             35   \n",
       "...               ...           ...            ...            ...   \n",
       "424927         0.0110        0.6293         0.2115              5   \n",
       "424928         0.0772        0.5610         0.3654              9   \n",
       "424929         0.0092        0.6189         0.5192             13   \n",
       "424930         0.0127        0.5984         0.2115              5   \n",
       "424931         0.0074        0.6479         0.2500              6   \n",
       "\n",
       "        xp_top_prob_3  xp_top_sim_3  xp_top_pred_4  xp_top_rank_4  \\\n",
       "54             0.0016        0.6462         0.3772             21   \n",
       "55             0.0004        0.5554         0.8684             49   \n",
       "56             0.0003        0.5013         0.5175             29   \n",
       "57             0.0005        0.6315         0.0614              3   \n",
       "58             0.0135        0.6459         0.5526             31   \n",
       "...               ...           ...            ...            ...   \n",
       "424927         0.0004        0.5558         0.1731              4   \n",
       "424928         0.0570        0.5543         0.4423             11   \n",
       "424929         0.0027        0.5918         0.3269              8   \n",
       "424930         0.0021        0.5589         0.1731              4   \n",
       "424931         0.0005        0.5900         0.5962             15   \n",
       "\n",
       "        xp_top_prob_4  xp_top_sim_4  xp_top_pred_5  xp_top_rank_5  \\\n",
       "54             0.0015        0.6456         0.1491              8   \n",
       "55             0.0003        0.5486         0.8158             46   \n",
       "56             0.0002        0.4981         0.5000             28   \n",
       "57             0.0002        0.6155         0.3070             17   \n",
       "58             0.0096        0.6385         0.8684             49   \n",
       "...               ...           ...            ...            ...   \n",
       "424927         0.0001        0.5176         0.5192             13   \n",
       "424928         0.0482        0.5507         0.2500              6   \n",
       "424929         0.0015        0.5787         0.2500              6   \n",
       "424930         0.0002        0.5122         0.2885              7   \n",
       "424931         0.0004        0.5846         0.2885              7   \n",
       "\n",
       "        xp_top_prob_5  xp_top_sim_5  xp_top_pred_6  xp_top_rank_6  \\\n",
       "54             0.0014        0.6436         0.4825             27   \n",
       "55             0.0002        0.5427         0.6053             34   \n",
       "56             0.0002        0.4900         0.4474             25   \n",
       "57             0.0001        0.6044         0.1491              8   \n",
       "58             0.0077        0.6335         0.7632             43   \n",
       "...               ...           ...            ...            ...   \n",
       "424927         0.0000        0.5105         0.4038             10   \n",
       "424928         0.0053        0.5021         0.1731              4   \n",
       "424929         0.0011        0.5723         0.4038             10   \n",
       "424930         0.0002        0.5097         0.5192             13   \n",
       "424931         0.0002        0.5708         0.4808             12   \n",
       "\n",
       "        xp_top_prob_6  xp_top_sim_6  xp_top_pred_7  xp_top_rank_7  \\\n",
       "54             0.0014        0.6435         0.1667              9   \n",
       "55             0.0001        0.5321         0.0263              1   \n",
       "56             0.0001        0.4858         0.3772             21   \n",
       "57             0.0001        0.6040         0.0965              5   \n",
       "58             0.0035        0.6159         0.8860             50   \n",
       "...               ...           ...            ...            ...   \n",
       "424927         0.0000        0.5073         0.3654              9   \n",
       "424928         0.0024        0.4845         0.2885              7   \n",
       "424929         0.0009        0.5677         0.1346              3   \n",
       "424930         0.0002        0.5087         0.0192              0   \n",
       "424931         0.0001        0.5554         0.8654             22   \n",
       "\n",
       "        xp_top_prob_7  xp_top_sim_7  xp_top_pred_8  xp_top_rank_8  \\\n",
       "54             0.0010        0.6366         0.0263              1   \n",
       "55             0.0001        0.5271         0.5877             33   \n",
       "56             0.0000        0.4596         0.4649             26   \n",
       "57             0.0001        0.5861         0.1316              7   \n",
       "58             0.0032        0.6142         0.6579             37   \n",
       "...               ...           ...            ...            ...   \n",
       "424927         0.0000        0.4928         0.5577             14   \n",
       "424928         0.0020        0.4806         0.5192             13   \n",
       "424929         0.0004        0.5476         0.5577             14   \n",
       "424930         0.0002        0.5075         0.2500              6   \n",
       "424931         0.0001        0.5440         0.4423             11   \n",
       "\n",
       "        xp_top_prob_8  xp_top_sim_8  xp_top_pred_9  xp_top_rank_9  \\\n",
       "54             0.0008        0.6302         0.2895             16   \n",
       "55             0.0001        0.5164         0.8509             48   \n",
       "56             0.0000        0.4512         0.3421             19   \n",
       "57             0.0001        0.5839         0.2544             14   \n",
       "58             0.0030        0.6127         0.8333             47   \n",
       "...               ...           ...            ...            ...   \n",
       "424927         0.0000        0.4617         0.4808             12   \n",
       "424928         0.0018        0.4781         0.3269              8   \n",
       "424929         0.0001        0.5280         0.4808             12   \n",
       "424930         0.0002        0.5057         0.0577              1   \n",
       "424931         0.0000        0.5235         0.3654              9   \n",
       "\n",
       "        xp_top_prob_9  xp_top_sim_9  xp_cls_diff  xp_abs_cls_diff  \\\n",
       "54             0.0006        0.6243       0.0023           0.0023   \n",
       "55             0.0000        0.5046       0.0022           0.0022   \n",
       "56             0.0000        0.4239      -0.0002           0.0002   \n",
       "57             0.0001        0.5838      -0.0027           0.0027   \n",
       "58             0.0024        0.6083      -0.0000           0.0000   \n",
       "...               ...           ...          ...              ...   \n",
       "424927         0.0000        0.4566       0.0037           0.0037   \n",
       "424928         0.0010        0.4649      -0.0084           0.0084   \n",
       "424929         0.0001        0.5278      -0.0066           0.0066   \n",
       "424930         0.0002        0.5016       0.0071           0.0071   \n",
       "424931         0.0000        0.5178      -0.0002           0.0002   \n",
       "\n",
       "        xp_cls_rank_diff  xp_abs_cls_rank_diff  xc_cls_pred  xc_reg_pred  \\\n",
       "54                0.1284                0.1284       0.2372       0.2399   \n",
       "55                0.1249                0.1249       0.7749       0.7744   \n",
       "56               -0.0119                0.0119       0.4262       0.4316   \n",
       "57               -0.1519                0.1519       0.0237       0.0214   \n",
       "58               -0.0004                0.0004       0.6029       0.6025   \n",
       "...                  ...                   ...          ...          ...   \n",
       "424927            0.0958                0.0958       0.2560       0.2458   \n",
       "424928           -0.2180                0.2180       0.4045       0.4053   \n",
       "424929           -0.1704                0.1704       0.1732       0.1763   \n",
       "424930            0.1859                0.1859       0.3661       0.3621   \n",
       "424931           -0.0059                0.0059       0.5146       0.5195   \n",
       "\n",
       "        xc_cls2_pred  xc_group_pos  xc_group_rank  xc_cls_rank_pred  \\\n",
       "54            0.2350             1              1           23.2199   \n",
       "55            0.7650             1              1           76.9861   \n",
       "56            0.4250             2              1           42.1203   \n",
       "57            0.0250             0              0            1.8713   \n",
       "58            0.6050             1              2           59.7853   \n",
       "...              ...           ...            ...               ...   \n",
       "424927        0.2550             0              0           25.0969   \n",
       "424928        0.4050             2              2           39.9453   \n",
       "424929        0.1750             1              1           16.8158   \n",
       "424930        0.3650             2              1           36.1051   \n",
       "424931        0.5150             1              2           50.9575   \n",
       "\n",
       "        xc_cls2_rank_pred  xc_reg_rank_pred  xc_min_prob  xc_var_prob  \\\n",
       "54                23.0000           23.4868       0.0000       0.0078   \n",
       "55                76.0000           76.9414       0.0000       0.0047   \n",
       "56                42.0000           42.6641       0.0000       0.0061   \n",
       "57                 2.0000            1.6378       0.0000       0.0057   \n",
       "58                60.0000           59.7539       0.0000       0.0094   \n",
       "...                   ...               ...          ...          ...   \n",
       "424927            25.0000           24.0850       0.0000       0.0096   \n",
       "424928            40.0000           40.0273       0.0000       0.0095   \n",
       "424929            17.0000           17.1270       0.0000       0.0061   \n",
       "424930            36.0000           35.7061       0.0000       0.0099   \n",
       "424931            51.0000           51.4531       0.0000       0.0092   \n",
       "\n",
       "        xc_top_prob_0  xc_top_pred_1  xc_tpop_rank_1  xc_top_prob_1  \\\n",
       "54             0.8823         0.2550              25         0.0998   \n",
       "55             0.5229         0.7850              78         0.4507   \n",
       "56             0.7432         0.4350              43         0.2489   \n",
       "57             0.7490         0.0150               1         0.1105   \n",
       "58             0.9771         0.5350              53         0.0064   \n",
       "...               ...            ...             ...            ...   \n",
       "424927         0.9844         0.2850              28         0.0068   \n",
       "424928         0.9771         0.4450              44         0.0128   \n",
       "424929         0.7729         0.1350              13         0.1242   \n",
       "424930         1.0000         0.4050              40         0.0012   \n",
       "424931         0.9619         0.4850              48         0.0266   \n",
       "\n",
       "        xc_top_pred_2  xc_tpop_rank_2  xc_top_prob_2  xc_top_pred_3  \\\n",
       "54             0.2850              28         0.0018         0.2450   \n",
       "55             0.7750              77         0.0115         0.7950   \n",
       "56             0.4150              41         0.0020         0.4450   \n",
       "57             0.0050               0         0.0821         0.0350   \n",
       "58             0.5850              58         0.0035         0.6150   \n",
       "...               ...             ...            ...            ...   \n",
       "424927         0.3250              32         0.0042         0.3650   \n",
       "424928         0.3650              36         0.0025         0.4850   \n",
       "424929         0.2150              21         0.0464         0.2550   \n",
       "424930         0.4450              44         0.0004         0.3750   \n",
       "424931         0.4050              40         0.0026         0.5250   \n",
       "\n",
       "        xc_tpop_rank_3  xc_top_prob_3  xc_top_pred_4  xc_tpop_rank_4  \\\n",
       "54                  24         0.0018         0.2150              21   \n",
       "55                  79         0.0071         0.7550              75   \n",
       "56                  44         0.0008         0.4750              47   \n",
       "57                   3         0.0419         0.0450               4   \n",
       "58                  61         0.0021         0.5950              59   \n",
       "...                ...            ...            ...             ...   \n",
       "424927              36         0.0013         0.2150              21   \n",
       "424928              48         0.0020         0.4150              41   \n",
       "424929              25         0.0095         0.0950               9   \n",
       "424930              37         0.0002         0.5150              51   \n",
       "424931              52         0.0021         0.4450              44   \n",
       "\n",
       "        xc_top_prob_4  xc_top_pred_5  xc_tpop_rank_5  xc_top_prob_5  \\\n",
       "54             0.0016         0.2650              26         0.0009   \n",
       "55             0.0036         0.7450              74         0.0019   \n",
       "56             0.0003         0.4550              45         0.0002   \n",
       "57             0.0127         0.9950              99         0.0006   \n",
       "58             0.0013         0.5550              55         0.0010   \n",
       "...               ...            ...             ...            ...   \n",
       "424927         0.0012         0.1750              17         0.0005   \n",
       "424928         0.0006         0.3250              32         0.0004   \n",
       "424929         0.0079         0.0550               5         0.0066   \n",
       "424930         0.0001         0.3250              32         0.0001   \n",
       "424931         0.0015         0.5550              55         0.0011   \n",
       "\n",
       "        xc_top_pred_6  xc_tpop_rank_6  xc_top_prob_6  xc_top_pred_7  \\\n",
       "54             0.2750              27         0.0008         0.1550   \n",
       "55             0.7350              73         0.0004         0.8150   \n",
       "56             0.4050              40         0.0002         0.4650   \n",
       "57             0.0550               5         0.0006         0.0650   \n",
       "58             0.5050              50         0.0008         0.4650   \n",
       "...               ...             ...            ...            ...   \n",
       "424927         0.4050              40         0.0005         0.1350   \n",
       "424928         0.2550              25         0.0004         0.3950   \n",
       "424929         0.2050              20         0.0064         0.1650   \n",
       "424930         0.4850              48         0.0001         0.2850   \n",
       "424931         0.5950              59         0.0011         0.3650   \n",
       "\n",
       "        xc_tpop_rank_7  xc_top_prob_7  xc_top_pred_8  xc_tpop_rank_8  \\\n",
       "54                  15         0.0008         0.4150              41   \n",
       "55                  81         0.0003         0.7250              72   \n",
       "56                  46         0.0002         0.3050              30   \n",
       "57                   6         0.0006         0.0950               9   \n",
       "58                  46         0.0006         0.6250              62   \n",
       "...                ...            ...            ...             ...   \n",
       "424927              13         0.0003         0.4450              44   \n",
       "424928              39         0.0002         0.5150              51   \n",
       "424929              16         0.0055         0.2850              28   \n",
       "424930              28         0.0001         0.6350              63   \n",
       "424931              36         0.0009         0.2850              28   \n",
       "\n",
       "        xc_top_prob_8  xc_top_pred_9  xc_tpop_rank_9  xc_top_prob_9  \\\n",
       "54             0.0007         0.3350              33         0.0007   \n",
       "55             0.0003         0.7050              70         0.0002   \n",
       "56             0.0002         0.4850              48         0.0002   \n",
       "57             0.0003         0.0750               7         0.0002   \n",
       "58             0.0005         0.5750              57         0.0005   \n",
       "...               ...            ...             ...            ...   \n",
       "424927         0.0003         0.2450              24         0.0002   \n",
       "424928         0.0002         0.2850              28         0.0002   \n",
       "424929         0.0028         0.1450              14         0.0027   \n",
       "424930         0.0001         0.5950              59         0.0001   \n",
       "424931         0.0007         0.6350              63         0.0006   \n",
       "\n",
       "        xc_cls_reg_diff  xc_abs_cls_reg_diff  xc_cls_cls2_diff  \\\n",
       "54              -0.0027               0.0027            0.0022   \n",
       "55               0.0004               0.0004            0.0099   \n",
       "56              -0.0054               0.0054            0.0012   \n",
       "57               0.0023               0.0023           -0.0013   \n",
       "58               0.0003               0.0003           -0.0021   \n",
       "...                 ...                  ...               ...   \n",
       "424927           0.0101               0.0101            0.0010   \n",
       "424928          -0.0008               0.0008           -0.0005   \n",
       "424929          -0.0031               0.0031           -0.0018   \n",
       "424930           0.0040               0.0040            0.0011   \n",
       "424931          -0.0050               0.0050           -0.0004   \n",
       "\n",
       "        xc_abs_cls_cls2_diff  xc_cls2_reg_diff  xc_abs_cls2_reg_diff  \\\n",
       "54                    0.0022           -0.0049                0.0049   \n",
       "55                    0.0099           -0.0094                0.0094   \n",
       "56                    0.0012           -0.0066                0.0066   \n",
       "57                    0.0013            0.0036                0.0036   \n",
       "58                    0.0021            0.0025                0.0025   \n",
       "...                      ...               ...                   ...   \n",
       "424927                0.0010            0.0092                0.0092   \n",
       "424928                0.0005           -0.0003                0.0003   \n",
       "424929                0.0018           -0.0013                0.0013   \n",
       "424930                0.0011            0.0029                0.0029   \n",
       "424931                0.0004           -0.0045                0.0045   \n",
       "\n",
       "        xc_cls_reg_rank_diff  xc_abs_cls_reg_rank_diff  xc_cls_cls2_rank_diff  \\\n",
       "54                   -0.2669                    0.2669                 0.2199   \n",
       "55                    0.0446                    0.0446                 0.9861   \n",
       "56                   -0.5437                    0.5437                 0.1203   \n",
       "57                    0.2336                    0.2336                -0.1287   \n",
       "58                    0.0314                    0.0314                -0.2147   \n",
       "...                      ...                       ...                    ...   \n",
       "424927                1.0119                    1.0119                 0.0969   \n",
       "424928               -0.0821                    0.0821                -0.0547   \n",
       "424929               -0.3112                    0.3112                -0.1842   \n",
       "424930                0.3991                    0.3991                 0.1051   \n",
       "424931               -0.4956                    0.4956                -0.0425   \n",
       "\n",
       "        xc_abs_cls_cls2_rank_diff  xc_cls2_reg_rank_diff  \\\n",
       "54                         0.2199                -0.4868   \n",
       "55                         0.9861                -0.9414   \n",
       "56                         0.1203                -0.6641   \n",
       "57                         0.1287                 0.3622   \n",
       "58                         0.2147                 0.2461   \n",
       "...                           ...                    ...   \n",
       "424927                     0.0969                 0.9150   \n",
       "424928                     0.0547                -0.0273   \n",
       "424929                     0.1842                -0.1270   \n",
       "424930                     0.1051                 0.2939   \n",
       "424931                     0.0425                -0.4531   \n",
       "\n",
       "        xc_abs_cls2_reg_rank_diff  xpc_pred  xpc_cls_pred  xpc_rank_pred  \\\n",
       "54                         0.4868    0.2368        0.2391        13.0000   \n",
       "55                         0.9414    0.7632        0.7653        43.0000   \n",
       "56                         0.6641    0.4298        0.4296        24.0000   \n",
       "57                         0.3622    0.0263        0.0213         1.0000   \n",
       "58                         0.2461    0.6053        0.6053        34.0000   \n",
       "...                           ...       ...           ...            ...   \n",
       "424927                     0.9150    0.2500        0.2537         6.0000   \n",
       "424928                     0.0273    0.4038        0.4012        10.0000   \n",
       "424929                     0.1270    0.1731        0.1851         4.0000   \n",
       "424930                     0.2939    0.3654        0.3725         9.0000   \n",
       "424931                     0.4531    0.5192        0.5190        13.0000   \n",
       "\n",
       "        xpc_cls_rank_pred  xpc_min_prob  xpc_var_prob  xpc_min_sim  \\\n",
       "54                13.1284        0.0000        0.0160       0.3837   \n",
       "55                43.1249        0.0000        0.0134       0.3038   \n",
       "56                23.9881        0.0000        0.0171       0.2332   \n",
       "57                 0.7142        0.0000        0.0085       0.3833   \n",
       "58                33.9996        0.0000        0.0132       0.3717   \n",
       "...                   ...           ...           ...          ...   \n",
       "424927             6.0958        0.0000        0.0309       0.2765   \n",
       "424928             9.9318        0.0000        0.0255       0.3116   \n",
       "424929             4.3136        0.0000        0.0220       0.3505   \n",
       "424930             9.1859        0.0000        0.0314       0.3574   \n",
       "424931            12.9941        0.0000        0.0338       0.4194   \n",
       "\n",
       "        xpc_var_sim  xpc_top_prob_0  xpc_top_sim_0  xpc_top_pred_1  \\\n",
       "54           0.0085          0.9640         0.7873          0.2544   \n",
       "55           0.0060          0.8777         0.7252          0.7807   \n",
       "56           0.0078          0.9970         0.6821          0.3070   \n",
       "57           0.0073          0.6153         0.7924          0.0088   \n",
       "58           0.0061          0.8754         0.7375          0.5351   \n",
       "...             ...             ...            ...             ...   \n",
       "424927       0.0114          0.9147         0.7264          0.2885   \n",
       "424928       0.0060          0.8338         0.6093          0.3654   \n",
       "424929       0.0086          0.7472         0.6890          0.2115   \n",
       "424930       0.0059          0.9218         0.6925          0.4808   \n",
       "424931       0.0063          0.9568         0.7548          0.5577   \n",
       "\n",
       "        xpc_top_rank_1  xpc_top_prob_1  xpc_top_sim_1  xpc_top_pred_2  \\\n",
       "54                  14          0.0204         0.7026          0.5351   \n",
       "55                  44          0.1110         0.6798          0.7982   \n",
       "56                  17          0.0018         0.5436          0.3246   \n",
       "57                   0          0.3540         0.7652          0.0439   \n",
       "58                  30          0.0457         0.6726          0.5702   \n",
       "...                ...             ...            ...             ...   \n",
       "424927               7          0.0737         0.6711          0.3269   \n",
       "424928               9          0.0570         0.5543          0.4423   \n",
       "424929               5          0.2302         0.7160          0.2885   \n",
       "424930              12          0.0618         0.6332          0.4038   \n",
       "424931              14          0.0344         0.6818          0.3269   \n",
       "\n",
       "        xpc_top_rank_2  xpc_top_prob_2  xpc_top_sim_2  xpc_cls_diff  \\\n",
       "54                  30          0.0038         0.6660        0.0023   \n",
       "55                  45          0.0098         0.6266        0.0022   \n",
       "56                  18          0.0003         0.5028       -0.0002   \n",
       "57                   2          0.0293         0.7197       -0.0050   \n",
       "58                  32          0.0289         0.6626       -0.0000   \n",
       "...                ...             ...            ...           ...   \n",
       "424927               8          0.0110         0.6293        0.0037   \n",
       "424928              11          0.0482         0.5507       -0.0026   \n",
       "424929               7          0.0151         0.6189        0.0121   \n",
       "424930              10          0.0127         0.5984        0.0071   \n",
       "424931               8          0.0074         0.6479       -0.0002   \n",
       "\n",
       "        xpc_abs_cls_diff  xpc_cls_rank_diff  xpc_abs_cls_rank_diff  xpc_mark  \\\n",
       "54                0.0023             0.1284                 0.1284         0   \n",
       "55                0.0022             0.1249                 0.1249         0   \n",
       "56                0.0002            -0.0119                 0.0119         0   \n",
       "57                0.0050            -0.2858                 0.2858         1   \n",
       "58                0.0000            -0.0004                 0.0004         0   \n",
       "...                  ...                ...                    ...       ...   \n",
       "424927            0.0037             0.0958                 0.0958         0   \n",
       "424928            0.0026            -0.0682                 0.0682         1   \n",
       "424929            0.0121             0.3136                 0.3136         1   \n",
       "424930            0.0071             0.1859                 0.1859         0   \n",
       "424931            0.0002            -0.0059                 0.0059         0   \n",
       "\n",
       "                    id   cell_id                       cid  n_words  \\\n",
       "54      001308991e0c5e  05915708  001308991e0c5e\\t05915708       22   \n",
       "55      001308991e0c5e  1545964f  001308991e0c5e\\t1545964f       22   \n",
       "56      001308991e0c5e  1ff43b24  001308991e0c5e\\t1ff43b24       22   \n",
       "57      001308991e0c5e  21147235  001308991e0c5e\\t21147235       22   \n",
       "58      001308991e0c5e  23e35b11  001308991e0c5e\\t23e35b11       22   \n",
       "...                ...       ...                       ...      ...   \n",
       "424927  fff36689a0fe5f  47b61063  fff36689a0fe5f\\t47b61063        4   \n",
       "424928  fff36689a0fe5f  87c8490d  fff36689a0fe5f\\t87c8490d        4   \n",
       "424929  fff36689a0fe5f  95cb1c55  fff36689a0fe5f\\t95cb1c55        4   \n",
       "424930  fff36689a0fe5f  b1924f1f  fff36689a0fe5f\\tb1924f1f        4   \n",
       "424931  fff36689a0fe5f  fef98b7e  fff36689a0fe5f\\tfef98b7e        4   \n",
       "\n",
       "        n_code_cell  n_cell ancestor_id  rel_rank  fold  cls_label  cbt_pred  \n",
       "54               56      95    c5fbea8e    0.2368     0         23    0.2406  \n",
       "55               56      95    c5fbea8e    0.7632     0         76    0.7650  \n",
       "56               56      95    c5fbea8e    0.4298     0         42    0.4336  \n",
       "57               56      95    c5fbea8e    0.0088     0          0    0.0225  \n",
       "58               56      95    c5fbea8e    0.6082     0         60    0.6050  \n",
       "...             ...     ...         ...       ...   ...        ...       ...  \n",
       "424927           25      31    c30fd19d    0.2500     0         25    0.2499  \n",
       "424928           25      31    c30fd19d    0.4038     0         40    0.4041  \n",
       "424929           25      31    c30fd19d    0.1731     0         17    0.1729  \n",
       "424930           25      31    c30fd19d    0.3654     0         36    0.3706  \n",
       "424931           25      31    c30fd19d    0.5192     0         51    0.5210  \n",
       "\n",
       "[82532 rows x 167 columns]"
      ]
     },
     "execution_count": 48,
     "metadata": {},
     "output_type": "execute_result"
    }
   ],
   "source": [
    "dvalid"
   ]
  },
  {
   "cell_type": "code",
   "execution_count": 49,
   "metadata": {},
   "outputs": [
    {
     "data": {
      "application/vnd.plotly.v1+json": {
       "config": {
        "plotlyServerURL": "https://plot.ly"
       },
       "data": [
        {
         "alignmentgroup": "True",
         "hovertemplate": "importance=%{x}<br>feat_name=%{y}<extra></extra>",
         "legendgroup": "",
         "marker": {
          "color": "#636efa",
          "pattern": {
           "shape": ""
          }
         },
         "name": "",
         "offsetgroup": "",
         "orientation": "h",
         "showlegend": false,
         "textposition": "auto",
         "type": "bar",
         "x": [
          0.6198235002741784,
          0.6776634659113688,
          0.69542175827579,
          0.708584995416572,
          0.8877236676069705,
          1.0369278600124716,
          1.283159875910097,
          1.3259405415673469,
          1.3498596744568123,
          1.4022924035127038,
          1.4230041689487984,
          1.443462187771215,
          1.506911807442775,
          4.352038753726189,
          7.517465682401237,
          8.030789646542885,
          9.588321502520378,
          12.352862777842347,
          12.383519309324349,
          16.036329026384557
         ],
         "xaxis": "x",
         "y": [
          "pcc_cls_cls2_diff",
          "xc_abs_cls_cls2_diff",
          "xc_top_prob_9",
          "xc_abs_cls2_reg_diff",
          "xc_tpop_rank_4",
          "xpc_abs_cls_diff",
          "xc_tpop_rank_5",
          "xp_pred",
          "xc_top_pred_1",
          "xc_tpop_rank_6",
          "xc_cls2_rank_pred",
          "xc_tpop_rank_2",
          "xc_cls2_pred",
          "xp_cls_pred",
          "xc_reg_pred",
          "xc_cls_pred",
          "xpc_pred",
          "xc_reg_rank_pred",
          "xc_cls_rank_pred",
          "xpc_cls_pred"
         ],
         "yaxis": "y"
        }
       ],
       "layout": {
        "barmode": "relative",
        "legend": {
         "tracegroupgap": 0
        },
        "margin": {
         "t": 60
        },
        "template": {
         "data": {
          "bar": [
           {
            "error_x": {
             "color": "#2a3f5f"
            },
            "error_y": {
             "color": "#2a3f5f"
            },
            "marker": {
             "line": {
              "color": "#E5ECF6",
              "width": 0.5
             },
             "pattern": {
              "fillmode": "overlay",
              "size": 10,
              "solidity": 0.2
             }
            },
            "type": "bar"
           }
          ],
          "barpolar": [
           {
            "marker": {
             "line": {
              "color": "#E5ECF6",
              "width": 0.5
             },
             "pattern": {
              "fillmode": "overlay",
              "size": 10,
              "solidity": 0.2
             }
            },
            "type": "barpolar"
           }
          ],
          "carpet": [
           {
            "aaxis": {
             "endlinecolor": "#2a3f5f",
             "gridcolor": "white",
             "linecolor": "white",
             "minorgridcolor": "white",
             "startlinecolor": "#2a3f5f"
            },
            "baxis": {
             "endlinecolor": "#2a3f5f",
             "gridcolor": "white",
             "linecolor": "white",
             "minorgridcolor": "white",
             "startlinecolor": "#2a3f5f"
            },
            "type": "carpet"
           }
          ],
          "choropleth": [
           {
            "colorbar": {
             "outlinewidth": 0,
             "ticks": ""
            },
            "type": "choropleth"
           }
          ],
          "contour": [
           {
            "colorbar": {
             "outlinewidth": 0,
             "ticks": ""
            },
            "colorscale": [
             [
              0,
              "#0d0887"
             ],
             [
              0.1111111111111111,
              "#46039f"
             ],
             [
              0.2222222222222222,
              "#7201a8"
             ],
             [
              0.3333333333333333,
              "#9c179e"
             ],
             [
              0.4444444444444444,
              "#bd3786"
             ],
             [
              0.5555555555555556,
              "#d8576b"
             ],
             [
              0.6666666666666666,
              "#ed7953"
             ],
             [
              0.7777777777777778,
              "#fb9f3a"
             ],
             [
              0.8888888888888888,
              "#fdca26"
             ],
             [
              1,
              "#f0f921"
             ]
            ],
            "type": "contour"
           }
          ],
          "contourcarpet": [
           {
            "colorbar": {
             "outlinewidth": 0,
             "ticks": ""
            },
            "type": "contourcarpet"
           }
          ],
          "heatmap": [
           {
            "colorbar": {
             "outlinewidth": 0,
             "ticks": ""
            },
            "colorscale": [
             [
              0,
              "#0d0887"
             ],
             [
              0.1111111111111111,
              "#46039f"
             ],
             [
              0.2222222222222222,
              "#7201a8"
             ],
             [
              0.3333333333333333,
              "#9c179e"
             ],
             [
              0.4444444444444444,
              "#bd3786"
             ],
             [
              0.5555555555555556,
              "#d8576b"
             ],
             [
              0.6666666666666666,
              "#ed7953"
             ],
             [
              0.7777777777777778,
              "#fb9f3a"
             ],
             [
              0.8888888888888888,
              "#fdca26"
             ],
             [
              1,
              "#f0f921"
             ]
            ],
            "type": "heatmap"
           }
          ],
          "heatmapgl": [
           {
            "colorbar": {
             "outlinewidth": 0,
             "ticks": ""
            },
            "colorscale": [
             [
              0,
              "#0d0887"
             ],
             [
              0.1111111111111111,
              "#46039f"
             ],
             [
              0.2222222222222222,
              "#7201a8"
             ],
             [
              0.3333333333333333,
              "#9c179e"
             ],
             [
              0.4444444444444444,
              "#bd3786"
             ],
             [
              0.5555555555555556,
              "#d8576b"
             ],
             [
              0.6666666666666666,
              "#ed7953"
             ],
             [
              0.7777777777777778,
              "#fb9f3a"
             ],
             [
              0.8888888888888888,
              "#fdca26"
             ],
             [
              1,
              "#f0f921"
             ]
            ],
            "type": "heatmapgl"
           }
          ],
          "histogram": [
           {
            "marker": {
             "pattern": {
              "fillmode": "overlay",
              "size": 10,
              "solidity": 0.2
             }
            },
            "type": "histogram"
           }
          ],
          "histogram2d": [
           {
            "colorbar": {
             "outlinewidth": 0,
             "ticks": ""
            },
            "colorscale": [
             [
              0,
              "#0d0887"
             ],
             [
              0.1111111111111111,
              "#46039f"
             ],
             [
              0.2222222222222222,
              "#7201a8"
             ],
             [
              0.3333333333333333,
              "#9c179e"
             ],
             [
              0.4444444444444444,
              "#bd3786"
             ],
             [
              0.5555555555555556,
              "#d8576b"
             ],
             [
              0.6666666666666666,
              "#ed7953"
             ],
             [
              0.7777777777777778,
              "#fb9f3a"
             ],
             [
              0.8888888888888888,
              "#fdca26"
             ],
             [
              1,
              "#f0f921"
             ]
            ],
            "type": "histogram2d"
           }
          ],
          "histogram2dcontour": [
           {
            "colorbar": {
             "outlinewidth": 0,
             "ticks": ""
            },
            "colorscale": [
             [
              0,
              "#0d0887"
             ],
             [
              0.1111111111111111,
              "#46039f"
             ],
             [
              0.2222222222222222,
              "#7201a8"
             ],
             [
              0.3333333333333333,
              "#9c179e"
             ],
             [
              0.4444444444444444,
              "#bd3786"
             ],
             [
              0.5555555555555556,
              "#d8576b"
             ],
             [
              0.6666666666666666,
              "#ed7953"
             ],
             [
              0.7777777777777778,
              "#fb9f3a"
             ],
             [
              0.8888888888888888,
              "#fdca26"
             ],
             [
              1,
              "#f0f921"
             ]
            ],
            "type": "histogram2dcontour"
           }
          ],
          "mesh3d": [
           {
            "colorbar": {
             "outlinewidth": 0,
             "ticks": ""
            },
            "type": "mesh3d"
           }
          ],
          "parcoords": [
           {
            "line": {
             "colorbar": {
              "outlinewidth": 0,
              "ticks": ""
             }
            },
            "type": "parcoords"
           }
          ],
          "pie": [
           {
            "automargin": true,
            "type": "pie"
           }
          ],
          "scatter": [
           {
            "marker": {
             "colorbar": {
              "outlinewidth": 0,
              "ticks": ""
             }
            },
            "type": "scatter"
           }
          ],
          "scatter3d": [
           {
            "line": {
             "colorbar": {
              "outlinewidth": 0,
              "ticks": ""
             }
            },
            "marker": {
             "colorbar": {
              "outlinewidth": 0,
              "ticks": ""
             }
            },
            "type": "scatter3d"
           }
          ],
          "scattercarpet": [
           {
            "marker": {
             "colorbar": {
              "outlinewidth": 0,
              "ticks": ""
             }
            },
            "type": "scattercarpet"
           }
          ],
          "scattergeo": [
           {
            "marker": {
             "colorbar": {
              "outlinewidth": 0,
              "ticks": ""
             }
            },
            "type": "scattergeo"
           }
          ],
          "scattergl": [
           {
            "marker": {
             "colorbar": {
              "outlinewidth": 0,
              "ticks": ""
             }
            },
            "type": "scattergl"
           }
          ],
          "scattermapbox": [
           {
            "marker": {
             "colorbar": {
              "outlinewidth": 0,
              "ticks": ""
             }
            },
            "type": "scattermapbox"
           }
          ],
          "scatterpolar": [
           {
            "marker": {
             "colorbar": {
              "outlinewidth": 0,
              "ticks": ""
             }
            },
            "type": "scatterpolar"
           }
          ],
          "scatterpolargl": [
           {
            "marker": {
             "colorbar": {
              "outlinewidth": 0,
              "ticks": ""
             }
            },
            "type": "scatterpolargl"
           }
          ],
          "scatterternary": [
           {
            "marker": {
             "colorbar": {
              "outlinewidth": 0,
              "ticks": ""
             }
            },
            "type": "scatterternary"
           }
          ],
          "surface": [
           {
            "colorbar": {
             "outlinewidth": 0,
             "ticks": ""
            },
            "colorscale": [
             [
              0,
              "#0d0887"
             ],
             [
              0.1111111111111111,
              "#46039f"
             ],
             [
              0.2222222222222222,
              "#7201a8"
             ],
             [
              0.3333333333333333,
              "#9c179e"
             ],
             [
              0.4444444444444444,
              "#bd3786"
             ],
             [
              0.5555555555555556,
              "#d8576b"
             ],
             [
              0.6666666666666666,
              "#ed7953"
             ],
             [
              0.7777777777777778,
              "#fb9f3a"
             ],
             [
              0.8888888888888888,
              "#fdca26"
             ],
             [
              1,
              "#f0f921"
             ]
            ],
            "type": "surface"
           }
          ],
          "table": [
           {
            "cells": {
             "fill": {
              "color": "#EBF0F8"
             },
             "line": {
              "color": "white"
             }
            },
            "header": {
             "fill": {
              "color": "#C8D4E3"
             },
             "line": {
              "color": "white"
             }
            },
            "type": "table"
           }
          ]
         },
         "layout": {
          "annotationdefaults": {
           "arrowcolor": "#2a3f5f",
           "arrowhead": 0,
           "arrowwidth": 1
          },
          "autotypenumbers": "strict",
          "coloraxis": {
           "colorbar": {
            "outlinewidth": 0,
            "ticks": ""
           }
          },
          "colorscale": {
           "diverging": [
            [
             0,
             "#8e0152"
            ],
            [
             0.1,
             "#c51b7d"
            ],
            [
             0.2,
             "#de77ae"
            ],
            [
             0.3,
             "#f1b6da"
            ],
            [
             0.4,
             "#fde0ef"
            ],
            [
             0.5,
             "#f7f7f7"
            ],
            [
             0.6,
             "#e6f5d0"
            ],
            [
             0.7,
             "#b8e186"
            ],
            [
             0.8,
             "#7fbc41"
            ],
            [
             0.9,
             "#4d9221"
            ],
            [
             1,
             "#276419"
            ]
           ],
           "sequential": [
            [
             0,
             "#0d0887"
            ],
            [
             0.1111111111111111,
             "#46039f"
            ],
            [
             0.2222222222222222,
             "#7201a8"
            ],
            [
             0.3333333333333333,
             "#9c179e"
            ],
            [
             0.4444444444444444,
             "#bd3786"
            ],
            [
             0.5555555555555556,
             "#d8576b"
            ],
            [
             0.6666666666666666,
             "#ed7953"
            ],
            [
             0.7777777777777778,
             "#fb9f3a"
            ],
            [
             0.8888888888888888,
             "#fdca26"
            ],
            [
             1,
             "#f0f921"
            ]
           ],
           "sequentialminus": [
            [
             0,
             "#0d0887"
            ],
            [
             0.1111111111111111,
             "#46039f"
            ],
            [
             0.2222222222222222,
             "#7201a8"
            ],
            [
             0.3333333333333333,
             "#9c179e"
            ],
            [
             0.4444444444444444,
             "#bd3786"
            ],
            [
             0.5555555555555556,
             "#d8576b"
            ],
            [
             0.6666666666666666,
             "#ed7953"
            ],
            [
             0.7777777777777778,
             "#fb9f3a"
            ],
            [
             0.8888888888888888,
             "#fdca26"
            ],
            [
             1,
             "#f0f921"
            ]
           ]
          },
          "colorway": [
           "#636efa",
           "#EF553B",
           "#00cc96",
           "#ab63fa",
           "#FFA15A",
           "#19d3f3",
           "#FF6692",
           "#B6E880",
           "#FF97FF",
           "#FECB52"
          ],
          "font": {
           "color": "#2a3f5f"
          },
          "geo": {
           "bgcolor": "white",
           "lakecolor": "white",
           "landcolor": "#E5ECF6",
           "showlakes": true,
           "showland": true,
           "subunitcolor": "white"
          },
          "hoverlabel": {
           "align": "left"
          },
          "hovermode": "closest",
          "mapbox": {
           "style": "light"
          },
          "paper_bgcolor": "white",
          "plot_bgcolor": "#E5ECF6",
          "polar": {
           "angularaxis": {
            "gridcolor": "white",
            "linecolor": "white",
            "ticks": ""
           },
           "bgcolor": "#E5ECF6",
           "radialaxis": {
            "gridcolor": "white",
            "linecolor": "white",
            "ticks": ""
           }
          },
          "scene": {
           "xaxis": {
            "backgroundcolor": "#E5ECF6",
            "gridcolor": "white",
            "gridwidth": 2,
            "linecolor": "white",
            "showbackground": true,
            "ticks": "",
            "zerolinecolor": "white"
           },
           "yaxis": {
            "backgroundcolor": "#E5ECF6",
            "gridcolor": "white",
            "gridwidth": 2,
            "linecolor": "white",
            "showbackground": true,
            "ticks": "",
            "zerolinecolor": "white"
           },
           "zaxis": {
            "backgroundcolor": "#E5ECF6",
            "gridcolor": "white",
            "gridwidth": 2,
            "linecolor": "white",
            "showbackground": true,
            "ticks": "",
            "zerolinecolor": "white"
           }
          },
          "shapedefaults": {
           "line": {
            "color": "#2a3f5f"
           }
          },
          "ternary": {
           "aaxis": {
            "gridcolor": "white",
            "linecolor": "white",
            "ticks": ""
           },
           "baxis": {
            "gridcolor": "white",
            "linecolor": "white",
            "ticks": ""
           },
           "bgcolor": "#E5ECF6",
           "caxis": {
            "gridcolor": "white",
            "linecolor": "white",
            "ticks": ""
           }
          },
          "title": {
           "x": 0.05
          },
          "xaxis": {
           "automargin": true,
           "gridcolor": "white",
           "linecolor": "white",
           "ticks": "",
           "title": {
            "standoff": 15
           },
           "zerolinecolor": "white",
           "zerolinewidth": 2
          },
          "yaxis": {
           "automargin": true,
           "gridcolor": "white",
           "linecolor": "white",
           "ticks": "",
           "title": {
            "standoff": 15
           },
           "zerolinecolor": "white",
           "zerolinewidth": 2
          }
         }
        },
        "xaxis": {
         "anchor": "y",
         "domain": [
          0,
          1
         ],
         "title": {
          "text": "importance"
         }
        },
        "yaxis": {
         "anchor": "x",
         "domain": [
          0,
          1
         ],
         "title": {
          "text": "feat_name"
         }
        }
       }
      },
      "text/html": [
       "<div>                            <div id=\"9486bc08-f28b-4fdb-a65f-4a351ccdaeb8\" class=\"plotly-graph-div\" style=\"height:525px; width:100%;\"></div>            <script type=\"text/javascript\">                require([\"plotly\"], function(Plotly) {                    window.PLOTLYENV=window.PLOTLYENV || {};                                    if (document.getElementById(\"9486bc08-f28b-4fdb-a65f-4a351ccdaeb8\")) {                    Plotly.newPlot(                        \"9486bc08-f28b-4fdb-a65f-4a351ccdaeb8\",                        [{\"alignmentgroup\":\"True\",\"hovertemplate\":\"importance=%{x}<br>feat_name=%{y}<extra></extra>\",\"legendgroup\":\"\",\"marker\":{\"color\":\"#636efa\",\"pattern\":{\"shape\":\"\"}},\"name\":\"\",\"offsetgroup\":\"\",\"orientation\":\"h\",\"showlegend\":false,\"textposition\":\"auto\",\"x\":[0.6198235002741784,0.6776634659113688,0.69542175827579,0.708584995416572,0.8877236676069705,1.0369278600124716,1.283159875910097,1.3259405415673469,1.3498596744568123,1.4022924035127038,1.4230041689487984,1.443462187771215,1.506911807442775,4.352038753726189,7.517465682401237,8.030789646542885,9.588321502520378,12.352862777842347,12.383519309324349,16.036329026384557],\"xaxis\":\"x\",\"y\":[\"pcc_cls_cls2_diff\",\"xc_abs_cls_cls2_diff\",\"xc_top_prob_9\",\"xc_abs_cls2_reg_diff\",\"xc_tpop_rank_4\",\"xpc_abs_cls_diff\",\"xc_tpop_rank_5\",\"xp_pred\",\"xc_top_pred_1\",\"xc_tpop_rank_6\",\"xc_cls2_rank_pred\",\"xc_tpop_rank_2\",\"xc_cls2_pred\",\"xp_cls_pred\",\"xc_reg_pred\",\"xc_cls_pred\",\"xpc_pred\",\"xc_reg_rank_pred\",\"xc_cls_rank_pred\",\"xpc_cls_pred\"],\"yaxis\":\"y\",\"type\":\"bar\"}],                        {\"template\":{\"data\":{\"bar\":[{\"error_x\":{\"color\":\"#2a3f5f\"},\"error_y\":{\"color\":\"#2a3f5f\"},\"marker\":{\"line\":{\"color\":\"#E5ECF6\",\"width\":0.5},\"pattern\":{\"fillmode\":\"overlay\",\"size\":10,\"solidity\":0.2}},\"type\":\"bar\"}],\"barpolar\":[{\"marker\":{\"line\":{\"color\":\"#E5ECF6\",\"width\":0.5},\"pattern\":{\"fillmode\":\"overlay\",\"size\":10,\"solidity\":0.2}},\"type\":\"barpolar\"}],\"carpet\":[{\"aaxis\":{\"endlinecolor\":\"#2a3f5f\",\"gridcolor\":\"white\",\"linecolor\":\"white\",\"minorgridcolor\":\"white\",\"startlinecolor\":\"#2a3f5f\"},\"baxis\":{\"endlinecolor\":\"#2a3f5f\",\"gridcolor\":\"white\",\"linecolor\":\"white\",\"minorgridcolor\":\"white\",\"startlinecolor\":\"#2a3f5f\"},\"type\":\"carpet\"}],\"choropleth\":[{\"colorbar\":{\"outlinewidth\":0,\"ticks\":\"\"},\"type\":\"choropleth\"}],\"contour\":[{\"colorbar\":{\"outlinewidth\":0,\"ticks\":\"\"},\"colorscale\":[[0.0,\"#0d0887\"],[0.1111111111111111,\"#46039f\"],[0.2222222222222222,\"#7201a8\"],[0.3333333333333333,\"#9c179e\"],[0.4444444444444444,\"#bd3786\"],[0.5555555555555556,\"#d8576b\"],[0.6666666666666666,\"#ed7953\"],[0.7777777777777778,\"#fb9f3a\"],[0.8888888888888888,\"#fdca26\"],[1.0,\"#f0f921\"]],\"type\":\"contour\"}],\"contourcarpet\":[{\"colorbar\":{\"outlinewidth\":0,\"ticks\":\"\"},\"type\":\"contourcarpet\"}],\"heatmap\":[{\"colorbar\":{\"outlinewidth\":0,\"ticks\":\"\"},\"colorscale\":[[0.0,\"#0d0887\"],[0.1111111111111111,\"#46039f\"],[0.2222222222222222,\"#7201a8\"],[0.3333333333333333,\"#9c179e\"],[0.4444444444444444,\"#bd3786\"],[0.5555555555555556,\"#d8576b\"],[0.6666666666666666,\"#ed7953\"],[0.7777777777777778,\"#fb9f3a\"],[0.8888888888888888,\"#fdca26\"],[1.0,\"#f0f921\"]],\"type\":\"heatmap\"}],\"heatmapgl\":[{\"colorbar\":{\"outlinewidth\":0,\"ticks\":\"\"},\"colorscale\":[[0.0,\"#0d0887\"],[0.1111111111111111,\"#46039f\"],[0.2222222222222222,\"#7201a8\"],[0.3333333333333333,\"#9c179e\"],[0.4444444444444444,\"#bd3786\"],[0.5555555555555556,\"#d8576b\"],[0.6666666666666666,\"#ed7953\"],[0.7777777777777778,\"#fb9f3a\"],[0.8888888888888888,\"#fdca26\"],[1.0,\"#f0f921\"]],\"type\":\"heatmapgl\"}],\"histogram\":[{\"marker\":{\"pattern\":{\"fillmode\":\"overlay\",\"size\":10,\"solidity\":0.2}},\"type\":\"histogram\"}],\"histogram2d\":[{\"colorbar\":{\"outlinewidth\":0,\"ticks\":\"\"},\"colorscale\":[[0.0,\"#0d0887\"],[0.1111111111111111,\"#46039f\"],[0.2222222222222222,\"#7201a8\"],[0.3333333333333333,\"#9c179e\"],[0.4444444444444444,\"#bd3786\"],[0.5555555555555556,\"#d8576b\"],[0.6666666666666666,\"#ed7953\"],[0.7777777777777778,\"#fb9f3a\"],[0.8888888888888888,\"#fdca26\"],[1.0,\"#f0f921\"]],\"type\":\"histogram2d\"}],\"histogram2dcontour\":[{\"colorbar\":{\"outlinewidth\":0,\"ticks\":\"\"},\"colorscale\":[[0.0,\"#0d0887\"],[0.1111111111111111,\"#46039f\"],[0.2222222222222222,\"#7201a8\"],[0.3333333333333333,\"#9c179e\"],[0.4444444444444444,\"#bd3786\"],[0.5555555555555556,\"#d8576b\"],[0.6666666666666666,\"#ed7953\"],[0.7777777777777778,\"#fb9f3a\"],[0.8888888888888888,\"#fdca26\"],[1.0,\"#f0f921\"]],\"type\":\"histogram2dcontour\"}],\"mesh3d\":[{\"colorbar\":{\"outlinewidth\":0,\"ticks\":\"\"},\"type\":\"mesh3d\"}],\"parcoords\":[{\"line\":{\"colorbar\":{\"outlinewidth\":0,\"ticks\":\"\"}},\"type\":\"parcoords\"}],\"pie\":[{\"automargin\":true,\"type\":\"pie\"}],\"scatter\":[{\"marker\":{\"colorbar\":{\"outlinewidth\":0,\"ticks\":\"\"}},\"type\":\"scatter\"}],\"scatter3d\":[{\"line\":{\"colorbar\":{\"outlinewidth\":0,\"ticks\":\"\"}},\"marker\":{\"colorbar\":{\"outlinewidth\":0,\"ticks\":\"\"}},\"type\":\"scatter3d\"}],\"scattercarpet\":[{\"marker\":{\"colorbar\":{\"outlinewidth\":0,\"ticks\":\"\"}},\"type\":\"scattercarpet\"}],\"scattergeo\":[{\"marker\":{\"colorbar\":{\"outlinewidth\":0,\"ticks\":\"\"}},\"type\":\"scattergeo\"}],\"scattergl\":[{\"marker\":{\"colorbar\":{\"outlinewidth\":0,\"ticks\":\"\"}},\"type\":\"scattergl\"}],\"scattermapbox\":[{\"marker\":{\"colorbar\":{\"outlinewidth\":0,\"ticks\":\"\"}},\"type\":\"scattermapbox\"}],\"scatterpolar\":[{\"marker\":{\"colorbar\":{\"outlinewidth\":0,\"ticks\":\"\"}},\"type\":\"scatterpolar\"}],\"scatterpolargl\":[{\"marker\":{\"colorbar\":{\"outlinewidth\":0,\"ticks\":\"\"}},\"type\":\"scatterpolargl\"}],\"scatterternary\":[{\"marker\":{\"colorbar\":{\"outlinewidth\":0,\"ticks\":\"\"}},\"type\":\"scatterternary\"}],\"surface\":[{\"colorbar\":{\"outlinewidth\":0,\"ticks\":\"\"},\"colorscale\":[[0.0,\"#0d0887\"],[0.1111111111111111,\"#46039f\"],[0.2222222222222222,\"#7201a8\"],[0.3333333333333333,\"#9c179e\"],[0.4444444444444444,\"#bd3786\"],[0.5555555555555556,\"#d8576b\"],[0.6666666666666666,\"#ed7953\"],[0.7777777777777778,\"#fb9f3a\"],[0.8888888888888888,\"#fdca26\"],[1.0,\"#f0f921\"]],\"type\":\"surface\"}],\"table\":[{\"cells\":{\"fill\":{\"color\":\"#EBF0F8\"},\"line\":{\"color\":\"white\"}},\"header\":{\"fill\":{\"color\":\"#C8D4E3\"},\"line\":{\"color\":\"white\"}},\"type\":\"table\"}]},\"layout\":{\"annotationdefaults\":{\"arrowcolor\":\"#2a3f5f\",\"arrowhead\":0,\"arrowwidth\":1},\"autotypenumbers\":\"strict\",\"coloraxis\":{\"colorbar\":{\"outlinewidth\":0,\"ticks\":\"\"}},\"colorscale\":{\"diverging\":[[0,\"#8e0152\"],[0.1,\"#c51b7d\"],[0.2,\"#de77ae\"],[0.3,\"#f1b6da\"],[0.4,\"#fde0ef\"],[0.5,\"#f7f7f7\"],[0.6,\"#e6f5d0\"],[0.7,\"#b8e186\"],[0.8,\"#7fbc41\"],[0.9,\"#4d9221\"],[1,\"#276419\"]],\"sequential\":[[0.0,\"#0d0887\"],[0.1111111111111111,\"#46039f\"],[0.2222222222222222,\"#7201a8\"],[0.3333333333333333,\"#9c179e\"],[0.4444444444444444,\"#bd3786\"],[0.5555555555555556,\"#d8576b\"],[0.6666666666666666,\"#ed7953\"],[0.7777777777777778,\"#fb9f3a\"],[0.8888888888888888,\"#fdca26\"],[1.0,\"#f0f921\"]],\"sequentialminus\":[[0.0,\"#0d0887\"],[0.1111111111111111,\"#46039f\"],[0.2222222222222222,\"#7201a8\"],[0.3333333333333333,\"#9c179e\"],[0.4444444444444444,\"#bd3786\"],[0.5555555555555556,\"#d8576b\"],[0.6666666666666666,\"#ed7953\"],[0.7777777777777778,\"#fb9f3a\"],[0.8888888888888888,\"#fdca26\"],[1.0,\"#f0f921\"]]},\"colorway\":[\"#636efa\",\"#EF553B\",\"#00cc96\",\"#ab63fa\",\"#FFA15A\",\"#19d3f3\",\"#FF6692\",\"#B6E880\",\"#FF97FF\",\"#FECB52\"],\"font\":{\"color\":\"#2a3f5f\"},\"geo\":{\"bgcolor\":\"white\",\"lakecolor\":\"white\",\"landcolor\":\"#E5ECF6\",\"showlakes\":true,\"showland\":true,\"subunitcolor\":\"white\"},\"hoverlabel\":{\"align\":\"left\"},\"hovermode\":\"closest\",\"mapbox\":{\"style\":\"light\"},\"paper_bgcolor\":\"white\",\"plot_bgcolor\":\"#E5ECF6\",\"polar\":{\"angularaxis\":{\"gridcolor\":\"white\",\"linecolor\":\"white\",\"ticks\":\"\"},\"bgcolor\":\"#E5ECF6\",\"radialaxis\":{\"gridcolor\":\"white\",\"linecolor\":\"white\",\"ticks\":\"\"}},\"scene\":{\"xaxis\":{\"backgroundcolor\":\"#E5ECF6\",\"gridcolor\":\"white\",\"gridwidth\":2,\"linecolor\":\"white\",\"showbackground\":true,\"ticks\":\"\",\"zerolinecolor\":\"white\"},\"yaxis\":{\"backgroundcolor\":\"#E5ECF6\",\"gridcolor\":\"white\",\"gridwidth\":2,\"linecolor\":\"white\",\"showbackground\":true,\"ticks\":\"\",\"zerolinecolor\":\"white\"},\"zaxis\":{\"backgroundcolor\":\"#E5ECF6\",\"gridcolor\":\"white\",\"gridwidth\":2,\"linecolor\":\"white\",\"showbackground\":true,\"ticks\":\"\",\"zerolinecolor\":\"white\"}},\"shapedefaults\":{\"line\":{\"color\":\"#2a3f5f\"}},\"ternary\":{\"aaxis\":{\"gridcolor\":\"white\",\"linecolor\":\"white\",\"ticks\":\"\"},\"baxis\":{\"gridcolor\":\"white\",\"linecolor\":\"white\",\"ticks\":\"\"},\"bgcolor\":\"#E5ECF6\",\"caxis\":{\"gridcolor\":\"white\",\"linecolor\":\"white\",\"ticks\":\"\"}},\"title\":{\"x\":0.05},\"xaxis\":{\"automargin\":true,\"gridcolor\":\"white\",\"linecolor\":\"white\",\"ticks\":\"\",\"title\":{\"standoff\":15},\"zerolinecolor\":\"white\",\"zerolinewidth\":2},\"yaxis\":{\"automargin\":true,\"gridcolor\":\"white\",\"linecolor\":\"white\",\"ticks\":\"\",\"title\":{\"standoff\":15},\"zerolinecolor\":\"white\",\"zerolinewidth\":2}}},\"xaxis\":{\"anchor\":\"y\",\"domain\":[0.0,1.0],\"title\":{\"text\":\"importance\"}},\"yaxis\":{\"anchor\":\"x\",\"domain\":[0.0,1.0],\"title\":{\"text\":\"feat_name\"}},\"legend\":{\"tracegroupgap\":0},\"margin\":{\"t\":60},\"barmode\":\"relative\"},                        {\"responsive\": true}                    ).then(function(){\n",
       "                            \n",
       "var gd = document.getElementById('9486bc08-f28b-4fdb-a65f-4a351ccdaeb8');\n",
       "var x = new MutationObserver(function (mutations, observer) {{\n",
       "        var display = window.getComputedStyle(gd).display;\n",
       "        if (!display || display === 'none') {{\n",
       "            console.log([gd, 'removed!']);\n",
       "            Plotly.purge(gd);\n",
       "            observer.disconnect();\n",
       "        }}\n",
       "}});\n",
       "\n",
       "// Listen for the removal of the full notebook cells\n",
       "var notebookContainer = gd.closest('#notebook-container');\n",
       "if (notebookContainer) {{\n",
       "    x.observe(notebookContainer, {childList: true});\n",
       "}}\n",
       "\n",
       "// Listen for the clearing of the current output cell\n",
       "var outputEl = gd.closest('.output');\n",
       "if (outputEl) {{\n",
       "    x.observe(outputEl, {childList: true});\n",
       "}}\n",
       "\n",
       "                        })                };                });            </script>        </div>"
      ]
     },
     "metadata": {},
     "output_type": "display_data"
    }
   ],
   "source": [
    "gezi.plot.feature_importance(cbt_model, topn=20)"
   ]
  },
  {
   "cell_type": "code",
   "execution_count": 50,
   "metadata": {},
   "outputs": [],
   "source": [
    "import lightgbm as lgb\n",
    "params = {\n",
    "          'boosting': 'gbdt',\n",
    "          'objective': 'regression_l1',\n",
    "          'metric': {'l1'},\n",
    "          # 'num_leaves': 32,\n",
    "          # 'num_leaves': 24,\n",
    "          'num_leaves': 12,\n",
    "          # 'min_data_in_leaf': 300,\n",
    "          'min_data_in_leaf': 500,\n",
    "          # 'max_depth': 5,\n",
    "          'learning_rate': 0.03,\n",
    "          # \"feature_fraction\": 0.8,\n",
    "          # \"bagging_fraction\": 0.75,\n",
    "          # \"feature_fraction\": 0.9,\n",
    "          # \"bagging_fraction\": 0.8,\n",
    "          'feature_fraction': 0.7,\n",
    "          'bagging_fraction': 0.7,\n",
    "          'min_data_in_bin':100,\n",
    "          \"lambda_l1\": 1e-7,\n",
    "          'lambda_l2': 1e-7,\n",
    "          \"random_state\": 1024,\n",
    "          \"num_threads\": 12,\n",
    "          }"
   ]
  },
  {
   "cell_type": "code",
   "execution_count": 51,
   "metadata": {},
   "outputs": [
    {
     "name": "stdout",
     "output_type": "stream",
     "text": [
      "[LightGBM] [Warning] Auto-choosing col-wise multi-threading, the overhead of testing was 0.076444 seconds.\n",
      "You can set `force_col_wise=true` to remove the overhead.\n",
      "[LightGBM] [Info] Total Bins 36575\n",
      "[LightGBM] [Info] Number of data points in the train set: 342411, number of used features: 159\n",
      "[LightGBM] [Info] Start training from score 0.455056\n",
      "Training until validation scores don't improve for 200 rounds\n",
      "[100]\ttraining's l1: 0.0667104\tvalid_1's l1: 0.0679336\n",
      "[200]\ttraining's l1: 0.0594694\tvalid_1's l1: 0.0608451\n",
      "[300]\ttraining's l1: 0.0584455\tvalid_1's l1: 0.0598846\n",
      "[400]\ttraining's l1: 0.0575776\tvalid_1's l1: 0.0590619\n",
      "[500]\ttraining's l1: 0.0569931\tvalid_1's l1: 0.0585394\n",
      "[600]\ttraining's l1: 0.0566692\tvalid_1's l1: 0.0582526\n",
      "[700]\ttraining's l1: 0.0564173\tvalid_1's l1: 0.0580325\n",
      "[800]\ttraining's l1: 0.0562509\tvalid_1's l1: 0.0578877\n",
      "[900]\ttraining's l1: 0.0561139\tvalid_1's l1: 0.0577765\n",
      "[1000]\ttraining's l1: 0.0560273\tvalid_1's l1: 0.0577094\n",
      "[1100]\ttraining's l1: 0.0559325\tvalid_1's l1: 0.0576328\n",
      "[1200]\ttraining's l1: 0.055859\tvalid_1's l1: 0.0575772\n",
      "[1300]\ttraining's l1: 0.0557939\tvalid_1's l1: 0.0575268\n",
      "[1400]\ttraining's l1: 0.0557324\tvalid_1's l1: 0.0574835\n",
      "[1500]\ttraining's l1: 0.0556655\tvalid_1's l1: 0.0574316\n",
      "[1600]\ttraining's l1: 0.0556122\tvalid_1's l1: 0.0573947\n",
      "[1700]\ttraining's l1: 0.0555479\tvalid_1's l1: 0.057353\n",
      "[1800]\ttraining's l1: 0.0554996\tvalid_1's l1: 0.0573231\n",
      "[1900]\ttraining's l1: 0.0554616\tvalid_1's l1: 0.0573027\n",
      "[2000]\ttraining's l1: 0.0554353\tvalid_1's l1: 0.0572869\n",
      "[2100]\ttraining's l1: 0.0554096\tvalid_1's l1: 0.057274\n",
      "[2200]\ttraining's l1: 0.0553771\tvalid_1's l1: 0.0572606\n",
      "[2300]\ttraining's l1: 0.05535\tvalid_1's l1: 0.057246\n",
      "[2400]\ttraining's l1: 0.0553256\tvalid_1's l1: 0.0572328\n",
      "[2500]\ttraining's l1: 0.0552917\tvalid_1's l1: 0.0572111\n",
      "[2600]\ttraining's l1: 0.0552665\tvalid_1's l1: 0.0571993\n",
      "[2700]\ttraining's l1: 0.0552382\tvalid_1's l1: 0.0571882\n",
      "[2800]\ttraining's l1: 0.0552147\tvalid_1's l1: 0.0571762\n",
      "[2900]\ttraining's l1: 0.0551751\tvalid_1's l1: 0.0571599\n",
      "[3000]\ttraining's l1: 0.0551536\tvalid_1's l1: 0.0571472\n",
      "[3100]\ttraining's l1: 0.0551308\tvalid_1's l1: 0.0571382\n",
      "[3200]\ttraining's l1: 0.0551075\tvalid_1's l1: 0.0571275\n",
      "[3300]\ttraining's l1: 0.0550834\tvalid_1's l1: 0.0571184\n",
      "[3400]\ttraining's l1: 0.0550667\tvalid_1's l1: 0.0571132\n",
      "[3500]\ttraining's l1: 0.0550383\tvalid_1's l1: 0.0571015\n",
      "[3600]\ttraining's l1: 0.0550225\tvalid_1's l1: 0.0570939\n",
      "[3700]\ttraining's l1: 0.0550097\tvalid_1's l1: 0.0570881\n",
      "[3800]\ttraining's l1: 0.0549859\tvalid_1's l1: 0.0570764\n",
      "[3900]\ttraining's l1: 0.0549693\tvalid_1's l1: 0.0570688\n",
      "[4000]\ttraining's l1: 0.0549541\tvalid_1's l1: 0.057062\n",
      "[4100]\ttraining's l1: 0.0549429\tvalid_1's l1: 0.0570553\n",
      "[4200]\ttraining's l1: 0.0549281\tvalid_1's l1: 0.0570465\n",
      "[4300]\ttraining's l1: 0.0549155\tvalid_1's l1: 0.0570405\n",
      "[4400]\ttraining's l1: 0.0549053\tvalid_1's l1: 0.0570378\n",
      "[4500]\ttraining's l1: 0.0548872\tvalid_1's l1: 0.0570323\n",
      "[4600]\ttraining's l1: 0.0548692\tvalid_1's l1: 0.0570242\n",
      "[4700]\ttraining's l1: 0.0548598\tvalid_1's l1: 0.0570196\n",
      "[4800]\ttraining's l1: 0.0548444\tvalid_1's l1: 0.0570159\n",
      "[4900]\ttraining's l1: 0.0548278\tvalid_1's l1: 0.0570091\n",
      "[5000]\ttraining's l1: 0.0548115\tvalid_1's l1: 0.0570003\n",
      "[5100]\ttraining's l1: 0.0547961\tvalid_1's l1: 0.0569952\n",
      "[5200]\ttraining's l1: 0.0547861\tvalid_1's l1: 0.0569925\n",
      "[5300]\ttraining's l1: 0.0547719\tvalid_1's l1: 0.0569859\n",
      "[5400]\ttraining's l1: 0.0547559\tvalid_1's l1: 0.0569811\n",
      "[5500]\ttraining's l1: 0.054731\tvalid_1's l1: 0.0569766\n",
      "[5600]\ttraining's l1: 0.0547124\tvalid_1's l1: 0.0569739\n",
      "[5700]\ttraining's l1: 0.0547011\tvalid_1's l1: 0.0569699\n",
      "[5800]\ttraining's l1: 0.054692\tvalid_1's l1: 0.056968\n",
      "[5900]\ttraining's l1: 0.0546808\tvalid_1's l1: 0.0569633\n",
      "[6000]\ttraining's l1: 0.0546618\tvalid_1's l1: 0.0569528\n",
      "[6100]\ttraining's l1: 0.0546494\tvalid_1's l1: 0.0569501\n",
      "[6200]\ttraining's l1: 0.0546314\tvalid_1's l1: 0.0569415\n",
      "[6300]\ttraining's l1: 0.0546159\tvalid_1's l1: 0.0569367\n",
      "[6400]\ttraining's l1: 0.054604\tvalid_1's l1: 0.0569325\n",
      "[6500]\ttraining's l1: 0.0545953\tvalid_1's l1: 0.0569288\n",
      "[6600]\ttraining's l1: 0.0545842\tvalid_1's l1: 0.0569248\n",
      "[6700]\ttraining's l1: 0.0545745\tvalid_1's l1: 0.0569226\n",
      "[6800]\ttraining's l1: 0.0545632\tvalid_1's l1: 0.0569185\n",
      "[6900]\ttraining's l1: 0.0545556\tvalid_1's l1: 0.0569145\n",
      "[7000]\ttraining's l1: 0.0545468\tvalid_1's l1: 0.056911\n",
      "[7100]\ttraining's l1: 0.0545363\tvalid_1's l1: 0.0569071\n",
      "[7200]\ttraining's l1: 0.0545284\tvalid_1's l1: 0.0569034\n",
      "[7300]\ttraining's l1: 0.0545203\tvalid_1's l1: 0.0568992\n",
      "[7400]\ttraining's l1: 0.0545156\tvalid_1's l1: 0.0568985\n",
      "[7500]\ttraining's l1: 0.0545076\tvalid_1's l1: 0.0568963\n",
      "[7600]\ttraining's l1: 0.0545035\tvalid_1's l1: 0.0568946\n",
      "[7700]\ttraining's l1: 0.054494\tvalid_1's l1: 0.0568909\n",
      "[7800]\ttraining's l1: 0.0544835\tvalid_1's l1: 0.0568866\n",
      "[7900]\ttraining's l1: 0.0544677\tvalid_1's l1: 0.056882\n",
      "[8000]\ttraining's l1: 0.0544616\tvalid_1's l1: 0.0568811\n",
      "[8100]\ttraining's l1: 0.0544563\tvalid_1's l1: 0.0568783\n",
      "[8200]\ttraining's l1: 0.0544471\tvalid_1's l1: 0.0568753\n",
      "[8300]\ttraining's l1: 0.05444\tvalid_1's l1: 0.0568731\n",
      "[8400]\ttraining's l1: 0.0544328\tvalid_1's l1: 0.056871\n",
      "[8500]\ttraining's l1: 0.0544248\tvalid_1's l1: 0.0568683\n",
      "[8600]\ttraining's l1: 0.0544194\tvalid_1's l1: 0.0568661\n",
      "[8700]\ttraining's l1: 0.0544123\tvalid_1's l1: 0.0568641\n",
      "[8800]\ttraining's l1: 0.0544031\tvalid_1's l1: 0.0568624\n",
      "[8900]\ttraining's l1: 0.0543956\tvalid_1's l1: 0.0568601\n",
      "[9000]\ttraining's l1: 0.0543867\tvalid_1's l1: 0.0568559\n",
      "[9100]\ttraining's l1: 0.054377\tvalid_1's l1: 0.0568542\n",
      "[9200]\ttraining's l1: 0.0543655\tvalid_1's l1: 0.0568481\n",
      "[9300]\ttraining's l1: 0.0543613\tvalid_1's l1: 0.0568458\n",
      "[9400]\ttraining's l1: 0.0543543\tvalid_1's l1: 0.0568435\n",
      "[9500]\ttraining's l1: 0.054347\tvalid_1's l1: 0.056842\n",
      "[9600]\ttraining's l1: 0.0543283\tvalid_1's l1: 0.0568382\n",
      "[9700]\ttraining's l1: 0.0543112\tvalid_1's l1: 0.0568322\n",
      "[9800]\ttraining's l1: 0.0543022\tvalid_1's l1: 0.0568306\n",
      "[9900]\ttraining's l1: 0.0542929\tvalid_1's l1: 0.0568289\n",
      "[10000]\ttraining's l1: 0.0542838\tvalid_1's l1: 0.056827\n",
      "[10100]\ttraining's l1: 0.0542778\tvalid_1's l1: 0.0568258\n",
      "[10200]\ttraining's l1: 0.0542666\tvalid_1's l1: 0.0568237\n",
      "[10300]\ttraining's l1: 0.0542601\tvalid_1's l1: 0.0568201\n",
      "[10400]\ttraining's l1: 0.0542492\tvalid_1's l1: 0.0568155\n",
      "[10500]\ttraining's l1: 0.0542333\tvalid_1's l1: 0.0568098\n",
      "[10600]\ttraining's l1: 0.054225\tvalid_1's l1: 0.0568067\n",
      "[10700]\ttraining's l1: 0.0542148\tvalid_1's l1: 0.0568046\n",
      "[10800]\ttraining's l1: 0.0542072\tvalid_1's l1: 0.0568029\n",
      "[10900]\ttraining's l1: 0.0542003\tvalid_1's l1: 0.0567999\n",
      "[11000]\ttraining's l1: 0.0541939\tvalid_1's l1: 0.0567973\n",
      "[11100]\ttraining's l1: 0.0541763\tvalid_1's l1: 0.0567919\n",
      "[11200]\ttraining's l1: 0.0541627\tvalid_1's l1: 0.0567883\n",
      "[11300]\ttraining's l1: 0.0541477\tvalid_1's l1: 0.0567826\n",
      "[11400]\ttraining's l1: 0.0541411\tvalid_1's l1: 0.0567805\n",
      "[11500]\ttraining's l1: 0.0541377\tvalid_1's l1: 0.0567797\n",
      "[11600]\ttraining's l1: 0.0541286\tvalid_1's l1: 0.0567776\n",
      "[11700]\ttraining's l1: 0.0541193\tvalid_1's l1: 0.056775\n",
      "[11800]\ttraining's l1: 0.0541156\tvalid_1's l1: 0.0567739\n",
      "[11900]\ttraining's l1: 0.05411\tvalid_1's l1: 0.0567734\n",
      "[12000]\ttraining's l1: 0.0541036\tvalid_1's l1: 0.0567726\n",
      "[12100]\ttraining's l1: 0.0540968\tvalid_1's l1: 0.056772\n",
      "[12200]\ttraining's l1: 0.0540913\tvalid_1's l1: 0.0567705\n",
      "[12300]\ttraining's l1: 0.0540799\tvalid_1's l1: 0.0567692\n",
      "[12400]\ttraining's l1: 0.0540731\tvalid_1's l1: 0.0567675\n",
      "[12500]\ttraining's l1: 0.0540679\tvalid_1's l1: 0.0567661\n",
      "[12600]\ttraining's l1: 0.0540608\tvalid_1's l1: 0.0567649\n",
      "[12700]\ttraining's l1: 0.0540525\tvalid_1's l1: 0.0567629\n",
      "[12800]\ttraining's l1: 0.0540467\tvalid_1's l1: 0.0567618\n",
      "[12900]\ttraining's l1: 0.0540408\tvalid_1's l1: 0.0567601\n",
      "[13000]\ttraining's l1: 0.0540352\tvalid_1's l1: 0.056759\n",
      "[13100]\ttraining's l1: 0.05403\tvalid_1's l1: 0.0567577\n",
      "[13200]\ttraining's l1: 0.0540271\tvalid_1's l1: 0.0567565\n",
      "[13300]\ttraining's l1: 0.0540168\tvalid_1's l1: 0.0567544\n",
      "[13400]\ttraining's l1: 0.0540014\tvalid_1's l1: 0.0567517\n",
      "[13500]\ttraining's l1: 0.0539963\tvalid_1's l1: 0.0567504\n",
      "[13600]\ttraining's l1: 0.0539901\tvalid_1's l1: 0.0567508\n",
      "[13700]\ttraining's l1: 0.0539862\tvalid_1's l1: 0.0567497\n",
      "[13800]\ttraining's l1: 0.0539721\tvalid_1's l1: 0.0567476\n",
      "[13900]\ttraining's l1: 0.0539646\tvalid_1's l1: 0.0567457\n",
      "[14000]\ttraining's l1: 0.0539595\tvalid_1's l1: 0.0567453\n",
      "[14100]\ttraining's l1: 0.0539543\tvalid_1's l1: 0.0567437\n",
      "[14200]\ttraining's l1: 0.0539479\tvalid_1's l1: 0.0567426\n",
      "[14300]\ttraining's l1: 0.053946\tvalid_1's l1: 0.0567426\n",
      "[14400]\ttraining's l1: 0.0539406\tvalid_1's l1: 0.0567405\n",
      "[14500]\ttraining's l1: 0.0539342\tvalid_1's l1: 0.0567389\n",
      "[14600]\ttraining's l1: 0.0539297\tvalid_1's l1: 0.056737\n",
      "[14700]\ttraining's l1: 0.0539261\tvalid_1's l1: 0.0567368\n",
      "[14800]\ttraining's l1: 0.053919\tvalid_1's l1: 0.0567367\n",
      "[14900]\ttraining's l1: 0.053917\tvalid_1's l1: 0.0567365\n",
      "[15000]\ttraining's l1: 0.0539101\tvalid_1's l1: 0.0567349\n",
      "[15100]\ttraining's l1: 0.0538989\tvalid_1's l1: 0.0567316\n",
      "[15200]\ttraining's l1: 0.0538899\tvalid_1's l1: 0.0567292\n",
      "[15300]\ttraining's l1: 0.0538838\tvalid_1's l1: 0.0567278\n",
      "[15400]\ttraining's l1: 0.0538794\tvalid_1's l1: 0.0567271\n",
      "[15500]\ttraining's l1: 0.0538731\tvalid_1's l1: 0.0567254\n",
      "[15600]\ttraining's l1: 0.0538669\tvalid_1's l1: 0.0567244\n",
      "[15700]\ttraining's l1: 0.0538607\tvalid_1's l1: 0.0567233\n",
      "[15800]\ttraining's l1: 0.0538548\tvalid_1's l1: 0.0567218\n",
      "[15900]\ttraining's l1: 0.0538474\tvalid_1's l1: 0.0567211\n",
      "[16000]\ttraining's l1: 0.0538402\tvalid_1's l1: 0.0567199\n",
      "[16100]\ttraining's l1: 0.0538326\tvalid_1's l1: 0.0567173\n",
      "[16200]\ttraining's l1: 0.0538247\tvalid_1's l1: 0.0567141\n",
      "[16300]\ttraining's l1: 0.0538154\tvalid_1's l1: 0.0567099\n",
      "[16400]\ttraining's l1: 0.0538091\tvalid_1's l1: 0.0567092\n",
      "[16500]\ttraining's l1: 0.0537997\tvalid_1's l1: 0.0567084\n",
      "[16600]\ttraining's l1: 0.0537952\tvalid_1's l1: 0.056708\n",
      "[16700]\ttraining's l1: 0.0537882\tvalid_1's l1: 0.0567076\n",
      "[16800]\ttraining's l1: 0.0537861\tvalid_1's l1: 0.0567078\n",
      "[16900]\ttraining's l1: 0.0537813\tvalid_1's l1: 0.0567065\n",
      "[17000]\ttraining's l1: 0.0537767\tvalid_1's l1: 0.056705\n",
      "[17100]\ttraining's l1: 0.0537667\tvalid_1's l1: 0.0567021\n",
      "[17200]\ttraining's l1: 0.0537606\tvalid_1's l1: 0.0567012\n",
      "[17300]\ttraining's l1: 0.0537552\tvalid_1's l1: 0.0567008\n",
      "[17400]\ttraining's l1: 0.0537462\tvalid_1's l1: 0.0567005\n",
      "[17500]\ttraining's l1: 0.0537415\tvalid_1's l1: 0.0566999\n",
      "[17600]\ttraining's l1: 0.0537358\tvalid_1's l1: 0.0566992\n",
      "[17700]\ttraining's l1: 0.0537329\tvalid_1's l1: 0.0566992\n",
      "[17800]\ttraining's l1: 0.0537258\tvalid_1's l1: 0.0566975\n",
      "[17900]\ttraining's l1: 0.0537216\tvalid_1's l1: 0.0566965\n",
      "[18000]\ttraining's l1: 0.0537192\tvalid_1's l1: 0.0566958\n",
      "[18100]\ttraining's l1: 0.0537143\tvalid_1's l1: 0.056695\n",
      "[18200]\ttraining's l1: 0.0537103\tvalid_1's l1: 0.0566961\n",
      "[18300]\ttraining's l1: 0.0537084\tvalid_1's l1: 0.0566959\n",
      "Early stopping, best iteration is:\n",
      "[18146]\ttraining's l1: 0.0537133\tvalid_1's l1: 0.0566947\n"
     ]
    },
    {
     "name": "stderr",
     "output_type": "stream",
     "text": [
      "[08/10/22 21:23:14] 1296901836.py:12 in <module>\n",
      "                    lgb_score: 0.9200069806084826\n"
     ]
    },
    {
     "data": {
      "text/plain": [
       "0.9200069806084826"
      ]
     },
     "execution_count": 51,
     "metadata": {},
     "output_type": "execute_result"
    }
   ],
   "source": [
    "d_train = lgb.Dataset(X_train, y_train)\n",
    "d_valid = lgb.Dataset(X_valid, y_valid, reference=d_train)\n",
    "\n",
    "lgb_model = lgb.train(params,\n",
    "                d_train,\n",
    "                20000,\n",
    "                valid_sets=[d_train, d_valid],\n",
    "                verbose_eval=100,\n",
    "                early_stopping_rounds=200)\n",
    "dvalid['lgb_pred'] = lgb_model.predict(dvalid[cols])\n",
    "lgb_score = calc_metric({'id': dvalid.id.values, 'cell_id': dvalid.cell_id.values, 'pred': dvalid.lgb_pred.values})\n",
    "ic(lgb_score)"
   ]
  },
  {
   "cell_type": "code",
   "execution_count": 52,
   "metadata": {},
   "outputs": [
    {
     "data": {
      "application/vnd.plotly.v1+json": {
       "config": {
        "plotlyServerURL": "https://plot.ly"
       },
       "data": [
        {
         "alignmentgroup": "True",
         "hovertemplate": "importance=%{x}<br>feat_name=%{y}<extra></extra>",
         "legendgroup": "",
         "marker": {
          "color": "#636efa",
          "pattern": {
           "shape": ""
          }
         },
         "name": "",
         "offsetgroup": "",
         "orientation": "h",
         "showlegend": false,
         "textposition": "auto",
         "type": "bar",
         "x": [
          2133,
          2145,
          2175,
          2260,
          2336,
          2429,
          2546,
          2567,
          2596,
          2639,
          2661,
          2699,
          2756,
          3221,
          3265,
          3307,
          3371,
          3487,
          3515,
          3625
         ],
         "xaxis": "x",
         "y": [
          "n_cell",
          "xc_top_prob_3",
          "xp_top_prob_1",
          "xpc_var_prob",
          "xp_cls_rank_pred",
          "xc_top_prob_2",
          "xc_reg_rank_pred",
          "pcc_reg_diff",
          "pcc_cls2_diff",
          "n_words",
          "code_ratio",
          "xpc_top_prob_2",
          "xc_abs_cls_cls2_diff",
          "xc_reg_pred",
          "xpc_pred",
          "xpc_top_prob_0",
          "xp_top_prob_0",
          "xpc_cls_pred",
          "xc_top_prob_1",
          "xc_cls_pred"
         ],
         "yaxis": "y"
        }
       ],
       "layout": {
        "barmode": "relative",
        "legend": {
         "tracegroupgap": 0
        },
        "margin": {
         "t": 60
        },
        "template": {
         "data": {
          "bar": [
           {
            "error_x": {
             "color": "#2a3f5f"
            },
            "error_y": {
             "color": "#2a3f5f"
            },
            "marker": {
             "line": {
              "color": "#E5ECF6",
              "width": 0.5
             },
             "pattern": {
              "fillmode": "overlay",
              "size": 10,
              "solidity": 0.2
             }
            },
            "type": "bar"
           }
          ],
          "barpolar": [
           {
            "marker": {
             "line": {
              "color": "#E5ECF6",
              "width": 0.5
             },
             "pattern": {
              "fillmode": "overlay",
              "size": 10,
              "solidity": 0.2
             }
            },
            "type": "barpolar"
           }
          ],
          "carpet": [
           {
            "aaxis": {
             "endlinecolor": "#2a3f5f",
             "gridcolor": "white",
             "linecolor": "white",
             "minorgridcolor": "white",
             "startlinecolor": "#2a3f5f"
            },
            "baxis": {
             "endlinecolor": "#2a3f5f",
             "gridcolor": "white",
             "linecolor": "white",
             "minorgridcolor": "white",
             "startlinecolor": "#2a3f5f"
            },
            "type": "carpet"
           }
          ],
          "choropleth": [
           {
            "colorbar": {
             "outlinewidth": 0,
             "ticks": ""
            },
            "type": "choropleth"
           }
          ],
          "contour": [
           {
            "colorbar": {
             "outlinewidth": 0,
             "ticks": ""
            },
            "colorscale": [
             [
              0,
              "#0d0887"
             ],
             [
              0.1111111111111111,
              "#46039f"
             ],
             [
              0.2222222222222222,
              "#7201a8"
             ],
             [
              0.3333333333333333,
              "#9c179e"
             ],
             [
              0.4444444444444444,
              "#bd3786"
             ],
             [
              0.5555555555555556,
              "#d8576b"
             ],
             [
              0.6666666666666666,
              "#ed7953"
             ],
             [
              0.7777777777777778,
              "#fb9f3a"
             ],
             [
              0.8888888888888888,
              "#fdca26"
             ],
             [
              1,
              "#f0f921"
             ]
            ],
            "type": "contour"
           }
          ],
          "contourcarpet": [
           {
            "colorbar": {
             "outlinewidth": 0,
             "ticks": ""
            },
            "type": "contourcarpet"
           }
          ],
          "heatmap": [
           {
            "colorbar": {
             "outlinewidth": 0,
             "ticks": ""
            },
            "colorscale": [
             [
              0,
              "#0d0887"
             ],
             [
              0.1111111111111111,
              "#46039f"
             ],
             [
              0.2222222222222222,
              "#7201a8"
             ],
             [
              0.3333333333333333,
              "#9c179e"
             ],
             [
              0.4444444444444444,
              "#bd3786"
             ],
             [
              0.5555555555555556,
              "#d8576b"
             ],
             [
              0.6666666666666666,
              "#ed7953"
             ],
             [
              0.7777777777777778,
              "#fb9f3a"
             ],
             [
              0.8888888888888888,
              "#fdca26"
             ],
             [
              1,
              "#f0f921"
             ]
            ],
            "type": "heatmap"
           }
          ],
          "heatmapgl": [
           {
            "colorbar": {
             "outlinewidth": 0,
             "ticks": ""
            },
            "colorscale": [
             [
              0,
              "#0d0887"
             ],
             [
              0.1111111111111111,
              "#46039f"
             ],
             [
              0.2222222222222222,
              "#7201a8"
             ],
             [
              0.3333333333333333,
              "#9c179e"
             ],
             [
              0.4444444444444444,
              "#bd3786"
             ],
             [
              0.5555555555555556,
              "#d8576b"
             ],
             [
              0.6666666666666666,
              "#ed7953"
             ],
             [
              0.7777777777777778,
              "#fb9f3a"
             ],
             [
              0.8888888888888888,
              "#fdca26"
             ],
             [
              1,
              "#f0f921"
             ]
            ],
            "type": "heatmapgl"
           }
          ],
          "histogram": [
           {
            "marker": {
             "pattern": {
              "fillmode": "overlay",
              "size": 10,
              "solidity": 0.2
             }
            },
            "type": "histogram"
           }
          ],
          "histogram2d": [
           {
            "colorbar": {
             "outlinewidth": 0,
             "ticks": ""
            },
            "colorscale": [
             [
              0,
              "#0d0887"
             ],
             [
              0.1111111111111111,
              "#46039f"
             ],
             [
              0.2222222222222222,
              "#7201a8"
             ],
             [
              0.3333333333333333,
              "#9c179e"
             ],
             [
              0.4444444444444444,
              "#bd3786"
             ],
             [
              0.5555555555555556,
              "#d8576b"
             ],
             [
              0.6666666666666666,
              "#ed7953"
             ],
             [
              0.7777777777777778,
              "#fb9f3a"
             ],
             [
              0.8888888888888888,
              "#fdca26"
             ],
             [
              1,
              "#f0f921"
             ]
            ],
            "type": "histogram2d"
           }
          ],
          "histogram2dcontour": [
           {
            "colorbar": {
             "outlinewidth": 0,
             "ticks": ""
            },
            "colorscale": [
             [
              0,
              "#0d0887"
             ],
             [
              0.1111111111111111,
              "#46039f"
             ],
             [
              0.2222222222222222,
              "#7201a8"
             ],
             [
              0.3333333333333333,
              "#9c179e"
             ],
             [
              0.4444444444444444,
              "#bd3786"
             ],
             [
              0.5555555555555556,
              "#d8576b"
             ],
             [
              0.6666666666666666,
              "#ed7953"
             ],
             [
              0.7777777777777778,
              "#fb9f3a"
             ],
             [
              0.8888888888888888,
              "#fdca26"
             ],
             [
              1,
              "#f0f921"
             ]
            ],
            "type": "histogram2dcontour"
           }
          ],
          "mesh3d": [
           {
            "colorbar": {
             "outlinewidth": 0,
             "ticks": ""
            },
            "type": "mesh3d"
           }
          ],
          "parcoords": [
           {
            "line": {
             "colorbar": {
              "outlinewidth": 0,
              "ticks": ""
             }
            },
            "type": "parcoords"
           }
          ],
          "pie": [
           {
            "automargin": true,
            "type": "pie"
           }
          ],
          "scatter": [
           {
            "marker": {
             "colorbar": {
              "outlinewidth": 0,
              "ticks": ""
             }
            },
            "type": "scatter"
           }
          ],
          "scatter3d": [
           {
            "line": {
             "colorbar": {
              "outlinewidth": 0,
              "ticks": ""
             }
            },
            "marker": {
             "colorbar": {
              "outlinewidth": 0,
              "ticks": ""
             }
            },
            "type": "scatter3d"
           }
          ],
          "scattercarpet": [
           {
            "marker": {
             "colorbar": {
              "outlinewidth": 0,
              "ticks": ""
             }
            },
            "type": "scattercarpet"
           }
          ],
          "scattergeo": [
           {
            "marker": {
             "colorbar": {
              "outlinewidth": 0,
              "ticks": ""
             }
            },
            "type": "scattergeo"
           }
          ],
          "scattergl": [
           {
            "marker": {
             "colorbar": {
              "outlinewidth": 0,
              "ticks": ""
             }
            },
            "type": "scattergl"
           }
          ],
          "scattermapbox": [
           {
            "marker": {
             "colorbar": {
              "outlinewidth": 0,
              "ticks": ""
             }
            },
            "type": "scattermapbox"
           }
          ],
          "scatterpolar": [
           {
            "marker": {
             "colorbar": {
              "outlinewidth": 0,
              "ticks": ""
             }
            },
            "type": "scatterpolar"
           }
          ],
          "scatterpolargl": [
           {
            "marker": {
             "colorbar": {
              "outlinewidth": 0,
              "ticks": ""
             }
            },
            "type": "scatterpolargl"
           }
          ],
          "scatterternary": [
           {
            "marker": {
             "colorbar": {
              "outlinewidth": 0,
              "ticks": ""
             }
            },
            "type": "scatterternary"
           }
          ],
          "surface": [
           {
            "colorbar": {
             "outlinewidth": 0,
             "ticks": ""
            },
            "colorscale": [
             [
              0,
              "#0d0887"
             ],
             [
              0.1111111111111111,
              "#46039f"
             ],
             [
              0.2222222222222222,
              "#7201a8"
             ],
             [
              0.3333333333333333,
              "#9c179e"
             ],
             [
              0.4444444444444444,
              "#bd3786"
             ],
             [
              0.5555555555555556,
              "#d8576b"
             ],
             [
              0.6666666666666666,
              "#ed7953"
             ],
             [
              0.7777777777777778,
              "#fb9f3a"
             ],
             [
              0.8888888888888888,
              "#fdca26"
             ],
             [
              1,
              "#f0f921"
             ]
            ],
            "type": "surface"
           }
          ],
          "table": [
           {
            "cells": {
             "fill": {
              "color": "#EBF0F8"
             },
             "line": {
              "color": "white"
             }
            },
            "header": {
             "fill": {
              "color": "#C8D4E3"
             },
             "line": {
              "color": "white"
             }
            },
            "type": "table"
           }
          ]
         },
         "layout": {
          "annotationdefaults": {
           "arrowcolor": "#2a3f5f",
           "arrowhead": 0,
           "arrowwidth": 1
          },
          "autotypenumbers": "strict",
          "coloraxis": {
           "colorbar": {
            "outlinewidth": 0,
            "ticks": ""
           }
          },
          "colorscale": {
           "diverging": [
            [
             0,
             "#8e0152"
            ],
            [
             0.1,
             "#c51b7d"
            ],
            [
             0.2,
             "#de77ae"
            ],
            [
             0.3,
             "#f1b6da"
            ],
            [
             0.4,
             "#fde0ef"
            ],
            [
             0.5,
             "#f7f7f7"
            ],
            [
             0.6,
             "#e6f5d0"
            ],
            [
             0.7,
             "#b8e186"
            ],
            [
             0.8,
             "#7fbc41"
            ],
            [
             0.9,
             "#4d9221"
            ],
            [
             1,
             "#276419"
            ]
           ],
           "sequential": [
            [
             0,
             "#0d0887"
            ],
            [
             0.1111111111111111,
             "#46039f"
            ],
            [
             0.2222222222222222,
             "#7201a8"
            ],
            [
             0.3333333333333333,
             "#9c179e"
            ],
            [
             0.4444444444444444,
             "#bd3786"
            ],
            [
             0.5555555555555556,
             "#d8576b"
            ],
            [
             0.6666666666666666,
             "#ed7953"
            ],
            [
             0.7777777777777778,
             "#fb9f3a"
            ],
            [
             0.8888888888888888,
             "#fdca26"
            ],
            [
             1,
             "#f0f921"
            ]
           ],
           "sequentialminus": [
            [
             0,
             "#0d0887"
            ],
            [
             0.1111111111111111,
             "#46039f"
            ],
            [
             0.2222222222222222,
             "#7201a8"
            ],
            [
             0.3333333333333333,
             "#9c179e"
            ],
            [
             0.4444444444444444,
             "#bd3786"
            ],
            [
             0.5555555555555556,
             "#d8576b"
            ],
            [
             0.6666666666666666,
             "#ed7953"
            ],
            [
             0.7777777777777778,
             "#fb9f3a"
            ],
            [
             0.8888888888888888,
             "#fdca26"
            ],
            [
             1,
             "#f0f921"
            ]
           ]
          },
          "colorway": [
           "#636efa",
           "#EF553B",
           "#00cc96",
           "#ab63fa",
           "#FFA15A",
           "#19d3f3",
           "#FF6692",
           "#B6E880",
           "#FF97FF",
           "#FECB52"
          ],
          "font": {
           "color": "#2a3f5f"
          },
          "geo": {
           "bgcolor": "white",
           "lakecolor": "white",
           "landcolor": "#E5ECF6",
           "showlakes": true,
           "showland": true,
           "subunitcolor": "white"
          },
          "hoverlabel": {
           "align": "left"
          },
          "hovermode": "closest",
          "mapbox": {
           "style": "light"
          },
          "paper_bgcolor": "white",
          "plot_bgcolor": "#E5ECF6",
          "polar": {
           "angularaxis": {
            "gridcolor": "white",
            "linecolor": "white",
            "ticks": ""
           },
           "bgcolor": "#E5ECF6",
           "radialaxis": {
            "gridcolor": "white",
            "linecolor": "white",
            "ticks": ""
           }
          },
          "scene": {
           "xaxis": {
            "backgroundcolor": "#E5ECF6",
            "gridcolor": "white",
            "gridwidth": 2,
            "linecolor": "white",
            "showbackground": true,
            "ticks": "",
            "zerolinecolor": "white"
           },
           "yaxis": {
            "backgroundcolor": "#E5ECF6",
            "gridcolor": "white",
            "gridwidth": 2,
            "linecolor": "white",
            "showbackground": true,
            "ticks": "",
            "zerolinecolor": "white"
           },
           "zaxis": {
            "backgroundcolor": "#E5ECF6",
            "gridcolor": "white",
            "gridwidth": 2,
            "linecolor": "white",
            "showbackground": true,
            "ticks": "",
            "zerolinecolor": "white"
           }
          },
          "shapedefaults": {
           "line": {
            "color": "#2a3f5f"
           }
          },
          "ternary": {
           "aaxis": {
            "gridcolor": "white",
            "linecolor": "white",
            "ticks": ""
           },
           "baxis": {
            "gridcolor": "white",
            "linecolor": "white",
            "ticks": ""
           },
           "bgcolor": "#E5ECF6",
           "caxis": {
            "gridcolor": "white",
            "linecolor": "white",
            "ticks": ""
           }
          },
          "title": {
           "x": 0.05
          },
          "xaxis": {
           "automargin": true,
           "gridcolor": "white",
           "linecolor": "white",
           "ticks": "",
           "title": {
            "standoff": 15
           },
           "zerolinecolor": "white",
           "zerolinewidth": 2
          },
          "yaxis": {
           "automargin": true,
           "gridcolor": "white",
           "linecolor": "white",
           "ticks": "",
           "title": {
            "standoff": 15
           },
           "zerolinecolor": "white",
           "zerolinewidth": 2
          }
         }
        },
        "xaxis": {
         "anchor": "y",
         "domain": [
          0,
          1
         ],
         "title": {
          "text": "importance"
         }
        },
        "yaxis": {
         "anchor": "x",
         "domain": [
          0,
          1
         ],
         "title": {
          "text": "feat_name"
         }
        }
       }
      },
      "text/html": [
       "<div>                            <div id=\"f188d0af-9a72-4366-90d2-d1f65aa0dc80\" class=\"plotly-graph-div\" style=\"height:525px; width:100%;\"></div>            <script type=\"text/javascript\">                require([\"plotly\"], function(Plotly) {                    window.PLOTLYENV=window.PLOTLYENV || {};                                    if (document.getElementById(\"f188d0af-9a72-4366-90d2-d1f65aa0dc80\")) {                    Plotly.newPlot(                        \"f188d0af-9a72-4366-90d2-d1f65aa0dc80\",                        [{\"alignmentgroup\":\"True\",\"hovertemplate\":\"importance=%{x}<br>feat_name=%{y}<extra></extra>\",\"legendgroup\":\"\",\"marker\":{\"color\":\"#636efa\",\"pattern\":{\"shape\":\"\"}},\"name\":\"\",\"offsetgroup\":\"\",\"orientation\":\"h\",\"showlegend\":false,\"textposition\":\"auto\",\"x\":[2133,2145,2175,2260,2336,2429,2546,2567,2596,2639,2661,2699,2756,3221,3265,3307,3371,3487,3515,3625],\"xaxis\":\"x\",\"y\":[\"n_cell\",\"xc_top_prob_3\",\"xp_top_prob_1\",\"xpc_var_prob\",\"xp_cls_rank_pred\",\"xc_top_prob_2\",\"xc_reg_rank_pred\",\"pcc_reg_diff\",\"pcc_cls2_diff\",\"n_words\",\"code_ratio\",\"xpc_top_prob_2\",\"xc_abs_cls_cls2_diff\",\"xc_reg_pred\",\"xpc_pred\",\"xpc_top_prob_0\",\"xp_top_prob_0\",\"xpc_cls_pred\",\"xc_top_prob_1\",\"xc_cls_pred\"],\"yaxis\":\"y\",\"type\":\"bar\"}],                        {\"template\":{\"data\":{\"bar\":[{\"error_x\":{\"color\":\"#2a3f5f\"},\"error_y\":{\"color\":\"#2a3f5f\"},\"marker\":{\"line\":{\"color\":\"#E5ECF6\",\"width\":0.5},\"pattern\":{\"fillmode\":\"overlay\",\"size\":10,\"solidity\":0.2}},\"type\":\"bar\"}],\"barpolar\":[{\"marker\":{\"line\":{\"color\":\"#E5ECF6\",\"width\":0.5},\"pattern\":{\"fillmode\":\"overlay\",\"size\":10,\"solidity\":0.2}},\"type\":\"barpolar\"}],\"carpet\":[{\"aaxis\":{\"endlinecolor\":\"#2a3f5f\",\"gridcolor\":\"white\",\"linecolor\":\"white\",\"minorgridcolor\":\"white\",\"startlinecolor\":\"#2a3f5f\"},\"baxis\":{\"endlinecolor\":\"#2a3f5f\",\"gridcolor\":\"white\",\"linecolor\":\"white\",\"minorgridcolor\":\"white\",\"startlinecolor\":\"#2a3f5f\"},\"type\":\"carpet\"}],\"choropleth\":[{\"colorbar\":{\"outlinewidth\":0,\"ticks\":\"\"},\"type\":\"choropleth\"}],\"contour\":[{\"colorbar\":{\"outlinewidth\":0,\"ticks\":\"\"},\"colorscale\":[[0.0,\"#0d0887\"],[0.1111111111111111,\"#46039f\"],[0.2222222222222222,\"#7201a8\"],[0.3333333333333333,\"#9c179e\"],[0.4444444444444444,\"#bd3786\"],[0.5555555555555556,\"#d8576b\"],[0.6666666666666666,\"#ed7953\"],[0.7777777777777778,\"#fb9f3a\"],[0.8888888888888888,\"#fdca26\"],[1.0,\"#f0f921\"]],\"type\":\"contour\"}],\"contourcarpet\":[{\"colorbar\":{\"outlinewidth\":0,\"ticks\":\"\"},\"type\":\"contourcarpet\"}],\"heatmap\":[{\"colorbar\":{\"outlinewidth\":0,\"ticks\":\"\"},\"colorscale\":[[0.0,\"#0d0887\"],[0.1111111111111111,\"#46039f\"],[0.2222222222222222,\"#7201a8\"],[0.3333333333333333,\"#9c179e\"],[0.4444444444444444,\"#bd3786\"],[0.5555555555555556,\"#d8576b\"],[0.6666666666666666,\"#ed7953\"],[0.7777777777777778,\"#fb9f3a\"],[0.8888888888888888,\"#fdca26\"],[1.0,\"#f0f921\"]],\"type\":\"heatmap\"}],\"heatmapgl\":[{\"colorbar\":{\"outlinewidth\":0,\"ticks\":\"\"},\"colorscale\":[[0.0,\"#0d0887\"],[0.1111111111111111,\"#46039f\"],[0.2222222222222222,\"#7201a8\"],[0.3333333333333333,\"#9c179e\"],[0.4444444444444444,\"#bd3786\"],[0.5555555555555556,\"#d8576b\"],[0.6666666666666666,\"#ed7953\"],[0.7777777777777778,\"#fb9f3a\"],[0.8888888888888888,\"#fdca26\"],[1.0,\"#f0f921\"]],\"type\":\"heatmapgl\"}],\"histogram\":[{\"marker\":{\"pattern\":{\"fillmode\":\"overlay\",\"size\":10,\"solidity\":0.2}},\"type\":\"histogram\"}],\"histogram2d\":[{\"colorbar\":{\"outlinewidth\":0,\"ticks\":\"\"},\"colorscale\":[[0.0,\"#0d0887\"],[0.1111111111111111,\"#46039f\"],[0.2222222222222222,\"#7201a8\"],[0.3333333333333333,\"#9c179e\"],[0.4444444444444444,\"#bd3786\"],[0.5555555555555556,\"#d8576b\"],[0.6666666666666666,\"#ed7953\"],[0.7777777777777778,\"#fb9f3a\"],[0.8888888888888888,\"#fdca26\"],[1.0,\"#f0f921\"]],\"type\":\"histogram2d\"}],\"histogram2dcontour\":[{\"colorbar\":{\"outlinewidth\":0,\"ticks\":\"\"},\"colorscale\":[[0.0,\"#0d0887\"],[0.1111111111111111,\"#46039f\"],[0.2222222222222222,\"#7201a8\"],[0.3333333333333333,\"#9c179e\"],[0.4444444444444444,\"#bd3786\"],[0.5555555555555556,\"#d8576b\"],[0.6666666666666666,\"#ed7953\"],[0.7777777777777778,\"#fb9f3a\"],[0.8888888888888888,\"#fdca26\"],[1.0,\"#f0f921\"]],\"type\":\"histogram2dcontour\"}],\"mesh3d\":[{\"colorbar\":{\"outlinewidth\":0,\"ticks\":\"\"},\"type\":\"mesh3d\"}],\"parcoords\":[{\"line\":{\"colorbar\":{\"outlinewidth\":0,\"ticks\":\"\"}},\"type\":\"parcoords\"}],\"pie\":[{\"automargin\":true,\"type\":\"pie\"}],\"scatter\":[{\"marker\":{\"colorbar\":{\"outlinewidth\":0,\"ticks\":\"\"}},\"type\":\"scatter\"}],\"scatter3d\":[{\"line\":{\"colorbar\":{\"outlinewidth\":0,\"ticks\":\"\"}},\"marker\":{\"colorbar\":{\"outlinewidth\":0,\"ticks\":\"\"}},\"type\":\"scatter3d\"}],\"scattercarpet\":[{\"marker\":{\"colorbar\":{\"outlinewidth\":0,\"ticks\":\"\"}},\"type\":\"scattercarpet\"}],\"scattergeo\":[{\"marker\":{\"colorbar\":{\"outlinewidth\":0,\"ticks\":\"\"}},\"type\":\"scattergeo\"}],\"scattergl\":[{\"marker\":{\"colorbar\":{\"outlinewidth\":0,\"ticks\":\"\"}},\"type\":\"scattergl\"}],\"scattermapbox\":[{\"marker\":{\"colorbar\":{\"outlinewidth\":0,\"ticks\":\"\"}},\"type\":\"scattermapbox\"}],\"scatterpolar\":[{\"marker\":{\"colorbar\":{\"outlinewidth\":0,\"ticks\":\"\"}},\"type\":\"scatterpolar\"}],\"scatterpolargl\":[{\"marker\":{\"colorbar\":{\"outlinewidth\":0,\"ticks\":\"\"}},\"type\":\"scatterpolargl\"}],\"scatterternary\":[{\"marker\":{\"colorbar\":{\"outlinewidth\":0,\"ticks\":\"\"}},\"type\":\"scatterternary\"}],\"surface\":[{\"colorbar\":{\"outlinewidth\":0,\"ticks\":\"\"},\"colorscale\":[[0.0,\"#0d0887\"],[0.1111111111111111,\"#46039f\"],[0.2222222222222222,\"#7201a8\"],[0.3333333333333333,\"#9c179e\"],[0.4444444444444444,\"#bd3786\"],[0.5555555555555556,\"#d8576b\"],[0.6666666666666666,\"#ed7953\"],[0.7777777777777778,\"#fb9f3a\"],[0.8888888888888888,\"#fdca26\"],[1.0,\"#f0f921\"]],\"type\":\"surface\"}],\"table\":[{\"cells\":{\"fill\":{\"color\":\"#EBF0F8\"},\"line\":{\"color\":\"white\"}},\"header\":{\"fill\":{\"color\":\"#C8D4E3\"},\"line\":{\"color\":\"white\"}},\"type\":\"table\"}]},\"layout\":{\"annotationdefaults\":{\"arrowcolor\":\"#2a3f5f\",\"arrowhead\":0,\"arrowwidth\":1},\"autotypenumbers\":\"strict\",\"coloraxis\":{\"colorbar\":{\"outlinewidth\":0,\"ticks\":\"\"}},\"colorscale\":{\"diverging\":[[0,\"#8e0152\"],[0.1,\"#c51b7d\"],[0.2,\"#de77ae\"],[0.3,\"#f1b6da\"],[0.4,\"#fde0ef\"],[0.5,\"#f7f7f7\"],[0.6,\"#e6f5d0\"],[0.7,\"#b8e186\"],[0.8,\"#7fbc41\"],[0.9,\"#4d9221\"],[1,\"#276419\"]],\"sequential\":[[0.0,\"#0d0887\"],[0.1111111111111111,\"#46039f\"],[0.2222222222222222,\"#7201a8\"],[0.3333333333333333,\"#9c179e\"],[0.4444444444444444,\"#bd3786\"],[0.5555555555555556,\"#d8576b\"],[0.6666666666666666,\"#ed7953\"],[0.7777777777777778,\"#fb9f3a\"],[0.8888888888888888,\"#fdca26\"],[1.0,\"#f0f921\"]],\"sequentialminus\":[[0.0,\"#0d0887\"],[0.1111111111111111,\"#46039f\"],[0.2222222222222222,\"#7201a8\"],[0.3333333333333333,\"#9c179e\"],[0.4444444444444444,\"#bd3786\"],[0.5555555555555556,\"#d8576b\"],[0.6666666666666666,\"#ed7953\"],[0.7777777777777778,\"#fb9f3a\"],[0.8888888888888888,\"#fdca26\"],[1.0,\"#f0f921\"]]},\"colorway\":[\"#636efa\",\"#EF553B\",\"#00cc96\",\"#ab63fa\",\"#FFA15A\",\"#19d3f3\",\"#FF6692\",\"#B6E880\",\"#FF97FF\",\"#FECB52\"],\"font\":{\"color\":\"#2a3f5f\"},\"geo\":{\"bgcolor\":\"white\",\"lakecolor\":\"white\",\"landcolor\":\"#E5ECF6\",\"showlakes\":true,\"showland\":true,\"subunitcolor\":\"white\"},\"hoverlabel\":{\"align\":\"left\"},\"hovermode\":\"closest\",\"mapbox\":{\"style\":\"light\"},\"paper_bgcolor\":\"white\",\"plot_bgcolor\":\"#E5ECF6\",\"polar\":{\"angularaxis\":{\"gridcolor\":\"white\",\"linecolor\":\"white\",\"ticks\":\"\"},\"bgcolor\":\"#E5ECF6\",\"radialaxis\":{\"gridcolor\":\"white\",\"linecolor\":\"white\",\"ticks\":\"\"}},\"scene\":{\"xaxis\":{\"backgroundcolor\":\"#E5ECF6\",\"gridcolor\":\"white\",\"gridwidth\":2,\"linecolor\":\"white\",\"showbackground\":true,\"ticks\":\"\",\"zerolinecolor\":\"white\"},\"yaxis\":{\"backgroundcolor\":\"#E5ECF6\",\"gridcolor\":\"white\",\"gridwidth\":2,\"linecolor\":\"white\",\"showbackground\":true,\"ticks\":\"\",\"zerolinecolor\":\"white\"},\"zaxis\":{\"backgroundcolor\":\"#E5ECF6\",\"gridcolor\":\"white\",\"gridwidth\":2,\"linecolor\":\"white\",\"showbackground\":true,\"ticks\":\"\",\"zerolinecolor\":\"white\"}},\"shapedefaults\":{\"line\":{\"color\":\"#2a3f5f\"}},\"ternary\":{\"aaxis\":{\"gridcolor\":\"white\",\"linecolor\":\"white\",\"ticks\":\"\"},\"baxis\":{\"gridcolor\":\"white\",\"linecolor\":\"white\",\"ticks\":\"\"},\"bgcolor\":\"#E5ECF6\",\"caxis\":{\"gridcolor\":\"white\",\"linecolor\":\"white\",\"ticks\":\"\"}},\"title\":{\"x\":0.05},\"xaxis\":{\"automargin\":true,\"gridcolor\":\"white\",\"linecolor\":\"white\",\"ticks\":\"\",\"title\":{\"standoff\":15},\"zerolinecolor\":\"white\",\"zerolinewidth\":2},\"yaxis\":{\"automargin\":true,\"gridcolor\":\"white\",\"linecolor\":\"white\",\"ticks\":\"\",\"title\":{\"standoff\":15},\"zerolinecolor\":\"white\",\"zerolinewidth\":2}}},\"xaxis\":{\"anchor\":\"y\",\"domain\":[0.0,1.0],\"title\":{\"text\":\"importance\"}},\"yaxis\":{\"anchor\":\"x\",\"domain\":[0.0,1.0],\"title\":{\"text\":\"feat_name\"}},\"legend\":{\"tracegroupgap\":0},\"margin\":{\"t\":60},\"barmode\":\"relative\"},                        {\"responsive\": true}                    ).then(function(){\n",
       "                            \n",
       "var gd = document.getElementById('f188d0af-9a72-4366-90d2-d1f65aa0dc80');\n",
       "var x = new MutationObserver(function (mutations, observer) {{\n",
       "        var display = window.getComputedStyle(gd).display;\n",
       "        if (!display || display === 'none') {{\n",
       "            console.log([gd, 'removed!']);\n",
       "            Plotly.purge(gd);\n",
       "            observer.disconnect();\n",
       "        }}\n",
       "}});\n",
       "\n",
       "// Listen for the removal of the full notebook cells\n",
       "var notebookContainer = gd.closest('#notebook-container');\n",
       "if (notebookContainer) {{\n",
       "    x.observe(notebookContainer, {childList: true});\n",
       "}}\n",
       "\n",
       "// Listen for the clearing of the current output cell\n",
       "var outputEl = gd.closest('.output');\n",
       "if (outputEl) {{\n",
       "    x.observe(outputEl, {childList: true});\n",
       "}}\n",
       "\n",
       "                        })                };                });            </script>        </div>"
      ]
     },
     "metadata": {},
     "output_type": "display_data"
    }
   ],
   "source": [
    "gezi.plot.feature_importance(lgb_model, topn=20)"
   ]
  },
  {
   "cell_type": "code",
   "execution_count": 53,
   "metadata": {},
   "outputs": [
    {
     "data": {
      "application/vnd.jupyter.widget-view+json": {
       "model_id": "0e9acb03cf674fab95ac88fe33857f5a",
       "version_major": 2,
       "version_minor": 0
      },
      "text/plain": [
       "  0%|          | 0/5 [00:00<?, ?it/s]"
      ]
     },
     "metadata": {},
     "output_type": "display_data"
    },
    {
     "name": "stderr",
     "output_type": "stream",
     "text": [
      "[08/10/22 21:23:23] 134356872.py:21 in <module>\n",
      "                    cbt_score: 0.9197134114106469\n",
      "[08/10/22 21:23:49] 134356872.py:36 in <module>\n",
      "                    lgb_score: 0.9200069806084826\n",
      "[08/10/22 21:23:51] 134356872.py:38 in <module>\n",
      "                    score: 0.9201324981206255\n",
      "[08/10/22 21:23:51] 134356872.py:43 in <module>\n",
      "                    fold: 0\n",
      "                    np.asarray(cbt_scores).mean(): 0.9197134114106469\n",
      "                    np.asarray(lgb_scores).mean(): 0.9200069806084826\n",
      "                    np.asarray(scores).mean(): 0.9201324981206255\n"
     ]
    },
    {
     "name": "stdout",
     "output_type": "stream",
     "text": [
      "0:\tlearn: 0.2522899\ttest: 0.2522899\ttest1: 0.2521740\tbest: 0.2521740 (0)\ttotal: 54.6ms\tremaining: 9m 5s\n",
      "500:\tlearn: 0.0571717\ttest: 0.0571717\ttest1: 0.0563018\tbest: 0.0563018 (500)\ttotal: 17.5s\tremaining: 5m 31s\n",
      "1000:\tlearn: 0.0562221\ttest: 0.0562221\ttest1: 0.0555618\tbest: 0.0555618 (1000)\ttotal: 35.1s\tremaining: 5m 15s\n",
      "1500:\tlearn: 0.0557530\ttest: 0.0557530\ttest1: 0.0552780\tbest: 0.0552780 (1500)\ttotal: 52.8s\tremaining: 4m 59s\n",
      "2000:\tlearn: 0.0554009\ttest: 0.0554009\ttest1: 0.0551291\tbest: 0.0551291 (2000)\ttotal: 1m 10s\tremaining: 4m 41s\n",
      "2500:\tlearn: 0.0550920\ttest: 0.0550920\ttest1: 0.0550349\tbest: 0.0550349 (2500)\ttotal: 1m 27s\tremaining: 4m 23s\n",
      "3000:\tlearn: 0.0548411\ttest: 0.0548411\ttest1: 0.0549795\tbest: 0.0549795 (3000)\ttotal: 1m 45s\tremaining: 4m 5s\n",
      "3500:\tlearn: 0.0546211\ttest: 0.0546211\ttest1: 0.0549347\tbest: 0.0549347 (3500)\ttotal: 2m 2s\tremaining: 3m 47s\n",
      "4000:\tlearn: 0.0544034\ttest: 0.0544034\ttest1: 0.0548946\tbest: 0.0548946 (4000)\ttotal: 2m 19s\tremaining: 3m 29s\n",
      "4500:\tlearn: 0.0541997\ttest: 0.0541997\ttest1: 0.0548772\tbest: 0.0548766 (4498)\ttotal: 2m 37s\tremaining: 3m 11s\n",
      "5000:\tlearn: 0.0539967\ttest: 0.0539967\ttest1: 0.0548573\tbest: 0.0548573 (5000)\ttotal: 2m 54s\tremaining: 2m 53s\n",
      "5500:\tlearn: 0.0537930\ttest: 0.0537930\ttest1: 0.0548438\tbest: 0.0548412 (5466)\ttotal: 3m 11s\tremaining: 2m 36s\n",
      "6000:\tlearn: 0.0535649\ttest: 0.0535649\ttest1: 0.0548249\tbest: 0.0548241 (5978)\ttotal: 3m 28s\tremaining: 2m 18s\n",
      "6500:\tlearn: 0.0533804\ttest: 0.0533804\ttest1: 0.0548117\tbest: 0.0548109 (6486)\ttotal: 3m 45s\tremaining: 2m 1s\n",
      "7000:\tlearn: 0.0532106\ttest: 0.0532106\ttest1: 0.0548136\tbest: 0.0548078 (6926)\ttotal: 4m 2s\tremaining: 1m 44s\n",
      "7500:\tlearn: 0.0530518\ttest: 0.0530518\ttest1: 0.0548038\tbest: 0.0548037 (7493)\ttotal: 4m 20s\tremaining: 1m 26s\n",
      "8000:\tlearn: 0.0528819\ttest: 0.0528819\ttest1: 0.0547988\tbest: 0.0547975 (7984)\ttotal: 4m 36s\tremaining: 1m 9s\n",
      "8500:\tlearn: 0.0527388\ttest: 0.0527388\ttest1: 0.0547922\tbest: 0.0547922 (8500)\ttotal: 4m 54s\tremaining: 51.9s\n",
      "9000:\tlearn: 0.0525906\ttest: 0.0525906\ttest1: 0.0547894\tbest: 0.0547877 (8632)\ttotal: 5m 11s\tremaining: 34.6s\n",
      "9500:\tlearn: 0.0524453\ttest: 0.0524453\ttest1: 0.0547844\tbest: 0.0547840 (9459)\ttotal: 5m 29s\tremaining: 17.3s\n",
      "9999:\tlearn: 0.0523164\ttest: 0.0523164\ttest1: 0.0547864\tbest: 0.0547832 (9725)\ttotal: 5m 47s\tremaining: 0us\n",
      "\n",
      "bestTest = 0.05478317474\n",
      "bestIteration = 9725\n",
      "\n",
      "Shrink model to first 9726 iterations.\n"
     ]
    },
    {
     "name": "stderr",
     "output_type": "stream",
     "text": [
      "[08/10/22 21:29:46] 134356872.py:21 in <module>\n",
      "                    cbt_score: 0.9226709294575468\n"
     ]
    },
    {
     "name": "stdout",
     "output_type": "stream",
     "text": [
      "[LightGBM] [Warning] Auto-choosing col-wise multi-threading, the overhead of testing was 0.080387 seconds.\n",
      "You can set `force_col_wise=true` to remove the overhead.\n",
      "[LightGBM] [Info] Total Bins 36577\n",
      "[LightGBM] [Info] Number of data points in the train set: 339696, number of used features: 159\n",
      "[LightGBM] [Info] Start training from score 0.455882\n",
      "Training until validation scores don't improve for 200 rounds\n",
      "[500]\ttraining's l1: 0.0577029\tvalid_1's l1: 0.0567856\n",
      "[1000]\ttraining's l1: 0.0565838\tvalid_1's l1: 0.0558128\n",
      "[1500]\ttraining's l1: 0.0561936\tvalid_1's l1: 0.0555349\n",
      "[2000]\ttraining's l1: 0.0559532\tvalid_1's l1: 0.0553883\n",
      "[2500]\ttraining's l1: 0.0557758\tvalid_1's l1: 0.0552838\n",
      "[3000]\ttraining's l1: 0.055602\tvalid_1's l1: 0.0551864\n",
      "[3500]\ttraining's l1: 0.0554763\tvalid_1's l1: 0.0551302\n",
      "[4000]\ttraining's l1: 0.0553717\tvalid_1's l1: 0.0550796\n",
      "[4500]\ttraining's l1: 0.0552671\tvalid_1's l1: 0.0550385\n",
      "[5000]\ttraining's l1: 0.055175\tvalid_1's l1: 0.0550119\n",
      "[5500]\ttraining's l1: 0.0550792\tvalid_1's l1: 0.0549852\n",
      "[6000]\ttraining's l1: 0.0550015\tvalid_1's l1: 0.05496\n",
      "[6500]\ttraining's l1: 0.0549104\tvalid_1's l1: 0.0549372\n",
      "[7000]\ttraining's l1: 0.0548527\tvalid_1's l1: 0.0549275\n",
      "[7500]\ttraining's l1: 0.0547854\tvalid_1's l1: 0.0549119\n",
      "[8000]\ttraining's l1: 0.0547256\tvalid_1's l1: 0.0548997\n",
      "[8500]\ttraining's l1: 0.0546692\tvalid_1's l1: 0.0548874\n",
      "[9000]\ttraining's l1: 0.0546184\tvalid_1's l1: 0.0548783\n",
      "[9500]\ttraining's l1: 0.0545024\tvalid_1's l1: 0.0548497\n",
      "[10000]\ttraining's l1: 0.0544375\tvalid_1's l1: 0.0548376\n",
      "[10500]\ttraining's l1: 0.0543297\tvalid_1's l1: 0.0548238\n",
      "[11000]\ttraining's l1: 0.0542884\tvalid_1's l1: 0.0548165\n",
      "[11500]\ttraining's l1: 0.0542421\tvalid_1's l1: 0.0548085\n",
      "[12000]\ttraining's l1: 0.054199\tvalid_1's l1: 0.0547999\n",
      "[12500]\ttraining's l1: 0.0541475\tvalid_1's l1: 0.0547916\n",
      "[13000]\ttraining's l1: 0.0541137\tvalid_1's l1: 0.0547857\n",
      "[13500]\ttraining's l1: 0.0540778\tvalid_1's l1: 0.0547797\n",
      "[14000]\ttraining's l1: 0.0540434\tvalid_1's l1: 0.0547754\n",
      "[14500]\ttraining's l1: 0.054013\tvalid_1's l1: 0.0547719\n",
      "[15000]\ttraining's l1: 0.0539739\tvalid_1's l1: 0.0547653\n",
      "[15500]\ttraining's l1: 0.0539438\tvalid_1's l1: 0.0547589\n",
      "[16000]\ttraining's l1: 0.0539075\tvalid_1's l1: 0.0547565\n",
      "[16500]\ttraining's l1: 0.0538795\tvalid_1's l1: 0.0547524\n",
      "[17000]\ttraining's l1: 0.0538267\tvalid_1's l1: 0.0547467\n",
      "Early stopping, best iteration is:\n",
      "[17254]\ttraining's l1: 0.053785\tvalid_1's l1: 0.0547421\n"
     ]
    },
    {
     "name": "stderr",
     "output_type": "stream",
     "text": [
      "[08/10/22 21:33:55] 134356872.py:36 in <module>\n",
      "                    lgb_score: 0.9228115584810334\n",
      "[08/10/22 21:33:57] 134356872.py:38 in <module>\n",
      "                    score: 0.9230157450661859\n",
      "[08/10/22 21:33:57] 134356872.py:43 in <module>\n",
      "                    fold: 1\n",
      "                    np.asarray(cbt_scores).mean(): 0.9211921704340968\n",
      "                    np.asarray(lgb_scores).mean(): 0.921409269544758\n",
      "                    np.asarray(scores).mean(): 0.9215741215934057\n"
     ]
    },
    {
     "name": "stdout",
     "output_type": "stream",
     "text": [
      "0:\tlearn: 0.2522137\ttest: 0.2522137\ttest1: 0.2525805\tbest: 0.2525805 (0)\ttotal: 52.6ms\tremaining: 8m 45s\n",
      "500:\tlearn: 0.0569136\ttest: 0.0569136\ttest1: 0.0577157\tbest: 0.0577157 (500)\ttotal: 17.9s\tremaining: 5m 39s\n",
      "1000:\tlearn: 0.0558849\ttest: 0.0558849\ttest1: 0.0568882\tbest: 0.0568882 (1000)\ttotal: 36.1s\tremaining: 5m 24s\n",
      "1500:\tlearn: 0.0554663\ttest: 0.0554663\ttest1: 0.0566307\tbest: 0.0566307 (1500)\ttotal: 54.3s\tremaining: 5m 7s\n",
      "2000:\tlearn: 0.0551471\ttest: 0.0551471\ttest1: 0.0564855\tbest: 0.0564850 (1995)\ttotal: 1m 12s\tremaining: 4m 48s\n",
      "2500:\tlearn: 0.0548515\ttest: 0.0548515\ttest1: 0.0563775\tbest: 0.0563775 (2500)\ttotal: 1m 30s\tremaining: 4m 30s\n",
      "3000:\tlearn: 0.0546131\ttest: 0.0546131\ttest1: 0.0563114\tbest: 0.0563114 (3000)\ttotal: 1m 47s\tremaining: 4m 11s\n",
      "3500:\tlearn: 0.0543981\ttest: 0.0543981\ttest1: 0.0562600\tbest: 0.0562599 (3499)\ttotal: 2m 5s\tremaining: 3m 53s\n",
      "4000:\tlearn: 0.0541627\ttest: 0.0541627\ttest1: 0.0562276\tbest: 0.0562276 (4000)\ttotal: 2m 23s\tremaining: 3m 34s\n",
      "4500:\tlearn: 0.0539681\ttest: 0.0539681\ttest1: 0.0561937\tbest: 0.0561928 (4491)\ttotal: 2m 40s\tremaining: 3m 16s\n",
      "5000:\tlearn: 0.0537972\ttest: 0.0537972\ttest1: 0.0561665\tbest: 0.0561665 (4995)\ttotal: 2m 58s\tremaining: 2m 58s\n",
      "5500:\tlearn: 0.0536255\ttest: 0.0536255\ttest1: 0.0561418\tbest: 0.0561417 (5496)\ttotal: 3m 16s\tremaining: 2m 40s\n",
      "6000:\tlearn: 0.0534427\ttest: 0.0534427\ttest1: 0.0561327\tbest: 0.0561327 (5699)\ttotal: 3m 33s\tremaining: 2m 22s\n",
      "6500:\tlearn: 0.0532761\ttest: 0.0532761\ttest1: 0.0561204\tbest: 0.0561193 (6483)\ttotal: 3m 51s\tremaining: 2m 4s\n",
      "7000:\tlearn: 0.0531097\ttest: 0.0531097\ttest1: 0.0561109\tbest: 0.0561097 (6997)\ttotal: 4m 8s\tremaining: 1m 46s\n",
      "7500:\tlearn: 0.0529542\ttest: 0.0529542\ttest1: 0.0561105\tbest: 0.0561053 (7144)\ttotal: 4m 26s\tremaining: 1m 28s\n",
      "Stopped by overfitting detector  (500 iterations wait)\n",
      "\n",
      "bestTest = 0.0561053093\n",
      "bestIteration = 7144\n",
      "\n",
      "Shrink model to first 7145 iterations.\n"
     ]
    },
    {
     "name": "stderr",
     "output_type": "stream",
     "text": [
      "[08/10/22 21:38:36] 134356872.py:21 in <module>\n",
      "                    cbt_score: 0.9215492559567127\n"
     ]
    },
    {
     "name": "stdout",
     "output_type": "stream",
     "text": [
      "[LightGBM] [Warning] Auto-choosing col-wise multi-threading, the overhead of testing was 0.083654 seconds.\n",
      "You can set `force_col_wise=true` to remove the overhead.\n",
      "[LightGBM] [Info] Total Bins 36562\n",
      "[LightGBM] [Info] Number of data points in the train set: 337766, number of used features: 159\n",
      "[LightGBM] [Info] Start training from score 0.456522\n",
      "Training until validation scores don't improve for 200 rounds\n",
      "[500]\ttraining's l1: 0.0571187\tvalid_1's l1: 0.0578124\n",
      "[1000]\ttraining's l1: 0.0561361\tvalid_1's l1: 0.0569843\n",
      "[1500]\ttraining's l1: 0.0558006\tvalid_1's l1: 0.0567356\n",
      "[2000]\ttraining's l1: 0.0556055\tvalid_1's l1: 0.0566159\n",
      "[2500]\ttraining's l1: 0.055448\tvalid_1's l1: 0.0565341\n",
      "[3000]\ttraining's l1: 0.0553127\tvalid_1's l1: 0.0564606\n",
      "[3500]\ttraining's l1: 0.055212\tvalid_1's l1: 0.0564121\n",
      "[4000]\ttraining's l1: 0.0551364\tvalid_1's l1: 0.0563769\n",
      "[4500]\ttraining's l1: 0.0550361\tvalid_1's l1: 0.0563309\n",
      "[5000]\ttraining's l1: 0.0549479\tvalid_1's l1: 0.0562846\n",
      "[5500]\ttraining's l1: 0.0548731\tvalid_1's l1: 0.0562548\n",
      "[6000]\ttraining's l1: 0.0548254\tvalid_1's l1: 0.0562385\n",
      "[6500]\ttraining's l1: 0.0547735\tvalid_1's l1: 0.0562175\n",
      "[7000]\ttraining's l1: 0.0547078\tvalid_1's l1: 0.0561984\n",
      "[7500]\ttraining's l1: 0.0546485\tvalid_1's l1: 0.0561779\n",
      "[8000]\ttraining's l1: 0.0545883\tvalid_1's l1: 0.0561546\n",
      "[8500]\ttraining's l1: 0.0545453\tvalid_1's l1: 0.056141\n",
      "[9000]\ttraining's l1: 0.0545035\tvalid_1's l1: 0.056125\n",
      "[9500]\ttraining's l1: 0.0544565\tvalid_1's l1: 0.0561095\n",
      "[10000]\ttraining's l1: 0.0543886\tvalid_1's l1: 0.0560844\n",
      "[10500]\ttraining's l1: 0.0543309\tvalid_1's l1: 0.0560612\n",
      "[11000]\ttraining's l1: 0.0542637\tvalid_1's l1: 0.0560463\n",
      "[11500]\ttraining's l1: 0.0542229\tvalid_1's l1: 0.0560372\n",
      "[12000]\ttraining's l1: 0.0541953\tvalid_1's l1: 0.0560328\n",
      "[12500]\ttraining's l1: 0.0541502\tvalid_1's l1: 0.0560172\n",
      "Early stopping, best iteration is:\n",
      "[12473]\ttraining's l1: 0.0541514\tvalid_1's l1: 0.0560171\n"
     ]
    },
    {
     "name": "stderr",
     "output_type": "stream",
     "text": [
      "[08/10/22 21:41:32] 134356872.py:36 in <module>\n",
      "                    lgb_score: 0.9217187816843141\n",
      "[08/10/22 21:41:34] 134356872.py:38 in <module>\n",
      "                    score: 0.9218610727781448\n",
      "[08/10/22 21:41:34] 134356872.py:43 in <module>\n",
      "                    fold: 2\n",
      "                    np.asarray(cbt_scores).mean(): 0.9213111989416355\n",
      "                    np.asarray(lgb_scores).mean(): 0.9215124402579433\n",
      "                    np.asarray(scores).mean(): 0.9216697719883187\n"
     ]
    },
    {
     "name": "stdout",
     "output_type": "stream",
     "text": [
      "0:\tlearn: 0.2523391\ttest: 0.2523391\ttest1: 0.2520835\tbest: 0.2520835 (0)\ttotal: 60.7ms\tremaining: 10m 6s\n",
      "500:\tlearn: 0.0574170\ttest: 0.0574170\ttest1: 0.0560063\tbest: 0.0560063 (500)\ttotal: 19.6s\tremaining: 6m 11s\n",
      "1000:\tlearn: 0.0563837\ttest: 0.0563837\ttest1: 0.0552402\tbest: 0.0552402 (1000)\ttotal: 37.7s\tremaining: 5m 38s\n",
      "1500:\tlearn: 0.0558854\ttest: 0.0558854\ttest1: 0.0549511\tbest: 0.0549511 (1500)\ttotal: 58.6s\tremaining: 5m 32s\n",
      "2000:\tlearn: 0.0555137\ttest: 0.0555137\ttest1: 0.0547885\tbest: 0.0547885 (2000)\ttotal: 1m 15s\tremaining: 5m 2s\n",
      "2500:\tlearn: 0.0552211\ttest: 0.0552211\ttest1: 0.0547005\tbest: 0.0547005 (2500)\ttotal: 1m 32s\tremaining: 4m 36s\n",
      "3000:\tlearn: 0.0549646\ttest: 0.0549646\ttest1: 0.0546329\tbest: 0.0546329 (3000)\ttotal: 1m 48s\tremaining: 4m 13s\n",
      "3500:\tlearn: 0.0547318\ttest: 0.0547318\ttest1: 0.0545795\tbest: 0.0545795 (3500)\ttotal: 2m 5s\tremaining: 3m 52s\n",
      "4000:\tlearn: 0.0545142\ttest: 0.0545142\ttest1: 0.0545494\tbest: 0.0545480 (3991)\ttotal: 2m 21s\tremaining: 3m 32s\n",
      "4500:\tlearn: 0.0542774\ttest: 0.0542774\ttest1: 0.0545027\tbest: 0.0545027 (4500)\ttotal: 2m 38s\tremaining: 3m 13s\n",
      "5000:\tlearn: 0.0540794\ttest: 0.0540794\ttest1: 0.0544762\tbest: 0.0544754 (4967)\ttotal: 2m 55s\tremaining: 2m 55s\n",
      "5500:\tlearn: 0.0538973\ttest: 0.0538973\ttest1: 0.0544532\tbest: 0.0544532 (5499)\ttotal: 3m 11s\tremaining: 2m 36s\n",
      "6000:\tlearn: 0.0537128\ttest: 0.0537128\ttest1: 0.0544416\tbest: 0.0544415 (5801)\ttotal: 3m 28s\tremaining: 2m 18s\n",
      "6500:\tlearn: 0.0535354\ttest: 0.0535354\ttest1: 0.0544336\tbest: 0.0544336 (6500)\ttotal: 3m 45s\tremaining: 2m 1s\n",
      "7000:\tlearn: 0.0533490\ttest: 0.0533490\ttest1: 0.0544198\tbest: 0.0544198 (7000)\ttotal: 4m 2s\tremaining: 1m 43s\n",
      "7500:\tlearn: 0.0532029\ttest: 0.0532029\ttest1: 0.0544221\tbest: 0.0544157 (7349)\ttotal: 4m 19s\tremaining: 1m 26s\n",
      "Stopped by overfitting detector  (500 iterations wait)\n",
      "\n",
      "bestTest = 0.05441571052\n",
      "bestIteration = 7349\n",
      "\n",
      "Shrink model to first 7350 iterations.\n"
     ]
    },
    {
     "name": "stderr",
     "output_type": "stream",
     "text": [
      "[08/10/22 21:46:13] 134356872.py:21 in <module>\n",
      "                    cbt_score: 0.9246325399302447\n"
     ]
    },
    {
     "name": "stdout",
     "output_type": "stream",
     "text": [
      "[LightGBM] [Warning] Auto-choosing col-wise multi-threading, the overhead of testing was 0.080273 seconds.\n",
      "You can set `force_col_wise=true` to remove the overhead.\n",
      "[LightGBM] [Info] Total Bins 36567\n",
      "[LightGBM] [Info] Number of data points in the train set: 337964, number of used features: 159\n",
      "[LightGBM] [Info] Start training from score 0.455939\n",
      "Training until validation scores don't improve for 200 rounds\n",
      "[500]\ttraining's l1: 0.0575141\tvalid_1's l1: 0.0560498\n",
      "[1000]\ttraining's l1: 0.0565594\tvalid_1's l1: 0.0552706\n",
      "[1500]\ttraining's l1: 0.0561942\tvalid_1's l1: 0.0550008\n",
      "[2000]\ttraining's l1: 0.0559794\tvalid_1's l1: 0.0548686\n",
      "[2500]\ttraining's l1: 0.0558209\tvalid_1's l1: 0.0547751\n",
      "[3000]\ttraining's l1: 0.0557078\tvalid_1's l1: 0.0547246\n",
      "[3500]\ttraining's l1: 0.0556329\tvalid_1's l1: 0.0546883\n",
      "[4000]\ttraining's l1: 0.0555299\tvalid_1's l1: 0.0546518\n",
      "[4500]\ttraining's l1: 0.0554452\tvalid_1's l1: 0.054617\n",
      "[5000]\ttraining's l1: 0.0553981\tvalid_1's l1: 0.0545989\n",
      "[5500]\ttraining's l1: 0.0553273\tvalid_1's l1: 0.0545744\n",
      "[6000]\ttraining's l1: 0.0552283\tvalid_1's l1: 0.0545387\n",
      "[6500]\ttraining's l1: 0.0551678\tvalid_1's l1: 0.0545194\n",
      "[7000]\ttraining's l1: 0.0551134\tvalid_1's l1: 0.0545026\n",
      "[7500]\ttraining's l1: 0.0550569\tvalid_1's l1: 0.0544887\n",
      "[8000]\ttraining's l1: 0.0549987\tvalid_1's l1: 0.0544774\n",
      "[8500]\ttraining's l1: 0.0549392\tvalid_1's l1: 0.0544605\n",
      "[9000]\ttraining's l1: 0.0548847\tvalid_1's l1: 0.0544407\n",
      "[9500]\ttraining's l1: 0.0548512\tvalid_1's l1: 0.0544325\n",
      "[10000]\ttraining's l1: 0.0548089\tvalid_1's l1: 0.0544208\n",
      "[10500]\ttraining's l1: 0.0547704\tvalid_1's l1: 0.054411\n",
      "[11000]\ttraining's l1: 0.054726\tvalid_1's l1: 0.0543996\n",
      "[11500]\ttraining's l1: 0.0546718\tvalid_1's l1: 0.054387\n",
      "[12000]\ttraining's l1: 0.054632\tvalid_1's l1: 0.0543755\n",
      "[12500]\ttraining's l1: 0.0545906\tvalid_1's l1: 0.0543621\n",
      "[13000]\ttraining's l1: 0.0545416\tvalid_1's l1: 0.054348\n",
      "[13500]\ttraining's l1: 0.0544977\tvalid_1's l1: 0.0543377\n",
      "[14000]\ttraining's l1: 0.0544506\tvalid_1's l1: 0.0543307\n",
      "[14500]\ttraining's l1: 0.0544136\tvalid_1's l1: 0.0543249\n",
      "[15000]\ttraining's l1: 0.0543781\tvalid_1's l1: 0.0543198\n",
      "[15500]\ttraining's l1: 0.0543441\tvalid_1's l1: 0.0543155\n",
      "[16000]\ttraining's l1: 0.054307\tvalid_1's l1: 0.054309\n",
      "[16500]\ttraining's l1: 0.054275\tvalid_1's l1: 0.0543036\n",
      "Early stopping, best iteration is:\n",
      "[16492]\ttraining's l1: 0.0542766\tvalid_1's l1: 0.054303\n"
     ]
    },
    {
     "name": "stderr",
     "output_type": "stream",
     "text": [
      "[08/10/22 21:50:09] 134356872.py:36 in <module>\n",
      "                    lgb_score: 0.9246888486307392\n",
      "[08/10/22 21:50:11] 134356872.py:38 in <module>\n",
      "                    score: 0.9249848549843661\n",
      "[08/10/22 21:50:11] 134356872.py:43 in <module>\n",
      "                    fold: 3\n",
      "                    np.asarray(cbt_scores).mean(): 0.9221415341887879\n",
      "                    np.asarray(lgb_scores).mean(): 0.9223065423511423\n",
      "                    np.asarray(scores).mean(): 0.9224985427373306\n"
     ]
    },
    {
     "name": "stdout",
     "output_type": "stream",
     "text": [
      "0:\tlearn: 0.2522949\ttest: 0.2522949\ttest1: 0.2523827\tbest: 0.2523827 (0)\ttotal: 47.8ms\tremaining: 7m 57s\n",
      "500:\tlearn: 0.0568685\ttest: 0.0568685\ttest1: 0.0583017\tbest: 0.0583017 (500)\ttotal: 20.1s\tremaining: 6m 20s\n",
      "1000:\tlearn: 0.0558631\ttest: 0.0558631\ttest1: 0.0574127\tbest: 0.0574127 (1000)\ttotal: 40.3s\tremaining: 6m 2s\n",
      "1500:\tlearn: 0.0553929\ttest: 0.0553929\ttest1: 0.0570973\tbest: 0.0570973 (1500)\ttotal: 1m\tremaining: 5m 41s\n",
      "2000:\tlearn: 0.0550876\ttest: 0.0550876\ttest1: 0.0569553\tbest: 0.0569523 (1984)\ttotal: 1m 20s\tremaining: 5m 21s\n",
      "2500:\tlearn: 0.0548067\ttest: 0.0548067\ttest1: 0.0568512\tbest: 0.0568512 (2500)\ttotal: 1m 40s\tremaining: 5m\n",
      "3000:\tlearn: 0.0545569\ttest: 0.0545569\ttest1: 0.0567843\tbest: 0.0567843 (2999)\ttotal: 1m 59s\tremaining: 4m 39s\n",
      "3500:\tlearn: 0.0543235\ttest: 0.0543235\ttest1: 0.0567526\tbest: 0.0567518 (3487)\ttotal: 2m 19s\tremaining: 4m 18s\n",
      "4000:\tlearn: 0.0541234\ttest: 0.0541234\ttest1: 0.0567090\tbest: 0.0567080 (3918)\ttotal: 2m 39s\tremaining: 3m 58s\n",
      "4500:\tlearn: 0.0539202\ttest: 0.0539202\ttest1: 0.0566683\tbest: 0.0566677 (4497)\ttotal: 2m 58s\tremaining: 3m 38s\n",
      "5000:\tlearn: 0.0537442\ttest: 0.0537442\ttest1: 0.0566460\tbest: 0.0566412 (4924)\ttotal: 3m 18s\tremaining: 3m 18s\n",
      "5500:\tlearn: 0.0535786\ttest: 0.0535786\ttest1: 0.0566226\tbest: 0.0566225 (5489)\ttotal: 3m 37s\tremaining: 2m 57s\n",
      "6000:\tlearn: 0.0534021\ttest: 0.0534021\ttest1: 0.0565923\tbest: 0.0565905 (5963)\ttotal: 3m 56s\tremaining: 2m 37s\n",
      "6500:\tlearn: 0.0532445\ttest: 0.0532445\ttest1: 0.0565761\tbest: 0.0565757 (6477)\ttotal: 4m 16s\tremaining: 2m 17s\n",
      "7000:\tlearn: 0.0530729\ttest: 0.0530729\ttest1: 0.0565672\tbest: 0.0565672 (7000)\ttotal: 4m 35s\tremaining: 1m 57s\n",
      "7500:\tlearn: 0.0529160\ttest: 0.0529160\ttest1: 0.0565524\tbest: 0.0565520 (7484)\ttotal: 4m 54s\tremaining: 1m 38s\n",
      "8000:\tlearn: 0.0527530\ttest: 0.0527530\ttest1: 0.0565429\tbest: 0.0565424 (7873)\ttotal: 5m 13s\tremaining: 1m 18s\n",
      "8500:\tlearn: 0.0526061\ttest: 0.0526061\ttest1: 0.0565392\tbest: 0.0565361 (8342)\ttotal: 5m 32s\tremaining: 58.7s\n",
      "9000:\tlearn: 0.0524660\ttest: 0.0524660\ttest1: 0.0565366\tbest: 0.0565348 (8672)\ttotal: 5m 51s\tremaining: 39s\n",
      "Stopped by overfitting detector  (500 iterations wait)\n",
      "\n",
      "bestTest = 0.05653480151\n",
      "bestIteration = 8672\n",
      "\n",
      "Shrink model to first 8673 iterations.\n"
     ]
    },
    {
     "name": "stderr",
     "output_type": "stream",
     "text": [
      "[08/10/22 21:56:17] 134356872.py:21 in <module>\n",
      "                    cbt_score: 0.9154378911330956\n"
     ]
    },
    {
     "name": "stdout",
     "output_type": "stream",
     "text": [
      "[LightGBM] [Warning] Auto-choosing col-wise multi-threading, the overhead of testing was 0.078949 seconds.\n",
      "You can set `force_col_wise=true` to remove the overhead.\n",
      "[LightGBM] [Info] Total Bins 36575\n",
      "[LightGBM] [Info] Number of data points in the train set: 341935, number of used features: 159\n",
      "[LightGBM] [Info] Start training from score 0.456522\n",
      "Training until validation scores don't improve for 200 rounds\n",
      "[500]\ttraining's l1: 0.0571592\tvalid_1's l1: 0.0585579\n",
      "[1000]\ttraining's l1: 0.0560881\tvalid_1's l1: 0.0575669\n",
      "[1500]\ttraining's l1: 0.055739\tvalid_1's l1: 0.0572973\n",
      "[2000]\ttraining's l1: 0.0555563\tvalid_1's l1: 0.0571727\n",
      "[2500]\ttraining's l1: 0.0553973\tvalid_1's l1: 0.0570686\n",
      "[3000]\ttraining's l1: 0.0552667\tvalid_1's l1: 0.0569887\n",
      "[3500]\ttraining's l1: 0.0551529\tvalid_1's l1: 0.056936\n",
      "[4000]\ttraining's l1: 0.0550718\tvalid_1's l1: 0.0568921\n",
      "[4500]\ttraining's l1: 0.0550001\tvalid_1's l1: 0.0568583\n",
      "[5000]\ttraining's l1: 0.0549273\tvalid_1's l1: 0.0568179\n",
      "[5500]\ttraining's l1: 0.0548501\tvalid_1's l1: 0.0567829\n",
      "[6000]\ttraining's l1: 0.0547937\tvalid_1's l1: 0.0567636\n",
      "[6500]\ttraining's l1: 0.0547385\tvalid_1's l1: 0.0567359\n",
      "[7000]\ttraining's l1: 0.0546825\tvalid_1's l1: 0.0567123\n",
      "[7500]\ttraining's l1: 0.0546159\tvalid_1's l1: 0.0566852\n",
      "[8000]\ttraining's l1: 0.054557\tvalid_1's l1: 0.0566639\n",
      "[8500]\ttraining's l1: 0.0544947\tvalid_1's l1: 0.0566421\n",
      "[9000]\ttraining's l1: 0.0544557\tvalid_1's l1: 0.0566286\n",
      "[9500]\ttraining's l1: 0.0544066\tvalid_1's l1: 0.0566102\n",
      "[10000]\ttraining's l1: 0.054356\tvalid_1's l1: 0.0565919\n",
      "[10500]\ttraining's l1: 0.054305\tvalid_1's l1: 0.0565806\n",
      "[11000]\ttraining's l1: 0.0542504\tvalid_1's l1: 0.0565646\n",
      "[11500]\ttraining's l1: 0.0542167\tvalid_1's l1: 0.0565533\n",
      "[12000]\ttraining's l1: 0.0541907\tvalid_1's l1: 0.0565485\n",
      "[12500]\ttraining's l1: 0.0541624\tvalid_1's l1: 0.0565423\n",
      "[13000]\ttraining's l1: 0.0541154\tvalid_1's l1: 0.056532\n",
      "[13500]\ttraining's l1: 0.054074\tvalid_1's l1: 0.056521\n",
      "[14000]\ttraining's l1: 0.0540371\tvalid_1's l1: 0.0565095\n",
      "[14500]\ttraining's l1: 0.0540036\tvalid_1's l1: 0.0565029\n",
      "[15000]\ttraining's l1: 0.0539601\tvalid_1's l1: 0.0564923\n",
      "[15500]\ttraining's l1: 0.0538967\tvalid_1's l1: 0.0564774\n",
      "[16000]\ttraining's l1: 0.0538654\tvalid_1's l1: 0.0564687\n",
      "[16500]\ttraining's l1: 0.0538188\tvalid_1's l1: 0.0564561\n",
      "[17000]\ttraining's l1: 0.0537922\tvalid_1's l1: 0.0564514\n",
      "[17500]\ttraining's l1: 0.0537524\tvalid_1's l1: 0.0564438\n",
      "[18000]\ttraining's l1: 0.0537304\tvalid_1's l1: 0.0564415\n",
      "[18500]\ttraining's l1: 0.0537059\tvalid_1's l1: 0.056437\n",
      "[19000]\ttraining's l1: 0.0536721\tvalid_1's l1: 0.0564281\n",
      "[19500]\ttraining's l1: 0.0536455\tvalid_1's l1: 0.0564206\n",
      "Early stopping, best iteration is:\n",
      "[19720]\ttraining's l1: 0.0536323\tvalid_1's l1: 0.0564178\n"
     ]
    },
    {
     "name": "stderr",
     "output_type": "stream",
     "text": [
      "[08/10/22 22:01:16] 134356872.py:36 in <module>\n",
      "                    lgb_score: 0.9153802952740407\n",
      "[08/10/22 22:01:18] 134356872.py:38 in <module>\n",
      "                    score: 0.9156765964044635\n",
      "[08/10/22 22:01:18] 134356872.py:43 in <module>\n",
      "                    fold: 4\n",
      "                    np.asarray(cbt_scores).mean(): 0.9208008055776494\n",
      "                    np.asarray(lgb_scores).mean(): 0.920921292935722\n",
      "                    np.asarray(scores).mean(): 0.9211341534707571\n"
     ]
    }
   ],
   "source": [
    "FOLDS = 5\n",
    "cbt_scores, lgb_scores = [], []\n",
    "scores = []\n",
    "gezi.try_mkdir(f'../working/trees{v}')\n",
    "for fold in tqdm(range(FOLDS)):\n",
    "  dvalid = df[df.fold==fold]\n",
    "  dtrain = df[df.fold!=fold]\n",
    "  X_train = dtrain[cols]\n",
    "  y_train = dtrain[LABEL_COL]\n",
    "  X_valid = dvalid[cols]\n",
    "  y_valid = dvalid[LABEL_COL]\n",
    "  if fold > 0:\n",
    "    cbt_model = CatBoostRegressor(**cbt_params)\n",
    "    cbt_model.fit(X_train, y_train,\n",
    "          eval_set=[(X_train, y_train), (X_valid, y_valid)],\n",
    "                  verbose=500,\n",
    "                  )  \n",
    "  cbt_model.save_model(f'../working/trees{v}/{fold}.cbt')\n",
    "  dvalid['cbt_pred'] = cbt_model.predict(dvalid[cols])\n",
    "  cbt_score = calc_metric({'id': dvalid.id.values, 'cell_id': dvalid.cell_id.values, 'pred': dvalid.cbt_pred.values})\n",
    "  ic(cbt_score)\n",
    "  \n",
    "  d_train = lgb.Dataset(X_train, y_train)\n",
    "  d_valid = lgb.Dataset(X_valid, y_valid, reference=d_train)\n",
    "  if fold > 0:\n",
    "    lgb_model = lgb.train(params,\n",
    "                    d_train,\n",
    "                    20000,\n",
    "                    valid_sets=[d_train, d_valid],\n",
    "                    verbose_eval=500,\n",
    "                    early_stopping_rounds=200)\n",
    "  lgb_model.save_model(f'../working/trees{v}/{fold}.lgb')\n",
    "  dvalid['lgb_pred'] = lgb_model.predict(dvalid[cols])\n",
    "  \n",
    "  lgb_score = calc_metric({'id': dvalid.id.values, 'cell_id': dvalid.cell_id.values, 'pred': dvalid.lgb_pred.values})\n",
    "  ic(lgb_score)\n",
    "  score = calc_metric({'id': dvalid.id.values, 'cell_id': dvalid.cell_id.values, 'pred': (dvalid.cbt_pred.values * 0.5 + dvalid.lgb_pred.values * 0.5)})\n",
    "  ic(score)\n",
    "  \n",
    "  cbt_scores.append(cbt_score)\n",
    "  lgb_scores.append(lgb_score)\n",
    "  scores.append(score)\n",
    "  ic(fold, \n",
    "     np.asarray(cbt_scores).mean(), \n",
    "     np.asarray(lgb_scores).mean(),\n",
    "     np.asarray(scores).mean(),\n",
    "     )"
   ]
  },
  {
   "cell_type": "code",
   "execution_count": 54,
   "metadata": {},
   "outputs": [],
   "source": [
    "# fold: 0\n",
    "#                     np.asarray(cbt_scores).mean(): 0.9181025338378637\n",
    "#                     np.asarray(lgb_scores).mean(): 0.9193848140698876\n",
    "#                     np.asarray(scores).mean(): 0.9195238841373282\n",
    "\n",
    "#  fold: 4\n",
    "#                     np.asarray(cbt_scores).mean(): 0.9189608630607822\n",
    "#                     np.asarray(lgb_scores).mean(): 0.9196959050732708\n",
    "#                     np.asarray(scores).mean(): 0.9199400102856614"
   ]
  },
  {
   "cell_type": "code",
   "execution_count": null,
   "metadata": {},
   "outputs": [],
   "source": []
  }
 ],
 "metadata": {
  "kernelspec": {
   "display_name": "Python 3.7.9",
   "language": "python",
   "name": "python3"
  },
  "language_info": {
   "codemirror_mode": {
    "name": "ipython",
    "version": 3
   },
   "file_extension": ".py",
   "mimetype": "text/x-python",
   "name": "python",
   "nbconvert_exporter": "python",
   "pygments_lexer": "ipython3",
   "version": "3.7.9"
  },
  "orig_nbformat": 4,
  "vscode": {
   "interpreter": {
    "hash": "828c32aa8796f4caf0c9fde9f523bba8dbc7385abbb3ec2757d19a79cb47766b"
   }
  }
 },
 "nbformat": 4,
 "nbformat_minor": 2
}
