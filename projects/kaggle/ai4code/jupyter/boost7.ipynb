{
 "cells": [
  {
   "cell_type": "code",
   "execution_count": 43,
   "metadata": {},
   "outputs": [],
   "source": [
    "import sys\n",
    "sys.path.append('..')\n",
    "sys.path.append('../../../../utils')\n",
    "sys.path.append('../../../../third')\n",
    "from gezi.common import *\n",
    "from src.config import *\n",
    "from src.preprocess import *\n",
    "from src.eval import *\n",
    "gezi.init_flags()\n",
    "gezi.set_pandas()"
   ]
  },
  {
   "cell_type": "code",
   "execution_count": 44,
   "metadata": {},
   "outputs": [],
   "source": [
    "v = 7"
   ]
  },
  {
   "cell_type": "code",
   "execution_count": 45,
   "metadata": {},
   "outputs": [],
   "source": [
    "V = 7\n",
    "root = f'../working/offline/{V}/0'\n",
    "# pairwise two tower, recall model\n",
    "# pt_model = 'all-mpnet-base-v2.flag-pairwise14-2-pre_ext_emlm_mlm.ep1'\n",
    "# p2t_model = 'all-mpnet-base-v2.flag-pairwise14-2'\n",
    "pt_model = 'all-mpnet-base-v2.flag-pairwise14-2-pre_mlm3'\n",
    "# pt_model = 'all-mpnet-base-v2.flag-pairwise14-2'\n",
    "# pt_model2 = 'pmminilm.flag-pairwise14-2-pre_emlm_mlm-mmnilm'\n",
    "# pt_model2 = 'pmminilm.flag-pairwise14-2-pre_mlm3-pmminilm'\n",
    "# pt_model2 = 'pmminilm.flag-pairwise14-2'\n",
    "# pairwise concat, rank model\n",
    "# pc_model = 'deberta-v3-small.flag-pairwise14-4-cat-insert-extpred-ft.neg_rand_prob-0.neg_strategy-rand-sample'\n",
    "pc_model = 'deberta-v3-small.flag-pairwise14-4-cat-insert-oof-ft'\n",
    "\n",
    "# context model\n",
    "# c_model = 'deberta-v3-small.flag-context4-2-d'\n",
    "# c_model2 = 'lsg-mminilm.flag-context4-3-d-s-mminilm'\n",
    "# c_model = 'deberta-v3-small.flag-context4-2-d'\n",
    "# c_model = 'deberta-v3-small.flag-context4-2-d-oof-ft'\n",
    "# c_model = 'deberta-v3-small.flag-context4-2-d-oof-ft.list_train_ordered'\n",
    "c_model = 'deberta-v3-small.flag-context4-2-d-oof-ft.add_probs'\n",
    "c_model = 'deberta-v3-small.flag-context4-2-d-oof.add_probs'\n",
    "# c_model = 'deberta-v3-small.flag-context4-2-d-extpred-ft.0804'\n",
    "# c_model = 'deberta-v3-small.flag-context4-2-d-oof-ft.list_train_ordered'\n",
    "# c_model2 = 'lsg-mminilm.flag-context4-3-d-s-oof-ft-mminilm'"
   ]
  },
  {
   "cell_type": "code",
   "execution_count": 46,
   "metadata": {},
   "outputs": [],
   "source": [
    "df_train = pd.read_feather('../working/train.fea')\n",
    "df_train = df_train[df_train.fold==0]"
   ]
  },
  {
   "cell_type": "code",
   "execution_count": 47,
   "metadata": {},
   "outputs": [],
   "source": [
    "xp = gezi.load(f'{root}/{pt_model}.eval/valid.pkl')\n",
    "xc = gezi.load(f'{root}/{c_model}.eval/valid.pkl')\n",
    "xpc = gezi.load(f'{root}/{pc_model}.eval/valid.pkl')\n",
    "gezi.sort_dict_byid_(xp, 'cid')\n",
    "gezi.sort_dict_byid_(xc, 'cid')\n",
    "gezi.sort_dict_byid_(xpc, 'cid')"
   ]
  },
  {
   "cell_type": "code",
   "execution_count": 48,
   "metadata": {},
   "outputs": [],
   "source": [
    "# d = pd.DataFrame(gezi.batch2list(xc))\n",
    "# dg = d.groupby('pred_id')\n",
    "# max_preds = dg['pred'].max()\n",
    "# min_preds = dg['pred'].min()\n",
    "# max_cls_preds = dg['cls_pred'].max()\n",
    "# min_cls_preds = dg['cls_pred'].min()"
   ]
  },
  {
   "cell_type": "code",
   "execution_count": 49,
   "metadata": {},
   "outputs": [
    {
     "name": "stderr",
     "output_type": "stream",
     "text": [
      "[08/10/22 11:31:36] 603994771.py:9 in <module>\n",
      "                    calc_metric(xp, 'cls_pred'): 0.8940525259130645\n",
      "[08/10/22 11:31:43] 603994771.py:10 in <module>\n",
      "                    calc_metric(xc, 'reg_pred'): 0.9133999180447212\n",
      "[08/10/22 11:31:51] 603994771.py:11 in <module>\n",
      "                    calc_metric(xc, 'cls_pred'): 0.9139478196978118\n",
      "[08/10/22 11:31:59] 603994771.py:12 in <module>\n",
      "                    calc_metric(xpc, 'cls_pred'): 0.9011719210628208\n"
     ]
    },
    {
     "data": {
      "text/plain": [
       "0.9011719210628208"
      ]
     },
     "execution_count": 49,
     "metadata": {},
     "output_type": "execute_result"
    }
   ],
   "source": [
    "xp = gezi.load(f'{root}/{pt_model}.eval/valid.pkl')\n",
    "# xc = gezi.load(f'{root}/{c_model}.eval/valid.pkl')\n",
    "xc = gezi.load(f'{root}/{c_model}.eval/valid.pkl')\n",
    "xpc = gezi.load(f'{root}/{pc_model}.eval/valid.pkl')\n",
    "gezi.sort_dict_byid_(xp, 'cid')\n",
    "gezi.sort_dict_byid_(xc, 'cid')\n",
    "gezi.sort_dict_byid_(xpc, 'cid')\n",
    "\n",
    "ic(calc_metric(xp, 'cls_pred'))\n",
    "ic(calc_metric(xc, 'reg_pred'))\n",
    "ic(calc_metric(xc, 'cls_pred'))\n",
    "ic(calc_metric(xpc, 'cls_pred'))"
   ]
  },
  {
   "cell_type": "code",
   "execution_count": 50,
   "metadata": {},
   "outputs": [
    {
     "name": "stderr",
     "output_type": "stream",
     "text": [
      "[08/10/22 11:32:07] 2337548337.py:27 in <module>\n",
      "                    xpc['mark'].mean(): 0.5019261406823974\n",
      "[08/10/22 11:32:15] 2337548337.py:28 in <module>\n",
      "                    calc_metric(xpc, 'cls_pred'): 0.9020743859652581\n"
     ]
    },
    {
     "data": {
      "text/plain": [
       "0.9020743859652581"
      ]
     },
     "execution_count": 50,
     "metadata": {},
     "output_type": "execute_result"
    }
   ],
   "source": [
    "pc_preds = dict(zip(xpc['cid'], xpc['pred']))\n",
    "pc_cls_preds = dict(zip(xpc['cid'], xpc['cls_pred']))\n",
    "pc_probs = dict(zip(xpc['cid'], xpc['probs']))\n",
    "\n",
    "preds = []\n",
    "cls_preds = []\n",
    "probs = []\n",
    "marks = []\n",
    "for cid, pred, cls_pred, prob in zip(xp['cid'], xp['pred'], xp['cls_pred'], xp['probs']):\n",
    "  # if prob.max() < 10:\n",
    "  if prob.max() < 0.8:\n",
    "    marks.append(1)\n",
    "    preds.append(pc_preds.get(cid, pred))\n",
    "    probs.append(pc_probs.get(cid, prob))\n",
    "    cls_preds.append(pc_cls_preds.get(cid, cls_pred))\n",
    "  else:\n",
    "    marks.append(0)\n",
    "    preds.append(pred)\n",
    "    probs.append(prob)\n",
    "    cls_preds.append(cls_pred)\n",
    "    \n",
    "xpc = xp.copy()\n",
    "xpc['pred'] = np.asarray(preds)\n",
    "xpc['cls_pred'] = np.asarray(cls_preds)\n",
    "xpc['probs'] = np.asarray(probs)\n",
    "xpc['mark'] = np.asarray(marks)\n",
    "ic(xpc['mark'].mean())\n",
    "ic(calc_metric(xpc, 'cls_pred'))"
   ]
  },
  {
   "cell_type": "code",
   "execution_count": 51,
   "metadata": {},
   "outputs": [],
   "source": [
    "LABEL_COL = 'rel_rank'\n",
    "def diff_feats(x, l,r, name):\n",
    "  if isinstance(l, str):\n",
    "    x[f'{name}_diff'] = x[l] - x[r]\n",
    "  else:\n",
    "    x[f'{name}_diff'] = l - r\n",
    "  x[f'abs_{name}_diff'] = abs(x[f'{name}_diff'])\n",
    "\n",
    "def gen_pfeat(x_, topn=None):\n",
    "  x = {}\n",
    "  keys = ['pred', 'cls_pred']\n",
    "  x = {k: x_[k] for k in keys}\n",
    "  # x['rank_pred'] = x['pred'] * (1 + x_['n_code_cell']) - 0.5\n",
    "  # x['cls_rank_pred'] = x['cls_pred'] * (1 + x_['n_code_cell']) - 0.5\n",
    "  x['min_prob'] = x_['probs'].min()\n",
    "  x['var_prob'] = np.var(x_['probs'])\n",
    "  if 'sims' in x_:\n",
    "    x['min_sim'] = x_['sims'].min()\n",
    "    x['var_sim'] = np.var(x_['sims'])\n",
    "  \n",
    "  idxes = (-x_['probs']).argsort()\n",
    "  # topn = topn or len(idxes)\n",
    "  topn = topn or 10\n",
    "  for i in range(topn):\n",
    "    if i < len(idxes):\n",
    "      if i > 0:\n",
    "        x[f'top_pred_{i}'] = (idxes[i] + 0.5) / (x_['n_code_cell'] + 1)\n",
    "        # x[f'top_rank_{i}'] = idxes[i]\n",
    "      x[f'top_prob_{i}'] = x_['probs'][idxes[i]]\n",
    "      if 'sims' in x_:\n",
    "        x[f'top_sim_{i}'] = x_['sims'][idxes[i]]\n",
    "    else:\n",
    "      x[f'top_pred_{i}'] = -1\n",
    "      # x[f'top_rank_{i}'] = -1\n",
    "      x[f'top_prob_{i}'] = -1\n",
    "      if 'sims' in x_:\n",
    "        x[f'top_sim_{i}'] = -1\n",
    "  \n",
    "  diff_feats(x, 'cls_pred', 'pred', 'cls')\n",
    "  # diff_feats(x, 'cls_rank_pred', 'rank_pred', 'cls_rank')\n",
    "  return x\n",
    "\n",
    "def gen_cfeat(x_):\n",
    "  topn = min(10, len(x_['cls_pred_ori']))\n",
    "  x = {}\n",
    "  keys = [\n",
    "    # 'pred', \n",
    "    'cls_pred', \n",
    "    'reg_pred', \n",
    "    'cls2_pred', \n",
    "    'group_pos',\n",
    "    'group_rank',\n",
    "    ]\n",
    "  x = {k: x_[k] for k in keys}\n",
    "  # x['cls_rank_pred'] = x['cls_pred'] * FLAGS.num_classes - 0.5\n",
    "  # x['cls2_rank_pred'] = x['cls2_pred'] * FLAGS.num_classes - 0.5\n",
    "  # x['reg_rank_pred'] = x['reg_pred'] * FLAGS.num_classes - 0.5\n",
    "  preds = x_['cls_pred_ori']\n",
    "  probs = gezi.softmax(preds)\n",
    "  x['min_prob'] = probs.min()\n",
    "  x['var_prob'] = np.var(probs)\n",
    "  idxes = (-probs).argsort()\n",
    "\n",
    "  for i in range(topn):\n",
    "    if i < len(idxes):\n",
    "      if i > 0:\n",
    "        x[f'top_pred_{i}'] = (idxes[i] + 0.5) / FLAGS.num_classes\n",
    "        # x[f'tpop_rank_{i}']  = idxes[i] \n",
    "      x[f'top_prob_{i}'] = probs[idxes[i]]\n",
    "    else:\n",
    "      x[f'top_pred_{i}'] = -1\n",
    "      # x[f'top_rank_{i}'] = -1\n",
    "      x[f'top_prob_{i}'] = -1\n",
    "  diff_feats(x, 'cls_pred', 'reg_pred', 'cls_reg')\n",
    "  diff_feats(x, 'cls_pred', 'cls2_pred', 'cls_cls2')\n",
    "  diff_feats(x, 'cls2_pred', 'reg_pred', 'cls2_reg')\n",
    "  # diff_feats(x, 'cls_rank_pred', 'reg_rank_pred', 'cls_reg_rank')\n",
    "  # diff_feats(x, 'cls_rank_pred', 'cls2_rank_pred', 'cls_cls2_rank')\n",
    "  # diff_feats(x, 'cls2_rank_pred', 'reg_rank_pred', 'cls2_reg_rank')\n",
    "  # group_id = x_['pred_id']\n",
    "  # x['max_pred'] = max_preds[group_id]\n",
    "  # x['min_pred'] = min_preds[group_id]\n",
    "  # x['pred_ratio'] = (x['pred'] - x['min_pred']) / (x['max_pred'] - x['min_pred']) if (x['max_pred'] - x['min_pred']) else 1\n",
    "  # x['max_cls_pred'] = max_cls_preds[group_id]\n",
    "  # x['min_cls_pred'] = min_cls_preds[group_id]\n",
    "  # x['cls_pred_ratio'] = (x['cls_pred'] - x['min_cls_pred']) / (x['max_cls_pred'] - x['min_cls_pred']) if (x['max_cls_pred'] - x['min_cls_pred']) else 1\n",
    "  \n",
    "  return x\n",
    "\n",
    "def gen_feats():\n",
    "  xs = gezi.batch2list(xp)\n",
    "  p_feats = [gen_pfeat(x) for x in tqdm(xs, desc=f'gen_pfeats:xp')]\n",
    "  xs = gezi.batch2list(xc)\n",
    "  c_feats = [gen_cfeat(x) for x in tqdm(xs, desc=f'gen_cfeats:xc')]\n",
    "  xs = gezi.batch2list(xpc)\n",
    "  pc_feats = [gen_pfeat(x, topn=3) for x in tqdm(xs, desc=f'gen_pfeats:xpc')]\n",
    "\n",
    "  feats = []\n",
    "  for i in tqdm(range(len(p_feats)), desc='merge_feats'):\n",
    "    fe1 = p_feats[i]\n",
    "    fec = c_feats[i]\n",
    "    fepc = pc_feats[i]\n",
    "    fepc['mark'] = xpc['mark'][i]\n",
    "    \n",
    "    fe = {}\n",
    "    fe['code_ratio'] = xp['n_code_cell'][i] / xp['n_cell'][i]\n",
    "    diff_feats(fe, fe1['pred'], fec['reg_pred'], 'pc_reg')\n",
    "    diff_feats(fe, fe1['pred'], fec['cls_pred'], 'pc_cls')\n",
    "    diff_feats(fe, fe1['pred'], fec['cls2_pred'], 'pc_cls2')\n",
    "    diff_feats(fe, fe1['cls_pred'], fec['reg_pred'], 'pc_cls_reg')\n",
    "    diff_feats(fe, fe1['cls_pred'], fec['cls_pred'], 'pc_cls_cls')\n",
    "    diff_feats(fe, fe1['cls_pred'], fec['cls2_pred'], 'pc_cls_cls2')\n",
    "    \n",
    "    diff_feats(fe, fepc['pred'], fec['reg_pred'], 'pcc_reg')\n",
    "    diff_feats(fe, fepc['pred'], fec['cls_pred'], 'pcc_cls')\n",
    "    diff_feats(fe, fepc['pred'], fec['cls2_pred'], 'pcc_cls2')\n",
    "    diff_feats(fe, fepc['cls_pred'], fec['reg_pred'], 'pcc_cls_reg')\n",
    "    diff_feats(fe, fepc['cls_pred'], fec['cls_pred'], 'pcc_cls_cls')\n",
    "    diff_feats(fe, fepc['cls_pred'], fec['cls2_pred'], 'pcc_cls_cls2')\n",
    "    \n",
    "    # diff_feats(fe, fe1['rank_pred'], fec['reg_rank_pred'], 'pc_cls_rank')\n",
    "    # diff_feats(fe, fe1['cls_rank_pred'], fec['reg_rank_pred'], 'pc_cls_reg_rank')\n",
    "    # diff_feats(fe, fepc['rank_pred'], fec['reg_rank_pred'], 'pcc_cls_rank')\n",
    "    # diff_feats(fe, fepc['cls_rank_pred'], fec['reg_rank_pred'], 'pcc_cls_reg_rank')\n",
    "\n",
    "    fe1 = gezi.dict_prefix(fe1, 'xp_')\n",
    "    fe.update(fe1)\n",
    "    fec = gezi.dict_prefix(fec, 'xc_')\n",
    "    fe.update(fec)\n",
    "    fepc = gezi.dict_prefix(fepc, 'xpc_')\n",
    "    fe.update(fepc)\n",
    "\n",
    "    keys = [\n",
    "     'id', 'cell_id', 'cid',\n",
    "     'n_words', 'n_code_cell', 'n_cell'\n",
    "    ]\n",
    "    for key in keys:\n",
    "      fe[key] = xp[key][i]\n",
    "      \n",
    "    #  ic(feat)\n",
    "    feats.append(fe)\n",
    "  #  break\n",
    "  dfeats = pd.DataFrame(feats)\n",
    "  return dfeats"
   ]
  },
  {
   "cell_type": "code",
   "execution_count": 52,
   "metadata": {},
   "outputs": [
    {
     "data": {
      "application/vnd.jupyter.widget-view+json": {
       "model_id": "fc1b194940814cebaf6a05a902d21433",
       "version_major": 2,
       "version_minor": 0
      },
      "text/plain": [
       "gen_pfeats:xp:   0%|          | 0/424943 [00:00<?, ?it/s]"
      ]
     },
     "metadata": {},
     "output_type": "display_data"
    },
    {
     "data": {
      "application/vnd.jupyter.widget-view+json": {
       "model_id": "aa2333623275408bbc7a7ba36cd9479f",
       "version_major": 2,
       "version_minor": 0
      },
      "text/plain": [
       "gen_cfeats:xc:   0%|          | 0/424943 [00:00<?, ?it/s]"
      ]
     },
     "metadata": {},
     "output_type": "display_data"
    },
    {
     "data": {
      "application/vnd.jupyter.widget-view+json": {
       "model_id": "9dad03502e1645108bc90fe4f68cc73d",
       "version_major": 2,
       "version_minor": 0
      },
      "text/plain": [
       "gen_pfeats:xpc:   0%|          | 0/424943 [00:00<?, ?it/s]"
      ]
     },
     "metadata": {},
     "output_type": "display_data"
    },
    {
     "data": {
      "application/vnd.jupyter.widget-view+json": {
       "model_id": "70bad66266e541bea800bdccc481c0ad",
       "version_major": 2,
       "version_minor": 0
      },
      "text/plain": [
       "merge_feats:   0%|          | 0/424943 [00:00<?, ?it/s]"
      ]
     },
     "metadata": {},
     "output_type": "display_data"
    }
   ],
   "source": [
    "dfeats = gen_feats()"
   ]
  },
  {
   "cell_type": "code",
   "execution_count": 53,
   "metadata": {},
   "outputs": [],
   "source": [
    "df = dfeats.merge(df_train[['cid', 'ancestor_id', LABEL_COL]], on='cid')"
   ]
  },
  {
   "cell_type": "code",
   "execution_count": 54,
   "metadata": {},
   "outputs": [],
   "source": [
    "gezi.set_fold(df, 5, 'ancestor_id')"
   ]
  },
  {
   "cell_type": "code",
   "execution_count": 55,
   "metadata": {},
   "outputs": [
    {
     "data": {
      "text/plain": [
       "114"
      ]
     },
     "execution_count": 55,
     "metadata": {},
     "output_type": "execute_result"
    }
   ],
   "source": [
    "reg_cols = [x for x in dfeats.columns if x not in ['id', 'cell_id', 'cid', LABEL_COL]]\n",
    "cat_cols = []\n",
    "cols = reg_cols + cat_cols\n",
    "len(cols)"
   ]
  },
  {
   "cell_type": "code",
   "execution_count": 56,
   "metadata": {},
   "outputs": [],
   "source": [
    "df['cls_label'] = df.rel_rank.apply(lambda x: int(x * 100))\n",
    "LABEL_COL = 'rel_rank'"
   ]
  },
  {
   "cell_type": "code",
   "execution_count": 57,
   "metadata": {},
   "outputs": [
    {
     "data": {
      "text/plain": [
       "99"
      ]
     },
     "execution_count": 57,
     "metadata": {},
     "output_type": "execute_result"
    }
   ],
   "source": [
    "df.cls_label.max()"
   ]
  },
  {
   "cell_type": "code",
   "execution_count": 58,
   "metadata": {},
   "outputs": [],
   "source": [
    "fold = 0\n",
    "dvalid = df[df.fold==fold]\n",
    "dtrain = df[df.fold!=fold]"
   ]
  },
  {
   "cell_type": "code",
   "execution_count": 59,
   "metadata": {},
   "outputs": [],
   "source": [
    "X_train = dtrain[cols]\n",
    "y_train = dtrain[LABEL_COL]\n",
    "X_valid = dvalid[cols]\n",
    "y_valid = dvalid[LABEL_COL]"
   ]
  },
  {
   "cell_type": "code",
   "execution_count": 60,
   "metadata": {},
   "outputs": [],
   "source": [
    "from catboost import CatBoostRegressor, CatBoostRanker, CatBoostClassifier\n",
    "cbt_params = {\n",
    "              # 'bootstrap_type': 'Poisson',\n",
    "              # 'learning_rate': 0.02,\n",
    "              'learning_rate': 0.03,\n",
    "              # 'reg_lambda': 7.960622217848342e-07, \n",
    "              'l2_leaf_reg': 3,\n",
    "              'subsample': 0.7422597612762745,\n",
    "              # 'bagging_temperature': 0.2,\n",
    "              # 'max_depth': 10, \n",
    "              # 'max_depth': 8,\n",
    "              'max_depth': 6,\n",
    "              # 'max_depth': 5,\n",
    "              'early_stopping_rounds': 500,\n",
    "              'n_estimators': 10000,\n",
    "              'cat_features': [],\n",
    "              'loss_function': 'MAE',\n",
    "              'min_child_samples': 100,\n",
    "              # 'task_type': 'GPU',\n",
    "              # 'devices': '0',\n",
    "              }"
   ]
  },
  {
   "cell_type": "code",
   "execution_count": 61,
   "metadata": {},
   "outputs": [
    {
     "name": "stdout",
     "output_type": "stream",
     "text": [
      "0:\tlearn: 0.2523411\ttest: 0.2523411\ttest1: 0.2522854\tbest: 0.2522854 (0)\ttotal: 44ms\tremaining: 7m 20s\n",
      "100:\tlearn: 0.0658321\ttest: 0.0658321\ttest1: 0.0670874\tbest: 0.0670874 (100)\ttotal: 3.79s\tremaining: 6m 11s\n",
      "200:\tlearn: 0.0590696\ttest: 0.0590696\ttest1: 0.0605187\tbest: 0.0605187 (200)\ttotal: 7.34s\tremaining: 5m 57s\n",
      "300:\tlearn: 0.0582404\ttest: 0.0582404\ttest1: 0.0597643\tbest: 0.0597643 (300)\ttotal: 10.9s\tremaining: 5m 49s\n",
      "400:\tlearn: 0.0576440\ttest: 0.0576440\ttest1: 0.0592171\tbest: 0.0592171 (400)\ttotal: 14.5s\tremaining: 5m 47s\n",
      "500:\tlearn: 0.0570862\ttest: 0.0570862\ttest1: 0.0587003\tbest: 0.0587003 (500)\ttotal: 18.3s\tremaining: 5m 46s\n",
      "600:\tlearn: 0.0567262\ttest: 0.0567262\ttest1: 0.0583919\tbest: 0.0583919 (600)\ttotal: 22s\tremaining: 5m 44s\n",
      "700:\tlearn: 0.0564415\ttest: 0.0564415\ttest1: 0.0581537\tbest: 0.0581537 (700)\ttotal: 25.8s\tremaining: 5m 42s\n",
      "800:\tlearn: 0.0562346\ttest: 0.0562346\ttest1: 0.0579898\tbest: 0.0579898 (800)\ttotal: 29.6s\tremaining: 5m 40s\n",
      "900:\tlearn: 0.0560743\ttest: 0.0560743\ttest1: 0.0578626\tbest: 0.0578626 (900)\ttotal: 33.5s\tremaining: 5m 37s\n",
      "1000:\tlearn: 0.0559330\ttest: 0.0559330\ttest1: 0.0577561\tbest: 0.0577561 (1000)\ttotal: 37.3s\tremaining: 5m 35s\n",
      "1100:\tlearn: 0.0558089\ttest: 0.0558089\ttest1: 0.0576746\tbest: 0.0576746 (1100)\ttotal: 41.1s\tremaining: 5m 32s\n",
      "1200:\tlearn: 0.0557167\ttest: 0.0557167\ttest1: 0.0576177\tbest: 0.0576177 (1200)\ttotal: 45s\tremaining: 5m 29s\n",
      "1300:\tlearn: 0.0556302\ttest: 0.0556302\ttest1: 0.0575599\tbest: 0.0575599 (1300)\ttotal: 48.8s\tremaining: 5m 26s\n",
      "1400:\tlearn: 0.0555497\ttest: 0.0555497\ttest1: 0.0575141\tbest: 0.0575141 (1400)\ttotal: 52.5s\tremaining: 5m 22s\n",
      "1500:\tlearn: 0.0554770\ttest: 0.0554770\ttest1: 0.0574713\tbest: 0.0574713 (1500)\ttotal: 56.1s\tremaining: 5m 17s\n",
      "1600:\tlearn: 0.0554088\ttest: 0.0554088\ttest1: 0.0574369\tbest: 0.0574369 (1600)\ttotal: 59.8s\tremaining: 5m 13s\n",
      "1700:\tlearn: 0.0553467\ttest: 0.0553467\ttest1: 0.0574044\tbest: 0.0574044 (1700)\ttotal: 1m 3s\tremaining: 5m 9s\n",
      "1800:\tlearn: 0.0552671\ttest: 0.0552671\ttest1: 0.0573650\tbest: 0.0573650 (1800)\ttotal: 1m 6s\tremaining: 5m 4s\n",
      "1900:\tlearn: 0.0552095\ttest: 0.0552095\ttest1: 0.0573368\tbest: 0.0573368 (1900)\ttotal: 1m 10s\tremaining: 5m\n",
      "2000:\tlearn: 0.0551449\ttest: 0.0551449\ttest1: 0.0573111\tbest: 0.0573110 (1999)\ttotal: 1m 14s\tremaining: 4m 56s\n",
      "2100:\tlearn: 0.0550942\ttest: 0.0550942\ttest1: 0.0573014\tbest: 0.0572885 (2094)\ttotal: 1m 17s\tremaining: 4m 52s\n",
      "2200:\tlearn: 0.0550500\ttest: 0.0550500\ttest1: 0.0572960\tbest: 0.0572841 (2195)\ttotal: 1m 21s\tremaining: 4m 49s\n",
      "2300:\tlearn: 0.0549907\ttest: 0.0549907\ttest1: 0.0572751\tbest: 0.0572751 (2300)\ttotal: 1m 25s\tremaining: 4m 45s\n",
      "2400:\tlearn: 0.0549278\ttest: 0.0549278\ttest1: 0.0572519\tbest: 0.0572519 (2400)\ttotal: 1m 29s\tremaining: 4m 41s\n",
      "2500:\tlearn: 0.0548719\ttest: 0.0548719\ttest1: 0.0572553\tbest: 0.0572473 (2417)\ttotal: 1m 32s\tremaining: 4m 37s\n",
      "2600:\tlearn: 0.0548180\ttest: 0.0548180\ttest1: 0.0572381\tbest: 0.0572381 (2600)\ttotal: 1m 36s\tremaining: 4m 33s\n",
      "2700:\tlearn: 0.0547739\ttest: 0.0547739\ttest1: 0.0572195\tbest: 0.0572192 (2698)\ttotal: 1m 39s\tremaining: 4m 30s\n",
      "2800:\tlearn: 0.0547340\ttest: 0.0547340\ttest1: 0.0572066\tbest: 0.0572066 (2800)\ttotal: 1m 43s\tremaining: 4m 26s\n",
      "2900:\tlearn: 0.0546847\ttest: 0.0546847\ttest1: 0.0572120\tbest: 0.0571922 (2880)\ttotal: 1m 47s\tremaining: 4m 22s\n",
      "3000:\tlearn: 0.0546408\ttest: 0.0546408\ttest1: 0.0571995\tbest: 0.0571922 (2880)\ttotal: 1m 50s\tremaining: 4m 18s\n",
      "3100:\tlearn: 0.0545946\ttest: 0.0545946\ttest1: 0.0571924\tbest: 0.0571903 (3065)\ttotal: 1m 54s\tremaining: 4m 14s\n",
      "3200:\tlearn: 0.0545571\ttest: 0.0545571\ttest1: 0.0571792\tbest: 0.0571792 (3200)\ttotal: 1m 57s\tremaining: 4m 10s\n",
      "3300:\tlearn: 0.0545093\ttest: 0.0545093\ttest1: 0.0571634\tbest: 0.0571634 (3297)\ttotal: 2m 1s\tremaining: 4m 6s\n",
      "3400:\tlearn: 0.0544681\ttest: 0.0544681\ttest1: 0.0571859\tbest: 0.0571585 (3377)\ttotal: 2m 5s\tremaining: 4m 2s\n",
      "3500:\tlearn: 0.0544230\ttest: 0.0544230\ttest1: 0.0572001\tbest: 0.0571585 (3377)\ttotal: 2m 8s\tremaining: 3m 58s\n",
      "3600:\tlearn: 0.0543837\ttest: 0.0543837\ttest1: 0.0572249\tbest: 0.0571585 (3377)\ttotal: 2m 12s\tremaining: 3m 54s\n",
      "3700:\tlearn: 0.0543423\ttest: 0.0543423\ttest1: 0.0572161\tbest: 0.0571585 (3377)\ttotal: 2m 15s\tremaining: 3m 51s\n",
      "3800:\tlearn: 0.0542988\ttest: 0.0542988\ttest1: 0.0572029\tbest: 0.0571585 (3377)\ttotal: 2m 19s\tremaining: 3m 47s\n",
      "Stopped by overfitting detector  (500 iterations wait)\n",
      "\n",
      "bestTest = 0.05715848122\n",
      "bestIteration = 3377\n",
      "\n",
      "Shrink model to first 3378 iterations.\n"
     ]
    },
    {
     "name": "stderr",
     "output_type": "stream",
     "text": [
      "[08/10/22 11:38:41] 3198672829.py:8 in <module>\n",
      "                    cbt_score: 0.9194913580046135\n"
     ]
    },
    {
     "data": {
      "text/plain": [
       "0.9194913580046135"
      ]
     },
     "execution_count": 61,
     "metadata": {},
     "output_type": "execute_result"
    }
   ],
   "source": [
    "cbt_model = CatBoostRegressor(**cbt_params)\n",
    "cbt_model.fit(X_train, y_train,\n",
    "      eval_set=[(X_train, y_train), (X_valid, y_valid)],\n",
    "              verbose=100,\n",
    "              )  \n",
    "dvalid['cbt_pred'] = cbt_model.predict(dvalid[cols])\n",
    "cbt_score = calc_metric({'id': dvalid.id.values, 'cell_id': dvalid.cell_id.values, 'pred': dvalid.cbt_pred.values})\n",
    "ic(cbt_score)"
   ]
  },
  {
   "cell_type": "code",
   "execution_count": 62,
   "metadata": {},
   "outputs": [
    {
     "data": {
      "text/html": [
       "<div>\n",
       "<style scoped>\n",
       "    .dataframe tbody tr th:only-of-type {\n",
       "        vertical-align: middle;\n",
       "    }\n",
       "\n",
       "    .dataframe tbody tr th {\n",
       "        vertical-align: top;\n",
       "    }\n",
       "\n",
       "    .dataframe thead th {\n",
       "        text-align: right;\n",
       "    }\n",
       "</style>\n",
       "<table border=\"1\" class=\"dataframe\">\n",
       "  <thead>\n",
       "    <tr style=\"text-align: right;\">\n",
       "      <th></th>\n",
       "      <th>code_ratio</th>\n",
       "      <th>pc_reg_diff</th>\n",
       "      <th>abs_pc_reg_diff</th>\n",
       "      <th>pc_cls_diff</th>\n",
       "      <th>abs_pc_cls_diff</th>\n",
       "      <th>pc_cls2_diff</th>\n",
       "      <th>abs_pc_cls2_diff</th>\n",
       "      <th>pc_cls_reg_diff</th>\n",
       "      <th>abs_pc_cls_reg_diff</th>\n",
       "      <th>pc_cls_cls_diff</th>\n",
       "      <th>abs_pc_cls_cls_diff</th>\n",
       "      <th>pc_cls_cls2_diff</th>\n",
       "      <th>abs_pc_cls_cls2_diff</th>\n",
       "      <th>pcc_reg_diff</th>\n",
       "      <th>abs_pcc_reg_diff</th>\n",
       "      <th>pcc_cls_diff</th>\n",
       "      <th>abs_pcc_cls_diff</th>\n",
       "      <th>pcc_cls2_diff</th>\n",
       "      <th>abs_pcc_cls2_diff</th>\n",
       "      <th>pcc_cls_reg_diff</th>\n",
       "      <th>abs_pcc_cls_reg_diff</th>\n",
       "      <th>pcc_cls_cls_diff</th>\n",
       "      <th>abs_pcc_cls_cls_diff</th>\n",
       "      <th>pcc_cls_cls2_diff</th>\n",
       "      <th>abs_pcc_cls_cls2_diff</th>\n",
       "      <th>xp_pred</th>\n",
       "      <th>xp_cls_pred</th>\n",
       "      <th>xp_min_prob</th>\n",
       "      <th>xp_var_prob</th>\n",
       "      <th>xp_min_sim</th>\n",
       "      <th>xp_var_sim</th>\n",
       "      <th>xp_top_prob_0</th>\n",
       "      <th>xp_top_sim_0</th>\n",
       "      <th>xp_top_pred_1</th>\n",
       "      <th>xp_top_prob_1</th>\n",
       "      <th>xp_top_sim_1</th>\n",
       "      <th>xp_top_pred_2</th>\n",
       "      <th>xp_top_prob_2</th>\n",
       "      <th>xp_top_sim_2</th>\n",
       "      <th>xp_top_pred_3</th>\n",
       "      <th>xp_top_prob_3</th>\n",
       "      <th>xp_top_sim_3</th>\n",
       "      <th>xp_top_pred_4</th>\n",
       "      <th>xp_top_prob_4</th>\n",
       "      <th>xp_top_sim_4</th>\n",
       "      <th>xp_top_pred_5</th>\n",
       "      <th>xp_top_prob_5</th>\n",
       "      <th>xp_top_sim_5</th>\n",
       "      <th>xp_top_pred_6</th>\n",
       "      <th>xp_top_prob_6</th>\n",
       "      <th>xp_top_sim_6</th>\n",
       "      <th>xp_top_pred_7</th>\n",
       "      <th>xp_top_prob_7</th>\n",
       "      <th>xp_top_sim_7</th>\n",
       "      <th>xp_top_pred_8</th>\n",
       "      <th>xp_top_prob_8</th>\n",
       "      <th>xp_top_sim_8</th>\n",
       "      <th>xp_top_pred_9</th>\n",
       "      <th>xp_top_prob_9</th>\n",
       "      <th>xp_top_sim_9</th>\n",
       "      <th>xp_cls_diff</th>\n",
       "      <th>xp_abs_cls_diff</th>\n",
       "      <th>xc_cls_pred</th>\n",
       "      <th>xc_reg_pred</th>\n",
       "      <th>xc_cls2_pred</th>\n",
       "      <th>xc_group_pos</th>\n",
       "      <th>xc_group_rank</th>\n",
       "      <th>xc_min_prob</th>\n",
       "      <th>xc_var_prob</th>\n",
       "      <th>xc_top_prob_0</th>\n",
       "      <th>xc_top_pred_1</th>\n",
       "      <th>xc_top_prob_1</th>\n",
       "      <th>xc_top_pred_2</th>\n",
       "      <th>xc_top_prob_2</th>\n",
       "      <th>xc_top_pred_3</th>\n",
       "      <th>xc_top_prob_3</th>\n",
       "      <th>xc_top_pred_4</th>\n",
       "      <th>xc_top_prob_4</th>\n",
       "      <th>xc_top_pred_5</th>\n",
       "      <th>xc_top_prob_5</th>\n",
       "      <th>xc_top_pred_6</th>\n",
       "      <th>xc_top_prob_6</th>\n",
       "      <th>xc_top_pred_7</th>\n",
       "      <th>xc_top_prob_7</th>\n",
       "      <th>xc_top_pred_8</th>\n",
       "      <th>xc_top_prob_8</th>\n",
       "      <th>xc_top_pred_9</th>\n",
       "      <th>xc_top_prob_9</th>\n",
       "      <th>xc_cls_reg_diff</th>\n",
       "      <th>xc_abs_cls_reg_diff</th>\n",
       "      <th>xc_cls_cls2_diff</th>\n",
       "      <th>xc_abs_cls_cls2_diff</th>\n",
       "      <th>xc_cls2_reg_diff</th>\n",
       "      <th>xc_abs_cls2_reg_diff</th>\n",
       "      <th>xpc_pred</th>\n",
       "      <th>xpc_cls_pred</th>\n",
       "      <th>xpc_min_prob</th>\n",
       "      <th>xpc_var_prob</th>\n",
       "      <th>xpc_min_sim</th>\n",
       "      <th>xpc_var_sim</th>\n",
       "      <th>xpc_top_prob_0</th>\n",
       "      <th>xpc_top_sim_0</th>\n",
       "      <th>xpc_top_pred_1</th>\n",
       "      <th>xpc_top_prob_1</th>\n",
       "      <th>xpc_top_sim_1</th>\n",
       "      <th>xpc_top_pred_2</th>\n",
       "      <th>xpc_top_prob_2</th>\n",
       "      <th>xpc_top_sim_2</th>\n",
       "      <th>xpc_cls_diff</th>\n",
       "      <th>xpc_abs_cls_diff</th>\n",
       "      <th>xpc_mark</th>\n",
       "      <th>id</th>\n",
       "      <th>cell_id</th>\n",
       "      <th>cid</th>\n",
       "      <th>n_words</th>\n",
       "      <th>n_code_cell</th>\n",
       "      <th>n_cell</th>\n",
       "      <th>ancestor_id</th>\n",
       "      <th>rel_rank</th>\n",
       "      <th>fold</th>\n",
       "      <th>cls_label</th>\n",
       "      <th>cbt_pred</th>\n",
       "    </tr>\n",
       "  </thead>\n",
       "  <tbody>\n",
       "    <tr>\n",
       "      <th>54</th>\n",
       "      <td>0.5895</td>\n",
       "      <td>-0.0033</td>\n",
       "      <td>0.0033</td>\n",
       "      <td>-0.0015</td>\n",
       "      <td>0.0015</td>\n",
       "      <td>0.0018</td>\n",
       "      <td>0.0018</td>\n",
       "      <td>-0.0010</td>\n",
       "      <td>0.0010</td>\n",
       "      <td>0.0008</td>\n",
       "      <td>0.0008</td>\n",
       "      <td>0.0041</td>\n",
       "      <td>0.0041</td>\n",
       "      <td>-0.0033</td>\n",
       "      <td>0.0033</td>\n",
       "      <td>-0.0015</td>\n",
       "      <td>0.0015</td>\n",
       "      <td>0.0018</td>\n",
       "      <td>0.0018</td>\n",
       "      <td>-0.0010</td>\n",
       "      <td>0.0010</td>\n",
       "      <td>0.0008</td>\n",
       "      <td>0.0008</td>\n",
       "      <td>0.0041</td>\n",
       "      <td>0.0041</td>\n",
       "      <td>0.2368</td>\n",
       "      <td>0.2391</td>\n",
       "      <td>0.0000</td>\n",
       "      <td>0.0160</td>\n",
       "      <td>0.3837</td>\n",
       "      <td>0.0085</td>\n",
       "      <td>0.9640</td>\n",
       "      <td>0.7873</td>\n",
       "      <td>0.2544</td>\n",
       "      <td>0.0204</td>\n",
       "      <td>0.7026</td>\n",
       "      <td>0.5351</td>\n",
       "      <td>0.0038</td>\n",
       "      <td>0.6660</td>\n",
       "      <td>0.3070</td>\n",
       "      <td>0.0016</td>\n",
       "      <td>0.6462</td>\n",
       "      <td>0.3772</td>\n",
       "      <td>0.0015</td>\n",
       "      <td>0.6456</td>\n",
       "      <td>0.1491</td>\n",
       "      <td>0.0014</td>\n",
       "      <td>0.6436</td>\n",
       "      <td>0.4825</td>\n",
       "      <td>0.0014</td>\n",
       "      <td>0.6435</td>\n",
       "      <td>0.1667</td>\n",
       "      <td>0.0010</td>\n",
       "      <td>0.6366</td>\n",
       "      <td>0.0263</td>\n",
       "      <td>0.0008</td>\n",
       "      <td>0.6302</td>\n",
       "      <td>0.2895</td>\n",
       "      <td>0.0006</td>\n",
       "      <td>0.6243</td>\n",
       "      <td>0.0023</td>\n",
       "      <td>0.0023</td>\n",
       "      <td>0.2383</td>\n",
       "      <td>0.2401</td>\n",
       "      <td>0.2350</td>\n",
       "      <td>1</td>\n",
       "      <td>1</td>\n",
       "      <td>0.0000</td>\n",
       "      <td>0.0079</td>\n",
       "      <td>0.8896</td>\n",
       "      <td>0.2550</td>\n",
       "      <td>0.0975</td>\n",
       "      <td>0.2850</td>\n",
       "      <td>0.0018</td>\n",
       "      <td>0.2150</td>\n",
       "      <td>0.0017</td>\n",
       "      <td>0.2450</td>\n",
       "      <td>0.0016</td>\n",
       "      <td>0.2650</td>\n",
       "      <td>0.0009</td>\n",
       "      <td>0.1550</td>\n",
       "      <td>0.0008</td>\n",
       "      <td>0.2750</td>\n",
       "      <td>0.0008</td>\n",
       "      <td>0.4150</td>\n",
       "      <td>0.0007</td>\n",
       "      <td>0.3350</td>\n",
       "      <td>0.0007</td>\n",
       "      <td>-0.0018</td>\n",
       "      <td>0.0018</td>\n",
       "      <td>0.0033</td>\n",
       "      <td>0.0033</td>\n",
       "      <td>-0.0051</td>\n",
       "      <td>0.0051</td>\n",
       "      <td>0.2368</td>\n",
       "      <td>0.2391</td>\n",
       "      <td>0.0000</td>\n",
       "      <td>0.0160</td>\n",
       "      <td>0.3837</td>\n",
       "      <td>0.0085</td>\n",
       "      <td>0.9640</td>\n",
       "      <td>0.7873</td>\n",
       "      <td>0.2544</td>\n",
       "      <td>0.0204</td>\n",
       "      <td>0.7026</td>\n",
       "      <td>0.5351</td>\n",
       "      <td>0.0038</td>\n",
       "      <td>0.6660</td>\n",
       "      <td>0.0023</td>\n",
       "      <td>0.0023</td>\n",
       "      <td>0</td>\n",
       "      <td>001308991e0c5e</td>\n",
       "      <td>05915708</td>\n",
       "      <td>001308991e0c5e\\t05915708</td>\n",
       "      <td>22</td>\n",
       "      <td>56</td>\n",
       "      <td>95</td>\n",
       "      <td>c5fbea8e</td>\n",
       "      <td>0.2368</td>\n",
       "      <td>0</td>\n",
       "      <td>23</td>\n",
       "      <td>0.2370</td>\n",
       "    </tr>\n",
       "    <tr>\n",
       "      <th>55</th>\n",
       "      <td>0.5895</td>\n",
       "      <td>-0.0113</td>\n",
       "      <td>0.0113</td>\n",
       "      <td>-0.0116</td>\n",
       "      <td>0.0116</td>\n",
       "      <td>-0.0018</td>\n",
       "      <td>0.0018</td>\n",
       "      <td>-0.0091</td>\n",
       "      <td>0.0091</td>\n",
       "      <td>-0.0094</td>\n",
       "      <td>0.0094</td>\n",
       "      <td>0.0003</td>\n",
       "      <td>0.0003</td>\n",
       "      <td>-0.0113</td>\n",
       "      <td>0.0113</td>\n",
       "      <td>-0.0116</td>\n",
       "      <td>0.0116</td>\n",
       "      <td>-0.0018</td>\n",
       "      <td>0.0018</td>\n",
       "      <td>-0.0091</td>\n",
       "      <td>0.0091</td>\n",
       "      <td>-0.0094</td>\n",
       "      <td>0.0094</td>\n",
       "      <td>0.0003</td>\n",
       "      <td>0.0003</td>\n",
       "      <td>0.7632</td>\n",
       "      <td>0.7653</td>\n",
       "      <td>0.0000</td>\n",
       "      <td>0.0134</td>\n",
       "      <td>0.3038</td>\n",
       "      <td>0.0060</td>\n",
       "      <td>0.8777</td>\n",
       "      <td>0.7252</td>\n",
       "      <td>0.7807</td>\n",
       "      <td>0.1110</td>\n",
       "      <td>0.6798</td>\n",
       "      <td>0.7982</td>\n",
       "      <td>0.0098</td>\n",
       "      <td>0.6266</td>\n",
       "      <td>0.8333</td>\n",
       "      <td>0.0004</td>\n",
       "      <td>0.5554</td>\n",
       "      <td>0.8684</td>\n",
       "      <td>0.0003</td>\n",
       "      <td>0.5486</td>\n",
       "      <td>0.8158</td>\n",
       "      <td>0.0002</td>\n",
       "      <td>0.5427</td>\n",
       "      <td>0.6053</td>\n",
       "      <td>0.0001</td>\n",
       "      <td>0.5321</td>\n",
       "      <td>0.0263</td>\n",
       "      <td>0.0001</td>\n",
       "      <td>0.5271</td>\n",
       "      <td>0.5877</td>\n",
       "      <td>0.0001</td>\n",
       "      <td>0.5164</td>\n",
       "      <td>0.8509</td>\n",
       "      <td>0.0000</td>\n",
       "      <td>0.5046</td>\n",
       "      <td>0.0022</td>\n",
       "      <td>0.0022</td>\n",
       "      <td>0.7747</td>\n",
       "      <td>0.7744</td>\n",
       "      <td>0.7650</td>\n",
       "      <td>1</td>\n",
       "      <td>1</td>\n",
       "      <td>0.0000</td>\n",
       "      <td>0.0047</td>\n",
       "      <td>0.5229</td>\n",
       "      <td>0.7850</td>\n",
       "      <td>0.4507</td>\n",
       "      <td>0.7750</td>\n",
       "      <td>0.0114</td>\n",
       "      <td>0.7950</td>\n",
       "      <td>0.0071</td>\n",
       "      <td>0.7550</td>\n",
       "      <td>0.0036</td>\n",
       "      <td>0.7450</td>\n",
       "      <td>0.0019</td>\n",
       "      <td>0.7350</td>\n",
       "      <td>0.0004</td>\n",
       "      <td>0.8150</td>\n",
       "      <td>0.0003</td>\n",
       "      <td>0.7250</td>\n",
       "      <td>0.0003</td>\n",
       "      <td>0.7050</td>\n",
       "      <td>0.0002</td>\n",
       "      <td>0.0003</td>\n",
       "      <td>0.0003</td>\n",
       "      <td>0.0097</td>\n",
       "      <td>0.0097</td>\n",
       "      <td>-0.0094</td>\n",
       "      <td>0.0094</td>\n",
       "      <td>0.7632</td>\n",
       "      <td>0.7653</td>\n",
       "      <td>0.0000</td>\n",
       "      <td>0.0134</td>\n",
       "      <td>0.3038</td>\n",
       "      <td>0.0060</td>\n",
       "      <td>0.8777</td>\n",
       "      <td>0.7252</td>\n",
       "      <td>0.7807</td>\n",
       "      <td>0.1110</td>\n",
       "      <td>0.6798</td>\n",
       "      <td>0.7982</td>\n",
       "      <td>0.0098</td>\n",
       "      <td>0.6266</td>\n",
       "      <td>0.0022</td>\n",
       "      <td>0.0022</td>\n",
       "      <td>0</td>\n",
       "      <td>001308991e0c5e</td>\n",
       "      <td>1545964f</td>\n",
       "      <td>001308991e0c5e\\t1545964f</td>\n",
       "      <td>22</td>\n",
       "      <td>56</td>\n",
       "      <td>95</td>\n",
       "      <td>c5fbea8e</td>\n",
       "      <td>0.7632</td>\n",
       "      <td>0</td>\n",
       "      <td>76</td>\n",
       "      <td>0.7666</td>\n",
       "    </tr>\n",
       "    <tr>\n",
       "      <th>56</th>\n",
       "      <td>0.5895</td>\n",
       "      <td>-0.0018</td>\n",
       "      <td>0.0018</td>\n",
       "      <td>0.0036</td>\n",
       "      <td>0.0036</td>\n",
       "      <td>0.0048</td>\n",
       "      <td>0.0048</td>\n",
       "      <td>-0.0020</td>\n",
       "      <td>0.0020</td>\n",
       "      <td>0.0034</td>\n",
       "      <td>0.0034</td>\n",
       "      <td>0.0046</td>\n",
       "      <td>0.0046</td>\n",
       "      <td>-0.0018</td>\n",
       "      <td>0.0018</td>\n",
       "      <td>0.0036</td>\n",
       "      <td>0.0036</td>\n",
       "      <td>0.0048</td>\n",
       "      <td>0.0048</td>\n",
       "      <td>-0.0020</td>\n",
       "      <td>0.0020</td>\n",
       "      <td>0.0034</td>\n",
       "      <td>0.0034</td>\n",
       "      <td>0.0046</td>\n",
       "      <td>0.0046</td>\n",
       "      <td>0.4298</td>\n",
       "      <td>0.4296</td>\n",
       "      <td>0.0000</td>\n",
       "      <td>0.0171</td>\n",
       "      <td>0.2332</td>\n",
       "      <td>0.0078</td>\n",
       "      <td>0.9970</td>\n",
       "      <td>0.6821</td>\n",
       "      <td>0.3070</td>\n",
       "      <td>0.0018</td>\n",
       "      <td>0.5436</td>\n",
       "      <td>0.3246</td>\n",
       "      <td>0.0003</td>\n",
       "      <td>0.5028</td>\n",
       "      <td>0.4825</td>\n",
       "      <td>0.0003</td>\n",
       "      <td>0.5013</td>\n",
       "      <td>0.5175</td>\n",
       "      <td>0.0002</td>\n",
       "      <td>0.4981</td>\n",
       "      <td>0.5000</td>\n",
       "      <td>0.0002</td>\n",
       "      <td>0.4900</td>\n",
       "      <td>0.4474</td>\n",
       "      <td>0.0001</td>\n",
       "      <td>0.4858</td>\n",
       "      <td>0.3772</td>\n",
       "      <td>0.0000</td>\n",
       "      <td>0.4596</td>\n",
       "      <td>0.4649</td>\n",
       "      <td>0.0000</td>\n",
       "      <td>0.4512</td>\n",
       "      <td>0.3421</td>\n",
       "      <td>0.0000</td>\n",
       "      <td>0.4239</td>\n",
       "      <td>-0.0002</td>\n",
       "      <td>0.0002</td>\n",
       "      <td>0.4262</td>\n",
       "      <td>0.4316</td>\n",
       "      <td>0.4250</td>\n",
       "      <td>2</td>\n",
       "      <td>1</td>\n",
       "      <td>0.0000</td>\n",
       "      <td>0.0061</td>\n",
       "      <td>0.7432</td>\n",
       "      <td>0.4350</td>\n",
       "      <td>0.2489</td>\n",
       "      <td>0.4150</td>\n",
       "      <td>0.0020</td>\n",
       "      <td>0.4450</td>\n",
       "      <td>0.0008</td>\n",
       "      <td>0.4750</td>\n",
       "      <td>0.0003</td>\n",
       "      <td>0.4550</td>\n",
       "      <td>0.0002</td>\n",
       "      <td>0.4050</td>\n",
       "      <td>0.0002</td>\n",
       "      <td>0.4650</td>\n",
       "      <td>0.0002</td>\n",
       "      <td>0.3050</td>\n",
       "      <td>0.0002</td>\n",
       "      <td>0.4850</td>\n",
       "      <td>0.0002</td>\n",
       "      <td>-0.0055</td>\n",
       "      <td>0.0055</td>\n",
       "      <td>0.0012</td>\n",
       "      <td>0.0012</td>\n",
       "      <td>-0.0066</td>\n",
       "      <td>0.0066</td>\n",
       "      <td>0.4298</td>\n",
       "      <td>0.4296</td>\n",
       "      <td>0.0000</td>\n",
       "      <td>0.0171</td>\n",
       "      <td>0.2332</td>\n",
       "      <td>0.0078</td>\n",
       "      <td>0.9970</td>\n",
       "      <td>0.6821</td>\n",
       "      <td>0.3070</td>\n",
       "      <td>0.0018</td>\n",
       "      <td>0.5436</td>\n",
       "      <td>0.3246</td>\n",
       "      <td>0.0003</td>\n",
       "      <td>0.5028</td>\n",
       "      <td>-0.0002</td>\n",
       "      <td>0.0002</td>\n",
       "      <td>0</td>\n",
       "      <td>001308991e0c5e</td>\n",
       "      <td>1ff43b24</td>\n",
       "      <td>001308991e0c5e\\t1ff43b24</td>\n",
       "      <td>22</td>\n",
       "      <td>56</td>\n",
       "      <td>95</td>\n",
       "      <td>c5fbea8e</td>\n",
       "      <td>0.4298</td>\n",
       "      <td>0</td>\n",
       "      <td>42</td>\n",
       "      <td>0.4276</td>\n",
       "    </tr>\n",
       "    <tr>\n",
       "      <th>57</th>\n",
       "      <td>0.5895</td>\n",
       "      <td>0.0047</td>\n",
       "      <td>0.0047</td>\n",
       "      <td>0.0026</td>\n",
       "      <td>0.0026</td>\n",
       "      <td>0.0013</td>\n",
       "      <td>0.0013</td>\n",
       "      <td>0.0020</td>\n",
       "      <td>0.0020</td>\n",
       "      <td>-0.0001</td>\n",
       "      <td>0.0001</td>\n",
       "      <td>-0.0013</td>\n",
       "      <td>0.0013</td>\n",
       "      <td>0.0047</td>\n",
       "      <td>0.0047</td>\n",
       "      <td>0.0026</td>\n",
       "      <td>0.0026</td>\n",
       "      <td>0.0013</td>\n",
       "      <td>0.0013</td>\n",
       "      <td>-0.0003</td>\n",
       "      <td>0.0003</td>\n",
       "      <td>-0.0024</td>\n",
       "      <td>0.0024</td>\n",
       "      <td>-0.0037</td>\n",
       "      <td>0.0037</td>\n",
       "      <td>0.0263</td>\n",
       "      <td>0.0237</td>\n",
       "      <td>0.0000</td>\n",
       "      <td>0.0105</td>\n",
       "      <td>0.3833</td>\n",
       "      <td>0.0073</td>\n",
       "      <td>0.7531</td>\n",
       "      <td>0.7924</td>\n",
       "      <td>0.0088</td>\n",
       "      <td>0.2180</td>\n",
       "      <td>0.7652</td>\n",
       "      <td>0.0439</td>\n",
       "      <td>0.0274</td>\n",
       "      <td>0.7197</td>\n",
       "      <td>0.9912</td>\n",
       "      <td>0.0005</td>\n",
       "      <td>0.6315</td>\n",
       "      <td>0.0614</td>\n",
       "      <td>0.0002</td>\n",
       "      <td>0.6155</td>\n",
       "      <td>0.3070</td>\n",
       "      <td>0.0001</td>\n",
       "      <td>0.6044</td>\n",
       "      <td>0.1491</td>\n",
       "      <td>0.0001</td>\n",
       "      <td>0.6040</td>\n",
       "      <td>0.0965</td>\n",
       "      <td>0.0001</td>\n",
       "      <td>0.5861</td>\n",
       "      <td>0.1316</td>\n",
       "      <td>0.0001</td>\n",
       "      <td>0.5839</td>\n",
       "      <td>0.2544</td>\n",
       "      <td>0.0001</td>\n",
       "      <td>0.5838</td>\n",
       "      <td>-0.0027</td>\n",
       "      <td>0.0027</td>\n",
       "      <td>0.0237</td>\n",
       "      <td>0.0216</td>\n",
       "      <td>0.0250</td>\n",
       "      <td>0</td>\n",
       "      <td>0</td>\n",
       "      <td>0.0000</td>\n",
       "      <td>0.0060</td>\n",
       "      <td>0.7666</td>\n",
       "      <td>0.0150</td>\n",
       "      <td>0.0998</td>\n",
       "      <td>0.0050</td>\n",
       "      <td>0.0777</td>\n",
       "      <td>0.0350</td>\n",
       "      <td>0.0394</td>\n",
       "      <td>0.0450</td>\n",
       "      <td>0.0123</td>\n",
       "      <td>0.0550</td>\n",
       "      <td>0.0006</td>\n",
       "      <td>0.9950</td>\n",
       "      <td>0.0005</td>\n",
       "      <td>0.0650</td>\n",
       "      <td>0.0005</td>\n",
       "      <td>0.0950</td>\n",
       "      <td>0.0003</td>\n",
       "      <td>0.0750</td>\n",
       "      <td>0.0002</td>\n",
       "      <td>0.0021</td>\n",
       "      <td>0.0021</td>\n",
       "      <td>-0.0013</td>\n",
       "      <td>0.0013</td>\n",
       "      <td>0.0034</td>\n",
       "      <td>0.0034</td>\n",
       "      <td>0.0263</td>\n",
       "      <td>0.0213</td>\n",
       "      <td>0.0000</td>\n",
       "      <td>0.0085</td>\n",
       "      <td>0.3833</td>\n",
       "      <td>0.0073</td>\n",
       "      <td>0.6153</td>\n",
       "      <td>0.7924</td>\n",
       "      <td>0.0088</td>\n",
       "      <td>0.3540</td>\n",
       "      <td>0.7652</td>\n",
       "      <td>0.0439</td>\n",
       "      <td>0.0293</td>\n",
       "      <td>0.7197</td>\n",
       "      <td>-0.0050</td>\n",
       "      <td>0.0050</td>\n",
       "      <td>1</td>\n",
       "      <td>001308991e0c5e</td>\n",
       "      <td>21147235</td>\n",
       "      <td>001308991e0c5e\\t21147235</td>\n",
       "      <td>22</td>\n",
       "      <td>56</td>\n",
       "      <td>95</td>\n",
       "      <td>c5fbea8e</td>\n",
       "      <td>0.0088</td>\n",
       "      <td>0</td>\n",
       "      <td>0</td>\n",
       "      <td>0.0251</td>\n",
       "    </tr>\n",
       "    <tr>\n",
       "      <th>58</th>\n",
       "      <td>0.5895</td>\n",
       "      <td>0.0032</td>\n",
       "      <td>0.0032</td>\n",
       "      <td>0.0019</td>\n",
       "      <td>0.0019</td>\n",
       "      <td>0.0003</td>\n",
       "      <td>0.0003</td>\n",
       "      <td>0.0032</td>\n",
       "      <td>0.0032</td>\n",
       "      <td>0.0019</td>\n",
       "      <td>0.0019</td>\n",
       "      <td>0.0003</td>\n",
       "      <td>0.0003</td>\n",
       "      <td>0.0032</td>\n",
       "      <td>0.0032</td>\n",
       "      <td>0.0019</td>\n",
       "      <td>0.0019</td>\n",
       "      <td>0.0003</td>\n",
       "      <td>0.0003</td>\n",
       "      <td>0.0032</td>\n",
       "      <td>0.0032</td>\n",
       "      <td>0.0019</td>\n",
       "      <td>0.0019</td>\n",
       "      <td>0.0003</td>\n",
       "      <td>0.0003</td>\n",
       "      <td>0.6053</td>\n",
       "      <td>0.6053</td>\n",
       "      <td>0.0000</td>\n",
       "      <td>0.0132</td>\n",
       "      <td>0.3717</td>\n",
       "      <td>0.0061</td>\n",
       "      <td>0.8754</td>\n",
       "      <td>0.7375</td>\n",
       "      <td>0.5351</td>\n",
       "      <td>0.0457</td>\n",
       "      <td>0.6726</td>\n",
       "      <td>0.5702</td>\n",
       "      <td>0.0289</td>\n",
       "      <td>0.6626</td>\n",
       "      <td>0.6228</td>\n",
       "      <td>0.0135</td>\n",
       "      <td>0.6459</td>\n",
       "      <td>0.5526</td>\n",
       "      <td>0.0096</td>\n",
       "      <td>0.6385</td>\n",
       "      <td>0.8684</td>\n",
       "      <td>0.0077</td>\n",
       "      <td>0.6335</td>\n",
       "      <td>0.7632</td>\n",
       "      <td>0.0035</td>\n",
       "      <td>0.6159</td>\n",
       "      <td>0.8860</td>\n",
       "      <td>0.0032</td>\n",
       "      <td>0.6142</td>\n",
       "      <td>0.6579</td>\n",
       "      <td>0.0030</td>\n",
       "      <td>0.6127</td>\n",
       "      <td>0.8333</td>\n",
       "      <td>0.0024</td>\n",
       "      <td>0.6083</td>\n",
       "      <td>-0.0000</td>\n",
       "      <td>0.0000</td>\n",
       "      <td>0.6034</td>\n",
       "      <td>0.6021</td>\n",
       "      <td>0.6050</td>\n",
       "      <td>1</td>\n",
       "      <td>2</td>\n",
       "      <td>0.0000</td>\n",
       "      <td>0.0094</td>\n",
       "      <td>0.9771</td>\n",
       "      <td>0.5350</td>\n",
       "      <td>0.0068</td>\n",
       "      <td>0.5850</td>\n",
       "      <td>0.0036</td>\n",
       "      <td>0.6150</td>\n",
       "      <td>0.0021</td>\n",
       "      <td>0.5950</td>\n",
       "      <td>0.0013</td>\n",
       "      <td>0.5550</td>\n",
       "      <td>0.0011</td>\n",
       "      <td>0.5050</td>\n",
       "      <td>0.0009</td>\n",
       "      <td>0.4650</td>\n",
       "      <td>0.0006</td>\n",
       "      <td>0.6250</td>\n",
       "      <td>0.0006</td>\n",
       "      <td>0.5750</td>\n",
       "      <td>0.0005</td>\n",
       "      <td>0.0013</td>\n",
       "      <td>0.0013</td>\n",
       "      <td>-0.0016</td>\n",
       "      <td>0.0016</td>\n",
       "      <td>0.0029</td>\n",
       "      <td>0.0029</td>\n",
       "      <td>0.6053</td>\n",
       "      <td>0.6053</td>\n",
       "      <td>0.0000</td>\n",
       "      <td>0.0132</td>\n",
       "      <td>0.3717</td>\n",
       "      <td>0.0061</td>\n",
       "      <td>0.8754</td>\n",
       "      <td>0.7375</td>\n",
       "      <td>0.5351</td>\n",
       "      <td>0.0457</td>\n",
       "      <td>0.6726</td>\n",
       "      <td>0.5702</td>\n",
       "      <td>0.0289</td>\n",
       "      <td>0.6626</td>\n",
       "      <td>-0.0000</td>\n",
       "      <td>0.0000</td>\n",
       "      <td>0</td>\n",
       "      <td>001308991e0c5e</td>\n",
       "      <td>23e35b11</td>\n",
       "      <td>001308991e0c5e\\t23e35b11</td>\n",
       "      <td>22</td>\n",
       "      <td>56</td>\n",
       "      <td>95</td>\n",
       "      <td>c5fbea8e</td>\n",
       "      <td>0.6082</td>\n",
       "      <td>0</td>\n",
       "      <td>60</td>\n",
       "      <td>0.6036</td>\n",
       "    </tr>\n",
       "    <tr>\n",
       "      <th>...</th>\n",
       "      <td>...</td>\n",
       "      <td>...</td>\n",
       "      <td>...</td>\n",
       "      <td>...</td>\n",
       "      <td>...</td>\n",
       "      <td>...</td>\n",
       "      <td>...</td>\n",
       "      <td>...</td>\n",
       "      <td>...</td>\n",
       "      <td>...</td>\n",
       "      <td>...</td>\n",
       "      <td>...</td>\n",
       "      <td>...</td>\n",
       "      <td>...</td>\n",
       "      <td>...</td>\n",
       "      <td>...</td>\n",
       "      <td>...</td>\n",
       "      <td>...</td>\n",
       "      <td>...</td>\n",
       "      <td>...</td>\n",
       "      <td>...</td>\n",
       "      <td>...</td>\n",
       "      <td>...</td>\n",
       "      <td>...</td>\n",
       "      <td>...</td>\n",
       "      <td>...</td>\n",
       "      <td>...</td>\n",
       "      <td>...</td>\n",
       "      <td>...</td>\n",
       "      <td>...</td>\n",
       "      <td>...</td>\n",
       "      <td>...</td>\n",
       "      <td>...</td>\n",
       "      <td>...</td>\n",
       "      <td>...</td>\n",
       "      <td>...</td>\n",
       "      <td>...</td>\n",
       "      <td>...</td>\n",
       "      <td>...</td>\n",
       "      <td>...</td>\n",
       "      <td>...</td>\n",
       "      <td>...</td>\n",
       "      <td>...</td>\n",
       "      <td>...</td>\n",
       "      <td>...</td>\n",
       "      <td>...</td>\n",
       "      <td>...</td>\n",
       "      <td>...</td>\n",
       "      <td>...</td>\n",
       "      <td>...</td>\n",
       "      <td>...</td>\n",
       "      <td>...</td>\n",
       "      <td>...</td>\n",
       "      <td>...</td>\n",
       "      <td>...</td>\n",
       "      <td>...</td>\n",
       "      <td>...</td>\n",
       "      <td>...</td>\n",
       "      <td>...</td>\n",
       "      <td>...</td>\n",
       "      <td>...</td>\n",
       "      <td>...</td>\n",
       "      <td>...</td>\n",
       "      <td>...</td>\n",
       "      <td>...</td>\n",
       "      <td>...</td>\n",
       "      <td>...</td>\n",
       "      <td>...</td>\n",
       "      <td>...</td>\n",
       "      <td>...</td>\n",
       "      <td>...</td>\n",
       "      <td>...</td>\n",
       "      <td>...</td>\n",
       "      <td>...</td>\n",
       "      <td>...</td>\n",
       "      <td>...</td>\n",
       "      <td>...</td>\n",
       "      <td>...</td>\n",
       "      <td>...</td>\n",
       "      <td>...</td>\n",
       "      <td>...</td>\n",
       "      <td>...</td>\n",
       "      <td>...</td>\n",
       "      <td>...</td>\n",
       "      <td>...</td>\n",
       "      <td>...</td>\n",
       "      <td>...</td>\n",
       "      <td>...</td>\n",
       "      <td>...</td>\n",
       "      <td>...</td>\n",
       "      <td>...</td>\n",
       "      <td>...</td>\n",
       "      <td>...</td>\n",
       "      <td>...</td>\n",
       "      <td>...</td>\n",
       "      <td>...</td>\n",
       "      <td>...</td>\n",
       "      <td>...</td>\n",
       "      <td>...</td>\n",
       "      <td>...</td>\n",
       "      <td>...</td>\n",
       "      <td>...</td>\n",
       "      <td>...</td>\n",
       "      <td>...</td>\n",
       "      <td>...</td>\n",
       "      <td>...</td>\n",
       "      <td>...</td>\n",
       "      <td>...</td>\n",
       "      <td>...</td>\n",
       "      <td>...</td>\n",
       "      <td>...</td>\n",
       "      <td>...</td>\n",
       "      <td>...</td>\n",
       "      <td>...</td>\n",
       "      <td>...</td>\n",
       "      <td>...</td>\n",
       "      <td>...</td>\n",
       "      <td>...</td>\n",
       "      <td>...</td>\n",
       "      <td>...</td>\n",
       "      <td>...</td>\n",
       "      <td>...</td>\n",
       "    </tr>\n",
       "    <tr>\n",
       "      <th>424927</th>\n",
       "      <td>0.8065</td>\n",
       "      <td>0.0039</td>\n",
       "      <td>0.0039</td>\n",
       "      <td>-0.0060</td>\n",
       "      <td>0.0060</td>\n",
       "      <td>-0.0050</td>\n",
       "      <td>0.0050</td>\n",
       "      <td>0.0076</td>\n",
       "      <td>0.0076</td>\n",
       "      <td>-0.0024</td>\n",
       "      <td>0.0024</td>\n",
       "      <td>-0.0013</td>\n",
       "      <td>0.0013</td>\n",
       "      <td>0.0039</td>\n",
       "      <td>0.0039</td>\n",
       "      <td>-0.0060</td>\n",
       "      <td>0.0060</td>\n",
       "      <td>-0.0050</td>\n",
       "      <td>0.0050</td>\n",
       "      <td>0.0076</td>\n",
       "      <td>0.0076</td>\n",
       "      <td>-0.0024</td>\n",
       "      <td>0.0024</td>\n",
       "      <td>-0.0013</td>\n",
       "      <td>0.0013</td>\n",
       "      <td>0.2500</td>\n",
       "      <td>0.2537</td>\n",
       "      <td>0.0000</td>\n",
       "      <td>0.0309</td>\n",
       "      <td>0.2765</td>\n",
       "      <td>0.0114</td>\n",
       "      <td>0.9147</td>\n",
       "      <td>0.7264</td>\n",
       "      <td>0.2885</td>\n",
       "      <td>0.0737</td>\n",
       "      <td>0.6711</td>\n",
       "      <td>0.3269</td>\n",
       "      <td>0.0110</td>\n",
       "      <td>0.6293</td>\n",
       "      <td>0.2115</td>\n",
       "      <td>0.0004</td>\n",
       "      <td>0.5558</td>\n",
       "      <td>0.1731</td>\n",
       "      <td>0.0001</td>\n",
       "      <td>0.5176</td>\n",
       "      <td>0.5192</td>\n",
       "      <td>0.0000</td>\n",
       "      <td>0.5105</td>\n",
       "      <td>0.4038</td>\n",
       "      <td>0.0000</td>\n",
       "      <td>0.5073</td>\n",
       "      <td>0.3654</td>\n",
       "      <td>0.0000</td>\n",
       "      <td>0.4928</td>\n",
       "      <td>0.5577</td>\n",
       "      <td>0.0000</td>\n",
       "      <td>0.4617</td>\n",
       "      <td>0.4808</td>\n",
       "      <td>0.0000</td>\n",
       "      <td>0.4566</td>\n",
       "      <td>0.0037</td>\n",
       "      <td>0.0037</td>\n",
       "      <td>0.2560</td>\n",
       "      <td>0.2461</td>\n",
       "      <td>0.2550</td>\n",
       "      <td>0</td>\n",
       "      <td>0</td>\n",
       "      <td>0.0000</td>\n",
       "      <td>0.0096</td>\n",
       "      <td>0.9844</td>\n",
       "      <td>0.2850</td>\n",
       "      <td>0.0073</td>\n",
       "      <td>0.3250</td>\n",
       "      <td>0.0040</td>\n",
       "      <td>0.2150</td>\n",
       "      <td>0.0013</td>\n",
       "      <td>0.3650</td>\n",
       "      <td>0.0013</td>\n",
       "      <td>0.1750</td>\n",
       "      <td>0.0005</td>\n",
       "      <td>0.4050</td>\n",
       "      <td>0.0005</td>\n",
       "      <td>0.1350</td>\n",
       "      <td>0.0003</td>\n",
       "      <td>0.4450</td>\n",
       "      <td>0.0003</td>\n",
       "      <td>0.2450</td>\n",
       "      <td>0.0002</td>\n",
       "      <td>0.0100</td>\n",
       "      <td>0.0100</td>\n",
       "      <td>0.0010</td>\n",
       "      <td>0.0010</td>\n",
       "      <td>0.0089</td>\n",
       "      <td>0.0089</td>\n",
       "      <td>0.2500</td>\n",
       "      <td>0.2537</td>\n",
       "      <td>0.0000</td>\n",
       "      <td>0.0309</td>\n",
       "      <td>0.2765</td>\n",
       "      <td>0.0114</td>\n",
       "      <td>0.9147</td>\n",
       "      <td>0.7264</td>\n",
       "      <td>0.2885</td>\n",
       "      <td>0.0737</td>\n",
       "      <td>0.6711</td>\n",
       "      <td>0.3269</td>\n",
       "      <td>0.0110</td>\n",
       "      <td>0.6293</td>\n",
       "      <td>0.0037</td>\n",
       "      <td>0.0037</td>\n",
       "      <td>0</td>\n",
       "      <td>fff36689a0fe5f</td>\n",
       "      <td>47b61063</td>\n",
       "      <td>fff36689a0fe5f\\t47b61063</td>\n",
       "      <td>4</td>\n",
       "      <td>25</td>\n",
       "      <td>31</td>\n",
       "      <td>c30fd19d</td>\n",
       "      <td>0.2500</td>\n",
       "      <td>0</td>\n",
       "      <td>25</td>\n",
       "      <td>0.2508</td>\n",
       "    </tr>\n",
       "    <tr>\n",
       "      <th>424928</th>\n",
       "      <td>0.8065</td>\n",
       "      <td>-0.0019</td>\n",
       "      <td>0.0019</td>\n",
       "      <td>-0.0028</td>\n",
       "      <td>0.0028</td>\n",
       "      <td>-0.0012</td>\n",
       "      <td>0.0012</td>\n",
       "      <td>-0.0103</td>\n",
       "      <td>0.0103</td>\n",
       "      <td>-0.0111</td>\n",
       "      <td>0.0111</td>\n",
       "      <td>-0.0095</td>\n",
       "      <td>0.0095</td>\n",
       "      <td>-0.0019</td>\n",
       "      <td>0.0019</td>\n",
       "      <td>-0.0028</td>\n",
       "      <td>0.0028</td>\n",
       "      <td>-0.0012</td>\n",
       "      <td>0.0012</td>\n",
       "      <td>-0.0045</td>\n",
       "      <td>0.0045</td>\n",
       "      <td>-0.0054</td>\n",
       "      <td>0.0054</td>\n",
       "      <td>-0.0038</td>\n",
       "      <td>0.0038</td>\n",
       "      <td>0.4038</td>\n",
       "      <td>0.3955</td>\n",
       "      <td>0.0000</td>\n",
       "      <td>0.0181</td>\n",
       "      <td>0.3116</td>\n",
       "      <td>0.0060</td>\n",
       "      <td>0.6968</td>\n",
       "      <td>0.6093</td>\n",
       "      <td>0.4808</td>\n",
       "      <td>0.1075</td>\n",
       "      <td>0.5683</td>\n",
       "      <td>0.2115</td>\n",
       "      <td>0.0772</td>\n",
       "      <td>0.5610</td>\n",
       "      <td>0.3654</td>\n",
       "      <td>0.0570</td>\n",
       "      <td>0.5543</td>\n",
       "      <td>0.4423</td>\n",
       "      <td>0.0482</td>\n",
       "      <td>0.5507</td>\n",
       "      <td>0.2500</td>\n",
       "      <td>0.0053</td>\n",
       "      <td>0.5021</td>\n",
       "      <td>0.1731</td>\n",
       "      <td>0.0024</td>\n",
       "      <td>0.4845</td>\n",
       "      <td>0.2885</td>\n",
       "      <td>0.0020</td>\n",
       "      <td>0.4806</td>\n",
       "      <td>0.5192</td>\n",
       "      <td>0.0018</td>\n",
       "      <td>0.4781</td>\n",
       "      <td>0.3269</td>\n",
       "      <td>0.0010</td>\n",
       "      <td>0.4649</td>\n",
       "      <td>-0.0084</td>\n",
       "      <td>0.0084</td>\n",
       "      <td>0.4066</td>\n",
       "      <td>0.4058</td>\n",
       "      <td>0.4050</td>\n",
       "      <td>2</td>\n",
       "      <td>2</td>\n",
       "      <td>0.0000</td>\n",
       "      <td>0.0094</td>\n",
       "      <td>0.9771</td>\n",
       "      <td>0.4450</td>\n",
       "      <td>0.0167</td>\n",
       "      <td>0.3650</td>\n",
       "      <td>0.0030</td>\n",
       "      <td>0.4850</td>\n",
       "      <td>0.0023</td>\n",
       "      <td>0.4150</td>\n",
       "      <td>0.0006</td>\n",
       "      <td>0.3250</td>\n",
       "      <td>0.0005</td>\n",
       "      <td>0.2550</td>\n",
       "      <td>0.0004</td>\n",
       "      <td>0.3950</td>\n",
       "      <td>0.0003</td>\n",
       "      <td>0.5150</td>\n",
       "      <td>0.0002</td>\n",
       "      <td>0.2850</td>\n",
       "      <td>0.0002</td>\n",
       "      <td>0.0008</td>\n",
       "      <td>0.0008</td>\n",
       "      <td>0.0016</td>\n",
       "      <td>0.0016</td>\n",
       "      <td>-0.0008</td>\n",
       "      <td>0.0008</td>\n",
       "      <td>0.4038</td>\n",
       "      <td>0.4012</td>\n",
       "      <td>0.0000</td>\n",
       "      <td>0.0255</td>\n",
       "      <td>0.3116</td>\n",
       "      <td>0.0060</td>\n",
       "      <td>0.8338</td>\n",
       "      <td>0.6093</td>\n",
       "      <td>0.3654</td>\n",
       "      <td>0.0570</td>\n",
       "      <td>0.5543</td>\n",
       "      <td>0.4423</td>\n",
       "      <td>0.0482</td>\n",
       "      <td>0.5507</td>\n",
       "      <td>-0.0026</td>\n",
       "      <td>0.0026</td>\n",
       "      <td>1</td>\n",
       "      <td>fff36689a0fe5f</td>\n",
       "      <td>87c8490d</td>\n",
       "      <td>fff36689a0fe5f\\t87c8490d</td>\n",
       "      <td>4</td>\n",
       "      <td>25</td>\n",
       "      <td>31</td>\n",
       "      <td>c30fd19d</td>\n",
       "      <td>0.4038</td>\n",
       "      <td>0</td>\n",
       "      <td>40</td>\n",
       "      <td>0.4054</td>\n",
       "    </tr>\n",
       "    <tr>\n",
       "      <th>424929</th>\n",
       "      <td>0.8065</td>\n",
       "      <td>0.0362</td>\n",
       "      <td>0.0362</td>\n",
       "      <td>0.0402</td>\n",
       "      <td>0.0402</td>\n",
       "      <td>0.0365</td>\n",
       "      <td>0.0365</td>\n",
       "      <td>0.0297</td>\n",
       "      <td>0.0297</td>\n",
       "      <td>0.0337</td>\n",
       "      <td>0.0337</td>\n",
       "      <td>0.0300</td>\n",
       "      <td>0.0300</td>\n",
       "      <td>-0.0022</td>\n",
       "      <td>0.0022</td>\n",
       "      <td>0.0018</td>\n",
       "      <td>0.0018</td>\n",
       "      <td>-0.0019</td>\n",
       "      <td>0.0019</td>\n",
       "      <td>0.0098</td>\n",
       "      <td>0.0098</td>\n",
       "      <td>0.0138</td>\n",
       "      <td>0.0138</td>\n",
       "      <td>0.0101</td>\n",
       "      <td>0.0101</td>\n",
       "      <td>0.2115</td>\n",
       "      <td>0.2050</td>\n",
       "      <td>0.0000</td>\n",
       "      <td>0.0227</td>\n",
       "      <td>0.3505</td>\n",
       "      <td>0.0086</td>\n",
       "      <td>0.7615</td>\n",
       "      <td>0.7160</td>\n",
       "      <td>0.1731</td>\n",
       "      <td>0.2224</td>\n",
       "      <td>0.6890</td>\n",
       "      <td>0.2885</td>\n",
       "      <td>0.0092</td>\n",
       "      <td>0.6189</td>\n",
       "      <td>0.5192</td>\n",
       "      <td>0.0027</td>\n",
       "      <td>0.5918</td>\n",
       "      <td>0.3269</td>\n",
       "      <td>0.0015</td>\n",
       "      <td>0.5787</td>\n",
       "      <td>0.2500</td>\n",
       "      <td>0.0011</td>\n",
       "      <td>0.5723</td>\n",
       "      <td>0.4038</td>\n",
       "      <td>0.0009</td>\n",
       "      <td>0.5677</td>\n",
       "      <td>0.1346</td>\n",
       "      <td>0.0004</td>\n",
       "      <td>0.5476</td>\n",
       "      <td>0.5577</td>\n",
       "      <td>0.0001</td>\n",
       "      <td>0.5280</td>\n",
       "      <td>0.4808</td>\n",
       "      <td>0.0001</td>\n",
       "      <td>0.5278</td>\n",
       "      <td>-0.0066</td>\n",
       "      <td>0.0066</td>\n",
       "      <td>0.1713</td>\n",
       "      <td>0.1753</td>\n",
       "      <td>0.1750</td>\n",
       "      <td>1</td>\n",
       "      <td>1</td>\n",
       "      <td>0.0000</td>\n",
       "      <td>0.0060</td>\n",
       "      <td>0.7666</td>\n",
       "      <td>0.1350</td>\n",
       "      <td>0.1396</td>\n",
       "      <td>0.2150</td>\n",
       "      <td>0.0386</td>\n",
       "      <td>0.0950</td>\n",
       "      <td>0.0077</td>\n",
       "      <td>0.0550</td>\n",
       "      <td>0.0071</td>\n",
       "      <td>0.2550</td>\n",
       "      <td>0.0070</td>\n",
       "      <td>0.2050</td>\n",
       "      <td>0.0056</td>\n",
       "      <td>0.1650</td>\n",
       "      <td>0.0051</td>\n",
       "      <td>0.1450</td>\n",
       "      <td>0.0035</td>\n",
       "      <td>0.2850</td>\n",
       "      <td>0.0026</td>\n",
       "      <td>-0.0040</td>\n",
       "      <td>0.0040</td>\n",
       "      <td>-0.0037</td>\n",
       "      <td>0.0037</td>\n",
       "      <td>-0.0003</td>\n",
       "      <td>0.0003</td>\n",
       "      <td>0.1731</td>\n",
       "      <td>0.1851</td>\n",
       "      <td>0.0000</td>\n",
       "      <td>0.0220</td>\n",
       "      <td>0.3505</td>\n",
       "      <td>0.0086</td>\n",
       "      <td>0.7472</td>\n",
       "      <td>0.6890</td>\n",
       "      <td>0.2115</td>\n",
       "      <td>0.2302</td>\n",
       "      <td>0.7160</td>\n",
       "      <td>0.2885</td>\n",
       "      <td>0.0151</td>\n",
       "      <td>0.6189</td>\n",
       "      <td>0.0121</td>\n",
       "      <td>0.0121</td>\n",
       "      <td>1</td>\n",
       "      <td>fff36689a0fe5f</td>\n",
       "      <td>95cb1c55</td>\n",
       "      <td>fff36689a0fe5f\\t95cb1c55</td>\n",
       "      <td>4</td>\n",
       "      <td>25</td>\n",
       "      <td>31</td>\n",
       "      <td>c30fd19d</td>\n",
       "      <td>0.1731</td>\n",
       "      <td>0</td>\n",
       "      <td>17</td>\n",
       "      <td>0.1768</td>\n",
       "    </tr>\n",
       "    <tr>\n",
       "      <th>424930</th>\n",
       "      <td>0.8065</td>\n",
       "      <td>0.0031</td>\n",
       "      <td>0.0031</td>\n",
       "      <td>-0.0008</td>\n",
       "      <td>0.0008</td>\n",
       "      <td>0.0004</td>\n",
       "      <td>0.0004</td>\n",
       "      <td>0.0102</td>\n",
       "      <td>0.0102</td>\n",
       "      <td>0.0064</td>\n",
       "      <td>0.0064</td>\n",
       "      <td>0.0075</td>\n",
       "      <td>0.0075</td>\n",
       "      <td>0.0031</td>\n",
       "      <td>0.0031</td>\n",
       "      <td>-0.0008</td>\n",
       "      <td>0.0008</td>\n",
       "      <td>0.0004</td>\n",
       "      <td>0.0004</td>\n",
       "      <td>0.0102</td>\n",
       "      <td>0.0102</td>\n",
       "      <td>0.0064</td>\n",
       "      <td>0.0064</td>\n",
       "      <td>0.0075</td>\n",
       "      <td>0.0075</td>\n",
       "      <td>0.3654</td>\n",
       "      <td>0.3725</td>\n",
       "      <td>0.0000</td>\n",
       "      <td>0.0314</td>\n",
       "      <td>0.3574</td>\n",
       "      <td>0.0059</td>\n",
       "      <td>0.9218</td>\n",
       "      <td>0.6925</td>\n",
       "      <td>0.4808</td>\n",
       "      <td>0.0618</td>\n",
       "      <td>0.6332</td>\n",
       "      <td>0.4038</td>\n",
       "      <td>0.0127</td>\n",
       "      <td>0.5984</td>\n",
       "      <td>0.2115</td>\n",
       "      <td>0.0021</td>\n",
       "      <td>0.5589</td>\n",
       "      <td>0.1731</td>\n",
       "      <td>0.0002</td>\n",
       "      <td>0.5122</td>\n",
       "      <td>0.2885</td>\n",
       "      <td>0.0002</td>\n",
       "      <td>0.5097</td>\n",
       "      <td>0.5192</td>\n",
       "      <td>0.0002</td>\n",
       "      <td>0.5087</td>\n",
       "      <td>0.0192</td>\n",
       "      <td>0.0002</td>\n",
       "      <td>0.5075</td>\n",
       "      <td>0.2500</td>\n",
       "      <td>0.0002</td>\n",
       "      <td>0.5057</td>\n",
       "      <td>0.0577</td>\n",
       "      <td>0.0002</td>\n",
       "      <td>0.5016</td>\n",
       "      <td>0.0071</td>\n",
       "      <td>0.0071</td>\n",
       "      <td>0.3661</td>\n",
       "      <td>0.3623</td>\n",
       "      <td>0.3650</td>\n",
       "      <td>2</td>\n",
       "      <td>1</td>\n",
       "      <td>0.0000</td>\n",
       "      <td>0.0099</td>\n",
       "      <td>1.0000</td>\n",
       "      <td>0.4050</td>\n",
       "      <td>0.0013</td>\n",
       "      <td>0.4450</td>\n",
       "      <td>0.0005</td>\n",
       "      <td>0.3750</td>\n",
       "      <td>0.0002</td>\n",
       "      <td>0.5150</td>\n",
       "      <td>0.0001</td>\n",
       "      <td>0.3250</td>\n",
       "      <td>0.0001</td>\n",
       "      <td>0.4850</td>\n",
       "      <td>0.0001</td>\n",
       "      <td>0.2850</td>\n",
       "      <td>0.0001</td>\n",
       "      <td>0.6350</td>\n",
       "      <td>0.0001</td>\n",
       "      <td>0.5950</td>\n",
       "      <td>0.0001</td>\n",
       "      <td>0.0038</td>\n",
       "      <td>0.0038</td>\n",
       "      <td>0.0011</td>\n",
       "      <td>0.0011</td>\n",
       "      <td>0.0027</td>\n",
       "      <td>0.0027</td>\n",
       "      <td>0.3654</td>\n",
       "      <td>0.3725</td>\n",
       "      <td>0.0000</td>\n",
       "      <td>0.0314</td>\n",
       "      <td>0.3574</td>\n",
       "      <td>0.0059</td>\n",
       "      <td>0.9218</td>\n",
       "      <td>0.6925</td>\n",
       "      <td>0.4808</td>\n",
       "      <td>0.0618</td>\n",
       "      <td>0.6332</td>\n",
       "      <td>0.4038</td>\n",
       "      <td>0.0127</td>\n",
       "      <td>0.5984</td>\n",
       "      <td>0.0071</td>\n",
       "      <td>0.0071</td>\n",
       "      <td>0</td>\n",
       "      <td>fff36689a0fe5f</td>\n",
       "      <td>b1924f1f</td>\n",
       "      <td>fff36689a0fe5f\\tb1924f1f</td>\n",
       "      <td>4</td>\n",
       "      <td>25</td>\n",
       "      <td>31</td>\n",
       "      <td>c30fd19d</td>\n",
       "      <td>0.3654</td>\n",
       "      <td>0</td>\n",
       "      <td>36</td>\n",
       "      <td>0.3642</td>\n",
       "    </tr>\n",
       "    <tr>\n",
       "      <th>424931</th>\n",
       "      <td>0.8065</td>\n",
       "      <td>-0.0003</td>\n",
       "      <td>0.0003</td>\n",
       "      <td>0.0048</td>\n",
       "      <td>0.0048</td>\n",
       "      <td>0.0042</td>\n",
       "      <td>0.0042</td>\n",
       "      <td>-0.0005</td>\n",
       "      <td>0.0005</td>\n",
       "      <td>0.0046</td>\n",
       "      <td>0.0046</td>\n",
       "      <td>0.0040</td>\n",
       "      <td>0.0040</td>\n",
       "      <td>-0.0003</td>\n",
       "      <td>0.0003</td>\n",
       "      <td>0.0048</td>\n",
       "      <td>0.0048</td>\n",
       "      <td>0.0042</td>\n",
       "      <td>0.0042</td>\n",
       "      <td>-0.0005</td>\n",
       "      <td>0.0005</td>\n",
       "      <td>0.0046</td>\n",
       "      <td>0.0046</td>\n",
       "      <td>0.0040</td>\n",
       "      <td>0.0040</td>\n",
       "      <td>0.5192</td>\n",
       "      <td>0.5190</td>\n",
       "      <td>0.0000</td>\n",
       "      <td>0.0338</td>\n",
       "      <td>0.4194</td>\n",
       "      <td>0.0063</td>\n",
       "      <td>0.9568</td>\n",
       "      <td>0.7548</td>\n",
       "      <td>0.5577</td>\n",
       "      <td>0.0344</td>\n",
       "      <td>0.6818</td>\n",
       "      <td>0.3269</td>\n",
       "      <td>0.0074</td>\n",
       "      <td>0.6479</td>\n",
       "      <td>0.2500</td>\n",
       "      <td>0.0005</td>\n",
       "      <td>0.5900</td>\n",
       "      <td>0.5962</td>\n",
       "      <td>0.0004</td>\n",
       "      <td>0.5846</td>\n",
       "      <td>0.2885</td>\n",
       "      <td>0.0002</td>\n",
       "      <td>0.5708</td>\n",
       "      <td>0.4808</td>\n",
       "      <td>0.0001</td>\n",
       "      <td>0.5554</td>\n",
       "      <td>0.8654</td>\n",
       "      <td>0.0001</td>\n",
       "      <td>0.5440</td>\n",
       "      <td>0.4423</td>\n",
       "      <td>0.0000</td>\n",
       "      <td>0.5235</td>\n",
       "      <td>0.3654</td>\n",
       "      <td>0.0000</td>\n",
       "      <td>0.5178</td>\n",
       "      <td>-0.0002</td>\n",
       "      <td>0.0002</td>\n",
       "      <td>0.5144</td>\n",
       "      <td>0.5195</td>\n",
       "      <td>0.5150</td>\n",
       "      <td>1</td>\n",
       "      <td>2</td>\n",
       "      <td>0.0000</td>\n",
       "      <td>0.0093</td>\n",
       "      <td>0.9692</td>\n",
       "      <td>0.4850</td>\n",
       "      <td>0.0199</td>\n",
       "      <td>0.4050</td>\n",
       "      <td>0.0019</td>\n",
       "      <td>0.5250</td>\n",
       "      <td>0.0018</td>\n",
       "      <td>0.4450</td>\n",
       "      <td>0.0013</td>\n",
       "      <td>0.5550</td>\n",
       "      <td>0.0011</td>\n",
       "      <td>0.3650</td>\n",
       "      <td>0.0010</td>\n",
       "      <td>0.5950</td>\n",
       "      <td>0.0008</td>\n",
       "      <td>0.2850</td>\n",
       "      <td>0.0008</td>\n",
       "      <td>0.6750</td>\n",
       "      <td>0.0007</td>\n",
       "      <td>-0.0051</td>\n",
       "      <td>0.0051</td>\n",
       "      <td>-0.0006</td>\n",
       "      <td>0.0006</td>\n",
       "      <td>-0.0045</td>\n",
       "      <td>0.0045</td>\n",
       "      <td>0.5192</td>\n",
       "      <td>0.5190</td>\n",
       "      <td>0.0000</td>\n",
       "      <td>0.0338</td>\n",
       "      <td>0.4194</td>\n",
       "      <td>0.0063</td>\n",
       "      <td>0.9568</td>\n",
       "      <td>0.7548</td>\n",
       "      <td>0.5577</td>\n",
       "      <td>0.0344</td>\n",
       "      <td>0.6818</td>\n",
       "      <td>0.3269</td>\n",
       "      <td>0.0074</td>\n",
       "      <td>0.6479</td>\n",
       "      <td>-0.0002</td>\n",
       "      <td>0.0002</td>\n",
       "      <td>0</td>\n",
       "      <td>fff36689a0fe5f</td>\n",
       "      <td>fef98b7e</td>\n",
       "      <td>fff36689a0fe5f\\tfef98b7e</td>\n",
       "      <td>4</td>\n",
       "      <td>25</td>\n",
       "      <td>31</td>\n",
       "      <td>c30fd19d</td>\n",
       "      <td>0.5192</td>\n",
       "      <td>0</td>\n",
       "      <td>51</td>\n",
       "      <td>0.5187</td>\n",
       "    </tr>\n",
       "  </tbody>\n",
       "</table>\n",
       "<p>82532 rows × 122 columns</p>\n",
       "</div>"
      ],
      "text/plain": [
       "        code_ratio  pc_reg_diff  abs_pc_reg_diff  pc_cls_diff  \\\n",
       "54          0.5895      -0.0033           0.0033      -0.0015   \n",
       "55          0.5895      -0.0113           0.0113      -0.0116   \n",
       "56          0.5895      -0.0018           0.0018       0.0036   \n",
       "57          0.5895       0.0047           0.0047       0.0026   \n",
       "58          0.5895       0.0032           0.0032       0.0019   \n",
       "...            ...          ...              ...          ...   \n",
       "424927      0.8065       0.0039           0.0039      -0.0060   \n",
       "424928      0.8065      -0.0019           0.0019      -0.0028   \n",
       "424929      0.8065       0.0362           0.0362       0.0402   \n",
       "424930      0.8065       0.0031           0.0031      -0.0008   \n",
       "424931      0.8065      -0.0003           0.0003       0.0048   \n",
       "\n",
       "        abs_pc_cls_diff  pc_cls2_diff  abs_pc_cls2_diff  pc_cls_reg_diff  \\\n",
       "54               0.0015        0.0018            0.0018          -0.0010   \n",
       "55               0.0116       -0.0018            0.0018          -0.0091   \n",
       "56               0.0036        0.0048            0.0048          -0.0020   \n",
       "57               0.0026        0.0013            0.0013           0.0020   \n",
       "58               0.0019        0.0003            0.0003           0.0032   \n",
       "...                 ...           ...               ...              ...   \n",
       "424927           0.0060       -0.0050            0.0050           0.0076   \n",
       "424928           0.0028       -0.0012            0.0012          -0.0103   \n",
       "424929           0.0402        0.0365            0.0365           0.0297   \n",
       "424930           0.0008        0.0004            0.0004           0.0102   \n",
       "424931           0.0048        0.0042            0.0042          -0.0005   \n",
       "\n",
       "        abs_pc_cls_reg_diff  pc_cls_cls_diff  abs_pc_cls_cls_diff  \\\n",
       "54                   0.0010           0.0008               0.0008   \n",
       "55                   0.0091          -0.0094               0.0094   \n",
       "56                   0.0020           0.0034               0.0034   \n",
       "57                   0.0020          -0.0001               0.0001   \n",
       "58                   0.0032           0.0019               0.0019   \n",
       "...                     ...              ...                  ...   \n",
       "424927               0.0076          -0.0024               0.0024   \n",
       "424928               0.0103          -0.0111               0.0111   \n",
       "424929               0.0297           0.0337               0.0337   \n",
       "424930               0.0102           0.0064               0.0064   \n",
       "424931               0.0005           0.0046               0.0046   \n",
       "\n",
       "        pc_cls_cls2_diff  abs_pc_cls_cls2_diff  pcc_reg_diff  \\\n",
       "54                0.0041                0.0041       -0.0033   \n",
       "55                0.0003                0.0003       -0.0113   \n",
       "56                0.0046                0.0046       -0.0018   \n",
       "57               -0.0013                0.0013        0.0047   \n",
       "58                0.0003                0.0003        0.0032   \n",
       "...                  ...                   ...           ...   \n",
       "424927           -0.0013                0.0013        0.0039   \n",
       "424928           -0.0095                0.0095       -0.0019   \n",
       "424929            0.0300                0.0300       -0.0022   \n",
       "424930            0.0075                0.0075        0.0031   \n",
       "424931            0.0040                0.0040       -0.0003   \n",
       "\n",
       "        abs_pcc_reg_diff  pcc_cls_diff  abs_pcc_cls_diff  pcc_cls2_diff  \\\n",
       "54                0.0033       -0.0015            0.0015         0.0018   \n",
       "55                0.0113       -0.0116            0.0116        -0.0018   \n",
       "56                0.0018        0.0036            0.0036         0.0048   \n",
       "57                0.0047        0.0026            0.0026         0.0013   \n",
       "58                0.0032        0.0019            0.0019         0.0003   \n",
       "...                  ...           ...               ...            ...   \n",
       "424927            0.0039       -0.0060            0.0060        -0.0050   \n",
       "424928            0.0019       -0.0028            0.0028        -0.0012   \n",
       "424929            0.0022        0.0018            0.0018        -0.0019   \n",
       "424930            0.0031       -0.0008            0.0008         0.0004   \n",
       "424931            0.0003        0.0048            0.0048         0.0042   \n",
       "\n",
       "        abs_pcc_cls2_diff  pcc_cls_reg_diff  abs_pcc_cls_reg_diff  \\\n",
       "54                 0.0018           -0.0010                0.0010   \n",
       "55                 0.0018           -0.0091                0.0091   \n",
       "56                 0.0048           -0.0020                0.0020   \n",
       "57                 0.0013           -0.0003                0.0003   \n",
       "58                 0.0003            0.0032                0.0032   \n",
       "...                   ...               ...                   ...   \n",
       "424927             0.0050            0.0076                0.0076   \n",
       "424928             0.0012           -0.0045                0.0045   \n",
       "424929             0.0019            0.0098                0.0098   \n",
       "424930             0.0004            0.0102                0.0102   \n",
       "424931             0.0042           -0.0005                0.0005   \n",
       "\n",
       "        pcc_cls_cls_diff  abs_pcc_cls_cls_diff  pcc_cls_cls2_diff  \\\n",
       "54                0.0008                0.0008             0.0041   \n",
       "55               -0.0094                0.0094             0.0003   \n",
       "56                0.0034                0.0034             0.0046   \n",
       "57               -0.0024                0.0024            -0.0037   \n",
       "58                0.0019                0.0019             0.0003   \n",
       "...                  ...                   ...                ...   \n",
       "424927           -0.0024                0.0024            -0.0013   \n",
       "424928           -0.0054                0.0054            -0.0038   \n",
       "424929            0.0138                0.0138             0.0101   \n",
       "424930            0.0064                0.0064             0.0075   \n",
       "424931            0.0046                0.0046             0.0040   \n",
       "\n",
       "        abs_pcc_cls_cls2_diff  xp_pred  xp_cls_pred  xp_min_prob  xp_var_prob  \\\n",
       "54                     0.0041   0.2368       0.2391       0.0000       0.0160   \n",
       "55                     0.0003   0.7632       0.7653       0.0000       0.0134   \n",
       "56                     0.0046   0.4298       0.4296       0.0000       0.0171   \n",
       "57                     0.0037   0.0263       0.0237       0.0000       0.0105   \n",
       "58                     0.0003   0.6053       0.6053       0.0000       0.0132   \n",
       "...                       ...      ...          ...          ...          ...   \n",
       "424927                 0.0013   0.2500       0.2537       0.0000       0.0309   \n",
       "424928                 0.0038   0.4038       0.3955       0.0000       0.0181   \n",
       "424929                 0.0101   0.2115       0.2050       0.0000       0.0227   \n",
       "424930                 0.0075   0.3654       0.3725       0.0000       0.0314   \n",
       "424931                 0.0040   0.5192       0.5190       0.0000       0.0338   \n",
       "\n",
       "        xp_min_sim  xp_var_sim  xp_top_prob_0  xp_top_sim_0  xp_top_pred_1  \\\n",
       "54          0.3837      0.0085         0.9640        0.7873         0.2544   \n",
       "55          0.3038      0.0060         0.8777        0.7252         0.7807   \n",
       "56          0.2332      0.0078         0.9970        0.6821         0.3070   \n",
       "57          0.3833      0.0073         0.7531        0.7924         0.0088   \n",
       "58          0.3717      0.0061         0.8754        0.7375         0.5351   \n",
       "...            ...         ...            ...           ...            ...   \n",
       "424927      0.2765      0.0114         0.9147        0.7264         0.2885   \n",
       "424928      0.3116      0.0060         0.6968        0.6093         0.4808   \n",
       "424929      0.3505      0.0086         0.7615        0.7160         0.1731   \n",
       "424930      0.3574      0.0059         0.9218        0.6925         0.4808   \n",
       "424931      0.4194      0.0063         0.9568        0.7548         0.5577   \n",
       "\n",
       "        xp_top_prob_1  xp_top_sim_1  xp_top_pred_2  xp_top_prob_2  \\\n",
       "54             0.0204        0.7026         0.5351         0.0038   \n",
       "55             0.1110        0.6798         0.7982         0.0098   \n",
       "56             0.0018        0.5436         0.3246         0.0003   \n",
       "57             0.2180        0.7652         0.0439         0.0274   \n",
       "58             0.0457        0.6726         0.5702         0.0289   \n",
       "...               ...           ...            ...            ...   \n",
       "424927         0.0737        0.6711         0.3269         0.0110   \n",
       "424928         0.1075        0.5683         0.2115         0.0772   \n",
       "424929         0.2224        0.6890         0.2885         0.0092   \n",
       "424930         0.0618        0.6332         0.4038         0.0127   \n",
       "424931         0.0344        0.6818         0.3269         0.0074   \n",
       "\n",
       "        xp_top_sim_2  xp_top_pred_3  xp_top_prob_3  xp_top_sim_3  \\\n",
       "54            0.6660         0.3070         0.0016        0.6462   \n",
       "55            0.6266         0.8333         0.0004        0.5554   \n",
       "56            0.5028         0.4825         0.0003        0.5013   \n",
       "57            0.7197         0.9912         0.0005        0.6315   \n",
       "58            0.6626         0.6228         0.0135        0.6459   \n",
       "...              ...            ...            ...           ...   \n",
       "424927        0.6293         0.2115         0.0004        0.5558   \n",
       "424928        0.5610         0.3654         0.0570        0.5543   \n",
       "424929        0.6189         0.5192         0.0027        0.5918   \n",
       "424930        0.5984         0.2115         0.0021        0.5589   \n",
       "424931        0.6479         0.2500         0.0005        0.5900   \n",
       "\n",
       "        xp_top_pred_4  xp_top_prob_4  xp_top_sim_4  xp_top_pred_5  \\\n",
       "54             0.3772         0.0015        0.6456         0.1491   \n",
       "55             0.8684         0.0003        0.5486         0.8158   \n",
       "56             0.5175         0.0002        0.4981         0.5000   \n",
       "57             0.0614         0.0002        0.6155         0.3070   \n",
       "58             0.5526         0.0096        0.6385         0.8684   \n",
       "...               ...            ...           ...            ...   \n",
       "424927         0.1731         0.0001        0.5176         0.5192   \n",
       "424928         0.4423         0.0482        0.5507         0.2500   \n",
       "424929         0.3269         0.0015        0.5787         0.2500   \n",
       "424930         0.1731         0.0002        0.5122         0.2885   \n",
       "424931         0.5962         0.0004        0.5846         0.2885   \n",
       "\n",
       "        xp_top_prob_5  xp_top_sim_5  xp_top_pred_6  xp_top_prob_6  \\\n",
       "54             0.0014        0.6436         0.4825         0.0014   \n",
       "55             0.0002        0.5427         0.6053         0.0001   \n",
       "56             0.0002        0.4900         0.4474         0.0001   \n",
       "57             0.0001        0.6044         0.1491         0.0001   \n",
       "58             0.0077        0.6335         0.7632         0.0035   \n",
       "...               ...           ...            ...            ...   \n",
       "424927         0.0000        0.5105         0.4038         0.0000   \n",
       "424928         0.0053        0.5021         0.1731         0.0024   \n",
       "424929         0.0011        0.5723         0.4038         0.0009   \n",
       "424930         0.0002        0.5097         0.5192         0.0002   \n",
       "424931         0.0002        0.5708         0.4808         0.0001   \n",
       "\n",
       "        xp_top_sim_6  xp_top_pred_7  xp_top_prob_7  xp_top_sim_7  \\\n",
       "54            0.6435         0.1667         0.0010        0.6366   \n",
       "55            0.5321         0.0263         0.0001        0.5271   \n",
       "56            0.4858         0.3772         0.0000        0.4596   \n",
       "57            0.6040         0.0965         0.0001        0.5861   \n",
       "58            0.6159         0.8860         0.0032        0.6142   \n",
       "...              ...            ...            ...           ...   \n",
       "424927        0.5073         0.3654         0.0000        0.4928   \n",
       "424928        0.4845         0.2885         0.0020        0.4806   \n",
       "424929        0.5677         0.1346         0.0004        0.5476   \n",
       "424930        0.5087         0.0192         0.0002        0.5075   \n",
       "424931        0.5554         0.8654         0.0001        0.5440   \n",
       "\n",
       "        xp_top_pred_8  xp_top_prob_8  xp_top_sim_8  xp_top_pred_9  \\\n",
       "54             0.0263         0.0008        0.6302         0.2895   \n",
       "55             0.5877         0.0001        0.5164         0.8509   \n",
       "56             0.4649         0.0000        0.4512         0.3421   \n",
       "57             0.1316         0.0001        0.5839         0.2544   \n",
       "58             0.6579         0.0030        0.6127         0.8333   \n",
       "...               ...            ...           ...            ...   \n",
       "424927         0.5577         0.0000        0.4617         0.4808   \n",
       "424928         0.5192         0.0018        0.4781         0.3269   \n",
       "424929         0.5577         0.0001        0.5280         0.4808   \n",
       "424930         0.2500         0.0002        0.5057         0.0577   \n",
       "424931         0.4423         0.0000        0.5235         0.3654   \n",
       "\n",
       "        xp_top_prob_9  xp_top_sim_9  xp_cls_diff  xp_abs_cls_diff  \\\n",
       "54             0.0006        0.6243       0.0023           0.0023   \n",
       "55             0.0000        0.5046       0.0022           0.0022   \n",
       "56             0.0000        0.4239      -0.0002           0.0002   \n",
       "57             0.0001        0.5838      -0.0027           0.0027   \n",
       "58             0.0024        0.6083      -0.0000           0.0000   \n",
       "...               ...           ...          ...              ...   \n",
       "424927         0.0000        0.4566       0.0037           0.0037   \n",
       "424928         0.0010        0.4649      -0.0084           0.0084   \n",
       "424929         0.0001        0.5278      -0.0066           0.0066   \n",
       "424930         0.0002        0.5016       0.0071           0.0071   \n",
       "424931         0.0000        0.5178      -0.0002           0.0002   \n",
       "\n",
       "        xc_cls_pred  xc_reg_pred  xc_cls2_pred  xc_group_pos  xc_group_rank  \\\n",
       "54           0.2383       0.2401        0.2350             1              1   \n",
       "55           0.7747       0.7744        0.7650             1              1   \n",
       "56           0.4262       0.4316        0.4250             2              1   \n",
       "57           0.0237       0.0216        0.0250             0              0   \n",
       "58           0.6034       0.6021        0.6050             1              2   \n",
       "...             ...          ...           ...           ...            ...   \n",
       "424927       0.2560       0.2461        0.2550             0              0   \n",
       "424928       0.4066       0.4058        0.4050             2              2   \n",
       "424929       0.1713       0.1753        0.1750             1              1   \n",
       "424930       0.3661       0.3623        0.3650             2              1   \n",
       "424931       0.5144       0.5195        0.5150             1              2   \n",
       "\n",
       "        xc_min_prob  xc_var_prob  xc_top_prob_0  xc_top_pred_1  xc_top_prob_1  \\\n",
       "54           0.0000       0.0079         0.8896         0.2550         0.0975   \n",
       "55           0.0000       0.0047         0.5229         0.7850         0.4507   \n",
       "56           0.0000       0.0061         0.7432         0.4350         0.2489   \n",
       "57           0.0000       0.0060         0.7666         0.0150         0.0998   \n",
       "58           0.0000       0.0094         0.9771         0.5350         0.0068   \n",
       "...             ...          ...            ...            ...            ...   \n",
       "424927       0.0000       0.0096         0.9844         0.2850         0.0073   \n",
       "424928       0.0000       0.0094         0.9771         0.4450         0.0167   \n",
       "424929       0.0000       0.0060         0.7666         0.1350         0.1396   \n",
       "424930       0.0000       0.0099         1.0000         0.4050         0.0013   \n",
       "424931       0.0000       0.0093         0.9692         0.4850         0.0199   \n",
       "\n",
       "        xc_top_pred_2  xc_top_prob_2  xc_top_pred_3  xc_top_prob_3  \\\n",
       "54             0.2850         0.0018         0.2150         0.0017   \n",
       "55             0.7750         0.0114         0.7950         0.0071   \n",
       "56             0.4150         0.0020         0.4450         0.0008   \n",
       "57             0.0050         0.0777         0.0350         0.0394   \n",
       "58             0.5850         0.0036         0.6150         0.0021   \n",
       "...               ...            ...            ...            ...   \n",
       "424927         0.3250         0.0040         0.2150         0.0013   \n",
       "424928         0.3650         0.0030         0.4850         0.0023   \n",
       "424929         0.2150         0.0386         0.0950         0.0077   \n",
       "424930         0.4450         0.0005         0.3750         0.0002   \n",
       "424931         0.4050         0.0019         0.5250         0.0018   \n",
       "\n",
       "        xc_top_pred_4  xc_top_prob_4  xc_top_pred_5  xc_top_prob_5  \\\n",
       "54             0.2450         0.0016         0.2650         0.0009   \n",
       "55             0.7550         0.0036         0.7450         0.0019   \n",
       "56             0.4750         0.0003         0.4550         0.0002   \n",
       "57             0.0450         0.0123         0.0550         0.0006   \n",
       "58             0.5950         0.0013         0.5550         0.0011   \n",
       "...               ...            ...            ...            ...   \n",
       "424927         0.3650         0.0013         0.1750         0.0005   \n",
       "424928         0.4150         0.0006         0.3250         0.0005   \n",
       "424929         0.0550         0.0071         0.2550         0.0070   \n",
       "424930         0.5150         0.0001         0.3250         0.0001   \n",
       "424931         0.4450         0.0013         0.5550         0.0011   \n",
       "\n",
       "        xc_top_pred_6  xc_top_prob_6  xc_top_pred_7  xc_top_prob_7  \\\n",
       "54             0.1550         0.0008         0.2750         0.0008   \n",
       "55             0.7350         0.0004         0.8150         0.0003   \n",
       "56             0.4050         0.0002         0.4650         0.0002   \n",
       "57             0.9950         0.0005         0.0650         0.0005   \n",
       "58             0.5050         0.0009         0.4650         0.0006   \n",
       "...               ...            ...            ...            ...   \n",
       "424927         0.4050         0.0005         0.1350         0.0003   \n",
       "424928         0.2550         0.0004         0.3950         0.0003   \n",
       "424929         0.2050         0.0056         0.1650         0.0051   \n",
       "424930         0.4850         0.0001         0.2850         0.0001   \n",
       "424931         0.3650         0.0010         0.5950         0.0008   \n",
       "\n",
       "        xc_top_pred_8  xc_top_prob_8  xc_top_pred_9  xc_top_prob_9  \\\n",
       "54             0.4150         0.0007         0.3350         0.0007   \n",
       "55             0.7250         0.0003         0.7050         0.0002   \n",
       "56             0.3050         0.0002         0.4850         0.0002   \n",
       "57             0.0950         0.0003         0.0750         0.0002   \n",
       "58             0.6250         0.0006         0.5750         0.0005   \n",
       "...               ...            ...            ...            ...   \n",
       "424927         0.4450         0.0003         0.2450         0.0002   \n",
       "424928         0.5150         0.0002         0.2850         0.0002   \n",
       "424929         0.1450         0.0035         0.2850         0.0026   \n",
       "424930         0.6350         0.0001         0.5950         0.0001   \n",
       "424931         0.2850         0.0008         0.6750         0.0007   \n",
       "\n",
       "        xc_cls_reg_diff  xc_abs_cls_reg_diff  xc_cls_cls2_diff  \\\n",
       "54              -0.0018               0.0018            0.0033   \n",
       "55               0.0003               0.0003            0.0097   \n",
       "56              -0.0055               0.0055            0.0012   \n",
       "57               0.0021               0.0021           -0.0013   \n",
       "58               0.0013               0.0013           -0.0016   \n",
       "...                 ...                  ...               ...   \n",
       "424927           0.0100               0.0100            0.0010   \n",
       "424928           0.0008               0.0008            0.0016   \n",
       "424929          -0.0040               0.0040           -0.0037   \n",
       "424930           0.0038               0.0038            0.0011   \n",
       "424931          -0.0051               0.0051           -0.0006   \n",
       "\n",
       "        xc_abs_cls_cls2_diff  xc_cls2_reg_diff  xc_abs_cls2_reg_diff  \\\n",
       "54                    0.0033           -0.0051                0.0051   \n",
       "55                    0.0097           -0.0094                0.0094   \n",
       "56                    0.0012           -0.0066                0.0066   \n",
       "57                    0.0013            0.0034                0.0034   \n",
       "58                    0.0016            0.0029                0.0029   \n",
       "...                      ...               ...                   ...   \n",
       "424927                0.0010            0.0089                0.0089   \n",
       "424928                0.0016           -0.0008                0.0008   \n",
       "424929                0.0037           -0.0003                0.0003   \n",
       "424930                0.0011            0.0027                0.0027   \n",
       "424931                0.0006           -0.0045                0.0045   \n",
       "\n",
       "        xpc_pred  xpc_cls_pred  xpc_min_prob  xpc_var_prob  xpc_min_sim  \\\n",
       "54        0.2368        0.2391        0.0000        0.0160       0.3837   \n",
       "55        0.7632        0.7653        0.0000        0.0134       0.3038   \n",
       "56        0.4298        0.4296        0.0000        0.0171       0.2332   \n",
       "57        0.0263        0.0213        0.0000        0.0085       0.3833   \n",
       "58        0.6053        0.6053        0.0000        0.0132       0.3717   \n",
       "...          ...           ...           ...           ...          ...   \n",
       "424927    0.2500        0.2537        0.0000        0.0309       0.2765   \n",
       "424928    0.4038        0.4012        0.0000        0.0255       0.3116   \n",
       "424929    0.1731        0.1851        0.0000        0.0220       0.3505   \n",
       "424930    0.3654        0.3725        0.0000        0.0314       0.3574   \n",
       "424931    0.5192        0.5190        0.0000        0.0338       0.4194   \n",
       "\n",
       "        xpc_var_sim  xpc_top_prob_0  xpc_top_sim_0  xpc_top_pred_1  \\\n",
       "54           0.0085          0.9640         0.7873          0.2544   \n",
       "55           0.0060          0.8777         0.7252          0.7807   \n",
       "56           0.0078          0.9970         0.6821          0.3070   \n",
       "57           0.0073          0.6153         0.7924          0.0088   \n",
       "58           0.0061          0.8754         0.7375          0.5351   \n",
       "...             ...             ...            ...             ...   \n",
       "424927       0.0114          0.9147         0.7264          0.2885   \n",
       "424928       0.0060          0.8338         0.6093          0.3654   \n",
       "424929       0.0086          0.7472         0.6890          0.2115   \n",
       "424930       0.0059          0.9218         0.6925          0.4808   \n",
       "424931       0.0063          0.9568         0.7548          0.5577   \n",
       "\n",
       "        xpc_top_prob_1  xpc_top_sim_1  xpc_top_pred_2  xpc_top_prob_2  \\\n",
       "54              0.0204         0.7026          0.5351          0.0038   \n",
       "55              0.1110         0.6798          0.7982          0.0098   \n",
       "56              0.0018         0.5436          0.3246          0.0003   \n",
       "57              0.3540         0.7652          0.0439          0.0293   \n",
       "58              0.0457         0.6726          0.5702          0.0289   \n",
       "...                ...            ...             ...             ...   \n",
       "424927          0.0737         0.6711          0.3269          0.0110   \n",
       "424928          0.0570         0.5543          0.4423          0.0482   \n",
       "424929          0.2302         0.7160          0.2885          0.0151   \n",
       "424930          0.0618         0.6332          0.4038          0.0127   \n",
       "424931          0.0344         0.6818          0.3269          0.0074   \n",
       "\n",
       "        xpc_top_sim_2  xpc_cls_diff  xpc_abs_cls_diff  xpc_mark  \\\n",
       "54             0.6660        0.0023            0.0023         0   \n",
       "55             0.6266        0.0022            0.0022         0   \n",
       "56             0.5028       -0.0002            0.0002         0   \n",
       "57             0.7197       -0.0050            0.0050         1   \n",
       "58             0.6626       -0.0000            0.0000         0   \n",
       "...               ...           ...               ...       ...   \n",
       "424927         0.6293        0.0037            0.0037         0   \n",
       "424928         0.5507       -0.0026            0.0026         1   \n",
       "424929         0.6189        0.0121            0.0121         1   \n",
       "424930         0.5984        0.0071            0.0071         0   \n",
       "424931         0.6479       -0.0002            0.0002         0   \n",
       "\n",
       "                    id   cell_id                       cid  n_words  \\\n",
       "54      001308991e0c5e  05915708  001308991e0c5e\\t05915708       22   \n",
       "55      001308991e0c5e  1545964f  001308991e0c5e\\t1545964f       22   \n",
       "56      001308991e0c5e  1ff43b24  001308991e0c5e\\t1ff43b24       22   \n",
       "57      001308991e0c5e  21147235  001308991e0c5e\\t21147235       22   \n",
       "58      001308991e0c5e  23e35b11  001308991e0c5e\\t23e35b11       22   \n",
       "...                ...       ...                       ...      ...   \n",
       "424927  fff36689a0fe5f  47b61063  fff36689a0fe5f\\t47b61063        4   \n",
       "424928  fff36689a0fe5f  87c8490d  fff36689a0fe5f\\t87c8490d        4   \n",
       "424929  fff36689a0fe5f  95cb1c55  fff36689a0fe5f\\t95cb1c55        4   \n",
       "424930  fff36689a0fe5f  b1924f1f  fff36689a0fe5f\\tb1924f1f        4   \n",
       "424931  fff36689a0fe5f  fef98b7e  fff36689a0fe5f\\tfef98b7e        4   \n",
       "\n",
       "        n_code_cell  n_cell ancestor_id  rel_rank  fold  cls_label  cbt_pred  \n",
       "54               56      95    c5fbea8e    0.2368     0         23    0.2370  \n",
       "55               56      95    c5fbea8e    0.7632     0         76    0.7666  \n",
       "56               56      95    c5fbea8e    0.4298     0         42    0.4276  \n",
       "57               56      95    c5fbea8e    0.0088     0          0    0.0251  \n",
       "58               56      95    c5fbea8e    0.6082     0         60    0.6036  \n",
       "...             ...     ...         ...       ...   ...        ...       ...  \n",
       "424927           25      31    c30fd19d    0.2500     0         25    0.2508  \n",
       "424928           25      31    c30fd19d    0.4038     0         40    0.4054  \n",
       "424929           25      31    c30fd19d    0.1731     0         17    0.1768  \n",
       "424930           25      31    c30fd19d    0.3654     0         36    0.3642  \n",
       "424931           25      31    c30fd19d    0.5192     0         51    0.5187  \n",
       "\n",
       "[82532 rows x 122 columns]"
      ]
     },
     "execution_count": 62,
     "metadata": {},
     "output_type": "execute_result"
    }
   ],
   "source": [
    "dvalid"
   ]
  },
  {
   "cell_type": "code",
   "execution_count": 63,
   "metadata": {},
   "outputs": [
    {
     "data": {
      "application/vnd.plotly.v1+json": {
       "config": {
        "plotlyServerURL": "https://plot.ly"
       },
       "data": [
        {
         "alignmentgroup": "True",
         "hovertemplate": "importance=%{x}<br>feat_name=%{y}<extra></extra>",
         "legendgroup": "",
         "marker": {
          "color": "#636efa",
          "pattern": {
           "shape": ""
          }
         },
         "name": "",
         "offsetgroup": "",
         "orientation": "h",
         "showlegend": false,
         "textposition": "auto",
         "type": "bar",
         "x": [
          0.5536457048016469,
          0.5551004582577628,
          0.5646644466965964,
          0.6014731392601163,
          0.6354933153797508,
          0.7391235634415221,
          0.7481518491863132,
          0.7524864172649358,
          0.7617242882614121,
          0.8417014289453418,
          1.0751009262107933,
          1.3729860138042045,
          1.6741209692863501,
          2.409075746353334,
          2.557072161029864,
          3.7892404357493015,
          11.706485985218114,
          18.343267391459296,
          19.486780365663652,
          19.954511995070376
         ],
         "xaxis": "x",
         "y": [
          "abs_pcc_cls_diff",
          "pc_cls_cls2_diff",
          "pcc_cls_cls2_diff",
          "pcc_reg_diff",
          "xc_abs_cls_cls2_diff",
          "xc_abs_cls2_reg_diff",
          "xpc_top_pred_1",
          "xp_top_pred_2",
          "xc_top_pred_9",
          "xpc_cls_diff",
          "xpc_top_pred_2",
          "xpc_abs_cls_diff",
          "xc_top_pred_1",
          "xc_cls2_pred",
          "xp_cls_pred",
          "xp_pred",
          "xpc_pred",
          "xpc_cls_pred",
          "xc_cls_pred",
          "xc_reg_pred"
         ],
         "yaxis": "y"
        }
       ],
       "layout": {
        "barmode": "relative",
        "legend": {
         "tracegroupgap": 0
        },
        "margin": {
         "t": 60
        },
        "template": {
         "data": {
          "bar": [
           {
            "error_x": {
             "color": "#2a3f5f"
            },
            "error_y": {
             "color": "#2a3f5f"
            },
            "marker": {
             "line": {
              "color": "#E5ECF6",
              "width": 0.5
             },
             "pattern": {
              "fillmode": "overlay",
              "size": 10,
              "solidity": 0.2
             }
            },
            "type": "bar"
           }
          ],
          "barpolar": [
           {
            "marker": {
             "line": {
              "color": "#E5ECF6",
              "width": 0.5
             },
             "pattern": {
              "fillmode": "overlay",
              "size": 10,
              "solidity": 0.2
             }
            },
            "type": "barpolar"
           }
          ],
          "carpet": [
           {
            "aaxis": {
             "endlinecolor": "#2a3f5f",
             "gridcolor": "white",
             "linecolor": "white",
             "minorgridcolor": "white",
             "startlinecolor": "#2a3f5f"
            },
            "baxis": {
             "endlinecolor": "#2a3f5f",
             "gridcolor": "white",
             "linecolor": "white",
             "minorgridcolor": "white",
             "startlinecolor": "#2a3f5f"
            },
            "type": "carpet"
           }
          ],
          "choropleth": [
           {
            "colorbar": {
             "outlinewidth": 0,
             "ticks": ""
            },
            "type": "choropleth"
           }
          ],
          "contour": [
           {
            "colorbar": {
             "outlinewidth": 0,
             "ticks": ""
            },
            "colorscale": [
             [
              0,
              "#0d0887"
             ],
             [
              0.1111111111111111,
              "#46039f"
             ],
             [
              0.2222222222222222,
              "#7201a8"
             ],
             [
              0.3333333333333333,
              "#9c179e"
             ],
             [
              0.4444444444444444,
              "#bd3786"
             ],
             [
              0.5555555555555556,
              "#d8576b"
             ],
             [
              0.6666666666666666,
              "#ed7953"
             ],
             [
              0.7777777777777778,
              "#fb9f3a"
             ],
             [
              0.8888888888888888,
              "#fdca26"
             ],
             [
              1,
              "#f0f921"
             ]
            ],
            "type": "contour"
           }
          ],
          "contourcarpet": [
           {
            "colorbar": {
             "outlinewidth": 0,
             "ticks": ""
            },
            "type": "contourcarpet"
           }
          ],
          "heatmap": [
           {
            "colorbar": {
             "outlinewidth": 0,
             "ticks": ""
            },
            "colorscale": [
             [
              0,
              "#0d0887"
             ],
             [
              0.1111111111111111,
              "#46039f"
             ],
             [
              0.2222222222222222,
              "#7201a8"
             ],
             [
              0.3333333333333333,
              "#9c179e"
             ],
             [
              0.4444444444444444,
              "#bd3786"
             ],
             [
              0.5555555555555556,
              "#d8576b"
             ],
             [
              0.6666666666666666,
              "#ed7953"
             ],
             [
              0.7777777777777778,
              "#fb9f3a"
             ],
             [
              0.8888888888888888,
              "#fdca26"
             ],
             [
              1,
              "#f0f921"
             ]
            ],
            "type": "heatmap"
           }
          ],
          "heatmapgl": [
           {
            "colorbar": {
             "outlinewidth": 0,
             "ticks": ""
            },
            "colorscale": [
             [
              0,
              "#0d0887"
             ],
             [
              0.1111111111111111,
              "#46039f"
             ],
             [
              0.2222222222222222,
              "#7201a8"
             ],
             [
              0.3333333333333333,
              "#9c179e"
             ],
             [
              0.4444444444444444,
              "#bd3786"
             ],
             [
              0.5555555555555556,
              "#d8576b"
             ],
             [
              0.6666666666666666,
              "#ed7953"
             ],
             [
              0.7777777777777778,
              "#fb9f3a"
             ],
             [
              0.8888888888888888,
              "#fdca26"
             ],
             [
              1,
              "#f0f921"
             ]
            ],
            "type": "heatmapgl"
           }
          ],
          "histogram": [
           {
            "marker": {
             "pattern": {
              "fillmode": "overlay",
              "size": 10,
              "solidity": 0.2
             }
            },
            "type": "histogram"
           }
          ],
          "histogram2d": [
           {
            "colorbar": {
             "outlinewidth": 0,
             "ticks": ""
            },
            "colorscale": [
             [
              0,
              "#0d0887"
             ],
             [
              0.1111111111111111,
              "#46039f"
             ],
             [
              0.2222222222222222,
              "#7201a8"
             ],
             [
              0.3333333333333333,
              "#9c179e"
             ],
             [
              0.4444444444444444,
              "#bd3786"
             ],
             [
              0.5555555555555556,
              "#d8576b"
             ],
             [
              0.6666666666666666,
              "#ed7953"
             ],
             [
              0.7777777777777778,
              "#fb9f3a"
             ],
             [
              0.8888888888888888,
              "#fdca26"
             ],
             [
              1,
              "#f0f921"
             ]
            ],
            "type": "histogram2d"
           }
          ],
          "histogram2dcontour": [
           {
            "colorbar": {
             "outlinewidth": 0,
             "ticks": ""
            },
            "colorscale": [
             [
              0,
              "#0d0887"
             ],
             [
              0.1111111111111111,
              "#46039f"
             ],
             [
              0.2222222222222222,
              "#7201a8"
             ],
             [
              0.3333333333333333,
              "#9c179e"
             ],
             [
              0.4444444444444444,
              "#bd3786"
             ],
             [
              0.5555555555555556,
              "#d8576b"
             ],
             [
              0.6666666666666666,
              "#ed7953"
             ],
             [
              0.7777777777777778,
              "#fb9f3a"
             ],
             [
              0.8888888888888888,
              "#fdca26"
             ],
             [
              1,
              "#f0f921"
             ]
            ],
            "type": "histogram2dcontour"
           }
          ],
          "mesh3d": [
           {
            "colorbar": {
             "outlinewidth": 0,
             "ticks": ""
            },
            "type": "mesh3d"
           }
          ],
          "parcoords": [
           {
            "line": {
             "colorbar": {
              "outlinewidth": 0,
              "ticks": ""
             }
            },
            "type": "parcoords"
           }
          ],
          "pie": [
           {
            "automargin": true,
            "type": "pie"
           }
          ],
          "scatter": [
           {
            "marker": {
             "colorbar": {
              "outlinewidth": 0,
              "ticks": ""
             }
            },
            "type": "scatter"
           }
          ],
          "scatter3d": [
           {
            "line": {
             "colorbar": {
              "outlinewidth": 0,
              "ticks": ""
             }
            },
            "marker": {
             "colorbar": {
              "outlinewidth": 0,
              "ticks": ""
             }
            },
            "type": "scatter3d"
           }
          ],
          "scattercarpet": [
           {
            "marker": {
             "colorbar": {
              "outlinewidth": 0,
              "ticks": ""
             }
            },
            "type": "scattercarpet"
           }
          ],
          "scattergeo": [
           {
            "marker": {
             "colorbar": {
              "outlinewidth": 0,
              "ticks": ""
             }
            },
            "type": "scattergeo"
           }
          ],
          "scattergl": [
           {
            "marker": {
             "colorbar": {
              "outlinewidth": 0,
              "ticks": ""
             }
            },
            "type": "scattergl"
           }
          ],
          "scattermapbox": [
           {
            "marker": {
             "colorbar": {
              "outlinewidth": 0,
              "ticks": ""
             }
            },
            "type": "scattermapbox"
           }
          ],
          "scatterpolar": [
           {
            "marker": {
             "colorbar": {
              "outlinewidth": 0,
              "ticks": ""
             }
            },
            "type": "scatterpolar"
           }
          ],
          "scatterpolargl": [
           {
            "marker": {
             "colorbar": {
              "outlinewidth": 0,
              "ticks": ""
             }
            },
            "type": "scatterpolargl"
           }
          ],
          "scatterternary": [
           {
            "marker": {
             "colorbar": {
              "outlinewidth": 0,
              "ticks": ""
             }
            },
            "type": "scatterternary"
           }
          ],
          "surface": [
           {
            "colorbar": {
             "outlinewidth": 0,
             "ticks": ""
            },
            "colorscale": [
             [
              0,
              "#0d0887"
             ],
             [
              0.1111111111111111,
              "#46039f"
             ],
             [
              0.2222222222222222,
              "#7201a8"
             ],
             [
              0.3333333333333333,
              "#9c179e"
             ],
             [
              0.4444444444444444,
              "#bd3786"
             ],
             [
              0.5555555555555556,
              "#d8576b"
             ],
             [
              0.6666666666666666,
              "#ed7953"
             ],
             [
              0.7777777777777778,
              "#fb9f3a"
             ],
             [
              0.8888888888888888,
              "#fdca26"
             ],
             [
              1,
              "#f0f921"
             ]
            ],
            "type": "surface"
           }
          ],
          "table": [
           {
            "cells": {
             "fill": {
              "color": "#EBF0F8"
             },
             "line": {
              "color": "white"
             }
            },
            "header": {
             "fill": {
              "color": "#C8D4E3"
             },
             "line": {
              "color": "white"
             }
            },
            "type": "table"
           }
          ]
         },
         "layout": {
          "annotationdefaults": {
           "arrowcolor": "#2a3f5f",
           "arrowhead": 0,
           "arrowwidth": 1
          },
          "autotypenumbers": "strict",
          "coloraxis": {
           "colorbar": {
            "outlinewidth": 0,
            "ticks": ""
           }
          },
          "colorscale": {
           "diverging": [
            [
             0,
             "#8e0152"
            ],
            [
             0.1,
             "#c51b7d"
            ],
            [
             0.2,
             "#de77ae"
            ],
            [
             0.3,
             "#f1b6da"
            ],
            [
             0.4,
             "#fde0ef"
            ],
            [
             0.5,
             "#f7f7f7"
            ],
            [
             0.6,
             "#e6f5d0"
            ],
            [
             0.7,
             "#b8e186"
            ],
            [
             0.8,
             "#7fbc41"
            ],
            [
             0.9,
             "#4d9221"
            ],
            [
             1,
             "#276419"
            ]
           ],
           "sequential": [
            [
             0,
             "#0d0887"
            ],
            [
             0.1111111111111111,
             "#46039f"
            ],
            [
             0.2222222222222222,
             "#7201a8"
            ],
            [
             0.3333333333333333,
             "#9c179e"
            ],
            [
             0.4444444444444444,
             "#bd3786"
            ],
            [
             0.5555555555555556,
             "#d8576b"
            ],
            [
             0.6666666666666666,
             "#ed7953"
            ],
            [
             0.7777777777777778,
             "#fb9f3a"
            ],
            [
             0.8888888888888888,
             "#fdca26"
            ],
            [
             1,
             "#f0f921"
            ]
           ],
           "sequentialminus": [
            [
             0,
             "#0d0887"
            ],
            [
             0.1111111111111111,
             "#46039f"
            ],
            [
             0.2222222222222222,
             "#7201a8"
            ],
            [
             0.3333333333333333,
             "#9c179e"
            ],
            [
             0.4444444444444444,
             "#bd3786"
            ],
            [
             0.5555555555555556,
             "#d8576b"
            ],
            [
             0.6666666666666666,
             "#ed7953"
            ],
            [
             0.7777777777777778,
             "#fb9f3a"
            ],
            [
             0.8888888888888888,
             "#fdca26"
            ],
            [
             1,
             "#f0f921"
            ]
           ]
          },
          "colorway": [
           "#636efa",
           "#EF553B",
           "#00cc96",
           "#ab63fa",
           "#FFA15A",
           "#19d3f3",
           "#FF6692",
           "#B6E880",
           "#FF97FF",
           "#FECB52"
          ],
          "font": {
           "color": "#2a3f5f"
          },
          "geo": {
           "bgcolor": "white",
           "lakecolor": "white",
           "landcolor": "#E5ECF6",
           "showlakes": true,
           "showland": true,
           "subunitcolor": "white"
          },
          "hoverlabel": {
           "align": "left"
          },
          "hovermode": "closest",
          "mapbox": {
           "style": "light"
          },
          "paper_bgcolor": "white",
          "plot_bgcolor": "#E5ECF6",
          "polar": {
           "angularaxis": {
            "gridcolor": "white",
            "linecolor": "white",
            "ticks": ""
           },
           "bgcolor": "#E5ECF6",
           "radialaxis": {
            "gridcolor": "white",
            "linecolor": "white",
            "ticks": ""
           }
          },
          "scene": {
           "xaxis": {
            "backgroundcolor": "#E5ECF6",
            "gridcolor": "white",
            "gridwidth": 2,
            "linecolor": "white",
            "showbackground": true,
            "ticks": "",
            "zerolinecolor": "white"
           },
           "yaxis": {
            "backgroundcolor": "#E5ECF6",
            "gridcolor": "white",
            "gridwidth": 2,
            "linecolor": "white",
            "showbackground": true,
            "ticks": "",
            "zerolinecolor": "white"
           },
           "zaxis": {
            "backgroundcolor": "#E5ECF6",
            "gridcolor": "white",
            "gridwidth": 2,
            "linecolor": "white",
            "showbackground": true,
            "ticks": "",
            "zerolinecolor": "white"
           }
          },
          "shapedefaults": {
           "line": {
            "color": "#2a3f5f"
           }
          },
          "ternary": {
           "aaxis": {
            "gridcolor": "white",
            "linecolor": "white",
            "ticks": ""
           },
           "baxis": {
            "gridcolor": "white",
            "linecolor": "white",
            "ticks": ""
           },
           "bgcolor": "#E5ECF6",
           "caxis": {
            "gridcolor": "white",
            "linecolor": "white",
            "ticks": ""
           }
          },
          "title": {
           "x": 0.05
          },
          "xaxis": {
           "automargin": true,
           "gridcolor": "white",
           "linecolor": "white",
           "ticks": "",
           "title": {
            "standoff": 15
           },
           "zerolinecolor": "white",
           "zerolinewidth": 2
          },
          "yaxis": {
           "automargin": true,
           "gridcolor": "white",
           "linecolor": "white",
           "ticks": "",
           "title": {
            "standoff": 15
           },
           "zerolinecolor": "white",
           "zerolinewidth": 2
          }
         }
        },
        "xaxis": {
         "anchor": "y",
         "domain": [
          0,
          1
         ],
         "title": {
          "text": "importance"
         }
        },
        "yaxis": {
         "anchor": "x",
         "domain": [
          0,
          1
         ],
         "title": {
          "text": "feat_name"
         }
        }
       }
      },
      "text/html": [
       "<div>                            <div id=\"84b7c7d2-0c09-418d-8aca-9b01608dabb2\" class=\"plotly-graph-div\" style=\"height:525px; width:100%;\"></div>            <script type=\"text/javascript\">                require([\"plotly\"], function(Plotly) {                    window.PLOTLYENV=window.PLOTLYENV || {};                                    if (document.getElementById(\"84b7c7d2-0c09-418d-8aca-9b01608dabb2\")) {                    Plotly.newPlot(                        \"84b7c7d2-0c09-418d-8aca-9b01608dabb2\",                        [{\"alignmentgroup\":\"True\",\"hovertemplate\":\"importance=%{x}<br>feat_name=%{y}<extra></extra>\",\"legendgroup\":\"\",\"marker\":{\"color\":\"#636efa\",\"pattern\":{\"shape\":\"\"}},\"name\":\"\",\"offsetgroup\":\"\",\"orientation\":\"h\",\"showlegend\":false,\"textposition\":\"auto\",\"x\":[0.5536457048016469,0.5551004582577628,0.5646644466965964,0.6014731392601163,0.6354933153797508,0.7391235634415221,0.7481518491863132,0.7524864172649358,0.7617242882614121,0.8417014289453418,1.0751009262107933,1.3729860138042045,1.6741209692863501,2.409075746353334,2.557072161029864,3.7892404357493015,11.706485985218114,18.343267391459296,19.486780365663652,19.954511995070376],\"xaxis\":\"x\",\"y\":[\"abs_pcc_cls_diff\",\"pc_cls_cls2_diff\",\"pcc_cls_cls2_diff\",\"pcc_reg_diff\",\"xc_abs_cls_cls2_diff\",\"xc_abs_cls2_reg_diff\",\"xpc_top_pred_1\",\"xp_top_pred_2\",\"xc_top_pred_9\",\"xpc_cls_diff\",\"xpc_top_pred_2\",\"xpc_abs_cls_diff\",\"xc_top_pred_1\",\"xc_cls2_pred\",\"xp_cls_pred\",\"xp_pred\",\"xpc_pred\",\"xpc_cls_pred\",\"xc_cls_pred\",\"xc_reg_pred\"],\"yaxis\":\"y\",\"type\":\"bar\"}],                        {\"template\":{\"data\":{\"bar\":[{\"error_x\":{\"color\":\"#2a3f5f\"},\"error_y\":{\"color\":\"#2a3f5f\"},\"marker\":{\"line\":{\"color\":\"#E5ECF6\",\"width\":0.5},\"pattern\":{\"fillmode\":\"overlay\",\"size\":10,\"solidity\":0.2}},\"type\":\"bar\"}],\"barpolar\":[{\"marker\":{\"line\":{\"color\":\"#E5ECF6\",\"width\":0.5},\"pattern\":{\"fillmode\":\"overlay\",\"size\":10,\"solidity\":0.2}},\"type\":\"barpolar\"}],\"carpet\":[{\"aaxis\":{\"endlinecolor\":\"#2a3f5f\",\"gridcolor\":\"white\",\"linecolor\":\"white\",\"minorgridcolor\":\"white\",\"startlinecolor\":\"#2a3f5f\"},\"baxis\":{\"endlinecolor\":\"#2a3f5f\",\"gridcolor\":\"white\",\"linecolor\":\"white\",\"minorgridcolor\":\"white\",\"startlinecolor\":\"#2a3f5f\"},\"type\":\"carpet\"}],\"choropleth\":[{\"colorbar\":{\"outlinewidth\":0,\"ticks\":\"\"},\"type\":\"choropleth\"}],\"contour\":[{\"colorbar\":{\"outlinewidth\":0,\"ticks\":\"\"},\"colorscale\":[[0.0,\"#0d0887\"],[0.1111111111111111,\"#46039f\"],[0.2222222222222222,\"#7201a8\"],[0.3333333333333333,\"#9c179e\"],[0.4444444444444444,\"#bd3786\"],[0.5555555555555556,\"#d8576b\"],[0.6666666666666666,\"#ed7953\"],[0.7777777777777778,\"#fb9f3a\"],[0.8888888888888888,\"#fdca26\"],[1.0,\"#f0f921\"]],\"type\":\"contour\"}],\"contourcarpet\":[{\"colorbar\":{\"outlinewidth\":0,\"ticks\":\"\"},\"type\":\"contourcarpet\"}],\"heatmap\":[{\"colorbar\":{\"outlinewidth\":0,\"ticks\":\"\"},\"colorscale\":[[0.0,\"#0d0887\"],[0.1111111111111111,\"#46039f\"],[0.2222222222222222,\"#7201a8\"],[0.3333333333333333,\"#9c179e\"],[0.4444444444444444,\"#bd3786\"],[0.5555555555555556,\"#d8576b\"],[0.6666666666666666,\"#ed7953\"],[0.7777777777777778,\"#fb9f3a\"],[0.8888888888888888,\"#fdca26\"],[1.0,\"#f0f921\"]],\"type\":\"heatmap\"}],\"heatmapgl\":[{\"colorbar\":{\"outlinewidth\":0,\"ticks\":\"\"},\"colorscale\":[[0.0,\"#0d0887\"],[0.1111111111111111,\"#46039f\"],[0.2222222222222222,\"#7201a8\"],[0.3333333333333333,\"#9c179e\"],[0.4444444444444444,\"#bd3786\"],[0.5555555555555556,\"#d8576b\"],[0.6666666666666666,\"#ed7953\"],[0.7777777777777778,\"#fb9f3a\"],[0.8888888888888888,\"#fdca26\"],[1.0,\"#f0f921\"]],\"type\":\"heatmapgl\"}],\"histogram\":[{\"marker\":{\"pattern\":{\"fillmode\":\"overlay\",\"size\":10,\"solidity\":0.2}},\"type\":\"histogram\"}],\"histogram2d\":[{\"colorbar\":{\"outlinewidth\":0,\"ticks\":\"\"},\"colorscale\":[[0.0,\"#0d0887\"],[0.1111111111111111,\"#46039f\"],[0.2222222222222222,\"#7201a8\"],[0.3333333333333333,\"#9c179e\"],[0.4444444444444444,\"#bd3786\"],[0.5555555555555556,\"#d8576b\"],[0.6666666666666666,\"#ed7953\"],[0.7777777777777778,\"#fb9f3a\"],[0.8888888888888888,\"#fdca26\"],[1.0,\"#f0f921\"]],\"type\":\"histogram2d\"}],\"histogram2dcontour\":[{\"colorbar\":{\"outlinewidth\":0,\"ticks\":\"\"},\"colorscale\":[[0.0,\"#0d0887\"],[0.1111111111111111,\"#46039f\"],[0.2222222222222222,\"#7201a8\"],[0.3333333333333333,\"#9c179e\"],[0.4444444444444444,\"#bd3786\"],[0.5555555555555556,\"#d8576b\"],[0.6666666666666666,\"#ed7953\"],[0.7777777777777778,\"#fb9f3a\"],[0.8888888888888888,\"#fdca26\"],[1.0,\"#f0f921\"]],\"type\":\"histogram2dcontour\"}],\"mesh3d\":[{\"colorbar\":{\"outlinewidth\":0,\"ticks\":\"\"},\"type\":\"mesh3d\"}],\"parcoords\":[{\"line\":{\"colorbar\":{\"outlinewidth\":0,\"ticks\":\"\"}},\"type\":\"parcoords\"}],\"pie\":[{\"automargin\":true,\"type\":\"pie\"}],\"scatter\":[{\"marker\":{\"colorbar\":{\"outlinewidth\":0,\"ticks\":\"\"}},\"type\":\"scatter\"}],\"scatter3d\":[{\"line\":{\"colorbar\":{\"outlinewidth\":0,\"ticks\":\"\"}},\"marker\":{\"colorbar\":{\"outlinewidth\":0,\"ticks\":\"\"}},\"type\":\"scatter3d\"}],\"scattercarpet\":[{\"marker\":{\"colorbar\":{\"outlinewidth\":0,\"ticks\":\"\"}},\"type\":\"scattercarpet\"}],\"scattergeo\":[{\"marker\":{\"colorbar\":{\"outlinewidth\":0,\"ticks\":\"\"}},\"type\":\"scattergeo\"}],\"scattergl\":[{\"marker\":{\"colorbar\":{\"outlinewidth\":0,\"ticks\":\"\"}},\"type\":\"scattergl\"}],\"scattermapbox\":[{\"marker\":{\"colorbar\":{\"outlinewidth\":0,\"ticks\":\"\"}},\"type\":\"scattermapbox\"}],\"scatterpolar\":[{\"marker\":{\"colorbar\":{\"outlinewidth\":0,\"ticks\":\"\"}},\"type\":\"scatterpolar\"}],\"scatterpolargl\":[{\"marker\":{\"colorbar\":{\"outlinewidth\":0,\"ticks\":\"\"}},\"type\":\"scatterpolargl\"}],\"scatterternary\":[{\"marker\":{\"colorbar\":{\"outlinewidth\":0,\"ticks\":\"\"}},\"type\":\"scatterternary\"}],\"surface\":[{\"colorbar\":{\"outlinewidth\":0,\"ticks\":\"\"},\"colorscale\":[[0.0,\"#0d0887\"],[0.1111111111111111,\"#46039f\"],[0.2222222222222222,\"#7201a8\"],[0.3333333333333333,\"#9c179e\"],[0.4444444444444444,\"#bd3786\"],[0.5555555555555556,\"#d8576b\"],[0.6666666666666666,\"#ed7953\"],[0.7777777777777778,\"#fb9f3a\"],[0.8888888888888888,\"#fdca26\"],[1.0,\"#f0f921\"]],\"type\":\"surface\"}],\"table\":[{\"cells\":{\"fill\":{\"color\":\"#EBF0F8\"},\"line\":{\"color\":\"white\"}},\"header\":{\"fill\":{\"color\":\"#C8D4E3\"},\"line\":{\"color\":\"white\"}},\"type\":\"table\"}]},\"layout\":{\"annotationdefaults\":{\"arrowcolor\":\"#2a3f5f\",\"arrowhead\":0,\"arrowwidth\":1},\"autotypenumbers\":\"strict\",\"coloraxis\":{\"colorbar\":{\"outlinewidth\":0,\"ticks\":\"\"}},\"colorscale\":{\"diverging\":[[0,\"#8e0152\"],[0.1,\"#c51b7d\"],[0.2,\"#de77ae\"],[0.3,\"#f1b6da\"],[0.4,\"#fde0ef\"],[0.5,\"#f7f7f7\"],[0.6,\"#e6f5d0\"],[0.7,\"#b8e186\"],[0.8,\"#7fbc41\"],[0.9,\"#4d9221\"],[1,\"#276419\"]],\"sequential\":[[0.0,\"#0d0887\"],[0.1111111111111111,\"#46039f\"],[0.2222222222222222,\"#7201a8\"],[0.3333333333333333,\"#9c179e\"],[0.4444444444444444,\"#bd3786\"],[0.5555555555555556,\"#d8576b\"],[0.6666666666666666,\"#ed7953\"],[0.7777777777777778,\"#fb9f3a\"],[0.8888888888888888,\"#fdca26\"],[1.0,\"#f0f921\"]],\"sequentialminus\":[[0.0,\"#0d0887\"],[0.1111111111111111,\"#46039f\"],[0.2222222222222222,\"#7201a8\"],[0.3333333333333333,\"#9c179e\"],[0.4444444444444444,\"#bd3786\"],[0.5555555555555556,\"#d8576b\"],[0.6666666666666666,\"#ed7953\"],[0.7777777777777778,\"#fb9f3a\"],[0.8888888888888888,\"#fdca26\"],[1.0,\"#f0f921\"]]},\"colorway\":[\"#636efa\",\"#EF553B\",\"#00cc96\",\"#ab63fa\",\"#FFA15A\",\"#19d3f3\",\"#FF6692\",\"#B6E880\",\"#FF97FF\",\"#FECB52\"],\"font\":{\"color\":\"#2a3f5f\"},\"geo\":{\"bgcolor\":\"white\",\"lakecolor\":\"white\",\"landcolor\":\"#E5ECF6\",\"showlakes\":true,\"showland\":true,\"subunitcolor\":\"white\"},\"hoverlabel\":{\"align\":\"left\"},\"hovermode\":\"closest\",\"mapbox\":{\"style\":\"light\"},\"paper_bgcolor\":\"white\",\"plot_bgcolor\":\"#E5ECF6\",\"polar\":{\"angularaxis\":{\"gridcolor\":\"white\",\"linecolor\":\"white\",\"ticks\":\"\"},\"bgcolor\":\"#E5ECF6\",\"radialaxis\":{\"gridcolor\":\"white\",\"linecolor\":\"white\",\"ticks\":\"\"}},\"scene\":{\"xaxis\":{\"backgroundcolor\":\"#E5ECF6\",\"gridcolor\":\"white\",\"gridwidth\":2,\"linecolor\":\"white\",\"showbackground\":true,\"ticks\":\"\",\"zerolinecolor\":\"white\"},\"yaxis\":{\"backgroundcolor\":\"#E5ECF6\",\"gridcolor\":\"white\",\"gridwidth\":2,\"linecolor\":\"white\",\"showbackground\":true,\"ticks\":\"\",\"zerolinecolor\":\"white\"},\"zaxis\":{\"backgroundcolor\":\"#E5ECF6\",\"gridcolor\":\"white\",\"gridwidth\":2,\"linecolor\":\"white\",\"showbackground\":true,\"ticks\":\"\",\"zerolinecolor\":\"white\"}},\"shapedefaults\":{\"line\":{\"color\":\"#2a3f5f\"}},\"ternary\":{\"aaxis\":{\"gridcolor\":\"white\",\"linecolor\":\"white\",\"ticks\":\"\"},\"baxis\":{\"gridcolor\":\"white\",\"linecolor\":\"white\",\"ticks\":\"\"},\"bgcolor\":\"#E5ECF6\",\"caxis\":{\"gridcolor\":\"white\",\"linecolor\":\"white\",\"ticks\":\"\"}},\"title\":{\"x\":0.05},\"xaxis\":{\"automargin\":true,\"gridcolor\":\"white\",\"linecolor\":\"white\",\"ticks\":\"\",\"title\":{\"standoff\":15},\"zerolinecolor\":\"white\",\"zerolinewidth\":2},\"yaxis\":{\"automargin\":true,\"gridcolor\":\"white\",\"linecolor\":\"white\",\"ticks\":\"\",\"title\":{\"standoff\":15},\"zerolinecolor\":\"white\",\"zerolinewidth\":2}}},\"xaxis\":{\"anchor\":\"y\",\"domain\":[0.0,1.0],\"title\":{\"text\":\"importance\"}},\"yaxis\":{\"anchor\":\"x\",\"domain\":[0.0,1.0],\"title\":{\"text\":\"feat_name\"}},\"legend\":{\"tracegroupgap\":0},\"margin\":{\"t\":60},\"barmode\":\"relative\"},                        {\"responsive\": true}                    ).then(function(){\n",
       "                            \n",
       "var gd = document.getElementById('84b7c7d2-0c09-418d-8aca-9b01608dabb2');\n",
       "var x = new MutationObserver(function (mutations, observer) {{\n",
       "        var display = window.getComputedStyle(gd).display;\n",
       "        if (!display || display === 'none') {{\n",
       "            console.log([gd, 'removed!']);\n",
       "            Plotly.purge(gd);\n",
       "            observer.disconnect();\n",
       "        }}\n",
       "}});\n",
       "\n",
       "// Listen for the removal of the full notebook cells\n",
       "var notebookContainer = gd.closest('#notebook-container');\n",
       "if (notebookContainer) {{\n",
       "    x.observe(notebookContainer, {childList: true});\n",
       "}}\n",
       "\n",
       "// Listen for the clearing of the current output cell\n",
       "var outputEl = gd.closest('.output');\n",
       "if (outputEl) {{\n",
       "    x.observe(outputEl, {childList: true});\n",
       "}}\n",
       "\n",
       "                        })                };                });            </script>        </div>"
      ]
     },
     "metadata": {},
     "output_type": "display_data"
    }
   ],
   "source": [
    "gezi.plot.feature_importance(cbt_model, topn=20)"
   ]
  },
  {
   "cell_type": "code",
   "execution_count": 64,
   "metadata": {},
   "outputs": [],
   "source": [
    "import lightgbm as lgb\n",
    "params = {\n",
    "          'boosting': 'gbdt',\n",
    "          'objective': 'regression_l1',\n",
    "          'metric': {'l1'},\n",
    "          # 'num_leaves': 32,\n",
    "          # 'num_leaves': 24,\n",
    "          'num_leaves': 12,\n",
    "          # 'min_data_in_leaf': 300,\n",
    "          'min_data_in_leaf': 500,\n",
    "          # 'max_depth': 5,\n",
    "          'learning_rate': 0.03,\n",
    "          # \"feature_fraction\": 0.8,\n",
    "          # \"bagging_fraction\": 0.75,\n",
    "          # \"feature_fraction\": 0.9,\n",
    "          # \"bagging_fraction\": 0.8,\n",
    "          'feature_fraction': 0.7,\n",
    "          'bagging_fraction': 0.7,\n",
    "          'min_data_in_bin':100,\n",
    "          \"lambda_l1\": 1e-7,\n",
    "          'lambda_l2': 1e-7,\n",
    "          \"random_state\": 1024,\n",
    "          \"num_threads\": 12,\n",
    "          }"
   ]
  },
  {
   "cell_type": "code",
   "execution_count": 65,
   "metadata": {},
   "outputs": [
    {
     "name": "stdout",
     "output_type": "stream",
     "text": [
      "[LightGBM] [Warning] Auto-choosing col-wise multi-threading, the overhead of testing was 0.057236 seconds.\n",
      "You can set `force_col_wise=true` to remove the overhead.\n",
      "[LightGBM] [Info] Total Bins 26661\n",
      "[LightGBM] [Info] Number of data points in the train set: 342411, number of used features: 114\n",
      "[LightGBM] [Info] Start training from score 0.455056\n",
      "Training until validation scores don't improve for 200 rounds\n",
      "[100]\ttraining's l1: 0.0668261\tvalid_1's l1: 0.0680372\n",
      "[200]\ttraining's l1: 0.0595717\tvalid_1's l1: 0.0609744\n",
      "[300]\ttraining's l1: 0.058644\tvalid_1's l1: 0.0600934\n",
      "[400]\ttraining's l1: 0.057801\tvalid_1's l1: 0.0593145\n",
      "[500]\ttraining's l1: 0.0571562\tvalid_1's l1: 0.0587155\n",
      "[600]\ttraining's l1: 0.0568031\tvalid_1's l1: 0.0583954\n",
      "[700]\ttraining's l1: 0.0565955\tvalid_1's l1: 0.0582078\n",
      "[800]\ttraining's l1: 0.0563526\tvalid_1's l1: 0.0580062\n",
      "[900]\ttraining's l1: 0.0561984\tvalid_1's l1: 0.0578756\n",
      "[1000]\ttraining's l1: 0.0560919\tvalid_1's l1: 0.0577847\n",
      "[1100]\ttraining's l1: 0.0559949\tvalid_1's l1: 0.0577059\n",
      "[1200]\ttraining's l1: 0.0559057\tvalid_1's l1: 0.0576303\n",
      "[1300]\ttraining's l1: 0.0558258\tvalid_1's l1: 0.0575719\n",
      "[1400]\ttraining's l1: 0.0557702\tvalid_1's l1: 0.05753\n",
      "[1500]\ttraining's l1: 0.0557271\tvalid_1's l1: 0.057503\n",
      "[1600]\ttraining's l1: 0.0556788\tvalid_1's l1: 0.0574693\n",
      "[1700]\ttraining's l1: 0.0556426\tvalid_1's l1: 0.0574448\n",
      "[1800]\ttraining's l1: 0.0556093\tvalid_1's l1: 0.057423\n",
      "[1900]\ttraining's l1: 0.0555638\tvalid_1's l1: 0.0573918\n",
      "[2000]\ttraining's l1: 0.0555201\tvalid_1's l1: 0.0573619\n",
      "[2100]\ttraining's l1: 0.0554909\tvalid_1's l1: 0.0573416\n",
      "[2200]\ttraining's l1: 0.055455\tvalid_1's l1: 0.0573168\n",
      "[2300]\ttraining's l1: 0.0554208\tvalid_1's l1: 0.0572917\n",
      "[2400]\ttraining's l1: 0.0553849\tvalid_1's l1: 0.0572684\n",
      "[2500]\ttraining's l1: 0.0553447\tvalid_1's l1: 0.0572487\n",
      "[2600]\ttraining's l1: 0.0553189\tvalid_1's l1: 0.0572353\n",
      "[2700]\ttraining's l1: 0.0552976\tvalid_1's l1: 0.057223\n",
      "[2800]\ttraining's l1: 0.0552837\tvalid_1's l1: 0.0572148\n",
      "[2900]\ttraining's l1: 0.0552749\tvalid_1's l1: 0.0572099\n",
      "[3000]\ttraining's l1: 0.0552545\tvalid_1's l1: 0.0571978\n",
      "[3100]\ttraining's l1: 0.0552373\tvalid_1's l1: 0.0571884\n",
      "[3200]\ttraining's l1: 0.0552142\tvalid_1's l1: 0.0571741\n",
      "[3300]\ttraining's l1: 0.055202\tvalid_1's l1: 0.0571661\n",
      "[3400]\ttraining's l1: 0.0551849\tvalid_1's l1: 0.0571571\n",
      "[3500]\ttraining's l1: 0.0551662\tvalid_1's l1: 0.0571488\n",
      "[3600]\ttraining's l1: 0.0551377\tvalid_1's l1: 0.0571323\n",
      "[3700]\ttraining's l1: 0.0551255\tvalid_1's l1: 0.0571269\n",
      "[3800]\ttraining's l1: 0.0551103\tvalid_1's l1: 0.057118\n",
      "[3900]\ttraining's l1: 0.0550923\tvalid_1's l1: 0.0571088\n",
      "[4000]\ttraining's l1: 0.0550768\tvalid_1's l1: 0.0571025\n",
      "[4100]\ttraining's l1: 0.0550551\tvalid_1's l1: 0.0570925\n",
      "[4200]\ttraining's l1: 0.0550373\tvalid_1's l1: 0.0570864\n",
      "[4300]\ttraining's l1: 0.0550188\tvalid_1's l1: 0.0570785\n",
      "[4400]\ttraining's l1: 0.0550073\tvalid_1's l1: 0.0570765\n",
      "[4500]\ttraining's l1: 0.0549956\tvalid_1's l1: 0.0570724\n",
      "[4600]\ttraining's l1: 0.0549729\tvalid_1's l1: 0.0570603\n",
      "[4700]\ttraining's l1: 0.0549649\tvalid_1's l1: 0.0570566\n",
      "[4800]\ttraining's l1: 0.0549584\tvalid_1's l1: 0.057053\n",
      "[4900]\ttraining's l1: 0.0549468\tvalid_1's l1: 0.0570508\n",
      "[5000]\ttraining's l1: 0.0549319\tvalid_1's l1: 0.0570493\n",
      "[5100]\ttraining's l1: 0.054918\tvalid_1's l1: 0.0570447\n",
      "[5200]\ttraining's l1: 0.0548996\tvalid_1's l1: 0.0570384\n",
      "[5300]\ttraining's l1: 0.0548888\tvalid_1's l1: 0.0570341\n",
      "[5400]\ttraining's l1: 0.0548814\tvalid_1's l1: 0.057032\n",
      "[5500]\ttraining's l1: 0.0548655\tvalid_1's l1: 0.0570254\n",
      "[5600]\ttraining's l1: 0.0548525\tvalid_1's l1: 0.0570203\n",
      "[5700]\ttraining's l1: 0.054844\tvalid_1's l1: 0.0570184\n",
      "[5800]\ttraining's l1: 0.0548328\tvalid_1's l1: 0.057014\n",
      "[5900]\ttraining's l1: 0.054818\tvalid_1's l1: 0.0570113\n",
      "[6000]\ttraining's l1: 0.0548036\tvalid_1's l1: 0.0570052\n",
      "[6100]\ttraining's l1: 0.0547958\tvalid_1's l1: 0.0570036\n",
      "[6200]\ttraining's l1: 0.0547811\tvalid_1's l1: 0.0569998\n",
      "[6300]\ttraining's l1: 0.0547739\tvalid_1's l1: 0.0569973\n",
      "[6400]\ttraining's l1: 0.0547632\tvalid_1's l1: 0.0569941\n",
      "[6500]\ttraining's l1: 0.0547522\tvalid_1's l1: 0.056991\n",
      "[6600]\ttraining's l1: 0.0547421\tvalid_1's l1: 0.0569875\n",
      "[6700]\ttraining's l1: 0.054731\tvalid_1's l1: 0.0569861\n",
      "[6800]\ttraining's l1: 0.0547204\tvalid_1's l1: 0.0569817\n",
      "[6900]\ttraining's l1: 0.0547049\tvalid_1's l1: 0.0569758\n",
      "[7000]\ttraining's l1: 0.0546948\tvalid_1's l1: 0.0569731\n",
      "[7100]\ttraining's l1: 0.0546888\tvalid_1's l1: 0.0569707\n",
      "[7200]\ttraining's l1: 0.0546772\tvalid_1's l1: 0.0569664\n",
      "[7300]\ttraining's l1: 0.0546686\tvalid_1's l1: 0.0569646\n",
      "[7400]\ttraining's l1: 0.0546578\tvalid_1's l1: 0.0569617\n",
      "[7500]\ttraining's l1: 0.0546464\tvalid_1's l1: 0.0569581\n",
      "[7600]\ttraining's l1: 0.0546343\tvalid_1's l1: 0.0569525\n",
      "[7700]\ttraining's l1: 0.0546252\tvalid_1's l1: 0.0569509\n",
      "[7800]\ttraining's l1: 0.054616\tvalid_1's l1: 0.0569484\n",
      "[7900]\ttraining's l1: 0.0546119\tvalid_1's l1: 0.0569464\n",
      "[8000]\ttraining's l1: 0.0546062\tvalid_1's l1: 0.0569458\n",
      "[8100]\ttraining's l1: 0.0545976\tvalid_1's l1: 0.0569439\n",
      "[8200]\ttraining's l1: 0.0545899\tvalid_1's l1: 0.0569417\n",
      "[8300]\ttraining's l1: 0.0545786\tvalid_1's l1: 0.0569388\n",
      "[8400]\ttraining's l1: 0.0545738\tvalid_1's l1: 0.0569383\n",
      "[8500]\ttraining's l1: 0.0545648\tvalid_1's l1: 0.0569341\n",
      "[8600]\ttraining's l1: 0.0545543\tvalid_1's l1: 0.0569321\n",
      "[8700]\ttraining's l1: 0.0545403\tvalid_1's l1: 0.056926\n",
      "[8800]\ttraining's l1: 0.0545338\tvalid_1's l1: 0.0569238\n",
      "[8900]\ttraining's l1: 0.0545276\tvalid_1's l1: 0.0569224\n",
      "[9000]\ttraining's l1: 0.0545141\tvalid_1's l1: 0.0569163\n",
      "[9100]\ttraining's l1: 0.0545049\tvalid_1's l1: 0.0569122\n",
      "[9200]\ttraining's l1: 0.0544967\tvalid_1's l1: 0.0569085\n",
      "[9300]\ttraining's l1: 0.0544915\tvalid_1's l1: 0.0569082\n",
      "[9400]\ttraining's l1: 0.0544838\tvalid_1's l1: 0.0569053\n",
      "[9500]\ttraining's l1: 0.0544782\tvalid_1's l1: 0.0569042\n",
      "[9600]\ttraining's l1: 0.0544721\tvalid_1's l1: 0.0569021\n",
      "[9700]\ttraining's l1: 0.0544656\tvalid_1's l1: 0.0569006\n",
      "[9800]\ttraining's l1: 0.0544619\tvalid_1's l1: 0.0568993\n",
      "[9900]\ttraining's l1: 0.0544574\tvalid_1's l1: 0.056899\n",
      "[10000]\ttraining's l1: 0.0544453\tvalid_1's l1: 0.0568966\n",
      "[10100]\ttraining's l1: 0.0544324\tvalid_1's l1: 0.0568939\n",
      "[10200]\ttraining's l1: 0.054423\tvalid_1's l1: 0.0568907\n",
      "[10300]\ttraining's l1: 0.0544158\tvalid_1's l1: 0.0568896\n",
      "[10400]\ttraining's l1: 0.054408\tvalid_1's l1: 0.0568879\n",
      "[10500]\ttraining's l1: 0.0543993\tvalid_1's l1: 0.0568862\n",
      "[10600]\ttraining's l1: 0.0543891\tvalid_1's l1: 0.0568831\n",
      "[10700]\ttraining's l1: 0.0543758\tvalid_1's l1: 0.0568785\n",
      "[10800]\ttraining's l1: 0.0543686\tvalid_1's l1: 0.0568753\n",
      "[10900]\ttraining's l1: 0.0543599\tvalid_1's l1: 0.0568738\n",
      "[11000]\ttraining's l1: 0.054356\tvalid_1's l1: 0.0568737\n",
      "[11100]\ttraining's l1: 0.0543482\tvalid_1's l1: 0.056871\n",
      "[11200]\ttraining's l1: 0.0543421\tvalid_1's l1: 0.0568691\n",
      "[11300]\ttraining's l1: 0.0543362\tvalid_1's l1: 0.0568667\n",
      "[11400]\ttraining's l1: 0.0543295\tvalid_1's l1: 0.0568633\n",
      "[11500]\ttraining's l1: 0.0543232\tvalid_1's l1: 0.0568621\n",
      "[11600]\ttraining's l1: 0.0543178\tvalid_1's l1: 0.0568604\n",
      "[11700]\ttraining's l1: 0.0543133\tvalid_1's l1: 0.0568589\n",
      "[11800]\ttraining's l1: 0.0543057\tvalid_1's l1: 0.0568574\n",
      "[11900]\ttraining's l1: 0.0543016\tvalid_1's l1: 0.0568577\n",
      "[12000]\ttraining's l1: 0.054296\tvalid_1's l1: 0.056856\n",
      "[12100]\ttraining's l1: 0.05429\tvalid_1's l1: 0.0568548\n",
      "[12200]\ttraining's l1: 0.0542835\tvalid_1's l1: 0.0568534\n",
      "[12300]\ttraining's l1: 0.0542797\tvalid_1's l1: 0.0568524\n",
      "[12400]\ttraining's l1: 0.0542737\tvalid_1's l1: 0.0568501\n",
      "[12500]\ttraining's l1: 0.0542674\tvalid_1's l1: 0.0568482\n",
      "[12600]\ttraining's l1: 0.0542578\tvalid_1's l1: 0.0568454\n",
      "[12700]\ttraining's l1: 0.054228\tvalid_1's l1: 0.0568362\n",
      "[12800]\ttraining's l1: 0.0542229\tvalid_1's l1: 0.0568354\n",
      "[12900]\ttraining's l1: 0.0542179\tvalid_1's l1: 0.0568347\n",
      "[13000]\ttraining's l1: 0.0542133\tvalid_1's l1: 0.0568343\n",
      "[13100]\ttraining's l1: 0.0542085\tvalid_1's l1: 0.0568337\n",
      "[13200]\ttraining's l1: 0.054194\tvalid_1's l1: 0.0568287\n",
      "[13300]\ttraining's l1: 0.054185\tvalid_1's l1: 0.0568269\n",
      "[13400]\ttraining's l1: 0.0541817\tvalid_1's l1: 0.0568253\n",
      "[13500]\ttraining's l1: 0.0541783\tvalid_1's l1: 0.056824\n",
      "[13600]\ttraining's l1: 0.0541725\tvalid_1's l1: 0.056823\n",
      "[13700]\ttraining's l1: 0.0541684\tvalid_1's l1: 0.0568219\n",
      "[13800]\ttraining's l1: 0.0541607\tvalid_1's l1: 0.0568216\n",
      "[13900]\ttraining's l1: 0.0541577\tvalid_1's l1: 0.0568204\n",
      "[14000]\ttraining's l1: 0.0541515\tvalid_1's l1: 0.0568186\n",
      "[14100]\ttraining's l1: 0.0541457\tvalid_1's l1: 0.0568182\n",
      "[14200]\ttraining's l1: 0.0541426\tvalid_1's l1: 0.0568171\n",
      "[14300]\ttraining's l1: 0.0541392\tvalid_1's l1: 0.0568164\n",
      "[14400]\ttraining's l1: 0.0541339\tvalid_1's l1: 0.0568153\n",
      "[14500]\ttraining's l1: 0.0541276\tvalid_1's l1: 0.0568144\n",
      "[14600]\ttraining's l1: 0.054122\tvalid_1's l1: 0.0568127\n",
      "[14700]\ttraining's l1: 0.0541135\tvalid_1's l1: 0.0568116\n",
      "[14800]\ttraining's l1: 0.0541003\tvalid_1's l1: 0.0568102\n",
      "[14900]\ttraining's l1: 0.0540879\tvalid_1's l1: 0.0568085\n",
      "[15000]\ttraining's l1: 0.0540816\tvalid_1's l1: 0.0568073\n",
      "[15100]\ttraining's l1: 0.0540759\tvalid_1's l1: 0.0568063\n",
      "[15200]\ttraining's l1: 0.0540686\tvalid_1's l1: 0.0568061\n",
      "[15300]\ttraining's l1: 0.0540639\tvalid_1's l1: 0.0568055\n",
      "[15400]\ttraining's l1: 0.0540571\tvalid_1's l1: 0.056805\n",
      "[15500]\ttraining's l1: 0.0540474\tvalid_1's l1: 0.0568048\n",
      "[15600]\ttraining's l1: 0.0540438\tvalid_1's l1: 0.056804\n",
      "[15700]\ttraining's l1: 0.0540405\tvalid_1's l1: 0.0568033\n",
      "[15800]\ttraining's l1: 0.0540379\tvalid_1's l1: 0.0568027\n",
      "[15900]\ttraining's l1: 0.0540362\tvalid_1's l1: 0.0568022\n",
      "[16000]\ttraining's l1: 0.054033\tvalid_1's l1: 0.0568015\n",
      "[16100]\ttraining's l1: 0.0540253\tvalid_1's l1: 0.0567997\n",
      "[16200]\ttraining's l1: 0.0540158\tvalid_1's l1: 0.0567984\n",
      "[16300]\ttraining's l1: 0.0540111\tvalid_1's l1: 0.0567959\n",
      "[16400]\ttraining's l1: 0.0540013\tvalid_1's l1: 0.0567933\n",
      "[16500]\ttraining's l1: 0.0539943\tvalid_1's l1: 0.0567913\n",
      "[16600]\ttraining's l1: 0.0539898\tvalid_1's l1: 0.0567904\n",
      "[16700]\ttraining's l1: 0.053986\tvalid_1's l1: 0.0567899\n",
      "[16800]\ttraining's l1: 0.0539814\tvalid_1's l1: 0.0567891\n",
      "[16900]\ttraining's l1: 0.0539773\tvalid_1's l1: 0.0567882\n",
      "[17000]\ttraining's l1: 0.0539731\tvalid_1's l1: 0.0567874\n",
      "[17100]\ttraining's l1: 0.053967\tvalid_1's l1: 0.0567873\n",
      "[17200]\ttraining's l1: 0.0539628\tvalid_1's l1: 0.0567855\n",
      "[17300]\ttraining's l1: 0.0539598\tvalid_1's l1: 0.0567859\n",
      "Early stopping, best iteration is:\n",
      "[17179]\ttraining's l1: 0.0539635\tvalid_1's l1: 0.0567854\n"
     ]
    },
    {
     "name": "stderr",
     "output_type": "stream",
     "text": [
      "[08/10/22 11:42:41] 1296901836.py:12 in <module>\n",
      "                    lgb_score: 0.9197838846981955\n"
     ]
    },
    {
     "data": {
      "text/plain": [
       "0.9197838846981955"
      ]
     },
     "execution_count": 65,
     "metadata": {},
     "output_type": "execute_result"
    }
   ],
   "source": [
    "d_train = lgb.Dataset(X_train, y_train)\n",
    "d_valid = lgb.Dataset(X_valid, y_valid, reference=d_train)\n",
    "\n",
    "lgb_model = lgb.train(params,\n",
    "                d_train,\n",
    "                20000,\n",
    "                valid_sets=[d_train, d_valid],\n",
    "                verbose_eval=100,\n",
    "                early_stopping_rounds=200)\n",
    "dvalid['lgb_pred'] = lgb_model.predict(dvalid[cols])\n",
    "lgb_score = calc_metric({'id': dvalid.id.values, 'cell_id': dvalid.cell_id.values, 'pred': dvalid.lgb_pred.values})\n",
    "ic(lgb_score)"
   ]
  },
  {
   "cell_type": "code",
   "execution_count": 66,
   "metadata": {},
   "outputs": [
    {
     "data": {
      "application/vnd.plotly.v1+json": {
       "config": {
        "plotlyServerURL": "https://plot.ly"
       },
       "data": [
        {
         "alignmentgroup": "True",
         "hovertemplate": "importance=%{x}<br>feat_name=%{y}<extra></extra>",
         "legendgroup": "",
         "marker": {
          "color": "#636efa",
          "pattern": {
           "shape": ""
          }
         },
         "name": "",
         "offsetgroup": "",
         "orientation": "h",
         "showlegend": false,
         "textposition": "auto",
         "type": "bar",
         "x": [
          2371,
          2382,
          2578,
          2624,
          2648,
          2673,
          2722,
          2736,
          2744,
          2824,
          2893,
          3042,
          3334,
          3371,
          3576,
          3776,
          3879,
          4129,
          5307,
          5625
         ],
         "xaxis": "x",
         "y": [
          "xc_top_prob_9",
          "xc_cls_cls2_diff",
          "xc_top_prob_2",
          "pcc_cls2_diff",
          "pcc_reg_diff",
          "xp_var_prob",
          "xc_cls2_reg_diff",
          "xp_top_prob_1",
          "xpc_var_prob",
          "xc_abs_cls_cls2_diff",
          "code_ratio",
          "xc_abs_cls2_reg_diff",
          "n_words",
          "xp_top_prob_0",
          "xpc_top_prob_0",
          "xpc_pred",
          "xc_cls_pred",
          "xc_top_prob_1",
          "xpc_cls_pred",
          "xc_reg_pred"
         ],
         "yaxis": "y"
        }
       ],
       "layout": {
        "barmode": "relative",
        "legend": {
         "tracegroupgap": 0
        },
        "margin": {
         "t": 60
        },
        "template": {
         "data": {
          "bar": [
           {
            "error_x": {
             "color": "#2a3f5f"
            },
            "error_y": {
             "color": "#2a3f5f"
            },
            "marker": {
             "line": {
              "color": "#E5ECF6",
              "width": 0.5
             },
             "pattern": {
              "fillmode": "overlay",
              "size": 10,
              "solidity": 0.2
             }
            },
            "type": "bar"
           }
          ],
          "barpolar": [
           {
            "marker": {
             "line": {
              "color": "#E5ECF6",
              "width": 0.5
             },
             "pattern": {
              "fillmode": "overlay",
              "size": 10,
              "solidity": 0.2
             }
            },
            "type": "barpolar"
           }
          ],
          "carpet": [
           {
            "aaxis": {
             "endlinecolor": "#2a3f5f",
             "gridcolor": "white",
             "linecolor": "white",
             "minorgridcolor": "white",
             "startlinecolor": "#2a3f5f"
            },
            "baxis": {
             "endlinecolor": "#2a3f5f",
             "gridcolor": "white",
             "linecolor": "white",
             "minorgridcolor": "white",
             "startlinecolor": "#2a3f5f"
            },
            "type": "carpet"
           }
          ],
          "choropleth": [
           {
            "colorbar": {
             "outlinewidth": 0,
             "ticks": ""
            },
            "type": "choropleth"
           }
          ],
          "contour": [
           {
            "colorbar": {
             "outlinewidth": 0,
             "ticks": ""
            },
            "colorscale": [
             [
              0,
              "#0d0887"
             ],
             [
              0.1111111111111111,
              "#46039f"
             ],
             [
              0.2222222222222222,
              "#7201a8"
             ],
             [
              0.3333333333333333,
              "#9c179e"
             ],
             [
              0.4444444444444444,
              "#bd3786"
             ],
             [
              0.5555555555555556,
              "#d8576b"
             ],
             [
              0.6666666666666666,
              "#ed7953"
             ],
             [
              0.7777777777777778,
              "#fb9f3a"
             ],
             [
              0.8888888888888888,
              "#fdca26"
             ],
             [
              1,
              "#f0f921"
             ]
            ],
            "type": "contour"
           }
          ],
          "contourcarpet": [
           {
            "colorbar": {
             "outlinewidth": 0,
             "ticks": ""
            },
            "type": "contourcarpet"
           }
          ],
          "heatmap": [
           {
            "colorbar": {
             "outlinewidth": 0,
             "ticks": ""
            },
            "colorscale": [
             [
              0,
              "#0d0887"
             ],
             [
              0.1111111111111111,
              "#46039f"
             ],
             [
              0.2222222222222222,
              "#7201a8"
             ],
             [
              0.3333333333333333,
              "#9c179e"
             ],
             [
              0.4444444444444444,
              "#bd3786"
             ],
             [
              0.5555555555555556,
              "#d8576b"
             ],
             [
              0.6666666666666666,
              "#ed7953"
             ],
             [
              0.7777777777777778,
              "#fb9f3a"
             ],
             [
              0.8888888888888888,
              "#fdca26"
             ],
             [
              1,
              "#f0f921"
             ]
            ],
            "type": "heatmap"
           }
          ],
          "heatmapgl": [
           {
            "colorbar": {
             "outlinewidth": 0,
             "ticks": ""
            },
            "colorscale": [
             [
              0,
              "#0d0887"
             ],
             [
              0.1111111111111111,
              "#46039f"
             ],
             [
              0.2222222222222222,
              "#7201a8"
             ],
             [
              0.3333333333333333,
              "#9c179e"
             ],
             [
              0.4444444444444444,
              "#bd3786"
             ],
             [
              0.5555555555555556,
              "#d8576b"
             ],
             [
              0.6666666666666666,
              "#ed7953"
             ],
             [
              0.7777777777777778,
              "#fb9f3a"
             ],
             [
              0.8888888888888888,
              "#fdca26"
             ],
             [
              1,
              "#f0f921"
             ]
            ],
            "type": "heatmapgl"
           }
          ],
          "histogram": [
           {
            "marker": {
             "pattern": {
              "fillmode": "overlay",
              "size": 10,
              "solidity": 0.2
             }
            },
            "type": "histogram"
           }
          ],
          "histogram2d": [
           {
            "colorbar": {
             "outlinewidth": 0,
             "ticks": ""
            },
            "colorscale": [
             [
              0,
              "#0d0887"
             ],
             [
              0.1111111111111111,
              "#46039f"
             ],
             [
              0.2222222222222222,
              "#7201a8"
             ],
             [
              0.3333333333333333,
              "#9c179e"
             ],
             [
              0.4444444444444444,
              "#bd3786"
             ],
             [
              0.5555555555555556,
              "#d8576b"
             ],
             [
              0.6666666666666666,
              "#ed7953"
             ],
             [
              0.7777777777777778,
              "#fb9f3a"
             ],
             [
              0.8888888888888888,
              "#fdca26"
             ],
             [
              1,
              "#f0f921"
             ]
            ],
            "type": "histogram2d"
           }
          ],
          "histogram2dcontour": [
           {
            "colorbar": {
             "outlinewidth": 0,
             "ticks": ""
            },
            "colorscale": [
             [
              0,
              "#0d0887"
             ],
             [
              0.1111111111111111,
              "#46039f"
             ],
             [
              0.2222222222222222,
              "#7201a8"
             ],
             [
              0.3333333333333333,
              "#9c179e"
             ],
             [
              0.4444444444444444,
              "#bd3786"
             ],
             [
              0.5555555555555556,
              "#d8576b"
             ],
             [
              0.6666666666666666,
              "#ed7953"
             ],
             [
              0.7777777777777778,
              "#fb9f3a"
             ],
             [
              0.8888888888888888,
              "#fdca26"
             ],
             [
              1,
              "#f0f921"
             ]
            ],
            "type": "histogram2dcontour"
           }
          ],
          "mesh3d": [
           {
            "colorbar": {
             "outlinewidth": 0,
             "ticks": ""
            },
            "type": "mesh3d"
           }
          ],
          "parcoords": [
           {
            "line": {
             "colorbar": {
              "outlinewidth": 0,
              "ticks": ""
             }
            },
            "type": "parcoords"
           }
          ],
          "pie": [
           {
            "automargin": true,
            "type": "pie"
           }
          ],
          "scatter": [
           {
            "marker": {
             "colorbar": {
              "outlinewidth": 0,
              "ticks": ""
             }
            },
            "type": "scatter"
           }
          ],
          "scatter3d": [
           {
            "line": {
             "colorbar": {
              "outlinewidth": 0,
              "ticks": ""
             }
            },
            "marker": {
             "colorbar": {
              "outlinewidth": 0,
              "ticks": ""
             }
            },
            "type": "scatter3d"
           }
          ],
          "scattercarpet": [
           {
            "marker": {
             "colorbar": {
              "outlinewidth": 0,
              "ticks": ""
             }
            },
            "type": "scattercarpet"
           }
          ],
          "scattergeo": [
           {
            "marker": {
             "colorbar": {
              "outlinewidth": 0,
              "ticks": ""
             }
            },
            "type": "scattergeo"
           }
          ],
          "scattergl": [
           {
            "marker": {
             "colorbar": {
              "outlinewidth": 0,
              "ticks": ""
             }
            },
            "type": "scattergl"
           }
          ],
          "scattermapbox": [
           {
            "marker": {
             "colorbar": {
              "outlinewidth": 0,
              "ticks": ""
             }
            },
            "type": "scattermapbox"
           }
          ],
          "scatterpolar": [
           {
            "marker": {
             "colorbar": {
              "outlinewidth": 0,
              "ticks": ""
             }
            },
            "type": "scatterpolar"
           }
          ],
          "scatterpolargl": [
           {
            "marker": {
             "colorbar": {
              "outlinewidth": 0,
              "ticks": ""
             }
            },
            "type": "scatterpolargl"
           }
          ],
          "scatterternary": [
           {
            "marker": {
             "colorbar": {
              "outlinewidth": 0,
              "ticks": ""
             }
            },
            "type": "scatterternary"
           }
          ],
          "surface": [
           {
            "colorbar": {
             "outlinewidth": 0,
             "ticks": ""
            },
            "colorscale": [
             [
              0,
              "#0d0887"
             ],
             [
              0.1111111111111111,
              "#46039f"
             ],
             [
              0.2222222222222222,
              "#7201a8"
             ],
             [
              0.3333333333333333,
              "#9c179e"
             ],
             [
              0.4444444444444444,
              "#bd3786"
             ],
             [
              0.5555555555555556,
              "#d8576b"
             ],
             [
              0.6666666666666666,
              "#ed7953"
             ],
             [
              0.7777777777777778,
              "#fb9f3a"
             ],
             [
              0.8888888888888888,
              "#fdca26"
             ],
             [
              1,
              "#f0f921"
             ]
            ],
            "type": "surface"
           }
          ],
          "table": [
           {
            "cells": {
             "fill": {
              "color": "#EBF0F8"
             },
             "line": {
              "color": "white"
             }
            },
            "header": {
             "fill": {
              "color": "#C8D4E3"
             },
             "line": {
              "color": "white"
             }
            },
            "type": "table"
           }
          ]
         },
         "layout": {
          "annotationdefaults": {
           "arrowcolor": "#2a3f5f",
           "arrowhead": 0,
           "arrowwidth": 1
          },
          "autotypenumbers": "strict",
          "coloraxis": {
           "colorbar": {
            "outlinewidth": 0,
            "ticks": ""
           }
          },
          "colorscale": {
           "diverging": [
            [
             0,
             "#8e0152"
            ],
            [
             0.1,
             "#c51b7d"
            ],
            [
             0.2,
             "#de77ae"
            ],
            [
             0.3,
             "#f1b6da"
            ],
            [
             0.4,
             "#fde0ef"
            ],
            [
             0.5,
             "#f7f7f7"
            ],
            [
             0.6,
             "#e6f5d0"
            ],
            [
             0.7,
             "#b8e186"
            ],
            [
             0.8,
             "#7fbc41"
            ],
            [
             0.9,
             "#4d9221"
            ],
            [
             1,
             "#276419"
            ]
           ],
           "sequential": [
            [
             0,
             "#0d0887"
            ],
            [
             0.1111111111111111,
             "#46039f"
            ],
            [
             0.2222222222222222,
             "#7201a8"
            ],
            [
             0.3333333333333333,
             "#9c179e"
            ],
            [
             0.4444444444444444,
             "#bd3786"
            ],
            [
             0.5555555555555556,
             "#d8576b"
            ],
            [
             0.6666666666666666,
             "#ed7953"
            ],
            [
             0.7777777777777778,
             "#fb9f3a"
            ],
            [
             0.8888888888888888,
             "#fdca26"
            ],
            [
             1,
             "#f0f921"
            ]
           ],
           "sequentialminus": [
            [
             0,
             "#0d0887"
            ],
            [
             0.1111111111111111,
             "#46039f"
            ],
            [
             0.2222222222222222,
             "#7201a8"
            ],
            [
             0.3333333333333333,
             "#9c179e"
            ],
            [
             0.4444444444444444,
             "#bd3786"
            ],
            [
             0.5555555555555556,
             "#d8576b"
            ],
            [
             0.6666666666666666,
             "#ed7953"
            ],
            [
             0.7777777777777778,
             "#fb9f3a"
            ],
            [
             0.8888888888888888,
             "#fdca26"
            ],
            [
             1,
             "#f0f921"
            ]
           ]
          },
          "colorway": [
           "#636efa",
           "#EF553B",
           "#00cc96",
           "#ab63fa",
           "#FFA15A",
           "#19d3f3",
           "#FF6692",
           "#B6E880",
           "#FF97FF",
           "#FECB52"
          ],
          "font": {
           "color": "#2a3f5f"
          },
          "geo": {
           "bgcolor": "white",
           "lakecolor": "white",
           "landcolor": "#E5ECF6",
           "showlakes": true,
           "showland": true,
           "subunitcolor": "white"
          },
          "hoverlabel": {
           "align": "left"
          },
          "hovermode": "closest",
          "mapbox": {
           "style": "light"
          },
          "paper_bgcolor": "white",
          "plot_bgcolor": "#E5ECF6",
          "polar": {
           "angularaxis": {
            "gridcolor": "white",
            "linecolor": "white",
            "ticks": ""
           },
           "bgcolor": "#E5ECF6",
           "radialaxis": {
            "gridcolor": "white",
            "linecolor": "white",
            "ticks": ""
           }
          },
          "scene": {
           "xaxis": {
            "backgroundcolor": "#E5ECF6",
            "gridcolor": "white",
            "gridwidth": 2,
            "linecolor": "white",
            "showbackground": true,
            "ticks": "",
            "zerolinecolor": "white"
           },
           "yaxis": {
            "backgroundcolor": "#E5ECF6",
            "gridcolor": "white",
            "gridwidth": 2,
            "linecolor": "white",
            "showbackground": true,
            "ticks": "",
            "zerolinecolor": "white"
           },
           "zaxis": {
            "backgroundcolor": "#E5ECF6",
            "gridcolor": "white",
            "gridwidth": 2,
            "linecolor": "white",
            "showbackground": true,
            "ticks": "",
            "zerolinecolor": "white"
           }
          },
          "shapedefaults": {
           "line": {
            "color": "#2a3f5f"
           }
          },
          "ternary": {
           "aaxis": {
            "gridcolor": "white",
            "linecolor": "white",
            "ticks": ""
           },
           "baxis": {
            "gridcolor": "white",
            "linecolor": "white",
            "ticks": ""
           },
           "bgcolor": "#E5ECF6",
           "caxis": {
            "gridcolor": "white",
            "linecolor": "white",
            "ticks": ""
           }
          },
          "title": {
           "x": 0.05
          },
          "xaxis": {
           "automargin": true,
           "gridcolor": "white",
           "linecolor": "white",
           "ticks": "",
           "title": {
            "standoff": 15
           },
           "zerolinecolor": "white",
           "zerolinewidth": 2
          },
          "yaxis": {
           "automargin": true,
           "gridcolor": "white",
           "linecolor": "white",
           "ticks": "",
           "title": {
            "standoff": 15
           },
           "zerolinecolor": "white",
           "zerolinewidth": 2
          }
         }
        },
        "xaxis": {
         "anchor": "y",
         "domain": [
          0,
          1
         ],
         "title": {
          "text": "importance"
         }
        },
        "yaxis": {
         "anchor": "x",
         "domain": [
          0,
          1
         ],
         "title": {
          "text": "feat_name"
         }
        }
       }
      },
      "text/html": [
       "<div>                            <div id=\"c4df3782-4bad-4d32-9293-a12cac9fd8a5\" class=\"plotly-graph-div\" style=\"height:525px; width:100%;\"></div>            <script type=\"text/javascript\">                require([\"plotly\"], function(Plotly) {                    window.PLOTLYENV=window.PLOTLYENV || {};                                    if (document.getElementById(\"c4df3782-4bad-4d32-9293-a12cac9fd8a5\")) {                    Plotly.newPlot(                        \"c4df3782-4bad-4d32-9293-a12cac9fd8a5\",                        [{\"alignmentgroup\":\"True\",\"hovertemplate\":\"importance=%{x}<br>feat_name=%{y}<extra></extra>\",\"legendgroup\":\"\",\"marker\":{\"color\":\"#636efa\",\"pattern\":{\"shape\":\"\"}},\"name\":\"\",\"offsetgroup\":\"\",\"orientation\":\"h\",\"showlegend\":false,\"textposition\":\"auto\",\"x\":[2371,2382,2578,2624,2648,2673,2722,2736,2744,2824,2893,3042,3334,3371,3576,3776,3879,4129,5307,5625],\"xaxis\":\"x\",\"y\":[\"xc_top_prob_9\",\"xc_cls_cls2_diff\",\"xc_top_prob_2\",\"pcc_cls2_diff\",\"pcc_reg_diff\",\"xp_var_prob\",\"xc_cls2_reg_diff\",\"xp_top_prob_1\",\"xpc_var_prob\",\"xc_abs_cls_cls2_diff\",\"code_ratio\",\"xc_abs_cls2_reg_diff\",\"n_words\",\"xp_top_prob_0\",\"xpc_top_prob_0\",\"xpc_pred\",\"xc_cls_pred\",\"xc_top_prob_1\",\"xpc_cls_pred\",\"xc_reg_pred\"],\"yaxis\":\"y\",\"type\":\"bar\"}],                        {\"template\":{\"data\":{\"bar\":[{\"error_x\":{\"color\":\"#2a3f5f\"},\"error_y\":{\"color\":\"#2a3f5f\"},\"marker\":{\"line\":{\"color\":\"#E5ECF6\",\"width\":0.5},\"pattern\":{\"fillmode\":\"overlay\",\"size\":10,\"solidity\":0.2}},\"type\":\"bar\"}],\"barpolar\":[{\"marker\":{\"line\":{\"color\":\"#E5ECF6\",\"width\":0.5},\"pattern\":{\"fillmode\":\"overlay\",\"size\":10,\"solidity\":0.2}},\"type\":\"barpolar\"}],\"carpet\":[{\"aaxis\":{\"endlinecolor\":\"#2a3f5f\",\"gridcolor\":\"white\",\"linecolor\":\"white\",\"minorgridcolor\":\"white\",\"startlinecolor\":\"#2a3f5f\"},\"baxis\":{\"endlinecolor\":\"#2a3f5f\",\"gridcolor\":\"white\",\"linecolor\":\"white\",\"minorgridcolor\":\"white\",\"startlinecolor\":\"#2a3f5f\"},\"type\":\"carpet\"}],\"choropleth\":[{\"colorbar\":{\"outlinewidth\":0,\"ticks\":\"\"},\"type\":\"choropleth\"}],\"contour\":[{\"colorbar\":{\"outlinewidth\":0,\"ticks\":\"\"},\"colorscale\":[[0.0,\"#0d0887\"],[0.1111111111111111,\"#46039f\"],[0.2222222222222222,\"#7201a8\"],[0.3333333333333333,\"#9c179e\"],[0.4444444444444444,\"#bd3786\"],[0.5555555555555556,\"#d8576b\"],[0.6666666666666666,\"#ed7953\"],[0.7777777777777778,\"#fb9f3a\"],[0.8888888888888888,\"#fdca26\"],[1.0,\"#f0f921\"]],\"type\":\"contour\"}],\"contourcarpet\":[{\"colorbar\":{\"outlinewidth\":0,\"ticks\":\"\"},\"type\":\"contourcarpet\"}],\"heatmap\":[{\"colorbar\":{\"outlinewidth\":0,\"ticks\":\"\"},\"colorscale\":[[0.0,\"#0d0887\"],[0.1111111111111111,\"#46039f\"],[0.2222222222222222,\"#7201a8\"],[0.3333333333333333,\"#9c179e\"],[0.4444444444444444,\"#bd3786\"],[0.5555555555555556,\"#d8576b\"],[0.6666666666666666,\"#ed7953\"],[0.7777777777777778,\"#fb9f3a\"],[0.8888888888888888,\"#fdca26\"],[1.0,\"#f0f921\"]],\"type\":\"heatmap\"}],\"heatmapgl\":[{\"colorbar\":{\"outlinewidth\":0,\"ticks\":\"\"},\"colorscale\":[[0.0,\"#0d0887\"],[0.1111111111111111,\"#46039f\"],[0.2222222222222222,\"#7201a8\"],[0.3333333333333333,\"#9c179e\"],[0.4444444444444444,\"#bd3786\"],[0.5555555555555556,\"#d8576b\"],[0.6666666666666666,\"#ed7953\"],[0.7777777777777778,\"#fb9f3a\"],[0.8888888888888888,\"#fdca26\"],[1.0,\"#f0f921\"]],\"type\":\"heatmapgl\"}],\"histogram\":[{\"marker\":{\"pattern\":{\"fillmode\":\"overlay\",\"size\":10,\"solidity\":0.2}},\"type\":\"histogram\"}],\"histogram2d\":[{\"colorbar\":{\"outlinewidth\":0,\"ticks\":\"\"},\"colorscale\":[[0.0,\"#0d0887\"],[0.1111111111111111,\"#46039f\"],[0.2222222222222222,\"#7201a8\"],[0.3333333333333333,\"#9c179e\"],[0.4444444444444444,\"#bd3786\"],[0.5555555555555556,\"#d8576b\"],[0.6666666666666666,\"#ed7953\"],[0.7777777777777778,\"#fb9f3a\"],[0.8888888888888888,\"#fdca26\"],[1.0,\"#f0f921\"]],\"type\":\"histogram2d\"}],\"histogram2dcontour\":[{\"colorbar\":{\"outlinewidth\":0,\"ticks\":\"\"},\"colorscale\":[[0.0,\"#0d0887\"],[0.1111111111111111,\"#46039f\"],[0.2222222222222222,\"#7201a8\"],[0.3333333333333333,\"#9c179e\"],[0.4444444444444444,\"#bd3786\"],[0.5555555555555556,\"#d8576b\"],[0.6666666666666666,\"#ed7953\"],[0.7777777777777778,\"#fb9f3a\"],[0.8888888888888888,\"#fdca26\"],[1.0,\"#f0f921\"]],\"type\":\"histogram2dcontour\"}],\"mesh3d\":[{\"colorbar\":{\"outlinewidth\":0,\"ticks\":\"\"},\"type\":\"mesh3d\"}],\"parcoords\":[{\"line\":{\"colorbar\":{\"outlinewidth\":0,\"ticks\":\"\"}},\"type\":\"parcoords\"}],\"pie\":[{\"automargin\":true,\"type\":\"pie\"}],\"scatter\":[{\"marker\":{\"colorbar\":{\"outlinewidth\":0,\"ticks\":\"\"}},\"type\":\"scatter\"}],\"scatter3d\":[{\"line\":{\"colorbar\":{\"outlinewidth\":0,\"ticks\":\"\"}},\"marker\":{\"colorbar\":{\"outlinewidth\":0,\"ticks\":\"\"}},\"type\":\"scatter3d\"}],\"scattercarpet\":[{\"marker\":{\"colorbar\":{\"outlinewidth\":0,\"ticks\":\"\"}},\"type\":\"scattercarpet\"}],\"scattergeo\":[{\"marker\":{\"colorbar\":{\"outlinewidth\":0,\"ticks\":\"\"}},\"type\":\"scattergeo\"}],\"scattergl\":[{\"marker\":{\"colorbar\":{\"outlinewidth\":0,\"ticks\":\"\"}},\"type\":\"scattergl\"}],\"scattermapbox\":[{\"marker\":{\"colorbar\":{\"outlinewidth\":0,\"ticks\":\"\"}},\"type\":\"scattermapbox\"}],\"scatterpolar\":[{\"marker\":{\"colorbar\":{\"outlinewidth\":0,\"ticks\":\"\"}},\"type\":\"scatterpolar\"}],\"scatterpolargl\":[{\"marker\":{\"colorbar\":{\"outlinewidth\":0,\"ticks\":\"\"}},\"type\":\"scatterpolargl\"}],\"scatterternary\":[{\"marker\":{\"colorbar\":{\"outlinewidth\":0,\"ticks\":\"\"}},\"type\":\"scatterternary\"}],\"surface\":[{\"colorbar\":{\"outlinewidth\":0,\"ticks\":\"\"},\"colorscale\":[[0.0,\"#0d0887\"],[0.1111111111111111,\"#46039f\"],[0.2222222222222222,\"#7201a8\"],[0.3333333333333333,\"#9c179e\"],[0.4444444444444444,\"#bd3786\"],[0.5555555555555556,\"#d8576b\"],[0.6666666666666666,\"#ed7953\"],[0.7777777777777778,\"#fb9f3a\"],[0.8888888888888888,\"#fdca26\"],[1.0,\"#f0f921\"]],\"type\":\"surface\"}],\"table\":[{\"cells\":{\"fill\":{\"color\":\"#EBF0F8\"},\"line\":{\"color\":\"white\"}},\"header\":{\"fill\":{\"color\":\"#C8D4E3\"},\"line\":{\"color\":\"white\"}},\"type\":\"table\"}]},\"layout\":{\"annotationdefaults\":{\"arrowcolor\":\"#2a3f5f\",\"arrowhead\":0,\"arrowwidth\":1},\"autotypenumbers\":\"strict\",\"coloraxis\":{\"colorbar\":{\"outlinewidth\":0,\"ticks\":\"\"}},\"colorscale\":{\"diverging\":[[0,\"#8e0152\"],[0.1,\"#c51b7d\"],[0.2,\"#de77ae\"],[0.3,\"#f1b6da\"],[0.4,\"#fde0ef\"],[0.5,\"#f7f7f7\"],[0.6,\"#e6f5d0\"],[0.7,\"#b8e186\"],[0.8,\"#7fbc41\"],[0.9,\"#4d9221\"],[1,\"#276419\"]],\"sequential\":[[0.0,\"#0d0887\"],[0.1111111111111111,\"#46039f\"],[0.2222222222222222,\"#7201a8\"],[0.3333333333333333,\"#9c179e\"],[0.4444444444444444,\"#bd3786\"],[0.5555555555555556,\"#d8576b\"],[0.6666666666666666,\"#ed7953\"],[0.7777777777777778,\"#fb9f3a\"],[0.8888888888888888,\"#fdca26\"],[1.0,\"#f0f921\"]],\"sequentialminus\":[[0.0,\"#0d0887\"],[0.1111111111111111,\"#46039f\"],[0.2222222222222222,\"#7201a8\"],[0.3333333333333333,\"#9c179e\"],[0.4444444444444444,\"#bd3786\"],[0.5555555555555556,\"#d8576b\"],[0.6666666666666666,\"#ed7953\"],[0.7777777777777778,\"#fb9f3a\"],[0.8888888888888888,\"#fdca26\"],[1.0,\"#f0f921\"]]},\"colorway\":[\"#636efa\",\"#EF553B\",\"#00cc96\",\"#ab63fa\",\"#FFA15A\",\"#19d3f3\",\"#FF6692\",\"#B6E880\",\"#FF97FF\",\"#FECB52\"],\"font\":{\"color\":\"#2a3f5f\"},\"geo\":{\"bgcolor\":\"white\",\"lakecolor\":\"white\",\"landcolor\":\"#E5ECF6\",\"showlakes\":true,\"showland\":true,\"subunitcolor\":\"white\"},\"hoverlabel\":{\"align\":\"left\"},\"hovermode\":\"closest\",\"mapbox\":{\"style\":\"light\"},\"paper_bgcolor\":\"white\",\"plot_bgcolor\":\"#E5ECF6\",\"polar\":{\"angularaxis\":{\"gridcolor\":\"white\",\"linecolor\":\"white\",\"ticks\":\"\"},\"bgcolor\":\"#E5ECF6\",\"radialaxis\":{\"gridcolor\":\"white\",\"linecolor\":\"white\",\"ticks\":\"\"}},\"scene\":{\"xaxis\":{\"backgroundcolor\":\"#E5ECF6\",\"gridcolor\":\"white\",\"gridwidth\":2,\"linecolor\":\"white\",\"showbackground\":true,\"ticks\":\"\",\"zerolinecolor\":\"white\"},\"yaxis\":{\"backgroundcolor\":\"#E5ECF6\",\"gridcolor\":\"white\",\"gridwidth\":2,\"linecolor\":\"white\",\"showbackground\":true,\"ticks\":\"\",\"zerolinecolor\":\"white\"},\"zaxis\":{\"backgroundcolor\":\"#E5ECF6\",\"gridcolor\":\"white\",\"gridwidth\":2,\"linecolor\":\"white\",\"showbackground\":true,\"ticks\":\"\",\"zerolinecolor\":\"white\"}},\"shapedefaults\":{\"line\":{\"color\":\"#2a3f5f\"}},\"ternary\":{\"aaxis\":{\"gridcolor\":\"white\",\"linecolor\":\"white\",\"ticks\":\"\"},\"baxis\":{\"gridcolor\":\"white\",\"linecolor\":\"white\",\"ticks\":\"\"},\"bgcolor\":\"#E5ECF6\",\"caxis\":{\"gridcolor\":\"white\",\"linecolor\":\"white\",\"ticks\":\"\"}},\"title\":{\"x\":0.05},\"xaxis\":{\"automargin\":true,\"gridcolor\":\"white\",\"linecolor\":\"white\",\"ticks\":\"\",\"title\":{\"standoff\":15},\"zerolinecolor\":\"white\",\"zerolinewidth\":2},\"yaxis\":{\"automargin\":true,\"gridcolor\":\"white\",\"linecolor\":\"white\",\"ticks\":\"\",\"title\":{\"standoff\":15},\"zerolinecolor\":\"white\",\"zerolinewidth\":2}}},\"xaxis\":{\"anchor\":\"y\",\"domain\":[0.0,1.0],\"title\":{\"text\":\"importance\"}},\"yaxis\":{\"anchor\":\"x\",\"domain\":[0.0,1.0],\"title\":{\"text\":\"feat_name\"}},\"legend\":{\"tracegroupgap\":0},\"margin\":{\"t\":60},\"barmode\":\"relative\"},                        {\"responsive\": true}                    ).then(function(){\n",
       "                            \n",
       "var gd = document.getElementById('c4df3782-4bad-4d32-9293-a12cac9fd8a5');\n",
       "var x = new MutationObserver(function (mutations, observer) {{\n",
       "        var display = window.getComputedStyle(gd).display;\n",
       "        if (!display || display === 'none') {{\n",
       "            console.log([gd, 'removed!']);\n",
       "            Plotly.purge(gd);\n",
       "            observer.disconnect();\n",
       "        }}\n",
       "}});\n",
       "\n",
       "// Listen for the removal of the full notebook cells\n",
       "var notebookContainer = gd.closest('#notebook-container');\n",
       "if (notebookContainer) {{\n",
       "    x.observe(notebookContainer, {childList: true});\n",
       "}}\n",
       "\n",
       "// Listen for the clearing of the current output cell\n",
       "var outputEl = gd.closest('.output');\n",
       "if (outputEl) {{\n",
       "    x.observe(outputEl, {childList: true});\n",
       "}}\n",
       "\n",
       "                        })                };                });            </script>        </div>"
      ]
     },
     "metadata": {},
     "output_type": "display_data"
    }
   ],
   "source": [
    "gezi.plot.feature_importance(lgb_model, topn=20)"
   ]
  },
  {
   "cell_type": "code",
   "execution_count": 67,
   "metadata": {},
   "outputs": [
    {
     "data": {
      "application/vnd.jupyter.widget-view+json": {
       "model_id": "b574fbda131b4197be6156bd4a60a536",
       "version_major": 2,
       "version_minor": 0
      },
      "text/plain": [
       "  0%|          | 0/5 [00:00<?, ?it/s]"
      ]
     },
     "metadata": {},
     "output_type": "display_data"
    },
    {
     "name": "stderr",
     "output_type": "stream",
     "text": [
      "[08/10/22 11:42:51] 134356872.py:21 in <module>\n",
      "                    cbt_score: 0.9194913580046135\n",
      "[08/10/22 11:43:18] 134356872.py:36 in <module>\n",
      "                    lgb_score: 0.9197838846981955\n",
      "[08/10/22 11:43:19] 134356872.py:38 in <module>\n",
      "                    score: 0.9199306692971134\n",
      "[08/10/22 11:43:19] 134356872.py:43 in <module>\n",
      "                    fold: 0\n",
      "                    np.asarray(cbt_scores).mean(): 0.9194913580046135\n",
      "                    np.asarray(lgb_scores).mean(): 0.9197838846981955\n",
      "                    np.asarray(scores).mean(): 0.9199306692971134\n"
     ]
    },
    {
     "name": "stdout",
     "output_type": "stream",
     "text": [
      "0:\tlearn: 0.2522810\ttest: 0.2522810\ttest1: 0.2521630\tbest: 0.2521630 (0)\ttotal: 49.1ms\tremaining: 8m 10s\n",
      "500:\tlearn: 0.0576572\ttest: 0.0576572\ttest1: 0.0569063\tbest: 0.0569063 (500)\ttotal: 17.8s\tremaining: 5m 38s\n",
      "1000:\tlearn: 0.0564196\ttest: 0.0564196\ttest1: 0.0558777\tbest: 0.0558777 (1000)\ttotal: 36.1s\tremaining: 5m 24s\n",
      "1500:\tlearn: 0.0559198\ttest: 0.0559198\ttest1: 0.0555497\tbest: 0.0555497 (1500)\ttotal: 54.4s\tremaining: 5m 8s\n",
      "2000:\tlearn: 0.0555636\ttest: 0.0555636\ttest1: 0.0553806\tbest: 0.0553806 (2000)\ttotal: 1m 12s\tremaining: 4m 50s\n",
      "2500:\tlearn: 0.0552639\ttest: 0.0552639\ttest1: 0.0552837\tbest: 0.0552837 (2500)\ttotal: 1m 30s\tremaining: 4m 32s\n",
      "3000:\tlearn: 0.0549859\ttest: 0.0549859\ttest1: 0.0552047\tbest: 0.0552047 (3000)\ttotal: 1m 48s\tremaining: 4m 13s\n",
      "3500:\tlearn: 0.0547591\ttest: 0.0547591\ttest1: 0.0551500\tbest: 0.0551495 (3492)\ttotal: 2m 6s\tremaining: 3m 55s\n",
      "4000:\tlearn: 0.0545415\ttest: 0.0545415\ttest1: 0.0551049\tbest: 0.0551019 (3977)\ttotal: 2m 24s\tremaining: 3m 37s\n",
      "4500:\tlearn: 0.0543207\ttest: 0.0543207\ttest1: 0.0550654\tbest: 0.0550647 (4495)\ttotal: 2m 42s\tremaining: 3m 18s\n",
      "5000:\tlearn: 0.0541074\ttest: 0.0541074\ttest1: 0.0550314\tbest: 0.0550312 (4997)\ttotal: 3m\tremaining: 3m\n",
      "5500:\tlearn: 0.0539107\ttest: 0.0539107\ttest1: 0.0550110\tbest: 0.0550110 (5500)\ttotal: 3m 19s\tremaining: 2m 42s\n",
      "6000:\tlearn: 0.0537293\ttest: 0.0537293\ttest1: 0.0550052\tbest: 0.0550039 (5896)\ttotal: 3m 37s\tremaining: 2m 24s\n",
      "6500:\tlearn: 0.0535717\ttest: 0.0535717\ttest1: 0.0549944\tbest: 0.0549938 (6468)\ttotal: 3m 54s\tremaining: 2m 6s\n",
      "7000:\tlearn: 0.0533833\ttest: 0.0533833\ttest1: 0.0549790\tbest: 0.0549784 (6992)\ttotal: 4m 12s\tremaining: 1m 48s\n",
      "7500:\tlearn: 0.0532251\ttest: 0.0532251\ttest1: 0.0549657\tbest: 0.0549656 (7497)\ttotal: 4m 30s\tremaining: 1m 30s\n",
      "8000:\tlearn: 0.0530791\ttest: 0.0530791\ttest1: 0.0549634\tbest: 0.0549597 (7779)\ttotal: 4m 49s\tremaining: 1m 12s\n",
      "Stopped by overfitting detector  (500 iterations wait)\n",
      "\n",
      "bestTest = 0.05495970924\n",
      "bestIteration = 7779\n",
      "\n",
      "Shrink model to first 7780 iterations.\n"
     ]
    },
    {
     "name": "stderr",
     "output_type": "stream",
     "text": [
      "[08/10/22 11:48:26] 134356872.py:21 in <module>\n",
      "                    cbt_score: 0.9225357904559981\n"
     ]
    },
    {
     "name": "stdout",
     "output_type": "stream",
     "text": [
      "[LightGBM] [Warning] Auto-choosing col-wise multi-threading, the overhead of testing was 0.058962 seconds.\n",
      "You can set `force_col_wise=true` to remove the overhead.\n",
      "[LightGBM] [Info] Total Bins 26660\n",
      "[LightGBM] [Info] Number of data points in the train set: 339696, number of used features: 114\n",
      "[LightGBM] [Info] Start training from score 0.455882\n",
      "Training until validation scores don't improve for 200 rounds\n",
      "[500]\ttraining's l1: 0.0576642\tvalid_1's l1: 0.0568263\n",
      "[1000]\ttraining's l1: 0.056601\tvalid_1's l1: 0.0559152\n",
      "[1500]\ttraining's l1: 0.0561799\tvalid_1's l1: 0.0555909\n",
      "[2000]\ttraining's l1: 0.0559751\tvalid_1's l1: 0.0554544\n",
      "[2500]\ttraining's l1: 0.0558391\tvalid_1's l1: 0.0553679\n",
      "[3000]\ttraining's l1: 0.0556948\tvalid_1's l1: 0.0552878\n",
      "[3500]\ttraining's l1: 0.0555545\tvalid_1's l1: 0.0552168\n",
      "[4000]\ttraining's l1: 0.0554536\tvalid_1's l1: 0.0551797\n",
      "[4500]\ttraining's l1: 0.0553673\tvalid_1's l1: 0.0551497\n",
      "[5000]\ttraining's l1: 0.0552714\tvalid_1's l1: 0.0551134\n",
      "[5500]\ttraining's l1: 0.055191\tvalid_1's l1: 0.0550863\n",
      "[6000]\ttraining's l1: 0.0551183\tvalid_1's l1: 0.0550664\n",
      "[6500]\ttraining's l1: 0.0550486\tvalid_1's l1: 0.0550511\n",
      "[7000]\ttraining's l1: 0.0549926\tvalid_1's l1: 0.0550351\n",
      "[7500]\ttraining's l1: 0.0549206\tvalid_1's l1: 0.0550164\n",
      "Early stopping, best iteration is:\n",
      "[7511]\ttraining's l1: 0.0549189\tvalid_1's l1: 0.055016\n"
     ]
    },
    {
     "name": "stderr",
     "output_type": "stream",
     "text": [
      "[08/10/22 11:50:02] 134356872.py:36 in <module>\n",
      "                    lgb_score: 0.9224363365970458\n",
      "[08/10/22 11:50:03] 134356872.py:38 in <module>\n",
      "                    score: 0.9227758733384369\n",
      "[08/10/22 11:50:03] 134356872.py:43 in <module>\n",
      "                    fold: 1\n",
      "                    np.asarray(cbt_scores).mean(): 0.9210135742303058\n",
      "                    np.asarray(lgb_scores).mean(): 0.9211101106476207\n",
      "                    np.asarray(scores).mean(): 0.9213532713177752\n"
     ]
    },
    {
     "name": "stdout",
     "output_type": "stream",
     "text": [
      "0:\tlearn: 0.2522470\ttest: 0.2522470\ttest1: 0.2526159\tbest: 0.2526159 (0)\ttotal: 48.2ms\tremaining: 8m 2s\n",
      "500:\tlearn: 0.0571232\ttest: 0.0571232\ttest1: 0.0578817\tbest: 0.0578817 (500)\ttotal: 17.5s\tremaining: 5m 32s\n",
      "1000:\tlearn: 0.0560101\ttest: 0.0560101\ttest1: 0.0569659\tbest: 0.0569659 (1000)\ttotal: 35.2s\tremaining: 5m 16s\n",
      "1500:\tlearn: 0.0555440\ttest: 0.0555440\ttest1: 0.0566786\tbest: 0.0566786 (1500)\ttotal: 52.6s\tremaining: 4m 57s\n",
      "2000:\tlearn: 0.0552075\ttest: 0.0552075\ttest1: 0.0565349\tbest: 0.0565349 (2000)\ttotal: 1m 9s\tremaining: 4m 39s\n",
      "2500:\tlearn: 0.0549127\ttest: 0.0549127\ttest1: 0.0564604\tbest: 0.0564604 (2500)\ttotal: 1m 27s\tremaining: 4m 22s\n",
      "3000:\tlearn: 0.0546520\ttest: 0.0546520\ttest1: 0.0563825\tbest: 0.0563824 (2999)\ttotal: 1m 44s\tremaining: 4m 4s\n",
      "3500:\tlearn: 0.0544435\ttest: 0.0544435\ttest1: 0.0563278\tbest: 0.0563277 (3480)\ttotal: 2m 2s\tremaining: 3m 46s\n",
      "4000:\tlearn: 0.0542604\ttest: 0.0542604\ttest1: 0.0562884\tbest: 0.0562883 (3994)\ttotal: 2m 19s\tremaining: 3m 28s\n",
      "4500:\tlearn: 0.0540601\ttest: 0.0540601\ttest1: 0.0562520\tbest: 0.0562520 (4500)\ttotal: 2m 36s\tremaining: 3m 11s\n",
      "5000:\tlearn: 0.0538860\ttest: 0.0538860\ttest1: 0.0562201\tbest: 0.0562200 (4999)\ttotal: 2m 53s\tremaining: 2m 53s\n",
      "5500:\tlearn: 0.0537007\ttest: 0.0537007\ttest1: 0.0561886\tbest: 0.0561884 (5498)\ttotal: 3m 11s\tremaining: 2m 36s\n",
      "6000:\tlearn: 0.0535428\ttest: 0.0535428\ttest1: 0.0561588\tbest: 0.0561588 (5997)\ttotal: 3m 28s\tremaining: 2m 18s\n",
      "6500:\tlearn: 0.0533747\ttest: 0.0533747\ttest1: 0.0561427\tbest: 0.0561425 (6499)\ttotal: 3m 45s\tremaining: 2m 1s\n",
      "7000:\tlearn: 0.0532120\ttest: 0.0532120\ttest1: 0.0561278\tbest: 0.0561260 (6936)\ttotal: 4m 2s\tremaining: 1m 43s\n",
      "7500:\tlearn: 0.0530571\ttest: 0.0530571\ttest1: 0.0561160\tbest: 0.0561156 (7497)\ttotal: 4m 19s\tremaining: 1m 26s\n",
      "8000:\tlearn: 0.0528890\ttest: 0.0528890\ttest1: 0.0561106\tbest: 0.0561103 (7986)\ttotal: 4m 36s\tremaining: 1m 9s\n",
      "8500:\tlearn: 0.0527450\ttest: 0.0527450\ttest1: 0.0561039\tbest: 0.0561038 (8498)\ttotal: 4m 53s\tremaining: 51.7s\n",
      "9000:\tlearn: 0.0525917\ttest: 0.0525917\ttest1: 0.0561010\tbest: 0.0560968 (8672)\ttotal: 5m 10s\tremaining: 34.4s\n",
      "Stopped by overfitting detector  (500 iterations wait)\n",
      "\n",
      "bestTest = 0.05609680796\n",
      "bestIteration = 8672\n",
      "\n",
      "Shrink model to first 8673 iterations.\n"
     ]
    },
    {
     "name": "stderr",
     "output_type": "stream",
     "text": [
      "[08/10/22 11:55:27] 134356872.py:21 in <module>\n",
      "                    cbt_score: 0.9216647071216101\n"
     ]
    },
    {
     "name": "stdout",
     "output_type": "stream",
     "text": [
      "[LightGBM] [Warning] Auto-choosing col-wise multi-threading, the overhead of testing was 0.052638 seconds.\n",
      "You can set `force_col_wise=true` to remove the overhead.\n",
      "[LightGBM] [Info] Total Bins 26653\n",
      "[LightGBM] [Info] Number of data points in the train set: 337766, number of used features: 114\n",
      "[LightGBM] [Info] Start training from score 0.456522\n",
      "Training until validation scores don't improve for 200 rounds\n",
      "[500]\ttraining's l1: 0.0572874\tvalid_1's l1: 0.0579665\n",
      "[1000]\ttraining's l1: 0.0562684\tvalid_1's l1: 0.0570747\n",
      "[1500]\ttraining's l1: 0.055903\tvalid_1's l1: 0.0568105\n",
      "[2000]\ttraining's l1: 0.0556841\tvalid_1's l1: 0.0566675\n",
      "[2500]\ttraining's l1: 0.05554\tvalid_1's l1: 0.0565796\n",
      "[3000]\ttraining's l1: 0.0554314\tvalid_1's l1: 0.0565195\n",
      "[3500]\ttraining's l1: 0.0553204\tvalid_1's l1: 0.0564582\n",
      "[4000]\ttraining's l1: 0.0552426\tvalid_1's l1: 0.0564267\n",
      "[4500]\ttraining's l1: 0.0551724\tvalid_1's l1: 0.0563965\n",
      "[5000]\ttraining's l1: 0.0551137\tvalid_1's l1: 0.0563707\n",
      "[5500]\ttraining's l1: 0.0550586\tvalid_1's l1: 0.056347\n",
      "[6000]\ttraining's l1: 0.0549887\tvalid_1's l1: 0.0563241\n",
      "[6500]\ttraining's l1: 0.0549308\tvalid_1's l1: 0.0563046\n",
      "[7000]\ttraining's l1: 0.0548631\tvalid_1's l1: 0.0562763\n",
      "[7500]\ttraining's l1: 0.0548161\tvalid_1's l1: 0.0562553\n",
      "[8000]\ttraining's l1: 0.0547725\tvalid_1's l1: 0.0562403\n",
      "[8500]\ttraining's l1: 0.0547211\tvalid_1's l1: 0.0562201\n",
      "[9000]\ttraining's l1: 0.0546786\tvalid_1's l1: 0.056204\n",
      "[9500]\ttraining's l1: 0.0546338\tvalid_1's l1: 0.0561887\n",
      "[10000]\ttraining's l1: 0.05459\tvalid_1's l1: 0.0561753\n",
      "[10500]\ttraining's l1: 0.0545567\tvalid_1's l1: 0.0561676\n",
      "[11000]\ttraining's l1: 0.0545089\tvalid_1's l1: 0.0561544\n",
      "[11500]\ttraining's l1: 0.054477\tvalid_1's l1: 0.0561494\n",
      "[12000]\ttraining's l1: 0.0544611\tvalid_1's l1: 0.056146\n",
      "Early stopping, best iteration is:\n",
      "[11839]\ttraining's l1: 0.0544665\tvalid_1's l1: 0.0561457\n"
     ]
    },
    {
     "name": "stderr",
     "output_type": "stream",
     "text": [
      "[08/10/22 11:58:08] 134356872.py:36 in <module>\n",
      "                    lgb_score: 0.9215328757059666\n",
      "[08/10/22 11:58:10] 134356872.py:38 in <module>\n",
      "                    score: 0.9218912676981948\n",
      "[08/10/22 11:58:10] 134356872.py:43 in <module>\n",
      "                    fold: 2\n",
      "                    np.asarray(cbt_scores).mean(): 0.9212306185274072\n",
      "                    np.asarray(lgb_scores).mean(): 0.9212510323337361\n",
      "                    np.asarray(scores).mean(): 0.9215326034445818\n"
     ]
    },
    {
     "name": "stdout",
     "output_type": "stream",
     "text": [
      "0:\tlearn: 0.2523967\ttest: 0.2523967\ttest1: 0.2521381\tbest: 0.2521381 (0)\ttotal: 65.5ms\tremaining: 10m 55s\n",
      "500:\tlearn: 0.0576399\ttest: 0.0576399\ttest1: 0.0562331\tbest: 0.0562331 (500)\ttotal: 21.1s\tremaining: 6m 40s\n",
      "1000:\tlearn: 0.0564439\ttest: 0.0564439\ttest1: 0.0552976\tbest: 0.0552976 (1000)\ttotal: 42.3s\tremaining: 6m 20s\n",
      "1500:\tlearn: 0.0559622\ttest: 0.0559622\ttest1: 0.0550197\tbest: 0.0550197 (1500)\ttotal: 1m 3s\tremaining: 5m 58s\n",
      "2000:\tlearn: 0.0555977\ttest: 0.0555977\ttest1: 0.0548643\tbest: 0.0548643 (2000)\ttotal: 1m 25s\tremaining: 5m 40s\n",
      "2500:\tlearn: 0.0553001\ttest: 0.0553001\ttest1: 0.0547543\tbest: 0.0547543 (2500)\ttotal: 1m 47s\tremaining: 5m 21s\n",
      "3000:\tlearn: 0.0550655\ttest: 0.0550655\ttest1: 0.0546849\tbest: 0.0546845 (2996)\ttotal: 2m 8s\tremaining: 5m\n",
      "3500:\tlearn: 0.0548479\ttest: 0.0548479\ttest1: 0.0546279\tbest: 0.0546278 (3496)\ttotal: 2m 30s\tremaining: 4m 40s\n",
      "4000:\tlearn: 0.0546225\ttest: 0.0546225\ttest1: 0.0545859\tbest: 0.0545858 (3997)\ttotal: 2m 52s\tremaining: 4m 17s\n",
      "4500:\tlearn: 0.0544125\ttest: 0.0544125\ttest1: 0.0545553\tbest: 0.0545553 (4500)\ttotal: 3m 9s\tremaining: 3m 52s\n",
      "5000:\tlearn: 0.0542179\ttest: 0.0542179\ttest1: 0.0545248\tbest: 0.0545246 (4998)\ttotal: 3m 27s\tremaining: 3m 27s\n",
      "5500:\tlearn: 0.0540262\ttest: 0.0540262\ttest1: 0.0545092\tbest: 0.0545092 (5500)\ttotal: 3m 46s\tremaining: 3m 4s\n",
      "6000:\tlearn: 0.0538292\ttest: 0.0538292\ttest1: 0.0544922\tbest: 0.0544922 (6000)\ttotal: 4m 3s\tremaining: 2m 42s\n",
      "6500:\tlearn: 0.0536800\ttest: 0.0536800\ttest1: 0.0544708\tbest: 0.0544705 (6496)\ttotal: 4m 21s\tremaining: 2m 20s\n",
      "7000:\tlearn: 0.0535097\ttest: 0.0535097\ttest1: 0.0544631\tbest: 0.0544625 (6997)\ttotal: 4m 38s\tremaining: 1m 59s\n",
      "7500:\tlearn: 0.0533324\ttest: 0.0533324\ttest1: 0.0544521\tbest: 0.0544500 (7440)\ttotal: 4m 55s\tremaining: 1m 38s\n",
      "Stopped by overfitting detector  (500 iterations wait)\n",
      "\n",
      "bestTest = 0.05444998694\n",
      "bestIteration = 7440\n",
      "\n",
      "Shrink model to first 7441 iterations.\n"
     ]
    },
    {
     "name": "stderr",
     "output_type": "stream",
     "text": [
      "[08/10/22 12:03:28] 134356872.py:21 in <module>\n",
      "                    cbt_score: 0.9245974434114433\n"
     ]
    },
    {
     "name": "stdout",
     "output_type": "stream",
     "text": [
      "[LightGBM] [Warning] Auto-choosing col-wise multi-threading, the overhead of testing was 0.056882 seconds.\n",
      "You can set `force_col_wise=true` to remove the overhead.\n",
      "[LightGBM] [Info] Total Bins 26655\n",
      "[LightGBM] [Info] Number of data points in the train set: 337964, number of used features: 114\n",
      "[LightGBM] [Info] Start training from score 0.455939\n",
      "Training until validation scores don't improve for 200 rounds\n",
      "[500]\ttraining's l1: 0.0579164\tvalid_1's l1: 0.0563946\n",
      "[1000]\ttraining's l1: 0.0566747\tvalid_1's l1: 0.0553917\n",
      "[1500]\ttraining's l1: 0.0563327\tvalid_1's l1: 0.0551508\n",
      "[2000]\ttraining's l1: 0.0561128\tvalid_1's l1: 0.0550142\n",
      "[2500]\ttraining's l1: 0.0559645\tvalid_1's l1: 0.0549202\n",
      "[3000]\ttraining's l1: 0.0558321\tvalid_1's l1: 0.0548556\n",
      "[3500]\ttraining's l1: 0.0557511\tvalid_1's l1: 0.0548186\n",
      "[4000]\ttraining's l1: 0.0556773\tvalid_1's l1: 0.0547822\n",
      "[4500]\ttraining's l1: 0.0556117\tvalid_1's l1: 0.0547596\n",
      "[5000]\ttraining's l1: 0.0555501\tvalid_1's l1: 0.0547367\n",
      "[5500]\ttraining's l1: 0.0554784\tvalid_1's l1: 0.0547127\n",
      "[6000]\ttraining's l1: 0.0554278\tvalid_1's l1: 0.0546986\n",
      "[6500]\ttraining's l1: 0.0553634\tvalid_1's l1: 0.0546785\n",
      "[7000]\ttraining's l1: 0.0553211\tvalid_1's l1: 0.0546617\n",
      "[7500]\ttraining's l1: 0.0552711\tvalid_1's l1: 0.054642\n",
      "[8000]\ttraining's l1: 0.0552206\tvalid_1's l1: 0.0546258\n",
      "[8500]\ttraining's l1: 0.0551863\tvalid_1's l1: 0.0546148\n",
      "[9000]\ttraining's l1: 0.0551379\tvalid_1's l1: 0.0546049\n",
      "[9500]\ttraining's l1: 0.0550937\tvalid_1's l1: 0.0545892\n",
      "[10000]\ttraining's l1: 0.0550606\tvalid_1's l1: 0.0545824\n",
      "Early stopping, best iteration is:\n",
      "[10165]\ttraining's l1: 0.0550491\tvalid_1's l1: 0.0545799\n"
     ]
    },
    {
     "name": "stderr",
     "output_type": "stream",
     "text": [
      "[08/10/22 12:05:34] 134356872.py:36 in <module>\n",
      "                    lgb_score: 0.9242514920118299\n",
      "[08/10/22 12:05:36] 134356872.py:38 in <module>\n",
      "                    score: 0.9247517138237571\n",
      "[08/10/22 12:05:36] 134356872.py:43 in <module>\n",
      "                    fold: 3\n",
      "                    np.asarray(cbt_scores).mean(): 0.9220723247484163\n",
      "                    np.asarray(lgb_scores).mean(): 0.9220011472532595\n",
      "                    np.asarray(scores).mean(): 0.9223373810393756\n"
     ]
    },
    {
     "name": "stdout",
     "output_type": "stream",
     "text": [
      "0:\tlearn: 0.2523147\ttest: 0.2523147\ttest1: 0.2524000\tbest: 0.2524000 (0)\ttotal: 48.6ms\tremaining: 8m 5s\n",
      "500:\tlearn: 0.0570829\ttest: 0.0570829\ttest1: 0.0583990\tbest: 0.0583990 (500)\ttotal: 18.5s\tremaining: 5m 50s\n",
      "1000:\tlearn: 0.0560056\ttest: 0.0560056\ttest1: 0.0574860\tbest: 0.0574860 (1000)\ttotal: 37.5s\tremaining: 5m 37s\n",
      "1500:\tlearn: 0.0555433\ttest: 0.0555433\ttest1: 0.0571625\tbest: 0.0571625 (1500)\ttotal: 56.6s\tremaining: 5m 20s\n",
      "2000:\tlearn: 0.0552028\ttest: 0.0552028\ttest1: 0.0569758\tbest: 0.0569758 (2000)\ttotal: 1m 15s\tremaining: 5m 1s\n",
      "2500:\tlearn: 0.0549101\ttest: 0.0549101\ttest1: 0.0568543\tbest: 0.0568543 (2500)\ttotal: 1m 34s\tremaining: 4m 43s\n",
      "3000:\tlearn: 0.0546693\ttest: 0.0546693\ttest1: 0.0567606\tbest: 0.0567606 (3000)\ttotal: 1m 59s\tremaining: 4m 38s\n",
      "3500:\tlearn: 0.0544379\ttest: 0.0544379\ttest1: 0.0567115\tbest: 0.0567114 (3496)\ttotal: 2m 23s\tremaining: 4m 26s\n",
      "4000:\tlearn: 0.0542311\ttest: 0.0542311\ttest1: 0.0566669\tbest: 0.0566669 (4000)\ttotal: 2m 47s\tremaining: 4m 11s\n",
      "4500:\tlearn: 0.0540329\ttest: 0.0540329\ttest1: 0.0566290\tbest: 0.0566290 (4500)\ttotal: 3m 12s\tremaining: 3m 55s\n",
      "5000:\tlearn: 0.0538715\ttest: 0.0538715\ttest1: 0.0566074\tbest: 0.0566072 (4997)\ttotal: 3m 36s\tremaining: 3m 36s\n",
      "5500:\tlearn: 0.0537043\ttest: 0.0537043\ttest1: 0.0565813\tbest: 0.0565813 (5500)\ttotal: 4m\tremaining: 3m 16s\n",
      "6000:\tlearn: 0.0535284\ttest: 0.0535284\ttest1: 0.0565735\tbest: 0.0565735 (6000)\ttotal: 4m 23s\tremaining: 2m 55s\n",
      "6500:\tlearn: 0.0533373\ttest: 0.0533373\ttest1: 0.0565672\tbest: 0.0565665 (6489)\ttotal: 4m 46s\tremaining: 2m 34s\n",
      "7000:\tlearn: 0.0531681\ttest: 0.0531681\ttest1: 0.0565705\tbest: 0.0565656 (6519)\ttotal: 5m 10s\tremaining: 2m 13s\n",
      "Stopped by overfitting detector  (500 iterations wait)\n",
      "\n",
      "bestTest = 0.05656560009\n",
      "bestIteration = 6519\n",
      "\n",
      "Shrink model to first 6520 iterations.\n"
     ]
    },
    {
     "name": "stderr",
     "output_type": "stream",
     "text": [
      "[08/10/22 12:10:55] 134356872.py:21 in <module>\n",
      "                    cbt_score: 0.9154773103522206\n"
     ]
    },
    {
     "name": "stdout",
     "output_type": "stream",
     "text": [
      "[LightGBM] [Warning] Auto-choosing col-wise multi-threading, the overhead of testing was 0.059305 seconds.\n",
      "You can set `force_col_wise=true` to remove the overhead.\n",
      "[LightGBM] [Info] Total Bins 26659\n",
      "[LightGBM] [Info] Number of data points in the train set: 341935, number of used features: 114\n",
      "[LightGBM] [Info] Start training from score 0.456522\n",
      "Training until validation scores don't improve for 200 rounds\n",
      "[500]\ttraining's l1: 0.0573576\tvalid_1's l1: 0.0586868\n",
      "[1000]\ttraining's l1: 0.0561203\tvalid_1's l1: 0.0575597\n",
      "[1500]\ttraining's l1: 0.055775\tvalid_1's l1: 0.0573012\n",
      "[2000]\ttraining's l1: 0.0555734\tvalid_1's l1: 0.0571567\n",
      "[2500]\ttraining's l1: 0.0554168\tvalid_1's l1: 0.0570568\n",
      "[3000]\ttraining's l1: 0.0552992\tvalid_1's l1: 0.0569831\n",
      "[3500]\ttraining's l1: 0.055218\tvalid_1's l1: 0.056944\n",
      "[4000]\ttraining's l1: 0.0551415\tvalid_1's l1: 0.0569054\n",
      "[4500]\ttraining's l1: 0.0550616\tvalid_1's l1: 0.0568712\n",
      "[5000]\ttraining's l1: 0.0549678\tvalid_1's l1: 0.056834\n",
      "[5500]\ttraining's l1: 0.0549044\tvalid_1's l1: 0.0568084\n",
      "[6000]\ttraining's l1: 0.0548515\tvalid_1's l1: 0.0567824\n",
      "[6500]\ttraining's l1: 0.054794\tvalid_1's l1: 0.0567644\n",
      "[7000]\ttraining's l1: 0.0547238\tvalid_1's l1: 0.0567471\n",
      "[7500]\ttraining's l1: 0.0546758\tvalid_1's l1: 0.0567327\n",
      "[8000]\ttraining's l1: 0.0546253\tvalid_1's l1: 0.0567132\n",
      "[8500]\ttraining's l1: 0.0545358\tvalid_1's l1: 0.0566875\n",
      "[9000]\ttraining's l1: 0.0544688\tvalid_1's l1: 0.0566747\n",
      "[9500]\ttraining's l1: 0.0544312\tvalid_1's l1: 0.0566627\n",
      "[10000]\ttraining's l1: 0.0543931\tvalid_1's l1: 0.0566537\n",
      "[10500]\ttraining's l1: 0.0543585\tvalid_1's l1: 0.0566438\n",
      "[11000]\ttraining's l1: 0.0543245\tvalid_1's l1: 0.0566324\n",
      "[11500]\ttraining's l1: 0.054292\tvalid_1's l1: 0.0566235\n",
      "[12000]\ttraining's l1: 0.0542561\tvalid_1's l1: 0.0566161\n",
      "[12500]\ttraining's l1: 0.0542213\tvalid_1's l1: 0.0566073\n",
      "[13000]\ttraining's l1: 0.0541913\tvalid_1's l1: 0.0566014\n",
      "[13500]\ttraining's l1: 0.0541488\tvalid_1's l1: 0.0565912\n",
      "[14000]\ttraining's l1: 0.0541218\tvalid_1's l1: 0.056586\n",
      "[14500]\ttraining's l1: 0.054101\tvalid_1's l1: 0.0565818\n",
      "[15000]\ttraining's l1: 0.054074\tvalid_1's l1: 0.0565767\n",
      "[15500]\ttraining's l1: 0.0540421\tvalid_1's l1: 0.0565698\n",
      "[16000]\ttraining's l1: 0.0540191\tvalid_1's l1: 0.0565671\n",
      "[16500]\ttraining's l1: 0.0540001\tvalid_1's l1: 0.0565638\n",
      "[17000]\ttraining's l1: 0.0539729\tvalid_1's l1: 0.0565586\n",
      "[17500]\ttraining's l1: 0.0539473\tvalid_1's l1: 0.0565528\n",
      "[18000]\ttraining's l1: 0.0539308\tvalid_1's l1: 0.0565482\n",
      "[18500]\ttraining's l1: 0.0539084\tvalid_1's l1: 0.0565441\n",
      "[19000]\ttraining's l1: 0.0538858\tvalid_1's l1: 0.056542\n",
      "[19500]\ttraining's l1: 0.0538626\tvalid_1's l1: 0.0565366\n",
      "Early stopping, best iteration is:\n",
      "[19659]\ttraining's l1: 0.0538502\tvalid_1's l1: 0.0565356\n"
     ]
    },
    {
     "name": "stderr",
     "output_type": "stream",
     "text": [
      "[08/10/22 12:15:43] 134356872.py:36 in <module>\n",
      "                    lgb_score: 0.9153345251807234\n",
      "[08/10/22 12:15:44] 134356872.py:38 in <module>\n",
      "                    score: 0.9156358632113677\n",
      "[08/10/22 12:15:45] 134356872.py:43 in <module>\n",
      "                    fold: 4\n",
      "                    np.asarray(cbt_scores).mean(): 0.9207533218691772\n",
      "                    np.asarray(lgb_scores).mean(): 0.9206678228387524\n",
      "                    np.asarray(scores).mean(): 0.9209970774737741\n"
     ]
    }
   ],
   "source": [
    "FOLDS = 5\n",
    "cbt_scores, lgb_scores = [], []\n",
    "scores = []\n",
    "gezi.try_mkdir(f'../working/trees{v}')\n",
    "for fold in tqdm(range(FOLDS)):\n",
    "  dvalid = df[df.fold==fold]\n",
    "  dtrain = df[df.fold!=fold]\n",
    "  X_train = dtrain[cols]\n",
    "  y_train = dtrain[LABEL_COL]\n",
    "  X_valid = dvalid[cols]\n",
    "  y_valid = dvalid[LABEL_COL]\n",
    "  if fold > 0:\n",
    "    cbt_model = CatBoostRegressor(**cbt_params)\n",
    "    cbt_model.fit(X_train, y_train,\n",
    "          eval_set=[(X_train, y_train), (X_valid, y_valid)],\n",
    "                  verbose=500,\n",
    "                  )  \n",
    "  cbt_model.save_model(f'../working/trees{v}/{fold}.cbt')\n",
    "  dvalid['cbt_pred'] = cbt_model.predict(dvalid[cols])\n",
    "  cbt_score = calc_metric({'id': dvalid.id.values, 'cell_id': dvalid.cell_id.values, 'pred': dvalid.cbt_pred.values})\n",
    "  ic(cbt_score)\n",
    "  \n",
    "  d_train = lgb.Dataset(X_train, y_train)\n",
    "  d_valid = lgb.Dataset(X_valid, y_valid, reference=d_train)\n",
    "  if fold > 0:\n",
    "    lgb_model = lgb.train(params,\n",
    "                    d_train,\n",
    "                    20000,\n",
    "                    valid_sets=[d_train, d_valid],\n",
    "                    verbose_eval=500,\n",
    "                    early_stopping_rounds=200)\n",
    "  lgb_model.save_model(f'../working/trees{v}/{fold}.lgb')\n",
    "  dvalid['lgb_pred'] = lgb_model.predict(dvalid[cols])\n",
    "  \n",
    "  lgb_score = calc_metric({'id': dvalid.id.values, 'cell_id': dvalid.cell_id.values, 'pred': dvalid.lgb_pred.values})\n",
    "  ic(lgb_score)\n",
    "  score = calc_metric({'id': dvalid.id.values, 'cell_id': dvalid.cell_id.values, 'pred': (dvalid.cbt_pred.values * 0.5 + dvalid.lgb_pred.values * 0.5)})\n",
    "  ic(score)\n",
    "  \n",
    "  cbt_scores.append(cbt_score)\n",
    "  lgb_scores.append(lgb_score)\n",
    "  scores.append(score)\n",
    "  ic(fold, \n",
    "     np.asarray(cbt_scores).mean(), \n",
    "     np.asarray(lgb_scores).mean(),\n",
    "     np.asarray(scores).mean(),\n",
    "     )"
   ]
  },
  {
   "cell_type": "code",
   "execution_count": 68,
   "metadata": {},
   "outputs": [],
   "source": [
    "# fold: 0\n",
    "#                     np.asarray(cbt_scores).mean(): 0.9181025338378637\n",
    "#                     np.asarray(lgb_scores).mean(): 0.9193848140698876\n",
    "#                     np.asarray(scores).mean(): 0.9195238841373282\n",
    "\n",
    "#  fold: 4\n",
    "#                     np.asarray(cbt_scores).mean(): 0.9189608630607822\n",
    "#                     np.asarray(lgb_scores).mean(): 0.9196959050732708\n",
    "#                     np.asarray(scores).mean(): 0.9199400102856614"
   ]
  },
  {
   "cell_type": "code",
   "execution_count": null,
   "metadata": {},
   "outputs": [],
   "source": []
  }
 ],
 "metadata": {
  "kernelspec": {
   "display_name": "Python 3.7.9",
   "language": "python",
   "name": "python3"
  },
  "language_info": {
   "codemirror_mode": {
    "name": "ipython",
    "version": 3
   },
   "file_extension": ".py",
   "mimetype": "text/x-python",
   "name": "python",
   "nbconvert_exporter": "python",
   "pygments_lexer": "ipython3",
   "version": "3.7.9"
  },
  "orig_nbformat": 4,
  "vscode": {
   "interpreter": {
    "hash": "828c32aa8796f4caf0c9fde9f523bba8dbc7385abbb3ec2757d19a79cb47766b"
   }
  }
 },
 "nbformat": 4,
 "nbformat_minor": 2
}
